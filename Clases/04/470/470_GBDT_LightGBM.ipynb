{
  "cells": [
    {
      "cell_type": "markdown",
      "metadata": {
        "id": "O94qX1svwzoC"
      },
      "source": [
        "# 4. Ensembles de Arboles de Decision"
      ]
    },
    {
      "cell_type": "markdown",
      "metadata": {
        "id": "HsJFTcBZw1bE"
      },
      "source": [
        "## 4.06 GBDT LightGBM"
      ]
    },
    {
      "cell_type": "markdown",
      "metadata": {
        "id": "nsgvDbemw9Tc"
      },
      "source": [
        "La técnica de Gradient Boosting fue creada por Jerome H. Friedman en 1999 - 2001\n",
        "<br>Se implementaron librerías ineficientes\n",
        "<br>En 2016 se crea XGBoost, en 2017 LightGBM\n",
        "\n",
        "\n"
      ]
    },
    {
      "cell_type": "markdown",
      "metadata": {
        "id": "1o-6jjy0Yedk"
      },
      "source": [
        "Paper original de  Gradient Boosting\n",
        "\n",
        "\n",
        "Friedman JH. Greedy function approximation: A gradient\n",
        "boosting machine. Ann Stat. 2001;29(5):1189–232. https://\n",
        "doi.org/10.1214/aos/1013203451.\n",
        "<br>\n",
        "https://projecteuclid.org/journals/annals-of-statistics/volume-29/issue-5/Greedy-function-approximation-A-gradient-boosting-machine/10.1214/aos/1013203451.pdf"
      ]
    },
    {
      "cell_type": "markdown",
      "metadata": {
        "id": "14MlfCxMZWIc"
      },
      "source": [
        "Paper XGBoost\n",
        "\n",
        "Chen, T.; Guestrin, C. Xgboost: A scalable tree boosting system. In Proceedings of the 22nd ACM Sigkdd International Conference on Knowledge Discovery and Data Mining, San Francisco, CA, USA, 13–17 August 2016; pp. 785–794.\n",
        "\n",
        "https://dl.acm.org/doi/pdf/10.1145/2939672.2939785"
      ]
    },
    {
      "cell_type": "markdown",
      "metadata": {
        "id": "IDk5edloZpBI"
      },
      "source": [
        "Paper  LightGBM\n",
        "\n",
        "Ke G., Meng Q., Finley T., Wang T., Chen W., Ma W., et al.\n",
        "Lightgbm: A highly efficient gradient boosting decision tree\n",
        "Advances in Neural Information Processing Systems, 30 (2017)\n",
        "\n",
        "https://proceedings.neurips.cc/paper/2017/file/6449f44a102fde848669bdd9eb6b76fa-Paper.pdf"
      ]
    },
    {
      "cell_type": "markdown",
      "metadata": {
        "id": "ZMyXpQyJaCsP"
      },
      "source": [
        "Videos \"simplificados\" :\n",
        "*  https://www.youtube.com/watch?v=3CC4N4z3GJc\n",
        "*  https://www.youtube.com/watch?v=2xudPOBz-vs\n",
        "*  https://www.youtube.com/watch?v=jxuNLH5dXCs\n",
        "*  https://www.youtube.com/watch?v=StWY5QWMXCw"
      ]
    },
    {
      "cell_type": "markdown",
      "metadata": {
        "id": "Eyffb3AAahth"
      },
      "source": [
        "Artículos ligeros:\n",
        "*  https://machinelearningmastery.com/gentle-introduction-gradient-boosting-algorithm-machine-learning/\n",
        "*   https://www.machinelearningplus.com/machine-learning/an-introduction-to-gradient-boosting-decision-trees/\n",
        "*   https://medium.com/@ruchi.awasthi63/gradient-boosted-decision-tree-clearly-explained-bd1d8c7d9923\n",
        "*   https://medium.com/data-science/a-visual-understanding-of-decision-trees-and-gradient-boosting-c6bc53f982ce\n",
        "*   https://medium.com/analytics-vidhya/introduction-to-the-gradient-boosting-algorithm-c25c653f826b\n",
        "*   https://medium.com/@datasciencewizards/understanding-the-gradient-boosting-algorithm-9fe698a352ad"
      ]
    },
    {
      "cell_type": "markdown",
      "metadata": {
        "id": "0YOyfUaESdsX"
      },
      "source": [
        "El Gradient Boosting of Decision Trees es un ensemble de árboles de decisión, para un nuevo registro la predicción se hace sumando el score que cada arbol asigna a ese registro.\n",
        "\n",
        "En GBDT la construccion de los árboles es secuencial, ya que el arbol n-simo se genera para predecir el error del modelo conformado por los n-1 arboles previos, aunque sea un arbol de clasificación lo que se predice es un numero real mediante un arbol de regresión."
      ]
    },
    {
      "cell_type": "markdown",
      "metadata": {
        "id": "nF6XblBIYnY6"
      },
      "source": [
        "<br>Qué tipo de perturbaciones se realiza LightGBM\n",
        "\n",
        "*   Se perturba el dataset, seleccionando para cada arbol un subconjunto de las columnas.\n",
        "*   El algortimo de arbol de decisión no presenta perturbaciones"
      ]
    },
    {
      "cell_type": "markdown",
      "metadata": {
        "id": "j75A--Tsx2df"
      },
      "source": [
        "Cada arbolito de LightGBM se entrena sobre un dataset perturbado, que en principio posee :\n",
        "* todos los registros del dataset original\n",
        "* solo un porcentaje *feature_fraction* de las columnas originales del dataset"
      ]
    },
    {
      "cell_type": "markdown",
      "metadata": {
        "id": "PX0qg_c0yqob"
      },
      "source": [
        "#### 4.06.1  Seteo del ambiente en Google Colab"
      ]
    },
    {
      "cell_type": "markdown",
      "metadata": {
        "id": "NGY7H9xza7Zr"
      },
      "source": [
        "Esta parte se debe correr con el runtime en Python3\n",
        "<br>Ir al menu, Runtime -> Change Runtime Type -> Runtime type ->  **Python 3**"
      ]
    },
    {
      "cell_type": "markdown",
      "metadata": {
        "id": "7PupIBNba7Zr"
      },
      "source": [
        "Conectar la virtual machine donde esta corriendo Google Colab con el  Google Drive, para poder tener persistencia de archivos"
      ]
    },
    {
      "cell_type": "code",
      "execution_count": null,
      "metadata": {
        "id": "9LpZCst5a7Zs",
        "vscode": {
          "languageId": "r"
        }
      },
      "outputs": [],
      "source": [
        "# primero establecer el Runtime de Python 3\n",
        "from google.colab import drive\n",
        "drive.mount('/content/.drive')"
      ]
    },
    {
      "cell_type": "markdown",
      "metadata": {
        "id": "JYC_F-wla7Zs"
      },
      "source": [
        "<br>los siguientes comando estan en shell script de Linux\n",
        "*   Crear las carpetas en el Google Drive\n",
        "*   Bajar el  **competencia_01_crudo**  al  Google Drive  y tambien al disco local de la virtual machine que esta corriendo Google Colab"
      ]
    },
    {
      "cell_type": "code",
      "execution_count": null,
      "metadata": {
        "id": "XWLelftXa7Zt",
        "vscode": {
          "languageId": "r"
        }
      },
      "outputs": [],
      "source": [
        "%%shell\n",
        "\n",
        "mkdir -p \"/content/.drive/My Drive/dmeyf\"\n",
        "mkdir -p \"/content/buckets\"\n",
        "ln -s \"/content/.drive/My Drive/dmeyf\" /content/buckets/b1\n",
        "\n",
        "\n",
        "mkdir -p /content/buckets/b1/exp\n",
        "mkdir -p /content/buckets/b1/datasets\n",
        "mkdir -p /content/datasets\n",
        "\n",
        "\n",
        "\n",
        "archivo_origen=\"https://storage.googleapis.com/open-courses/dmeyf2025-e4a2/competencia_01_crudo.csv\"\n",
        "archivo_destino=\"/content/datasets/competencia_01_crudo.csv\"\n",
        "archivo_destino_bucket=\"/content/buckets/b1/datasets/competencia_01_crudo.csv\"\n",
        "\n",
        "if ! test -f $archivo_destino_bucket; then\n",
        "  wget  $archivo_origen  -O $archivo_destino_bucket\n",
        "fi\n",
        "\n",
        "\n",
        "if ! test -f $archivo_destino; then\n",
        "  cp  $archivo_destino_bucket  $archivo_destino\n",
        "fi\n"
      ]
    },
    {
      "cell_type": "markdown",
      "metadata": {
        "id": "dseB4qb9RqUb"
      },
      "source": [
        "## Generacion de la clase_ternaria"
      ]
    },
    {
      "cell_type": "markdown",
      "metadata": {
        "id": "LCEnE_02RuIQ"
      },
      "source": [
        "Esta parte se debe correr con el runtime en lenguaje **R** Ir al menu, Runtime -> Change Runtime Tipe -> Runtime type -> R"
      ]
    },
    {
      "cell_type": "code",
      "execution_count": null,
      "metadata": {
        "id": "P863YZB9R1Ua",
        "vscode": {
          "languageId": "r"
        }
      },
      "outputs": [],
      "source": [
        "require( \"data.table\" )\n",
        "\n",
        "# leo el dataset\n",
        "dataset <- fread(\"../../Competencia 01/competencia_01_crudo.csv\" )\n",
        "\n",
        "# calculo el periodo0 consecutivo\n",
        "dsimple <- dataset[, list(\n",
        "    \"pos\" = .I,\n",
        "    numero_de_cliente,\n",
        "    periodo0 = as.integer(foto_mes/100)*12 +  foto_mes%%100 ) ]\n",
        "\n",
        "\n",
        "# ordeno\n",
        "setorder( dsimple, numero_de_cliente, periodo0 )\n",
        "\n",
        "# calculo topes\n",
        "periodo_ultimo <- dsimple[, max(periodo0) ]\n",
        "periodo_anteultimo <- periodo_ultimo - 1\n",
        "\n",
        "\n",
        "# calculo los leads de orden 1 y 2\n",
        "dsimple[, c(\"periodo1\", \"periodo2\") :=\n",
        "    shift(periodo0, n=1:2, fill=NA, type=\"lead\"),  numero_de_cliente ]\n",
        "\n",
        "# assign most common class values = \"CONTINUA\"\n",
        "dsimple[ periodo0 < periodo_anteultimo, clase_ternaria := \"CONTINUA\" ]\n",
        "\n",
        "# calculo BAJA+1\n",
        "dsimple[ periodo0 < periodo_ultimo &\n",
        "    ( is.na(periodo1) | periodo0 + 1 < periodo1 ),\n",
        "    clase_ternaria := \"BAJA+1\" ]\n",
        "\n",
        "# calculo BAJA+2\n",
        "dsimple[ periodo0 < periodo_anteultimo & (periodo0+1 == periodo1 )\n",
        "    & ( is.na(periodo2) | periodo0 + 2 < periodo2 ),\n",
        "    clase_ternaria := \"BAJA+2\" ]\n",
        "\n",
        "\n",
        "# pego el resultado en el dataset original y grabo\n",
        "setorder( dsimple, pos )\n",
        "dataset[, clase_ternaria := dsimple$clase_ternaria ]\n",
        "\n",
        "fwrite( dataset,\n",
        "    file =  \"./competencia_01.csv.gz\",\n",
        "    sep = \",\"\n",
        ")"
      ]
    },
    {
      "cell_type": "code",
      "execution_count": null,
      "metadata": {
        "id": "S3hL7tv8W4rn",
        "vscode": {
          "languageId": "r"
        }
      },
      "outputs": [],
      "source": [
        "setorder( dataset, foto_mes, clase_ternaria, numero_de_cliente)\n",
        "dataset[, .N, list(foto_mes, clase_ternaria)]"
      ]
    },
    {
      "cell_type": "markdown",
      "metadata": {
        "id": "oSKhZRToy2F7"
      },
      "source": [
        "### 4.07  LightGBM, una corrida"
      ]
    },
    {
      "cell_type": "markdown",
      "metadata": {
        "id": "eSU5vi00CPRS"
      },
      "source": [
        "Esta parte se debe correr con el runtime en lenguaje **R** Ir al menu, Runtime -> Change Runtime Type -> Runtime type -> R"
      ]
    },
    {
      "cell_type": "markdown",
      "metadata": {
        "id": "Zq8dySimCPRT"
      },
      "source": [
        "limpio el ambiente de R"
      ]
    },
    {
      "cell_type": "code",
      "execution_count": 17,
      "metadata": {
        "id": "Tjda_YGOXaPw",
        "vscode": {
          "languageId": "r"
        }
      },
      "outputs": [
        {
          "data": {
            "text/html": [
              "'sáb sept 06 00:54:26 2025'"
            ],
            "text/latex": [
              "'sáb sept 06 00:54:26 2025'"
            ],
            "text/markdown": [
              "'sáb sept 06 00:54:26 2025'"
            ],
            "text/plain": [
              "[1] \"sáb sept 06 00:54:26 2025\""
            ]
          },
          "metadata": {},
          "output_type": "display_data"
        }
      ],
      "source": [
        "format(Sys.time(), \"%a %b %d %X %Y\")"
      ]
    },
    {
      "cell_type": "code",
      "execution_count": 18,
      "metadata": {
        "id": "1iE0U4_WCPRT",
        "vscode": {
          "languageId": "r"
        }
      },
      "outputs": [
        {
          "data": {
            "text/html": [
              "<table class=\"dataframe\">\n",
              "<caption>A matrix: 2 × 6 of type dbl</caption>\n",
              "<thead>\n",
              "\t<tr><th></th><th scope=col>used</th><th scope=col>(Mb)</th><th scope=col>gc trigger</th><th scope=col>(Mb)</th><th scope=col>max used</th><th scope=col>(Mb)</th></tr>\n",
              "</thead>\n",
              "<tbody>\n",
              "\t<tr><th scope=row>Ncells</th><td> 2481311</td><td>132.6</td><td>  4204840</td><td>224.6</td><td>  4204840</td><td> 224.6</td></tr>\n",
              "\t<tr><th scope=row>Vcells</th><td>29630906</td><td>226.1</td><td>129609276</td><td>988.9</td><td>202483523</td><td>1544.9</td></tr>\n",
              "</tbody>\n",
              "</table>\n"
            ],
            "text/latex": [
              "A matrix: 2 × 6 of type dbl\n",
              "\\begin{tabular}{r|llllll}\n",
              "  & used & (Mb) & gc trigger & (Mb) & max used & (Mb)\\\\\n",
              "\\hline\n",
              "\tNcells &  2481311 & 132.6 &   4204840 & 224.6 &   4204840 &  224.6\\\\\n",
              "\tVcells & 29630906 & 226.1 & 129609276 & 988.9 & 202483523 & 1544.9\\\\\n",
              "\\end{tabular}\n"
            ],
            "text/markdown": [
              "\n",
              "A matrix: 2 × 6 of type dbl\n",
              "\n",
              "| <!--/--> | used | (Mb) | gc trigger | (Mb) | max used | (Mb) |\n",
              "|---|---|---|---|---|---|---|\n",
              "| Ncells |  2481311 | 132.6 |   4204840 | 224.6 |   4204840 |  224.6 |\n",
              "| Vcells | 29630906 | 226.1 | 129609276 | 988.9 | 202483523 | 1544.9 |\n",
              "\n"
            ],
            "text/plain": [
              "       used     (Mb)  gc trigger (Mb)  max used  (Mb)  \n",
              "Ncells  2481311 132.6   4204840  224.6   4204840  224.6\n",
              "Vcells 29630906 226.1 129609276  988.9 202483523 1544.9"
            ]
          },
          "metadata": {},
          "output_type": "display_data"
        }
      ],
      "source": [
        "# limpio la memoria\n",
        "rm(list=ls(all.names=TRUE)) # remove all objects\n",
        "gc(full=TRUE, verbose=FALSE) # garbage collection"
      ]
    },
    {
      "cell_type": "code",
      "execution_count": null,
      "metadata": {
        "id": "BJDwdD0dCPRU",
        "vscode": {
          "languageId": "r"
        }
      },
      "outputs": [],
      "source": [
        "# cargo las librerias que necesito\n",
        "if(!require(\"data.table\")) install.packages(\"data.table\")\n",
        "require(\"data.table\")\n",
        "\n",
        "if(!require(\"rpart\")) install.packages(\"rpart\")\n",
        "require(\"rpart\")\n",
        "\n",
        "if(!require(\"R.utils\")) install.packages(\"R.utils\")\n",
        "require(\"R.utils\")\n",
        "\n",
        "if( !require(\"rlist\") ) install.packages(\"rlist\")\n",
        "require(\"rlist\")\n",
        "\n",
        "if( !require(\"lightgbm\") ) install.packages(\"lightgbm\")\n",
        "require(\"lightgbm\")"
      ]
    },
    {
      "cell_type": "markdown",
      "metadata": {
        "id": "M8-Pyp6CCPRU"
      },
      "source": [
        "Aqui debe cargar SU semilla primigenia"
      ]
    },
    {
      "cell_type": "code",
      "execution_count": 19,
      "metadata": {
        "id": "peRH7ySLCPRV",
        "vscode": {
          "languageId": "r"
        }
      },
      "outputs": [],
      "source": [
        "PARAM <- list()\n",
        "PARAM$experimento <- 4070\n",
        "PARAM$semilla_primigenia <- 200003\n",
        "\n",
        "# training y future\n",
        "PARAM$train <- c(202102)\n",
        "PARAM$future <- c(202104)\n",
        "\n",
        "# estos hiperparametros de LightGBM surgieron de una Bayesian Optimization\n",
        "PARAM$lgb$num_iterations <- 1000  # cantidad de arbolitos\n",
        "PARAM$lgb$learning_rate <- 0.027\n",
        "PARAM$lgb$feature_fraction <- 0.8\n",
        "PARAM$lgb$min_data_in_leaf <- 76\n",
        "PARAM$lgb$num_leaves <- 8\n",
        "PARAM$lgb$max_bin <- 31\n",
        "\n",
        "PARAM$semilla_kaggle <- 314159"
      ]
    },
    {
      "cell_type": "code",
      "execution_count": 20,
      "metadata": {
        "vscode": {
          "languageId": "r"
        }
      },
      "outputs": [],
      "source": [
        "# Optimizados\n",
        "PARAM <- list()\n",
        "PARAM$experimento <- 4070\n",
        "PARAM$semilla_primigenia <- 200003\n",
        "\n",
        "# training y future\n",
        "PARAM$train <- c(202102)\n",
        "PARAM$future <- c(202104)\n",
        "\n",
        "# estos hiperparametros de LightGBM surgieron de una Bayesian Optimization\n",
        "PARAM$lgb$num_iterations <- 426  # cantidad de arbolitos\n",
        "PARAM$lgb$learning_rate <- 0.01207478\n",
        "PARAM$lgb$feature_fraction <- 0.999029\n",
        "PARAM$lgb$min_data_in_leaf <- 2084\n",
        "PARAM$lgb$num_leaves <- 624\n",
        "PARAM$lgb$max_bin <- 31\n",
        "\n",
        "PARAM$semilla_kaggle <- 314159"
      ]
    },
    {
      "cell_type": "code",
      "execution_count": 21,
      "metadata": {
        "id": "VODo87VHWTIj",
        "vscode": {
          "languageId": "r"
        }
      },
      "outputs": [],
      "source": [
        "# particionar agrega una columna llamada fold a un dataset\n",
        "#   que consiste en una particion estratificada segun agrupa\n",
        "# particionar( data=dataset, division=c(70,30),\n",
        "#  agrupa=clase_ternaria, seed=semilla)   crea una particion 70, 30\n",
        "\n",
        "particionar <- function(data, division, agrupa= \"\", campo= \"fold\", start= 1, seed= NA) {\n",
        "  if (!is.na(seed)) set.seed(seed, \"L'Ecuyer-CMRG\")\n",
        "\n",
        "  bloque <- unlist(mapply(\n",
        "    function(x, y) {rep(y, x)},division, seq(from= start, length.out= length(division))))\n",
        "\n",
        "  data[, (campo) := sample(rep(bloque,ceiling(.N / length(bloque))))[1:.N],by= agrupa]\n",
        "}"
      ]
    },
    {
      "cell_type": "code",
      "execution_count": 22,
      "metadata": {
        "id": "IsyLEmK1WTuT",
        "vscode": {
          "languageId": "r"
        }
      },
      "outputs": [],
      "source": [
        "# iniciliazo el dataset de realidad, para medir ganancia\n",
        "realidad_inicializar <- function( pfuture, pparam) {\n",
        "\n",
        "  # datos para verificar la ganancia\n",
        "  drealidad <- pfuture[, list(numero_de_cliente, foto_mes, clase_ternaria)]\n",
        "\n",
        "  particionar(drealidad,\n",
        "    division= c(3, 7),\n",
        "    agrupa= \"clase_ternaria\",\n",
        "    seed= PARAM$semilla_kaggle\n",
        "  )\n",
        "\n",
        "  return( drealidad )\n",
        "}"
      ]
    },
    {
      "cell_type": "code",
      "execution_count": 23,
      "metadata": {
        "id": "xk0_sSW8WVtR",
        "vscode": {
          "languageId": "r"
        }
      },
      "outputs": [],
      "source": [
        "# evaluo ganancia en los datos de la realidad\n",
        "\n",
        "realidad_evaluar <- function( prealidad, pprediccion) {\n",
        "\n",
        "  prealidad[ pprediccion,\n",
        "    on= c(\"numero_de_cliente\", \"foto_mes\"),\n",
        "    predicted:= i.Predicted\n",
        "  ]\n",
        "\n",
        "  tbl <- prealidad[, list(\"qty\"=.N), list(fold, predicted, clase_ternaria)]\n",
        "\n",
        "  res <- list()\n",
        "  res$public  <- tbl[fold==1 & predicted==1L, sum(qty*ifelse(clase_ternaria==\"BAJA+2\", 780000, -20000))]/0.3\n",
        "  res$private <- tbl[fold==2 & predicted==1L, sum(qty*ifelse(clase_ternaria==\"BAJA+2\", 780000, -20000))]/0.7\n",
        "  res$total <- tbl[predicted==1L, sum(qty*ifelse(clase_ternaria==\"BAJA+2\", 780000, -20000))]\n",
        "\n",
        "  prealidad[, predicted:=NULL]\n",
        "  return( res )\n",
        "}"
      ]
    },
    {
      "cell_type": "code",
      "execution_count": 24,
      "metadata": {
        "id": "Xi0emX2ECPRV",
        "vscode": {
          "languageId": "r"
        }
      },
      "outputs": [],
      "source": [
        "# lectura del dataset\n",
        "dataset <- fread(\"./competencia_01.csv.gz\", stringsAsFactors= TRUE)"
      ]
    },
    {
      "cell_type": "code",
      "execution_count": 25,
      "metadata": {
        "id": "-3XuBeDy1Ugj",
        "vscode": {
          "languageId": "r"
        }
      },
      "outputs": [],
      "source": [
        "# paso la clase a binaria\n",
        "\n",
        "dataset[, clase01 := ifelse(clase_ternaria %in% c(\"BAJA+2\"), 1L, 0L)]"
      ]
    },
    {
      "cell_type": "code",
      "execution_count": 26,
      "metadata": {
        "id": "h8Anoo4Sel8S",
        "vscode": {
          "languageId": "r"
        }
      },
      "outputs": [],
      "source": [
        "# los campos que se van a utilizar\n",
        "\n",
        "campos_buenos <- copy(setdiff(colnames(dataset), c(\"clase_ternaria\", \"clase01\")))"
      ]
    },
    {
      "cell_type": "code",
      "execution_count": 27,
      "metadata": {
        "id": "RA3cSJ6KaGwA",
        "vscode": {
          "languageId": "r"
        }
      },
      "outputs": [],
      "source": [
        "# establezco donde entreno\n",
        "\n",
        "dataset[, train := 0L]\n",
        "dataset[foto_mes %in% PARAM$train, train := 1L]"
      ]
    },
    {
      "cell_type": "code",
      "execution_count": 28,
      "metadata": {
        "id": "T6Zr06HB1kMU",
        "vscode": {
          "languageId": "r"
        }
      },
      "outputs": [],
      "source": [
        "# dejo los datos en el formato que necesita LightGBM\n",
        "\n",
        "dtrain <- lgb.Dataset(\n",
        "  data= data.matrix(dataset[train == 1L, campos_buenos, with= FALSE]),\n",
        "  label= dataset[train == 1L, clase01]\n",
        ")"
      ]
    },
    {
      "cell_type": "code",
      "execution_count": 29,
      "metadata": {
        "id": "TI9_5pii2zCF",
        "vscode": {
          "languageId": "r"
        }
      },
      "outputs": [
        {
          "name": "stdout",
          "output_type": "stream",
          "text": [
            "[LightGBM] [Info] Number of positive: 1032, number of negative: 161123\n",
            "[LightGBM] [Info] Auto-choosing col-wise multi-threading, the overhead of testing was 0.063898 seconds.\n",
            "You can set `force_col_wise=true` to remove the overhead.\n",
            "[LightGBM] [Info] Total Bins 2991\n",
            "[LightGBM] [Info] Number of data points in the train set: 162155, number of used features: 124\n",
            "[LightGBM] [Info] [binary:BoostFromScore]: pavg=0.006364 -> initscore=-5.050669\n",
            "[LightGBM] [Info] Start training from score -5.050669\n",
            "[LightGBM] [Warning] No further splits with positive gain, best gain: -inf\n",
            "[LightGBM] [Warning] No further splits with positive gain, best gain: -inf\n",
            "[LightGBM] [Warning] No further splits with positive gain, best gain: -inf\n",
            "[LightGBM] [Warning] No further splits with positive gain, best gain: -inf\n",
            "[LightGBM] [Warning] No further splits with positive gain, best gain: -inf\n",
            "[LightGBM] [Warning] No further splits with positive gain, best gain: -inf\n",
            "[LightGBM] [Warning] No further splits with positive gain, best gain: -inf\n",
            "[LightGBM] [Warning] No further splits with positive gain, best gain: -inf\n",
            "[LightGBM] [Warning] No further splits with positive gain, best gain: -inf\n",
            "[LightGBM] [Warning] No further splits with positive gain, best gain: -inf\n",
            "[LightGBM] [Warning] No further splits with positive gain, best gain: -inf\n",
            "[LightGBM] [Warning] No further splits with positive gain, best gain: -inf\n",
            "[LightGBM] [Warning] No further splits with positive gain, best gain: -inf\n",
            "[LightGBM] [Warning] No further splits with positive gain, best gain: -inf\n",
            "[LightGBM] [Warning] No further splits with positive gain, best gain: -inf\n",
            "[LightGBM] [Warning] No further splits with positive gain, best gain: -inf\n",
            "[LightGBM] [Warning] No further splits with positive gain, best gain: -inf\n",
            "[LightGBM] [Warning] No further splits with positive gain, best gain: -inf\n",
            "[LightGBM] [Warning] No further splits with positive gain, best gain: -inf\n",
            "[LightGBM] [Warning] No further splits with positive gain, best gain: -inf\n",
            "[LightGBM] [Warning] No further splits with positive gain, best gain: -inf\n",
            "[LightGBM] [Warning] No further splits with positive gain, best gain: -inf\n",
            "[LightGBM] [Warning] No further splits with positive gain, best gain: -inf\n",
            "[LightGBM] [Warning] No further splits with positive gain, best gain: -inf\n",
            "[LightGBM] [Warning] No further splits with positive gain, best gain: -inf\n",
            "[LightGBM] [Warning] No further splits with positive gain, best gain: -inf\n",
            "[LightGBM] [Warning] No further splits with positive gain, best gain: -inf\n",
            "[LightGBM] [Warning] No further splits with positive gain, best gain: -inf\n",
            "[LightGBM] [Warning] No further splits with positive gain, best gain: -inf\n",
            "[LightGBM] [Warning] No further splits with positive gain, best gain: -inf\n",
            "[LightGBM] [Warning] No further splits with positive gain, best gain: -inf\n",
            "[LightGBM] [Warning] No further splits with positive gain, best gain: -inf\n",
            "[LightGBM] [Warning] No further splits with positive gain, best gain: -inf\n",
            "[LightGBM] [Warning] No further splits with positive gain, best gain: -inf\n",
            "[LightGBM] [Warning] No further splits with positive gain, best gain: -inf\n",
            "[LightGBM] [Warning] No further splits with positive gain, best gain: -inf\n",
            "[LightGBM] [Warning] No further splits with positive gain, best gain: -inf\n",
            "[LightGBM] [Warning] No further splits with positive gain, best gain: -inf\n",
            "[LightGBM] [Warning] No further splits with positive gain, best gain: -inf\n",
            "[LightGBM] [Warning] No further splits with positive gain, best gain: -inf\n",
            "[LightGBM] [Warning] No further splits with positive gain, best gain: -inf\n",
            "[LightGBM] [Warning] No further splits with positive gain, best gain: -inf\n",
            "[LightGBM] [Warning] No further splits with positive gain, best gain: -inf\n",
            "[LightGBM] [Warning] No further splits with positive gain, best gain: -inf\n",
            "[LightGBM] [Warning] No further splits with positive gain, best gain: -inf\n",
            "[LightGBM] [Warning] No further splits with positive gain, best gain: -inf\n",
            "[LightGBM] [Warning] No further splits with positive gain, best gain: -inf\n",
            "[LightGBM] [Warning] No further splits with positive gain, best gain: -inf\n",
            "[LightGBM] [Warning] No further splits with positive gain, best gain: -inf\n",
            "[LightGBM] [Warning] No further splits with positive gain, best gain: -inf\n",
            "[LightGBM] [Warning] No further splits with positive gain, best gain: -inf\n",
            "[LightGBM] [Warning] No further splits with positive gain, best gain: -inf\n",
            "[LightGBM] [Warning] No further splits with positive gain, best gain: -inf\n",
            "[LightGBM] [Warning] No further splits with positive gain, best gain: -inf\n",
            "[LightGBM] [Warning] No further splits with positive gain, best gain: -inf\n",
            "[LightGBM] [Warning] No further splits with positive gain, best gain: -inf\n",
            "[LightGBM] [Warning] No further splits with positive gain, best gain: -inf\n",
            "[LightGBM] [Warning] No further splits with positive gain, best gain: -inf\n",
            "[LightGBM] [Warning] No further splits with positive gain, best gain: -inf\n",
            "[LightGBM] [Warning] No further splits with positive gain, best gain: -inf\n",
            "[LightGBM] [Warning] No further splits with positive gain, best gain: -inf\n",
            "[LightGBM] [Warning] No further splits with positive gain, best gain: -inf\n",
            "[LightGBM] [Warning] No further splits with positive gain, best gain: -inf\n",
            "[LightGBM] [Warning] No further splits with positive gain, best gain: -inf\n",
            "[LightGBM] [Warning] No further splits with positive gain, best gain: -inf\n",
            "[LightGBM] [Warning] No further splits with positive gain, best gain: -inf\n",
            "[LightGBM] [Warning] No further splits with positive gain, best gain: -inf\n",
            "[LightGBM] [Warning] No further splits with positive gain, best gain: -inf\n",
            "[LightGBM] [Warning] No further splits with positive gain, best gain: -inf\n",
            "[LightGBM] [Warning] No further splits with positive gain, best gain: -inf\n",
            "[LightGBM] [Warning] No further splits with positive gain, best gain: -inf\n",
            "[LightGBM] [Warning] No further splits with positive gain, best gain: -inf\n",
            "[LightGBM] [Warning] No further splits with positive gain, best gain: -inf\n",
            "[LightGBM] [Warning] No further splits with positive gain, best gain: -inf\n",
            "[LightGBM] [Warning] No further splits with positive gain, best gain: -inf\n",
            "[LightGBM] [Warning] No further splits with positive gain, best gain: -inf\n",
            "[LightGBM] [Warning] No further splits with positive gain, best gain: -inf\n",
            "[LightGBM] [Warning] No further splits with positive gain, best gain: -inf\n",
            "[LightGBM] [Warning] No further splits with positive gain, best gain: -inf\n",
            "[LightGBM] [Warning] No further splits with positive gain, best gain: -inf\n",
            "[LightGBM] [Warning] No further splits with positive gain, best gain: -inf\n",
            "[LightGBM] [Warning] No further splits with positive gain, best gain: -inf\n",
            "[LightGBM] [Warning] No further splits with positive gain, best gain: -inf\n",
            "[LightGBM] [Warning] No further splits with positive gain, best gain: -inf\n",
            "[LightGBM] [Warning] No further splits with positive gain, best gain: -inf\n",
            "[LightGBM] [Warning] No further splits with positive gain, best gain: -inf\n",
            "[LightGBM] [Warning] No further splits with positive gain, best gain: -inf\n",
            "[LightGBM] [Warning] No further splits with positive gain, best gain: -inf\n",
            "[LightGBM] [Warning] No further splits with positive gain, best gain: -inf\n",
            "[LightGBM] [Warning] No further splits with positive gain, best gain: -inf\n",
            "[LightGBM] [Warning] No further splits with positive gain, best gain: -inf\n",
            "[LightGBM] [Warning] No further splits with positive gain, best gain: -inf\n",
            "[LightGBM] [Warning] No further splits with positive gain, best gain: -inf\n",
            "[LightGBM] [Warning] No further splits with positive gain, best gain: -inf\n",
            "[LightGBM] [Warning] No further splits with positive gain, best gain: -inf\n",
            "[LightGBM] [Warning] No further splits with positive gain, best gain: -inf\n",
            "[LightGBM] [Warning] No further splits with positive gain, best gain: -inf\n",
            "[LightGBM] [Warning] No further splits with positive gain, best gain: -inf\n",
            "[LightGBM] [Warning] No further splits with positive gain, best gain: -inf\n",
            "[LightGBM] [Warning] No further splits with positive gain, best gain: -inf\n",
            "[LightGBM] [Warning] No further splits with positive gain, best gain: -inf\n",
            "[LightGBM] [Warning] No further splits with positive gain, best gain: -inf\n",
            "[LightGBM] [Warning] No further splits with positive gain, best gain: -inf\n",
            "[LightGBM] [Warning] No further splits with positive gain, best gain: -inf\n",
            "[LightGBM] [Warning] No further splits with positive gain, best gain: -inf\n",
            "[LightGBM] [Warning] No further splits with positive gain, best gain: -inf\n",
            "[LightGBM] [Warning] No further splits with positive gain, best gain: -inf\n",
            "[LightGBM] [Warning] No further splits with positive gain, best gain: -inf\n",
            "[LightGBM] [Warning] No further splits with positive gain, best gain: -inf\n",
            "[LightGBM] [Warning] No further splits with positive gain, best gain: -inf\n",
            "[LightGBM] [Warning] No further splits with positive gain, best gain: -inf\n",
            "[LightGBM] [Warning] No further splits with positive gain, best gain: -inf\n",
            "[LightGBM] [Warning] No further splits with positive gain, best gain: -inf\n",
            "[LightGBM] [Warning] No further splits with positive gain, best gain: -inf\n",
            "[LightGBM] [Warning] No further splits with positive gain, best gain: -inf\n",
            "[LightGBM] [Warning] No further splits with positive gain, best gain: -inf\n",
            "[LightGBM] [Warning] No further splits with positive gain, best gain: -inf\n",
            "[LightGBM] [Warning] No further splits with positive gain, best gain: -inf\n",
            "[LightGBM] [Warning] No further splits with positive gain, best gain: -inf\n",
            "[LightGBM] [Warning] No further splits with positive gain, best gain: -inf\n",
            "[LightGBM] [Warning] No further splits with positive gain, best gain: -inf\n",
            "[LightGBM] [Warning] No further splits with positive gain, best gain: -inf\n",
            "[LightGBM] [Warning] No further splits with positive gain, best gain: -inf\n",
            "[LightGBM] [Warning] No further splits with positive gain, best gain: -inf\n",
            "[LightGBM] [Warning] No further splits with positive gain, best gain: -inf\n",
            "[LightGBM] [Warning] No further splits with positive gain, best gain: -inf\n",
            "[LightGBM] [Warning] No further splits with positive gain, best gain: -inf\n",
            "[LightGBM] [Warning] No further splits with positive gain, best gain: -inf\n",
            "[LightGBM] [Warning] No further splits with positive gain, best gain: -inf\n",
            "[LightGBM] [Warning] No further splits with positive gain, best gain: -inf\n",
            "[LightGBM] [Warning] No further splits with positive gain, best gain: -inf\n",
            "[LightGBM] [Warning] No further splits with positive gain, best gain: -inf\n",
            "[LightGBM] [Warning] No further splits with positive gain, best gain: -inf\n",
            "[LightGBM] [Warning] No further splits with positive gain, best gain: -inf\n",
            "[LightGBM] [Warning] No further splits with positive gain, best gain: -inf\n",
            "[LightGBM] [Warning] No further splits with positive gain, best gain: -inf\n",
            "[LightGBM] [Warning] No further splits with positive gain, best gain: -inf\n",
            "[LightGBM] [Warning] No further splits with positive gain, best gain: -inf\n",
            "[LightGBM] [Warning] No further splits with positive gain, best gain: -inf\n",
            "[LightGBM] [Warning] No further splits with positive gain, best gain: -inf\n",
            "[LightGBM] [Warning] No further splits with positive gain, best gain: -inf\n",
            "[LightGBM] [Warning] No further splits with positive gain, best gain: -inf\n",
            "[LightGBM] [Warning] No further splits with positive gain, best gain: -inf\n",
            "[LightGBM] [Warning] No further splits with positive gain, best gain: -inf\n",
            "[LightGBM] [Warning] No further splits with positive gain, best gain: -inf\n",
            "[LightGBM] [Warning] No further splits with positive gain, best gain: -inf\n",
            "[LightGBM] [Warning] No further splits with positive gain, best gain: -inf\n",
            "[LightGBM] [Warning] No further splits with positive gain, best gain: -inf\n",
            "[LightGBM] [Warning] No further splits with positive gain, best gain: -inf\n",
            "[LightGBM] [Warning] No further splits with positive gain, best gain: -inf\n",
            "[LightGBM] [Warning] No further splits with positive gain, best gain: -inf\n",
            "[LightGBM] [Warning] No further splits with positive gain, best gain: -inf\n",
            "[LightGBM] [Warning] No further splits with positive gain, best gain: -inf\n",
            "[LightGBM] [Warning] No further splits with positive gain, best gain: -inf\n",
            "[LightGBM] [Warning] No further splits with positive gain, best gain: -inf\n",
            "[LightGBM] [Warning] No further splits with positive gain, best gain: -inf\n",
            "[LightGBM] [Warning] No further splits with positive gain, best gain: -inf\n",
            "[LightGBM] [Warning] No further splits with positive gain, best gain: -inf\n",
            "[LightGBM] [Warning] No further splits with positive gain, best gain: -inf\n",
            "[LightGBM] [Warning] No further splits with positive gain, best gain: -inf\n",
            "[LightGBM] [Warning] No further splits with positive gain, best gain: -inf\n",
            "[LightGBM] [Warning] No further splits with positive gain, best gain: -inf\n",
            "[LightGBM] [Warning] No further splits with positive gain, best gain: -inf\n",
            "[LightGBM] [Warning] No further splits with positive gain, best gain: -inf\n",
            "[LightGBM] [Warning] No further splits with positive gain, best gain: -inf\n",
            "[LightGBM] [Warning] No further splits with positive gain, best gain: -inf\n",
            "[LightGBM] [Warning] No further splits with positive gain, best gain: -inf\n",
            "[LightGBM] [Warning] No further splits with positive gain, best gain: -inf\n",
            "[LightGBM] [Warning] No further splits with positive gain, best gain: -inf\n",
            "[LightGBM] [Warning] No further splits with positive gain, best gain: -inf\n",
            "[LightGBM] [Warning] No further splits with positive gain, best gain: -inf\n",
            "[LightGBM] [Warning] No further splits with positive gain, best gain: -inf\n",
            "[LightGBM] [Warning] No further splits with positive gain, best gain: -inf\n",
            "[LightGBM] [Warning] No further splits with positive gain, best gain: -inf\n",
            "[LightGBM] [Warning] No further splits with positive gain, best gain: -inf\n",
            "[LightGBM] [Warning] No further splits with positive gain, best gain: -inf\n",
            "[LightGBM] [Warning] No further splits with positive gain, best gain: -inf\n",
            "[LightGBM] [Warning] No further splits with positive gain, best gain: -inf\n",
            "[LightGBM] [Warning] No further splits with positive gain, best gain: -inf\n",
            "[LightGBM] [Warning] No further splits with positive gain, best gain: -inf\n",
            "[LightGBM] [Warning] No further splits with positive gain, best gain: -inf\n",
            "[LightGBM] [Warning] No further splits with positive gain, best gain: -inf\n",
            "[LightGBM] [Warning] No further splits with positive gain, best gain: -inf\n",
            "[LightGBM] [Warning] No further splits with positive gain, best gain: -inf\n",
            "[LightGBM] [Warning] No further splits with positive gain, best gain: -inf\n",
            "[LightGBM] [Warning] No further splits with positive gain, best gain: -inf\n",
            "[LightGBM] [Warning] No further splits with positive gain, best gain: -inf\n",
            "[LightGBM] [Warning] No further splits with positive gain, best gain: -inf\n",
            "[LightGBM] [Warning] No further splits with positive gain, best gain: -inf\n",
            "[LightGBM] [Warning] No further splits with positive gain, best gain: -inf\n",
            "[LightGBM] [Warning] No further splits with positive gain, best gain: -inf\n",
            "[LightGBM] [Warning] No further splits with positive gain, best gain: -inf\n",
            "[LightGBM] [Warning] No further splits with positive gain, best gain: -inf\n",
            "[LightGBM] [Warning] No further splits with positive gain, best gain: -inf\n",
            "[LightGBM] [Warning] No further splits with positive gain, best gain: -inf\n",
            "[LightGBM] [Warning] No further splits with positive gain, best gain: -inf\n",
            "[LightGBM] [Warning] No further splits with positive gain, best gain: -inf\n",
            "[LightGBM] [Warning] No further splits with positive gain, best gain: -inf\n",
            "[LightGBM] [Warning] No further splits with positive gain, best gain: -inf\n",
            "[LightGBM] [Warning] No further splits with positive gain, best gain: -inf\n",
            "[LightGBM] [Warning] No further splits with positive gain, best gain: -inf\n",
            "[LightGBM] [Warning] No further splits with positive gain, best gain: -inf\n",
            "[LightGBM] [Warning] No further splits with positive gain, best gain: -inf\n",
            "[LightGBM] [Warning] No further splits with positive gain, best gain: -inf\n",
            "[LightGBM] [Warning] No further splits with positive gain, best gain: -inf\n",
            "[LightGBM] [Warning] No further splits with positive gain, best gain: -inf\n",
            "[LightGBM] [Warning] No further splits with positive gain, best gain: -inf\n",
            "[LightGBM] [Warning] No further splits with positive gain, best gain: -inf\n",
            "[LightGBM] [Warning] No further splits with positive gain, best gain: -inf\n",
            "[LightGBM] [Warning] No further splits with positive gain, best gain: -inf\n",
            "[LightGBM] [Warning] No further splits with positive gain, best gain: -inf\n",
            "[LightGBM] [Warning] No further splits with positive gain, best gain: -inf\n",
            "[LightGBM] [Warning] No further splits with positive gain, best gain: -inf\n",
            "[LightGBM] [Warning] No further splits with positive gain, best gain: -inf\n",
            "[LightGBM] [Warning] No further splits with positive gain, best gain: -inf\n",
            "[LightGBM] [Warning] No further splits with positive gain, best gain: -inf\n",
            "[LightGBM] [Warning] No further splits with positive gain, best gain: -inf\n",
            "[LightGBM] [Warning] No further splits with positive gain, best gain: -inf\n",
            "[LightGBM] [Warning] No further splits with positive gain, best gain: -inf\n",
            "[LightGBM] [Warning] No further splits with positive gain, best gain: -inf\n",
            "[LightGBM] [Warning] No further splits with positive gain, best gain: -inf\n",
            "[LightGBM] [Warning] No further splits with positive gain, best gain: -inf\n",
            "[LightGBM] [Warning] No further splits with positive gain, best gain: -inf\n",
            "[LightGBM] [Warning] No further splits with positive gain, best gain: -inf\n",
            "[LightGBM] [Warning] No further splits with positive gain, best gain: -inf\n",
            "[LightGBM] [Warning] No further splits with positive gain, best gain: -inf\n",
            "[LightGBM] [Warning] No further splits with positive gain, best gain: -inf\n",
            "[LightGBM] [Warning] No further splits with positive gain, best gain: -inf\n",
            "[LightGBM] [Warning] No further splits with positive gain, best gain: -inf\n",
            "[LightGBM] [Warning] No further splits with positive gain, best gain: -inf\n",
            "[LightGBM] [Warning] No further splits with positive gain, best gain: -inf\n",
            "[LightGBM] [Warning] No further splits with positive gain, best gain: -inf\n",
            "[LightGBM] [Warning] No further splits with positive gain, best gain: -inf\n",
            "[LightGBM] [Warning] No further splits with positive gain, best gain: -inf\n",
            "[LightGBM] [Warning] No further splits with positive gain, best gain: -inf\n",
            "[LightGBM] [Warning] No further splits with positive gain, best gain: -inf\n",
            "[LightGBM] [Warning] No further splits with positive gain, best gain: -inf\n",
            "[LightGBM] [Warning] No further splits with positive gain, best gain: -inf\n",
            "[LightGBM] [Warning] No further splits with positive gain, best gain: -inf\n",
            "[LightGBM] [Warning] No further splits with positive gain, best gain: -inf\n",
            "[LightGBM] [Warning] No further splits with positive gain, best gain: -inf\n",
            "[LightGBM] [Warning] No further splits with positive gain, best gain: -inf\n",
            "[LightGBM] [Warning] No further splits with positive gain, best gain: -inf\n",
            "[LightGBM] [Warning] No further splits with positive gain, best gain: -inf\n",
            "[LightGBM] [Warning] No further splits with positive gain, best gain: -inf\n",
            "[LightGBM] [Warning] No further splits with positive gain, best gain: -inf\n",
            "[LightGBM] [Warning] No further splits with positive gain, best gain: -inf\n",
            "[LightGBM] [Warning] No further splits with positive gain, best gain: -inf\n",
            "[LightGBM] [Warning] No further splits with positive gain, best gain: -inf\n",
            "[LightGBM] [Warning] No further splits with positive gain, best gain: -inf\n",
            "[LightGBM] [Warning] No further splits with positive gain, best gain: -inf\n",
            "[LightGBM] [Warning] No further splits with positive gain, best gain: -inf\n",
            "[LightGBM] [Warning] No further splits with positive gain, best gain: -inf\n",
            "[LightGBM] [Warning] No further splits with positive gain, best gain: -inf\n",
            "[LightGBM] [Warning] No further splits with positive gain, best gain: -inf\n",
            "[LightGBM] [Warning] No further splits with positive gain, best gain: -inf\n",
            "[LightGBM] [Warning] No further splits with positive gain, best gain: -inf\n",
            "[LightGBM] [Warning] No further splits with positive gain, best gain: -inf\n",
            "[LightGBM] [Warning] No further splits with positive gain, best gain: -inf\n",
            "[LightGBM] [Warning] No further splits with positive gain, best gain: -inf\n",
            "[LightGBM] [Warning] No further splits with positive gain, best gain: -inf\n",
            "[LightGBM] [Warning] No further splits with positive gain, best gain: -inf\n",
            "[LightGBM] [Warning] No further splits with positive gain, best gain: -inf\n",
            "[LightGBM] [Warning] No further splits with positive gain, best gain: -inf\n",
            "[LightGBM] [Warning] No further splits with positive gain, best gain: -inf\n",
            "[LightGBM] [Warning] No further splits with positive gain, best gain: -inf\n",
            "[LightGBM] [Warning] No further splits with positive gain, best gain: -inf\n",
            "[LightGBM] [Warning] No further splits with positive gain, best gain: -inf\n",
            "[LightGBM] [Warning] No further splits with positive gain, best gain: -inf\n",
            "[LightGBM] [Warning] No further splits with positive gain, best gain: -inf\n",
            "[LightGBM] [Warning] No further splits with positive gain, best gain: -inf\n",
            "[LightGBM] [Warning] No further splits with positive gain, best gain: -inf\n",
            "[LightGBM] [Warning] No further splits with positive gain, best gain: -inf\n",
            "[LightGBM] [Warning] No further splits with positive gain, best gain: -inf\n",
            "[LightGBM] [Warning] No further splits with positive gain, best gain: -inf\n",
            "[LightGBM] [Warning] No further splits with positive gain, best gain: -inf\n",
            "[LightGBM] [Warning] No further splits with positive gain, best gain: -inf\n",
            "[LightGBM] [Warning] No further splits with positive gain, best gain: -inf\n",
            "[LightGBM] [Warning] No further splits with positive gain, best gain: -inf\n",
            "[LightGBM] [Warning] No further splits with positive gain, best gain: -inf\n",
            "[LightGBM] [Warning] No further splits with positive gain, best gain: -inf\n",
            "[LightGBM] [Warning] No further splits with positive gain, best gain: -inf\n",
            "[LightGBM] [Warning] No further splits with positive gain, best gain: -inf\n",
            "[LightGBM] [Warning] No further splits with positive gain, best gain: -inf\n",
            "[LightGBM] [Warning] No further splits with positive gain, best gain: -inf\n",
            "[LightGBM] [Warning] No further splits with positive gain, best gain: -inf\n",
            "[LightGBM] [Warning] No further splits with positive gain, best gain: -inf\n",
            "[LightGBM] [Warning] No further splits with positive gain, best gain: -inf\n",
            "[LightGBM] [Warning] No further splits with positive gain, best gain: -inf\n",
            "[LightGBM] [Warning] No further splits with positive gain, best gain: -inf\n",
            "[LightGBM] [Warning] No further splits with positive gain, best gain: -inf\n",
            "[LightGBM] [Warning] No further splits with positive gain, best gain: -inf\n",
            "[LightGBM] [Warning] No further splits with positive gain, best gain: -inf\n",
            "[LightGBM] [Warning] No further splits with positive gain, best gain: -inf\n",
            "[LightGBM] [Warning] No further splits with positive gain, best gain: -inf\n",
            "[LightGBM] [Warning] No further splits with positive gain, best gain: -inf\n",
            "[LightGBM] [Warning] No further splits with positive gain, best gain: -inf\n",
            "[LightGBM] [Warning] No further splits with positive gain, best gain: -inf\n",
            "[LightGBM] [Warning] No further splits with positive gain, best gain: -inf\n",
            "[LightGBM] [Warning] No further splits with positive gain, best gain: -inf\n",
            "[LightGBM] [Warning] No further splits with positive gain, best gain: -inf\n",
            "[LightGBM] [Warning] No further splits with positive gain, best gain: -inf\n",
            "[LightGBM] [Warning] No further splits with positive gain, best gain: -inf\n",
            "[LightGBM] [Warning] No further splits with positive gain, best gain: -inf\n",
            "[LightGBM] [Warning] No further splits with positive gain, best gain: -inf\n",
            "[LightGBM] [Warning] No further splits with positive gain, best gain: -inf\n",
            "[LightGBM] [Warning] No further splits with positive gain, best gain: -inf\n",
            "[LightGBM] [Warning] No further splits with positive gain, best gain: -inf\n",
            "[LightGBM] [Warning] No further splits with positive gain, best gain: -inf\n",
            "[LightGBM] [Warning] No further splits with positive gain, best gain: -inf\n",
            "[LightGBM] [Warning] No further splits with positive gain, best gain: -inf\n",
            "[LightGBM] [Warning] No further splits with positive gain, best gain: -inf\n",
            "[LightGBM] [Warning] No further splits with positive gain, best gain: -inf\n",
            "[LightGBM] [Warning] No further splits with positive gain, best gain: -inf\n",
            "[LightGBM] [Warning] No further splits with positive gain, best gain: -inf\n",
            "[LightGBM] [Warning] No further splits with positive gain, best gain: -inf\n",
            "[LightGBM] [Warning] No further splits with positive gain, best gain: -inf\n",
            "[LightGBM] [Warning] No further splits with positive gain, best gain: -inf\n",
            "[LightGBM] [Warning] No further splits with positive gain, best gain: -inf\n",
            "[LightGBM] [Warning] No further splits with positive gain, best gain: -inf\n",
            "[LightGBM] [Warning] No further splits with positive gain, best gain: -inf\n",
            "[LightGBM] [Warning] No further splits with positive gain, best gain: -inf\n",
            "[LightGBM] [Warning] No further splits with positive gain, best gain: -inf\n",
            "[LightGBM] [Warning] No further splits with positive gain, best gain: -inf\n",
            "[LightGBM] [Warning] No further splits with positive gain, best gain: -inf\n",
            "[LightGBM] [Warning] No further splits with positive gain, best gain: -inf\n",
            "[LightGBM] [Warning] No further splits with positive gain, best gain: -inf\n",
            "[LightGBM] [Warning] No further splits with positive gain, best gain: -inf\n",
            "[LightGBM] [Warning] No further splits with positive gain, best gain: -inf\n",
            "[LightGBM] [Warning] No further splits with positive gain, best gain: -inf\n",
            "[LightGBM] [Warning] No further splits with positive gain, best gain: -inf\n",
            "[LightGBM] [Warning] No further splits with positive gain, best gain: -inf\n",
            "[LightGBM] [Warning] No further splits with positive gain, best gain: -inf\n",
            "[LightGBM] [Warning] No further splits with positive gain, best gain: -inf\n",
            "[LightGBM] [Warning] No further splits with positive gain, best gain: -inf\n",
            "[LightGBM] [Warning] No further splits with positive gain, best gain: -inf\n",
            "[LightGBM] [Warning] No further splits with positive gain, best gain: -inf\n",
            "[LightGBM] [Warning] No further splits with positive gain, best gain: -inf\n",
            "[LightGBM] [Warning] No further splits with positive gain, best gain: -inf\n",
            "[LightGBM] [Warning] No further splits with positive gain, best gain: -inf\n",
            "[LightGBM] [Warning] No further splits with positive gain, best gain: -inf\n",
            "[LightGBM] [Warning] No further splits with positive gain, best gain: -inf\n",
            "[LightGBM] [Warning] No further splits with positive gain, best gain: -inf\n",
            "[LightGBM] [Warning] No further splits with positive gain, best gain: -inf\n",
            "[LightGBM] [Warning] No further splits with positive gain, best gain: -inf\n",
            "[LightGBM] [Warning] No further splits with positive gain, best gain: -inf\n",
            "[LightGBM] [Warning] No further splits with positive gain, best gain: -inf\n",
            "[LightGBM] [Warning] No further splits with positive gain, best gain: -inf\n",
            "[LightGBM] [Warning] No further splits with positive gain, best gain: -inf\n",
            "[LightGBM] [Warning] No further splits with positive gain, best gain: -inf\n",
            "[LightGBM] [Warning] No further splits with positive gain, best gain: -inf\n",
            "[LightGBM] [Warning] No further splits with positive gain, best gain: -inf\n",
            "[LightGBM] [Warning] No further splits with positive gain, best gain: -inf\n",
            "[LightGBM] [Warning] No further splits with positive gain, best gain: -inf\n",
            "[LightGBM] [Warning] No further splits with positive gain, best gain: -inf\n",
            "[LightGBM] [Warning] No further splits with positive gain, best gain: -inf\n",
            "[LightGBM] [Warning] No further splits with positive gain, best gain: -inf\n",
            "[LightGBM] [Warning] No further splits with positive gain, best gain: -inf\n",
            "[LightGBM] [Warning] No further splits with positive gain, best gain: -inf\n",
            "[LightGBM] [Warning] No further splits with positive gain, best gain: -inf\n",
            "[LightGBM] [Warning] No further splits with positive gain, best gain: -inf\n",
            "[LightGBM] [Warning] No further splits with positive gain, best gain: -inf\n",
            "[LightGBM] [Warning] No further splits with positive gain, best gain: -inf\n",
            "[LightGBM] [Warning] No further splits with positive gain, best gain: -inf\n",
            "[LightGBM] [Warning] No further splits with positive gain, best gain: -inf\n",
            "[LightGBM] [Warning] No further splits with positive gain, best gain: -inf\n",
            "[LightGBM] [Warning] No further splits with positive gain, best gain: -inf\n",
            "[LightGBM] [Warning] No further splits with positive gain, best gain: -inf\n",
            "[LightGBM] [Warning] No further splits with positive gain, best gain: -inf\n",
            "[LightGBM] [Warning] No further splits with positive gain, best gain: -inf\n",
            "[LightGBM] [Warning] No further splits with positive gain, best gain: -inf\n",
            "[LightGBM] [Warning] No further splits with positive gain, best gain: -inf\n",
            "[LightGBM] [Warning] No further splits with positive gain, best gain: -inf\n",
            "[LightGBM] [Warning] No further splits with positive gain, best gain: -inf\n",
            "[LightGBM] [Warning] No further splits with positive gain, best gain: -inf\n",
            "[LightGBM] [Warning] No further splits with positive gain, best gain: -inf\n",
            "[LightGBM] [Warning] No further splits with positive gain, best gain: -inf\n",
            "[LightGBM] [Warning] No further splits with positive gain, best gain: -inf\n",
            "[LightGBM] [Warning] No further splits with positive gain, best gain: -inf\n",
            "[LightGBM] [Warning] No further splits with positive gain, best gain: -inf\n",
            "[LightGBM] [Warning] No further splits with positive gain, best gain: -inf\n",
            "[LightGBM] [Warning] No further splits with positive gain, best gain: -inf\n",
            "[LightGBM] [Warning] No further splits with positive gain, best gain: -inf\n",
            "[LightGBM] [Warning] No further splits with positive gain, best gain: -inf\n",
            "[LightGBM] [Warning] No further splits with positive gain, best gain: -inf\n",
            "[LightGBM] [Warning] No further splits with positive gain, best gain: -inf\n",
            "[LightGBM] [Warning] No further splits with positive gain, best gain: -inf\n",
            "[LightGBM] [Warning] No further splits with positive gain, best gain: -inf\n",
            "[LightGBM] [Warning] No further splits with positive gain, best gain: -inf\n",
            "[LightGBM] [Warning] No further splits with positive gain, best gain: -inf\n",
            "[LightGBM] [Warning] No further splits with positive gain, best gain: -inf\n",
            "[LightGBM] [Warning] No further splits with positive gain, best gain: -inf\n",
            "[LightGBM] [Warning] No further splits with positive gain, best gain: -inf\n",
            "[LightGBM] [Warning] No further splits with positive gain, best gain: -inf\n",
            "[LightGBM] [Warning] No further splits with positive gain, best gain: -inf\n",
            "[LightGBM] [Warning] No further splits with positive gain, best gain: -inf\n",
            "[LightGBM] [Warning] No further splits with positive gain, best gain: -inf\n",
            "[LightGBM] [Warning] No further splits with positive gain, best gain: -inf\n",
            "[LightGBM] [Warning] No further splits with positive gain, best gain: -inf\n",
            "[LightGBM] [Warning] No further splits with positive gain, best gain: -inf\n",
            "[LightGBM] [Warning] No further splits with positive gain, best gain: -inf\n",
            "[LightGBM] [Warning] No further splits with positive gain, best gain: -inf\n",
            "[LightGBM] [Warning] No further splits with positive gain, best gain: -inf\n",
            "[LightGBM] [Warning] No further splits with positive gain, best gain: -inf\n",
            "[LightGBM] [Warning] No further splits with positive gain, best gain: -inf\n",
            "[LightGBM] [Warning] No further splits with positive gain, best gain: -inf\n",
            "[LightGBM] [Warning] No further splits with positive gain, best gain: -inf\n",
            "[LightGBM] [Warning] No further splits with positive gain, best gain: -inf\n",
            "[LightGBM] [Warning] No further splits with positive gain, best gain: -inf\n",
            "[LightGBM] [Warning] No further splits with positive gain, best gain: -inf\n",
            "[LightGBM] [Warning] No further splits with positive gain, best gain: -inf\n",
            "[LightGBM] [Warning] No further splits with positive gain, best gain: -inf\n",
            "[LightGBM] [Warning] No further splits with positive gain, best gain: -inf\n",
            "[LightGBM] [Warning] No further splits with positive gain, best gain: -inf\n",
            "[LightGBM] [Warning] No further splits with positive gain, best gain: -inf\n",
            "[LightGBM] [Warning] No further splits with positive gain, best gain: -inf\n",
            "[LightGBM] [Warning] No further splits with positive gain, best gain: -inf\n",
            "[LightGBM] [Warning] No further splits with positive gain, best gain: -inf\n",
            "[LightGBM] [Warning] No further splits with positive gain, best gain: -inf\n",
            "[LightGBM] [Warning] No further splits with positive gain, best gain: -inf\n",
            "[LightGBM] [Warning] No further splits with positive gain, best gain: -inf\n",
            "[LightGBM] [Warning] No further splits with positive gain, best gain: -inf\n",
            "[LightGBM] [Warning] No further splits with positive gain, best gain: -inf\n",
            "[LightGBM] [Warning] No further splits with positive gain, best gain: -inf\n",
            "[LightGBM] [Warning] No further splits with positive gain, best gain: -inf\n",
            "[LightGBM] [Warning] No further splits with positive gain, best gain: -inf\n"
          ]
        }
      ],
      "source": [
        "# genero el modelo\n",
        "# estos hiperparametros  salieron de una laaarga Optmizacion Bayesiana\n",
        "\n",
        "set.seed(PARAM$semilla_primigenia, kind = \"L'Ecuyer-CMRG\") # Establezco la semilla aleatoria\n",
        "\n",
        "modelo <- lgb.train(\n",
        "  data= dtrain,\n",
        "  param= list(\n",
        "  objective= \"binary\",\n",
        "  max_bin= PARAM$lgb$max_bin,\n",
        "  learning_rate= PARAM$lgb$learning_rate,\n",
        "  num_iterations= PARAM$lgb$num_iterations,\n",
        "  num_leaves= PARAM$lgb$num_leaves,\n",
        "  min_data_in_leaf= PARAM$lgb$min_data_in_leaf,\n",
        "  feature_fraction= PARAM$lgb$feature_fraction,\n",
        "  seed= PARAM$semilla_primigenia\n",
        "  )\n",
        ")\n"
      ]
    },
    {
      "cell_type": "code",
      "execution_count": 30,
      "metadata": {
        "id": "69QcMsSkg9d-",
        "vscode": {
          "languageId": "r"
        }
      },
      "outputs": [],
      "source": [
        "# ahora imprimo la importancia de variables\n",
        "tb_importancia <- as.data.table(lgb.importance(modelo))\n",
        "archivo_importancia <- \"impo.txt\"\n",
        "\n",
        "fwrite(tb_importancia,\n",
        "  file= archivo_importancia,\n",
        "  sep= \"\\t\"\n",
        ")\n"
      ]
    },
    {
      "cell_type": "code",
      "execution_count": 31,
      "metadata": {
        "id": "lauiNeQDg-XP",
        "vscode": {
          "languageId": "r"
        }
      },
      "outputs": [],
      "source": [
        "# grabo a disco el modelo en un formato para seres humanos ... ponele ...\n",
        "\n",
        "lgb.save(modelo, \"modelo.txt\" )"
      ]
    },
    {
      "cell_type": "code",
      "execution_count": 32,
      "metadata": {
        "id": "VQhEcNmBhF7u",
        "vscode": {
          "languageId": "r"
        }
      },
      "outputs": [],
      "source": [
        "# mes donde voy a aplicar el modelo\n",
        "dfuture <- dataset[foto_mes %in% PARAM$future]\n",
        "setorder(dfuture, numero_de_cliente, foto_mes)\n",
        "\n",
        "# inicilizo el dataset  drealidad\n",
        "drealidad <- realidad_inicializar( dfuture, PARAM)"
      ]
    },
    {
      "cell_type": "code",
      "execution_count": 33,
      "metadata": {
        "id": "kxIoIF00WGO1",
        "vscode": {
          "languageId": "r"
        }
      },
      "outputs": [],
      "source": [
        "# aplico el modelo a los datos nuevos\n",
        "prediccion <- predict(\n",
        "  modelo,\n",
        "  data.matrix(dfuture[, campos_buenos, with= FALSE])\n",
        ")"
      ]
    },
    {
      "cell_type": "code",
      "execution_count": 34,
      "metadata": {
        "id": "Z5LYpStThlIC",
        "vscode": {
          "languageId": "r"
        }
      },
      "outputs": [],
      "source": [
        "# tabla de prediccion\n",
        "\n",
        "tb_prediccion <- dfuture[, list(numero_de_cliente, foto_mes)]\n",
        "tb_prediccion[, prob := prediccion ]\n",
        "\n",
        "# grabo las probabilidad del modelo\n",
        "fwrite(tb_prediccion,\n",
        "  file= \"prediccion.txt\",\n",
        "  sep= \"\\t\"\n",
        ")"
      ]
    },
    {
      "cell_type": "code",
      "execution_count": 35,
      "metadata": {
        "id": "vSopCODCh6kL",
        "vscode": {
          "languageId": "r"
        }
      },
      "outputs": [],
      "source": [
        "# ordeno por probabilidad descendente\n",
        "\n",
        "setorder(tb_prediccion, -prob)"
      ]
    },
    {
      "cell_type": "code",
      "execution_count": 36,
      "metadata": {
        "id": "pmxc2Z0fpJAZ",
        "vscode": {
          "languageId": "r"
        }
      },
      "outputs": [],
      "source": [
        "# genero la prediccion\n",
        "\n",
        "tb_prediccion[, Predicted := 0L]\n",
        "tb_prediccion[prob>(1/40), Predicted := 1L]\n",
        "\n",
        "archivo_kaggle <- paste0(\"KA\", PARAM$experimento, \".csv\")\n",
        "\n",
        "# grabo el archivo\n",
        "fwrite(tb_prediccion[, list(numero_de_cliente, Predicted)],\n",
        "  file= archivo_kaggle,\n",
        "  sep= \",\"\n",
        ")"
      ]
    },
    {
      "cell_type": "code",
      "execution_count": 37,
      "metadata": {
        "id": "wSUlDENjW2hJ",
        "vscode": {
          "languageId": "r"
        }
      },
      "outputs": [
        {
          "name": "stdout",
          "output_type": "stream",
          "text": [
            "TOTAL=329580000 Public=2.93e+08 Private=345257143\n"
          ]
        }
      ],
      "source": [
        "# calculo la ganancia en los datos del futuro\n",
        "res <- realidad_evaluar( drealidad, tb_prediccion)\n",
        "\n",
        "cat( \"TOTAL=\", res$total,\n",
        "  \" Public=\", res$public,\n",
        "  \" Private=\", res$private,\n",
        "  \"\\n\",\n",
        "  sep= \"\"\n",
        ")"
      ]
    },
    {
      "cell_type": "code",
      "execution_count": 38,
      "metadata": {
        "id": "PK3QGWJsXk_k",
        "vscode": {
          "languageId": "r"
        }
      },
      "outputs": [
        {
          "data": {
            "text/html": [
              "'sáb sept 06 00:55:11 2025'"
            ],
            "text/latex": [
              "'sáb sept 06 00:55:11 2025'"
            ],
            "text/markdown": [
              "'sáb sept 06 00:55:11 2025'"
            ],
            "text/plain": [
              "[1] \"sáb sept 06 00:55:11 2025\""
            ]
          },
          "metadata": {},
          "output_type": "display_data"
        }
      ],
      "source": [
        "format(Sys.time(), \"%a %b %d %X %Y\")"
      ]
    },
    {
      "cell_type": "markdown",
      "metadata": {
        "id": "UMr6Z1enOyd3"
      },
      "source": [
        "\n",
        "\n",
        "---\n",
        "\n"
      ]
    },
    {
      "cell_type": "markdown",
      "metadata": {
        "id": "lO4QwOEU-xPe"
      },
      "source": [
        "### 4.08  LightGBM  optimizacion de hiperparámetros"
      ]
    },
    {
      "cell_type": "markdown",
      "metadata": {
        "id": "75FU3LjSF2uN"
      },
      "source": [
        "La optimizacion de los hiperparámetros de LightGBM mediante el método de optimizacion bayesiana será su *caballito de batalla* durante la asignatura !"
      ]
    },
    {
      "cell_type": "markdown",
      "metadata": {
        "id": "aJBO5Dcb_B7s"
      },
      "source": [
        "limpio el ambiente de R"
      ]
    },
    {
      "cell_type": "code",
      "execution_count": 1,
      "metadata": {
        "id": "2CeMTfCuX3bH",
        "vscode": {
          "languageId": "r"
        }
      },
      "outputs": [
        {
          "data": {
            "text/html": [
              "'vie sept 05 22:26:31 2025'"
            ],
            "text/latex": [
              "'vie sept 05 22:26:31 2025'"
            ],
            "text/markdown": [
              "'vie sept 05 22:26:31 2025'"
            ],
            "text/plain": [
              "[1] \"vie sept 05 22:26:31 2025\""
            ]
          },
          "metadata": {},
          "output_type": "display_data"
        }
      ],
      "source": [
        "format(Sys.time(), \"%a %b %d %X %Y\")"
      ]
    },
    {
      "cell_type": "code",
      "execution_count": 2,
      "metadata": {
        "id": "HPKFI6yP_B7s",
        "vscode": {
          "languageId": "r"
        }
      },
      "outputs": [
        {
          "data": {
            "text/html": [
              "<table class=\"dataframe\">\n",
              "<caption>A matrix: 2 × 6 of type dbl</caption>\n",
              "<thead>\n",
              "\t<tr><th></th><th scope=col>used</th><th scope=col>(Mb)</th><th scope=col>gc trigger</th><th scope=col>(Mb)</th><th scope=col>max used</th><th scope=col>(Mb)</th></tr>\n",
              "</thead>\n",
              "<tbody>\n",
              "\t<tr><th scope=row>Ncells</th><td> 650991</td><td>34.8</td><td>1431192</td><td>76.5</td><td>1431192</td><td>76.5</td></tr>\n",
              "\t<tr><th scope=row>Vcells</th><td>1204282</td><td> 9.2</td><td>8388608</td><td>64.0</td><td>2051410</td><td>15.7</td></tr>\n",
              "</tbody>\n",
              "</table>\n"
            ],
            "text/latex": [
              "A matrix: 2 × 6 of type dbl\n",
              "\\begin{tabular}{r|llllll}\n",
              "  & used & (Mb) & gc trigger & (Mb) & max used & (Mb)\\\\\n",
              "\\hline\n",
              "\tNcells &  650991 & 34.8 & 1431192 & 76.5 & 1431192 & 76.5\\\\\n",
              "\tVcells & 1204282 &  9.2 & 8388608 & 64.0 & 2051410 & 15.7\\\\\n",
              "\\end{tabular}\n"
            ],
            "text/markdown": [
              "\n",
              "A matrix: 2 × 6 of type dbl\n",
              "\n",
              "| <!--/--> | used | (Mb) | gc trigger | (Mb) | max used | (Mb) |\n",
              "|---|---|---|---|---|---|---|\n",
              "| Ncells |  650991 | 34.8 | 1431192 | 76.5 | 1431192 | 76.5 |\n",
              "| Vcells | 1204282 |  9.2 | 8388608 | 64.0 | 2051410 | 15.7 |\n",
              "\n"
            ],
            "text/plain": [
              "       used    (Mb) gc trigger (Mb) max used (Mb)\n",
              "Ncells  650991 34.8 1431192    76.5 1431192  76.5\n",
              "Vcells 1204282  9.2 8388608    64.0 2051410  15.7"
            ]
          },
          "metadata": {},
          "output_type": "display_data"
        }
      ],
      "source": [
        "# limpio la memoria\n",
        "rm(list=ls(all.names=TRUE)) # remove all objects\n",
        "gc(full=TRUE, verbose=FALSE) # garbage collection"
      ]
    },
    {
      "cell_type": "code",
      "execution_count": null,
      "metadata": {
        "id": "B6X8U6XF_B7t",
        "vscode": {
          "languageId": "r"
        }
      },
      "outputs": [
        {
          "name": "stderr",
          "output_type": "stream",
          "text": [
            "Cargando paquete requerido: data.table\n",
            "\n",
            "Cargando paquete requerido: rpart\n",
            "\n",
            "Cargando paquete requerido: parallel\n",
            "\n",
            "Cargando paquete requerido: R.utils\n",
            "\n",
            "Cargando paquete requerido: R.oo\n",
            "\n",
            "Cargando paquete requerido: R.methodsS3\n",
            "\n",
            "R.methodsS3 v1.8.2 (2022-06-13 22:00:14 UTC) successfully loaded. See ?R.methodsS3 for help.\n",
            "\n",
            "R.oo v1.27.1 (2025-05-02 21:00:05 UTC) successfully loaded. See ?R.oo for help.\n",
            "\n",
            "\n",
            "Adjuntando el paquete: 'R.oo'\n",
            "\n",
            "\n",
            "The following object is masked from 'package:R.methodsS3':\n",
            "\n",
            "    throw\n",
            "\n",
            "\n",
            "The following objects are masked from 'package:methods':\n",
            "\n",
            "    getClasses, getMethods\n",
            "\n",
            "\n",
            "The following objects are masked from 'package:base':\n",
            "\n",
            "    attach, detach, load, save\n",
            "\n",
            "\n",
            "R.utils v2.13.0 (2025-02-24 21:20:02 UTC) successfully loaded. See ?R.utils for help.\n",
            "\n",
            "\n",
            "Adjuntando el paquete: 'R.utils'\n",
            "\n",
            "\n",
            "The following object is masked from 'package:utils':\n",
            "\n",
            "    timestamp\n",
            "\n",
            "\n",
            "The following objects are masked from 'package:base':\n",
            "\n",
            "    cat, commandArgs, getOption, isOpen, nullfile, parse, use, warnings\n",
            "\n",
            "\n",
            "Cargando paquete requerido: primes\n",
            "\n",
            "Cargando paquete requerido: rlist\n",
            "\n",
            "Cargando paquete requerido: lightgbm\n",
            "\n",
            "Warning message in library(package, lib.loc = lib.loc, character.only = TRUE, logical.return = TRUE, :\n",
            "\"no hay paquete llamado 'lightgbm'\"\n",
            "Installing package into 'C:/Users/nacho/AppData/Local/R/win-library/4.4'\n",
            "(as 'lib' is unspecified)\n",
            "\n"
          ]
        },
        {
          "name": "stdout",
          "output_type": "stream",
          "text": [
            "package 'lightgbm' successfully unpacked and MD5 sums checked\n",
            "\n",
            "The downloaded binary packages are in\n",
            "\tC:\\Users\\nacho\\AppData\\Local\\Temp\\RtmpySLvFI\\downloaded_packages\n"
          ]
        },
        {
          "name": "stderr",
          "output_type": "stream",
          "text": [
            "Cargando paquete requerido: lightgbm\n",
            "\n",
            "Cargando paquete requerido: DiceKriging\n",
            "\n",
            "Cargando paquete requerido: mlrMBO\n",
            "\n",
            "Cargando paquete requerido: mlr\n",
            "\n",
            "Cargando paquete requerido: ParamHelpers\n",
            "\n",
            "\n",
            "Adjuntando el paquete: 'ParamHelpers'\n",
            "\n",
            "\n",
            "The following object is masked from 'package:R.utils':\n",
            "\n",
            "    isVector\n",
            "\n",
            "\n",
            "\n",
            "Adjuntando el paquete: 'mlr'\n",
            "\n",
            "\n",
            "The following objects are masked from 'package:R.utils':\n",
            "\n",
            "    resample, setThreshold\n",
            "\n",
            "\n",
            "Cargando paquete requerido: smoof\n",
            "\n",
            "Cargando paquete requerido: checkmate\n",
            "\n",
            "\n",
            "Adjuntando el paquete: 'checkmate'\n",
            "\n",
            "\n",
            "The following object is masked from 'package:DiceKriging':\n",
            "\n",
            "    checkNames\n",
            "\n",
            "\n",
            "The following object is masked from 'package:R.utils':\n",
            "\n",
            "    asInt\n",
            "\n",
            "\n",
            "\n",
            "Adjuntando el paquete: 'smoof'\n",
            "\n",
            "\n",
            "The following objects are masked from 'package:R.oo':\n",
            "\n",
            "    getDescription, getName\n",
            "\n",
            "\n"
          ]
        }
      ],
      "source": [
        "# cargo las librerias que necesito\n",
        "if(!require(\"data.table\")) install.packages(\"data.table\")\n",
        "require(\"data.table\")\n",
        "\n",
        "if(!require(\"rpart\")) install.packages(\"rpart\")\n",
        "require(\"rpart\")\n",
        "\n",
        "if(!require(\"parallel\")) install.packages(\"parallel\")\n",
        "require(\"parallel\")\n",
        "\n",
        "if(!require(\"R.utils\")) install.packages(\"R.utils\")\n",
        "require(\"R.utils\")\n",
        "\n",
        "if( !require(\"primes\") ) install.packages(\"primes\")\n",
        "require(\"primes\")\n",
        "\n",
        "if( !require(\"rlist\") ) install.packages(\"rlist\")\n",
        "require(\"rlist\")\n",
        "\n",
        "if( !require(\"lightgbm\") ) install.packages(\"lightgbm\")\n",
        "require(\"lightgbm\")\n",
        "\n",
        "if( !require(\"DiceKriging\") ) install.packages(\"DiceKriging\")\n",
        "require(\"DiceKriging\")\n",
        "\n",
        "if( !require(\"mlrMBO\") ) install.packages(\"mlrMBO\")\n",
        "require(\"mlrMBO\")\n"
      ]
    },
    {
      "cell_type": "markdown",
      "metadata": {
        "id": "_qZHeAHdCJQ2"
      },
      "source": [
        "Aqui debe cargar SU semilla primigenia"
      ]
    },
    {
      "cell_type": "code",
      "execution_count": 4,
      "metadata": {
        "id": "2y3Ai8F6CJQ2",
        "vscode": {
          "languageId": "r"
        }
      },
      "outputs": [],
      "source": [
        "PARAM <- list()\n",
        "PARAM$experimento <- 4080\n",
        "PARAM$semilla_primigenia <- 200003\n",
        "\n",
        "# training y future\n",
        "PARAM$train <- c(202102)\n",
        "\n",
        "# un undersampling de 0.1  toma solo el 10% de los CONTINUA\n",
        "# undersampling de 1.0  implica tomar TODOS los datos\n",
        "PARAM$trainingstrategy$undersampling <- 1.0\n",
        "\n",
        "PARAM$hyperparametertuning$iteraciones <- 30 # iteracines bayesianas\n",
        "\n",
        "PARAM$hyperparametertuning$xval_folds <- 5\n",
        "\n",
        "# parametros fijos del LightGBM\n",
        "PARAM$lgbm$param_fijos <- list(\n",
        "  objective= \"binary\",\n",
        "  metric= \"auc\",\n",
        "  first_metric_only= TRUE,\n",
        "  boost_from_average= TRUE,\n",
        "  feature_pre_filter= FALSE,\n",
        "  verbosity= -100,\n",
        "  force_row_wise= TRUE, # para evitar warning\n",
        "  seed= PARAM$semilla_primigenia,\n",
        "  max_bin= 31,\n",
        "  num_iterations= 2048,  # valor grande, lo limita early_stopping_rounds\n",
        "  early_stopping_rounds= 200\n",
        ")\n",
        "\n",
        "# Aqui se cargan los bordes de los hiperparametros\n",
        "PARAM$hypeparametertuning$hs <- makeParamSet(\n",
        "  makeNumericParam(\"learning_rate\", lower= 0.01, upper= 0.3),\n",
        "  makeNumericParam(\"feature_fraction\", lower= 0.1, upper= 1.0),\n",
        "  makeIntegerParam(\"num_leaves\", lower= 8L, upper= 2048L),\n",
        "  makeIntegerParam(\"min_data_in_leaf\", lower= 1L, upper= 8000L)\n",
        ")"
      ]
    },
    {
      "cell_type": "code",
      "execution_count": 5,
      "metadata": {
        "id": "NnPKiCHuCwVo",
        "vscode": {
          "languageId": "r"
        }
      },
      "outputs": [],
      "source": [
        "# En el argumento x llegan los parmaetros de la bayesiana\n",
        "#  devuelve la AUC de cross validation del modelo entrenado\n",
        "\n",
        "EstimarGanancia_AUC_lightgbm <- function(x) {\n",
        "\n",
        "  message(format(Sys.time(), \"%a %b %d %X %Y\"))\n",
        "\n",
        "  # uno la lista de hiperparametros : fijos + variables\n",
        "  param_completo <- c(PARAM$lgbm$param_fijos, x)\n",
        "\n",
        "  # entreno LightGBM\n",
        "  modelocv <- lgb.cv(\n",
        "    data= dtrain,\n",
        "    nfold= PARAM$hyperparametertuning$xval_folds,\n",
        "    stratified= TRUE,\n",
        "    param= param_completo,\n",
        "    verbose= -100\n",
        "  )\n",
        "\n",
        "  # obtengo la ganancia\n",
        "  AUC <- modelocv$best_score\n",
        "\n",
        "  # esta es la forma de devolver un parametro extra\n",
        "  attr(AUC, \"extras\") <- list(\"num_iterations\"= modelocv$best_iter)\n",
        "\n",
        "  # hago espacio en la memoria\n",
        "  rm(modelocv)\n",
        "  gc(full= TRUE, verbose= FALSE)\n",
        "\n",
        "  message( \"AUC: \", AUC)\n",
        "  return(AUC)\n",
        "}"
      ]
    },
    {
      "cell_type": "markdown",
      "metadata": {
        "id": "P7Pw1KLeE3UH"
      },
      "source": [
        "aqui se inicia el programa"
      ]
    },
    {
      "cell_type": "code",
      "execution_count": 6,
      "metadata": {
        "id": "QvOokHUvuolF",
        "vscode": {
          "languageId": "r"
        }
      },
      "outputs": [],
      "source": [
        "# en este archivo quedan la evolucion binaria de la BO\n",
        "\n",
        "kbayesiana <- \"bayesiana.RDATA\""
      ]
    },
    {
      "cell_type": "code",
      "execution_count": 7,
      "metadata": {
        "id": "xcOJpoFvCJQ3",
        "vscode": {
          "languageId": "r"
        }
      },
      "outputs": [],
      "source": [
        "# lectura del dataset\n",
        "dataset <- fread(\"./competencia_01.csv.gz\", stringsAsFactors= TRUE)"
      ]
    },
    {
      "cell_type": "code",
      "execution_count": 8,
      "metadata": {
        "id": "JorOk_A8EhSy",
        "vscode": {
          "languageId": "r"
        }
      },
      "outputs": [],
      "source": [
        "dataset <- dataset[foto_mes %in%  PARAM$train]"
      ]
    },
    {
      "cell_type": "code",
      "execution_count": 9,
      "metadata": {
        "id": "JDg9xZVYrwvj",
        "vscode": {
          "languageId": "r"
        }
      },
      "outputs": [],
      "source": [
        "# paso la clase a binaria que tome valores {0,1}  enteros\n",
        "\n",
        "dataset[, clase01 := ifelse(clase_ternaria == \"BAJA+2\", 1L, 0L) ]"
      ]
    },
    {
      "cell_type": "code",
      "execution_count": 10,
      "metadata": {
        "id": "E68xpDYAr0nK",
        "vscode": {
          "languageId": "r"
        }
      },
      "outputs": [],
      "source": [
        "# los campos que se van a utilizar\n",
        "\n",
        "campos_buenos <- copy( setdiff(\n",
        "  colnames(dataset),\n",
        "  c(\"clase_ternaria\", \"clase01\", \"azar\", \"training\")\n",
        "))\n"
      ]
    },
    {
      "cell_type": "code",
      "execution_count": 11,
      "metadata": {
        "id": "G8zeYUfSr3GF",
        "vscode": {
          "languageId": "r"
        }
      },
      "outputs": [],
      "source": [
        "# defino los datos que forma parte del training\n",
        "# aqui se hace el undersampling de los CONTINUA\n",
        "# notar que para esto utilizo la SEGUNDA semilla\n",
        "\n",
        "set.seed(PARAM$semilla_primigenia, kind= \"L'Ecuyer-CMRG\")\n",
        "dataset[, azar := runif(nrow(dataset))]\n",
        "dataset[, training := 0L]\n",
        "\n",
        "dataset[\n",
        "  foto_mes %in% PARAM$train &\n",
        "    (azar <= PARAM$trainingstrategy$undersampling | clase_ternaria %in% c(\"BAJA+1\", \"BAJA+2\")),\n",
        "  training := 1L\n",
        "]"
      ]
    },
    {
      "cell_type": "code",
      "execution_count": 12,
      "metadata": {
        "id": "se8_aKuMr5CV",
        "vscode": {
          "languageId": "r"
        }
      },
      "outputs": [
        {
          "data": {
            "text/html": [
              "162155"
            ],
            "text/latex": [
              "162155"
            ],
            "text/markdown": [
              "162155"
            ],
            "text/plain": [
              "[1] 162155"
            ]
          },
          "metadata": {},
          "output_type": "display_data"
        },
        {
          "data": {
            "text/html": [
              "154"
            ],
            "text/latex": [
              "154"
            ],
            "text/markdown": [
              "154"
            ],
            "text/plain": [
              "[1] 154"
            ]
          },
          "metadata": {},
          "output_type": "display_data"
        }
      ],
      "source": [
        "# dejo los datos en el formato que necesita LightGBM\n",
        "\n",
        "dtrain <- lgb.Dataset(\n",
        "  data= data.matrix(dataset[training == 1L, campos_buenos, with= FALSE]),\n",
        "  label= dataset[training == 1L, clase01],\n",
        "  free_raw_data= FALSE\n",
        ")\n",
        "\n",
        "nrow(dtrain)\n",
        "ncol(dtrain)"
      ]
    },
    {
      "cell_type": "code",
      "execution_count": 13,
      "metadata": {
        "id": "CsRYGGeN-1ID",
        "vscode": {
          "languageId": "r"
        }
      },
      "outputs": [],
      "source": [
        "# Aqui comienza la configuracion de la Bayesian Optimization\n",
        "\n",
        "funcion_optimizar <- EstimarGanancia_AUC_lightgbm # la funcion que voy a maximizar\n",
        "\n",
        "configureMlr(show.learner.output= FALSE)\n",
        "\n",
        "# configuro la busqueda bayesiana,  los hiperparametros que se van a optimizar\n",
        "# por favor, no desesperarse por lo complejo\n",
        "\n",
        "obj.fun <- makeSingleObjectiveFunction(\n",
        "  fn= funcion_optimizar, # la funcion que voy a maximizar\n",
        "  minimize= FALSE, # estoy Maximizando la ganancia\n",
        "  noisy= TRUE,\n",
        "  par.set= PARAM$hypeparametertuning$hs, # definido al comienzo del programa\n",
        "  has.simple.signature= FALSE # paso los parametros en una lista\n",
        ")\n",
        "\n",
        "# cada 600 segundos guardo el resultado intermedio\n",
        "ctrl <- makeMBOControl(\n",
        "  save.on.disk.at.time= 600, # se graba cada 600 segundos\n",
        "  save.file.path= kbayesiana\n",
        ") # se graba cada 600 segundos\n",
        "\n",
        "# indico la cantidad de iteraciones que va a tener la Bayesian Optimization\n",
        "ctrl <- setMBOControlTermination(\n",
        "  ctrl,\n",
        "  iters= PARAM$hyperparametertuning$iteraciones\n",
        ") # cantidad de iteraciones\n",
        "\n",
        "# defino el método estandar para la creacion de los puntos iniciales,\n",
        "# los \"No Inteligentes\"\n",
        "ctrl <- setMBOControlInfill(ctrl, crit= makeMBOInfillCritEI())\n",
        "\n",
        "# establezco la funcion que busca el maximo\n",
        "surr.km <- makeLearner(\n",
        "  \"regr.km\",\n",
        "  predict.type= \"se\",\n",
        "  covtype= \"matern3_2\",\n",
        "  control= list(trace= TRUE)\n",
        ")\n"
      ]
    },
    {
      "cell_type": "code",
      "execution_count": 14,
      "metadata": {
        "id": "TissqCCHD1uZ",
        "vscode": {
          "languageId": "r"
        }
      },
      "outputs": [
        {
          "name": "stderr",
          "output_type": "stream",
          "text": [
            "Computing y column(s) for design. Not provided.\n",
            "\n",
            "vie sept 05 22:27:11 2025\n",
            "\n",
            "AUC: 0.901222085109846\n",
            "\n",
            "vie sept 05 22:27:36 2025\n",
            "\n",
            "AUC: 0.906752573960336\n",
            "\n",
            "vie sept 05 22:28:05 2025\n",
            "\n",
            "AUC: 0.903964610389244\n",
            "\n",
            "vie sept 05 22:28:31 2025\n",
            "\n",
            "AUC: 0.899393558277821\n",
            "\n",
            "vie sept 05 22:30:51 2025\n",
            "\n",
            "AUC: 0.904561555512974\n",
            "\n",
            "vie sept 05 22:31:12 2025\n",
            "\n",
            "AUC: 0.905824385341186\n",
            "\n",
            "vie sept 05 22:31:41 2025\n",
            "\n",
            "AUC: 0.904238914202687\n",
            "\n",
            "vie sept 05 22:32:11 2025\n",
            "\n",
            "AUC: 0.905309935379613\n",
            "\n",
            "vie sept 05 22:32:57 2025\n",
            "\n",
            "AUC: 0.904368476095185\n",
            "\n",
            "vie sept 05 22:33:47 2025\n",
            "\n",
            "AUC: 0.902448067809365\n",
            "\n",
            "vie sept 05 22:34:06 2025\n",
            "\n",
            "AUC: 0.900976363305481\n",
            "\n",
            "vie sept 05 22:34:29 2025\n",
            "\n",
            "AUC: 0.907276360900383\n",
            "\n",
            "vie sept 05 22:35:16 2025\n",
            "\n",
            "AUC: 0.901009825889892\n",
            "\n",
            "vie sept 05 22:35:53 2025\n",
            "\n",
            "AUC: 0.880010223142997\n",
            "\n",
            "vie sept 05 22:38:55 2025\n",
            "\n",
            "AUC: 0.909132701279582\n",
            "\n",
            "vie sept 05 22:40:55 2025\n",
            "\n",
            "AUC: 0.902973623337228\n",
            "\n",
            "[mbo] 0: learning_rate=0.213; feature_fraction=0.725; num_leaves=31; min_data_in_leaf=2761 : y = 0.901 : 24.5 secs : initdesign\n",
            "\n",
            "[mbo] 0: learning_rate=0.123; feature_fraction=0.411; num_leaves=454; min_data_in_leaf=4042 : y = 0.907 : 29.1 secs : initdesign\n",
            "\n",
            "[mbo] 0: learning_rate=0.199; feature_fraction=0.498; num_leaves=1220; min_data_in_leaf=5347 : y = 0.904 : 26.0 secs : initdesign\n",
            "\n",
            "[mbo] 0: learning_rate=0.137; feature_fraction=0.628; num_leaves=1284; min_data_in_leaf=513 : y = 0.899 : 140.7 secs : initdesign\n",
            "\n",
            "[mbo] 0: learning_rate=0.184; feature_fraction=0.693; num_leaves=730; min_data_in_leaf=4651 : y = 0.905 : 20.3 secs : initdesign\n",
            "\n",
            "[mbo] 0: learning_rate=0.0736; feature_fraction=0.559; num_leaves=1443; min_data_in_leaf=6814 : y = 0.906 : 29.2 secs : initdesign\n",
            "\n",
            "[mbo] 0: learning_rate=0.094; feature_fraction=0.877; num_leaves=1968; min_data_in_leaf=3854 : y = 0.904 : 30.3 secs : initdesign\n",
            "\n",
            "[mbo] 0: learning_rate=0.0325; feature_fraction=0.148; num_leaves=1118; min_data_in_leaf=7321 : y = 0.905 : 45.7 secs : initdesign\n",
            "\n",
            "[mbo] 0: learning_rate=0.104; feature_fraction=0.341; num_leaves=266; min_data_in_leaf=1929 : y = 0.904 : 50.6 secs : initdesign\n",
            "\n",
            "[mbo] 0: learning_rate=0.266; feature_fraction=0.91; num_leaves=257; min_data_in_leaf=5877 : y = 0.902 : 18.8 secs : initdesign\n",
            "\n",
            "[mbo] 0: learning_rate=0.294; feature_fraction=0.237; num_leaves=1703; min_data_in_leaf=6193 : y = 0.901 : 23.0 secs : initdesign\n",
            "\n",
            "[mbo] 0: learning_rate=0.055; feature_fraction=0.321; num_leaves=1559; min_data_in_leaf=3001 : y = 0.907 : 46.6 secs : initdesign\n",
            "\n",
            "[mbo] 0: learning_rate=0.241; feature_fraction=0.776; num_leaves=1824; min_data_in_leaf=2482 : y = 0.901 : 37.7 secs : initdesign\n",
            "\n",
            "[mbo] 0: learning_rate=0.26; feature_fraction=0.196; num_leaves=796; min_data_in_leaf=256 : y = 0.88 : 181.7 secs : initdesign\n",
            "\n",
            "[mbo] 0: learning_rate=0.0158; feature_fraction=0.972; num_leaves=948; min_data_in_leaf=1100 : y = 0.909 : 120.2 secs : initdesign\n",
            "\n",
            "[mbo] 0: learning_rate=0.173; feature_fraction=0.487; num_leaves=609; min_data_in_leaf=7981 : y = 0.903 : 21.4 secs : initdesign\n",
            "\n",
            "Saved the current state after iteration 1 in the file bayesiana.RDATA.\n",
            "\n",
            "vie sept 05 22:41:18 2025\n",
            "\n",
            "AUC: 0.907416384297777\n",
            "\n",
            "[mbo] 1: learning_rate=0.01; feature_fraction=0.644; num_leaves=72; min_data_in_leaf=2691 : y = 0.907 : 105.4 secs : infill_ei\n",
            "\n",
            "vie sept 05 22:43:03 2025\n",
            "\n",
            "AUC: 0.905507846690853\n",
            "\n",
            "[mbo] 2: learning_rate=0.0494; feature_fraction=1; num_leaves=698; min_data_in_leaf=2386 : y = 0.906 : 43.0 secs : infill_ei\n",
            "\n",
            "vie sept 05 22:43:47 2025\n",
            "\n",
            "AUC: 0.9086585735665\n",
            "\n",
            "[mbo] 3: learning_rate=0.01; feature_fraction=0.695; num_leaves=1899; min_data_in_leaf=1290 : y = 0.909 : 195.0 secs : infill_ei\n",
            "\n",
            "vie sept 05 22:47:02 2025\n",
            "\n",
            "AUC: 0.892297308322302\n",
            "\n",
            "[mbo] 4: learning_rate=0.01; feature_fraction=0.993; num_leaves=1512; min_data_in_leaf=12 : y = 0.892 : 3856.8 secs : infill_ei\n",
            "\n",
            "Saved the current state after iteration 5 in the file bayesiana.RDATA.\n",
            "\n",
            "vie sept 05 23:51:20 2025\n",
            "\n",
            "AUC: 0.906268127707729\n",
            "\n",
            "[mbo] 5: learning_rate=0.01; feature_fraction=0.697; num_leaves=949; min_data_in_leaf=1438 : y = 0.906 : 112.2 secs : infill_ei\n",
            "\n",
            "vie sept 05 23:53:13 2025\n",
            "\n",
            "AUC: 0.907277391938074\n",
            "\n",
            "[mbo] 6: learning_rate=0.0271; feature_fraction=0.99; num_leaves=953; min_data_in_leaf=3088 : y = 0.907 : 52.7 secs : infill_ei\n",
            "\n",
            "vie sept 05 23:54:06 2025\n",
            "\n",
            "AUC: 0.903190246028689\n",
            "\n",
            "[mbo] 7: learning_rate=0.0785; feature_fraction=0.998; num_leaves=2031; min_data_in_leaf=1123 : y = 0.903 : 82.5 secs : infill_ei\n",
            "\n",
            "vie sept 05 23:55:29 2025\n",
            "\n",
            "AUC: 0.906051457875515\n",
            "\n",
            "[mbo] 8: learning_rate=0.0507; feature_fraction=0.175; num_leaves=8; min_data_in_leaf=3380 : y = 0.906 : 30.1 secs : infill_ei\n",
            "\n",
            "vie sept 05 23:55:59 2025\n",
            "\n",
            "AUC: 0.906498839439408\n",
            "\n",
            "[mbo] 9: learning_rate=0.0101; feature_fraction=0.998; num_leaves=153; min_data_in_leaf=1162 : y = 0.906 : 162.7 secs : infill_ei\n",
            "\n",
            "vie sept 05 23:58:42 2025\n",
            "\n",
            "AUC: 0.908495640546499\n",
            "\n",
            "[mbo] 10: learning_rate=0.01; feature_fraction=0.511; num_leaves=2047; min_data_in_leaf=2681 : y = 0.908 : 153.5 secs : infill_ei\n",
            "\n",
            "sáb sept 06 00:01:16 2025\n",
            "\n",
            "AUC: 0.907833599275723\n",
            "\n",
            "[mbo] 11: learning_rate=0.0163; feature_fraction=0.273; num_leaves=1614; min_data_in_leaf=1042 : y = 0.908 : 182.1 secs : infill_ei\n",
            "\n",
            "Saved the current state after iteration 12 in the file bayesiana.RDATA.\n",
            "\n",
            "sáb sept 06 00:04:19 2025\n",
            "\n",
            "AUC: 0.90485568944635\n",
            "\n",
            "[mbo] 12: learning_rate=0.0102; feature_fraction=1; num_leaves=1522; min_data_in_leaf=1104 : y = 0.905 : 177.7 secs : infill_ei\n",
            "\n",
            "sáb sept 06 00:07:17 2025\n",
            "\n",
            "AUC: 0.909048095500608\n",
            "\n",
            "[mbo] 13: learning_rate=0.011; feature_fraction=0.349; num_leaves=2047; min_data_in_leaf=1553 : y = 0.909 : 147.4 secs : infill_ei\n",
            "\n",
            "sáb sept 06 00:09:45 2025\n",
            "\n",
            "AUC: 0.907713460084859\n",
            "\n",
            "[mbo] 14: learning_rate=0.01; feature_fraction=0.571; num_leaves=714; min_data_in_leaf=3607 : y = 0.908 : 99.0 secs : infill_ei\n",
            "\n",
            "sáb sept 06 00:11:24 2025\n",
            "\n",
            "AUC: 0.907427667341983\n",
            "\n",
            "[mbo] 15: learning_rate=0.0345; feature_fraction=0.625; num_leaves=766; min_data_in_leaf=1006 : y = 0.907 : 104.7 secs : infill_ei\n",
            "\n",
            "sáb sept 06 00:13:09 2025\n",
            "\n",
            "AUC: 0.909406598232033\n",
            "\n",
            "[mbo] 16: learning_rate=0.0201; feature_fraction=0.773; num_leaves=2027; min_data_in_leaf=1351 : y = 0.909 : 131.5 secs : infill_ei\n",
            "\n",
            "Saved the current state after iteration 17 in the file bayesiana.RDATA.\n",
            "\n",
            "sáb sept 06 00:15:21 2025\n",
            "\n",
            "AUC: 0.906710268615414\n",
            "\n",
            "[mbo] 17: learning_rate=0.032; feature_fraction=0.465; num_leaves=2048; min_data_in_leaf=1235 : y = 0.907 : 103.8 secs : infill_ei\n",
            "\n",
            "sáb sept 06 00:17:05 2025\n",
            "\n",
            "AUC: 0.905230442880661\n",
            "\n",
            "[mbo] 18: learning_rate=0.0102; feature_fraction=0.396; num_leaves=8; min_data_in_leaf=5321 : y = 0.905 : 88.4 secs : infill_ei\n",
            "\n",
            "sáb sept 06 00:18:34 2025\n",
            "\n",
            "AUC: 0.904351536759668\n",
            "\n",
            "[mbo] 19: learning_rate=0.0101; feature_fraction=0.808; num_leaves=2047; min_data_in_leaf=1877 : y = 0.904 : 139.1 secs : infill_ei\n",
            "\n",
            "sáb sept 06 00:20:54 2025\n",
            "\n",
            "AUC: 0.910882293125624\n",
            "\n",
            "[mbo] 20: learning_rate=0.0209; feature_fraction=0.757; num_leaves=614; min_data_in_leaf=1195 : y = 0.911 : 97.5 secs : infill_ei\n",
            "\n",
            "sáb sept 06 00:22:31 2025\n",
            "\n",
            "AUC: 0.906642045673503\n",
            "\n",
            "[mbo] 21: learning_rate=0.0327; feature_fraction=0.829; num_leaves=705; min_data_in_leaf=1139 : y = 0.907 : 84.3 secs : infill_ei\n",
            "\n",
            "sáb sept 06 00:23:56 2025\n",
            "\n",
            "AUC: 0.90836757077621\n",
            "\n",
            "[mbo] 22: learning_rate=0.0197; feature_fraction=0.332; num_leaves=535; min_data_in_leaf=1077 : y = 0.908 : 147.5 secs : infill_ei\n",
            "\n",
            "Saved the current state after iteration 23 in the file bayesiana.RDATA.\n",
            "\n",
            "sáb sept 06 00:26:24 2025\n",
            "\n",
            "AUC: 0.906365485937747\n",
            "\n",
            "[mbo] 23: learning_rate=0.0129; feature_fraction=0.815; num_leaves=677; min_data_in_leaf=1255 : y = 0.906 : 118.0 secs : infill_ei\n",
            "\n",
            "sáb sept 06 00:28:23 2025\n",
            "\n",
            "AUC: 0.905853463200674\n",
            "\n",
            "[mbo] 24: learning_rate=0.0226; feature_fraction=0.746; num_leaves=1595; min_data_in_leaf=1072 : y = 0.906 : 115.4 secs : infill_ei\n",
            "\n",
            "sáb sept 06 00:30:18 2025\n",
            "\n",
            "AUC: 0.908523041072538\n",
            "\n",
            "[mbo] 25: learning_rate=0.0178; feature_fraction=0.143; num_leaves=1833; min_data_in_leaf=3072 : y = 0.909 : 108.9 secs : infill_ei\n",
            "\n",
            "sáb sept 06 00:32:08 2025\n",
            "\n",
            "AUC: 0.906566473522752\n",
            "\n",
            "[mbo] 26: learning_rate=0.0363; feature_fraction=0.771; num_leaves=114; min_data_in_leaf=1298 : y = 0.907 : 82.3 secs : infill_ei\n",
            "\n",
            "sáb sept 06 00:33:30 2025\n",
            "\n",
            "AUC: 0.906807808047513\n",
            "\n",
            "[mbo] 27: learning_rate=0.0198; feature_fraction=0.986; num_leaves=158; min_data_in_leaf=1347 : y = 0.907 : 101.0 secs : infill_ei\n",
            "\n",
            "sáb sept 06 00:35:12 2025\n",
            "\n",
            "AUC: 0.911010849063163\n",
            "\n",
            "[mbo] 28: learning_rate=0.0101; feature_fraction=0.429; num_leaves=205; min_data_in_leaf=2820 : y = 0.911 : 126.7 secs : infill_ei\n",
            "\n",
            "Saved the current state after iteration 29 in the file bayesiana.RDATA.\n",
            "\n",
            "sáb sept 06 00:37:19 2025\n",
            "\n",
            "AUC: 0.908445396085622\n",
            "\n",
            "[mbo] 29: learning_rate=0.0134; feature_fraction=0.617; num_leaves=326; min_data_in_leaf=3011 : y = 0.908 : 90.0 secs : infill_ei\n",
            "\n",
            "sáb sept 06 00:38:50 2025\n",
            "\n",
            "AUC: 0.902234736036309\n",
            "\n",
            "[mbo] 30: learning_rate=0.0115; feature_fraction=0.11; num_leaves=507; min_data_in_leaf=1197 : y = 0.902 : 245.2 secs : infill_ei\n",
            "\n",
            "Saved the final state in the file bayesiana.RDATA\n",
            "\n"
          ]
        }
      ],
      "source": [
        "# inicio la optimizacion bayesiana, retomando si ya existe\n",
        "\n",
        "if (!file.exists(kbayesiana)) {\n",
        "  bayesiana_salida <- mbo(obj.fun, learner= surr.km, control= ctrl)\n",
        "} else {\n",
        "  bayesiana_salida <- mboContinue(kbayesiana) # retomo en caso que ya exista\n",
        "}"
      ]
    },
    {
      "cell_type": "code",
      "execution_count": 15,
      "metadata": {
        "id": "aC-ls8JfNDTf",
        "vscode": {
          "languageId": "r"
        }
      },
      "outputs": [
        {
          "name": "stdout",
          "output_type": "stream",
          "text": [
            "   learning_rate feature_fraction num_leaves min_data_in_leaf num_iterations\n",
            "           <num>            <num>      <int>            <int>          <int>\n",
            "1:    0.01006989        0.4293219        205             2820            631\n"
          ]
        }
      ],
      "source": [
        "# almaceno los resultados de la Bayesian Optimization\n",
        "# y capturo los mejores hiperparametros encontrados\n",
        "\n",
        "tb_bayesiana <- as.data.table(bayesiana_salida$opt.path)\n",
        "\n",
        "tb_bayesiana[, iter:= .I]\n",
        "# ordeno en forma descendente por AUC = y\n",
        "setorder(tb_bayesiana, -y, -num_iterations)\n",
        "\n",
        "# grabo para eventualmente poder utilizarlos en OTRA corrida\n",
        "fwrite( tb_bayesiana,\n",
        "  file= \"BO_log.txt\",\n",
        "  sep= \"\\t\"\n",
        ")\n",
        "\n",
        "# los mejores hiperparámetros son los que quedaron en el registro 1 de la tabla\n",
        "PARAM$out$lgbm$mejores_hiperparametros <- tb_bayesiana[\n",
        "  1, # el primero es el de mejor AUC\n",
        "  list(learning_rate, feature_fraction, num_leaves, min_data_in_leaf, num_iterations)\n",
        "]\n",
        "\n",
        "print(PARAM$out$lgbm$mejores_hiperparametros)"
      ]
    },
    {
      "cell_type": "code",
      "execution_count": 16,
      "metadata": {
        "id": "5dPpsZpcX6e8",
        "vscode": {
          "languageId": "r"
        }
      },
      "outputs": [
        {
          "data": {
            "text/html": [
              "'sáb sept 06 00:42:55 2025'"
            ],
            "text/latex": [
              "'sáb sept 06 00:42:55 2025'"
            ],
            "text/markdown": [
              "'sáb sept 06 00:42:55 2025'"
            ],
            "text/plain": [
              "[1] \"sáb sept 06 00:42:55 2025\""
            ]
          },
          "metadata": {},
          "output_type": "display_data"
        }
      ],
      "source": [
        "format(Sys.time(), \"%a %b %d %X %Y\")"
      ]
    },
    {
      "cell_type": "markdown",
      "metadata": {
        "id": "4jNiBItqlK79"
      },
      "source": [
        "Una vez que se impriman los mejores hiperparametros proceder:\n",
        "\n",
        "\n",
        "1.   Copielos en el punto 4.07  en la celda donde se define PARAM\n",
        "2.   Ejecute el punto 4.07 con estos hiperparámetros optimos\n",
        "2.   Reporte el resultado en la hoja  **C4-LGBM Bayesiana**  de la  planilla colaborativa\n"
      ]
    },
    {
      "cell_type": "markdown",
      "metadata": {
        "id": "0vu-1vf5LrVg"
      },
      "source": [
        "\n",
        "\n",
        "---\n",
        "\n"
      ]
    }
  ],
  "metadata": {
    "colab": {
      "provenance": []
    },
    "kernelspec": {
      "display_name": "R",
      "language": "R",
      "name": "ir"
    },
    "language_info": {
      "codemirror_mode": "r",
      "file_extension": ".r",
      "mimetype": "text/x-r-source",
      "name": "R",
      "pygments_lexer": "r",
      "version": "4.4.3"
    }
  },
  "nbformat": 4,
  "nbformat_minor": 0
}
