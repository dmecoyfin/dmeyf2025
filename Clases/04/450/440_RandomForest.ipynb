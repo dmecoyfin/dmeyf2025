{
  "cells": [
    {
      "cell_type": "markdown",
      "metadata": {
        "id": "O94qX1svwzoC"
      },
      "source": [
        "# 4. Ensembles de Arboles de Decision"
      ]
    },
    {
      "cell_type": "markdown",
      "metadata": {
        "id": "HsJFTcBZw1bE"
      },
      "source": [
        "## 4.03 Random Forest"
      ]
    },
    {
      "cell_type": "markdown",
      "metadata": {
        "id": "nsgvDbemw9Tc"
      },
      "source": [
        "*Random Forest* es un algoritmo de ensembles de arboles de decision creado por Leo Brieman en 1995-2006\n",
        "https://link.springer.com/content/pdf/10.1023/a:1010933404324.pdf"
      ]
    },
    {
      "cell_type": "markdown",
      "metadata": {
        "id": "TcIpXSPvQ_Wy"
      },
      "source": [
        "La página original es:\n",
        "https://www.stat.berkeley.edu/~breiman/RandomForests/cc_home.htm"
      ]
    },
    {
      "cell_type": "markdown",
      "metadata": {
        "id": "-8kPyem6Qdb7"
      },
      "source": [
        "Dos buenos videos para seguir el paso a paso de Random Forest y aplicaciones:\n",
        "* https://www.youtube.com/watch?v=J4Wdy0Wc_xQ\n",
        "* https://www.youtube.com/watch?v=sQ870aTKqiM"
      ]
    },
    {
      "cell_type": "markdown",
      "metadata": {
        "id": "F5IdXABcQHY3"
      },
      "source": [
        "Qué tipo de perturbaciones se realizan en Random Forest\n",
        "\n",
        "*   Se perturba el dataset, con la técnica de bagging = Bootstrap Aggregating\n",
        "*   Tambien se perturba el algoritmo, utiliza random en cada split"
      ]
    },
    {
      "cell_type": "markdown",
      "metadata": {
        "id": "j75A--Tsx2df"
      },
      "source": [
        "Cada arbolito de Random Forest se entrena sobre un dataset perturbado, que tiene :\n",
        "* todas las columnas originales (esta es una GRAN diferencia con  Arboles Azarosos)\n",
        "* la misma *cantidad* de registros del dataset original, PERO generados por la técnica de sampleo con reposición del dataset original."
      ]
    },
    {
      "cell_type": "markdown",
      "metadata": {
        "id": "lg0-WDkvyObC"
      },
      "source": [
        "A pesar de que Leo Brieman es también el inventor de CART (Classification and Regression Trees) Random Forest no corre el algoritmo CART de la libreria rpart, sino un CART perturbado, en donde cada split NO se hace sobre todos los campos del dataset, sino sobre un csubconjunto tomado al azar, esa cantidad es el hiperparámetro *mtry*"
      ]
    },
    {
      "cell_type": "markdown",
      "metadata": {
        "id": "PX0qg_c0yqob"
      },
      "source": [
        "#### 4.03.1  Seteo del ambiente en Google Colab"
      ]
    },
    {
      "cell_type": "markdown",
      "metadata": {
        "id": "NGY7H9xza7Zr"
      },
      "source": [
        "Esta parte se debe correr con el runtime en Python3\n",
        "<br>Ir al menu, Runtime -> Change Runtime Type -> Runtime type ->  **Python 3**"
      ]
    },
    {
      "cell_type": "markdown",
      "metadata": {
        "id": "7PupIBNba7Zr"
      },
      "source": [
        "Conectar la virtual machine donde esta corriendo Google Colab con el  Google Drive, para poder tener persistencia de archivos"
      ]
    },
    {
      "cell_type": "code",
      "execution_count": null,
      "metadata": {
        "colab": {
          "base_uri": "https://localhost:8080/"
        },
        "id": "9LpZCst5a7Zs",
        "outputId": "adef3f15-f98d-4907-ee7e-cf58de1b8ce0",
        "vscode": {
          "languageId": "r"
        }
      },
      "outputs": [
        {
          "name": "stdout",
          "output_type": "stream",
          "text": [
            "Mounted at /content/.drive\n"
          ]
        }
      ],
      "source": [
        "# primero establecer el Runtime de Python 3\n",
        "from google.colab import drive\n",
        "drive.mount('/content/.drive')"
      ]
    },
    {
      "cell_type": "markdown",
      "metadata": {
        "id": "JYC_F-wla7Zs"
      },
      "source": [
        "<br>los siguientes comando estan en shell script de Linux\n",
        "*   Crear las carpetas en el Google Drive\n",
        "*   Bajar el  **competencia_01_crudo**  al  Google Drive  y tambien al disco local de la virtual machine que esta corriendo Google Colab"
      ]
    },
    {
      "cell_type": "code",
      "execution_count": null,
      "metadata": {
        "colab": {
          "base_uri": "https://localhost:8080/"
        },
        "id": "XWLelftXa7Zt",
        "outputId": "4e693aa5-a8fd-4bb9-ddf3-43de87452111",
        "vscode": {
          "languageId": "r"
        }
      },
      "outputs": [
        {
          "data": {
            "text/plain": []
          },
          "execution_count": 2,
          "metadata": {},
          "output_type": "execute_result"
        }
      ],
      "source": [
        "%%shell\n",
        "\n",
        "mkdir -p \"/content/.drive/My Drive/dmeyf\"\n",
        "mkdir -p \"/content/buckets\"\n",
        "ln -s \"/content/.drive/My Drive/dmeyf\" /content/buckets/b1\n",
        "\n",
        "\n",
        "mkdir -p /content/buckets/b1/exp\n",
        "mkdir -p /content/buckets/b1/datasets\n",
        "mkdir -p /content/datasets\n",
        "\n",
        "\n",
        "\n",
        "archivo_origen=\"https://storage.googleapis.com/open-courses/dmeyf2025-e4a2/competencia_01_crudo.csv\"\n",
        "archivo_destino=\"/content/datasets/competencia_01_crudo.csv\"\n",
        "archivo_destino_bucket=\"/content/buckets/b1/datasets/competencia_01_crudo.csv\"\n",
        "\n",
        "if ! test -f $archivo_destino_bucket; then\n",
        "  wget  $archivo_origen  -O $archivo_destino_bucket\n",
        "fi\n",
        "\n",
        "\n",
        "if ! test -f $archivo_destino; then\n",
        "  cp  $archivo_destino_bucket  $archivo_destino\n",
        "fi\n"
      ]
    },
    {
      "cell_type": "markdown",
      "metadata": {
        "id": "dseB4qb9RqUb"
      },
      "source": [
        "## Generacion de la clase_ternaria"
      ]
    },
    {
      "cell_type": "markdown",
      "metadata": {
        "id": "LCEnE_02RuIQ"
      },
      "source": [
        "Esta parte se debe correr con el runtime en lenguaje **R** Ir al menu, Runtime -> Change Runtime Tipe -> Runtime type -> R"
      ]
    },
    {
      "cell_type": "code",
      "execution_count": 56,
      "metadata": {
        "colab": {
          "base_uri": "https://localhost:8080/"
        },
        "id": "P863YZB9R1Ua",
        "outputId": "f05ec974-b7c0-4769-abdc-4c43381da932",
        "vscode": {
          "languageId": "r"
        }
      },
      "outputs": [],
      "source": [
        "require( \"data.table\" )\n",
        "\n",
        "# leo el dataset\n",
        "dataset <- fread(\"../../Competencia 01/competencia_01_crudo.csv\" )\n",
        "\n",
        "# calculo el periodo0 consecutivo\n",
        "dsimple <- dataset[, list(\n",
        "    \"pos\" = .I,\n",
        "    numero_de_cliente,\n",
        "    periodo0 = as.integer(foto_mes/100)*12 +  foto_mes%%100 ) ]\n",
        "\n",
        "\n",
        "# ordeno\n",
        "setorder( dsimple, numero_de_cliente, periodo0 )\n",
        "\n",
        "# calculo topes\n",
        "periodo_ultimo <- dsimple[, max(periodo0) ]\n",
        "periodo_anteultimo <- periodo_ultimo - 1\n",
        "\n",
        "\n",
        "# calculo los leads de orden 1 y 2\n",
        "dsimple[, c(\"periodo1\", \"periodo2\") :=\n",
        "    shift(periodo0, n=1:2, fill=NA, type=\"lead\"),  numero_de_cliente ]\n",
        "\n",
        "# assign most common class values = \"CONTINUA\"\n",
        "dsimple[ periodo0 < periodo_anteultimo, clase_ternaria := \"CONTINUA\" ]\n",
        "\n",
        "# calculo BAJA+1\n",
        "dsimple[ periodo0 < periodo_ultimo &\n",
        "    ( is.na(periodo1) | periodo0 + 1 < periodo1 ),\n",
        "    clase_ternaria := \"BAJA+1\" ]\n",
        "\n",
        "# calculo BAJA+2\n",
        "dsimple[ periodo0 < periodo_anteultimo & (periodo0+1 == periodo1 )\n",
        "    & ( is.na(periodo2) | periodo0 + 2 < periodo2 ),\n",
        "    clase_ternaria := \"BAJA+2\" ]\n",
        "\n",
        "\n",
        "# pego el resultado en el dataset original y grabo\n",
        "setorder( dsimple, pos )\n",
        "dataset[, clase_ternaria := dsimple$clase_ternaria ]\n",
        "\n",
        "fwrite( dataset,\n",
        "    file =  \"./competencia_01.csv.gz\",\n",
        "    sep = \",\"\n",
        ")"
      ]
    },
    {
      "cell_type": "code",
      "execution_count": 57,
      "metadata": {
        "colab": {
          "base_uri": "https://localhost:8080/",
          "height": 568
        },
        "id": "S3hL7tv8W4rn",
        "outputId": "d8a50525-5848-46d3-93e5-37508ba52688",
        "vscode": {
          "languageId": "r"
        }
      },
      "outputs": [
        {
          "data": {
            "text/html": [
              "<table class=\"dataframe\">\n",
              "<caption>A data.table: 15 × 3</caption>\n",
              "<thead>\n",
              "\t<tr><th scope=col>foto_mes</th><th scope=col>clase_ternaria</th><th scope=col>N</th></tr>\n",
              "\t<tr><th scope=col>&lt;int&gt;</th><th scope=col>&lt;chr&gt;</th><th scope=col>&lt;int&gt;</th></tr>\n",
              "</thead>\n",
              "<tbody>\n",
              "\t<tr><td>202101</td><td>BAJA+1  </td><td>   622</td></tr>\n",
              "\t<tr><td>202101</td><td>BAJA+2  </td><td>   825</td></tr>\n",
              "\t<tr><td>202101</td><td>CONTINUA</td><td>160080</td></tr>\n",
              "\t<tr><td>202102</td><td>BAJA+1  </td><td>   831</td></tr>\n",
              "\t<tr><td>202102</td><td>BAJA+2  </td><td>  1032</td></tr>\n",
              "\t<tr><td>202102</td><td>CONTINUA</td><td>160292</td></tr>\n",
              "\t<tr><td>202103</td><td>BAJA+1  </td><td>  1039</td></tr>\n",
              "\t<tr><td>202103</td><td>BAJA+2  </td><td>   951</td></tr>\n",
              "\t<tr><td>202103</td><td>CONTINUA</td><td>161119</td></tr>\n",
              "\t<tr><td>202104</td><td>BAJA+1  </td><td>   955</td></tr>\n",
              "\t<tr><td>202104</td><td>BAJA+2  </td><td>  1130</td></tr>\n",
              "\t<tr><td>202104</td><td>CONTINUA</td><td>161333</td></tr>\n",
              "\t<tr><td>202105</td><td>NA      </td><td>162783</td></tr>\n",
              "\t<tr><td>202105</td><td>BAJA+1  </td><td>  1134</td></tr>\n",
              "\t<tr><td>202106</td><td>NA      </td><td>164313</td></tr>\n",
              "</tbody>\n",
              "</table>\n"
            ],
            "text/latex": [
              "A data.table: 15 × 3\n",
              "\\begin{tabular}{lll}\n",
              " foto\\_mes & clase\\_ternaria & N\\\\\n",
              " <int> & <chr> & <int>\\\\\n",
              "\\hline\n",
              "\t 202101 & BAJA+1   &    622\\\\\n",
              "\t 202101 & BAJA+2   &    825\\\\\n",
              "\t 202101 & CONTINUA & 160080\\\\\n",
              "\t 202102 & BAJA+1   &    831\\\\\n",
              "\t 202102 & BAJA+2   &   1032\\\\\n",
              "\t 202102 & CONTINUA & 160292\\\\\n",
              "\t 202103 & BAJA+1   &   1039\\\\\n",
              "\t 202103 & BAJA+2   &    951\\\\\n",
              "\t 202103 & CONTINUA & 161119\\\\\n",
              "\t 202104 & BAJA+1   &    955\\\\\n",
              "\t 202104 & BAJA+2   &   1130\\\\\n",
              "\t 202104 & CONTINUA & 161333\\\\\n",
              "\t 202105 & NA       & 162783\\\\\n",
              "\t 202105 & BAJA+1   &   1134\\\\\n",
              "\t 202106 & NA       & 164313\\\\\n",
              "\\end{tabular}\n"
            ],
            "text/markdown": [
              "\n",
              "A data.table: 15 × 3\n",
              "\n",
              "| foto_mes &lt;int&gt; | clase_ternaria &lt;chr&gt; | N &lt;int&gt; |\n",
              "|---|---|---|\n",
              "| 202101 | BAJA+1   |    622 |\n",
              "| 202101 | BAJA+2   |    825 |\n",
              "| 202101 | CONTINUA | 160080 |\n",
              "| 202102 | BAJA+1   |    831 |\n",
              "| 202102 | BAJA+2   |   1032 |\n",
              "| 202102 | CONTINUA | 160292 |\n",
              "| 202103 | BAJA+1   |   1039 |\n",
              "| 202103 | BAJA+2   |    951 |\n",
              "| 202103 | CONTINUA | 161119 |\n",
              "| 202104 | BAJA+1   |    955 |\n",
              "| 202104 | BAJA+2   |   1130 |\n",
              "| 202104 | CONTINUA | 161333 |\n",
              "| 202105 | NA       | 162783 |\n",
              "| 202105 | BAJA+1   |   1134 |\n",
              "| 202106 | NA       | 164313 |\n",
              "\n"
            ],
            "text/plain": [
              "   foto_mes clase_ternaria N     \n",
              "1  202101   BAJA+1            622\n",
              "2  202101   BAJA+2            825\n",
              "3  202101   CONTINUA       160080\n",
              "4  202102   BAJA+1            831\n",
              "5  202102   BAJA+2           1032\n",
              "6  202102   CONTINUA       160292\n",
              "7  202103   BAJA+1           1039\n",
              "8  202103   BAJA+2            951\n",
              "9  202103   CONTINUA       161119\n",
              "10 202104   BAJA+1            955\n",
              "11 202104   BAJA+2           1130\n",
              "12 202104   CONTINUA       161333\n",
              "13 202105   NA             162783\n",
              "14 202105   BAJA+1           1134\n",
              "15 202106   NA             164313"
            ]
          },
          "metadata": {},
          "output_type": "display_data"
        }
      ],
      "source": [
        "setorder( dataset, foto_mes, clase_ternaria, numero_de_cliente)\n",
        "dataset[, .N, list(foto_mes, clase_ternaria)]"
      ]
    },
    {
      "cell_type": "markdown",
      "metadata": {
        "id": "oSKhZRToy2F7"
      },
      "source": [
        "### 4.04  Random Forest, una corrida"
      ]
    },
    {
      "cell_type": "markdown",
      "metadata": {
        "id": "zvUgQ8s8ReAp"
      },
      "source": [
        "El tiempo de corrida de este punto es de alrededor de 8 minutos"
      ]
    },
    {
      "cell_type": "markdown",
      "metadata": {
        "id": "eSU5vi00CPRS"
      },
      "source": [
        "Esta parte se debe correr con el runtime en lenguaje **R** Ir al menu, Runtime -> Change Runtime Type -> Runtime type -> R"
      ]
    },
    {
      "cell_type": "markdown",
      "metadata": {
        "id": "Zq8dySimCPRT"
      },
      "source": [
        "limpio el ambiente de R"
      ]
    },
    {
      "cell_type": "code",
      "execution_count": 58,
      "metadata": {
        "colab": {
          "base_uri": "https://localhost:8080/",
          "height": 34
        },
        "id": "54xgC6vpObNA",
        "outputId": "8f09398b-4bb8-45e8-ef6b-649eec89989a",
        "vscode": {
          "languageId": "r"
        }
      },
      "outputs": [
        {
          "data": {
            "text/html": [
              "'vie sept 05 22:06:48 2025'"
            ],
            "text/latex": [
              "'vie sept 05 22:06:48 2025'"
            ],
            "text/markdown": [
              "'vie sept 05 22:06:48 2025'"
            ],
            "text/plain": [
              "[1] \"vie sept 05 22:06:48 2025\""
            ]
          },
          "metadata": {},
          "output_type": "display_data"
        }
      ],
      "source": [
        "format(Sys.time(), \"%a %b %d %X %Y\")"
      ]
    },
    {
      "cell_type": "code",
      "execution_count": 79,
      "metadata": {
        "colab": {
          "base_uri": "https://localhost:8080/",
          "height": 129
        },
        "id": "1iE0U4_WCPRT",
        "outputId": "36a59545-f639-4523-8fe8-5fd05de78ba5",
        "vscode": {
          "languageId": "r"
        }
      },
      "outputs": [
        {
          "data": {
            "text/html": [
              "<table class=\"dataframe\">\n",
              "<caption>A matrix: 2 × 6 of type dbl</caption>\n",
              "<thead>\n",
              "\t<tr><th></th><th scope=col>used</th><th scope=col>(Mb)</th><th scope=col>gc trigger</th><th scope=col>(Mb)</th><th scope=col>max used</th><th scope=col>(Mb)</th></tr>\n",
              "</thead>\n",
              "<tbody>\n",
              "\t<tr><th scope=row>Ncells</th><td>2462754</td><td>131.6</td><td>  6935111</td><td>370.4</td><td>  6935111</td><td> 370.4</td></tr>\n",
              "\t<tr><th scope=row>Vcells</th><td>4443344</td><td> 34.0</td><td>109156455</td><td>832.8</td><td>388969928</td><td>2967.7</td></tr>\n",
              "</tbody>\n",
              "</table>\n"
            ],
            "text/latex": [
              "A matrix: 2 × 6 of type dbl\n",
              "\\begin{tabular}{r|llllll}\n",
              "  & used & (Mb) & gc trigger & (Mb) & max used & (Mb)\\\\\n",
              "\\hline\n",
              "\tNcells & 2462754 & 131.6 &   6935111 & 370.4 &   6935111 &  370.4\\\\\n",
              "\tVcells & 4443344 &  34.0 & 109156455 & 832.8 & 388969928 & 2967.7\\\\\n",
              "\\end{tabular}\n"
            ],
            "text/markdown": [
              "\n",
              "A matrix: 2 × 6 of type dbl\n",
              "\n",
              "| <!--/--> | used | (Mb) | gc trigger | (Mb) | max used | (Mb) |\n",
              "|---|---|---|---|---|---|---|\n",
              "| Ncells | 2462754 | 131.6 |   6935111 | 370.4 |   6935111 |  370.4 |\n",
              "| Vcells | 4443344 |  34.0 | 109156455 | 832.8 | 388969928 | 2967.7 |\n",
              "\n"
            ],
            "text/plain": [
              "       used    (Mb)  gc trigger (Mb)  max used  (Mb)  \n",
              "Ncells 2462754 131.6   6935111  370.4   6935111  370.4\n",
              "Vcells 4443344  34.0 109156455  832.8 388969928 2967.7"
            ]
          },
          "metadata": {},
          "output_type": "display_data"
        }
      ],
      "source": [
        "# limpio la memoria\n",
        "rm(list=ls(all.names=TRUE)) # remove all objects\n",
        "gc(full=TRUE, verbose=FALSE) # garbage collection"
      ]
    },
    {
      "cell_type": "markdown",
      "metadata": {
        "id": "vOhrxo_s0lhn"
      },
      "source": [
        "**ranger** es una de las muchas librerías en lenguage R que implementa el algoritmo *Random Forest*, tiene la ventaja que corre el paralelo, utilizando todos los nucleos del procesador."
      ]
    },
    {
      "cell_type": "code",
      "execution_count": null,
      "metadata": {
        "colab": {
          "base_uri": "https://localhost:8080/"
        },
        "id": "BJDwdD0dCPRU",
        "outputId": "de71e246-8000-402c-cfcb-10c240944b0f",
        "vscode": {
          "languageId": "r"
        }
      },
      "outputs": [],
      "source": [
        "# cargo las librerias que necesito\n",
        "if(!require(\"data.table\")) install.packages(\"data.table\")\n",
        "require(\"data.table\")\n",
        "\n",
        "if(!require(\"rpart\")) install.packages(\"rpart\")\n",
        "require(\"rpart\")\n",
        "\n",
        "if(!require(\"R.utils\")) install.packages(\"R.utils\")\n",
        "require(\"R.utils\")\n",
        "\n",
        "# ranger se usa para procesar\n",
        "if( !require(\"ranger\") ) install.packages(\"ranger\")\n",
        "require(\"ranger\")\n",
        "\n",
        "# randomForest  solo se usa para imputar nulos\n",
        "if( !require(\"randomForest\") ) install.packages(\"randomForest\")\n",
        "require(\"randomForest\")"
      ]
    },
    {
      "cell_type": "markdown",
      "metadata": {
        "id": "M8-Pyp6CCPRU"
      },
      "source": [
        "Aqui debe cargar SU semilla primigenia y"
      ]
    },
    {
      "cell_type": "code",
      "execution_count": 96,
      "metadata": {
        "id": "peRH7ySLCPRV",
        "vscode": {
          "languageId": "r"
        }
      },
      "outputs": [],
      "source": [
        "PARAM <- list()\n",
        "PARAM$experimento <- 440\n",
        "PARAM$semilla_primigenia <- 200003\n",
        "\n",
        "# training y future\n",
        "PARAM$train <- c(202102)\n",
        "PARAM$future <- c(202104)\n",
        "\n",
        "PARAM$ranger$num.trees <- 307 # cantidad de arboles\n",
        "PARAM$ranger$mtry <- 14 # cantidad de atributos que participan en cada split\n",
        "PARAM$ranger$min.node.size <- 336 # tamaño minimo de las hojas\n",
        "PARAM$ranger$max.depth <- 17 # 0 significa profundidad infinita\n",
        "\n",
        "PARAM$semilla_kaggle <- 314159"
      ]
    },
    {
      "cell_type": "code",
      "execution_count": 97,
      "metadata": {
        "id": "8fbMViAiCrsX",
        "vscode": {
          "languageId": "r"
        }
      },
      "outputs": [],
      "source": [
        "# particionar agrega una columna llamada fold a un dataset\n",
        "#   que consiste en una particion estratificada segun agrupa\n",
        "# particionar( data=dataset, division=c(70,30),\n",
        "#  agrupa=clase_ternaria, seed=semilla)   crea una particion 70, 30\n",
        "\n",
        "particionar <- function(data, division, agrupa= \"\", campo= \"fold\", start= 1, seed= NA) {\n",
        "  if (!is.na(seed)) set.seed(seed, \"L'Ecuyer-CMRG\")\n",
        "\n",
        "  bloque <- unlist(mapply(\n",
        "    function(x, y) {rep(y, x)},division, seq(from= start, length.out= length(division))))\n",
        "\n",
        "  data[, (campo) := sample(rep(bloque,ceiling(.N / length(bloque))))[1:.N],by= agrupa]\n",
        "}"
      ]
    },
    {
      "cell_type": "code",
      "execution_count": 98,
      "metadata": {
        "id": "PLNaHLusCu4_",
        "vscode": {
          "languageId": "r"
        }
      },
      "outputs": [],
      "source": [
        "# iniciliazo el dataset de realidad, para medir ganancia\n",
        "realidad_inicializar <- function( pfuture, pparam) {\n",
        "\n",
        "  # datos para verificar la ganancia\n",
        "  drealidad <- pfuture[, list(numero_de_cliente, foto_mes, clase_ternaria)]\n",
        "\n",
        "  particionar(drealidad,\n",
        "    division= c(3, 7),\n",
        "    agrupa= \"clase_ternaria\",\n",
        "    seed= PARAM$semilla_kaggle\n",
        "  )\n",
        "\n",
        "  return( drealidad )\n",
        "}"
      ]
    },
    {
      "cell_type": "code",
      "execution_count": 99,
      "metadata": {
        "id": "Jpy5dSXGCxBg",
        "vscode": {
          "languageId": "r"
        }
      },
      "outputs": [],
      "source": [
        "# evaluo ganancia en los datos de la realidad\n",
        "\n",
        "realidad_evaluar <- function( prealidad, pprediccion) {\n",
        "\n",
        "  prealidad[ pprediccion,\n",
        "    on= c(\"numero_de_cliente\", \"foto_mes\"),\n",
        "    predicted:= i.Predicted\n",
        "  ]\n",
        "\n",
        "  tbl <- prealidad[, list(\"qty\"=.N), list(fold, predicted, clase_ternaria)]\n",
        "\n",
        "  res <- list()\n",
        "  res$public  <- tbl[fold==1 & predicted==1L, sum(qty*ifelse(clase_ternaria==\"BAJA+2\", 780000, -20000))]/0.3\n",
        "  res$private <- tbl[fold==2 & predicted==1L, sum(qty*ifelse(clase_ternaria==\"BAJA+2\", 780000, -20000))]/0.7\n",
        "  res$total <- tbl[predicted==1L, sum(qty*ifelse(clase_ternaria==\"BAJA+2\", 780000, -20000))]\n",
        "\n",
        "  prealidad[, predicted:=NULL]\n",
        "  return( res )\n",
        "}"
      ]
    },
    {
      "cell_type": "code",
      "execution_count": 101,
      "metadata": {
        "id": "Xi0emX2ECPRV",
        "vscode": {
          "languageId": "r"
        }
      },
      "outputs": [],
      "source": [
        "# lectura del dataset\n",
        "dataset <- fread(\"./competencia_01.csv.gz\")"
      ]
    },
    {
      "cell_type": "code",
      "execution_count": 102,
      "metadata": {
        "id": "-3XuBeDy1Ugj",
        "vscode": {
          "languageId": "r"
        }
      },
      "outputs": [],
      "source": [
        "#  estas dos lineas estan relacionadas con el Data Drifting\n",
        "# asigno un valor muy negativo\n",
        "\n",
        "if( \"Master_Finiciomora\" %in% colnames(dataset) )\n",
        "  dataset[ is.na(Master_Finiciomora) , Master_Finiciomora := -999 ]\n",
        "\n",
        "if( \"Visa_Finiciomora\" %in% colnames(dataset) )\n",
        "  dataset[ is.na(Visa_Finiciomora) , Visa_Finiciomora :=  -999 ]\n"
      ]
    },
    {
      "cell_type": "code",
      "execution_count": 103,
      "metadata": {
        "id": "OLPLLh2EELL9",
        "vscode": {
          "languageId": "r"
        }
      },
      "outputs": [],
      "source": [
        "# defino los dataset de entrenamiento y aplicacion\n",
        "dtrain <- dataset[foto_mes %in% PARAM$train]"
      ]
    },
    {
      "cell_type": "code",
      "execution_count": 104,
      "metadata": {
        "id": "OoalUdSCEOdT",
        "vscode": {
          "languageId": "r"
        }
      },
      "outputs": [],
      "source": [
        "# mes donde voy a aplicar el modelo\n",
        "dfuture <- dataset[foto_mes %in% PARAM$future]\n",
        "setorder(dfuture, numero_de_cliente, foto_mes)"
      ]
    },
    {
      "cell_type": "code",
      "execution_count": 105,
      "metadata": {
        "id": "ZCiSHvh6EQ7z",
        "vscode": {
          "languageId": "r"
        }
      },
      "outputs": [],
      "source": [
        "# inicilizo el dataset  drealidad\n",
        "drealidad <- realidad_inicializar( dfuture, PARAM)"
      ]
    },
    {
      "cell_type": "code",
      "execution_count": 106,
      "metadata": {
        "id": "aGf53_ibEVpK",
        "vscode": {
          "languageId": "r"
        }
      },
      "outputs": [],
      "source": [
        "# quito clase ternaria de donde voy a aplicar el modelo\n",
        "dfuture[, clase_ternaria:= NULL]"
      ]
    },
    {
      "cell_type": "code",
      "execution_count": 107,
      "metadata": {
        "id": "T6Zr06HB1kMU",
        "vscode": {
          "languageId": "r"
        }
      },
      "outputs": [],
      "source": [
        "set.seed(PARAM$semilla_primigenia,\"L'Ecuyer-CMRG\" ) # Establezco la semilla aleatoria\n",
        "\n",
        "# ranger necesita la clase de tipo factor\n",
        "factorizado <- as.factor(dtrain$clase_ternaria)\n",
        "dtrain[, clase_ternaria := factorizado]"
      ]
    },
    {
      "cell_type": "code",
      "execution_count": 108,
      "metadata": {
        "id": "U2vkkByI1oPl",
        "vscode": {
          "languageId": "r"
        }
      },
      "outputs": [],
      "source": [
        "# Ranger NO acepta valores nulos\n",
        "# Leo Breiman, ¿por que le temias a los nulos?\n",
        "# imputo los nulos, ya que ranger no acepta nulos\n",
        "dtrain <- na.roughfix(dtrain)"
      ]
    },
    {
      "cell_type": "code",
      "execution_count": 109,
      "metadata": {
        "colab": {
          "base_uri": "https://localhost:8080/"
        },
        "id": "TI9_5pii2zCF",
        "outputId": "fe7af429-2a7d-4dab-abb8-76c610d91f25",
        "vscode": {
          "languageId": "r"
        }
      },
      "outputs": [
        {
          "name": "stdout",
          "output_type": "stream",
          "text": [
            "Growing trees.. Progress: 18%. Estimated remaining time: 2 minutes, 25 seconds.\n",
            "Growing trees.. Progress: 36%. Estimated remaining time: 1 minute, 51 seconds.\n",
            "Growing trees.. Progress: 54%. Estimated remaining time: 1 minute, 20 seconds.\n",
            "Growing trees.. Progress: 72%. Estimated remaining time: 48 seconds.\n",
            "Growing trees.. Progress: 90%. Estimated remaining time: 18 seconds.\n"
          ]
        }
      ],
      "source": [
        "setorder(dtrain, clase_ternaria) # primero quedan los BAJA+1, BAJA+2, CONTINUA\n",
        "\n",
        "# genero el modelo de Random Forest llamando a ranger()\n",
        "modelo <- ranger(\n",
        "  formula= \"clase_ternaria ~ .\",\n",
        "  data= dtrain,\n",
        "  probability= TRUE, # para que devuelva las probabilidades\n",
        "  num.trees= PARAM$ranger$num.trees,\n",
        "  mtry= PARAM$ranger$mtry,\n",
        "  min.node.size= PARAM$ranger$min.node.size,\n",
        "  max.depth= PARAM$ranger$max.depth\n",
        ")\n"
      ]
    },
    {
      "cell_type": "code",
      "execution_count": 110,
      "metadata": {
        "id": "xjWjhp9c20fe",
        "vscode": {
          "languageId": "r"
        }
      },
      "outputs": [],
      "source": [
        "# Carpinteria necesaria sobre  dfuture\n",
        "# como quiere la Estadistica Clasica, imputar nulos por separado\n",
        "# ( aunque en este caso ya tengo los datos del futuro de antemano\n",
        "#  pero bueno, sigamos el librito de estos fundamentalistas a rajatabla ...\n",
        "\n",
        "dfuture <- na.roughfix(dfuture)"
      ]
    },
    {
      "cell_type": "code",
      "execution_count": 111,
      "metadata": {
        "id": "iJxk4qsd9kgX",
        "vscode": {
          "languageId": "r"
        }
      },
      "outputs": [],
      "source": [
        "tb_prediccion <- dfuture[, list(numero_de_cliente, foto_mes)]"
      ]
    },
    {
      "cell_type": "code",
      "execution_count": 112,
      "metadata": {
        "id": "kkTGHx2K3Mjq",
        "vscode": {
          "languageId": "r"
        }
      },
      "outputs": [],
      "source": [
        "# aplico el modelo a los datos que no tienen clase\n",
        "# aplico el modelo recien creado a los datos del futuro\n",
        "prediccion <- predict(modelo, dfuture)\n",
        "\n",
        "tb_prediccion[, prob := prediccion$predictions[, \"BAJA+2\"] ]"
      ]
    },
    {
      "cell_type": "code",
      "execution_count": 113,
      "metadata": {
        "id": "F8O_PLWo3aIQ",
        "vscode": {
          "languageId": "r"
        }
      },
      "outputs": [],
      "source": [
        "tb_prediccion[, Predicted := as.numeric(prob > (1/40))]"
      ]
    },
    {
      "cell_type": "code",
      "execution_count": 114,
      "metadata": {
        "id": "zfcTOGEcHi2m",
        "vscode": {
          "languageId": "r"
        }
      },
      "outputs": [],
      "source": [
        "res <- realidad_evaluar( drealidad, tb_prediccion)"
      ]
    },
    {
      "cell_type": "code",
      "execution_count": 115,
      "metadata": {
        "colab": {
          "base_uri": "https://localhost:8080/"
        },
        "id": "uZLUbDIJ3tbx",
        "outputId": "8731a9aa-ced2-4f72-bf5f-9603eccc357d",
        "vscode": {
          "languageId": "r"
        }
      },
      "outputs": [
        {
          "name": "stdout",
          "output_type": "stream",
          "text": [
            " TOTAL=299720000 Public=275933333 Private=309914286\n"
          ]
        }
      ],
      "source": [
        "cat( \" TOTAL=\", res$total,\n",
        "  \" Public=\", res$public,\n",
        "  \" Private=\", res$private,\n",
        "  \"\\n\",\n",
        "  sep= \"\"\n",
        ")"
      ]
    },
    {
      "cell_type": "code",
      "execution_count": 116,
      "metadata": {
        "id": "CeCMEUCWOpLF",
        "vscode": {
          "languageId": "r"
        }
      },
      "outputs": [
        {
          "data": {
            "text/html": [
              "'vie sept 05 22:22:28 2025'"
            ],
            "text/latex": [
              "'vie sept 05 22:22:28 2025'"
            ],
            "text/markdown": [
              "'vie sept 05 22:22:28 2025'"
            ],
            "text/plain": [
              "[1] \"vie sept 05 22:22:28 2025\""
            ]
          },
          "metadata": {},
          "output_type": "display_data"
        }
      ],
      "source": [
        "format(Sys.time(), \"%a %b %d %X %Y\")"
      ]
    },
    {
      "cell_type": "markdown",
      "metadata": {
        "id": "nltXA6C9ILbo"
      },
      "source": [
        "Reportar el resultado  TOTAL en la hoja C4-Random Forest de la planilla colaborativa"
      ]
    },
    {
      "cell_type": "markdown",
      "metadata": {
        "id": "stVlmYbCcJtd"
      },
      "source": [
        "Usted NO reportará la ganancia del Public ni tampoco la del Private, por ahora es simplemente para que perciba la variabilidad existente y comience a tener plena conciencia de los fenómenos que observó en la asignatura  Data Mining del cuatrimestre anterior."
      ]
    },
    {
      "cell_type": "markdown",
      "metadata": {
        "id": "UMr6Z1enOyd3"
      },
      "source": [
        "\n",
        "\n",
        "---\n",
        "\n"
      ]
    },
    {
      "cell_type": "markdown",
      "metadata": {
        "id": "lO4QwOEU-xPe"
      },
      "source": [
        "### 4.05  Random Forest  optimizacion de hiperparámetros"
      ]
    },
    {
      "cell_type": "markdown",
      "metadata": {
        "id": "75FU3LjSF2uN"
      },
      "source": [
        "Random Forest es un algoritmo que quedó obsoleto luego de la aparición de  XGBoost y LightGBM, debido a lo lento de las librerías que lo implementan.\n",
        "<br> El siguiente script se brinda simplemente a modo pedagógico, advirtiendo a l@s alumn@s que demanda más de 24 horas para correr, y los resultados no son brillantes."
      ]
    },
    {
      "cell_type": "markdown",
      "metadata": {
        "id": "aJBO5Dcb_B7s"
      },
      "source": [
        "limpio el ambiente de R"
      ]
    },
    {
      "cell_type": "code",
      "execution_count": 17,
      "metadata": {
        "colab": {
          "base_uri": "https://localhost:8080/",
          "height": 34
        },
        "id": "Q_E3YLs2Pulh",
        "outputId": "b8401b1e-fb7b-45aa-a0f9-ca1a2f600382",
        "vscode": {
          "languageId": "r"
        }
      },
      "outputs": [
        {
          "data": {
            "text/html": [
              "'vie sept 05 10:43:17 2025'"
            ],
            "text/latex": [
              "'vie sept 05 10:43:17 2025'"
            ],
            "text/markdown": [
              "'vie sept 05 10:43:17 2025'"
            ],
            "text/plain": [
              "[1] \"vie sept 05 10:43:17 2025\""
            ]
          },
          "metadata": {},
          "output_type": "display_data"
        }
      ],
      "source": [
        "format(Sys.time(), \"%a %b %d %X %Y\")"
      ]
    },
    {
      "cell_type": "code",
      "execution_count": 18,
      "metadata": {
        "colab": {
          "base_uri": "https://localhost:8080/",
          "height": 129
        },
        "id": "HPKFI6yP_B7s",
        "outputId": "276f84a9-c499-462d-e7a1-04905d6127aa",
        "vscode": {
          "languageId": "r"
        }
      },
      "outputs": [
        {
          "data": {
            "text/html": [
              "<table class=\"dataframe\">\n",
              "<caption>A matrix: 2 × 6 of type dbl</caption>\n",
              "<thead>\n",
              "\t<tr><th></th><th scope=col>used</th><th scope=col>(Mb)</th><th scope=col>gc trigger</th><th scope=col>(Mb)</th><th scope=col>max used</th><th scope=col>(Mb)</th></tr>\n",
              "</thead>\n",
              "<tbody>\n",
              "\t<tr><th scope=row>Ncells</th><td>2132210</td><td>113.9</td><td>4164375</td><td>222.5</td><td>2968170</td><td>158.6</td></tr>\n",
              "\t<tr><th scope=row>Vcells</th><td>3784812</td><td> 28.9</td><td>8388608</td><td> 64.0</td><td>8386173</td><td> 64.0</td></tr>\n",
              "</tbody>\n",
              "</table>\n"
            ],
            "text/latex": [
              "A matrix: 2 × 6 of type dbl\n",
              "\\begin{tabular}{r|llllll}\n",
              "  & used & (Mb) & gc trigger & (Mb) & max used & (Mb)\\\\\n",
              "\\hline\n",
              "\tNcells & 2132210 & 113.9 & 4164375 & 222.5 & 2968170 & 158.6\\\\\n",
              "\tVcells & 3784812 &  28.9 & 8388608 &  64.0 & 8386173 &  64.0\\\\\n",
              "\\end{tabular}\n"
            ],
            "text/markdown": [
              "\n",
              "A matrix: 2 × 6 of type dbl\n",
              "\n",
              "| <!--/--> | used | (Mb) | gc trigger | (Mb) | max used | (Mb) |\n",
              "|---|---|---|---|---|---|---|\n",
              "| Ncells | 2132210 | 113.9 | 4164375 | 222.5 | 2968170 | 158.6 |\n",
              "| Vcells | 3784812 |  28.9 | 8388608 |  64.0 | 8386173 |  64.0 |\n",
              "\n"
            ],
            "text/plain": [
              "       used    (Mb)  gc trigger (Mb)  max used (Mb) \n",
              "Ncells 2132210 113.9 4164375    222.5 2968170  158.6\n",
              "Vcells 3784812  28.9 8388608     64.0 8386173   64.0"
            ]
          },
          "metadata": {},
          "output_type": "display_data"
        }
      ],
      "source": [
        "# limpio la memoria\n",
        "rm(list=ls(all.names=TRUE)) # remove all objects\n",
        "gc(full=TRUE, verbose=FALSE) # garbage collection"
      ]
    },
    {
      "cell_type": "markdown",
      "metadata": {
        "id": "vd4lv_Eb_B7t"
      },
      "source": [
        "**ranger** es una de las muchas librerías en lenguage R que implementa el algoritmo *Random Forest*, tiene la ventaja que corre el paralelo, utilizando todos los nucleos del procesador."
      ]
    },
    {
      "cell_type": "code",
      "execution_count": null,
      "metadata": {
        "colab": {
          "base_uri": "https://localhost:8080/"
        },
        "id": "B6X8U6XF_B7t",
        "outputId": "4793776a-a6d3-4a48-d0ea-d265328ca7e7",
        "vscode": {
          "languageId": "r"
        }
      },
      "outputs": [],
      "source": [
        "# cargo las librerias que necesito\n",
        "if(!require(\"data.table\")) install.packages(\"data.table\")\n",
        "require(\"data.table\")\n",
        "\n",
        "if(!require(\"rpart\")) install.packages(\"rpart\")\n",
        "require(\"rpart\")\n",
        "\n",
        "if(!require(\"parallel\")) install.packages(\"parallel\")\n",
        "require(\"parallel\")\n",
        "\n",
        "if(!require(\"R.utils\")) install.packages(\"R.utils\")\n",
        "require(\"R.utils\")\n",
        "\n",
        "if( !require(\"primes\") ) install.packages(\"primes\")\n",
        "require(\"primes\")\n",
        "\n",
        "if( !require(\"rlist\") ) install.packages(\"rlist\")\n",
        "require(\"rlist\")\n",
        "\n",
        "# ranger se usa para procesar\n",
        "if( !require(\"ranger\") ) install.packages(\"ranger\")\n",
        "require(\"ranger\")\n",
        "\n",
        "# randomForest  solo se usa para imputar nulos\n",
        "if( !require(\"randomForest\") ) install.packages(\"randomForest\")\n",
        "require(\"randomForest\")\n",
        "\n",
        "\n",
        "if( !require(\"DiceKriging\") ) install.packages(\"DiceKriging\")\n",
        "require(\"DiceKriging\")\n",
        "\n",
        "if( !require(\"mlrMBO\") ) install.packages(\"mlrMBO\")\n",
        "require(\"mlrMBO\")\n"
      ]
    },
    {
      "cell_type": "markdown",
      "metadata": {
        "id": "_qZHeAHdCJQ2"
      },
      "source": [
        "Aqui debe cargar SU semilla primigenia y"
      ]
    },
    {
      "cell_type": "code",
      "execution_count": 20,
      "metadata": {
        "id": "2y3Ai8F6CJQ2",
        "vscode": {
          "languageId": "r"
        }
      },
      "outputs": [],
      "source": [
        "PARAM <- list()\n",
        "PARAM$experimento <- 450\n",
        "PARAM$semilla_primigenia <- 200003\n",
        "\n",
        "PARAM$hyperparametertuning$iteraciones <- 40\n",
        "PARAM$hyperparametertuning$xval_folds <- 5\n",
        "PARAM$hyperparametertuning$POS_ganancia <- 780000\n",
        "PARAM$hyperparametertuning$NEG_ganancia <- -20000\n",
        "\n",
        "# Estructura que define los hiperparámetros y sus rangos\n",
        "#  la letra L al final significa ENTERO\n",
        "# max.depth 0 significa profundidad infinita\n",
        "PARAM$hyperparametertuning$hs <- makeParamSet(\n",
        "  makeIntegerParam(\"num.trees\", lower= 20L, upper= 500L),\n",
        "  makeIntegerParam(\"max.depth\", lower= 1L, upper= 30L),\n",
        "  makeIntegerParam(\"min.node.size\", lower= 1L, upper= 1000L),\n",
        "  makeIntegerParam(\"mtry\", lower= 2L, upper= 50L)\n",
        ")\n",
        "\n",
        "# training\n",
        "PARAM$train <- c(202102)"
      ]
    },
    {
      "cell_type": "code",
      "execution_count": 21,
      "metadata": {
        "id": "P8YNRVVbCvQT",
        "vscode": {
          "languageId": "r"
        }
      },
      "outputs": [],
      "source": [
        "# graba a un archivo los componentes de lista\n",
        "# para el primer registro, escribe antes los titulos\n",
        "\n",
        "loguear <- function(\n",
        "    reg, arch= NA, folder= \"./\",\n",
        "    ext= \".txt\", verbose= TRUE) {\n",
        "\n",
        "  archivo <- arch\n",
        "  if (is.na(arch)) archivo <- paste0(folder, substitute(reg), ext)\n",
        "\n",
        "  if (!file.exists(archivo)) # Escribo los titulos\n",
        "    {\n",
        "      linea <- paste0(\n",
        "        \"fecha\\t\",\n",
        "        paste(list.names(reg), collapse= \"\\t\"), \"\\n\"\n",
        "      )\n",
        "\n",
        "      cat(linea, file= archivo)\n",
        "    }\n",
        "\n",
        "  linea <- paste0(\n",
        "    format(Sys.time(), \"%Y%m%d %H%M%S\"), \"\\t\", # la fecha y hora\n",
        "    gsub(\", \", \"\\t\", toString(reg)), \"\\n\"\n",
        "  )\n",
        "\n",
        "  cat(linea, file= archivo, append= TRUE) # grabo al archivo\n",
        "\n",
        "  if (verbose) cat(linea) # imprimo por pantalla\n",
        "}\n"
      ]
    },
    {
      "cell_type": "code",
      "execution_count": 22,
      "metadata": {
        "id": "NnPKiCHuCwVo",
        "vscode": {
          "languageId": "r"
        }
      },
      "outputs": [],
      "source": [
        "# particionar agrega una columna llamada fold a un dataset\n",
        "#  que consiste en una particion estratificada segun agrupa\n",
        "# particionar( data=dataset, division=c(70,30),\n",
        "#  agrupa=clase_ternaria, seed=semilla)   crea una particion 70, 30\n",
        "# particionar( data=dataset, division=c(1,1,1,1,1),\n",
        "#   agrupa=clase_ternaria, seed=semilla)   divide el dataset en 5 particiones\n",
        "\n",
        "particionar <- function(\n",
        "    data, division, agrupa= \"\",\n",
        "    campo= \"fold\", start= 1, seed= NA) {\n",
        "\n",
        "  if (!is.na(seed)) set.seed(seed)\n",
        "\n",
        "  bloque <- unlist(mapply(function(x, y) {\n",
        "    rep(y, x)\n",
        "  }, division, seq(from= start, length.out= length(division))))\n",
        "\n",
        "  data[, (campo) := sample(rep(bloque, ceiling(.N / length(bloque))))[1:.N],\n",
        "    by= agrupa\n",
        "  ]\n",
        "}\n"
      ]
    },
    {
      "cell_type": "code",
      "execution_count": 23,
      "metadata": {
        "id": "kZSD7pUUCy58",
        "vscode": {
          "languageId": "r"
        }
      },
      "outputs": [],
      "source": [
        "# es un paso del Cross Validation\n",
        "# utiliza el fold  fold_test para testear y el resto para entrenar\n",
        "\n",
        "ranger_Simple <- function(fold_test, pdata, param) {\n",
        "  # genero el modelo\n",
        "\n",
        "  set.seed(PARAM$semillas[2])\n",
        "\n",
        "  modelo <- ranger(\n",
        "    formula= \"clase_binaria ~ .\",\n",
        "    data= pdata[fold != fold_test],\n",
        "    probability= TRUE, # para que devuelva las probabilidades\n",
        "    num.trees= param$num.trees,\n",
        "    mtry= param$mtry,\n",
        "    min.node.size= param$min.node.size,\n",
        "    max.depth= param$max.depth\n",
        "  )\n",
        "\n",
        "  prediccion <- predict(modelo, pdata[fold == fold_test])\n",
        "\n",
        "  ganancia_testing <- pdata[\n",
        "    fold == fold_test,\n",
        "    sum((prediccion$predictions[, \"POS\"] > 1 / 40) *\n",
        "      ifelse(clase_binaria == \"POS\",\n",
        "        PARAM$hyperparametertuning$POS_ganancia,\n",
        "        PARAM$hyperparametertuning$NEG_ganancia\n",
        "      ))\n",
        "  ]\n",
        "\n",
        "  return(ganancia_testing)\n",
        "}\n"
      ]
    },
    {
      "cell_type": "code",
      "execution_count": 24,
      "metadata": {
        "id": "ca7cVnUJC2Yz",
        "vscode": {
          "languageId": "r"
        }
      },
      "outputs": [],
      "source": [
        "# realiza Cross Validation, promediando las ganancias de los folds de testing\n",
        "\n",
        "ranger_CrossValidation <- function(\n",
        "    data, param,\n",
        "    pcampos_buenos, qfolds, pagrupa, semilla) {\n",
        "\n",
        "  divi <- rep(1, qfolds)\n",
        "  particionar(data, divi, seed= semilla, agrupa= pagrupa)\n",
        "\n",
        "  ganancias <- mcmapply(ranger_Simple,\n",
        "    seq(qfolds), # 1 2 3 4 5\n",
        "    MoreArgs= list(data, param),\n",
        "    SIMPLIFY= FALSE,\n",
        "    mc.cores= 1\n",
        "  ) # dejar esto en  1, porque ranger ya corre en paralelo\n",
        "\n",
        "  data[, fold := NULL] # elimino el campo fold\n",
        "\n",
        "  # devuelvo la ganancia promedio normalizada\n",
        "  ganancia_promedio <- mean(unlist(ganancias))\n",
        "  ganancia_promedio_normalizada <- ganancia_promedio * qfolds\n",
        "\n",
        "  return(ganancia_promedio_normalizada)\n",
        "}"
      ]
    },
    {
      "cell_type": "code",
      "execution_count": 25,
      "metadata": {
        "id": "ZXNGJGOiC5lT",
        "vscode": {
          "languageId": "r"
        }
      },
      "outputs": [],
      "source": [
        "# esta funcion solo puede recibir los parametros que se estan optimizando\n",
        "# el resto de los parametros se pasan como variables globales\n",
        "\n",
        "EstimarGanancia_ranger <- function(x) {\n",
        "  GLOBAL_iteracion <<- GLOBAL_iteracion + 1\n",
        "\n",
        "  xval_folds <- PARAM$hyperparametertuning$xval_folds\n",
        "\n",
        "  ganancia <- ranger_CrossValidation(dataset,\n",
        "    param= x,\n",
        "    qfolds= xval_folds,\n",
        "    pagrupa= \"clase_binaria\",\n",
        "    semilla= PARAM$semillas[1]\n",
        "  )\n",
        "\n",
        "  # logueo\n",
        "  xx <- x\n",
        "  xx$xval_folds <- xval_folds\n",
        "  xx$ganancia <- ganancia\n",
        "  xx$iteracion <- GLOBAL_iteracion\n",
        "  loguear(xx, arch= klog)\n",
        "\n",
        "  # si es ganancia superadora la almaceno en mejor\n",
        "  if( ganancia > GLOBAL_mejor ) {\n",
        "    GLOBAL_mejor <<- ganancia\n",
        "    loguear(xx, arch= klog_mejor)\n",
        "  }\n",
        "\n",
        "\n",
        "  return(ganancia)\n",
        "}\n"
      ]
    },
    {
      "cell_type": "markdown",
      "metadata": {
        "id": "P7Pw1KLeE3UH"
      },
      "source": [
        "aqui se inicia el programa"
      ]
    },
    {
      "cell_type": "code",
      "execution_count": 26,
      "metadata": {
        "id": "fbLF3Vr0DAeJ",
        "vscode": {
          "languageId": "r"
        }
      },
      "outputs": [],
      "source": [
        "# genero numeros primos\n",
        "primos <- generate_primes(min= 100000, max= 1000000)\n",
        "set.seed(PARAM$semilla_primigenia) # inicializo\n",
        "# me quedo con PARAM$qsemillas   semillas\n",
        "PARAM$semillas <- sample(primos, 2 )"
      ]
    },
    {
      "cell_type": "code",
      "execution_count": null,
      "metadata": {
        "id": "xcOJpoFvCJQ3",
        "vscode": {
          "languageId": "r"
        }
      },
      "outputs": [],
      "source": [
        "# lectura del dataset\n",
        "dataset <- fread(\"../competencia_01.csv.gz\")"
      ]
    },
    {
      "cell_type": "code",
      "execution_count": 28,
      "metadata": {
        "id": "JorOk_A8EhSy",
        "vscode": {
          "languageId": "r"
        }
      },
      "outputs": [],
      "source": [
        "# solo trabajo con  training\n",
        "dataset <- dataset[foto_mes %in% PARAM$train ]"
      ]
    },
    {
      "cell_type": "code",
      "execution_count": 29,
      "metadata": {
        "id": "lVbXD_l7CJQ4",
        "vscode": {
          "languageId": "r"
        }
      },
      "outputs": [],
      "source": [
        "#  estas dos lineas estan relacionadas con el Data Drifting\n",
        "# asigno un valor muy negativo\n",
        "\n",
        "if( \"Master_Finiciomora\" %in% colnames(dataset) )\n",
        "  dataset[ is.na(Master_Finiciomora) , Master_Finiciomora := -999 ]\n",
        "\n",
        "if( \"Visa_Finiciomora\" %in% colnames(dataset) )\n",
        "  dataset[ is.na(Visa_Finiciomora) , Visa_Finiciomora :=  -999 ]\n"
      ]
    },
    {
      "cell_type": "code",
      "execution_count": 30,
      "metadata": {
        "id": "a82SxgKnCJQ5",
        "vscode": {
          "languageId": "r"
        }
      },
      "outputs": [],
      "source": [
        "set.seed(PARAM$semilla_primigenia,\"L'Ecuyer-CMRG\" ) # Establezco la semilla aleatoria"
      ]
    },
    {
      "cell_type": "code",
      "execution_count": 31,
      "metadata": {
        "id": "CsRYGGeN-1ID",
        "vscode": {
          "languageId": "r"
        }
      },
      "outputs": [],
      "source": [
        "# en estos archivos quedan los resultados\n",
        "kbayesiana <- paste0(\"HT\", PARAM$experimento, \".RDATA\")\n",
        "klog <- paste0(\"HT\", PARAM$experimento, \".txt\")\n",
        "klog_mejor <- paste0(\"HT\", PARAM$experimento, \"_mejor.txt\")\n",
        "\n",
        "GLOBAL_iteracion <- 0 # inicializo la variable global\n",
        "GLOBAL_mejor <- -Inf\n",
        "\n",
        "# si ya existe el archivo log, traigo hasta donde llegue\n",
        "if (file.exists(klog)) {\n",
        "  tabla_log <- fread(klog)\n",
        "  GLOBAL_iteracion <- nrow(tabla_log)\n",
        "}\n"
      ]
    },
    {
      "cell_type": "code",
      "execution_count": 32,
      "metadata": {
        "id": "7G7O-ak-DPPV",
        "vscode": {
          "languageId": "r"
        }
      },
      "outputs": [],
      "source": [
        "# paso a trabajar con clase binaria POS={BAJA+2}   NEG={BAJA+1, CONTINUA}\n",
        "dataset[, clase_binaria :=\n",
        "  as.factor(ifelse(clase_ternaria == \"BAJA+2\", \"POS\", \"NEG\"))]\n",
        "\n",
        "dataset[, clase_ternaria := NULL] # elimino la clase_ternaria, ya no la necesito\n"
      ]
    },
    {
      "cell_type": "code",
      "execution_count": 33,
      "metadata": {
        "id": "tJCnOoiuDV1_",
        "vscode": {
          "languageId": "r"
        }
      },
      "outputs": [],
      "source": [
        "# Ranger NO acepta valores nulos\n",
        "# Leo Breiman, ¿por que le temias a los nulos?\n",
        "# imputo los nulos, ya que ranger no acepta nulos\n",
        "\n",
        "dataset <- na.roughfix(dataset)"
      ]
    },
    {
      "cell_type": "code",
      "execution_count": 34,
      "metadata": {
        "id": "2SOVysbADy9F",
        "vscode": {
          "languageId": "r"
        }
      },
      "outputs": [],
      "source": [
        "# Aqui comienza la configuracion de la Bayesian Optimization\n",
        "\n",
        "configureMlr(show.learner.output = FALSE)\n",
        "\n",
        "funcion_optimizar <- EstimarGanancia_ranger\n",
        "\n",
        "# configuro la busqueda bayesiana,  los hiperparametros que se van a optimizar\n",
        "# por favor, no desesperarse por lo complejo\n",
        "obj.fun <- makeSingleObjectiveFunction(\n",
        "  fn= funcion_optimizar,\n",
        "  minimize= FALSE, # estoy Maximizando la ganancia\n",
        "  noisy= TRUE,\n",
        "  par.set= PARAM$hyperparametertuning$hs,\n",
        "  has.simple.signature= FALSE\n",
        ")\n",
        "\n",
        "ctrl <- makeMBOControl(save.on.disk.at.time= 600, save.file.path= kbayesiana)\n",
        "\n",
        "ctrl <- setMBOControlTermination(\n",
        "  ctrl,\n",
        "  iters= PARAM$hyperparametertuning$iteraciones\n",
        ")\n",
        "\n",
        "ctrl <- setMBOControlInfill(ctrl, crit= makeMBOInfillCritEI())\n",
        "\n",
        "surr.km <- makeLearner(\n",
        "  \"regr.km\",\n",
        "  predict.type= \"se\",\n",
        "  covtype= \"matern3_2\",\n",
        "  control= list(trace= TRUE)\n",
        ")\n"
      ]
    },
    {
      "cell_type": "code",
      "execution_count": 35,
      "metadata": {
        "colab": {
          "base_uri": "https://localhost:8080/"
        },
        "id": "TissqCCHD1uZ",
        "outputId": "2f3acc69-e88b-4d74-a731-e26ed4f20432",
        "vscode": {
          "languageId": "r"
        }
      },
      "outputs": [
        {
          "name": "stderr",
          "output_type": "stream",
          "text": [
            "Computing y column(s) for design. Not provided.\n",
            "\n"
          ]
        },
        {
          "name": "stdout",
          "output_type": "stream",
          "text": [
            "Growing trees.. Progress: 17%. Estimated remaining time: 2 minutes, 34 seconds.\n",
            "Growing trees.. Progress: 34%. Estimated remaining time: 2 minutes, 2 seconds.\n",
            "Growing trees.. Progress: 52%. Estimated remaining time: 1 minute, 29 seconds.\n",
            "Growing trees.. Progress: 69%. Estimated remaining time: 55 seconds.\n",
            "Growing trees.. Progress: 87%. Estimated remaining time: 23 seconds.\n",
            "Growing trees.. Progress: 18%. Estimated remaining time: 2 minutes, 19 seconds.\n",
            "Growing trees.. Progress: 37%. Estimated remaining time: 1 minute, 48 seconds.\n",
            "Growing trees.. Progress: 55%. Estimated remaining time: 1 minute, 17 seconds.\n",
            "Growing trees.. Progress: 73%. Estimated remaining time: 45 seconds.\n",
            "Growing trees.. Progress: 91%. Estimated remaining time: 15 seconds.\n",
            "Growing trees.. Progress: 18%. Estimated remaining time: 2 minutes, 24 seconds.\n",
            "Growing trees.. Progress: 36%. Estimated remaining time: 1 minute, 50 seconds.\n",
            "Growing trees.. Progress: 54%. Estimated remaining time: 1 minute, 21 seconds.\n",
            "Growing trees.. Progress: 72%. Estimated remaining time: 49 seconds.\n",
            "Growing trees.. Progress: 89%. Estimated remaining time: 18 seconds.\n",
            "Growing trees.. Progress: 17%. Estimated remaining time: 2 minutes, 29 seconds.\n",
            "Growing trees.. Progress: 34%. Estimated remaining time: 1 minute, 58 seconds.\n",
            "Growing trees.. Progress: 52%. Estimated remaining time: 1 minute, 26 seconds.\n",
            "Growing trees.. Progress: 69%. Estimated remaining time: 55 seconds.\n",
            "Growing trees.. Progress: 87%. Estimated remaining time: 24 seconds.\n",
            "Growing trees.. Progress: 17%. Estimated remaining time: 2 minutes, 33 seconds.\n",
            "Growing trees.. Progress: 35%. Estimated remaining time: 1 minute, 57 seconds.\n",
            "Growing trees.. Progress: 52%. Estimated remaining time: 1 minute, 26 seconds.\n",
            "Growing trees.. Progress: 70%. Estimated remaining time: 52 seconds.\n",
            "Growing trees.. Progress: 88%. Estimated remaining time: 20 seconds.\n",
            "20250905 105932\t215\t15\t421\t36\t5\t231520000\t1\n",
            "20250905 105932\t215\t15\t421\t36\t5\t231520000\t1\n",
            "Growing trees.. Progress: 14%. Estimated remaining time: 3 minutes, 14 seconds.\n",
            "Growing trees.. Progress: 28%. Estimated remaining time: 2 minutes, 42 seconds.\n",
            "Growing trees.. Progress: 42%. Estimated remaining time: 2 minutes, 10 seconds.\n",
            "Growing trees.. Progress: 55%. Estimated remaining time: 1 minute, 41 seconds.\n",
            "Growing trees.. Progress: 70%. Estimated remaining time: 1 minute, 8 seconds.\n",
            "Growing trees.. Progress: 83%. Estimated remaining time: 37 seconds.\n",
            "Growing trees.. Progress: 98%. Estimated remaining time: 5 seconds.\n",
            "Growing trees.. Progress: 13%. Estimated remaining time: 3 minutes, 28 seconds.\n",
            "Growing trees.. Progress: 26%. Estimated remaining time: 2 minutes, 57 seconds.\n",
            "Growing trees.. Progress: 39%. Estimated remaining time: 2 minutes, 26 seconds.\n",
            "Growing trees.. Progress: 52%. Estimated remaining time: 1 minute, 56 seconds.\n",
            "Growing trees.. Progress: 65%. Estimated remaining time: 1 minute, 24 seconds.\n",
            "Growing trees.. Progress: 77%. Estimated remaining time: 55 seconds.\n",
            "Growing trees.. Progress: 90%. Estimated remaining time: 23 seconds.\n",
            "Growing trees.. Progress: 13%. Estimated remaining time: 3 minutes, 21 seconds.\n",
            "Growing trees.. Progress: 27%. Estimated remaining time: 2 minutes, 46 seconds.\n",
            "Growing trees.. Progress: 40%. Estimated remaining time: 2 minutes, 18 seconds.\n",
            "Growing trees.. Progress: 54%. Estimated remaining time: 1 minute, 46 seconds.\n",
            "Growing trees.. Progress: 68%. Estimated remaining time: 1 minute, 13 seconds.\n",
            "Growing trees.. Progress: 83%. Estimated remaining time: 39 seconds.\n",
            "Growing trees.. Progress: 97%. Estimated remaining time: 7 seconds.\n",
            "Growing trees.. Progress: 14%. Estimated remaining time: 3 minutes, 7 seconds.\n",
            "Growing trees.. Progress: 29%. Estimated remaining time: 2 minutes, 36 seconds.\n",
            "Growing trees.. Progress: 43%. Estimated remaining time: 2 minutes, 4 seconds.\n",
            "Growing trees.. Progress: 57%. Estimated remaining time: 1 minute, 33 seconds.\n",
            "Growing trees.. Progress: 71%. Estimated remaining time: 1 minute, 3 seconds.\n",
            "Growing trees.. Progress: 86%. Estimated remaining time: 31 seconds.\n",
            "Growing trees.. Progress: 100%. Estimated remaining time: 0 seconds.\n",
            "Growing trees.. Progress: 13%. Estimated remaining time: 3 minutes, 28 seconds.\n",
            "Growing trees.. Progress: 26%. Estimated remaining time: 2 minutes, 57 seconds.\n",
            "Growing trees.. Progress: 38%. Estimated remaining time: 2 minutes, 28 seconds.\n",
            "Growing trees.. Progress: 51%. Estimated remaining time: 2 minutes, 0 seconds.\n",
            "Growing trees.. Progress: 64%. Estimated remaining time: 1 minute, 30 seconds.\n",
            "Growing trees.. Progress: 76%. Estimated remaining time: 59 seconds.\n",
            "Growing trees.. Progress: 89%. Estimated remaining time: 28 seconds.\n",
            "20250905 111930\t247\t19\t279\t35\t5\t223600000\t2\n",
            "Growing trees.. Progress: 40%. Estimated remaining time: 47 seconds.\n",
            "Growing trees.. Progress: 80%. Estimated remaining time: 15 seconds.\n",
            "Growing trees.. Progress: 41%. Estimated remaining time: 44 seconds.\n",
            "Growing trees.. Progress: 81%. Estimated remaining time: 14 seconds.\n",
            "Growing trees.. Progress: 39%. Estimated remaining time: 48 seconds.\n",
            "Growing trees.. Progress: 79%. Estimated remaining time: 16 seconds.\n",
            "Growing trees.. Progress: 43%. Estimated remaining time: 41 seconds.\n",
            "Growing trees.. Progress: 86%. Estimated remaining time: 10 seconds.\n",
            "Growing trees.. Progress: 43%. Estimated remaining time: 41 seconds.\n",
            "Growing trees.. Progress: 85%. Estimated remaining time: 10 seconds.\n",
            "20250905 112629\t355\t26\t575\t8\t5\t245060000\t3\n",
            "20250905 112629\t355\t26\t575\t8\t5\t245060000\t3\n",
            "Growing trees.. Progress: 16%. Estimated remaining time: 2 minutes, 45 seconds.\n",
            "Growing trees.. Progress: 32%. Estimated remaining time: 2 minutes, 12 seconds.\n",
            "Growing trees.. Progress: 48%. Estimated remaining time: 1 minute, 39 seconds.\n",
            "Growing trees.. Progress: 65%. Estimated remaining time: 1 minute, 7 seconds.\n",
            "Growing trees.. Progress: 81%. Estimated remaining time: 35 seconds.\n",
            "Growing trees.. Progress: 98%. Estimated remaining time: 4 seconds.\n",
            "Growing trees.. Progress: 17%. Estimated remaining time: 2 minutes, 27 seconds.\n",
            "Growing trees.. Progress: 35%. Estimated remaining time: 1 minute, 56 seconds.\n",
            "Growing trees.. Progress: 52%. Estimated remaining time: 1 minute, 27 seconds.\n",
            "Growing trees.. Progress: 68%. Estimated remaining time: 57 seconds.\n",
            "Growing trees.. Progress: 85%. Estimated remaining time: 27 seconds.\n",
            "Growing trees.. Progress: 17%. Estimated remaining time: 2 minutes, 31 seconds.\n",
            "Growing trees.. Progress: 34%. Estimated remaining time: 2 minutes, 0 seconds.\n",
            "Growing trees.. Progress: 51%. Estimated remaining time: 1 minute, 29 seconds.\n",
            "Growing trees.. Progress: 68%. Estimated remaining time: 57 seconds.\n",
            "Growing trees.. Progress: 86%. Estimated remaining time: 26 seconds.\n",
            "Growing trees.. Progress: 16%. Estimated remaining time: 2 minutes, 41 seconds.\n",
            "Growing trees.. Progress: 32%. Estimated remaining time: 2 minutes, 10 seconds.\n",
            "Growing trees.. Progress: 48%. Estimated remaining time: 1 minute, 39 seconds.\n",
            "Growing trees.. Progress: 64%. Estimated remaining time: 1 minute, 8 seconds.\n",
            "Growing trees.. Progress: 81%. Estimated remaining time: 36 seconds.\n",
            "Growing trees.. Progress: 98%. Estimated remaining time: 3 seconds.\n",
            "Growing trees.. Progress: 17%. Estimated remaining time: 2 minutes, 34 seconds.\n",
            "Growing trees.. Progress: 33%. Estimated remaining time: 2 minutes, 5 seconds.\n",
            "Growing trees.. Progress: 50%. Estimated remaining time: 1 minute, 34 seconds.\n",
            "Growing trees.. Progress: 66%. Estimated remaining time: 1 minute, 3 seconds.\n",
            "Growing trees.. Progress: 83%. Estimated remaining time: 31 seconds.\n",
            "Growing trees.. Progress: 99%. Estimated remaining time: 1 seconds.\n",
            "20250905 114244\t329\t12\t481\t29\t5\t240840000\t4\n",
            "Growing trees.. Progress: 36%. Estimated remaining time: 54 seconds.\n",
            "Growing trees.. Progress: 72%. Estimated remaining time: 23 seconds.\n",
            "Growing trees.. Progress: 34%. Estimated remaining time: 1 minute, 0 seconds.\n",
            "Growing trees.. Progress: 68%. Estimated remaining time: 28 seconds.\n",
            "Growing trees.. Progress: 100%. Estimated remaining time: 0 seconds.\n",
            "Growing trees.. Progress: 37%. Estimated remaining time: 53 seconds.\n",
            "Growing trees.. Progress: 73%. Estimated remaining time: 22 seconds.\n",
            "Growing trees.. Progress: 37%. Estimated remaining time: 53 seconds.\n",
            "Growing trees.. Progress: 74%. Estimated remaining time: 22 seconds.\n",
            "Growing trees.. Progress: 36%. Estimated remaining time: 54 seconds.\n",
            "Growing trees.. Progress: 73%. Estimated remaining time: 23 seconds.\n",
            "20250905 115050\t427\t20\t166\t7\t5\t240040000\t5\n",
            "Growing trees.. Progress: 39%. Estimated remaining time: 47 seconds.\n",
            "Growing trees.. Progress: 80%. Estimated remaining time: 15 seconds.\n",
            "Growing trees.. Progress: 39%. Estimated remaining time: 47 seconds.\n",
            "Growing trees.. Progress: 81%. Estimated remaining time: 14 seconds.\n",
            "Growing trees.. Progress: 42%. Estimated remaining time: 42 seconds.\n",
            "Growing trees.. Progress: 83%. Estimated remaining time: 12 seconds.\n",
            "Growing trees.. Progress: 41%. Estimated remaining time: 44 seconds.\n",
            "Growing trees.. Progress: 85%. Estimated remaining time: 11 seconds.\n",
            "Growing trees.. Progress: 39%. Estimated remaining time: 47 seconds.\n",
            "Growing trees.. Progress: 81%. Estimated remaining time: 14 seconds.\n",
            "20250905 115732\t119\t22\t503\t24\t5\t228240000\t6\n",
            "Growing trees.. Progress: 20%. Estimated remaining time: 2 minutes, 2 seconds.\n",
            "Growing trees.. Progress: 41%. Estimated remaining time: 1 minute, 30 seconds.\n",
            "Growing trees.. Progress: 61%. Estimated remaining time: 59 seconds.\n",
            "Growing trees.. Progress: 82%. Estimated remaining time: 27 seconds.\n",
            "Growing trees.. Progress: 21%. Estimated remaining time: 1 minute, 57 seconds.\n",
            "Growing trees.. Progress: 42%. Estimated remaining time: 1 minute, 25 seconds.\n",
            "Growing trees.. Progress: 63%. Estimated remaining time: 55 seconds.\n",
            "Growing trees.. Progress: 83%. Estimated remaining time: 26 seconds.\n",
            "Growing trees.. Progress: 21%. Estimated remaining time: 1 minute, 56 seconds.\n",
            "Growing trees.. Progress: 43%. Estimated remaining time: 1 minute, 23 seconds.\n",
            "Growing trees.. Progress: 64%. Estimated remaining time: 51 seconds.\n",
            "Growing trees.. Progress: 86%. Estimated remaining time: 20 seconds.\n",
            "Growing trees.. Progress: 21%. Estimated remaining time: 1 minute, 54 seconds.\n",
            "Growing trees.. Progress: 42%. Estimated remaining time: 1 minute, 23 seconds.\n",
            "Growing trees.. Progress: 63%. Estimated remaining time: 55 seconds.\n",
            "Growing trees.. Progress: 83%. Estimated remaining time: 25 seconds.\n",
            "Growing trees.. Progress: 20%. Estimated remaining time: 2 minutes, 6 seconds.\n",
            "Growing trees.. Progress: 40%. Estimated remaining time: 1 minute, 34 seconds.\n",
            "Growing trees.. Progress: 59%. Estimated remaining time: 1 minute, 3 seconds.\n",
            "Growing trees.. Progress: 79%. Estimated remaining time: 32 seconds.\n",
            "Growing trees.. Progress: 100%. Estimated remaining time: 0 seconds.\n",
            "20250905 121042\t466\t6\t116\t39\t5\t224280000\t7\n",
            "20250905 121118\t36\t24\t742\t5\t5\t229860000\t8\n",
            "20250905 121359\t57\t8\t927\t46\t5\t216380000\t9\n",
            "20250905 121423\t150\t1\t824\t12\t5\t2740000\t10\n",
            "Growing trees.. Progress: 99%. Estimated remaining time: 0 seconds.\n",
            "Growing trees.. Progress: 96%. Estimated remaining time: 1 seconds.\n",
            "Growing trees.. Progress: 98%. Estimated remaining time: 0 seconds.\n",
            "Growing trees.. Progress: 99%. Estimated remaining time: 0 seconds.\n",
            "Growing trees.. Progress: 96%. Estimated remaining time: 1 seconds.\n",
            "20250905 121722\t292\t4\t325\t20\t5\t212520000\t11\n",
            "Growing trees.. Progress: 14%. Estimated remaining time: 3 minutes, 8 seconds.\n",
            "Growing trees.. Progress: 29%. Estimated remaining time: 2 minutes, 35 seconds.\n",
            "Growing trees.. Progress: 44%. Estimated remaining time: 2 minutes, 3 seconds.\n",
            "Growing trees.. Progress: 58%. Estimated remaining time: 1 minute, 30 seconds.\n",
            "Growing trees.. Progress: 73%. Estimated remaining time: 59 seconds.\n",
            "Growing trees.. Progress: 88%. Estimated remaining time: 26 seconds.\n",
            "Growing trees.. Progress: 15%. Estimated remaining time: 2 minutes, 52 seconds.\n",
            "Growing trees.. Progress: 32%. Estimated remaining time: 2 minutes, 16 seconds.\n",
            "Growing trees.. Progress: 47%. Estimated remaining time: 1 minute, 46 seconds.\n",
            "Growing trees.. Progress: 63%. Estimated remaining time: 1 minute, 14 seconds.\n",
            "Growing trees.. Progress: 79%. Estimated remaining time: 42 seconds.\n",
            "Growing trees.. Progress: 94%. Estimated remaining time: 11 seconds.\n",
            "Growing trees.. Progress: 16%. Estimated remaining time: 2 minutes, 44 seconds.\n",
            "Growing trees.. Progress: 32%. Estimated remaining time: 2 minutes, 18 seconds.\n",
            "Growing trees.. Progress: 47%. Estimated remaining time: 1 minute, 47 seconds.\n",
            "Growing trees.. Progress: 62%. Estimated remaining time: 1 minute, 17 seconds.\n",
            "Growing trees.. Progress: 77%. Estimated remaining time: 46 seconds.\n",
            "Growing trees.. Progress: 92%. Estimated remaining time: 16 seconds.\n",
            "Growing trees.. Progress: 15%. Estimated remaining time: 3 minutes, 0 seconds.\n",
            "Growing trees.. Progress: 30%. Estimated remaining time: 2 minutes, 25 seconds.\n",
            "Growing trees.. Progress: 46%. Estimated remaining time: 1 minute, 52 seconds.\n",
            "Growing trees.. Progress: 61%. Estimated remaining time: 1 minute, 20 seconds.\n",
            "Growing trees.. Progress: 76%. Estimated remaining time: 49 seconds.\n",
            "Growing trees.. Progress: 92%. Estimated remaining time: 17 seconds.\n",
            "Growing trees.. Progress: 15%. Estimated remaining time: 3 minutes, 0 seconds.\n",
            "Growing trees.. Progress: 29%. Estimated remaining time: 2 minutes, 29 seconds.\n",
            "Growing trees.. Progress: 45%. Estimated remaining time: 1 minute, 57 seconds.\n",
            "Growing trees.. Progress: 60%. Estimated remaining time: 1 minute, 24 seconds.\n",
            "Growing trees.. Progress: 75%. Estimated remaining time: 53 seconds.\n",
            "Growing trees.. Progress: 89%. Estimated remaining time: 22 seconds.\n",
            "20250905 123516\t177\t28\t754\t42\t5\t217860000\t12\n",
            "Growing trees.. Progress: 18%. Estimated remaining time: 2 minutes, 21 seconds.\n",
            "Growing trees.. Progress: 36%. Estimated remaining time: 1 minute, 50 seconds.\n",
            "Growing trees.. Progress: 55%. Estimated remaining time: 1 minute, 16 seconds.\n",
            "Growing trees.. Progress: 74%. Estimated remaining time: 43 seconds.\n",
            "Growing trees.. Progress: 92%. Estimated remaining time: 12 seconds.\n",
            "Growing trees.. Progress: 19%. Estimated remaining time: 2 minutes, 10 seconds.\n",
            "Growing trees.. Progress: 38%. Estimated remaining time: 1 minute, 41 seconds.\n",
            "Growing trees.. Progress: 57%. Estimated remaining time: 1 minute, 9 seconds.\n",
            "Growing trees.. Progress: 76%. Estimated remaining time: 38 seconds.\n",
            "Growing trees.. Progress: 96%. Estimated remaining time: 6 seconds.\n",
            "Growing trees.. Progress: 20%. Estimated remaining time: 2 minutes, 7 seconds.\n",
            "Growing trees.. Progress: 39%. Estimated remaining time: 1 minute, 36 seconds.\n",
            "Growing trees.. Progress: 59%. Estimated remaining time: 1 minute, 6 seconds.\n",
            "Growing trees.. Progress: 78%. Estimated remaining time: 34 seconds.\n",
            "Growing trees.. Progress: 98%. Estimated remaining time: 3 seconds.\n",
            "Growing trees.. Progress: 20%. Estimated remaining time: 2 minutes, 7 seconds.\n",
            "Growing trees.. Progress: 39%. Estimated remaining time: 1 minute, 36 seconds.\n",
            "Growing trees.. Progress: 58%. Estimated remaining time: 1 minute, 7 seconds.\n",
            "Growing trees.. Progress: 77%. Estimated remaining time: 36 seconds.\n",
            "Growing trees.. Progress: 97%. Estimated remaining time: 4 seconds.\n",
            "Growing trees.. Progress: 19%. Estimated remaining time: 2 minutes, 10 seconds.\n",
            "Growing trees.. Progress: 39%. Estimated remaining time: 1 minute, 39 seconds.\n",
            "Growing trees.. Progress: 59%. Estimated remaining time: 1 minute, 6 seconds.\n",
            "Growing trees.. Progress: 79%. Estimated remaining time: 34 seconds.\n",
            "Growing trees.. Progress: 98%. Estimated remaining time: 3 seconds.\n",
            "20250905 124925\t261\t30\t222\t22\t5\t233520000\t13\n",
            "Growing trees.. Progress: 27%. Estimated remaining time: 1 minute, 25 seconds.\n",
            "Growing trees.. Progress: 54%. Estimated remaining time: 53 seconds.\n",
            "Growing trees.. Progress: 81%. Estimated remaining time: 22 seconds.\n",
            "Growing trees.. Progress: 26%. Estimated remaining time: 1 minute, 26 seconds.\n",
            "Growing trees.. Progress: 53%. Estimated remaining time: 54 seconds.\n",
            "Growing trees.. Progress: 80%. Estimated remaining time: 22 seconds.\n",
            "Growing trees.. Progress: 27%. Estimated remaining time: 1 minute, 25 seconds.\n",
            "Growing trees.. Progress: 54%. Estimated remaining time: 53 seconds.\n",
            "Growing trees.. Progress: 80%. Estimated remaining time: 22 seconds.\n",
            "Growing trees.. Progress: 27%. Estimated remaining time: 1 minute, 22 seconds.\n",
            "Growing trees.. Progress: 55%. Estimated remaining time: 50 seconds.\n",
            "Growing trees.. Progress: 82%. Estimated remaining time: 19 seconds.\n",
            "Growing trees.. Progress: 27%. Estimated remaining time: 1 minute, 25 seconds.\n",
            "Growing trees.. Progress: 54%. Estimated remaining time: 53 seconds.\n",
            "Growing trees.. Progress: 81%. Estimated remaining time: 22 seconds.\n",
            "20250905 125933\t472\t4\t684\t49\t5\t212620000\t14\n",
            "Growing trees.. Progress: 58%. Estimated remaining time: 22 seconds.\n",
            "Growing trees.. Progress: 59%. Estimated remaining time: 21 seconds.\n",
            "Growing trees.. Progress: 59%. Estimated remaining time: 21 seconds.\n",
            "Growing trees.. Progress: 57%. Estimated remaining time: 23 seconds.\n",
            "Growing trees.. Progress: 58%. Estimated remaining time: 22 seconds.\n",
            "20250905 130417\t104\t11\t17\t28\t5\t223340000\t15\n",
            "Growing trees.. Progress: 22%. Estimated remaining time: 1 minute, 51 seconds.\n",
            "Growing trees.. Progress: 44%. Estimated remaining time: 1 minute, 19 seconds.\n",
            "Growing trees.. Progress: 66%. Estimated remaining time: 48 seconds.\n",
            "Growing trees.. Progress: 88%. Estimated remaining time: 16 seconds.\n",
            "Growing trees.. Progress: 22%. Estimated remaining time: 1 minute, 51 seconds.\n",
            "Growing trees.. Progress: 44%. Estimated remaining time: 1 minute, 19 seconds.\n",
            "Growing trees.. Progress: 66%. Estimated remaining time: 48 seconds.\n",
            "Growing trees.. Progress: 88%. Estimated remaining time: 16 seconds.\n",
            "Growing trees.. Progress: 22%. Estimated remaining time: 1 minute, 49 seconds.\n",
            "Growing trees.. Progress: 44%. Estimated remaining time: 1 minute, 17 seconds.\n",
            "Growing trees.. Progress: 67%. Estimated remaining time: 46 seconds.\n",
            "Growing trees.. Progress: 90%. Estimated remaining time: 13 seconds.\n",
            "Growing trees.. Progress: 24%. Estimated remaining time: 1 minute, 39 seconds.\n",
            "Growing trees.. Progress: 47%. Estimated remaining time: 1 minute, 8 seconds.\n",
            "Growing trees.. Progress: 72%. Estimated remaining time: 37 seconds.\n",
            "Growing trees.. Progress: 96%. Estimated remaining time: 5 seconds.\n",
            "Growing trees.. Progress: 23%. Estimated remaining time: 1 minute, 44 seconds.\n",
            "Growing trees.. Progress: 46%. Estimated remaining time: 1 minute, 13 seconds.\n",
            "Growing trees.. Progress: 69%. Estimated remaining time: 41 seconds.\n",
            "Growing trees.. Progress: 92%. Estimated remaining time: 10 seconds.\n",
            "20250905 131625\t386\t17\t993\t15\t5\t243720000\t16\n"
          ]
        },
        {
          "name": "stderr",
          "output_type": "stream",
          "text": [
            "[mbo] 0: num.trees=215; max.depth=15; min.node.size=421; mtry=36 : y = 2.32e+08 : 918.0 secs : initdesign\n",
            "\n",
            "[mbo] 0: num.trees=247; max.depth=19; min.node.size=279; mtry=35 : y = 2.24e+08 : 1198.3 secs : initdesign\n",
            "\n",
            "[mbo] 0: num.trees=355; max.depth=26; min.node.size=575; mtry=8 : y = 2.45e+08 : 419.0 secs : initdesign\n",
            "\n",
            "[mbo] 0: num.trees=329; max.depth=12; min.node.size=481; mtry=29 : y = 2.41e+08 : 975.3 secs : initdesign\n",
            "\n",
            "[mbo] 0: num.trees=427; max.depth=20; min.node.size=166; mtry=7 : y = 2.4e+08 : 485.1 secs : initdesign\n",
            "\n",
            "[mbo] 0: num.trees=119; max.depth=22; min.node.size=503; mtry=24 : y = 2.28e+08 : 402.8 secs : initdesign\n",
            "\n",
            "[mbo] 0: num.trees=466; max.depth=6; min.node.size=116; mtry=39 : y = 2.24e+08 : 789.7 secs : initdesign\n",
            "\n",
            "[mbo] 0: num.trees=36; max.depth=24; min.node.size=742; mtry=5 : y = 2.3e+08 : 36.2 secs : initdesign\n",
            "\n",
            "[mbo] 0: num.trees=57; max.depth=8; min.node.size=927; mtry=46 : y = 2.16e+08 : 160.5 secs : initdesign\n",
            "\n",
            "[mbo] 0: num.trees=150; max.depth=1; min.node.size=824; mtry=12 : y = 2.74e+06 : 23.8 secs : initdesign\n",
            "\n",
            "[mbo] 0: num.trees=292; max.depth=4; min.node.size=325; mtry=20 : y = 2.13e+08 : 179.9 secs : initdesign\n",
            "\n",
            "[mbo] 0: num.trees=177; max.depth=28; min.node.size=754; mtry=42 : y = 2.18e+08 : 1073.2 secs : initdesign\n",
            "\n",
            "[mbo] 0: num.trees=261; max.depth=30; min.node.size=222; mtry=22 : y = 2.34e+08 : 849.0 secs : initdesign\n",
            "\n",
            "[mbo] 0: num.trees=472; max.depth=4; min.node.size=684; mtry=49 : y = 2.13e+08 : 608.0 secs : initdesign\n",
            "\n",
            "[mbo] 0: num.trees=104; max.depth=11; min.node.size=17; mtry=28 : y = 2.23e+08 : 284.8 secs : initdesign\n",
            "\n",
            "[mbo] 0: num.trees=386; max.depth=17; min.node.size=993; mtry=15 : y = 2.44e+08 : 728.0 secs : initdesign\n",
            "\n",
            "Saved the current state after iteration 1 in the file HT450.RDATA.\n",
            "\n",
            "Warning message in generateDesign(control$infill.opt.focussearch.points, ps.local, :\n",
            "\"generateDesign could only produce 528 points instead of 1000!\"\n",
            "Warning message in generateDesign(control$infill.opt.focussearch.points, ps.local, :\n",
            "\"generateDesign could only produce 660 points instead of 1000!\"\n"
          ]
        },
        {
          "name": "stdout",
          "output_type": "stream",
          "text": [
            "Growing trees.. Progress: 5%. Estimated remaining time: 9 minutes, 3 seconds.\n",
            "Growing trees.. Progress: 11%. Estimated remaining time: 8 minutes, 11 seconds.\n",
            "Growing trees.. Progress: 17%. Estimated remaining time: 7 minutes, 40 seconds.\n",
            "Growing trees.. Progress: 22%. Estimated remaining time: 7 minutes, 18 seconds.\n",
            "Growing trees.. Progress: 28%. Estimated remaining time: 6 minutes, 41 seconds.\n",
            "Growing trees.. Progress: 33%. Estimated remaining time: 6 minutes, 14 seconds.\n",
            "Growing trees.. Progress: 39%. Estimated remaining time: 5 minutes, 45 seconds.\n",
            "Growing trees.. Progress: 44%. Estimated remaining time: 5 minutes, 18 seconds.\n",
            "Growing trees.. Progress: 50%. Estimated remaining time: 4 minutes, 47 seconds.\n",
            "Growing trees.. Progress: 55%. Estimated remaining time: 4 minutes, 18 seconds.\n",
            "Growing trees.. Progress: 60%. Estimated remaining time: 3 minutes, 47 seconds.\n",
            "Growing trees.. Progress: 66%. Estimated remaining time: 3 minutes, 16 seconds.\n",
            "Growing trees.. Progress: 71%. Estimated remaining time: 2 minutes, 46 seconds.\n",
            "Growing trees.. Progress: 77%. Estimated remaining time: 2 minutes, 15 seconds.\n",
            "Growing trees.. Progress: 82%. Estimated remaining time: 1 minute, 42 seconds.\n",
            "Growing trees.. Progress: 88%. Estimated remaining time: 1 minute, 8 seconds.\n",
            "Growing trees.. Progress: 94%. Estimated remaining time: 35 seconds.\n",
            "Growing trees.. Progress: 100%. Estimated remaining time: 2 seconds.\n",
            "Growing trees.. Progress: 6%. Estimated remaining time: 8 minutes, 23 seconds.\n",
            "Growing trees.. Progress: 12%. Estimated remaining time: 7 minutes, 43 seconds.\n",
            "Growing trees.. Progress: 18%. Estimated remaining time: 7 minutes, 18 seconds.\n",
            "Growing trees.. Progress: 24%. Estimated remaining time: 6 minutes, 43 seconds.\n",
            "Growing trees.. Progress: 30%. Estimated remaining time: 6 minutes, 13 seconds.\n",
            "Growing trees.. Progress: 36%. Estimated remaining time: 5 minutes, 43 seconds.\n",
            "Growing trees.. Progress: 42%. Estimated remaining time: 5 minutes, 11 seconds.\n",
            "Growing trees.. Progress: 48%. Estimated remaining time: 4 minutes, 38 seconds.\n",
            "Growing trees.. Progress: 54%. Estimated remaining time: 4 minutes, 5 seconds.\n",
            "Growing trees.. Progress: 60%. Estimated remaining time: 3 minutes, 33 seconds.\n",
            "Growing trees.. Progress: 66%. Estimated remaining time: 3 minutes, 3 seconds.\n",
            "Growing trees.. Progress: 72%. Estimated remaining time: 2 minutes, 31 seconds.\n",
            "Growing trees.. Progress: 77%. Estimated remaining time: 2 minutes, 0 seconds.\n",
            "Growing trees.. Progress: 83%. Estimated remaining time: 1 minute, 31 seconds.\n",
            "Growing trees.. Progress: 89%. Estimated remaining time: 1 minute, 1 seconds.\n",
            "Growing trees.. Progress: 94%. Estimated remaining time: 32 seconds.\n",
            "Growing trees.. Progress: 99%. Estimated remaining time: 3 seconds.\n",
            "Growing trees.. Progress: 5%. Estimated remaining time: 9 minutes, 20 seconds.\n",
            "Growing trees.. Progress: 11%. Estimated remaining time: 8 minutes, 29 seconds.\n",
            "Growing trees.. Progress: 16%. Estimated remaining time: 8 minutes, 4 seconds.\n",
            "Growing trees.. Progress: 22%. Estimated remaining time: 7 minutes, 30 seconds.\n",
            "Growing trees.. Progress: 27%. Estimated remaining time: 6 minutes, 58 seconds.\n",
            "Growing trees.. Progress: 33%. Estimated remaining time: 6 minutes, 27 seconds.\n",
            "Growing trees.. Progress: 38%. Estimated remaining time: 5 minutes, 54 seconds.\n",
            "Growing trees.. Progress: 44%. Estimated remaining time: 5 minutes, 24 seconds.\n",
            "Growing trees.. Progress: 49%. Estimated remaining time: 4 minutes, 51 seconds.\n",
            "Growing trees.. Progress: 55%. Estimated remaining time: 4 minutes, 17 seconds.\n",
            "Growing trees.. Progress: 61%. Estimated remaining time: 3 minutes, 40 seconds.\n",
            "Growing trees.. Progress: 67%. Estimated remaining time: 3 minutes, 5 seconds.\n",
            "Growing trees.. Progress: 73%. Estimated remaining time: 2 minutes, 30 seconds.\n",
            "Growing trees.. Progress: 79%. Estimated remaining time: 1 minute, 56 seconds.\n",
            "Growing trees.. Progress: 85%. Estimated remaining time: 1 minute, 22 seconds.\n",
            "Growing trees.. Progress: 91%. Estimated remaining time: 50 seconds.\n",
            "Growing trees.. Progress: 97%. Estimated remaining time: 17 seconds.\n",
            "Growing trees.. Progress: 6%. Estimated remaining time: 8 minutes, 59 seconds.\n",
            "Growing trees.. Progress: 11%. Estimated remaining time: 8 minutes, 19 seconds.\n",
            "Growing trees.. Progress: 17%. Estimated remaining time: 7 minutes, 50 seconds.\n",
            "Growing trees.. Progress: 22%. Estimated remaining time: 7 minutes, 19 seconds.\n",
            "Growing trees.. Progress: 28%. Estimated remaining time: 6 minutes, 48 seconds.\n",
            "Growing trees.. Progress: 34%. Estimated remaining time: 6 minutes, 17 seconds.\n",
            "Growing trees.. Progress: 39%. Estimated remaining time: 5 minutes, 41 seconds.\n",
            "Growing trees.. Progress: 45%. Estimated remaining time: 5 minutes, 9 seconds.\n",
            "Growing trees.. Progress: 51%. Estimated remaining time: 4 minutes, 37 seconds.\n",
            "Growing trees.. Progress: 56%. Estimated remaining time: 4 minutes, 6 seconds.\n",
            "Growing trees.. Progress: 62%. Estimated remaining time: 3 minutes, 32 seconds.\n",
            "Growing trees.. Progress: 68%. Estimated remaining time: 3 minutes, 0 seconds.\n",
            "Growing trees.. Progress: 73%. Estimated remaining time: 2 minutes, 29 seconds.\n",
            "Growing trees.. Progress: 79%. Estimated remaining time: 1 minute, 56 seconds.\n",
            "Growing trees.. Progress: 85%. Estimated remaining time: 1 minute, 23 seconds.\n",
            "Growing trees.. Progress: 91%. Estimated remaining time: 51 seconds.\n",
            "Growing trees.. Progress: 96%. Estimated remaining time: 20 seconds.\n",
            "Growing trees.. Progress: 5%. Estimated remaining time: 9 minutes, 3 seconds.\n",
            "Growing trees.. Progress: 11%. Estimated remaining time: 8 minutes, 29 seconds.\n",
            "Growing trees.. Progress: 17%. Estimated remaining time: 7 minutes, 45 seconds.\n",
            "Growing trees.. Progress: 23%. Estimated remaining time: 7 minutes, 11 seconds.\n",
            "Growing trees.. Progress: 28%. Estimated remaining time: 6 minutes, 42 seconds.\n",
            "Growing trees.. Progress: 34%. Estimated remaining time: 6 minutes, 6 seconds.\n",
            "Growing trees.. Progress: 40%. Estimated remaining time: 5 minutes, 35 seconds.\n",
            "Growing trees.. Progress: 46%. Estimated remaining time: 5 minutes, 3 seconds.\n",
            "Growing trees.. Progress: 51%. Estimated remaining time: 4 minutes, 31 seconds.\n",
            "Growing trees.. Progress: 57%. Estimated remaining time: 4 minutes, 0 seconds.\n",
            "Growing trees.. Progress: 63%. Estimated remaining time: 3 minutes, 26 seconds.\n",
            "Growing trees.. Progress: 69%. Estimated remaining time: 2 minutes, 53 seconds.\n",
            "Growing trees.. Progress: 74%. Estimated remaining time: 2 minutes, 21 seconds.\n",
            "Growing trees.. Progress: 80%. Estimated remaining time: 1 minute, 49 seconds.\n",
            "Growing trees.. Progress: 86%. Estimated remaining time: 1 minute, 17 seconds.\n",
            "Growing trees.. Progress: 92%. Estimated remaining time: 46 seconds.\n",
            "Growing trees.. Progress: 97%. Estimated remaining time: 14 seconds.\n",
            "20250905 140357\t500\t16\t1000\t48\t5\t227460000\t17\n"
          ]
        },
        {
          "name": "stderr",
          "output_type": "stream",
          "text": [
            "[mbo] 1: num.trees=500; max.depth=16; min.node.size=1000; mtry=48 : y = 2.27e+08 : 2850.1 secs : infill_ei\n",
            "\n",
            "Saved the current state after iteration 2 in the file HT450.RDATA.\n",
            "\n",
            "Warning message in generateDesign(control$infill.opt.focussearch.points, ps.local, :\n",
            "\"generateDesign could only produce 999 points instead of 1000!\"\n",
            "Warning message in generateDesign(control$infill.opt.focussearch.points, ps.local, :\n",
            "\"generateDesign could only produce 924 points instead of 1000!\"\n"
          ]
        },
        {
          "name": "stdout",
          "output_type": "stream",
          "text": [
            "Growing trees.. Progress: 16%. Estimated remaining time: 2 minutes, 42 seconds.\n",
            "Growing trees.. Progress: 32%. Estimated remaining time: 2 minutes, 11 seconds.\n",
            "Growing trees.. Progress: 48%. Estimated remaining time: 1 minute, 41 seconds.\n",
            "Growing trees.. Progress: 64%. Estimated remaining time: 1 minute, 10 seconds.\n",
            "Growing trees.. Progress: 80%. Estimated remaining time: 39 seconds.\n",
            "Growing trees.. Progress: 96%. Estimated remaining time: 7 seconds.\n",
            "Growing trees.. Progress: 16%. Estimated remaining time: 2 minutes, 38 seconds.\n",
            "Growing trees.. Progress: 33%. Estimated remaining time: 2 minutes, 8 seconds.\n",
            "Growing trees.. Progress: 49%. Estimated remaining time: 1 minute, 37 seconds.\n",
            "Growing trees.. Progress: 66%. Estimated remaining time: 1 minute, 4 seconds.\n",
            "Growing trees.. Progress: 82%. Estimated remaining time: 33 seconds.\n",
            "Growing trees.. Progress: 98%. Estimated remaining time: 3 seconds.\n",
            "Growing trees.. Progress: 13%. Estimated remaining time: 3 minutes, 23 seconds.\n",
            "Growing trees.. Progress: 29%. Estimated remaining time: 2 minutes, 33 seconds.\n",
            "Growing trees.. Progress: 44%. Estimated remaining time: 1 minute, 56 seconds.\n",
            "Growing trees.. Progress: 60%. Estimated remaining time: 1 minute, 22 seconds.\n",
            "Growing trees.. Progress: 76%. Estimated remaining time: 49 seconds.\n",
            "Growing trees.. Progress: 92%. Estimated remaining time: 17 seconds.\n",
            "Growing trees.. Progress: 16%. Estimated remaining time: 2 minutes, 40 seconds.\n",
            "Growing trees.. Progress: 32%. Estimated remaining time: 2 minutes, 10 seconds.\n",
            "Growing trees.. Progress: 49%. Estimated remaining time: 1 minute, 39 seconds.\n",
            "Growing trees.. Progress: 65%. Estimated remaining time: 1 minute, 7 seconds.\n",
            "Growing trees.. Progress: 81%. Estimated remaining time: 37 seconds.\n",
            "Growing trees.. Progress: 97%. Estimated remaining time: 6 seconds.\n",
            "Growing trees.. Progress: 16%. Estimated remaining time: 2 minutes, 47 seconds.\n",
            "Growing trees.. Progress: 31%. Estimated remaining time: 2 minutes, 15 seconds.\n",
            "Growing trees.. Progress: 48%. Estimated remaining time: 1 minute, 42 seconds.\n",
            "Growing trees.. Progress: 64%. Estimated remaining time: 1 minute, 10 seconds.\n",
            "Growing trees.. Progress: 80%. Estimated remaining time: 38 seconds.\n",
            "Growing trees.. Progress: 96%. Estimated remaining time: 6 seconds.\n",
            "20250905 142121\t500\t24\t1000\t16\t5\t245040000\t18\n"
          ]
        },
        {
          "name": "stderr",
          "output_type": "stream",
          "text": [
            "[mbo] 2: num.trees=500; max.depth=24; min.node.size=1000; mtry=16 : y = 2.45e+08 : 1043.3 secs : infill_ei\n",
            "\n",
            "Saved the current state after iteration 3 in the file HT450.RDATA.\n",
            "\n"
          ]
        },
        {
          "name": "stdout",
          "output_type": "stream",
          "text": [
            "Growing trees.. Progress: 16%. Estimated remaining time: 2 minutes, 47 seconds.\n",
            "Growing trees.. Progress: 31%. Estimated remaining time: 2 minutes, 15 seconds.\n",
            "Growing trees.. Progress: 47%. Estimated remaining time: 1 minute, 44 seconds.\n",
            "Growing trees.. Progress: 62%. Estimated remaining time: 1 minute, 15 seconds.\n",
            "Growing trees.. Progress: 77%. Estimated remaining time: 45 seconds.\n",
            "Growing trees.. Progress: 92%. Estimated remaining time: 15 seconds.\n",
            "Growing trees.. Progress: 16%. Estimated remaining time: 2 minutes, 47 seconds.\n",
            "Growing trees.. Progress: 31%. Estimated remaining time: 2 minutes, 15 seconds.\n",
            "Growing trees.. Progress: 47%. Estimated remaining time: 1 minute, 45 seconds.\n",
            "Growing trees.. Progress: 63%. Estimated remaining time: 1 minute, 14 seconds.\n",
            "Growing trees.. Progress: 78%. Estimated remaining time: 43 seconds.\n",
            "Growing trees.. Progress: 94%. Estimated remaining time: 12 seconds.\n",
            "Growing trees.. Progress: 15%. Estimated remaining time: 2 minutes, 50 seconds.\n",
            "Growing trees.. Progress: 31%. Estimated remaining time: 2 minutes, 19 seconds.\n",
            "Growing trees.. Progress: 46%. Estimated remaining time: 1 minute, 47 seconds.\n",
            "Growing trees.. Progress: 62%. Estimated remaining time: 1 minute, 15 seconds.\n",
            "Growing trees.. Progress: 79%. Estimated remaining time: 41 seconds.\n",
            "Growing trees.. Progress: 95%. Estimated remaining time: 10 seconds.\n",
            "Growing trees.. Progress: 16%. Estimated remaining time: 2 minutes, 40 seconds.\n",
            "Growing trees.. Progress: 32%. Estimated remaining time: 2 minutes, 10 seconds.\n",
            "Growing trees.. Progress: 48%. Estimated remaining time: 1 minute, 39 seconds.\n",
            "Growing trees.. Progress: 64%. Estimated remaining time: 1 minute, 9 seconds.\n",
            "Growing trees.. Progress: 80%. Estimated remaining time: 38 seconds.\n",
            "Growing trees.. Progress: 96%. Estimated remaining time: 8 seconds.\n",
            "Growing trees.. Progress: 15%. Estimated remaining time: 2 minutes, 55 seconds.\n",
            "Growing trees.. Progress: 30%. Estimated remaining time: 2 minutes, 21 seconds.\n",
            "Growing trees.. Progress: 46%. Estimated remaining time: 1 minute, 51 seconds.\n",
            "Growing trees.. Progress: 61%. Estimated remaining time: 1 minute, 19 seconds.\n",
            "Growing trees.. Progress: 76%. Estimated remaining time: 48 seconds.\n",
            "Growing trees.. Progress: 91%. Estimated remaining time: 17 seconds.\n",
            "20250905 143859\t500\t14\t312\t18\t5\t245160000\t19\n",
            "20250905 143859\t500\t14\t312\t18\t5\t245160000\t19\n"
          ]
        },
        {
          "name": "stderr",
          "output_type": "stream",
          "text": [
            "[mbo] 3: num.trees=500; max.depth=14; min.node.size=312; mtry=18 : y = 2.45e+08 : 1057.7 secs : infill_ei\n",
            "\n",
            "Saved the current state after iteration 4 in the file HT450.RDATA.\n",
            "\n",
            "Warning message in generateDesign(control$infill.opt.focussearch.points, ps.local, :\n",
            "\"generateDesign could only produce 702 points instead of 1000!\"\n"
          ]
        },
        {
          "name": "stdout",
          "output_type": "stream",
          "text": [
            "Growing trees.. Progress: 16%. Estimated remaining time: 2 minutes, 47 seconds.\n",
            "Growing trees.. Progress: 31%. Estimated remaining time: 2 minutes, 16 seconds.\n",
            "Growing trees.. Progress: 47%. Estimated remaining time: 1 minute, 44 seconds.\n",
            "Growing trees.. Progress: 63%. Estimated remaining time: 1 minute, 14 seconds.\n",
            "Growing trees.. Progress: 78%. Estimated remaining time: 43 seconds.\n",
            "Growing trees.. Progress: 94%. Estimated remaining time: 11 seconds.\n",
            "Growing trees.. Progress: 16%. Estimated remaining time: 2 minutes, 42 seconds.\n",
            "Growing trees.. Progress: 32%. Estimated remaining time: 2 minutes, 11 seconds.\n",
            "Growing trees.. Progress: 48%. Estimated remaining time: 1 minute, 42 seconds.\n",
            "Growing trees.. Progress: 64%. Estimated remaining time: 1 minute, 10 seconds.\n",
            "Growing trees.. Progress: 80%. Estimated remaining time: 39 seconds.\n",
            "Growing trees.. Progress: 95%. Estimated remaining time: 9 seconds.\n",
            "Growing trees.. Progress: 15%. Estimated remaining time: 2 minutes, 50 seconds.\n",
            "Growing trees.. Progress: 31%. Estimated remaining time: 2 minutes, 16 seconds.\n",
            "Growing trees.. Progress: 47%. Estimated remaining time: 1 minute, 46 seconds.\n",
            "Growing trees.. Progress: 63%. Estimated remaining time: 1 minute, 14 seconds.\n",
            "Growing trees.. Progress: 78%. Estimated remaining time: 42 seconds.\n",
            "Growing trees.. Progress: 94%. Estimated remaining time: 11 seconds.\n",
            "Growing trees.. Progress: 17%. Estimated remaining time: 2 minutes, 35 seconds.\n",
            "Growing trees.. Progress: 33%. Estimated remaining time: 2 minutes, 5 seconds.\n",
            "Growing trees.. Progress: 50%. Estimated remaining time: 1 minute, 34 seconds.\n",
            "Growing trees.. Progress: 66%. Estimated remaining time: 1 minute, 3 seconds.\n",
            "Growing trees.. Progress: 83%. Estimated remaining time: 32 seconds.\n",
            "Growing trees.. Progress: 99%. Estimated remaining time: 1 seconds.\n",
            "Growing trees.. Progress: 16%. Estimated remaining time: 2 minutes, 45 seconds.\n",
            "Growing trees.. Progress: 31%. Estimated remaining time: 2 minutes, 18 seconds.\n",
            "Growing trees.. Progress: 47%. Estimated remaining time: 1 minute, 47 seconds.\n",
            "Growing trees.. Progress: 62%. Estimated remaining time: 1 minute, 17 seconds.\n",
            "Growing trees.. Progress: 77%. Estimated remaining time: 47 seconds.\n",
            "Growing trees.. Progress: 92%. Estimated remaining time: 16 seconds.\n",
            "20250905 145624\t500\t20\t701\t16\t5\t243900000\t20\n"
          ]
        },
        {
          "name": "stderr",
          "output_type": "stream",
          "text": [
            "[mbo] 4: num.trees=500; max.depth=20; min.node.size=701; mtry=16 : y = 2.44e+08 : 1044.1 secs : infill_ei\n",
            "\n",
            "Saved the current state after iteration 5 in the file HT450.RDATA.\n",
            "\n",
            "Warning message in generateDesign(control$infill.opt.focussearch.points, ps.local, :\n",
            "\"generateDesign could only produce 484 points instead of 1000!\"\n"
          ]
        },
        {
          "name": "stdout",
          "output_type": "stream",
          "text": [
            "Growing trees.. Progress: 91%. Estimated remaining time: 3 seconds.\n",
            "Growing trees.. Progress: 91%. Estimated remaining time: 3 seconds.\n",
            "Growing trees.. Progress: 91%. Estimated remaining time: 2 seconds.\n",
            "Growing trees.. Progress: 91%. Estimated remaining time: 3 seconds.\n",
            "Growing trees.. Progress: 90%. Estimated remaining time: 3 seconds.\n",
            "20250905 150011\t465\t22\t1000\t2\t5\t220900000\t21\n"
          ]
        },
        {
          "name": "stderr",
          "output_type": "stream",
          "text": [
            "[mbo] 5: num.trees=465; max.depth=22; min.node.size=1000; mtry=2 : y = 2.21e+08 : 226.2 secs : infill_ei\n",
            "\n"
          ]
        },
        {
          "name": "stdout",
          "output_type": "stream",
          "text": [
            "Growing trees.. Progress: 14%. Estimated remaining time: 3 minutes, 15 seconds.\n",
            "Growing trees.. Progress: 28%. Estimated remaining time: 2 minutes, 39 seconds.\n",
            "Growing trees.. Progress: 42%. Estimated remaining time: 2 minutes, 8 seconds.\n",
            "Growing trees.. Progress: 57%. Estimated remaining time: 1 minute, 35 seconds.\n",
            "Growing trees.. Progress: 71%. Estimated remaining time: 1 minute, 3 seconds.\n",
            "Growing trees.. Progress: 86%. Estimated remaining time: 31 seconds.\n",
            "Growing trees.. Progress: 14%. Estimated remaining time: 3 minutes, 6 seconds.\n",
            "Growing trees.. Progress: 28%. Estimated remaining time: 2 minutes, 39 seconds.\n",
            "Growing trees.. Progress: 41%. Estimated remaining time: 2 minutes, 12 seconds.\n",
            "Growing trees.. Progress: 55%. Estimated remaining time: 1 minute, 40 seconds.\n",
            "Growing trees.. Progress: 69%. Estimated remaining time: 1 minute, 8 seconds.\n",
            "Growing trees.. Progress: 83%. Estimated remaining time: 37 seconds.\n",
            "Growing trees.. Progress: 97%. Estimated remaining time: 6 seconds.\n",
            "Growing trees.. Progress: 14%. Estimated remaining time: 3 minutes, 16 seconds.\n",
            "Growing trees.. Progress: 28%. Estimated remaining time: 2 minutes, 41 seconds.\n",
            "Growing trees.. Progress: 42%. Estimated remaining time: 2 minutes, 11 seconds.\n",
            "Growing trees.. Progress: 56%. Estimated remaining time: 1 minute, 38 seconds.\n",
            "Growing trees.. Progress: 70%. Estimated remaining time: 1 minute, 6 seconds.\n",
            "Growing trees.. Progress: 84%. Estimated remaining time: 35 seconds.\n",
            "Growing trees.. Progress: 98%. Estimated remaining time: 3 seconds.\n",
            "Growing trees.. Progress: 14%. Estimated remaining time: 3 minutes, 10 seconds.\n",
            "Growing trees.. Progress: 28%. Estimated remaining time: 2 minutes, 39 seconds.\n",
            "Growing trees.. Progress: 42%. Estimated remaining time: 2 minutes, 6 seconds.\n",
            "Growing trees.. Progress: 57%. Estimated remaining time: 1 minute, 34 seconds.\n",
            "Growing trees.. Progress: 71%. Estimated remaining time: 1 minute, 2 seconds.\n",
            "Growing trees.. Progress: 86%. Estimated remaining time: 30 seconds.\n",
            "Growing trees.. Progress: 14%. Estimated remaining time: 3 minutes, 10 seconds.\n",
            "Growing trees.. Progress: 28%. Estimated remaining time: 2 minutes, 39 seconds.\n",
            "Growing trees.. Progress: 42%. Estimated remaining time: 2 minutes, 8 seconds.\n",
            "Growing trees.. Progress: 57%. Estimated remaining time: 1 minute, 35 seconds.\n",
            "Growing trees.. Progress: 71%. Estimated remaining time: 1 minute, 4 seconds.\n",
            "Growing trees.. Progress: 86%. Estimated remaining time: 31 seconds.\n",
            "Growing trees.. Progress: 100%. Estimated remaining time: 0 seconds.\n",
            "20250905 151922\t350\t19\t1000\t26\t5\t238620000\t22\n"
          ]
        },
        {
          "name": "stderr",
          "output_type": "stream",
          "text": [
            "[mbo] 6: num.trees=350; max.depth=19; min.node.size=1000; mtry=26 : y = 2.39e+08 : 1150.9 secs : infill_ei\n",
            "\n",
            "Saved the current state after iteration 7 in the file HT450.RDATA.\n",
            "\n",
            "Warning message in generateDesign(control$infill.opt.focussearch.points, ps.local, :\n",
            "\"generateDesign could only produce 504 points instead of 1000!\"\n"
          ]
        },
        {
          "name": "stdout",
          "output_type": "stream",
          "text": [
            "Growing trees.. Progress: 7%. Estimated remaining time: 6 minutes, 39 seconds.\n",
            "Growing trees.. Progress: 15%. Estimated remaining time: 6 minutes, 2 seconds.\n",
            "Growing trees.. Progress: 22%. Estimated remaining time: 5 minutes, 25 seconds.\n",
            "Growing trees.. Progress: 30%. Estimated remaining time: 4 minutes, 57 seconds.\n",
            "Growing trees.. Progress: 37%. Estimated remaining time: 4 minutes, 25 seconds.\n",
            "Growing trees.. Progress: 45%. Estimated remaining time: 3 minutes, 53 seconds.\n",
            "Growing trees.. Progress: 52%. Estimated remaining time: 3 minutes, 21 seconds.\n",
            "Growing trees.. Progress: 60%. Estimated remaining time: 2 minutes, 48 seconds.\n",
            "Growing trees.. Progress: 68%. Estimated remaining time: 2 minutes, 14 seconds.\n",
            "Growing trees.. Progress: 76%. Estimated remaining time: 1 minute, 41 seconds.\n",
            "Growing trees.. Progress: 83%. Estimated remaining time: 1 minute, 9 seconds.\n",
            "Growing trees.. Progress: 91%. Estimated remaining time: 37 seconds.\n",
            "Growing trees.. Progress: 99%. Estimated remaining time: 5 seconds.\n",
            "Growing trees.. Progress: 8%. Estimated remaining time: 5 minutes, 56 seconds.\n",
            "Growing trees.. Progress: 16%. Estimated remaining time: 5 minutes, 30 seconds.\n",
            "Growing trees.. Progress: 24%. Estimated remaining time: 5 minutes, 7 seconds.\n",
            "Growing trees.. Progress: 31%. Estimated remaining time: 4 minutes, 37 seconds.\n",
            "Growing trees.. Progress: 39%. Estimated remaining time: 4 minutes, 9 seconds.\n",
            "Growing trees.. Progress: 47%. Estimated remaining time: 3 minutes, 34 seconds.\n",
            "Growing trees.. Progress: 55%. Estimated remaining time: 3 minutes, 2 seconds.\n",
            "Growing trees.. Progress: 63%. Estimated remaining time: 2 minutes, 30 seconds.\n",
            "Growing trees.. Progress: 70%. Estimated remaining time: 2 minutes, 0 seconds.\n",
            "Growing trees.. Progress: 78%. Estimated remaining time: 1 minute, 28 seconds.\n",
            "Growing trees.. Progress: 86%. Estimated remaining time: 57 seconds.\n",
            "Growing trees.. Progress: 93%. Estimated remaining time: 26 seconds.\n",
            "Growing trees.. Progress: 7%. Estimated remaining time: 6 minutes, 27 seconds.\n",
            "Growing trees.. Progress: 15%. Estimated remaining time: 5 minutes, 51 seconds.\n",
            "Growing trees.. Progress: 23%. Estimated remaining time: 5 minutes, 21 seconds.\n",
            "Growing trees.. Progress: 30%. Estimated remaining time: 4 minutes, 51 seconds.\n",
            "Growing trees.. Progress: 38%. Estimated remaining time: 4 minutes, 18 seconds.\n",
            "Growing trees.. Progress: 45%. Estimated remaining time: 3 minutes, 46 seconds.\n",
            "Growing trees.. Progress: 53%. Estimated remaining time: 3 minutes, 13 seconds.\n",
            "Growing trees.. Progress: 61%. Estimated remaining time: 2 minutes, 41 seconds.\n",
            "Growing trees.. Progress: 69%. Estimated remaining time: 2 minutes, 9 seconds.\n",
            "Growing trees.. Progress: 76%. Estimated remaining time: 1 minute, 36 seconds.\n",
            "Growing trees.. Progress: 84%. Estimated remaining time: 1 minute, 5 seconds.\n",
            "Growing trees.. Progress: 92%. Estimated remaining time: 33 seconds.\n",
            "Growing trees.. Progress: 100%. Estimated remaining time: 0 seconds.\n",
            "Growing trees.. Progress: 8%. Estimated remaining time: 6 minutes, 8 seconds.\n",
            "Growing trees.. Progress: 16%. Estimated remaining time: 5 minutes, 31 seconds.\n",
            "Growing trees.. Progress: 24%. Estimated remaining time: 5 minutes, 0 seconds.\n",
            "Growing trees.. Progress: 32%. Estimated remaining time: 4 minutes, 29 seconds.\n",
            "Growing trees.. Progress: 40%. Estimated remaining time: 3 minutes, 58 seconds.\n",
            "Growing trees.. Progress: 48%. Estimated remaining time: 3 minutes, 23 seconds.\n",
            "Growing trees.. Progress: 56%. Estimated remaining time: 2 minutes, 52 seconds.\n",
            "Growing trees.. Progress: 64%. Estimated remaining time: 2 minutes, 20 seconds.\n",
            "Growing trees.. Progress: 72%. Estimated remaining time: 1 minute, 50 seconds.\n",
            "Growing trees.. Progress: 80%. Estimated remaining time: 1 minute, 18 seconds.\n",
            "Growing trees.. Progress: 88%. Estimated remaining time: 46 seconds.\n",
            "Growing trees.. Progress: 96%. Estimated remaining time: 15 seconds.\n",
            "Growing trees.. Progress: 8%. Estimated remaining time: 6 minutes, 16 seconds.\n",
            "Growing trees.. Progress: 15%. Estimated remaining time: 5 minutes, 51 seconds.\n",
            "Growing trees.. Progress: 23%. Estimated remaining time: 5 minutes, 18 seconds.\n",
            "Growing trees.. Progress: 30%. Estimated remaining time: 4 minutes, 48 seconds.\n",
            "Growing trees.. Progress: 38%. Estimated remaining time: 4 minutes, 18 seconds.\n",
            "Growing trees.. Progress: 46%. Estimated remaining time: 3 minutes, 44 seconds.\n",
            "Growing trees.. Progress: 53%. Estimated remaining time: 3 minutes, 14 seconds.\n",
            "Growing trees.. Progress: 61%. Estimated remaining time: 2 minutes, 43 seconds.\n",
            "Growing trees.. Progress: 68%. Estimated remaining time: 2 minutes, 11 seconds.\n",
            "Growing trees.. Progress: 76%. Estimated remaining time: 1 minute, 39 seconds.\n",
            "Growing trees.. Progress: 84%. Estimated remaining time: 1 minute, 7 seconds.\n",
            "Growing trees.. Progress: 91%. Estimated remaining time: 35 seconds.\n",
            "Growing trees.. Progress: 99%. Estimated remaining time: 2 seconds.\n",
            "20250905 155427\t500\t25\t1\t29\t5\t191900000\t23\n"
          ]
        },
        {
          "name": "stderr",
          "output_type": "stream",
          "text": [
            "[mbo] 7: num.trees=500; max.depth=25; min.node.size=1; mtry=29 : y = 1.92e+08 : 2105.2 secs : infill_ei\n",
            "\n",
            "Saved the current state after iteration 8 in the file HT450.RDATA.\n",
            "\n"
          ]
        },
        {
          "name": "stdout",
          "output_type": "stream",
          "text": [
            "Growing trees.. Progress: 25%. Estimated remaining time: 1 minute, 34 seconds.\n",
            "Growing trees.. Progress: 50%. Estimated remaining time: 1 minute, 1 seconds.\n",
            "Growing trees.. Progress: 75%. Estimated remaining time: 30 seconds.\n",
            "Growing trees.. Progress: 100%. Estimated remaining time: 0 seconds.\n",
            "Growing trees.. Progress: 26%. Estimated remaining time: 1 minute, 29 seconds.\n",
            "Growing trees.. Progress: 51%. Estimated remaining time: 58 seconds.\n",
            "Growing trees.. Progress: 77%. Estimated remaining time: 27 seconds.\n",
            "Growing trees.. Progress: 24%. Estimated remaining time: 1 minute, 35 seconds.\n",
            "Growing trees.. Progress: 49%. Estimated remaining time: 1 minute, 3 seconds.\n",
            "Growing trees.. Progress: 74%. Estimated remaining time: 33 seconds.\n",
            "Growing trees.. Progress: 98%. Estimated remaining time: 2 seconds.\n",
            "Growing trees.. Progress: 26%. Estimated remaining time: 1 minute, 29 seconds.\n",
            "Growing trees.. Progress: 51%. Estimated remaining time: 59 seconds.\n",
            "Growing trees.. Progress: 77%. Estimated remaining time: 28 seconds.\n",
            "Growing trees.. Progress: 25%. Estimated remaining time: 1 minute, 34 seconds.\n",
            "Growing trees.. Progress: 50%. Estimated remaining time: 1 minute, 3 seconds.\n",
            "Growing trees.. Progress: 74%. Estimated remaining time: 32 seconds.\n",
            "Growing trees.. Progress: 99%. Estimated remaining time: 1 seconds.\n",
            "20250905 160529\t331\t30\t850\t15\t5\t242240000\t24\n"
          ]
        },
        {
          "name": "stderr",
          "output_type": "stream",
          "text": [
            "[mbo] 8: num.trees=331; max.depth=30; min.node.size=850; mtry=15 : y = 2.42e+08 : 661.3 secs : infill_ei\n",
            "\n",
            "Saved the current state after iteration 9 in the file HT450.RDATA.\n",
            "\n",
            "Warning message in generateDesign(control$infill.opt.focussearch.points, ps.local, :\n",
            "\"generateDesign could only produce 973 points instead of 1000!\"\n"
          ]
        },
        {
          "name": "stdout",
          "output_type": "stream",
          "text": [
            "Growing trees.. Progress: 28%. Estimated remaining time: 1 minute, 20 seconds.\n",
            "Growing trees.. Progress: 56%. Estimated remaining time: 48 seconds.\n",
            "Growing trees.. Progress: 85%. Estimated remaining time: 16 seconds.\n",
            "Growing trees.. Progress: 28%. Estimated remaining time: 1 minute, 19 seconds.\n",
            "Growing trees.. Progress: 56%. Estimated remaining time: 48 seconds.\n",
            "Growing trees.. Progress: 86%. Estimated remaining time: 15 seconds.\n",
            "Growing trees.. Progress: 31%. Estimated remaining time: 1 minute, 10 seconds.\n",
            "Growing trees.. Progress: 61%. Estimated remaining time: 39 seconds.\n",
            "Growing trees.. Progress: 92%. Estimated remaining time: 8 seconds.\n",
            "Growing trees.. Progress: 30%. Estimated remaining time: 1 minute, 12 seconds.\n",
            "Growing trees.. Progress: 60%. Estimated remaining time: 40 seconds.\n",
            "Growing trees.. Progress: 90%. Estimated remaining time: 10 seconds.\n",
            "Growing trees.. Progress: 28%. Estimated remaining time: 1 minute, 19 seconds.\n",
            "Growing trees.. Progress: 57%. Estimated remaining time: 47 seconds.\n",
            "Growing trees.. Progress: 87%. Estimated remaining time: 14 seconds.\n",
            "20250905 161459\t307\t17\t336\t14\t5\t252560000\t25\n",
            "20250905 161459\t307\t17\t336\t14\t5\t252560000\t25\n"
          ]
        },
        {
          "name": "stderr",
          "output_type": "stream",
          "text": [
            "[mbo] 9: num.trees=307; max.depth=17; min.node.size=336; mtry=14 : y = 2.53e+08 : 569.8 secs : infill_ei\n",
            "\n"
          ]
        },
        {
          "name": "stdout",
          "output_type": "stream",
          "text": [
            "Growing trees.. Progress: 22%. Estimated remaining time: 1 minute, 53 seconds.\n",
            "Growing trees.. Progress: 43%. Estimated remaining time: 1 minute, 20 seconds.\n",
            "Growing trees.. Progress: 65%. Estimated remaining time: 49 seconds.\n",
            "Growing trees.. Progress: 87%. Estimated remaining time: 18 seconds.\n",
            "Growing trees.. Progress: 22%. Estimated remaining time: 1 minute, 47 seconds.\n",
            "Growing trees.. Progress: 45%. Estimated remaining time: 1 minute, 14 seconds.\n",
            "Growing trees.. Progress: 68%. Estimated remaining time: 43 seconds.\n",
            "Growing trees.. Progress: 90%. Estimated remaining time: 13 seconds.\n",
            "Growing trees.. Progress: 22%. Estimated remaining time: 1 minute, 53 seconds.\n",
            "Growing trees.. Progress: 43%. Estimated remaining time: 1 minute, 23 seconds.\n",
            "Growing trees.. Progress: 65%. Estimated remaining time: 50 seconds.\n",
            "Growing trees.. Progress: 86%. Estimated remaining time: 20 seconds.\n",
            "Growing trees.. Progress: 21%. Estimated remaining time: 1 minute, 55 seconds.\n",
            "Growing trees.. Progress: 42%. Estimated remaining time: 1 minute, 24 seconds.\n",
            "Growing trees.. Progress: 63%. Estimated remaining time: 53 seconds.\n",
            "Growing trees.. Progress: 85%. Estimated remaining time: 22 seconds.\n",
            "Growing trees.. Progress: 21%. Estimated remaining time: 1 minute, 58 seconds.\n",
            "Growing trees.. Progress: 42%. Estimated remaining time: 1 minute, 26 seconds.\n",
            "Growing trees.. Progress: 63%. Estimated remaining time: 56 seconds.\n",
            "Growing trees.. Progress: 83%. Estimated remaining time: 25 seconds.\n",
            "20250905 162732\t251\t8\t359\t50\t5\t227560000\t26\n"
          ]
        },
        {
          "name": "stderr",
          "output_type": "stream",
          "text": [
            "[mbo] 10: num.trees=251; max.depth=8; min.node.size=359; mtry=50 : y = 2.28e+08 : 751.8 secs : infill_ei\n",
            "\n",
            "Saved the current state after iteration 11 in the file HT450.RDATA.\n",
            "\n"
          ]
        },
        {
          "name": "stdout",
          "output_type": "stream",
          "text": [
            "Growing trees.. Progress: 92%. Estimated remaining time: 2 seconds.\n",
            "Growing trees.. Progress: 93%. Estimated remaining time: 2 seconds.\n",
            "Growing trees.. Progress: 94%. Estimated remaining time: 2 seconds.\n",
            "Growing trees.. Progress: 94%. Estimated remaining time: 2 seconds.\n",
            "Growing trees.. Progress: 92%. Estimated remaining time: 2 seconds.\n",
            "20250905 163115\t478\t16\t1\t2\t5\t222120000\t27\n"
          ]
        },
        {
          "name": "stderr",
          "output_type": "stream",
          "text": [
            "[mbo] 11: num.trees=478; max.depth=16; min.node.size=1; mtry=2 : y = 2.22e+08 : 222.3 secs : infill_ei\n",
            "\n",
            "Warning message in generateDesign(control$infill.opt.focussearch.points, ps.local, :\n",
            "\"generateDesign could only produce 360 points instead of 1000!\"\n",
            "Warning message in generateDesign(control$infill.opt.focussearch.points, ps.local, :\n",
            "\"generateDesign could only produce 888 points instead of 1000!\"\n"
          ]
        },
        {
          "name": "stdout",
          "output_type": "stream",
          "text": [
            "Growing trees.. Progress: 86%. Estimated remaining time: 5 seconds.\n",
            "Growing trees.. Progress: 85%. Estimated remaining time: 5 seconds.\n",
            "Growing trees.. Progress: 86%. Estimated remaining time: 5 seconds.\n",
            "Growing trees.. Progress: 85%. Estimated remaining time: 5 seconds.\n",
            "Growing trees.. Progress: 85%. Estimated remaining time: 5 seconds.\n",
            "20250905 163514\t493\t27\t1000\t2\t5\t220400000\t28\n"
          ]
        },
        {
          "name": "stderr",
          "output_type": "stream",
          "text": [
            "[mbo] 12: num.trees=493; max.depth=27; min.node.size=1000; mtry=2 : y = 2.2e+08 : 238.8 secs : infill_ei\n",
            "\n",
            "Warning message in generateDesign(control$infill.opt.focussearch.points, ps.local, :\n",
            "\"generateDesign could only produce 132 points instead of 1000!\"\n"
          ]
        },
        {
          "name": "stdout",
          "output_type": "stream",
          "text": [
            "Growing trees.. Progress: 27%. Estimated remaining time: 1 minute, 22 seconds.\n",
            "Growing trees.. Progress: 55%. Estimated remaining time: 51 seconds.\n",
            "Growing trees.. Progress: 82%. Estimated remaining time: 20 seconds.\n",
            "Growing trees.. Progress: 28%. Estimated remaining time: 1 minute, 20 seconds.\n",
            "Growing trees.. Progress: 56%. Estimated remaining time: 48 seconds.\n",
            "Growing trees.. Progress: 85%. Estimated remaining time: 16 seconds.\n",
            "Growing trees.. Progress: 29%. Estimated remaining time: 1 minute, 15 seconds.\n",
            "Growing trees.. Progress: 58%. Estimated remaining time: 44 seconds.\n",
            "Growing trees.. Progress: 88%. Estimated remaining time: 13 seconds.\n",
            "Growing trees.. Progress: 29%. Estimated remaining time: 1 minute, 15 seconds.\n",
            "Growing trees.. Progress: 59%. Estimated remaining time: 43 seconds.\n",
            "Growing trees.. Progress: 88%. Estimated remaining time: 12 seconds.\n",
            "Growing trees.. Progress: 27%. Estimated remaining time: 1 minute, 22 seconds.\n",
            "Growing trees.. Progress: 55%. Estimated remaining time: 51 seconds.\n",
            "Growing trees.. Progress: 82%. Estimated remaining time: 20 seconds.\n",
            "20250905 164459\t363\t9\t1\t21\t5\t236940000\t29\n"
          ]
        },
        {
          "name": "stderr",
          "output_type": "stream",
          "text": [
            "[mbo] 13: num.trees=363; max.depth=9; min.node.size=1; mtry=21 : y = 2.37e+08 : 584.2 secs : infill_ei\n",
            "\n",
            "Saved the current state after iteration 14 in the file HT450.RDATA.\n",
            "\n",
            "Warning message in generateDesign(control$infill.opt.focussearch.points, ps.local, :\n",
            "\"generateDesign could only produce 997 points instead of 1000!\"\n"
          ]
        },
        {
          "name": "stdout",
          "output_type": "stream",
          "text": [
            "20250905 164518\t20\t30\t256\t2\t5\t219340000\t30\n"
          ]
        },
        {
          "name": "stderr",
          "output_type": "stream",
          "text": [
            "[mbo] 14: num.trees=20; max.depth=30; min.node.size=256; mtry=2 : y = 2.19e+08 : 18.9 secs : infill_ei\n",
            "\n"
          ]
        },
        {
          "name": "stdout",
          "output_type": "stream",
          "text": [
            "Growing trees.. Progress: 24%. Estimated remaining time: 1 minute, 35 seconds.\n",
            "Growing trees.. Progress: 49%. Estimated remaining time: 1 minute, 4 seconds.\n",
            "Growing trees.. Progress: 74%. Estimated remaining time: 32 seconds.\n",
            "Growing trees.. Progress: 99%. Estimated remaining time: 1 seconds.\n",
            "Growing trees.. Progress: 24%. Estimated remaining time: 1 minute, 35 seconds.\n",
            "Growing trees.. Progress: 49%. Estimated remaining time: 1 minute, 4 seconds.\n",
            "Growing trees.. Progress: 74%. Estimated remaining time: 32 seconds.\n",
            "Growing trees.. Progress: 99%. Estimated remaining time: 1 seconds.\n",
            "Growing trees.. Progress: 25%. Estimated remaining time: 1 minute, 32 seconds.\n",
            "Growing trees.. Progress: 50%. Estimated remaining time: 1 minute, 0 seconds.\n",
            "Growing trees.. Progress: 76%. Estimated remaining time: 29 seconds.\n",
            "Growing trees.. Progress: 26%. Estimated remaining time: 1 minute, 27 seconds.\n",
            "Growing trees.. Progress: 52%. Estimated remaining time: 56 seconds.\n",
            "Growing trees.. Progress: 79%. Estimated remaining time: 24 seconds.\n",
            "Growing trees.. Progress: 24%. Estimated remaining time: 1 minute, 35 seconds.\n",
            "Growing trees.. Progress: 49%. Estimated remaining time: 1 minute, 4 seconds.\n",
            "Growing trees.. Progress: 74%. Estimated remaining time: 32 seconds.\n",
            "Growing trees.. Progress: 98%. Estimated remaining time: 2 seconds.\n",
            "20250905 165616\t307\t25\t801\t16\t5\t247560000\t31\n"
          ]
        },
        {
          "name": "stderr",
          "output_type": "stream",
          "text": [
            "[mbo] 15: num.trees=307; max.depth=25; min.node.size=801; mtry=16 : y = 2.48e+08 : 657.5 secs : infill_ei\n",
            "\n",
            "Saved the current state after iteration 16 in the file HT450.RDATA.\n",
            "\n"
          ]
        },
        {
          "name": "stdout",
          "output_type": "stream",
          "text": [
            "Growing trees.. Progress: 19%. Estimated remaining time: 2 minutes, 9 seconds.\n",
            "Growing trees.. Progress: 38%. Estimated remaining time: 1 minute, 41 seconds.\n",
            "Growing trees.. Progress: 57%. Estimated remaining time: 1 minute, 10 seconds.\n",
            "Growing trees.. Progress: 76%. Estimated remaining time: 39 seconds.\n",
            "Growing trees.. Progress: 94%. Estimated remaining time: 9 seconds.\n",
            "Growing trees.. Progress: 19%. Estimated remaining time: 2 minutes, 9 seconds.\n",
            "Growing trees.. Progress: 39%. Estimated remaining time: 1 minute, 36 seconds.\n",
            "Growing trees.. Progress: 60%. Estimated remaining time: 1 minute, 2 seconds.\n",
            "Growing trees.. Progress: 80%. Estimated remaining time: 31 seconds.\n",
            "Growing trees.. Progress: 100%. Estimated remaining time: 0 seconds.\n",
            "Growing trees.. Progress: 20%. Estimated remaining time: 2 minutes, 5 seconds.\n",
            "Growing trees.. Progress: 40%. Estimated remaining time: 1 minute, 34 seconds.\n",
            "Growing trees.. Progress: 60%. Estimated remaining time: 1 minute, 2 seconds.\n",
            "Growing trees.. Progress: 80%. Estimated remaining time: 31 seconds.\n",
            "Growing trees.. Progress: 99%. Estimated remaining time: 1 seconds.\n",
            "Growing trees.. Progress: 20%. Estimated remaining time: 2 minutes, 3 seconds.\n",
            "Growing trees.. Progress: 40%. Estimated remaining time: 1 minute, 34 seconds.\n",
            "Growing trees.. Progress: 60%. Estimated remaining time: 1 minute, 2 seconds.\n",
            "Growing trees.. Progress: 80%. Estimated remaining time: 31 seconds.\n",
            "Growing trees.. Progress: 100%. Estimated remaining time: 0 seconds.\n",
            "Growing trees.. Progress: 20%. Estimated remaining time: 2 minutes, 5 seconds.\n",
            "Growing trees.. Progress: 39%. Estimated remaining time: 1 minute, 35 seconds.\n",
            "Growing trees.. Progress: 59%. Estimated remaining time: 1 minute, 6 seconds.\n",
            "Growing trees.. Progress: 78%. Estimated remaining time: 35 seconds.\n",
            "Growing trees.. Progress: 97%. Estimated remaining time: 5 seconds.\n",
            "20250905 171018\t378\t18\t410\t17\t5\t248040000\t32\n"
          ]
        },
        {
          "name": "stderr",
          "output_type": "stream",
          "text": [
            "[mbo] 16: num.trees=378; max.depth=18; min.node.size=410; mtry=17 : y = 2.48e+08 : 841.3 secs : infill_ei\n",
            "\n",
            "Saved the current state after iteration 17 in the file HT450.RDATA.\n",
            "\n"
          ]
        },
        {
          "name": "stdout",
          "output_type": "stream",
          "text": [
            "Growing trees.. Progress: 27%. Estimated remaining time: 1 minute, 22 seconds.\n",
            "Growing trees.. Progress: 54%. Estimated remaining time: 51 seconds.\n",
            "Growing trees.. Progress: 82%. Estimated remaining time: 20 seconds.\n",
            "Growing trees.. Progress: 27%. Estimated remaining time: 1 minute, 23 seconds.\n",
            "Growing trees.. Progress: 54%. Estimated remaining time: 52 seconds.\n",
            "Growing trees.. Progress: 81%. Estimated remaining time: 21 seconds.\n",
            "Growing trees.. Progress: 27%. Estimated remaining time: 1 minute, 22 seconds.\n",
            "Growing trees.. Progress: 54%. Estimated remaining time: 51 seconds.\n",
            "Growing trees.. Progress: 82%. Estimated remaining time: 20 seconds.\n",
            "Growing trees.. Progress: 27%. Estimated remaining time: 1 minute, 23 seconds.\n",
            "Growing trees.. Progress: 55%. Estimated remaining time: 51 seconds.\n",
            "Growing trees.. Progress: 82%. Estimated remaining time: 20 seconds.\n",
            "Growing trees.. Progress: 26%. Estimated remaining time: 1 minute, 26 seconds.\n",
            "Growing trees.. Progress: 53%. Estimated remaining time: 54 seconds.\n",
            "Growing trees.. Progress: 80%. Estimated remaining time: 22 seconds.\n",
            "20250905 172028\t314\t12\t239\t18\t5\t2.42e+08\t33\n"
          ]
        },
        {
          "name": "stderr",
          "output_type": "stream",
          "text": [
            "[mbo] 17: num.trees=314; max.depth=12; min.node.size=239; mtry=18 : y = 2.42e+08 : 609.5 secs : infill_ei\n",
            "\n",
            "Saved the current state after iteration 18 in the file HT450.RDATA.\n",
            "\n"
          ]
        },
        {
          "name": "stdout",
          "output_type": "stream",
          "text": [
            "Growing trees.. Progress: 36%. Estimated remaining time: 54 seconds.\n",
            "Growing trees.. Progress: 74%. Estimated remaining time: 21 seconds.\n",
            "Growing trees.. Progress: 38%. Estimated remaining time: 51 seconds.\n",
            "Growing trees.. Progress: 75%. Estimated remaining time: 20 seconds.\n",
            "Growing trees.. Progress: 39%. Estimated remaining time: 48 seconds.\n",
            "Growing trees.. Progress: 78%. Estimated remaining time: 17 seconds.\n",
            "Growing trees.. Progress: 39%. Estimated remaining time: 48 seconds.\n",
            "Growing trees.. Progress: 78%. Estimated remaining time: 17 seconds.\n",
            "Growing trees.. Progress: 38%. Estimated remaining time: 50 seconds.\n",
            "Growing trees.. Progress: 76%. Estimated remaining time: 19 seconds.\n",
            "20250905 172750\t261\t24\t320\t12\t5\t238660000\t34\n"
          ]
        },
        {
          "name": "stderr",
          "output_type": "stream",
          "text": [
            "[mbo] 18: num.trees=261; max.depth=24; min.node.size=320; mtry=12 : y = 2.39e+08 : 441.4 secs : infill_ei\n",
            "\n"
          ]
        },
        {
          "name": "stdout",
          "output_type": "stream",
          "text": [
            "Growing trees.. Progress: 19%. Estimated remaining time: 2 minutes, 12 seconds.\n",
            "Growing trees.. Progress: 38%. Estimated remaining time: 1 minute, 40 seconds.\n",
            "Growing trees.. Progress: 57%. Estimated remaining time: 1 minute, 9 seconds.\n",
            "Growing trees.. Progress: 77%. Estimated remaining time: 38 seconds.\n",
            "Growing trees.. Progress: 97%. Estimated remaining time: 5 seconds.\n",
            "Growing trees.. Progress: 21%. Estimated remaining time: 1 minute, 59 seconds.\n",
            "Growing trees.. Progress: 42%. Estimated remaining time: 1 minute, 25 seconds.\n",
            "Growing trees.. Progress: 63%. Estimated remaining time: 55 seconds.\n",
            "Growing trees.. Progress: 83%. Estimated remaining time: 24 seconds.\n",
            "Growing trees.. Progress: 20%. Estimated remaining time: 2 minutes, 4 seconds.\n",
            "Growing trees.. Progress: 40%. Estimated remaining time: 1 minute, 32 seconds.\n",
            "Growing trees.. Progress: 60%. Estimated remaining time: 1 minute, 3 seconds.\n",
            "Growing trees.. Progress: 79%. Estimated remaining time: 32 seconds.\n",
            "Growing trees.. Progress: 98%. Estimated remaining time: 2 seconds.\n",
            "Growing trees.. Progress: 20%. Estimated remaining time: 2 minutes, 5 seconds.\n",
            "Growing trees.. Progress: 40%. Estimated remaining time: 1 minute, 33 seconds.\n",
            "Growing trees.. Progress: 60%. Estimated remaining time: 1 minute, 3 seconds.\n",
            "Growing trees.. Progress: 80%. Estimated remaining time: 31 seconds.\n",
            "Growing trees.. Progress: 100%. Estimated remaining time: 0 seconds.\n",
            "Growing trees.. Progress: 20%. Estimated remaining time: 2 minutes, 7 seconds.\n",
            "Growing trees.. Progress: 39%. Estimated remaining time: 1 minute, 35 seconds.\n",
            "Growing trees.. Progress: 59%. Estimated remaining time: 1 minute, 5 seconds.\n",
            "Growing trees.. Progress: 78%. Estimated remaining time: 34 seconds.\n",
            "Growing trees.. Progress: 98%. Estimated remaining time: 2 seconds.\n",
            "20250905 174137\t500\t8\t304\t26\t5\t235200000\t35\n"
          ]
        },
        {
          "name": "stderr",
          "output_type": "stream",
          "text": [
            "[mbo] 19: num.trees=500; max.depth=8; min.node.size=304; mtry=26 : y = 2.35e+08 : 826.8 secs : infill_ei\n",
            "\n",
            "Saved the current state after iteration 20 in the file HT450.RDATA.\n",
            "\n",
            "Warning message in generateDesign(control$infill.opt.focussearch.points, ps.local, :\n",
            "\"generateDesign could only produce 926 points instead of 1000!\"\n"
          ]
        },
        {
          "name": "stdout",
          "output_type": "stream",
          "text": [
            "20250905 174229\t20\t27\t1000\t17\t5\t222100000\t36\n"
          ]
        },
        {
          "name": "stderr",
          "output_type": "stream",
          "text": [
            "[mbo] 20: num.trees=20; max.depth=27; min.node.size=1000; mtry=17 : y = 2.22e+08 : 52.0 secs : infill_ei\n",
            "\n"
          ]
        },
        {
          "name": "stdout",
          "output_type": "stream",
          "text": [
            "Growing trees.. Progress: 14%. Estimated remaining time: 3 minutes, 10 seconds.\n",
            "Growing trees.. Progress: 28%. Estimated remaining time: 2 minutes, 37 seconds.\n",
            "Growing trees.. Progress: 42%. Estimated remaining time: 2 minutes, 7 seconds.\n",
            "Growing trees.. Progress: 56%. Estimated remaining time: 1 minute, 36 seconds.\n",
            "Growing trees.. Progress: 70%. Estimated remaining time: 1 minute, 5 seconds.\n",
            "Growing trees.. Progress: 84%. Estimated remaining time: 34 seconds.\n",
            "Growing trees.. Progress: 98%. Estimated remaining time: 3 seconds.\n",
            "Growing trees.. Progress: 14%. Estimated remaining time: 3 minutes, 10 seconds.\n",
            "Growing trees.. Progress: 28%. Estimated remaining time: 2 minutes, 37 seconds.\n",
            "Growing trees.. Progress: 42%. Estimated remaining time: 2 minutes, 8 seconds.\n",
            "Growing trees.. Progress: 56%. Estimated remaining time: 1 minute, 35 seconds.\n",
            "Growing trees.. Progress: 71%. Estimated remaining time: 1 minute, 4 seconds.\n",
            "Growing trees.. Progress: 85%. Estimated remaining time: 33 seconds.\n",
            "Growing trees.. Progress: 99%. Estimated remaining time: 2 seconds.\n",
            "Growing trees.. Progress: 15%. Estimated remaining time: 3 minutes, 1 seconds.\n",
            "Growing trees.. Progress: 29%. Estimated remaining time: 2 minutes, 28 seconds.\n",
            "Growing trees.. Progress: 44%. Estimated remaining time: 1 minute, 57 seconds.\n",
            "Growing trees.. Progress: 59%. Estimated remaining time: 1 minute, 26 seconds.\n",
            "Growing trees.. Progress: 74%. Estimated remaining time: 54 seconds.\n",
            "Growing trees.. Progress: 89%. Estimated remaining time: 23 seconds.\n",
            "Growing trees.. Progress: 15%. Estimated remaining time: 2 minutes, 55 seconds.\n",
            "Growing trees.. Progress: 30%. Estimated remaining time: 2 minutes, 28 seconds.\n",
            "Growing trees.. Progress: 45%. Estimated remaining time: 1 minute, 56 seconds.\n",
            "Growing trees.. Progress: 60%. Estimated remaining time: 1 minute, 24 seconds.\n",
            "Growing trees.. Progress: 75%. Estimated remaining time: 52 seconds.\n",
            "Growing trees.. Progress: 90%. Estimated remaining time: 21 seconds.\n",
            "Growing trees.. Progress: 14%. Estimated remaining time: 3 minutes, 4 seconds.\n",
            "Growing trees.. Progress: 29%. Estimated remaining time: 2 minutes, 33 seconds.\n",
            "Growing trees.. Progress: 44%. Estimated remaining time: 2 minutes, 1 seconds.\n",
            "Growing trees.. Progress: 58%. Estimated remaining time: 1 minute, 29 seconds.\n",
            "Growing trees.. Progress: 72%. Estimated remaining time: 59 seconds.\n",
            "Growing trees.. Progress: 87%. Estimated remaining time: 28 seconds.\n",
            "20250905 180130\t500\t30\t617\t17\t5\t246700000\t37\n"
          ]
        },
        {
          "name": "stderr",
          "output_type": "stream",
          "text": [
            "[mbo] 21: num.trees=500; max.depth=30; min.node.size=617; mtry=17 : y = 2.47e+08 : 1140.1 secs : infill_ei\n",
            "\n",
            "Saved the current state after iteration 22 in the file HT450.RDATA.\n",
            "\n"
          ]
        },
        {
          "name": "stdout",
          "output_type": "stream",
          "text": [
            "Growing trees.. Progress: 17%. Estimated remaining time: 2 minutes, 31 seconds.\n",
            "Growing trees.. Progress: 34%. Estimated remaining time: 1 minute, 58 seconds.\n",
            "Growing trees.. Progress: 51%. Estimated remaining time: 1 minute, 28 seconds.\n",
            "Growing trees.. Progress: 68%. Estimated remaining time: 58 seconds.\n",
            "Growing trees.. Progress: 85%. Estimated remaining time: 26 seconds.\n",
            "Growing trees.. Progress: 17%. Estimated remaining time: 2 minutes, 31 seconds.\n",
            "Growing trees.. Progress: 34%. Estimated remaining time: 2 minutes, 0 seconds.\n",
            "Growing trees.. Progress: 51%. Estimated remaining time: 1 minute, 28 seconds.\n",
            "Growing trees.. Progress: 68%. Estimated remaining time: 57 seconds.\n",
            "Growing trees.. Progress: 86%. Estimated remaining time: 25 seconds.\n",
            "Growing trees.. Progress: 18%. Estimated remaining time: 2 minutes, 22 seconds.\n",
            "Growing trees.. Progress: 36%. Estimated remaining time: 1 minute, 51 seconds.\n",
            "Growing trees.. Progress: 54%. Estimated remaining time: 1 minute, 20 seconds.\n",
            "Growing trees.. Progress: 72%. Estimated remaining time: 49 seconds.\n",
            "Growing trees.. Progress: 89%. Estimated remaining time: 19 seconds.\n",
            "Growing trees.. Progress: 16%. Estimated remaining time: 2 minutes, 37 seconds.\n",
            "Growing trees.. Progress: 33%. Estimated remaining time: 2 minutes, 4 seconds.\n",
            "Growing trees.. Progress: 50%. Estimated remaining time: 1 minute, 33 seconds.\n",
            "Growing trees.. Progress: 67%. Estimated remaining time: 1 minute, 1 seconds.\n",
            "Growing trees.. Progress: 84%. Estimated remaining time: 29 seconds.\n",
            "Growing trees.. Progress: 100%. Estimated remaining time: 0 seconds.\n",
            "Growing trees.. Progress: 17%. Estimated remaining time: 2 minutes, 34 seconds.\n",
            "Growing trees.. Progress: 34%. Estimated remaining time: 2 minutes, 3 seconds.\n",
            "Growing trees.. Progress: 50%. Estimated remaining time: 1 minute, 33 seconds.\n",
            "Growing trees.. Progress: 66%. Estimated remaining time: 1 minute, 3 seconds.\n",
            "Growing trees.. Progress: 83%. Estimated remaining time: 32 seconds.\n",
            "Growing trees.. Progress: 99%. Estimated remaining time: 2 seconds.\n",
            "20250905 181736\t376\t16\t623\t21\t5\t239200000\t38\n"
          ]
        },
        {
          "name": "stderr",
          "output_type": "stream",
          "text": [
            "[mbo] 22: num.trees=376; max.depth=16; min.node.size=623; mtry=21 : y = 2.39e+08 : 965.1 secs : infill_ei\n",
            "\n",
            "Saved the current state after iteration 23 in the file HT450.RDATA.\n",
            "\n"
          ]
        },
        {
          "name": "stdout",
          "output_type": "stream",
          "text": [
            "Growing trees.. Progress: 34%. Estimated remaining time: 1 minute, 1 seconds.\n",
            "Growing trees.. Progress: 67%. Estimated remaining time: 30 seconds.\n",
            "Growing trees.. Progress: 33%. Estimated remaining time: 1 minute, 2 seconds.\n",
            "Growing trees.. Progress: 67%. Estimated remaining time: 30 seconds.\n",
            "Growing trees.. Progress: 100%. Estimated remaining time: 0 seconds.\n",
            "Growing trees.. Progress: 35%. Estimated remaining time: 57 seconds.\n",
            "Growing trees.. Progress: 70%. Estimated remaining time: 26 seconds.\n",
            "Growing trees.. Progress: 35%. Estimated remaining time: 56 seconds.\n",
            "Growing trees.. Progress: 71%. Estimated remaining time: 25 seconds.\n",
            "Growing trees.. Progress: 34%. Estimated remaining time: 59 seconds.\n",
            "Growing trees.. Progress: 68%. Estimated remaining time: 29 seconds.\n",
            "20250905 182556\t401\t17\t343\t9\t5\t247500000\t39\n"
          ]
        },
        {
          "name": "stderr",
          "output_type": "stream",
          "text": [
            "[mbo] 23: num.trees=401; max.depth=17; min.node.size=343; mtry=9 : y = 2.47e+08 : 500.3 secs : infill_ei\n",
            "\n"
          ]
        },
        {
          "name": "stdout",
          "output_type": "stream",
          "text": [
            "20250905 182633\t20\t18\t331\t10\t5\t216840000\t40\n"
          ]
        },
        {
          "name": "stderr",
          "output_type": "stream",
          "text": [
            "[mbo] 24: num.trees=20; max.depth=18; min.node.size=331; mtry=10 : y = 2.17e+08 : 36.4 secs : infill_ei\n",
            "\n"
          ]
        },
        {
          "name": "stdout",
          "output_type": "stream",
          "text": [
            "Growing trees.. Progress: 23%. Estimated remaining time: 1 minute, 42 seconds.\n",
            "Growing trees.. Progress: 47%. Estimated remaining time: 1 minute, 10 seconds.\n",
            "Growing trees.. Progress: 70%. Estimated remaining time: 39 seconds.\n",
            "Growing trees.. Progress: 94%. Estimated remaining time: 8 seconds.\n",
            "Growing trees.. Progress: 23%. Estimated remaining time: 1 minute, 43 seconds.\n",
            "Growing trees.. Progress: 46%. Estimated remaining time: 1 minute, 11 seconds.\n",
            "Growing trees.. Progress: 70%. Estimated remaining time: 40 seconds.\n",
            "Growing trees.. Progress: 93%. Estimated remaining time: 9 seconds.\n",
            "Growing trees.. Progress: 24%. Estimated remaining time: 1 minute, 40 seconds.\n",
            "Growing trees.. Progress: 47%. Estimated remaining time: 1 minute, 8 seconds.\n",
            "Growing trees.. Progress: 72%. Estimated remaining time: 36 seconds.\n",
            "Growing trees.. Progress: 96%. Estimated remaining time: 5 seconds.\n",
            "Growing trees.. Progress: 24%. Estimated remaining time: 1 minute, 37 seconds.\n",
            "Growing trees.. Progress: 48%. Estimated remaining time: 1 minute, 6 seconds.\n",
            "Growing trees.. Progress: 73%. Estimated remaining time: 34 seconds.\n",
            "Growing trees.. Progress: 97%. Estimated remaining time: 3 seconds.\n",
            "Growing trees.. Progress: 23%. Estimated remaining time: 1 minute, 42 seconds.\n",
            "Growing trees.. Progress: 47%. Estimated remaining time: 1 minute, 11 seconds.\n",
            "Growing trees.. Progress: 70%. Estimated remaining time: 40 seconds.\n",
            "Growing trees.. Progress: 92%. Estimated remaining time: 10 seconds.\n",
            "20250905 183816\t378\t17\t237\t14\t5\t238800000\t41\n"
          ]
        },
        {
          "name": "stderr",
          "output_type": "stream",
          "text": [
            "[mbo] 25: num.trees=378; max.depth=17; min.node.size=237; mtry=14 : y = 2.39e+08 : 702.5 secs : infill_ei\n",
            "\n",
            "Saved the current state after iteration 26 in the file HT450.RDATA.\n",
            "\n",
            "Warning message in generateDesign(control$infill.opt.focussearch.points, ps.local, :\n",
            "\"generateDesign could only produce 971 points instead of 1000!\"\n"
          ]
        },
        {
          "name": "stdout",
          "output_type": "stream",
          "text": [
            "Growing trees.. Progress: 49%. Estimated remaining time: 32 seconds.\n",
            "Growing trees.. Progress: 97%. Estimated remaining time: 1 seconds.\n",
            "Growing trees.. Progress: 49%. Estimated remaining time: 32 seconds.\n",
            "Growing trees.. Progress: 98%. Estimated remaining time: 1 seconds.\n",
            "Growing trees.. Progress: 49%. Estimated remaining time: 32 seconds.\n",
            "Growing trees.. Progress: 99%. Estimated remaining time: 0 seconds.\n",
            "Growing trees.. Progress: 49%. Estimated remaining time: 32 seconds.\n",
            "Growing trees.. Progress: 99%. Estimated remaining time: 0 seconds.\n",
            "Growing trees.. Progress: 49%. Estimated remaining time: 32 seconds.\n",
            "Growing trees.. Progress: 98%. Estimated remaining time: 1 seconds.\n",
            "20250905 184432\t500\t30\t337\t4\t5\t242500000\t42\n"
          ]
        },
        {
          "name": "stderr",
          "output_type": "stream",
          "text": [
            "[mbo] 26: num.trees=500; max.depth=30; min.node.size=337; mtry=4 : y = 2.42e+08 : 374.3 secs : infill_ei\n",
            "\n"
          ]
        },
        {
          "name": "stdout",
          "output_type": "stream",
          "text": [
            "20250905 184633\t283\t14\t430\t2\t5\t219600000\t43\n"
          ]
        },
        {
          "name": "stderr",
          "output_type": "stream",
          "text": [
            "[mbo] 27: num.trees=283; max.depth=14; min.node.size=430; mtry=2 : y = 2.2e+08 : 121.1 secs : infill_ei\n",
            "\n"
          ]
        },
        {
          "name": "stdout",
          "output_type": "stream",
          "text": [
            "Growing trees.. Progress: 40%. Estimated remaining time: 47 seconds.\n",
            "Growing trees.. Progress: 80%. Estimated remaining time: 15 seconds.\n",
            "Growing trees.. Progress: 37%. Estimated remaining time: 53 seconds.\n",
            "Growing trees.. Progress: 73%. Estimated remaining time: 22 seconds.\n",
            "Growing trees.. Progress: 39%. Estimated remaining time: 48 seconds.\n",
            "Growing trees.. Progress: 77%. Estimated remaining time: 18 seconds.\n",
            "Growing trees.. Progress: 40%. Estimated remaining time: 47 seconds.\n",
            "Growing trees.. Progress: 80%. Estimated remaining time: 15 seconds.\n",
            "Growing trees.. Progress: 39%. Estimated remaining time: 48 seconds.\n",
            "Growing trees.. Progress: 78%. Estimated remaining time: 17 seconds.\n",
            "20250905 185349\t260\t30\t630\t12\t5\t245360000\t44\n"
          ]
        },
        {
          "name": "stderr",
          "output_type": "stream",
          "text": [
            "[mbo] 28: num.trees=260; max.depth=30; min.node.size=630; mtry=12 : y = 2.45e+08 : 434.8 secs : infill_ei\n",
            "\n",
            "Saved the current state after iteration 29 in the file HT450.RDATA.\n",
            "\n"
          ]
        },
        {
          "name": "stdout",
          "output_type": "stream",
          "text": [
            "Growing trees.. Progress: 21%. Estimated remaining time: 1 minute, 57 seconds.\n",
            "Growing trees.. Progress: 42%. Estimated remaining time: 1 minute, 26 seconds.\n",
            "Growing trees.. Progress: 63%. Estimated remaining time: 55 seconds.\n",
            "Growing trees.. Progress: 84%. Estimated remaining time: 23 seconds.\n",
            "Growing trees.. Progress: 22%. Estimated remaining time: 1 minute, 53 seconds.\n",
            "Growing trees.. Progress: 43%. Estimated remaining time: 1 minute, 20 seconds.\n",
            "Growing trees.. Progress: 65%. Estimated remaining time: 50 seconds.\n",
            "Growing trees.. Progress: 87%. Estimated remaining time: 19 seconds.\n",
            "Growing trees.. Progress: 22%. Estimated remaining time: 1 minute, 53 seconds.\n",
            "Growing trees.. Progress: 43%. Estimated remaining time: 1 minute, 22 seconds.\n",
            "Growing trees.. Progress: 66%. Estimated remaining time: 49 seconds.\n",
            "Growing trees.. Progress: 87%. Estimated remaining time: 17 seconds.\n",
            "Growing trees.. Progress: 22%. Estimated remaining time: 1 minute, 48 seconds.\n",
            "Growing trees.. Progress: 44%. Estimated remaining time: 1 minute, 17 seconds.\n",
            "Growing trees.. Progress: 67%. Estimated remaining time: 47 seconds.\n",
            "Growing trees.. Progress: 89%. Estimated remaining time: 15 seconds.\n",
            "Growing trees.. Progress: 20%. Estimated remaining time: 2 minutes, 2 seconds.\n",
            "Growing trees.. Progress: 40%. Estimated remaining time: 1 minute, 31 seconds.\n",
            "Growing trees.. Progress: 60%. Estimated remaining time: 1 minute, 1 seconds.\n",
            "Growing trees.. Progress: 80%. Estimated remaining time: 30 seconds.\n",
            "Growing trees.. Progress: 100%. Estimated remaining time: 0 seconds.\n",
            "20250905 190638\t302\t14\t346\t22\t5\t238060000\t45\n"
          ]
        },
        {
          "name": "stderr",
          "output_type": "stream",
          "text": [
            "[mbo] 29: num.trees=302; max.depth=14; min.node.size=346; mtry=22 : y = 2.38e+08 : 769.1 secs : infill_ei\n",
            "\n",
            "Saved the current state after iteration 30 in the file HT450.RDATA.\n",
            "\n"
          ]
        },
        {
          "name": "stdout",
          "output_type": "stream",
          "text": [
            "Growing trees.. Progress: 32%. Estimated remaining time: 1 minute, 5 seconds.\n",
            "Growing trees.. Progress: 65%. Estimated remaining time: 34 seconds.\n",
            "Growing trees.. Progress: 98%. Estimated remaining time: 1 seconds.\n",
            "Growing trees.. Progress: 33%. Estimated remaining time: 1 minute, 2 seconds.\n",
            "Growing trees.. Progress: 67%. Estimated remaining time: 31 seconds.\n",
            "Growing trees.. Progress: 100%. Estimated remaining time: 0 seconds.\n",
            "Growing trees.. Progress: 34%. Estimated remaining time: 1 minute, 0 seconds.\n",
            "Growing trees.. Progress: 68%. Estimated remaining time: 28 seconds.\n",
            "Growing trees.. Progress: 33%. Estimated remaining time: 1 minute, 1 seconds.\n",
            "Growing trees.. Progress: 67%. Estimated remaining time: 31 seconds.\n",
            "Growing trees.. Progress: 99%. Estimated remaining time: 0 seconds.\n",
            "Growing trees.. Progress: 32%. Estimated remaining time: 1 minute, 5 seconds.\n",
            "Growing trees.. Progress: 64%. Estimated remaining time: 34 seconds.\n",
            "Growing trees.. Progress: 96%. Estimated remaining time: 3 seconds.\n",
            "20250905 191508\t293\t19\t503\t13\t5\t246880000\t46\n"
          ]
        },
        {
          "name": "stderr",
          "output_type": "stream",
          "text": [
            "[mbo] 30: num.trees=293; max.depth=19; min.node.size=503; mtry=13 : y = 2.47e+08 : 508.9 secs : infill_ei\n",
            "\n",
            "Warning message in generateDesign(control$infill.opt.focussearch.points, ps.local, :\n",
            "\"generateDesign could only produce 924 points instead of 1000!\"\n"
          ]
        },
        {
          "name": "stdout",
          "output_type": "stream",
          "text": [
            "Growing trees.. Progress: 9%. Estimated remaining time: 5 minutes, 3 seconds.\n",
            "Growing trees.. Progress: 19%. Estimated remaining time: 4 minutes, 29 seconds.\n",
            "Growing trees.. Progress: 28%. Estimated remaining time: 3 minutes, 59 seconds.\n",
            "Growing trees.. Progress: 38%. Estimated remaining time: 3 minutes, 26 seconds.\n",
            "Growing trees.. Progress: 47%. Estimated remaining time: 2 minutes, 56 seconds.\n",
            "Growing trees.. Progress: 57%. Estimated remaining time: 2 minutes, 24 seconds.\n",
            "Growing trees.. Progress: 66%. Estimated remaining time: 1 minute, 53 seconds.\n",
            "Growing trees.. Progress: 76%. Estimated remaining time: 1 minute, 21 seconds.\n",
            "Growing trees.. Progress: 85%. Estimated remaining time: 50 seconds.\n",
            "Growing trees.. Progress: 94%. Estimated remaining time: 18 seconds.\n",
            "Growing trees.. Progress: 10%. Estimated remaining time: 4 minutes, 49 seconds.\n",
            "Growing trees.. Progress: 20%. Estimated remaining time: 4 minutes, 19 seconds.\n",
            "Growing trees.. Progress: 29%. Estimated remaining time: 3 minutes, 47 seconds.\n",
            "Growing trees.. Progress: 39%. Estimated remaining time: 3 minutes, 16 seconds.\n",
            "Growing trees.. Progress: 49%. Estimated remaining time: 2 minutes, 44 seconds.\n",
            "Growing trees.. Progress: 59%. Estimated remaining time: 2 minutes, 13 seconds.\n",
            "Growing trees.. Progress: 68%. Estimated remaining time: 1 minute, 43 seconds.\n",
            "Growing trees.. Progress: 77%. Estimated remaining time: 1 minute, 13 seconds.\n",
            "Growing trees.. Progress: 87%. Estimated remaining time: 42 seconds.\n",
            "Growing trees.. Progress: 96%. Estimated remaining time: 12 seconds.\n",
            "Growing trees.. Progress: 10%. Estimated remaining time: 4 minutes, 49 seconds.\n",
            "Growing trees.. Progress: 19%. Estimated remaining time: 4 minutes, 18 seconds.\n",
            "Growing trees.. Progress: 29%. Estimated remaining time: 3 minutes, 47 seconds.\n",
            "Growing trees.. Progress: 39%. Estimated remaining time: 3 minutes, 14 seconds.\n",
            "Growing trees.. Progress: 49%. Estimated remaining time: 2 minutes, 43 seconds.\n",
            "Growing trees.. Progress: 59%. Estimated remaining time: 2 minutes, 11 seconds.\n",
            "Growing trees.. Progress: 69%. Estimated remaining time: 1 minute, 40 seconds.\n",
            "Growing trees.. Progress: 78%. Estimated remaining time: 1 minute, 9 seconds.\n",
            "Growing trees.. Progress: 88%. Estimated remaining time: 39 seconds.\n",
            "Growing trees.. Progress: 97%. Estimated remaining time: 8 seconds.\n",
            "Growing trees.. Progress: 9%. Estimated remaining time: 4 minutes, 56 seconds.\n",
            "Growing trees.. Progress: 19%. Estimated remaining time: 4 minutes, 29 seconds.\n",
            "Growing trees.. Progress: 28%. Estimated remaining time: 3 minutes, 57 seconds.\n",
            "Growing trees.. Progress: 38%. Estimated remaining time: 3 minutes, 25 seconds.\n",
            "Growing trees.. Progress: 47%. Estimated remaining time: 2 minutes, 54 seconds.\n",
            "Growing trees.. Progress: 57%. Estimated remaining time: 2 minutes, 23 seconds.\n",
            "Growing trees.. Progress: 66%. Estimated remaining time: 1 minute, 52 seconds.\n",
            "Growing trees.. Progress: 76%. Estimated remaining time: 1 minute, 20 seconds.\n",
            "Growing trees.. Progress: 85%. Estimated remaining time: 48 seconds.\n",
            "Growing trees.. Progress: 95%. Estimated remaining time: 17 seconds.\n",
            "Growing trees.. Progress: 9%. Estimated remaining time: 4 minutes, 56 seconds.\n",
            "Growing trees.. Progress: 19%. Estimated remaining time: 4 minutes, 26 seconds.\n",
            "Growing trees.. Progress: 29%. Estimated remaining time: 3 minutes, 52 seconds.\n",
            "Growing trees.. Progress: 38%. Estimated remaining time: 3 minutes, 19 seconds.\n",
            "Growing trees.. Progress: 48%. Estimated remaining time: 2 minutes, 48 seconds.\n",
            "Growing trees.. Progress: 58%. Estimated remaining time: 2 minutes, 17 seconds.\n",
            "Growing trees.. Progress: 67%. Estimated remaining time: 1 minute, 46 seconds.\n",
            "Growing trees.. Progress: 77%. Estimated remaining time: 1 minute, 15 seconds.\n",
            "Growing trees.. Progress: 87%. Estimated remaining time: 42 seconds.\n",
            "Growing trees.. Progress: 96%. Estimated remaining time: 12 seconds.\n",
            "20250905 194317\t486\t12\t999\t37\t5\t235300000\t47\n"
          ]
        },
        {
          "name": "stderr",
          "output_type": "stream",
          "text": [
            "[mbo] 31: num.trees=486; max.depth=12; min.node.size=999; mtry=37 : y = 2.35e+08 : 1688.2 secs : infill_ei\n",
            "\n",
            "Saved the current state after iteration 32 in the file HT450.RDATA.\n",
            "\n"
          ]
        },
        {
          "name": "stdout",
          "output_type": "stream",
          "text": [
            "Growing trees.. Progress: 8%. Estimated remaining time: 5 minutes, 38 seconds.\n",
            "Growing trees.. Progress: 17%. Estimated remaining time: 5 minutes, 7 seconds.\n",
            "Growing trees.. Progress: 26%. Estimated remaining time: 4 minutes, 36 seconds.\n",
            "Growing trees.. Progress: 34%. Estimated remaining time: 4 minutes, 2 seconds.\n",
            "Growing trees.. Progress: 43%. Estimated remaining time: 3 minutes, 32 seconds.\n",
            "Growing trees.. Progress: 51%. Estimated remaining time: 3 minutes, 3 seconds.\n",
            "Growing trees.. Progress: 59%. Estimated remaining time: 2 minutes, 32 seconds.\n",
            "Growing trees.. Progress: 68%. Estimated remaining time: 2 minutes, 0 seconds.\n",
            "Growing trees.. Progress: 76%. Estimated remaining time: 1 minute, 29 seconds.\n",
            "Growing trees.. Progress: 84%. Estimated remaining time: 58 seconds.\n",
            "Growing trees.. Progress: 93%. Estimated remaining time: 27 seconds.\n",
            "Growing trees.. Progress: 100%. Estimated remaining time: 1 seconds.\n",
            "Growing trees.. Progress: 8%. Estimated remaining time: 5 minutes, 47 seconds.\n",
            "Growing trees.. Progress: 17%. Estimated remaining time: 5 minutes, 7 seconds.\n",
            "Growing trees.. Progress: 25%. Estimated remaining time: 4 minutes, 36 seconds.\n",
            "Growing trees.. Progress: 34%. Estimated remaining time: 4 minutes, 5 seconds.\n",
            "Growing trees.. Progress: 42%. Estimated remaining time: 3 minutes, 34 seconds.\n",
            "Growing trees.. Progress: 50%. Estimated remaining time: 3 minutes, 4 seconds.\n",
            "Growing trees.. Progress: 59%. Estimated remaining time: 2 minutes, 30 seconds.\n",
            "Growing trees.. Progress: 68%. Estimated remaining time: 1 minute, 57 seconds.\n",
            "Growing trees.. Progress: 77%. Estimated remaining time: 1 minute, 23 seconds.\n",
            "Growing trees.. Progress: 86%. Estimated remaining time: 51 seconds.\n",
            "Growing trees.. Progress: 95%. Estimated remaining time: 18 seconds.\n",
            "Growing trees.. Progress: 9%. Estimated remaining time: 5 minutes, 31 seconds.\n",
            "Growing trees.. Progress: 18%. Estimated remaining time: 4 minutes, 54 seconds.\n",
            "Growing trees.. Progress: 26%. Estimated remaining time: 4 minutes, 27 seconds.\n",
            "Growing trees.. Progress: 35%. Estimated remaining time: 3 minutes, 56 seconds.\n",
            "Growing trees.. Progress: 43%. Estimated remaining time: 3 minutes, 26 seconds.\n",
            "Growing trees.. Progress: 52%. Estimated remaining time: 2 minutes, 54 seconds.\n",
            "Growing trees.. Progress: 61%. Estimated remaining time: 2 minutes, 23 seconds.\n",
            "Growing trees.. Progress: 69%. Estimated remaining time: 1 minute, 52 seconds.\n",
            "Growing trees.. Progress: 78%. Estimated remaining time: 1 minute, 21 seconds.\n",
            "Growing trees.. Progress: 86%. Estimated remaining time: 51 seconds.\n",
            "Growing trees.. Progress: 95%. Estimated remaining time: 19 seconds.\n",
            "Growing trees.. Progress: 8%. Estimated remaining time: 5 minutes, 47 seconds.\n",
            "Growing trees.. Progress: 17%. Estimated remaining time: 5 minutes, 7 seconds.\n",
            "Growing trees.. Progress: 25%. Estimated remaining time: 4 minutes, 33 seconds.\n",
            "Growing trees.. Progress: 34%. Estimated remaining time: 4 minutes, 4 seconds.\n",
            "Growing trees.. Progress: 43%. Estimated remaining time: 3 minutes, 31 seconds.\n",
            "Growing trees.. Progress: 51%. Estimated remaining time: 3 minutes, 1 seconds.\n",
            "Growing trees.. Progress: 60%. Estimated remaining time: 2 minutes, 29 seconds.\n",
            "Growing trees.. Progress: 68%. Estimated remaining time: 1 minute, 58 seconds.\n",
            "Growing trees.. Progress: 76%. Estimated remaining time: 1 minute, 27 seconds.\n",
            "Growing trees.. Progress: 85%. Estimated remaining time: 55 seconds.\n",
            "Growing trees.. Progress: 94%. Estimated remaining time: 23 seconds.\n",
            "Growing trees.. Progress: 8%. Estimated remaining time: 5 minutes, 56 seconds.\n",
            "Growing trees.. Progress: 16%. Estimated remaining time: 5 minutes, 16 seconds.\n",
            "Growing trees.. Progress: 25%. Estimated remaining time: 4 minutes, 48 seconds.\n",
            "Growing trees.. Progress: 33%. Estimated remaining time: 4 minutes, 15 seconds.\n",
            "Growing trees.. Progress: 41%. Estimated remaining time: 3 minutes, 42 seconds.\n",
            "Growing trees.. Progress: 50%. Estimated remaining time: 3 minutes, 12 seconds.\n",
            "Growing trees.. Progress: 58%. Estimated remaining time: 2 minutes, 39 seconds.\n",
            "Growing trees.. Progress: 66%. Estimated remaining time: 2 minutes, 7 seconds.\n",
            "Growing trees.. Progress: 75%. Estimated remaining time: 1 minute, 35 seconds.\n",
            "Growing trees.. Progress: 83%. Estimated remaining time: 1 minute, 3 seconds.\n",
            "Growing trees.. Progress: 92%. Estimated remaining time: 31 seconds.\n",
            "Growing trees.. Progress: 100%. Estimated remaining time: 1 seconds.\n",
            "20250905 201512\t500\t11\t611\t44\t5\t232780000\t48\n"
          ]
        },
        {
          "name": "stderr",
          "output_type": "stream",
          "text": [
            "[mbo] 32: num.trees=500; max.depth=11; min.node.size=611; mtry=44 : y = 2.33e+08 : 1914.4 secs : infill_ei\n",
            "\n",
            "Saved the current state after iteration 33 in the file HT450.RDATA.\n",
            "\n",
            "Warning message in generateDesign(control$infill.opt.focussearch.points, ps.local, :\n",
            "\"generateDesign could only produce 993 points instead of 1000!\"\n"
          ]
        },
        {
          "name": "stdout",
          "output_type": "stream",
          "text": [
            "Growing trees.. Progress: 22%. Estimated remaining time: 1 minute, 52 seconds.\n",
            "Growing trees.. Progress: 44%. Estimated remaining time: 1 minute, 20 seconds.\n",
            "Growing trees.. Progress: 65%. Estimated remaining time: 49 seconds.\n",
            "Growing trees.. Progress: 88%. Estimated remaining time: 17 seconds.\n",
            "Growing trees.. Progress: 22%. Estimated remaining time: 1 minute, 51 seconds.\n",
            "Growing trees.. Progress: 44%. Estimated remaining time: 1 minute, 17 seconds.\n",
            "Growing trees.. Progress: 67%. Estimated remaining time: 46 seconds.\n",
            "Growing trees.. Progress: 89%. Estimated remaining time: 14 seconds.\n",
            "Growing trees.. Progress: 22%. Estimated remaining time: 1 minute, 47 seconds.\n",
            "Growing trees.. Progress: 45%. Estimated remaining time: 1 minute, 15 seconds.\n",
            "Growing trees.. Progress: 68%. Estimated remaining time: 44 seconds.\n",
            "Growing trees.. Progress: 90%. Estimated remaining time: 13 seconds.\n",
            "Growing trees.. Progress: 23%. Estimated remaining time: 1 minute, 44 seconds.\n",
            "Growing trees.. Progress: 46%. Estimated remaining time: 1 minute, 13 seconds.\n",
            "Growing trees.. Progress: 69%. Estimated remaining time: 42 seconds.\n",
            "Growing trees.. Progress: 91%. Estimated remaining time: 11 seconds.\n",
            "Growing trees.. Progress: 22%. Estimated remaining time: 1 minute, 52 seconds.\n",
            "Growing trees.. Progress: 43%. Estimated remaining time: 1 minute, 21 seconds.\n",
            "Growing trees.. Progress: 65%. Estimated remaining time: 50 seconds.\n",
            "Growing trees.. Progress: 86%. Estimated remaining time: 19 seconds.\n",
            "20250905 202741\t500\t11\t351\t15\t5\t236300000\t49\n"
          ]
        },
        {
          "name": "stderr",
          "output_type": "stream",
          "text": [
            "[mbo] 33: num.trees=500; max.depth=11; min.node.size=351; mtry=15 : y = 2.36e+08 : 748.2 secs : infill_ei\n",
            "\n",
            "Saved the current state after iteration 34 in the file HT450.RDATA.\n",
            "\n"
          ]
        },
        {
          "name": "stdout",
          "output_type": "stream",
          "text": [
            "Growing trees.. Progress: 68%. Estimated remaining time: 14 seconds.\n",
            "Growing trees.. Progress: 70%. Estimated remaining time: 13 seconds.\n",
            "Growing trees.. Progress: 69%. Estimated remaining time: 13 seconds.\n",
            "Growing trees.. Progress: 70%. Estimated remaining time: 13 seconds.\n",
            "Growing trees.. Progress: 67%. Estimated remaining time: 14 seconds.\n",
            "20250905 203203\t304\t21\t350\t5\t5\t243760000\t50\n"
          ]
        },
        {
          "name": "stderr",
          "output_type": "stream",
          "text": [
            "[mbo] 34: num.trees=304; max.depth=21; min.node.size=350; mtry=5 : y = 2.44e+08 : 261.6 secs : infill_ei\n",
            "\n",
            "Warning message in generateDesign(control$infill.opt.focussearch.points, ps.local, :\n",
            "\"generateDesign could only produce 967 points instead of 1000!\"\n"
          ]
        },
        {
          "name": "stdout",
          "output_type": "stream",
          "text": [
            "Growing trees.. Progress: 36%. Estimated remaining time: 54 seconds.\n",
            "Growing trees.. Progress: 72%. Estimated remaining time: 23 seconds.\n",
            "Growing trees.. Progress: 37%. Estimated remaining time: 52 seconds.\n",
            "Growing trees.. Progress: 74%. Estimated remaining time: 21 seconds.\n",
            "Growing trees.. Progress: 37%. Estimated remaining time: 53 seconds.\n",
            "Growing trees.. Progress: 72%. Estimated remaining time: 23 seconds.\n",
            "Growing trees.. Progress: 37%. Estimated remaining time: 52 seconds.\n",
            "Growing trees.. Progress: 74%. Estimated remaining time: 21 seconds.\n",
            "Growing trees.. Progress: 37%. Estimated remaining time: 53 seconds.\n",
            "Growing trees.. Progress: 74%. Estimated remaining time: 22 seconds.\n",
            "20250905 204009\t476\t30\t1\t6\t5\t235620000\t51\n"
          ]
        },
        {
          "name": "stderr",
          "output_type": "stream",
          "text": [
            "[mbo] 35: num.trees=476; max.depth=30; min.node.size=1; mtry=6 : y = 2.36e+08 : 485.4 secs : infill_ei\n",
            "\n",
            "Saved the current state after iteration 36 in the file HT450.RDATA.\n",
            "\n"
          ]
        },
        {
          "name": "stdout",
          "output_type": "stream",
          "text": [
            "Growing trees.. Progress: 12%. Estimated remaining time: 3 minutes, 38 seconds.\n",
            "Growing trees.. Progress: 25%. Estimated remaining time: 3 minutes, 4 seconds.\n",
            "Growing trees.. Progress: 38%. Estimated remaining time: 2 minutes, 33 seconds.\n",
            "Growing trees.. Progress: 51%. Estimated remaining time: 2 minutes, 0 seconds.\n",
            "Growing trees.. Progress: 64%. Estimated remaining time: 1 minute, 27 seconds.\n",
            "Growing trees.. Progress: 77%. Estimated remaining time: 56 seconds.\n",
            "Growing trees.. Progress: 90%. Estimated remaining time: 25 seconds.\n",
            "Growing trees.. Progress: 13%. Estimated remaining time: 3 minutes, 32 seconds.\n",
            "Growing trees.. Progress: 25%. Estimated remaining time: 3 minutes, 4 seconds.\n",
            "Growing trees.. Progress: 38%. Estimated remaining time: 2 minutes, 31 seconds.\n",
            "Growing trees.. Progress: 51%. Estimated remaining time: 2 minutes, 1 seconds.\n",
            "Growing trees.. Progress: 64%. Estimated remaining time: 1 minute, 29 seconds.\n",
            "Growing trees.. Progress: 76%. Estimated remaining time: 57 seconds.\n",
            "Growing trees.. Progress: 90%. Estimated remaining time: 25 seconds.\n",
            "Growing trees.. Progress: 12%. Estimated remaining time: 3 minutes, 45 seconds.\n",
            "Growing trees.. Progress: 25%. Estimated remaining time: 3 minutes, 10 seconds.\n",
            "Growing trees.. Progress: 37%. Estimated remaining time: 2 minutes, 38 seconds.\n",
            "Growing trees.. Progress: 50%. Estimated remaining time: 2 minutes, 6 seconds.\n",
            "Growing trees.. Progress: 62%. Estimated remaining time: 1 minute, 35 seconds.\n",
            "Growing trees.. Progress: 75%. Estimated remaining time: 1 minute, 4 seconds.\n",
            "Growing trees.. Progress: 87%. Estimated remaining time: 32 seconds.\n",
            "Growing trees.. Progress: 100%. Estimated remaining time: 0 seconds.\n",
            "Growing trees.. Progress: 13%. Estimated remaining time: 3 minutes, 39 seconds.\n",
            "Growing trees.. Progress: 26%. Estimated remaining time: 3 minutes, 1 seconds.\n",
            "Growing trees.. Progress: 39%. Estimated remaining time: 2 minutes, 31 seconds.\n",
            "Growing trees.. Progress: 51%. Estimated remaining time: 1 minute, 59 seconds.\n",
            "Growing trees.. Progress: 64%. Estimated remaining time: 1 minute, 28 seconds.\n",
            "Growing trees.. Progress: 78%. Estimated remaining time: 54 seconds.\n",
            "Growing trees.. Progress: 92%. Estimated remaining time: 20 seconds.\n",
            "Growing trees.. Progress: 12%. Estimated remaining time: 3 minutes, 38 seconds.\n",
            "Growing trees.. Progress: 25%. Estimated remaining time: 3 minutes, 1 seconds.\n",
            "Growing trees.. Progress: 38%. Estimated remaining time: 2 minutes, 30 seconds.\n",
            "Growing trees.. Progress: 51%. Estimated remaining time: 1 minute, 59 seconds.\n",
            "Growing trees.. Progress: 64%. Estimated remaining time: 1 minute, 28 seconds.\n",
            "Growing trees.. Progress: 76%. Estimated remaining time: 59 seconds.\n",
            "Growing trees.. Progress: 88%. Estimated remaining time: 29 seconds.\n",
            "20250905 210127\t306\t30\t530\t30\t5\t240860000\t52\n"
          ]
        },
        {
          "name": "stderr",
          "output_type": "stream",
          "text": [
            "[mbo] 36: num.trees=306; max.depth=30; min.node.size=530; mtry=30 : y = 2.41e+08 : 1277.4 secs : infill_ei\n",
            "\n",
            "Saved the current state after iteration 37 in the file HT450.RDATA.\n",
            "\n",
            "Warning message in generateDesign(control$infill.opt.focussearch.points, ps.local, :\n",
            "\"generateDesign could only produce 624 points instead of 1000!\"\n",
            "Warning message in generateDesign(control$infill.opt.focussearch.points, ps.local, :\n",
            "\"generateDesign could only produce 540 points instead of 1000!\"\n"
          ]
        },
        {
          "name": "stdout",
          "output_type": "stream",
          "text": [
            "Growing trees.. Progress: 29%. Estimated remaining time: 1 minute, 17 seconds.\n",
            "Growing trees.. Progress: 57%. Estimated remaining time: 46 seconds.\n",
            "Growing trees.. Progress: 86%. Estimated remaining time: 15 seconds.\n",
            "Growing trees.. Progress: 29%. Estimated remaining time: 1 minute, 14 seconds.\n",
            "Growing trees.. Progress: 59%. Estimated remaining time: 42 seconds.\n",
            "Growing trees.. Progress: 89%. Estimated remaining time: 11 seconds.\n",
            "Growing trees.. Progress: 30%. Estimated remaining time: 1 minute, 13 seconds.\n",
            "Growing trees.. Progress: 59%. Estimated remaining time: 42 seconds.\n",
            "Growing trees.. Progress: 88%. Estimated remaining time: 12 seconds.\n",
            "Growing trees.. Progress: 30%. Estimated remaining time: 1 minute, 13 seconds.\n",
            "Growing trees.. Progress: 59%. Estimated remaining time: 42 seconds.\n",
            "Growing trees.. Progress: 90%. Estimated remaining time: 10 seconds.\n",
            "Growing trees.. Progress: 29%. Estimated remaining time: 1 minute, 17 seconds.\n",
            "Growing trees.. Progress: 58%. Estimated remaining time: 45 seconds.\n",
            "Growing trees.. Progress: 87%. Estimated remaining time: 13 seconds.\n",
            "20250905 211053\t286\t17\t492\t15\t5\t241240000\t53\n"
          ]
        },
        {
          "name": "stderr",
          "output_type": "stream",
          "text": [
            "[mbo] 37: num.trees=286; max.depth=17; min.node.size=492; mtry=15 : y = 2.41e+08 : 565.4 secs : infill_ei\n",
            "\n"
          ]
        },
        {
          "name": "stdout",
          "output_type": "stream",
          "text": [
            "Growing trees.. Progress: 49%. Estimated remaining time: 32 seconds.\n",
            "Growing trees.. Progress: 100%. Estimated remaining time: 0 seconds.\n",
            "Growing trees.. Progress: 51%. Estimated remaining time: 29 seconds.\n",
            "Growing trees.. Progress: 53%. Estimated remaining time: 27 seconds.\n",
            "Growing trees.. Progress: 51%. Estimated remaining time: 29 seconds.\n",
            "Growing trees.. Progress: 49%. Estimated remaining time: 32 seconds.\n",
            "Growing trees.. Progress: 98%. Estimated remaining time: 1 seconds.\n",
            "20250905 211618\t57\t14\t1\t50\t5\t189600000\t54\n"
          ]
        },
        {
          "name": "stderr",
          "output_type": "stream",
          "text": [
            "[mbo] 38: num.trees=57; max.depth=14; min.node.size=1; mtry=50 : y = 1.9e+08 : 324.1 secs : infill_ei\n",
            "\n",
            "Saved the current state after iteration 39 in the file HT450.RDATA.\n",
            "\n"
          ]
        },
        {
          "name": "stdout",
          "output_type": "stream",
          "text": [
            "Growing trees.. Progress: 21%. Estimated remaining time: 1 minute, 53 seconds.\n",
            "Growing trees.. Progress: 43%. Estimated remaining time: 1 minute, 21 seconds.\n",
            "Growing trees.. Progress: 65%. Estimated remaining time: 50 seconds.\n",
            "Growing trees.. Progress: 86%. Estimated remaining time: 20 seconds.\n",
            "Growing trees.. Progress: 21%. Estimated remaining time: 1 minute, 56 seconds.\n",
            "Growing trees.. Progress: 42%. Estimated remaining time: 1 minute, 23 seconds.\n",
            "Growing trees.. Progress: 64%. Estimated remaining time: 51 seconds.\n",
            "Growing trees.. Progress: 86%. Estimated remaining time: 20 seconds.\n",
            "Growing trees.. Progress: 21%. Estimated remaining time: 1 minute, 54 seconds.\n",
            "Growing trees.. Progress: 43%. Estimated remaining time: 1 minute, 23 seconds.\n",
            "Growing trees.. Progress: 64%. Estimated remaining time: 51 seconds.\n",
            "Growing trees.. Progress: 86%. Estimated remaining time: 20 seconds.\n",
            "Growing trees.. Progress: 22%. Estimated remaining time: 1 minute, 51 seconds.\n",
            "Growing trees.. Progress: 43%. Estimated remaining time: 1 minute, 22 seconds.\n",
            "Growing trees.. Progress: 65%. Estimated remaining time: 50 seconds.\n",
            "Growing trees.. Progress: 87%. Estimated remaining time: 19 seconds.\n",
            "Growing trees.. Progress: 21%. Estimated remaining time: 1 minute, 58 seconds.\n",
            "Growing trees.. Progress: 42%. Estimated remaining time: 1 minute, 26 seconds.\n",
            "Growing trees.. Progress: 63%. Estimated remaining time: 55 seconds.\n",
            "Growing trees.. Progress: 84%. Estimated remaining time: 24 seconds.\n",
            "20250905 212917\t433\t29\t452\t13\t5\t251580000\t55\n"
          ]
        },
        {
          "name": "stderr",
          "output_type": "stream",
          "text": [
            "[mbo] 39: num.trees=433; max.depth=29; min.node.size=452; mtry=13 : y = 2.52e+08 : 779.2 secs : infill_ei\n",
            "\n",
            "Saved the current state after iteration 40 in the file HT450.RDATA.\n",
            "\n"
          ]
        },
        {
          "name": "stdout",
          "output_type": "stream",
          "text": [
            "Growing trees.. Progress: 18%. Estimated remaining time: 2 minutes, 25 seconds.\n",
            "Growing trees.. Progress: 35%. Estimated remaining time: 1 minute, 55 seconds.\n",
            "Growing trees.. Progress: 53%. Estimated remaining time: 1 minute, 23 seconds.\n",
            "Growing trees.. Progress: 71%. Estimated remaining time: 51 seconds.\n",
            "Growing trees.. Progress: 89%. Estimated remaining time: 19 seconds.\n",
            "Growing trees.. Progress: 18%. Estimated remaining time: 2 minutes, 21 seconds.\n",
            "Growing trees.. Progress: 36%. Estimated remaining time: 1 minute, 49 seconds.\n",
            "Growing trees.. Progress: 54%. Estimated remaining time: 1 minute, 18 seconds.\n",
            "Growing trees.. Progress: 73%. Estimated remaining time: 46 seconds.\n",
            "Growing trees.. Progress: 91%. Estimated remaining time: 15 seconds.\n",
            "Growing trees.. Progress: 18%. Estimated remaining time: 2 minutes, 25 seconds.\n",
            "Growing trees.. Progress: 36%. Estimated remaining time: 1 minute, 52 seconds.\n",
            "Growing trees.. Progress: 54%. Estimated remaining time: 1 minute, 19 seconds.\n",
            "Growing trees.. Progress: 72%. Estimated remaining time: 48 seconds.\n",
            "Growing trees.. Progress: 90%. Estimated remaining time: 16 seconds.\n",
            "Growing trees.. Progress: 18%. Estimated remaining time: 2 minutes, 19 seconds.\n",
            "Growing trees.. Progress: 36%. Estimated remaining time: 1 minute, 48 seconds.\n",
            "Growing trees.. Progress: 55%. Estimated remaining time: 1 minute, 16 seconds.\n",
            "Growing trees.. Progress: 73%. Estimated remaining time: 45 seconds.\n",
            "Growing trees.. Progress: 92%. Estimated remaining time: 13 seconds.\n",
            "Growing trees.. Progress: 18%. Estimated remaining time: 2 minutes, 19 seconds.\n",
            "Growing trees.. Progress: 36%. Estimated remaining time: 1 minute, 48 seconds.\n",
            "Growing trees.. Progress: 55%. Estimated remaining time: 1 minute, 17 seconds.\n",
            "Growing trees.. Progress: 73%. Estimated remaining time: 47 seconds.\n",
            "Growing trees.. Progress: 91%. Estimated remaining time: 15 seconds.\n",
            "20250905 214432\t439\t18\t457\t16\t5\t2.44e+08\t56\n"
          ]
        },
        {
          "name": "stderr",
          "output_type": "stream",
          "text": [
            "[mbo] 40: num.trees=439; max.depth=18; min.node.size=457; mtry=16 : y = 2.44e+08 : 913.8 secs : infill_ei\n",
            "\n",
            "Saved the final state in the file HT450.RDATA\n",
            "\n",
            "Saved the final state in the file HT450.RDATA\n",
            "\n"
          ]
        }
      ],
      "source": [
        "# inicio la optimizacion bayesiana\n",
        "\n",
        "if (!file.exists(kbayesiana)) {\n",
        "  run <- mbo(obj.fun, learner= surr.km, control= ctrl)\n",
        "} else {\n",
        "  run <- mboContinue(kbayesiana)\n",
        "} # retomo en caso que ya exista"
      ]
    },
    {
      "cell_type": "code",
      "execution_count": 36,
      "metadata": {
        "id": "eP-AGz8RQgK0",
        "vscode": {
          "languageId": "r"
        }
      },
      "outputs": [
        {
          "data": {
            "text/html": [
              "<table class=\"dataframe\">\n",
              "<caption>A data.table: 56 × 8</caption>\n",
              "<thead>\n",
              "\t<tr><th scope=col>fecha</th><th scope=col>num.trees</th><th scope=col>max.depth</th><th scope=col>min.node.size</th><th scope=col>mtry</th><th scope=col>xval_folds</th><th scope=col>ganancia</th><th scope=col>iteracion</th></tr>\n",
              "\t<tr><th scope=col>&lt;chr&gt;</th><th scope=col>&lt;int&gt;</th><th scope=col>&lt;int&gt;</th><th scope=col>&lt;int&gt;</th><th scope=col>&lt;int&gt;</th><th scope=col>&lt;int&gt;</th><th scope=col>&lt;dbl&gt;</th><th scope=col>&lt;int&gt;</th></tr>\n",
              "</thead>\n",
              "<tbody>\n",
              "\t<tr><td>20250905 161459</td><td>307</td><td>17</td><td> 336</td><td>14</td><td>5</td><td>252560000</td><td>25</td></tr>\n",
              "\t<tr><td>20250905 212917</td><td>433</td><td>29</td><td> 452</td><td>13</td><td>5</td><td>251580000</td><td>55</td></tr>\n",
              "\t<tr><td>20250905 171018</td><td>378</td><td>18</td><td> 410</td><td>17</td><td>5</td><td>248040000</td><td>32</td></tr>\n",
              "\t<tr><td>20250905 165616</td><td>307</td><td>25</td><td> 801</td><td>16</td><td>5</td><td>247560000</td><td>31</td></tr>\n",
              "\t<tr><td>20250905 182556</td><td>401</td><td>17</td><td> 343</td><td> 9</td><td>5</td><td>247500000</td><td>39</td></tr>\n",
              "\t<tr><td>20250905 191508</td><td>293</td><td>19</td><td> 503</td><td>13</td><td>5</td><td>246880000</td><td>46</td></tr>\n",
              "\t<tr><td>20250905 180130</td><td>500</td><td>30</td><td> 617</td><td>17</td><td>5</td><td>246700000</td><td>37</td></tr>\n",
              "\t<tr><td>20250905 185349</td><td>260</td><td>30</td><td> 630</td><td>12</td><td>5</td><td>245360000</td><td>44</td></tr>\n",
              "\t<tr><td>20250905 143859</td><td>500</td><td>14</td><td> 312</td><td>18</td><td>5</td><td>245160000</td><td>19</td></tr>\n",
              "\t<tr><td>20250905 112629</td><td>355</td><td>26</td><td> 575</td><td> 8</td><td>5</td><td>245060000</td><td> 3</td></tr>\n",
              "\t<tr><td>20250905 142121</td><td>500</td><td>24</td><td>1000</td><td>16</td><td>5</td><td>245040000</td><td>18</td></tr>\n",
              "\t<tr><td>20250905 214432</td><td>439</td><td>18</td><td> 457</td><td>16</td><td>5</td><td>244000000</td><td>56</td></tr>\n",
              "\t<tr><td>20250905 145624</td><td>500</td><td>20</td><td> 701</td><td>16</td><td>5</td><td>243900000</td><td>20</td></tr>\n",
              "\t<tr><td>20250905 203203</td><td>304</td><td>21</td><td> 350</td><td> 5</td><td>5</td><td>243760000</td><td>50</td></tr>\n",
              "\t<tr><td>20250905 131625</td><td>386</td><td>17</td><td> 993</td><td>15</td><td>5</td><td>243720000</td><td>16</td></tr>\n",
              "\t<tr><td>20250905 184432</td><td>500</td><td>30</td><td> 337</td><td> 4</td><td>5</td><td>242500000</td><td>42</td></tr>\n",
              "\t<tr><td>20250905 160529</td><td>331</td><td>30</td><td> 850</td><td>15</td><td>5</td><td>242240000</td><td>24</td></tr>\n",
              "\t<tr><td>20250905 172028</td><td>314</td><td>12</td><td> 239</td><td>18</td><td>5</td><td>242000000</td><td>33</td></tr>\n",
              "\t<tr><td>20250905 211053</td><td>286</td><td>17</td><td> 492</td><td>15</td><td>5</td><td>241240000</td><td>53</td></tr>\n",
              "\t<tr><td>20250905 210127</td><td>306</td><td>30</td><td> 530</td><td>30</td><td>5</td><td>240860000</td><td>52</td></tr>\n",
              "\t<tr><td>20250905 114244</td><td>329</td><td>12</td><td> 481</td><td>29</td><td>5</td><td>240840000</td><td> 4</td></tr>\n",
              "\t<tr><td>20250905 115050</td><td>427</td><td>20</td><td> 166</td><td> 7</td><td>5</td><td>240040000</td><td> 5</td></tr>\n",
              "\t<tr><td>20250905 181736</td><td>376</td><td>16</td><td> 623</td><td>21</td><td>5</td><td>239200000</td><td>38</td></tr>\n",
              "\t<tr><td>20250905 183816</td><td>378</td><td>17</td><td> 237</td><td>14</td><td>5</td><td>238800000</td><td>41</td></tr>\n",
              "\t<tr><td>20250905 172750</td><td>261</td><td>24</td><td> 320</td><td>12</td><td>5</td><td>238660000</td><td>34</td></tr>\n",
              "\t<tr><td>20250905 151922</td><td>350</td><td>19</td><td>1000</td><td>26</td><td>5</td><td>238620000</td><td>22</td></tr>\n",
              "\t<tr><td>20250905 190638</td><td>302</td><td>14</td><td> 346</td><td>22</td><td>5</td><td>238060000</td><td>45</td></tr>\n",
              "\t<tr><td>20250905 164459</td><td>363</td><td> 9</td><td>   1</td><td>21</td><td>5</td><td>236940000</td><td>29</td></tr>\n",
              "\t<tr><td>20250905 202741</td><td>500</td><td>11</td><td> 351</td><td>15</td><td>5</td><td>236300000</td><td>49</td></tr>\n",
              "\t<tr><td>20250905 204009</td><td>476</td><td>30</td><td>   1</td><td> 6</td><td>5</td><td>235620000</td><td>51</td></tr>\n",
              "\t<tr><td>20250905 194317</td><td>486</td><td>12</td><td> 999</td><td>37</td><td>5</td><td>235300000</td><td>47</td></tr>\n",
              "\t<tr><td>20250905 174137</td><td>500</td><td> 8</td><td> 304</td><td>26</td><td>5</td><td>235200000</td><td>35</td></tr>\n",
              "\t<tr><td>20250905 124925</td><td>261</td><td>30</td><td> 222</td><td>22</td><td>5</td><td>233520000</td><td>13</td></tr>\n",
              "\t<tr><td>20250905 201512</td><td>500</td><td>11</td><td> 611</td><td>44</td><td>5</td><td>232780000</td><td>48</td></tr>\n",
              "\t<tr><td>20250905 105932</td><td>215</td><td>15</td><td> 421</td><td>36</td><td>5</td><td>231520000</td><td> 1</td></tr>\n",
              "\t<tr><td>20250905 121118</td><td> 36</td><td>24</td><td> 742</td><td> 5</td><td>5</td><td>229860000</td><td> 8</td></tr>\n",
              "\t<tr><td>20250905 115732</td><td>119</td><td>22</td><td> 503</td><td>24</td><td>5</td><td>228240000</td><td> 6</td></tr>\n",
              "\t<tr><td>20250905 162732</td><td>251</td><td> 8</td><td> 359</td><td>50</td><td>5</td><td>227560000</td><td>26</td></tr>\n",
              "\t<tr><td>20250905 140357</td><td>500</td><td>16</td><td>1000</td><td>48</td><td>5</td><td>227460000</td><td>17</td></tr>\n",
              "\t<tr><td>20250905 121042</td><td>466</td><td> 6</td><td> 116</td><td>39</td><td>5</td><td>224280000</td><td> 7</td></tr>\n",
              "\t<tr><td>20250905 111930</td><td>247</td><td>19</td><td> 279</td><td>35</td><td>5</td><td>223600000</td><td> 2</td></tr>\n",
              "\t<tr><td>20250905 130417</td><td>104</td><td>11</td><td>  17</td><td>28</td><td>5</td><td>223340000</td><td>15</td></tr>\n",
              "\t<tr><td>20250905 163115</td><td>478</td><td>16</td><td>   1</td><td> 2</td><td>5</td><td>222120000</td><td>27</td></tr>\n",
              "\t<tr><td>20250905 174229</td><td> 20</td><td>27</td><td>1000</td><td>17</td><td>5</td><td>222100000</td><td>36</td></tr>\n",
              "\t<tr><td>20250905 150011</td><td>465</td><td>22</td><td>1000</td><td> 2</td><td>5</td><td>220900000</td><td>21</td></tr>\n",
              "\t<tr><td>20250905 163514</td><td>493</td><td>27</td><td>1000</td><td> 2</td><td>5</td><td>220400000</td><td>28</td></tr>\n",
              "\t<tr><td>20250905 184633</td><td>283</td><td>14</td><td> 430</td><td> 2</td><td>5</td><td>219600000</td><td>43</td></tr>\n",
              "\t<tr><td>20250905 164518</td><td> 20</td><td>30</td><td> 256</td><td> 2</td><td>5</td><td>219340000</td><td>30</td></tr>\n",
              "\t<tr><td>20250905 123516</td><td>177</td><td>28</td><td> 754</td><td>42</td><td>5</td><td>217860000</td><td>12</td></tr>\n",
              "\t<tr><td>20250905 182633</td><td> 20</td><td>18</td><td> 331</td><td>10</td><td>5</td><td>216840000</td><td>40</td></tr>\n",
              "\t<tr><td>20250905 121359</td><td> 57</td><td> 8</td><td> 927</td><td>46</td><td>5</td><td>216380000</td><td> 9</td></tr>\n",
              "\t<tr><td>20250905 125933</td><td>472</td><td> 4</td><td> 684</td><td>49</td><td>5</td><td>212620000</td><td>14</td></tr>\n",
              "\t<tr><td>20250905 121722</td><td>292</td><td> 4</td><td> 325</td><td>20</td><td>5</td><td>212520000</td><td>11</td></tr>\n",
              "\t<tr><td>20250905 155427</td><td>500</td><td>25</td><td>   1</td><td>29</td><td>5</td><td>191900000</td><td>23</td></tr>\n",
              "\t<tr><td>20250905 211618</td><td> 57</td><td>14</td><td>   1</td><td>50</td><td>5</td><td>189600000</td><td>54</td></tr>\n",
              "\t<tr><td>20250905 121423</td><td>150</td><td> 1</td><td> 824</td><td>12</td><td>5</td><td>  2740000</td><td>10</td></tr>\n",
              "</tbody>\n",
              "</table>\n"
            ],
            "text/latex": [
              "A data.table: 56 × 8\n",
              "\\begin{tabular}{llllllll}\n",
              " fecha & num.trees & max.depth & min.node.size & mtry & xval\\_folds & ganancia & iteracion\\\\\n",
              " <chr> & <int> & <int> & <int> & <int> & <int> & <dbl> & <int>\\\\\n",
              "\\hline\n",
              "\t 20250905 161459 & 307 & 17 &  336 & 14 & 5 & 252560000 & 25\\\\\n",
              "\t 20250905 212917 & 433 & 29 &  452 & 13 & 5 & 251580000 & 55\\\\\n",
              "\t 20250905 171018 & 378 & 18 &  410 & 17 & 5 & 248040000 & 32\\\\\n",
              "\t 20250905 165616 & 307 & 25 &  801 & 16 & 5 & 247560000 & 31\\\\\n",
              "\t 20250905 182556 & 401 & 17 &  343 &  9 & 5 & 247500000 & 39\\\\\n",
              "\t 20250905 191508 & 293 & 19 &  503 & 13 & 5 & 246880000 & 46\\\\\n",
              "\t 20250905 180130 & 500 & 30 &  617 & 17 & 5 & 246700000 & 37\\\\\n",
              "\t 20250905 185349 & 260 & 30 &  630 & 12 & 5 & 245360000 & 44\\\\\n",
              "\t 20250905 143859 & 500 & 14 &  312 & 18 & 5 & 245160000 & 19\\\\\n",
              "\t 20250905 112629 & 355 & 26 &  575 &  8 & 5 & 245060000 &  3\\\\\n",
              "\t 20250905 142121 & 500 & 24 & 1000 & 16 & 5 & 245040000 & 18\\\\\n",
              "\t 20250905 214432 & 439 & 18 &  457 & 16 & 5 & 244000000 & 56\\\\\n",
              "\t 20250905 145624 & 500 & 20 &  701 & 16 & 5 & 243900000 & 20\\\\\n",
              "\t 20250905 203203 & 304 & 21 &  350 &  5 & 5 & 243760000 & 50\\\\\n",
              "\t 20250905 131625 & 386 & 17 &  993 & 15 & 5 & 243720000 & 16\\\\\n",
              "\t 20250905 184432 & 500 & 30 &  337 &  4 & 5 & 242500000 & 42\\\\\n",
              "\t 20250905 160529 & 331 & 30 &  850 & 15 & 5 & 242240000 & 24\\\\\n",
              "\t 20250905 172028 & 314 & 12 &  239 & 18 & 5 & 242000000 & 33\\\\\n",
              "\t 20250905 211053 & 286 & 17 &  492 & 15 & 5 & 241240000 & 53\\\\\n",
              "\t 20250905 210127 & 306 & 30 &  530 & 30 & 5 & 240860000 & 52\\\\\n",
              "\t 20250905 114244 & 329 & 12 &  481 & 29 & 5 & 240840000 &  4\\\\\n",
              "\t 20250905 115050 & 427 & 20 &  166 &  7 & 5 & 240040000 &  5\\\\\n",
              "\t 20250905 181736 & 376 & 16 &  623 & 21 & 5 & 239200000 & 38\\\\\n",
              "\t 20250905 183816 & 378 & 17 &  237 & 14 & 5 & 238800000 & 41\\\\\n",
              "\t 20250905 172750 & 261 & 24 &  320 & 12 & 5 & 238660000 & 34\\\\\n",
              "\t 20250905 151922 & 350 & 19 & 1000 & 26 & 5 & 238620000 & 22\\\\\n",
              "\t 20250905 190638 & 302 & 14 &  346 & 22 & 5 & 238060000 & 45\\\\\n",
              "\t 20250905 164459 & 363 &  9 &    1 & 21 & 5 & 236940000 & 29\\\\\n",
              "\t 20250905 202741 & 500 & 11 &  351 & 15 & 5 & 236300000 & 49\\\\\n",
              "\t 20250905 204009 & 476 & 30 &    1 &  6 & 5 & 235620000 & 51\\\\\n",
              "\t 20250905 194317 & 486 & 12 &  999 & 37 & 5 & 235300000 & 47\\\\\n",
              "\t 20250905 174137 & 500 &  8 &  304 & 26 & 5 & 235200000 & 35\\\\\n",
              "\t 20250905 124925 & 261 & 30 &  222 & 22 & 5 & 233520000 & 13\\\\\n",
              "\t 20250905 201512 & 500 & 11 &  611 & 44 & 5 & 232780000 & 48\\\\\n",
              "\t 20250905 105932 & 215 & 15 &  421 & 36 & 5 & 231520000 &  1\\\\\n",
              "\t 20250905 121118 &  36 & 24 &  742 &  5 & 5 & 229860000 &  8\\\\\n",
              "\t 20250905 115732 & 119 & 22 &  503 & 24 & 5 & 228240000 &  6\\\\\n",
              "\t 20250905 162732 & 251 &  8 &  359 & 50 & 5 & 227560000 & 26\\\\\n",
              "\t 20250905 140357 & 500 & 16 & 1000 & 48 & 5 & 227460000 & 17\\\\\n",
              "\t 20250905 121042 & 466 &  6 &  116 & 39 & 5 & 224280000 &  7\\\\\n",
              "\t 20250905 111930 & 247 & 19 &  279 & 35 & 5 & 223600000 &  2\\\\\n",
              "\t 20250905 130417 & 104 & 11 &   17 & 28 & 5 & 223340000 & 15\\\\\n",
              "\t 20250905 163115 & 478 & 16 &    1 &  2 & 5 & 222120000 & 27\\\\\n",
              "\t 20250905 174229 &  20 & 27 & 1000 & 17 & 5 & 222100000 & 36\\\\\n",
              "\t 20250905 150011 & 465 & 22 & 1000 &  2 & 5 & 220900000 & 21\\\\\n",
              "\t 20250905 163514 & 493 & 27 & 1000 &  2 & 5 & 220400000 & 28\\\\\n",
              "\t 20250905 184633 & 283 & 14 &  430 &  2 & 5 & 219600000 & 43\\\\\n",
              "\t 20250905 164518 &  20 & 30 &  256 &  2 & 5 & 219340000 & 30\\\\\n",
              "\t 20250905 123516 & 177 & 28 &  754 & 42 & 5 & 217860000 & 12\\\\\n",
              "\t 20250905 182633 &  20 & 18 &  331 & 10 & 5 & 216840000 & 40\\\\\n",
              "\t 20250905 121359 &  57 &  8 &  927 & 46 & 5 & 216380000 &  9\\\\\n",
              "\t 20250905 125933 & 472 &  4 &  684 & 49 & 5 & 212620000 & 14\\\\\n",
              "\t 20250905 121722 & 292 &  4 &  325 & 20 & 5 & 212520000 & 11\\\\\n",
              "\t 20250905 155427 & 500 & 25 &    1 & 29 & 5 & 191900000 & 23\\\\\n",
              "\t 20250905 211618 &  57 & 14 &    1 & 50 & 5 & 189600000 & 54\\\\\n",
              "\t 20250905 121423 & 150 &  1 &  824 & 12 & 5 &   2740000 & 10\\\\\n",
              "\\end{tabular}\n"
            ],
            "text/markdown": [
              "\n",
              "A data.table: 56 × 8\n",
              "\n",
              "| fecha &lt;chr&gt; | num.trees &lt;int&gt; | max.depth &lt;int&gt; | min.node.size &lt;int&gt; | mtry &lt;int&gt; | xval_folds &lt;int&gt; | ganancia &lt;dbl&gt; | iteracion &lt;int&gt; |\n",
              "|---|---|---|---|---|---|---|---|\n",
              "| 20250905 161459 | 307 | 17 |  336 | 14 | 5 | 252560000 | 25 |\n",
              "| 20250905 212917 | 433 | 29 |  452 | 13 | 5 | 251580000 | 55 |\n",
              "| 20250905 171018 | 378 | 18 |  410 | 17 | 5 | 248040000 | 32 |\n",
              "| 20250905 165616 | 307 | 25 |  801 | 16 | 5 | 247560000 | 31 |\n",
              "| 20250905 182556 | 401 | 17 |  343 |  9 | 5 | 247500000 | 39 |\n",
              "| 20250905 191508 | 293 | 19 |  503 | 13 | 5 | 246880000 | 46 |\n",
              "| 20250905 180130 | 500 | 30 |  617 | 17 | 5 | 246700000 | 37 |\n",
              "| 20250905 185349 | 260 | 30 |  630 | 12 | 5 | 245360000 | 44 |\n",
              "| 20250905 143859 | 500 | 14 |  312 | 18 | 5 | 245160000 | 19 |\n",
              "| 20250905 112629 | 355 | 26 |  575 |  8 | 5 | 245060000 |  3 |\n",
              "| 20250905 142121 | 500 | 24 | 1000 | 16 | 5 | 245040000 | 18 |\n",
              "| 20250905 214432 | 439 | 18 |  457 | 16 | 5 | 244000000 | 56 |\n",
              "| 20250905 145624 | 500 | 20 |  701 | 16 | 5 | 243900000 | 20 |\n",
              "| 20250905 203203 | 304 | 21 |  350 |  5 | 5 | 243760000 | 50 |\n",
              "| 20250905 131625 | 386 | 17 |  993 | 15 | 5 | 243720000 | 16 |\n",
              "| 20250905 184432 | 500 | 30 |  337 |  4 | 5 | 242500000 | 42 |\n",
              "| 20250905 160529 | 331 | 30 |  850 | 15 | 5 | 242240000 | 24 |\n",
              "| 20250905 172028 | 314 | 12 |  239 | 18 | 5 | 242000000 | 33 |\n",
              "| 20250905 211053 | 286 | 17 |  492 | 15 | 5 | 241240000 | 53 |\n",
              "| 20250905 210127 | 306 | 30 |  530 | 30 | 5 | 240860000 | 52 |\n",
              "| 20250905 114244 | 329 | 12 |  481 | 29 | 5 | 240840000 |  4 |\n",
              "| 20250905 115050 | 427 | 20 |  166 |  7 | 5 | 240040000 |  5 |\n",
              "| 20250905 181736 | 376 | 16 |  623 | 21 | 5 | 239200000 | 38 |\n",
              "| 20250905 183816 | 378 | 17 |  237 | 14 | 5 | 238800000 | 41 |\n",
              "| 20250905 172750 | 261 | 24 |  320 | 12 | 5 | 238660000 | 34 |\n",
              "| 20250905 151922 | 350 | 19 | 1000 | 26 | 5 | 238620000 | 22 |\n",
              "| 20250905 190638 | 302 | 14 |  346 | 22 | 5 | 238060000 | 45 |\n",
              "| 20250905 164459 | 363 |  9 |    1 | 21 | 5 | 236940000 | 29 |\n",
              "| 20250905 202741 | 500 | 11 |  351 | 15 | 5 | 236300000 | 49 |\n",
              "| 20250905 204009 | 476 | 30 |    1 |  6 | 5 | 235620000 | 51 |\n",
              "| 20250905 194317 | 486 | 12 |  999 | 37 | 5 | 235300000 | 47 |\n",
              "| 20250905 174137 | 500 |  8 |  304 | 26 | 5 | 235200000 | 35 |\n",
              "| 20250905 124925 | 261 | 30 |  222 | 22 | 5 | 233520000 | 13 |\n",
              "| 20250905 201512 | 500 | 11 |  611 | 44 | 5 | 232780000 | 48 |\n",
              "| 20250905 105932 | 215 | 15 |  421 | 36 | 5 | 231520000 |  1 |\n",
              "| 20250905 121118 |  36 | 24 |  742 |  5 | 5 | 229860000 |  8 |\n",
              "| 20250905 115732 | 119 | 22 |  503 | 24 | 5 | 228240000 |  6 |\n",
              "| 20250905 162732 | 251 |  8 |  359 | 50 | 5 | 227560000 | 26 |\n",
              "| 20250905 140357 | 500 | 16 | 1000 | 48 | 5 | 227460000 | 17 |\n",
              "| 20250905 121042 | 466 |  6 |  116 | 39 | 5 | 224280000 |  7 |\n",
              "| 20250905 111930 | 247 | 19 |  279 | 35 | 5 | 223600000 |  2 |\n",
              "| 20250905 130417 | 104 | 11 |   17 | 28 | 5 | 223340000 | 15 |\n",
              "| 20250905 163115 | 478 | 16 |    1 |  2 | 5 | 222120000 | 27 |\n",
              "| 20250905 174229 |  20 | 27 | 1000 | 17 | 5 | 222100000 | 36 |\n",
              "| 20250905 150011 | 465 | 22 | 1000 |  2 | 5 | 220900000 | 21 |\n",
              "| 20250905 163514 | 493 | 27 | 1000 |  2 | 5 | 220400000 | 28 |\n",
              "| 20250905 184633 | 283 | 14 |  430 |  2 | 5 | 219600000 | 43 |\n",
              "| 20250905 164518 |  20 | 30 |  256 |  2 | 5 | 219340000 | 30 |\n",
              "| 20250905 123516 | 177 | 28 |  754 | 42 | 5 | 217860000 | 12 |\n",
              "| 20250905 182633 |  20 | 18 |  331 | 10 | 5 | 216840000 | 40 |\n",
              "| 20250905 121359 |  57 |  8 |  927 | 46 | 5 | 216380000 |  9 |\n",
              "| 20250905 125933 | 472 |  4 |  684 | 49 | 5 | 212620000 | 14 |\n",
              "| 20250905 121722 | 292 |  4 |  325 | 20 | 5 | 212520000 | 11 |\n",
              "| 20250905 155427 | 500 | 25 |    1 | 29 | 5 | 191900000 | 23 |\n",
              "| 20250905 211618 |  57 | 14 |    1 | 50 | 5 | 189600000 | 54 |\n",
              "| 20250905 121423 | 150 |  1 |  824 | 12 | 5 |   2740000 | 10 |\n",
              "\n"
            ],
            "text/plain": [
              "   fecha           num.trees max.depth min.node.size mtry xval_folds ganancia \n",
              "1  20250905 161459 307       17         336          14   5          252560000\n",
              "2  20250905 212917 433       29         452          13   5          251580000\n",
              "3  20250905 171018 378       18         410          17   5          248040000\n",
              "4  20250905 165616 307       25         801          16   5          247560000\n",
              "5  20250905 182556 401       17         343           9   5          247500000\n",
              "6  20250905 191508 293       19         503          13   5          246880000\n",
              "7  20250905 180130 500       30         617          17   5          246700000\n",
              "8  20250905 185349 260       30         630          12   5          245360000\n",
              "9  20250905 143859 500       14         312          18   5          245160000\n",
              "10 20250905 112629 355       26         575           8   5          245060000\n",
              "11 20250905 142121 500       24        1000          16   5          245040000\n",
              "12 20250905 214432 439       18         457          16   5          244000000\n",
              "13 20250905 145624 500       20         701          16   5          243900000\n",
              "14 20250905 203203 304       21         350           5   5          243760000\n",
              "15 20250905 131625 386       17         993          15   5          243720000\n",
              "16 20250905 184432 500       30         337           4   5          242500000\n",
              "17 20250905 160529 331       30         850          15   5          242240000\n",
              "18 20250905 172028 314       12         239          18   5          242000000\n",
              "19 20250905 211053 286       17         492          15   5          241240000\n",
              "20 20250905 210127 306       30         530          30   5          240860000\n",
              "21 20250905 114244 329       12         481          29   5          240840000\n",
              "22 20250905 115050 427       20         166           7   5          240040000\n",
              "23 20250905 181736 376       16         623          21   5          239200000\n",
              "24 20250905 183816 378       17         237          14   5          238800000\n",
              "25 20250905 172750 261       24         320          12   5          238660000\n",
              "26 20250905 151922 350       19        1000          26   5          238620000\n",
              "27 20250905 190638 302       14         346          22   5          238060000\n",
              "28 20250905 164459 363        9           1          21   5          236940000\n",
              "29 20250905 202741 500       11         351          15   5          236300000\n",
              "30 20250905 204009 476       30           1           6   5          235620000\n",
              "31 20250905 194317 486       12         999          37   5          235300000\n",
              "32 20250905 174137 500        8         304          26   5          235200000\n",
              "33 20250905 124925 261       30         222          22   5          233520000\n",
              "34 20250905 201512 500       11         611          44   5          232780000\n",
              "35 20250905 105932 215       15         421          36   5          231520000\n",
              "36 20250905 121118  36       24         742           5   5          229860000\n",
              "37 20250905 115732 119       22         503          24   5          228240000\n",
              "38 20250905 162732 251        8         359          50   5          227560000\n",
              "39 20250905 140357 500       16        1000          48   5          227460000\n",
              "40 20250905 121042 466        6         116          39   5          224280000\n",
              "41 20250905 111930 247       19         279          35   5          223600000\n",
              "42 20250905 130417 104       11          17          28   5          223340000\n",
              "43 20250905 163115 478       16           1           2   5          222120000\n",
              "44 20250905 174229  20       27        1000          17   5          222100000\n",
              "45 20250905 150011 465       22        1000           2   5          220900000\n",
              "46 20250905 163514 493       27        1000           2   5          220400000\n",
              "47 20250905 184633 283       14         430           2   5          219600000\n",
              "48 20250905 164518  20       30         256           2   5          219340000\n",
              "49 20250905 123516 177       28         754          42   5          217860000\n",
              "50 20250905 182633  20       18         331          10   5          216840000\n",
              "51 20250905 121359  57        8         927          46   5          216380000\n",
              "52 20250905 125933 472        4         684          49   5          212620000\n",
              "53 20250905 121722 292        4         325          20   5          212520000\n",
              "54 20250905 155427 500       25           1          29   5          191900000\n",
              "55 20250905 211618  57       14           1          50   5          189600000\n",
              "56 20250905 121423 150        1         824          12   5            2740000\n",
              "   iteracion\n",
              "1  25       \n",
              "2  55       \n",
              "3  32       \n",
              "4  31       \n",
              "5  39       \n",
              "6  46       \n",
              "7  37       \n",
              "8  44       \n",
              "9  19       \n",
              "10  3       \n",
              "11 18       \n",
              "12 56       \n",
              "13 20       \n",
              "14 50       \n",
              "15 16       \n",
              "16 42       \n",
              "17 24       \n",
              "18 33       \n",
              "19 53       \n",
              "20 52       \n",
              "21  4       \n",
              "22  5       \n",
              "23 38       \n",
              "24 41       \n",
              "25 34       \n",
              "26 22       \n",
              "27 45       \n",
              "28 29       \n",
              "29 49       \n",
              "30 51       \n",
              "31 47       \n",
              "32 35       \n",
              "33 13       \n",
              "34 48       \n",
              "35  1       \n",
              "36  8       \n",
              "37  6       \n",
              "38 26       \n",
              "39 17       \n",
              "40  7       \n",
              "41  2       \n",
              "42 15       \n",
              "43 27       \n",
              "44 36       \n",
              "45 21       \n",
              "46 28       \n",
              "47 43       \n",
              "48 30       \n",
              "49 12       \n",
              "50 40       \n",
              "51  9       \n",
              "52 14       \n",
              "53 11       \n",
              "54 23       \n",
              "55 54       \n",
              "56 10       "
            ]
          },
          "metadata": {},
          "output_type": "display_data"
        }
      ],
      "source": [
        "# analizo la salida de la bayesiana\n",
        "\n",
        "tb_bayesiana <- fread(klog)\n",
        "setorder( tb_bayesiana, -ganancia)\n",
        "tb_bayesiana"
      ]
    },
    {
      "cell_type": "code",
      "execution_count": 37,
      "metadata": {
        "id": "wQa-hrsVQkmq",
        "vscode": {
          "languageId": "r"
        }
      },
      "outputs": [
        {
          "name": "stdout",
          "output_type": "stream",
          "text": [
            "             fecha num.trees max.depth min.node.size  mtry xval_folds  ganancia\n",
            "            <char>     <int>     <int>         <int> <int>      <int>     <num>\n",
            "1: 20250905 161459       307        17           336    14          5 252560000\n",
            "   iteracion\n",
            "       <int>\n",
            "1:        25\n"
          ]
        }
      ],
      "source": [
        "# mejores parametros\n",
        "\n",
        "print( tb_bayesiana[1] )"
      ]
    },
    {
      "cell_type": "code",
      "execution_count": 38,
      "metadata": {
        "id": "LDz-Yl3UPwph",
        "vscode": {
          "languageId": "r"
        }
      },
      "outputs": [
        {
          "data": {
            "text/html": [
              "'vie sept 05 21:45:06 2025'"
            ],
            "text/latex": [
              "'vie sept 05 21:45:06 2025'"
            ],
            "text/markdown": [
              "'vie sept 05 21:45:06 2025'"
            ],
            "text/plain": [
              "[1] \"vie sept 05 21:45:06 2025\""
            ]
          },
          "metadata": {},
          "output_type": "display_data"
        }
      ],
      "source": [
        "format(Sys.time(), \"%a %b %d %X %Y\")"
      ]
    },
    {
      "cell_type": "markdown",
      "metadata": {
        "id": "VLNvdg1eN5vw"
      },
      "source": [
        "Una vez que se impriman los mejores hiperparametros proceder:\n",
        "\n",
        "\n",
        "1.   Copielos en el punto 4.04  en la celda donde se define PARAM\n",
        "2.   Ejecute el punto 4.04 con estos hiperparámetros optimos\n",
        "2.   Reporte el resultado en la hoja  **C4-RF Bayesiana**  de la  planilla colaborativa\n",
        "\n"
      ]
    },
    {
      "cell_type": "markdown",
      "metadata": {
        "id": "0vu-1vf5LrVg"
      },
      "source": [
        "\n",
        "\n",
        "---\n",
        "\n"
      ]
    }
  ],
  "metadata": {
    "colab": {
      "provenance": []
    },
    "kernelspec": {
      "display_name": "R",
      "language": "R",
      "name": "ir"
    },
    "language_info": {
      "codemirror_mode": "r",
      "file_extension": ".r",
      "mimetype": "text/x-r-source",
      "name": "R",
      "pygments_lexer": "r",
      "version": "4.4.3"
    }
  },
  "nbformat": 4,
  "nbformat_minor": 0
}
