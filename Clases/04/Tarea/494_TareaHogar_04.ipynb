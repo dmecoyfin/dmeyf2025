{
  "cells": [
    {
      "cell_type": "markdown",
      "metadata": {
        "id": "0cEmzeUKFkPh"
      },
      "source": [
        "# Tarea para el Hogar 04"
      ]
    },
    {
      "cell_type": "markdown",
      "metadata": {
        "id": "DenyKXkiJ5JN"
      },
      "source": [
        "##  1. Big Picture"
      ]
    },
    {
      "cell_type": "markdown",
      "metadata": {
        "id": "l-K2_ZsZGrVD"
      },
      "source": [
        "LightGBM es el algoritmo estado del arte para datasets estructurados.\n",
        "<br> La Bayesian Optimization es el estado del arte para optimización de hiperparámetros\n",
        "<br> Las soluciones a las tres competencias de la asignatura contendrán LightGBMs y Bayesian Optimizations\n",
        "<br> LightGBM ha aumentado en forma no darwiniana sus hiperparámetros en los últimos ocho años; no todos los existentes son útiles.\n",
        "<br> Es necesario lograr entender cuales son los hiperparámetros relevantes de LightGBM"
      ]
    },
    {
      "cell_type": "markdown",
      "metadata": {
        "id": "K9GkTOk5J9t3"
      },
      "source": [
        "## 2. Hiperparámetros del LightGBM"
      ]
    },
    {
      "cell_type": "markdown",
      "metadata": {
        "id": "VmEFy0ukKL5T"
      },
      "source": [
        "Los objetivos de esta tarea son:\n",
        "\n",
        "\n",
        "*   Aumentar la rentabilidad de la campaña de marketing de retención proactiva de clientes.\n",
        "*   Generar un mejor modelo optimizando sus hiperparámetros\n",
        "*   Conceptual : investigar los mas relevantes hiperparámetros de LightGBM\n",
        "*   Familiarizarse con la Bayesian Optimization, sus largos tiempos de corrida y opciones para reducirlos\n",
        "*   Familiarizarse con el uso de máquinas virtuales de Google Colab\n",
        "*   Ver un pipeline completo de optimización de hiperparámetros y puesta en producción"
      ]
    },
    {
      "cell_type": "markdown",
      "metadata": {
        "id": "5yvlS6JQLRMd"
      },
      "source": [
        "LightGBM cuenta con mas de 60 hiperparámetros, siendo posible utilizar 40 al mismo tiempo, aunque no razonable.\n",
        "<br> La documentación oficial de los hiperparámetros de LightGBM es  https://lightgbm.readthedocs.io/en/latest/Parameters.html#core-parameters\n"
      ]
    },
    {
      "cell_type": "markdown",
      "metadata": {
        "id": "eydI4YNAsFaf"
      },
      "source": [
        "Se lo alerta sobre que una Optimizacion Bayesiana lleva varias horas de corrida, y usted deberá correr VARIAS optimizaciones para descubrir cuales parámetros conviene optimizar.\n",
        "<br> A pesar que la próxima clase es recien en viernes 01 de agosto, inicie la tarea con tiempo, aprenda a planificar estratégicamente sus corridas como un@ científ@  de datos."
      ]
    },
    {
      "cell_type": "markdown",
      "metadata": {
        "id": "RzU4S0SeMcpp"
      },
      "source": [
        "Es necesario investigar cuales son los hiperparámetros de LightGBM que vale la pena optimizar en una Bayesian Optimization, ya que los realmente utiles son apenas un reducido subconjunto.\n",
        "<br>Usted deberá investigar cuales son los hiperparámetros mas relevantes de LightGBM, su primer alternativa es preguntándole a su amigo con capacidades especiales ChatGPT o sus endogámicos familiares Claude, DeepSeek, Gemini, Grok, etc\n",
        "<br> La segunda alternativa es la propia documentación de LightGBM  https://lightgbm.readthedocs.io/en/latest/Parameters-Tuning.html\n"
      ]
    },
    {
      "cell_type": "markdown",
      "metadata": {
        "id": "LNptUgI_NWWG"
      },
      "source": [
        "Adicionalmente podra buscar información como la que proveen esta diminuta muestra aleatoria de artículos ligeros:\n",
        "*  https://medium.com/@sarahzouinina/a-deep-dive-into-lightgbm-how-to-choose-and-tune-parameters-7c584945842e\n",
        "*  https://www.kaggle.com/code/somang1418/tuning-hyperparameters-under-10-minutes-lgbm\n",
        "*  https://towardsdatascience.com/beginners-guide-to-the-must-know-lightgbm-hyperparameters-a0005a812702/\n",
        "\n",
        "\n",
        "<br>  La muestra anterior se brinda a modo de ejemplo, usted deberá buscar muuuuchas  fuentes adicionales de información\n",
        "<br> Tenga presente que LightGBM es el estado del arte en modelado predictivo para datasets estructurado, que son el 90% del trabajo del 95% de los Data Scientists en Argentina."
      ]
    },
    {
      "cell_type": "markdown",
      "metadata": {
        "id": "WpUThBojODyK"
      },
      "source": [
        "El desafío de esta tarea es:\n",
        "* Qué hiperparparámetros conviene optimizar?  Las recomendaciones de los artículos ligeros es siempre sensata?  Sus autores realmente hicieron experimentos o son siemplemente escritores de entretenimiento carente de base científica?\n",
        "* Elegidos los hiperparámetros, cual es el  <desde, hasta> que se debe utilizar en la Bayesian Optimization ?\n",
        "* Realmente vale la pena optimizar 10 o 16 hiperparámetros al mismo tiempo ?  No resulta contraproducente una búsqueda en un espacio de tal alta dimensionalidad ?"
      ]
    },
    {
      "cell_type": "markdown",
      "metadata": {
        "id": "PX0qg_c0yqob"
      },
      "source": [
        "#### 2.1  Seteo del ambiente en Google Colab"
      ]
    },
    {
      "cell_type": "markdown",
      "metadata": {
        "id": "NGY7H9xza7Zr"
      },
      "source": [
        "Esta parte se debe correr con el runtime en Python3\n",
        "<br>Ir al menu, Runtime -> Change Runtime Type -> Runtime type ->  **Python 3**"
      ]
    },
    {
      "cell_type": "markdown",
      "metadata": {
        "id": "7PupIBNba7Zr"
      },
      "source": [
        "Conectar la virtual machine donde esta corriendo Google Colab con el  Google Drive, para poder tener persistencia de archivos"
      ]
    },
    {
      "cell_type": "code",
      "execution_count": null,
      "metadata": {
        "id": "9LpZCst5a7Zs",
        "vscode": {
          "languageId": "r"
        }
      },
      "outputs": [],
      "source": [
        "# primero establecer el Runtime de Python 3\n",
        "from google.colab import drive\n",
        "drive.mount('/content/.drive')"
      ]
    },
    {
      "cell_type": "markdown",
      "metadata": {
        "id": "JYC_F-wla7Zs"
      },
      "source": [
        "Para correr la siguiente celda es fundamental en Arranque en Frio haber copiado el archivo kaggle.json al Google Drive, en la carpeta indicada en el instructivo\n",
        "\n",
        "<br>los siguientes comando estan en shell script de Linux\n",
        "*   Crear las carpetas en el Google Drive\n",
        "*   \"instalar\" el archivo kaggle.json desde el Google Drive a la virtual machine para que pueda ser utilizado por la libreria  kaggle de Python\n",
        "*   Bajar el  **dataset_pequeno**  al  Google Drive  y tambien al disco local de la virtual machine que esta corriendo Google Colab\n",
        "\n"
      ]
    },
    {
      "cell_type": "code",
      "execution_count": null,
      "metadata": {
        "id": "XWLelftXa7Zt",
        "vscode": {
          "languageId": "r"
        }
      },
      "outputs": [],
      "source": [
        "%%shell\n",
        "\n",
        "mkdir -p \"/content/.drive/My Drive/dmeyf\"\n",
        "mkdir -p \"/content/buckets\"\n",
        "ln -s \"/content/.drive/My Drive/dmeyf\" /content/buckets/b1\n",
        "\n",
        "\n",
        "mkdir -p /content/buckets/b1/exp\n",
        "mkdir -p /content/buckets/b1/datasets\n",
        "mkdir -p /content/datasets\n",
        "\n",
        "\n",
        "\n",
        "archivo_origen=\"https://storage.googleapis.com/open-courses/dmeyf2025-e4a2/competencia_01_crudo.csv\"\n",
        "archivo_destino=\"/content/datasets/competencia_01_crudo.csv\"\n",
        "archivo_destino_bucket=\"/content/buckets/b1/datasets/competencia_01_crudo.csv\"\n",
        "\n",
        "if ! test -f $archivo_destino_bucket; then\n",
        "  wget  $archivo_origen  -O $archivo_destino_bucket\n",
        "fi\n",
        "\n",
        "\n",
        "if ! test -f $archivo_destino; then\n",
        "  cp  $archivo_destino_bucket  $archivo_destino\n",
        "fi\n"
      ]
    },
    {
      "cell_type": "markdown",
      "metadata": {
        "id": "dseB4qb9RqUb"
      },
      "source": [
        "### Generacion de la clase_ternaria"
      ]
    },
    {
      "cell_type": "markdown",
      "metadata": {
        "id": "LCEnE_02RuIQ"
      },
      "source": [
        "Esta parte se debe correr con el runtime en lenguaje **R** Ir al menu, Runtime -> Change Runtime Tipe -> Runtime type -> R"
      ]
    },
    {
      "cell_type": "code",
      "execution_count": null,
      "metadata": {
        "id": "P863YZB9R1Ua",
        "vscode": {
          "languageId": "r"
        }
      },
      "outputs": [],
      "source": [
        "require( \"data.table\" )\n",
        "\n",
        "# leo el dataset\n",
        "dataset <- fread(\"../../Competencia 01/competencia_01_crudo.csv\" )\n",
        "\n",
        "# calculo el periodo0 consecutivo\n",
        "dsimple <- dataset[, list(\n",
        "    \"pos\" = .I,\n",
        "    numero_de_cliente,\n",
        "    periodo0 = as.integer(foto_mes/100)*12 +  foto_mes%%100 ) ]\n",
        "\n",
        "\n",
        "# ordeno\n",
        "setorder( dsimple, numero_de_cliente, periodo0 )\n",
        "\n",
        "# calculo topes\n",
        "periodo_ultimo <- dsimple[, max(periodo0) ]\n",
        "periodo_anteultimo <- periodo_ultimo - 1\n",
        "\n",
        "\n",
        "# calculo los leads de orden 1 y 2\n",
        "dsimple[, c(\"periodo1\", \"periodo2\") :=\n",
        "    shift(periodo0, n=1:2, fill=NA, type=\"lead\"),  numero_de_cliente ]\n",
        "\n",
        "# assign most common class values = \"CONTINUA\"\n",
        "dsimple[ periodo0 < periodo_anteultimo, clase_ternaria := \"CONTINUA\" ]\n",
        "\n",
        "# calculo BAJA+1\n",
        "dsimple[ periodo0 < periodo_ultimo &\n",
        "    ( is.na(periodo1) | periodo0 + 1 < periodo1 ),\n",
        "    clase_ternaria := \"BAJA+1\" ]\n",
        "\n",
        "# calculo BAJA+2\n",
        "dsimple[ periodo0 < periodo_anteultimo & (periodo0+1 == periodo1 )\n",
        "    & ( is.na(periodo2) | periodo0 + 2 < periodo2 ),\n",
        "    clase_ternaria := \"BAJA+2\" ]\n",
        "\n",
        "\n",
        "# pego el resultado en el dataset original y grabo\n",
        "setorder( dsimple, pos )\n",
        "dataset[, clase_ternaria := dsimple$clase_ternaria ]\n",
        "\n",
        "fwrite( dataset,\n",
        "    file =  \"./competencia_01.csv.gz\",\n",
        "    sep = \",\"\n",
        ")"
      ]
    },
    {
      "cell_type": "code",
      "execution_count": null,
      "metadata": {
        "id": "S3hL7tv8W4rn",
        "vscode": {
          "languageId": "r"
        }
      },
      "outputs": [],
      "source": [
        "setorder( dataset, foto_mes, clase_ternaria, numero_de_cliente)\n",
        "dataset[, .N, list(foto_mes, clase_ternaria)]"
      ]
    },
    {
      "cell_type": "markdown",
      "metadata": {
        "id": "oSKhZRToy2F7"
      },
      "source": [
        "### 2.2 Optimizacion Hiperparámetros"
      ]
    },
    {
      "cell_type": "markdown",
      "metadata": {
        "id": "2kwPpHAtSmix"
      },
      "source": [
        "Esta parte se debe correr con el runtime en lenguaje R Ir al menu, Runtime -> Change Runtime Type -> Runtime type -> R"
      ]
    },
    {
      "cell_type": "markdown",
      "metadata": {
        "id": "xp4-Bj3aYI8d"
      },
      "source": [
        "### 2.2.1 Inicio"
      ]
    },
    {
      "cell_type": "markdown",
      "metadata": {
        "id": "zy8YTZfESxeJ"
      },
      "source": [
        "limpio el ambiente de R"
      ]
    },
    {
      "cell_type": "code",
      "execution_count": 4,
      "metadata": {
        "id": "gBq__iAdQliq",
        "vscode": {
          "languageId": "r"
        }
      },
      "outputs": [
        {
          "data": {
            "text/html": [
              "'mar sept 09 00:14:19 2025'"
            ],
            "text/latex": [
              "'mar sept 09 00:14:19 2025'"
            ],
            "text/markdown": [
              "'mar sept 09 00:14:19 2025'"
            ],
            "text/plain": [
              "[1] \"mar sept 09 00:14:19 2025\""
            ]
          },
          "metadata": {},
          "output_type": "display_data"
        }
      ],
      "source": [
        "format(Sys.time(), \"%a %b %d %X %Y\")"
      ]
    },
    {
      "cell_type": "code",
      "execution_count": 5,
      "metadata": {
        "id": "7rdVrBojS1IV",
        "vscode": {
          "languageId": "r"
        }
      },
      "outputs": [
        {
          "data": {
            "text/html": [
              "<table class=\"dataframe\">\n",
              "<caption>A matrix: 2 × 6 of type dbl</caption>\n",
              "<thead>\n",
              "\t<tr><th></th><th scope=col>used</th><th scope=col>(Mb)</th><th scope=col>gc trigger</th><th scope=col>(Mb)</th><th scope=col>max used</th><th scope=col>(Mb)</th></tr>\n",
              "</thead>\n",
              "<tbody>\n",
              "\t<tr><th scope=row>Ncells</th><td>2154875</td><td>115.1</td><td>4229160</td><td>225.9</td><td>2968118</td><td>158.6</td></tr>\n",
              "\t<tr><th scope=row>Vcells</th><td>3746836</td><td> 28.6</td><td>8388608</td><td> 64.0</td><td>5785504</td><td> 44.2</td></tr>\n",
              "</tbody>\n",
              "</table>\n"
            ],
            "text/latex": [
              "A matrix: 2 × 6 of type dbl\n",
              "\\begin{tabular}{r|llllll}\n",
              "  & used & (Mb) & gc trigger & (Mb) & max used & (Mb)\\\\\n",
              "\\hline\n",
              "\tNcells & 2154875 & 115.1 & 4229160 & 225.9 & 2968118 & 158.6\\\\\n",
              "\tVcells & 3746836 &  28.6 & 8388608 &  64.0 & 5785504 &  44.2\\\\\n",
              "\\end{tabular}\n"
            ],
            "text/markdown": [
              "\n",
              "A matrix: 2 × 6 of type dbl\n",
              "\n",
              "| <!--/--> | used | (Mb) | gc trigger | (Mb) | max used | (Mb) |\n",
              "|---|---|---|---|---|---|---|\n",
              "| Ncells | 2154875 | 115.1 | 4229160 | 225.9 | 2968118 | 158.6 |\n",
              "| Vcells | 3746836 |  28.6 | 8388608 |  64.0 | 5785504 |  44.2 |\n",
              "\n"
            ],
            "text/plain": [
              "       used    (Mb)  gc trigger (Mb)  max used (Mb) \n",
              "Ncells 2154875 115.1 4229160    225.9 2968118  158.6\n",
              "Vcells 3746836  28.6 8388608     64.0 5785504   44.2"
            ]
          },
          "metadata": {},
          "output_type": "display_data"
        }
      ],
      "source": [
        "# limpio la memoria\n",
        "rm(list=ls(all.names=TRUE)) # remove all objects\n",
        "gc(full=TRUE, verbose=FALSE) # garbage collection"
      ]
    },
    {
      "cell_type": "markdown",
      "metadata": {
        "id": "kuPfQ7ksjwW3"
      },
      "source": [
        "### 2.2.2 Carga de Librerias"
      ]
    },
    {
      "cell_type": "markdown",
      "metadata": {
        "id": "B8BaSFlGfvma"
      },
      "source": [
        "Esta parte lleva varios minutos la primera vez en Google Colab"
      ]
    },
    {
      "cell_type": "code",
      "execution_count": 6,
      "metadata": {
        "id": "lVyxLaJ1j1J_",
        "vscode": {
          "languageId": "r"
        }
      },
      "outputs": [],
      "source": [
        "# cargo las librerias que necesito\n",
        "if(!require(\"data.table\")) install.packages(\"data.table\")\n",
        "require(\"data.table\")\n",
        "\n",
        "if(!require(\"parallel\")) install.packages(\"parallel\")\n",
        "require(\"parallel\")\n",
        "\n",
        "if(!require(\"R.utils\")) install.packages(\"R.utils\")\n",
        "require(\"R.utils\")\n",
        "\n",
        "if( !require(\"primes\") ) install.packages(\"primes\")\n",
        "require(\"primes\")\n",
        "\n",
        "if( !require(\"utils\") ) install.packages(\"utils\")\n",
        "require(\"utils\")\n",
        "\n",
        "if( !require(\"rlist\") ) install.packages(\"rlist\")\n",
        "require(\"rlist\")\n",
        "\n",
        "if( !require(\"yaml\")) install.packages(\"yaml\")\n",
        "require(\"yaml\")\n",
        "\n",
        "if( !require(\"lightgbm\") ) install.packages(\"lightgbm\")\n",
        "require(\"lightgbm\")\n",
        "\n",
        "if( !require(\"DiceKriging\") ) install.packages(\"DiceKriging\")\n",
        "require(\"DiceKriging\")\n",
        "\n",
        "if( !require(\"mlrMBO\") ) install.packages(\"mlrMBO\")\n",
        "require(\"mlrMBO\")"
      ]
    },
    {
      "cell_type": "markdown",
      "metadata": {
        "id": "Iz-6Qt6BUaA3"
      },
      "source": [
        "### 2.2.3 Definicion de Parametros"
      ]
    },
    {
      "cell_type": "markdown",
      "metadata": {
        "id": "cOdlKd7lUm2I"
      },
      "source": [
        "aqui debe cargar SU semilla primigenia\n",
        "<br>recuerde cambiar el numero de experimento en cada corrida nueva"
      ]
    },
    {
      "cell_type": "code",
      "execution_count": 7,
      "metadata": {
        "id": "ASYkebOu2mF6",
        "vscode": {
          "languageId": "r"
        }
      },
      "outputs": [],
      "source": [
        "PARAM <- list()\n",
        "PARAM$experimento <- 4940\n",
        "PARAM$semilla_primigenia <- 200003"
      ]
    },
    {
      "cell_type": "code",
      "execution_count": 8,
      "metadata": {
        "id": "ezOhQdbA293o",
        "vscode": {
          "languageId": "r"
        }
      },
      "outputs": [],
      "source": [
        "# training y future\n",
        "PARAM$train <- c(202102)\n",
        "PARAM$train_final <- c(202102)\n",
        "PARAM$future <- c(202104)\n",
        "PARAM$semilla_kaggle <- 314159 #Semilla para el modelo final que va a Kaggle, primeros números de pi que sean primos.\n",
        "PARAM$cortes <- seq(6000, 19000, by= 500)"
      ]
    },
    {
      "cell_type": "code",
      "execution_count": 9,
      "metadata": {
        "id": "jtB0Lub42rHO",
        "vscode": {
          "languageId": "r"
        }
      },
      "outputs": [],
      "source": [
        "# un undersampling de 0.1  toma solo el 10% de los CONTINUA\n",
        "# undersampling de 1.0  implica tomar TODOS los datos\n",
        "\n",
        "PARAM$trainingstrategy$undersampling <- 0.5"
      ]
    },
    {
      "cell_type": "code",
      "execution_count": 10,
      "metadata": {
        "id": "OFxm-xiNUOJX",
        "vscode": {
          "languageId": "r"
        }
      },
      "outputs": [],
      "source": [
        "# Parametros LightGBM\n",
        "\n",
        "PARAM$hyperparametertuning$xval_folds <- 5\n",
        "\n",
        "# parametros fijos del LightGBM que se pisaran con la parte variable de la BO\n",
        "PARAM$lgbm$param_fijos <-  list(\n",
        "  boosting= \"dart\", # puede ir dart, ni pruebe random_forest\n",
        "  objective= \"binary\", #default regression\n",
        "  metric= \"auc\", # default \"\" \n",
        "  first_metric_only= FALSE, # default FALSE\n",
        "  boost_from_average= TRUE, # default TRUE\n",
        "  feature_pre_filter= FALSE, # default TRUE\n",
        "  force_row_wise= TRUE, # para reducir warnings\n",
        "  verbosity= -100,\n",
        "\n",
        "  seed= PARAM$semilla_primigenia,\n",
        "\n",
        "  max_depth= -1L, # -1 significa no limitar,  por ahora lo dejo fijo\n",
        "  min_gain_to_split= 0, # min_gain_to_split >= 0\n",
        "  min_sum_hessian_in_leaf= 0.001, #  min_sum_hessian_in_leaf >= 0.0\n",
        "  lambda_l1= 0.0, # lambda_l1 >= 0.0\n",
        "  lambda_l2= 0.0, # lambda_l2 >= 0.0\n",
        "  max_bin= 31L, # lo debo dejar fijo, no participa de la BO\n",
        "\n",
        "  bagging_fraction= 1.0, # 0.0 < bagging_fraction <= 1.0\n",
        "  pos_bagging_fraction= 1.0, # 0.0 < pos_bagging_fraction <= 1.0\n",
        "  neg_bagging_fraction= 1.0, # 0.0 < neg_bagging_fraction <= 1.0\n",
        "  is_unbalance= FALSE, # Default FALSE\n",
        "  scale_pos_weight= 1.0, # scale_pos_weight > 0.0\n",
        "\n",
        "  drop_rate= 0.1, # 0.0 < neg_bagging_fraction <= 1.0\n",
        "  max_drop= 50, # <=0 means no limit\n",
        "  skip_drop= 0.5, # 0.0 <= skip_drop <= 1.0\n",
        "\n",
        "  extra_trees= FALSE, # default FALSE\n",
        "\n",
        "  num_iterations= 1200, # default 100\n",
        "  learning_rate= 0.02, # default 0.1\n",
        "  feature_fraction= 0.5, # default 1\n",
        "  num_leaves= 750, # default 31\n",
        "  min_data_in_leaf= 5000 # default 20\n",
        ")\n"
      ]
    },
    {
      "cell_type": "markdown",
      "metadata": {
        "id": "D5Yj-JV4yvOt"
      },
      "source": [
        "Aqui se definen los hiperparámetros de LightGBM que participan de la Bayesian Optimization\n",
        "- si es un numero entero debe ir makeIntegerParam\n",
        "- si es un numero real (con decimales) debe ir makeNumericParam\n",
        "\n",
        "Es muy importante leer cuales son un lower y upper permitidos y además razonables"
      ]
    },
    {
      "cell_type": "code",
      "execution_count": 11,
      "metadata": {
        "id": "jENpR26ZyuS8",
        "vscode": {
          "languageId": "r"
        }
      },
      "outputs": [],
      "source": [
        "# Aqui se cargan los bordes de los hiperparametros de la BO\n",
        "PARAM$hypeparametertuning$hs <- makeParamSet(\n",
        "  makeNumericParam(\"min_sum_hessian_in_leaf\", lower= 0.001, upper= 0.1),\n",
        "  makeNumericParam(\"learning_rate\", lower= 0.005, upper= 0.1),\n",
        "  makeNumericParam(\"feature_fraction\", lower= 0.1, upper= 1.0),\n",
        "  makeNumericParam(\"bagging_fraction\", lower= 0.0, upper= 1.0),\n",
        "  makeNumericParam(\"lambda_l1\", lower= 0.0, upper= 10.0),\n",
        "  makeNumericParam(\"lambda_l2\", lower= 0.0, upper= 10.0),\n",
        "  makeNumericParam(\"min_gain_to_split\", lower= 0.0, upper= 15.0),\n",
        "  makeNumericParam(\"drop_rate\", lower= 0.0, upper= 0.3),\n",
        "  makeNumericParam(\"skip_drop\", lower= 0, upper= 0.8),\n",
        "  makeIntegerParam(\"bagging_freq\", lower= 1L, upper= 10L),\n",
        "  makeIntegerParam(\"num_iterations\", lower= 50L, upper= 3000L),\n",
        "  makeIntegerParam(\"max_depth\", lower= -1L, upper= 15L),\n",
        "  makeIntegerParam(\"num_leaves\", lower= 1L, upper= 2048L),\n",
        "  makeIntegerParam(\"min_data_in_leaf\", lower= 1L, upper= 8000L)\n",
        ")"
      ]
    },
    {
      "cell_type": "markdown",
      "metadata": {
        "id": "-_RPFUb3zMoW"
      },
      "source": [
        "A mayor cantidad de hiperparámetros, se debe aumentar las iteraciones de la Bayesian Optimization: 30 es un valor muy tacaño, pero corre rápido deberia partir de 50, alcanzando los 100 si se dispone de tiempo."
      ]
    },
    {
      "cell_type": "code",
      "execution_count": 12,
      "metadata": {
        "id": "q5Rd3pnbzSiG",
        "vscode": {
          "languageId": "r"
        }
      },
      "outputs": [],
      "source": [
        "PARAM$hyperparametertuning$iteraciones <- 100 # iteraciones bayesianas"
      ]
    },
    {
      "cell_type": "code",
      "execution_count": 13,
      "metadata": {
        "id": "or53-q3bmE5d",
        "vscode": {
          "languageId": "r"
        }
      },
      "outputs": [],
      "source": [
        "# particionar agrega una columna llamada fold a un dataset\n",
        "#   que consiste en una particion estratificada segun agrupa\n",
        "# particionar( data=dataset, division=c(70,30),\n",
        "#  agrupa=clase_ternaria, seed=semilla)   crea una particion 70, 30\n",
        "\n",
        "particionar <- function(data, division, agrupa= \"\", campo= \"fold\", start= 1, seed= NA) {\n",
        "  if (!is.na(seed)) set.seed(seed, \"L'Ecuyer-CMRG\")\n",
        "\n",
        "  bloque <- unlist(mapply(\n",
        "    function(x, y) {rep(y, x)},division, seq(from= start, length.out= length(division))))\n",
        "\n",
        "  data[, (campo) := sample(rep(bloque,ceiling(.N / length(bloque))))[1:.N],by= agrupa]\n",
        "}"
      ]
    },
    {
      "cell_type": "code",
      "execution_count": 14,
      "metadata": {
        "id": "CGKOZ9aMmKxi",
        "vscode": {
          "languageId": "r"
        }
      },
      "outputs": [],
      "source": [
        "# iniciliazo el dataset de realidad, para medir ganancia\n",
        "realidad_inicializar <- function( pfuture, pparam) {\n",
        "\n",
        "  # datos para verificar la ganancia\n",
        "  drealidad <- pfuture[, list(numero_de_cliente, foto_mes, clase_ternaria)]\n",
        "\n",
        "  particionar(drealidad,\n",
        "    division= c(3, 7),\n",
        "    agrupa= \"clase_ternaria\",\n",
        "    seed= PARAM$semilla_kaggle\n",
        "  )\n",
        "\n",
        "  return( drealidad )\n",
        "}"
      ]
    },
    {
      "cell_type": "code",
      "execution_count": 15,
      "metadata": {
        "id": "6aVLFlEbmM3s",
        "vscode": {
          "languageId": "r"
        }
      },
      "outputs": [],
      "source": [
        "# evaluo ganancia en los datos de la realidad\n",
        "\n",
        "realidad_evaluar <- function( prealidad, pprediccion) {\n",
        "\n",
        "  prealidad[ pprediccion,\n",
        "    on= c(\"numero_de_cliente\", \"foto_mes\"),\n",
        "    predicted:= i.Predicted\n",
        "  ]\n",
        "\n",
        "  tbl <- prealidad[, list(\"qty\"=.N), list(fold, predicted, clase_ternaria)]\n",
        "\n",
        "  res <- list()\n",
        "  res$public  <- tbl[fold==1 & predicted==1L, sum(qty*ifelse(clase_ternaria==\"BAJA+2\", 780000, -20000))]/0.3\n",
        "  res$private <- tbl[fold==2 & predicted==1L, sum(qty*ifelse(clase_ternaria==\"BAJA+2\", 780000, -20000))]/0.7\n",
        "  res$total <- tbl[predicted==1L, sum(qty*ifelse(clase_ternaria==\"BAJA+2\", 780000, -20000))]\n",
        "\n",
        "  prealidad[, predicted:=NULL]\n",
        "  return( res )\n",
        "}"
      ]
    },
    {
      "cell_type": "markdown",
      "metadata": {
        "id": "4RWZXL1VZjMI"
      },
      "source": [
        "### 2.2.4  Preprocesamiento"
      ]
    },
    {
      "cell_type": "code",
      "execution_count": null,
      "metadata": {
        "id": "j3toG9-lZm4K",
        "vscode": {
          "languageId": "r"
        }
      },
      "outputs": [],
      "source": [
        "# carpeta de trabajo\n",
        "\n",
        "setwd(\"/content/buckets/b1/exp\")\n",
        "experimento_folder <- paste0(\"HT\", PARAM$experimento)\n",
        "dir.create(experimento_folder, showWarnings=FALSE)\n",
        "setwd( paste0(\"/content/buckets/b1/exp/\", experimento_folder ))"
      ]
    },
    {
      "cell_type": "code",
      "execution_count": 16,
      "metadata": {
        "id": "FM3lxKoLZ643",
        "vscode": {
          "languageId": "r"
        }
      },
      "outputs": [],
      "source": [
        "# lectura del dataset\n",
        "dataset <- fread(\"./competencia_01.csv.gz\", stringsAsFactors= TRUE)"
      ]
    },
    {
      "cell_type": "code",
      "execution_count": 17,
      "metadata": {
        "id": "OsJ-91UeZ-I_",
        "vscode": {
          "languageId": "r"
        }
      },
      "outputs": [],
      "source": [
        "dataset_train <- dataset[foto_mes %in% PARAM$train]"
      ]
    },
    {
      "cell_type": "code",
      "execution_count": 18,
      "metadata": {
        "id": "vrWE7BE0aB2J",
        "vscode": {
          "languageId": "r"
        }
      },
      "outputs": [],
      "source": [
        "# paso la clase a binaria que tome valores {0,1}  enteros\n",
        "#  BAJA+1 y BAJA+2  son  1,   CONTINUA es 0\n",
        "#  a partir de ahora ya NO puedo cortar  por prob(BAJA+2) > 1/40\n",
        "\n",
        "dataset_train[,\n",
        "  clase01 := ifelse(clase_ternaria %in% c(\"BAJA+2\",\"BAJA+1\"), 1L, 0L)\n",
        "]"
      ]
    },
    {
      "cell_type": "code",
      "execution_count": 19,
      "metadata": {
        "id": "jP7YlQBnaW6W",
        "vscode": {
          "languageId": "r"
        }
      },
      "outputs": [],
      "source": [
        "# defino los datos que forma parte del training\n",
        "# aqui se hace el undersampling de los CONTINUA\n",
        "# notar que para esto utilizo la SEGUNDA semilla\n",
        "\n",
        "set.seed(PARAM$semilla_primigenia, kind = \"L'Ecuyer-CMRG\")\n",
        "dataset_train[, azar := runif(nrow(dataset_train))]\n",
        "dataset_train[, training := 0L]\n",
        "\n",
        "dataset_train[\n",
        "  foto_mes %in%  PARAM$train &\n",
        "    (azar <= PARAM$trainingstrategy$undersampling | clase_ternaria %in% c(\"BAJA+1\", \"BAJA+2\")),\n",
        "  training := 1L\n",
        "]"
      ]
    },
    {
      "cell_type": "code",
      "execution_count": 20,
      "metadata": {
        "id": "xElu4s5W4rX7",
        "vscode": {
          "languageId": "r"
        }
      },
      "outputs": [],
      "source": [
        "# los campos que se van a utilizar\n",
        "\n",
        "campos_buenos <- setdiff(\n",
        "  colnames(dataset_train),\n",
        "  c(\"clase_ternaria\", \"clase01\", \"azar\", \"training\")\n",
        ")"
      ]
    },
    {
      "cell_type": "code",
      "execution_count": 21,
      "metadata": {
        "id": "PppMHcGYaaol",
        "vscode": {
          "languageId": "r"
        }
      },
      "outputs": [
        {
          "data": {
            "text/html": [
              "82338"
            ],
            "text/latex": [
              "82338"
            ],
            "text/markdown": [
              "82338"
            ],
            "text/plain": [
              "[1] 82338"
            ]
          },
          "metadata": {},
          "output_type": "display_data"
        },
        {
          "data": {
            "text/html": [
              "154"
            ],
            "text/latex": [
              "154"
            ],
            "text/markdown": [
              "154"
            ],
            "text/plain": [
              "[1] 154"
            ]
          },
          "metadata": {},
          "output_type": "display_data"
        }
      ],
      "source": [
        "# dejo los datos en el formato que necesita LightGBM\n",
        "\n",
        "dtrain <- lgb.Dataset(\n",
        "  data= data.matrix(dataset_train[training == 1L, campos_buenos, with= FALSE]),\n",
        "  label= dataset_train[training == 1L, clase01],\n",
        "  free_raw_data= FALSE\n",
        ")\n",
        "\n",
        "nrow(dtrain)\n",
        "ncol(dtrain)"
      ]
    },
    {
      "cell_type": "markdown",
      "metadata": {
        "id": "Ta-EkOu3cphF"
      },
      "source": [
        "2.2.5 Configuracion Bayesian Optimization"
      ]
    },
    {
      "cell_type": "code",
      "execution_count": 22,
      "metadata": {
        "id": "cjgfurjdfiXb",
        "vscode": {
          "languageId": "r"
        }
      },
      "outputs": [],
      "source": [
        "# En el argumento x llegan los parmaetros de la bayesiana\n",
        "#  devuelve la AUC en cross validation del modelo entrenado\n",
        "\n",
        "EstimarGanancia_AUC_lightgbm <- function(x) {\n",
        "\n",
        "  # x pisa (o agrega) a param_fijos\n",
        "  param_completo <- modifyList(PARAM$lgbm$param_fijos, x)\n",
        "\n",
        "  # entreno LightGBM\n",
        "  modelocv <- lgb.cv(\n",
        "    data= dtrain,\n",
        "    nfold= PARAM$hyperparametertuning$xval_folds,\n",
        "    stratified= TRUE,\n",
        "    param= param_completo\n",
        "  )\n",
        "\n",
        "  # obtengo la ganancia\n",
        "  AUC <- modelocv$best_score\n",
        "\n",
        "  # hago espacio en la memoria\n",
        "  rm(modelocv)\n",
        "  gc(full= TRUE, verbose= FALSE)\n",
        "\n",
        "  message(format(Sys.time(), \"%a %b %d %X %Y\"), \" AUC \", AUC)\n",
        "\n",
        "  return(AUC)\n",
        "}"
      ]
    },
    {
      "cell_type": "code",
      "execution_count": 23,
      "metadata": {
        "id": "WLi_o1hocvN-",
        "vscode": {
          "languageId": "r"
        }
      },
      "outputs": [],
      "source": [
        "# Aqui comienza la configuracion de la Bayesian Optimization\n",
        "\n",
        "# en este archivo quedan la evolucion binaria de la BO\n",
        "kbayesiana <- \"bayesiana.RDATA\"\n",
        "\n",
        "funcion_optimizar <- EstimarGanancia_AUC_lightgbm # la funcion que voy a maximizar\n",
        "\n",
        "configureMlr(show.learner.output= FALSE)\n",
        "\n",
        "# configuro la busqueda bayesiana,  los hiperparametros que se van a optimizar\n",
        "# por favor, no desesperarse por lo complejo\n",
        "\n",
        "obj.fun <- makeSingleObjectiveFunction(\n",
        "  fn= funcion_optimizar, # la funcion que voy a maximizar\n",
        "  minimize= FALSE, # estoy Maximizando la ganancia\n",
        "  noisy= TRUE,\n",
        "  par.set= PARAM$hypeparametertuning$hs, # definido al comienzo del programa\n",
        "  has.simple.signature= FALSE # paso los parametros en una lista\n",
        ")\n",
        "\n",
        "# cada 600 segundos guardo el resultado intermedio\n",
        "ctrl <- makeMBOControl(\n",
        "  save.on.disk.at.time= 600, # se graba cada 600 segundos\n",
        "  save.file.path= kbayesiana\n",
        ") # se graba cada 600 segundos\n",
        "\n",
        "# indico la cantidad de iteraciones que va a tener la Bayesian Optimization\n",
        "ctrl <- setMBOControlTermination(\n",
        "  ctrl,\n",
        "  iters= PARAM$hyperparametertuning$iteraciones\n",
        ") # cantidad de iteraciones\n",
        "\n",
        "# defino el método estandar para la creacion de los puntos iniciales,\n",
        "# los \"No Inteligentes\"\n",
        "ctrl <- setMBOControlInfill(ctrl, crit= makeMBOInfillCritEI())\n",
        "\n",
        "# establezco la funcion que busca el maximo\n",
        "surr.km <- makeLearner(\n",
        "  \"regr.km\",\n",
        "  predict.type= \"se\",\n",
        "  covtype= \"matern3_2\",\n",
        "  control= list(trace= TRUE)\n",
        ")\n"
      ]
    },
    {
      "cell_type": "markdown",
      "metadata": {
        "id": "_uUeVo5pc4zc"
      },
      "source": [
        "2.2.6 Corrida Bayesian Optimization"
      ]
    },
    {
      "cell_type": "code",
      "execution_count": 24,
      "metadata": {
        "id": "RcABNaKGciaz",
        "vscode": {
          "languageId": "r"
        }
      },
      "outputs": [
        {
          "name": "stderr",
          "output_type": "stream",
          "text": [
            "Computing y column(s) for design. Not provided.\n",
            "\n",
            "mar sept 09 00:19:18 2025 AUC 0.915565682860269\n",
            "\n",
            "mar sept 09 00:22:21 2025 AUC 0.913503360772626\n",
            "\n",
            "mar sept 09 00:24:46 2025 AUC 0.903792757992031\n",
            "\n",
            "mar sept 09 00:27:05 2025 AUC 0.881572284420119\n",
            "\n",
            "mar sept 09 00:30:32 2025 AUC 0.906849852908718\n",
            "\n",
            "mar sept 09 00:31:42 2025 AUC 0.898694720544614\n",
            "\n",
            "mar sept 09 00:33:01 2025 AUC 0.916488816423472\n",
            "\n",
            "mar sept 09 00:36:01 2025 AUC 0.913601477832785\n",
            "\n",
            "mar sept 09 00:38:08 2025 AUC 0.915469456173745\n",
            "\n",
            "mar sept 09 00:41:28 2025 AUC 0.876525607363746\n",
            "\n",
            "mar sept 09 00:46:38 2025 AUC 0.907215385138372\n",
            "\n",
            "mar sept 09 00:47:47 2025 AUC 0.89927334934072\n",
            "\n",
            "mar sept 09 00:48:07 2025 AUC 0.892465037531064\n",
            "\n",
            "mar sept 09 00:48:37 2025 AUC 0.9098070479941\n",
            "\n",
            "mar sept 09 00:51:44 2025 AUC 0.907997535547485\n",
            "\n",
            "mar sept 09 00:53:32 2025 AUC 0.897695237903255\n",
            "\n",
            "mar sept 09 00:54:06 2025 AUC 0.5\n",
            "\n",
            "mar sept 09 00:55:31 2025 AUC 0.914231028793604\n",
            "\n",
            "mar sept 09 00:57:45 2025 AUC 0.886779419176003\n",
            "\n",
            "mar sept 09 00:57:54 2025 AUC 0.5\n",
            "\n",
            "mar sept 09 01:02:03 2025 AUC 0.913201089705489\n",
            "\n",
            "mar sept 09 01:05:15 2025 AUC 0.918074676245525\n",
            "\n",
            "mar sept 09 01:07:28 2025 AUC 0.913122293941643\n",
            "\n",
            "mar sept 09 01:07:55 2025 AUC 0.891263657321139\n",
            "\n",
            "mar sept 09 01:10:53 2025 AUC 0.905379408511072\n",
            "\n",
            "mar sept 09 01:14:27 2025 AUC 0.904728544558876\n",
            "\n",
            "mar sept 09 01:15:39 2025 AUC 0.895029042514379\n",
            "\n",
            "mar sept 09 01:19:49 2025 AUC 0.916530474839674\n",
            "\n",
            "mar sept 09 01:20:04 2025 AUC 0.5\n",
            "\n",
            "mar sept 09 01:22:31 2025 AUC 0.892414091281779\n",
            "\n",
            "mar sept 09 01:24:34 2025 AUC 0.909257521915629\n",
            "\n",
            "mar sept 09 01:28:00 2025 AUC 0.896782057334941\n",
            "\n",
            "mar sept 09 01:29:02 2025 AUC 0.911104819018144\n",
            "\n",
            "mar sept 09 01:29:44 2025 AUC 0.5\n",
            "\n",
            "mar sept 09 01:30:47 2025 AUC 0.908579235277757\n",
            "\n",
            "mar sept 09 01:30:56 2025 AUC 0.889485482533009\n",
            "\n",
            "mar sept 09 01:33:00 2025 AUC 0.904055166613728\n",
            "\n",
            "mar sept 09 01:40:25 2025 AUC 0.89307024099428\n",
            "\n",
            "mar sept 09 01:40:51 2025 AUC 0.5\n",
            "\n",
            "mar sept 09 01:41:24 2025 AUC 0.885404226151443\n",
            "\n",
            "mar sept 09 01:41:40 2025 AUC 0.896721043330438\n",
            "\n",
            "mar sept 09 01:43:42 2025 AUC 0.916551501754701\n",
            "\n",
            "mar sept 09 01:49:45 2025 AUC 0.905778901061367\n",
            "\n",
            "mar sept 09 01:58:16 2025 AUC 0.916587117028411\n",
            "\n",
            "mar sept 09 01:58:21 2025 AUC 0.909718722906183\n",
            "\n",
            "mar sept 09 01:58:30 2025 AUC 0.898170914128109\n",
            "\n",
            "mar sept 09 01:58:33 2025 AUC 0.5\n",
            "\n",
            "mar sept 09 01:59:37 2025 AUC 0.914504573279021\n",
            "\n",
            "mar sept 09 01:59:42 2025 AUC 0.847204827643486\n",
            "\n",
            "mar sept 09 02:00:18 2025 AUC 0.5\n",
            "\n",
            "mar sept 09 02:00:51 2025 AUC 0.5\n",
            "\n",
            "mar sept 09 02:01:25 2025 AUC 0.5\n",
            "\n",
            "mar sept 09 02:06:29 2025 AUC 0.907586139432765\n",
            "\n",
            "mar sept 09 02:07:16 2025 AUC 0.90791739402493\n",
            "\n",
            "mar sept 09 02:08:17 2025 AUC 0.911414350215366\n",
            "\n",
            "mar sept 09 02:08:52 2025 AUC 0.912526659525796\n",
            "\n",
            "[mbo] 0: min_sum_hessian_in_leaf=0.0337; learning_rate=0.0548; feature_fraction=0.495; bagging_fraction=0.544; lambda_l1=4.22; lambda_l2=4.88; min_gain_to_split=5.13; drop_rate=0.117; skip_drop=0.357; bagging_freq=9; num_iterations=1358; max_depth=11; num_leaves=1193; min_data_in_leaf=3666 : y = 0.916 : 167.2 secs : initdesign\n",
            "\n",
            "[mbo] 0: min_sum_hessian_in_leaf=0.0479; learning_rate=0.0521; feature_fraction=0.855; bagging_fraction=0.618; lambda_l1=1.58; lambda_l2=2.17; min_gain_to_split=7.95; drop_rate=0.146; skip_drop=0.198; bagging_freq=4; num_iterations=1489; max_depth=8; num_leaves=694; min_data_in_leaf=3170 : y = 0.914 : 183.3 secs : initdesign\n",
            "\n",
            "[mbo] 0: min_sum_hessian_in_leaf=0.066; learning_rate=0.0172; feature_fraction=0.458; bagging_fraction=0.358; lambda_l1=5.97; lambda_l2=5.43; min_gain_to_split=12.2; drop_rate=0.18; skip_drop=0.394; bagging_freq=8; num_iterations=1699; max_depth=2; num_leaves=1418; min_data_in_leaf=3526 : y = 0.904 : 145.1 secs : initdesign\n",
            "\n",
            "[mbo] 0: min_sum_hessian_in_leaf=0.0754; learning_rate=0.0331; feature_fraction=0.704; bagging_fraction=0.214; lambda_l1=7.73; lambda_l2=8.86; min_gain_to_split=4.31; drop_rate=0.133; skip_drop=0.332; bagging_freq=3; num_iterations=1642; max_depth=5; num_leaves=961; min_data_in_leaf=5298 : y = 0.882 : 138.1 secs : initdesign\n",
            "\n",
            "[mbo] 0: min_sum_hessian_in_leaf=0.0683; learning_rate=0.0527; feature_fraction=0.544; bagging_fraction=0.564; lambda_l1=6.82; lambda_l2=1.08; min_gain_to_split=8.05; drop_rate=0.278; skip_drop=0.375; bagging_freq=8; num_iterations=1753; max_depth=5; num_leaves=1310; min_data_in_leaf=5926 : y = 0.907 : 207.2 secs : initdesign\n",
            "\n",
            "[mbo] 0: min_sum_hessian_in_leaf=0.0189; learning_rate=0.0444; feature_fraction=0.126; bagging_fraction=0.598; lambda_l1=2.85; lambda_l2=7.7; min_gain_to_split=5.94; drop_rate=0.135; skip_drop=0.268; bagging_freq=7; num_iterations=622; max_depth=12; num_leaves=1033; min_data_in_leaf=5467 : y = 0.899 : 70.1 secs : initdesign\n",
            "\n",
            "[mbo] 0: min_sum_hessian_in_leaf=0.00721; learning_rate=0.0491; feature_fraction=0.153; bagging_fraction=0.668; lambda_l1=6.42; lambda_l2=2; min_gain_to_split=5.44; drop_rate=0.244; skip_drop=0.625; bagging_freq=9; num_iterations=915; max_depth=4; num_leaves=1110; min_data_in_leaf=1834 : y = 0.916 : 79.6 secs : initdesign\n",
            "\n",
            "[mbo] 0: min_sum_hessian_in_leaf=0.054; learning_rate=0.0774; feature_fraction=0.622; bagging_fraction=0.815; lambda_l1=1.98; lambda_l2=1.05; min_gain_to_split=11.2; drop_rate=0.209; skip_drop=0.418; bagging_freq=7; num_iterations=1528; max_depth=6; num_leaves=259; min_data_in_leaf=4120 : y = 0.914 : 179.4 secs : initdesign\n",
            "\n",
            "[mbo] 0: min_sum_hessian_in_leaf=0.0812; learning_rate=0.0627; feature_fraction=0.583; bagging_fraction=0.772; lambda_l1=2.39; lambda_l2=1.62; min_gain_to_split=10.9; drop_rate=0.166; skip_drop=0.686; bagging_freq=1; num_iterations=2319; max_depth=10; num_leaves=1710; min_data_in_leaf=4280 : y = 0.915 : 127.2 secs : initdesign\n",
            "\n",
            "[mbo] 0: min_sum_hessian_in_leaf=0.0491; learning_rate=0.00531; feature_fraction=0.732; bagging_fraction=0.795; lambda_l1=8.68; lambda_l2=7.26; min_gain_to_split=13.1; drop_rate=0.211; skip_drop=0.319; bagging_freq=5; num_iterations=2203; max_depth=14; num_leaves=733; min_data_in_leaf=7493 : y = 0.877 : 199.7 secs : initdesign\n",
            "\n",
            "[mbo] 0: min_sum_hessian_in_leaf=0.0285; learning_rate=0.0119; feature_fraction=0.69; bagging_fraction=0.755; lambda_l1=3.27; lambda_l2=1.57; min_gain_to_split=4.88; drop_rate=0.235; skip_drop=0.305; bagging_freq=6; num_iterations=2667; max_depth=0; num_leaves=161; min_data_in_leaf=5692 : y = 0.907 : 310.2 secs : initdesign\n",
            "\n",
            "[mbo] 0: min_sum_hessian_in_leaf=0.0903; learning_rate=0.0504; feature_fraction=0.676; bagging_fraction=0.396; lambda_l1=5.21; lambda_l2=6.64; min_gain_to_split=11.3; drop_rate=0.0516; skip_drop=0.344; bagging_freq=10; num_iterations=1102; max_depth=10; num_leaves=807; min_data_in_leaf=4933 : y = 0.899 : 69.3 secs : initdesign\n",
            "\n",
            "[mbo] 0: min_sum_hessian_in_leaf=0.0578; learning_rate=0.0259; feature_fraction=0.721; bagging_fraction=0.535; lambda_l1=3.97; lambda_l2=8.74; min_gain_to_split=10.6; drop_rate=0.0708; skip_drop=0.791; bagging_freq=2; num_iterations=823; max_depth=11; num_leaves=1730; min_data_in_leaf=6030 : y = 0.892 : 19.8 secs : initdesign\n",
            "\n",
            "[mbo] 0: min_sum_hessian_in_leaf=0.0666; learning_rate=0.0308; feature_fraction=0.504; bagging_fraction=0.851; lambda_l1=9.96; lambda_l2=8.05; min_gain_to_split=5.66; drop_rate=0.184; skip_drop=0.683; bagging_freq=10; num_iterations=428; max_depth=6; num_leaves=1161; min_data_in_leaf=6942 : y = 0.91 : 29.5 secs : initdesign\n",
            "\n",
            "[mbo] 0: min_sum_hessian_in_leaf=0.0205; learning_rate=0.0376; feature_fraction=0.525; bagging_fraction=0.418; lambda_l1=8.54; lambda_l2=3.52; min_gain_to_split=11.7; drop_rate=0.139; skip_drop=0.163; bagging_freq=3; num_iterations=1252; max_depth=8; num_leaves=1760; min_data_in_leaf=1309 : y = 0.908 : 187.0 secs : initdesign\n",
            "\n",
            "[mbo] 0: min_sum_hessian_in_leaf=0.0915; learning_rate=0.067; feature_fraction=0.56; bagging_fraction=0.178; lambda_l1=4.81; lambda_l2=3.81; min_gain_to_split=4.58; drop_rate=0.168; skip_drop=0.612; bagging_freq=6; num_iterations=2018; max_depth=3; num_leaves=1087; min_data_in_leaf=2430 : y = 0.898 : 108.4 secs : initdesign\n",
            "\n",
            "[mbo] 0: min_sum_hessian_in_leaf=0.0555; learning_rate=0.0404; feature_fraction=0.762; bagging_fraction=0.0135; lambda_l1=1.82; lambda_l2=8.02; min_gain_to_split=0.649; drop_rate=0.253; skip_drop=0.577; bagging_freq=6; num_iterations=2800; max_depth=10; num_leaves=446; min_data_in_leaf=1500 : y = 0.5 : 33.8 secs : initdesign\n",
            "\n",
            "[mbo] 0: min_sum_hessian_in_leaf=0.061; learning_rate=0.0691; feature_fraction=0.193; bagging_fraction=0.741; lambda_l1=2.98; lambda_l2=6.37; min_gain_to_split=13.7; drop_rate=0.0184; skip_drop=0.553; bagging_freq=4; num_iterations=2391; max_depth=4; num_leaves=903; min_data_in_leaf=3884 : y = 0.914 : 85.0 secs : initdesign\n",
            "\n",
            "[mbo] 0: min_sum_hessian_in_leaf=0.0637; learning_rate=0.0748; feature_fraction=0.214; bagging_fraction=0.313; lambda_l1=1.32; lambda_l2=2.64; min_gain_to_split=7.35; drop_rate=0.273; skip_drop=0.43; bagging_freq=2; num_iterations=1790; max_depth=9; num_leaves=931; min_data_in_leaf=6293 : y = 0.887 : 134.3 secs : initdesign\n",
            "\n",
            "[mbo] 0: min_sum_hessian_in_leaf=0.0239; learning_rate=0.0233; feature_fraction=0.485; bagging_fraction=0.0905; lambda_l1=8.15; lambda_l2=8.31; min_gain_to_split=1.76; drop_rate=0.103; skip_drop=0.501; bagging_freq=9; num_iterations=561; max_depth=13; num_leaves=319; min_data_in_leaf=3340 : y = 0.5 : 9.0 secs : initdesign\n",
            "\n",
            "[mbo] 0: min_sum_hessian_in_leaf=0.0998; learning_rate=0.0637; feature_fraction=0.571; bagging_fraction=0.823; lambda_l1=5.17; lambda_l2=3.93; min_gain_to_split=3.43; drop_rate=0.0216; skip_drop=0.241; bagging_freq=3; num_iterations=2454; max_depth=13; num_leaves=843; min_data_in_leaf=7222 : y = 0.913 : 249.1 secs : initdesign\n",
            "\n",
            "[mbo] 0: min_sum_hessian_in_leaf=0.056; learning_rate=0.0164; feature_fraction=0.813; bagging_fraction=0.479; lambda_l1=6.71; lambda_l2=4.2; min_gain_to_split=1.45; drop_rate=0.0636; skip_drop=0.632; bagging_freq=4; num_iterations=2569; max_depth=-1; num_leaves=406; min_data_in_leaf=2833 : y = 0.918 : 191.9 secs : initdesign\n",
            "\n",
            "[mbo] 0: min_sum_hessian_in_leaf=0.0386; learning_rate=0.0696; feature_fraction=0.652; bagging_fraction=0.727; lambda_l1=8.87; lambda_l2=8.56; min_gain_to_split=10.4; drop_rate=0.0078; skip_drop=0.0173; bagging_freq=8; num_iterations=2945; max_depth=7; num_leaves=1660; min_data_in_leaf=1997 : y = 0.913 : 132.9 secs : initdesign\n",
            "\n",
            "[mbo] 0: min_sum_hessian_in_leaf=0.0164; learning_rate=0.095; feature_fraction=0.295; bagging_fraction=0.281; lambda_l1=4.59; lambda_l2=5.1; min_gain_to_split=9.07; drop_rate=0.0821; skip_drop=0.767; bagging_freq=3; num_iterations=1162; max_depth=7; num_leaves=1977; min_data_in_leaf=5083 : y = 0.891 : 26.8 secs : initdesign\n",
            "\n",
            "[mbo] 0: min_sum_hessian_in_leaf=0.00824; learning_rate=0.0349; feature_fraction=0.836; bagging_fraction=0.712; lambda_l1=1.62; lambda_l2=9.13; min_gain_to_split=13.5; drop_rate=0.194; skip_drop=0.13; bagging_freq=9; num_iterations=1118; max_depth=3; num_leaves=1002; min_data_in_leaf=1107 : y = 0.905 : 178.8 secs : initdesign\n",
            "\n",
            "[mbo] 0: min_sum_hessian_in_leaf=0.08; learning_rate=0.06; feature_fraction=0.92; bagging_fraction=0.648; lambda_l1=0.484; lambda_l2=6.83; min_gain_to_split=6.69; drop_rate=0.24; skip_drop=0.405; bagging_freq=7; num_iterations=1951; max_depth=3; num_leaves=30; min_data_in_leaf=7723 : y = 0.905 : 213.8 secs : initdesign\n",
            "\n",
            "[mbo] 0: min_sum_hessian_in_leaf=0.0885; learning_rate=0.0658; feature_fraction=0.314; bagging_fraction=0.337; lambda_l1=3.53; lambda_l2=1.93; min_gain_to_split=2.74; drop_rate=0.286; skip_drop=0.0382; bagging_freq=5; num_iterations=386; max_depth=6; num_leaves=579; min_data_in_leaf=621 : y = 0.895 : 71.3 secs : initdesign\n",
            "\n",
            "[mbo] 0: min_sum_hessian_in_leaf=0.0619; learning_rate=0.0292; feature_fraction=0.231; bagging_fraction=0.963; lambda_l1=4.34; lambda_l2=9.52; min_gain_to_split=9.75; drop_rate=0.203; skip_drop=0.452; bagging_freq=2; num_iterations=2063; max_depth=14; num_leaves=1940; min_data_in_leaf=2026 : y = 0.917 : 250.9 secs : initdesign\n",
            "\n",
            "[mbo] 0: min_sum_hessian_in_leaf=0.0299; learning_rate=0.0822; feature_fraction=0.776; bagging_fraction=0.0449; lambda_l1=6.51; lambda_l2=4.77; min_gain_to_split=3.78; drop_rate=0.247; skip_drop=0.296; bagging_freq=2; num_iterations=1012; max_depth=0; num_leaves=1251; min_data_in_leaf=1683 : y = 0.5 : 14.8 secs : initdesign\n",
            "\n",
            "[mbo] 0: min_sum_hessian_in_leaf=0.0728; learning_rate=0.0465; feature_fraction=0.348; bagging_fraction=0.484; lambda_l1=7.19; lambda_l2=7.01; min_gain_to_split=6.98; drop_rate=0.193; skip_drop=0.224; bagging_freq=4; num_iterations=1433; max_depth=1; num_leaves=1824; min_data_in_leaf=7414 : y = 0.892 : 147.2 secs : initdesign\n",
            "\n",
            "[mbo] 0: min_sum_hessian_in_leaf=0.0365; learning_rate=0.0237; feature_fraction=0.646; bagging_fraction=0.459; lambda_l1=8.24; lambda_l2=0.704; min_gain_to_split=13; drop_rate=0.224; skip_drop=0.707; bagging_freq=5; num_iterations=2146; max_depth=6; num_leaves=113; min_data_in_leaf=3827 : y = 0.909 : 122.1 secs : initdesign\n",
            "\n",
            "[mbo] 0: min_sum_hessian_in_leaf=0.0124; learning_rate=0.0204; feature_fraction=0.452; bagging_fraction=0.344; lambda_l1=2.5; lambda_l2=5.91; min_gain_to_split=10; drop_rate=0.0301; skip_drop=0.477; bagging_freq=1; num_iterations=2949; max_depth=9; num_leaves=1378; min_data_in_leaf=4773 : y = 0.897 : 206.2 secs : initdesign\n",
            "\n",
            "[mbo] 0: min_sum_hessian_in_leaf=0.0706; learning_rate=0.0881; feature_fraction=0.891; bagging_fraction=0.43; lambda_l1=1.02; lambda_l2=2.69; min_gain_to_split=3.21; drop_rate=0.0777; skip_drop=0.461; bagging_freq=2; num_iterations=768; max_depth=4; num_leaves=1887; min_data_in_leaf=4509 : y = 0.911 : 61.9 secs : initdesign\n",
            "\n",
            "[mbo] 0: min_sum_hessian_in_leaf=0.0241; learning_rate=0.092; feature_fraction=0.934; bagging_fraction=0.154; lambda_l1=9.51; lambda_l2=9.09; min_gain_to_split=0.286; drop_rate=0.158; skip_drop=0.245; bagging_freq=8; num_iterations=2589; max_depth=0; num_leaves=1860; min_data_in_leaf=6831 : y = 0.5 : 42.8 secs : initdesign\n",
            "\n",
            "[mbo] 0: min_sum_hessian_in_leaf=0.0149; learning_rate=0.09; feature_fraction=0.338; bagging_fraction=0.696; lambda_l1=7.92; lambda_l2=6.12; min_gain_to_split=7.68; drop_rate=0.263; skip_drop=0.495; bagging_freq=2; num_iterations=642; max_depth=11; num_leaves=77; min_data_in_leaf=6500 : y = 0.909 : 62.4 secs : initdesign\n",
            "\n",
            "[mbo] 0: min_sum_hessian_in_leaf=0.0346; learning_rate=0.0947; feature_fraction=0.144; bagging_fraction=0.24; lambda_l1=0.221; lambda_l2=4.47; min_gain_to_split=0.197; drop_rate=0.0379; skip_drop=0.122; bagging_freq=7; num_iterations=305; max_depth=1; num_leaves=648; min_data_in_leaf=2416 : y = 0.889 : 8.8 secs : initdesign\n",
            "\n",
            "[mbo] 0: min_sum_hessian_in_leaf=0.00298; learning_rate=0.0273; feature_fraction=0.872; bagging_fraction=0.576; lambda_l1=5.84; lambda_l2=0.466; min_gain_to_split=1.19; drop_rate=0.0355; skip_drop=0.209; bagging_freq=4; num_iterations=1377; max_depth=7; num_leaves=782; min_data_in_leaf=5738 : y = 0.904 : 123.9 secs : initdesign\n",
            "\n",
            "[mbo] 0: min_sum_hessian_in_leaf=0.00266; learning_rate=0.0585; feature_fraction=0.384; bagging_fraction=0.392; lambda_l1=7.01; lambda_l2=7.35; min_gain_to_split=14; drop_rate=0.28; skip_drop=0.00462; bagging_freq=8; num_iterations=2782; max_depth=5; num_leaves=499; min_data_in_leaf=6273 : y = 0.893 : 445.7 secs : initdesign\n",
            "\n",
            "[mbo] 0: min_sum_hessian_in_leaf=0.0751; learning_rate=0.0783; feature_fraction=0.425; bagging_fraction=0.136; lambda_l1=0.172; lambda_l2=5.69; min_gain_to_split=12.8; drop_rate=0.012; skip_drop=0.733; bagging_freq=1; num_iterations=1611; max_depth=12; num_leaves=355; min_data_in_leaf=6708 : y = 0.5 : 26.2 secs : initdesign\n",
            "\n",
            "[mbo] 0: min_sum_hessian_in_leaf=0.046; learning_rate=0.0113; feature_fraction=0.956; bagging_fraction=0.931; lambda_l1=7.54; lambda_l2=9.87; min_gain_to_split=2.01; drop_rate=0.123; skip_drop=0.274; bagging_freq=8; num_iterations=493; max_depth=15; num_leaves=1435; min_data_in_leaf=5245 : y = 0.885 : 32.7 secs : initdesign\n",
            "\n",
            "[mbo] 0: min_sum_hessian_in_leaf=0.0945; learning_rate=0.0833; feature_fraction=0.172; bagging_fraction=0.872; lambda_l1=9.23; lambda_l2=1.38; min_gain_to_split=12.5; drop_rate=0.0892; skip_drop=0.109; bagging_freq=9; num_iterations=242; max_depth=15; num_leaves=1480; min_data_in_leaf=807 : y = 0.897 : 15.4 secs : initdesign\n",
            "\n",
            "[mbo] 0: min_sum_hessian_in_leaf=0.0444; learning_rate=0.0435; feature_fraction=0.42; bagging_fraction=0.265; lambda_l1=4.97; lambda_l2=5.79; min_gain_to_split=3.63; drop_rate=0.127; skip_drop=0.525; bagging_freq=10; num_iterations=1265; max_depth=8; num_leaves=1937; min_data_in_leaf=338 : y = 0.917 : 122.8 secs : initdesign\n",
            "\n",
            "[mbo] 0: min_sum_hessian_in_leaf=0.0856; learning_rate=0.0882; feature_fraction=0.105; bagging_fraction=0.517; lambda_l1=3.68; lambda_l2=7.58; min_gain_to_split=8.57; drop_rate=0.0588; skip_drop=0.0988; bagging_freq=10; num_iterations=2878; max_depth=13; num_leaves=530; min_data_in_leaf=4312 : y = 0.906 : 362.4 secs : initdesign\n",
            "\n",
            "[mbo] 0: min_sum_hessian_in_leaf=0.0978; learning_rate=0.056; feature_fraction=0.604; bagging_fraction=0.904; lambda_l1=1.15; lambda_l2=3.67; min_gain_to_split=8.52; drop_rate=0.261; skip_drop=0.0718; bagging_freq=7; num_iterations=2700; max_depth=11; num_leaves=2044; min_data_in_leaf=263 : y = 0.917 : 511.2 secs : initdesign\n",
            "\n",
            "[mbo] 0: min_sum_hessian_in_leaf=0.0184; learning_rate=0.0813; feature_fraction=0.858; bagging_fraction=0.628; lambda_l1=9.79; lambda_l2=0.804; min_gain_to_split=12.1; drop_rate=0.112; skip_drop=0.773; bagging_freq=5; num_iterations=157; max_depth=3; num_leaves=1342; min_data_in_leaf=1216 : y = 0.91 : 4.6 secs : initdesign\n",
            "\n",
            "[mbo] 0: min_sum_hessian_in_leaf=0.0399; learning_rate=0.00697; feature_fraction=0.975; bagging_fraction=0.0742; lambda_l1=2.3; lambda_l2=2.86; min_gain_to_split=4.09; drop_rate=0.0476; skip_drop=0.593; bagging_freq=6; num_iterations=329; max_depth=15; num_leaves=57; min_data_in_leaf=7 : y = 0.898 : 9.4 secs : initdesign\n",
            "\n",
            "[mbo] 0: min_sum_hessian_in_leaf=0.00464; learning_rate=0.0734; feature_fraction=0.291; bagging_fraction=0.0223; lambda_l1=0.797; lambda_l2=5.26; min_gain_to_split=14.5; drop_rate=0.0986; skip_drop=0.15; bagging_freq=4; num_iterations=146; max_depth=14; num_leaves=1590; min_data_in_leaf=2603 : y = 0.5 : 2.7 secs : initdesign\n",
            "\n",
            "[mbo] 0: min_sum_hessian_in_leaf=0.0864; learning_rate=0.0986; feature_fraction=0.274; bagging_fraction=0.926; lambda_l1=9.1; lambda_l2=9.32; min_gain_to_split=6.92; drop_rate=0.0919; skip_drop=0.563; bagging_freq=6; num_iterations=891; max_depth=-1; num_leaves=610; min_data_in_leaf=3092 : y = 0.915 : 64.5 secs : initdesign\n",
            "\n",
            "[mbo] 0: min_sum_hessian_in_leaf=0.0777; learning_rate=0.00926; feature_fraction=0.755; bagging_fraction=0.289; lambda_l1=9.42; lambda_l2=2.4; min_gain_to_split=0.825; drop_rate=0.291; skip_drop=0.183; bagging_freq=6; num_iterations=102; max_depth=14; num_leaves=715; min_data_in_leaf=7884 : y = 0.847 : 4.5 secs : initdesign\n",
            "\n",
            "[mbo] 0: min_sum_hessian_in_leaf=0.0104; learning_rate=0.0721; feature_fraction=0.395; bagging_fraction=0.113; lambda_l1=3.87; lambda_l2=0.326; min_gain_to_split=2.44; drop_rate=0.177; skip_drop=0.657; bagging_freq=10; num_iterations=2288; max_depth=-1; num_leaves=215; min_data_in_leaf=4700 : y = 0.5 : 36.0 secs : initdesign\n",
            "\n",
            "[mbo] 0: min_sum_hessian_in_leaf=0.0956; learning_rate=0.0148; feature_fraction=0.211; bagging_fraction=0.069; lambda_l1=0.665; lambda_l2=3.09; min_gain_to_split=14.3; drop_rate=0.228; skip_drop=0.663; bagging_freq=5; num_iterations=2212; max_depth=2; num_leaves=1548; min_data_in_leaf=2967 : y = 0.5 : 33.6 secs : initdesign\n",
            "\n",
            "[mbo] 0: min_sum_hessian_in_leaf=0.0423; learning_rate=0.098; feature_fraction=0.948; bagging_fraction=0.193; lambda_l1=7.41; lambda_l2=6.54; min_gain_to_split=14.7; drop_rate=0.218; skip_drop=0.533; bagging_freq=1; num_iterations=1911; max_depth=9; num_leaves=1614; min_data_in_leaf=7576 : y = 0.5 : 33.3 secs : initdesign\n",
            "\n",
            "[mbo] 0: min_sum_hessian_in_leaf=0.0311; learning_rate=0.0861; feature_fraction=0.252; bagging_fraction=0.988; lambda_l1=5.48; lambda_l2=0.128; min_gain_to_split=6.42; drop_rate=0.155; skip_drop=0.0517; bagging_freq=1; num_iterations=1873; max_depth=2; num_leaves=236; min_data_in_leaf=2159 : y = 0.908 : 304.0 secs : initdesign\n",
            "\n",
            "[mbo] 0: min_sum_hessian_in_leaf=0.0266; learning_rate=0.0197; feature_fraction=0.802; bagging_fraction=0.886; lambda_l1=6.24; lambda_l2=9.75; min_gain_to_split=2.39; drop_rate=0.298; skip_drop=0.752; bagging_freq=3; num_iterations=958; max_depth=1; num_leaves=1501; min_data_in_leaf=520 : y = 0.908 : 47.1 secs : initdesign\n",
            "\n",
            "[mbo] 0: min_sum_hessian_in_leaf=0.0831; learning_rate=0.037; feature_fraction=0.991; bagging_fraction=0.22; lambda_l1=5.64; lambda_l2=4.33; min_gain_to_split=9.36; drop_rate=0.00187; skip_drop=0.0641; bagging_freq=1; num_iterations=2503; max_depth=0; num_leaves=1235; min_data_in_leaf=867 : y = 0.911 : 61.0 secs : initdesign\n",
            "\n",
            "[mbo] 0: min_sum_hessian_in_leaf=0.0511; learning_rate=0.0418; feature_fraction=0.363; bagging_fraction=0.967; lambda_l1=3.06; lambda_l2=3.26; min_gain_to_split=9.58; drop_rate=0.0671; skip_drop=0.725; bagging_freq=10; num_iterations=725; max_depth=12; num_leaves=368; min_data_in_leaf=7058 : y = 0.913 : 35.1 secs : initdesign\n",
            "\n",
            "Saved the current state after iteration 1 in the file bayesiana.RDATA.\n",
            "\n",
            "mar sept 09 02:11:26 2025 AUC 0.910680768869506\n",
            "\n",
            "[mbo] 1: min_sum_hessian_in_leaf=0.0993; learning_rate=0.0505; feature_fraction=0.756; bagging_fraction=0.255; lambda_l1=6.83; lambda_l2=3.08; min_gain_to_split=2.12; drop_rate=0.0875; skip_drop=0.523; bagging_freq=6; num_iterations=1815; max_depth=4; num_leaves=1063; min_data_in_leaf=2301 : y = 0.911 : 151.9 secs : infill_ei\n",
            "\n",
            "mar sept 09 02:13:50 2025 AUC 0.912143943898827\n",
            "\n",
            "[mbo] 2: min_sum_hessian_in_leaf=0.0308; learning_rate=0.0631; feature_fraction=0.37; bagging_fraction=0.3; lambda_l1=1.78; lambda_l2=6.13; min_gain_to_split=5.21; drop_rate=0.0643; skip_drop=0.237; bagging_freq=4; num_iterations=1363; max_depth=2; num_leaves=1100; min_data_in_leaf=699 : y = 0.912 : 142.2 secs : infill_ei\n",
            "\n",
            "mar sept 09 02:18:43 2025 AUC 0.917386163302182\n",
            "\n",
            "[mbo] 3: min_sum_hessian_in_leaf=0.0559; learning_rate=0.0599; feature_fraction=0.406; bagging_fraction=0.899; lambda_l1=4.09; lambda_l2=3.82; min_gain_to_split=6.89; drop_rate=0.164; skip_drop=0.397; bagging_freq=4; num_iterations=2115; max_depth=6; num_leaves=1134; min_data_in_leaf=3374 : y = 0.917 : 292.2 secs : infill_ei\n",
            "\n",
            "mar sept 09 02:20:34 2025 AUC 0.913010710355535\n",
            "\n",
            "[mbo] 4: min_sum_hessian_in_leaf=0.0857; learning_rate=0.0116; feature_fraction=0.539; bagging_fraction=0.212; lambda_l1=3.71; lambda_l2=2.73; min_gain_to_split=6.3; drop_rate=0.245; skip_drop=0.585; bagging_freq=4; num_iterations=1424; max_depth=2; num_leaves=1190; min_data_in_leaf=503 : y = 0.913 : 109.8 secs : infill_ei\n",
            "\n",
            "Saved the current state after iteration 5 in the file bayesiana.RDATA.\n",
            "\n",
            "mar sept 09 02:21:03 2025 AUC 0.914905400424847\n",
            "\n",
            "[mbo] 5: min_sum_hessian_in_leaf=0.093; learning_rate=0.0284; feature_fraction=0.717; bagging_fraction=0.271; lambda_l1=5.51; lambda_l2=3.94; min_gain_to_split=5.21; drop_rate=0.00463; skip_drop=0.641; bagging_freq=6; num_iterations=1215; max_depth=8; num_leaves=1455; min_data_in_leaf=1598 : y = 0.915 : 26.5 secs : infill_ei\n",
            "\n",
            "mar sept 09 02:21:53 2025 AUC 0.89089054611177\n",
            "\n",
            "[mbo] 6: min_sum_hessian_in_leaf=0.0905; learning_rate=0.00974; feature_fraction=0.93; bagging_fraction=0.193; lambda_l1=3.77; lambda_l2=4.55; min_gain_to_split=3.8; drop_rate=0.0489; skip_drop=0.315; bagging_freq=6; num_iterations=845; max_depth=8; num_leaves=198; min_data_in_leaf=158 : y = 0.891 : 49.3 secs : infill_ei\n",
            "\n",
            "mar sept 09 02:27:32 2025 AUC 0.912431617080035\n",
            "\n",
            "[mbo] 7: min_sum_hessian_in_leaf=0.0877; learning_rate=0.0538; feature_fraction=0.46; bagging_fraction=0.231; lambda_l1=5.38; lambda_l2=8.36; min_gain_to_split=4.14; drop_rate=0.0959; skip_drop=0.118; bagging_freq=5; num_iterations=1923; max_depth=5; num_leaves=1149; min_data_in_leaf=143 : y = 0.912 : 337.4 secs : infill_ei\n",
            "\n",
            "mar sept 09 02:29:27 2025 AUC 0.915392441628232\n",
            "\n",
            "[mbo] 8: min_sum_hessian_in_leaf=0.0691; learning_rate=0.0645; feature_fraction=0.616; bagging_fraction=0.725; lambda_l1=8.56; lambda_l2=4.7; min_gain_to_split=4.71; drop_rate=0.125; skip_drop=0.501; bagging_freq=6; num_iterations=1207; max_depth=5; num_leaves=1211; min_data_in_leaf=3948 : y = 0.915 : 113.7 secs : infill_ei\n",
            "\n",
            "mar sept 09 02:31:11 2025 AUC 0.896521915565787\n",
            "\n",
            "[mbo] 9: min_sum_hessian_in_leaf=0.0676; learning_rate=0.0598; feature_fraction=0.173; bagging_fraction=0.296; lambda_l1=3.94; lambda_l2=7.19; min_gain_to_split=3.83; drop_rate=0.196; skip_drop=0.336; bagging_freq=3; num_iterations=959; max_depth=6; num_leaves=1292; min_data_in_leaf=3946 : y = 0.897 : 101.7 secs : infill_ei\n",
            "\n",
            "Saved the current state after iteration 10 in the file bayesiana.RDATA.\n",
            "\n",
            "mar sept 09 02:31:34 2025 AUC 0.911636167109014\n",
            "\n",
            "[mbo] 10: min_sum_hessian_in_leaf=0.0341; learning_rate=0.0675; feature_fraction=0.411; bagging_fraction=0.341; lambda_l1=0.546; lambda_l2=1.79; min_gain_to_split=4.7; drop_rate=0.0367; skip_drop=0.791; bagging_freq=7; num_iterations=647; max_depth=6; num_leaves=1554; min_data_in_leaf=2981 : y = 0.912 : 21.9 secs : infill_ei\n",
            "\n",
            "mar sept 09 02:34:20 2025 AUC 0.906600112362036\n",
            "\n",
            "[mbo] 11: min_sum_hessian_in_leaf=0.0655; learning_rate=0.0537; feature_fraction=0.464; bagging_fraction=0.464; lambda_l1=5.24; lambda_l2=7.14; min_gain_to_split=7.32; drop_rate=0.191; skip_drop=0.555; bagging_freq=3; num_iterations=2138; max_depth=4; num_leaves=872; min_data_in_leaf=4915 : y = 0.907 : 164.3 secs : infill_ei\n",
            "\n",
            "mar sept 09 02:38:07 2025 AUC 0.912655621605477\n",
            "\n",
            "[mbo] 12: min_sum_hessian_in_leaf=0.0292; learning_rate=0.0621; feature_fraction=0.426; bagging_fraction=0.647; lambda_l1=7.31; lambda_l2=4.48; min_gain_to_split=9.44; drop_rate=0.127; skip_drop=0.417; bagging_freq=7; num_iterations=2628; max_depth=1; num_leaves=500; min_data_in_leaf=2970 : y = 0.913 : 225.0 secs : infill_ei\n",
            "\n",
            "mar sept 09 02:40:14 2025 AUC 0.91373361027436\n",
            "\n",
            "[mbo] 13: min_sum_hessian_in_leaf=0.0615; learning_rate=0.0547; feature_fraction=0.549; bagging_fraction=0.842; lambda_l1=4.47; lambda_l2=7.92; min_gain_to_split=9.5; drop_rate=0.0728; skip_drop=0.283; bagging_freq=6; num_iterations=997; max_depth=9; num_leaves=1743; min_data_in_leaf=1543 : y = 0.914 : 125.1 secs : infill_ei\n",
            "\n",
            "mar sept 09 02:42:32 2025 AUC 0.911061190244454\n",
            "\n",
            "[mbo] 14: min_sum_hessian_in_leaf=0.0892; learning_rate=0.0547; feature_fraction=0.567; bagging_fraction=0.229; lambda_l1=2.99; lambda_l2=3.11; min_gain_to_split=3.1; drop_rate=0.0495; skip_drop=0.319; bagging_freq=4; num_iterations=1457; max_depth=-1; num_leaves=1908; min_data_in_leaf=1779 : y = 0.911 : 136.6 secs : infill_ei\n",
            "\n",
            "Saved the current state after iteration 15 in the file bayesiana.RDATA.\n",
            "\n",
            "mar sept 09 02:45:13 2025 AUC 0.917243643703331\n",
            "\n",
            "[mbo] 15: min_sum_hessian_in_leaf=0.0749; learning_rate=0.0598; feature_fraction=0.562; bagging_fraction=0.951; lambda_l1=6.7; lambda_l2=6.25; min_gain_to_split=6.6; drop_rate=0.237; skip_drop=0.499; bagging_freq=7; num_iterations=1242; max_depth=8; num_leaves=1118; min_data_in_leaf=1250 : y = 0.917 : 159.7 secs : infill_ei\n",
            "\n",
            "mar sept 09 02:47:35 2025 AUC 0.893844501502682\n",
            "\n",
            "[mbo] 16: min_sum_hessian_in_leaf=0.0308; learning_rate=0.0238; feature_fraction=0.768; bagging_fraction=0.487; lambda_l1=3.63; lambda_l2=2.31; min_gain_to_split=8.41; drop_rate=0.0831; skip_drop=0.118; bagging_freq=6; num_iterations=1093; max_depth=4; num_leaves=638; min_data_in_leaf=4107 : y = 0.894 : 140.1 secs : infill_ei\n",
            "\n",
            "mar sept 09 02:50:25 2025 AUC 0.91713994239986\n",
            "\n",
            "[mbo] 17: min_sum_hessian_in_leaf=0.0397; learning_rate=0.0922; feature_fraction=0.302; bagging_fraction=0.397; lambda_l1=4.97; lambda_l2=3.33; min_gain_to_split=5.79; drop_rate=0.0747; skip_drop=0.479; bagging_freq=7; num_iterations=2417; max_depth=8; num_leaves=1622; min_data_in_leaf=1107 : y = 0.917 : 168.0 secs : infill_ei\n",
            "\n",
            "mar sept 09 02:55:03 2025 AUC 0.913332365915195\n",
            "\n",
            "[mbo] 18: min_sum_hessian_in_leaf=0.04; learning_rate=0.057; feature_fraction=0.477; bagging_fraction=0.692; lambda_l1=2.71; lambda_l2=3.62; min_gain_to_split=4.45; drop_rate=0.0799; skip_drop=0.336; bagging_freq=7; num_iterations=2155; max_depth=10; num_leaves=1245; min_data_in_leaf=5788 : y = 0.913 : 276.4 secs : infill_ei\n",
            "\n",
            "Saved the current state after iteration 19 in the file bayesiana.RDATA.\n",
            "\n",
            "mar sept 09 02:55:40 2025 AUC 0.910688874430738\n",
            "\n",
            "[mbo] 19: min_sum_hessian_in_leaf=0.0593; learning_rate=0.0287; feature_fraction=0.267; bagging_fraction=0.323; lambda_l1=2.8; lambda_l2=4.07; min_gain_to_split=6.42; drop_rate=0.00818; skip_drop=0.536; bagging_freq=2; num_iterations=1178; max_depth=4; num_leaves=2012; min_data_in_leaf=2430 : y = 0.911 : 35.3 secs : infill_ei\n",
            "\n",
            "mar sept 09 03:04:11 2025 AUC 0.917571758890327\n",
            "\n",
            "[mbo] 20: min_sum_hessian_in_leaf=0.0788; learning_rate=0.0749; feature_fraction=0.406; bagging_fraction=0.766; lambda_l1=4.55; lambda_l2=3.64; min_gain_to_split=5.37; drop_rate=0.264; skip_drop=0.154; bagging_freq=4; num_iterations=2457; max_depth=9; num_leaves=982; min_data_in_leaf=1397 : y = 0.918 : 508.7 secs : infill_ei\n",
            "\n",
            "mar sept 09 03:05:25 2025 AUC 0.919211246754802\n",
            "\n",
            "[mbo] 21: min_sum_hessian_in_leaf=0.0118; learning_rate=0.0783; feature_fraction=0.723; bagging_fraction=0.743; lambda_l1=3.42; lambda_l2=5; min_gain_to_split=6.98; drop_rate=0.028; skip_drop=0.73; bagging_freq=4; num_iterations=2175; max_depth=7; num_leaves=347; min_data_in_leaf=1606 : y = 0.919 : 72.7 secs : infill_ei\n",
            "\n",
            "Saved the current state after iteration 22 in the file bayesiana.RDATA.\n",
            "\n",
            "mar sept 09 03:07:41 2025 AUC 0.902140873832918\n",
            "\n",
            "[mbo] 22: min_sum_hessian_in_leaf=0.0992; learning_rate=0.0727; feature_fraction=0.554; bagging_fraction=0.252; lambda_l1=4.81; lambda_l2=3.31; min_gain_to_split=5.79; drop_rate=0.131; skip_drop=0.485; bagging_freq=6; num_iterations=2125; max_depth=1; num_leaves=1051; min_data_in_leaf=3037 : y = 0.902 : 134.2 secs : infill_ei\n",
            "\n",
            "mar sept 09 03:10:18 2025 AUC 0.915149109804435\n",
            "\n",
            "[mbo] 23: min_sum_hessian_in_leaf=0.0255; learning_rate=0.0759; feature_fraction=0.761; bagging_fraction=0.696; lambda_l1=4.35; lambda_l2=4.4; min_gain_to_split=9.83; drop_rate=0.241; skip_drop=0.6; bagging_freq=4; num_iterations=2314; max_depth=8; num_leaves=1477; min_data_in_leaf=2146 : y = 0.915 : 155.5 secs : infill_ei\n",
            "\n",
            "mar sept 09 03:10:47 2025 AUC 0.9153695728976\n",
            "\n",
            "[mbo] 24: min_sum_hessian_in_leaf=0.0244; learning_rate=0.0705; feature_fraction=0.333; bagging_fraction=0.779; lambda_l1=3.39; lambda_l2=5.26; min_gain_to_split=3.92; drop_rate=0.209; skip_drop=0.723; bagging_freq=4; num_iterations=438; max_depth=4; num_leaves=813; min_data_in_leaf=4231 : y = 0.915 : 26.3 secs : infill_ei\n",
            "\n",
            "mar sept 09 03:11:55 2025 AUC 0.899135926889834\n",
            "\n",
            "[mbo] 25: min_sum_hessian_in_leaf=0.0294; learning_rate=0.0258; feature_fraction=0.428; bagging_fraction=0.39; lambda_l1=9.21; lambda_l2=3.41; min_gain_to_split=3.34; drop_rate=0.0785; skip_drop=0.646; bagging_freq=3; num_iterations=1409; max_depth=5; num_leaves=689; min_data_in_leaf=5193 : y = 0.899 : 66.0 secs : infill_ei\n",
            "\n",
            "mar sept 09 03:14:08 2025 AUC 0.915212620728078\n",
            "\n",
            "[mbo] 26: min_sum_hessian_in_leaf=0.0616; learning_rate=0.0645; feature_fraction=0.49; bagging_fraction=0.432; lambda_l1=4.01; lambda_l2=2.54; min_gain_to_split=7.76; drop_rate=0.106; skip_drop=0.565; bagging_freq=5; num_iterations=1763; max_depth=6; num_leaves=1081; min_data_in_leaf=2542 : y = 0.915 : 132.0 secs : infill_ei\n",
            "\n",
            "mar sept 09 03:15:59 2025 AUC 0.918111526023856\n",
            "\n",
            "[mbo] 27: min_sum_hessian_in_leaf=0.0979; learning_rate=0.0487; feature_fraction=0.376; bagging_fraction=0.889; lambda_l1=2.56; lambda_l2=8.46; min_gain_to_split=7.46; drop_rate=0.113; skip_drop=0.691; bagging_freq=4; num_iterations=1482; max_depth=13; num_leaves=340; min_data_in_leaf=1529 : y = 0.918 : 108.4 secs : infill_ei\n",
            "\n",
            "Saved the current state after iteration 28 in the file bayesiana.RDATA.\n",
            "\n",
            "mar sept 09 03:18:20 2025 AUC 0.917350921345147\n",
            "\n",
            "[mbo] 28: min_sum_hessian_in_leaf=0.0896; learning_rate=0.0814; feature_fraction=0.462; bagging_fraction=0.811; lambda_l1=4.55; lambda_l2=8.18; min_gain_to_split=7.39; drop_rate=0.135; skip_drop=0.733; bagging_freq=10; num_iterations=2524; max_depth=7; num_leaves=1227; min_data_in_leaf=2804 : y = 0.917 : 139.5 secs : infill_ei\n",
            "\n",
            "mar sept 09 03:19:15 2025 AUC 0.915416793999815\n",
            "\n",
            "[mbo] 29: min_sum_hessian_in_leaf=0.093; learning_rate=0.0467; feature_fraction=0.327; bagging_fraction=0.857; lambda_l1=4.48; lambda_l2=5.63; min_gain_to_split=6.21; drop_rate=0.0508; skip_drop=0.684; bagging_freq=5; num_iterations=1108; max_depth=7; num_leaves=594; min_data_in_leaf=5802 : y = 0.915 : 52.6 secs : infill_ei\n",
            "\n",
            "mar sept 09 03:20:06 2025 AUC 0.914882980777259\n",
            "\n",
            "[mbo] 30: min_sum_hessian_in_leaf=0.051; learning_rate=0.0512; feature_fraction=0.336; bagging_fraction=0.218; lambda_l1=6.42; lambda_l2=4.29; min_gain_to_split=2.14; drop_rate=0.0695; skip_drop=0.783; bagging_freq=4; num_iterations=1577; max_depth=5; num_leaves=1585; min_data_in_leaf=850 : y = 0.915 : 49.3 secs : infill_ei\n",
            "\n",
            "mar sept 09 03:21:48 2025 AUC 0.917396291280881\n",
            "\n",
            "[mbo] 31: min_sum_hessian_in_leaf=0.0465; learning_rate=0.0826; feature_fraction=0.908; bagging_fraction=0.53; lambda_l1=7.19; lambda_l2=4.08; min_gain_to_split=7.73; drop_rate=0.0493; skip_drop=0.694; bagging_freq=6; num_iterations=2804; max_depth=5; num_leaves=1395; min_data_in_leaf=1613 : y = 0.917 : 99.6 secs : infill_ei\n",
            "\n",
            "mar sept 09 03:27:41 2025 AUC 0.910485739778893\n",
            "\n",
            "[mbo] 32: min_sum_hessian_in_leaf=0.0814; learning_rate=0.029; feature_fraction=0.256; bagging_fraction=0.944; lambda_l1=1.14; lambda_l2=7.87; min_gain_to_split=5.42; drop_rate=0.0994; skip_drop=0.107; bagging_freq=9; num_iterations=1731; max_depth=9; num_leaves=820; min_data_in_leaf=2214 : y = 0.91 : 351.0 secs : infill_ei\n",
            "\n",
            "Saved the current state after iteration 33 in the file bayesiana.RDATA.\n",
            "\n",
            "mar sept 09 03:29:10 2025 AUC 0.921618509011619\n",
            "\n",
            "[mbo] 33: min_sum_hessian_in_leaf=0.0511; learning_rate=0.0883; feature_fraction=0.7; bagging_fraction=0.577; lambda_l1=4.7; lambda_l2=5.06; min_gain_to_split=1.13; drop_rate=0.168; skip_drop=0.732; bagging_freq=4; num_iterations=1269; max_depth=5; num_leaves=120; min_data_in_leaf=2270 : y = 0.922 : 87.1 secs : infill_ei\n",
            "\n",
            "mar sept 09 03:33:37 2025 AUC 0.901794530151888\n",
            "\n",
            "[mbo] 34: min_sum_hessian_in_leaf=0.0895; learning_rate=0.0113; feature_fraction=0.681; bagging_fraction=0.212; lambda_l1=6.11; lambda_l2=3.26; min_gain_to_split=3.98; drop_rate=0.0414; skip_drop=0.228; bagging_freq=3; num_iterations=2426; max_depth=2; num_leaves=1074; min_data_in_leaf=625 : y = 0.902 : 264.8 secs : infill_ei\n",
            "\n",
            "mar sept 09 03:34:14 2025 AUC 0.912070906942373\n",
            "\n",
            "[mbo] 35: min_sum_hessian_in_leaf=0.0952; learning_rate=0.0529; feature_fraction=0.584; bagging_fraction=0.219; lambda_l1=4.42; lambda_l2=6.55; min_gain_to_split=1.38; drop_rate=0.167; skip_drop=0.782; bagging_freq=8; num_iterations=891; max_depth=1; num_leaves=1077; min_data_in_leaf=1280 : y = 0.912 : 34.8 secs : infill_ei\n",
            "\n",
            "mar sept 09 03:35:39 2025 AUC 0.915868314075\n",
            "\n",
            "[mbo] 36: min_sum_hessian_in_leaf=0.0163; learning_rate=0.0537; feature_fraction=0.324; bagging_fraction=0.891; lambda_l1=7.19; lambda_l2=6.35; min_gain_to_split=6.76; drop_rate=0.19; skip_drop=0.511; bagging_freq=8; num_iterations=802; max_depth=10; num_leaves=432; min_data_in_leaf=2065 : y = 0.916 : 82.5 secs : infill_ei\n",
            "\n",
            "mar sept 09 03:38:18 2025 AUC 0.917841802356821\n",
            "\n",
            "[mbo] 37: min_sum_hessian_in_leaf=0.068; learning_rate=0.0307; feature_fraction=0.808; bagging_fraction=0.587; lambda_l1=6.68; lambda_l2=6.23; min_gain_to_split=4.36; drop_rate=0.0893; skip_drop=0.708; bagging_freq=8; num_iterations=2667; max_depth=8; num_leaves=563; min_data_in_leaf=1511 : y = 0.918 : 156.5 secs : infill_ei\n",
            "\n",
            "Saved the current state after iteration 38 in the file bayesiana.RDATA.\n",
            "\n",
            "mar sept 09 03:40:10 2025 AUC 0.911431282063206\n",
            "\n",
            "[mbo] 38: min_sum_hessian_in_leaf=0.0775; learning_rate=0.0584; feature_fraction=0.263; bagging_fraction=0.91; lambda_l1=2.19; lambda_l2=9.03; min_gain_to_split=8.71; drop_rate=0.269; skip_drop=0.645; bagging_freq=8; num_iterations=1298; max_depth=13; num_leaves=1765; min_data_in_leaf=6616 : y = 0.911 : 108.4 secs : infill_ei\n",
            "\n",
            "mar sept 09 03:43:20 2025 AUC 0.915622747177647\n",
            "\n",
            "[mbo] 39: min_sum_hessian_in_leaf=0.0284; learning_rate=0.0336; feature_fraction=0.364; bagging_fraction=0.764; lambda_l1=5.56; lambda_l2=3.21; min_gain_to_split=10; drop_rate=0.116; skip_drop=0.508; bagging_freq=8; num_iterations=1871; max_depth=6; num_leaves=1050; min_data_in_leaf=1868 : y = 0.916 : 188.5 secs : infill_ei\n",
            "\n",
            "mar sept 09 03:44:45 2025 AUC 0.914873683813219\n",
            "\n",
            "[mbo] 40: min_sum_hessian_in_leaf=0.00651; learning_rate=0.065; feature_fraction=0.571; bagging_fraction=0.316; lambda_l1=5.14; lambda_l2=1; min_gain_to_split=8.79; drop_rate=0.113; skip_drop=0.596; bagging_freq=5; num_iterations=1381; max_depth=9; num_leaves=1989; min_data_in_leaf=287 : y = 0.915 : 82.2 secs : infill_ei\n",
            "\n",
            "mar sept 09 03:45:29 2025 AUC 0.915401772194681\n",
            "\n",
            "[mbo] 41: min_sum_hessian_in_leaf=0.0289; learning_rate=0.0744; feature_fraction=0.777; bagging_fraction=0.65; lambda_l1=5.8; lambda_l2=4.49; min_gain_to_split=4.43; drop_rate=0.203; skip_drop=0.68; bagging_freq=7; num_iterations=693; max_depth=6; num_leaves=693; min_data_in_leaf=4431 : y = 0.915 : 42.3 secs : infill_ei\n",
            "\n",
            "mar sept 09 03:48:59 2025 AUC 0.91349385390999\n",
            "\n",
            "[mbo] 42: min_sum_hessian_in_leaf=0.0557; learning_rate=0.0872; feature_fraction=0.247; bagging_fraction=0.723; lambda_l1=2.32; lambda_l2=8.81; min_gain_to_split=8.05; drop_rate=0.155; skip_drop=0.156; bagging_freq=9; num_iterations=1453; max_depth=9; num_leaves=216; min_data_in_leaf=1776 : y = 0.913 : 207.7 secs : infill_ei\n",
            "\n",
            "Saved the current state after iteration 43 in the file bayesiana.RDATA.\n",
            "\n",
            "mar sept 09 03:52:47 2025 AUC 0.911262474634343\n",
            "\n",
            "[mbo] 43: min_sum_hessian_in_leaf=0.0331; learning_rate=0.0775; feature_fraction=0.834; bagging_fraction=0.542; lambda_l1=4.85; lambda_l2=3.03; min_gain_to_split=3.34; drop_rate=0.119; skip_drop=0.547; bagging_freq=5; num_iterations=2728; max_depth=9; num_leaves=169; min_data_in_leaf=5136 : y = 0.911 : 223.8 secs : infill_ei\n",
            "\n",
            "mar sept 09 03:54:14 2025 AUC 0.916526966080495\n",
            "\n",
            "[mbo] 44: min_sum_hessian_in_leaf=0.0118; learning_rate=0.0365; feature_fraction=0.759; bagging_fraction=0.575; lambda_l1=5.89; lambda_l2=3.65; min_gain_to_split=4.3; drop_rate=0.21; skip_drop=0.738; bagging_freq=2; num_iterations=1645; max_depth=1; num_leaves=1623; min_data_in_leaf=1191 : y = 0.917 : 84.9 secs : infill_ei\n",
            "\n",
            "mar sept 09 03:57:49 2025 AUC 0.914007904995673\n",
            "\n",
            "[mbo] 45: min_sum_hessian_in_leaf=0.0727; learning_rate=0.0872; feature_fraction=0.479; bagging_fraction=0.598; lambda_l1=5.71; lambda_l2=5.38; min_gain_to_split=7.9; drop_rate=0.0588; skip_drop=0.192; bagging_freq=6; num_iterations=1620; max_depth=5; num_leaves=1744; min_data_in_leaf=1444 : y = 0.914 : 213.5 secs : infill_ei\n",
            "\n",
            "mar sept 09 03:58:32 2025 AUC 0.91284512142819\n",
            "\n",
            "[mbo] 46: min_sum_hessian_in_leaf=0.0424; learning_rate=0.0598; feature_fraction=0.255; bagging_fraction=0.949; lambda_l1=5.07; lambda_l2=8.74; min_gain_to_split=9.96; drop_rate=0.2; skip_drop=0.611; bagging_freq=1; num_iterations=519; max_depth=5; num_leaves=566; min_data_in_leaf=4556 : y = 0.913 : 40.9 secs : infill_ei\n",
            "\n",
            "mar sept 09 04:00:45 2025 AUC 0.912340030299694\n",
            "\n",
            "[mbo] 47: min_sum_hessian_in_leaf=0.0706; learning_rate=0.0344; feature_fraction=0.993; bagging_fraction=0.386; lambda_l1=4.8; lambda_l2=5.21; min_gain_to_split=8.35; drop_rate=0.0101; skip_drop=0.183; bagging_freq=2; num_iterations=2567; max_depth=0; num_leaves=741; min_data_in_leaf=823 : y = 0.912 : 129.9 secs : infill_ei\n",
            "\n",
            "Saved the current state after iteration 48 in the file bayesiana.RDATA.\n",
            "\n",
            "mar sept 09 04:06:08 2025 AUC 0.916396317010716\n",
            "\n",
            "[mbo] 48: min_sum_hessian_in_leaf=0.0346; learning_rate=0.0623; feature_fraction=0.389; bagging_fraction=0.535; lambda_l1=8.38; lambda_l2=4.31; min_gain_to_split=6.2; drop_rate=0.22; skip_drop=0.324; bagging_freq=4; num_iterations=2325; max_depth=9; num_leaves=381; min_data_in_leaf=946 : y = 0.916 : 320.4 secs : infill_ei\n",
            "\n",
            "mar sept 09 04:09:11 2025 AUC 0.921741174331539\n",
            "\n",
            "[mbo] 49: min_sum_hessian_in_leaf=0.0705; learning_rate=0.0432; feature_fraction=0.602; bagging_fraction=0.742; lambda_l1=2.53; lambda_l2=9.23; min_gain_to_split=2.98; drop_rate=0.246; skip_drop=0.62; bagging_freq=3; num_iterations=1775; max_depth=3; num_leaves=174; min_data_in_leaf=2146 : y = 0.922 : 180.6 secs : infill_ei\n",
            "\n",
            "mar sept 09 04:10:38 2025 AUC 0.918713980150666\n",
            "\n",
            "[mbo] 50: min_sum_hessian_in_leaf=0.089; learning_rate=0.0543; feature_fraction=0.189; bagging_fraction=0.922; lambda_l1=3.85; lambda_l2=2.09; min_gain_to_split=4.25; drop_rate=0.187; skip_drop=0.709; bagging_freq=3; num_iterations=1093; max_depth=11; num_leaves=1917; min_data_in_leaf=1819 : y = 0.919 : 84.2 secs : infill_ei\n",
            "\n",
            "mar sept 09 04:15:25 2025 AUC 0.91592173044445\n",
            "\n",
            "[mbo] 51: min_sum_hessian_in_leaf=0.095; learning_rate=0.0949; feature_fraction=0.407; bagging_fraction=0.963; lambda_l1=2.45; lambda_l2=2.12; min_gain_to_split=9.61; drop_rate=0.098; skip_drop=0.239; bagging_freq=3; num_iterations=1913; max_depth=14; num_leaves=1334; min_data_in_leaf=4663 : y = 0.916 : 284.6 secs : infill_ei\n",
            "\n",
            "Saved the current state after iteration 52 in the file bayesiana.RDATA.\n",
            "\n",
            "mar sept 09 04:16:44 2025 AUC 0.916999222062497\n",
            "\n",
            "[mbo] 52: min_sum_hessian_in_leaf=0.0485; learning_rate=0.0378; feature_fraction=0.456; bagging_fraction=0.687; lambda_l1=4.66; lambda_l2=3.13; min_gain_to_split=7.71; drop_rate=0.162; skip_drop=0.623; bagging_freq=2; num_iterations=815; max_depth=5; num_leaves=219; min_data_in_leaf=1243 : y = 0.917 : 76.4 secs : infill_ei\n",
            "\n",
            "mar sept 09 04:19:38 2025 AUC 0.91420123208538\n",
            "\n",
            "[mbo] 53: min_sum_hessian_in_leaf=0.0786; learning_rate=0.0843; feature_fraction=0.451; bagging_fraction=0.761; lambda_l1=1.65; lambda_l2=6.78; min_gain_to_split=4.14; drop_rate=0.192; skip_drop=0.639; bagging_freq=5; num_iterations=2089; max_depth=11; num_leaves=448; min_data_in_leaf=6018 : y = 0.914 : 172.0 secs : infill_ei\n",
            "\n",
            "mar sept 09 04:23:52 2025 AUC 0.913447017667973\n",
            "\n",
            "[mbo] 54: min_sum_hessian_in_leaf=0.0787; learning_rate=0.0966; feature_fraction=0.252; bagging_fraction=0.924; lambda_l1=1.2; lambda_l2=5.17; min_gain_to_split=11.2; drop_rate=0.238; skip_drop=0.135; bagging_freq=3; num_iterations=1288; max_depth=10; num_leaves=1337; min_data_in_leaf=1683 : y = 0.913 : 251.1 secs : infill_ei\n",
            "\n",
            "mar sept 09 04:26:07 2025 AUC 0.91835289859493\n",
            "\n",
            "[mbo] 55: min_sum_hessian_in_leaf=0.0927; learning_rate=0.0716; feature_fraction=0.417; bagging_fraction=0.889; lambda_l1=3.52; lambda_l2=7.28; min_gain_to_split=8.24; drop_rate=0.181; skip_drop=0.72; bagging_freq=5; num_iterations=2038; max_depth=14; num_leaves=1681; min_data_in_leaf=1605 : y = 0.918 : 133.0 secs : infill_ei\n",
            "\n",
            "Saved the current state after iteration 56 in the file bayesiana.RDATA.\n",
            "\n",
            "mar sept 09 04:33:12 2025 AUC 0.920992325138343\n",
            "\n",
            "[mbo] 56: min_sum_hessian_in_leaf=0.0444; learning_rate=0.0684; feature_fraction=0.602; bagging_fraction=0.799; lambda_l1=2.4; lambda_l2=7.08; min_gain_to_split=4.18; drop_rate=0.0769; skip_drop=0.266; bagging_freq=4; num_iterations=2663; max_depth=7; num_leaves=1656; min_data_in_leaf=1889 : y = 0.921 : 422.1 secs : infill_ei\n",
            "\n",
            "mar sept 09 04:37:09 2025 AUC 0.91816416607989\n",
            "\n",
            "[mbo] 57: min_sum_hessian_in_leaf=0.063; learning_rate=0.0773; feature_fraction=0.317; bagging_fraction=0.941; lambda_l1=5.19; lambda_l2=3.52; min_gain_to_split=3.33; drop_rate=0.0845; skip_drop=0.429; bagging_freq=4; num_iterations=1880; max_depth=12; num_leaves=334; min_data_in_leaf=4150 : y = 0.918 : 234.8 secs : infill_ei\n",
            "\n",
            "Saved the current state after iteration 58 in the file bayesiana.RDATA.\n",
            "\n",
            "mar sept 09 04:41:11 2025 AUC 0.915540595377932\n",
            "\n",
            "[mbo] 58: min_sum_hessian_in_leaf=0.0684; learning_rate=0.0542; feature_fraction=0.338; bagging_fraction=0.826; lambda_l1=8.99; lambda_l2=9.75; min_gain_to_split=6.43; drop_rate=0.211; skip_drop=0.519; bagging_freq=2; num_iterations=2342; max_depth=2; num_leaves=529; min_data_in_leaf=1706 : y = 0.916 : 238.5 secs : infill_ei\n",
            "\n",
            "mar sept 09 04:43:53 2025 AUC 0.923968822765745\n",
            "\n",
            "[mbo] 59: min_sum_hessian_in_leaf=0.0219; learning_rate=0.0611; feature_fraction=0.828; bagging_fraction=0.649; lambda_l1=6.42; lambda_l2=7.42; min_gain_to_split=0.601; drop_rate=0.0345; skip_drop=0.475; bagging_freq=3; num_iterations=1583; max_depth=5; num_leaves=1126; min_data_in_leaf=1584 : y = 0.924 : 159.5 secs : infill_ei\n",
            "\n",
            "mar sept 09 04:50:36 2025 AUC 0.913340599714457\n",
            "\n",
            "[mbo] 60: min_sum_hessian_in_leaf=0.0975; learning_rate=0.042; feature_fraction=0.423; bagging_fraction=0.854; lambda_l1=6.3; lambda_l2=5.86; min_gain_to_split=7.55; drop_rate=0.252; skip_drop=0.148; bagging_freq=3; num_iterations=2232; max_depth=3; num_leaves=1815; min_data_in_leaf=4096 : y = 0.913 : 400.4 secs : infill_ei\n",
            "\n",
            "Saved the current state after iteration 61 in the file bayesiana.RDATA.\n",
            "\n",
            "mar sept 09 04:52:31 2025 AUC 0.916175334158292\n",
            "\n",
            "[mbo] 61: min_sum_hessian_in_leaf=0.0439; learning_rate=0.0288; feature_fraction=0.857; bagging_fraction=0.42; lambda_l1=5.38; lambda_l2=5.52; min_gain_to_split=3.52; drop_rate=0.106; skip_drop=0.684; bagging_freq=7; num_iterations=1854; max_depth=7; num_leaves=1968; min_data_in_leaf=1865 : y = 0.916 : 112.8 secs : infill_ei\n",
            "\n",
            "mar sept 09 04:55:57 2025 AUC 0.906383710418841\n",
            "\n",
            "[mbo] 62: min_sum_hessian_in_leaf=0.0976; learning_rate=0.0698; feature_fraction=0.916; bagging_fraction=0.754; lambda_l1=2.37; lambda_l2=7.12; min_gain_to_split=6.19; drop_rate=0.0277; skip_drop=0.175; bagging_freq=4; num_iterations=2532; max_depth=1; num_leaves=848; min_data_in_leaf=2641 : y = 0.906 : 203.2 secs : infill_ei\n",
            "\n",
            "mar sept 09 04:59:54 2025 AUC 0.917011600474926\n",
            "\n",
            "[mbo] 63: min_sum_hessian_in_leaf=0.00611; learning_rate=0.0605; feature_fraction=0.313; bagging_fraction=0.732; lambda_l1=5.73; lambda_l2=9.06; min_gain_to_split=5.22; drop_rate=0.152; skip_drop=0.3; bagging_freq=1; num_iterations=1633; max_depth=3; num_leaves=1607; min_data_in_leaf=1892 : y = 0.917 : 234.4 secs : infill_ei\n",
            "\n",
            "mar sept 09 05:01:08 2025 AUC 0.90533131532689\n",
            "\n",
            "[mbo] 64: min_sum_hessian_in_leaf=0.0255; learning_rate=0.0928; feature_fraction=0.231; bagging_fraction=0.388; lambda_l1=4.52; lambda_l2=4.29; min_gain_to_split=7.06; drop_rate=0.0659; skip_drop=0.493; bagging_freq=7; num_iterations=1214; max_depth=10; num_leaves=1972; min_data_in_leaf=4131 : y = 0.905 : 71.8 secs : infill_ei\n",
            "\n",
            "Saved the current state after iteration 65 in the file bayesiana.RDATA.\n",
            "\n",
            "mar sept 09 05:04:58 2025 AUC 0.914997117455516\n",
            "\n",
            "[mbo] 65: min_sum_hessian_in_leaf=0.08; learning_rate=0.0456; feature_fraction=0.547; bagging_fraction=0.612; lambda_l1=6.63; lambda_l2=7.07; min_gain_to_split=3.71; drop_rate=0.037; skip_drop=0.287; bagging_freq=3; num_iterations=1963; max_depth=7; num_leaves=161; min_data_in_leaf=4044 : y = 0.915 : 226.7 secs : infill_ei\n",
            "\n",
            "mar sept 09 05:10:55 2025 AUC 0.911552864202543\n",
            "\n",
            "[mbo] 66: min_sum_hessian_in_leaf=0.0515; learning_rate=0.0438; feature_fraction=0.239; bagging_fraction=0.433; lambda_l1=8.99; lambda_l2=4.73; min_gain_to_split=11.1; drop_rate=0.166; skip_drop=0.244; bagging_freq=10; num_iterations=2730; max_depth=9; num_leaves=965; min_data_in_leaf=1183 : y = 0.912 : 353.9 secs : infill_ei\n",
            "\n",
            "mar sept 09 05:11:27 2025 AUC 0.919478438213742\n",
            "\n",
            "[mbo] 67: min_sum_hessian_in_leaf=0.0667; learning_rate=0.0387; feature_fraction=0.86; bagging_fraction=0.224; lambda_l1=1.54; lambda_l2=2.5; min_gain_to_split=1.17; drop_rate=0.0688; skip_drop=0.647; bagging_freq=4; num_iterations=322; max_depth=6; num_leaves=1588; min_data_in_leaf=3 : y = 0.919 : 29.5 secs : infill_ei\n",
            "\n",
            "Saved the current state after iteration 68 in the file bayesiana.RDATA.\n",
            "\n",
            "mar sept 09 05:17:12 2025 AUC 0.902385440653138\n",
            "\n",
            "[mbo] 68: min_sum_hessian_in_leaf=0.0709; learning_rate=0.0361; feature_fraction=0.877; bagging_fraction=0.405; lambda_l1=7.53; lambda_l2=4.2; min_gain_to_split=5.7; drop_rate=0.299; skip_drop=0.083; bagging_freq=4; num_iterations=2676; max_depth=9; num_leaves=531; min_data_in_leaf=2795 : y = 0.902 : 341.3 secs : infill_ei\n",
            "\n",
            "mar sept 09 05:18:43 2025 AUC 0.913284400368082\n",
            "\n",
            "[mbo] 69: min_sum_hessian_in_leaf=0.00735; learning_rate=0.061; feature_fraction=0.692; bagging_fraction=0.558; lambda_l1=8.46; lambda_l2=9; min_gain_to_split=9.51; drop_rate=0.073; skip_drop=0.576; bagging_freq=9; num_iterations=1458; max_depth=3; num_leaves=362; min_data_in_leaf=1025 : y = 0.913 : 88.3 secs : infill_ei\n",
            "\n",
            "mar sept 09 05:19:27 2025 AUC 0.920058333860368\n",
            "\n",
            "[mbo] 70: min_sum_hessian_in_leaf=0.0761; learning_rate=0.0948; feature_fraction=0.165; bagging_fraction=0.269; lambda_l1=1.83; lambda_l2=2.13; min_gain_to_split=3.31; drop_rate=0.0362; skip_drop=0.568; bagging_freq=5; num_iterations=912; max_depth=3; num_leaves=1899; min_data_in_leaf=42 : y = 0.92 : 41.4 secs : infill_ei\n",
            "\n",
            "mar sept 09 05:23:56 2025 AUC 0.924498080245798\n",
            "\n",
            "[mbo] 71: min_sum_hessian_in_leaf=0.0889; learning_rate=0.0164; feature_fraction=0.646; bagging_fraction=0.836; lambda_l1=0.734; lambda_l2=2.68; min_gain_to_split=0.645; drop_rate=0.275; skip_drop=0.626; bagging_freq=7; num_iterations=1821; max_depth=11; num_leaves=1326; min_data_in_leaf=1318 : y = 0.924 : 265.6 secs : infill_ei\n",
            "\n",
            "Saved the current state after iteration 72 in the file bayesiana.RDATA.\n",
            "\n",
            "mar sept 09 05:25:16 2025 AUC 0.905537611532047\n",
            "\n",
            "[mbo] 72: min_sum_hessian_in_leaf=0.0804; learning_rate=0.0341; feature_fraction=0.403; bagging_fraction=0.917; lambda_l1=5.1; lambda_l2=0.253; min_gain_to_split=3.41; drop_rate=0.227; skip_drop=0.427; bagging_freq=4; num_iterations=701; max_depth=2; num_leaves=287; min_data_in_leaf=2402 : y = 0.906 : 76.4 secs : infill_ei\n",
            "\n",
            "mar sept 09 05:28:14 2025 AUC 0.921580220447367\n",
            "\n",
            "[mbo] 73: min_sum_hessian_in_leaf=0.0486; learning_rate=0.0488; feature_fraction=0.514; bagging_fraction=0.822; lambda_l1=3.24; lambda_l2=1.81; min_gain_to_split=4.8; drop_rate=0.247; skip_drop=0.601; bagging_freq=1; num_iterations=1421; max_depth=10; num_leaves=1395; min_data_in_leaf=599 : y = 0.922 : 175.2 secs : infill_ei\n",
            "\n",
            "mar sept 09 05:29:54 2025 AUC 0.920051699799133\n",
            "\n",
            "[mbo] 74: min_sum_hessian_in_leaf=0.0427; learning_rate=0.0736; feature_fraction=0.315; bagging_fraction=0.603; lambda_l1=7; lambda_l2=0.948; min_gain_to_split=3.07; drop_rate=0.0431; skip_drop=0.649; bagging_freq=2; num_iterations=1646; max_depth=11; num_leaves=1312; min_data_in_leaf=1889 : y = 0.92 : 97.7 secs : infill_ei\n",
            "\n",
            "mar sept 09 05:32:10 2025 AUC 0.917126723883101\n",
            "\n",
            "[mbo] 75: min_sum_hessian_in_leaf=0.0595; learning_rate=0.0747; feature_fraction=0.104; bagging_fraction=0.971; lambda_l1=1.11; lambda_l2=1.55; min_gain_to_split=10; drop_rate=0.194; skip_drop=0.696; bagging_freq=7; num_iterations=2441; max_depth=11; num_leaves=462; min_data_in_leaf=1727 : y = 0.917 : 132.1 secs : infill_ei\n",
            "\n",
            "mar sept 09 05:37:40 2025 AUC 0.924547377198845\n",
            "\n",
            "[mbo] 76: min_sum_hessian_in_leaf=0.0759; learning_rate=0.0629; feature_fraction=0.187; bagging_fraction=0.852; lambda_l1=2.44; lambda_l2=7.73; min_gain_to_split=0.326; drop_rate=0.282; skip_drop=0.349; bagging_freq=9; num_iterations=1326; max_depth=5; num_leaves=1428; min_data_in_leaf=200 : y = 0.925 : 327.5 secs : infill_ei\n",
            "\n",
            "Saved the current state after iteration 77 in the file bayesiana.RDATA.\n",
            "\n",
            "mar sept 09 05:39:49 2025 AUC 0.918280504746484\n",
            "\n",
            "[mbo] 77: min_sum_hessian_in_leaf=0.0849; learning_rate=0.0684; feature_fraction=0.264; bagging_fraction=0.839; lambda_l1=2.45; lambda_l2=2.17; min_gain_to_split=4.52; drop_rate=0.184; skip_drop=0.674; bagging_freq=7; num_iterations=1971; max_depth=1; num_leaves=1446; min_data_in_leaf=982 : y = 0.918 : 126.1 secs : infill_ei\n",
            "\n",
            "mar sept 09 05:42:39 2025 AUC 0.920695715193381\n",
            "\n",
            "[mbo] 78: min_sum_hessian_in_leaf=0.0875; learning_rate=0.0555; feature_fraction=0.449; bagging_fraction=0.83; lambda_l1=4.18; lambda_l2=8.84; min_gain_to_split=2.47; drop_rate=0.271; skip_drop=0.452; bagging_freq=7; num_iterations=1068; max_depth=10; num_leaves=1050; min_data_in_leaf=2899 : y = 0.921 : 166.3 secs : infill_ei\n",
            "\n",
            "mar sept 09 05:50:15 2025 AUC 0.91611606336423\n",
            "\n",
            "[mbo] 79: min_sum_hessian_in_leaf=0.0845; learning_rate=0.0501; feature_fraction=0.26; bagging_fraction=0.847; lambda_l1=3.47; lambda_l2=1.26; min_gain_to_split=4.53; drop_rate=0.0886; skip_drop=0.134; bagging_freq=9; num_iterations=2760; max_depth=15; num_leaves=1352; min_data_in_leaf=1757 : y = 0.916 : 452.8 secs : infill_ei\n",
            "\n",
            "Saved the current state after iteration 80 in the file bayesiana.RDATA.\n",
            "\n",
            "mar sept 09 05:57:03 2025 AUC 0.92531342515535\n",
            "\n",
            "[mbo] 80: min_sum_hessian_in_leaf=0.0115; learning_rate=0.0417; feature_fraction=0.4; bagging_fraction=0.835; lambda_l1=0.638; lambda_l2=8.3; min_gain_to_split=1.7; drop_rate=0.299; skip_drop=0.313; bagging_freq=7; num_iterations=2408; max_depth=4; num_leaves=585; min_data_in_leaf=556 : y = 0.925 : 404.1 secs : infill_ei\n",
            "\n",
            "mar sept 09 05:59:04 2025 AUC 0.91633850595513\n",
            "\n",
            "[mbo] 81: min_sum_hessian_in_leaf=0.0287; learning_rate=0.0689; feature_fraction=0.684; bagging_fraction=0.833; lambda_l1=7.06; lambda_l2=8.01; min_gain_to_split=0.176; drop_rate=0.234; skip_drop=0.572; bagging_freq=10; num_iterations=1880; max_depth=1; num_leaves=292; min_data_in_leaf=1944 : y = 0.916 : 118.2 secs : infill_ei\n",
            "\n",
            "mar sept 09 06:01:43 2025 AUC 0.915574182902574\n",
            "\n",
            "[mbo] 82: min_sum_hessian_in_leaf=0.0585; learning_rate=0.0839; feature_fraction=0.442; bagging_fraction=0.929; lambda_l1=7.02; lambda_l2=3.63; min_gain_to_split=5.01; drop_rate=0.145; skip_drop=0.567; bagging_freq=7; num_iterations=1700; max_depth=5; num_leaves=928; min_data_in_leaf=6470 : y = 0.916 : 155.9 secs : infill_ei\n",
            "\n",
            "Saved the current state after iteration 83 in the file bayesiana.RDATA.\n",
            "\n",
            "mar sept 09 06:04:26 2025 AUC 0.92149160726914\n",
            "\n",
            "[mbo] 83: min_sum_hessian_in_leaf=0.0382; learning_rate=0.0266; feature_fraction=0.209; bagging_fraction=0.84; lambda_l1=2.94; lambda_l2=9.51; min_gain_to_split=3.36; drop_rate=0.249; skip_drop=0.715; bagging_freq=8; num_iterations=1668; max_depth=8; num_leaves=1551; min_data_in_leaf=1251 : y = 0.921 : 159.1 secs : infill_ei\n",
            "\n",
            "mar sept 09 06:10:27 2025 AUC 0.926422114272757\n",
            "\n",
            "[mbo] 84: min_sum_hessian_in_leaf=0.0515; learning_rate=0.0341; feature_fraction=0.454; bagging_fraction=0.733; lambda_l1=1.82; lambda_l2=8.05; min_gain_to_split=1.68; drop_rate=0.179; skip_drop=0.539; bagging_freq=5; num_iterations=2239; max_depth=7; num_leaves=1284; min_data_in_leaf=260 : y = 0.926 : 358.1 secs : infill_ei\n",
            "\n",
            "mar sept 09 06:17:04 2025 AUC 0.91974905795046\n",
            "\n",
            "[mbo] 85: min_sum_hessian_in_leaf=0.0641; learning_rate=0.0396; feature_fraction=0.651; bagging_fraction=0.813; lambda_l1=0.457; lambda_l2=6.71; min_gain_to_split=1.99; drop_rate=0.28; skip_drop=0.147; bagging_freq=10; num_iterations=2383; max_depth=5; num_leaves=1620; min_data_in_leaf=1615 : y = 0.92 : 394.5 secs : infill_ei\n",
            "\n",
            "Saved the current state after iteration 86 in the file bayesiana.RDATA.\n",
            "\n",
            "mar sept 09 06:20:57 2025 AUC 0.922841757096013\n",
            "\n",
            "[mbo] 86: min_sum_hessian_in_leaf=0.0057; learning_rate=0.0575; feature_fraction=0.334; bagging_fraction=0.704; lambda_l1=2.9; lambda_l2=5.75; min_gain_to_split=0.241; drop_rate=0.258; skip_drop=0.511; bagging_freq=5; num_iterations=1557; max_depth=4; num_leaves=322; min_data_in_leaf=1579 : y = 0.923 : 230.0 secs : infill_ei\n",
            "\n",
            "mar sept 09 06:22:16 2025 AUC 0.917131554684272\n",
            "\n",
            "[mbo] 87: min_sum_hessian_in_leaf=0.0864; learning_rate=0.066; feature_fraction=0.764; bagging_fraction=0.204; lambda_l1=2.64; lambda_l2=1.94; min_gain_to_split=3.06; drop_rate=0.127; skip_drop=0.44; bagging_freq=4; num_iterations=763; max_depth=4; num_leaves=990; min_data_in_leaf=910 : y = 0.917 : 75.2 secs : infill_ei\n",
            "\n",
            "mar sept 09 06:23:27 2025 AUC 0.920043268955825\n",
            "\n",
            "[mbo] 88: min_sum_hessian_in_leaf=0.0362; learning_rate=0.089; feature_fraction=0.214; bagging_fraction=0.292; lambda_l1=0.994; lambda_l2=3.6; min_gain_to_split=5.54; drop_rate=0.127; skip_drop=0.778; bagging_freq=7; num_iterations=1690; max_depth=8; num_leaves=1828; min_data_in_leaf=110 : y = 0.92 : 67.9 secs : infill_ei\n",
            "\n",
            "mar sept 09 06:30:33 2025 AUC 0.923197244229618\n",
            "\n",
            "[mbo] 89: min_sum_hessian_in_leaf=0.0599; learning_rate=0.0955; feature_fraction=0.582; bagging_fraction=0.86; lambda_l1=1.19; lambda_l2=6.21; min_gain_to_split=2.8; drop_rate=0.192; skip_drop=0.381; bagging_freq=3; num_iterations=2308; max_depth=6; num_leaves=527; min_data_in_leaf=985 : y = 0.923 : 422.4 secs : infill_ei\n",
            "\n",
            "Saved the current state after iteration 90 in the file bayesiana.RDATA.\n",
            "\n",
            "mar sept 09 06:32:10 2025 AUC 0.92180550497274\n",
            "\n",
            "[mbo] 90: min_sum_hessian_in_leaf=0.0209; learning_rate=0.0642; feature_fraction=0.669; bagging_fraction=0.613; lambda_l1=6.17; lambda_l2=3.49; min_gain_to_split=2.01; drop_rate=0.0732; skip_drop=0.541; bagging_freq=7; num_iterations=1004; max_depth=9; num_leaves=812; min_data_in_leaf=535 : y = 0.922 : 93.1 secs : infill_ei\n",
            "\n",
            "mar sept 09 06:38:08 2025 AUC 0.925673206586932\n",
            "\n",
            "[mbo] 91: min_sum_hessian_in_leaf=0.0748; learning_rate=0.0353; feature_fraction=0.242; bagging_fraction=0.816; lambda_l1=1.16; lambda_l2=5.6; min_gain_to_split=1.15; drop_rate=0.181; skip_drop=0.552; bagging_freq=9; num_iterations=2142; max_depth=7; num_leaves=540; min_data_in_leaf=270 : y = 0.926 : 355.7 secs : infill_ei\n",
            "\n",
            "mar sept 09 06:39:24 2025 AUC 0.924250190048209\n",
            "\n",
            "[mbo] 92: min_sum_hessian_in_leaf=0.0694; learning_rate=0.0641; feature_fraction=0.848; bagging_fraction=0.516; lambda_l1=5.48; lambda_l2=2.14; min_gain_to_split=1.46; drop_rate=0.0137; skip_drop=0.61; bagging_freq=3; num_iterations=1420; max_depth=7; num_leaves=1654; min_data_in_leaf=1097 : y = 0.924 : 71.6 secs : infill_ei\n",
            "\n",
            "mar sept 09 06:42:40 2025 AUC 0.925137898597622\n",
            "\n",
            "[mbo] 93: min_sum_hessian_in_leaf=0.043; learning_rate=0.0575; feature_fraction=0.591; bagging_fraction=0.559; lambda_l1=1.09; lambda_l2=4.42; min_gain_to_split=0.105; drop_rate=0.0167; skip_drop=0.486; bagging_freq=2; num_iterations=2397; max_depth=3; num_leaves=1066; min_data_in_leaf=1384 : y = 0.925 : 192.8 secs : infill_ei\n",
            "\n",
            "Saved the current state after iteration 94 in the file bayesiana.RDATA.\n",
            "\n",
            "mar sept 09 06:43:53 2025 AUC 0.914850786029939\n",
            "\n",
            "[mbo] 94: min_sum_hessian_in_leaf=0.0266; learning_rate=0.0206; feature_fraction=0.629; bagging_fraction=0.501; lambda_l1=4.34; lambda_l2=5.93; min_gain_to_split=9.52; drop_rate=0.00508; skip_drop=0.524; bagging_freq=5; num_iterations=2641; max_depth=10; num_leaves=985; min_data_in_leaf=1095 : y = 0.915 : 68.8 secs : infill_ei\n",
            "\n",
            "mar sept 09 06:50:02 2025 AUC 0.922066721263614\n",
            "\n",
            "[mbo] 95: min_sum_hessian_in_leaf=0.0588; learning_rate=0.025; feature_fraction=0.887; bagging_fraction=0.842; lambda_l1=4.78; lambda_l2=4.48; min_gain_to_split=4.88; drop_rate=0.244; skip_drop=0.383; bagging_freq=7; num_iterations=2586; max_depth=8; num_leaves=882; min_data_in_leaf=135 : y = 0.922 : 365.2 secs : infill_ei\n",
            "\n",
            "mar sept 09 06:52:07 2025 AUC 0.917497406917791\n",
            "\n",
            "[mbo] 96: min_sum_hessian_in_leaf=0.0747; learning_rate=0.038; feature_fraction=0.555; bagging_fraction=0.86; lambda_l1=0.672; lambda_l2=8.39; min_gain_to_split=8.8; drop_rate=0.276; skip_drop=0.733; bagging_freq=9; num_iterations=2130; max_depth=1; num_leaves=613; min_data_in_leaf=629 : y = 0.917 : 121.0 secs : infill_ei\n",
            "\n",
            "mar sept 09 07:10:48 2025 AUC 0.924887978527828\n",
            "\n",
            "[mbo] 97: min_sum_hessian_in_leaf=0.0841; learning_rate=0.0303; feature_fraction=0.354; bagging_fraction=0.85; lambda_l1=1.17; lambda_l2=6.87; min_gain_to_split=0.508; drop_rate=0.242; skip_drop=0.474; bagging_freq=1; num_iterations=2997; max_depth=11; num_leaves=1484; min_data_in_leaf=140 : y = 0.925 : 1117.4 secs : infill_ei\n",
            "\n",
            "Saved the current state after iteration 98 in the file bayesiana.RDATA.\n",
            "\n",
            "mar sept 09 07:12:18 2025 AUC 0.922493046766003\n",
            "\n",
            "[mbo] 98: min_sum_hessian_in_leaf=0.0465; learning_rate=0.0548; feature_fraction=0.291; bagging_fraction=0.537; lambda_l1=7.93; lambda_l2=6.86; min_gain_to_split=0.886; drop_rate=0.0107; skip_drop=0.551; bagging_freq=7; num_iterations=1939; max_depth=3; num_leaves=1562; min_data_in_leaf=1336 : y = 0.922 : 86.3 secs : infill_ei\n",
            "\n",
            "mar sept 09 07:12:46 2025 AUC 0.914882054680004\n",
            "\n",
            "[mbo] 99: min_sum_hessian_in_leaf=0.0603; learning_rate=0.0889; feature_fraction=0.658; bagging_fraction=0.348; lambda_l1=5.14; lambda_l2=7.01; min_gain_to_split=9.51; drop_rate=0.0237; skip_drop=0.706; bagging_freq=5; num_iterations=1106; max_depth=5; num_leaves=1803; min_data_in_leaf=732 : y = 0.915 : 24.2 secs : infill_ei\n",
            "\n",
            "mar sept 09 07:14:43 2025 AUC 0.922253553877803\n",
            "\n",
            "[mbo] 100: min_sum_hessian_in_leaf=0.008; learning_rate=0.0483; feature_fraction=0.596; bagging_fraction=0.378; lambda_l1=1.97; lambda_l2=4.65; min_gain_to_split=3.02; drop_rate=0.0435; skip_drop=0.674; bagging_freq=3; num_iterations=1651; max_depth=4; num_leaves=1696; min_data_in_leaf=1111 : y = 0.922 : 113.7 secs : infill_ei\n",
            "\n",
            "Saved the final state in the file bayesiana.RDATA\n",
            "\n"
          ]
        }
      ],
      "source": [
        "# inicio la optimizacion bayesiana, retomando si ya existe\n",
        "# es la celda mas lenta de todo el notebook\n",
        "\n",
        "if (!file.exists(kbayesiana)) {\n",
        "  bayesiana_salida <- mbo(obj.fun, learner= surr.km, control= ctrl)\n",
        "} else {\n",
        "  bayesiana_salida <- mboContinue(kbayesiana) # retomo en caso que ya exista\n",
        "}"
      ]
    },
    {
      "cell_type": "code",
      "execution_count": 25,
      "metadata": {
        "id": "ssk5nnMk6INK",
        "vscode": {
          "languageId": "r"
        }
      },
      "outputs": [
        {
          "data": {
            "text/html": [
              "<style>\n",
              ".list-inline {list-style: none; margin:0; padding: 0}\n",
              ".list-inline>li {display: inline-block}\n",
              ".list-inline>li:not(:last-child)::after {content: \"\\00b7\"; padding: 0 .5ex}\n",
              "</style>\n",
              "<ol class=list-inline><li>'min_sum_hessian_in_leaf'</li><li>'learning_rate'</li><li>'feature_fraction'</li><li>'bagging_fraction'</li><li>'lambda_l1'</li><li>'lambda_l2'</li><li>'min_gain_to_split'</li><li>'drop_rate'</li><li>'skip_drop'</li><li>'bagging_freq'</li><li>'num_iterations'</li><li>'max_depth'</li><li>'num_leaves'</li><li>'min_data_in_leaf'</li><li>'y'</li><li>'dob'</li><li>'eol'</li><li>'error.message'</li><li>'exec.time'</li><li>'ei'</li><li>'error.model'</li><li>'train.time'</li><li>'prop.type'</li><li>'propose.time'</li><li>'se'</li><li>'mean'</li></ol>\n"
            ],
            "text/latex": [
              "\\begin{enumerate*}\n",
              "\\item 'min\\_sum\\_hessian\\_in\\_leaf'\n",
              "\\item 'learning\\_rate'\n",
              "\\item 'feature\\_fraction'\n",
              "\\item 'bagging\\_fraction'\n",
              "\\item 'lambda\\_l1'\n",
              "\\item 'lambda\\_l2'\n",
              "\\item 'min\\_gain\\_to\\_split'\n",
              "\\item 'drop\\_rate'\n",
              "\\item 'skip\\_drop'\n",
              "\\item 'bagging\\_freq'\n",
              "\\item 'num\\_iterations'\n",
              "\\item 'max\\_depth'\n",
              "\\item 'num\\_leaves'\n",
              "\\item 'min\\_data\\_in\\_leaf'\n",
              "\\item 'y'\n",
              "\\item 'dob'\n",
              "\\item 'eol'\n",
              "\\item 'error.message'\n",
              "\\item 'exec.time'\n",
              "\\item 'ei'\n",
              "\\item 'error.model'\n",
              "\\item 'train.time'\n",
              "\\item 'prop.type'\n",
              "\\item 'propose.time'\n",
              "\\item 'se'\n",
              "\\item 'mean'\n",
              "\\end{enumerate*}\n"
            ],
            "text/markdown": [
              "1. 'min_sum_hessian_in_leaf'\n",
              "2. 'learning_rate'\n",
              "3. 'feature_fraction'\n",
              "4. 'bagging_fraction'\n",
              "5. 'lambda_l1'\n",
              "6. 'lambda_l2'\n",
              "7. 'min_gain_to_split'\n",
              "8. 'drop_rate'\n",
              "9. 'skip_drop'\n",
              "10. 'bagging_freq'\n",
              "11. 'num_iterations'\n",
              "12. 'max_depth'\n",
              "13. 'num_leaves'\n",
              "14. 'min_data_in_leaf'\n",
              "15. 'y'\n",
              "16. 'dob'\n",
              "17. 'eol'\n",
              "18. 'error.message'\n",
              "19. 'exec.time'\n",
              "20. 'ei'\n",
              "21. 'error.model'\n",
              "22. 'train.time'\n",
              "23. 'prop.type'\n",
              "24. 'propose.time'\n",
              "25. 'se'\n",
              "26. 'mean'\n",
              "\n",
              "\n"
            ],
            "text/plain": [
              " [1] \"min_sum_hessian_in_leaf\" \"learning_rate\"          \n",
              " [3] \"feature_fraction\"        \"bagging_fraction\"       \n",
              " [5] \"lambda_l1\"               \"lambda_l2\"              \n",
              " [7] \"min_gain_to_split\"       \"drop_rate\"              \n",
              " [9] \"skip_drop\"               \"bagging_freq\"           \n",
              "[11] \"num_iterations\"          \"max_depth\"              \n",
              "[13] \"num_leaves\"              \"min_data_in_leaf\"       \n",
              "[15] \"y\"                       \"dob\"                    \n",
              "[17] \"eol\"                     \"error.message\"          \n",
              "[19] \"exec.time\"               \"ei\"                     \n",
              "[21] \"error.model\"             \"train.time\"             \n",
              "[23] \"prop.type\"               \"propose.time\"           \n",
              "[25] \"se\"                      \"mean\"                   "
            ]
          },
          "metadata": {},
          "output_type": "display_data"
        }
      ],
      "source": [
        "\n",
        "tb_bayesiana <- as.data.table(bayesiana_salida$opt.path)\n",
        "colnames( tb_bayesiana)"
      ]
    },
    {
      "cell_type": "code",
      "execution_count": 26,
      "metadata": {
        "id": "u4zq-vknhjGc",
        "vscode": {
          "languageId": "r"
        }
      },
      "outputs": [],
      "source": [
        "# almaceno los resultados de la Bayesian Optimization\n",
        "# y capturo los mejores hiperparametros encontrados\n",
        "\n",
        "tb_bayesiana <- as.data.table(bayesiana_salida$opt.path)\n",
        "\n",
        "tb_bayesiana[, iter := .I]\n",
        "\n",
        "# ordeno en forma descendente por AUC = y\n",
        "setorder(tb_bayesiana, -y)\n",
        "\n",
        "# grabo para eventualmente poder utilizarlos en OTRA corrida\n",
        "fwrite( tb_bayesiana,\n",
        "  file= \"BO_log.txt\",\n",
        "  sep= \"\\t\"\n",
        ")\n",
        "\n",
        "# los mejores hiperparámetros son los que quedaron en el registro 1 de la tabla\n",
        "PARAM$out$lgbm$mejores_hiperparametros <- tb_bayesiana[\n",
        "  1, # el primero es el de mejor AUC\n",
        "  setdiff(colnames(tb_bayesiana),\n",
        "    c(\"y\",\"dob\",\"eol\",\"error.message\",\"exec.time\",\"ei\",\"error.model\",\n",
        "      \"train.time\",\"prop.type\",\"propose.time\",\"se\",\"mean\",\"iter\")),\n",
        "  with= FALSE\n",
        "]\n",
        "\n",
        "\n",
        "PARAM$out$lgbm$y <- tb_bayesiana[1, y]\n"
      ]
    },
    {
      "cell_type": "code",
      "execution_count": 27,
      "metadata": {
        "id": "E8v2eA427N8e",
        "vscode": {
          "languageId": "r"
        }
      },
      "outputs": [],
      "source": [
        "write_yaml( PARAM, file=\"PARAM.yml\")"
      ]
    },
    {
      "cell_type": "code",
      "execution_count": 28,
      "metadata": {
        "id": "iBTWexVU7PGC",
        "vscode": {
          "languageId": "r"
        }
      },
      "outputs": [
        {
          "name": "stdout",
          "output_type": "stream",
          "text": [
            "   min_sum_hessian_in_leaf learning_rate feature_fraction bagging_fraction\n",
            "                     <num>         <num>            <num>            <num>\n",
            "1:              0.05147259    0.03406759        0.4540762        0.7331524\n",
            "   lambda_l1 lambda_l2 min_gain_to_split drop_rate skip_drop bagging_freq\n",
            "       <num>     <num>             <num>     <num>     <num>        <int>\n",
            "1:  1.823336  8.050689          1.676228 0.1791182 0.5394538            5\n",
            "   num_iterations max_depth num_leaves min_data_in_leaf\n",
            "            <int>     <int>      <int>            <int>\n",
            "1:           2239         7       1284              260\n",
            "[1] 0.9264221\n"
          ]
        }
      ],
      "source": [
        "print(PARAM$out$lgbm$mejores_hiperparametros)\n",
        "print(PARAM$out$lgbm$y)"
      ]
    },
    {
      "cell_type": "markdown",
      "metadata": {
        "id": "TKsVZmAnhwX-"
      },
      "source": [
        "## 2.3  Produccion"
      ]
    },
    {
      "cell_type": "markdown",
      "metadata": {
        "id": "RQ_C33Tr5B_9"
      },
      "source": [
        "### Final Training\n",
        "Construyo el modelo final, que es uno solo, no hace ningun tipo de particion < training, validation, testing>]"
      ]
    },
    {
      "cell_type": "code",
      "execution_count": null,
      "metadata": {
        "id": "eDqfyA14hzwv",
        "vscode": {
          "languageId": "r"
        }
      },
      "outputs": [],
      "source": [
        "setwd(\"/content/buckets/b1/exp\")\n",
        "experimento <- paste0(\"exp\", PARAM$experimento)\n",
        "dir.create(experimento, showWarnings= FALSE)\n",
        "setwd( paste0(\"/content/buckets/b1/exp/\", experimento ))"
      ]
    },
    {
      "cell_type": "markdown",
      "metadata": {
        "id": "8qFmFivf5Iet"
      },
      "source": [
        "#### Final Training Dataset\n",
        "\n",
        "Aqui esta la gran decision de en qué meses hago el Final Training debo utilizar los mejores hiperparámetros que encontré en la  optimización bayesiana"
      ]
    },
    {
      "cell_type": "code",
      "execution_count": 29,
      "metadata": {
        "id": "lg5WVZncvc7H",
        "vscode": {
          "languageId": "r"
        }
      },
      "outputs": [],
      "source": [
        "# clase01\n",
        "dataset[, clase01 := ifelse(clase_ternaria %in% c(\"BAJA+1\", \"BAJA+2\"), 1L, 0L)]"
      ]
    },
    {
      "cell_type": "code",
      "execution_count": 30,
      "metadata": {
        "id": "yc9QzXREv0xf",
        "vscode": {
          "languageId": "r"
        }
      },
      "outputs": [
        {
          "data": {
            "text/html": [
              "<table class=\"dataframe\">\n",
              "<caption>A data.table: 3 × 2</caption>\n",
              "<thead>\n",
              "\t<tr><th scope=col>clase_ternaria</th><th scope=col>N</th></tr>\n",
              "\t<tr><th scope=col>&lt;fct&gt;</th><th scope=col>&lt;int&gt;</th></tr>\n",
              "</thead>\n",
              "<tbody>\n",
              "\t<tr><td>CONTINUA</td><td>160292</td></tr>\n",
              "\t<tr><td>BAJA+1  </td><td>   831</td></tr>\n",
              "\t<tr><td>BAJA+2  </td><td>  1032</td></tr>\n",
              "</tbody>\n",
              "</table>\n"
            ],
            "text/latex": [
              "A data.table: 3 × 2\n",
              "\\begin{tabular}{ll}\n",
              " clase\\_ternaria & N\\\\\n",
              " <fct> & <int>\\\\\n",
              "\\hline\n",
              "\t CONTINUA & 160292\\\\\n",
              "\t BAJA+1   &    831\\\\\n",
              "\t BAJA+2   &   1032\\\\\n",
              "\\end{tabular}\n"
            ],
            "text/markdown": [
              "\n",
              "A data.table: 3 × 2\n",
              "\n",
              "| clase_ternaria &lt;fct&gt; | N &lt;int&gt; |\n",
              "|---|---|\n",
              "| CONTINUA | 160292 |\n",
              "| BAJA+1   |    831 |\n",
              "| BAJA+2   |   1032 |\n",
              "\n"
            ],
            "text/plain": [
              "  clase_ternaria N     \n",
              "1 CONTINUA       160292\n",
              "2 BAJA+1            831\n",
              "3 BAJA+2           1032"
            ]
          },
          "metadata": {},
          "output_type": "display_data"
        }
      ],
      "source": [
        "dataset_train <- dataset[foto_mes %in% PARAM$train_final]\n",
        "dataset_train[,.N,clase_ternaria]"
      ]
    },
    {
      "cell_type": "code",
      "execution_count": 31,
      "metadata": {
        "id": "thjdqEBLuvNt",
        "vscode": {
          "languageId": "r"
        }
      },
      "outputs": [],
      "source": [
        "# dejo los datos en el formato que necesita LightGBM\n",
        "\n",
        "dtrain_final <- lgb.Dataset(\n",
        "  data= data.matrix(dataset_train[, campos_buenos, with= FALSE]),\n",
        "  label= dataset_train[, clase01]\n",
        ")"
      ]
    },
    {
      "cell_type": "markdown",
      "metadata": {
        "id": "VNUa-WSz5Oqu"
      },
      "source": [
        "#### Final Training Hyperparameters"
      ]
    },
    {
      "cell_type": "code",
      "execution_count": 32,
      "metadata": {
        "id": "FgCcvBfEwImu",
        "vscode": {
          "languageId": "r"
        }
      },
      "outputs": [
        {
          "data": {
            "text/html": [
              "<dl>\n",
              "\t<dt>$boosting</dt>\n",
              "\t\t<dd>'dart'</dd>\n",
              "\t<dt>$objective</dt>\n",
              "\t\t<dd>'binary'</dd>\n",
              "\t<dt>$metric</dt>\n",
              "\t\t<dd>'auc'</dd>\n",
              "\t<dt>$first_metric_only</dt>\n",
              "\t\t<dd>FALSE</dd>\n",
              "\t<dt>$boost_from_average</dt>\n",
              "\t\t<dd>TRUE</dd>\n",
              "\t<dt>$feature_pre_filter</dt>\n",
              "\t\t<dd>FALSE</dd>\n",
              "\t<dt>$force_row_wise</dt>\n",
              "\t\t<dd>TRUE</dd>\n",
              "\t<dt>$verbosity</dt>\n",
              "\t\t<dd>-100</dd>\n",
              "\t<dt>$seed</dt>\n",
              "\t\t<dd>200003</dd>\n",
              "\t<dt>$max_depth</dt>\n",
              "\t\t<dd>7</dd>\n",
              "\t<dt>$min_gain_to_split</dt>\n",
              "\t\t<dd>1.67622835282283</dd>\n",
              "\t<dt>$min_sum_hessian_in_leaf</dt>\n",
              "\t\t<dd>0.0514725901945283</dd>\n",
              "\t<dt>$lambda_l1</dt>\n",
              "\t\t<dd>1.82333571554321</dd>\n",
              "\t<dt>$lambda_l2</dt>\n",
              "\t\t<dd>8.05068874525696</dd>\n",
              "\t<dt>$max_bin</dt>\n",
              "\t\t<dd>31</dd>\n",
              "\t<dt>$bagging_fraction</dt>\n",
              "\t\t<dd>0.733152426600534</dd>\n",
              "\t<dt>$pos_bagging_fraction</dt>\n",
              "\t\t<dd>1</dd>\n",
              "\t<dt>$neg_bagging_fraction</dt>\n",
              "\t\t<dd>1</dd>\n",
              "\t<dt>$is_unbalance</dt>\n",
              "\t\t<dd>FALSE</dd>\n",
              "\t<dt>$scale_pos_weight</dt>\n",
              "\t\t<dd>1</dd>\n",
              "\t<dt>$drop_rate</dt>\n",
              "\t\t<dd>0.179118182236785</dd>\n",
              "\t<dt>$max_drop</dt>\n",
              "\t\t<dd>50</dd>\n",
              "\t<dt>$skip_drop</dt>\n",
              "\t\t<dd>0.539453843350318</dd>\n",
              "\t<dt>$extra_trees</dt>\n",
              "\t\t<dd>FALSE</dd>\n",
              "\t<dt>$num_iterations</dt>\n",
              "\t\t<dd>2239</dd>\n",
              "\t<dt>$learning_rate</dt>\n",
              "\t\t<dd>0.0340675900605587</dd>\n",
              "\t<dt>$feature_fraction</dt>\n",
              "\t\t<dd>0.454076174932438</dd>\n",
              "\t<dt>$num_leaves</dt>\n",
              "\t\t<dd>1284</dd>\n",
              "\t<dt>$min_data_in_leaf</dt>\n",
              "\t\t<dd>260</dd>\n",
              "\t<dt>$bagging_freq</dt>\n",
              "\t\t<dd>5</dd>\n",
              "</dl>\n"
            ],
            "text/latex": [
              "\\begin{description}\n",
              "\\item[\\$boosting] 'dart'\n",
              "\\item[\\$objective] 'binary'\n",
              "\\item[\\$metric] 'auc'\n",
              "\\item[\\$first\\_metric\\_only] FALSE\n",
              "\\item[\\$boost\\_from\\_average] TRUE\n",
              "\\item[\\$feature\\_pre\\_filter] FALSE\n",
              "\\item[\\$force\\_row\\_wise] TRUE\n",
              "\\item[\\$verbosity] -100\n",
              "\\item[\\$seed] 200003\n",
              "\\item[\\$max\\_depth] 7\n",
              "\\item[\\$min\\_gain\\_to\\_split] 1.67622835282283\n",
              "\\item[\\$min\\_sum\\_hessian\\_in\\_leaf] 0.0514725901945283\n",
              "\\item[\\$lambda\\_l1] 1.82333571554321\n",
              "\\item[\\$lambda\\_l2] 8.05068874525696\n",
              "\\item[\\$max\\_bin] 31\n",
              "\\item[\\$bagging\\_fraction] 0.733152426600534\n",
              "\\item[\\$pos\\_bagging\\_fraction] 1\n",
              "\\item[\\$neg\\_bagging\\_fraction] 1\n",
              "\\item[\\$is\\_unbalance] FALSE\n",
              "\\item[\\$scale\\_pos\\_weight] 1\n",
              "\\item[\\$drop\\_rate] 0.179118182236785\n",
              "\\item[\\$max\\_drop] 50\n",
              "\\item[\\$skip\\_drop] 0.539453843350318\n",
              "\\item[\\$extra\\_trees] FALSE\n",
              "\\item[\\$num\\_iterations] 2239\n",
              "\\item[\\$learning\\_rate] 0.0340675900605587\n",
              "\\item[\\$feature\\_fraction] 0.454076174932438\n",
              "\\item[\\$num\\_leaves] 1284\n",
              "\\item[\\$min\\_data\\_in\\_leaf] 260\n",
              "\\item[\\$bagging\\_freq] 5\n",
              "\\end{description}\n"
            ],
            "text/markdown": [
              "$boosting\n",
              ":   'dart'\n",
              "$objective\n",
              ":   'binary'\n",
              "$metric\n",
              ":   'auc'\n",
              "$first_metric_only\n",
              ":   FALSE\n",
              "$boost_from_average\n",
              ":   TRUE\n",
              "$feature_pre_filter\n",
              ":   FALSE\n",
              "$force_row_wise\n",
              ":   TRUE\n",
              "$verbosity\n",
              ":   -100\n",
              "$seed\n",
              ":   200003\n",
              "$max_depth\n",
              ":   7\n",
              "$min_gain_to_split\n",
              ":   1.67622835282283\n",
              "$min_sum_hessian_in_leaf\n",
              ":   0.0514725901945283\n",
              "$lambda_l1\n",
              ":   1.82333571554321\n",
              "$lambda_l2\n",
              ":   8.05068874525696\n",
              "$max_bin\n",
              ":   31\n",
              "$bagging_fraction\n",
              ":   0.733152426600534\n",
              "$pos_bagging_fraction\n",
              ":   1\n",
              "$neg_bagging_fraction\n",
              ":   1\n",
              "$is_unbalance\n",
              ":   FALSE\n",
              "$scale_pos_weight\n",
              ":   1\n",
              "$drop_rate\n",
              ":   0.179118182236785\n",
              "$max_drop\n",
              ":   50\n",
              "$skip_drop\n",
              ":   0.539453843350318\n",
              "$extra_trees\n",
              ":   FALSE\n",
              "$num_iterations\n",
              ":   2239\n",
              "$learning_rate\n",
              ":   0.0340675900605587\n",
              "$feature_fraction\n",
              ":   0.454076174932438\n",
              "$num_leaves\n",
              ":   1284\n",
              "$min_data_in_leaf\n",
              ":   260\n",
              "$bagging_freq\n",
              ":   5\n",
              "\n",
              "\n"
            ],
            "text/plain": [
              "$boosting\n",
              "[1] \"dart\"\n",
              "\n",
              "$objective\n",
              "[1] \"binary\"\n",
              "\n",
              "$metric\n",
              "[1] \"auc\"\n",
              "\n",
              "$first_metric_only\n",
              "[1] FALSE\n",
              "\n",
              "$boost_from_average\n",
              "[1] TRUE\n",
              "\n",
              "$feature_pre_filter\n",
              "[1] FALSE\n",
              "\n",
              "$force_row_wise\n",
              "[1] TRUE\n",
              "\n",
              "$verbosity\n",
              "[1] -100\n",
              "\n",
              "$seed\n",
              "[1] 200003\n",
              "\n",
              "$max_depth\n",
              "[1] 7\n",
              "\n",
              "$min_gain_to_split\n",
              "[1] 1.676228\n",
              "\n",
              "$min_sum_hessian_in_leaf\n",
              "[1] 0.05147259\n",
              "\n",
              "$lambda_l1\n",
              "[1] 1.823336\n",
              "\n",
              "$lambda_l2\n",
              "[1] 8.050689\n",
              "\n",
              "$max_bin\n",
              "[1] 31\n",
              "\n",
              "$bagging_fraction\n",
              "[1] 0.7331524\n",
              "\n",
              "$pos_bagging_fraction\n",
              "[1] 1\n",
              "\n",
              "$neg_bagging_fraction\n",
              "[1] 1\n",
              "\n",
              "$is_unbalance\n",
              "[1] FALSE\n",
              "\n",
              "$scale_pos_weight\n",
              "[1] 1\n",
              "\n",
              "$drop_rate\n",
              "[1] 0.1791182\n",
              "\n",
              "$max_drop\n",
              "[1] 50\n",
              "\n",
              "$skip_drop\n",
              "[1] 0.5394538\n",
              "\n",
              "$extra_trees\n",
              "[1] FALSE\n",
              "\n",
              "$num_iterations\n",
              "[1] 2239\n",
              "\n",
              "$learning_rate\n",
              "[1] 0.03406759\n",
              "\n",
              "$feature_fraction\n",
              "[1] 0.4540762\n",
              "\n",
              "$num_leaves\n",
              "[1] 1284\n",
              "\n",
              "$min_data_in_leaf\n",
              "[1] 260\n",
              "\n",
              "$bagging_freq\n",
              "[1] 5\n"
            ]
          },
          "metadata": {},
          "output_type": "display_data"
        }
      ],
      "source": [
        "param_final <- modifyList(PARAM$lgbm$param_fijos,\n",
        "  PARAM$out$lgbm$mejores_hiperparametros)\n",
        "\n",
        "param_final"
      ]
    },
    {
      "cell_type": "markdown",
      "metadata": {
        "id": "TZIYn4l95TBH"
      },
      "source": [
        "#### Training\n",
        "Genero el modelo final, siempre sobre TODOS los datos de  final_train, sin hacer ningun tipo de undersampling de la clase mayoritaria y mucho menos cross validation."
      ]
    },
    {
      "cell_type": "code",
      "execution_count": 33,
      "metadata": {
        "id": "vPLsd4mMRe4u",
        "vscode": {
          "languageId": "r"
        }
      },
      "outputs": [],
      "source": [
        "# este punto es muy SUTIL  y será revisado en la Clase 05\n",
        "\n",
        "param_normalizado <- copy(param_final)\n",
        "param_normalizado$min_data_in_leaf <-  round(param_final$min_data_in_leaf / PARAM$trainingstrategy$undersampling)"
      ]
    },
    {
      "cell_type": "code",
      "execution_count": 34,
      "metadata": {
        "id": "WRI_-taRwOXO",
        "vscode": {
          "languageId": "r"
        }
      },
      "outputs": [],
      "source": [
        "# entreno LightGBM\n",
        "\n",
        "modelo_final <- lgb.train(\n",
        "  data= dtrain_final,\n",
        "  param= param_normalizado\n",
        ")"
      ]
    },
    {
      "cell_type": "code",
      "execution_count": 35,
      "metadata": {
        "id": "_bkhnCvj0g3Q",
        "vscode": {
          "languageId": "r"
        }
      },
      "outputs": [],
      "source": [
        "# ahora imprimo la importancia de variables\n",
        "\n",
        "tb_importancia <- as.data.table(lgb.importance(modelo_final))\n",
        "archivo_importancia <- \"impo.txt\"\n",
        "\n",
        "fwrite(tb_importancia,\n",
        "  file= archivo_importancia,\n",
        "  sep= \"\\t\"\n",
        ")"
      ]
    },
    {
      "cell_type": "code",
      "execution_count": 36,
      "metadata": {
        "id": "lZ3sLmbh0kFj",
        "vscode": {
          "languageId": "r"
        }
      },
      "outputs": [],
      "source": [
        "# grabo a disco el modelo en un formato para seres humanos ... ponele ...\n",
        "lgb.save(modelo_final, \"modelo.txt\" )"
      ]
    },
    {
      "cell_type": "markdown",
      "metadata": {
        "id": "VEtp2--t5Ymg"
      },
      "source": [
        "### Scoring"
      ]
    },
    {
      "cell_type": "markdown",
      "metadata": {
        "id": "hI5008Mj5ZdI"
      },
      "source": [
        "Aplico el modelo final a los datos del futuro"
      ]
    },
    {
      "cell_type": "code",
      "execution_count": 37,
      "metadata": {
        "id": "PimBY3N_0ryP",
        "vscode": {
          "languageId": "r"
        }
      },
      "outputs": [],
      "source": [
        "# aplico el modelo a los datos sin clase\n",
        "dfuture <- dataset[foto_mes %in% PARAM$future]\n",
        "\n",
        "# aplico el modelo a los datos nuevos\n",
        "prediccion <- predict(\n",
        "  modelo_final,\n",
        "  data.matrix(dfuture[, campos_buenos, with= FALSE])\n",
        ")"
      ]
    },
    {
      "cell_type": "code",
      "execution_count": 38,
      "metadata": {
        "id": "M9_NCquymhtF",
        "vscode": {
          "languageId": "r"
        }
      },
      "outputs": [],
      "source": [
        "# inicilizo el dataset  drealidad\n",
        "drealidad <- realidad_inicializar( dfuture, PARAM)"
      ]
    },
    {
      "cell_type": "markdown",
      "metadata": {
        "id": "D26rNRh55gpw"
      },
      "source": [
        "#### Tabla Prediccion"
      ]
    },
    {
      "cell_type": "code",
      "execution_count": 39,
      "metadata": {
        "id": "RJwg7LHd11yu",
        "vscode": {
          "languageId": "r"
        }
      },
      "outputs": [],
      "source": [
        "# tabla de prediccion\n",
        "\n",
        "tb_prediccion <- dfuture[, list(numero_de_cliente, foto_mes)]\n",
        "tb_prediccion[, prob := prediccion ]\n",
        "\n",
        "# grabo las probabilidad del modelo\n",
        "fwrite(tb_prediccion,\n",
        "  file= \"prediccion.txt\",\n",
        "  sep= \"\\t\"\n",
        ")"
      ]
    },
    {
      "cell_type": "markdown",
      "metadata": {
        "id": "jOt4eG_55ltv"
      },
      "source": [
        "Kaggle Competition Submit"
      ]
    },
    {
      "cell_type": "code",
      "execution_count": 40,
      "metadata": {
        "id": "Vdu3moTfJ1Vl",
        "vscode": {
          "languageId": "r"
        }
      },
      "outputs": [
        {
          "data": {
            "text/html": [
              "<style>\n",
              ".list-inline {list-style: none; margin:0; padding: 0}\n",
              ".list-inline>li {display: inline-block}\n",
              ".list-inline>li:not(:last-child)::after {content: \"\\00b7\"; padding: 0 .5ex}\n",
              "</style>\n",
              "<ol class=list-inline><li>6000</li><li>6500</li><li>7000</li><li>7500</li><li>8000</li><li>8500</li><li>9000</li><li>9500</li><li>10000</li><li>10500</li><li>11000</li><li>11500</li><li>12000</li><li>12500</li><li>13000</li><li>13500</li><li>14000</li><li>14500</li><li>15000</li><li>15500</li><li>16000</li><li>16500</li><li>17000</li><li>17500</li><li>18000</li><li>18500</li><li>19000</li></ol>\n"
            ],
            "text/latex": [
              "\\begin{enumerate*}\n",
              "\\item 6000\n",
              "\\item 6500\n",
              "\\item 7000\n",
              "\\item 7500\n",
              "\\item 8000\n",
              "\\item 8500\n",
              "\\item 9000\n",
              "\\item 9500\n",
              "\\item 10000\n",
              "\\item 10500\n",
              "\\item 11000\n",
              "\\item 11500\n",
              "\\item 12000\n",
              "\\item 12500\n",
              "\\item 13000\n",
              "\\item 13500\n",
              "\\item 14000\n",
              "\\item 14500\n",
              "\\item 15000\n",
              "\\item 15500\n",
              "\\item 16000\n",
              "\\item 16500\n",
              "\\item 17000\n",
              "\\item 17500\n",
              "\\item 18000\n",
              "\\item 18500\n",
              "\\item 19000\n",
              "\\end{enumerate*}\n"
            ],
            "text/markdown": [
              "1. 6000\n",
              "2. 6500\n",
              "3. 7000\n",
              "4. 7500\n",
              "5. 8000\n",
              "6. 8500\n",
              "7. 9000\n",
              "8. 9500\n",
              "9. 10000\n",
              "10. 10500\n",
              "11. 11000\n",
              "12. 11500\n",
              "13. 12000\n",
              "14. 12500\n",
              "15. 13000\n",
              "16. 13500\n",
              "17. 14000\n",
              "18. 14500\n",
              "19. 15000\n",
              "20. 15500\n",
              "21. 16000\n",
              "22. 16500\n",
              "23. 17000\n",
              "24. 17500\n",
              "25. 18000\n",
              "26. 18500\n",
              "27. 19000\n",
              "\n",
              "\n"
            ],
            "text/plain": [
              " [1]  6000  6500  7000  7500  8000  8500  9000  9500 10000 10500 11000 11500\n",
              "[13] 12000 12500 13000 13500 14000 14500 15000 15500 16000 16500 17000 17500\n",
              "[25] 18000 18500 19000"
            ]
          },
          "metadata": {},
          "output_type": "display_data"
        }
      ],
      "source": [
        "PARAM$cortes"
      ]
    },
    {
      "cell_type": "code",
      "execution_count": 41,
      "metadata": {
        "id": "gWW3tatE12je",
        "vscode": {
          "languageId": "r"
        }
      },
      "outputs": [
        {
          "name": "stdout",
          "output_type": "stream",
          "text": [
            "Envios=6000\t TOTAL=338400000  Public=300866667 Private=354485714\n",
            "Envios=6500\t TOTAL=346000000  Public=319600000 Private=357314286\n",
            "Envios=7000\t TOTAL=350400000  Public=326066667 Private=360828571\n",
            "Envios=7500\t TOTAL=352400000  Public=327600000 Private=363028571\n",
            "Envios=8000\t TOTAL=355200000  Public=330400000 Private=365828571\n",
            "Envios=8500\t TOTAL=354000000  Public=328333333 Private=365000000\n",
            "Envios=9000\t TOTAL=354400000  Public=328866667 Private=365342857\n",
            "Envios=9500\t TOTAL=354800000  Public=326266667 Private=367028571\n",
            "Envios=10000\t TOTAL=354400000  Public=324266667 Private=367314286\n",
            "Envios=10500\t TOTAL=354000000  Public=324533333 Private=366628571\n",
            "Envios=11000\t TOTAL=352000000  Public=330533333 Private=361200000\n",
            "Envios=11500\t TOTAL=351600000  Public=331066667 Private=360400000\n",
            "Envios=12000\t TOTAL=347200000  Public=323066667 Private=357542857\n",
            "Envios=12500\t TOTAL=347600000  Public=320200000 Private=359342857\n",
            "Envios=13000\t TOTAL=347200000  Public=320600000 Private=358600000\n",
            "Envios=13500\t TOTAL=345200000  Public=318466667 Private=356657143\n",
            "Envios=14000\t TOTAL=344000000  Public=316266667 Private=355885714\n",
            "Envios=14500\t TOTAL=344400000  Public=320400000 Private=354685714\n",
            "Envios=15000\t TOTAL=340000000  Public=315333333 Private=350571429\n",
            "Envios=15500\t TOTAL=334800000  Public=309933333 Private=345457143\n",
            "Envios=16000\t TOTAL=330400000  Public=307133333 Private=340371429\n",
            "Envios=16500\t TOTAL=327600000  Public=307400000 Private=336257143\n",
            "Envios=17000\t TOTAL=320800000  Public=300533333 Private=329485714\n",
            "Envios=17500\t TOTAL=311600000  Public=291200000 Private=320342857\n",
            "Envios=18000\t TOTAL=305600000  Public=284533333 Private=314628571\n",
            "Envios=18500\t TOTAL=299600000  Public=277400000 Private=309114286\n",
            "Envios=19000\t TOTAL=293600000  Public=267933333 Private=304600000\n"
          ]
        }
      ],
      "source": [
        "# genero archivos con los  \"envios\" mejores\n",
        "# suba TODOS los archivos a Kaggle\n",
        "\n",
        "# ordeno por probabilidad descendente\n",
        "setorder(tb_prediccion, -prob)\n",
        "\n",
        "dir.create(\"kaggle\")\n",
        "\n",
        "for (envios in PARAM$cortes) {\n",
        "\n",
        "  tb_prediccion[, Predicted := 0L] # seteo inicial a 0\n",
        "  tb_prediccion[1:envios, Predicted := 1L] # marco los primeros\n",
        "\n",
        "  archivo_kaggle <- paste0(\"./kaggle/KA\", PARAM$experimento, \"_\", envios, \".csv\")\n",
        "\n",
        "  # grabo el archivo\n",
        "  fwrite(tb_prediccion[, list(numero_de_cliente, Predicted)],\n",
        "    file= archivo_kaggle,\n",
        "    sep= \",\"\n",
        "  )\n",
        "\n",
        "  res <- realidad_evaluar( drealidad, tb_prediccion)\n",
        "\n",
        "  options(scipen = 999)\n",
        "  cat( \"Envios=\", envios, \"\\t\",\n",
        "    \" TOTAL=\", res$total,\n",
        "    \"  Public=\", res$public,\n",
        "    \" Private=\", res$private,\n",
        "    \"\\n\",\n",
        "    sep= \"\"\n",
        "  )\n",
        "\n",
        "}"
      ]
    },
    {
      "cell_type": "code",
      "execution_count": 42,
      "metadata": {
        "id": "B9tB2X4439Hg",
        "vscode": {
          "languageId": "r"
        }
      },
      "outputs": [],
      "source": [
        "write_yaml( PARAM, file=\"PARAM.yml\")"
      ]
    },
    {
      "cell_type": "code",
      "execution_count": 43,
      "metadata": {
        "id": "9zA_W25c15DP",
        "vscode": {
          "languageId": "r"
        }
      },
      "outputs": [
        {
          "data": {
            "text/html": [
              "'mar sept 09 07:17:21 2025'"
            ],
            "text/latex": [
              "'mar sept 09 07:17:21 2025'"
            ],
            "text/markdown": [
              "'mar sept 09 07:17:21 2025'"
            ],
            "text/plain": [
              "[1] \"mar sept 09 07:17:21 2025\""
            ]
          },
          "metadata": {},
          "output_type": "display_data"
        }
      ],
      "source": [
        "format(Sys.time(), \"%a %b %d %X %Y\")"
      ]
    },
    {
      "cell_type": "markdown",
      "metadata": {
        "id": "UdVZucdLHzZ0"
      },
      "source": [
        "Finalmente usted deberá cargar el resultado de su corrida en la Google Sheet Colaborativa,  hoja **TareaHogar04**\n",
        "<br> Siéntase libre de agregar las columnas que hagan falta a la planilla"
      ]
    }
  ],
  "metadata": {
    "colab": {
      "provenance": []
    },
    "kernelspec": {
      "display_name": "R",
      "language": "R",
      "name": "ir"
    },
    "language_info": {
      "codemirror_mode": "r",
      "file_extension": ".r",
      "mimetype": "text/x-r-source",
      "name": "R",
      "pygments_lexer": "r",
      "version": "4.4.3"
    }
  },
  "nbformat": 4,
  "nbformat_minor": 0
}
