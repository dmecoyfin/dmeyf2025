{
  "cells": [
    {
      "cell_type": "markdown",
      "metadata": {
        "id": "0cEmzeUKFkPh"
      },
      "source": [
        "# Tarea para el Hogar 04"
      ]
    },
    {
      "cell_type": "markdown",
      "metadata": {
        "id": "DenyKXkiJ5JN"
      },
      "source": [
        "##  1. Big Picture"
      ]
    },
    {
      "cell_type": "markdown",
      "metadata": {
        "id": "l-K2_ZsZGrVD"
      },
      "source": [
        "LightGBM es el algoritmo estado del arte para datasets estructurados.\n",
        "<br> La Bayesian Optimization es el estado del arte para optimización de hiperparámetros\n",
        "<br> Las soluciones a las tres competencias de la asignatura contendrán LightGBMs y Bayesian Optimizations\n",
        "<br> LightGBM ha aumentado en forma no darwiniana sus hiperparámetros en los últimos ocho años; no todos los existentes son útiles.\n",
        "<br> Es necesario lograr entender cuales son los hiperparámetros relevantes de LightGBM"
      ]
    },
    {
      "cell_type": "markdown",
      "metadata": {
        "id": "K9GkTOk5J9t3"
      },
      "source": [
        "## 2. Hiperparámetros del LightGBM"
      ]
    },
    {
      "cell_type": "markdown",
      "metadata": {
        "id": "VmEFy0ukKL5T"
      },
      "source": [
        "Los objetivos de esta tarea son:\n",
        "\n",
        "\n",
        "*   Aumentar la rentabilidad de la campaña de marketing de retención proactiva de clientes.\n",
        "*   Generar un mejor modelo optimizando sus hiperparámetros\n",
        "*   Conceptual : investigar los mas relevantes hiperparámetros de LightGBM\n",
        "*   Familiarizarse con la Bayesian Optimization, sus largos tiempos de corrida y opciones para reducirlos\n",
        "*   Familiarizarse con el uso de máquinas virtuales de Google Colab\n",
        "*   Ver un pipeline completo de optimización de hiperparámetros y puesta en producción"
      ]
    },
    {
      "cell_type": "markdown",
      "metadata": {
        "id": "5yvlS6JQLRMd"
      },
      "source": [
        "LightGBM cuenta con mas de 60 hiperparámetros, siendo posible utilizar 40 al mismo tiempo, aunque no razonable.\n",
        "<br> La documentación oficial de los hiperparámetros de LightGBM es  https://lightgbm.readthedocs.io/en/latest/Parameters.html#core-parameters\n"
      ]
    },
    {
      "cell_type": "markdown",
      "metadata": {
        "id": "eydI4YNAsFaf"
      },
      "source": [
        "Se lo alerta sobre que una Optimizacion Bayesiana lleva varias horas de corrida, y usted deberá correr VARIAS optimizaciones para descubrir cuales parámetros conviene optimizar.\n",
        "<br> A pesar que la próxima clase es recien en viernes 01 de agosto, inicie la tarea con tiempo, aprenda a planificar estratégicamente sus corridas como un@ científ@  de datos."
      ]
    },
    {
      "cell_type": "markdown",
      "metadata": {
        "id": "RzU4S0SeMcpp"
      },
      "source": [
        "Es necesario investigar cuales son los hiperparámetros de LightGBM que vale la pena optimizar en una Bayesian Optimization, ya que los realmente utiles son apenas un reducido subconjunto.\n",
        "<br>Usted deberá investigar cuales son los hiperparámetros mas relevantes de LightGBM, su primer alternativa es preguntándole a su amigo con capacidades especiales ChatGPT o sus endogámicos familiares Claude, DeepSeek, Gemini, Grok, etc\n",
        "<br> La segunda alternativa es la propia documentación de LightGBM  https://lightgbm.readthedocs.io/en/latest/Parameters-Tuning.html\n"
      ]
    },
    {
      "cell_type": "markdown",
      "metadata": {
        "id": "LNptUgI_NWWG"
      },
      "source": [
        "Adicionalmente podra buscar información como la que proveen esta diminuta muestra aleatoria de artículos ligeros:\n",
        "*  https://medium.com/@sarahzouinina/a-deep-dive-into-lightgbm-how-to-choose-and-tune-parameters-7c584945842e\n",
        "*  https://www.kaggle.com/code/somang1418/tuning-hyperparameters-under-10-minutes-lgbm\n",
        "*  https://towardsdatascience.com/beginners-guide-to-the-must-know-lightgbm-hyperparameters-a0005a812702/\n",
        "\n",
        "\n",
        "<br>  La muestra anterior se brinda a modo de ejemplo, usted deberá buscar muuuuchas  fuentes adicionales de información\n",
        "<br> Tenga presente que LightGBM es el estado del arte en modelado predictivo para datasets estructurado, que son el 90% del trabajo del 95% de los Data Scientists en Argentina."
      ]
    },
    {
      "cell_type": "markdown",
      "metadata": {
        "id": "WpUThBojODyK"
      },
      "source": [
        "El desafío de esta tarea es:\n",
        "* Qué hiperparparámetros conviene optimizar?  Las recomendaciones de los artículos ligeros es siempre sensata?  Sus autores realmente hicieron experimentos o son siemplemente escritores de entretenimiento carente de base científica?\n",
        "* Elegidos los hiperparámetros, cual es el  <desde, hasta> que se debe utilizar en la Bayesian Optimization ?\n",
        "* Realmente vale la pena optimizar 10 o 16 hiperparámetros al mismo tiempo ?  No resulta contraproducente una búsqueda en un espacio de tal alta dimensionalidad ?"
      ]
    },
    {
      "cell_type": "markdown",
      "metadata": {
        "id": "PX0qg_c0yqob"
      },
      "source": [
        "#### 2.1  Seteo del ambiente en Google Colab"
      ]
    },
    {
      "cell_type": "markdown",
      "metadata": {
        "id": "NGY7H9xza7Zr"
      },
      "source": [
        "Esta parte se debe correr con el runtime en Python3\n",
        "<br>Ir al menu, Runtime -> Change Runtime Type -> Runtime type ->  **Python 3**"
      ]
    },
    {
      "cell_type": "markdown",
      "metadata": {
        "id": "7PupIBNba7Zr"
      },
      "source": [
        "Conectar la virtual machine donde esta corriendo Google Colab con el  Google Drive, para poder tener persistencia de archivos"
      ]
    },
    {
      "cell_type": "code",
      "execution_count": null,
      "metadata": {
        "id": "9LpZCst5a7Zs",
        "vscode": {
          "languageId": "r"
        }
      },
      "outputs": [],
      "source": [
        "# primero establecer el Runtime de Python 3\n",
        "from google.colab import drive\n",
        "drive.mount('/content/.drive')"
      ]
    },
    {
      "cell_type": "markdown",
      "metadata": {
        "id": "JYC_F-wla7Zs"
      },
      "source": [
        "Para correr la siguiente celda es fundamental en Arranque en Frio haber copiado el archivo kaggle.json al Google Drive, en la carpeta indicada en el instructivo\n",
        "\n",
        "<br>los siguientes comando estan en shell script de Linux\n",
        "*   Crear las carpetas en el Google Drive\n",
        "*   \"instalar\" el archivo kaggle.json desde el Google Drive a la virtual machine para que pueda ser utilizado por la libreria  kaggle de Python\n",
        "*   Bajar el  **dataset_pequeno**  al  Google Drive  y tambien al disco local de la virtual machine que esta corriendo Google Colab\n",
        "\n"
      ]
    },
    {
      "cell_type": "code",
      "execution_count": null,
      "metadata": {
        "id": "XWLelftXa7Zt",
        "vscode": {
          "languageId": "r"
        }
      },
      "outputs": [],
      "source": [
        "%%shell\n",
        "\n",
        "mkdir -p \"/content/.drive/My Drive/dmeyf\"\n",
        "mkdir -p \"/content/buckets\"\n",
        "ln -s \"/content/.drive/My Drive/dmeyf\" /content/buckets/b1\n",
        "\n",
        "\n",
        "mkdir -p /content/buckets/b1/exp\n",
        "mkdir -p /content/buckets/b1/datasets\n",
        "mkdir -p /content/datasets\n",
        "\n",
        "\n",
        "\n",
        "archivo_origen=\"https://storage.googleapis.com/open-courses/dmeyf2025-e4a2/competencia_01_crudo.csv\"\n",
        "archivo_destino=\"/content/datasets/competencia_01_crudo.csv\"\n",
        "archivo_destino_bucket=\"/content/buckets/b1/datasets/competencia_01_crudo.csv\"\n",
        "\n",
        "if ! test -f $archivo_destino_bucket; then\n",
        "  wget  $archivo_origen  -O $archivo_destino_bucket\n",
        "fi\n",
        "\n",
        "\n",
        "if ! test -f $archivo_destino; then\n",
        "  cp  $archivo_destino_bucket  $archivo_destino\n",
        "fi\n"
      ]
    },
    {
      "cell_type": "markdown",
      "metadata": {
        "id": "dseB4qb9RqUb"
      },
      "source": [
        "### Generacion de la clase_ternaria"
      ]
    },
    {
      "cell_type": "markdown",
      "metadata": {
        "id": "LCEnE_02RuIQ"
      },
      "source": [
        "Esta parte se debe correr con el runtime en lenguaje **R** Ir al menu, Runtime -> Change Runtime Tipe -> Runtime type -> R"
      ]
    },
    {
      "cell_type": "code",
      "execution_count": null,
      "metadata": {
        "id": "P863YZB9R1Ua",
        "vscode": {
          "languageId": "r"
        }
      },
      "outputs": [],
      "source": [
        "require( \"data.table\" )\n",
        "\n",
        "# leo el dataset\n",
        "dataset <- fread(\"../../Competencia 01/competencia_01_crudo.csv\" )\n",
        "\n",
        "# calculo el periodo0 consecutivo\n",
        "dsimple <- dataset[, list(\n",
        "    \"pos\" = .I,\n",
        "    numero_de_cliente,\n",
        "    periodo0 = as.integer(foto_mes/100)*12 +  foto_mes%%100 ) ]\n",
        "\n",
        "\n",
        "# ordeno\n",
        "setorder( dsimple, numero_de_cliente, periodo0 )\n",
        "\n",
        "# calculo topes\n",
        "periodo_ultimo <- dsimple[, max(periodo0) ]\n",
        "periodo_anteultimo <- periodo_ultimo - 1\n",
        "\n",
        "\n",
        "# calculo los leads de orden 1 y 2\n",
        "dsimple[, c(\"periodo1\", \"periodo2\") :=\n",
        "    shift(periodo0, n=1:2, fill=NA, type=\"lead\"),  numero_de_cliente ]\n",
        "\n",
        "# assign most common class values = \"CONTINUA\"\n",
        "dsimple[ periodo0 < periodo_anteultimo, clase_ternaria := \"CONTINUA\" ]\n",
        "\n",
        "# calculo BAJA+1\n",
        "dsimple[ periodo0 < periodo_ultimo &\n",
        "    ( is.na(periodo1) | periodo0 + 1 < periodo1 ),\n",
        "    clase_ternaria := \"BAJA+1\" ]\n",
        "\n",
        "# calculo BAJA+2\n",
        "dsimple[ periodo0 < periodo_anteultimo & (periodo0+1 == periodo1 )\n",
        "    & ( is.na(periodo2) | periodo0 + 2 < periodo2 ),\n",
        "    clase_ternaria := \"BAJA+2\" ]\n",
        "\n",
        "\n",
        "# pego el resultado en el dataset original y grabo\n",
        "setorder( dsimple, pos )\n",
        "dataset[, clase_ternaria := dsimple$clase_ternaria ]\n",
        "\n",
        "fwrite( dataset,\n",
        "    file =  \"./competencia_01.csv.gz\",\n",
        "    sep = \",\"\n",
        ")"
      ]
    },
    {
      "cell_type": "code",
      "execution_count": null,
      "metadata": {
        "id": "S3hL7tv8W4rn",
        "vscode": {
          "languageId": "r"
        }
      },
      "outputs": [],
      "source": [
        "setorder( dataset, foto_mes, clase_ternaria, numero_de_cliente)\n",
        "dataset[, .N, list(foto_mes, clase_ternaria)]"
      ]
    },
    {
      "cell_type": "markdown",
      "metadata": {
        "id": "oSKhZRToy2F7"
      },
      "source": [
        "### 2.2 Optimizacion Hiperparámetros"
      ]
    },
    {
      "cell_type": "markdown",
      "metadata": {
        "id": "2kwPpHAtSmix"
      },
      "source": [
        "Esta parte se debe correr con el runtime en lenguaje R Ir al menu, Runtime -> Change Runtime Type -> Runtime type -> R"
      ]
    },
    {
      "cell_type": "markdown",
      "metadata": {
        "id": "xp4-Bj3aYI8d"
      },
      "source": [
        "### 2.2.1 Inicio"
      ]
    },
    {
      "cell_type": "markdown",
      "metadata": {
        "id": "zy8YTZfESxeJ"
      },
      "source": [
        "limpio el ambiente de R"
      ]
    },
    {
      "cell_type": "code",
      "execution_count": 4,
      "metadata": {
        "id": "gBq__iAdQliq",
        "vscode": {
          "languageId": "r"
        }
      },
      "outputs": [
        {
          "data": {
            "text/html": [
              "'mar sept 09 11:52:55 2025'"
            ],
            "text/latex": [
              "'mar sept 09 11:52:55 2025'"
            ],
            "text/markdown": [
              "'mar sept 09 11:52:55 2025'"
            ],
            "text/plain": [
              "[1] \"mar sept 09 11:52:55 2025\""
            ]
          },
          "metadata": {},
          "output_type": "display_data"
        }
      ],
      "source": [
        "format(Sys.time(), \"%a %b %d %X %Y\")"
      ]
    },
    {
      "cell_type": "code",
      "execution_count": 5,
      "metadata": {
        "id": "7rdVrBojS1IV",
        "vscode": {
          "languageId": "r"
        }
      },
      "outputs": [
        {
          "data": {
            "text/html": [
              "<table class=\"dataframe\">\n",
              "<caption>A matrix: 2 × 6 of type dbl</caption>\n",
              "<thead>\n",
              "\t<tr><th></th><th scope=col>used</th><th scope=col>(Mb)</th><th scope=col>gc trigger</th><th scope=col>(Mb)</th><th scope=col>max used</th><th scope=col>(Mb)</th></tr>\n",
              "</thead>\n",
              "<tbody>\n",
              "\t<tr><th scope=row>Ncells</th><td>2095396</td><td>112.0</td><td>4059232</td><td>216.8</td><td>2968091</td><td>158.6</td></tr>\n",
              "\t<tr><th scope=row>Vcells</th><td>3631767</td><td> 27.8</td><td>8388608</td><td> 64.0</td><td>5785503</td><td> 44.2</td></tr>\n",
              "</tbody>\n",
              "</table>\n"
            ],
            "text/latex": [
              "A matrix: 2 × 6 of type dbl\n",
              "\\begin{tabular}{r|llllll}\n",
              "  & used & (Mb) & gc trigger & (Mb) & max used & (Mb)\\\\\n",
              "\\hline\n",
              "\tNcells & 2095396 & 112.0 & 4059232 & 216.8 & 2968091 & 158.6\\\\\n",
              "\tVcells & 3631767 &  27.8 & 8388608 &  64.0 & 5785503 &  44.2\\\\\n",
              "\\end{tabular}\n"
            ],
            "text/markdown": [
              "\n",
              "A matrix: 2 × 6 of type dbl\n",
              "\n",
              "| <!--/--> | used | (Mb) | gc trigger | (Mb) | max used | (Mb) |\n",
              "|---|---|---|---|---|---|---|\n",
              "| Ncells | 2095396 | 112.0 | 4059232 | 216.8 | 2968091 | 158.6 |\n",
              "| Vcells | 3631767 |  27.8 | 8388608 |  64.0 | 5785503 |  44.2 |\n",
              "\n"
            ],
            "text/plain": [
              "       used    (Mb)  gc trigger (Mb)  max used (Mb) \n",
              "Ncells 2095396 112.0 4059232    216.8 2968091  158.6\n",
              "Vcells 3631767  27.8 8388608     64.0 5785503   44.2"
            ]
          },
          "metadata": {},
          "output_type": "display_data"
        }
      ],
      "source": [
        "# limpio la memoria\n",
        "rm(list=ls(all.names=TRUE)) # remove all objects\n",
        "gc(full=TRUE, verbose=FALSE) # garbage collection"
      ]
    },
    {
      "cell_type": "markdown",
      "metadata": {
        "id": "kuPfQ7ksjwW3"
      },
      "source": [
        "### 2.2.2 Carga de Librerias"
      ]
    },
    {
      "cell_type": "markdown",
      "metadata": {
        "id": "B8BaSFlGfvma"
      },
      "source": [
        "Esta parte lleva varios minutos la primera vez en Google Colab"
      ]
    },
    {
      "cell_type": "code",
      "execution_count": 6,
      "metadata": {
        "id": "lVyxLaJ1j1J_",
        "vscode": {
          "languageId": "r"
        }
      },
      "outputs": [],
      "source": [
        "# cargo las librerias que necesito\n",
        "\n",
        "if(!require(\"data.table\")) install.packages(\"data.table\")\n",
        "require(\"data.table\")\n",
        "\n",
        "if(!require(\"parallel\")) install.packages(\"parallel\")\n",
        "require(\"parallel\")\n",
        "\n",
        "if(!require(\"R.utils\")) install.packages(\"R.utils\")\n",
        "require(\"R.utils\")\n",
        "\n",
        "if( !require(\"primes\") ) install.packages(\"primes\")\n",
        "require(\"primes\")\n",
        "\n",
        "if( !require(\"utils\") ) install.packages(\"utils\")\n",
        "require(\"utils\")\n",
        "\n",
        "if( !require(\"rlist\") ) install.packages(\"rlist\")\n",
        "require(\"rlist\")\n",
        "\n",
        "if( !require(\"yaml\")) install.packages(\"yaml\")\n",
        "require(\"yaml\")\n",
        "\n",
        "if( !require(\"lightgbm\") ) install.packages(\"lightgbm\")\n",
        "require(\"lightgbm\")\n",
        "\n",
        "if( !require(\"DiceKriging\") ) install.packages(\"DiceKriging\")\n",
        "require(\"DiceKriging\")\n",
        "\n",
        "if( !require(\"mlrMBO\") ) install.packages(\"mlrMBO\")\n",
        "require(\"mlrMBO\")"
      ]
    },
    {
      "cell_type": "markdown",
      "metadata": {
        "id": "Iz-6Qt6BUaA3"
      },
      "source": [
        "### 2.2.3 Definicion de Parametros"
      ]
    },
    {
      "cell_type": "markdown",
      "metadata": {
        "id": "cOdlKd7lUm2I"
      },
      "source": [
        "aqui debe cargar SU semilla primigenia\n",
        "<br>recuerde cambiar el numero de experimento en cada corrida nueva"
      ]
    },
    {
      "cell_type": "code",
      "execution_count": 7,
      "metadata": {
        "id": "ASYkebOu2mF6",
        "vscode": {
          "languageId": "r"
        }
      },
      "outputs": [],
      "source": [
        "PARAM <- list()\n",
        "PARAM$experimento <- \"4940_V2b\"\n",
        "PARAM$semilla_primigenia <- 200003"
      ]
    },
    {
      "cell_type": "code",
      "execution_count": 8,
      "metadata": {
        "id": "ezOhQdbA293o",
        "vscode": {
          "languageId": "r"
        }
      },
      "outputs": [],
      "source": [
        "# training y future\n",
        "PARAM$train <- c(202101,202102)\n",
        "PARAM$train_final <- c(202101,202102)\n",
        "PARAM$future <- c(202104)\n",
        "PARAM$semilla_kaggle <- 314159 #Semilla para el modelo final que va a Kaggle, primeros números de pi que sean primos.\n",
        "PARAM$cortes <- seq(6000, 19000, by= 500)"
      ]
    },
    {
      "cell_type": "code",
      "execution_count": 9,
      "metadata": {
        "id": "jtB0Lub42rHO",
        "vscode": {
          "languageId": "r"
        }
      },
      "outputs": [],
      "source": [
        "# un undersampling de 0.1  toma solo el 10% de los CONTINUA\n",
        "# undersampling de 1.0  implica tomar TODOS los datos\n",
        "\n",
        "PARAM$trainingstrategy$undersampling <- 0.5"
      ]
    },
    {
      "cell_type": "code",
      "execution_count": 10,
      "metadata": {
        "id": "OFxm-xiNUOJX",
        "vscode": {
          "languageId": "r"
        }
      },
      "outputs": [],
      "source": [
        "# Parametros LightGBM\n",
        "\n",
        "PARAM$hyperparametertuning$xval_folds <- 5\n",
        "\n",
        "# parametros fijos del LightGBM que se pisaran con la parte variable de la BO\n",
        "PARAM$lgbm$param_fijos <-  list(\n",
        "  boosting= \"dart\", # puede ir dart, ni pruebe random_forest\n",
        "  objective= \"binary\", #default regression\n",
        "  metric= \"auc\", # default \"\" \n",
        "  first_metric_only= FALSE, # default FALSE\n",
        "  boost_from_average= TRUE, # default TRUE\n",
        "  feature_pre_filter= FALSE, # default TRUE\n",
        "  force_row_wise= TRUE, # para reducir warnings\n",
        "  verbosity= -100,\n",
        "\n",
        "  seed= PARAM$semilla_primigenia,\n",
        "\n",
        "  max_depth= -1L, # -1 significa no limitar,  por ahora lo dejo fijo\n",
        "  min_gain_to_split= 0, # min_gain_to_split >= 0\n",
        "  min_sum_hessian_in_leaf= 0.001, #  min_sum_hessian_in_leaf >= 0.0\n",
        "  lambda_l1= 0.0, # lambda_l1 >= 0.0\n",
        "  lambda_l2= 0.0, # lambda_l2 >= 0.0\n",
        "  max_bin= 31L, # lo debo dejar fijo, no participa de la BO\n",
        "\n",
        "  bagging_fraction= 1.0, # 0.0 < bagging_fraction <= 1.0\n",
        "  pos_bagging_fraction= 1.0, # 0.0 < pos_bagging_fraction <= 1.0\n",
        "  neg_bagging_fraction= 1.0, # 0.0 < neg_bagging_fraction <= 1.0\n",
        "  is_unbalance= FALSE, # Default FALSE\n",
        "  scale_pos_weight= 1.0, # scale_pos_weight > 0.0\n",
        "\n",
        "  drop_rate= 0.1, # 0.0 < neg_bagging_fraction <= 1.0\n",
        "  max_drop= 50, # <=0 means no limit\n",
        "  skip_drop= 0.5, # 0.0 <= skip_drop <= 1.0\n",
        "\n",
        "  extra_trees= FALSE, # default FALSE\n",
        "\n",
        "  num_iterations= 1200, # default 100\n",
        "  learning_rate= 0.02, # default 0.1\n",
        "  feature_fraction= 0.5, # default 1\n",
        "  num_leaves= 750, # default 31\n",
        "  min_data_in_leaf= 5000 # default 20\n",
        ")\n"
      ]
    },
    {
      "cell_type": "markdown",
      "metadata": {
        "id": "D5Yj-JV4yvOt"
      },
      "source": [
        "Aqui se definen los hiperparámetros de LightGBM que participan de la Bayesian Optimization\n",
        "- si es un numero entero debe ir makeIntegerParam\n",
        "- si es un numero real (con decimales) debe ir makeNumericParam\n",
        "\n",
        "Es muy importante leer cuales son un lower y upper permitidos y además razonables"
      ]
    },
    {
      "cell_type": "code",
      "execution_count": 11,
      "metadata": {
        "id": "jENpR26ZyuS8",
        "vscode": {
          "languageId": "r"
        }
      },
      "outputs": [],
      "source": [
        "# Aqui se cargan los bordes de los hiperparametros de la BO\n",
        "PARAM$hypeparametertuning$hs <- makeParamSet(\n",
        "  makeNumericParam(\"min_sum_hessian_in_leaf\", lower= 0.001, upper= 0.1),\n",
        "  makeNumericParam(\"learning_rate\", lower= 0.005, upper= 0.1),\n",
        "  makeNumericParam(\"feature_fraction\", lower= 0.1, upper= 1.0),\n",
        "  makeNumericParam(\"bagging_fraction\", lower= 0.0, upper= 1.0),\n",
        "  makeNumericParam(\"lambda_l1\", lower= 0.0, upper= 10.0),\n",
        "  makeNumericParam(\"lambda_l2\", lower= 0.0, upper= 10.0),\n",
        "  makeNumericParam(\"min_gain_to_split\", lower= 0.0, upper= 15.0),\n",
        "  makeNumericParam(\"drop_rate\", lower= 0.0, upper= 0.3),\n",
        "  makeNumericParam(\"skip_drop\", lower= 0, upper= 0.8),\n",
        "  makeIntegerParam(\"bagging_freq\", lower= 1L, upper= 10L),\n",
        "  makeIntegerParam(\"num_iterations\", lower= 50L, upper= 3000L),\n",
        "  makeIntegerParam(\"max_depth\", lower= -1L, upper= 15L),\n",
        "  makeIntegerParam(\"num_leaves\", lower= 1L, upper= 2048L),\n",
        "  makeIntegerParam(\"min_data_in_leaf\", lower= 1L, upper= 8000L)\n",
        ")"
      ]
    },
    {
      "cell_type": "markdown",
      "metadata": {
        "id": "-_RPFUb3zMoW"
      },
      "source": [
        "A mayor cantidad de hiperparámetros, se debe aumentar las iteraciones de la Bayesian Optimization: 30 es un valor muy tacaño, pero corre rápido deberia partir de 50, alcanzando los 100 si se dispone de tiempo."
      ]
    },
    {
      "cell_type": "code",
      "execution_count": 12,
      "metadata": {
        "id": "q5Rd3pnbzSiG",
        "vscode": {
          "languageId": "r"
        }
      },
      "outputs": [],
      "source": [
        "PARAM$hyperparametertuning$iteraciones <- 100 # iteraciones bayesianas"
      ]
    },
    {
      "cell_type": "code",
      "execution_count": 13,
      "metadata": {
        "id": "or53-q3bmE5d",
        "vscode": {
          "languageId": "r"
        }
      },
      "outputs": [],
      "source": [
        "# particionar agrega una columna llamada fold a un dataset\n",
        "#   que consiste en una particion estratificada segun agrupa\n",
        "# particionar( data=dataset, division=c(70,30),\n",
        "#  agrupa=clase_ternaria, seed=semilla)   crea una particion 70, 30\n",
        "\n",
        "particionar <- function(data, division, agrupa= \"\", campo= \"fold\", start= 1, seed= NA) {\n",
        "  if (!is.na(seed)) set.seed(seed, \"L'Ecuyer-CMRG\")\n",
        "\n",
        "  bloque <- unlist(mapply(\n",
        "    function(x, y) {rep(y, x)},division, seq(from= start, length.out= length(division))))\n",
        "\n",
        "  data[, (campo) := sample(rep(bloque,ceiling(.N / length(bloque))))[1:.N],by= agrupa]\n",
        "}"
      ]
    },
    {
      "cell_type": "code",
      "execution_count": 14,
      "metadata": {
        "id": "CGKOZ9aMmKxi",
        "vscode": {
          "languageId": "r"
        }
      },
      "outputs": [],
      "source": [
        "# iniciliazo el dataset de realidad, para medir ganancia\n",
        "realidad_inicializar <- function( pfuture, pparam) {\n",
        "\n",
        "  # datos para verificar la ganancia\n",
        "  drealidad <- pfuture[, list(numero_de_cliente, foto_mes, clase_ternaria)]\n",
        "\n",
        "  particionar(drealidad,\n",
        "    division= c(3, 7),\n",
        "    agrupa= \"clase_ternaria\",\n",
        "    seed= PARAM$semilla_kaggle\n",
        "  )\n",
        "\n",
        "  return( drealidad )\n",
        "}"
      ]
    },
    {
      "cell_type": "code",
      "execution_count": 15,
      "metadata": {
        "id": "6aVLFlEbmM3s",
        "vscode": {
          "languageId": "r"
        }
      },
      "outputs": [],
      "source": [
        "# evaluo ganancia en los datos de la realidad\n",
        "\n",
        "realidad_evaluar <- function( prealidad, pprediccion) {\n",
        "\n",
        "  prealidad[ pprediccion,\n",
        "    on= c(\"numero_de_cliente\", \"foto_mes\"),\n",
        "    predicted:= i.Predicted\n",
        "  ]\n",
        "\n",
        "  tbl <- prealidad[, list(\"qty\"=.N), list(fold, predicted, clase_ternaria)]\n",
        "\n",
        "  res <- list()\n",
        "  res$public  <- tbl[fold==1 & predicted==1L, sum(qty*ifelse(clase_ternaria==\"BAJA+2\", 780000, -20000))]/0.3\n",
        "  res$private <- tbl[fold==2 & predicted==1L, sum(qty*ifelse(clase_ternaria==\"BAJA+2\", 780000, -20000))]/0.7\n",
        "  res$total <- tbl[predicted==1L, sum(qty*ifelse(clase_ternaria==\"BAJA+2\", 780000, -20000))]\n",
        "\n",
        "  prealidad[, predicted:=NULL]\n",
        "  return( res )\n",
        "}"
      ]
    },
    {
      "cell_type": "markdown",
      "metadata": {
        "id": "4RWZXL1VZjMI"
      },
      "source": [
        "### 2.2.4  Preprocesamiento"
      ]
    },
    {
      "cell_type": "code",
      "execution_count": 16,
      "metadata": {
        "id": "FM3lxKoLZ643",
        "vscode": {
          "languageId": "r"
        }
      },
      "outputs": [],
      "source": [
        "# lectura del dataset\n",
        "dataset <- fread(\"./competencia_01.csv.gz\", stringsAsFactors= TRUE)"
      ]
    },
    {
      "cell_type": "code",
      "execution_count": 17,
      "metadata": {
        "id": "OsJ-91UeZ-I_",
        "vscode": {
          "languageId": "r"
        }
      },
      "outputs": [],
      "source": [
        "dataset_train <- dataset[foto_mes %in% PARAM$train]"
      ]
    },
    {
      "cell_type": "code",
      "execution_count": 18,
      "metadata": {
        "id": "vrWE7BE0aB2J",
        "vscode": {
          "languageId": "r"
        }
      },
      "outputs": [],
      "source": [
        "# paso la clase a binaria que tome valores {0,1}  enteros\n",
        "#  BAJA+1 y BAJA+2  son  1,   CONTINUA es 0\n",
        "#  a partir de ahora ya NO puedo cortar  por prob(BAJA+2) > 1/40\n",
        "\n",
        "dataset_train[,\n",
        "  clase01 := ifelse(clase_ternaria %in% c(\"BAJA+2\",\"BAJA+1\"), 1L, 0L)\n",
        "]"
      ]
    },
    {
      "cell_type": "code",
      "execution_count": 19,
      "metadata": {
        "id": "jP7YlQBnaW6W",
        "vscode": {
          "languageId": "r"
        }
      },
      "outputs": [],
      "source": [
        "# defino los datos que forma parte del training\n",
        "# aqui se hace el undersampling de los CONTINUA\n",
        "# notar que para esto utilizo la SEGUNDA semilla\n",
        "\n",
        "set.seed(PARAM$semilla_primigenia, kind = \"L'Ecuyer-CMRG\")\n",
        "dataset_train[, azar := runif(nrow(dataset_train))]\n",
        "dataset_train[, training := 0L]\n",
        "\n",
        "dataset_train[\n",
        "  foto_mes %in%  PARAM$train &\n",
        "    (azar <= PARAM$trainingstrategy$undersampling | clase_ternaria %in% c(\"BAJA+1\", \"BAJA+2\")),\n",
        "  training := 1L\n",
        "]"
      ]
    },
    {
      "cell_type": "code",
      "execution_count": 20,
      "metadata": {
        "id": "xElu4s5W4rX7",
        "vscode": {
          "languageId": "r"
        }
      },
      "outputs": [],
      "source": [
        "# los campos que se van a utilizar\n",
        "\n",
        "campos_buenos <- setdiff(\n",
        "  colnames(dataset_train),\n",
        "  c(\"clase_ternaria\", \"clase01\", \"azar\", \"training\")\n",
        ")"
      ]
    },
    {
      "cell_type": "code",
      "execution_count": 21,
      "metadata": {
        "id": "PppMHcGYaaol",
        "vscode": {
          "languageId": "r"
        }
      },
      "outputs": [
        {
          "data": {
            "text/html": [
              "163737"
            ],
            "text/latex": [
              "163737"
            ],
            "text/markdown": [
              "163737"
            ],
            "text/plain": [
              "[1] 163737"
            ]
          },
          "metadata": {},
          "output_type": "display_data"
        },
        {
          "data": {
            "text/html": [
              "154"
            ],
            "text/latex": [
              "154"
            ],
            "text/markdown": [
              "154"
            ],
            "text/plain": [
              "[1] 154"
            ]
          },
          "metadata": {},
          "output_type": "display_data"
        }
      ],
      "source": [
        "# dejo los datos en el formato que necesita LightGBM\n",
        "\n",
        "dtrain <- lgb.Dataset(\n",
        "  data= data.matrix(dataset_train[training == 1L, campos_buenos, with= FALSE]),\n",
        "  label= dataset_train[training == 1L, clase01],\n",
        "  free_raw_data= FALSE\n",
        ")\n",
        "\n",
        "nrow(dtrain)\n",
        "ncol(dtrain)"
      ]
    },
    {
      "cell_type": "markdown",
      "metadata": {
        "id": "Ta-EkOu3cphF"
      },
      "source": [
        "2.2.5 Configuracion Bayesian Optimization"
      ]
    },
    {
      "cell_type": "code",
      "execution_count": 22,
      "metadata": {
        "id": "cjgfurjdfiXb",
        "vscode": {
          "languageId": "r"
        }
      },
      "outputs": [],
      "source": [
        "# En el argumento x llegan los parmaetros de la bayesiana\n",
        "#  devuelve la AUC en cross validation del modelo entrenado\n",
        "\n",
        "EstimarGanancia_AUC_lightgbm <- function(x) {\n",
        "\n",
        "  # x pisa (o agrega) a param_fijos\n",
        "  param_completo <- modifyList(PARAM$lgbm$param_fijos, x)\n",
        "\n",
        "  # entreno LightGBM\n",
        "  modelocv <- lgb.cv(\n",
        "    data= dtrain,\n",
        "    nfold= PARAM$hyperparametertuning$xval_folds,\n",
        "    stratified= TRUE,\n",
        "    param= param_completo\n",
        "  )\n",
        "\n",
        "  # obtengo la ganancia\n",
        "  AUC <- modelocv$best_score\n",
        "\n",
        "  # hago espacio en la memoria\n",
        "  rm(modelocv)\n",
        "  gc(full= TRUE, verbose= FALSE)\n",
        "\n",
        "  message(format(Sys.time(), \"%a %b %d %X %Y\"), \" AUC \", AUC)\n",
        "\n",
        "  return(AUC)\n",
        "}"
      ]
    },
    {
      "cell_type": "code",
      "execution_count": 23,
      "metadata": {
        "id": "WLi_o1hocvN-",
        "vscode": {
          "languageId": "r"
        }
      },
      "outputs": [],
      "source": [
        "# Aqui comienza la configuracion de la Bayesian Optimization\n",
        "\n",
        "# en este archivo quedan la evolucion binaria de la BO\n",
        "kbayesiana <- \"bayesiana.RDATA\"\n",
        "\n",
        "funcion_optimizar <- EstimarGanancia_AUC_lightgbm # la funcion que voy a maximizar\n",
        "\n",
        "configureMlr(show.learner.output= FALSE)\n",
        "\n",
        "# configuro la busqueda bayesiana,  los hiperparametros que se van a optimizar\n",
        "# por favor, no desesperarse por lo complejo\n",
        "\n",
        "obj.fun <- makeSingleObjectiveFunction(\n",
        "  fn= funcion_optimizar, # la funcion que voy a maximizar\n",
        "  minimize= FALSE, # estoy Maximizando la ganancia\n",
        "  noisy= TRUE,\n",
        "  par.set= PARAM$hypeparametertuning$hs, # definido al comienzo del programa\n",
        "  has.simple.signature= FALSE # paso los parametros en una lista\n",
        ")\n",
        "\n",
        "# cada 600 segundos guardo el resultado intermedio\n",
        "ctrl <- makeMBOControl(\n",
        "  save.on.disk.at.time= 600, # se graba cada 600 segundos\n",
        "  save.file.path= kbayesiana\n",
        ") # se graba cada 600 segundos\n",
        "\n",
        "# indico la cantidad de iteraciones que va a tener la Bayesian Optimization\n",
        "ctrl <- setMBOControlTermination(\n",
        "  ctrl,\n",
        "  iters= PARAM$hyperparametertuning$iteraciones\n",
        ") # cantidad de iteraciones\n",
        "\n",
        "# defino el método estandar para la creacion de los puntos iniciales,\n",
        "# los \"No Inteligentes\"\n",
        "ctrl <- setMBOControlInfill(ctrl, crit= makeMBOInfillCritEI())\n",
        "\n",
        "# establezco la funcion que busca el maximo\n",
        "surr.km <- makeLearner(\n",
        "  \"regr.km\",\n",
        "  predict.type= \"se\",\n",
        "  covtype= \"matern3_2\",\n",
        "  control= list(trace= TRUE)\n",
        ")\n"
      ]
    },
    {
      "cell_type": "markdown",
      "metadata": {
        "id": "_uUeVo5pc4zc"
      },
      "source": [
        "2.2.6 Corrida Bayesian Optimization"
      ]
    },
    {
      "cell_type": "code",
      "execution_count": 24,
      "metadata": {
        "id": "RcABNaKGciaz",
        "vscode": {
          "languageId": "r"
        }
      },
      "outputs": [
        {
          "name": "stderr",
          "output_type": "stream",
          "text": [
            "Computing y column(s) for design. Not provided.\n",
            "\n",
            "mar sept 09 11:59:25 2025 AUC 0.923521231846488\n",
            "\n",
            "mar sept 09 12:06:57 2025 AUC 0.924716300640605\n",
            "\n",
            "mar sept 09 12:11:23 2025 AUC 0.912782410249011\n",
            "\n",
            "mar sept 09 12:15:37 2025 AUC 0.91835203753272\n",
            "\n",
            "mar sept 09 12:16:14 2025 AUC 0.919257988172822\n",
            "\n",
            "mar sept 09 12:19:23 2025 AUC 0.896755764399064\n",
            "\n",
            "mar sept 09 12:22:27 2025 AUC 0.923056366455925\n",
            "\n",
            "mar sept 09 12:25:01 2025 AUC 0.891533416538368\n",
            "\n",
            "mar sept 09 12:25:42 2025 AUC 0.913708479399606\n",
            "\n",
            "mar sept 09 12:25:52 2025 AUC 0.893258387088888\n",
            "\n",
            "mar sept 09 12:30:00 2025 AUC 0.919326762893851\n",
            "\n",
            "mar sept 09 12:33:23 2025 AUC 0.920953521239549\n",
            "\n",
            "mar sept 09 12:37:46 2025 AUC 0.923700286440546\n",
            "\n",
            "mar sept 09 12:42:39 2025 AUC 0.920469488942642\n",
            "\n",
            "mar sept 09 12:46:13 2025 AUC 0.916214174811063\n",
            "\n",
            "mar sept 09 12:47:15 2025 AUC 0.910669242819432\n",
            "\n",
            "mar sept 09 12:47:41 2025 AUC 0.890010997659092\n",
            "\n",
            "mar sept 09 12:48:14 2025 AUC 0.891072116259655\n",
            "\n",
            "mar sept 09 12:53:30 2025 AUC 0.909705103065292\n",
            "\n",
            "mar sept 09 12:54:58 2025 AUC 0.895502863337925\n",
            "\n",
            "mar sept 09 12:58:07 2025 AUC 0.926550583589374\n",
            "\n",
            "mar sept 09 13:06:37 2025 AUC 0.910112029590356\n",
            "\n",
            "mar sept 09 13:10:19 2025 AUC 0.857352818375699\n",
            "\n",
            "mar sept 09 13:17:00 2025 AUC 0.931658499239207\n",
            "\n",
            "mar sept 09 13:17:43 2025 AUC 0.927528430660436\n",
            "\n",
            "mar sept 09 13:20:42 2025 AUC 0.899905336335367\n",
            "\n",
            "mar sept 09 13:26:28 2025 AUC 0.925965175455649\n",
            "\n",
            "mar sept 09 13:27:22 2025 AUC 0.912166473721004\n",
            "\n",
            "mar sept 09 13:36:18 2025 AUC 0.917113974416581\n",
            "\n",
            "mar sept 09 13:43:28 2025 AUC 0.922041999146478\n",
            "\n",
            "mar sept 09 13:47:54 2025 AUC 0.923509949689012\n",
            "\n",
            "mar sept 09 13:51:04 2025 AUC 0.918652472955688\n",
            "\n",
            "mar sept 09 13:56:46 2025 AUC 0.91337935009523\n",
            "\n",
            "mar sept 09 13:57:02 2025 AUC 0.5\n",
            "\n",
            "mar sept 09 13:59:48 2025 AUC 0.91919739702126\n",
            "\n",
            "mar sept 09 14:03:10 2025 AUC 0.917070431477554\n",
            "\n",
            "mar sept 09 14:03:13 2025 AUC 0.892143634493307\n",
            "\n",
            "mar sept 09 14:06:25 2025 AUC 0.927500376444158\n",
            "\n",
            "mar sept 09 14:15:42 2025 AUC 0.912263959039763\n",
            "\n",
            "mar sept 09 14:15:54 2025 AUC 0.894671452954413\n",
            "\n",
            "mar sept 09 14:16:57 2025 AUC 0.911900231517106\n",
            "\n",
            "mar sept 09 14:28:09 2025 AUC 0.916982014601277\n",
            "\n",
            "mar sept 09 14:32:24 2025 AUC 0.930221602026701\n",
            "\n",
            "mar sept 09 14:37:28 2025 AUC 0.914098547569045\n",
            "\n",
            "mar sept 09 14:38:02 2025 AUC 0.912203890387002\n",
            "\n",
            "mar sept 09 14:40:09 2025 AUC 0.937837325061602\n",
            "\n",
            "mar sept 09 14:47:40 2025 AUC 0.924095625424613\n",
            "\n",
            "mar sept 09 14:49:24 2025 AUC 0.901963510473035\n",
            "\n",
            "mar sept 09 14:56:43 2025 AUC 0.896148578455641\n",
            "\n",
            "mar sept 09 14:58:32 2025 AUC 0.896628367350398\n",
            "\n",
            "mar sept 09 14:59:57 2025 AUC 0.90601135061436\n",
            "\n",
            "mar sept 09 15:00:03 2025 AUC 0.904964247847442\n",
            "\n",
            "mar sept 09 15:16:24 2025 AUC 0.923572328302404\n",
            "\n",
            "mar sept 09 15:17:10 2025 AUC 0.5\n",
            "\n",
            "mar sept 09 15:23:35 2025 AUC 0.922606342604402\n",
            "\n",
            "mar sept 09 15:24:11 2025 AUC 0.889522563838603\n",
            "\n",
            "[mbo] 0: min_sum_hessian_in_leaf=0.0532; learning_rate=0.0525; feature_fraction=0.648; bagging_fraction=0.737; lambda_l1=3.85; lambda_l2=3.1; min_gain_to_split=10.3; drop_rate=0.169; skip_drop=0.377; bagging_freq=4; num_iterations=1707; max_depth=0; num_leaves=1089; min_data_in_leaf=4462 : y = 0.924 : 355.2 secs : initdesign\n",
            "\n",
            "[mbo] 0: min_sum_hessian_in_leaf=0.0456; learning_rate=0.0285; feature_fraction=0.631; bagging_fraction=0.673; lambda_l1=2.58; lambda_l2=2.02; min_gain_to_split=9.56; drop_rate=0.239; skip_drop=0.516; bagging_freq=3; num_iterations=2580; max_depth=6; num_leaves=685; min_data_in_leaf=4229 : y = 0.925 : 451.8 secs : initdesign\n",
            "\n",
            "[mbo] 0: min_sum_hessian_in_leaf=0.05; learning_rate=0.0623; feature_fraction=0.439; bagging_fraction=0.395; lambda_l1=6.77; lambda_l2=4.98; min_gain_to_split=8.9; drop_rate=0.215; skip_drop=0.319; bagging_freq=6; num_iterations=1373; max_depth=10; num_leaves=1899; min_data_in_leaf=7714 : y = 0.913 : 266.4 secs : initdesign\n",
            "\n",
            "[mbo] 0: min_sum_hessian_in_leaf=0.0258; learning_rate=0.0326; feature_fraction=0.51; bagging_fraction=0.481; lambda_l1=4; lambda_l2=7.76; min_gain_to_split=5.53; drop_rate=0.0325; skip_drop=0.262; bagging_freq=5; num_iterations=1579; max_depth=13; num_leaves=1342; min_data_in_leaf=4410 : y = 0.918 : 254.4 secs : initdesign\n",
            "\n",
            "[mbo] 0: min_sum_hessian_in_leaf=0.0966; learning_rate=0.0667; feature_fraction=0.273; bagging_fraction=0.435; lambda_l1=5.93; lambda_l2=8.28; min_gain_to_split=6.94; drop_rate=0.122; skip_drop=0.738; bagging_freq=7; num_iterations=596; max_depth=6; num_leaves=721; min_data_in_leaf=4590 : y = 0.919 : 36.5 secs : initdesign\n",
            "\n",
            "[mbo] 0: min_sum_hessian_in_leaf=0.0666; learning_rate=0.072; feature_fraction=0.811; bagging_fraction=0.185; lambda_l1=8.94; lambda_l2=3.46; min_gain_to_split=10.6; drop_rate=0.0651; skip_drop=0.231; bagging_freq=7; num_iterations=1642; max_depth=12; num_leaves=1266; min_data_in_leaf=5960 : y = 0.897 : 189.4 secs : initdesign\n",
            "\n",
            "[mbo] 0: min_sum_hessian_in_leaf=0.0412; learning_rate=0.0555; feature_fraction=0.758; bagging_fraction=0.62; lambda_l1=6.81; lambda_l2=4.61; min_gain_to_split=7.1; drop_rate=0.145; skip_drop=0.639; bagging_freq=8; num_iterations=1524; max_depth=8; num_leaves=1125; min_data_in_leaf=3476 : y = 0.923 : 183.5 secs : initdesign\n",
            "\n",
            "[mbo] 0: min_sum_hessian_in_leaf=0.0584; learning_rate=0.0357; feature_fraction=0.116; bagging_fraction=0.0449; lambda_l1=2.83; lambda_l2=2.7; min_gain_to_split=7.28; drop_rate=0.164; skip_drop=0.498; bagging_freq=7; num_iterations=2430; max_depth=-1; num_leaves=436; min_data_in_leaf=1808 : y = 0.892 : 154.6 secs : initdesign\n",
            "\n",
            "[mbo] 0: min_sum_hessian_in_leaf=0.0646; learning_rate=0.0501; feature_fraction=0.547; bagging_fraction=0.559; lambda_l1=1.57; lambda_l2=6.85; min_gain_to_split=6.69; drop_rate=0.0286; skip_drop=0.294; bagging_freq=5; num_iterations=552; max_depth=7; num_leaves=296; min_data_in_leaf=4127 : y = 0.914 : 40.4 secs : initdesign\n",
            "\n",
            "[mbo] 0: min_sum_hessian_in_leaf=0.0486; learning_rate=0.0321; feature_fraction=0.785; bagging_fraction=0.726; lambda_l1=5.11; lambda_l2=6.28; min_gain_to_split=14.3; drop_rate=0.286; skip_drop=0.337; bagging_freq=7; num_iterations=129; max_depth=4; num_leaves=511; min_data_in_leaf=3046 : y = 0.893 : 10.7 secs : initdesign\n",
            "\n",
            "[mbo] 0: min_sum_hessian_in_leaf=0.0451; learning_rate=0.0945; feature_fraction=0.519; bagging_fraction=0.713; lambda_l1=7.25; lambda_l2=8.54; min_gain_to_split=13.4; drop_rate=0.243; skip_drop=0.311; bagging_freq=6; num_iterations=1224; max_depth=14; num_leaves=1355; min_data_in_leaf=7227 : y = 0.919 : 247.6 secs : initdesign\n",
            "\n",
            "[mbo] 0: min_sum_hessian_in_leaf=0.0606; learning_rate=0.0193; feature_fraction=0.154; bagging_fraction=0.964; lambda_l1=6.08; lambda_l2=2.16; min_gain_to_split=5.18; drop_rate=0.189; skip_drop=0.533; bagging_freq=6; num_iterations=1137; max_depth=5; num_leaves=1210; min_data_in_leaf=2199 : y = 0.921 : 202.8 secs : initdesign\n",
            "\n",
            "[mbo] 0: min_sum_hessian_in_leaf=0.0775; learning_rate=0.0811; feature_fraction=0.96; bagging_fraction=0.514; lambda_l1=3.21; lambda_l2=7.01; min_gain_to_split=1.83; drop_rate=0.161; skip_drop=0.244; bagging_freq=6; num_iterations=1450; max_depth=2; num_leaves=1528; min_data_in_leaf=1982 : y = 0.924 : 262.7 secs : initdesign\n",
            "\n",
            "[mbo] 0: min_sum_hessian_in_leaf=0.0152; learning_rate=0.0639; feature_fraction=0.771; bagging_fraction=0.912; lambda_l1=4.12; lambda_l2=2.4; min_gain_to_split=14.5; drop_rate=0.235; skip_drop=0.468; bagging_freq=4; num_iterations=1992; max_depth=2; num_leaves=447; min_data_in_leaf=7338 : y = 0.92 : 293.5 secs : initdesign\n",
            "\n",
            "[mbo] 0: min_sum_hessian_in_leaf=0.0397; learning_rate=0.0788; feature_fraction=0.586; bagging_fraction=0.254; lambda_l1=7.82; lambda_l2=5.72; min_gain_to_split=11.9; drop_rate=0.0817; skip_drop=0.429; bagging_freq=2; num_iterations=2347; max_depth=1; num_leaves=576; min_data_in_leaf=3658 : y = 0.916 : 211.5 secs : initdesign\n",
            "\n",
            "[mbo] 0: min_sum_hessian_in_leaf=0.0551; learning_rate=0.0489; feature_fraction=0.379; bagging_fraction=0.132; lambda_l1=1.06; lambda_l2=2.9; min_gain_to_split=3.3; drop_rate=0.124; skip_drop=0.585; bagging_freq=2; num_iterations=687; max_depth=4; num_leaves=2008; min_data_in_leaf=2859 : y = 0.911 : 62.0 secs : initdesign\n",
            "\n",
            "[mbo] 0: min_sum_hessian_in_leaf=0.0894; learning_rate=0.0444; feature_fraction=0.55; bagging_fraction=0.105; lambda_l1=5.42; lambda_l2=1.32; min_gain_to_split=3.59; drop_rate=0.0875; skip_drop=0.474; bagging_freq=9; num_iterations=633; max_depth=6; num_leaves=398; min_data_in_leaf=5272 : y = 0.89 : 26.8 secs : initdesign\n",
            "\n",
            "[mbo] 0: min_sum_hessian_in_leaf=0.0245; learning_rate=0.0344; feature_fraction=0.997; bagging_fraction=0.0559; lambda_l1=3.45; lambda_l2=7.48; min_gain_to_split=8.47; drop_rate=0.0532; skip_drop=0.401; bagging_freq=8; num_iterations=1049; max_depth=9; num_leaves=1489; min_data_in_leaf=2023 : y = 0.891 : 32.8 secs : initdesign\n",
            "\n",
            "[mbo] 0: min_sum_hessian_in_leaf=0.0149; learning_rate=0.051; feature_fraction=0.226; bagging_fraction=0.519; lambda_l1=6.38; lambda_l2=6.77; min_gain_to_split=2.53; drop_rate=0.155; skip_drop=0.126; bagging_freq=1; num_iterations=1262; max_depth=11; num_leaves=1799; min_data_in_leaf=6302 : y = 0.91 : 315.7 secs : initdesign\n",
            "\n",
            "[mbo] 0: min_sum_hessian_in_leaf=0.0656; learning_rate=0.0259; feature_fraction=0.237; bagging_fraction=0.339; lambda_l1=6.51; lambda_l2=7.97; min_gain_to_split=5.73; drop_rate=0.267; skip_drop=0.15; bagging_freq=8; num_iterations=434; max_depth=8; num_leaves=1204; min_data_in_leaf=3340 : y = 0.896 : 88.2 secs : initdesign\n",
            "\n",
            "[mbo] 0: min_sum_hessian_in_leaf=0.08; learning_rate=0.0827; feature_fraction=0.62; bagging_fraction=0.906; lambda_l1=4.42; lambda_l2=4.4; min_gain_to_split=4.68; drop_rate=0.103; skip_drop=0.506; bagging_freq=3; num_iterations=1067; max_depth=4; num_leaves=1924; min_data_in_leaf=7999 : y = 0.927 : 188.9 secs : initdesign\n",
            "\n",
            "[mbo] 0: min_sum_hessian_in_leaf=0.0425; learning_rate=0.023; feature_fraction=0.733; bagging_fraction=0.542; lambda_l1=9.83; lambda_l2=3.85; min_gain_to_split=12.3; drop_rate=0.137; skip_drop=0.137; bagging_freq=4; num_iterations=2287; max_depth=0; num_leaves=1652; min_data_in_leaf=7834 : y = 0.91 : 509.8 secs : initdesign\n",
            "\n",
            "[mbo] 0: min_sum_hessian_in_leaf=0.0919; learning_rate=0.00673; feature_fraction=0.463; bagging_fraction=0.426; lambda_l1=5.24; lambda_l2=5.09; min_gain_to_split=9.26; drop_rate=0.046; skip_drop=0.0427; bagging_freq=5; num_iterations=1775; max_depth=1; num_leaves=1714; min_data_in_leaf=1410 : y = 0.857 : 222.4 secs : initdesign\n",
            "\n",
            "[mbo] 0: min_sum_hessian_in_leaf=0.031; learning_rate=0.042; feature_fraction=0.859; bagging_fraction=0.605; lambda_l1=3.71; lambda_l2=8.98; min_gain_to_split=0.892; drop_rate=0.0178; skip_drop=0.566; bagging_freq=3; num_iterations=2969; max_depth=11; num_leaves=941; min_data_in_leaf=5038 : y = 0.932 : 400.3 secs : initdesign\n",
            "\n",
            "[mbo] 0: min_sum_hessian_in_leaf=0.0187; learning_rate=0.0888; feature_fraction=0.704; bagging_fraction=0.952; lambda_l1=8.91; lambda_l2=6.06; min_gain_to_split=1.53; drop_rate=0.256; skip_drop=0.756; bagging_freq=5; num_iterations=344; max_depth=12; num_leaves=1421; min_data_in_leaf=7518 : y = 0.928 : 43.1 secs : initdesign\n",
            "\n",
            "[mbo] 0: min_sum_hessian_in_leaf=0.099; learning_rate=0.0244; feature_fraction=0.929; bagging_fraction=0.224; lambda_l1=9.25; lambda_l2=4.18; min_gain_to_split=8.64; drop_rate=0.227; skip_drop=0.716; bagging_freq=8; num_iterations=2942; max_depth=0; num_leaves=869; min_data_in_leaf=6595 : y = 0.9 : 179.0 secs : initdesign\n",
            "\n",
            "[mbo] 0: min_sum_hessian_in_leaf=0.00178; learning_rate=0.0159; feature_fraction=0.431; bagging_fraction=0.85; lambda_l1=4.48; lambda_l2=7.54; min_gain_to_split=9.86; drop_rate=0.177; skip_drop=0.644; bagging_freq=9; num_iterations=2154; max_depth=7; num_leaves=803; min_data_in_leaf=167 : y = 0.926 : 346.5 secs : initdesign\n",
            "\n",
            "[mbo] 0: min_sum_hessian_in_leaf=0.00655; learning_rate=0.0301; feature_fraction=0.415; bagging_fraction=0.649; lambda_l1=9.34; lambda_l2=9.6; min_gain_to_split=13.9; drop_rate=0.0914; skip_drop=0.388; bagging_freq=3; num_iterations=480; max_depth=3; num_leaves=612; min_data_in_leaf=2799 : y = 0.912 : 54.4 secs : initdesign\n",
            "\n",
            "[mbo] 0: min_sum_hessian_in_leaf=0.0187; learning_rate=0.0845; feature_fraction=0.805; bagging_fraction=0.388; lambda_l1=0.445; lambda_l2=9.37; min_gain_to_split=12.3; drop_rate=0.27; skip_drop=0.176; bagging_freq=9; num_iterations=2490; max_depth=11; num_leaves=247; min_data_in_leaf=5557 : y = 0.917 : 535.1 secs : initdesign\n",
            "\n",
            "[mbo] 0: min_sum_hessian_in_leaf=0.0109; learning_rate=0.0754; feature_fraction=0.842; bagging_fraction=0.279; lambda_l1=8.56; lambda_l2=1.49; min_gain_to_split=2; drop_rate=0.211; skip_drop=0.363; bagging_freq=7; num_iterations=2217; max_depth=9; num_leaves=528; min_data_in_leaf=3844 : y = 0.922 : 430.4 secs : initdesign\n",
            "\n",
            "[mbo] 0: min_sum_hessian_in_leaf=0.0512; learning_rate=0.0955; feature_fraction=0.356; bagging_fraction=0.804; lambda_l1=2.17; lambda_l2=9.77; min_gain_to_split=2.32; drop_rate=0.207; skip_drop=0.215; bagging_freq=7; num_iterations=952; max_depth=8; num_leaves=650; min_data_in_leaf=5853 : y = 0.924 : 265.7 secs : initdesign\n",
            "\n",
            "[mbo] 0: min_sum_hessian_in_leaf=0.0716; learning_rate=0.0877; feature_fraction=0.332; bagging_fraction=0.486; lambda_l1=3; lambda_l2=2.59; min_gain_to_split=12.8; drop_rate=0.199; skip_drop=0.547; bagging_freq=10; num_iterations=1562; max_depth=5; num_leaves=1453; min_data_in_leaf=6110 : y = 0.919 : 190.3 secs : initdesign\n",
            "\n",
            "[mbo] 0: min_sum_hessian_in_leaf=0.0311; learning_rate=0.0147; feature_fraction=0.492; bagging_fraction=0.322; lambda_l1=0.241; lambda_l2=1.75; min_gain_to_split=7.89; drop_rate=0.22; skip_drop=0.617; bagging_freq=1; num_iterations=2736; max_depth=13; num_leaves=1017; min_data_in_leaf=6831 : y = 0.913 : 341.8 secs : initdesign\n",
            "\n",
            "[mbo] 0: min_sum_hessian_in_leaf=0.086; learning_rate=0.0968; feature_fraction=0.207; bagging_fraction=0.00808; lambda_l1=8.63; lambda_l2=6.43; min_gain_to_split=9.95; drop_rate=0.114; skip_drop=0.161; bagging_freq=3; num_iterations=921; max_depth=15; num_leaves=1629; min_data_in_leaf=2518 : y = 0.5 : 15.8 secs : initdesign\n",
            "\n",
            "[mbo] 0: min_sum_hessian_in_leaf=0.0877; learning_rate=0.0063; feature_fraction=0.321; bagging_fraction=0.938; lambda_l1=1.19; lambda_l2=7.21; min_gain_to_split=13.3; drop_rate=0.132; skip_drop=0.697; bagging_freq=8; num_iterations=1188; max_depth=6; num_leaves=168; min_data_in_leaf=3968 : y = 0.919 : 166.6 secs : initdesign\n",
            "\n",
            "[mbo] 0: min_sum_hessian_in_leaf=0.0286; learning_rate=0.0428; feature_fraction=0.725; bagging_fraction=0.293; lambda_l1=1.63; lambda_l2=5.57; min_gain_to_split=7.74; drop_rate=0.182; skip_drop=0.188; bagging_freq=1; num_iterations=783; max_depth=14; num_leaves=207; min_data_in_leaf=755 : y = 0.917 : 201.5 secs : initdesign\n",
            "\n",
            "[mbo] 0: min_sum_hessian_in_leaf=0.0942; learning_rate=0.0375; feature_fraction=0.943; bagging_fraction=0.37; lambda_l1=3.09; lambda_l2=3.99; min_gain_to_split=11.1; drop_rate=0.184; skip_drop=0.6; bagging_freq=1; num_iterations=57; max_depth=3; num_leaves=1057; min_data_in_leaf=4905 : y = 0.892 : 3.7 secs : initdesign\n",
            "\n",
            "[mbo] 0: min_sum_hessian_in_leaf=0.0767; learning_rate=0.0115; feature_fraction=0.686; bagging_fraction=0.99; lambda_l1=8.27; lambda_l2=0.0713; min_gain_to_split=2.77; drop_rate=0.0135; skip_drop=0.673; bagging_freq=6; num_iterations=2076; max_depth=13; num_leaves=910; min_data_in_leaf=5344 : y = 0.928 : 191.2 secs : initdesign\n",
            "\n",
            "[mbo] 0: min_sum_hessian_in_leaf=0.0617; learning_rate=0.0764; feature_fraction=0.906; bagging_fraction=0.236; lambda_l1=7.05; lambda_l2=6.1; min_gain_to_split=14.1; drop_rate=0.193; skip_drop=0.00198; bagging_freq=10; num_iterations=1923; max_depth=-1; num_leaves=276; min_data_in_leaf=101 : y = 0.912 : 557.2 secs : initdesign\n",
            "\n",
            "[mbo] 0: min_sum_hessian_in_leaf=0.0809; learning_rate=0.0921; feature_fraction=0.664; bagging_fraction=0.321; lambda_l1=2.49; lambda_l2=1.84; min_gain_to_split=0.177; drop_rate=0.148; skip_drop=0.0564; bagging_freq=9; num_iterations=157; max_depth=-1; num_leaves=1854; min_data_in_leaf=6497 : y = 0.895 : 12.4 secs : initdesign\n",
            "\n",
            "[mbo] 0: min_sum_hessian_in_leaf=0.0565; learning_rate=0.0692; feature_fraction=0.134; bagging_fraction=0.635; lambda_l1=4.75; lambda_l2=0.729; min_gain_to_split=4.31; drop_rate=0.299; skip_drop=0.354; bagging_freq=2; num_iterations=384; max_depth=3; num_leaves=86; min_data_in_leaf=2308 : y = 0.912 : 63.1 secs : initdesign\n",
            "\n",
            "[mbo] 0: min_sum_hessian_in_leaf=0.00471; learning_rate=0.0908; feature_fraction=0.613; bagging_fraction=0.583; lambda_l1=2.11; lambda_l2=1.11; min_gain_to_split=10.9; drop_rate=0.057; skip_drop=0.0211; bagging_freq=10; num_iterations=2771; max_depth=10; num_leaves=1592; min_data_in_leaf=1016 : y = 0.917 : 671.2 secs : initdesign\n",
            "\n",
            "[mbo] 0: min_sum_hessian_in_leaf=0.00316; learning_rate=0.0701; feature_fraction=0.193; bagging_fraction=0.693; lambda_l1=0.793; lambda_l2=3.59; min_gain_to_split=4.25; drop_rate=0.281; skip_drop=0.771; bagging_freq=5; num_iterations=2555; max_depth=10; num_leaves=1969; min_data_in_leaf=955 : y = 0.93 : 255.4 secs : initdesign\n",
            "\n",
            "[mbo] 0: min_sum_hessian_in_leaf=0.00902; learning_rate=0.0658; feature_fraction=0.125; bagging_fraction=0.459; lambda_l1=9.57; lambda_l2=5.41; min_gain_to_split=13; drop_rate=0.0591; skip_drop=0.28; bagging_freq=2; num_iterations=2042; max_depth=14; num_leaves=42; min_data_in_leaf=7058 : y = 0.914 : 303.8 secs : initdesign\n",
            "\n",
            "[mbo] 0: min_sum_hessian_in_leaf=0.0698; learning_rate=0.0209; feature_fraction=0.301; bagging_fraction=0.208; lambda_l1=1.26; lambda_l2=9.96; min_gain_to_split=6.13; drop_rate=0.000781; skip_drop=0.606; bagging_freq=1; num_iterations=871; max_depth=12; num_leaves=1300; min_data_in_leaf=4814 : y = 0.912 : 33.9 secs : initdesign\n",
            "\n",
            "[mbo] 0: min_sum_hessian_in_leaf=0.0353; learning_rate=0.0983; feature_fraction=0.832; bagging_fraction=0.866; lambda_l1=1.85; lambda_l2=0.945; min_gain_to_split=0.448; drop_rate=0.00947; skip_drop=0.797; bagging_freq=4; num_iterations=1352; max_depth=7; num_leaves=956; min_data_in_leaf=1477 : y = 0.938 : 127.5 secs : initdesign\n",
            "\n",
            "[mbo] 0: min_sum_hessian_in_leaf=0.0847; learning_rate=0.0405; feature_fraction=0.9; bagging_fraction=0.885; lambda_l1=7.51; lambda_l2=5.26; min_gain_to_split=11.6; drop_rate=0.274; skip_drop=0.415; bagging_freq=4; num_iterations=2371; max_depth=13; num_leaves=8; min_data_in_leaf=3256 : y = 0.924 : 451.1 secs : initdesign\n",
            "\n",
            "[mbo] 0: min_sum_hessian_in_leaf=0.0719; learning_rate=0.058; feature_fraction=0.359; bagging_fraction=0.0228; lambda_l1=7.49; lambda_l2=0.196; min_gain_to_split=1.25; drop_rate=0.0721; skip_drop=0.667; bagging_freq=5; num_iterations=2659; max_depth=15; num_leaves=1734; min_data_in_leaf=557 : y = 0.902 : 103.2 secs : initdesign\n",
            "\n",
            "[mbo] 0: min_sum_hessian_in_leaf=0.0212; learning_rate=0.0123; feature_fraction=0.28; bagging_fraction=0.75; lambda_l1=0.103; lambda_l2=0.56; min_gain_to_split=4.84; drop_rate=0.111; skip_drop=0.0977; bagging_freq=10; num_iterations=1859; max_depth=4; num_leaves=361; min_data_in_leaf=6939 : y = 0.896 : 439.6 secs : initdesign\n",
            "\n",
            "[mbo] 0: min_sum_hessian_in_leaf=0.0235; learning_rate=0.0569; feature_fraction=0.887; bagging_fraction=0.148; lambda_l1=7.95; lambda_l2=0.388; min_gain_to_split=3.13; drop_rate=0.0779; skip_drop=0.067; bagging_freq=1; num_iterations=818; max_depth=2; num_leaves=2031; min_data_in_leaf=601 : y = 0.897 : 109.1 secs : initdesign\n",
            "\n",
            "[mbo] 0: min_sum_hessian_in_leaf=0.0375; learning_rate=0.0461; feature_fraction=0.47; bagging_fraction=0.107; lambda_l1=8.05; lambda_l2=8.13; min_gain_to_split=6.24; drop_rate=0.0256; skip_drop=0.713; bagging_freq=10; num_iterations=2881; max_depth=0; num_leaves=1139; min_data_in_leaf=2699 : y = 0.906 : 84.8 secs : initdesign\n",
            "\n",
            "[mbo] 0: min_sum_hessian_in_leaf=0.0962; learning_rate=0.0604; feature_fraction=0.167; bagging_fraction=0.169; lambda_l1=5.69; lambda_l2=8.74; min_gain_to_split=11.4; drop_rate=0.0989; skip_drop=0.785; bagging_freq=10; num_iterations=221; max_depth=15; num_leaves=130; min_data_in_leaf=366 : y = 0.905 : 6.5 secs : initdesign\n",
            "\n",
            "[mbo] 0: min_sum_hessian_in_leaf=0.0329; learning_rate=0.0731; feature_fraction=0.248; bagging_fraction=0.832; lambda_l1=9.68; lambda_l2=8.88; min_gain_to_split=8.16; drop_rate=0.248; skip_drop=0.114; bagging_freq=9; num_iterations=2813; max_depth=11; num_leaves=1570; min_data_in_leaf=1173 : y = 0.924 : 980.6 secs : initdesign\n",
            "\n",
            "[mbo] 0: min_sum_hessian_in_leaf=0.0834; learning_rate=0.0172; feature_fraction=0.577; bagging_fraction=0.0861; lambda_l1=4.87; lambda_l2=9.15; min_gain_to_split=0.802; drop_rate=0.257; skip_drop=0.082; bagging_freq=3; num_iterations=2183; max_depth=2; num_leaves=831; min_data_in_leaf=6198 : y = 0.5 : 46.3 secs : initdesign\n",
            "\n",
            "[mbo] 0: min_sum_hessian_in_leaf=0.0735; learning_rate=0.0857; feature_fraction=0.397; bagging_fraction=0.785; lambda_l1=0.566; lambda_l2=4.73; min_gain_to_split=14.8; drop_rate=0.0396; skip_drop=0.207; bagging_freq=2; num_iterations=1832; max_depth=5; num_leaves=757; min_data_in_leaf=1688 : y = 0.923 : 384.8 secs : initdesign\n",
            "\n",
            "[mbo] 0: min_sum_hessian_in_leaf=0.0121; learning_rate=0.00996; feature_fraction=0.979; bagging_fraction=0.797; lambda_l1=5.82; lambda_l2=3.23; min_gain_to_split=3.77; drop_rate=0.293; skip_drop=0.45; bagging_freq=8; num_iterations=309; max_depth=9; num_leaves=1769; min_data_in_leaf=5647 : y = 0.89 : 36.2 secs : initdesign\n",
            "\n",
            "Saved the current state after iteration 1 in the file bayesiana.RDATA.\n",
            "\n",
            "mar sept 09 15:25:16 2025 AUC 0.910137443706382\n",
            "\n",
            "[mbo] 1: min_sum_hessian_in_leaf=0.0529; learning_rate=0.0382; feature_fraction=0.782; bagging_fraction=0.224; lambda_l1=7.76; lambda_l2=0.9; min_gain_to_split=13.2; drop_rate=0.0474; skip_drop=0.507; bagging_freq=9; num_iterations=1227; max_depth=12; num_leaves=1062; min_data_in_leaf=4415 : y = 0.91 : 62.7 secs : infill_ei\n",
            "\n",
            "mar sept 09 15:27:27 2025 AUC 0.924379347408343\n",
            "\n",
            "[mbo] 2: min_sum_hessian_in_leaf=0.0248; learning_rate=0.0347; feature_fraction=0.922; bagging_fraction=0.841; lambda_l1=5.89; lambda_l2=6.39; min_gain_to_split=9.42; drop_rate=0.0142; skip_drop=0.697; bagging_freq=3; num_iterations=2213; max_depth=11; num_leaves=320; min_data_in_leaf=5109 : y = 0.924 : 129.3 secs : infill_ei\n",
            "\n",
            "mar sept 09 15:30:29 2025 AUC 0.924629018240152\n",
            "\n",
            "[mbo] 3: min_sum_hessian_in_leaf=0.03; learning_rate=0.0588; feature_fraction=0.585; bagging_fraction=0.383; lambda_l1=1.05; lambda_l2=2.24; min_gain_to_split=7.52; drop_rate=0.0278; skip_drop=0.588; bagging_freq=1; num_iterations=2031; max_depth=4; num_leaves=767; min_data_in_leaf=2649 : y = 0.925 : 181.3 secs : infill_ei\n",
            "\n",
            "mar sept 09 15:36:23 2025 AUC 0.927293759246378\n",
            "\n",
            "[mbo] 4: min_sum_hessian_in_leaf=0.0255; learning_rate=0.0617; feature_fraction=0.299; bagging_fraction=0.833; lambda_l1=3.07; lambda_l2=7.36; min_gain_to_split=4.5; drop_rate=0.216; skip_drop=0.639; bagging_freq=4; num_iterations=2053; max_depth=6; num_leaves=1110; min_data_in_leaf=2577 : y = 0.927 : 352.0 secs : infill_ei\n",
            "\n",
            "Saved the current state after iteration 5 in the file bayesiana.RDATA.\n",
            "\n",
            "mar sept 09 15:40:56 2025 AUC 0.933748918076259\n",
            "\n",
            "[mbo] 5: min_sum_hessian_in_leaf=0.0604; learning_rate=0.084; feature_fraction=0.801; bagging_fraction=0.628; lambda_l1=1.32; lambda_l2=4.57; min_gain_to_split=1.96; drop_rate=0.105; skip_drop=0.638; bagging_freq=5; num_iterations=1558; max_depth=6; num_leaves=1463; min_data_in_leaf=1930 : y = 0.934 : 271.2 secs : infill_ei\n",
            "\n",
            "mar sept 09 15:46:10 2025 AUC 0.921440006618248\n",
            "\n",
            "[mbo] 6: min_sum_hessian_in_leaf=0.0569; learning_rate=0.0821; feature_fraction=0.601; bagging_fraction=0.533; lambda_l1=7.56; lambda_l2=3.43; min_gain_to_split=13.4; drop_rate=0.0305; skip_drop=0.316; bagging_freq=7; num_iterations=2571; max_depth=6; num_leaves=914; min_data_in_leaf=2257 : y = 0.921 : 312.9 secs : infill_ei\n",
            "\n",
            "mar sept 09 15:47:27 2025 AUC 0.925948872286536\n",
            "\n",
            "[mbo] 7: min_sum_hessian_in_leaf=0.0304; learning_rate=0.0786; feature_fraction=0.575; bagging_fraction=0.497; lambda_l1=3.17; lambda_l2=3.41; min_gain_to_split=3.79; drop_rate=0.0349; skip_drop=0.627; bagging_freq=2; num_iterations=941; max_depth=5; num_leaves=1763; min_data_in_leaf=4919 : y = 0.926 : 75.9 secs : infill_ei\n",
            "\n",
            "Saved the current state after iteration 8 in the file bayesiana.RDATA.\n",
            "\n",
            "mar sept 09 15:50:14 2025 AUC 0.916410846171964\n",
            "\n",
            "[mbo] 8: min_sum_hessian_in_leaf=0.0362; learning_rate=0.0709; feature_fraction=1; bagging_fraction=0.339; lambda_l1=4.92; lambda_l2=2.06; min_gain_to_split=10.3; drop_rate=0.046; skip_drop=0.594; bagging_freq=8; num_iterations=2699; max_depth=8; num_leaves=1011; min_data_in_leaf=5991 : y = 0.916 : 165.1 secs : infill_ei\n",
            "\n",
            "mar sept 09 15:52:54 2025 AUC 0.929213002417492\n",
            "\n",
            "[mbo] 9: min_sum_hessian_in_leaf=0.0571; learning_rate=0.0928; feature_fraction=0.815; bagging_fraction=0.911; lambda_l1=4.36; lambda_l2=4.29; min_gain_to_split=3.03; drop_rate=0.0276; skip_drop=0.538; bagging_freq=4; num_iterations=1553; max_depth=14; num_leaves=380; min_data_in_leaf=5008 : y = 0.929 : 158.4 secs : infill_ei\n",
            "\n",
            "mar sept 09 15:57:33 2025 AUC 0.927709629473572\n",
            "\n",
            "[mbo] 10: min_sum_hessian_in_leaf=0.0187; learning_rate=0.0575; feature_fraction=0.575; bagging_fraction=0.733; lambda_l1=0.0597; lambda_l2=5.69; min_gain_to_split=3.33; drop_rate=0.0387; skip_drop=0.781; bagging_freq=3; num_iterations=2991; max_depth=8; num_leaves=1669; min_data_in_leaf=7460 : y = 0.928 : 277.6 secs : infill_ei\n",
            "\n",
            "Saved the current state after iteration 11 in the file bayesiana.RDATA.\n",
            "\n",
            "mar sept 09 16:03:40 2025 AUC 0.921982807583174\n",
            "\n",
            "[mbo] 11: min_sum_hessian_in_leaf=0.0216; learning_rate=0.0781; feature_fraction=0.678; bagging_fraction=0.762; lambda_l1=3.78; lambda_l2=5.81; min_gain_to_split=12.3; drop_rate=0.174; skip_drop=0.27; bagging_freq=9; num_iterations=1792; max_depth=9; num_leaves=1203; min_data_in_leaf=6409 : y = 0.922 : 364.9 secs : infill_ei\n",
            "\n",
            "mar sept 09 16:05:24 2025 AUC 0.93256350232956\n",
            "\n",
            "[mbo] 12: min_sum_hessian_in_leaf=0.00431; learning_rate=0.0927; feature_fraction=0.478; bagging_fraction=0.719; lambda_l1=3.58; lambda_l2=8.02; min_gain_to_split=0.295; drop_rate=0.0377; skip_drop=0.712; bagging_freq=5; num_iterations=852; max_depth=15; num_leaves=776; min_data_in_leaf=5096 : y = 0.933 : 102.1 secs : infill_ei\n",
            "\n",
            "mar sept 09 16:06:18 2025 AUC 0.923611618076783\n",
            "\n",
            "[mbo] 13: min_sum_hessian_in_leaf=0.0264; learning_rate=0.0764; feature_fraction=0.997; bagging_fraction=0.195; lambda_l1=1.19; lambda_l2=2.88; min_gain_to_split=4.19; drop_rate=0.0305; skip_drop=0.392; bagging_freq=9; num_iterations=906; max_depth=2; num_leaves=1404; min_data_in_leaf=619 : y = 0.924 : 52.6 secs : infill_ei\n",
            "\n",
            "mar sept 09 16:09:27 2025 AUC 0.922850592276653\n",
            "\n",
            "[mbo] 14: min_sum_hessian_in_leaf=0.0484; learning_rate=0.0607; feature_fraction=0.352; bagging_fraction=0.706; lambda_l1=2.58; lambda_l2=4.99; min_gain_to_split=9.15; drop_rate=0.0799; skip_drop=0.733; bagging_freq=5; num_iterations=2169; max_depth=6; num_leaves=1296; min_data_in_leaf=6229 : y = 0.923 : 186.8 secs : infill_ei\n",
            "\n",
            "Saved the current state after iteration 15 in the file bayesiana.RDATA.\n",
            "\n",
            "mar sept 09 16:13:22 2025 AUC 0.928779319802189\n",
            "\n",
            "[mbo] 15: min_sum_hessian_in_leaf=0.0802; learning_rate=0.0797; feature_fraction=0.767; bagging_fraction=0.896; lambda_l1=3.47; lambda_l2=4.47; min_gain_to_split=3.96; drop_rate=0.085; skip_drop=0.731; bagging_freq=5; num_iterations=2343; max_depth=13; num_leaves=1577; min_data_in_leaf=3591 : y = 0.929 : 233.6 secs : infill_ei\n",
            "\n",
            "mar sept 09 16:14:48 2025 AUC 0.899970865189841\n",
            "\n",
            "[mbo] 16: min_sum_hessian_in_leaf=0.0127; learning_rate=0.0862; feature_fraction=0.999; bagging_fraction=0.303; lambda_l1=9.17; lambda_l2=1.44; min_gain_to_split=9.28; drop_rate=0.102; skip_drop=0.151; bagging_freq=9; num_iterations=709; max_depth=4; num_leaves=482; min_data_in_leaf=1088 : y = 0.9 : 84.1 secs : infill_ei\n",
            "\n",
            "mar sept 09 16:26:39 2025 AUC 0.932750452906542\n",
            "\n",
            "[mbo] 17: min_sum_hessian_in_leaf=0.017; learning_rate=0.0814; feature_fraction=0.809; bagging_fraction=0.636; lambda_l1=4.71; lambda_l2=2.1; min_gain_to_split=0.04; drop_rate=0.232; skip_drop=0.468; bagging_freq=5; num_iterations=2759; max_depth=14; num_leaves=616; min_data_in_leaf=4398 : y = 0.933 : 708.8 secs : infill_ei\n",
            "\n",
            "Saved the current state after iteration 18 in the file bayesiana.RDATA.\n",
            "\n",
            "mar sept 09 16:28:41 2025 AUC 0.926023760478287\n",
            "\n",
            "[mbo] 18: min_sum_hessian_in_leaf=0.0126; learning_rate=0.0394; feature_fraction=0.495; bagging_fraction=0.241; lambda_l1=3.62; lambda_l2=2.57; min_gain_to_split=2.13; drop_rate=0.14; skip_drop=0.533; bagging_freq=1; num_iterations=656; max_depth=10; num_leaves=1869; min_data_in_leaf=576 : y = 0.926 : 120.0 secs : infill_ei\n",
            "\n",
            "mar sept 09 16:32:29 2025 AUC 0.923955876962739\n",
            "\n",
            "[mbo] 19: min_sum_hessian_in_leaf=0.00243; learning_rate=0.0808; feature_fraction=0.914; bagging_fraction=0.737; lambda_l1=4.28; lambda_l2=0.493; min_gain_to_split=6.91; drop_rate=0.0354; skip_drop=0.608; bagging_freq=3; num_iterations=2885; max_depth=1; num_leaves=888; min_data_in_leaf=3792 : y = 0.924 : 226.0 secs : infill_ei\n",
            "\n",
            "mar sept 09 16:39:45 2025 AUC 0.929664650345775\n",
            "\n",
            "[mbo] 20: min_sum_hessian_in_leaf=0.0048; learning_rate=0.0804; feature_fraction=0.856; bagging_fraction=0.722; lambda_l1=0.536; lambda_l2=9.64; min_gain_to_split=4.16; drop_rate=0.219; skip_drop=0.406; bagging_freq=5; num_iterations=1592; max_depth=15; num_leaves=1361; min_data_in_leaf=2305 : y = 0.93 : 434.6 secs : infill_ei\n",
            "\n",
            "Saved the current state after iteration 21 in the file bayesiana.RDATA.\n",
            "\n",
            "mar sept 09 16:40:44 2025 AUC 0.921593545146139\n",
            "\n",
            "[mbo] 21: min_sum_hessian_in_leaf=0.00836; learning_rate=0.0791; feature_fraction=0.787; bagging_fraction=0.501; lambda_l1=8.31; lambda_l2=3.97; min_gain_to_split=8.03; drop_rate=0.00385; skip_drop=0.273; bagging_freq=7; num_iterations=1789; max_depth=6; num_leaves=1855; min_data_in_leaf=5816 : y = 0.922 : 56.6 secs : infill_ei\n",
            "\n",
            "mar sept 09 16:53:20 2025 AUC 0.933487299672159\n",
            "\n",
            "[mbo] 22: min_sum_hessian_in_leaf=0.0308; learning_rate=0.0937; feature_fraction=0.497; bagging_fraction=0.731; lambda_l1=3.36; lambda_l2=1.4; min_gain_to_split=1.7; drop_rate=0.0715; skip_drop=0.474; bagging_freq=5; num_iterations=2826; max_depth=13; num_leaves=897; min_data_in_leaf=1040 : y = 0.933 : 754.4 secs : infill_ei\n",
            "\n",
            "Saved the current state after iteration 23 in the file bayesiana.RDATA.\n",
            "\n",
            "mar sept 09 17:10:55 2025 AUC 0.934093150088226\n",
            "\n",
            "[mbo] 23: min_sum_hessian_in_leaf=0.0152; learning_rate=0.0157; feature_fraction=0.919; bagging_fraction=0.786; lambda_l1=5.31; lambda_l2=8.79; min_gain_to_split=1.55; drop_rate=0.137; skip_drop=0.467; bagging_freq=3; num_iterations=2949; max_depth=9; num_leaves=1481; min_data_in_leaf=657 : y = 0.934 : 1052.6 secs : infill_ei\n",
            "\n",
            "Saved the current state after iteration 24 in the file bayesiana.RDATA.\n",
            "\n",
            "mar sept 09 17:15:00 2025 AUC 0.926425963930253\n",
            "\n",
            "[mbo] 24: min_sum_hessian_in_leaf=0.0338; learning_rate=0.0451; feature_fraction=0.188; bagging_fraction=0.241; lambda_l1=1.99; lambda_l2=2.78; min_gain_to_split=5.61; drop_rate=0.18; skip_drop=0.64; bagging_freq=7; num_iterations=2290; max_depth=10; num_leaves=120; min_data_in_leaf=137 : y = 0.926 : 243.1 secs : infill_ei\n",
            "\n",
            "mar sept 09 17:15:50 2025 AUC 0.917719390696875\n",
            "\n",
            "[mbo] 25: min_sum_hessian_in_leaf=0.0709; learning_rate=0.0638; feature_fraction=0.733; bagging_fraction=0.247; lambda_l1=2.24; lambda_l2=0.718; min_gain_to_split=0.574; drop_rate=0.0489; skip_drop=0.644; bagging_freq=8; num_iterations=726; max_depth=6; num_leaves=705; min_data_in_leaf=5088 : y = 0.918 : 48.1 secs : infill_ei\n",
            "\n",
            "mar sept 09 17:20:19 2025 AUC 0.922820535691429\n",
            "\n",
            "[mbo] 26: min_sum_hessian_in_leaf=0.0252; learning_rate=0.0263; feature_fraction=0.743; bagging_fraction=0.557; lambda_l1=5.27; lambda_l2=4.75; min_gain_to_split=13.3; drop_rate=0.0308; skip_drop=0.6; bagging_freq=2; num_iterations=2826; max_depth=5; num_leaves=1362; min_data_in_leaf=1759 : y = 0.923 : 266.9 secs : infill_ei\n",
            "\n",
            "mar sept 09 17:27:05 2025 AUC 0.930680960122635\n",
            "\n",
            "[mbo] 27: min_sum_hessian_in_leaf=0.0176; learning_rate=0.0707; feature_fraction=0.949; bagging_fraction=0.625; lambda_l1=1.81; lambda_l2=4.31; min_gain_to_split=3.13; drop_rate=0.1; skip_drop=0.233; bagging_freq=1; num_iterations=1529; max_depth=9; num_leaves=828; min_data_in_leaf=605 : y = 0.931 : 404.3 secs : infill_ei\n",
            "\n",
            "Saved the current state after iteration 28 in the file bayesiana.RDATA.\n",
            "\n",
            "mar sept 09 17:31:04 2025 AUC 0.93109037772585\n",
            "\n",
            "[mbo] 28: min_sum_hessian_in_leaf=0.0379; learning_rate=0.0715; feature_fraction=0.562; bagging_fraction=0.332; lambda_l1=3.98; lambda_l2=0.312; min_gain_to_split=1.92; drop_rate=0.118; skip_drop=0.721; bagging_freq=6; num_iterations=1816; max_depth=8; num_leaves=1785; min_data_in_leaf=1082 : y = 0.931 : 236.1 secs : infill_ei\n",
            "\n",
            "mar sept 09 17:46:33 2025 AUC 0.94085459399638\n",
            "\n",
            "[mbo] 29: min_sum_hessian_in_leaf=0.00594; learning_rate=0.0341; feature_fraction=0.76; bagging_fraction=0.678; lambda_l1=3.1; lambda_l2=4.76; min_gain_to_split=0.0214; drop_rate=0.0496; skip_drop=0.664; bagging_freq=3; num_iterations=2299; max_depth=14; num_leaves=1724; min_data_in_leaf=679 : y = 0.941 : 927.6 secs : infill_ei\n",
            "\n",
            "Saved the current state after iteration 30 in the file bayesiana.RDATA.\n",
            "\n",
            "mar sept 09 17:49:05 2025 AUC 0.930138301935312\n",
            "\n",
            "[mbo] 30: min_sum_hessian_in_leaf=0.00751; learning_rate=0.0562; feature_fraction=0.747; bagging_fraction=0.658; lambda_l1=9.21; lambda_l2=0.859; min_gain_to_split=2.29; drop_rate=0.0241; skip_drop=0.779; bagging_freq=6; num_iterations=2326; max_depth=11; num_leaves=1073; min_data_in_leaf=2953 : y = 0.93 : 149.9 secs : infill_ei\n",
            "\n",
            "mar sept 09 17:55:20 2025 AUC 0.929560530395985\n",
            "\n",
            "[mbo] 31: min_sum_hessian_in_leaf=0.0286; learning_rate=0.0398; feature_fraction=0.984; bagging_fraction=0.498; lambda_l1=6.76; lambda_l2=6.99; min_gain_to_split=2.09; drop_rate=0.0694; skip_drop=0.474; bagging_freq=5; num_iterations=1839; max_depth=8; num_leaves=455; min_data_in_leaf=266 : y = 0.93 : 372.5 secs : infill_ei\n",
            "\n",
            "mar sept 09 17:55:31 2025 AUC 0.905376917020161\n",
            "\n",
            "[mbo] 32: min_sum_hessian_in_leaf=0.022; learning_rate=0.033; feature_fraction=0.674; bagging_fraction=0.924; lambda_l1=1.19; lambda_l2=5.46; min_gain_to_split=0.893; drop_rate=0.176; skip_drop=0.561; bagging_freq=3; num_iterations=89; max_depth=7; num_leaves=1129; min_data_in_leaf=2421 : y = 0.905 : 8.4 secs : infill_ei\n",
            "\n",
            "mar sept 09 18:03:32 2025 AUC 0.937205190647196\n",
            "\n",
            "[mbo] 33: min_sum_hessian_in_leaf=0.0176; learning_rate=0.086; feature_fraction=0.859; bagging_fraction=0.746; lambda_l1=8.71; lambda_l2=5.78; min_gain_to_split=0.411; drop_rate=0.164; skip_drop=0.783; bagging_freq=4; num_iterations=2595; max_depth=14; num_leaves=1569; min_data_in_leaf=414 : y = 0.937 : 479.2 secs : infill_ei\n",
            "\n",
            "Saved the current state after iteration 34 in the file bayesiana.RDATA.\n",
            "\n",
            "mar sept 09 18:11:51 2025 AUC 0.938019794738203\n",
            "\n",
            "[mbo] 34: min_sum_hessian_in_leaf=0.0261; learning_rate=0.0979; feature_fraction=0.431; bagging_fraction=0.504; lambda_l1=1.07; lambda_l2=2.33; min_gain_to_split=0.933; drop_rate=0.217; skip_drop=0.774; bagging_freq=7; num_iterations=1942; max_depth=13; num_leaves=1723; min_data_in_leaf=135 : y = 0.938 : 496.2 secs : infill_ei\n",
            "\n",
            "mar sept 09 18:21:13 2025 AUC 0.934910940165727\n",
            "\n",
            "[mbo] 35: min_sum_hessian_in_leaf=0.0199; learning_rate=0.0503; feature_fraction=0.282; bagging_fraction=0.516; lambda_l1=3.14; lambda_l2=9.75; min_gain_to_split=0.349; drop_rate=0.208; skip_drop=0.587; bagging_freq=3; num_iterations=2279; max_depth=14; num_leaves=1240; min_data_in_leaf=1568 : y = 0.935 : 560.2 secs : infill_ei\n",
            "\n",
            "Saved the current state after iteration 36 in the file bayesiana.RDATA.\n",
            "\n",
            "mar sept 09 18:30:13 2025 AUC 0.923506404343138\n",
            "\n",
            "[mbo] 36: min_sum_hessian_in_leaf=0.007; learning_rate=0.0401; feature_fraction=0.306; bagging_fraction=0.674; lambda_l1=4.06; lambda_l2=6.56; min_gain_to_split=7.47; drop_rate=0.0735; skip_drop=0.438; bagging_freq=2; num_iterations=2939; max_depth=14; num_leaves=281; min_data_in_leaf=3757 : y = 0.924 : 536.4 secs : infill_ei\n",
            "\n",
            "mar sept 09 18:38:42 2025 AUC 0.931544620469461\n",
            "\n",
            "[mbo] 37: min_sum_hessian_in_leaf=0.0664; learning_rate=0.0535; feature_fraction=0.529; bagging_fraction=0.504; lambda_l1=2.27; lambda_l2=9.21; min_gain_to_split=2.8; drop_rate=0.127; skip_drop=0.564; bagging_freq=7; num_iterations=2311; max_depth=15; num_leaves=1897; min_data_in_leaf=294 : y = 0.932 : 507.7 secs : infill_ei\n",
            "\n",
            "Saved the current state after iteration 38 in the file bayesiana.RDATA.\n",
            "\n",
            "mar sept 09 18:55:41 2025 AUC 0.935772236969475\n",
            "\n",
            "[mbo] 38: min_sum_hessian_in_leaf=0.0223; learning_rate=0.0779; feature_fraction=0.38; bagging_fraction=0.534; lambda_l1=1.05; lambda_l2=8.34; min_gain_to_split=1.44; drop_rate=0.207; skip_drop=0.438; bagging_freq=9; num_iterations=2571; max_depth=8; num_leaves=1408; min_data_in_leaf=270 : y = 0.936 : 1016.0 secs : infill_ei\n",
            "\n",
            "Saved the current state after iteration 39 in the file bayesiana.RDATA.\n",
            "\n",
            "mar sept 09 18:58:26 2025 AUC 0.921631216074029\n",
            "\n",
            "[mbo] 39: min_sum_hessian_in_leaf=0.0113; learning_rate=0.0251; feature_fraction=0.933; bagging_fraction=0.0775; lambda_l1=1.62; lambda_l2=1.79; min_gain_to_split=4.34; drop_rate=0.0854; skip_drop=0.626; bagging_freq=8; num_iterations=2011; max_depth=10; num_leaves=1391; min_data_in_leaf=298 : y = 0.922 : 162.9 secs : infill_ei\n",
            "\n",
            "mar sept 09 18:58:37 2025 AUC 0.910088270712173\n",
            "\n",
            "[mbo] 40: min_sum_hessian_in_leaf=0.00965; learning_rate=0.0873; feature_fraction=0.913; bagging_fraction=0.28; lambda_l1=5.47; lambda_l2=2.61; min_gain_to_split=11.1; drop_rate=0.0325; skip_drop=0.299; bagging_freq=10; num_iterations=229; max_depth=8; num_leaves=1423; min_data_in_leaf=6176 : y = 0.91 : 9.0 secs : infill_ei\n",
            "\n",
            "mar sept 09 19:05:48 2025 AUC 0.926059713510927\n",
            "\n",
            "[mbo] 41: min_sum_hessian_in_leaf=0.0695; learning_rate=0.0637; feature_fraction=0.671; bagging_fraction=0.6; lambda_l1=0.506; lambda_l2=2.19; min_gain_to_split=3.9; drop_rate=0.0725; skip_drop=0.224; bagging_freq=8; num_iterations=1655; max_depth=6; num_leaves=1792; min_data_in_leaf=2282 : y = 0.926 : 427.9 secs : infill_ei\n",
            "\n",
            "Saved the current state after iteration 42 in the file bayesiana.RDATA.\n",
            "\n",
            "mar sept 09 19:07:18 2025 AUC 0.924185204075684\n",
            "\n",
            "[mbo] 42: min_sum_hessian_in_leaf=0.0361; learning_rate=0.0657; feature_fraction=0.718; bagging_fraction=0.226; lambda_l1=1.96; lambda_l2=6.4; min_gain_to_split=4.58; drop_rate=0.0253; skip_drop=0.771; bagging_freq=2; num_iterations=1788; max_depth=5; num_leaves=913; min_data_in_leaf=2342 : y = 0.924 : 87.7 secs : infill_ei\n",
            "\n",
            "mar sept 09 19:19:22 2025 AUC 0.928537194487773\n",
            "\n",
            "[mbo] 43: min_sum_hessian_in_leaf=0.06; learning_rate=0.0859; feature_fraction=0.685; bagging_fraction=0.853; lambda_l1=9.48; lambda_l2=6.94; min_gain_to_split=2.89; drop_rate=0.06; skip_drop=0.318; bagging_freq=3; num_iterations=2790; max_depth=6; num_leaves=1574; min_data_in_leaf=2061 : y = 0.929 : 721.2 secs : infill_ei\n",
            "\n",
            "Saved the current state after iteration 44 in the file bayesiana.RDATA.\n",
            "\n",
            "mar sept 09 19:28:27 2025 AUC 0.933280531368436\n",
            "\n",
            "[mbo] 44: min_sum_hessian_in_leaf=0.0467; learning_rate=0.073; feature_fraction=0.234; bagging_fraction=0.683; lambda_l1=2.8; lambda_l2=8.79; min_gain_to_split=1.48; drop_rate=0.132; skip_drop=0.657; bagging_freq=3; num_iterations=2806; max_depth=13; num_leaves=648; min_data_in_leaf=230 : y = 0.933 : 543.2 secs : infill_ei\n",
            "\n",
            "mar sept 09 19:34:11 2025 AUC 0.922442431765579\n",
            "\n",
            "[mbo] 45: min_sum_hessian_in_leaf=0.0266; learning_rate=0.0805; feature_fraction=0.944; bagging_fraction=0.352; lambda_l1=7.31; lambda_l2=7.03; min_gain_to_split=8.36; drop_rate=0.161; skip_drop=0.297; bagging_freq=9; num_iterations=1979; max_depth=14; num_leaves=1178; min_data_in_leaf=630 : y = 0.922 : 341.9 secs : infill_ei\n",
            "\n",
            "Saved the current state after iteration 46 in the file bayesiana.RDATA.\n",
            "\n",
            "mar sept 09 19:43:11 2025 AUC 0.939676603907786\n",
            "\n",
            "[mbo] 46: min_sum_hessian_in_leaf=0.00982; learning_rate=0.075; feature_fraction=0.779; bagging_fraction=0.579; lambda_l1=2.69; lambda_l2=6.64; min_gain_to_split=0.086; drop_rate=0.143; skip_drop=0.782; bagging_freq=2; num_iterations=2437; max_depth=10; num_leaves=1018; min_data_in_leaf=885 : y = 0.94 : 536.8 secs : infill_ei\n",
            "\n",
            "mar sept 09 19:59:43 2025 AUC 0.930585686791466\n",
            "\n",
            "[mbo] 47: min_sum_hessian_in_leaf=0.0248; learning_rate=0.0846; feature_fraction=0.866; bagging_fraction=0.536; lambda_l1=2.67; lambda_l2=6.5; min_gain_to_split=3.15; drop_rate=0.234; skip_drop=0.262; bagging_freq=6; num_iterations=2829; max_depth=-1; num_leaves=1756; min_data_in_leaf=452 : y = 0.931 : 989.8 secs : infill_ei\n",
            "\n",
            "Saved the current state after iteration 48 in the file bayesiana.RDATA.\n",
            "\n",
            "mar sept 09 20:05:09 2025 AUC 0.932404231832613\n",
            "\n",
            "[mbo] 48: min_sum_hessian_in_leaf=0.0593; learning_rate=0.0805; feature_fraction=0.418; bagging_fraction=0.841; lambda_l1=6.35; lambda_l2=5.59; min_gain_to_split=1.71; drop_rate=0.171; skip_drop=0.782; bagging_freq=7; num_iterations=2483; max_depth=9; num_leaves=644; min_data_in_leaf=736 : y = 0.932 : 323.4 secs : infill_ei\n",
            "\n",
            "mar sept 09 20:10:13 2025 AUC 0.93456408803946\n",
            "\n",
            "[mbo] 49: min_sum_hessian_in_leaf=0.0102; learning_rate=0.097; feature_fraction=0.914; bagging_fraction=0.852; lambda_l1=0.887; lambda_l2=7.81; min_gain_to_split=2.04; drop_rate=0.0696; skip_drop=0.762; bagging_freq=6; num_iterations=2488; max_depth=12; num_leaves=1026; min_data_in_leaf=574 : y = 0.935 : 301.9 secs : infill_ei\n",
            "\n",
            "Saved the current state after iteration 50 in the file bayesiana.RDATA.\n",
            "\n",
            "mar sept 09 20:18:08 2025 AUC 0.922934495177921\n",
            "\n",
            "[mbo] 50: min_sum_hessian_in_leaf=0.00502; learning_rate=0.0403; feature_fraction=0.847; bagging_fraction=0.734; lambda_l1=9.77; lambda_l2=7.11; min_gain_to_split=4.04; drop_rate=0.0707; skip_drop=0.41; bagging_freq=4; num_iterations=2701; max_depth=11; num_leaves=1978; min_data_in_leaf=7782 : y = 0.923 : 472.5 secs : infill_ei\n",
            "\n",
            "mar sept 09 20:19:31 2025 AUC 0.918841589871974\n",
            "\n",
            "[mbo] 51: min_sum_hessian_in_leaf=0.0121; learning_rate=0.0478; feature_fraction=0.848; bagging_fraction=0.32; lambda_l1=7.5; lambda_l2=4.03; min_gain_to_split=10.3; drop_rate=0.0234; skip_drop=0.382; bagging_freq=1; num_iterations=1104; max_depth=-1; num_leaves=72; min_data_in_leaf=594 : y = 0.919 : 80.5 secs : infill_ei\n",
            "\n",
            "mar sept 09 20:33:20 2025 AUC 0.934630005020816\n",
            "\n",
            "[mbo] 52: min_sum_hessian_in_leaf=0.035; learning_rate=0.0664; feature_fraction=0.919; bagging_fraction=0.547; lambda_l1=2.99; lambda_l2=1.13; min_gain_to_split=1.13; drop_rate=0.226; skip_drop=0.418; bagging_freq=1; num_iterations=2446; max_depth=12; num_leaves=1655; min_data_in_leaf=1664 : y = 0.935 : 826.4 secs : infill_ei\n",
            "\n",
            "Saved the current state after iteration 53 in the file bayesiana.RDATA.\n",
            "\n",
            "mar sept 09 20:38:23 2025 AUC 0.930442153770401\n",
            "\n",
            "[mbo] 53: min_sum_hessian_in_leaf=0.00426; learning_rate=0.0915; feature_fraction=0.625; bagging_fraction=0.525; lambda_l1=4.97; lambda_l2=4.69; min_gain_to_split=2.9; drop_rate=0.239; skip_drop=0.718; bagging_freq=5; num_iterations=2654; max_depth=15; num_leaves=915; min_data_in_leaf=1081 : y = 0.93 : 299.4 secs : infill_ei\n",
            "\n",
            "mar sept 09 20:45:59 2025 AUC 0.92892200945155\n",
            "\n",
            "[mbo] 54: min_sum_hessian_in_leaf=0.0425; learning_rate=0.0799; feature_fraction=0.832; bagging_fraction=0.688; lambda_l1=9.43; lambda_l2=4.1; min_gain_to_split=3.77; drop_rate=0.117; skip_drop=0.48; bagging_freq=2; num_iterations=2161; max_depth=9; num_leaves=602; min_data_in_leaf=16 : y = 0.929 : 453.4 secs : infill_ei\n",
            "\n",
            "Saved the current state after iteration 55 in the file bayesiana.RDATA.\n",
            "\n",
            "mar sept 09 20:55:02 2025 AUC 0.928862415884736\n",
            "\n",
            "[mbo] 55: min_sum_hessian_in_leaf=0.0723; learning_rate=0.0756; feature_fraction=0.905; bagging_fraction=0.426; lambda_l1=3.08; lambda_l2=5.04; min_gain_to_split=4.52; drop_rate=0.228; skip_drop=0.397; bagging_freq=9; num_iterations=2149; max_depth=-1; num_leaves=1131; min_data_in_leaf=284 : y = 0.929 : 540.0 secs : infill_ei\n",
            "\n",
            "mar sept 09 20:55:28 2025 AUC 0.914852720409899\n",
            "\n",
            "[mbo] 56: min_sum_hessian_in_leaf=0.0435; learning_rate=0.0376; feature_fraction=0.354; bagging_fraction=0.258; lambda_l1=0.289; lambda_l2=6.73; min_gain_to_split=12.7; drop_rate=0.0339; skip_drop=0.731; bagging_freq=1; num_iterations=434; max_depth=4; num_leaves=1109; min_data_in_leaf=4559 : y = 0.915 : 22.7 secs : infill_ei\n",
            "\n",
            "mar sept 09 21:04:41 2025 AUC 0.930478266914004\n",
            "\n",
            "[mbo] 57: min_sum_hessian_in_leaf=0.00483; learning_rate=0.0645; feature_fraction=0.703; bagging_fraction=0.469; lambda_l1=0.00332; lambda_l2=4.35; min_gain_to_split=5.13; drop_rate=0.167; skip_drop=0.487; bagging_freq=2; num_iterations=2643; max_depth=8; num_leaves=1632; min_data_in_leaf=720 : y = 0.93 : 550.7 secs : infill_ei\n",
            "\n",
            "Saved the current state after iteration 58 in the file bayesiana.RDATA.\n",
            "\n",
            "mar sept 09 21:09:24 2025 AUC 0.91816483839938\n",
            "\n",
            "[mbo] 58: min_sum_hessian_in_leaf=0.0247; learning_rate=0.0724; feature_fraction=0.562; bagging_fraction=0.608; lambda_l1=6.91; lambda_l2=3.77; min_gain_to_split=11; drop_rate=0.0872; skip_drop=0.425; bagging_freq=1; num_iterations=1794; max_depth=12; num_leaves=1366; min_data_in_leaf=7223 : y = 0.918 : 280.4 secs : infill_ei\n",
            "\n",
            "mar sept 09 21:13:08 2025 AUC 0.933320044272664\n",
            "\n",
            "[mbo] 59: min_sum_hessian_in_leaf=0.0591; learning_rate=0.0158; feature_fraction=0.391; bagging_fraction=0.396; lambda_l1=0.561; lambda_l2=1.11; min_gain_to_split=0.171; drop_rate=0.0457; skip_drop=0.702; bagging_freq=2; num_iterations=1077; max_depth=14; num_leaves=1966; min_data_in_leaf=734 : y = 0.933 : 220.7 secs : infill_ei\n",
            "\n",
            "mar sept 09 21:14:46 2025 AUC 0.927804687387406\n",
            "\n",
            "[mbo] 60: min_sum_hessian_in_leaf=0.016; learning_rate=0.0437; feature_fraction=0.915; bagging_fraction=0.467; lambda_l1=1.51; lambda_l2=6.46; min_gain_to_split=0.464; drop_rate=0.168; skip_drop=0.719; bagging_freq=6; num_iterations=854; max_depth=4; num_leaves=1536; min_data_in_leaf=4526 : y = 0.928 : 95.5 secs : infill_ei\n",
            "\n",
            "Saved the current state after iteration 61 in the file bayesiana.RDATA.\n",
            "\n",
            "mar sept 09 21:17:24 2025 AUC 0.917681394316981\n",
            "\n",
            "[mbo] 61: min_sum_hessian_in_leaf=0.0434; learning_rate=0.0163; feature_fraction=0.674; bagging_fraction=0.298; lambda_l1=0.0624; lambda_l2=9.48; min_gain_to_split=4.57; drop_rate=0.0989; skip_drop=0.489; bagging_freq=8; num_iterations=1136; max_depth=5; num_leaves=527; min_data_in_leaf=1867 : y = 0.918 : 155.1 secs : infill_ei\n",
            "\n",
            "mar sept 09 21:24:36 2025 AUC 0.932755664005817\n",
            "\n",
            "[mbo] 62: min_sum_hessian_in_leaf=0.0366; learning_rate=0.0204; feature_fraction=0.169; bagging_fraction=0.489; lambda_l1=2.26; lambda_l2=3.7; min_gain_to_split=0.0121; drop_rate=0.124; skip_drop=0.758; bagging_freq=6; num_iterations=2946; max_depth=6; num_leaves=1269; min_data_in_leaf=1115 : y = 0.933 : 429.0 secs : infill_ei\n",
            "\n",
            "mar sept 09 21:25:30 2025 AUC 0.929985276001073\n",
            "\n",
            "[mbo] 63: min_sum_hessian_in_leaf=0.0106; learning_rate=0.0314; feature_fraction=0.802; bagging_fraction=0.685; lambda_l1=8.1; lambda_l2=1.66; min_gain_to_split=0.779; drop_rate=0.0477; skip_drop=0.778; bagging_freq=5; num_iterations=516; max_depth=14; num_leaves=1367; min_data_in_leaf=1887 : y = 0.93 : 51.3 secs : infill_ei\n",
            "\n",
            "Saved the current state after iteration 64 in the file bayesiana.RDATA.\n",
            "\n",
            "mar sept 09 21:27:02 2025 AUC 0.928805064497573\n",
            "\n",
            "[mbo] 64: min_sum_hessian_in_leaf=0.0363; learning_rate=0.0543; feature_fraction=0.63; bagging_fraction=0.747; lambda_l1=4.46; lambda_l2=8.92; min_gain_to_split=6.8; drop_rate=0.0233; skip_drop=0.79; bagging_freq=3; num_iterations=1535; max_depth=12; num_leaves=1391; min_data_in_leaf=789 : y = 0.929 : 88.4 secs : infill_ei\n",
            "\n",
            "mar sept 09 21:54:53 2025 AUC 0.939403639458995\n",
            "\n",
            "[mbo] 65: min_sum_hessian_in_leaf=0.0567; learning_rate=0.093; feature_fraction=0.822; bagging_fraction=0.705; lambda_l1=1.59; lambda_l2=7.54; min_gain_to_split=0.413; drop_rate=0.242; skip_drop=0.236; bagging_freq=6; num_iterations=2805; max_depth=11; num_leaves=1224; min_data_in_leaf=443 : y = 0.939 : 1666.3 secs : infill_ei\n",
            "\n",
            "Saved the current state after iteration 66 in the file bayesiana.RDATA.\n",
            "\n",
            "mar sept 09 22:10:15 2025 AUC 0.928502414482952\n",
            "\n",
            "[mbo] 66: min_sum_hessian_in_leaf=0.0309; learning_rate=0.0819; feature_fraction=0.589; bagging_fraction=0.601; lambda_l1=8.09; lambda_l2=6.35; min_gain_to_split=0.911; drop_rate=0.268; skip_drop=0.211; bagging_freq=10; num_iterations=2486; max_depth=11; num_leaves=1274; min_data_in_leaf=3805 : y = 0.929 : 919.2 secs : infill_ei\n",
            "\n",
            "Saved the current state after iteration 67 in the file bayesiana.RDATA.\n",
            "\n",
            "mar sept 09 22:22:20 2025 AUC 0.926811731727247\n",
            "\n",
            "[mbo] 67: min_sum_hessian_in_leaf=0.0648; learning_rate=0.0748; feature_fraction=0.804; bagging_fraction=0.897; lambda_l1=5.81; lambda_l2=5.1; min_gain_to_split=3.31; drop_rate=0.0555; skip_drop=0.247; bagging_freq=6; num_iterations=2587; max_depth=5; num_leaves=1463; min_data_in_leaf=6678 : y = 0.927 : 722.6 secs : infill_ei\n",
            "\n",
            "Saved the current state after iteration 68 in the file bayesiana.RDATA.\n",
            "\n",
            "mar sept 09 22:34:07 2025 AUC 0.942382539303456\n",
            "\n",
            "[mbo] 68: min_sum_hessian_in_leaf=0.0213; learning_rate=0.0182; feature_fraction=0.928; bagging_fraction=0.746; lambda_l1=1.88; lambda_l2=1.03; min_gain_to_split=0.157; drop_rate=0.192; skip_drop=0.792; bagging_freq=7; num_iterations=2459; max_depth=12; num_leaves=861; min_data_in_leaf=657 : y = 0.942 : 703.0 secs : infill_ei\n",
            "\n",
            "Saved the current state after iteration 69 in the file bayesiana.RDATA.\n",
            "\n",
            "mar sept 09 22:46:03 2025 AUC 0.940487031818347\n",
            "\n",
            "[mbo] 69: min_sum_hessian_in_leaf=0.0185; learning_rate=0.0229; feature_fraction=0.956; bagging_fraction=0.648; lambda_l1=1.63; lambda_l2=8.23; min_gain_to_split=0.0461; drop_rate=0.152; skip_drop=0.799; bagging_freq=5; num_iterations=2307; max_depth=14; num_leaves=1423; min_data_in_leaf=586 : y = 0.94 : 712.7 secs : infill_ei\n",
            "\n",
            "Saved the current state after iteration 70 in the file bayesiana.RDATA.\n",
            "\n",
            "mar sept 09 22:48:27 2025 AUC 0.913615003228625\n",
            "\n",
            "[mbo] 70: min_sum_hessian_in_leaf=0.058; learning_rate=0.0656; feature_fraction=0.866; bagging_fraction=0.313; lambda_l1=7.38; lambda_l2=0.222; min_gain_to_split=9.87; drop_rate=0.0177; skip_drop=0.231; bagging_freq=10; num_iterations=2084; max_depth=7; num_leaves=1581; min_data_in_leaf=5975 : y = 0.914 : 140.4 secs : infill_ei\n",
            "\n",
            "mar sept 09 23:02:49 2025 AUC 0.930592078856352\n",
            "\n",
            "[mbo] 71: min_sum_hessian_in_leaf=0.0419; learning_rate=0.0274; feature_fraction=0.96; bagging_fraction=0.818; lambda_l1=2.35; lambda_l2=2.5; min_gain_to_split=1.08; drop_rate=0.138; skip_drop=0.226; bagging_freq=5; num_iterations=2383; max_depth=12; num_leaves=1286; min_data_in_leaf=188 : y = 0.931 : 858.9 secs : infill_ei\n",
            "\n",
            "Saved the current state after iteration 72 in the file bayesiana.RDATA.\n",
            "\n",
            "mar sept 09 23:09:24 2025 AUC 0.936179540855764\n",
            "\n",
            "[mbo] 72: min_sum_hessian_in_leaf=0.0134; learning_rate=0.0586; feature_fraction=0.256; bagging_fraction=0.657; lambda_l1=0.791; lambda_l2=5.34; min_gain_to_split=0.435; drop_rate=0.128; skip_drop=0.684; bagging_freq=7; num_iterations=1815; max_depth=14; num_leaves=724; min_data_in_leaf=2245 : y = 0.936 : 391.8 secs : infill_ei\n",
            "\n",
            "mar sept 09 23:20:44 2025 AUC 0.925970748945438\n",
            "\n",
            "[mbo] 73: min_sum_hessian_in_leaf=0.0304; learning_rate=0.0649; feature_fraction=0.888; bagging_fraction=0.705; lambda_l1=4.21; lambda_l2=9.41; min_gain_to_split=6.24; drop_rate=0.179; skip_drop=0.33; bagging_freq=10; num_iterations=2709; max_depth=4; num_leaves=1057; min_data_in_leaf=1874 : y = 0.926 : 677.0 secs : infill_ei\n",
            "\n",
            "Saved the current state after iteration 74 in the file bayesiana.RDATA.\n",
            "\n",
            "mar sept 09 23:27:40 2025 AUC 0.935160923179837\n",
            "\n",
            "[mbo] 74: min_sum_hessian_in_leaf=0.0232; learning_rate=0.0913; feature_fraction=0.482; bagging_fraction=0.906; lambda_l1=6.05; lambda_l2=1.43; min_gain_to_split=0.066; drop_rate=0.107; skip_drop=0.795; bagging_freq=7; num_iterations=2402; max_depth=13; num_leaves=1207; min_data_in_leaf=5531 : y = 0.935 : 412.3 secs : infill_ei\n",
            "\n",
            "mar sept 09 23:31:03 2025 AUC 0.934114162133323\n",
            "\n",
            "[mbo] 75: min_sum_hessian_in_leaf=0.046; learning_rate=0.0732; feature_fraction=0.538; bagging_fraction=0.948; lambda_l1=5.54; lambda_l2=4.75; min_gain_to_split=0.0812; drop_rate=0.0275; skip_drop=0.784; bagging_freq=5; num_iterations=1551; max_depth=-1; num_leaves=528; min_data_in_leaf=7122 : y = 0.934 : 199.9 secs : infill_ei\n",
            "\n",
            "Saved the current state after iteration 76 in the file bayesiana.RDATA.\n",
            "\n",
            "mar sept 09 23:32:28 2025 AUC 0.9188527916714\n",
            "\n",
            "[mbo] 76: min_sum_hessian_in_leaf=0.0432; learning_rate=0.0263; feature_fraction=0.141; bagging_fraction=0.412; lambda_l1=2.06; lambda_l2=7.6; min_gain_to_split=0.809; drop_rate=0.267; skip_drop=0.596; bagging_freq=8; num_iterations=683; max_depth=2; num_leaves=1799; min_data_in_leaf=81 : y = 0.919 : 81.7 secs : infill_ei\n",
            "\n",
            "mar sept 09 23:38:27 2025 AUC 0.937805355292003\n",
            "\n",
            "[mbo] 77: min_sum_hessian_in_leaf=0.0301; learning_rate=0.0525; feature_fraction=0.85; bagging_fraction=0.874; lambda_l1=4.38; lambda_l2=0.947; min_gain_to_split=0.0558; drop_rate=0.248; skip_drop=0.799; bagging_freq=5; num_iterations=2207; max_depth=14; num_leaves=551; min_data_in_leaf=4767 : y = 0.938 : 356.4 secs : infill_ei\n",
            "\n",
            "mar sept 09 23:43:05 2025 AUC 0.920051582035068\n",
            "\n",
            "[mbo] 78: min_sum_hessian_in_leaf=0.0788; learning_rate=0.0247; feature_fraction=0.85; bagging_fraction=0.58; lambda_l1=8.17; lambda_l2=2.56; min_gain_to_split=11.8; drop_rate=0.285; skip_drop=0.745; bagging_freq=6; num_iterations=2988; max_depth=14; num_leaves=1301; min_data_in_leaf=7194 : y = 0.92 : 273.8 secs : infill_ei\n",
            "\n",
            "Saved the current state after iteration 79 in the file bayesiana.RDATA.\n",
            "\n",
            "mar sept 09 23:48:05 2025 AUC 0.931643426778172\n",
            "\n",
            "[mbo] 79: min_sum_hessian_in_leaf=0.0609; learning_rate=0.0514; feature_fraction=0.363; bagging_fraction=0.485; lambda_l1=2.56; lambda_l2=0.394; min_gain_to_split=1.17; drop_rate=0.215; skip_drop=0.796; bagging_freq=4; num_iterations=2262; max_depth=15; num_leaves=1952; min_data_in_leaf=3843 : y = 0.932 : 296.7 secs : infill_ei\n",
            "\n",
            "mar sept 09 23:54:18 2025 AUC 0.904236825761108\n",
            "\n",
            "[mbo] 80: min_sum_hessian_in_leaf=0.0221; learning_rate=0.0635; feature_fraction=0.917; bagging_fraction=0.685; lambda_l1=4.73; lambda_l2=1.04; min_gain_to_split=6.4; drop_rate=0.0791; skip_drop=0.103; bagging_freq=2; num_iterations=2461; max_depth=1; num_leaves=2045; min_data_in_leaf=921 : y = 0.904 : 369.7 secs : infill_ei\n",
            "\n",
            "Saved the current state after iteration 81 in the file bayesiana.RDATA.\n",
            "\n",
            "mar sept 09 23:55:32 2025 AUC 0.915495632301732\n",
            "\n",
            "[mbo] 81: min_sum_hessian_in_leaf=0.016; learning_rate=0.0119; feature_fraction=0.316; bagging_fraction=0.269; lambda_l1=1.41; lambda_l2=3.94; min_gain_to_split=1.57; drop_rate=0.234; skip_drop=0.728; bagging_freq=8; num_iterations=776; max_depth=4; num_leaves=1863; min_data_in_leaf=3090 : y = 0.915 : 71.0 secs : infill_ei\n",
            "\n",
            "mié sept 10 00:06:18 2025 AUC 0.935915785565658\n",
            "\n",
            "[mbo] 82: min_sum_hessian_in_leaf=0.0622; learning_rate=0.034; feature_fraction=0.643; bagging_fraction=0.197; lambda_l1=0.532; lambda_l2=1.98; min_gain_to_split=0.779; drop_rate=0.171; skip_drop=0.766; bagging_freq=7; num_iterations=2876; max_depth=14; num_leaves=1645; min_data_in_leaf=393 : y = 0.936 : 643.3 secs : infill_ei\n",
            "\n",
            "Saved the current state after iteration 83 in the file bayesiana.RDATA.\n",
            "\n",
            "mié sept 10 00:08:15 2025 AUC 0.923506535605488\n",
            "\n",
            "[mbo] 83: min_sum_hessian_in_leaf=0.0308; learning_rate=0.0478; feature_fraction=0.189; bagging_fraction=0.178; lambda_l1=0.221; lambda_l2=2.37; min_gain_to_split=0.509; drop_rate=0.000477; skip_drop=0.741; bagging_freq=5; num_iterations=2751; max_depth=15; num_leaves=1464; min_data_in_leaf=2877 : y = 0.924 : 113.0 secs : infill_ei\n",
            "\n",
            "mié sept 10 00:12:00 2025 AUC 0.919759470412333\n",
            "\n",
            "[mbo] 84: min_sum_hessian_in_leaf=0.0364; learning_rate=0.0559; feature_fraction=0.928; bagging_fraction=0.183; lambda_l1=2.76; lambda_l2=2.74; min_gain_to_split=14.2; drop_rate=0.0596; skip_drop=0.458; bagging_freq=7; num_iterations=2822; max_depth=3; num_leaves=1896; min_data_in_leaf=208 : y = 0.92 : 221.3 secs : infill_ei\n",
            "\n",
            "mié sept 10 00:16:04 2025 AUC 0.931121355949863\n",
            "\n",
            "[mbo] 85: min_sum_hessian_in_leaf=0.0576; learning_rate=0.0987; feature_fraction=0.917; bagging_fraction=0.823; lambda_l1=5.7; lambda_l2=2.45; min_gain_to_split=0.0146; drop_rate=0.199; skip_drop=0.721; bagging_freq=6; num_iterations=2124; max_depth=4; num_leaves=681; min_data_in_leaf=7578 : y = 0.931 : 241.5 secs : infill_ei\n",
            "\n",
            "mié sept 10 00:23:56 2025 AUC 0.937962400787983\n",
            "\n",
            "[mbo] 86: min_sum_hessian_in_leaf=0.0691; learning_rate=0.0435; feature_fraction=0.649; bagging_fraction=0.541; lambda_l1=5.5; lambda_l2=2.35; min_gain_to_split=0.0153; drop_rate=0.258; skip_drop=0.774; bagging_freq=6; num_iterations=1570; max_depth=13; num_leaves=1198; min_data_in_leaf=443 : y = 0.938 : 467.9 secs : infill_ei\n",
            "\n",
            "Saved the current state after iteration 87 in the file bayesiana.RDATA.\n",
            "\n",
            "mié sept 10 00:27:52 2025 AUC 0.924207500287297\n",
            "\n",
            "[mbo] 87: min_sum_hessian_in_leaf=0.071; learning_rate=0.0491; feature_fraction=0.498; bagging_fraction=0.842; lambda_l1=6.18; lambda_l2=1.46; min_gain_to_split=0.0336; drop_rate=0.1; skip_drop=0.763; bagging_freq=3; num_iterations=2718; max_depth=1; num_leaves=296; min_data_in_leaf=1870 : y = 0.924 : 231.8 secs : infill_ei\n",
            "\n",
            "mié sept 10 00:43:52 2025 AUC 0.942081450992558\n",
            "\n",
            "[mbo] 88: min_sum_hessian_in_leaf=0.0389; learning_rate=0.0249; feature_fraction=0.784; bagging_fraction=0.65; lambda_l1=1.27; lambda_l2=0.381; min_gain_to_split=0.052; drop_rate=0.187; skip_drop=0.686; bagging_freq=3; num_iterations=2899; max_depth=15; num_leaves=1451; min_data_in_leaf=1175 : y = 0.942 : 956.1 secs : infill_ei\n",
            "\n",
            "Saved the current state after iteration 89 in the file bayesiana.RDATA.\n",
            "\n",
            "mié sept 10 00:52:46 2025 AUC 0.939439409993551\n",
            "\n",
            "[mbo] 89: min_sum_hessian_in_leaf=0.00572; learning_rate=0.0646; feature_fraction=0.88; bagging_fraction=0.957; lambda_l1=6.11; lambda_l2=1.47; min_gain_to_split=0.256; drop_rate=0.127; skip_drop=0.764; bagging_freq=6; num_iterations=1973; max_depth=11; num_leaves=506; min_data_in_leaf=299 : y = 0.939 : 530.5 secs : infill_ei\n",
            "\n",
            "mié sept 10 00:59:20 2025 AUC 0.933430256213156\n",
            "\n",
            "[mbo] 90: min_sum_hessian_in_leaf=0.0661; learning_rate=0.0766; feature_fraction=0.478; bagging_fraction=0.963; lambda_l1=1.82; lambda_l2=7.71; min_gain_to_split=0.421; drop_rate=0.217; skip_drop=0.675; bagging_freq=5; num_iterations=2407; max_depth=12; num_leaves=593; min_data_in_leaf=7685 : y = 0.933 : 390.9 secs : infill_ei\n",
            "\n",
            "Saved the current state after iteration 91 in the file bayesiana.RDATA.\n",
            "\n",
            "mié sept 10 01:28:48 2025 AUC 0.940856526406177\n",
            "\n",
            "[mbo] 91: min_sum_hessian_in_leaf=0.0314; learning_rate=0.078; feature_fraction=0.71; bagging_fraction=0.882; lambda_l1=1.14; lambda_l2=3.4; min_gain_to_split=0.637; drop_rate=0.234; skip_drop=0.39; bagging_freq=8; num_iterations=2866; max_depth=12; num_leaves=1072; min_data_in_leaf=186 : y = 0.941 : 1764.1 secs : infill_ei\n",
            "\n",
            "Saved the current state after iteration 92 in the file bayesiana.RDATA.\n",
            "\n",
            "mié sept 10 01:47:39 2025 AUC 0.942961212796602\n",
            "\n",
            "[mbo] 92: min_sum_hessian_in_leaf=0.0352; learning_rate=0.07; feature_fraction=0.669; bagging_fraction=0.949; lambda_l1=1.8; lambda_l2=2.36; min_gain_to_split=0.117; drop_rate=0.221; skip_drop=0.762; bagging_freq=9; num_iterations=2191; max_depth=12; num_leaves=1020; min_data_in_leaf=15 : y = 0.943 : 1126.8 secs : infill_ei\n",
            "\n",
            "Saved the current state after iteration 93 in the file bayesiana.RDATA.\n",
            "\n",
            "mié sept 10 01:59:33 2025 AUC 0.939504812161657\n",
            "\n",
            "[mbo] 93: min_sum_hessian_in_leaf=0.045; learning_rate=0.0552; feature_fraction=0.854; bagging_fraction=0.919; lambda_l1=1.36; lambda_l2=0.422; min_gain_to_split=0.442; drop_rate=0.18; skip_drop=0.689; bagging_freq=8; num_iterations=2417; max_depth=11; num_leaves=89; min_data_in_leaf=1534 : y = 0.94 : 709.7 secs : infill_ei\n",
            "\n",
            "Saved the current state after iteration 94 in the file bayesiana.RDATA.\n",
            "\n",
            "mié sept 10 02:08:10 2025 AUC 0.924968312686859\n",
            "\n",
            "[mbo] 94: min_sum_hessian_in_leaf=0.0472; learning_rate=0.055; feature_fraction=0.824; bagging_fraction=0.535; lambda_l1=1.64; lambda_l2=3.27; min_gain_to_split=11.9; drop_rate=0.235; skip_drop=0.222; bagging_freq=7; num_iterations=2225; max_depth=14; num_leaves=419; min_data_in_leaf=33 : y = 0.925 : 513.1 secs : infill_ei\n",
            "\n",
            "mié sept 10 02:24:13 2025 AUC 0.938441438317678\n",
            "\n",
            "[mbo] 95: min_sum_hessian_in_leaf=0.0238; learning_rate=0.079; feature_fraction=0.58; bagging_fraction=0.765; lambda_l1=3.04; lambda_l2=5.01; min_gain_to_split=0.405; drop_rate=0.205; skip_drop=0.679; bagging_freq=9; num_iterations=2854; max_depth=14; num_leaves=1041; min_data_in_leaf=508 : y = 0.938 : 959.2 secs : infill_ei\n",
            "\n",
            "Saved the current state after iteration 96 in the file bayesiana.RDATA.\n",
            "\n",
            "mié sept 10 02:39:59 2025 AUC 0.934992993218246\n",
            "\n",
            "[mbo] 96: min_sum_hessian_in_leaf=0.0706; learning_rate=0.0759; feature_fraction=0.377; bagging_fraction=0.947; lambda_l1=3.5; lambda_l2=8.66; min_gain_to_split=1.51; drop_rate=0.161; skip_drop=0.296; bagging_freq=7; num_iterations=2337; max_depth=13; num_leaves=602; min_data_in_leaf=77 : y = 0.935 : 942.5 secs : infill_ei\n",
            "\n",
            "Saved the current state after iteration 97 in the file bayesiana.RDATA.\n",
            "\n",
            "mié sept 10 02:52:02 2025 AUC 0.934780434755484\n",
            "\n",
            "[mbo] 97: min_sum_hessian_in_leaf=0.0331; learning_rate=0.0642; feature_fraction=0.734; bagging_fraction=0.972; lambda_l1=9.11; lambda_l2=8.83; min_gain_to_split=0.126; drop_rate=0.199; skip_drop=0.548; bagging_freq=9; num_iterations=2656; max_depth=8; num_leaves=747; min_data_in_leaf=4659 : y = 0.935 : 719.7 secs : infill_ei\n",
            "\n",
            "Saved the current state after iteration 98 in the file bayesiana.RDATA.\n",
            "\n",
            "mié sept 10 03:01:45 2025 AUC 0.933819582120733\n",
            "\n",
            "[mbo] 98: min_sum_hessian_in_leaf=0.0713; learning_rate=0.0979; feature_fraction=0.532; bagging_fraction=0.985; lambda_l1=6.71; lambda_l2=2.62; min_gain_to_split=0.395; drop_rate=0.292; skip_drop=0.375; bagging_freq=7; num_iterations=1985; max_depth=9; num_leaves=824; min_data_in_leaf=5021 : y = 0.934 : 578.8 secs : infill_ei\n",
            "\n",
            "mié sept 10 03:02:42 2025 AUC 0.932761591728863\n",
            "\n",
            "[mbo] 99: min_sum_hessian_in_leaf=0.0274; learning_rate=0.0461; feature_fraction=0.835; bagging_fraction=0.352; lambda_l1=0.243; lambda_l2=8.47; min_gain_to_split=0.31; drop_rate=0.019; skip_drop=0.79; bagging_freq=7; num_iterations=601; max_depth=9; num_leaves=1378; min_data_in_leaf=1615 : y = 0.933 : 53.1 secs : infill_ei\n",
            "\n",
            "Saved the current state after iteration 100 in the file bayesiana.RDATA.\n",
            "\n",
            "mié sept 10 03:05:16 2025 AUC 0.919264988560596\n",
            "\n",
            "[mbo] 100: min_sum_hessian_in_leaf=0.0157; learning_rate=0.0845; feature_fraction=0.957; bagging_fraction=0.185; lambda_l1=2.77; lambda_l2=1.34; min_gain_to_split=11.8; drop_rate=0.0947; skip_drop=0.551; bagging_freq=8; num_iterations=1807; max_depth=7; num_leaves=192; min_data_in_leaf=1636 : y = 0.919 : 148.6 secs : infill_ei\n",
            "\n",
            "Saved the final state in the file bayesiana.RDATA\n",
            "\n"
          ]
        }
      ],
      "source": [
        "# inicio la optimizacion bayesiana, retomando si ya existe\n",
        "# es la celda mas lenta de todo el notebook\n",
        "\n",
        "if (!file.exists(kbayesiana)) {\n",
        "  bayesiana_salida <- mbo(obj.fun, learner= surr.km, control= ctrl)\n",
        "} else {\n",
        "  bayesiana_salida <- mboContinue(kbayesiana) # retomo en caso que ya exista\n",
        "}"
      ]
    },
    {
      "cell_type": "code",
      "execution_count": 25,
      "metadata": {
        "id": "ssk5nnMk6INK",
        "vscode": {
          "languageId": "r"
        }
      },
      "outputs": [
        {
          "data": {
            "text/html": [
              "<style>\n",
              ".list-inline {list-style: none; margin:0; padding: 0}\n",
              ".list-inline>li {display: inline-block}\n",
              ".list-inline>li:not(:last-child)::after {content: \"\\00b7\"; padding: 0 .5ex}\n",
              "</style>\n",
              "<ol class=list-inline><li>'min_sum_hessian_in_leaf'</li><li>'learning_rate'</li><li>'feature_fraction'</li><li>'bagging_fraction'</li><li>'lambda_l1'</li><li>'lambda_l2'</li><li>'min_gain_to_split'</li><li>'drop_rate'</li><li>'skip_drop'</li><li>'bagging_freq'</li><li>'num_iterations'</li><li>'max_depth'</li><li>'num_leaves'</li><li>'min_data_in_leaf'</li><li>'y'</li><li>'dob'</li><li>'eol'</li><li>'error.message'</li><li>'exec.time'</li><li>'ei'</li><li>'error.model'</li><li>'train.time'</li><li>'prop.type'</li><li>'propose.time'</li><li>'se'</li><li>'mean'</li></ol>\n"
            ],
            "text/latex": [
              "\\begin{enumerate*}\n",
              "\\item 'min\\_sum\\_hessian\\_in\\_leaf'\n",
              "\\item 'learning\\_rate'\n",
              "\\item 'feature\\_fraction'\n",
              "\\item 'bagging\\_fraction'\n",
              "\\item 'lambda\\_l1'\n",
              "\\item 'lambda\\_l2'\n",
              "\\item 'min\\_gain\\_to\\_split'\n",
              "\\item 'drop\\_rate'\n",
              "\\item 'skip\\_drop'\n",
              "\\item 'bagging\\_freq'\n",
              "\\item 'num\\_iterations'\n",
              "\\item 'max\\_depth'\n",
              "\\item 'num\\_leaves'\n",
              "\\item 'min\\_data\\_in\\_leaf'\n",
              "\\item 'y'\n",
              "\\item 'dob'\n",
              "\\item 'eol'\n",
              "\\item 'error.message'\n",
              "\\item 'exec.time'\n",
              "\\item 'ei'\n",
              "\\item 'error.model'\n",
              "\\item 'train.time'\n",
              "\\item 'prop.type'\n",
              "\\item 'propose.time'\n",
              "\\item 'se'\n",
              "\\item 'mean'\n",
              "\\end{enumerate*}\n"
            ],
            "text/markdown": [
              "1. 'min_sum_hessian_in_leaf'\n",
              "2. 'learning_rate'\n",
              "3. 'feature_fraction'\n",
              "4. 'bagging_fraction'\n",
              "5. 'lambda_l1'\n",
              "6. 'lambda_l2'\n",
              "7. 'min_gain_to_split'\n",
              "8. 'drop_rate'\n",
              "9. 'skip_drop'\n",
              "10. 'bagging_freq'\n",
              "11. 'num_iterations'\n",
              "12. 'max_depth'\n",
              "13. 'num_leaves'\n",
              "14. 'min_data_in_leaf'\n",
              "15. 'y'\n",
              "16. 'dob'\n",
              "17. 'eol'\n",
              "18. 'error.message'\n",
              "19. 'exec.time'\n",
              "20. 'ei'\n",
              "21. 'error.model'\n",
              "22. 'train.time'\n",
              "23. 'prop.type'\n",
              "24. 'propose.time'\n",
              "25. 'se'\n",
              "26. 'mean'\n",
              "\n",
              "\n"
            ],
            "text/plain": [
              " [1] \"min_sum_hessian_in_leaf\" \"learning_rate\"          \n",
              " [3] \"feature_fraction\"        \"bagging_fraction\"       \n",
              " [5] \"lambda_l1\"               \"lambda_l2\"              \n",
              " [7] \"min_gain_to_split\"       \"drop_rate\"              \n",
              " [9] \"skip_drop\"               \"bagging_freq\"           \n",
              "[11] \"num_iterations\"          \"max_depth\"              \n",
              "[13] \"num_leaves\"              \"min_data_in_leaf\"       \n",
              "[15] \"y\"                       \"dob\"                    \n",
              "[17] \"eol\"                     \"error.message\"          \n",
              "[19] \"exec.time\"               \"ei\"                     \n",
              "[21] \"error.model\"             \"train.time\"             \n",
              "[23] \"prop.type\"               \"propose.time\"           \n",
              "[25] \"se\"                      \"mean\"                   "
            ]
          },
          "metadata": {},
          "output_type": "display_data"
        }
      ],
      "source": [
        "\n",
        "tb_bayesiana <- as.data.table(bayesiana_salida$opt.path)\n",
        "colnames( tb_bayesiana)"
      ]
    },
    {
      "cell_type": "code",
      "execution_count": 26,
      "metadata": {
        "id": "u4zq-vknhjGc",
        "vscode": {
          "languageId": "r"
        }
      },
      "outputs": [],
      "source": [
        "# almaceno los resultados de la Bayesian Optimization\n",
        "# y capturo los mejores hiperparametros encontrados\n",
        "\n",
        "tb_bayesiana <- as.data.table(bayesiana_salida$opt.path)\n",
        "\n",
        "tb_bayesiana[, iter := .I]\n",
        "\n",
        "# ordeno en forma descendente por AUC = y\n",
        "setorder(tb_bayesiana, -y)\n",
        "\n",
        "# grabo para eventualmente poder utilizarlos en OTRA corrida\n",
        "fwrite( tb_bayesiana,\n",
        "  file= \"BO_log.txt\",\n",
        "  sep= \"\\t\"\n",
        ")\n",
        "\n",
        "# los mejores hiperparámetros son los que quedaron en el registro 1 de la tabla\n",
        "PARAM$out$lgbm$mejores_hiperparametros <- tb_bayesiana[\n",
        "  1, # el primero es el de mejor AUC\n",
        "  setdiff(colnames(tb_bayesiana),\n",
        "    c(\"y\",\"dob\",\"eol\",\"error.message\",\"exec.time\",\"ei\",\"error.model\",\n",
        "      \"train.time\",\"prop.type\",\"propose.time\",\"se\",\"mean\",\"iter\")),\n",
        "  with= FALSE\n",
        "]\n",
        "\n",
        "\n",
        "PARAM$out$lgbm$y <- tb_bayesiana[1, y]\n"
      ]
    },
    {
      "cell_type": "code",
      "execution_count": 27,
      "metadata": {
        "id": "E8v2eA427N8e",
        "vscode": {
          "languageId": "r"
        }
      },
      "outputs": [],
      "source": [
        "write_yaml( PARAM, file=\"PARAM.yml\")"
      ]
    },
    {
      "cell_type": "code",
      "execution_count": 28,
      "metadata": {
        "id": "iBTWexVU7PGC",
        "vscode": {
          "languageId": "r"
        }
      },
      "outputs": [
        {
          "name": "stdout",
          "output_type": "stream",
          "text": [
            "   min_sum_hessian_in_leaf learning_rate feature_fraction bagging_fraction\n",
            "                     <num>         <num>            <num>            <num>\n",
            "1:              0.03523795     0.0700093        0.6690653        0.9490821\n",
            "   lambda_l1 lambda_l2 min_gain_to_split drop_rate skip_drop bagging_freq\n",
            "       <num>     <num>             <num>     <num>     <num>        <int>\n",
            "1:  1.800943  2.364962         0.1165746 0.2210104 0.7621519            9\n",
            "   num_iterations max_depth num_leaves min_data_in_leaf\n",
            "            <int>     <int>      <int>            <int>\n",
            "1:           2191        12       1020               15\n",
            "[1] 0.9429612\n"
          ]
        }
      ],
      "source": [
        "print(PARAM$out$lgbm$mejores_hiperparametros)\n",
        "print(PARAM$out$lgbm$y)"
      ]
    },
    {
      "cell_type": "markdown",
      "metadata": {
        "id": "TKsVZmAnhwX-"
      },
      "source": [
        "## 2.3  Produccion"
      ]
    },
    {
      "cell_type": "markdown",
      "metadata": {
        "id": "RQ_C33Tr5B_9"
      },
      "source": [
        "### Final Training\n",
        "Construyo el modelo final, que es uno solo, no hace ningun tipo de particion < training, validation, testing>]"
      ]
    },
    {
      "cell_type": "markdown",
      "metadata": {
        "id": "8qFmFivf5Iet"
      },
      "source": [
        "#### Final Training Dataset\n",
        "\n",
        "Aqui esta la gran decision de en qué meses hago el Final Training\n",
        "<br> debo utilizar los mejores hiperparámetros que encontré en la  optimización bayesiana"
      ]
    },
    {
      "cell_type": "code",
      "execution_count": 29,
      "metadata": {
        "id": "lg5WVZncvc7H",
        "vscode": {
          "languageId": "r"
        }
      },
      "outputs": [],
      "source": [
        "# clase01\n",
        "dataset[, clase01 := ifelse(clase_ternaria %in% c(\"BAJA+1\", \"BAJA+2\"), 1L, 0L)]"
      ]
    },
    {
      "cell_type": "code",
      "execution_count": 30,
      "metadata": {
        "id": "yc9QzXREv0xf",
        "vscode": {
          "languageId": "r"
        }
      },
      "outputs": [
        {
          "data": {
            "text/html": [
              "<table class=\"dataframe\">\n",
              "<caption>A data.table: 3 × 2</caption>\n",
              "<thead>\n",
              "\t<tr><th scope=col>clase_ternaria</th><th scope=col>N</th></tr>\n",
              "\t<tr><th scope=col>&lt;fct&gt;</th><th scope=col>&lt;int&gt;</th></tr>\n",
              "</thead>\n",
              "<tbody>\n",
              "\t<tr><td>CONTINUA</td><td>320372</td></tr>\n",
              "\t<tr><td>BAJA+2  </td><td>  1857</td></tr>\n",
              "\t<tr><td>BAJA+1  </td><td>  1453</td></tr>\n",
              "</tbody>\n",
              "</table>\n"
            ],
            "text/latex": [
              "A data.table: 3 × 2\n",
              "\\begin{tabular}{ll}\n",
              " clase\\_ternaria & N\\\\\n",
              " <fct> & <int>\\\\\n",
              "\\hline\n",
              "\t CONTINUA & 320372\\\\\n",
              "\t BAJA+2   &   1857\\\\\n",
              "\t BAJA+1   &   1453\\\\\n",
              "\\end{tabular}\n"
            ],
            "text/markdown": [
              "\n",
              "A data.table: 3 × 2\n",
              "\n",
              "| clase_ternaria &lt;fct&gt; | N &lt;int&gt; |\n",
              "|---|---|\n",
              "| CONTINUA | 320372 |\n",
              "| BAJA+2   |   1857 |\n",
              "| BAJA+1   |   1453 |\n",
              "\n"
            ],
            "text/plain": [
              "  clase_ternaria N     \n",
              "1 CONTINUA       320372\n",
              "2 BAJA+2           1857\n",
              "3 BAJA+1           1453"
            ]
          },
          "metadata": {},
          "output_type": "display_data"
        }
      ],
      "source": [
        "dataset_train <- dataset[foto_mes %in% PARAM$train_final]\n",
        "dataset_train[,.N,clase_ternaria]"
      ]
    },
    {
      "cell_type": "code",
      "execution_count": 31,
      "metadata": {
        "id": "thjdqEBLuvNt",
        "vscode": {
          "languageId": "r"
        }
      },
      "outputs": [],
      "source": [
        "# dejo los datos en el formato que necesita LightGBM\n",
        "\n",
        "dtrain_final <- lgb.Dataset(\n",
        "  data= data.matrix(dataset_train[, campos_buenos, with= FALSE]),\n",
        "  label= dataset_train[, clase01]\n",
        ")"
      ]
    },
    {
      "cell_type": "markdown",
      "metadata": {
        "id": "VNUa-WSz5Oqu"
      },
      "source": [
        "#### Final Training Hyperparameters"
      ]
    },
    {
      "cell_type": "code",
      "execution_count": 32,
      "metadata": {
        "id": "FgCcvBfEwImu",
        "vscode": {
          "languageId": "r"
        }
      },
      "outputs": [
        {
          "data": {
            "text/html": [
              "<dl>\n",
              "\t<dt>$boosting</dt>\n",
              "\t\t<dd>'dart'</dd>\n",
              "\t<dt>$objective</dt>\n",
              "\t\t<dd>'binary'</dd>\n",
              "\t<dt>$metric</dt>\n",
              "\t\t<dd>'auc'</dd>\n",
              "\t<dt>$first_metric_only</dt>\n",
              "\t\t<dd>FALSE</dd>\n",
              "\t<dt>$boost_from_average</dt>\n",
              "\t\t<dd>TRUE</dd>\n",
              "\t<dt>$feature_pre_filter</dt>\n",
              "\t\t<dd>FALSE</dd>\n",
              "\t<dt>$force_row_wise</dt>\n",
              "\t\t<dd>TRUE</dd>\n",
              "\t<dt>$verbosity</dt>\n",
              "\t\t<dd>-100</dd>\n",
              "\t<dt>$seed</dt>\n",
              "\t\t<dd>200003</dd>\n",
              "\t<dt>$max_depth</dt>\n",
              "\t\t<dd>12</dd>\n",
              "\t<dt>$min_gain_to_split</dt>\n",
              "\t\t<dd>0.116574641117095</dd>\n",
              "\t<dt>$min_sum_hessian_in_leaf</dt>\n",
              "\t\t<dd>0.0352379458467648</dd>\n",
              "\t<dt>$lambda_l1</dt>\n",
              "\t\t<dd>1.80094342377781</dd>\n",
              "\t<dt>$lambda_l2</dt>\n",
              "\t\t<dd>2.36496166820127</dd>\n",
              "\t<dt>$max_bin</dt>\n",
              "\t\t<dd>31</dd>\n",
              "\t<dt>$bagging_fraction</dt>\n",
              "\t\t<dd>0.949082099285621</dd>\n",
              "\t<dt>$pos_bagging_fraction</dt>\n",
              "\t\t<dd>1</dd>\n",
              "\t<dt>$neg_bagging_fraction</dt>\n",
              "\t\t<dd>1</dd>\n",
              "\t<dt>$is_unbalance</dt>\n",
              "\t\t<dd>FALSE</dd>\n",
              "\t<dt>$scale_pos_weight</dt>\n",
              "\t\t<dd>1</dd>\n",
              "\t<dt>$drop_rate</dt>\n",
              "\t\t<dd>0.221010370834012</dd>\n",
              "\t<dt>$max_drop</dt>\n",
              "\t\t<dd>50</dd>\n",
              "\t<dt>$skip_drop</dt>\n",
              "\t\t<dd>0.762151885033963</dd>\n",
              "\t<dt>$extra_trees</dt>\n",
              "\t\t<dd>FALSE</dd>\n",
              "\t<dt>$num_iterations</dt>\n",
              "\t\t<dd>2191</dd>\n",
              "\t<dt>$learning_rate</dt>\n",
              "\t\t<dd>0.0700093026150364</dd>\n",
              "\t<dt>$feature_fraction</dt>\n",
              "\t\t<dd>0.669065279180672</dd>\n",
              "\t<dt>$num_leaves</dt>\n",
              "\t\t<dd>1020</dd>\n",
              "\t<dt>$min_data_in_leaf</dt>\n",
              "\t\t<dd>15</dd>\n",
              "\t<dt>$bagging_freq</dt>\n",
              "\t\t<dd>9</dd>\n",
              "</dl>\n"
            ],
            "text/latex": [
              "\\begin{description}\n",
              "\\item[\\$boosting] 'dart'\n",
              "\\item[\\$objective] 'binary'\n",
              "\\item[\\$metric] 'auc'\n",
              "\\item[\\$first\\_metric\\_only] FALSE\n",
              "\\item[\\$boost\\_from\\_average] TRUE\n",
              "\\item[\\$feature\\_pre\\_filter] FALSE\n",
              "\\item[\\$force\\_row\\_wise] TRUE\n",
              "\\item[\\$verbosity] -100\n",
              "\\item[\\$seed] 200003\n",
              "\\item[\\$max\\_depth] 12\n",
              "\\item[\\$min\\_gain\\_to\\_split] 0.116574641117095\n",
              "\\item[\\$min\\_sum\\_hessian\\_in\\_leaf] 0.0352379458467648\n",
              "\\item[\\$lambda\\_l1] 1.80094342377781\n",
              "\\item[\\$lambda\\_l2] 2.36496166820127\n",
              "\\item[\\$max\\_bin] 31\n",
              "\\item[\\$bagging\\_fraction] 0.949082099285621\n",
              "\\item[\\$pos\\_bagging\\_fraction] 1\n",
              "\\item[\\$neg\\_bagging\\_fraction] 1\n",
              "\\item[\\$is\\_unbalance] FALSE\n",
              "\\item[\\$scale\\_pos\\_weight] 1\n",
              "\\item[\\$drop\\_rate] 0.221010370834012\n",
              "\\item[\\$max\\_drop] 50\n",
              "\\item[\\$skip\\_drop] 0.762151885033963\n",
              "\\item[\\$extra\\_trees] FALSE\n",
              "\\item[\\$num\\_iterations] 2191\n",
              "\\item[\\$learning\\_rate] 0.0700093026150364\n",
              "\\item[\\$feature\\_fraction] 0.669065279180672\n",
              "\\item[\\$num\\_leaves] 1020\n",
              "\\item[\\$min\\_data\\_in\\_leaf] 15\n",
              "\\item[\\$bagging\\_freq] 9\n",
              "\\end{description}\n"
            ],
            "text/markdown": [
              "$boosting\n",
              ":   'dart'\n",
              "$objective\n",
              ":   'binary'\n",
              "$metric\n",
              ":   'auc'\n",
              "$first_metric_only\n",
              ":   FALSE\n",
              "$boost_from_average\n",
              ":   TRUE\n",
              "$feature_pre_filter\n",
              ":   FALSE\n",
              "$force_row_wise\n",
              ":   TRUE\n",
              "$verbosity\n",
              ":   -100\n",
              "$seed\n",
              ":   200003\n",
              "$max_depth\n",
              ":   12\n",
              "$min_gain_to_split\n",
              ":   0.116574641117095\n",
              "$min_sum_hessian_in_leaf\n",
              ":   0.0352379458467648\n",
              "$lambda_l1\n",
              ":   1.80094342377781\n",
              "$lambda_l2\n",
              ":   2.36496166820127\n",
              "$max_bin\n",
              ":   31\n",
              "$bagging_fraction\n",
              ":   0.949082099285621\n",
              "$pos_bagging_fraction\n",
              ":   1\n",
              "$neg_bagging_fraction\n",
              ":   1\n",
              "$is_unbalance\n",
              ":   FALSE\n",
              "$scale_pos_weight\n",
              ":   1\n",
              "$drop_rate\n",
              ":   0.221010370834012\n",
              "$max_drop\n",
              ":   50\n",
              "$skip_drop\n",
              ":   0.762151885033963\n",
              "$extra_trees\n",
              ":   FALSE\n",
              "$num_iterations\n",
              ":   2191\n",
              "$learning_rate\n",
              ":   0.0700093026150364\n",
              "$feature_fraction\n",
              ":   0.669065279180672\n",
              "$num_leaves\n",
              ":   1020\n",
              "$min_data_in_leaf\n",
              ":   15\n",
              "$bagging_freq\n",
              ":   9\n",
              "\n",
              "\n"
            ],
            "text/plain": [
              "$boosting\n",
              "[1] \"dart\"\n",
              "\n",
              "$objective\n",
              "[1] \"binary\"\n",
              "\n",
              "$metric\n",
              "[1] \"auc\"\n",
              "\n",
              "$first_metric_only\n",
              "[1] FALSE\n",
              "\n",
              "$boost_from_average\n",
              "[1] TRUE\n",
              "\n",
              "$feature_pre_filter\n",
              "[1] FALSE\n",
              "\n",
              "$force_row_wise\n",
              "[1] TRUE\n",
              "\n",
              "$verbosity\n",
              "[1] -100\n",
              "\n",
              "$seed\n",
              "[1] 200003\n",
              "\n",
              "$max_depth\n",
              "[1] 12\n",
              "\n",
              "$min_gain_to_split\n",
              "[1] 0.1165746\n",
              "\n",
              "$min_sum_hessian_in_leaf\n",
              "[1] 0.03523795\n",
              "\n",
              "$lambda_l1\n",
              "[1] 1.800943\n",
              "\n",
              "$lambda_l2\n",
              "[1] 2.364962\n",
              "\n",
              "$max_bin\n",
              "[1] 31\n",
              "\n",
              "$bagging_fraction\n",
              "[1] 0.9490821\n",
              "\n",
              "$pos_bagging_fraction\n",
              "[1] 1\n",
              "\n",
              "$neg_bagging_fraction\n",
              "[1] 1\n",
              "\n",
              "$is_unbalance\n",
              "[1] FALSE\n",
              "\n",
              "$scale_pos_weight\n",
              "[1] 1\n",
              "\n",
              "$drop_rate\n",
              "[1] 0.2210104\n",
              "\n",
              "$max_drop\n",
              "[1] 50\n",
              "\n",
              "$skip_drop\n",
              "[1] 0.7621519\n",
              "\n",
              "$extra_trees\n",
              "[1] FALSE\n",
              "\n",
              "$num_iterations\n",
              "[1] 2191\n",
              "\n",
              "$learning_rate\n",
              "[1] 0.0700093\n",
              "\n",
              "$feature_fraction\n",
              "[1] 0.6690653\n",
              "\n",
              "$num_leaves\n",
              "[1] 1020\n",
              "\n",
              "$min_data_in_leaf\n",
              "[1] 15\n",
              "\n",
              "$bagging_freq\n",
              "[1] 9\n"
            ]
          },
          "metadata": {},
          "output_type": "display_data"
        }
      ],
      "source": [
        "param_final <- modifyList(PARAM$lgbm$param_fijos,\n",
        "  PARAM$out$lgbm$mejores_hiperparametros)\n",
        "\n",
        "param_final"
      ]
    },
    {
      "cell_type": "markdown",
      "metadata": {
        "id": "TZIYn4l95TBH"
      },
      "source": [
        "#### Training\n",
        "Genero el modelo final, siempre sobre TODOS los datos de  final_train, sin hacer ningun tipo de undersampling de la clase mayoritaria y mucho menos cross validation."
      ]
    },
    {
      "cell_type": "code",
      "execution_count": 33,
      "metadata": {
        "id": "vPLsd4mMRe4u",
        "vscode": {
          "languageId": "r"
        }
      },
      "outputs": [],
      "source": [
        "# este punto es muy SUTIL  y será revisado en la Clase 05\n",
        "\n",
        "param_normalizado <- copy(param_final)\n",
        "param_normalizado$min_data_in_leaf <-  round(param_final$min_data_in_leaf / PARAM$trainingstrategy$undersampling)"
      ]
    },
    {
      "cell_type": "code",
      "execution_count": 34,
      "metadata": {
        "id": "WRI_-taRwOXO",
        "vscode": {
          "languageId": "r"
        }
      },
      "outputs": [],
      "source": [
        "# entreno LightGBM\n",
        "\n",
        "modelo_final <- lgb.train(\n",
        "  data= dtrain_final,\n",
        "  param= param_normalizado\n",
        ")"
      ]
    },
    {
      "cell_type": "code",
      "execution_count": 35,
      "metadata": {
        "id": "_bkhnCvj0g3Q",
        "vscode": {
          "languageId": "r"
        }
      },
      "outputs": [],
      "source": [
        "# ahora imprimo la importancia de variables\n",
        "\n",
        "tb_importancia <- as.data.table(lgb.importance(modelo_final))\n",
        "archivo_importancia <- \"impo.txt\"\n",
        "\n",
        "fwrite(tb_importancia,\n",
        "  file= archivo_importancia,\n",
        "  sep= \"\\t\"\n",
        ")"
      ]
    },
    {
      "cell_type": "code",
      "execution_count": 36,
      "metadata": {
        "id": "lZ3sLmbh0kFj",
        "vscode": {
          "languageId": "r"
        }
      },
      "outputs": [],
      "source": [
        "# grabo a disco el modelo en un formato para seres humanos ... ponele ...\n",
        "lgb.save(modelo_final, \"modelo.txt\" )"
      ]
    },
    {
      "cell_type": "markdown",
      "metadata": {
        "id": "VEtp2--t5Ymg"
      },
      "source": [
        "### Scoring"
      ]
    },
    {
      "cell_type": "markdown",
      "metadata": {
        "id": "hI5008Mj5ZdI"
      },
      "source": [
        "Aplico el modelo final a los datos del futuro"
      ]
    },
    {
      "cell_type": "code",
      "execution_count": 37,
      "metadata": {
        "id": "PimBY3N_0ryP",
        "vscode": {
          "languageId": "r"
        }
      },
      "outputs": [],
      "source": [
        "# aplico el modelo a los datos sin clase\n",
        "dfuture <- dataset[foto_mes %in% PARAM$future]\n",
        "\n",
        "# aplico el modelo a los datos nuevos\n",
        "prediccion <- predict(\n",
        "  modelo_final,\n",
        "  data.matrix(dfuture[, campos_buenos, with= FALSE])\n",
        ")"
      ]
    },
    {
      "cell_type": "code",
      "execution_count": 38,
      "metadata": {
        "id": "M9_NCquymhtF",
        "vscode": {
          "languageId": "r"
        }
      },
      "outputs": [],
      "source": [
        "# inicilizo el dataset  drealidad\n",
        "drealidad <- realidad_inicializar( dfuture, PARAM)"
      ]
    },
    {
      "cell_type": "markdown",
      "metadata": {
        "id": "D26rNRh55gpw"
      },
      "source": [
        "#### Tabla Prediccion"
      ]
    },
    {
      "cell_type": "code",
      "execution_count": 39,
      "metadata": {
        "id": "RJwg7LHd11yu",
        "vscode": {
          "languageId": "r"
        }
      },
      "outputs": [],
      "source": [
        "# tabla de prediccion\n",
        "\n",
        "tb_prediccion <- dfuture[, list(numero_de_cliente, foto_mes)]\n",
        "tb_prediccion[, prob := prediccion ]\n",
        "\n",
        "# grabo las probabilidad del modelo\n",
        "fwrite(tb_prediccion,\n",
        "  file= \"prediccion.txt\",\n",
        "  sep= \"\\t\"\n",
        ")"
      ]
    },
    {
      "cell_type": "markdown",
      "metadata": {
        "id": "jOt4eG_55ltv"
      },
      "source": [
        "Kaggle Competition Submit"
      ]
    },
    {
      "cell_type": "code",
      "execution_count": 40,
      "metadata": {
        "id": "Vdu3moTfJ1Vl",
        "vscode": {
          "languageId": "r"
        }
      },
      "outputs": [
        {
          "data": {
            "text/html": [
              "<style>\n",
              ".list-inline {list-style: none; margin:0; padding: 0}\n",
              ".list-inline>li {display: inline-block}\n",
              ".list-inline>li:not(:last-child)::after {content: \"\\00b7\"; padding: 0 .5ex}\n",
              "</style>\n",
              "<ol class=list-inline><li>6000</li><li>6500</li><li>7000</li><li>7500</li><li>8000</li><li>8500</li><li>9000</li><li>9500</li><li>10000</li><li>10500</li><li>11000</li><li>11500</li><li>12000</li><li>12500</li><li>13000</li><li>13500</li><li>14000</li><li>14500</li><li>15000</li><li>15500</li><li>16000</li><li>16500</li><li>17000</li><li>17500</li><li>18000</li><li>18500</li><li>19000</li></ol>\n"
            ],
            "text/latex": [
              "\\begin{enumerate*}\n",
              "\\item 6000\n",
              "\\item 6500\n",
              "\\item 7000\n",
              "\\item 7500\n",
              "\\item 8000\n",
              "\\item 8500\n",
              "\\item 9000\n",
              "\\item 9500\n",
              "\\item 10000\n",
              "\\item 10500\n",
              "\\item 11000\n",
              "\\item 11500\n",
              "\\item 12000\n",
              "\\item 12500\n",
              "\\item 13000\n",
              "\\item 13500\n",
              "\\item 14000\n",
              "\\item 14500\n",
              "\\item 15000\n",
              "\\item 15500\n",
              "\\item 16000\n",
              "\\item 16500\n",
              "\\item 17000\n",
              "\\item 17500\n",
              "\\item 18000\n",
              "\\item 18500\n",
              "\\item 19000\n",
              "\\end{enumerate*}\n"
            ],
            "text/markdown": [
              "1. 6000\n",
              "2. 6500\n",
              "3. 7000\n",
              "4. 7500\n",
              "5. 8000\n",
              "6. 8500\n",
              "7. 9000\n",
              "8. 9500\n",
              "9. 10000\n",
              "10. 10500\n",
              "11. 11000\n",
              "12. 11500\n",
              "13. 12000\n",
              "14. 12500\n",
              "15. 13000\n",
              "16. 13500\n",
              "17. 14000\n",
              "18. 14500\n",
              "19. 15000\n",
              "20. 15500\n",
              "21. 16000\n",
              "22. 16500\n",
              "23. 17000\n",
              "24. 17500\n",
              "25. 18000\n",
              "26. 18500\n",
              "27. 19000\n",
              "\n",
              "\n"
            ],
            "text/plain": [
              " [1]  6000  6500  7000  7500  8000  8500  9000  9500 10000 10500 11000 11500\n",
              "[13] 12000 12500 13000 13500 14000 14500 15000 15500 16000 16500 17000 17500\n",
              "[25] 18000 18500 19000"
            ]
          },
          "metadata": {},
          "output_type": "display_data"
        }
      ],
      "source": [
        "PARAM$cortes"
      ]
    },
    {
      "cell_type": "code",
      "execution_count": 41,
      "metadata": {
        "id": "gWW3tatE12je",
        "vscode": {
          "languageId": "r"
        }
      },
      "outputs": [
        {
          "name": "stdout",
          "output_type": "stream",
          "text": [
            "Envios=6000\t TOTAL=313600000  Public=267000000 Private=333571429\n",
            "Envios=6500\t TOTAL=321200000  Public=280400000 Private=338685714\n",
            "Envios=7000\t TOTAL=319200000  Public=278133333 Private=336800000\n",
            "Envios=7500\t TOTAL=323600000  Public=276733333 Private=343685714\n",
            "Envios=8000\t TOTAL=326400000  Public=282333333 Private=345285714\n",
            "Envios=8500\t TOTAL=328400000  Public=286400000 Private=346400000\n",
            "Envios=9000\t TOTAL=325600000  Public=281133333 Private=344657143\n",
            "Envios=9500\t TOTAL=324400000  Public=278333333 Private=344142857\n",
            "Envios=10000\t TOTAL=325600000  Public=281866667 Private=344342857\n",
            "Envios=10500\t TOTAL=325200000  Public=283800000 Private=342942857\n",
            "Envios=11000\t TOTAL=322400000  Public=279066667 Private=340971429\n",
            "Envios=11500\t TOTAL=324400000  Public=274933333 Private=345600000\n",
            "Envios=12000\t TOTAL=323200000  Public=278733333 Private=342257143\n",
            "Envios=12500\t TOTAL=318800000  Public=276466667 Private=336942857\n",
            "Envios=13000\t TOTAL=317600000  Public=277133333 Private=334942857\n",
            "Envios=13500\t TOTAL=315600000  Public=277533333 Private=331914286\n",
            "Envios=14000\t TOTAL=318400000  Public=283333333 Private=333428571\n",
            "Envios=14500\t TOTAL=312400000  Public=281800000 Private=325514286\n",
            "Envios=15000\t TOTAL=312000000  Public=284666667 Private=323714286\n",
            "Envios=15500\t TOTAL=311600000  Public=282533333 Private=324057143\n",
            "Envios=16000\t TOTAL=308000000  Public=283400000 Private=318542857\n",
            "Envios=16500\t TOTAL=303600000  Public=281133333 Private=313228571\n",
            "Envios=17000\t TOTAL=304000000  Public=295200000 Private=307771429\n",
            "Envios=17500\t TOTAL=298000000  Public=286466667 Private=302942857\n",
            "Envios=18000\t TOTAL=294400000  Public=279000000 Private=301000000\n",
            "Envios=18500\t TOTAL=289200000  Public=267866667 Private=298342857\n",
            "Envios=19000\t TOTAL=287200000  Public=264200000 Private=297057143\n"
          ]
        }
      ],
      "source": [
        "# genero archivos con los  \"envios\" mejores\n",
        "# suba TODOS los archivos a Kaggle\n",
        "\n",
        "# ordeno por probabilidad descendente\n",
        "setorder(tb_prediccion, -prob)\n",
        "\n",
        "dir.create(\"kaggle\")\n",
        "\n",
        "for (envios in PARAM$cortes) {\n",
        "\n",
        "  tb_prediccion[, Predicted := 0L] # seteo inicial a 0\n",
        "  tb_prediccion[1:envios, Predicted := 1L] # marco los primeros\n",
        "\n",
        "  archivo_kaggle <- paste0(\"./kaggle/KA\", PARAM$experimento, \"_\", envios, \".csv\")\n",
        "\n",
        "  # grabo el archivo\n",
        "  fwrite(tb_prediccion[, list(numero_de_cliente, Predicted)],\n",
        "    file= archivo_kaggle,\n",
        "    sep= \",\"\n",
        "  )\n",
        "\n",
        "  res <- realidad_evaluar( drealidad, tb_prediccion)\n",
        "\n",
        "  options(scipen = 999)\n",
        "  cat( \"Envios=\", envios, \"\\t\",\n",
        "    \" TOTAL=\", res$total,\n",
        "    \"  Public=\", res$public,\n",
        "    \" Private=\", res$private,\n",
        "    \"\\n\",\n",
        "    sep= \"\"\n",
        "  )\n",
        "\n",
        "}"
      ]
    },
    {
      "cell_type": "code",
      "execution_count": 42,
      "metadata": {
        "id": "B9tB2X4439Hg",
        "vscode": {
          "languageId": "r"
        }
      },
      "outputs": [],
      "source": [
        "write_yaml( PARAM, file=\"PARAM.yml\")"
      ]
    },
    {
      "cell_type": "code",
      "execution_count": 43,
      "metadata": {
        "id": "9zA_W25c15DP",
        "vscode": {
          "languageId": "r"
        }
      },
      "outputs": [
        {
          "data": {
            "text/html": [
              "'mié sept 10 03:12:42 2025'"
            ],
            "text/latex": [
              "'mié sept 10 03:12:42 2025'"
            ],
            "text/markdown": [
              "'mié sept 10 03:12:42 2025'"
            ],
            "text/plain": [
              "[1] \"mié sept 10 03:12:42 2025\""
            ]
          },
          "metadata": {},
          "output_type": "display_data"
        }
      ],
      "source": [
        "format(Sys.time(), \"%a %b %d %X %Y\")"
      ]
    },
    {
      "cell_type": "markdown",
      "metadata": {
        "id": "UdVZucdLHzZ0"
      },
      "source": [
        "Finalmente usted deberá cargar el resultado de su corrida en la Google Sheet Colaborativa,  hoja **TareaHogar04**\n",
        "<br> Siéntase libre de agregar las columnas que hagan falta a la planilla"
      ]
    }
  ],
  "metadata": {
    "colab": {
      "provenance": []
    },
    "kernelspec": {
      "display_name": "R",
      "language": "R",
      "name": "ir"
    },
    "language_info": {
      "codemirror_mode": "r",
      "file_extension": ".r",
      "mimetype": "text/x-r-source",
      "name": "R",
      "pygments_lexer": "r",
      "version": "4.4.3"
    }
  },
  "nbformat": 4,
  "nbformat_minor": 0
}
