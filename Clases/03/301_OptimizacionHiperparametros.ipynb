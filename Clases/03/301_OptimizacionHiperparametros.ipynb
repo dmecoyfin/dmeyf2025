{
  "cells": [
    {
      "cell_type": "markdown",
      "metadata": {
        "id": "5DrvzQ9BsXmX"
      },
      "source": [
        "# 3 Optimización de Hiperpárametros"
      ]
    },
    {
      "cell_type": "markdown",
      "metadata": {
        "id": "ChXVnCOOuqOu"
      },
      "source": [
        "## 3.01 Introduccion\n",
        "En general los algoritmos que generan modelos predictivos poseen hiperparámetros que *dado un dataset* deben ser optimizados.\n",
        "<br> La invocación de uno de esos algoritmos sin hiperparámetros no es más que\n",
        "invocarlos con hiperparámetros por default definidos por el fabricante. Por ejemplo en el caso de la librería **rpart** es cp=0.01, maxdepth=30, minsplit=20, minbucket=6,  lo que en nuestro dataset genera un arbol de un solo nodo (decimos \"no se abre el arbol\"); la razon de esto es la proporcion de \"BAJA+1\" y \"BAJA+2\""
      ]
    },
    {
      "cell_type": "markdown",
      "metadata": {
        "id": "kXI3gt3iwNzg"
      },
      "source": [
        "En el primer notebook de la asignatura usted probó optimizar manualmente los hiperparámetros entrenando en un mes completo y viendo los resultados directamente en el Public Leaderboard, que es una porción de los datos de futuro.\n",
        "<br> En el mundo real no se dispone jamás de la clase del futuro, con lo cual lo anterior es meramente un artifical divertimento.\n",
        "<br> La solución es estimar la bondad de un set de hiperparámetros en alguna combinación de:\n",
        "  * Una sola partición de  <training, testing>\n",
        "  * Multiples particiones de <training, testing>\n",
        "  * El método de  k-fold Cross Validation , generalmente con n>=5\n",
        "  * Utilizar   n-repated  k-fold Cross Validation\n",
        "  * Leave One Out  si la cardinalidad del dataset y el poder de cómputo se lo permiten"
      ]
    },
    {
      "cell_type": "markdown",
      "metadata": {
        "id": "Max6K39SxSRc"
      },
      "source": [
        "Luego de comenzar a trabajar con el método de  \"Multiples particiones de <training, testing>  se le invitó a extender un esqueleto de código del método de **Optimización de Hiperparámetros por Grid Search**"
      ]
    },
    {
      "cell_type": "markdown",
      "metadata": {
        "id": "V0uWfedQ0CgK"
      },
      "source": [
        "## 3.02 Conceptos\n",
        "\n",
        "En esta entrega veremos los siguiente conceptos:\n",
        "* El origen del overfitting en un arbol de decisión\n",
        "* *La maldición del ganador*, overfitting en los hiperparámetros ganadores, Selective Inference\n",
        "* Data Drifting\n",
        "* Alterntivas de búsqueda\n",
        "  * Grid Search, la fuerza bruta\n",
        "  * Bayesian Optimization, la heurística"
      ]
    },
    {
      "cell_type": "markdown",
      "metadata": {
        "id": "xcdjPTy0_7ud"
      },
      "source": [
        "## 3.03  Corrida notebook inicial\n",
        "\n",
        "En el repositorio oficial de la asignatura se encuentra el notebook ./src/rpart/z102_FinalTrain.ipynb  que automaticamente hace el submit a la Competencia Analista Sr  de Kaggle.\n",
        "<br>  Ingrese a un nuevo Google Colab  y pruebe algunas corridas del notebook cambiando los hiperparámetros de rpart"
      ]
    },
    {
      "cell_type": "markdown",
      "metadata": {
        "id": "Cv_td2pLawzc"
      },
      "source": [
        "## 3.04 Origen del Overfitting en un arbol de decisión\n",
        "¿Qué combinacion de hiperparámetros overfitea un árbol de decisión, para nuestro dataset?\n",
        "<br>¿Cómo se ve el overfitting desde el punto de vista de las curvas de ganancia?"
      ]
    },
    {
      "cell_type": "markdown",
      "metadata": {
        "id": "vyO0nseY5e6M"
      },
      "source": [
        "El objetivo de este capítulo es que usted juegue manualmente con los hiperparámetros de un rpart, observe las curvas de ganancia generadas en una particion <training=50%, testing=50%>  y obtengla conclusiones sobre el fenómeno observado."
      ]
    },
    {
      "cell_type": "markdown",
      "metadata": {
        "id": "Zyo3JVGn24zE"
      },
      "source": [
        "Introducimos el concepto de **Curva de Ganancia**\n",
        "<br> Al aplicar un modelo a un dataset se le asigna a cada registro una probabilidad, a su vez cada registro contribuye con una ganancia la que puede ser una pérdida o una ganancia.  \n",
        "<br>Ordenamos el dataset por probabilidad *descendente* y computamos la ganancia acumulada, generando de esta forma la curva de ganancia\n",
        "<br> Para visualizar el efecto del under/over  fitting adecuadamente, realizamos una particion  <training= 50%, testing= 50%>\n",
        "\n"
      ]
    },
    {
      "cell_type": "markdown",
      "metadata": {
        "id": "HXVdNC0R4FZe"
      },
      "source": [
        "tener presente:\n",
        "<br> Overfitting  **NO**  es la diferencia entre las curvas\n",
        "<br> Lo que divide el underfitting del overfitting al aumentar la complejidad del modelo es la complejidad donde se alcanza la métrica máxima."
      ]
    },
    {
      "cell_type": "markdown",
      "metadata": {
        "id": "a1p3BNOU7x_X"
      },
      "source": [
        "### ¿Qué debe hacer usted?\n",
        "Probar al menos estas combinaciones:\n",
        "* **Arbol crecimiento descontrolado**\n",
        "   * cp= -1\n",
        "   * maxdepth= 30\n",
        "   * minsplit= 2\n",
        "   * minbucket= 1\n",
        "* Arbol talla reducida\n",
        "   * cp= -1\n",
        "   * maxdepth= 3\n",
        "   * minsplit= 20000\n",
        "   * minbucket= 10000\n"
      ]
    },
    {
      "cell_type": "markdown",
      "metadata": {
        "id": "3m0ySYPfa7Zr"
      },
      "source": [
        "#### Seteo del ambiente en Google Colab"
      ]
    },
    {
      "cell_type": "markdown",
      "metadata": {
        "id": "NGY7H9xza7Zr"
      },
      "source": [
        "Esta parte se debe correr con el runtime en Python3\n",
        "<br>Ir al menu, Runtime -> Change Runtime Type -> Runtime type ->  **Python 3**"
      ]
    },
    {
      "cell_type": "markdown",
      "metadata": {
        "id": "7PupIBNba7Zr"
      },
      "source": [
        "Conectar la virtual machine donde esta corriendo Google Colab con el  Google Drive, para poder tener persistencia de archivos"
      ]
    },
    {
      "cell_type": "code",
      "execution_count": null,
      "metadata": {
        "id": "9LpZCst5a7Zs",
        "vscode": {
          "languageId": "r"
        }
      },
      "outputs": [],
      "source": [
        "# primero establecer el Runtime de Python 3\n",
        "from google.colab import drive\n",
        "drive.mount('/content/.drive')"
      ]
    },
    {
      "cell_type": "markdown",
      "metadata": {
        "id": "ilaKtqWldeWg"
      },
      "source": [
        "<br>los siguientes comando estan en shell script de Linux\n",
        "*   Crear las carpetas en el Google Drive\n",
        "*   Bajar el  **competencia_01_crudo**  al  Google Drive  y tambien al disco local de la virtual machine que esta corriendo Google Colab\n",
        "\n"
      ]
    },
    {
      "cell_type": "code",
      "execution_count": null,
      "metadata": {
        "id": "W8dQFI5QYCFa",
        "vscode": {
          "languageId": "r"
        }
      },
      "outputs": [],
      "source": [
        "%%shell\n",
        "\n",
        "mkdir -p \"/content/.drive/My Drive/dmeyf\"\n",
        "mkdir -p \"/content/buckets\"\n",
        "ln -s \"/content/.drive/My Drive/dmeyf\" /content/buckets/b1\n",
        "\n",
        "\n",
        "mkdir -p /content/buckets/b1/exp\n",
        "mkdir -p /content/buckets/b1/datasets\n",
        "mkdir -p /content/datasets\n",
        "\n",
        "\n",
        "\n",
        "archivo_origen=\"https://storage.googleapis.com/open-courses/dmeyf2025-e4a2/competencia_01_crudo.csv\"\n",
        "archivo_destino=\"/content/datasets/competencia_01_crudo.csv\"\n",
        "archivo_destino_bucket=\"/content/buckets/b1/datasets/competencia_01_crudo.csv\"\n",
        "\n",
        "if ! test -f $archivo_destino_bucket; then\n",
        "  wget  $archivo_origen  -O $archivo_destino_bucket\n",
        "fi\n",
        "\n",
        "\n",
        "if ! test -f $archivo_destino; then\n",
        "  cp  $archivo_destino_bucket  $archivo_destino\n",
        "fi\n"
      ]
    },
    {
      "cell_type": "markdown",
      "metadata": {
        "id": "dseB4qb9RqUb"
      },
      "source": [
        "## Generacion de la clase_ternaria"
      ]
    },
    {
      "cell_type": "markdown",
      "metadata": {
        "id": "LCEnE_02RuIQ"
      },
      "source": [
        "Esta parte se debe correr con el runtime en lenguaje **R** Ir al menu, Runtime -> Change Runtime Tipe -> Runtime type -> R"
      ]
    },
    {
      "cell_type": "code",
      "execution_count": 13,
      "metadata": {
        "id": "P863YZB9R1Ua",
        "vscode": {
          "languageId": "r"
        }
      },
      "outputs": [],
      "source": [
        "require( \"data.table\" )\n",
        "\n",
        "# leo el dataset\n",
        "dataset <- fread(\"../../Competencia 01/competencia_01_crudo.csv\" )\n",
        "\n",
        "# calculo el periodo0 consecutivo\n",
        "dsimple <- dataset[, list(\n",
        "    \"pos\" = .I,\n",
        "    numero_de_cliente,\n",
        "    periodo0 = as.integer(foto_mes/100)*12 +  foto_mes%%100 ) ]\n",
        "\n",
        "\n",
        "# ordeno\n",
        "setorder( dsimple, numero_de_cliente, periodo0 )\n",
        "\n",
        "# calculo topes\n",
        "periodo_ultimo <- dsimple[, max(periodo0) ]\n",
        "periodo_anteultimo <- periodo_ultimo - 1\n",
        "\n",
        "\n",
        "# calculo los leads de orden 1 y 2\n",
        "dsimple[, c(\"periodo1\", \"periodo2\") :=\n",
        "    shift(periodo0, n=1:2, fill=NA, type=\"lead\"),  numero_de_cliente ]\n",
        "\n",
        "# assign most common class values = \"CONTINUA\"\n",
        "dsimple[ periodo0 < periodo_anteultimo, clase_ternaria := \"CONTINUA\" ]\n",
        "\n",
        "# calculo BAJA+1\n",
        "dsimple[ periodo0 < periodo_ultimo &\n",
        "    ( is.na(periodo1) | periodo0 + 1 < periodo1 ),\n",
        "    clase_ternaria := \"BAJA+1\" ]\n",
        "\n",
        "# calculo BAJA+2\n",
        "dsimple[ periodo0 < periodo_anteultimo & (periodo0+1 == periodo1 )\n",
        "    & ( is.na(periodo2) | periodo0 + 2 < periodo2 ),\n",
        "    clase_ternaria := \"BAJA+2\" ]\n",
        "\n",
        "\n",
        "# pego el resultado en el dataset original y grabo\n",
        "setorder( dsimple, pos )\n",
        "dataset[, clase_ternaria := dsimple$clase_ternaria ]\n",
        "\n",
        "fwrite( dataset,\n",
        "    file =  \"./competencia_01.csv.gz\",\n",
        "    sep = \",\"\n",
        ")"
      ]
    },
    {
      "cell_type": "code",
      "execution_count": 18,
      "metadata": {
        "id": "S3hL7tv8W4rn",
        "vscode": {
          "languageId": "r"
        }
      },
      "outputs": [
        {
          "data": {
            "text/html": [
              "<table class=\"dataframe\">\n",
              "<caption>A data.table: 3 × 3</caption>\n",
              "<thead>\n",
              "\t<tr><th scope=col>foto_mes</th><th scope=col>clase_ternaria</th><th scope=col>N</th></tr>\n",
              "\t<tr><th scope=col>&lt;int&gt;</th><th scope=col>&lt;chr&gt;</th><th scope=col>&lt;int&gt;</th></tr>\n",
              "</thead>\n",
              "<tbody>\n",
              "\t<tr><td>202104</td><td>BAJA+1  </td><td>   955</td></tr>\n",
              "\t<tr><td>202104</td><td>BAJA+2  </td><td>  1130</td></tr>\n",
              "\t<tr><td>202104</td><td>CONTINUA</td><td>161333</td></tr>\n",
              "</tbody>\n",
              "</table>\n"
            ],
            "text/latex": [
              "A data.table: 3 × 3\n",
              "\\begin{tabular}{lll}\n",
              " foto\\_mes & clase\\_ternaria & N\\\\\n",
              " <int> & <chr> & <int>\\\\\n",
              "\\hline\n",
              "\t 202104 & BAJA+1   &    955\\\\\n",
              "\t 202104 & BAJA+2   &   1130\\\\\n",
              "\t 202104 & CONTINUA & 161333\\\\\n",
              "\\end{tabular}\n"
            ],
            "text/markdown": [
              "\n",
              "A data.table: 3 × 3\n",
              "\n",
              "| foto_mes &lt;int&gt; | clase_ternaria &lt;chr&gt; | N &lt;int&gt; |\n",
              "|---|---|---|\n",
              "| 202104 | BAJA+1   |    955 |\n",
              "| 202104 | BAJA+2   |   1130 |\n",
              "| 202104 | CONTINUA | 161333 |\n",
              "\n"
            ],
            "text/plain": [
              "  foto_mes clase_ternaria N     \n",
              "1 202104   BAJA+1            955\n",
              "2 202104   BAJA+2           1130\n",
              "3 202104   CONTINUA       161333"
            ]
          },
          "metadata": {},
          "output_type": "display_data"
        }
      ],
      "source": [
        "setorder( dataset, foto_mes, clase_ternaria, numero_de_cliente)\n",
        "dataset[, .N, list(foto_mes, clase_ternaria)]"
      ]
    },
    {
      "cell_type": "markdown",
      "metadata": {
        "id": "JxhSJ-oqb-r6"
      },
      "source": [
        "Esta parte se debe correr con el runtime en lenguaje **R** Ir al menu, Runtime -> Change Runtime Type -> Runtime type -> R"
      ]
    },
    {
      "cell_type": "markdown",
      "metadata": {
        "id": "ls15rN6Ob-r7"
      },
      "source": [
        "limpio el ambiente de R"
      ]
    },
    {
      "cell_type": "code",
      "execution_count": 19,
      "metadata": {
        "id": "QrRq-FePb-r7",
        "vscode": {
          "languageId": "r"
        }
      },
      "outputs": [
        {
          "data": {
            "text/html": [
              "<table class=\"dataframe\">\n",
              "<caption>A matrix: 2 × 6 of type dbl</caption>\n",
              "<thead>\n",
              "\t<tr><th></th><th scope=col>used</th><th scope=col>(Mb)</th><th scope=col>gc trigger</th><th scope=col>(Mb)</th><th scope=col>max used</th><th scope=col>(Mb)</th></tr>\n",
              "</thead>\n",
              "<tbody>\n",
              "\t<tr><th scope=row>Ncells</th><td>2196062</td><td>117.3</td><td>  4334505</td><td> 231.5</td><td>  3089593</td><td> 165.1</td></tr>\n",
              "\t<tr><th scope=row>Vcells</th><td>3967057</td><td> 30.3</td><td>233852900</td><td>1784.2</td><td>365365722</td><td>2787.6</td></tr>\n",
              "</tbody>\n",
              "</table>\n"
            ],
            "text/latex": [
              "A matrix: 2 × 6 of type dbl\n",
              "\\begin{tabular}{r|llllll}\n",
              "  & used & (Mb) & gc trigger & (Mb) & max used & (Mb)\\\\\n",
              "\\hline\n",
              "\tNcells & 2196062 & 117.3 &   4334505 &  231.5 &   3089593 &  165.1\\\\\n",
              "\tVcells & 3967057 &  30.3 & 233852900 & 1784.2 & 365365722 & 2787.6\\\\\n",
              "\\end{tabular}\n"
            ],
            "text/markdown": [
              "\n",
              "A matrix: 2 × 6 of type dbl\n",
              "\n",
              "| <!--/--> | used | (Mb) | gc trigger | (Mb) | max used | (Mb) |\n",
              "|---|---|---|---|---|---|---|\n",
              "| Ncells | 2196062 | 117.3 |   4334505 |  231.5 |   3089593 |  165.1 |\n",
              "| Vcells | 3967057 |  30.3 | 233852900 | 1784.2 | 365365722 | 2787.6 |\n",
              "\n"
            ],
            "text/plain": [
              "       used    (Mb)  gc trigger (Mb)   max used  (Mb)  \n",
              "Ncells 2196062 117.3   4334505   231.5   3089593  165.1\n",
              "Vcells 3967057  30.3 233852900  1784.2 365365722 2787.6"
            ]
          },
          "metadata": {},
          "output_type": "display_data"
        }
      ],
      "source": [
        "# limpio la memoria\n",
        "rm(list=ls(all.names=TRUE)) # remove all objects\n",
        "gc(full=TRUE, verbose=FALSE) # garbage collection"
      ]
    },
    {
      "cell_type": "code",
      "execution_count": 20,
      "metadata": {
        "id": "IIeRpVlZb-r8",
        "vscode": {
          "languageId": "r"
        }
      },
      "outputs": [
        {
          "name": "stderr",
          "output_type": "stream",
          "text": [
            "Cargando paquete requerido: ggplot2\n",
            "\n"
          ]
        }
      ],
      "source": [
        "# cargo las librerias que necesito\n",
        "require(\"data.table\")\n",
        "require(\"rpart\")\n",
        "require(\"ggplot2\")"
      ]
    },
    {
      "cell_type": "code",
      "execution_count": 21,
      "metadata": {
        "id": "9umGZpObhFjw",
        "vscode": {
          "languageId": "r"
        }
      },
      "outputs": [],
      "source": [
        "if(!require(\"R.utils\")) install.packages(\"R.utils\")\n",
        "require(\"R.utils\")"
      ]
    },
    {
      "cell_type": "code",
      "execution_count": null,
      "metadata": {
        "id": "3Wb-iYIGb-r8",
        "vscode": {
          "languageId": "r"
        }
      },
      "outputs": [],
      "source": [
        "# carpeta de trabajo\n",
        "setwd(\"/content/buckets/b1/exp\")\n",
        "experimento <- \"exp304\"\n",
        "dir.create(experimento, showWarnings=FALSE)\n",
        "setwd( paste0(\"/content/buckets/b1/exp/\", experimento ))"
      ]
    },
    {
      "cell_type": "markdown",
      "metadata": {
        "id": "DjLKeoBHhhNP"
      },
      "source": [
        "### Acción :  Jugar con  minsplit, minbucket y maxdepth"
      ]
    },
    {
      "cell_type": "code",
      "execution_count": 23,
      "metadata": {
        "id": "b-kYnwWzcRHK",
        "vscode": {
          "languageId": "r"
        }
      },
      "outputs": [],
      "source": [
        "# cambiar aqui los parametros\n",
        "PARAM <- list()\n",
        "PARAM$semilla_primigenia <- 200003\n",
        "\n",
        "PARAM$cp <- -1\n",
        "PARAM$minsplit <- 2\n",
        "PARAM$minbucket <- 1\n",
        "PARAM$maxdepth <- 30"
      ]
    },
    {
      "cell_type": "code",
      "execution_count": 24,
      "metadata": {
        "id": "ZqrrKQ5xcSvG",
        "vscode": {
          "languageId": "r"
        }
      },
      "outputs": [],
      "source": [
        "# particionar agrega una columna llamada fold a un dataset\n",
        "#   que consiste en una particion estratificada segun agrupa\n",
        "# particionar( data=dataset, division=c(70,30),\n",
        "#  agrupa=clase_ternaria, seed=semilla)   crea una particion 70, 30\n",
        "\n",
        "particionar <- function(data, division, agrupa= \"\", campo= \"fold\", start= 1, seed= NA) {\n",
        "  if (!is.na(seed)) set.seed(seed)\n",
        "\n",
        "  bloque <- unlist(mapply(\n",
        "    function(x, y) {rep(y, x)},division, seq(from= start, length.out= length(division))))\n",
        "\n",
        "  data[, (campo) := sample(rep(bloque,ceiling(.N / length(bloque))))[1:.N],by= agrupa]\n",
        "}\n"
      ]
    },
    {
      "cell_type": "code",
      "execution_count": 25,
      "metadata": {
        "id": "9pwX8GTacf3Z",
        "vscode": {
          "languageId": "r"
        }
      },
      "outputs": [],
      "source": [
        "# lectura del dataset\n",
        "dataset <- fread(\"./competencia_01.csv.gz\")"
      ]
    },
    {
      "cell_type": "code",
      "execution_count": 26,
      "metadata": {
        "id": "IaC-Ju2-ch-W",
        "vscode": {
          "languageId": "r"
        }
      },
      "outputs": [],
      "source": [
        "# a partir de ahora solo trabajo con 202104, el mes que tiene clase\n",
        "\n",
        "dataset <- dataset[foto_mes == 202104] # defino donde voy a entrenar"
      ]
    },
    {
      "cell_type": "code",
      "execution_count": 27,
      "metadata": {
        "id": "eKJeTb1icluu",
        "vscode": {
          "languageId": "r"
        }
      },
      "outputs": [],
      "source": [
        "# La division training/testing es 50%, 50%\n",
        "#  que sea 50/50 se indica con el c(1,1)\n",
        "\n",
        "particionar(dataset,\n",
        "  division= c(1, 1),\n",
        "  agrupa= \"clase_ternaria\",\n",
        "  seed= PARAM$semilla_primigenia\n",
        ")"
      ]
    },
    {
      "cell_type": "code",
      "execution_count": 28,
      "metadata": {
        "id": "v5Fuek3mc1Qx",
        "vscode": {
          "languageId": "r"
        }
      },
      "outputs": [],
      "source": [
        "# Entreno el modelo\n",
        "# los datos donde voy a entrenar\n",
        "# aqui es donde se deben probar distintos hiperparametros\n",
        "\n",
        "modelo <- rpart(\n",
        "  formula= \"clase_ternaria ~ . -fold\",\n",
        "  data= dataset[fold == 1, ],\n",
        "  xval= 0,\n",
        "  cp= -1,\n",
        "  minsplit= PARAM$minsplit,\n",
        "  minbucket= PARAM$minbucket,\n",
        "  maxdepth= PARAM$maxdepth\n",
        ")"
      ]
    },
    {
      "cell_type": "code",
      "execution_count": 29,
      "metadata": {
        "id": "zjFQmTkFdGn8",
        "vscode": {
          "languageId": "r"
        }
      },
      "outputs": [],
      "source": [
        "# aplico el modelo a TODOS los datos, inclusive los de training\n",
        "prediccion <- predict(modelo, dataset, type= \"prob\")"
      ]
    },
    {
      "cell_type": "code",
      "execution_count": 30,
      "metadata": {
        "id": "wxsRJ6-ldKMF",
        "vscode": {
          "languageId": "r"
        }
      },
      "outputs": [],
      "source": [
        "# Pego la probabilidad de  BAJA+2\n",
        "tb_prediccion <- dataset[, list(fold,clase_ternaria)]\n",
        "tb_prediccion[, prob_baja2 := prediccion[, \"BAJA+2\"]]"
      ]
    },
    {
      "cell_type": "code",
      "execution_count": 31,
      "metadata": {
        "id": "CFPDDXxrdbHv",
        "vscode": {
          "languageId": "r"
        }
      },
      "outputs": [],
      "source": [
        "# Dibujo la curva de ganancia acumulada\n",
        "setorder(tb_prediccion, fold, -prob_baja2)"
      ]
    },
    {
      "cell_type": "code",
      "execution_count": 32,
      "metadata": {
        "id": "bUPJACeXdoDM",
        "vscode": {
          "languageId": "r"
        }
      },
      "outputs": [],
      "source": [
        "# agrego una columna que es la de las ganancias\n",
        "# la multiplico por 2 para que ya este normalizada\n",
        "#  es 2 porque cada fold es el 50%\n",
        "\n",
        "tb_prediccion[, gan := 2 *ifelse(clase_ternaria == \"BAJA+2\", 780000, -20000)]\n",
        "tb_prediccion[, ganancia_acumulada := cumsum(gan), by= fold]\n",
        "tb_prediccion[, pos := sequence(.N), by= fold]"
      ]
    },
    {
      "cell_type": "code",
      "execution_count": 33,
      "metadata": {
        "id": "mNdaJEmMe5gg",
        "vscode": {
          "languageId": "r"
        }
      },
      "outputs": [
        {
          "data": {
            "text/html": [
              "<table class=\"dataframe\">\n",
              "<caption>A data.table: 163418 × 6</caption>\n",
              "<thead>\n",
              "\t<tr><th scope=col>fold</th><th scope=col>clase_ternaria</th><th scope=col>prob_baja2</th><th scope=col>gan</th><th scope=col>ganancia_acumulada</th><th scope=col>pos</th></tr>\n",
              "\t<tr><th scope=col>&lt;dbl&gt;</th><th scope=col>&lt;chr&gt;</th><th scope=col>&lt;dbl&gt;</th><th scope=col>&lt;dbl&gt;</th><th scope=col>&lt;dbl&gt;</th><th scope=col>&lt;int&gt;</th></tr>\n",
              "</thead>\n",
              "<tbody>\n",
              "\t<tr><td>1</td><td>BAJA+2</td><td>1</td><td>1560000</td><td> 1560000</td><td> 1</td></tr>\n",
              "\t<tr><td>1</td><td>BAJA+2</td><td>1</td><td>1560000</td><td> 3120000</td><td> 2</td></tr>\n",
              "\t<tr><td>1</td><td>BAJA+2</td><td>1</td><td>1560000</td><td> 4680000</td><td> 3</td></tr>\n",
              "\t<tr><td>1</td><td>BAJA+2</td><td>1</td><td>1560000</td><td> 6240000</td><td> 4</td></tr>\n",
              "\t<tr><td>1</td><td>BAJA+2</td><td>1</td><td>1560000</td><td> 7800000</td><td> 5</td></tr>\n",
              "\t<tr><td>1</td><td>BAJA+2</td><td>1</td><td>1560000</td><td> 9360000</td><td> 6</td></tr>\n",
              "\t<tr><td>1</td><td>BAJA+2</td><td>1</td><td>1560000</td><td>10920000</td><td> 7</td></tr>\n",
              "\t<tr><td>1</td><td>BAJA+2</td><td>1</td><td>1560000</td><td>12480000</td><td> 8</td></tr>\n",
              "\t<tr><td>1</td><td>BAJA+2</td><td>1</td><td>1560000</td><td>14040000</td><td> 9</td></tr>\n",
              "\t<tr><td>1</td><td>BAJA+2</td><td>1</td><td>1560000</td><td>15600000</td><td>10</td></tr>\n",
              "\t<tr><td>1</td><td>BAJA+2</td><td>1</td><td>1560000</td><td>17160000</td><td>11</td></tr>\n",
              "\t<tr><td>1</td><td>BAJA+2</td><td>1</td><td>1560000</td><td>18720000</td><td>12</td></tr>\n",
              "\t<tr><td>1</td><td>BAJA+2</td><td>1</td><td>1560000</td><td>20280000</td><td>13</td></tr>\n",
              "\t<tr><td>1</td><td>BAJA+2</td><td>1</td><td>1560000</td><td>21840000</td><td>14</td></tr>\n",
              "\t<tr><td>1</td><td>BAJA+2</td><td>1</td><td>1560000</td><td>23400000</td><td>15</td></tr>\n",
              "\t<tr><td>1</td><td>BAJA+2</td><td>1</td><td>1560000</td><td>24960000</td><td>16</td></tr>\n",
              "\t<tr><td>1</td><td>BAJA+2</td><td>1</td><td>1560000</td><td>26520000</td><td>17</td></tr>\n",
              "\t<tr><td>1</td><td>BAJA+2</td><td>1</td><td>1560000</td><td>28080000</td><td>18</td></tr>\n",
              "\t<tr><td>1</td><td>BAJA+2</td><td>1</td><td>1560000</td><td>29640000</td><td>19</td></tr>\n",
              "\t<tr><td>1</td><td>BAJA+2</td><td>1</td><td>1560000</td><td>31200000</td><td>20</td></tr>\n",
              "\t<tr><td>1</td><td>BAJA+2</td><td>1</td><td>1560000</td><td>32760000</td><td>21</td></tr>\n",
              "\t<tr><td>1</td><td>BAJA+2</td><td>1</td><td>1560000</td><td>34320000</td><td>22</td></tr>\n",
              "\t<tr><td>1</td><td>BAJA+2</td><td>1</td><td>1560000</td><td>35880000</td><td>23</td></tr>\n",
              "\t<tr><td>1</td><td>BAJA+2</td><td>1</td><td>1560000</td><td>37440000</td><td>24</td></tr>\n",
              "\t<tr><td>1</td><td>BAJA+2</td><td>1</td><td>1560000</td><td>39000000</td><td>25</td></tr>\n",
              "\t<tr><td>1</td><td>BAJA+2</td><td>1</td><td>1560000</td><td>40560000</td><td>26</td></tr>\n",
              "\t<tr><td>1</td><td>BAJA+2</td><td>1</td><td>1560000</td><td>42120000</td><td>27</td></tr>\n",
              "\t<tr><td>1</td><td>BAJA+2</td><td>1</td><td>1560000</td><td>43680000</td><td>28</td></tr>\n",
              "\t<tr><td>1</td><td>BAJA+2</td><td>1</td><td>1560000</td><td>45240000</td><td>29</td></tr>\n",
              "\t<tr><td>1</td><td>BAJA+2</td><td>1</td><td>1560000</td><td>46800000</td><td>30</td></tr>\n",
              "\t<tr><td>⋮</td><td>⋮</td><td>⋮</td><td>⋮</td><td>⋮</td><td>⋮</td></tr>\n",
              "\t<tr><td>2</td><td>CONTINUA</td><td>0</td><td> -40000</td><td>-2364760000</td><td>81679</td></tr>\n",
              "\t<tr><td>2</td><td>CONTINUA</td><td>0</td><td> -40000</td><td>-2364800000</td><td>81680</td></tr>\n",
              "\t<tr><td>2</td><td>BAJA+2  </td><td>0</td><td>1560000</td><td>-2363240000</td><td>81681</td></tr>\n",
              "\t<tr><td>2</td><td>CONTINUA</td><td>0</td><td> -40000</td><td>-2363280000</td><td>81682</td></tr>\n",
              "\t<tr><td>2</td><td>CONTINUA</td><td>0</td><td> -40000</td><td>-2363320000</td><td>81683</td></tr>\n",
              "\t<tr><td>2</td><td>CONTINUA</td><td>0</td><td> -40000</td><td>-2363360000</td><td>81684</td></tr>\n",
              "\t<tr><td>2</td><td>CONTINUA</td><td>0</td><td> -40000</td><td>-2363400000</td><td>81685</td></tr>\n",
              "\t<tr><td>2</td><td>CONTINUA</td><td>0</td><td> -40000</td><td>-2363440000</td><td>81686</td></tr>\n",
              "\t<tr><td>2</td><td>CONTINUA</td><td>0</td><td> -40000</td><td>-2363480000</td><td>81687</td></tr>\n",
              "\t<tr><td>2</td><td>CONTINUA</td><td>0</td><td> -40000</td><td>-2363520000</td><td>81688</td></tr>\n",
              "\t<tr><td>2</td><td>CONTINUA</td><td>0</td><td> -40000</td><td>-2363560000</td><td>81689</td></tr>\n",
              "\t<tr><td>2</td><td>CONTINUA</td><td>0</td><td> -40000</td><td>-2363600000</td><td>81690</td></tr>\n",
              "\t<tr><td>2</td><td>CONTINUA</td><td>0</td><td> -40000</td><td>-2363640000</td><td>81691</td></tr>\n",
              "\t<tr><td>2</td><td>CONTINUA</td><td>0</td><td> -40000</td><td>-2363680000</td><td>81692</td></tr>\n",
              "\t<tr><td>2</td><td>CONTINUA</td><td>0</td><td> -40000</td><td>-2363720000</td><td>81693</td></tr>\n",
              "\t<tr><td>2</td><td>CONTINUA</td><td>0</td><td> -40000</td><td>-2363760000</td><td>81694</td></tr>\n",
              "\t<tr><td>2</td><td>CONTINUA</td><td>0</td><td> -40000</td><td>-2363800000</td><td>81695</td></tr>\n",
              "\t<tr><td>2</td><td>CONTINUA</td><td>0</td><td> -40000</td><td>-2363840000</td><td>81696</td></tr>\n",
              "\t<tr><td>2</td><td>CONTINUA</td><td>0</td><td> -40000</td><td>-2363880000</td><td>81697</td></tr>\n",
              "\t<tr><td>2</td><td>CONTINUA</td><td>0</td><td> -40000</td><td>-2363920000</td><td>81698</td></tr>\n",
              "\t<tr><td>2</td><td>CONTINUA</td><td>0</td><td> -40000</td><td>-2363960000</td><td>81699</td></tr>\n",
              "\t<tr><td>2</td><td>CONTINUA</td><td>0</td><td> -40000</td><td>-2364000000</td><td>81700</td></tr>\n",
              "\t<tr><td>2</td><td>CONTINUA</td><td>0</td><td> -40000</td><td>-2364040000</td><td>81701</td></tr>\n",
              "\t<tr><td>2</td><td>CONTINUA</td><td>0</td><td> -40000</td><td>-2364080000</td><td>81702</td></tr>\n",
              "\t<tr><td>2</td><td>CONTINUA</td><td>0</td><td> -40000</td><td>-2364120000</td><td>81703</td></tr>\n",
              "\t<tr><td>2</td><td>CONTINUA</td><td>0</td><td> -40000</td><td>-2364160000</td><td>81704</td></tr>\n",
              "\t<tr><td>2</td><td>CONTINUA</td><td>0</td><td> -40000</td><td>-2364200000</td><td>81705</td></tr>\n",
              "\t<tr><td>2</td><td>CONTINUA</td><td>0</td><td> -40000</td><td>-2364240000</td><td>81706</td></tr>\n",
              "\t<tr><td>2</td><td>CONTINUA</td><td>0</td><td> -40000</td><td>-2364280000</td><td>81707</td></tr>\n",
              "\t<tr><td>2</td><td>CONTINUA</td><td>0</td><td> -40000</td><td>-2364320000</td><td>81708</td></tr>\n",
              "</tbody>\n",
              "</table>\n"
            ],
            "text/latex": [
              "A data.table: 163418 × 6\n",
              "\\begin{tabular}{llllll}\n",
              " fold & clase\\_ternaria & prob\\_baja2 & gan & ganancia\\_acumulada & pos\\\\\n",
              " <dbl> & <chr> & <dbl> & <dbl> & <dbl> & <int>\\\\\n",
              "\\hline\n",
              "\t 1 & BAJA+2 & 1 & 1560000 &  1560000 &  1\\\\\n",
              "\t 1 & BAJA+2 & 1 & 1560000 &  3120000 &  2\\\\\n",
              "\t 1 & BAJA+2 & 1 & 1560000 &  4680000 &  3\\\\\n",
              "\t 1 & BAJA+2 & 1 & 1560000 &  6240000 &  4\\\\\n",
              "\t 1 & BAJA+2 & 1 & 1560000 &  7800000 &  5\\\\\n",
              "\t 1 & BAJA+2 & 1 & 1560000 &  9360000 &  6\\\\\n",
              "\t 1 & BAJA+2 & 1 & 1560000 & 10920000 &  7\\\\\n",
              "\t 1 & BAJA+2 & 1 & 1560000 & 12480000 &  8\\\\\n",
              "\t 1 & BAJA+2 & 1 & 1560000 & 14040000 &  9\\\\\n",
              "\t 1 & BAJA+2 & 1 & 1560000 & 15600000 & 10\\\\\n",
              "\t 1 & BAJA+2 & 1 & 1560000 & 17160000 & 11\\\\\n",
              "\t 1 & BAJA+2 & 1 & 1560000 & 18720000 & 12\\\\\n",
              "\t 1 & BAJA+2 & 1 & 1560000 & 20280000 & 13\\\\\n",
              "\t 1 & BAJA+2 & 1 & 1560000 & 21840000 & 14\\\\\n",
              "\t 1 & BAJA+2 & 1 & 1560000 & 23400000 & 15\\\\\n",
              "\t 1 & BAJA+2 & 1 & 1560000 & 24960000 & 16\\\\\n",
              "\t 1 & BAJA+2 & 1 & 1560000 & 26520000 & 17\\\\\n",
              "\t 1 & BAJA+2 & 1 & 1560000 & 28080000 & 18\\\\\n",
              "\t 1 & BAJA+2 & 1 & 1560000 & 29640000 & 19\\\\\n",
              "\t 1 & BAJA+2 & 1 & 1560000 & 31200000 & 20\\\\\n",
              "\t 1 & BAJA+2 & 1 & 1560000 & 32760000 & 21\\\\\n",
              "\t 1 & BAJA+2 & 1 & 1560000 & 34320000 & 22\\\\\n",
              "\t 1 & BAJA+2 & 1 & 1560000 & 35880000 & 23\\\\\n",
              "\t 1 & BAJA+2 & 1 & 1560000 & 37440000 & 24\\\\\n",
              "\t 1 & BAJA+2 & 1 & 1560000 & 39000000 & 25\\\\\n",
              "\t 1 & BAJA+2 & 1 & 1560000 & 40560000 & 26\\\\\n",
              "\t 1 & BAJA+2 & 1 & 1560000 & 42120000 & 27\\\\\n",
              "\t 1 & BAJA+2 & 1 & 1560000 & 43680000 & 28\\\\\n",
              "\t 1 & BAJA+2 & 1 & 1560000 & 45240000 & 29\\\\\n",
              "\t 1 & BAJA+2 & 1 & 1560000 & 46800000 & 30\\\\\n",
              "\t ⋮ & ⋮ & ⋮ & ⋮ & ⋮ & ⋮\\\\\n",
              "\t 2 & CONTINUA & 0 &  -40000 & -2364760000 & 81679\\\\\n",
              "\t 2 & CONTINUA & 0 &  -40000 & -2364800000 & 81680\\\\\n",
              "\t 2 & BAJA+2   & 0 & 1560000 & -2363240000 & 81681\\\\\n",
              "\t 2 & CONTINUA & 0 &  -40000 & -2363280000 & 81682\\\\\n",
              "\t 2 & CONTINUA & 0 &  -40000 & -2363320000 & 81683\\\\\n",
              "\t 2 & CONTINUA & 0 &  -40000 & -2363360000 & 81684\\\\\n",
              "\t 2 & CONTINUA & 0 &  -40000 & -2363400000 & 81685\\\\\n",
              "\t 2 & CONTINUA & 0 &  -40000 & -2363440000 & 81686\\\\\n",
              "\t 2 & CONTINUA & 0 &  -40000 & -2363480000 & 81687\\\\\n",
              "\t 2 & CONTINUA & 0 &  -40000 & -2363520000 & 81688\\\\\n",
              "\t 2 & CONTINUA & 0 &  -40000 & -2363560000 & 81689\\\\\n",
              "\t 2 & CONTINUA & 0 &  -40000 & -2363600000 & 81690\\\\\n",
              "\t 2 & CONTINUA & 0 &  -40000 & -2363640000 & 81691\\\\\n",
              "\t 2 & CONTINUA & 0 &  -40000 & -2363680000 & 81692\\\\\n",
              "\t 2 & CONTINUA & 0 &  -40000 & -2363720000 & 81693\\\\\n",
              "\t 2 & CONTINUA & 0 &  -40000 & -2363760000 & 81694\\\\\n",
              "\t 2 & CONTINUA & 0 &  -40000 & -2363800000 & 81695\\\\\n",
              "\t 2 & CONTINUA & 0 &  -40000 & -2363840000 & 81696\\\\\n",
              "\t 2 & CONTINUA & 0 &  -40000 & -2363880000 & 81697\\\\\n",
              "\t 2 & CONTINUA & 0 &  -40000 & -2363920000 & 81698\\\\\n",
              "\t 2 & CONTINUA & 0 &  -40000 & -2363960000 & 81699\\\\\n",
              "\t 2 & CONTINUA & 0 &  -40000 & -2364000000 & 81700\\\\\n",
              "\t 2 & CONTINUA & 0 &  -40000 & -2364040000 & 81701\\\\\n",
              "\t 2 & CONTINUA & 0 &  -40000 & -2364080000 & 81702\\\\\n",
              "\t 2 & CONTINUA & 0 &  -40000 & -2364120000 & 81703\\\\\n",
              "\t 2 & CONTINUA & 0 &  -40000 & -2364160000 & 81704\\\\\n",
              "\t 2 & CONTINUA & 0 &  -40000 & -2364200000 & 81705\\\\\n",
              "\t 2 & CONTINUA & 0 &  -40000 & -2364240000 & 81706\\\\\n",
              "\t 2 & CONTINUA & 0 &  -40000 & -2364280000 & 81707\\\\\n",
              "\t 2 & CONTINUA & 0 &  -40000 & -2364320000 & 81708\\\\\n",
              "\\end{tabular}\n"
            ],
            "text/markdown": [
              "\n",
              "A data.table: 163418 × 6\n",
              "\n",
              "| fold &lt;dbl&gt; | clase_ternaria &lt;chr&gt; | prob_baja2 &lt;dbl&gt; | gan &lt;dbl&gt; | ganancia_acumulada &lt;dbl&gt; | pos &lt;int&gt; |\n",
              "|---|---|---|---|---|---|\n",
              "| 1 | BAJA+2 | 1 | 1560000 |  1560000 |  1 |\n",
              "| 1 | BAJA+2 | 1 | 1560000 |  3120000 |  2 |\n",
              "| 1 | BAJA+2 | 1 | 1560000 |  4680000 |  3 |\n",
              "| 1 | BAJA+2 | 1 | 1560000 |  6240000 |  4 |\n",
              "| 1 | BAJA+2 | 1 | 1560000 |  7800000 |  5 |\n",
              "| 1 | BAJA+2 | 1 | 1560000 |  9360000 |  6 |\n",
              "| 1 | BAJA+2 | 1 | 1560000 | 10920000 |  7 |\n",
              "| 1 | BAJA+2 | 1 | 1560000 | 12480000 |  8 |\n",
              "| 1 | BAJA+2 | 1 | 1560000 | 14040000 |  9 |\n",
              "| 1 | BAJA+2 | 1 | 1560000 | 15600000 | 10 |\n",
              "| 1 | BAJA+2 | 1 | 1560000 | 17160000 | 11 |\n",
              "| 1 | BAJA+2 | 1 | 1560000 | 18720000 | 12 |\n",
              "| 1 | BAJA+2 | 1 | 1560000 | 20280000 | 13 |\n",
              "| 1 | BAJA+2 | 1 | 1560000 | 21840000 | 14 |\n",
              "| 1 | BAJA+2 | 1 | 1560000 | 23400000 | 15 |\n",
              "| 1 | BAJA+2 | 1 | 1560000 | 24960000 | 16 |\n",
              "| 1 | BAJA+2 | 1 | 1560000 | 26520000 | 17 |\n",
              "| 1 | BAJA+2 | 1 | 1560000 | 28080000 | 18 |\n",
              "| 1 | BAJA+2 | 1 | 1560000 | 29640000 | 19 |\n",
              "| 1 | BAJA+2 | 1 | 1560000 | 31200000 | 20 |\n",
              "| 1 | BAJA+2 | 1 | 1560000 | 32760000 | 21 |\n",
              "| 1 | BAJA+2 | 1 | 1560000 | 34320000 | 22 |\n",
              "| 1 | BAJA+2 | 1 | 1560000 | 35880000 | 23 |\n",
              "| 1 | BAJA+2 | 1 | 1560000 | 37440000 | 24 |\n",
              "| 1 | BAJA+2 | 1 | 1560000 | 39000000 | 25 |\n",
              "| 1 | BAJA+2 | 1 | 1560000 | 40560000 | 26 |\n",
              "| 1 | BAJA+2 | 1 | 1560000 | 42120000 | 27 |\n",
              "| 1 | BAJA+2 | 1 | 1560000 | 43680000 | 28 |\n",
              "| 1 | BAJA+2 | 1 | 1560000 | 45240000 | 29 |\n",
              "| 1 | BAJA+2 | 1 | 1560000 | 46800000 | 30 |\n",
              "| ⋮ | ⋮ | ⋮ | ⋮ | ⋮ | ⋮ |\n",
              "| 2 | CONTINUA | 0 |  -40000 | -2364760000 | 81679 |\n",
              "| 2 | CONTINUA | 0 |  -40000 | -2364800000 | 81680 |\n",
              "| 2 | BAJA+2   | 0 | 1560000 | -2363240000 | 81681 |\n",
              "| 2 | CONTINUA | 0 |  -40000 | -2363280000 | 81682 |\n",
              "| 2 | CONTINUA | 0 |  -40000 | -2363320000 | 81683 |\n",
              "| 2 | CONTINUA | 0 |  -40000 | -2363360000 | 81684 |\n",
              "| 2 | CONTINUA | 0 |  -40000 | -2363400000 | 81685 |\n",
              "| 2 | CONTINUA | 0 |  -40000 | -2363440000 | 81686 |\n",
              "| 2 | CONTINUA | 0 |  -40000 | -2363480000 | 81687 |\n",
              "| 2 | CONTINUA | 0 |  -40000 | -2363520000 | 81688 |\n",
              "| 2 | CONTINUA | 0 |  -40000 | -2363560000 | 81689 |\n",
              "| 2 | CONTINUA | 0 |  -40000 | -2363600000 | 81690 |\n",
              "| 2 | CONTINUA | 0 |  -40000 | -2363640000 | 81691 |\n",
              "| 2 | CONTINUA | 0 |  -40000 | -2363680000 | 81692 |\n",
              "| 2 | CONTINUA | 0 |  -40000 | -2363720000 | 81693 |\n",
              "| 2 | CONTINUA | 0 |  -40000 | -2363760000 | 81694 |\n",
              "| 2 | CONTINUA | 0 |  -40000 | -2363800000 | 81695 |\n",
              "| 2 | CONTINUA | 0 |  -40000 | -2363840000 | 81696 |\n",
              "| 2 | CONTINUA | 0 |  -40000 | -2363880000 | 81697 |\n",
              "| 2 | CONTINUA | 0 |  -40000 | -2363920000 | 81698 |\n",
              "| 2 | CONTINUA | 0 |  -40000 | -2363960000 | 81699 |\n",
              "| 2 | CONTINUA | 0 |  -40000 | -2364000000 | 81700 |\n",
              "| 2 | CONTINUA | 0 |  -40000 | -2364040000 | 81701 |\n",
              "| 2 | CONTINUA | 0 |  -40000 | -2364080000 | 81702 |\n",
              "| 2 | CONTINUA | 0 |  -40000 | -2364120000 | 81703 |\n",
              "| 2 | CONTINUA | 0 |  -40000 | -2364160000 | 81704 |\n",
              "| 2 | CONTINUA | 0 |  -40000 | -2364200000 | 81705 |\n",
              "| 2 | CONTINUA | 0 |  -40000 | -2364240000 | 81706 |\n",
              "| 2 | CONTINUA | 0 |  -40000 | -2364280000 | 81707 |\n",
              "| 2 | CONTINUA | 0 |  -40000 | -2364320000 | 81708 |\n",
              "\n"
            ],
            "text/plain": [
              "       fold clase_ternaria prob_baja2 gan     ganancia_acumulada pos  \n",
              "1      1    BAJA+2         1          1560000  1560000            1   \n",
              "2      1    BAJA+2         1          1560000  3120000            2   \n",
              "3      1    BAJA+2         1          1560000  4680000            3   \n",
              "4      1    BAJA+2         1          1560000  6240000            4   \n",
              "5      1    BAJA+2         1          1560000  7800000            5   \n",
              "6      1    BAJA+2         1          1560000  9360000            6   \n",
              "7      1    BAJA+2         1          1560000 10920000            7   \n",
              "8      1    BAJA+2         1          1560000 12480000            8   \n",
              "9      1    BAJA+2         1          1560000 14040000            9   \n",
              "10     1    BAJA+2         1          1560000 15600000           10   \n",
              "11     1    BAJA+2         1          1560000 17160000           11   \n",
              "12     1    BAJA+2         1          1560000 18720000           12   \n",
              "13     1    BAJA+2         1          1560000 20280000           13   \n",
              "14     1    BAJA+2         1          1560000 21840000           14   \n",
              "15     1    BAJA+2         1          1560000 23400000           15   \n",
              "16     1    BAJA+2         1          1560000 24960000           16   \n",
              "17     1    BAJA+2         1          1560000 26520000           17   \n",
              "18     1    BAJA+2         1          1560000 28080000           18   \n",
              "19     1    BAJA+2         1          1560000 29640000           19   \n",
              "20     1    BAJA+2         1          1560000 31200000           20   \n",
              "21     1    BAJA+2         1          1560000 32760000           21   \n",
              "22     1    BAJA+2         1          1560000 34320000           22   \n",
              "23     1    BAJA+2         1          1560000 35880000           23   \n",
              "24     1    BAJA+2         1          1560000 37440000           24   \n",
              "25     1    BAJA+2         1          1560000 39000000           25   \n",
              "26     1    BAJA+2         1          1560000 40560000           26   \n",
              "27     1    BAJA+2         1          1560000 42120000           27   \n",
              "28     1    BAJA+2         1          1560000 43680000           28   \n",
              "29     1    BAJA+2         1          1560000 45240000           29   \n",
              "30     1    BAJA+2         1          1560000 46800000           30   \n",
              "⋮      ⋮    ⋮              ⋮          ⋮       ⋮                  ⋮    \n",
              "163389 2    CONTINUA       0           -40000 -2364760000        81679\n",
              "163390 2    CONTINUA       0           -40000 -2364800000        81680\n",
              "163391 2    BAJA+2         0          1560000 -2363240000        81681\n",
              "163392 2    CONTINUA       0           -40000 -2363280000        81682\n",
              "163393 2    CONTINUA       0           -40000 -2363320000        81683\n",
              "163394 2    CONTINUA       0           -40000 -2363360000        81684\n",
              "163395 2    CONTINUA       0           -40000 -2363400000        81685\n",
              "163396 2    CONTINUA       0           -40000 -2363440000        81686\n",
              "163397 2    CONTINUA       0           -40000 -2363480000        81687\n",
              "163398 2    CONTINUA       0           -40000 -2363520000        81688\n",
              "163399 2    CONTINUA       0           -40000 -2363560000        81689\n",
              "163400 2    CONTINUA       0           -40000 -2363600000        81690\n",
              "163401 2    CONTINUA       0           -40000 -2363640000        81691\n",
              "163402 2    CONTINUA       0           -40000 -2363680000        81692\n",
              "163403 2    CONTINUA       0           -40000 -2363720000        81693\n",
              "163404 2    CONTINUA       0           -40000 -2363760000        81694\n",
              "163405 2    CONTINUA       0           -40000 -2363800000        81695\n",
              "163406 2    CONTINUA       0           -40000 -2363840000        81696\n",
              "163407 2    CONTINUA       0           -40000 -2363880000        81697\n",
              "163408 2    CONTINUA       0           -40000 -2363920000        81698\n",
              "163409 2    CONTINUA       0           -40000 -2363960000        81699\n",
              "163410 2    CONTINUA       0           -40000 -2364000000        81700\n",
              "163411 2    CONTINUA       0           -40000 -2364040000        81701\n",
              "163412 2    CONTINUA       0           -40000 -2364080000        81702\n",
              "163413 2    CONTINUA       0           -40000 -2364120000        81703\n",
              "163414 2    CONTINUA       0           -40000 -2364160000        81704\n",
              "163415 2    CONTINUA       0           -40000 -2364200000        81705\n",
              "163416 2    CONTINUA       0           -40000 -2364240000        81706\n",
              "163417 2    CONTINUA       0           -40000 -2364280000        81707\n",
              "163418 2    CONTINUA       0           -40000 -2364320000        81708"
            ]
          },
          "metadata": {},
          "output_type": "display_data"
        }
      ],
      "source": [
        "tb_prediccion"
      ]
    },
    {
      "cell_type": "code",
      "execution_count": 34,
      "metadata": {
        "id": "687CCwPMfaDt",
        "vscode": {
          "languageId": "r"
        }
      },
      "outputs": [],
      "source": [
        "# agrego una columna que es la de las ganancias\n",
        "# la multiplico por 2 para que ya este normalizada\n",
        "#  es 2 porque cada fold es el 50%\n",
        "\n",
        "tb_prediccion[, gan := 2 *ifelse(clase_ternaria == \"BAJA+2\", 780000, -20000)]\n",
        "tb_prediccion[, ganancia_acumulada := cumsum(gan), by= fold]\n",
        "tb_prediccion[, pos := sequence(.N), by= fold]"
      ]
    },
    {
      "cell_type": "code",
      "execution_count": 35,
      "metadata": {
        "id": "Gnzpijujfi8X",
        "vscode": {
          "languageId": "r"
        }
      },
      "outputs": [],
      "source": [
        "# defino hasta donde muestra el grafico\n",
        "amostrar <- 20000"
      ]
    },
    {
      "cell_type": "code",
      "execution_count": 36,
      "metadata": {
        "id": "YCTWdnn5c-T8",
        "vscode": {
          "languageId": "r"
        }
      },
      "outputs": [
        {
          "data": {
            "image/png": "[encoded data removed]",
            "text/plain": [
              "plot without title"
            ]
          },
          "metadata": {
            "image/png": {
              "height": 540,
              "width": 960
            }
          },
          "output_type": "display_data"
        }
      ],
      "source": [
        "# Esta hermosa curva muestra como en el mentiroso training\n",
        "#   la ganancia es siempre mejor que en el real testing\n",
        "\n",
        "options( repr.plot.width=10, repr.plot.height=10)\n",
        "\n",
        "gra <- ggplot(\n",
        "           data= tb_prediccion[pos <= amostrar],\n",
        "           aes( x= pos, y= ganancia_acumulada,\n",
        "                color= ifelse(fold == 1, \"train\", \"test\") )\n",
        "             ) + geom_line()\n",
        "\n",
        "gra <- gra + theme(text = element_text(size = 16))\n",
        "\n",
        "options(repr.plot.width=16, repr.plot.height=9)\n",
        "print( gra )\n"
      ]
    },
    {
      "cell_type": "code",
      "execution_count": 37,
      "metadata": {
        "id": "pCXOZ8bVfnsG",
        "vscode": {
          "languageId": "r"
        }
      },
      "outputs": [
        {
          "name": "stdout",
          "output_type": "stream",
          "text": [
            "$semilla_primigenia\n",
            "[1] 200003\n",
            "\n",
            "$cp\n",
            "[1] -1\n",
            "\n",
            "$minsplit\n",
            "[1] 2\n",
            "\n",
            "$minbucket\n",
            "[1] 1\n",
            "\n",
            "$maxdepth\n",
            "[1] 30\n",
            "\n",
            "Train gan max:  7.89e+08 \n",
            "Test  gan max:  73480000 \n"
          ]
        }
      ],
      "source": [
        "# veo los resultados\n",
        "\n",
        "print(PARAM)\n",
        "cat( \"Train gan max: \", tb_prediccion[fold==1, max(ganancia_acumulada)], \"\\n\" )\n",
        "cat( \"Test  gan max: \", tb_prediccion[fold==2, max(ganancia_acumulada)], \"\\n\" )\n"
      ]
    },
    {
      "cell_type": "markdown",
      "metadata": {
        "id": "BPZj2gpfvvSC"
      },
      "source": [
        "## 3.05 Análisis de la salida de Grid Search\n",
        "\n",
        "En clase utilizando un enfoque constructivista de educacion cada una de las mesas del aula analizará las salidas de las corridas de Grid Search de la Tarea para el Hogar.\n",
        "<br>Se espera que quienes ya trabajan como Data Analyst se luzcan en el análisis de esos datos\n",
        "<br>Finalmente se utilizara un *arma conceptual secreta*, iluminando elegantemente donde están las mayores ganancias.\n",
        "\n",
        "<br><br>Si debido a los avatares de la vida adulta usted no tuvo la oportunidad de generar sus propias corridas de Grid Search, con el propósito que pueda participar de la Clase 03 esta cátedra pone a su diposición la siguiente salida https://storage.googleapis.com/open-courses/dmeyf2025-e4a2/gridsearch.txt   que estará recién disponible una hora antes de la clase"
      ]
    },
    {
      "cell_type": "markdown",
      "metadata": {
        "id": "xyHuVU4wK0Xh"
      },
      "source": [
        "## 3.06 La Maldición del Ganador"
      ]
    },
    {
      "cell_type": "markdown",
      "metadata": {
        "id": "olG0m0HQK4Ly"
      },
      "source": [
        "¿Los hiperparámetros ganadores de toda la cohorte, estan overfiteando?\n",
        "<br> Trabajaremos con la hoja **C3-GS Overfitting** de la Google Sheet Colaborativa\n",
        "<br> Determinar de toda la cohorte quien obtuvo la mayor ganancia y con qué hiperparámetros\n",
        "<br> copiarlos  a la hoja **C3-GS Overfitting**\n",
        "<br> Quien obtuvo esa ganancia no debe hacer nada\n",
        "<br> El resto de la cohorte, modifica su script de Grid Search para calcular la ganancia de dichos hiperparámetros ganadores  utilizando su Semilla Primigenia y registra la ganancia en la linea correspondiente a su nombre en la hoja C3-GS Overfitting"
      ]
    },
    {
      "cell_type": "markdown",
      "metadata": {
        "id": "ch9ilhfJMFhs"
      },
      "source": [
        "¿ Como compara la ganancia del ganador versus el resto de las ganancias recién calculadas ?"
      ]
    },
    {
      "cell_type": "markdown",
      "metadata": {
        "id": "SDTdFtJzPdCR"
      },
      "source": [
        "#### Bibliografia"
      ]
    },
    {
      "cell_type": "markdown",
      "metadata": {
        "id": "OtOkVKZ9PfY0"
      },
      "source": [
        "* Selective Inference - the silent killer of replicability   https://www.youtube.com/watch?v=6ZxIzVjV1DE\n",
        "* Ioannidis, J. P. A. Why most published research findings are false. PLoS Med. 2, e124 (2005). https://journals.plos.org/plosmedicine/article/file?id=10.1371/journal.pmed.0020124&type=printable"
      ]
    },
    {
      "cell_type": "markdown",
      "metadata": {
        "id": "LBl_eIeO7WuM"
      },
      "source": [
        "\n",
        "\n",
        "---\n",
        "\n"
      ]
    },
    {
      "cell_type": "markdown",
      "metadata": {
        "id": "5cZrnAixV3gT"
      },
      "source": [
        "## 3.07 Bayesian Optimization"
      ]
    },
    {
      "cell_type": "markdown",
      "metadata": {
        "id": "jRnL1RAGWTKy"
      },
      "source": [
        "Se explicará en clase como a partir del Grid Search se deriva el algoritmo de Bayesian Optimization"
      ]
    },
    {
      "cell_type": "markdown",
      "metadata": {
        "id": "UMr6Z1enOyd3"
      },
      "source": [
        "\n",
        "\n",
        "---\n",
        "\n"
      ]
    },
    {
      "cell_type": "markdown",
      "metadata": {
        "id": "khI14CLoWfCK"
      },
      "source": [
        "## 3.08 Bayesian Optimization código"
      ]
    },
    {
      "cell_type": "markdown",
      "metadata": {
        "id": "Pb0kVc82WnwU"
      },
      "source": [
        "Esta parte se debe correr con el runtime en lenguaje **R** Ir al menu, Runtime -> Change Runtime Type -> Runtime type -> R"
      ]
    },
    {
      "cell_type": "markdown",
      "metadata": {
        "id": "R1yj6LSBWnwU"
      },
      "source": [
        "limpio el ambiente de R"
      ]
    },
    {
      "cell_type": "code",
      "execution_count": 1,
      "metadata": {
        "id": "THfA4LSjWnwU",
        "vscode": {
          "languageId": "r"
        }
      },
      "outputs": [
        {
          "data": {
            "text/html": [
              "<table class=\"dataframe\">\n",
              "<caption>A matrix: 2 × 6 of type dbl</caption>\n",
              "<thead>\n",
              "\t<tr><th></th><th scope=col>used</th><th scope=col>(Mb)</th><th scope=col>gc trigger</th><th scope=col>(Mb)</th><th scope=col>max used</th><th scope=col>(Mb)</th></tr>\n",
              "</thead>\n",
              "<tbody>\n",
              "\t<tr><th scope=row>Ncells</th><td> 647797</td><td>34.6</td><td>1431195</td><td>76.5</td><td>1339936</td><td>71.6</td></tr>\n",
              "\t<tr><th scope=row>Vcells</th><td>1197835</td><td> 9.2</td><td>8388608</td><td>64.0</td><td>1963171</td><td>15.0</td></tr>\n",
              "</tbody>\n",
              "</table>\n"
            ],
            "text/latex": [
              "A matrix: 2 × 6 of type dbl\n",
              "\\begin{tabular}{r|llllll}\n",
              "  & used & (Mb) & gc trigger & (Mb) & max used & (Mb)\\\\\n",
              "\\hline\n",
              "\tNcells &  647797 & 34.6 & 1431195 & 76.5 & 1339936 & 71.6\\\\\n",
              "\tVcells & 1197835 &  9.2 & 8388608 & 64.0 & 1963171 & 15.0\\\\\n",
              "\\end{tabular}\n"
            ],
            "text/markdown": [
              "\n",
              "A matrix: 2 × 6 of type dbl\n",
              "\n",
              "| <!--/--> | used | (Mb) | gc trigger | (Mb) | max used | (Mb) |\n",
              "|---|---|---|---|---|---|---|\n",
              "| Ncells |  647797 | 34.6 | 1431195 | 76.5 | 1339936 | 71.6 |\n",
              "| Vcells | 1197835 |  9.2 | 8388608 | 64.0 | 1963171 | 15.0 |\n",
              "\n"
            ],
            "text/plain": [
              "       used    (Mb) gc trigger (Mb) max used (Mb)\n",
              "Ncells  647797 34.6 1431195    76.5 1339936  71.6\n",
              "Vcells 1197835  9.2 8388608    64.0 1963171  15.0"
            ]
          },
          "metadata": {},
          "output_type": "display_data"
        }
      ],
      "source": [
        "# limpio la memoria\n",
        "rm(list=ls(all.names=TRUE)) # remove all objects\n",
        "gc(full=TRUE, verbose=FALSE) # garbage collection"
      ]
    },
    {
      "cell_type": "markdown",
      "metadata": {
        "id": "JpzI9HIJWnwV"
      },
      "source": [
        "* Instalacion de la libreria  rpart.plot  para dibujar el arbol\n",
        "* invocacion de las librerias  **data.table** y  **rpart**"
      ]
    },
    {
      "cell_type": "code",
      "execution_count": 2,
      "metadata": {
        "id": "zeCTdZGyWnwV",
        "vscode": {
          "languageId": "r"
        }
      },
      "outputs": [
        {
          "name": "stderr",
          "output_type": "stream",
          "text": [
            "Cargando paquete requerido: data.table\n",
            "\n",
            "Cargando paquete requerido: rpart\n",
            "\n",
            "Cargando paquete requerido: parallel\n",
            "\n"
          ]
        }
      ],
      "source": [
        "# cargo las librerias que necesito\n",
        "require(\"data.table\")\n",
        "require(\"rpart\")\n",
        "require(\"parallel\")"
      ]
    },
    {
      "cell_type": "code",
      "execution_count": 3,
      "metadata": {
        "id": "MjmheQDhkI9x",
        "vscode": {
          "languageId": "r"
        }
      },
      "outputs": [
        {
          "name": "stderr",
          "output_type": "stream",
          "text": [
            "Cargando paquete requerido: rlist\n",
            "\n",
            "Warning message in library(package, lib.loc = lib.loc, character.only = TRUE, logical.return = TRUE, :\n",
            "\"no hay paquete llamado 'rlist'\"\n",
            "Installing package into 'C:/Users/nacho/AppData/Local/R/win-library/4.4'\n",
            "(as 'lib' is unspecified)\n",
            "\n",
            "also installing the dependency 'XML'\n",
            "\n",
            "\n"
          ]
        },
        {
          "name": "stdout",
          "output_type": "stream",
          "text": [
            "package 'XML' successfully unpacked and MD5 sums checked\n",
            "package 'rlist' successfully unpacked and MD5 sums checked\n",
            "\n",
            "The downloaded binary packages are in\n",
            "\tC:\\Users\\nacho\\AppData\\Local\\Temp\\RtmpgFcXhA\\downloaded_packages\n"
          ]
        },
        {
          "name": "stderr",
          "output_type": "stream",
          "text": [
            "Cargando paquete requerido: rlist\n",
            "\n"
          ]
        }
      ],
      "source": [
        "if( ! require(\"rlist\") ) install.packages(\"rlist\")\n",
        "require(\"rlist\")"
      ]
    },
    {
      "cell_type": "code",
      "execution_count": 4,
      "metadata": {
        "id": "XfcV2OFwv6XV",
        "vscode": {
          "languageId": "r"
        }
      },
      "outputs": [
        {
          "name": "stderr",
          "output_type": "stream",
          "text": [
            "Cargando paquete requerido: R.utils\n",
            "\n",
            "Cargando paquete requerido: R.oo\n",
            "\n",
            "Cargando paquete requerido: R.methodsS3\n",
            "\n",
            "R.methodsS3 v1.8.2 (2022-06-13 22:00:14 UTC) successfully loaded. See ?R.methodsS3 for help.\n",
            "\n",
            "R.oo v1.27.1 (2025-05-02 21:00:05 UTC) successfully loaded. See ?R.oo for help.\n",
            "\n",
            "\n",
            "Adjuntando el paquete: 'R.oo'\n",
            "\n",
            "\n",
            "The following object is masked from 'package:R.methodsS3':\n",
            "\n",
            "    throw\n",
            "\n",
            "\n",
            "The following objects are masked from 'package:methods':\n",
            "\n",
            "    getClasses, getMethods\n",
            "\n",
            "\n",
            "The following objects are masked from 'package:base':\n",
            "\n",
            "    attach, detach, load, save\n",
            "\n",
            "\n",
            "R.utils v2.13.0 (2025-02-24 21:20:02 UTC) successfully loaded. See ?R.utils for help.\n",
            "\n",
            "\n",
            "Adjuntando el paquete: 'R.utils'\n",
            "\n",
            "\n",
            "The following object is masked from 'package:utils':\n",
            "\n",
            "    timestamp\n",
            "\n",
            "\n",
            "The following objects are masked from 'package:base':\n",
            "\n",
            "    cat, commandArgs, getOption, isOpen, nullfile, parse, use, warnings\n",
            "\n",
            "\n"
          ]
        }
      ],
      "source": [
        "if(!require(\"R.utils\")) install.packages(\"R.utils\")\n",
        "require(\"R.utils\")"
      ]
    },
    {
      "cell_type": "code",
      "execution_count": 5,
      "metadata": {
        "id": "CzTjEz__kOrf",
        "vscode": {
          "languageId": "r"
        }
      },
      "outputs": [
        {
          "name": "stderr",
          "output_type": "stream",
          "text": [
            "Cargando paquete requerido: DiceKriging\n",
            "\n",
            "Warning message in library(package, lib.loc = lib.loc, character.only = TRUE, logical.return = TRUE, :\n",
            "\"no hay paquete llamado 'DiceKriging'\"\n",
            "Installing package into 'C:/Users/nacho/AppData/Local/R/win-library/4.4'\n",
            "(as 'lib' is unspecified)\n",
            "\n"
          ]
        },
        {
          "name": "stdout",
          "output_type": "stream",
          "text": [
            "package 'DiceKriging' successfully unpacked and MD5 sums checked\n",
            "\n",
            "The downloaded binary packages are in\n",
            "\tC:\\Users\\nacho\\AppData\\Local\\Temp\\RtmpgFcXhA\\downloaded_packages\n"
          ]
        },
        {
          "name": "stderr",
          "output_type": "stream",
          "text": [
            "Cargando paquete requerido: DiceKriging\n",
            "\n"
          ]
        }
      ],
      "source": [
        "# paquete necesarios para la Bayesian Optimization\n",
        "if( !require(\"DiceKriging\") ) install.packages(\"DiceKriging\")\n",
        "require(\"DiceKriging\")"
      ]
    },
    {
      "cell_type": "code",
      "execution_count": 6,
      "metadata": {
        "id": "0irLrQDkkdPl",
        "vscode": {
          "languageId": "r"
        }
      },
      "outputs": [
        {
          "name": "stderr",
          "output_type": "stream",
          "text": [
            "Cargando paquete requerido: mlrMBO\n",
            "\n",
            "Warning message in library(package, lib.loc = lib.loc, character.only = TRUE, logical.return = TRUE, :\n",
            "\"no hay paquete llamado 'mlrMBO'\"\n",
            "Installing package into 'C:/Users/nacho/AppData/Local/R/win-library/4.4'\n",
            "(as 'lib' is unspecified)\n",
            "\n",
            "also installing the dependencies 'fastmatch', 'RcppArmadillo', 'mlr', 'ParamHelpers', 'smoof', 'BBmisc', 'checkmate', 'parallelMap'\n",
            "\n",
            "\n"
          ]
        },
        {
          "name": "stdout",
          "output_type": "stream",
          "text": [
            "package 'fastmatch' successfully unpacked and MD5 sums checked\n",
            "package 'RcppArmadillo' successfully unpacked and MD5 sums checked\n",
            "package 'mlr' successfully unpacked and MD5 sums checked\n",
            "package 'ParamHelpers' successfully unpacked and MD5 sums checked\n",
            "package 'smoof' successfully unpacked and MD5 sums checked\n",
            "package 'BBmisc' successfully unpacked and MD5 sums checked\n",
            "package 'checkmate' successfully unpacked and MD5 sums checked\n",
            "package 'parallelMap' successfully unpacked and MD5 sums checked\n",
            "package 'mlrMBO' successfully unpacked and MD5 sums checked\n",
            "\n",
            "The downloaded binary packages are in\n",
            "\tC:\\Users\\nacho\\AppData\\Local\\Temp\\RtmpgFcXhA\\downloaded_packages\n"
          ]
        },
        {
          "name": "stderr",
          "output_type": "stream",
          "text": [
            "Cargando paquete requerido: mlrMBO\n",
            "\n",
            "Cargando paquete requerido: mlr\n",
            "\n",
            "Cargando paquete requerido: ParamHelpers\n",
            "\n",
            "\n",
            "Adjuntando el paquete: 'ParamHelpers'\n",
            "\n",
            "\n",
            "The following object is masked from 'package:R.utils':\n",
            "\n",
            "    isVector\n",
            "\n",
            "\n",
            "\n",
            "Adjuntando el paquete: 'mlr'\n",
            "\n",
            "\n",
            "The following objects are masked from 'package:R.utils':\n",
            "\n",
            "    resample, setThreshold\n",
            "\n",
            "\n",
            "Cargando paquete requerido: smoof\n",
            "\n",
            "Cargando paquete requerido: checkmate\n",
            "\n",
            "\n",
            "Adjuntando el paquete: 'checkmate'\n",
            "\n",
            "\n",
            "The following object is masked from 'package:DiceKriging':\n",
            "\n",
            "    checkNames\n",
            "\n",
            "\n",
            "The following object is masked from 'package:R.utils':\n",
            "\n",
            "    asInt\n",
            "\n",
            "\n",
            "\n",
            "Adjuntando el paquete: 'smoof'\n",
            "\n",
            "\n",
            "The following objects are masked from 'package:R.oo':\n",
            "\n",
            "    getDescription, getName\n",
            "\n",
            "\n"
          ]
        }
      ],
      "source": [
        "# paquete necesarios para la Bayesian Optimization\n",
        "if( !require(\"mlrMBO\") ) install.packages(\"mlrMBO\")\n",
        "require(\"mlrMBO\")"
      ]
    },
    {
      "cell_type": "markdown",
      "metadata": {
        "id": "0h5tn-8QL1YA"
      },
      "source": [
        "Accion a realizar : cambiar por su semilla primigenia"
      ]
    },
    {
      "cell_type": "code",
      "execution_count": 7,
      "metadata": {
        "id": "rFmJWC1nlCaA",
        "vscode": {
          "languageId": "r"
        }
      },
      "outputs": [],
      "source": [
        "# Defino parametros\n",
        "PARAM <- list()\n",
        "\n",
        "PARAM$semilla_primigenia <- 200003\n",
        "PARAM$experimento <- \"HT308\"\n",
        "\n",
        "PARAM$BO_iter <- 40 # cantidad de iteraciones de la Bayesian Optimization\n",
        "\n",
        "# la letra L al final de 1L significa ENTERO\n",
        "PARAM$hs <- makeParamSet(\n",
        "    makeNumericParam(\"cp\", lower= -1, upper= 0.1),\n",
        "    makeIntegerParam(\"minsplit\", lower= 1L, upper= 8000L),\n",
        "    makeIntegerParam(\"minbucket\", lower= 1L, upper= 4000L),\n",
        "    makeIntegerParam(\"maxdepth\", lower= 3L, upper= 20L),\n",
        "    forbidden= quote(minbucket > 0.5 * minsplit)\n",
        ")\n",
        "# minbuket NO PUEDE ser mayor que la mitad de minsplit\n",
        "\n"
      ]
    },
    {
      "cell_type": "code",
      "execution_count": null,
      "metadata": {
        "id": "xUuITlXAOp-2",
        "vscode": {
          "languageId": "r"
        }
      },
      "outputs": [],
      "source": [
        "# carpeta de trabajo\n",
        "setwd(\"/content/buckets/b1/exp\")\n",
        "dir.create(PARAM$experimento, showWarnings=FALSE)\n",
        "setwd( paste0(\"/content/buckets/b1/exp/\", PARAM$experimento ))"
      ]
    },
    {
      "cell_type": "code",
      "execution_count": 8,
      "metadata": {
        "id": "0AWMWd5dlHqk",
        "vscode": {
          "languageId": "r"
        }
      },
      "outputs": [],
      "source": [
        "particionar <- function(data, division, agrupa = \"\", campo = \"fold\",\n",
        "                        start = 1, seed = NA) {\n",
        "  if (!is.na(seed)) set.seed(seed)\n",
        "\n",
        "  bloque <- unlist(mapply(\n",
        "    function(x, y) {\n",
        "      rep(y, x)\n",
        "    }, division,\n",
        "    seq(from= start, length.out= length(division))\n",
        "  ))\n",
        "\n",
        "  data[, (campo) := sample(rep(bloque, ceiling(.N / length(bloque))))[1:.N],\n",
        "    by= agrupa\n",
        "  ]\n",
        "}\n"
      ]
    },
    {
      "cell_type": "code",
      "execution_count": 9,
      "metadata": {
        "id": "Bij2dW0ElKZ8",
        "vscode": {
          "languageId": "r"
        }
      },
      "outputs": [],
      "source": [
        "# fold_test  tiene el numero de fold que voy a usar para testear,\n",
        "#  entreno en el resto de los folds\n",
        "# param tiene los hiperparametros del arbol\n",
        "\n",
        "ArbolSimple <- function(fold_test, param_rpart) {\n",
        "  # genero el modelo\n",
        "  # entreno en todo MENOS el fold_test que uso para testing\n",
        "  modelo <- rpart(\"clase_ternaria ~ .\",\n",
        "    data= dataset[fold != fold_test, ],\n",
        "    xval= 0,\n",
        "    control= param_rpart\n",
        "  )\n",
        "\n",
        "  # aplico el modelo a los datos de testing\n",
        "  # aplico el modelo sobre los datos de testing\n",
        "  # quiero que me devuelva probabilidades\n",
        "  prediccion <- predict(modelo,\n",
        "    dataset[fold == fold_test, ],\n",
        "    type= \"prob\"\n",
        "  )\n",
        "\n",
        "  # esta es la probabilidad de baja\n",
        "  prob_baja2 <- prediccion[, \"BAJA+2\"]\n",
        "\n",
        "  # calculo la ganancia\n",
        "  ganancia_testing <- dataset[fold == fold_test][\n",
        "    prob_baja2 > 1 / 40,\n",
        "    sum(ifelse(clase_ternaria == \"BAJA+2\",\n",
        "      780000, -20000\n",
        "    ))\n",
        "  ]\n",
        "\n",
        "  # esta es la ganancia sobre el fold de testing, NO esta normalizada\n",
        "  return(ganancia_testing)\n",
        "}\n"
      ]
    },
    {
      "cell_type": "code",
      "execution_count": 10,
      "metadata": {
        "id": "1PoSYV0NlQq7",
        "vscode": {
          "languageId": "r"
        }
      },
      "outputs": [],
      "source": [
        "ArbolesCrossValidation <- function(param_rpart, qfolds, pagrupa, semilla) {\n",
        "  # generalmente  c(1, 1, 1, 1, 1 )  cinco unos\n",
        "  divi <- rep(1, qfolds)\n",
        "\n",
        "  # particiono en dataset en folds\n",
        "  particionar(dataset, divi, seed= semilla, agrupa= pagrupa)\n",
        "\n",
        "  ganancias <- mcmapply(ArbolSimple,\n",
        "    seq(qfolds), # 1 2 3 4 5\n",
        "    MoreArgs= list(param_rpart),\n",
        "    SIMPLIFY= FALSE,\n",
        "    mc.cores= detectCores()\n",
        "  )\n",
        "\n",
        "  dataset[, fold := NULL]\n",
        "\n",
        "  # devuelvo la primer ganancia y el promedio\n",
        "  # promedio las ganancias\n",
        "  ganancia_promedio <- mean(unlist(ganancias))\n",
        "  # aqui normalizo la ganancia\n",
        "  ganancia_promedio_normalizada <- ganancia_promedio * qfolds\n",
        "\n",
        "  return(ganancia_promedio_normalizada)\n",
        "}\n"
      ]
    },
    {
      "cell_type": "code",
      "execution_count": 11,
      "metadata": {
        "id": "wWVKBCNilUxE",
        "vscode": {
          "languageId": "r"
        }
      },
      "outputs": [],
      "source": [
        "# esta funcion solo puede recibir los parametros que se estan optimizando\n",
        "# el resto de los parametros, lamentablemente se pasan como variables globales\n",
        "\n",
        "EstimarGanancia <- function(x) {\n",
        "  message(format(Sys.time(), \"%a %b %d %X %Y\"))\n",
        "  GLOBAL_iteracion <<- GLOBAL_iteracion + 1\n",
        "\n",
        "  xval_folds <- 5\n",
        "  # param= x los hiperparametros del arbol\n",
        "  # qfolds= xval_folds  la cantidad de folds\n",
        "  ganancia <- ArbolesCrossValidation(\n",
        "    param_rpart= x,\n",
        "    qfolds= xval_folds,\n",
        "    pagrupa= \"clase_ternaria\",\n",
        "    semilla= PARAM$semilla_primigenia\n",
        "  )\n",
        "\n",
        "  return(ganancia)\n",
        "}\n"
      ]
    },
    {
      "cell_type": "code",
      "execution_count": null,
      "metadata": {
        "id": "IALv-toylgt0",
        "vscode": {
          "languageId": "r"
        }
      },
      "outputs": [],
      "source": [
        "# leo el dataset\n",
        "dataset <- fread(\"/content/datasets/competencia_01.csv.gz\")"
      ]
    },
    {
      "cell_type": "code",
      "execution_count": null,
      "metadata": {
        "id": "sSygIfLg0Hxf",
        "vscode": {
          "languageId": "r"
        }
      },
      "outputs": [],
      "source": [
        "dataset <- dataset[foto_mes==202104]"
      ]
    },
    {
      "cell_type": "code",
      "execution_count": null,
      "metadata": {
        "id": "l-0H-PQ9lzJ-",
        "vscode": {
          "languageId": "r"
        }
      },
      "outputs": [],
      "source": [
        "\n",
        "archivo_log <- \"BO_log.txt\"\n",
        "archivo_BO <- \"bayesian.RDATA\"\n",
        "\n",
        "# leo si ya existe el log\n",
        "#  para retomar en caso que se se corte el programa\n",
        "GLOBAL_iteracion <- 0\n",
        "GLOBAL_mejor <- -Inf\n",
        "\n",
        "if (file.exists(archivo_log)) {\n",
        "  tabla_log <- fread(archivo_log)\n",
        "  GLOBAL_iteracion <- nrow(tabla_log)\n",
        "  GLOBAL_mejor <- tabla_log[, max(y)]\n",
        "}\n",
        "\n"
      ]
    },
    {
      "cell_type": "code",
      "execution_count": null,
      "metadata": {
        "id": "HseppAV1l1bF",
        "vscode": {
          "languageId": "r"
        }
      },
      "outputs": [],
      "source": [
        "\n",
        "# Aqui comienza la configuracion de la Bayesian Optimization\n",
        "\n",
        "funcion_optimizar <- EstimarGanancia\n",
        "\n",
        "configureMlr(show.learner.output= FALSE)\n",
        "\n",
        "# configuro la busqueda bayesiana,\n",
        "#  los hiperparametros que se van a optimizar\n",
        "# por favor, no desesperarse por lo complejo\n",
        "# minimize= FALSE estoy Maximizando la ganancia\n",
        "obj.fun <- makeSingleObjectiveFunction(\n",
        "  fn= funcion_optimizar,\n",
        "  minimize= FALSE,\n",
        "  noisy= TRUE,\n",
        "  par.set= PARAM$hs,\n",
        "  has.simple.signature= FALSE\n",
        ")\n",
        "\n",
        "ctrl <- makeMBOControl(\n",
        "  save.on.disk.at.time= 600,\n",
        "  save.file.path= archivo_BO\n",
        ")\n",
        "\n",
        "ctrl <- setMBOControlTermination(ctrl, iters= PARAM$BO_iter)\n",
        "ctrl <- setMBOControlInfill(ctrl, crit= makeMBOInfillCritEI())\n",
        "\n",
        "surr.km <- makeLearner(\"regr.km\",\n",
        "  predict.type= \"se\",\n",
        "  covtype= \"matern3_2\", control= list(trace= TRUE)\n",
        ")\n"
      ]
    },
    {
      "cell_type": "code",
      "execution_count": null,
      "metadata": {
        "id": "TAr8HSCLl5p7",
        "vscode": {
          "languageId": "r"
        }
      },
      "outputs": [],
      "source": [
        "\n",
        "# inicio la optimizacion bayesiana\n",
        "if (!file.exists(archivo_BO)) {\n",
        "  bayesiana_salida <- mbo(\n",
        "    fun= obj.fun,\n",
        "    learner= surr.km,\n",
        "    control= ctrl\n",
        "  )\n",
        "} else {\n",
        "  bayesiana_salida <- mboContinue(archivo_BO)\n",
        "}\n",
        "# retomo en caso que ya exista\n"
      ]
    },
    {
      "cell_type": "code",
      "execution_count": null,
      "metadata": {
        "id": "3Yknt3FgoPM4",
        "vscode": {
          "languageId": "r"
        }
      },
      "outputs": [],
      "source": [
        "# almaceno los resultados de la Bayesian Optimization\n",
        "# y capturo los mejores hiperparametros encontrados\n",
        "\n",
        "tb_bayesiana <- as.data.table(bayesiana_salida$opt.path)\n",
        "\n",
        "# ordeno en forma descendente por AUC = y\n",
        "setorder(tb_bayesiana, -y)\n",
        "\n",
        "# grabo para eventualmente poder utilizarlos en OTRA corrida\n",
        "fwrite( tb_bayesiana,\n",
        "  file= \"BO_log.txt\",\n",
        "  sep= \"\\t\"\n",
        ")\n",
        "\n",
        "# los mejores hiperparámetros son los que quedaron en el registro 1 de la tabla\n",
        "PARAM$out$lgbm$mejores_hiperparametros <- tb_bayesiana[\n",
        "  1, # el primero es el de mejor AUC\n",
        "  list(cp, minsplit, minbucket, maxdepth)\n",
        "]\n",
        "\n",
        "print(PARAM$out$lgbm$mejores_hiperparametros)"
      ]
    },
    {
      "cell_type": "code",
      "execution_count": null,
      "metadata": {
        "id": "0-iLm04FMWPR",
        "vscode": {
          "languageId": "r"
        }
      },
      "outputs": [],
      "source": [
        "format(Sys.time(), \"%a %b %d %X %Y\")"
      ]
    },
    {
      "cell_type": "markdown",
      "metadata": {
        "id": "1nUDGTieOym3"
      },
      "source": [
        "\n",
        "\n",
        "---\n",
        "\n"
      ]
    }
  ],
  "metadata": {
    "colab": {
      "provenance": []
    },
    "kernelspec": {
      "display_name": "R",
      "language": "R",
      "name": "ir"
    },
    "language_info": {
      "codemirror_mode": "r",
      "file_extension": ".r",
      "mimetype": "text/x-r-source",
      "name": "R",
      "pygments_lexer": "r",
      "version": "4.4.3"
    }
  },
  "nbformat": 4,
  "nbformat_minor": 0
}
