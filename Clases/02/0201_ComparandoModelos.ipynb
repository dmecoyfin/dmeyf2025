{
  "cells": [
    {
      "cell_type": "markdown",
      "metadata": {
        "id": "5DrvzQ9BsXmX"
      },
      "source": [
        "# Comparando Modelos"
      ]
    },
    {
      "cell_type": "markdown",
      "metadata": {
        "id": "Y2U9lu16sgta"
      },
      "source": [
        "Estamos en la  Clase 02\n",
        "<br> El objetivo de la materia es lograr la mejor predicción para nuestro probleama, para lo que se probarán pipelines con decenas de alternativas, será indispensable comparar varios modelos predictivos entre sí y decidir cual es el mejor\n",
        "<br> La tarea no es tan sencilla"
      ]
    },
    {
      "cell_type": "markdown",
      "metadata": {
        "id": "kmLygy1TYPfg"
      },
      "source": [
        "## Seteo del ambiente en Google Colab"
      ]
    },
    {
      "cell_type": "markdown",
      "metadata": {
        "id": "OikOm5K2YU3X"
      },
      "source": [
        "Esta parte se debe correr con el runtime en Python3\n",
        "<br>Ir al menu, Runtime -> Change Runtime Tipe -> Runtime type ->  **Python 3**"
      ]
    },
    {
      "cell_type": "markdown",
      "metadata": {
        "id": "4fmV5LyZdFyI"
      },
      "source": [
        "Conectar la virtual machine donde esta corriendo Google Colab con el  Google Drive, para poder tener persistencia de archivos"
      ]
    },
    {
      "cell_type": "code",
      "execution_count": null,
      "metadata": {
        "colab": {
          "base_uri": "https://localhost:8080/"
        },
        "id": "ilEZ-bE2VybW",
        "outputId": "21ec8f73-5191-4bca-e372-c0780e1e7afc",
        "vscode": {
          "languageId": "r"
        }
      },
      "outputs": [
        {
          "name": "stdout",
          "output_type": "stream",
          "text": [
            "Mounted at /content/.drive\n"
          ]
        }
      ],
      "source": [
        "# primero establecer el Runtime de Python 3\n",
        "from google.colab import drive\n",
        "drive.mount('/content/.drive')"
      ]
    },
    {
      "cell_type": "markdown",
      "metadata": {
        "id": "ilaKtqWldeWg"
      },
      "source": [
        "<br>los siguientes comando estan en shell script de Linux\n",
        "*   Crear las carpetas en el Google Drive\n",
        "*   Bajar el  **competencia_01_crudo**  al  Google Drive  y tambien al disco local de la virtual machine que esta corriendo Google Colab\n",
        "\n"
      ]
    },
    {
      "cell_type": "code",
      "execution_count": null,
      "metadata": {
        "colab": {
          "base_uri": "https://localhost:8080/"
        },
        "id": "W8dQFI5QYCFa",
        "outputId": "95453f36-4f4c-4486-b8b6-dc7ebe47ea38",
        "vscode": {
          "languageId": "r"
        }
      },
      "outputs": [],
      "source": [
        "%%shell\n",
        "\n",
        "mkdir -p \"/content/.drive/My Drive/dmeyf\"\n",
        "mkdir -p \"/content/buckets\"\n",
        "ln -s \"/content/.drive/My Drive/dmeyf\" /content/buckets/b1\n",
        "\n",
        "mkdir -p /content/buckets/b1/exp\n",
        "mkdir -p /content/buckets/b1/datasets\n",
        "mkdir -p /content/datasets\n",
        "\n",
        "archivo_origen=\"https://storage.googleapis.com/open-courses/dmeyf2025-e4a2/competencia_01_crudo.csv\"\n",
        "archivo_destino=\"/content/datasets/competencia_01_crudo.csv\"\n",
        "archivo_destino_bucket=\"/content/buckets/b1/datasets/competencia_01_crudo.csv\"\n",
        "\n",
        "if ! test -f $archivo_destino_bucket; then\n",
        "  wget  $archivo_origen  -O $archivo_destino_bucket\n",
        "fi\n",
        "\n",
        "\n",
        "if ! test -f $archivo_destino; then\n",
        "  cp  $archivo_destino_bucket  $archivo_destino\n",
        "fi"
      ]
    },
    {
      "cell_type": "markdown",
      "metadata": {
        "id": "dseB4qb9RqUb"
      },
      "source": [
        "## Generacion de la clase_ternaria"
      ]
    },
    {
      "cell_type": "markdown",
      "metadata": {
        "id": "LCEnE_02RuIQ"
      },
      "source": [
        "Esta parte se debe correr con el runtime en lenguaje **R** Ir al menu, Runtime -> Change Runtime Tipe -> Runtime type -> R"
      ]
    },
    {
      "cell_type": "code",
      "execution_count": null,
      "metadata": {
        "colab": {
          "base_uri": "https://localhost:8080/"
        },
        "id": "P863YZB9R1Ua",
        "outputId": "b8e7cc61-27ac-4664-eacc-b2de7c3b8290",
        "vscode": {
          "languageId": "r"
        }
      },
      "outputs": [],
      "source": [
        "if(!require(\"data.table\")) install.packages(\"data.table\")\n",
        "require( \"data.table\" )\n",
        "\n",
        "# leo el dataset\n",
        "#dataset <- fread(\"/content/datasets/competencia_01_crudo.csv\")\n",
        "dataset <- fread(\"../../Competencia 01/competencia_01_crudo.csv\")\n",
        "\n",
        "# calculo el periodo0 consecutivo\n",
        "dsimple <- dataset[, list(\n",
        "    \"pos\" = .I,\n",
        "    numero_de_cliente,\n",
        "    periodo0 = as.integer(foto_mes/100)*12 +  foto_mes%%100 ) ]\n",
        "\n",
        "\n",
        "# ordeno\n",
        "setorder( dsimple, numero_de_cliente, periodo0 )\n",
        "\n",
        "# calculo topes\n",
        "periodo_ultimo <- dsimple[, max(periodo0) ]\n",
        "periodo_anteultimo <- periodo_ultimo - 1\n",
        "\n",
        "\n",
        "# calculo los leads de orden 1 y 2\n",
        "dsimple[, c(\"periodo1\", \"periodo2\") :=\n",
        "    shift(periodo0, n=1:2, fill=NA, type=\"lead\"),  numero_de_cliente ]\n",
        "\n",
        "# assign most common class values = \"CONTINUA\"\n",
        "dsimple[ periodo0 < periodo_anteultimo, clase_ternaria := \"CONTINUA\" ]\n",
        "\n",
        "# calculo BAJA+1\n",
        "dsimple[ periodo0 < periodo_ultimo &\n",
        "    ( is.na(periodo1) | periodo0 + 1 < periodo1 ),\n",
        "    clase_ternaria := \"BAJA+1\" ]\n",
        "\n",
        "# calculo BAJA+2\n",
        "dsimple[ periodo0 < periodo_anteultimo & (periodo0+1 == periodo1 )\n",
        "    & ( is.na(periodo2) | periodo0 + 2 < periodo2 ),\n",
        "    clase_ternaria := \"BAJA+2\" ]\n",
        "\n",
        "\n",
        "# pego el resultado en el dataset original y grabo\n",
        "setorder( dsimple, pos )\n",
        "dataset[, clase_ternaria := dsimple$clase_ternaria ]\n",
        "\n",
        "fwrite( dataset,\n",
        "    #file =  \"/content/datasets/competencia_01.csv.gz\",\n",
        "    file =  \"./competencia_01.csv.gz\",\n",
        "    sep = \",\"\n",
        ")"
      ]
    },
    {
      "cell_type": "code",
      "execution_count": 6,
      "metadata": {
        "colab": {
          "base_uri": "https://localhost:8080/",
          "height": 568
        },
        "id": "S3hL7tv8W4rn",
        "outputId": "55a6ab46-6937-4104-b19c-18e557533506",
        "vscode": {
          "languageId": "r"
        }
      },
      "outputs": [
        {
          "data": {
            "text/html": [
              "<table class=\"dataframe\">\n",
              "<caption>A data.table: 15 × 3</caption>\n",
              "<thead>\n",
              "\t<tr><th scope=col>foto_mes</th><th scope=col>clase_ternaria</th><th scope=col>N</th></tr>\n",
              "\t<tr><th scope=col>&lt;int&gt;</th><th scope=col>&lt;chr&gt;</th><th scope=col>&lt;int&gt;</th></tr>\n",
              "</thead>\n",
              "<tbody>\n",
              "\t<tr><td>202101</td><td>BAJA+1  </td><td>   622</td></tr>\n",
              "\t<tr><td>202101</td><td>BAJA+2  </td><td>   825</td></tr>\n",
              "\t<tr><td>202101</td><td>CONTINUA</td><td>160080</td></tr>\n",
              "\t<tr><td>202102</td><td>BAJA+1  </td><td>   831</td></tr>\n",
              "\t<tr><td>202102</td><td>BAJA+2  </td><td>  1032</td></tr>\n",
              "\t<tr><td>202102</td><td>CONTINUA</td><td>160292</td></tr>\n",
              "\t<tr><td>202103</td><td>BAJA+1  </td><td>  1039</td></tr>\n",
              "\t<tr><td>202103</td><td>BAJA+2  </td><td>   951</td></tr>\n",
              "\t<tr><td>202103</td><td>CONTINUA</td><td>161119</td></tr>\n",
              "\t<tr><td>202104</td><td>BAJA+1  </td><td>   955</td></tr>\n",
              "\t<tr><td>202104</td><td>BAJA+2  </td><td>  1130</td></tr>\n",
              "\t<tr><td>202104</td><td>CONTINUA</td><td>161333</td></tr>\n",
              "\t<tr><td>202105</td><td>NA      </td><td>162783</td></tr>\n",
              "\t<tr><td>202105</td><td>BAJA+1  </td><td>  1134</td></tr>\n",
              "\t<tr><td>202106</td><td>NA      </td><td>164313</td></tr>\n",
              "</tbody>\n",
              "</table>\n"
            ],
            "text/latex": [
              "A data.table: 15 × 3\n",
              "\\begin{tabular}{lll}\n",
              " foto\\_mes & clase\\_ternaria & N\\\\\n",
              " <int> & <chr> & <int>\\\\\n",
              "\\hline\n",
              "\t 202101 & BAJA+1   &    622\\\\\n",
              "\t 202101 & BAJA+2   &    825\\\\\n",
              "\t 202101 & CONTINUA & 160080\\\\\n",
              "\t 202102 & BAJA+1   &    831\\\\\n",
              "\t 202102 & BAJA+2   &   1032\\\\\n",
              "\t 202102 & CONTINUA & 160292\\\\\n",
              "\t 202103 & BAJA+1   &   1039\\\\\n",
              "\t 202103 & BAJA+2   &    951\\\\\n",
              "\t 202103 & CONTINUA & 161119\\\\\n",
              "\t 202104 & BAJA+1   &    955\\\\\n",
              "\t 202104 & BAJA+2   &   1130\\\\\n",
              "\t 202104 & CONTINUA & 161333\\\\\n",
              "\t 202105 & NA       & 162783\\\\\n",
              "\t 202105 & BAJA+1   &   1134\\\\\n",
              "\t 202106 & NA       & 164313\\\\\n",
              "\\end{tabular}\n"
            ],
            "text/markdown": [
              "\n",
              "A data.table: 15 × 3\n",
              "\n",
              "| foto_mes &lt;int&gt; | clase_ternaria &lt;chr&gt; | N &lt;int&gt; |\n",
              "|---|---|---|\n",
              "| 202101 | BAJA+1   |    622 |\n",
              "| 202101 | BAJA+2   |    825 |\n",
              "| 202101 | CONTINUA | 160080 |\n",
              "| 202102 | BAJA+1   |    831 |\n",
              "| 202102 | BAJA+2   |   1032 |\n",
              "| 202102 | CONTINUA | 160292 |\n",
              "| 202103 | BAJA+1   |   1039 |\n",
              "| 202103 | BAJA+2   |    951 |\n",
              "| 202103 | CONTINUA | 161119 |\n",
              "| 202104 | BAJA+1   |    955 |\n",
              "| 202104 | BAJA+2   |   1130 |\n",
              "| 202104 | CONTINUA | 161333 |\n",
              "| 202105 | NA       | 162783 |\n",
              "| 202105 | BAJA+1   |   1134 |\n",
              "| 202106 | NA       | 164313 |\n",
              "\n"
            ],
            "text/plain": [
              "   foto_mes clase_ternaria N     \n",
              "1  202101   BAJA+1            622\n",
              "2  202101   BAJA+2            825\n",
              "3  202101   CONTINUA       160080\n",
              "4  202102   BAJA+1            831\n",
              "5  202102   BAJA+2           1032\n",
              "6  202102   CONTINUA       160292\n",
              "7  202103   BAJA+1           1039\n",
              "8  202103   BAJA+2            951\n",
              "9  202103   CONTINUA       161119\n",
              "10 202104   BAJA+1            955\n",
              "11 202104   BAJA+2           1130\n",
              "12 202104   CONTINUA       161333\n",
              "13 202105   NA             162783\n",
              "14 202105   BAJA+1           1134\n",
              "15 202106   NA             164313"
            ]
          },
          "metadata": {},
          "output_type": "display_data"
        }
      ],
      "source": [
        "setorder( dataset, foto_mes, clase_ternaria, numero_de_cliente)\n",
        "dataset[, .N, list(foto_mes, clase_ternaria)]"
      ]
    },
    {
      "cell_type": "markdown",
      "metadata": {
        "id": "iV32-NeesVp6"
      },
      "source": [
        "# 1  Particion Training/Testing\n",
        "## Clase 02  Experimento 1"
      ]
    },
    {
      "cell_type": "markdown",
      "metadata": {
        "id": "84Pnj9gVwpXB"
      },
      "source": [
        "## 1.1  Objetivos\n",
        "Dado que es el primer experimento de la asignatura, acercar a l@s estudiantes las mejores prácticas de operación del ambiente de Google Cloud, realizando una minuciosa demostración en vivo narrando todas las consideraciones pertinentes para evitar accidentes, daños a terceros y a equipos.\n",
        "Dar soporte en el acto a  l@s estudiantes que necesitan ayuda para terminar de configurar el ambiente Google Cloud .\n",
        "<br>Repaso del concepto de  partición de un dataset al azar, estratificada en la clase\n",
        "<br>Dado que es el primer script que se mostrará en vivo a l@s estudiantes,  realizar una visita guiada del  mismo, su estructura y detalles.\n",
        "<br>Repaso del algoritmo Arbol de Decisión sus hiperparámetros, y la implementación con la librería  rpart.  Funciones  rpart::rpart  y rpart::predict\n",
        "<br>Concepto de replicabilidad de los experimentos mediante las semillas de los generadores de secuencias de números pseudoaleatorios.\n",
        "<br>Finalmente, el principal objetivo de este experimento es lograr que l@s estudiantes dimensionen la enorme variabilidad del error de medición de la ganancia de un árbol de decisión al realizar una partición <training, testing>,  contener la sorpresa de los estudiantes, descartar a la simple particion <training, testing> como método,  y construir en conjunto una solucion natural al problema."
      ]
    },
    {
      "cell_type": "markdown",
      "metadata": {
        "id": "L9Cn0WThw37Y"
      },
      "source": [
        "## 1.2 Introduccion"
      ]
    },
    {
      "cell_type": "markdown",
      "metadata": {
        "id": "ZELZ0R4itUVG"
      },
      "source": [
        "![Particiohn Training/Testing](https://storage.googleapis.com/open-courses/austral2025-af91/labo1r/C2_E1_particion.jpg)"
      ]
    },
    {
      "cell_type": "markdown",
      "metadata": {
        "id": "Wtc1ho58xLk-"
      },
      "source": [
        "![Dos tipos de error](https://storage.googleapis.com/open-courses/austral2025-af91/labo1r/C2_E1_target.jpg)"
      ]
    },
    {
      "cell_type": "markdown",
      "metadata": {
        "id": "oRWtRV34xZRT"
      },
      "source": [
        "## 1.3  Bibliografía\n",
        "\n",
        "Demšar, J. [Statistical comparisons of classifiers over multiple data sets](https://www.jmlr.org/papers/volume7/demsar06a/demsar06a.pdf) J. Mach. Learn. Res. 7, 1–30 (2006).   \n",
        "Starmer, J. [Machine Learning Fundamentals: Cross Validation](https://www.youtube.com/watch?v=fSytzGwwBVw)Machine Learning Fundamentals: Cross Validation, StatQuest with Josh Starmer youtube channel, (2018)\n",
        "Hastie, T.[The elements of statistical learning: data mining, inference, and prediction](https://hastie.su.domains/Papers/ESLII.pdf) , volume 2. Springer, 2009  ( Chapter 7 Model Assessment and Selection )"
      ]
    },
    {
      "cell_type": "markdown",
      "metadata": {
        "id": "VcgTQ2-Pyb8q"
      },
      "source": [
        "## 1.4 Codigo"
      ]
    },
    {
      "cell_type": "markdown",
      "metadata": {
        "id": "SBXPU-_tabMb"
      },
      "source": [
        "Esta parte se debe correr con el runtime en lenguaje **R** Ir al menu, Runtime -> Change Runtime Tipe -> Runtime type -> R"
      ]
    },
    {
      "cell_type": "markdown",
      "metadata": {
        "id": "SE94XRhWsxkX"
      },
      "source": [
        "limpio el ambiente de R"
      ]
    },
    {
      "cell_type": "code",
      "execution_count": 7,
      "metadata": {
        "colab": {
          "base_uri": "https://localhost:8080/",
          "height": 129
        },
        "id": "oZG_4br6szlT",
        "outputId": "9b3a44cf-4771-4d42-9e4b-8481b33d7411",
        "vscode": {
          "languageId": "r"
        }
      },
      "outputs": [
        {
          "data": {
            "text/html": [
              "<table class=\"dataframe\">\n",
              "<caption>A matrix: 2 × 6 of type dbl</caption>\n",
              "<thead>\n",
              "\t<tr><th></th><th scope=col>used</th><th scope=col>(Mb)</th><th scope=col>gc trigger</th><th scope=col>(Mb)</th><th scope=col>max used</th><th scope=col>(Mb)</th></tr>\n",
              "</thead>\n",
              "<tbody>\n",
              "\t<tr><th scope=row>Ncells</th><td> 775006</td><td>41.4</td><td>  1431192</td><td>  76.5</td><td>  1431192</td><td>  76.5</td></tr>\n",
              "\t<tr><th scope=row>Vcells</th><td>1466886</td><td>11.2</td><td>295484634</td><td>2254.4</td><td>369287786</td><td>2817.5</td></tr>\n",
              "</tbody>\n",
              "</table>\n"
            ],
            "text/latex": [
              "A matrix: 2 × 6 of type dbl\n",
              "\\begin{tabular}{r|llllll}\n",
              "  & used & (Mb) & gc trigger & (Mb) & max used & (Mb)\\\\\n",
              "\\hline\n",
              "\tNcells &  775006 & 41.4 &   1431192 &   76.5 &   1431192 &   76.5\\\\\n",
              "\tVcells & 1466886 & 11.2 & 295484634 & 2254.4 & 369287786 & 2817.5\\\\\n",
              "\\end{tabular}\n"
            ],
            "text/markdown": [
              "\n",
              "A matrix: 2 × 6 of type dbl\n",
              "\n",
              "| <!--/--> | used | (Mb) | gc trigger | (Mb) | max used | (Mb) |\n",
              "|---|---|---|---|---|---|---|\n",
              "| Ncells |  775006 | 41.4 |   1431192 |   76.5 |   1431192 |   76.5 |\n",
              "| Vcells | 1466886 | 11.2 | 295484634 | 2254.4 | 369287786 | 2817.5 |\n",
              "\n"
            ],
            "text/plain": [
              "       used    (Mb) gc trigger (Mb)   max used  (Mb)  \n",
              "Ncells  775006 41.4   1431192    76.5   1431192   76.5\n",
              "Vcells 1466886 11.2 295484634  2254.4 369287786 2817.5"
            ]
          },
          "metadata": {},
          "output_type": "display_data"
        }
      ],
      "source": [
        "# limpio la memoria\n",
        "rm(list=ls(all.names=TRUE)) # remove all objects\n",
        "gc(full=TRUE, verbose=FALSE) # garbage collection"
      ]
    },
    {
      "cell_type": "code",
      "execution_count": 8,
      "metadata": {
        "colab": {
          "base_uri": "https://localhost:8080/",
          "height": 34
        },
        "id": "pJ8SsVA5ssnf",
        "outputId": "f6350d24-f44b-4dbc-9509-e6ef83de3814",
        "vscode": {
          "languageId": "r"
        }
      },
      "outputs": [
        {
          "data": {
            "text/plain": [
              "[1] \"2025-08-27 14:59:20 -03\""
            ]
          },
          "metadata": {},
          "output_type": "display_data"
        }
      ],
      "source": [
        "Sys.time()"
      ]
    },
    {
      "cell_type": "markdown",
      "metadata": {
        "id": "3BrrQ47PeEb2"
      },
      "source": [
        "* Instalacion de la libreria  rpart.plot  para dibujar el arbol\n",
        "* invocacion de las librerias  **data.table** y  **rpart**"
      ]
    },
    {
      "cell_type": "code",
      "execution_count": 9,
      "metadata": {
        "id": "SxO-0Ql0khn6",
        "vscode": {
          "languageId": "r"
        }
      },
      "outputs": [
        {
          "name": "stderr",
          "output_type": "stream",
          "text": [
            "Cargando paquete requerido: rpart\n",
            "\n"
          ]
        }
      ],
      "source": [
        "# cargo las librerias que necesito\n",
        "require(\"data.table\")\n",
        "require(\"rpart\")"
      ]
    },
    {
      "cell_type": "code",
      "execution_count": 10,
      "metadata": {
        "id": "aM5cS4BRX2qr",
        "vscode": {
          "languageId": "r"
        }
      },
      "outputs": [
        {
          "name": "stderr",
          "output_type": "stream",
          "text": [
            "Cargando paquete requerido: R.utils\n",
            "\n",
            "Cargando paquete requerido: R.oo\n",
            "\n",
            "Cargando paquete requerido: R.methodsS3\n",
            "\n",
            "R.methodsS3 v1.8.2 (2022-06-13 22:00:14 UTC) successfully loaded. See ?R.methodsS3 for help.\n",
            "\n",
            "R.oo v1.27.1 (2025-05-02 21:00:05 UTC) successfully loaded. See ?R.oo for help.\n",
            "\n",
            "\n",
            "Adjuntando el paquete: 'R.oo'\n",
            "\n",
            "\n",
            "The following object is masked from 'package:R.methodsS3':\n",
            "\n",
            "    throw\n",
            "\n",
            "\n",
            "The following objects are masked from 'package:methods':\n",
            "\n",
            "    getClasses, getMethods\n",
            "\n",
            "\n",
            "The following objects are masked from 'package:base':\n",
            "\n",
            "    attach, detach, load, save\n",
            "\n",
            "\n",
            "R.utils v2.13.0 (2025-02-24 21:20:02 UTC) successfully loaded. See ?R.utils for help.\n",
            "\n",
            "\n",
            "Adjuntando el paquete: 'R.utils'\n",
            "\n",
            "\n",
            "The following object is masked from 'package:utils':\n",
            "\n",
            "    timestamp\n",
            "\n",
            "\n",
            "The following objects are masked from 'package:base':\n",
            "\n",
            "    cat, commandArgs, getOption, isOpen, nullfile, parse, use, warnings\n",
            "\n",
            "\n"
          ]
        }
      ],
      "source": [
        "if(!require(\"R.utils\")) install.packages(\"R.utils\")\n",
        "require(\"R.utils\")"
      ]
    },
    {
      "cell_type": "markdown",
      "metadata": {
        "id": "ZG9fCnZh3bWV"
      },
      "source": [
        "###  Accion a Realizar\n",
        "PARAM$semilla  debe tener su primer semilla aleatoria"
      ]
    },
    {
      "cell_type": "code",
      "execution_count": 11,
      "metadata": {
        "id": "0nx5_OcE3Y9c",
        "vscode": {
          "languageId": "r"
        }
      },
      "outputs": [],
      "source": [
        "PARAM <- list()\n",
        "PARAM$semilla <- 200003  # aqui debe ir su primer semilla\n",
        "PARAM$training_pct <- 70L  # entre  1L y 99L\n",
        "\n",
        "PARAM$rpart <- list (\n",
        "  \"cp\" = -1, # complejidad minima\n",
        "  \"minsplit\" = 170, # minima cantidad de regs en un nodo para hacer el split\n",
        "  \"minbucket\" = 70, # minima cantidad de regs en una hoja\n",
        "  \"maxdepth\" = 7 # profundidad máxima del arbol\n",
        ")\n"
      ]
    },
    {
      "cell_type": "code",
      "execution_count": 12,
      "metadata": {
        "id": "8HLE9Dx80gjH",
        "vscode": {
          "languageId": "r"
        }
      },
      "outputs": [],
      "source": [
        "# particionar agrega una columna llamada fold a un dataset\n",
        "#  que consiste en una particion estratificada segun agrupa\n",
        "\n",
        "# particionar( data=dataset, division=c(70,30),\n",
        "#  agrupa=clase_ternaria, seed=semilla)   crea una particion 70, 30\n",
        "\n",
        "particionar <- function(\n",
        "    data, division, agrupa = \"\",\n",
        "    campo = \"fold\", start = 1, seed = NA) {\n",
        "  if (!is.na(seed)) set.seed(seed)\n",
        "\n",
        "  bloque <- unlist(mapply(function(x, y) {\n",
        "    rep(y, x)\n",
        "  }, division, seq(from = start, length.out = length(division))))\n",
        "\n",
        "  data[, (campo) := sample(rep(bloque, ceiling(.N / length(bloque))))[1:.N],\n",
        "    by = agrupa\n",
        "  ]\n",
        "}\n"
      ]
    },
    {
      "cell_type": "code",
      "execution_count": null,
      "metadata": {
        "id": "sC4_nqcm0nUs",
        "vscode": {
          "languageId": "r"
        }
      },
      "outputs": [],
      "source": [
        "# carpeta de trabajo\n",
        "setwd(\"/content/buckets/b1/exp\")\n",
        "experimento <- \"exp0201\"\n",
        "dir.create(experimento, showWarnings=FALSE)\n",
        "setwd( paste0(\"/content/buckets/b1/exp/\", experimento ))"
      ]
    },
    {
      "cell_type": "code",
      "execution_count": 13,
      "metadata": {
        "colab": {
          "base_uri": "https://localhost:8080/",
          "height": 34
        },
        "id": "6yIEsZOw07q8",
        "outputId": "96adb51d-61c1-48a4-c9a3-bd182e2948c0",
        "vscode": {
          "languageId": "r"
        }
      },
      "outputs": [
        {
          "data": {
            "text/html": [
              "978439"
            ],
            "text/latex": [
              "978439"
            ],
            "text/markdown": [
              "978439"
            ],
            "text/plain": [
              "[1] 978439"
            ]
          },
          "metadata": {},
          "output_type": "display_data"
        }
      ],
      "source": [
        "# lectura del dataset\n",
        "#dataset <- fread(\"/content/datasets/competencia_01.csv.gz\")\n",
        "dataset <- fread(\"./competencia_01.csv.gz\")\n",
        "nrow(dataset)"
      ]
    },
    {
      "cell_type": "code",
      "execution_count": 14,
      "metadata": {
        "colab": {
          "base_uri": "https://localhost:8080/",
          "height": 210
        },
        "id": "aG02EmUuZNLs",
        "outputId": "b3583f39-c17f-4f7b-a61a-f7f5092f2c95",
        "vscode": {
          "languageId": "r"
        }
      },
      "outputs": [
        {
          "data": {
            "text/html": [
              "163418"
            ],
            "text/latex": [
              "163418"
            ],
            "text/markdown": [
              "163418"
            ],
            "text/plain": [
              "[1] 163418"
            ]
          },
          "metadata": {},
          "output_type": "display_data"
        },
        {
          "data": {
            "text/html": [
              "<table class=\"dataframe\">\n",
              "<caption>A data.table: 3 × 2</caption>\n",
              "<thead>\n",
              "\t<tr><th scope=col>clase_ternaria</th><th scope=col>N</th></tr>\n",
              "\t<tr><th scope=col>&lt;chr&gt;</th><th scope=col>&lt;int&gt;</th></tr>\n",
              "</thead>\n",
              "<tbody>\n",
              "\t<tr><td>CONTINUA</td><td>161333</td></tr>\n",
              "\t<tr><td>BAJA+1  </td><td>   955</td></tr>\n",
              "\t<tr><td>BAJA+2  </td><td>  1130</td></tr>\n",
              "</tbody>\n",
              "</table>\n"
            ],
            "text/latex": [
              "A data.table: 3 × 2\n",
              "\\begin{tabular}{ll}\n",
              " clase\\_ternaria & N\\\\\n",
              " <chr> & <int>\\\\\n",
              "\\hline\n",
              "\t CONTINUA & 161333\\\\\n",
              "\t BAJA+1   &    955\\\\\n",
              "\t BAJA+2   &   1130\\\\\n",
              "\\end{tabular}\n"
            ],
            "text/markdown": [
              "\n",
              "A data.table: 3 × 2\n",
              "\n",
              "| clase_ternaria &lt;chr&gt; | N &lt;int&gt; |\n",
              "|---|---|\n",
              "| CONTINUA | 161333 |\n",
              "| BAJA+1   |    955 |\n",
              "| BAJA+2   |   1130 |\n",
              "\n"
            ],
            "text/plain": [
              "  clase_ternaria N     \n",
              "1 CONTINUA       161333\n",
              "2 BAJA+1            955\n",
              "3 BAJA+2           1130"
            ]
          },
          "metadata": {},
          "output_type": "display_data"
        }
      ],
      "source": [
        "# trabajo solo con los datos de 202104, ultimo mes con clase_ternaria completa\n",
        "# filtro datos\n",
        "dataset <- dataset[foto_mes==202104]\n",
        "\n",
        "invisible(gc(full=TRUE, verbose=FALSE)) # garbage collection\n",
        "\n",
        "nrow(dataset)\n",
        "dataset[, .N, clase_ternaria]"
      ]
    },
    {
      "cell_type": "code",
      "execution_count": 15,
      "metadata": {
        "id": "FAO1Hhd52b5d",
        "vscode": {
          "languageId": "r"
        }
      },
      "outputs": [],
      "source": [
        "# particiono estratificadamente el dataset 70%, 30%\n",
        "particionar(dataset,\n",
        "  division = c(PARAM$training_pct, 100L -PARAM$training_pct),\n",
        "  agrupa = \"clase_ternaria\",\n",
        "  seed = PARAM$semilla # aqui se usa SU semilla\n",
        ")"
      ]
    },
    {
      "cell_type": "code",
      "execution_count": 16,
      "metadata": {
        "id": "s3UnHSLP2gN6",
        "vscode": {
          "languageId": "r"
        }
      },
      "outputs": [],
      "source": [
        "# genero el modelo\n",
        "# quiero predecir clase_ternaria a partir del resto\n",
        "# fold==1  es training,  el 70% de los datos\n",
        "modelo <- rpart(\"clase_ternaria ~ .\",\n",
        "  data= dataset[fold == 1],  # fold==1  es training, el 70% de los datos\n",
        "  xval= 0,\n",
        "  control= PARAM$rpart # aqui van los parametros\n",
        ")"
      ]
    },
    {
      "cell_type": "code",
      "execution_count": 17,
      "metadata": {
        "id": "paQphV4A2jGz",
        "vscode": {
          "languageId": "r"
        }
      },
      "outputs": [],
      "source": [
        "# aplico el modelo a los datos de testing\n",
        "prediccion <- predict(modelo, # el modelo que genere recien\n",
        "  dataset[fold == 2], # fold==2  es testing, el 30% de los datos\n",
        "  type= \"prob\"\n",
        ") # type= \"prob\"  es que devuelva la probabilidad"
      ]
    },
    {
      "cell_type": "code",
      "execution_count": 18,
      "metadata": {
        "id": "fuLZ75pA29dT",
        "vscode": {
          "languageId": "r"
        }
      },
      "outputs": [],
      "source": [
        "tb_prediccion <- as.data.table(list(\n",
        "  \"clase_ternaria\"=dataset[fold == 2, clase_ternaria],\n",
        "  \"prob\"= prediccion[, \"BAJA+2\"]\n",
        "))"
      ]
    },
    {
      "cell_type": "code",
      "execution_count": 19,
      "metadata": {
        "id": "LuG6ql_t3kOI",
        "vscode": {
          "languageId": "r"
        }
      },
      "outputs": [],
      "source": [
        "# calculo la ganancia de cada registro\n",
        "tb_prediccion[, ganancia := ifelse(clase_ternaria == \"BAJA+2\", 780000, -20000)]"
      ]
    },
    {
      "cell_type": "code",
      "execution_count": 20,
      "metadata": {
        "id": "xJ3WTMez3leO",
        "vscode": {
          "languageId": "r"
        }
      },
      "outputs": [],
      "source": [
        "# calculo la clase\n",
        "tb_prediccion[, Predicted := prob > (1/40) ]"
      ]
    },
    {
      "cell_type": "code",
      "execution_count": 21,
      "metadata": {
        "id": "cFQPacen4Wq6",
        "vscode": {
          "languageId": "r"
        }
      },
      "outputs": [],
      "source": [
        "ganancia_test <-  tb_prediccion[ Predicted==TRUE,  sum(ganancia)]"
      ]
    },
    {
      "cell_type": "code",
      "execution_count": 22,
      "metadata": {
        "id": "dHjz0zhN4-nZ",
        "vscode": {
          "languageId": "r"
        }
      },
      "outputs": [],
      "source": [
        "# normalizo la ganancia\n",
        "ganancia_test_normalizada <- ganancia_test / (( 100 - PARAM$training_pct ) / 100 )"
      ]
    },
    {
      "cell_type": "code",
      "execution_count": 23,
      "metadata": {
        "id": "D7RUdTb95F6B",
        "vscode": {
          "languageId": "r"
        }
      },
      "outputs": [],
      "source": [
        "estimulos <- tb_prediccion[ Predicted==TRUE, .N]\n",
        "aciertos <- tb_prediccion[ Predicted & clase_ternaria == \"BAJA+2\", .N]"
      ]
    },
    {
      "cell_type": "code",
      "execution_count": 24,
      "metadata": {
        "colab": {
          "base_uri": "https://localhost:8080/"
        },
        "id": "Lu1KM6fy5U7h",
        "outputId": "c984eede-5f53-4847-83db-1c272e9e98f2",
        "vscode": {
          "languageId": "r"
        }
      },
      "outputs": [
        {
          "name": "stdout",
          "output_type": "stream",
          "text": [
            "Testing total:  49023 \n",
            "Testing BAJA+2:  336 \n",
            "Estimulos:  2481 \n",
            "Aciertos (BAJA+2):  175 \n",
            "Ganancia en testing (normalizada):  301266667 \n"
          ]
        }
      ],
      "source": [
        "# Resultado Final\n",
        "cat(\"Testing total: \", dataset[fold == 2, .N], \"\\n\")\n",
        "cat(\"Testing BAJA+2: \", dataset[fold == 2 & clase_ternaria == \"BAJA+2\", .N], \"\\n\")\n",
        "\n",
        "cat(\"Estimulos: \", estimulos, \"\\n\")\n",
        "cat(\"Aciertos (BAJA+2): \", aciertos, \"\\n\")\n",
        "\n",
        "cat(\"Ganancia en testing (normalizada): \", ganancia_test_normalizada, \"\\n\")"
      ]
    },
    {
      "cell_type": "markdown",
      "metadata": {
        "id": "kHs-YoFB5rUa"
      },
      "source": [
        "### Acciones a realizar\n",
        "* Reportar la  *Ganancia en testing (normalizada)* <br> en la planilla colaborativa hoja  **C2-1sem**\n",
        "* Se discutirá en clase la variabilidad de las ganancias obtenidas de distintos alumnos"
      ]
    },
    {
      "cell_type": "markdown",
      "metadata": {
        "id": "LBl_eIeO7WuM"
      },
      "source": [
        "\n",
        "\n",
        "---\n",
        "\n"
      ]
    },
    {
      "cell_type": "markdown",
      "metadata": {
        "id": "h43UCq9y7UlT"
      },
      "source": [
        "# 2  Medición Monte Carlo Cross Validation\n",
        "## Clase 02  Experimento 2"
      ]
    },
    {
      "cell_type": "markdown",
      "metadata": {
        "id": "wHPchGXK80VU"
      },
      "source": [
        "## 2.1  Objetivos\n",
        "Mostrar el funcionamiento de la Montecarlo Cross Validation y que l@s estudiantes aprecien la disminución de la varianza de dicha metodología.\n",
        "Relación con el Teorema Central del Límite"
      ]
    },
    {
      "cell_type": "markdown",
      "metadata": {
        "id": "g6YzACxl9DzS"
      },
      "source": [
        "## 2.2 Introduccion\n",
        "\n",
        "![Montecarlo](https://storage.googleapis.com/open-courses/austral2025-af91/labo1r/C2_E2_montecarlo.jpg)\n",
        "\n",
        "![Curva normal](https://storage.googleapis.com/open-courses/austral2025-af91/labo1r/C2_E2_normal.jpg)\n",
        "\n",
        "![Teorema Central del Limite](https://storage.googleapis.com/open-courses/austral2025-af91/labo1r/C2_E2_teoremacentralLimite.jpg)\n",
        "\n"
      ]
    },
    {
      "cell_type": "markdown",
      "metadata": {
        "id": "lFcJeRAkAr-q"
      },
      "source": [
        "## 2.3  Bibliografía\n",
        "\n",
        "Demšar, J. [Statistical comparisons of classifiers over multiple data sets](https://www.jmlr.org/papers/volume7/demsar06a/demsar06a.pdf) J. Mach. Learn. Res. 7, 1–30 (2006).   \n",
        "Starmer, J. [Machine Learning Fundamentals: Cross Validation](https://www.youtube.com/watch?v=fSytzGwwBVw)Machine Learning Fundamentals: Cross Validation, StatQuest with Josh Starmer youtube channel, (2018)\n",
        "Hastie, T.[The elements of statistical learning: data mining, inference, and prediction](https://hastie.su.domains/Papers/ESLII.pdf) , volume 2. Springer, 2009  ( Chapter 7 Model Assessment and Selection )"
      ]
    },
    {
      "cell_type": "markdown",
      "metadata": {
        "id": "0ztZzYolA2WK"
      },
      "source": [
        "## 2.4 Codigo  Montecarlo"
      ]
    },
    {
      "cell_type": "markdown",
      "metadata": {
        "id": "KLa06ZsiC-Oz"
      },
      "source": [
        "El código de la Montecarlo Cross Validation es notablemente más complejo que el anterior de una simple partición training/testing\n",
        "<br> Se crea la funcion ArbolEstimarGanancia()  que dada una semilla realiza la partición  training/testing, entrena en training, aplica el modelo a testing, y se calculan las ganancias\n",
        "<br> Se utiliza la funcion **mcmapply**  de R para aplicar ArbolEstimarGanancia a todos los elementos del vector de semillas"
      ]
    },
    {
      "cell_type": "markdown",
      "metadata": {
        "id": "ivFiBBOQA2Ws"
      },
      "source": [
        "Esta parte se debe correr con el runtime en lenguaje **R** Ir al menu, Runtime -> Change Runtime Tipe -> Runtime type -> R"
      ]
    },
    {
      "cell_type": "markdown",
      "metadata": {
        "id": "TMSAQDXuA2Ws"
      },
      "source": [
        "limpio el ambiente de R"
      ]
    },
    {
      "cell_type": "code",
      "execution_count": 25,
      "metadata": {
        "colab": {
          "base_uri": "https://localhost:8080/",
          "height": 129
        },
        "id": "eakzb8y2A2Wt",
        "outputId": "ca6377a2-9425-4e32-b5ad-2f24063cd48d",
        "vscode": {
          "languageId": "r"
        }
      },
      "outputs": [
        {
          "data": {
            "text/html": [
              "<table class=\"dataframe\">\n",
              "<caption>A matrix: 2 × 6 of type dbl</caption>\n",
              "<thead>\n",
              "\t<tr><th></th><th scope=col>used</th><th scope=col>(Mb)</th><th scope=col>gc trigger</th><th scope=col>(Mb)</th><th scope=col>max used</th><th scope=col>(Mb)</th></tr>\n",
              "</thead>\n",
              "<tbody>\n",
              "\t<tr><th scope=row>Ncells</th><td> 852639</td><td>45.6</td><td>  1431192</td><td>  76.5</td><td>  1431192</td><td>  76.5</td></tr>\n",
              "\t<tr><th scope=row>Vcells</th><td>1648807</td><td>12.6</td><td>189110167</td><td>1442.8</td><td>369287786</td><td>2817.5</td></tr>\n",
              "</tbody>\n",
              "</table>\n"
            ],
            "text/latex": [
              "A matrix: 2 × 6 of type dbl\n",
              "\\begin{tabular}{r|llllll}\n",
              "  & used & (Mb) & gc trigger & (Mb) & max used & (Mb)\\\\\n",
              "\\hline\n",
              "\tNcells &  852639 & 45.6 &   1431192 &   76.5 &   1431192 &   76.5\\\\\n",
              "\tVcells & 1648807 & 12.6 & 189110167 & 1442.8 & 369287786 & 2817.5\\\\\n",
              "\\end{tabular}\n"
            ],
            "text/markdown": [
              "\n",
              "A matrix: 2 × 6 of type dbl\n",
              "\n",
              "| <!--/--> | used | (Mb) | gc trigger | (Mb) | max used | (Mb) |\n",
              "|---|---|---|---|---|---|---|\n",
              "| Ncells |  852639 | 45.6 |   1431192 |   76.5 |   1431192 |   76.5 |\n",
              "| Vcells | 1648807 | 12.6 | 189110167 | 1442.8 | 369287786 | 2817.5 |\n",
              "\n"
            ],
            "text/plain": [
              "       used    (Mb) gc trigger (Mb)   max used  (Mb)  \n",
              "Ncells  852639 45.6   1431192    76.5   1431192   76.5\n",
              "Vcells 1648807 12.6 189110167  1442.8 369287786 2817.5"
            ]
          },
          "metadata": {},
          "output_type": "display_data"
        }
      ],
      "source": [
        "# limpio la memoria\n",
        "rm(list=ls(all.names=TRUE)) # remove all objects\n",
        "gc(full=TRUE, verbose=FALSE) # garbage collection"
      ]
    },
    {
      "cell_type": "markdown",
      "metadata": {
        "id": "559RkeYZA2Wv"
      },
      "source": [
        "* Instalacion de la libreria  rpart.plot  para dibujar el arbol\n",
        "* invocacion de las librerias  **data.table** y  **rpart**"
      ]
    },
    {
      "cell_type": "code",
      "execution_count": 26,
      "metadata": {
        "colab": {
          "base_uri": "https://localhost:8080/"
        },
        "id": "yf_S_HlsA2Wv",
        "outputId": "c36c01d1-29c5-456c-b867-d87e8f258df5",
        "vscode": {
          "languageId": "r"
        }
      },
      "outputs": [
        {
          "name": "stderr",
          "output_type": "stream",
          "text": [
            "Cargando paquete requerido: parallel\n",
            "\n"
          ]
        }
      ],
      "source": [
        "# cargo las librerias que necesito\n",
        "require(\"data.table\")\n",
        "require(\"rpart\")\n",
        "require(\"parallel\")"
      ]
    },
    {
      "cell_type": "code",
      "execution_count": 27,
      "metadata": {
        "id": "XJ7778QOeGdZ",
        "vscode": {
          "languageId": "r"
        }
      },
      "outputs": [],
      "source": [
        "if(!require(\"R.utils\")) install.packages(\"R.utils\")\n",
        "require(\"R.utils\")"
      ]
    },
    {
      "cell_type": "markdown",
      "metadata": {
        "id": "a4oz2ulCA2Ww"
      },
      "source": [
        "###  Accion a Realizar\n",
        "PARAM$semillas  debe tener sus cinco semillas aleatorias"
      ]
    },
    {
      "cell_type": "code",
      "execution_count": 28,
      "metadata": {
        "id": "yQ2OAP5AA2Wx",
        "vscode": {
          "languageId": "r"
        }
      },
      "outputs": [],
      "source": [
        "PARAM <- list()\n",
        "PARAM$semillas <- c(200003, 300007, 400009, 500009, 600011)  # aqui debe ir sus CINCO\n",
        "PARAM$training_pct <- 70L  # entre  1L y 99L\n",
        "\n",
        "PARAM$rpart <- list (\n",
        "  \"cp\" = -1, # complejidad minima\n",
        "  \"minsplit\" = 170, # minima cantidad de regs en un nodo para hacer el split\n",
        "  \"minbucket\" = 70, # minima cantidad de regs en una hoja\n",
        "  \"maxdepth\" = 7 # profundidad máxima del arbol\n",
        ")\n"
      ]
    },
    {
      "cell_type": "code",
      "execution_count": 29,
      "metadata": {
        "id": "97dMCVJWA2Wy",
        "vscode": {
          "languageId": "r"
        }
      },
      "outputs": [],
      "source": [
        "# particionar agrega una columna llamada fold a un dataset\n",
        "#  que consiste en una particion estratificada segun agrupa\n",
        "\n",
        "# particionar( data=dataset, division=c(70,30),\n",
        "#  agrupa=clase_ternaria, seed=semilla)   crea una particion 70, 30\n",
        "\n",
        "particionar <- function(\n",
        "    data, division, agrupa = \"\",\n",
        "    campo = \"fold\", start = 1, seed = NA) {\n",
        "  if (!is.na(seed)) set.seed(seed)\n",
        "\n",
        "  bloque <- unlist(mapply(function(x, y) {\n",
        "    rep(y, x)\n",
        "  }, division, seq(from = start, length.out = length(division))))\n",
        "\n",
        "  data[, (campo) := sample(rep(bloque, ceiling(.N / length(bloque))))[1:.N],\n",
        "    by = agrupa\n",
        "  ]\n",
        "}\n"
      ]
    },
    {
      "cell_type": "code",
      "execution_count": 30,
      "metadata": {
        "id": "GroZSZoVBuZ5",
        "vscode": {
          "languageId": "r"
        }
      },
      "outputs": [],
      "source": [
        "ArbolEstimarGanancia <- function(semilla, param_basicos) {\n",
        "  # particiono estratificadamente el dataset\n",
        "  particionar(dataset,\n",
        "    division = c(param_basicos$training_pct, 100L -param_basicos$training_pct),\n",
        "    agrupa = \"clase_ternaria\",\n",
        "    seed = semilla # aqui se usa SU semilla\n",
        "  )\n",
        "\n",
        "  # genero el modelo\n",
        "  # predecir clase_ternaria a partir del resto\n",
        "  modelo <- rpart(\"clase_ternaria ~ .\",\n",
        "    data= dataset[fold == 1], # fold==1  es training,  el 70% de los datos\n",
        "    xval= 0,\n",
        "    control= param_basicos$rpart\n",
        "  ) # aqui van los parametros del arbol\n",
        "\n",
        "  # aplico el modelo a los datos de testing\n",
        "  prediccion <- predict(modelo, # el modelo que genere recien\n",
        "    dataset[fold == 2], # fold==2  es testing, el 30% de los datos\n",
        "    type= \"prob\"\n",
        "  ) # type= \"prob\"  es que devuelva la probabilidad\n",
        "\n",
        "  # prediccion es una matriz con TRES columnas,\n",
        "  #  llamadas \"BAJA+1\", \"BAJA+2\"  y \"CONTINUA\"\n",
        "  # cada columna es el vector de probabilidades\n",
        "\n",
        "\n",
        "  # calculo la ganancia en testing  qu es fold==2\n",
        "  ganancia_test <- dataset[\n",
        "    fold== 2,\n",
        "    sum(ifelse(prediccion[, \"BAJA+2\"] > 0.025,\n",
        "      ifelse(clase_ternaria == \"BAJA+2\", 780000, -20000),\n",
        "      0\n",
        "    ))\n",
        "  ]\n",
        "\n",
        "  # escalo la ganancia como si fuera todo el dataset\n",
        "  ganancia_test_normalizada <- ganancia_test / (( 100 - PARAM$training_pct ) / 100 )\n",
        "\n",
        "  return(list(\n",
        "    \"semilla\" = semilla,\n",
        "    \"testing\" = dataset[fold == 2, .N],\n",
        "    \"testing_pos\" = dataset[fold == 2 & clase_ternaria == \"BAJA+2\", .N],\n",
        "    \"envios\" = dataset[fold == 2, sum(prediccion[, \"BAJA+2\"] > 0.025)],\n",
        "    \"aciertos\" = dataset[\n",
        "        fold == 2,\n",
        "        sum(prediccion[, \"BAJA+2\"] > 0.025 & clase_ternaria == \"BAJA+2\")\n",
        "    ],\n",
        "    \"ganancia_test\" = ganancia_test_normalizada\n",
        "  ))\n",
        "}\n"
      ]
    },
    {
      "cell_type": "code",
      "execution_count": null,
      "metadata": {
        "id": "dJIBIX6kA2Wy",
        "vscode": {
          "languageId": "r"
        }
      },
      "outputs": [],
      "source": [
        "# carpeta de trabajo\n",
        "setwd(\"/content/buckets/b1/exp\")\n",
        "experimento <- \"exp0202\"\n",
        "dir.create(experimento, showWarnings=FALSE)\n",
        "setwd( paste0(\"/content/buckets/b1/exp/\", experimento ))"
      ]
    },
    {
      "cell_type": "code",
      "execution_count": 31,
      "metadata": {
        "colab": {
          "base_uri": "https://localhost:8080/",
          "height": 34
        },
        "id": "tKiACdU2A2Wz",
        "outputId": "b2ea2c50-494d-48e6-d7d2-41e0f6a86992",
        "vscode": {
          "languageId": "r"
        }
      },
      "outputs": [
        {
          "data": {
            "text/html": [
              "978439"
            ],
            "text/latex": [
              "978439"
            ],
            "text/markdown": [
              "978439"
            ],
            "text/plain": [
              "[1] 978439"
            ]
          },
          "metadata": {},
          "output_type": "display_data"
        }
      ],
      "source": [
        "#dataset <- fread(\"/content/datasets/competencia_01.csv.gz\")\n",
        "dataset <- fread(\"./competencia_01.csv.gz\")\n",
        "nrow(dataset)"
      ]
    },
    {
      "cell_type": "code",
      "execution_count": 32,
      "metadata": {
        "colab": {
          "base_uri": "https://localhost:8080/",
          "height": 210
        },
        "id": "8tzLsVAoehoW",
        "outputId": "21b5870b-2022-4aa7-deaa-1456e9a65cf2",
        "vscode": {
          "languageId": "r"
        }
      },
      "outputs": [
        {
          "data": {
            "text/html": [
              "163418"
            ],
            "text/latex": [
              "163418"
            ],
            "text/markdown": [
              "163418"
            ],
            "text/plain": [
              "[1] 163418"
            ]
          },
          "metadata": {},
          "output_type": "display_data"
        },
        {
          "data": {
            "text/html": [
              "<table class=\"dataframe\">\n",
              "<caption>A data.table: 3 × 3</caption>\n",
              "<thead>\n",
              "\t<tr><th scope=col>foto_mes</th><th scope=col>clase_ternaria</th><th scope=col>N</th></tr>\n",
              "\t<tr><th scope=col>&lt;int&gt;</th><th scope=col>&lt;chr&gt;</th><th scope=col>&lt;int&gt;</th></tr>\n",
              "</thead>\n",
              "<tbody>\n",
              "\t<tr><td>202104</td><td>CONTINUA</td><td>161333</td></tr>\n",
              "\t<tr><td>202104</td><td>BAJA+1  </td><td>   955</td></tr>\n",
              "\t<tr><td>202104</td><td>BAJA+2  </td><td>  1130</td></tr>\n",
              "</tbody>\n",
              "</table>\n"
            ],
            "text/latex": [
              "A data.table: 3 × 3\n",
              "\\begin{tabular}{lll}\n",
              " foto\\_mes & clase\\_ternaria & N\\\\\n",
              " <int> & <chr> & <int>\\\\\n",
              "\\hline\n",
              "\t 202104 & CONTINUA & 161333\\\\\n",
              "\t 202104 & BAJA+1   &    955\\\\\n",
              "\t 202104 & BAJA+2   &   1130\\\\\n",
              "\\end{tabular}\n"
            ],
            "text/markdown": [
              "\n",
              "A data.table: 3 × 3\n",
              "\n",
              "| foto_mes &lt;int&gt; | clase_ternaria &lt;chr&gt; | N &lt;int&gt; |\n",
              "|---|---|---|\n",
              "| 202104 | CONTINUA | 161333 |\n",
              "| 202104 | BAJA+1   |    955 |\n",
              "| 202104 | BAJA+2   |   1130 |\n",
              "\n"
            ],
            "text/plain": [
              "  foto_mes clase_ternaria N     \n",
              "1 202104   CONTINUA       161333\n",
              "2 202104   BAJA+1            955\n",
              "3 202104   BAJA+2           1130"
            ]
          },
          "metadata": {},
          "output_type": "display_data"
        }
      ],
      "source": [
        "# trabajo solo con los datos de 202104, ultimo mes con clase_ternaria completa\n",
        "# filtro datos\n",
        "dataset <- dataset[foto_mes==202104]\n",
        "\n",
        "invisible(gc(full=TRUE, verbose=FALSE)) # garbage collection\n",
        "\n",
        "nrow(dataset)\n",
        "dataset[, .N, list(foto_mes,clase_ternaria)]"
      ]
    },
    {
      "cell_type": "code",
      "execution_count": 36,
      "metadata": {
        "colab": {
          "base_uri": "https://localhost:8080/",
          "height": 1000
        },
        "id": "64OdfeyxCMDF",
        "outputId": "003f423b-f38c-4a63-cc89-3ce555bb50d4",
        "vscode": {
          "languageId": "r"
        }
      },
      "outputs": [
        {
          "data": {
            "text/html": [
              "<ol>\n",
              "\t<li><dl>\n",
              "\t<dt>$semilla</dt>\n",
              "\t\t<dd>200003</dd>\n",
              "\t<dt>$testing</dt>\n",
              "\t\t<dd>49023</dd>\n",
              "\t<dt>$testing_pos</dt>\n",
              "\t\t<dd>336</dd>\n",
              "\t<dt>$envios</dt>\n",
              "\t\t<dd>2481</dd>\n",
              "\t<dt>$aciertos</dt>\n",
              "\t\t<dd>175</dd>\n",
              "\t<dt>$ganancia_test</dt>\n",
              "\t\t<dd>301266666.666667</dd>\n",
              "</dl>\n",
              "</li>\n",
              "\t<li><dl>\n",
              "\t<dt>$semilla</dt>\n",
              "\t\t<dd>300007</dd>\n",
              "\t<dt>$testing</dt>\n",
              "\t\t<dd>49027</dd>\n",
              "\t<dt>$testing_pos</dt>\n",
              "\t\t<dd>340</dd>\n",
              "\t<dt>$envios</dt>\n",
              "\t\t<dd>2685</dd>\n",
              "\t<dt>$aciertos</dt>\n",
              "\t\t<dd>177</dd>\n",
              "\t<dt>$ganancia_test</dt>\n",
              "\t\t<dd>2.93e+08</dd>\n",
              "</dl>\n",
              "</li>\n",
              "\t<li><dl>\n",
              "\t<dt>$semilla</dt>\n",
              "\t\t<dd>400009</dd>\n",
              "\t<dt>$testing</dt>\n",
              "\t\t<dd>49026</dd>\n",
              "\t<dt>$testing_pos</dt>\n",
              "\t\t<dd>341</dd>\n",
              "\t<dt>$envios</dt>\n",
              "\t\t<dd>3638</dd>\n",
              "\t<dt>$aciertos</dt>\n",
              "\t\t<dd>207</dd>\n",
              "\t<dt>$ganancia_test</dt>\n",
              "\t\t<dd>309466666.666667</dd>\n",
              "</dl>\n",
              "</li>\n",
              "\t<li><dl>\n",
              "\t<dt>$semilla</dt>\n",
              "\t\t<dd>500009</dd>\n",
              "\t<dt>$testing</dt>\n",
              "\t\t<dd>49033</dd>\n",
              "\t<dt>$testing_pos</dt>\n",
              "\t\t<dd>339</dd>\n",
              "\t<dt>$envios</dt>\n",
              "\t\t<dd>3282</dd>\n",
              "\t<dt>$aciertos</dt>\n",
              "\t\t<dd>190</dd>\n",
              "\t<dt>$ganancia_test</dt>\n",
              "\t\t<dd>287866666.666667</dd>\n",
              "</dl>\n",
              "</li>\n",
              "\t<li><dl>\n",
              "\t<dt>$semilla</dt>\n",
              "\t\t<dd>600011</dd>\n",
              "\t<dt>$testing</dt>\n",
              "\t\t<dd>49023</dd>\n",
              "\t<dt>$testing_pos</dt>\n",
              "\t\t<dd>334</dd>\n",
              "\t<dt>$envios</dt>\n",
              "\t\t<dd>3044</dd>\n",
              "\t<dt>$aciertos</dt>\n",
              "\t\t<dd>194</dd>\n",
              "\t<dt>$ganancia_test</dt>\n",
              "\t\t<dd>314400000</dd>\n",
              "</dl>\n",
              "</li>\n",
              "</ol>\n"
            ],
            "text/latex": [
              "\\begin{enumerate}\n",
              "\\item \\begin{description}\n",
              "\\item[\\$semilla] 200003\n",
              "\\item[\\$testing] 49023\n",
              "\\item[\\$testing\\_pos] 336\n",
              "\\item[\\$envios] 2481\n",
              "\\item[\\$aciertos] 175\n",
              "\\item[\\$ganancia\\_test] 301266666.666667\n",
              "\\end{description}\n",
              "\n",
              "\\item \\begin{description}\n",
              "\\item[\\$semilla] 300007\n",
              "\\item[\\$testing] 49027\n",
              "\\item[\\$testing\\_pos] 340\n",
              "\\item[\\$envios] 2685\n",
              "\\item[\\$aciertos] 177\n",
              "\\item[\\$ganancia\\_test] 2.93e+08\n",
              "\\end{description}\n",
              "\n",
              "\\item \\begin{description}\n",
              "\\item[\\$semilla] 400009\n",
              "\\item[\\$testing] 49026\n",
              "\\item[\\$testing\\_pos] 341\n",
              "\\item[\\$envios] 3638\n",
              "\\item[\\$aciertos] 207\n",
              "\\item[\\$ganancia\\_test] 309466666.666667\n",
              "\\end{description}\n",
              "\n",
              "\\item \\begin{description}\n",
              "\\item[\\$semilla] 500009\n",
              "\\item[\\$testing] 49033\n",
              "\\item[\\$testing\\_pos] 339\n",
              "\\item[\\$envios] 3282\n",
              "\\item[\\$aciertos] 190\n",
              "\\item[\\$ganancia\\_test] 287866666.666667\n",
              "\\end{description}\n",
              "\n",
              "\\item \\begin{description}\n",
              "\\item[\\$semilla] 600011\n",
              "\\item[\\$testing] 49023\n",
              "\\item[\\$testing\\_pos] 334\n",
              "\\item[\\$envios] 3044\n",
              "\\item[\\$aciertos] 194\n",
              "\\item[\\$ganancia\\_test] 314400000\n",
              "\\end{description}\n",
              "\n",
              "\\end{enumerate}\n"
            ],
            "text/markdown": [
              "1. $semilla\n",
              ":   200003\n",
              "$testing\n",
              ":   49023\n",
              "$testing_pos\n",
              ":   336\n",
              "$envios\n",
              ":   2481\n",
              "$aciertos\n",
              ":   175\n",
              "$ganancia_test\n",
              ":   301266666.666667\n",
              "\n",
              "\n",
              "\n",
              "2. $semilla\n",
              ":   300007\n",
              "$testing\n",
              ":   49027\n",
              "$testing_pos\n",
              ":   340\n",
              "$envios\n",
              ":   2685\n",
              "$aciertos\n",
              ":   177\n",
              "$ganancia_test\n",
              ":   2.93e+08\n",
              "\n",
              "\n",
              "\n",
              "3. $semilla\n",
              ":   400009\n",
              "$testing\n",
              ":   49026\n",
              "$testing_pos\n",
              ":   341\n",
              "$envios\n",
              ":   3638\n",
              "$aciertos\n",
              ":   207\n",
              "$ganancia_test\n",
              ":   309466666.666667\n",
              "\n",
              "\n",
              "\n",
              "4. $semilla\n",
              ":   500009\n",
              "$testing\n",
              ":   49033\n",
              "$testing_pos\n",
              ":   339\n",
              "$envios\n",
              ":   3282\n",
              "$aciertos\n",
              ":   190\n",
              "$ganancia_test\n",
              ":   287866666.666667\n",
              "\n",
              "\n",
              "\n",
              "5. $semilla\n",
              ":   600011\n",
              "$testing\n",
              ":   49023\n",
              "$testing_pos\n",
              ":   334\n",
              "$envios\n",
              ":   3044\n",
              "$aciertos\n",
              ":   194\n",
              "$ganancia_test\n",
              ":   314400000\n",
              "\n",
              "\n",
              "\n",
              "\n",
              "\n"
            ],
            "text/plain": [
              "[[1]]\n",
              "[[1]]$semilla\n",
              "[1] 200003\n",
              "\n",
              "[[1]]$testing\n",
              "[1] 49023\n",
              "\n",
              "[[1]]$testing_pos\n",
              "[1] 336\n",
              "\n",
              "[[1]]$envios\n",
              "[1] 2481\n",
              "\n",
              "[[1]]$aciertos\n",
              "[1] 175\n",
              "\n",
              "[[1]]$ganancia_test\n",
              "[1] 301266667\n",
              "\n",
              "\n",
              "[[2]]\n",
              "[[2]]$semilla\n",
              "[1] 300007\n",
              "\n",
              "[[2]]$testing\n",
              "[1] 49027\n",
              "\n",
              "[[2]]$testing_pos\n",
              "[1] 340\n",
              "\n",
              "[[2]]$envios\n",
              "[1] 2685\n",
              "\n",
              "[[2]]$aciertos\n",
              "[1] 177\n",
              "\n",
              "[[2]]$ganancia_test\n",
              "[1] 2.93e+08\n",
              "\n",
              "\n",
              "[[3]]\n",
              "[[3]]$semilla\n",
              "[1] 400009\n",
              "\n",
              "[[3]]$testing\n",
              "[1] 49026\n",
              "\n",
              "[[3]]$testing_pos\n",
              "[1] 341\n",
              "\n",
              "[[3]]$envios\n",
              "[1] 3638\n",
              "\n",
              "[[3]]$aciertos\n",
              "[1] 207\n",
              "\n",
              "[[3]]$ganancia_test\n",
              "[1] 309466667\n",
              "\n",
              "\n",
              "[[4]]\n",
              "[[4]]$semilla\n",
              "[1] 500009\n",
              "\n",
              "[[4]]$testing\n",
              "[1] 49033\n",
              "\n",
              "[[4]]$testing_pos\n",
              "[1] 339\n",
              "\n",
              "[[4]]$envios\n",
              "[1] 3282\n",
              "\n",
              "[[4]]$aciertos\n",
              "[1] 190\n",
              "\n",
              "[[4]]$ganancia_test\n",
              "[1] 287866667\n",
              "\n",
              "\n",
              "[[5]]\n",
              "[[5]]$semilla\n",
              "[1] 600011\n",
              "\n",
              "[[5]]$testing\n",
              "[1] 49023\n",
              "\n",
              "[[5]]$testing_pos\n",
              "[1] 334\n",
              "\n",
              "[[5]]$envios\n",
              "[1] 3044\n",
              "\n",
              "[[5]]$aciertos\n",
              "[1] 194\n",
              "\n",
              "[[5]]$ganancia_test\n",
              "[1] 314400000\n",
              "\n"
            ]
          },
          "metadata": {},
          "output_type": "display_data"
        }
      ],
      "source": [
        "# la funcion mcmapply  llama a la funcion ArbolEstimarGanancia\n",
        "#  tantas veces como valores tenga el vector  PARAM$semillas\n",
        "salidas <- mcmapply(ArbolEstimarGanancia,\n",
        "  PARAM$semillas, # paso el vector de semillas\n",
        "  MoreArgs = list(PARAM), # aqui paso el segundo parametro\n",
        "  SIMPLIFY = FALSE,\n",
        "  mc.cores = detectCores()\n",
        ")\n",
        "\n",
        "# muestro la lista de las salidas en testing\n",
        "#  para la particion realizada con cada semilla\n",
        "salidas"
      ]
    },
    {
      "cell_type": "code",
      "execution_count": 37,
      "metadata": {
        "colab": {
          "base_uri": "https://localhost:8080/"
        },
        "id": "tML9VmH2ECFK",
        "outputId": "968bbeba-dd25-4bd7-e560-865176f859e6",
        "vscode": {
          "languageId": "r"
        }
      },
      "outputs": [
        {
          "name": "stdout",
          "output_type": "stream",
          "text": [
            "   semilla testing testing_pos envios aciertos ganancia_test\n",
            "     <num>   <int>       <int>  <int>    <int>         <num>\n",
            "1:  200003   49023         336   2481      175     301266667\n",
            "2:  300007   49027         340   2685      177     293000000\n",
            "3:  400009   49026         341   3638      207     309466667\n",
            "4:  500009   49033         339   3282      190     287866667\n",
            "5:  600011   49023         334   3044      194     314400000\n"
          ]
        }
      ],
      "source": [
        "# paso la lista a vector\n",
        "tb_salida <- rbindlist(salidas)\n",
        "print( tb_salida)"
      ]
    },
    {
      "cell_type": "code",
      "execution_count": 38,
      "metadata": {
        "colab": {
          "base_uri": "https://localhost:8080/"
        },
        "id": "rbHXPfoVENQB",
        "outputId": "5dc9021c-b0d5-42eb-9cb8-651e72a5f6d7",
        "vscode": {
          "languageId": "r"
        }
      },
      "outputs": [
        {
          "name": "stdout",
          "output_type": "stream",
          "text": [
            "ganancia promedio:  301200000 \n"
          ]
        }
      ],
      "source": [
        "# finalmente calculo la media (promedio)  de las ganancias\n",
        "cat( \"ganancia promedio: \", tb_salida[, mean(ganancia_test)], \"\\n\" )"
      ]
    },
    {
      "cell_type": "markdown",
      "metadata": {
        "id": "_3xVH6UKA2W6"
      },
      "source": [
        "### Acciones a realizar\n",
        "* Reportar la  *Ganancia Promedio* <br> en la planilla colaborativa hoja  **C2-5sem**\n",
        "* Se discutirá en clase la variabilidad de estos \"ganancia promedio de cinco semillas\""
      ]
    },
    {
      "cell_type": "markdown",
      "metadata": {
        "id": "N29m1XGpA2W7"
      },
      "source": [
        "\n",
        "\n",
        "---\n",
        "\n"
      ]
    },
    {
      "cell_type": "markdown",
      "metadata": {
        "id": "zS7WIJciFGc6"
      },
      "source": [
        "# 3  Generando n semillas en forma automatica\n",
        "## Clase 02  Experimento 3"
      ]
    },
    {
      "cell_type": "markdown",
      "metadata": {
        "id": "VmiFDDDJFUEo"
      },
      "source": [
        "## 3.1  Objetivos\n",
        "Mostrar la creación de nuevas semillas a partir de la librería Primes"
      ]
    },
    {
      "cell_type": "markdown",
      "metadata": {
        "id": "Ehe3VfdfFbvg"
      },
      "source": [
        "3.2  Código\n",
        "\n",
        "Como generar muchas semillas a partir de una"
      ]
    },
    {
      "cell_type": "code",
      "execution_count": 39,
      "metadata": {
        "colab": {
          "base_uri": "https://localhost:8080/"
        },
        "id": "X6_dE42yF2-t",
        "outputId": "1ba3c6da-8c78-4dd8-e85b-428d323ef616",
        "vscode": {
          "languageId": "r"
        }
      },
      "outputs": [
        {
          "name": "stderr",
          "output_type": "stream",
          "text": [
            "Cargando paquete requerido: primes\n",
            "\n",
            "Warning message in library(package, lib.loc = lib.loc, character.only = TRUE, logical.return = TRUE, :\n",
            "\"no hay paquete llamado 'primes'\"\n",
            "Installing package into 'C:/Users/nacho/AppData/Local/R/win-library/4.4'\n",
            "(as 'lib' is unspecified)\n",
            "\n"
          ]
        },
        {
          "name": "stdout",
          "output_type": "stream",
          "text": [
            "package 'primes' successfully unpacked and MD5 sums checked\n",
            "\n",
            "The downloaded binary packages are in\n",
            "\tC:\\Users\\nacho\\AppData\\Local\\Temp\\RtmpkZEsMA\\downloaded_packages\n"
          ]
        },
        {
          "name": "stderr",
          "output_type": "stream",
          "text": [
            "Cargando paquete requerido: primes\n",
            "\n"
          ]
        }
      ],
      "source": [
        "# instalo y cargo la libreria  primes\n",
        "if (!require(\"primes\")) install.packages(\"primes\")\n",
        "require(\"primes\")"
      ]
    },
    {
      "cell_type": "code",
      "execution_count": 40,
      "metadata": {
        "colab": {
          "base_uri": "https://localhost:8080/"
        },
        "id": "yDU9RyV4FNhZ",
        "outputId": "132651b9-40ff-4a8f-c2c5-532e6fc75787",
        "vscode": {
          "languageId": "r"
        }
      },
      "outputs": [
        {
          "name": "stdout",
          "output_type": "stream",
          "text": [
            " [1] 378821 964333 187049 205151 813697 344719 127217 464371 645137 480803\n",
            "[11] 723319 314641 791599 937577 685649 619363 390539 465887 619657 195737\n"
          ]
        }
      ],
      "source": [
        "# genero numeros primos\n",
        "primos <- generate_primes(min = 100000, max = 1000000)\n",
        "\n",
        "\n",
        "set.seed(102191) # inicializo con mi primer semilla\n",
        "\n",
        "# me quedo con por ejemplo 20 primos al azar\n",
        "semillas <- sample(primos, 20 )\n",
        "\n",
        "print( semillas )"
      ]
    },
    {
      "cell_type": "markdown",
      "metadata": {
        "id": "eD_cO5VTGGea"
      },
      "source": [
        "\n",
        "\n",
        "---\n",
        "\n"
      ]
    },
    {
      "cell_type": "markdown",
      "metadata": {
        "id": "cZi29THsGil_"
      },
      "source": [
        "# 4  Medición  50-Monte Carlo Cross Validation\n",
        "## Clase 02  Experimento 4"
      ]
    },
    {
      "cell_type": "markdown",
      "metadata": {
        "id": "qFNq6ntVGimN"
      },
      "source": [
        "## 4.1  Objetivos\n",
        "Calcular la ganancia del modelo utilizando 50 semillas nuevas generadas a partir de mi semilla primigenia."
      ]
    },
    {
      "cell_type": "markdown",
      "metadata": {
        "id": "B6KtuhQCGimP"
      },
      "source": [
        "## 4.4 Codigo  50 Montecarlo"
      ]
    },
    {
      "cell_type": "markdown",
      "metadata": {
        "id": "LgGgjPQuGimP"
      },
      "source": [
        "Esta parte se debe correr con el runtime en lenguaje **R** Ir al menu, Runtime -> Change Runtime Tipe -> Runtime type -> R"
      ]
    },
    {
      "cell_type": "markdown",
      "metadata": {
        "id": "E82ChuO25OYx"
      },
      "source": [
        "Este punto demora en correr 60 minutos en Google Colab, con lo cual para continuar con el punto siguiente deberá abrir un nuevo Colab"
      ]
    },
    {
      "cell_type": "markdown",
      "metadata": {
        "id": "a6AxqLwOGimQ"
      },
      "source": [
        "limpio el ambiente de R"
      ]
    },
    {
      "cell_type": "code",
      "execution_count": 26,
      "metadata": {
        "colab": {
          "base_uri": "https://localhost:8080/",
          "height": 129
        },
        "id": "797Ad0_QGimQ",
        "outputId": "9432b013-b2ac-42ad-cd63-8a41908c949b",
        "vscode": {
          "languageId": "r"
        }
      },
      "outputs": [
        {
          "data": {
            "text/html": [
              "<table class=\"dataframe\">\n",
              "<caption>A matrix: 2 × 6 of type dbl</caption>\n",
              "<thead>\n",
              "\t<tr><th></th><th scope=col>used</th><th scope=col>(Mb)</th><th scope=col>gc trigger</th><th scope=col>(Mb)</th><th scope=col>max used</th><th scope=col>(Mb)</th></tr>\n",
              "</thead>\n",
              "<tbody>\n",
              "\t<tr><th scope=row>Ncells</th><td> 1112733</td><td> 59.5</td><td> 1819118</td><td> 97.2</td><td>  1819118</td><td>  97.2</td></tr>\n",
              "\t<tr><th scope=row>Vcells</th><td>20886015</td><td>159.4</td><td>66761035</td><td>509.4</td><td>211742910</td><td>1615.5</td></tr>\n",
              "</tbody>\n",
              "</table>\n"
            ],
            "text/latex": [
              "A matrix: 2 × 6 of type dbl\n",
              "\\begin{tabular}{r|llllll}\n",
              "  & used & (Mb) & gc trigger & (Mb) & max used & (Mb)\\\\\n",
              "\\hline\n",
              "\tNcells &  1112733 &  59.5 &  1819118 &  97.2 &   1819118 &   97.2\\\\\n",
              "\tVcells & 20886015 & 159.4 & 66761035 & 509.4 & 211742910 & 1615.5\\\\\n",
              "\\end{tabular}\n"
            ],
            "text/markdown": [
              "\n",
              "A matrix: 2 × 6 of type dbl\n",
              "\n",
              "| <!--/--> | used | (Mb) | gc trigger | (Mb) | max used | (Mb) |\n",
              "|---|---|---|---|---|---|---|\n",
              "| Ncells |  1112733 |  59.5 |  1819118 |  97.2 |   1819118 |   97.2 |\n",
              "| Vcells | 20886015 | 159.4 | 66761035 | 509.4 | 211742910 | 1615.5 |\n",
              "\n"
            ],
            "text/plain": [
              "       used     (Mb)  gc trigger (Mb)  max used  (Mb)  \n",
              "Ncells  1112733  59.5  1819118    97.2   1819118   97.2\n",
              "Vcells 20886015 159.4 66761035   509.4 211742910 1615.5"
            ]
          },
          "metadata": {},
          "output_type": "display_data"
        }
      ],
      "source": [
        "# limpio la memoria\n",
        "rm(list=ls(all.names=TRUE)) # remove all objects\n",
        "gc(full=TRUE, verbose=FALSE) # garbage collection"
      ]
    },
    {
      "cell_type": "markdown",
      "metadata": {
        "id": "v0CepvbjGimQ"
      },
      "source": [
        "* Instalacion de la libreria  rpart.plot  para dibujar el arbol\n",
        "* invocacion de las librerias  **data.table** y  **rpart**"
      ]
    },
    {
      "cell_type": "code",
      "execution_count": 27,
      "metadata": {
        "id": "CRkZ1V2_GimR",
        "vscode": {
          "languageId": "r"
        }
      },
      "outputs": [],
      "source": [
        "# cargo las librerias que necesito\n",
        "require(\"data.table\")\n",
        "require(\"rpart\")\n",
        "require(\"parallel\")\n",
        "\n",
        "if(!require(\"R.utils\")) install.packages(\"R.utils\")\n",
        "require(\"R.utils\")\n",
        "\n",
        "if (!require(\"primes\")) install.packages(\"primes\")\n",
        "require(\"primes\")"
      ]
    },
    {
      "cell_type": "markdown",
      "metadata": {
        "id": "PZKJG-nSGimR"
      },
      "source": [
        "###  Accion a Realizar\n",
        "PARAM$semilla_primigenia  debe reemplazarse por SU primer semilla"
      ]
    },
    {
      "cell_type": "code",
      "execution_count": 28,
      "metadata": {
        "id": "4kbkA-2HGimR",
        "vscode": {
          "languageId": "r"
        }
      },
      "outputs": [],
      "source": [
        "PARAM <- list()\n",
        "PARAM$semilla_primigenia <- 200003\n",
        "PARAM$qsemillas <- 50\n",
        "PARAM$training_pct <- 70L  # entre  1L y 99L\n",
        "\n",
        "PARAM$rpart <- list (\n",
        "  \"cp\" = -1, # complejidad minima\n",
        "  \"minsplit\" = 170, # minima cantidad de regs en un nodo para hacer el split\n",
        "  \"minbucket\" = 70, # minima cantidad de regs en una hoja\n",
        "  \"maxdepth\" = 7 # profundidad máxima del arbol\n",
        ")\n"
      ]
    },
    {
      "cell_type": "code",
      "execution_count": 29,
      "metadata": {
        "id": "HME0qUeOGimS",
        "vscode": {
          "languageId": "r"
        }
      },
      "outputs": [],
      "source": [
        "# particionar agrega una columna llamada fold a un dataset\n",
        "#  que consiste en una particion estratificada segun agrupa\n",
        "\n",
        "# particionar( data=dataset, division=c(70,30),\n",
        "#  agrupa=clase_ternaria, seed=semilla)   crea una particion 70, 30\n",
        "\n",
        "particionar <- function(\n",
        "    data, division, agrupa = \"\",\n",
        "    campo = \"fold\", start = 1, seed = NA) {\n",
        "  if (!is.na(seed)) set.seed(seed)\n",
        "\n",
        "  bloque <- unlist(mapply(function(x, y) {\n",
        "    rep(y, x)\n",
        "  }, division, seq(from = start, length.out = length(division))))\n",
        "\n",
        "  data[, (campo) := sample(rep(bloque, ceiling(.N / length(bloque))))[1:.N],\n",
        "    by = agrupa\n",
        "  ]\n",
        "}"
      ]
    },
    {
      "cell_type": "code",
      "execution_count": 30,
      "metadata": {
        "id": "ro9Ufoi-GimS",
        "vscode": {
          "languageId": "r"
        }
      },
      "outputs": [],
      "source": [
        "ArbolEstimarGanancia <- function(semilla, param_basicos) {\n",
        "  # particiono estratificadamente el dataset\n",
        "  particionar(dataset,\n",
        "    division = c(param_basicos$training_pct, 100L -param_basicos$training_pct),\n",
        "    agrupa = \"clase_ternaria\",\n",
        "    seed = semilla # aqui se usa SU semilla\n",
        "  )\n",
        "\n",
        "  # genero el modelo\n",
        "  # predecir clase_ternaria a partir del resto\n",
        "  modelo <- rpart(\"clase_ternaria ~ .\",\n",
        "    data = dataset[fold == 1], # fold==1  es training,  el 70% de los datos\n",
        "    xval = 0,\n",
        "    control = param_basicos$rpart\n",
        "  ) # aqui van los parametros del arbol\n",
        "\n",
        "  # aplico el modelo a los datos de testing\n",
        "  prediccion <- predict(modelo, # el modelo que genere recien\n",
        "    dataset[fold == 2], # fold==2  es testing, el 30% de los datos\n",
        "    type = \"prob\"\n",
        "  ) # type= \"prob\"  es que devuelva la probabilidad\n",
        "\n",
        "  # prediccion es una matriz con TRES columnas,\n",
        "  #  llamadas \"BAJA+1\", \"BAJA+2\"  y \"CONTINUA\"\n",
        "  # cada columna es el vector de probabilidades\n",
        "\n",
        "\n",
        "  # calculo la ganancia en testing  qu es fold==2\n",
        "  ganancia_test <- dataset[\n",
        "    fold == 2,\n",
        "    sum(ifelse(prediccion[, \"BAJA+2\"] > 0.025,\n",
        "      ifelse(clase_ternaria == \"BAJA+2\", 780000, -20000),\n",
        "      0\n",
        "    ))\n",
        "  ]\n",
        "\n",
        "  # escalo la ganancia como si fuera todo el dataset\n",
        "  ganancia_test_normalizada <- ganancia_test / (( 100 - PARAM$training_pct ) / 100 )\n",
        "\n",
        "  return(list(\n",
        "    \"semilla\" = semilla,\n",
        "    \"testing\" = dataset[fold == 2, .N],\n",
        "    \"testing_pos\" = dataset[fold == 2 & clase_ternaria == \"BAJA+2\", .N],\n",
        "    \"envios\" = dataset[fold == 2, sum(prediccion[, \"BAJA+2\"] > 0.025)],\n",
        "    \"aciertos\" = dataset[\n",
        "        fold == 2,\n",
        "        sum(prediccion[, \"BAJA+2\"] > 0.025 & clase_ternaria == \"BAJA+2\")\n",
        "    ],\n",
        "    \"ganancia_test\" = ganancia_test_normalizada\n",
        "  ))\n",
        "}"
      ]
    },
    {
      "cell_type": "code",
      "execution_count": null,
      "metadata": {
        "id": "gz7LgltwGimT",
        "vscode": {
          "languageId": "r"
        }
      },
      "outputs": [],
      "source": [
        "# carpeta de trabajo\n",
        "setwd(\"/content/buckets/b1/exp\")\n",
        "experimento <- \"exp0204\"\n",
        "dir.create(experimento, showWarnings=FALSE)\n",
        "setwd( paste0(\"/content/buckets/b1/exp/\", experimento ))"
      ]
    },
    {
      "cell_type": "code",
      "execution_count": 31,
      "metadata": {
        "colab": {
          "base_uri": "https://localhost:8080/",
          "height": 34
        },
        "id": "xRXKHeLeGimT",
        "outputId": "eda444c0-618c-4ec4-a3cc-8520892e0cdc",
        "vscode": {
          "languageId": "r"
        }
      },
      "outputs": [
        {
          "data": {
            "text/html": [
              "978439"
            ],
            "text/latex": [
              "978439"
            ],
            "text/markdown": [
              "978439"
            ],
            "text/plain": [
              "[1] 978439"
            ]
          },
          "metadata": {},
          "output_type": "display_data"
        }
      ],
      "source": [
        "# lectura del dataset\n",
        "#dataset <- fread(\"/content/datasets/competencia_01.csv.gz\")\n",
        "dataset <- fread(\"./competencia_01.csv.gz\")\n",
        "nrow(dataset)"
      ]
    },
    {
      "cell_type": "code",
      "execution_count": 32,
      "metadata": {
        "colab": {
          "base_uri": "https://localhost:8080/",
          "height": 210
        },
        "id": "ejWYrB53hs_h",
        "outputId": "6b73d1d6-af20-4003-9571-4a40ba3572a7",
        "vscode": {
          "languageId": "r"
        }
      },
      "outputs": [
        {
          "data": {
            "text/html": [
              "163418"
            ],
            "text/latex": [
              "163418"
            ],
            "text/markdown": [
              "163418"
            ],
            "text/plain": [
              "[1] 163418"
            ]
          },
          "metadata": {},
          "output_type": "display_data"
        },
        {
          "data": {
            "text/html": [
              "<table class=\"dataframe\">\n",
              "<caption>A data.table: 3 × 3</caption>\n",
              "<thead>\n",
              "\t<tr><th scope=col>foto_mes</th><th scope=col>clase_ternaria</th><th scope=col>N</th></tr>\n",
              "\t<tr><th scope=col>&lt;int&gt;</th><th scope=col>&lt;chr&gt;</th><th scope=col>&lt;int&gt;</th></tr>\n",
              "</thead>\n",
              "<tbody>\n",
              "\t<tr><td>202104</td><td>CONTINUA</td><td>161333</td></tr>\n",
              "\t<tr><td>202104</td><td>BAJA+1  </td><td>   955</td></tr>\n",
              "\t<tr><td>202104</td><td>BAJA+2  </td><td>  1130</td></tr>\n",
              "</tbody>\n",
              "</table>\n"
            ],
            "text/latex": [
              "A data.table: 3 × 3\n",
              "\\begin{tabular}{lll}\n",
              " foto\\_mes & clase\\_ternaria & N\\\\\n",
              " <int> & <chr> & <int>\\\\\n",
              "\\hline\n",
              "\t 202104 & CONTINUA & 161333\\\\\n",
              "\t 202104 & BAJA+1   &    955\\\\\n",
              "\t 202104 & BAJA+2   &   1130\\\\\n",
              "\\end{tabular}\n"
            ],
            "text/markdown": [
              "\n",
              "A data.table: 3 × 3\n",
              "\n",
              "| foto_mes &lt;int&gt; | clase_ternaria &lt;chr&gt; | N &lt;int&gt; |\n",
              "|---|---|---|\n",
              "| 202104 | CONTINUA | 161333 |\n",
              "| 202104 | BAJA+1   |    955 |\n",
              "| 202104 | BAJA+2   |   1130 |\n",
              "\n"
            ],
            "text/plain": [
              "  foto_mes clase_ternaria N     \n",
              "1 202104   CONTINUA       161333\n",
              "2 202104   BAJA+1            955\n",
              "3 202104   BAJA+2           1130"
            ]
          },
          "metadata": {},
          "output_type": "display_data"
        }
      ],
      "source": [
        "# trabajo solo con los datos de 202104, ultimo mes con clase_ternaria completa\n",
        "# filtro datos\n",
        "dataset <- dataset[foto_mes==202104]\n",
        "\n",
        "invisible(gc(full=TRUE, verbose=FALSE)) # garbage collection\n",
        "\n",
        "nrow(dataset)\n",
        "dataset[, .N, list(foto_mes,clase_ternaria)]"
      ]
    },
    {
      "cell_type": "code",
      "execution_count": 33,
      "metadata": {
        "id": "MdpZ10qiHSZy",
        "vscode": {
          "languageId": "r"
        }
      },
      "outputs": [],
      "source": [
        "# genero numeros primos\n",
        "primos <- generate_primes(min = 100000, max = 1000000)\n",
        "set.seed(PARAM$semilla_primigenia) # inicializo\n",
        "\n",
        "# me quedo con PARAM$qsemillas   semillas\n",
        "PARAM$semillas <- sample(primos, PARAM$qsemillas )"
      ]
    },
    {
      "cell_type": "code",
      "execution_count": null,
      "metadata": {
        "colab": {
          "base_uri": "https://localhost:8080/",
          "height": 1000
        },
        "id": "r-YaawpgGimU",
        "outputId": "1b76ca31-f300-47b2-d409-cb318c7ef04f",
        "vscode": {
          "languageId": "r"
        }
      },
      "outputs": [],
      "source": [
        "# la funcion mcmapply llama a la funcion ArbolEstimarGanancia\n",
        "#  tantas veces como valores tenga el vector  PARAM$semillas\n",
        "salidas <- mcmapply(ArbolEstimarGanancia,\n",
        "  PARAM$semillas, # paso el vector de semillas\n",
        "  MoreArgs = list(PARAM), # aqui paso el segundo parametro\n",
        "  SIMPLIFY = FALSE,\n",
        "  mc.cores = detectCores()\n",
        ")\n",
        "\n",
        "# muestro la lista de las salidas en testing\n",
        "#  para la particion realizada con cada semilla\n",
        "salidas"
      ]
    },
    {
      "cell_type": "code",
      "execution_count": null,
      "metadata": {
        "vscode": {
          "languageId": "r"
        }
      },
      "outputs": [
        {
          "data": {
            "text/html": [
              "<ol>\n",
              "\t<li><style>\n",
              ".list-inline {list-style: none; margin:0; padding: 0}\n",
              ".list-inline>li {display: inline-block}\n",
              ".list-inline>li:not(:last-child)::after {content: \"\\00b7\"; padding: 0 .5ex}\n",
              "</style>\n",
              "<ol class=list-inline><li>'data.table'</li><li>'rpart'</li><li>'stats'</li><li>'graphics'</li><li>'grDevices'</li><li>'utils'</li><li>'datasets'</li><li>'methods'</li><li>'base'</li></ol>\n",
              "</li>\n",
              "\t<li><style>\n",
              ".list-inline {list-style: none; margin:0; padding: 0}\n",
              ".list-inline>li {display: inline-block}\n",
              ".list-inline>li:not(:last-child)::after {content: \"\\00b7\"; padding: 0 .5ex}\n",
              "</style>\n",
              "<ol class=list-inline><li>'data.table'</li><li>'rpart'</li><li>'stats'</li><li>'graphics'</li><li>'grDevices'</li><li>'utils'</li><li>'datasets'</li><li>'methods'</li><li>'base'</li></ol>\n",
              "</li>\n",
              "\t<li><style>\n",
              ".list-inline {list-style: none; margin:0; padding: 0}\n",
              ".list-inline>li {display: inline-block}\n",
              ".list-inline>li:not(:last-child)::after {content: \"\\00b7\"; padding: 0 .5ex}\n",
              "</style>\n",
              "<ol class=list-inline><li>'data.table'</li><li>'rpart'</li><li>'stats'</li><li>'graphics'</li><li>'grDevices'</li><li>'utils'</li><li>'datasets'</li><li>'methods'</li><li>'base'</li></ol>\n",
              "</li>\n",
              "\t<li><style>\n",
              ".list-inline {list-style: none; margin:0; padding: 0}\n",
              ".list-inline>li {display: inline-block}\n",
              ".list-inline>li:not(:last-child)::after {content: \"\\00b7\"; padding: 0 .5ex}\n",
              "</style>\n",
              "<ol class=list-inline><li>'data.table'</li><li>'rpart'</li><li>'stats'</li><li>'graphics'</li><li>'grDevices'</li><li>'utils'</li><li>'datasets'</li><li>'methods'</li><li>'base'</li></ol>\n",
              "</li>\n",
              "\t<li><style>\n",
              ".list-inline {list-style: none; margin:0; padding: 0}\n",
              ".list-inline>li {display: inline-block}\n",
              ".list-inline>li:not(:last-child)::after {content: \"\\00b7\"; padding: 0 .5ex}\n",
              "</style>\n",
              "<ol class=list-inline><li>'data.table'</li><li>'rpart'</li><li>'stats'</li><li>'graphics'</li><li>'grDevices'</li><li>'utils'</li><li>'datasets'</li><li>'methods'</li><li>'base'</li></ol>\n",
              "</li>\n",
              "\t<li><style>\n",
              ".list-inline {list-style: none; margin:0; padding: 0}\n",
              ".list-inline>li {display: inline-block}\n",
              ".list-inline>li:not(:last-child)::after {content: \"\\00b7\"; padding: 0 .5ex}\n",
              "</style>\n",
              "<ol class=list-inline><li>'data.table'</li><li>'rpart'</li><li>'stats'</li><li>'graphics'</li><li>'grDevices'</li><li>'utils'</li><li>'datasets'</li><li>'methods'</li><li>'base'</li></ol>\n",
              "</li>\n",
              "\t<li><style>\n",
              ".list-inline {list-style: none; margin:0; padding: 0}\n",
              ".list-inline>li {display: inline-block}\n",
              ".list-inline>li:not(:last-child)::after {content: \"\\00b7\"; padding: 0 .5ex}\n",
              "</style>\n",
              "<ol class=list-inline><li>'data.table'</li><li>'rpart'</li><li>'stats'</li><li>'graphics'</li><li>'grDevices'</li><li>'utils'</li><li>'datasets'</li><li>'methods'</li><li>'base'</li></ol>\n",
              "</li>\n",
              "\t<li><style>\n",
              ".list-inline {list-style: none; margin:0; padding: 0}\n",
              ".list-inline>li {display: inline-block}\n",
              ".list-inline>li:not(:last-child)::after {content: \"\\00b7\"; padding: 0 .5ex}\n",
              "</style>\n",
              "<ol class=list-inline><li>'data.table'</li><li>'rpart'</li><li>'stats'</li><li>'graphics'</li><li>'grDevices'</li><li>'utils'</li><li>'datasets'</li><li>'methods'</li><li>'base'</li></ol>\n",
              "</li>\n",
              "\t<li><style>\n",
              ".list-inline {list-style: none; margin:0; padding: 0}\n",
              ".list-inline>li {display: inline-block}\n",
              ".list-inline>li:not(:last-child)::after {content: \"\\00b7\"; padding: 0 .5ex}\n",
              "</style>\n",
              "<ol class=list-inline><li>'data.table'</li><li>'rpart'</li><li>'stats'</li><li>'graphics'</li><li>'grDevices'</li><li>'utils'</li><li>'datasets'</li><li>'methods'</li><li>'base'</li></ol>\n",
              "</li>\n",
              "\t<li><style>\n",
              ".list-inline {list-style: none; margin:0; padding: 0}\n",
              ".list-inline>li {display: inline-block}\n",
              ".list-inline>li:not(:last-child)::after {content: \"\\00b7\"; padding: 0 .5ex}\n",
              "</style>\n",
              "<ol class=list-inline><li>'data.table'</li><li>'rpart'</li><li>'stats'</li><li>'graphics'</li><li>'grDevices'</li><li>'utils'</li><li>'datasets'</li><li>'methods'</li><li>'base'</li></ol>\n",
              "</li>\n",
              "\t<li><style>\n",
              ".list-inline {list-style: none; margin:0; padding: 0}\n",
              ".list-inline>li {display: inline-block}\n",
              ".list-inline>li:not(:last-child)::after {content: \"\\00b7\"; padding: 0 .5ex}\n",
              "</style>\n",
              "<ol class=list-inline><li>'data.table'</li><li>'rpart'</li><li>'stats'</li><li>'graphics'</li><li>'grDevices'</li><li>'utils'</li><li>'datasets'</li><li>'methods'</li><li>'base'</li></ol>\n",
              "</li>\n",
              "\t<li><style>\n",
              ".list-inline {list-style: none; margin:0; padding: 0}\n",
              ".list-inline>li {display: inline-block}\n",
              ".list-inline>li:not(:last-child)::after {content: \"\\00b7\"; padding: 0 .5ex}\n",
              "</style>\n",
              "<ol class=list-inline><li>'data.table'</li><li>'rpart'</li><li>'stats'</li><li>'graphics'</li><li>'grDevices'</li><li>'utils'</li><li>'datasets'</li><li>'methods'</li><li>'base'</li></ol>\n",
              "</li>\n",
              "\t<li><style>\n",
              ".list-inline {list-style: none; margin:0; padding: 0}\n",
              ".list-inline>li {display: inline-block}\n",
              ".list-inline>li:not(:last-child)::after {content: \"\\00b7\"; padding: 0 .5ex}\n",
              "</style>\n",
              "<ol class=list-inline><li>'data.table'</li><li>'rpart'</li><li>'stats'</li><li>'graphics'</li><li>'grDevices'</li><li>'utils'</li><li>'datasets'</li><li>'methods'</li><li>'base'</li></ol>\n",
              "</li>\n",
              "\t<li><style>\n",
              ".list-inline {list-style: none; margin:0; padding: 0}\n",
              ".list-inline>li {display: inline-block}\n",
              ".list-inline>li:not(:last-child)::after {content: \"\\00b7\"; padding: 0 .5ex}\n",
              "</style>\n",
              "<ol class=list-inline><li>'data.table'</li><li>'rpart'</li><li>'stats'</li><li>'graphics'</li><li>'grDevices'</li><li>'utils'</li><li>'datasets'</li><li>'methods'</li><li>'base'</li></ol>\n",
              "</li>\n",
              "\t<li><style>\n",
              ".list-inline {list-style: none; margin:0; padding: 0}\n",
              ".list-inline>li {display: inline-block}\n",
              ".list-inline>li:not(:last-child)::after {content: \"\\00b7\"; padding: 0 .5ex}\n",
              "</style>\n",
              "<ol class=list-inline><li>'data.table'</li><li>'rpart'</li><li>'stats'</li><li>'graphics'</li><li>'grDevices'</li><li>'utils'</li><li>'datasets'</li><li>'methods'</li><li>'base'</li></ol>\n",
              "</li>\n",
              "\t<li><style>\n",
              ".list-inline {list-style: none; margin:0; padding: 0}\n",
              ".list-inline>li {display: inline-block}\n",
              ".list-inline>li:not(:last-child)::after {content: \"\\00b7\"; padding: 0 .5ex}\n",
              "</style>\n",
              "<ol class=list-inline><li>'data.table'</li><li>'rpart'</li><li>'stats'</li><li>'graphics'</li><li>'grDevices'</li><li>'utils'</li><li>'datasets'</li><li>'methods'</li><li>'base'</li></ol>\n",
              "</li>\n",
              "</ol>\n"
            ],
            "text/latex": [
              "\\begin{enumerate}\n",
              "\\item \\begin{enumerate*}\n",
              "\\item 'data.table'\n",
              "\\item 'rpart'\n",
              "\\item 'stats'\n",
              "\\item 'graphics'\n",
              "\\item 'grDevices'\n",
              "\\item 'utils'\n",
              "\\item 'datasets'\n",
              "\\item 'methods'\n",
              "\\item 'base'\n",
              "\\end{enumerate*}\n",
              "\n",
              "\\item \\begin{enumerate*}\n",
              "\\item 'data.table'\n",
              "\\item 'rpart'\n",
              "\\item 'stats'\n",
              "\\item 'graphics'\n",
              "\\item 'grDevices'\n",
              "\\item 'utils'\n",
              "\\item 'datasets'\n",
              "\\item 'methods'\n",
              "\\item 'base'\n",
              "\\end{enumerate*}\n",
              "\n",
              "\\item \\begin{enumerate*}\n",
              "\\item 'data.table'\n",
              "\\item 'rpart'\n",
              "\\item 'stats'\n",
              "\\item 'graphics'\n",
              "\\item 'grDevices'\n",
              "\\item 'utils'\n",
              "\\item 'datasets'\n",
              "\\item 'methods'\n",
              "\\item 'base'\n",
              "\\end{enumerate*}\n",
              "\n",
              "\\item \\begin{enumerate*}\n",
              "\\item 'data.table'\n",
              "\\item 'rpart'\n",
              "\\item 'stats'\n",
              "\\item 'graphics'\n",
              "\\item 'grDevices'\n",
              "\\item 'utils'\n",
              "\\item 'datasets'\n",
              "\\item 'methods'\n",
              "\\item 'base'\n",
              "\\end{enumerate*}\n",
              "\n",
              "\\item \\begin{enumerate*}\n",
              "\\item 'data.table'\n",
              "\\item 'rpart'\n",
              "\\item 'stats'\n",
              "\\item 'graphics'\n",
              "\\item 'grDevices'\n",
              "\\item 'utils'\n",
              "\\item 'datasets'\n",
              "\\item 'methods'\n",
              "\\item 'base'\n",
              "\\end{enumerate*}\n",
              "\n",
              "\\item \\begin{enumerate*}\n",
              "\\item 'data.table'\n",
              "\\item 'rpart'\n",
              "\\item 'stats'\n",
              "\\item 'graphics'\n",
              "\\item 'grDevices'\n",
              "\\item 'utils'\n",
              "\\item 'datasets'\n",
              "\\item 'methods'\n",
              "\\item 'base'\n",
              "\\end{enumerate*}\n",
              "\n",
              "\\item \\begin{enumerate*}\n",
              "\\item 'data.table'\n",
              "\\item 'rpart'\n",
              "\\item 'stats'\n",
              "\\item 'graphics'\n",
              "\\item 'grDevices'\n",
              "\\item 'utils'\n",
              "\\item 'datasets'\n",
              "\\item 'methods'\n",
              "\\item 'base'\n",
              "\\end{enumerate*}\n",
              "\n",
              "\\item \\begin{enumerate*}\n",
              "\\item 'data.table'\n",
              "\\item 'rpart'\n",
              "\\item 'stats'\n",
              "\\item 'graphics'\n",
              "\\item 'grDevices'\n",
              "\\item 'utils'\n",
              "\\item 'datasets'\n",
              "\\item 'methods'\n",
              "\\item 'base'\n",
              "\\end{enumerate*}\n",
              "\n",
              "\\item \\begin{enumerate*}\n",
              "\\item 'data.table'\n",
              "\\item 'rpart'\n",
              "\\item 'stats'\n",
              "\\item 'graphics'\n",
              "\\item 'grDevices'\n",
              "\\item 'utils'\n",
              "\\item 'datasets'\n",
              "\\item 'methods'\n",
              "\\item 'base'\n",
              "\\end{enumerate*}\n",
              "\n",
              "\\item \\begin{enumerate*}\n",
              "\\item 'data.table'\n",
              "\\item 'rpart'\n",
              "\\item 'stats'\n",
              "\\item 'graphics'\n",
              "\\item 'grDevices'\n",
              "\\item 'utils'\n",
              "\\item 'datasets'\n",
              "\\item 'methods'\n",
              "\\item 'base'\n",
              "\\end{enumerate*}\n",
              "\n",
              "\\item \\begin{enumerate*}\n",
              "\\item 'data.table'\n",
              "\\item 'rpart'\n",
              "\\item 'stats'\n",
              "\\item 'graphics'\n",
              "\\item 'grDevices'\n",
              "\\item 'utils'\n",
              "\\item 'datasets'\n",
              "\\item 'methods'\n",
              "\\item 'base'\n",
              "\\end{enumerate*}\n",
              "\n",
              "\\item \\begin{enumerate*}\n",
              "\\item 'data.table'\n",
              "\\item 'rpart'\n",
              "\\item 'stats'\n",
              "\\item 'graphics'\n",
              "\\item 'grDevices'\n",
              "\\item 'utils'\n",
              "\\item 'datasets'\n",
              "\\item 'methods'\n",
              "\\item 'base'\n",
              "\\end{enumerate*}\n",
              "\n",
              "\\item \\begin{enumerate*}\n",
              "\\item 'data.table'\n",
              "\\item 'rpart'\n",
              "\\item 'stats'\n",
              "\\item 'graphics'\n",
              "\\item 'grDevices'\n",
              "\\item 'utils'\n",
              "\\item 'datasets'\n",
              "\\item 'methods'\n",
              "\\item 'base'\n",
              "\\end{enumerate*}\n",
              "\n",
              "\\item \\begin{enumerate*}\n",
              "\\item 'data.table'\n",
              "\\item 'rpart'\n",
              "\\item 'stats'\n",
              "\\item 'graphics'\n",
              "\\item 'grDevices'\n",
              "\\item 'utils'\n",
              "\\item 'datasets'\n",
              "\\item 'methods'\n",
              "\\item 'base'\n",
              "\\end{enumerate*}\n",
              "\n",
              "\\item \\begin{enumerate*}\n",
              "\\item 'data.table'\n",
              "\\item 'rpart'\n",
              "\\item 'stats'\n",
              "\\item 'graphics'\n",
              "\\item 'grDevices'\n",
              "\\item 'utils'\n",
              "\\item 'datasets'\n",
              "\\item 'methods'\n",
              "\\item 'base'\n",
              "\\end{enumerate*}\n",
              "\n",
              "\\item \\begin{enumerate*}\n",
              "\\item 'data.table'\n",
              "\\item 'rpart'\n",
              "\\item 'stats'\n",
              "\\item 'graphics'\n",
              "\\item 'grDevices'\n",
              "\\item 'utils'\n",
              "\\item 'datasets'\n",
              "\\item 'methods'\n",
              "\\item 'base'\n",
              "\\end{enumerate*}\n",
              "\n",
              "\\end{enumerate}\n"
            ],
            "text/markdown": [
              "1. 1. 'data.table'\n",
              "2. 'rpart'\n",
              "3. 'stats'\n",
              "4. 'graphics'\n",
              "5. 'grDevices'\n",
              "6. 'utils'\n",
              "7. 'datasets'\n",
              "8. 'methods'\n",
              "9. 'base'\n",
              "\n",
              "\n",
              "\n",
              "2. 1. 'data.table'\n",
              "2. 'rpart'\n",
              "3. 'stats'\n",
              "4. 'graphics'\n",
              "5. 'grDevices'\n",
              "6. 'utils'\n",
              "7. 'datasets'\n",
              "8. 'methods'\n",
              "9. 'base'\n",
              "\n",
              "\n",
              "\n",
              "3. 1. 'data.table'\n",
              "2. 'rpart'\n",
              "3. 'stats'\n",
              "4. 'graphics'\n",
              "5. 'grDevices'\n",
              "6. 'utils'\n",
              "7. 'datasets'\n",
              "8. 'methods'\n",
              "9. 'base'\n",
              "\n",
              "\n",
              "\n",
              "4. 1. 'data.table'\n",
              "2. 'rpart'\n",
              "3. 'stats'\n",
              "4. 'graphics'\n",
              "5. 'grDevices'\n",
              "6. 'utils'\n",
              "7. 'datasets'\n",
              "8. 'methods'\n",
              "9. 'base'\n",
              "\n",
              "\n",
              "\n",
              "5. 1. 'data.table'\n",
              "2. 'rpart'\n",
              "3. 'stats'\n",
              "4. 'graphics'\n",
              "5. 'grDevices'\n",
              "6. 'utils'\n",
              "7. 'datasets'\n",
              "8. 'methods'\n",
              "9. 'base'\n",
              "\n",
              "\n",
              "\n",
              "6. 1. 'data.table'\n",
              "2. 'rpart'\n",
              "3. 'stats'\n",
              "4. 'graphics'\n",
              "5. 'grDevices'\n",
              "6. 'utils'\n",
              "7. 'datasets'\n",
              "8. 'methods'\n",
              "9. 'base'\n",
              "\n",
              "\n",
              "\n",
              "7. 1. 'data.table'\n",
              "2. 'rpart'\n",
              "3. 'stats'\n",
              "4. 'graphics'\n",
              "5. 'grDevices'\n",
              "6. 'utils'\n",
              "7. 'datasets'\n",
              "8. 'methods'\n",
              "9. 'base'\n",
              "\n",
              "\n",
              "\n",
              "8. 1. 'data.table'\n",
              "2. 'rpart'\n",
              "3. 'stats'\n",
              "4. 'graphics'\n",
              "5. 'grDevices'\n",
              "6. 'utils'\n",
              "7. 'datasets'\n",
              "8. 'methods'\n",
              "9. 'base'\n",
              "\n",
              "\n",
              "\n",
              "9. 1. 'data.table'\n",
              "2. 'rpart'\n",
              "3. 'stats'\n",
              "4. 'graphics'\n",
              "5. 'grDevices'\n",
              "6. 'utils'\n",
              "7. 'datasets'\n",
              "8. 'methods'\n",
              "9. 'base'\n",
              "\n",
              "\n",
              "\n",
              "10. 1. 'data.table'\n",
              "2. 'rpart'\n",
              "3. 'stats'\n",
              "4. 'graphics'\n",
              "5. 'grDevices'\n",
              "6. 'utils'\n",
              "7. 'datasets'\n",
              "8. 'methods'\n",
              "9. 'base'\n",
              "\n",
              "\n",
              "\n",
              "11. 1. 'data.table'\n",
              "2. 'rpart'\n",
              "3. 'stats'\n",
              "4. 'graphics'\n",
              "5. 'grDevices'\n",
              "6. 'utils'\n",
              "7. 'datasets'\n",
              "8. 'methods'\n",
              "9. 'base'\n",
              "\n",
              "\n",
              "\n",
              "12. 1. 'data.table'\n",
              "2. 'rpart'\n",
              "3. 'stats'\n",
              "4. 'graphics'\n",
              "5. 'grDevices'\n",
              "6. 'utils'\n",
              "7. 'datasets'\n",
              "8. 'methods'\n",
              "9. 'base'\n",
              "\n",
              "\n",
              "\n",
              "13. 1. 'data.table'\n",
              "2. 'rpart'\n",
              "3. 'stats'\n",
              "4. 'graphics'\n",
              "5. 'grDevices'\n",
              "6. 'utils'\n",
              "7. 'datasets'\n",
              "8. 'methods'\n",
              "9. 'base'\n",
              "\n",
              "\n",
              "\n",
              "14. 1. 'data.table'\n",
              "2. 'rpart'\n",
              "3. 'stats'\n",
              "4. 'graphics'\n",
              "5. 'grDevices'\n",
              "6. 'utils'\n",
              "7. 'datasets'\n",
              "8. 'methods'\n",
              "9. 'base'\n",
              "\n",
              "\n",
              "\n",
              "15. 1. 'data.table'\n",
              "2. 'rpart'\n",
              "3. 'stats'\n",
              "4. 'graphics'\n",
              "5. 'grDevices'\n",
              "6. 'utils'\n",
              "7. 'datasets'\n",
              "8. 'methods'\n",
              "9. 'base'\n",
              "\n",
              "\n",
              "\n",
              "16. 1. 'data.table'\n",
              "2. 'rpart'\n",
              "3. 'stats'\n",
              "4. 'graphics'\n",
              "5. 'grDevices'\n",
              "6. 'utils'\n",
              "7. 'datasets'\n",
              "8. 'methods'\n",
              "9. 'base'\n",
              "\n",
              "\n",
              "\n",
              "\n",
              "\n"
            ],
            "text/plain": [
              "[[1]]\n",
              "[1] \"data.table\" \"rpart\"      \"stats\"      \"graphics\"   \"grDevices\" \n",
              "[6] \"utils\"      \"datasets\"   \"methods\"    \"base\"      \n",
              "\n",
              "[[2]]\n",
              "[1] \"data.table\" \"rpart\"      \"stats\"      \"graphics\"   \"grDevices\" \n",
              "[6] \"utils\"      \"datasets\"   \"methods\"    \"base\"      \n",
              "\n",
              "[[3]]\n",
              "[1] \"data.table\" \"rpart\"      \"stats\"      \"graphics\"   \"grDevices\" \n",
              "[6] \"utils\"      \"datasets\"   \"methods\"    \"base\"      \n",
              "\n",
              "[[4]]\n",
              "[1] \"data.table\" \"rpart\"      \"stats\"      \"graphics\"   \"grDevices\" \n",
              "[6] \"utils\"      \"datasets\"   \"methods\"    \"base\"      \n",
              "\n",
              "[[5]]\n",
              "[1] \"data.table\" \"rpart\"      \"stats\"      \"graphics\"   \"grDevices\" \n",
              "[6] \"utils\"      \"datasets\"   \"methods\"    \"base\"      \n",
              "\n",
              "[[6]]\n",
              "[1] \"data.table\" \"rpart\"      \"stats\"      \"graphics\"   \"grDevices\" \n",
              "[6] \"utils\"      \"datasets\"   \"methods\"    \"base\"      \n",
              "\n",
              "[[7]]\n",
              "[1] \"data.table\" \"rpart\"      \"stats\"      \"graphics\"   \"grDevices\" \n",
              "[6] \"utils\"      \"datasets\"   \"methods\"    \"base\"      \n",
              "\n",
              "[[8]]\n",
              "[1] \"data.table\" \"rpart\"      \"stats\"      \"graphics\"   \"grDevices\" \n",
              "[6] \"utils\"      \"datasets\"   \"methods\"    \"base\"      \n",
              "\n",
              "[[9]]\n",
              "[1] \"data.table\" \"rpart\"      \"stats\"      \"graphics\"   \"grDevices\" \n",
              "[6] \"utils\"      \"datasets\"   \"methods\"    \"base\"      \n",
              "\n",
              "[[10]]\n",
              "[1] \"data.table\" \"rpart\"      \"stats\"      \"graphics\"   \"grDevices\" \n",
              "[6] \"utils\"      \"datasets\"   \"methods\"    \"base\"      \n",
              "\n",
              "[[11]]\n",
              "[1] \"data.table\" \"rpart\"      \"stats\"      \"graphics\"   \"grDevices\" \n",
              "[6] \"utils\"      \"datasets\"   \"methods\"    \"base\"      \n",
              "\n",
              "[[12]]\n",
              "[1] \"data.table\" \"rpart\"      \"stats\"      \"graphics\"   \"grDevices\" \n",
              "[6] \"utils\"      \"datasets\"   \"methods\"    \"base\"      \n",
              "\n",
              "[[13]]\n",
              "[1] \"data.table\" \"rpart\"      \"stats\"      \"graphics\"   \"grDevices\" \n",
              "[6] \"utils\"      \"datasets\"   \"methods\"    \"base\"      \n",
              "\n",
              "[[14]]\n",
              "[1] \"data.table\" \"rpart\"      \"stats\"      \"graphics\"   \"grDevices\" \n",
              "[6] \"utils\"      \"datasets\"   \"methods\"    \"base\"      \n",
              "\n",
              "[[15]]\n",
              "[1] \"data.table\" \"rpart\"      \"stats\"      \"graphics\"   \"grDevices\" \n",
              "[6] \"utils\"      \"datasets\"   \"methods\"    \"base\"      \n",
              "\n",
              "[[16]]\n",
              "[1] \"data.table\" \"rpart\"      \"stats\"      \"graphics\"   \"grDevices\" \n",
              "[6] \"utils\"      \"datasets\"   \"methods\"    \"base\"      \n"
            ]
          },
          "metadata": {},
          "output_type": "display_data"
        },
        {
          "data": {
            "text/html": [
              "<ol>\n",
              "\t<li><dl>\n",
              "\t<dt>$semilla</dt>\n",
              "\t\t<dd>590819</dd>\n",
              "\t<dt>$testing</dt>\n",
              "\t\t<dd>49019</dd>\n",
              "\t<dt>$testing_pos</dt>\n",
              "\t\t<dd>337</dd>\n",
              "\t<dt>$envios</dt>\n",
              "\t\t<dd>3425</dd>\n",
              "\t<dt>$aciertos</dt>\n",
              "\t\t<dd>193</dd>\n",
              "\t<dt>$ganancia_test</dt>\n",
              "\t\t<dd>286333333.333333</dd>\n",
              "</dl>\n",
              "</li>\n",
              "\t<li><dl>\n",
              "\t<dt>$semilla</dt>\n",
              "\t\t<dd>526937</dd>\n",
              "\t<dt>$testing</dt>\n",
              "\t\t<dd>49021</dd>\n",
              "\t<dt>$testing_pos</dt>\n",
              "\t\t<dd>332</dd>\n",
              "\t<dt>$envios</dt>\n",
              "\t\t<dd>2940</dd>\n",
              "\t<dt>$aciertos</dt>\n",
              "\t\t<dd>174</dd>\n",
              "\t<dt>$ganancia_test</dt>\n",
              "\t\t<dd>2.68e+08</dd>\n",
              "</dl>\n",
              "</li>\n",
              "\t<li><dl>\n",
              "\t<dt>$semilla</dt>\n",
              "\t\t<dd>753937</dd>\n",
              "\t<dt>$testing</dt>\n",
              "\t\t<dd>49017</dd>\n",
              "\t<dt>$testing_pos</dt>\n",
              "\t\t<dd>336</dd>\n",
              "\t<dt>$envios</dt>\n",
              "\t\t<dd>2745</dd>\n",
              "\t<dt>$aciertos</dt>\n",
              "\t\t<dd>163</dd>\n",
              "\t<dt>$ganancia_test</dt>\n",
              "\t\t<dd>251666666.666667</dd>\n",
              "</dl>\n",
              "</li>\n",
              "\t<li><dl>\n",
              "\t<dt>$semilla</dt>\n",
              "\t\t<dd>101173</dd>\n",
              "\t<dt>$testing</dt>\n",
              "\t\t<dd>49025</dd>\n",
              "\t<dt>$testing_pos</dt>\n",
              "\t\t<dd>340</dd>\n",
              "\t<dt>$envios</dt>\n",
              "\t\t<dd>3004</dd>\n",
              "\t<dt>$aciertos</dt>\n",
              "\t\t<dd>184</dd>\n",
              "\t<dt>$ganancia_test</dt>\n",
              "\t\t<dd>290400000</dd>\n",
              "</dl>\n",
              "</li>\n",
              "\t<li><dl>\n",
              "\t<dt>$semilla</dt>\n",
              "\t\t<dd>715727</dd>\n",
              "\t<dt>$testing</dt>\n",
              "\t\t<dd>49021</dd>\n",
              "\t<dt>$testing_pos</dt>\n",
              "\t\t<dd>337</dd>\n",
              "\t<dt>$envios</dt>\n",
              "\t\t<dd>2835</dd>\n",
              "\t<dt>$aciertos</dt>\n",
              "\t\t<dd>164</dd>\n",
              "\t<dt>$ganancia_test</dt>\n",
              "\t\t<dd>248333333.333333</dd>\n",
              "</dl>\n",
              "</li>\n",
              "\t<li><dl>\n",
              "\t<dt>$semilla</dt>\n",
              "\t\t<dd>522959</dd>\n",
              "\t<dt>$testing</dt>\n",
              "\t\t<dd>49027</dd>\n",
              "\t<dt>$testing_pos</dt>\n",
              "\t\t<dd>340</dd>\n",
              "\t<dt>$envios</dt>\n",
              "\t\t<dd>2694</dd>\n",
              "\t<dt>$aciertos</dt>\n",
              "\t\t<dd>177</dd>\n",
              "\t<dt>$ganancia_test</dt>\n",
              "\t\t<dd>292400000</dd>\n",
              "</dl>\n",
              "</li>\n",
              "\t<li><dl>\n",
              "\t<dt>$semilla</dt>\n",
              "\t\t<dd>975883</dd>\n",
              "\t<dt>$testing</dt>\n",
              "\t\t<dd>49030</dd>\n",
              "\t<dt>$testing_pos</dt>\n",
              "\t\t<dd>340</dd>\n",
              "\t<dt>$envios</dt>\n",
              "\t\t<dd>3142</dd>\n",
              "\t<dt>$aciertos</dt>\n",
              "\t\t<dd>196</dd>\n",
              "\t<dt>$ganancia_test</dt>\n",
              "\t\t<dd>313200000</dd>\n",
              "</dl>\n",
              "</li>\n",
              "\t<li><dl>\n",
              "\t<dt>$semilla</dt>\n",
              "\t\t<dd>703657</dd>\n",
              "\t<dt>$testing</dt>\n",
              "\t\t<dd>49020</dd>\n",
              "\t<dt>$testing_pos</dt>\n",
              "\t\t<dd>334</dd>\n",
              "\t<dt>$envios</dt>\n",
              "\t\t<dd>2735</dd>\n",
              "\t<dt>$aciertos</dt>\n",
              "\t\t<dd>161</dd>\n",
              "\t<dt>$ganancia_test</dt>\n",
              "\t\t<dd>2.47e+08</dd>\n",
              "</dl>\n",
              "</li>\n",
              "\t<li><dl>\n",
              "\t<dt>$semilla</dt>\n",
              "\t\t<dd>631469</dd>\n",
              "\t<dt>$testing</dt>\n",
              "\t\t<dd>49019</dd>\n",
              "\t<dt>$testing_pos</dt>\n",
              "\t\t<dd>329</dd>\n",
              "\t<dt>$envios</dt>\n",
              "\t\t<dd>2976</dd>\n",
              "\t<dt>$aciertos</dt>\n",
              "\t\t<dd>177</dd>\n",
              "\t<dt>$ganancia_test</dt>\n",
              "\t\t<dd>273600000</dd>\n",
              "</dl>\n",
              "</li>\n",
              "\t<li><dl>\n",
              "\t<dt>$semilla</dt>\n",
              "\t\t<dd>662617</dd>\n",
              "\t<dt>$testing</dt>\n",
              "\t\t<dd>49031</dd>\n",
              "\t<dt>$testing_pos</dt>\n",
              "\t\t<dd>341</dd>\n",
              "\t<dt>$envios</dt>\n",
              "\t\t<dd>3151</dd>\n",
              "\t<dt>$aciertos</dt>\n",
              "\t\t<dd>189</dd>\n",
              "\t<dt>$ganancia_test</dt>\n",
              "\t\t<dd>293933333.333333</dd>\n",
              "</dl>\n",
              "</li>\n",
              "\t<li><dl>\n",
              "\t<dt>$semilla</dt>\n",
              "\t\t<dd>552031</dd>\n",
              "\t<dt>$testing</dt>\n",
              "\t\t<dd>49024</dd>\n",
              "\t<dt>$testing_pos</dt>\n",
              "\t\t<dd>337</dd>\n",
              "\t<dt>$envios</dt>\n",
              "\t\t<dd>3474</dd>\n",
              "\t<dt>$aciertos</dt>\n",
              "\t\t<dd>201</dd>\n",
              "\t<dt>$ganancia_test</dt>\n",
              "\t\t<dd>304400000</dd>\n",
              "</dl>\n",
              "</li>\n",
              "\t<li><dl>\n",
              "\t<dt>$semilla</dt>\n",
              "\t\t<dd>195281</dd>\n",
              "\t<dt>$testing</dt>\n",
              "\t\t<dd>49031</dd>\n",
              "\t<dt>$testing_pos</dt>\n",
              "\t\t<dd>340</dd>\n",
              "\t<dt>$envios</dt>\n",
              "\t\t<dd>3741</dd>\n",
              "\t<dt>$aciertos</dt>\n",
              "\t\t<dd>206</dd>\n",
              "\t<dt>$ganancia_test</dt>\n",
              "\t\t<dd>299933333.333333</dd>\n",
              "</dl>\n",
              "</li>\n",
              "\t<li><dl>\n",
              "\t<dt>$semilla</dt>\n",
              "\t\t<dd>326999</dd>\n",
              "\t<dt>$testing</dt>\n",
              "\t\t<dd>49028</dd>\n",
              "\t<dt>$testing_pos</dt>\n",
              "\t\t<dd>343</dd>\n",
              "\t<dt>$envios</dt>\n",
              "\t\t<dd>2973</dd>\n",
              "\t<dt>$aciertos</dt>\n",
              "\t\t<dd>195</dd>\n",
              "\t<dt>$ganancia_test</dt>\n",
              "\t\t<dd>321800000</dd>\n",
              "</dl>\n",
              "</li>\n",
              "\t<li><dl>\n",
              "\t<dt>$semilla</dt>\n",
              "\t\t<dd>452269</dd>\n",
              "\t<dt>$testing</dt>\n",
              "\t\t<dd>49025</dd>\n",
              "\t<dt>$testing_pos</dt>\n",
              "\t\t<dd>339</dd>\n",
              "\t<dt>$envios</dt>\n",
              "\t\t<dd>3290</dd>\n",
              "\t<dt>$aciertos</dt>\n",
              "\t\t<dd>178</dd>\n",
              "\t<dt>$ganancia_test</dt>\n",
              "\t\t<dd>255333333.333333</dd>\n",
              "</dl>\n",
              "</li>\n",
              "\t<li><dl>\n",
              "\t<dt>$semilla</dt>\n",
              "\t\t<dd>576221</dd>\n",
              "\t<dt>$testing</dt>\n",
              "\t\t<dd>49024</dd>\n",
              "\t<dt>$testing_pos</dt>\n",
              "\t\t<dd>339</dd>\n",
              "\t<dt>$envios</dt>\n",
              "\t\t<dd>2920</dd>\n",
              "\t<dt>$aciertos</dt>\n",
              "\t\t<dd>185</dd>\n",
              "\t<dt>$ganancia_test</dt>\n",
              "\t\t<dd>298666666.666667</dd>\n",
              "</dl>\n",
              "</li>\n",
              "\t<li><dl>\n",
              "\t<dt>$semilla</dt>\n",
              "\t\t<dd>293729</dd>\n",
              "\t<dt>$testing</dt>\n",
              "\t\t<dd>49025</dd>\n",
              "\t<dt>$testing_pos</dt>\n",
              "\t\t<dd>341</dd>\n",
              "\t<dt>$envios</dt>\n",
              "\t\t<dd>2732</dd>\n",
              "\t<dt>$aciertos</dt>\n",
              "\t\t<dd>170</dd>\n",
              "\t<dt>$ganancia_test</dt>\n",
              "\t\t<dd>271200000</dd>\n",
              "</dl>\n",
              "</li>\n",
              "\t<li><dl>\n",
              "\t<dt>$semilla</dt>\n",
              "\t\t<dd>658079</dd>\n",
              "\t<dt>$testing</dt>\n",
              "\t\t<dd>49033</dd>\n",
              "\t<dt>$testing_pos</dt>\n",
              "\t\t<dd>341</dd>\n",
              "\t<dt>$envios</dt>\n",
              "\t\t<dd>3274</dd>\n",
              "\t<dt>$aciertos</dt>\n",
              "\t\t<dd>203</dd>\n",
              "\t<dt>$ganancia_test</dt>\n",
              "\t\t<dd>323066666.666667</dd>\n",
              "</dl>\n",
              "</li>\n",
              "\t<li><dl>\n",
              "\t<dt>$semilla</dt>\n",
              "\t\t<dd>341461</dd>\n",
              "\t<dt>$testing</dt>\n",
              "\t\t<dd>49032</dd>\n",
              "\t<dt>$testing_pos</dt>\n",
              "\t\t<dd>338</dd>\n",
              "\t<dt>$envios</dt>\n",
              "\t\t<dd>3921</dd>\n",
              "\t<dt>$aciertos</dt>\n",
              "\t\t<dd>214</dd>\n",
              "\t<dt>$ganancia_test</dt>\n",
              "\t\t<dd>309266666.666667</dd>\n",
              "</dl>\n",
              "</li>\n",
              "\t<li><dl>\n",
              "\t<dt>$semilla</dt>\n",
              "\t\t<dd>193873</dd>\n",
              "\t<dt>$testing</dt>\n",
              "\t\t<dd>49038</dd>\n",
              "\t<dt>$testing_pos</dt>\n",
              "\t\t<dd>345</dd>\n",
              "\t<dt>$envios</dt>\n",
              "\t\t<dd>3944</dd>\n",
              "\t<dt>$aciertos</dt>\n",
              "\t\t<dd>206</dd>\n",
              "\t<dt>$ganancia_test</dt>\n",
              "\t\t<dd>286400000</dd>\n",
              "</dl>\n",
              "</li>\n",
              "\t<li><dl>\n",
              "\t<dt>$semilla</dt>\n",
              "\t\t<dd>961139</dd>\n",
              "\t<dt>$testing</dt>\n",
              "\t\t<dd>49019</dd>\n",
              "\t<dt>$testing_pos</dt>\n",
              "\t\t<dd>339</dd>\n",
              "\t<dt>$envios</dt>\n",
              "\t\t<dd>2786</dd>\n",
              "\t<dt>$aciertos</dt>\n",
              "\t\t<dd>172</dd>\n",
              "\t<dt>$ganancia_test</dt>\n",
              "\t\t<dd>272933333.333333</dd>\n",
              "</dl>\n",
              "</li>\n",
              "\t<li><dl>\n",
              "\t<dt>$semilla</dt>\n",
              "\t\t<dd>754513</dd>\n",
              "\t<dt>$testing</dt>\n",
              "\t\t<dd>49027</dd>\n",
              "\t<dt>$testing_pos</dt>\n",
              "\t\t<dd>346</dd>\n",
              "\t<dt>$envios</dt>\n",
              "\t\t<dd>3191</dd>\n",
              "\t<dt>$aciertos</dt>\n",
              "\t\t<dd>203</dd>\n",
              "\t<dt>$ganancia_test</dt>\n",
              "\t\t<dd>328600000</dd>\n",
              "</dl>\n",
              "</li>\n",
              "\t<li><dl>\n",
              "\t<dt>$semilla</dt>\n",
              "\t\t<dd>856759</dd>\n",
              "\t<dt>$testing</dt>\n",
              "\t\t<dd>49026</dd>\n",
              "\t<dt>$testing_pos</dt>\n",
              "\t\t<dd>341</dd>\n",
              "\t<dt>$envios</dt>\n",
              "\t\t<dd>2717</dd>\n",
              "\t<dt>$aciertos</dt>\n",
              "\t\t<dd>172</dd>\n",
              "\t<dt>$ganancia_test</dt>\n",
              "\t\t<dd>277533333.333333</dd>\n",
              "</dl>\n",
              "</li>\n",
              "\t<li><dl>\n",
              "\t<dt>$semilla</dt>\n",
              "\t\t<dd>402307</dd>\n",
              "\t<dt>$testing</dt>\n",
              "\t\t<dd>49013</dd>\n",
              "\t<dt>$testing_pos</dt>\n",
              "\t\t<dd>332</dd>\n",
              "\t<dt>$envios</dt>\n",
              "\t\t<dd>3405</dd>\n",
              "\t<dt>$aciertos</dt>\n",
              "\t\t<dd>178</dd>\n",
              "\t<dt>$ganancia_test</dt>\n",
              "\t\t<dd>247666666.666667</dd>\n",
              "</dl>\n",
              "</li>\n",
              "\t<li><dl>\n",
              "\t<dt>$semilla</dt>\n",
              "\t\t<dd>706417</dd>\n",
              "\t<dt>$testing</dt>\n",
              "\t\t<dd>49028</dd>\n",
              "\t<dt>$testing_pos</dt>\n",
              "\t\t<dd>344</dd>\n",
              "\t<dt>$envios</dt>\n",
              "\t\t<dd>2895</dd>\n",
              "\t<dt>$aciertos</dt>\n",
              "\t\t<dd>198</dd>\n",
              "\t<dt>$ganancia_test</dt>\n",
              "\t\t<dd>3.35e+08</dd>\n",
              "</dl>\n",
              "</li>\n",
              "\t<li><dl>\n",
              "\t<dt>$semilla</dt>\n",
              "\t\t<dd>586457</dd>\n",
              "\t<dt>$testing</dt>\n",
              "\t\t<dd>49025</dd>\n",
              "\t<dt>$testing_pos</dt>\n",
              "\t\t<dd>337</dd>\n",
              "\t<dt>$envios</dt>\n",
              "\t\t<dd>2894</dd>\n",
              "\t<dt>$aciertos</dt>\n",
              "\t\t<dd>174</dd>\n",
              "\t<dt>$ganancia_test</dt>\n",
              "\t\t<dd>271066666.666667</dd>\n",
              "</dl>\n",
              "</li>\n",
              "\t<li><dl>\n",
              "\t<dt>$semilla</dt>\n",
              "\t\t<dd>260461</dd>\n",
              "\t<dt>$testing</dt>\n",
              "\t\t<dd>49031</dd>\n",
              "\t<dt>$testing_pos</dt>\n",
              "\t\t<dd>338</dd>\n",
              "\t<dt>$envios</dt>\n",
              "\t\t<dd>2975</dd>\n",
              "\t<dt>$aciertos</dt>\n",
              "\t\t<dd>186</dd>\n",
              "\t<dt>$ganancia_test</dt>\n",
              "\t\t<dd>297666666.666667</dd>\n",
              "</dl>\n",
              "</li>\n",
              "\t<li><dl>\n",
              "\t<dt>$semilla</dt>\n",
              "\t\t<dd>808373</dd>\n",
              "\t<dt>$testing</dt>\n",
              "\t\t<dd>49028</dd>\n",
              "\t<dt>$testing_pos</dt>\n",
              "\t\t<dd>344</dd>\n",
              "\t<dt>$envios</dt>\n",
              "\t\t<dd>2839</dd>\n",
              "\t<dt>$aciertos</dt>\n",
              "\t\t<dd>171</dd>\n",
              "\t<dt>$ganancia_test</dt>\n",
              "\t\t<dd>266733333.333333</dd>\n",
              "</dl>\n",
              "</li>\n",
              "\t<li><dl>\n",
              "\t<dt>$semilla</dt>\n",
              "\t\t<dd>986933</dd>\n",
              "\t<dt>$testing</dt>\n",
              "\t\t<dd>49030</dd>\n",
              "\t<dt>$testing_pos</dt>\n",
              "\t\t<dd>339</dd>\n",
              "\t<dt>$envios</dt>\n",
              "\t\t<dd>3197</dd>\n",
              "\t<dt>$aciertos</dt>\n",
              "\t\t<dd>183</dd>\n",
              "\t<dt>$ganancia_test</dt>\n",
              "\t\t<dd>274866666.666667</dd>\n",
              "</dl>\n",
              "</li>\n",
              "\t<li><dl>\n",
              "\t<dt>$semilla</dt>\n",
              "\t\t<dd>251879</dd>\n",
              "\t<dt>$testing</dt>\n",
              "\t\t<dd>49025</dd>\n",
              "\t<dt>$testing_pos</dt>\n",
              "\t\t<dd>339</dd>\n",
              "\t<dt>$envios</dt>\n",
              "\t\t<dd>2558</dd>\n",
              "\t<dt>$aciertos</dt>\n",
              "\t\t<dd>177</dd>\n",
              "\t<dt>$ganancia_test</dt>\n",
              "\t\t<dd>301466666.666667</dd>\n",
              "</dl>\n",
              "</li>\n",
              "\t<li><dl>\n",
              "\t<dt>$semilla</dt>\n",
              "\t\t<dd>829453</dd>\n",
              "\t<dt>$testing</dt>\n",
              "\t\t<dd>49028</dd>\n",
              "\t<dt>$testing_pos</dt>\n",
              "\t\t<dd>338</dd>\n",
              "\t<dt>$envios</dt>\n",
              "\t\t<dd>3477</dd>\n",
              "\t<dt>$aciertos</dt>\n",
              "\t\t<dd>200</dd>\n",
              "\t<dt>$ganancia_test</dt>\n",
              "\t\t<dd>301533333.333333</dd>\n",
              "</dl>\n",
              "</li>\n",
              "\t<li><dl>\n",
              "\t<dt>$semilla</dt>\n",
              "\t\t<dd>208189</dd>\n",
              "\t<dt>$testing</dt>\n",
              "\t\t<dd>49014</dd>\n",
              "\t<dt>$testing_pos</dt>\n",
              "\t\t<dd>336</dd>\n",
              "\t<dt>$envios</dt>\n",
              "\t\t<dd>2298</dd>\n",
              "\t<dt>$aciertos</dt>\n",
              "\t\t<dd>178</dd>\n",
              "\t<dt>$ganancia_test</dt>\n",
              "\t\t<dd>321466666.666667</dd>\n",
              "</dl>\n",
              "</li>\n",
              "\t<li><dl>\n",
              "\t<dt>$semilla</dt>\n",
              "\t\t<dd>690721</dd>\n",
              "\t<dt>$testing</dt>\n",
              "\t\t<dd>49039</dd>\n",
              "\t<dt>$testing_pos</dt>\n",
              "\t\t<dd>339</dd>\n",
              "\t<dt>$envios</dt>\n",
              "\t\t<dd>3675</dd>\n",
              "\t<dt>$aciertos</dt>\n",
              "\t\t<dd>204</dd>\n",
              "\t<dt>$ganancia_test</dt>\n",
              "\t\t<dd>2.99e+08</dd>\n",
              "</dl>\n",
              "</li>\n",
              "\t<li><dl>\n",
              "\t<dt>$semilla</dt>\n",
              "\t\t<dd>658117</dd>\n",
              "\t<dt>$testing</dt>\n",
              "\t\t<dd>49027</dd>\n",
              "\t<dt>$testing_pos</dt>\n",
              "\t\t<dd>337</dd>\n",
              "\t<dt>$envios</dt>\n",
              "\t\t<dd>2774</dd>\n",
              "\t<dt>$aciertos</dt>\n",
              "\t\t<dd>172</dd>\n",
              "\t<dt>$ganancia_test</dt>\n",
              "\t\t<dd>273733333.333333</dd>\n",
              "</dl>\n",
              "</li>\n",
              "\t<li><dl>\n",
              "\t<dt>$semilla</dt>\n",
              "\t\t<dd>885509</dd>\n",
              "\t<dt>$testing</dt>\n",
              "\t\t<dd>49028</dd>\n",
              "\t<dt>$testing_pos</dt>\n",
              "\t\t<dd>341</dd>\n",
              "\t<dt>$envios</dt>\n",
              "\t\t<dd>3037</dd>\n",
              "\t<dt>$aciertos</dt>\n",
              "\t\t<dd>166</dd>\n",
              "\t<dt>$ganancia_test</dt>\n",
              "\t\t<dd>240200000</dd>\n",
              "</dl>\n",
              "</li>\n",
              "\t<li><dl>\n",
              "\t<dt>$semilla</dt>\n",
              "\t\t<dd>816019</dd>\n",
              "\t<dt>$testing</dt>\n",
              "\t\t<dd>49030</dd>\n",
              "\t<dt>$testing_pos</dt>\n",
              "\t\t<dd>336</dd>\n",
              "\t<dt>$envios</dt>\n",
              "\t\t<dd>3014</dd>\n",
              "\t<dt>$aciertos</dt>\n",
              "\t\t<dd>189</dd>\n",
              "\t<dt>$ganancia_test</dt>\n",
              "\t\t<dd>303066666.666667</dd>\n",
              "</dl>\n",
              "</li>\n",
              "\t<li><dl>\n",
              "\t<dt>$semilla</dt>\n",
              "\t\t<dd>526739</dd>\n",
              "\t<dt>$testing</dt>\n",
              "\t\t<dd>49032</dd>\n",
              "\t<dt>$testing_pos</dt>\n",
              "\t\t<dd>348</dd>\n",
              "\t<dt>$envios</dt>\n",
              "\t\t<dd>2879</dd>\n",
              "\t<dt>$aciertos</dt>\n",
              "\t\t<dd>180</dd>\n",
              "\t<dt>$ganancia_test</dt>\n",
              "\t\t<dd>288066666.666667</dd>\n",
              "</dl>\n",
              "</li>\n",
              "\t<li><dl>\n",
              "\t<dt>$semilla</dt>\n",
              "\t\t<dd>236471</dd>\n",
              "\t<dt>$testing</dt>\n",
              "\t\t<dd>49024</dd>\n",
              "\t<dt>$testing_pos</dt>\n",
              "\t\t<dd>337</dd>\n",
              "\t<dt>$envios</dt>\n",
              "\t\t<dd>3465</dd>\n",
              "\t<dt>$aciertos</dt>\n",
              "\t\t<dd>202</dd>\n",
              "\t<dt>$ganancia_test</dt>\n",
              "\t\t<dd>307666666.666667</dd>\n",
              "</dl>\n",
              "</li>\n",
              "\t<li><dl>\n",
              "\t<dt>$semilla</dt>\n",
              "\t\t<dd>147089</dd>\n",
              "\t<dt>$testing</dt>\n",
              "\t\t<dd>49017</dd>\n",
              "\t<dt>$testing_pos</dt>\n",
              "\t\t<dd>334</dd>\n",
              "\t<dt>$envios</dt>\n",
              "\t\t<dd>2623</dd>\n",
              "\t<dt>$aciertos</dt>\n",
              "\t\t<dd>171</dd>\n",
              "\t<dt>$ganancia_test</dt>\n",
              "\t\t<dd>281133333.333333</dd>\n",
              "</dl>\n",
              "</li>\n",
              "\t<li><dl>\n",
              "\t<dt>$semilla</dt>\n",
              "\t\t<dd>550607</dd>\n",
              "\t<dt>$testing</dt>\n",
              "\t\t<dd>49013</dd>\n",
              "\t<dt>$testing_pos</dt>\n",
              "\t\t<dd>332</dd>\n",
              "\t<dt>$envios</dt>\n",
              "\t\t<dd>3423</dd>\n",
              "\t<dt>$aciertos</dt>\n",
              "\t\t<dd>184</dd>\n",
              "\t<dt>$ganancia_test</dt>\n",
              "\t\t<dd>262466666.666667</dd>\n",
              "</dl>\n",
              "</li>\n",
              "\t<li><dl>\n",
              "\t<dt>$semilla</dt>\n",
              "\t\t<dd>249863</dd>\n",
              "\t<dt>$testing</dt>\n",
              "\t\t<dd>49026</dd>\n",
              "\t<dt>$testing_pos</dt>\n",
              "\t\t<dd>345</dd>\n",
              "\t<dt>$envios</dt>\n",
              "\t\t<dd>2647</dd>\n",
              "\t<dt>$aciertos</dt>\n",
              "\t\t<dd>179</dd>\n",
              "\t<dt>$ganancia_test</dt>\n",
              "\t\t<dd>300866666.666667</dd>\n",
              "</dl>\n",
              "</li>\n",
              "\t<li><dl>\n",
              "\t<dt>$semilla</dt>\n",
              "\t\t<dd>398369</dd>\n",
              "\t<dt>$testing</dt>\n",
              "\t\t<dd>49026</dd>\n",
              "\t<dt>$testing_pos</dt>\n",
              "\t\t<dd>337</dd>\n",
              "\t<dt>$envios</dt>\n",
              "\t\t<dd>2615</dd>\n",
              "\t<dt>$aciertos</dt>\n",
              "\t\t<dd>173</dd>\n",
              "\t<dt>$ganancia_test</dt>\n",
              "\t\t<dd>2.87e+08</dd>\n",
              "</dl>\n",
              "</li>\n",
              "\t<li><dl>\n",
              "\t<dt>$semilla</dt>\n",
              "\t\t<dd>866857</dd>\n",
              "\t<dt>$testing</dt>\n",
              "\t\t<dd>49029</dd>\n",
              "\t<dt>$testing_pos</dt>\n",
              "\t\t<dd>342</dd>\n",
              "\t<dt>$envios</dt>\n",
              "\t\t<dd>3320</dd>\n",
              "\t<dt>$aciertos</dt>\n",
              "\t\t<dd>188</dd>\n",
              "\t<dt>$ganancia_test</dt>\n",
              "\t\t<dd>2.8e+08</dd>\n",
              "</dl>\n",
              "</li>\n",
              "\t<li><dl>\n",
              "\t<dt>$semilla</dt>\n",
              "\t\t<dd>864781</dd>\n",
              "\t<dt>$testing</dt>\n",
              "\t\t<dd>49012</dd>\n",
              "\t<dt>$testing_pos</dt>\n",
              "\t\t<dd>332</dd>\n",
              "\t<dt>$envios</dt>\n",
              "\t\t<dd>3058</dd>\n",
              "\t<dt>$aciertos</dt>\n",
              "\t\t<dd>185</dd>\n",
              "\t<dt>$ganancia_test</dt>\n",
              "\t\t<dd>289466666.666667</dd>\n",
              "</dl>\n",
              "</li>\n",
              "\t<li><dl>\n",
              "\t<dt>$semilla</dt>\n",
              "\t\t<dd>518831</dd>\n",
              "\t<dt>$testing</dt>\n",
              "\t\t<dd>49015</dd>\n",
              "\t<dt>$testing_pos</dt>\n",
              "\t\t<dd>337</dd>\n",
              "\t<dt>$envios</dt>\n",
              "\t\t<dd>2964</dd>\n",
              "\t<dt>$aciertos</dt>\n",
              "\t\t<dd>175</dd>\n",
              "\t<dt>$ganancia_test</dt>\n",
              "\t\t<dd>269066666.666667</dd>\n",
              "</dl>\n",
              "</li>\n",
              "\t<li><dl>\n",
              "\t<dt>$semilla</dt>\n",
              "\t\t<dd>170081</dd>\n",
              "\t<dt>$testing</dt>\n",
              "\t\t<dd>49023</dd>\n",
              "\t<dt>$testing_pos</dt>\n",
              "\t\t<dd>336</dd>\n",
              "\t<dt>$envios</dt>\n",
              "\t\t<dd>3257</dd>\n",
              "\t<dt>$aciertos</dt>\n",
              "\t\t<dd>188</dd>\n",
              "\t<dt>$ganancia_test</dt>\n",
              "\t\t<dd>284200000</dd>\n",
              "</dl>\n",
              "</li>\n",
              "\t<li><dl>\n",
              "\t<dt>$semilla</dt>\n",
              "\t\t<dd>111653</dd>\n",
              "\t<dt>$testing</dt>\n",
              "\t\t<dd>49031</dd>\n",
              "\t<dt>$testing_pos</dt>\n",
              "\t\t<dd>344</dd>\n",
              "\t<dt>$envios</dt>\n",
              "\t\t<dd>2886</dd>\n",
              "\t<dt>$aciertos</dt>\n",
              "\t\t<dd>178</dd>\n",
              "\t<dt>$ganancia_test</dt>\n",
              "\t\t<dd>282266666.666667</dd>\n",
              "</dl>\n",
              "</li>\n",
              "\t<li><dl>\n",
              "\t<dt>$semilla</dt>\n",
              "\t\t<dd>157627</dd>\n",
              "\t<dt>$testing</dt>\n",
              "\t\t<dd>49021</dd>\n",
              "\t<dt>$testing_pos</dt>\n",
              "\t\t<dd>339</dd>\n",
              "\t<dt>$envios</dt>\n",
              "\t\t<dd>2988</dd>\n",
              "\t<dt>$aciertos</dt>\n",
              "\t\t<dd>179</dd>\n",
              "\t<dt>$ganancia_test</dt>\n",
              "\t\t<dd>278133333.333333</dd>\n",
              "</dl>\n",
              "</li>\n",
              "\t<li><dl>\n",
              "\t<dt>$semilla</dt>\n",
              "\t\t<dd>381569</dd>\n",
              "\t<dt>$testing</dt>\n",
              "\t\t<dd>49023</dd>\n",
              "\t<dt>$testing_pos</dt>\n",
              "\t\t<dd>343</dd>\n",
              "\t<dt>$envios</dt>\n",
              "\t\t<dd>2494</dd>\n",
              "\t<dt>$aciertos</dt>\n",
              "\t\t<dd>179</dd>\n",
              "\t<dt>$ganancia_test</dt>\n",
              "\t\t<dd>311066666.666667</dd>\n",
              "</dl>\n",
              "</li>\n",
              "\t<li><dl>\n",
              "\t<dt>$semilla</dt>\n",
              "\t\t<dd>674903</dd>\n",
              "\t<dt>$testing</dt>\n",
              "\t\t<dd>49026</dd>\n",
              "\t<dt>$testing_pos</dt>\n",
              "\t\t<dd>342</dd>\n",
              "\t<dt>$envios</dt>\n",
              "\t\t<dd>3014</dd>\n",
              "\t<dt>$aciertos</dt>\n",
              "\t\t<dd>176</dd>\n",
              "\t<dt>$ganancia_test</dt>\n",
              "\t\t<dd>268400000</dd>\n",
              "</dl>\n",
              "</li>\n",
              "\t<li><dl>\n",
              "\t<dt>$semilla</dt>\n",
              "\t\t<dd>858503</dd>\n",
              "\t<dt>$testing</dt>\n",
              "\t\t<dd>49031</dd>\n",
              "\t<dt>$testing_pos</dt>\n",
              "\t\t<dd>342</dd>\n",
              "\t<dt>$envios</dt>\n",
              "\t\t<dd>3193</dd>\n",
              "\t<dt>$aciertos</dt>\n",
              "\t\t<dd>193</dd>\n",
              "\t<dt>$ganancia_test</dt>\n",
              "\t\t<dd>301800000</dd>\n",
              "</dl>\n",
              "</li>\n",
              "</ol>\n"
            ],
            "text/latex": [
              "\\begin{enumerate}\n",
              "\\item \\begin{description}\n",
              "\\item[\\$semilla] 590819\n",
              "\\item[\\$testing] 49019\n",
              "\\item[\\$testing\\_pos] 337\n",
              "\\item[\\$envios] 3425\n",
              "\\item[\\$aciertos] 193\n",
              "\\item[\\$ganancia\\_test] 286333333.333333\n",
              "\\end{description}\n",
              "\n",
              "\\item \\begin{description}\n",
              "\\item[\\$semilla] 526937\n",
              "\\item[\\$testing] 49021\n",
              "\\item[\\$testing\\_pos] 332\n",
              "\\item[\\$envios] 2940\n",
              "\\item[\\$aciertos] 174\n",
              "\\item[\\$ganancia\\_test] 2.68e+08\n",
              "\\end{description}\n",
              "\n",
              "\\item \\begin{description}\n",
              "\\item[\\$semilla] 753937\n",
              "\\item[\\$testing] 49017\n",
              "\\item[\\$testing\\_pos] 336\n",
              "\\item[\\$envios] 2745\n",
              "\\item[\\$aciertos] 163\n",
              "\\item[\\$ganancia\\_test] 251666666.666667\n",
              "\\end{description}\n",
              "\n",
              "\\item \\begin{description}\n",
              "\\item[\\$semilla] 101173\n",
              "\\item[\\$testing] 49025\n",
              "\\item[\\$testing\\_pos] 340\n",
              "\\item[\\$envios] 3004\n",
              "\\item[\\$aciertos] 184\n",
              "\\item[\\$ganancia\\_test] 290400000\n",
              "\\end{description}\n",
              "\n",
              "\\item \\begin{description}\n",
              "\\item[\\$semilla] 715727\n",
              "\\item[\\$testing] 49021\n",
              "\\item[\\$testing\\_pos] 337\n",
              "\\item[\\$envios] 2835\n",
              "\\item[\\$aciertos] 164\n",
              "\\item[\\$ganancia\\_test] 248333333.333333\n",
              "\\end{description}\n",
              "\n",
              "\\item \\begin{description}\n",
              "\\item[\\$semilla] 522959\n",
              "\\item[\\$testing] 49027\n",
              "\\item[\\$testing\\_pos] 340\n",
              "\\item[\\$envios] 2694\n",
              "\\item[\\$aciertos] 177\n",
              "\\item[\\$ganancia\\_test] 292400000\n",
              "\\end{description}\n",
              "\n",
              "\\item \\begin{description}\n",
              "\\item[\\$semilla] 975883\n",
              "\\item[\\$testing] 49030\n",
              "\\item[\\$testing\\_pos] 340\n",
              "\\item[\\$envios] 3142\n",
              "\\item[\\$aciertos] 196\n",
              "\\item[\\$ganancia\\_test] 313200000\n",
              "\\end{description}\n",
              "\n",
              "\\item \\begin{description}\n",
              "\\item[\\$semilla] 703657\n",
              "\\item[\\$testing] 49020\n",
              "\\item[\\$testing\\_pos] 334\n",
              "\\item[\\$envios] 2735\n",
              "\\item[\\$aciertos] 161\n",
              "\\item[\\$ganancia\\_test] 2.47e+08\n",
              "\\end{description}\n",
              "\n",
              "\\item \\begin{description}\n",
              "\\item[\\$semilla] 631469\n",
              "\\item[\\$testing] 49019\n",
              "\\item[\\$testing\\_pos] 329\n",
              "\\item[\\$envios] 2976\n",
              "\\item[\\$aciertos] 177\n",
              "\\item[\\$ganancia\\_test] 273600000\n",
              "\\end{description}\n",
              "\n",
              "\\item \\begin{description}\n",
              "\\item[\\$semilla] 662617\n",
              "\\item[\\$testing] 49031\n",
              "\\item[\\$testing\\_pos] 341\n",
              "\\item[\\$envios] 3151\n",
              "\\item[\\$aciertos] 189\n",
              "\\item[\\$ganancia\\_test] 293933333.333333\n",
              "\\end{description}\n",
              "\n",
              "\\item \\begin{description}\n",
              "\\item[\\$semilla] 552031\n",
              "\\item[\\$testing] 49024\n",
              "\\item[\\$testing\\_pos] 337\n",
              "\\item[\\$envios] 3474\n",
              "\\item[\\$aciertos] 201\n",
              "\\item[\\$ganancia\\_test] 304400000\n",
              "\\end{description}\n",
              "\n",
              "\\item \\begin{description}\n",
              "\\item[\\$semilla] 195281\n",
              "\\item[\\$testing] 49031\n",
              "\\item[\\$testing\\_pos] 340\n",
              "\\item[\\$envios] 3741\n",
              "\\item[\\$aciertos] 206\n",
              "\\item[\\$ganancia\\_test] 299933333.333333\n",
              "\\end{description}\n",
              "\n",
              "\\item \\begin{description}\n",
              "\\item[\\$semilla] 326999\n",
              "\\item[\\$testing] 49028\n",
              "\\item[\\$testing\\_pos] 343\n",
              "\\item[\\$envios] 2973\n",
              "\\item[\\$aciertos] 195\n",
              "\\item[\\$ganancia\\_test] 321800000\n",
              "\\end{description}\n",
              "\n",
              "\\item \\begin{description}\n",
              "\\item[\\$semilla] 452269\n",
              "\\item[\\$testing] 49025\n",
              "\\item[\\$testing\\_pos] 339\n",
              "\\item[\\$envios] 3290\n",
              "\\item[\\$aciertos] 178\n",
              "\\item[\\$ganancia\\_test] 255333333.333333\n",
              "\\end{description}\n",
              "\n",
              "\\item \\begin{description}\n",
              "\\item[\\$semilla] 576221\n",
              "\\item[\\$testing] 49024\n",
              "\\item[\\$testing\\_pos] 339\n",
              "\\item[\\$envios] 2920\n",
              "\\item[\\$aciertos] 185\n",
              "\\item[\\$ganancia\\_test] 298666666.666667\n",
              "\\end{description}\n",
              "\n",
              "\\item \\begin{description}\n",
              "\\item[\\$semilla] 293729\n",
              "\\item[\\$testing] 49025\n",
              "\\item[\\$testing\\_pos] 341\n",
              "\\item[\\$envios] 2732\n",
              "\\item[\\$aciertos] 170\n",
              "\\item[\\$ganancia\\_test] 271200000\n",
              "\\end{description}\n",
              "\n",
              "\\item \\begin{description}\n",
              "\\item[\\$semilla] 658079\n",
              "\\item[\\$testing] 49033\n",
              "\\item[\\$testing\\_pos] 341\n",
              "\\item[\\$envios] 3274\n",
              "\\item[\\$aciertos] 203\n",
              "\\item[\\$ganancia\\_test] 323066666.666667\n",
              "\\end{description}\n",
              "\n",
              "\\item \\begin{description}\n",
              "\\item[\\$semilla] 341461\n",
              "\\item[\\$testing] 49032\n",
              "\\item[\\$testing\\_pos] 338\n",
              "\\item[\\$envios] 3921\n",
              "\\item[\\$aciertos] 214\n",
              "\\item[\\$ganancia\\_test] 309266666.666667\n",
              "\\end{description}\n",
              "\n",
              "\\item \\begin{description}\n",
              "\\item[\\$semilla] 193873\n",
              "\\item[\\$testing] 49038\n",
              "\\item[\\$testing\\_pos] 345\n",
              "\\item[\\$envios] 3944\n",
              "\\item[\\$aciertos] 206\n",
              "\\item[\\$ganancia\\_test] 286400000\n",
              "\\end{description}\n",
              "\n",
              "\\item \\begin{description}\n",
              "\\item[\\$semilla] 961139\n",
              "\\item[\\$testing] 49019\n",
              "\\item[\\$testing\\_pos] 339\n",
              "\\item[\\$envios] 2786\n",
              "\\item[\\$aciertos] 172\n",
              "\\item[\\$ganancia\\_test] 272933333.333333\n",
              "\\end{description}\n",
              "\n",
              "\\item \\begin{description}\n",
              "\\item[\\$semilla] 754513\n",
              "\\item[\\$testing] 49027\n",
              "\\item[\\$testing\\_pos] 346\n",
              "\\item[\\$envios] 3191\n",
              "\\item[\\$aciertos] 203\n",
              "\\item[\\$ganancia\\_test] 328600000\n",
              "\\end{description}\n",
              "\n",
              "\\item \\begin{description}\n",
              "\\item[\\$semilla] 856759\n",
              "\\item[\\$testing] 49026\n",
              "\\item[\\$testing\\_pos] 341\n",
              "\\item[\\$envios] 2717\n",
              "\\item[\\$aciertos] 172\n",
              "\\item[\\$ganancia\\_test] 277533333.333333\n",
              "\\end{description}\n",
              "\n",
              "\\item \\begin{description}\n",
              "\\item[\\$semilla] 402307\n",
              "\\item[\\$testing] 49013\n",
              "\\item[\\$testing\\_pos] 332\n",
              "\\item[\\$envios] 3405\n",
              "\\item[\\$aciertos] 178\n",
              "\\item[\\$ganancia\\_test] 247666666.666667\n",
              "\\end{description}\n",
              "\n",
              "\\item \\begin{description}\n",
              "\\item[\\$semilla] 706417\n",
              "\\item[\\$testing] 49028\n",
              "\\item[\\$testing\\_pos] 344\n",
              "\\item[\\$envios] 2895\n",
              "\\item[\\$aciertos] 198\n",
              "\\item[\\$ganancia\\_test] 3.35e+08\n",
              "\\end{description}\n",
              "\n",
              "\\item \\begin{description}\n",
              "\\item[\\$semilla] 586457\n",
              "\\item[\\$testing] 49025\n",
              "\\item[\\$testing\\_pos] 337\n",
              "\\item[\\$envios] 2894\n",
              "\\item[\\$aciertos] 174\n",
              "\\item[\\$ganancia\\_test] 271066666.666667\n",
              "\\end{description}\n",
              "\n",
              "\\item \\begin{description}\n",
              "\\item[\\$semilla] 260461\n",
              "\\item[\\$testing] 49031\n",
              "\\item[\\$testing\\_pos] 338\n",
              "\\item[\\$envios] 2975\n",
              "\\item[\\$aciertos] 186\n",
              "\\item[\\$ganancia\\_test] 297666666.666667\n",
              "\\end{description}\n",
              "\n",
              "\\item \\begin{description}\n",
              "\\item[\\$semilla] 808373\n",
              "\\item[\\$testing] 49028\n",
              "\\item[\\$testing\\_pos] 344\n",
              "\\item[\\$envios] 2839\n",
              "\\item[\\$aciertos] 171\n",
              "\\item[\\$ganancia\\_test] 266733333.333333\n",
              "\\end{description}\n",
              "\n",
              "\\item \\begin{description}\n",
              "\\item[\\$semilla] 986933\n",
              "\\item[\\$testing] 49030\n",
              "\\item[\\$testing\\_pos] 339\n",
              "\\item[\\$envios] 3197\n",
              "\\item[\\$aciertos] 183\n",
              "\\item[\\$ganancia\\_test] 274866666.666667\n",
              "\\end{description}\n",
              "\n",
              "\\item \\begin{description}\n",
              "\\item[\\$semilla] 251879\n",
              "\\item[\\$testing] 49025\n",
              "\\item[\\$testing\\_pos] 339\n",
              "\\item[\\$envios] 2558\n",
              "\\item[\\$aciertos] 177\n",
              "\\item[\\$ganancia\\_test] 301466666.666667\n",
              "\\end{description}\n",
              "\n",
              "\\item \\begin{description}\n",
              "\\item[\\$semilla] 829453\n",
              "\\item[\\$testing] 49028\n",
              "\\item[\\$testing\\_pos] 338\n",
              "\\item[\\$envios] 3477\n",
              "\\item[\\$aciertos] 200\n",
              "\\item[\\$ganancia\\_test] 301533333.333333\n",
              "\\end{description}\n",
              "\n",
              "\\item \\begin{description}\n",
              "\\item[\\$semilla] 208189\n",
              "\\item[\\$testing] 49014\n",
              "\\item[\\$testing\\_pos] 336\n",
              "\\item[\\$envios] 2298\n",
              "\\item[\\$aciertos] 178\n",
              "\\item[\\$ganancia\\_test] 321466666.666667\n",
              "\\end{description}\n",
              "\n",
              "\\item \\begin{description}\n",
              "\\item[\\$semilla] 690721\n",
              "\\item[\\$testing] 49039\n",
              "\\item[\\$testing\\_pos] 339\n",
              "\\item[\\$envios] 3675\n",
              "\\item[\\$aciertos] 204\n",
              "\\item[\\$ganancia\\_test] 2.99e+08\n",
              "\\end{description}\n",
              "\n",
              "\\item \\begin{description}\n",
              "\\item[\\$semilla] 658117\n",
              "\\item[\\$testing] 49027\n",
              "\\item[\\$testing\\_pos] 337\n",
              "\\item[\\$envios] 2774\n",
              "\\item[\\$aciertos] 172\n",
              "\\item[\\$ganancia\\_test] 273733333.333333\n",
              "\\end{description}\n",
              "\n",
              "\\item \\begin{description}\n",
              "\\item[\\$semilla] 885509\n",
              "\\item[\\$testing] 49028\n",
              "\\item[\\$testing\\_pos] 341\n",
              "\\item[\\$envios] 3037\n",
              "\\item[\\$aciertos] 166\n",
              "\\item[\\$ganancia\\_test] 240200000\n",
              "\\end{description}\n",
              "\n",
              "\\item \\begin{description}\n",
              "\\item[\\$semilla] 816019\n",
              "\\item[\\$testing] 49030\n",
              "\\item[\\$testing\\_pos] 336\n",
              "\\item[\\$envios] 3014\n",
              "\\item[\\$aciertos] 189\n",
              "\\item[\\$ganancia\\_test] 303066666.666667\n",
              "\\end{description}\n",
              "\n",
              "\\item \\begin{description}\n",
              "\\item[\\$semilla] 526739\n",
              "\\item[\\$testing] 49032\n",
              "\\item[\\$testing\\_pos] 348\n",
              "\\item[\\$envios] 2879\n",
              "\\item[\\$aciertos] 180\n",
              "\\item[\\$ganancia\\_test] 288066666.666667\n",
              "\\end{description}\n",
              "\n",
              "\\item \\begin{description}\n",
              "\\item[\\$semilla] 236471\n",
              "\\item[\\$testing] 49024\n",
              "\\item[\\$testing\\_pos] 337\n",
              "\\item[\\$envios] 3465\n",
              "\\item[\\$aciertos] 202\n",
              "\\item[\\$ganancia\\_test] 307666666.666667\n",
              "\\end{description}\n",
              "\n",
              "\\item \\begin{description}\n",
              "\\item[\\$semilla] 147089\n",
              "\\item[\\$testing] 49017\n",
              "\\item[\\$testing\\_pos] 334\n",
              "\\item[\\$envios] 2623\n",
              "\\item[\\$aciertos] 171\n",
              "\\item[\\$ganancia\\_test] 281133333.333333\n",
              "\\end{description}\n",
              "\n",
              "\\item \\begin{description}\n",
              "\\item[\\$semilla] 550607\n",
              "\\item[\\$testing] 49013\n",
              "\\item[\\$testing\\_pos] 332\n",
              "\\item[\\$envios] 3423\n",
              "\\item[\\$aciertos] 184\n",
              "\\item[\\$ganancia\\_test] 262466666.666667\n",
              "\\end{description}\n",
              "\n",
              "\\item \\begin{description}\n",
              "\\item[\\$semilla] 249863\n",
              "\\item[\\$testing] 49026\n",
              "\\item[\\$testing\\_pos] 345\n",
              "\\item[\\$envios] 2647\n",
              "\\item[\\$aciertos] 179\n",
              "\\item[\\$ganancia\\_test] 300866666.666667\n",
              "\\end{description}\n",
              "\n",
              "\\item \\begin{description}\n",
              "\\item[\\$semilla] 398369\n",
              "\\item[\\$testing] 49026\n",
              "\\item[\\$testing\\_pos] 337\n",
              "\\item[\\$envios] 2615\n",
              "\\item[\\$aciertos] 173\n",
              "\\item[\\$ganancia\\_test] 2.87e+08\n",
              "\\end{description}\n",
              "\n",
              "\\item \\begin{description}\n",
              "\\item[\\$semilla] 866857\n",
              "\\item[\\$testing] 49029\n",
              "\\item[\\$testing\\_pos] 342\n",
              "\\item[\\$envios] 3320\n",
              "\\item[\\$aciertos] 188\n",
              "\\item[\\$ganancia\\_test] 2.8e+08\n",
              "\\end{description}\n",
              "\n",
              "\\item \\begin{description}\n",
              "\\item[\\$semilla] 864781\n",
              "\\item[\\$testing] 49012\n",
              "\\item[\\$testing\\_pos] 332\n",
              "\\item[\\$envios] 3058\n",
              "\\item[\\$aciertos] 185\n",
              "\\item[\\$ganancia\\_test] 289466666.666667\n",
              "\\end{description}\n",
              "\n",
              "\\item \\begin{description}\n",
              "\\item[\\$semilla] 518831\n",
              "\\item[\\$testing] 49015\n",
              "\\item[\\$testing\\_pos] 337\n",
              "\\item[\\$envios] 2964\n",
              "\\item[\\$aciertos] 175\n",
              "\\item[\\$ganancia\\_test] 269066666.666667\n",
              "\\end{description}\n",
              "\n",
              "\\item \\begin{description}\n",
              "\\item[\\$semilla] 170081\n",
              "\\item[\\$testing] 49023\n",
              "\\item[\\$testing\\_pos] 336\n",
              "\\item[\\$envios] 3257\n",
              "\\item[\\$aciertos] 188\n",
              "\\item[\\$ganancia\\_test] 284200000\n",
              "\\end{description}\n",
              "\n",
              "\\item \\begin{description}\n",
              "\\item[\\$semilla] 111653\n",
              "\\item[\\$testing] 49031\n",
              "\\item[\\$testing\\_pos] 344\n",
              "\\item[\\$envios] 2886\n",
              "\\item[\\$aciertos] 178\n",
              "\\item[\\$ganancia\\_test] 282266666.666667\n",
              "\\end{description}\n",
              "\n",
              "\\item \\begin{description}\n",
              "\\item[\\$semilla] 157627\n",
              "\\item[\\$testing] 49021\n",
              "\\item[\\$testing\\_pos] 339\n",
              "\\item[\\$envios] 2988\n",
              "\\item[\\$aciertos] 179\n",
              "\\item[\\$ganancia\\_test] 278133333.333333\n",
              "\\end{description}\n",
              "\n",
              "\\item \\begin{description}\n",
              "\\item[\\$semilla] 381569\n",
              "\\item[\\$testing] 49023\n",
              "\\item[\\$testing\\_pos] 343\n",
              "\\item[\\$envios] 2494\n",
              "\\item[\\$aciertos] 179\n",
              "\\item[\\$ganancia\\_test] 311066666.666667\n",
              "\\end{description}\n",
              "\n",
              "\\item \\begin{description}\n",
              "\\item[\\$semilla] 674903\n",
              "\\item[\\$testing] 49026\n",
              "\\item[\\$testing\\_pos] 342\n",
              "\\item[\\$envios] 3014\n",
              "\\item[\\$aciertos] 176\n",
              "\\item[\\$ganancia\\_test] 268400000\n",
              "\\end{description}\n",
              "\n",
              "\\item \\begin{description}\n",
              "\\item[\\$semilla] 858503\n",
              "\\item[\\$testing] 49031\n",
              "\\item[\\$testing\\_pos] 342\n",
              "\\item[\\$envios] 3193\n",
              "\\item[\\$aciertos] 193\n",
              "\\item[\\$ganancia\\_test] 301800000\n",
              "\\end{description}\n",
              "\n",
              "\\end{enumerate}\n"
            ],
            "text/markdown": [
              "1. $semilla\n",
              ":   590819\n",
              "$testing\n",
              ":   49019\n",
              "$testing_pos\n",
              ":   337\n",
              "$envios\n",
              ":   3425\n",
              "$aciertos\n",
              ":   193\n",
              "$ganancia_test\n",
              ":   286333333.333333\n",
              "\n",
              "\n",
              "\n",
              "2. $semilla\n",
              ":   526937\n",
              "$testing\n",
              ":   49021\n",
              "$testing_pos\n",
              ":   332\n",
              "$envios\n",
              ":   2940\n",
              "$aciertos\n",
              ":   174\n",
              "$ganancia_test\n",
              ":   2.68e+08\n",
              "\n",
              "\n",
              "\n",
              "3. $semilla\n",
              ":   753937\n",
              "$testing\n",
              ":   49017\n",
              "$testing_pos\n",
              ":   336\n",
              "$envios\n",
              ":   2745\n",
              "$aciertos\n",
              ":   163\n",
              "$ganancia_test\n",
              ":   251666666.666667\n",
              "\n",
              "\n",
              "\n",
              "4. $semilla\n",
              ":   101173\n",
              "$testing\n",
              ":   49025\n",
              "$testing_pos\n",
              ":   340\n",
              "$envios\n",
              ":   3004\n",
              "$aciertos\n",
              ":   184\n",
              "$ganancia_test\n",
              ":   290400000\n",
              "\n",
              "\n",
              "\n",
              "5. $semilla\n",
              ":   715727\n",
              "$testing\n",
              ":   49021\n",
              "$testing_pos\n",
              ":   337\n",
              "$envios\n",
              ":   2835\n",
              "$aciertos\n",
              ":   164\n",
              "$ganancia_test\n",
              ":   248333333.333333\n",
              "\n",
              "\n",
              "\n",
              "6. $semilla\n",
              ":   522959\n",
              "$testing\n",
              ":   49027\n",
              "$testing_pos\n",
              ":   340\n",
              "$envios\n",
              ":   2694\n",
              "$aciertos\n",
              ":   177\n",
              "$ganancia_test\n",
              ":   292400000\n",
              "\n",
              "\n",
              "\n",
              "7. $semilla\n",
              ":   975883\n",
              "$testing\n",
              ":   49030\n",
              "$testing_pos\n",
              ":   340\n",
              "$envios\n",
              ":   3142\n",
              "$aciertos\n",
              ":   196\n",
              "$ganancia_test\n",
              ":   313200000\n",
              "\n",
              "\n",
              "\n",
              "8. $semilla\n",
              ":   703657\n",
              "$testing\n",
              ":   49020\n",
              "$testing_pos\n",
              ":   334\n",
              "$envios\n",
              ":   2735\n",
              "$aciertos\n",
              ":   161\n",
              "$ganancia_test\n",
              ":   2.47e+08\n",
              "\n",
              "\n",
              "\n",
              "9. $semilla\n",
              ":   631469\n",
              "$testing\n",
              ":   49019\n",
              "$testing_pos\n",
              ":   329\n",
              "$envios\n",
              ":   2976\n",
              "$aciertos\n",
              ":   177\n",
              "$ganancia_test\n",
              ":   273600000\n",
              "\n",
              "\n",
              "\n",
              "10. $semilla\n",
              ":   662617\n",
              "$testing\n",
              ":   49031\n",
              "$testing_pos\n",
              ":   341\n",
              "$envios\n",
              ":   3151\n",
              "$aciertos\n",
              ":   189\n",
              "$ganancia_test\n",
              ":   293933333.333333\n",
              "\n",
              "\n",
              "\n",
              "11. $semilla\n",
              ":   552031\n",
              "$testing\n",
              ":   49024\n",
              "$testing_pos\n",
              ":   337\n",
              "$envios\n",
              ":   3474\n",
              "$aciertos\n",
              ":   201\n",
              "$ganancia_test\n",
              ":   304400000\n",
              "\n",
              "\n",
              "\n",
              "12. $semilla\n",
              ":   195281\n",
              "$testing\n",
              ":   49031\n",
              "$testing_pos\n",
              ":   340\n",
              "$envios\n",
              ":   3741\n",
              "$aciertos\n",
              ":   206\n",
              "$ganancia_test\n",
              ":   299933333.333333\n",
              "\n",
              "\n",
              "\n",
              "13. $semilla\n",
              ":   326999\n",
              "$testing\n",
              ":   49028\n",
              "$testing_pos\n",
              ":   343\n",
              "$envios\n",
              ":   2973\n",
              "$aciertos\n",
              ":   195\n",
              "$ganancia_test\n",
              ":   321800000\n",
              "\n",
              "\n",
              "\n",
              "14. $semilla\n",
              ":   452269\n",
              "$testing\n",
              ":   49025\n",
              "$testing_pos\n",
              ":   339\n",
              "$envios\n",
              ":   3290\n",
              "$aciertos\n",
              ":   178\n",
              "$ganancia_test\n",
              ":   255333333.333333\n",
              "\n",
              "\n",
              "\n",
              "15. $semilla\n",
              ":   576221\n",
              "$testing\n",
              ":   49024\n",
              "$testing_pos\n",
              ":   339\n",
              "$envios\n",
              ":   2920\n",
              "$aciertos\n",
              ":   185\n",
              "$ganancia_test\n",
              ":   298666666.666667\n",
              "\n",
              "\n",
              "\n",
              "16. $semilla\n",
              ":   293729\n",
              "$testing\n",
              ":   49025\n",
              "$testing_pos\n",
              ":   341\n",
              "$envios\n",
              ":   2732\n",
              "$aciertos\n",
              ":   170\n",
              "$ganancia_test\n",
              ":   271200000\n",
              "\n",
              "\n",
              "\n",
              "17. $semilla\n",
              ":   658079\n",
              "$testing\n",
              ":   49033\n",
              "$testing_pos\n",
              ":   341\n",
              "$envios\n",
              ":   3274\n",
              "$aciertos\n",
              ":   203\n",
              "$ganancia_test\n",
              ":   323066666.666667\n",
              "\n",
              "\n",
              "\n",
              "18. $semilla\n",
              ":   341461\n",
              "$testing\n",
              ":   49032\n",
              "$testing_pos\n",
              ":   338\n",
              "$envios\n",
              ":   3921\n",
              "$aciertos\n",
              ":   214\n",
              "$ganancia_test\n",
              ":   309266666.666667\n",
              "\n",
              "\n",
              "\n",
              "19. $semilla\n",
              ":   193873\n",
              "$testing\n",
              ":   49038\n",
              "$testing_pos\n",
              ":   345\n",
              "$envios\n",
              ":   3944\n",
              "$aciertos\n",
              ":   206\n",
              "$ganancia_test\n",
              ":   286400000\n",
              "\n",
              "\n",
              "\n",
              "20. $semilla\n",
              ":   961139\n",
              "$testing\n",
              ":   49019\n",
              "$testing_pos\n",
              ":   339\n",
              "$envios\n",
              ":   2786\n",
              "$aciertos\n",
              ":   172\n",
              "$ganancia_test\n",
              ":   272933333.333333\n",
              "\n",
              "\n",
              "\n",
              "21. $semilla\n",
              ":   754513\n",
              "$testing\n",
              ":   49027\n",
              "$testing_pos\n",
              ":   346\n",
              "$envios\n",
              ":   3191\n",
              "$aciertos\n",
              ":   203\n",
              "$ganancia_test\n",
              ":   328600000\n",
              "\n",
              "\n",
              "\n",
              "22. $semilla\n",
              ":   856759\n",
              "$testing\n",
              ":   49026\n",
              "$testing_pos\n",
              ":   341\n",
              "$envios\n",
              ":   2717\n",
              "$aciertos\n",
              ":   172\n",
              "$ganancia_test\n",
              ":   277533333.333333\n",
              "\n",
              "\n",
              "\n",
              "23. $semilla\n",
              ":   402307\n",
              "$testing\n",
              ":   49013\n",
              "$testing_pos\n",
              ":   332\n",
              "$envios\n",
              ":   3405\n",
              "$aciertos\n",
              ":   178\n",
              "$ganancia_test\n",
              ":   247666666.666667\n",
              "\n",
              "\n",
              "\n",
              "24. $semilla\n",
              ":   706417\n",
              "$testing\n",
              ":   49028\n",
              "$testing_pos\n",
              ":   344\n",
              "$envios\n",
              ":   2895\n",
              "$aciertos\n",
              ":   198\n",
              "$ganancia_test\n",
              ":   3.35e+08\n",
              "\n",
              "\n",
              "\n",
              "25. $semilla\n",
              ":   586457\n",
              "$testing\n",
              ":   49025\n",
              "$testing_pos\n",
              ":   337\n",
              "$envios\n",
              ":   2894\n",
              "$aciertos\n",
              ":   174\n",
              "$ganancia_test\n",
              ":   271066666.666667\n",
              "\n",
              "\n",
              "\n",
              "26. $semilla\n",
              ":   260461\n",
              "$testing\n",
              ":   49031\n",
              "$testing_pos\n",
              ":   338\n",
              "$envios\n",
              ":   2975\n",
              "$aciertos\n",
              ":   186\n",
              "$ganancia_test\n",
              ":   297666666.666667\n",
              "\n",
              "\n",
              "\n",
              "27. $semilla\n",
              ":   808373\n",
              "$testing\n",
              ":   49028\n",
              "$testing_pos\n",
              ":   344\n",
              "$envios\n",
              ":   2839\n",
              "$aciertos\n",
              ":   171\n",
              "$ganancia_test\n",
              ":   266733333.333333\n",
              "\n",
              "\n",
              "\n",
              "28. $semilla\n",
              ":   986933\n",
              "$testing\n",
              ":   49030\n",
              "$testing_pos\n",
              ":   339\n",
              "$envios\n",
              ":   3197\n",
              "$aciertos\n",
              ":   183\n",
              "$ganancia_test\n",
              ":   274866666.666667\n",
              "\n",
              "\n",
              "\n",
              "29. $semilla\n",
              ":   251879\n",
              "$testing\n",
              ":   49025\n",
              "$testing_pos\n",
              ":   339\n",
              "$envios\n",
              ":   2558\n",
              "$aciertos\n",
              ":   177\n",
              "$ganancia_test\n",
              ":   301466666.666667\n",
              "\n",
              "\n",
              "\n",
              "30. $semilla\n",
              ":   829453\n",
              "$testing\n",
              ":   49028\n",
              "$testing_pos\n",
              ":   338\n",
              "$envios\n",
              ":   3477\n",
              "$aciertos\n",
              ":   200\n",
              "$ganancia_test\n",
              ":   301533333.333333\n",
              "\n",
              "\n",
              "\n",
              "31. $semilla\n",
              ":   208189\n",
              "$testing\n",
              ":   49014\n",
              "$testing_pos\n",
              ":   336\n",
              "$envios\n",
              ":   2298\n",
              "$aciertos\n",
              ":   178\n",
              "$ganancia_test\n",
              ":   321466666.666667\n",
              "\n",
              "\n",
              "\n",
              "32. $semilla\n",
              ":   690721\n",
              "$testing\n",
              ":   49039\n",
              "$testing_pos\n",
              ":   339\n",
              "$envios\n",
              ":   3675\n",
              "$aciertos\n",
              ":   204\n",
              "$ganancia_test\n",
              ":   2.99e+08\n",
              "\n",
              "\n",
              "\n",
              "33. $semilla\n",
              ":   658117\n",
              "$testing\n",
              ":   49027\n",
              "$testing_pos\n",
              ":   337\n",
              "$envios\n",
              ":   2774\n",
              "$aciertos\n",
              ":   172\n",
              "$ganancia_test\n",
              ":   273733333.333333\n",
              "\n",
              "\n",
              "\n",
              "34. $semilla\n",
              ":   885509\n",
              "$testing\n",
              ":   49028\n",
              "$testing_pos\n",
              ":   341\n",
              "$envios\n",
              ":   3037\n",
              "$aciertos\n",
              ":   166\n",
              "$ganancia_test\n",
              ":   240200000\n",
              "\n",
              "\n",
              "\n",
              "35. $semilla\n",
              ":   816019\n",
              "$testing\n",
              ":   49030\n",
              "$testing_pos\n",
              ":   336\n",
              "$envios\n",
              ":   3014\n",
              "$aciertos\n",
              ":   189\n",
              "$ganancia_test\n",
              ":   303066666.666667\n",
              "\n",
              "\n",
              "\n",
              "36. $semilla\n",
              ":   526739\n",
              "$testing\n",
              ":   49032\n",
              "$testing_pos\n",
              ":   348\n",
              "$envios\n",
              ":   2879\n",
              "$aciertos\n",
              ":   180\n",
              "$ganancia_test\n",
              ":   288066666.666667\n",
              "\n",
              "\n",
              "\n",
              "37. $semilla\n",
              ":   236471\n",
              "$testing\n",
              ":   49024\n",
              "$testing_pos\n",
              ":   337\n",
              "$envios\n",
              ":   3465\n",
              "$aciertos\n",
              ":   202\n",
              "$ganancia_test\n",
              ":   307666666.666667\n",
              "\n",
              "\n",
              "\n",
              "38. $semilla\n",
              ":   147089\n",
              "$testing\n",
              ":   49017\n",
              "$testing_pos\n",
              ":   334\n",
              "$envios\n",
              ":   2623\n",
              "$aciertos\n",
              ":   171\n",
              "$ganancia_test\n",
              ":   281133333.333333\n",
              "\n",
              "\n",
              "\n",
              "39. $semilla\n",
              ":   550607\n",
              "$testing\n",
              ":   49013\n",
              "$testing_pos\n",
              ":   332\n",
              "$envios\n",
              ":   3423\n",
              "$aciertos\n",
              ":   184\n",
              "$ganancia_test\n",
              ":   262466666.666667\n",
              "\n",
              "\n",
              "\n",
              "40. $semilla\n",
              ":   249863\n",
              "$testing\n",
              ":   49026\n",
              "$testing_pos\n",
              ":   345\n",
              "$envios\n",
              ":   2647\n",
              "$aciertos\n",
              ":   179\n",
              "$ganancia_test\n",
              ":   300866666.666667\n",
              "\n",
              "\n",
              "\n",
              "41. $semilla\n",
              ":   398369\n",
              "$testing\n",
              ":   49026\n",
              "$testing_pos\n",
              ":   337\n",
              "$envios\n",
              ":   2615\n",
              "$aciertos\n",
              ":   173\n",
              "$ganancia_test\n",
              ":   2.87e+08\n",
              "\n",
              "\n",
              "\n",
              "42. $semilla\n",
              ":   866857\n",
              "$testing\n",
              ":   49029\n",
              "$testing_pos\n",
              ":   342\n",
              "$envios\n",
              ":   3320\n",
              "$aciertos\n",
              ":   188\n",
              "$ganancia_test\n",
              ":   2.8e+08\n",
              "\n",
              "\n",
              "\n",
              "43. $semilla\n",
              ":   864781\n",
              "$testing\n",
              ":   49012\n",
              "$testing_pos\n",
              ":   332\n",
              "$envios\n",
              ":   3058\n",
              "$aciertos\n",
              ":   185\n",
              "$ganancia_test\n",
              ":   289466666.666667\n",
              "\n",
              "\n",
              "\n",
              "44. $semilla\n",
              ":   518831\n",
              "$testing\n",
              ":   49015\n",
              "$testing_pos\n",
              ":   337\n",
              "$envios\n",
              ":   2964\n",
              "$aciertos\n",
              ":   175\n",
              "$ganancia_test\n",
              ":   269066666.666667\n",
              "\n",
              "\n",
              "\n",
              "45. $semilla\n",
              ":   170081\n",
              "$testing\n",
              ":   49023\n",
              "$testing_pos\n",
              ":   336\n",
              "$envios\n",
              ":   3257\n",
              "$aciertos\n",
              ":   188\n",
              "$ganancia_test\n",
              ":   284200000\n",
              "\n",
              "\n",
              "\n",
              "46. $semilla\n",
              ":   111653\n",
              "$testing\n",
              ":   49031\n",
              "$testing_pos\n",
              ":   344\n",
              "$envios\n",
              ":   2886\n",
              "$aciertos\n",
              ":   178\n",
              "$ganancia_test\n",
              ":   282266666.666667\n",
              "\n",
              "\n",
              "\n",
              "47. $semilla\n",
              ":   157627\n",
              "$testing\n",
              ":   49021\n",
              "$testing_pos\n",
              ":   339\n",
              "$envios\n",
              ":   2988\n",
              "$aciertos\n",
              ":   179\n",
              "$ganancia_test\n",
              ":   278133333.333333\n",
              "\n",
              "\n",
              "\n",
              "48. $semilla\n",
              ":   381569\n",
              "$testing\n",
              ":   49023\n",
              "$testing_pos\n",
              ":   343\n",
              "$envios\n",
              ":   2494\n",
              "$aciertos\n",
              ":   179\n",
              "$ganancia_test\n",
              ":   311066666.666667\n",
              "\n",
              "\n",
              "\n",
              "49. $semilla\n",
              ":   674903\n",
              "$testing\n",
              ":   49026\n",
              "$testing_pos\n",
              ":   342\n",
              "$envios\n",
              ":   3014\n",
              "$aciertos\n",
              ":   176\n",
              "$ganancia_test\n",
              ":   268400000\n",
              "\n",
              "\n",
              "\n",
              "50. $semilla\n",
              ":   858503\n",
              "$testing\n",
              ":   49031\n",
              "$testing_pos\n",
              ":   342\n",
              "$envios\n",
              ":   3193\n",
              "$aciertos\n",
              ":   193\n",
              "$ganancia_test\n",
              ":   301800000\n",
              "\n",
              "\n",
              "\n",
              "\n",
              "\n"
            ],
            "text/plain": [
              "[[1]]\n",
              "[[1]]$semilla\n",
              "[1] 590819\n",
              "\n",
              "[[1]]$testing\n",
              "[1] 49019\n",
              "\n",
              "[[1]]$testing_pos\n",
              "[1] 337\n",
              "\n",
              "[[1]]$envios\n",
              "[1] 3425\n",
              "\n",
              "[[1]]$aciertos\n",
              "[1] 193\n",
              "\n",
              "[[1]]$ganancia_test\n",
              "[1] 286333333\n",
              "\n",
              "\n",
              "[[2]]\n",
              "[[2]]$semilla\n",
              "[1] 526937\n",
              "\n",
              "[[2]]$testing\n",
              "[1] 49021\n",
              "\n",
              "[[2]]$testing_pos\n",
              "[1] 332\n",
              "\n",
              "[[2]]$envios\n",
              "[1] 2940\n",
              "\n",
              "[[2]]$aciertos\n",
              "[1] 174\n",
              "\n",
              "[[2]]$ganancia_test\n",
              "[1] 2.68e+08\n",
              "\n",
              "\n",
              "[[3]]\n",
              "[[3]]$semilla\n",
              "[1] 753937\n",
              "\n",
              "[[3]]$testing\n",
              "[1] 49017\n",
              "\n",
              "[[3]]$testing_pos\n",
              "[1] 336\n",
              "\n",
              "[[3]]$envios\n",
              "[1] 2745\n",
              "\n",
              "[[3]]$aciertos\n",
              "[1] 163\n",
              "\n",
              "[[3]]$ganancia_test\n",
              "[1] 251666667\n",
              "\n",
              "\n",
              "[[4]]\n",
              "[[4]]$semilla\n",
              "[1] 101173\n",
              "\n",
              "[[4]]$testing\n",
              "[1] 49025\n",
              "\n",
              "[[4]]$testing_pos\n",
              "[1] 340\n",
              "\n",
              "[[4]]$envios\n",
              "[1] 3004\n",
              "\n",
              "[[4]]$aciertos\n",
              "[1] 184\n",
              "\n",
              "[[4]]$ganancia_test\n",
              "[1] 290400000\n",
              "\n",
              "\n",
              "[[5]]\n",
              "[[5]]$semilla\n",
              "[1] 715727\n",
              "\n",
              "[[5]]$testing\n",
              "[1] 49021\n",
              "\n",
              "[[5]]$testing_pos\n",
              "[1] 337\n",
              "\n",
              "[[5]]$envios\n",
              "[1] 2835\n",
              "\n",
              "[[5]]$aciertos\n",
              "[1] 164\n",
              "\n",
              "[[5]]$ganancia_test\n",
              "[1] 248333333\n",
              "\n",
              "\n",
              "[[6]]\n",
              "[[6]]$semilla\n",
              "[1] 522959\n",
              "\n",
              "[[6]]$testing\n",
              "[1] 49027\n",
              "\n",
              "[[6]]$testing_pos\n",
              "[1] 340\n",
              "\n",
              "[[6]]$envios\n",
              "[1] 2694\n",
              "\n",
              "[[6]]$aciertos\n",
              "[1] 177\n",
              "\n",
              "[[6]]$ganancia_test\n",
              "[1] 292400000\n",
              "\n",
              "\n",
              "[[7]]\n",
              "[[7]]$semilla\n",
              "[1] 975883\n",
              "\n",
              "[[7]]$testing\n",
              "[1] 49030\n",
              "\n",
              "[[7]]$testing_pos\n",
              "[1] 340\n",
              "\n",
              "[[7]]$envios\n",
              "[1] 3142\n",
              "\n",
              "[[7]]$aciertos\n",
              "[1] 196\n",
              "\n",
              "[[7]]$ganancia_test\n",
              "[1] 313200000\n",
              "\n",
              "\n",
              "[[8]]\n",
              "[[8]]$semilla\n",
              "[1] 703657\n",
              "\n",
              "[[8]]$testing\n",
              "[1] 49020\n",
              "\n",
              "[[8]]$testing_pos\n",
              "[1] 334\n",
              "\n",
              "[[8]]$envios\n",
              "[1] 2735\n",
              "\n",
              "[[8]]$aciertos\n",
              "[1] 161\n",
              "\n",
              "[[8]]$ganancia_test\n",
              "[1] 2.47e+08\n",
              "\n",
              "\n",
              "[[9]]\n",
              "[[9]]$semilla\n",
              "[1] 631469\n",
              "\n",
              "[[9]]$testing\n",
              "[1] 49019\n",
              "\n",
              "[[9]]$testing_pos\n",
              "[1] 329\n",
              "\n",
              "[[9]]$envios\n",
              "[1] 2976\n",
              "\n",
              "[[9]]$aciertos\n",
              "[1] 177\n",
              "\n",
              "[[9]]$ganancia_test\n",
              "[1] 273600000\n",
              "\n",
              "\n",
              "[[10]]\n",
              "[[10]]$semilla\n",
              "[1] 662617\n",
              "\n",
              "[[10]]$testing\n",
              "[1] 49031\n",
              "\n",
              "[[10]]$testing_pos\n",
              "[1] 341\n",
              "\n",
              "[[10]]$envios\n",
              "[1] 3151\n",
              "\n",
              "[[10]]$aciertos\n",
              "[1] 189\n",
              "\n",
              "[[10]]$ganancia_test\n",
              "[1] 293933333\n",
              "\n",
              "\n",
              "[[11]]\n",
              "[[11]]$semilla\n",
              "[1] 552031\n",
              "\n",
              "[[11]]$testing\n",
              "[1] 49024\n",
              "\n",
              "[[11]]$testing_pos\n",
              "[1] 337\n",
              "\n",
              "[[11]]$envios\n",
              "[1] 3474\n",
              "\n",
              "[[11]]$aciertos\n",
              "[1] 201\n",
              "\n",
              "[[11]]$ganancia_test\n",
              "[1] 304400000\n",
              "\n",
              "\n",
              "[[12]]\n",
              "[[12]]$semilla\n",
              "[1] 195281\n",
              "\n",
              "[[12]]$testing\n",
              "[1] 49031\n",
              "\n",
              "[[12]]$testing_pos\n",
              "[1] 340\n",
              "\n",
              "[[12]]$envios\n",
              "[1] 3741\n",
              "\n",
              "[[12]]$aciertos\n",
              "[1] 206\n",
              "\n",
              "[[12]]$ganancia_test\n",
              "[1] 299933333\n",
              "\n",
              "\n",
              "[[13]]\n",
              "[[13]]$semilla\n",
              "[1] 326999\n",
              "\n",
              "[[13]]$testing\n",
              "[1] 49028\n",
              "\n",
              "[[13]]$testing_pos\n",
              "[1] 343\n",
              "\n",
              "[[13]]$envios\n",
              "[1] 2973\n",
              "\n",
              "[[13]]$aciertos\n",
              "[1] 195\n",
              "\n",
              "[[13]]$ganancia_test\n",
              "[1] 321800000\n",
              "\n",
              "\n",
              "[[14]]\n",
              "[[14]]$semilla\n",
              "[1] 452269\n",
              "\n",
              "[[14]]$testing\n",
              "[1] 49025\n",
              "\n",
              "[[14]]$testing_pos\n",
              "[1] 339\n",
              "\n",
              "[[14]]$envios\n",
              "[1] 3290\n",
              "\n",
              "[[14]]$aciertos\n",
              "[1] 178\n",
              "\n",
              "[[14]]$ganancia_test\n",
              "[1] 255333333\n",
              "\n",
              "\n",
              "[[15]]\n",
              "[[15]]$semilla\n",
              "[1] 576221\n",
              "\n",
              "[[15]]$testing\n",
              "[1] 49024\n",
              "\n",
              "[[15]]$testing_pos\n",
              "[1] 339\n",
              "\n",
              "[[15]]$envios\n",
              "[1] 2920\n",
              "\n",
              "[[15]]$aciertos\n",
              "[1] 185\n",
              "\n",
              "[[15]]$ganancia_test\n",
              "[1] 298666667\n",
              "\n",
              "\n",
              "[[16]]\n",
              "[[16]]$semilla\n",
              "[1] 293729\n",
              "\n",
              "[[16]]$testing\n",
              "[1] 49025\n",
              "\n",
              "[[16]]$testing_pos\n",
              "[1] 341\n",
              "\n",
              "[[16]]$envios\n",
              "[1] 2732\n",
              "\n",
              "[[16]]$aciertos\n",
              "[1] 170\n",
              "\n",
              "[[16]]$ganancia_test\n",
              "[1] 271200000\n",
              "\n",
              "\n",
              "[[17]]\n",
              "[[17]]$semilla\n",
              "[1] 658079\n",
              "\n",
              "[[17]]$testing\n",
              "[1] 49033\n",
              "\n",
              "[[17]]$testing_pos\n",
              "[1] 341\n",
              "\n",
              "[[17]]$envios\n",
              "[1] 3274\n",
              "\n",
              "[[17]]$aciertos\n",
              "[1] 203\n",
              "\n",
              "[[17]]$ganancia_test\n",
              "[1] 323066667\n",
              "\n",
              "\n",
              "[[18]]\n",
              "[[18]]$semilla\n",
              "[1] 341461\n",
              "\n",
              "[[18]]$testing\n",
              "[1] 49032\n",
              "\n",
              "[[18]]$testing_pos\n",
              "[1] 338\n",
              "\n",
              "[[18]]$envios\n",
              "[1] 3921\n",
              "\n",
              "[[18]]$aciertos\n",
              "[1] 214\n",
              "\n",
              "[[18]]$ganancia_test\n",
              "[1] 309266667\n",
              "\n",
              "\n",
              "[[19]]\n",
              "[[19]]$semilla\n",
              "[1] 193873\n",
              "\n",
              "[[19]]$testing\n",
              "[1] 49038\n",
              "\n",
              "[[19]]$testing_pos\n",
              "[1] 345\n",
              "\n",
              "[[19]]$envios\n",
              "[1] 3944\n",
              "\n",
              "[[19]]$aciertos\n",
              "[1] 206\n",
              "\n",
              "[[19]]$ganancia_test\n",
              "[1] 286400000\n",
              "\n",
              "\n",
              "[[20]]\n",
              "[[20]]$semilla\n",
              "[1] 961139\n",
              "\n",
              "[[20]]$testing\n",
              "[1] 49019\n",
              "\n",
              "[[20]]$testing_pos\n",
              "[1] 339\n",
              "\n",
              "[[20]]$envios\n",
              "[1] 2786\n",
              "\n",
              "[[20]]$aciertos\n",
              "[1] 172\n",
              "\n",
              "[[20]]$ganancia_test\n",
              "[1] 272933333\n",
              "\n",
              "\n",
              "[[21]]\n",
              "[[21]]$semilla\n",
              "[1] 754513\n",
              "\n",
              "[[21]]$testing\n",
              "[1] 49027\n",
              "\n",
              "[[21]]$testing_pos\n",
              "[1] 346\n",
              "\n",
              "[[21]]$envios\n",
              "[1] 3191\n",
              "\n",
              "[[21]]$aciertos\n",
              "[1] 203\n",
              "\n",
              "[[21]]$ganancia_test\n",
              "[1] 328600000\n",
              "\n",
              "\n",
              "[[22]]\n",
              "[[22]]$semilla\n",
              "[1] 856759\n",
              "\n",
              "[[22]]$testing\n",
              "[1] 49026\n",
              "\n",
              "[[22]]$testing_pos\n",
              "[1] 341\n",
              "\n",
              "[[22]]$envios\n",
              "[1] 2717\n",
              "\n",
              "[[22]]$aciertos\n",
              "[1] 172\n",
              "\n",
              "[[22]]$ganancia_test\n",
              "[1] 277533333\n",
              "\n",
              "\n",
              "[[23]]\n",
              "[[23]]$semilla\n",
              "[1] 402307\n",
              "\n",
              "[[23]]$testing\n",
              "[1] 49013\n",
              "\n",
              "[[23]]$testing_pos\n",
              "[1] 332\n",
              "\n",
              "[[23]]$envios\n",
              "[1] 3405\n",
              "\n",
              "[[23]]$aciertos\n",
              "[1] 178\n",
              "\n",
              "[[23]]$ganancia_test\n",
              "[1] 247666667\n",
              "\n",
              "\n",
              "[[24]]\n",
              "[[24]]$semilla\n",
              "[1] 706417\n",
              "\n",
              "[[24]]$testing\n",
              "[1] 49028\n",
              "\n",
              "[[24]]$testing_pos\n",
              "[1] 344\n",
              "\n",
              "[[24]]$envios\n",
              "[1] 2895\n",
              "\n",
              "[[24]]$aciertos\n",
              "[1] 198\n",
              "\n",
              "[[24]]$ganancia_test\n",
              "[1] 3.35e+08\n",
              "\n",
              "\n",
              "[[25]]\n",
              "[[25]]$semilla\n",
              "[1] 586457\n",
              "\n",
              "[[25]]$testing\n",
              "[1] 49025\n",
              "\n",
              "[[25]]$testing_pos\n",
              "[1] 337\n",
              "\n",
              "[[25]]$envios\n",
              "[1] 2894\n",
              "\n",
              "[[25]]$aciertos\n",
              "[1] 174\n",
              "\n",
              "[[25]]$ganancia_test\n",
              "[1] 271066667\n",
              "\n",
              "\n",
              "[[26]]\n",
              "[[26]]$semilla\n",
              "[1] 260461\n",
              "\n",
              "[[26]]$testing\n",
              "[1] 49031\n",
              "\n",
              "[[26]]$testing_pos\n",
              "[1] 338\n",
              "\n",
              "[[26]]$envios\n",
              "[1] 2975\n",
              "\n",
              "[[26]]$aciertos\n",
              "[1] 186\n",
              "\n",
              "[[26]]$ganancia_test\n",
              "[1] 297666667\n",
              "\n",
              "\n",
              "[[27]]\n",
              "[[27]]$semilla\n",
              "[1] 808373\n",
              "\n",
              "[[27]]$testing\n",
              "[1] 49028\n",
              "\n",
              "[[27]]$testing_pos\n",
              "[1] 344\n",
              "\n",
              "[[27]]$envios\n",
              "[1] 2839\n",
              "\n",
              "[[27]]$aciertos\n",
              "[1] 171\n",
              "\n",
              "[[27]]$ganancia_test\n",
              "[1] 266733333\n",
              "\n",
              "\n",
              "[[28]]\n",
              "[[28]]$semilla\n",
              "[1] 986933\n",
              "\n",
              "[[28]]$testing\n",
              "[1] 49030\n",
              "\n",
              "[[28]]$testing_pos\n",
              "[1] 339\n",
              "\n",
              "[[28]]$envios\n",
              "[1] 3197\n",
              "\n",
              "[[28]]$aciertos\n",
              "[1] 183\n",
              "\n",
              "[[28]]$ganancia_test\n",
              "[1] 274866667\n",
              "\n",
              "\n",
              "[[29]]\n",
              "[[29]]$semilla\n",
              "[1] 251879\n",
              "\n",
              "[[29]]$testing\n",
              "[1] 49025\n",
              "\n",
              "[[29]]$testing_pos\n",
              "[1] 339\n",
              "\n",
              "[[29]]$envios\n",
              "[1] 2558\n",
              "\n",
              "[[29]]$aciertos\n",
              "[1] 177\n",
              "\n",
              "[[29]]$ganancia_test\n",
              "[1] 301466667\n",
              "\n",
              "\n",
              "[[30]]\n",
              "[[30]]$semilla\n",
              "[1] 829453\n",
              "\n",
              "[[30]]$testing\n",
              "[1] 49028\n",
              "\n",
              "[[30]]$testing_pos\n",
              "[1] 338\n",
              "\n",
              "[[30]]$envios\n",
              "[1] 3477\n",
              "\n",
              "[[30]]$aciertos\n",
              "[1] 200\n",
              "\n",
              "[[30]]$ganancia_test\n",
              "[1] 301533333\n",
              "\n",
              "\n",
              "[[31]]\n",
              "[[31]]$semilla\n",
              "[1] 208189\n",
              "\n",
              "[[31]]$testing\n",
              "[1] 49014\n",
              "\n",
              "[[31]]$testing_pos\n",
              "[1] 336\n",
              "\n",
              "[[31]]$envios\n",
              "[1] 2298\n",
              "\n",
              "[[31]]$aciertos\n",
              "[1] 178\n",
              "\n",
              "[[31]]$ganancia_test\n",
              "[1] 321466667\n",
              "\n",
              "\n",
              "[[32]]\n",
              "[[32]]$semilla\n",
              "[1] 690721\n",
              "\n",
              "[[32]]$testing\n",
              "[1] 49039\n",
              "\n",
              "[[32]]$testing_pos\n",
              "[1] 339\n",
              "\n",
              "[[32]]$envios\n",
              "[1] 3675\n",
              "\n",
              "[[32]]$aciertos\n",
              "[1] 204\n",
              "\n",
              "[[32]]$ganancia_test\n",
              "[1] 2.99e+08\n",
              "\n",
              "\n",
              "[[33]]\n",
              "[[33]]$semilla\n",
              "[1] 658117\n",
              "\n",
              "[[33]]$testing\n",
              "[1] 49027\n",
              "\n",
              "[[33]]$testing_pos\n",
              "[1] 337\n",
              "\n",
              "[[33]]$envios\n",
              "[1] 2774\n",
              "\n",
              "[[33]]$aciertos\n",
              "[1] 172\n",
              "\n",
              "[[33]]$ganancia_test\n",
              "[1] 273733333\n",
              "\n",
              "\n",
              "[[34]]\n",
              "[[34]]$semilla\n",
              "[1] 885509\n",
              "\n",
              "[[34]]$testing\n",
              "[1] 49028\n",
              "\n",
              "[[34]]$testing_pos\n",
              "[1] 341\n",
              "\n",
              "[[34]]$envios\n",
              "[1] 3037\n",
              "\n",
              "[[34]]$aciertos\n",
              "[1] 166\n",
              "\n",
              "[[34]]$ganancia_test\n",
              "[1] 240200000\n",
              "\n",
              "\n",
              "[[35]]\n",
              "[[35]]$semilla\n",
              "[1] 816019\n",
              "\n",
              "[[35]]$testing\n",
              "[1] 49030\n",
              "\n",
              "[[35]]$testing_pos\n",
              "[1] 336\n",
              "\n",
              "[[35]]$envios\n",
              "[1] 3014\n",
              "\n",
              "[[35]]$aciertos\n",
              "[1] 189\n",
              "\n",
              "[[35]]$ganancia_test\n",
              "[1] 303066667\n",
              "\n",
              "\n",
              "[[36]]\n",
              "[[36]]$semilla\n",
              "[1] 526739\n",
              "\n",
              "[[36]]$testing\n",
              "[1] 49032\n",
              "\n",
              "[[36]]$testing_pos\n",
              "[1] 348\n",
              "\n",
              "[[36]]$envios\n",
              "[1] 2879\n",
              "\n",
              "[[36]]$aciertos\n",
              "[1] 180\n",
              "\n",
              "[[36]]$ganancia_test\n",
              "[1] 288066667\n",
              "\n",
              "\n",
              "[[37]]\n",
              "[[37]]$semilla\n",
              "[1] 236471\n",
              "\n",
              "[[37]]$testing\n",
              "[1] 49024\n",
              "\n",
              "[[37]]$testing_pos\n",
              "[1] 337\n",
              "\n",
              "[[37]]$envios\n",
              "[1] 3465\n",
              "\n",
              "[[37]]$aciertos\n",
              "[1] 202\n",
              "\n",
              "[[37]]$ganancia_test\n",
              "[1] 307666667\n",
              "\n",
              "\n",
              "[[38]]\n",
              "[[38]]$semilla\n",
              "[1] 147089\n",
              "\n",
              "[[38]]$testing\n",
              "[1] 49017\n",
              "\n",
              "[[38]]$testing_pos\n",
              "[1] 334\n",
              "\n",
              "[[38]]$envios\n",
              "[1] 2623\n",
              "\n",
              "[[38]]$aciertos\n",
              "[1] 171\n",
              "\n",
              "[[38]]$ganancia_test\n",
              "[1] 281133333\n",
              "\n",
              "\n",
              "[[39]]\n",
              "[[39]]$semilla\n",
              "[1] 550607\n",
              "\n",
              "[[39]]$testing\n",
              "[1] 49013\n",
              "\n",
              "[[39]]$testing_pos\n",
              "[1] 332\n",
              "\n",
              "[[39]]$envios\n",
              "[1] 3423\n",
              "\n",
              "[[39]]$aciertos\n",
              "[1] 184\n",
              "\n",
              "[[39]]$ganancia_test\n",
              "[1] 262466667\n",
              "\n",
              "\n",
              "[[40]]\n",
              "[[40]]$semilla\n",
              "[1] 249863\n",
              "\n",
              "[[40]]$testing\n",
              "[1] 49026\n",
              "\n",
              "[[40]]$testing_pos\n",
              "[1] 345\n",
              "\n",
              "[[40]]$envios\n",
              "[1] 2647\n",
              "\n",
              "[[40]]$aciertos\n",
              "[1] 179\n",
              "\n",
              "[[40]]$ganancia_test\n",
              "[1] 300866667\n",
              "\n",
              "\n",
              "[[41]]\n",
              "[[41]]$semilla\n",
              "[1] 398369\n",
              "\n",
              "[[41]]$testing\n",
              "[1] 49026\n",
              "\n",
              "[[41]]$testing_pos\n",
              "[1] 337\n",
              "\n",
              "[[41]]$envios\n",
              "[1] 2615\n",
              "\n",
              "[[41]]$aciertos\n",
              "[1] 173\n",
              "\n",
              "[[41]]$ganancia_test\n",
              "[1] 2.87e+08\n",
              "\n",
              "\n",
              "[[42]]\n",
              "[[42]]$semilla\n",
              "[1] 866857\n",
              "\n",
              "[[42]]$testing\n",
              "[1] 49029\n",
              "\n",
              "[[42]]$testing_pos\n",
              "[1] 342\n",
              "\n",
              "[[42]]$envios\n",
              "[1] 3320\n",
              "\n",
              "[[42]]$aciertos\n",
              "[1] 188\n",
              "\n",
              "[[42]]$ganancia_test\n",
              "[1] 2.8e+08\n",
              "\n",
              "\n",
              "[[43]]\n",
              "[[43]]$semilla\n",
              "[1] 864781\n",
              "\n",
              "[[43]]$testing\n",
              "[1] 49012\n",
              "\n",
              "[[43]]$testing_pos\n",
              "[1] 332\n",
              "\n",
              "[[43]]$envios\n",
              "[1] 3058\n",
              "\n",
              "[[43]]$aciertos\n",
              "[1] 185\n",
              "\n",
              "[[43]]$ganancia_test\n",
              "[1] 289466667\n",
              "\n",
              "\n",
              "[[44]]\n",
              "[[44]]$semilla\n",
              "[1] 518831\n",
              "\n",
              "[[44]]$testing\n",
              "[1] 49015\n",
              "\n",
              "[[44]]$testing_pos\n",
              "[1] 337\n",
              "\n",
              "[[44]]$envios\n",
              "[1] 2964\n",
              "\n",
              "[[44]]$aciertos\n",
              "[1] 175\n",
              "\n",
              "[[44]]$ganancia_test\n",
              "[1] 269066667\n",
              "\n",
              "\n",
              "[[45]]\n",
              "[[45]]$semilla\n",
              "[1] 170081\n",
              "\n",
              "[[45]]$testing\n",
              "[1] 49023\n",
              "\n",
              "[[45]]$testing_pos\n",
              "[1] 336\n",
              "\n",
              "[[45]]$envios\n",
              "[1] 3257\n",
              "\n",
              "[[45]]$aciertos\n",
              "[1] 188\n",
              "\n",
              "[[45]]$ganancia_test\n",
              "[1] 284200000\n",
              "\n",
              "\n",
              "[[46]]\n",
              "[[46]]$semilla\n",
              "[1] 111653\n",
              "\n",
              "[[46]]$testing\n",
              "[1] 49031\n",
              "\n",
              "[[46]]$testing_pos\n",
              "[1] 344\n",
              "\n",
              "[[46]]$envios\n",
              "[1] 2886\n",
              "\n",
              "[[46]]$aciertos\n",
              "[1] 178\n",
              "\n",
              "[[46]]$ganancia_test\n",
              "[1] 282266667\n",
              "\n",
              "\n",
              "[[47]]\n",
              "[[47]]$semilla\n",
              "[1] 157627\n",
              "\n",
              "[[47]]$testing\n",
              "[1] 49021\n",
              "\n",
              "[[47]]$testing_pos\n",
              "[1] 339\n",
              "\n",
              "[[47]]$envios\n",
              "[1] 2988\n",
              "\n",
              "[[47]]$aciertos\n",
              "[1] 179\n",
              "\n",
              "[[47]]$ganancia_test\n",
              "[1] 278133333\n",
              "\n",
              "\n",
              "[[48]]\n",
              "[[48]]$semilla\n",
              "[1] 381569\n",
              "\n",
              "[[48]]$testing\n",
              "[1] 49023\n",
              "\n",
              "[[48]]$testing_pos\n",
              "[1] 343\n",
              "\n",
              "[[48]]$envios\n",
              "[1] 2494\n",
              "\n",
              "[[48]]$aciertos\n",
              "[1] 179\n",
              "\n",
              "[[48]]$ganancia_test\n",
              "[1] 311066667\n",
              "\n",
              "\n",
              "[[49]]\n",
              "[[49]]$semilla\n",
              "[1] 674903\n",
              "\n",
              "[[49]]$testing\n",
              "[1] 49026\n",
              "\n",
              "[[49]]$testing_pos\n",
              "[1] 342\n",
              "\n",
              "[[49]]$envios\n",
              "[1] 3014\n",
              "\n",
              "[[49]]$aciertos\n",
              "[1] 176\n",
              "\n",
              "[[49]]$ganancia_test\n",
              "[1] 268400000\n",
              "\n",
              "\n",
              "[[50]]\n",
              "[[50]]$semilla\n",
              "[1] 858503\n",
              "\n",
              "[[50]]$testing\n",
              "[1] 49031\n",
              "\n",
              "[[50]]$testing_pos\n",
              "[1] 342\n",
              "\n",
              "[[50]]$envios\n",
              "[1] 3193\n",
              "\n",
              "[[50]]$aciertos\n",
              "[1] 193\n",
              "\n",
              "[[50]]$ganancia_test\n",
              "[1] 301800000\n",
              "\n"
            ]
          },
          "metadata": {},
          "output_type": "display_data"
        }
      ],
      "source": [
        "# Reversionado a Windows\n",
        "library(parallel)\n",
        "\n",
        "# Función que incluye todo internamente\n",
        "ArbolEstimarGanancia_completa <- function(semilla, param_basicos, dataset_original) {\n",
        "  # Hacer copia local del dataset\n",
        "  dataset_local <- copy(dataset_original)\n",
        "  \n",
        "  # Particionar\n",
        "  particionar(dataset_local,\n",
        "    division = c(param_basicos$training_pct, 100L - param_basicos$training_pct),\n",
        "    agrupa = \"clase_ternaria\",\n",
        "    seed = semilla\n",
        "  )\n",
        "\n",
        "  # Resto del código igual...\n",
        "  modelo <- rpart(\"clase_ternaria ~ .\",\n",
        "    data = dataset_local[fold == 1],\n",
        "    xval = 0,\n",
        "    control = param_basicos$rpart\n",
        "  )\n",
        "\n",
        "  prediccion <- predict(modelo,\n",
        "    dataset_local[fold == 2],\n",
        "    type = \"prob\"\n",
        "  )\n",
        "\n",
        "  ganancia_test <- dataset_local[\n",
        "    fold == 2,\n",
        "    sum(ifelse(prediccion[, \"BAJA+2\"] > 0.025,\n",
        "      ifelse(clase_ternaria == \"BAJA+2\", 780000, -20000),\n",
        "      0\n",
        "    ))\n",
        "  ]\n",
        "\n",
        "  ganancia_test_normalizada <- ganancia_test / ((100 - param_basicos$training_pct) / 100)\n",
        "\n",
        "  return(list(\n",
        "    \"semilla\" = semilla,\n",
        "    \"testing\" = dataset_local[fold == 2, .N],\n",
        "    \"testing_pos\" = dataset_local[fold == 2 & clase_ternaria == \"BAJA+2\", .N],\n",
        "    \"envios\" = dataset_local[fold == 2, sum(prediccion[, \"BAJA+2\"] > 0.025)],\n",
        "    \"aciertos\" = dataset_local[\n",
        "      fold == 2,\n",
        "      sum(prediccion[, \"BAJA+2\"] > 0.025 & clase_ternaria == \"BAJA+2\")\n",
        "    ],\n",
        "    \"ganancia_test\" = ganancia_test_normalizada\n",
        "  ))\n",
        "}\n",
        "\n",
        "# Paralelización\n",
        "num_cores <- detectCores()\n",
        "cl <- makeCluster(num_cores)\n",
        "\n",
        "clusterExport(cl, c(\"ArbolEstimarGanancia_completa\", \"PARAM\", \"dataset\", \"particionar\"))\n",
        "clusterEvalQ(cl, {\n",
        "  library(rpart)\n",
        "  library(data.table)\n",
        "})\n",
        "\n",
        "salidas <- parLapply(cl, PARAM$semillas, function(semilla) {\n",
        "  ArbolEstimarGanancia_completa(semilla, PARAM, dataset)\n",
        "})\n",
        "\n",
        "stopCluster(cl)\n",
        "\n",
        "salidas"
      ]
    },
    {
      "cell_type": "code",
      "execution_count": 49,
      "metadata": {
        "colab": {
          "base_uri": "https://localhost:8080/"
        },
        "id": "unGWiKRMGimU",
        "outputId": "a3eaeb7e-6ebb-44c1-f303-18e83f5eedca",
        "vscode": {
          "languageId": "r"
        }
      },
      "outputs": [
        {
          "name": "stdout",
          "output_type": "stream",
          "text": [
            "    semilla testing testing_pos envios aciertos ganancia_test\n",
            "      <int>   <int>       <int>  <int>    <int>         <num>\n",
            " 1:  590819   49019         337   3425      193     286333333\n",
            " 2:  526937   49021         332   2940      174     268000000\n",
            " 3:  753937   49017         336   2745      163     251666667\n",
            " 4:  101173   49025         340   3004      184     290400000\n",
            " 5:  715727   49021         337   2835      164     248333333\n",
            " 6:  522959   49027         340   2694      177     292400000\n",
            " 7:  975883   49030         340   3142      196     313200000\n",
            " 8:  703657   49020         334   2735      161     247000000\n",
            " 9:  631469   49019         329   2976      177     273600000\n",
            "10:  662617   49031         341   3151      189     293933333\n",
            "11:  552031   49024         337   3474      201     304400000\n",
            "12:  195281   49031         340   3741      206     299933333\n",
            "13:  326999   49028         343   2973      195     321800000\n",
            "14:  452269   49025         339   3290      178     255333333\n",
            "15:  576221   49024         339   2920      185     298666667\n",
            "16:  293729   49025         341   2732      170     271200000\n",
            "17:  658079   49033         341   3274      203     323066667\n",
            "18:  341461   49032         338   3921      214     309266667\n",
            "19:  193873   49038         345   3944      206     286400000\n",
            "20:  961139   49019         339   2786      172     272933333\n",
            "21:  754513   49027         346   3191      203     328600000\n",
            "22:  856759   49026         341   2717      172     277533333\n",
            "23:  402307   49013         332   3405      178     247666667\n",
            "24:  706417   49028         344   2895      198     335000000\n",
            "25:  586457   49025         337   2894      174     271066667\n",
            "26:  260461   49031         338   2975      186     297666667\n",
            "27:  808373   49028         344   2839      171     266733333\n",
            "28:  986933   49030         339   3197      183     274866667\n",
            "29:  251879   49025         339   2558      177     301466667\n",
            "30:  829453   49028         338   3477      200     301533333\n",
            "31:  208189   49014         336   2298      178     321466667\n",
            "32:  690721   49039         339   3675      204     299000000\n",
            "33:  658117   49027         337   2774      172     273733333\n",
            "34:  885509   49028         341   3037      166     240200000\n",
            "35:  816019   49030         336   3014      189     303066667\n",
            "36:  526739   49032         348   2879      180     288066667\n",
            "37:  236471   49024         337   3465      202     307666667\n",
            "38:  147089   49017         334   2623      171     281133333\n",
            "39:  550607   49013         332   3423      184     262466667\n",
            "40:  249863   49026         345   2647      179     300866667\n",
            "41:  398369   49026         337   2615      173     287000000\n",
            "42:  866857   49029         342   3320      188     280000000\n",
            "43:  864781   49012         332   3058      185     289466667\n",
            "44:  518831   49015         337   2964      175     269066667\n",
            "45:  170081   49023         336   3257      188     284200000\n",
            "46:  111653   49031         344   2886      178     282266667\n",
            "47:  157627   49021         339   2988      179     278133333\n",
            "48:  381569   49023         343   2494      179     311066667\n",
            "49:  674903   49026         342   3014      176     268400000\n",
            "50:  858503   49031         342   3193      193     301800000\n",
            "    semilla testing testing_pos envios aciertos ganancia_test\n"
          ]
        }
      ],
      "source": [
        "# paso la lista a vector\n",
        "tb_salida <- rbindlist(salidas)\n",
        "print( tb_salida)"
      ]
    },
    {
      "cell_type": "code",
      "execution_count": 50,
      "metadata": {
        "colab": {
          "base_uri": "https://localhost:8080/"
        },
        "id": "oGoadhBKGimV",
        "outputId": "bf714084-4294-468c-a374-804d97995c8f",
        "vscode": {
          "languageId": "r"
        }
      },
      "outputs": [
        {
          "name": "stdout",
          "output_type": "stream",
          "text": [
            "10 \t 276486667 \n",
            "20 \t 285393333 \n",
            "30 \t 2.87e+08 \n",
            "40 \t 287191667 \n",
            "50 \t 286781333 \n"
          ]
        }
      ],
      "source": [
        "# calulo la salida\n",
        "for( i in seq(10, 50, 10) )\n",
        "{\n",
        "  cat( i, \"\\t\", tb_salida[ 1:i, mean(ganancia_test)], \"\\n\" )\n",
        "}\n"
      ]
    },
    {
      "cell_type": "markdown",
      "metadata": {
        "id": "dO9yQKt7GimV"
      },
      "source": [
        "### Acciones a realizar\n",
        "* Reportar la  los resultados en la planilla colaborativa hoja  **C2-Nsem**\n",
        "* Se discutirá en clase la variabilidad de las distintas cantidades de semillas"
      ]
    },
    {
      "cell_type": "markdown",
      "metadata": {
        "id": "ziFKwIlBGimW"
      },
      "source": [
        "\n",
        "\n",
        "---\n",
        "\n"
      ]
    },
    {
      "cell_type": "markdown",
      "metadata": {
        "id": "OTLq8TC4LR0c"
      },
      "source": [
        "\n",
        "\n",
        "---\n",
        "\n"
      ]
    },
    {
      "cell_type": "markdown",
      "metadata": {
        "id": "sAS1bfL8LmBv"
      },
      "source": [
        "# 5 Comparando dos distintos  modelos\n",
        "## Clase 02  Experimento 5"
      ]
    },
    {
      "cell_type": "markdown",
      "metadata": {
        "id": "KzwdMJDZLmB9"
      },
      "source": [
        "## 5.1  Objetivos\n",
        "Presentar a los alumnos la dificultad que se presenta ante la comparación de dos modelos, uno posee un poder predictivo claramente mayor al otro.\n",
        "Comparación simple de media de ganancias, versus probabilidad que un modelo sea superior a otro."
      ]
    },
    {
      "cell_type": "markdown",
      "metadata": {
        "id": "DDyFNmJ9L_CW"
      },
      "source": [
        "## 5.2 Introduccion\n",
        "Estos son los dos arboles de muy distinta profundidad.\n",
        "<br>¿Cuál de ellos es mejor? ¿Cuál elijo?\n",
        "\n",
        "| Hiperparámetro | Arbol 1 | Arbol 2 |\n",
        "| --- | --: |  ---: |\n",
        "| cp | -1 | -1 |\n",
        "|minsplit | 170 | 250 |\n",
        "|minbucket | 70 | 125 |\n",
        "|maxdepth | 7 | 20 |\n",
        "\n"
      ]
    },
    {
      "cell_type": "markdown",
      "metadata": {
        "id": "bQfwNsVzNrtI"
      },
      "source": [
        "## 5.3 Codigo dos distintos modelos"
      ]
    },
    {
      "cell_type": "markdown",
      "metadata": {
        "id": "Ku7qQgKjNruJ"
      },
      "source": [
        "Esta parte se debe correr con el runtime en lenguaje **R** Ir al menu, Runtime -> Change Runtime Tipe -> Runtime type -> R"
      ]
    },
    {
      "cell_type": "markdown",
      "metadata": {
        "id": "6jCdS3NMuKei"
      },
      "source": [
        "El tiempo de corrida es de alrededor de 40 minutos"
      ]
    },
    {
      "cell_type": "markdown",
      "metadata": {
        "id": "Z1EUBeHyNruK"
      },
      "source": [
        "limpio el ambiente de R"
      ]
    },
    {
      "cell_type": "code",
      "execution_count": 51,
      "metadata": {
        "colab": {
          "base_uri": "https://localhost:8080/",
          "height": 129
        },
        "id": "GxbC4V3zNruM",
        "outputId": "a26e358b-0c7d-4922-c580-79ea88c5ff00",
        "vscode": {
          "languageId": "r"
        }
      },
      "outputs": [
        {
          "data": {
            "text/html": [
              "<table class=\"dataframe\">\n",
              "<caption>A matrix: 2 × 6 of type dbl</caption>\n",
              "<thead>\n",
              "\t<tr><th></th><th scope=col>used</th><th scope=col>(Mb)</th><th scope=col>gc trigger</th><th scope=col>(Mb)</th><th scope=col>max used</th><th scope=col>(Mb)</th></tr>\n",
              "</thead>\n",
              "<tbody>\n",
              "\t<tr><th scope=row>Ncells</th><td> 1137338</td><td> 60.8</td><td>   1832481</td><td>  97.9</td><td>  1832481</td><td>  97.9</td></tr>\n",
              "\t<tr><th scope=row>Vcells</th><td>39790095</td><td>303.6</td><td>1095932534</td><td>8361.4</td><td>986718250</td><td>7528.1</td></tr>\n",
              "</tbody>\n",
              "</table>\n"
            ],
            "text/latex": [
              "A matrix: 2 × 6 of type dbl\n",
              "\\begin{tabular}{r|llllll}\n",
              "  & used & (Mb) & gc trigger & (Mb) & max used & (Mb)\\\\\n",
              "\\hline\n",
              "\tNcells &  1137338 &  60.8 &    1832481 &   97.9 &   1832481 &   97.9\\\\\n",
              "\tVcells & 39790095 & 303.6 & 1095932534 & 8361.4 & 986718250 & 7528.1\\\\\n",
              "\\end{tabular}\n"
            ],
            "text/markdown": [
              "\n",
              "A matrix: 2 × 6 of type dbl\n",
              "\n",
              "| <!--/--> | used | (Mb) | gc trigger | (Mb) | max used | (Mb) |\n",
              "|---|---|---|---|---|---|---|\n",
              "| Ncells |  1137338 |  60.8 |    1832481 |   97.9 |   1832481 |   97.9 |\n",
              "| Vcells | 39790095 | 303.6 | 1095932534 | 8361.4 | 986718250 | 7528.1 |\n",
              "\n"
            ],
            "text/plain": [
              "       used     (Mb)  gc trigger (Mb)   max used  (Mb)  \n",
              "Ncells  1137338  60.8    1832481   97.9   1832481   97.9\n",
              "Vcells 39790095 303.6 1095932534 8361.4 986718250 7528.1"
            ]
          },
          "metadata": {},
          "output_type": "display_data"
        }
      ],
      "source": [
        "# limpio la memoria\n",
        "rm(list=ls(all.names=TRUE)) # remove all objects\n",
        "gc(full=TRUE, verbose=FALSE) # garbage collection"
      ]
    },
    {
      "cell_type": "markdown",
      "metadata": {
        "id": "i2WkSCIhNruQ"
      },
      "source": [
        "* Instalacion de la libreria  rpart.plot  para dibujar el arbol\n",
        "* invocacion de las librerias  **data.table** y  **rpart**"
      ]
    },
    {
      "cell_type": "code",
      "execution_count": 53,
      "metadata": {
        "colab": {
          "base_uri": "https://localhost:8080/"
        },
        "id": "3bMsgZJWNruR",
        "outputId": "888c6e68-61c4-4c58-cf03-3e06ae0e6b95",
        "vscode": {
          "languageId": "r"
        }
      },
      "outputs": [
        {
          "name": "stderr",
          "output_type": "stream",
          "text": [
            "Loading required package: ggplot2\n",
            "\n",
            "Warning message in library(package, lib.loc = lib.loc, character.only = TRUE, logical.return = TRUE, :\n",
            "\"there is no package called 'ggplot2'\"\n"
          ]
        },
        {
          "name": "stderr",
          "output_type": "stream",
          "text": [
            "also installing the dependencies 'farver', 'labeling', 'RColorBrewer', 'viridisLite', 'pkgconfig', 'gtable', 'isoband', 'scales', 'tibble'\n",
            "\n",
            "\n"
          ]
        },
        {
          "name": "stdout",
          "output_type": "stream",
          "text": [
            "package 'farver' successfully unpacked and MD5 sums checked\n",
            "package 'labeling' successfully unpacked and MD5 sums checked\n",
            "package 'RColorBrewer' successfully unpacked and MD5 sums checked\n",
            "package 'viridisLite' successfully unpacked and MD5 sums checked\n",
            "package 'pkgconfig' successfully unpacked and MD5 sums checked\n",
            "package 'gtable' successfully unpacked and MD5 sums checked\n",
            "package 'isoband' successfully unpacked and MD5 sums checked\n",
            "package 'scales' successfully unpacked and MD5 sums checked\n",
            "package 'tibble' successfully unpacked and MD5 sums checked\n",
            "package 'ggplot2' successfully unpacked and MD5 sums checked\n",
            "\n",
            "The downloaded binary packages are in\n",
            "\tC:\\Users\\IDomogalla\\AppData\\Local\\Temp\\RtmpuSntgk\\downloaded_packages\n"
          ]
        },
        {
          "name": "stderr",
          "output_type": "stream",
          "text": [
            "Loading required package: ggplot2\n",
            "\n"
          ]
        }
      ],
      "source": [
        "# cargo las librerias que necesito\n",
        "require(\"data.table\")\n",
        "require(\"rpart\")\n",
        "require(\"parallel\")\n",
        "\n",
        "if (!require(\"primes\")) install.packages(\"primes\")\n",
        "require(\"primes\")\n",
        "\n",
        "if(!require(\"R.utils\")) install.packages(\"R.utils\")\n",
        "require(\"R.utils\")\n",
        "\n",
        "if(!require(\"ggplot2\")) install.packages(\"ggplot2\")\n",
        "require(\"ggplot2\")"
      ]
    },
    {
      "cell_type": "markdown",
      "metadata": {
        "id": "t1lTXrKaNruT"
      },
      "source": [
        "###  Accion a Realizar\n",
        "PARAM$semilla_primigenia  debe reemplazarse por SU primer semilla"
      ]
    },
    {
      "cell_type": "code",
      "execution_count": 54,
      "metadata": {
        "id": "QFbPtTCMNruV",
        "vscode": {
          "languageId": "r"
        }
      },
      "outputs": [],
      "source": [
        "PARAM <- list()\n",
        "PARAM$semilla_primigenia <- 200003\n",
        "PARAM$qsemillas <- 20\n",
        "PARAM$training_pct <- 70L     # entre 1 y 100\n"
      ]
    },
    {
      "cell_type": "code",
      "execution_count": 55,
      "metadata": {
        "id": "GiBGk7WKQv2V",
        "vscode": {
          "languageId": "r"
        }
      },
      "outputs": [],
      "source": [
        "# los dos arboles\n",
        "PARAM$rpart1 <- list (\n",
        "  \"cp\" = -1,\n",
        "  \"minsplit\" = 170,\n",
        "  \"minbucket\" = 70,\n",
        "  \"maxdepth\" = 7\n",
        ")\n",
        "\n",
        "\n",
        "PARAM$rpart2 <- list (\n",
        "  \"cp\" = -1,\n",
        "  \"minsplit\" = 250,\n",
        "  \"minbucket\" = 125,\n",
        "  \"maxdepth\" = 20\n",
        ")"
      ]
    },
    {
      "cell_type": "code",
      "execution_count": 56,
      "metadata": {
        "id": "2BabfKg7NruX",
        "vscode": {
          "languageId": "r"
        }
      },
      "outputs": [],
      "source": [
        "# particionar agrega una columna llamada fold a un dataset\n",
        "#  que consiste en una particion estratificada segun agrupa\n",
        "\n",
        "# particionar( data=dataset, division=c(70,30),\n",
        "#  agrupa=clase_ternaria, seed=semilla)   crea una particion 70, 30\n",
        "\n",
        "particionar <- function(\n",
        "    data, division, agrupa = \"\",\n",
        "    campo = \"fold\", start = 1, seed = NA) {\n",
        "  if (!is.na(seed)) set.seed(seed)\n",
        "\n",
        "  bloque <- unlist(mapply(function(x, y) {\n",
        "    rep(y, x)\n",
        "  }, division, seq(from = start, length.out = length(division))))\n",
        "\n",
        "  data[, (campo) := sample(rep(bloque, ceiling(.N / length(bloque))))[1:.N],\n",
        "    by = agrupa\n",
        "  ]\n",
        "}\n"
      ]
    },
    {
      "cell_type": "code",
      "execution_count": 57,
      "metadata": {
        "id": "YrGJgj4UNruZ",
        "vscode": {
          "languageId": "r"
        }
      },
      "outputs": [],
      "source": [
        "DosArbolesEstimarGanancia <- function(semilla, training_pct, param_rpart1, param_rpart2) {\n",
        "\n",
        "  # fuerzo impresion\n",
        "  print( paste( semilla, Sys.time()) )\n",
        "  flush.console()\n",
        "\n",
        "  # particiono estratificadamente el dataset\n",
        "  particionar(dataset,\n",
        "    division = c(training_pct, 100L -training_pct),\n",
        "    agrupa = \"clase_ternaria\",\n",
        "    seed = semilla # aqui se usa SU semilla\n",
        "  )\n",
        "\n",
        "  # genero el modelo\n",
        "  # predecir clase_ternaria a partir del resto\n",
        "  modelo1 <- rpart(\"clase_ternaria ~ .\",\n",
        "    data = dataset[fold == 1], # fold==1  es training,  el 70% de los datos\n",
        "    xval = 0,\n",
        "    control = param_rpart1\n",
        "  ) # aqui van los parametros del arbol\n",
        "\n",
        "  # aplico el modelo a los datos de testing\n",
        "  prediccion1 <- predict(modelo1, # el modelo que genere recien\n",
        "    dataset[fold == 2], # fold==2  es testing, el 30% de los datos\n",
        "    type = \"prob\"\n",
        "  ) # type= \"prob\"  es que devuelva la probabilidad\n",
        "\n",
        "\n",
        "  # calculo la ganancia en testing  qu es fold==2\n",
        "  ganancia_test1 <- dataset[\n",
        "    fold == 2,\n",
        "    sum(ifelse(prediccion1[, \"BAJA+2\"] > 0.025,\n",
        "      ifelse(clase_ternaria == \"BAJA+2\", 780000, -20000),\n",
        "      0\n",
        "    ))\n",
        "  ]\n",
        "\n",
        "  # escalo la ganancia como si fuera todo el dataset\n",
        "  ganancia_test_normalizada1 <- ganancia_test1 / (( 100 - training_pct ) / 100 )\n",
        "\n",
        "  modelo2 <- rpart(\"clase_ternaria ~ .\",\n",
        "    data = dataset[fold == 1], # fold==1  es training,  el 70% de los datos\n",
        "    xval = 0,\n",
        "    control = param_rpart2\n",
        "  ) # aqui van los parametros del arbol\n",
        "\n",
        "  # aplico el modelo a los datos de testing\n",
        "  prediccion2 <- predict(modelo2, # el modelo que genere recien\n",
        "    dataset[fold == 2], # fold==2  es testing, el 30% de los datos\n",
        "    type = \"prob\"\n",
        "  ) # type= \"prob\"  es que devuelva la probabilidad\n",
        "\n",
        "\n",
        "  # calculo la ganancia en testing  qu es fold==2\n",
        "  ganancia_test2 <- dataset[\n",
        "    fold == 2,\n",
        "    sum(ifelse(prediccion2[, \"BAJA+2\"] > 0.025,\n",
        "      ifelse(clase_ternaria == \"BAJA+2\", 780000, -20000),\n",
        "      0\n",
        "    ))\n",
        "  ]\n",
        "\n",
        "  # escalo la ganancia como si fuera todo el dataset\n",
        "  ganancia_test_normalizada2 <- ganancia_test2 / (( 100 - training_pct ) / 100 )\n",
        "\n",
        "  return(list(\n",
        "    \"semilla\" = semilla,\n",
        "    \"ganancia1\" = ganancia_test_normalizada1,\n",
        "    \"ganancia2\" = ganancia_test_normalizada2\n",
        "  ))\n",
        "}"
      ]
    },
    {
      "cell_type": "code",
      "execution_count": null,
      "metadata": {
        "id": "2C2yjgQVNrud",
        "vscode": {
          "languageId": "r"
        }
      },
      "outputs": [],
      "source": [
        "# carpeta de trabajo\n",
        "setwd(\"/content/buckets/b1/exp\")\n",
        "experimento <- \"exp0205\"\n",
        "dir.create(experimento, showWarnings=FALSE)\n",
        "setwd( paste0(\"/content/buckets/b1/exp/\", experimento ))"
      ]
    },
    {
      "cell_type": "code",
      "execution_count": 58,
      "metadata": {
        "colab": {
          "base_uri": "https://localhost:8080/",
          "height": 34
        },
        "id": "oQeGcBnPNrug",
        "outputId": "b1441f5e-bc88-4b02-aff5-180c413fdc29",
        "vscode": {
          "languageId": "r"
        }
      },
      "outputs": [
        {
          "data": {
            "text/html": [
              "978439"
            ],
            "text/latex": [
              "978439"
            ],
            "text/markdown": [
              "978439"
            ],
            "text/plain": [
              "[1] 978439"
            ]
          },
          "metadata": {},
          "output_type": "display_data"
        }
      ],
      "source": [
        "# lectura del dataset\n",
        "#dataset <- fread(\"/content/datasets/competencia_01.csv.gz\")\n",
        "dataset <- fread(\"./competencia_01.csv.gz\")\n",
        "nrow(dataset)"
      ]
    },
    {
      "cell_type": "code",
      "execution_count": 59,
      "metadata": {
        "colab": {
          "base_uri": "https://localhost:8080/",
          "height": 210
        },
        "id": "q0-sk2H8jjKx",
        "outputId": "09344a60-3924-443f-c97a-381766c852f3",
        "vscode": {
          "languageId": "r"
        }
      },
      "outputs": [
        {
          "data": {
            "text/html": [
              "163418"
            ],
            "text/latex": [
              "163418"
            ],
            "text/markdown": [
              "163418"
            ],
            "text/plain": [
              "[1] 163418"
            ]
          },
          "metadata": {},
          "output_type": "display_data"
        },
        {
          "data": {
            "text/html": [
              "<table class=\"dataframe\">\n",
              "<caption>A data.table: 3 × 3</caption>\n",
              "<thead>\n",
              "\t<tr><th scope=col>foto_mes</th><th scope=col>clase_ternaria</th><th scope=col>N</th></tr>\n",
              "\t<tr><th scope=col>&lt;int&gt;</th><th scope=col>&lt;chr&gt;</th><th scope=col>&lt;int&gt;</th></tr>\n",
              "</thead>\n",
              "<tbody>\n",
              "\t<tr><td>202104</td><td>CONTINUA</td><td>161333</td></tr>\n",
              "\t<tr><td>202104</td><td>BAJA+1  </td><td>   955</td></tr>\n",
              "\t<tr><td>202104</td><td>BAJA+2  </td><td>  1130</td></tr>\n",
              "</tbody>\n",
              "</table>\n"
            ],
            "text/latex": [
              "A data.table: 3 × 3\n",
              "\\begin{tabular}{lll}\n",
              " foto\\_mes & clase\\_ternaria & N\\\\\n",
              " <int> & <chr> & <int>\\\\\n",
              "\\hline\n",
              "\t 202104 & CONTINUA & 161333\\\\\n",
              "\t 202104 & BAJA+1   &    955\\\\\n",
              "\t 202104 & BAJA+2   &   1130\\\\\n",
              "\\end{tabular}\n"
            ],
            "text/markdown": [
              "\n",
              "A data.table: 3 × 3\n",
              "\n",
              "| foto_mes &lt;int&gt; | clase_ternaria &lt;chr&gt; | N &lt;int&gt; |\n",
              "|---|---|---|\n",
              "| 202104 | CONTINUA | 161333 |\n",
              "| 202104 | BAJA+1   |    955 |\n",
              "| 202104 | BAJA+2   |   1130 |\n",
              "\n"
            ],
            "text/plain": [
              "  foto_mes clase_ternaria N     \n",
              "1 202104   CONTINUA       161333\n",
              "2 202104   BAJA+1            955\n",
              "3 202104   BAJA+2           1130"
            ]
          },
          "metadata": {},
          "output_type": "display_data"
        }
      ],
      "source": [
        "# trabajo solo con los datos de 202104, ultimo mes con clase_ternaria completa\n",
        "# filtro datos\n",
        "dataset <- dataset[foto_mes==202104]\n",
        "\n",
        "invisible(gc(full=TRUE, verbose=FALSE)) # garbage collection\n",
        "\n",
        "nrow(dataset)\n",
        "dataset[, .N, list(foto_mes,clase_ternaria)]"
      ]
    },
    {
      "cell_type": "code",
      "execution_count": null,
      "metadata": {
        "colab": {
          "base_uri": "https://localhost:8080/",
          "height": 34
        },
        "id": "gXKI2eXO9Osx",
        "outputId": "d3bacbdc-6b07-4e31-a96e-92d0b6ed6f49",
        "vscode": {
          "languageId": "r"
        }
      },
      "outputs": [
        {
          "data": {
            "text/html": [
              "2"
            ],
            "text/latex": [
              "2"
            ],
            "text/markdown": [
              "2"
            ],
            "text/plain": [
              "[1] 2"
            ]
          },
          "metadata": {},
          "output_type": "display_data"
        }
      ],
      "source": [
        "detectCores()"
      ]
    },
    {
      "cell_type": "code",
      "execution_count": 60,
      "metadata": {
        "colab": {
          "base_uri": "https://localhost:8080/",
          "height": 52
        },
        "id": "tU8S7_5ANrui",
        "outputId": "ac98fdf7-f8dc-4c5d-8282-250991070288",
        "vscode": {
          "languageId": "r"
        }
      },
      "outputs": [
        {
          "data": {
            "text/html": [
              "<style>\n",
              ".list-inline {list-style: none; margin:0; padding: 0}\n",
              ".list-inline>li {display: inline-block}\n",
              ".list-inline>li:not(:last-child)::after {content: \"\\00b7\"; padding: 0 .5ex}\n",
              "</style>\n",
              "<ol class=list-inline><li>590819</li><li>526937</li><li>753937</li><li>101173</li><li>715727</li><li>522959</li><li>975883</li><li>703657</li><li>631469</li><li>662617</li><li>552031</li><li>195281</li><li>326999</li><li>452269</li><li>576221</li><li>293729</li><li>658079</li><li>341461</li><li>193873</li><li>961139</li></ol>\n"
            ],
            "text/latex": [
              "\\begin{enumerate*}\n",
              "\\item 590819\n",
              "\\item 526937\n",
              "\\item 753937\n",
              "\\item 101173\n",
              "\\item 715727\n",
              "\\item 522959\n",
              "\\item 975883\n",
              "\\item 703657\n",
              "\\item 631469\n",
              "\\item 662617\n",
              "\\item 552031\n",
              "\\item 195281\n",
              "\\item 326999\n",
              "\\item 452269\n",
              "\\item 576221\n",
              "\\item 293729\n",
              "\\item 658079\n",
              "\\item 341461\n",
              "\\item 193873\n",
              "\\item 961139\n",
              "\\end{enumerate*}\n"
            ],
            "text/markdown": [
              "1. 590819\n",
              "2. 526937\n",
              "3. 753937\n",
              "4. 101173\n",
              "5. 715727\n",
              "6. 522959\n",
              "7. 975883\n",
              "8. 703657\n",
              "9. 631469\n",
              "10. 662617\n",
              "11. 552031\n",
              "12. 195281\n",
              "13. 326999\n",
              "14. 452269\n",
              "15. 576221\n",
              "16. 293729\n",
              "17. 658079\n",
              "18. 341461\n",
              "19. 193873\n",
              "20. 961139\n",
              "\n",
              "\n"
            ],
            "text/plain": [
              " [1] 590819 526937 753937 101173 715727 522959 975883 703657 631469 662617\n",
              "[11] 552031 195281 326999 452269 576221 293729 658079 341461 193873 961139"
            ]
          },
          "metadata": {},
          "output_type": "display_data"
        }
      ],
      "source": [
        "# genero numeros primos\n",
        "primos <- generate_primes(min = 100000, max = 1000000)\n",
        "set.seed(PARAM$semilla_primigenia) # inicializo\n",
        "\n",
        "# me quedo con PARAM$qsemillas   semillas\n",
        "PARAM$semillas <- sample(primos, PARAM$qsemillas )\n",
        "PARAM$semillas"
      ]
    },
    {
      "cell_type": "code",
      "execution_count": null,
      "metadata": {
        "colab": {
          "base_uri": "https://localhost:8080/",
          "height": 52
        },
        "id": "mlF66CgxcHF3",
        "outputId": "7a6831b9-92e0-4204-d0a6-149b0c01c90c",
        "vscode": {
          "languageId": "r"
        }
      },
      "outputs": [
        {
          "data": {
            "text/plain": [
              "[1] \"2025-08-21 23:59:30 UTC\""
            ]
          },
          "metadata": {},
          "output_type": "display_data"
        },
        {
          "data": {
            "text/plain": [
              "[1] \"2025-08-22 00:57:53 UTC\""
            ]
          },
          "metadata": {},
          "output_type": "display_data"
        }
      ],
      "source": [
        "# demora interminables 60 minutos en correr en Google Colab\n",
        "Sys.time()\n",
        "\n",
        "salidas <- mcmapply( DosArbolesEstimarGanancia,\n",
        "  PARAM$semillas, # paso el vector de semillas\n",
        "  MoreArgs = list(PARAM$training_pct, PARAM$rpart1, PARAM$rpart2), # aqui paso el segundo parametro\n",
        "  SIMPLIFY = FALSE,\n",
        "  mc.cores = detectCores()\n",
        ")\n",
        "\n",
        "Sys.time()"
      ]
    },
    {
      "cell_type": "code",
      "execution_count": null,
      "metadata": {
        "vscode": {
          "languageId": "r"
        }
      },
      "outputs": [
        {
          "data": {
            "text/plain": [
              "[1] \"2025-08-27 18:47:48 -03\""
            ]
          },
          "metadata": {},
          "output_type": "display_data"
        },
        {
          "data": {
            "text/html": [
              "<ol>\n",
              "\t<li><style>\n",
              ".list-inline {list-style: none; margin:0; padding: 0}\n",
              ".list-inline>li {display: inline-block}\n",
              ".list-inline>li:not(:last-child)::after {content: \"\\00b7\"; padding: 0 .5ex}\n",
              "</style>\n",
              "<ol class=list-inline><li>'rpart'</li><li>'data.table'</li><li>'stats'</li><li>'graphics'</li><li>'grDevices'</li><li>'utils'</li><li>'datasets'</li><li>'methods'</li><li>'base'</li></ol>\n",
              "</li>\n",
              "\t<li><style>\n",
              ".list-inline {list-style: none; margin:0; padding: 0}\n",
              ".list-inline>li {display: inline-block}\n",
              ".list-inline>li:not(:last-child)::after {content: \"\\00b7\"; padding: 0 .5ex}\n",
              "</style>\n",
              "<ol class=list-inline><li>'rpart'</li><li>'data.table'</li><li>'stats'</li><li>'graphics'</li><li>'grDevices'</li><li>'utils'</li><li>'datasets'</li><li>'methods'</li><li>'base'</li></ol>\n",
              "</li>\n",
              "\t<li><style>\n",
              ".list-inline {list-style: none; margin:0; padding: 0}\n",
              ".list-inline>li {display: inline-block}\n",
              ".list-inline>li:not(:last-child)::after {content: \"\\00b7\"; padding: 0 .5ex}\n",
              "</style>\n",
              "<ol class=list-inline><li>'rpart'</li><li>'data.table'</li><li>'stats'</li><li>'graphics'</li><li>'grDevices'</li><li>'utils'</li><li>'datasets'</li><li>'methods'</li><li>'base'</li></ol>\n",
              "</li>\n",
              "\t<li><style>\n",
              ".list-inline {list-style: none; margin:0; padding: 0}\n",
              ".list-inline>li {display: inline-block}\n",
              ".list-inline>li:not(:last-child)::after {content: \"\\00b7\"; padding: 0 .5ex}\n",
              "</style>\n",
              "<ol class=list-inline><li>'rpart'</li><li>'data.table'</li><li>'stats'</li><li>'graphics'</li><li>'grDevices'</li><li>'utils'</li><li>'datasets'</li><li>'methods'</li><li>'base'</li></ol>\n",
              "</li>\n",
              "\t<li><style>\n",
              ".list-inline {list-style: none; margin:0; padding: 0}\n",
              ".list-inline>li {display: inline-block}\n",
              ".list-inline>li:not(:last-child)::after {content: \"\\00b7\"; padding: 0 .5ex}\n",
              "</style>\n",
              "<ol class=list-inline><li>'rpart'</li><li>'data.table'</li><li>'stats'</li><li>'graphics'</li><li>'grDevices'</li><li>'utils'</li><li>'datasets'</li><li>'methods'</li><li>'base'</li></ol>\n",
              "</li>\n",
              "\t<li><style>\n",
              ".list-inline {list-style: none; margin:0; padding: 0}\n",
              ".list-inline>li {display: inline-block}\n",
              ".list-inline>li:not(:last-child)::after {content: \"\\00b7\"; padding: 0 .5ex}\n",
              "</style>\n",
              "<ol class=list-inline><li>'rpart'</li><li>'data.table'</li><li>'stats'</li><li>'graphics'</li><li>'grDevices'</li><li>'utils'</li><li>'datasets'</li><li>'methods'</li><li>'base'</li></ol>\n",
              "</li>\n",
              "\t<li><style>\n",
              ".list-inline {list-style: none; margin:0; padding: 0}\n",
              ".list-inline>li {display: inline-block}\n",
              ".list-inline>li:not(:last-child)::after {content: \"\\00b7\"; padding: 0 .5ex}\n",
              "</style>\n",
              "<ol class=list-inline><li>'rpart'</li><li>'data.table'</li><li>'stats'</li><li>'graphics'</li><li>'grDevices'</li><li>'utils'</li><li>'datasets'</li><li>'methods'</li><li>'base'</li></ol>\n",
              "</li>\n",
              "\t<li><style>\n",
              ".list-inline {list-style: none; margin:0; padding: 0}\n",
              ".list-inline>li {display: inline-block}\n",
              ".list-inline>li:not(:last-child)::after {content: \"\\00b7\"; padding: 0 .5ex}\n",
              "</style>\n",
              "<ol class=list-inline><li>'rpart'</li><li>'data.table'</li><li>'stats'</li><li>'graphics'</li><li>'grDevices'</li><li>'utils'</li><li>'datasets'</li><li>'methods'</li><li>'base'</li></ol>\n",
              "</li>\n",
              "\t<li><style>\n",
              ".list-inline {list-style: none; margin:0; padding: 0}\n",
              ".list-inline>li {display: inline-block}\n",
              ".list-inline>li:not(:last-child)::after {content: \"\\00b7\"; padding: 0 .5ex}\n",
              "</style>\n",
              "<ol class=list-inline><li>'rpart'</li><li>'data.table'</li><li>'stats'</li><li>'graphics'</li><li>'grDevices'</li><li>'utils'</li><li>'datasets'</li><li>'methods'</li><li>'base'</li></ol>\n",
              "</li>\n",
              "\t<li><style>\n",
              ".list-inline {list-style: none; margin:0; padding: 0}\n",
              ".list-inline>li {display: inline-block}\n",
              ".list-inline>li:not(:last-child)::after {content: \"\\00b7\"; padding: 0 .5ex}\n",
              "</style>\n",
              "<ol class=list-inline><li>'rpart'</li><li>'data.table'</li><li>'stats'</li><li>'graphics'</li><li>'grDevices'</li><li>'utils'</li><li>'datasets'</li><li>'methods'</li><li>'base'</li></ol>\n",
              "</li>\n",
              "\t<li><style>\n",
              ".list-inline {list-style: none; margin:0; padding: 0}\n",
              ".list-inline>li {display: inline-block}\n",
              ".list-inline>li:not(:last-child)::after {content: \"\\00b7\"; padding: 0 .5ex}\n",
              "</style>\n",
              "<ol class=list-inline><li>'rpart'</li><li>'data.table'</li><li>'stats'</li><li>'graphics'</li><li>'grDevices'</li><li>'utils'</li><li>'datasets'</li><li>'methods'</li><li>'base'</li></ol>\n",
              "</li>\n",
              "\t<li><style>\n",
              ".list-inline {list-style: none; margin:0; padding: 0}\n",
              ".list-inline>li {display: inline-block}\n",
              ".list-inline>li:not(:last-child)::after {content: \"\\00b7\"; padding: 0 .5ex}\n",
              "</style>\n",
              "<ol class=list-inline><li>'rpart'</li><li>'data.table'</li><li>'stats'</li><li>'graphics'</li><li>'grDevices'</li><li>'utils'</li><li>'datasets'</li><li>'methods'</li><li>'base'</li></ol>\n",
              "</li>\n",
              "\t<li><style>\n",
              ".list-inline {list-style: none; margin:0; padding: 0}\n",
              ".list-inline>li {display: inline-block}\n",
              ".list-inline>li:not(:last-child)::after {content: \"\\00b7\"; padding: 0 .5ex}\n",
              "</style>\n",
              "<ol class=list-inline><li>'rpart'</li><li>'data.table'</li><li>'stats'</li><li>'graphics'</li><li>'grDevices'</li><li>'utils'</li><li>'datasets'</li><li>'methods'</li><li>'base'</li></ol>\n",
              "</li>\n",
              "\t<li><style>\n",
              ".list-inline {list-style: none; margin:0; padding: 0}\n",
              ".list-inline>li {display: inline-block}\n",
              ".list-inline>li:not(:last-child)::after {content: \"\\00b7\"; padding: 0 .5ex}\n",
              "</style>\n",
              "<ol class=list-inline><li>'rpart'</li><li>'data.table'</li><li>'stats'</li><li>'graphics'</li><li>'grDevices'</li><li>'utils'</li><li>'datasets'</li><li>'methods'</li><li>'base'</li></ol>\n",
              "</li>\n",
              "\t<li><style>\n",
              ".list-inline {list-style: none; margin:0; padding: 0}\n",
              ".list-inline>li {display: inline-block}\n",
              ".list-inline>li:not(:last-child)::after {content: \"\\00b7\"; padding: 0 .5ex}\n",
              "</style>\n",
              "<ol class=list-inline><li>'rpart'</li><li>'data.table'</li><li>'stats'</li><li>'graphics'</li><li>'grDevices'</li><li>'utils'</li><li>'datasets'</li><li>'methods'</li><li>'base'</li></ol>\n",
              "</li>\n",
              "</ol>\n"
            ],
            "text/latex": [
              "\\begin{enumerate}\n",
              "\\item \\begin{enumerate*}\n",
              "\\item 'rpart'\n",
              "\\item 'data.table'\n",
              "\\item 'stats'\n",
              "\\item 'graphics'\n",
              "\\item 'grDevices'\n",
              "\\item 'utils'\n",
              "\\item 'datasets'\n",
              "\\item 'methods'\n",
              "\\item 'base'\n",
              "\\end{enumerate*}\n",
              "\n",
              "\\item \\begin{enumerate*}\n",
              "\\item 'rpart'\n",
              "\\item 'data.table'\n",
              "\\item 'stats'\n",
              "\\item 'graphics'\n",
              "\\item 'grDevices'\n",
              "\\item 'utils'\n",
              "\\item 'datasets'\n",
              "\\item 'methods'\n",
              "\\item 'base'\n",
              "\\end{enumerate*}\n",
              "\n",
              "\\item \\begin{enumerate*}\n",
              "\\item 'rpart'\n",
              "\\item 'data.table'\n",
              "\\item 'stats'\n",
              "\\item 'graphics'\n",
              "\\item 'grDevices'\n",
              "\\item 'utils'\n",
              "\\item 'datasets'\n",
              "\\item 'methods'\n",
              "\\item 'base'\n",
              "\\end{enumerate*}\n",
              "\n",
              "\\item \\begin{enumerate*}\n",
              "\\item 'rpart'\n",
              "\\item 'data.table'\n",
              "\\item 'stats'\n",
              "\\item 'graphics'\n",
              "\\item 'grDevices'\n",
              "\\item 'utils'\n",
              "\\item 'datasets'\n",
              "\\item 'methods'\n",
              "\\item 'base'\n",
              "\\end{enumerate*}\n",
              "\n",
              "\\item \\begin{enumerate*}\n",
              "\\item 'rpart'\n",
              "\\item 'data.table'\n",
              "\\item 'stats'\n",
              "\\item 'graphics'\n",
              "\\item 'grDevices'\n",
              "\\item 'utils'\n",
              "\\item 'datasets'\n",
              "\\item 'methods'\n",
              "\\item 'base'\n",
              "\\end{enumerate*}\n",
              "\n",
              "\\item \\begin{enumerate*}\n",
              "\\item 'rpart'\n",
              "\\item 'data.table'\n",
              "\\item 'stats'\n",
              "\\item 'graphics'\n",
              "\\item 'grDevices'\n",
              "\\item 'utils'\n",
              "\\item 'datasets'\n",
              "\\item 'methods'\n",
              "\\item 'base'\n",
              "\\end{enumerate*}\n",
              "\n",
              "\\item \\begin{enumerate*}\n",
              "\\item 'rpart'\n",
              "\\item 'data.table'\n",
              "\\item 'stats'\n",
              "\\item 'graphics'\n",
              "\\item 'grDevices'\n",
              "\\item 'utils'\n",
              "\\item 'datasets'\n",
              "\\item 'methods'\n",
              "\\item 'base'\n",
              "\\end{enumerate*}\n",
              "\n",
              "\\item \\begin{enumerate*}\n",
              "\\item 'rpart'\n",
              "\\item 'data.table'\n",
              "\\item 'stats'\n",
              "\\item 'graphics'\n",
              "\\item 'grDevices'\n",
              "\\item 'utils'\n",
              "\\item 'datasets'\n",
              "\\item 'methods'\n",
              "\\item 'base'\n",
              "\\end{enumerate*}\n",
              "\n",
              "\\item \\begin{enumerate*}\n",
              "\\item 'rpart'\n",
              "\\item 'data.table'\n",
              "\\item 'stats'\n",
              "\\item 'graphics'\n",
              "\\item 'grDevices'\n",
              "\\item 'utils'\n",
              "\\item 'datasets'\n",
              "\\item 'methods'\n",
              "\\item 'base'\n",
              "\\end{enumerate*}\n",
              "\n",
              "\\item \\begin{enumerate*}\n",
              "\\item 'rpart'\n",
              "\\item 'data.table'\n",
              "\\item 'stats'\n",
              "\\item 'graphics'\n",
              "\\item 'grDevices'\n",
              "\\item 'utils'\n",
              "\\item 'datasets'\n",
              "\\item 'methods'\n",
              "\\item 'base'\n",
              "\\end{enumerate*}\n",
              "\n",
              "\\item \\begin{enumerate*}\n",
              "\\item 'rpart'\n",
              "\\item 'data.table'\n",
              "\\item 'stats'\n",
              "\\item 'graphics'\n",
              "\\item 'grDevices'\n",
              "\\item 'utils'\n",
              "\\item 'datasets'\n",
              "\\item 'methods'\n",
              "\\item 'base'\n",
              "\\end{enumerate*}\n",
              "\n",
              "\\item \\begin{enumerate*}\n",
              "\\item 'rpart'\n",
              "\\item 'data.table'\n",
              "\\item 'stats'\n",
              "\\item 'graphics'\n",
              "\\item 'grDevices'\n",
              "\\item 'utils'\n",
              "\\item 'datasets'\n",
              "\\item 'methods'\n",
              "\\item 'base'\n",
              "\\end{enumerate*}\n",
              "\n",
              "\\item \\begin{enumerate*}\n",
              "\\item 'rpart'\n",
              "\\item 'data.table'\n",
              "\\item 'stats'\n",
              "\\item 'graphics'\n",
              "\\item 'grDevices'\n",
              "\\item 'utils'\n",
              "\\item 'datasets'\n",
              "\\item 'methods'\n",
              "\\item 'base'\n",
              "\\end{enumerate*}\n",
              "\n",
              "\\item \\begin{enumerate*}\n",
              "\\item 'rpart'\n",
              "\\item 'data.table'\n",
              "\\item 'stats'\n",
              "\\item 'graphics'\n",
              "\\item 'grDevices'\n",
              "\\item 'utils'\n",
              "\\item 'datasets'\n",
              "\\item 'methods'\n",
              "\\item 'base'\n",
              "\\end{enumerate*}\n",
              "\n",
              "\\item \\begin{enumerate*}\n",
              "\\item 'rpart'\n",
              "\\item 'data.table'\n",
              "\\item 'stats'\n",
              "\\item 'graphics'\n",
              "\\item 'grDevices'\n",
              "\\item 'utils'\n",
              "\\item 'datasets'\n",
              "\\item 'methods'\n",
              "\\item 'base'\n",
              "\\end{enumerate*}\n",
              "\n",
              "\\end{enumerate}\n"
            ],
            "text/markdown": [
              "1. 1. 'rpart'\n",
              "2. 'data.table'\n",
              "3. 'stats'\n",
              "4. 'graphics'\n",
              "5. 'grDevices'\n",
              "6. 'utils'\n",
              "7. 'datasets'\n",
              "8. 'methods'\n",
              "9. 'base'\n",
              "\n",
              "\n",
              "\n",
              "2. 1. 'rpart'\n",
              "2. 'data.table'\n",
              "3. 'stats'\n",
              "4. 'graphics'\n",
              "5. 'grDevices'\n",
              "6. 'utils'\n",
              "7. 'datasets'\n",
              "8. 'methods'\n",
              "9. 'base'\n",
              "\n",
              "\n",
              "\n",
              "3. 1. 'rpart'\n",
              "2. 'data.table'\n",
              "3. 'stats'\n",
              "4. 'graphics'\n",
              "5. 'grDevices'\n",
              "6. 'utils'\n",
              "7. 'datasets'\n",
              "8. 'methods'\n",
              "9. 'base'\n",
              "\n",
              "\n",
              "\n",
              "4. 1. 'rpart'\n",
              "2. 'data.table'\n",
              "3. 'stats'\n",
              "4. 'graphics'\n",
              "5. 'grDevices'\n",
              "6. 'utils'\n",
              "7. 'datasets'\n",
              "8. 'methods'\n",
              "9. 'base'\n",
              "\n",
              "\n",
              "\n",
              "5. 1. 'rpart'\n",
              "2. 'data.table'\n",
              "3. 'stats'\n",
              "4. 'graphics'\n",
              "5. 'grDevices'\n",
              "6. 'utils'\n",
              "7. 'datasets'\n",
              "8. 'methods'\n",
              "9. 'base'\n",
              "\n",
              "\n",
              "\n",
              "6. 1. 'rpart'\n",
              "2. 'data.table'\n",
              "3. 'stats'\n",
              "4. 'graphics'\n",
              "5. 'grDevices'\n",
              "6. 'utils'\n",
              "7. 'datasets'\n",
              "8. 'methods'\n",
              "9. 'base'\n",
              "\n",
              "\n",
              "\n",
              "7. 1. 'rpart'\n",
              "2. 'data.table'\n",
              "3. 'stats'\n",
              "4. 'graphics'\n",
              "5. 'grDevices'\n",
              "6. 'utils'\n",
              "7. 'datasets'\n",
              "8. 'methods'\n",
              "9. 'base'\n",
              "\n",
              "\n",
              "\n",
              "8. 1. 'rpart'\n",
              "2. 'data.table'\n",
              "3. 'stats'\n",
              "4. 'graphics'\n",
              "5. 'grDevices'\n",
              "6. 'utils'\n",
              "7. 'datasets'\n",
              "8. 'methods'\n",
              "9. 'base'\n",
              "\n",
              "\n",
              "\n",
              "9. 1. 'rpart'\n",
              "2. 'data.table'\n",
              "3. 'stats'\n",
              "4. 'graphics'\n",
              "5. 'grDevices'\n",
              "6. 'utils'\n",
              "7. 'datasets'\n",
              "8. 'methods'\n",
              "9. 'base'\n",
              "\n",
              "\n",
              "\n",
              "10. 1. 'rpart'\n",
              "2. 'data.table'\n",
              "3. 'stats'\n",
              "4. 'graphics'\n",
              "5. 'grDevices'\n",
              "6. 'utils'\n",
              "7. 'datasets'\n",
              "8. 'methods'\n",
              "9. 'base'\n",
              "\n",
              "\n",
              "\n",
              "11. 1. 'rpart'\n",
              "2. 'data.table'\n",
              "3. 'stats'\n",
              "4. 'graphics'\n",
              "5. 'grDevices'\n",
              "6. 'utils'\n",
              "7. 'datasets'\n",
              "8. 'methods'\n",
              "9. 'base'\n",
              "\n",
              "\n",
              "\n",
              "12. 1. 'rpart'\n",
              "2. 'data.table'\n",
              "3. 'stats'\n",
              "4. 'graphics'\n",
              "5. 'grDevices'\n",
              "6. 'utils'\n",
              "7. 'datasets'\n",
              "8. 'methods'\n",
              "9. 'base'\n",
              "\n",
              "\n",
              "\n",
              "13. 1. 'rpart'\n",
              "2. 'data.table'\n",
              "3. 'stats'\n",
              "4. 'graphics'\n",
              "5. 'grDevices'\n",
              "6. 'utils'\n",
              "7. 'datasets'\n",
              "8. 'methods'\n",
              "9. 'base'\n",
              "\n",
              "\n",
              "\n",
              "14. 1. 'rpart'\n",
              "2. 'data.table'\n",
              "3. 'stats'\n",
              "4. 'graphics'\n",
              "5. 'grDevices'\n",
              "6. 'utils'\n",
              "7. 'datasets'\n",
              "8. 'methods'\n",
              "9. 'base'\n",
              "\n",
              "\n",
              "\n",
              "15. 1. 'rpart'\n",
              "2. 'data.table'\n",
              "3. 'stats'\n",
              "4. 'graphics'\n",
              "5. 'grDevices'\n",
              "6. 'utils'\n",
              "7. 'datasets'\n",
              "8. 'methods'\n",
              "9. 'base'\n",
              "\n",
              "\n",
              "\n",
              "\n",
              "\n"
            ],
            "text/plain": [
              "[[1]]\n",
              "[1] \"rpart\"      \"data.table\" \"stats\"      \"graphics\"   \"grDevices\" \n",
              "[6] \"utils\"      \"datasets\"   \"methods\"    \"base\"      \n",
              "\n",
              "[[2]]\n",
              "[1] \"rpart\"      \"data.table\" \"stats\"      \"graphics\"   \"grDevices\" \n",
              "[6] \"utils\"      \"datasets\"   \"methods\"    \"base\"      \n",
              "\n",
              "[[3]]\n",
              "[1] \"rpart\"      \"data.table\" \"stats\"      \"graphics\"   \"grDevices\" \n",
              "[6] \"utils\"      \"datasets\"   \"methods\"    \"base\"      \n",
              "\n",
              "[[4]]\n",
              "[1] \"rpart\"      \"data.table\" \"stats\"      \"graphics\"   \"grDevices\" \n",
              "[6] \"utils\"      \"datasets\"   \"methods\"    \"base\"      \n",
              "\n",
              "[[5]]\n",
              "[1] \"rpart\"      \"data.table\" \"stats\"      \"graphics\"   \"grDevices\" \n",
              "[6] \"utils\"      \"datasets\"   \"methods\"    \"base\"      \n",
              "\n",
              "[[6]]\n",
              "[1] \"rpart\"      \"data.table\" \"stats\"      \"graphics\"   \"grDevices\" \n",
              "[6] \"utils\"      \"datasets\"   \"methods\"    \"base\"      \n",
              "\n",
              "[[7]]\n",
              "[1] \"rpart\"      \"data.table\" \"stats\"      \"graphics\"   \"grDevices\" \n",
              "[6] \"utils\"      \"datasets\"   \"methods\"    \"base\"      \n",
              "\n",
              "[[8]]\n",
              "[1] \"rpart\"      \"data.table\" \"stats\"      \"graphics\"   \"grDevices\" \n",
              "[6] \"utils\"      \"datasets\"   \"methods\"    \"base\"      \n",
              "\n",
              "[[9]]\n",
              "[1] \"rpart\"      \"data.table\" \"stats\"      \"graphics\"   \"grDevices\" \n",
              "[6] \"utils\"      \"datasets\"   \"methods\"    \"base\"      \n",
              "\n",
              "[[10]]\n",
              "[1] \"rpart\"      \"data.table\" \"stats\"      \"graphics\"   \"grDevices\" \n",
              "[6] \"utils\"      \"datasets\"   \"methods\"    \"base\"      \n",
              "\n",
              "[[11]]\n",
              "[1] \"rpart\"      \"data.table\" \"stats\"      \"graphics\"   \"grDevices\" \n",
              "[6] \"utils\"      \"datasets\"   \"methods\"    \"base\"      \n",
              "\n",
              "[[12]]\n",
              "[1] \"rpart\"      \"data.table\" \"stats\"      \"graphics\"   \"grDevices\" \n",
              "[6] \"utils\"      \"datasets\"   \"methods\"    \"base\"      \n",
              "\n",
              "[[13]]\n",
              "[1] \"rpart\"      \"data.table\" \"stats\"      \"graphics\"   \"grDevices\" \n",
              "[6] \"utils\"      \"datasets\"   \"methods\"    \"base\"      \n",
              "\n",
              "[[14]]\n",
              "[1] \"rpart\"      \"data.table\" \"stats\"      \"graphics\"   \"grDevices\" \n",
              "[6] \"utils\"      \"datasets\"   \"methods\"    \"base\"      \n",
              "\n",
              "[[15]]\n",
              "[1] \"rpart\"      \"data.table\" \"stats\"      \"graphics\"   \"grDevices\" \n",
              "[6] \"utils\"      \"datasets\"   \"methods\"    \"base\"      \n"
            ]
          },
          "metadata": {},
          "output_type": "display_data"
        },
        {
          "data": {
            "text/plain": [
              "[1] \"2025-08-27 19:02:42 -03\""
            ]
          },
          "metadata": {},
          "output_type": "display_data"
        }
      ],
      "source": [
        "# Version paralelizable en Windows\n",
        "# Cargar librerías necesarias\n",
        "library(parallel)\n",
        "library(data.table)\n",
        "library(rpart)\n",
        "\n",
        "# Función wrapper que encapsula los parámetros\n",
        "DosArbolesWrapper <- function(semilla, training_pct, param_rpart1, param_rpart2, dataset) {\n",
        "  \n",
        "  # fuerzo impresion\n",
        "  print(paste(semilla, Sys.time()))\n",
        "  flush.console()\n",
        "  \n",
        "  # particiono estratificadamente el dataset\n",
        "  particionar(dataset,\n",
        "    division = c(training_pct, 100L - training_pct),\n",
        "    agrupa = \"clase_ternaria\",\n",
        "    seed = semilla\n",
        "  )\n",
        "  \n",
        "  # genero el modelo 1\n",
        "  modelo1 <- rpart(\"clase_ternaria ~ .\",\n",
        "    data = dataset[fold == 1],\n",
        "    xval = 0,\n",
        "    control = param_rpart1\n",
        "  )\n",
        "  \n",
        "  # aplico el modelo a los datos de testing\n",
        "  prediccion1 <- predict(modelo1,\n",
        "    dataset[fold == 2],\n",
        "    type = \"prob\"\n",
        "  )\n",
        "  \n",
        "  # calculo la ganancia en testing\n",
        "  ganancia_test1 <- dataset[\n",
        "    fold == 2,\n",
        "    sum(ifelse(prediccion1[, \"BAJA+2\"] > 0.025,\n",
        "      ifelse(clase_ternaria == \"BAJA+2\", 780000, -20000),\n",
        "      0\n",
        "    ))\n",
        "  ]\n",
        "  \n",
        "  # escalo la ganancia\n",
        "  ganancia_test_normalizada1 <- ganancia_test1 / ((100 - training_pct) / 100)\n",
        "  \n",
        "  # genero el modelo 2\n",
        "  modelo2 <- rpart(\"clase_ternaria ~ .\",\n",
        "    data = dataset[fold == 1],\n",
        "    xval = 0,\n",
        "    control = param_rpart2\n",
        "  )\n",
        "  \n",
        "  # aplico el modelo a los datos de testing\n",
        "  prediccion2 <- predict(modelo2,\n",
        "    dataset[fold == 2],\n",
        "    type = \"prob\"\n",
        "  )\n",
        "  \n",
        "  # calculo la ganancia en testing\n",
        "  ganancia_test2 <- dataset[\n",
        "    fold == 2,\n",
        "    sum(ifelse(prediccion2[, \"BAJA+2\"] > 0.025,\n",
        "      ifelse(clase_ternaria == \"BAJA+2\", 780000, -20000),\n",
        "      0\n",
        "    ))\n",
        "  ]\n",
        "  \n",
        "  # escalo la ganancia\n",
        "  ganancia_test_normalizada2 <- ganancia_test2 / ((100 - training_pct) / 100)\n",
        "  \n",
        "  return(list(\n",
        "    \"semilla\" = semilla,\n",
        "    \"ganancia1\" = ganancia_test_normalizada1,\n",
        "    \"ganancia2\" = ganancia_test_normalizada2\n",
        "  ))\n",
        "}\n",
        "\n",
        "# VERSIÓN 1: Usando parLapply (recomendada)\n",
        "Sys.time()\n",
        "\n",
        "# Crear cluster\n",
        "num_cores <- detectCores() - 1  # dejo un core libre\n",
        "cl <- makeCluster(num_cores)\n",
        "\n",
        "# Exportar funciones y datos al cluster\n",
        "clusterExport(cl, c(\"particionar\", \"DosArbolesWrapper\", \"dataset\", \"PARAM\"))\n",
        "\n",
        "# Exportar librerías necesarias a cada worker\n",
        "clusterEvalQ(cl, {\n",
        "  library(data.table)\n",
        "  library(rpart)\n",
        "})\n",
        "\n",
        "# Ejecutar en paralelo\n",
        "salidas <- parLapply(cl, PARAM$semillas, function(semilla) {\n",
        "  DosArbolesWrapper(\n",
        "    semilla = semilla,\n",
        "    training_pct = PARAM$training_pct,\n",
        "    param_rpart1 = PARAM$rpart1,\n",
        "    param_rpart2 = PARAM$rpart2,\n",
        "    dataset = copy(dataset)  # importante hacer copia para evitar conflictos\n",
        "  )\n",
        "})\n",
        "\n",
        "# Cerrar el cluster\n",
        "stopCluster(cl)\n",
        "\n",
        "Sys.time()"
      ]
    },
    {
      "cell_type": "code",
      "execution_count": 62,
      "metadata": {
        "colab": {
          "base_uri": "https://localhost:8080/",
          "height": 725
        },
        "id": "_g-_kccdNrum",
        "outputId": "536a7ee0-8243-4866-f6ba-06108b9af045",
        "vscode": {
          "languageId": "r"
        }
      },
      "outputs": [
        {
          "data": {
            "text/html": [
              "<table class=\"dataframe\">\n",
              "<caption>A data.table: 20 × 3</caption>\n",
              "<thead>\n",
              "\t<tr><th scope=col>semilla</th><th scope=col>ganancia1</th><th scope=col>ganancia2</th></tr>\n",
              "\t<tr><th scope=col>&lt;int&gt;</th><th scope=col>&lt;dbl&gt;</th><th scope=col>&lt;dbl&gt;</th></tr>\n",
              "</thead>\n",
              "<tbody>\n",
              "\t<tr><td>590819</td><td>286333333</td><td>253933333</td></tr>\n",
              "\t<tr><td>526937</td><td>268000000</td><td>220666667</td></tr>\n",
              "\t<tr><td>753937</td><td>251666667</td><td>253400000</td></tr>\n",
              "\t<tr><td>101173</td><td>290400000</td><td>241133333</td></tr>\n",
              "\t<tr><td>715727</td><td>248333333</td><td>194933333</td></tr>\n",
              "\t<tr><td>522959</td><td>292400000</td><td>236866667</td></tr>\n",
              "\t<tr><td>975883</td><td>313200000</td><td>256666667</td></tr>\n",
              "\t<tr><td>703657</td><td>247000000</td><td>232266667</td></tr>\n",
              "\t<tr><td>631469</td><td>273600000</td><td>231533333</td></tr>\n",
              "\t<tr><td>662617</td><td>293933333</td><td>231600000</td></tr>\n",
              "\t<tr><td>552031</td><td>304400000</td><td>259866667</td></tr>\n",
              "\t<tr><td>195281</td><td>299933333</td><td>224266667</td></tr>\n",
              "\t<tr><td>326999</td><td>321800000</td><td>250400000</td></tr>\n",
              "\t<tr><td>452269</td><td>255333333</td><td>248133333</td></tr>\n",
              "\t<tr><td>576221</td><td>298666667</td><td>216466667</td></tr>\n",
              "\t<tr><td>293729</td><td>271200000</td><td>235200000</td></tr>\n",
              "\t<tr><td>658079</td><td>323066667</td><td>273266667</td></tr>\n",
              "\t<tr><td>341461</td><td>309266667</td><td>265333333</td></tr>\n",
              "\t<tr><td>193873</td><td>286400000</td><td>287200000</td></tr>\n",
              "\t<tr><td>961139</td><td>272933333</td><td>225800000</td></tr>\n",
              "</tbody>\n",
              "</table>\n"
            ],
            "text/latex": [
              "A data.table: 20 × 3\n",
              "\\begin{tabular}{lll}\n",
              " semilla & ganancia1 & ganancia2\\\\\n",
              " <int> & <dbl> & <dbl>\\\\\n",
              "\\hline\n",
              "\t 590819 & 286333333 & 253933333\\\\\n",
              "\t 526937 & 268000000 & 220666667\\\\\n",
              "\t 753937 & 251666667 & 253400000\\\\\n",
              "\t 101173 & 290400000 & 241133333\\\\\n",
              "\t 715727 & 248333333 & 194933333\\\\\n",
              "\t 522959 & 292400000 & 236866667\\\\\n",
              "\t 975883 & 313200000 & 256666667\\\\\n",
              "\t 703657 & 247000000 & 232266667\\\\\n",
              "\t 631469 & 273600000 & 231533333\\\\\n",
              "\t 662617 & 293933333 & 231600000\\\\\n",
              "\t 552031 & 304400000 & 259866667\\\\\n",
              "\t 195281 & 299933333 & 224266667\\\\\n",
              "\t 326999 & 321800000 & 250400000\\\\\n",
              "\t 452269 & 255333333 & 248133333\\\\\n",
              "\t 576221 & 298666667 & 216466667\\\\\n",
              "\t 293729 & 271200000 & 235200000\\\\\n",
              "\t 658079 & 323066667 & 273266667\\\\\n",
              "\t 341461 & 309266667 & 265333333\\\\\n",
              "\t 193873 & 286400000 & 287200000\\\\\n",
              "\t 961139 & 272933333 & 225800000\\\\\n",
              "\\end{tabular}\n"
            ],
            "text/markdown": [
              "\n",
              "A data.table: 20 × 3\n",
              "\n",
              "| semilla &lt;int&gt; | ganancia1 &lt;dbl&gt; | ganancia2 &lt;dbl&gt; |\n",
              "|---|---|---|\n",
              "| 590819 | 286333333 | 253933333 |\n",
              "| 526937 | 268000000 | 220666667 |\n",
              "| 753937 | 251666667 | 253400000 |\n",
              "| 101173 | 290400000 | 241133333 |\n",
              "| 715727 | 248333333 | 194933333 |\n",
              "| 522959 | 292400000 | 236866667 |\n",
              "| 975883 | 313200000 | 256666667 |\n",
              "| 703657 | 247000000 | 232266667 |\n",
              "| 631469 | 273600000 | 231533333 |\n",
              "| 662617 | 293933333 | 231600000 |\n",
              "| 552031 | 304400000 | 259866667 |\n",
              "| 195281 | 299933333 | 224266667 |\n",
              "| 326999 | 321800000 | 250400000 |\n",
              "| 452269 | 255333333 | 248133333 |\n",
              "| 576221 | 298666667 | 216466667 |\n",
              "| 293729 | 271200000 | 235200000 |\n",
              "| 658079 | 323066667 | 273266667 |\n",
              "| 341461 | 309266667 | 265333333 |\n",
              "| 193873 | 286400000 | 287200000 |\n",
              "| 961139 | 272933333 | 225800000 |\n",
              "\n"
            ],
            "text/plain": [
              "   semilla ganancia1 ganancia2\n",
              "1  590819  286333333 253933333\n",
              "2  526937  268000000 220666667\n",
              "3  753937  251666667 253400000\n",
              "4  101173  290400000 241133333\n",
              "5  715727  248333333 194933333\n",
              "6  522959  292400000 236866667\n",
              "7  975883  313200000 256666667\n",
              "8  703657  247000000 232266667\n",
              "9  631469  273600000 231533333\n",
              "10 662617  293933333 231600000\n",
              "11 552031  304400000 259866667\n",
              "12 195281  299933333 224266667\n",
              "13 326999  321800000 250400000\n",
              "14 452269  255333333 248133333\n",
              "15 576221  298666667 216466667\n",
              "16 293729  271200000 235200000\n",
              "17 658079  323066667 273266667\n",
              "18 341461  309266667 265333333\n",
              "19 193873  286400000 287200000\n",
              "20 961139  272933333 225800000"
            ]
          },
          "metadata": {},
          "output_type": "display_data"
        }
      ],
      "source": [
        "# paso la lista a vector\n",
        "tb_salida <- rbindlist(salidas)\n",
        "tb_salida"
      ]
    },
    {
      "cell_type": "code",
      "execution_count": 63,
      "metadata": {
        "colab": {
          "base_uri": "https://localhost:8080/",
          "height": 437
        },
        "id": "-O0rg6btNrun",
        "outputId": "b336011f-1f76-4bfb-db29-77e7b32f7499",
        "vscode": {
          "languageId": "r"
        }
      },
      "outputs": [
        {
          "data": {
            "image/png": "[encoded data removed]",
            "text/plain": [
              "plot without title"
            ]
          },
          "metadata": {
            "image/png": {
              "height": 420,
              "width": 420
            }
          },
          "output_type": "display_data"
        }
      ],
      "source": [
        "grafico <- ggplot( tb_salida, aes(x=ganancia1)) + geom_density(alpha=0.25, fill=\"green\", color=\"green\")  +\n",
        "             geom_density(data=tb_salida, aes(x=ganancia2), fill=\"purple\", color=\"purple\",  alpha=0.10)\n",
        "\n",
        "print(grafico)"
      ]
    },
    {
      "cell_type": "code",
      "execution_count": 64,
      "metadata": {
        "colab": {
          "base_uri": "https://localhost:8080/",
          "height": 34
        },
        "id": "uSqrazOyU_LC",
        "outputId": "d375d0d2-5e10-458e-cc4d-2936ea33c2b8",
        "vscode": {
          "languageId": "r"
        }
      },
      "outputs": [
        {
          "data": {
            "text/html": [
              "<strong>pdf:</strong> 2"
            ],
            "text/latex": [
              "\\textbf{pdf:} 2"
            ],
            "text/markdown": [
              "**pdf:** 2"
            ],
            "text/plain": [
              "pdf \n",
              "  2 "
            ]
          },
          "metadata": {},
          "output_type": "display_data"
        }
      ],
      "source": [
        "# imprimo en un .pdf  que va a la carpeta del experimento\n",
        "pdf(\"densidad_dos.pdf\")\n",
        "print(grafico)\n",
        "dev.off()"
      ]
    },
    {
      "cell_type": "code",
      "execution_count": 65,
      "metadata": {
        "colab": {
          "base_uri": "https://localhost:8080/"
        },
        "id": "LGv0LB_4R7US",
        "outputId": "f5453b1a-f627-4812-d7b5-8d30659c69c8",
        "vscode": {
          "languageId": "r"
        }
      },
      "outputs": [
        {
          "name": "stdout",
          "output_type": "stream",
          "text": [
            "      arbol1    arbol2\n",
            "       <num>     <num>\n",
            "1: 285393333 241946667\n",
            "   prob( m1 > m2)\n",
            "            <num>\n",
            "1:            0.9\n"
          ]
        }
      ],
      "source": [
        "print( tb_salida[ , list( \"arbol1\" = mean( ganancia1),  \"arbol2\" = mean(ganancia2) ) ] )\n",
        "\n",
        "print( tb_salida[ , list( \"prob( m1 > m2)\" = sum(ganancia1 > ganancia2 )/ .N ) ]  )"
      ]
    },
    {
      "cell_type": "markdown",
      "metadata": {
        "id": "F6lFJf1VTi8b"
      },
      "source": [
        "### Acciones a realizar\n",
        "* Reportar la  los resultados en la planilla colaborativa hoja  **C2-dosModelos**\n",
        "* ¿Todos los alumnos hubieran elegido el mismo modelo aun con 20 semillas?"
      ]
    },
    {
      "cell_type": "markdown",
      "metadata": {
        "id": "aOpy-XBKTi8n"
      },
      "source": [
        "\n",
        "\n",
        "---\n",
        "\n"
      ]
    },
    {
      "cell_type": "markdown",
      "metadata": {
        "id": "EdzjiJf-dsEK"
      },
      "source": [
        "# 6 Comparando dos buenos  modelos\n",
        "## Clase 02  Experimento 6"
      ]
    },
    {
      "cell_type": "markdown",
      "metadata": {
        "id": "FcBjp5XxdsEt"
      },
      "source": [
        "## 6.1  Objetivos\n",
        "Presentar a los alumnos la dificultad que surge en la comparación de dos muy distintos, pero ambos buenos, modelos predictivos, y el costo computacional asociado a esa comparación\n",
        "<br>Comparación simple de media de ganancias, versus probabilidad que un modelo sea superior a otro.\n",
        "<br>Limitaciones de la MonteCarlo Cross Validation\n",
        "<br>Existencia del Test de Wilcoxon"
      ]
    },
    {
      "cell_type": "markdown",
      "metadata": {
        "id": "tYcOIcwCdsEu"
      },
      "source": [
        "## 6.2 Introduccion\n",
        "Estos son los dos arboles de muy distinta profundidad.\n",
        "<br>¿Cuál de ellos es mejor? ¿Cuál elijo?\n",
        "\n",
        "| Hiperparámetro | Arbol 1 | Arbol 2 |\n",
        "| --- | --: |  ---: |\n",
        "| cp | -1 | -1 |\n",
        "|minsplit | 700 | 115 |\n",
        "|minbucket | 350 | 5 |\n",
        "|maxdepth | 8 | 6 |\n",
        "\n"
      ]
    },
    {
      "cell_type": "markdown",
      "metadata": {
        "id": "r0NDA7GgdsEu"
      },
      "source": [
        "## 6.3 Dos buenos modelos"
      ]
    },
    {
      "cell_type": "markdown",
      "metadata": {
        "id": "21SJmGd7dsEv"
      },
      "source": [
        "Esta parte se debe correr con el runtime en lenguaje **R** Ir al menu, Runtime -> Change Runtime Tipe -> Runtime type -> R"
      ]
    },
    {
      "cell_type": "markdown",
      "metadata": {
        "id": "Ne0e08KUt87w"
      },
      "source": [
        "El tiempo de corrida es de alrededor de 50 minutos"
      ]
    },
    {
      "cell_type": "markdown",
      "metadata": {
        "id": "q02SEGNwdsEv"
      },
      "source": [
        "limpio el ambiente de R"
      ]
    },
    {
      "cell_type": "code",
      "execution_count": 66,
      "metadata": {
        "id": "6c2ZJstWdsEw",
        "vscode": {
          "languageId": "r"
        }
      },
      "outputs": [
        {
          "data": {
            "text/html": [
              "<table class=\"dataframe\">\n",
              "<caption>A matrix: 2 × 6 of type dbl</caption>\n",
              "<thead>\n",
              "\t<tr><th></th><th scope=col>used</th><th scope=col>(Mb)</th><th scope=col>gc trigger</th><th scope=col>(Mb)</th><th scope=col>max used</th><th scope=col>(Mb)</th></tr>\n",
              "</thead>\n",
              "<tbody>\n",
              "\t<tr><th scope=row>Ncells</th><td> 1347668</td><td> 72.0</td><td>  2238977</td><td> 119.6</td><td>  2238977</td><td> 119.6</td></tr>\n",
              "\t<tr><th scope=row>Vcells</th><td>40050817</td><td>305.6</td><td>701396823</td><td>5351.3</td><td>986718250</td><td>7528.1</td></tr>\n",
              "</tbody>\n",
              "</table>\n"
            ],
            "text/latex": [
              "A matrix: 2 × 6 of type dbl\n",
              "\\begin{tabular}{r|llllll}\n",
              "  & used & (Mb) & gc trigger & (Mb) & max used & (Mb)\\\\\n",
              "\\hline\n",
              "\tNcells &  1347668 &  72.0 &   2238977 &  119.6 &   2238977 &  119.6\\\\\n",
              "\tVcells & 40050817 & 305.6 & 701396823 & 5351.3 & 986718250 & 7528.1\\\\\n",
              "\\end{tabular}\n"
            ],
            "text/markdown": [
              "\n",
              "A matrix: 2 × 6 of type dbl\n",
              "\n",
              "| <!--/--> | used | (Mb) | gc trigger | (Mb) | max used | (Mb) |\n",
              "|---|---|---|---|---|---|---|\n",
              "| Ncells |  1347668 |  72.0 |   2238977 |  119.6 |   2238977 |  119.6 |\n",
              "| Vcells | 40050817 | 305.6 | 701396823 | 5351.3 | 986718250 | 7528.1 |\n",
              "\n"
            ],
            "text/plain": [
              "       used     (Mb)  gc trigger (Mb)   max used  (Mb)  \n",
              "Ncells  1347668  72.0   2238977   119.6   2238977  119.6\n",
              "Vcells 40050817 305.6 701396823  5351.3 986718250 7528.1"
            ]
          },
          "metadata": {},
          "output_type": "display_data"
        }
      ],
      "source": [
        "# limpio la memoria\n",
        "rm(list=ls(all.names=TRUE)) # remove all objects\n",
        "gc(full=TRUE, verbose=FALSE) # garbage collection"
      ]
    },
    {
      "cell_type": "markdown",
      "metadata": {
        "id": "62MIW0r1dsEx"
      },
      "source": [
        "* Instalacion de la libreria  rpart.plot  para dibujar el arbol\n",
        "* invocacion de las librerias  **data.table** y  **rpart**"
      ]
    },
    {
      "cell_type": "code",
      "execution_count": 67,
      "metadata": {
        "id": "2Ke4n-N8dsEy",
        "vscode": {
          "languageId": "r"
        }
      },
      "outputs": [],
      "source": [
        "# cargo las librerias que necesito\n",
        "require(\"data.table\")\n",
        "require(\"rpart\")\n",
        "require(\"parallel\")\n",
        "\n",
        "if(!require(\"R.utils\")) install.packages(\"R.utils\")\n",
        "require(\"R.utils\")\n",
        "\n",
        "if (!require(\"primes\")) install.packages(\"primes\")\n",
        "require(\"primes\")\n",
        "\n",
        "require(\"ggplot2\")"
      ]
    },
    {
      "cell_type": "markdown",
      "metadata": {
        "id": "UHSoeqi4dsEz"
      },
      "source": [
        "###  Accion a Realizar\n",
        "PARAM$semilla_primigenia  debe reemplazarse por SU primer semilla"
      ]
    },
    {
      "cell_type": "code",
      "execution_count": 68,
      "metadata": {
        "id": "f08_sqfAdsEz",
        "vscode": {
          "languageId": "r"
        }
      },
      "outputs": [],
      "source": [
        "PARAM <- list()\n",
        "PARAM$semilla_primigenia <- 200003\n",
        "PARAM$qsemillas <- 50\n",
        "PARAM$training_pct <- 70L     # entre 1 y 100\n"
      ]
    },
    {
      "cell_type": "code",
      "execution_count": 69,
      "metadata": {
        "id": "L735D9rydsE0",
        "vscode": {
          "languageId": "r"
        }
      },
      "outputs": [],
      "source": [
        "# los dos arboles\n",
        "PARAM$rpart1 <- list (\n",
        "  \"cp\" = -1,\n",
        "  \"minsplit\" = 750,\n",
        "  \"minbucket\" = 350,\n",
        "  \"maxdepth\" = 8\n",
        ")\n",
        "\n",
        "\n",
        "PARAM$rpart2 <- list (\n",
        "  \"cp\" = -1,\n",
        "  \"minsplit\" = 115,\n",
        "  \"minbucket\" = 5,\n",
        "  \"maxdepth\" = 6\n",
        ")\n"
      ]
    },
    {
      "cell_type": "code",
      "execution_count": 74,
      "metadata": {
        "id": "O56epLUGdsE1",
        "vscode": {
          "languageId": "r"
        }
      },
      "outputs": [],
      "source": [
        "# particionar agrega una columna llamada fold a un dataset\n",
        "#  que consiste en una particion estratificada segun agrupa\n",
        "\n",
        "# particionar( data=dataset, division=c(70,30),\n",
        "#  agrupa=clase_ternaria, seed=semilla)   crea una particion 70, 30\n",
        "\n",
        "particionar <- function(\n",
        "    data, division, agrupa = \"\",\n",
        "    campo = \"fold\", start = 1, seed = NA) {\n",
        "  if (!is.na(seed)) set.seed(seed)\n",
        "\n",
        "  bloque <- unlist(mapply(function(x, y) {\n",
        "    rep(y, x)\n",
        "  }, division, seq(from = start, length.out = length(division))))\n",
        "\n",
        "  data[, (campo) := sample(rep(bloque, ceiling(.N / length(bloque))))[1:.N],\n",
        "    by = agrupa\n",
        "  ]\n",
        "}\n"
      ]
    },
    {
      "cell_type": "code",
      "execution_count": null,
      "metadata": {
        "id": "Bv_NorLhdsE1",
        "vscode": {
          "languageId": "r"
        }
      },
      "outputs": [],
      "source": [
        "DosArbolesEstimarGanancia <- function(semilla, training_pct, param_rpart1, param_rpart2) {\n",
        "  # fuerzo impresion\n",
        "  print( paste( semilla, Sys.time()) )\n",
        "  flush.console()\n",
        "\n",
        "  # particiono estratificadamente el dataset\n",
        "  particionar(dataset,\n",
        "    division = c(training_pct, 100L -training_pct),\n",
        "    agrupa = \"clase_ternaria\",\n",
        "    seed = semilla # aqui se usa SU semilla\n",
        "  )\n",
        "\n",
        "  # genero el modelo\n",
        "  # predecir clase_ternaria a partir del resto\n",
        "  modelo1 <- rpart(\"clase_ternaria ~ .\",\n",
        "    data = dataset[fold == 1], # fold==1  es training,  el 70% de los datos\n",
        "    xval = 0,\n",
        "    control = param_rpart1\n",
        "  ) # aqui van los parametros del arbol\n",
        "\n",
        "  # aplico el modelo a los datos de testing\n",
        "  prediccion1 <- predict(modelo1, # el modelo que genere recien\n",
        "    dataset[fold == 2], # fold==2  es testing, el 30% de los datos\n",
        "    type = \"prob\"\n",
        "  ) # type= \"prob\"  es que devuelva la probabilidad\n",
        "\n",
        "\n",
        "  # calculo la ganancia en testing  qu es fold==2\n",
        "  ganancia_test1 <- dataset[\n",
        "    fold == 2,\n",
        "    sum(ifelse(prediccion1[, \"BAJA+2\"] > 0.025,\n",
        "      ifelse(clase_ternaria == \"BAJA+2\", 780000, -20000),\n",
        "      0\n",
        "    ))\n",
        "  ]\n",
        "\n",
        "  # escalo la ganancia como si fuera todo el dataset\n",
        "  ganancia_test_normalizada1 <- ganancia_test1 / (( 100 - training_pct ) / 100 )\n",
        "\n",
        "  modelo2 <- rpart(\"clase_ternaria ~ .\",\n",
        "    data = dataset[fold == 1], # fold==1  es training,  el 70% de los datos\n",
        "    xval = 0,\n",
        "    control = param_rpart2\n",
        "  ) # aqui van los parametros del arbol\n",
        "\n",
        "  # aplico el modelo a los datos de testing\n",
        "  prediccion2 <- predict(modelo2, # el modelo que genere recien\n",
        "    dataset[fold == 2], # fold==2  es testing, el 30% de los datos\n",
        "    type = \"prob\"\n",
        "  ) # type= \"prob\"  es que devuelva la probabilidad\n",
        "\n",
        "\n",
        "  # calculo la ganancia en testing  qu es fold==2\n",
        "  ganancia_test2 <- dataset[\n",
        "    fold == 2,\n",
        "    sum(ifelse(prediccion2[, \"BAJA+2\"] > 0.025,\n",
        "      ifelse(clase_ternaria == \"BAJA+2\", 780000, -20000),\n",
        "      0\n",
        "    ))\n",
        "  ]\n",
        "\n",
        "  # escalo la ganancia como si fuera todo el dataset\n",
        "  ganancia_test_normalizada2 <- ganancia_test2 / (( 100 - training_pct ) / 100 )\n",
        "\n",
        "  return(list(\n",
        "    \"semilla\" = semilla,\n",
        "    \"ganancia1\" = ganancia_test_normalizada1,\n",
        "    \"ganancia2\" = ganancia_test_normalizada2\n",
        "  ))\n",
        "}"
      ]
    },
    {
      "cell_type": "code",
      "execution_count": null,
      "metadata": {
        "id": "N9GarblIdsE3",
        "vscode": {
          "languageId": "r"
        }
      },
      "outputs": [],
      "source": [
        "# carpeta de trabajo\n",
        "setwd(\"/content/buckets/b1/exp\")\n",
        "experimento <- \"exp0206\"\n",
        "dir.create(experimento, showWarnings=FALSE)\n",
        "setwd( paste0(\"/content/buckets/b1/exp/\", experimento ))"
      ]
    },
    {
      "cell_type": "code",
      "execution_count": 70,
      "metadata": {
        "id": "Z05r3wdTdsE3",
        "vscode": {
          "languageId": "r"
        }
      },
      "outputs": [
        {
          "data": {
            "text/html": [
              "978439"
            ],
            "text/latex": [
              "978439"
            ],
            "text/markdown": [
              "978439"
            ],
            "text/plain": [
              "[1] 978439"
            ]
          },
          "metadata": {},
          "output_type": "display_data"
        }
      ],
      "source": [
        "# lectura del dataset\n",
        "#dataset <- fread(\"/content/datasets/competencia_01.csv.gz\")\n",
        "dataset <- fread(\"./competencia_01.csv.gz\")\n",
        "nrow(dataset)"
      ]
    },
    {
      "cell_type": "code",
      "execution_count": 71,
      "metadata": {
        "id": "ncex-cvvlYf9",
        "vscode": {
          "languageId": "r"
        }
      },
      "outputs": [
        {
          "data": {
            "text/html": [
              "163418"
            ],
            "text/latex": [
              "163418"
            ],
            "text/markdown": [
              "163418"
            ],
            "text/plain": [
              "[1] 163418"
            ]
          },
          "metadata": {},
          "output_type": "display_data"
        },
        {
          "data": {
            "text/html": [
              "<table class=\"dataframe\">\n",
              "<caption>A data.table: 3 × 3</caption>\n",
              "<thead>\n",
              "\t<tr><th scope=col>foto_mes</th><th scope=col>clase_ternaria</th><th scope=col>N</th></tr>\n",
              "\t<tr><th scope=col>&lt;int&gt;</th><th scope=col>&lt;chr&gt;</th><th scope=col>&lt;int&gt;</th></tr>\n",
              "</thead>\n",
              "<tbody>\n",
              "\t<tr><td>202104</td><td>CONTINUA</td><td>161333</td></tr>\n",
              "\t<tr><td>202104</td><td>BAJA+1  </td><td>   955</td></tr>\n",
              "\t<tr><td>202104</td><td>BAJA+2  </td><td>  1130</td></tr>\n",
              "</tbody>\n",
              "</table>\n"
            ],
            "text/latex": [
              "A data.table: 3 × 3\n",
              "\\begin{tabular}{lll}\n",
              " foto\\_mes & clase\\_ternaria & N\\\\\n",
              " <int> & <chr> & <int>\\\\\n",
              "\\hline\n",
              "\t 202104 & CONTINUA & 161333\\\\\n",
              "\t 202104 & BAJA+1   &    955\\\\\n",
              "\t 202104 & BAJA+2   &   1130\\\\\n",
              "\\end{tabular}\n"
            ],
            "text/markdown": [
              "\n",
              "A data.table: 3 × 3\n",
              "\n",
              "| foto_mes &lt;int&gt; | clase_ternaria &lt;chr&gt; | N &lt;int&gt; |\n",
              "|---|---|---|\n",
              "| 202104 | CONTINUA | 161333 |\n",
              "| 202104 | BAJA+1   |    955 |\n",
              "| 202104 | BAJA+2   |   1130 |\n",
              "\n"
            ],
            "text/plain": [
              "  foto_mes clase_ternaria N     \n",
              "1 202104   CONTINUA       161333\n",
              "2 202104   BAJA+1            955\n",
              "3 202104   BAJA+2           1130"
            ]
          },
          "metadata": {},
          "output_type": "display_data"
        }
      ],
      "source": [
        "# trabajo solo con los datos de 202104, ultimo mes con clase_ternaria completa\n",
        "# filtro datos\n",
        "dataset <- dataset[foto_mes==202104]\n",
        "\n",
        "invisible(gc(full=TRUE, verbose=FALSE)) # garbage collection\n",
        "\n",
        "nrow(dataset)\n",
        "dataset[, .N, list(foto_mes,clase_ternaria)]"
      ]
    },
    {
      "cell_type": "code",
      "execution_count": 72,
      "metadata": {
        "id": "m8ODrVrndsE4",
        "vscode": {
          "languageId": "r"
        }
      },
      "outputs": [],
      "source": [
        "# genero numeros primos\n",
        "primos <- generate_primes(min = 100000, max = 1000000)\n",
        "set.seed(PARAM$semilla_primigenia) # inicializo\n",
        "\n",
        "# me quedo con PARAM$qsemillas   semillas\n",
        "PARAM$semillas <- sample(primos, PARAM$qsemillas )"
      ]
    },
    {
      "cell_type": "code",
      "execution_count": null,
      "metadata": {
        "id": "KQBhUXxJdsE5",
        "vscode": {
          "languageId": "r"
        }
      },
      "outputs": [],
      "source": [
        "# la funcion mcmapply  llama a la funcion DosArbolesEstimarGanancia\n",
        "#  tantas veces como valores tenga el vector  PARAM$semillas\n",
        "Sys.time()\n",
        "\n",
        "salidas <- mcmapply( DosArbolesEstimarGanancia,\n",
        "  PARAM$semillas, # paso el vector de semillas\n",
        "  MoreArgs = list(PARAM$training_pct, PARAM$rpart1, PARAM$rpart2), # aqui paso el segundo parametro\n",
        "  SIMPLIFY = FALSE,\n",
        "  mc.cores = detectCores()\n",
        ")\n",
        "\n",
        "Sys.time()"
      ]
    },
    {
      "cell_type": "code",
      "execution_count": 75,
      "metadata": {
        "vscode": {
          "languageId": "r"
        }
      },
      "outputs": [
        {
          "data": {
            "text/plain": [
              "[1] \"2025-08-27 19:53:51 -03\""
            ]
          },
          "metadata": {},
          "output_type": "display_data"
        },
        {
          "data": {
            "text/html": [
              "<ol>\n",
              "\t<li><style>\n",
              ".list-inline {list-style: none; margin:0; padding: 0}\n",
              ".list-inline>li {display: inline-block}\n",
              ".list-inline>li:not(:last-child)::after {content: \"\\00b7\"; padding: 0 .5ex}\n",
              "</style>\n",
              "<ol class=list-inline><li>'rpart'</li><li>'data.table'</li><li>'stats'</li><li>'graphics'</li><li>'grDevices'</li><li>'utils'</li><li>'datasets'</li><li>'methods'</li><li>'base'</li></ol>\n",
              "</li>\n",
              "\t<li><style>\n",
              ".list-inline {list-style: none; margin:0; padding: 0}\n",
              ".list-inline>li {display: inline-block}\n",
              ".list-inline>li:not(:last-child)::after {content: \"\\00b7\"; padding: 0 .5ex}\n",
              "</style>\n",
              "<ol class=list-inline><li>'rpart'</li><li>'data.table'</li><li>'stats'</li><li>'graphics'</li><li>'grDevices'</li><li>'utils'</li><li>'datasets'</li><li>'methods'</li><li>'base'</li></ol>\n",
              "</li>\n",
              "\t<li><style>\n",
              ".list-inline {list-style: none; margin:0; padding: 0}\n",
              ".list-inline>li {display: inline-block}\n",
              ".list-inline>li:not(:last-child)::after {content: \"\\00b7\"; padding: 0 .5ex}\n",
              "</style>\n",
              "<ol class=list-inline><li>'rpart'</li><li>'data.table'</li><li>'stats'</li><li>'graphics'</li><li>'grDevices'</li><li>'utils'</li><li>'datasets'</li><li>'methods'</li><li>'base'</li></ol>\n",
              "</li>\n",
              "\t<li><style>\n",
              ".list-inline {list-style: none; margin:0; padding: 0}\n",
              ".list-inline>li {display: inline-block}\n",
              ".list-inline>li:not(:last-child)::after {content: \"\\00b7\"; padding: 0 .5ex}\n",
              "</style>\n",
              "<ol class=list-inline><li>'rpart'</li><li>'data.table'</li><li>'stats'</li><li>'graphics'</li><li>'grDevices'</li><li>'utils'</li><li>'datasets'</li><li>'methods'</li><li>'base'</li></ol>\n",
              "</li>\n",
              "\t<li><style>\n",
              ".list-inline {list-style: none; margin:0; padding: 0}\n",
              ".list-inline>li {display: inline-block}\n",
              ".list-inline>li:not(:last-child)::after {content: \"\\00b7\"; padding: 0 .5ex}\n",
              "</style>\n",
              "<ol class=list-inline><li>'rpart'</li><li>'data.table'</li><li>'stats'</li><li>'graphics'</li><li>'grDevices'</li><li>'utils'</li><li>'datasets'</li><li>'methods'</li><li>'base'</li></ol>\n",
              "</li>\n",
              "\t<li><style>\n",
              ".list-inline {list-style: none; margin:0; padding: 0}\n",
              ".list-inline>li {display: inline-block}\n",
              ".list-inline>li:not(:last-child)::after {content: \"\\00b7\"; padding: 0 .5ex}\n",
              "</style>\n",
              "<ol class=list-inline><li>'rpart'</li><li>'data.table'</li><li>'stats'</li><li>'graphics'</li><li>'grDevices'</li><li>'utils'</li><li>'datasets'</li><li>'methods'</li><li>'base'</li></ol>\n",
              "</li>\n",
              "\t<li><style>\n",
              ".list-inline {list-style: none; margin:0; padding: 0}\n",
              ".list-inline>li {display: inline-block}\n",
              ".list-inline>li:not(:last-child)::after {content: \"\\00b7\"; padding: 0 .5ex}\n",
              "</style>\n",
              "<ol class=list-inline><li>'rpart'</li><li>'data.table'</li><li>'stats'</li><li>'graphics'</li><li>'grDevices'</li><li>'utils'</li><li>'datasets'</li><li>'methods'</li><li>'base'</li></ol>\n",
              "</li>\n",
              "\t<li><style>\n",
              ".list-inline {list-style: none; margin:0; padding: 0}\n",
              ".list-inline>li {display: inline-block}\n",
              ".list-inline>li:not(:last-child)::after {content: \"\\00b7\"; padding: 0 .5ex}\n",
              "</style>\n",
              "<ol class=list-inline><li>'rpart'</li><li>'data.table'</li><li>'stats'</li><li>'graphics'</li><li>'grDevices'</li><li>'utils'</li><li>'datasets'</li><li>'methods'</li><li>'base'</li></ol>\n",
              "</li>\n",
              "\t<li><style>\n",
              ".list-inline {list-style: none; margin:0; padding: 0}\n",
              ".list-inline>li {display: inline-block}\n",
              ".list-inline>li:not(:last-child)::after {content: \"\\00b7\"; padding: 0 .5ex}\n",
              "</style>\n",
              "<ol class=list-inline><li>'rpart'</li><li>'data.table'</li><li>'stats'</li><li>'graphics'</li><li>'grDevices'</li><li>'utils'</li><li>'datasets'</li><li>'methods'</li><li>'base'</li></ol>\n",
              "</li>\n",
              "\t<li><style>\n",
              ".list-inline {list-style: none; margin:0; padding: 0}\n",
              ".list-inline>li {display: inline-block}\n",
              ".list-inline>li:not(:last-child)::after {content: \"\\00b7\"; padding: 0 .5ex}\n",
              "</style>\n",
              "<ol class=list-inline><li>'rpart'</li><li>'data.table'</li><li>'stats'</li><li>'graphics'</li><li>'grDevices'</li><li>'utils'</li><li>'datasets'</li><li>'methods'</li><li>'base'</li></ol>\n",
              "</li>\n",
              "\t<li><style>\n",
              ".list-inline {list-style: none; margin:0; padding: 0}\n",
              ".list-inline>li {display: inline-block}\n",
              ".list-inline>li:not(:last-child)::after {content: \"\\00b7\"; padding: 0 .5ex}\n",
              "</style>\n",
              "<ol class=list-inline><li>'rpart'</li><li>'data.table'</li><li>'stats'</li><li>'graphics'</li><li>'grDevices'</li><li>'utils'</li><li>'datasets'</li><li>'methods'</li><li>'base'</li></ol>\n",
              "</li>\n",
              "\t<li><style>\n",
              ".list-inline {list-style: none; margin:0; padding: 0}\n",
              ".list-inline>li {display: inline-block}\n",
              ".list-inline>li:not(:last-child)::after {content: \"\\00b7\"; padding: 0 .5ex}\n",
              "</style>\n",
              "<ol class=list-inline><li>'rpart'</li><li>'data.table'</li><li>'stats'</li><li>'graphics'</li><li>'grDevices'</li><li>'utils'</li><li>'datasets'</li><li>'methods'</li><li>'base'</li></ol>\n",
              "</li>\n",
              "\t<li><style>\n",
              ".list-inline {list-style: none; margin:0; padding: 0}\n",
              ".list-inline>li {display: inline-block}\n",
              ".list-inline>li:not(:last-child)::after {content: \"\\00b7\"; padding: 0 .5ex}\n",
              "</style>\n",
              "<ol class=list-inline><li>'rpart'</li><li>'data.table'</li><li>'stats'</li><li>'graphics'</li><li>'grDevices'</li><li>'utils'</li><li>'datasets'</li><li>'methods'</li><li>'base'</li></ol>\n",
              "</li>\n",
              "\t<li><style>\n",
              ".list-inline {list-style: none; margin:0; padding: 0}\n",
              ".list-inline>li {display: inline-block}\n",
              ".list-inline>li:not(:last-child)::after {content: \"\\00b7\"; padding: 0 .5ex}\n",
              "</style>\n",
              "<ol class=list-inline><li>'rpart'</li><li>'data.table'</li><li>'stats'</li><li>'graphics'</li><li>'grDevices'</li><li>'utils'</li><li>'datasets'</li><li>'methods'</li><li>'base'</li></ol>\n",
              "</li>\n",
              "\t<li><style>\n",
              ".list-inline {list-style: none; margin:0; padding: 0}\n",
              ".list-inline>li {display: inline-block}\n",
              ".list-inline>li:not(:last-child)::after {content: \"\\00b7\"; padding: 0 .5ex}\n",
              "</style>\n",
              "<ol class=list-inline><li>'rpart'</li><li>'data.table'</li><li>'stats'</li><li>'graphics'</li><li>'grDevices'</li><li>'utils'</li><li>'datasets'</li><li>'methods'</li><li>'base'</li></ol>\n",
              "</li>\n",
              "</ol>\n"
            ],
            "text/latex": [
              "\\begin{enumerate}\n",
              "\\item \\begin{enumerate*}\n",
              "\\item 'rpart'\n",
              "\\item 'data.table'\n",
              "\\item 'stats'\n",
              "\\item 'graphics'\n",
              "\\item 'grDevices'\n",
              "\\item 'utils'\n",
              "\\item 'datasets'\n",
              "\\item 'methods'\n",
              "\\item 'base'\n",
              "\\end{enumerate*}\n",
              "\n",
              "\\item \\begin{enumerate*}\n",
              "\\item 'rpart'\n",
              "\\item 'data.table'\n",
              "\\item 'stats'\n",
              "\\item 'graphics'\n",
              "\\item 'grDevices'\n",
              "\\item 'utils'\n",
              "\\item 'datasets'\n",
              "\\item 'methods'\n",
              "\\item 'base'\n",
              "\\end{enumerate*}\n",
              "\n",
              "\\item \\begin{enumerate*}\n",
              "\\item 'rpart'\n",
              "\\item 'data.table'\n",
              "\\item 'stats'\n",
              "\\item 'graphics'\n",
              "\\item 'grDevices'\n",
              "\\item 'utils'\n",
              "\\item 'datasets'\n",
              "\\item 'methods'\n",
              "\\item 'base'\n",
              "\\end{enumerate*}\n",
              "\n",
              "\\item \\begin{enumerate*}\n",
              "\\item 'rpart'\n",
              "\\item 'data.table'\n",
              "\\item 'stats'\n",
              "\\item 'graphics'\n",
              "\\item 'grDevices'\n",
              "\\item 'utils'\n",
              "\\item 'datasets'\n",
              "\\item 'methods'\n",
              "\\item 'base'\n",
              "\\end{enumerate*}\n",
              "\n",
              "\\item \\begin{enumerate*}\n",
              "\\item 'rpart'\n",
              "\\item 'data.table'\n",
              "\\item 'stats'\n",
              "\\item 'graphics'\n",
              "\\item 'grDevices'\n",
              "\\item 'utils'\n",
              "\\item 'datasets'\n",
              "\\item 'methods'\n",
              "\\item 'base'\n",
              "\\end{enumerate*}\n",
              "\n",
              "\\item \\begin{enumerate*}\n",
              "\\item 'rpart'\n",
              "\\item 'data.table'\n",
              "\\item 'stats'\n",
              "\\item 'graphics'\n",
              "\\item 'grDevices'\n",
              "\\item 'utils'\n",
              "\\item 'datasets'\n",
              "\\item 'methods'\n",
              "\\item 'base'\n",
              "\\end{enumerate*}\n",
              "\n",
              "\\item \\begin{enumerate*}\n",
              "\\item 'rpart'\n",
              "\\item 'data.table'\n",
              "\\item 'stats'\n",
              "\\item 'graphics'\n",
              "\\item 'grDevices'\n",
              "\\item 'utils'\n",
              "\\item 'datasets'\n",
              "\\item 'methods'\n",
              "\\item 'base'\n",
              "\\end{enumerate*}\n",
              "\n",
              "\\item \\begin{enumerate*}\n",
              "\\item 'rpart'\n",
              "\\item 'data.table'\n",
              "\\item 'stats'\n",
              "\\item 'graphics'\n",
              "\\item 'grDevices'\n",
              "\\item 'utils'\n",
              "\\item 'datasets'\n",
              "\\item 'methods'\n",
              "\\item 'base'\n",
              "\\end{enumerate*}\n",
              "\n",
              "\\item \\begin{enumerate*}\n",
              "\\item 'rpart'\n",
              "\\item 'data.table'\n",
              "\\item 'stats'\n",
              "\\item 'graphics'\n",
              "\\item 'grDevices'\n",
              "\\item 'utils'\n",
              "\\item 'datasets'\n",
              "\\item 'methods'\n",
              "\\item 'base'\n",
              "\\end{enumerate*}\n",
              "\n",
              "\\item \\begin{enumerate*}\n",
              "\\item 'rpart'\n",
              "\\item 'data.table'\n",
              "\\item 'stats'\n",
              "\\item 'graphics'\n",
              "\\item 'grDevices'\n",
              "\\item 'utils'\n",
              "\\item 'datasets'\n",
              "\\item 'methods'\n",
              "\\item 'base'\n",
              "\\end{enumerate*}\n",
              "\n",
              "\\item \\begin{enumerate*}\n",
              "\\item 'rpart'\n",
              "\\item 'data.table'\n",
              "\\item 'stats'\n",
              "\\item 'graphics'\n",
              "\\item 'grDevices'\n",
              "\\item 'utils'\n",
              "\\item 'datasets'\n",
              "\\item 'methods'\n",
              "\\item 'base'\n",
              "\\end{enumerate*}\n",
              "\n",
              "\\item \\begin{enumerate*}\n",
              "\\item 'rpart'\n",
              "\\item 'data.table'\n",
              "\\item 'stats'\n",
              "\\item 'graphics'\n",
              "\\item 'grDevices'\n",
              "\\item 'utils'\n",
              "\\item 'datasets'\n",
              "\\item 'methods'\n",
              "\\item 'base'\n",
              "\\end{enumerate*}\n",
              "\n",
              "\\item \\begin{enumerate*}\n",
              "\\item 'rpart'\n",
              "\\item 'data.table'\n",
              "\\item 'stats'\n",
              "\\item 'graphics'\n",
              "\\item 'grDevices'\n",
              "\\item 'utils'\n",
              "\\item 'datasets'\n",
              "\\item 'methods'\n",
              "\\item 'base'\n",
              "\\end{enumerate*}\n",
              "\n",
              "\\item \\begin{enumerate*}\n",
              "\\item 'rpart'\n",
              "\\item 'data.table'\n",
              "\\item 'stats'\n",
              "\\item 'graphics'\n",
              "\\item 'grDevices'\n",
              "\\item 'utils'\n",
              "\\item 'datasets'\n",
              "\\item 'methods'\n",
              "\\item 'base'\n",
              "\\end{enumerate*}\n",
              "\n",
              "\\item \\begin{enumerate*}\n",
              "\\item 'rpart'\n",
              "\\item 'data.table'\n",
              "\\item 'stats'\n",
              "\\item 'graphics'\n",
              "\\item 'grDevices'\n",
              "\\item 'utils'\n",
              "\\item 'datasets'\n",
              "\\item 'methods'\n",
              "\\item 'base'\n",
              "\\end{enumerate*}\n",
              "\n",
              "\\end{enumerate}\n"
            ],
            "text/markdown": [
              "1. 1. 'rpart'\n",
              "2. 'data.table'\n",
              "3. 'stats'\n",
              "4. 'graphics'\n",
              "5. 'grDevices'\n",
              "6. 'utils'\n",
              "7. 'datasets'\n",
              "8. 'methods'\n",
              "9. 'base'\n",
              "\n",
              "\n",
              "\n",
              "2. 1. 'rpart'\n",
              "2. 'data.table'\n",
              "3. 'stats'\n",
              "4. 'graphics'\n",
              "5. 'grDevices'\n",
              "6. 'utils'\n",
              "7. 'datasets'\n",
              "8. 'methods'\n",
              "9. 'base'\n",
              "\n",
              "\n",
              "\n",
              "3. 1. 'rpart'\n",
              "2. 'data.table'\n",
              "3. 'stats'\n",
              "4. 'graphics'\n",
              "5. 'grDevices'\n",
              "6. 'utils'\n",
              "7. 'datasets'\n",
              "8. 'methods'\n",
              "9. 'base'\n",
              "\n",
              "\n",
              "\n",
              "4. 1. 'rpart'\n",
              "2. 'data.table'\n",
              "3. 'stats'\n",
              "4. 'graphics'\n",
              "5. 'grDevices'\n",
              "6. 'utils'\n",
              "7. 'datasets'\n",
              "8. 'methods'\n",
              "9. 'base'\n",
              "\n",
              "\n",
              "\n",
              "5. 1. 'rpart'\n",
              "2. 'data.table'\n",
              "3. 'stats'\n",
              "4. 'graphics'\n",
              "5. 'grDevices'\n",
              "6. 'utils'\n",
              "7. 'datasets'\n",
              "8. 'methods'\n",
              "9. 'base'\n",
              "\n",
              "\n",
              "\n",
              "6. 1. 'rpart'\n",
              "2. 'data.table'\n",
              "3. 'stats'\n",
              "4. 'graphics'\n",
              "5. 'grDevices'\n",
              "6. 'utils'\n",
              "7. 'datasets'\n",
              "8. 'methods'\n",
              "9. 'base'\n",
              "\n",
              "\n",
              "\n",
              "7. 1. 'rpart'\n",
              "2. 'data.table'\n",
              "3. 'stats'\n",
              "4. 'graphics'\n",
              "5. 'grDevices'\n",
              "6. 'utils'\n",
              "7. 'datasets'\n",
              "8. 'methods'\n",
              "9. 'base'\n",
              "\n",
              "\n",
              "\n",
              "8. 1. 'rpart'\n",
              "2. 'data.table'\n",
              "3. 'stats'\n",
              "4. 'graphics'\n",
              "5. 'grDevices'\n",
              "6. 'utils'\n",
              "7. 'datasets'\n",
              "8. 'methods'\n",
              "9. 'base'\n",
              "\n",
              "\n",
              "\n",
              "9. 1. 'rpart'\n",
              "2. 'data.table'\n",
              "3. 'stats'\n",
              "4. 'graphics'\n",
              "5. 'grDevices'\n",
              "6. 'utils'\n",
              "7. 'datasets'\n",
              "8. 'methods'\n",
              "9. 'base'\n",
              "\n",
              "\n",
              "\n",
              "10. 1. 'rpart'\n",
              "2. 'data.table'\n",
              "3. 'stats'\n",
              "4. 'graphics'\n",
              "5. 'grDevices'\n",
              "6. 'utils'\n",
              "7. 'datasets'\n",
              "8. 'methods'\n",
              "9. 'base'\n",
              "\n",
              "\n",
              "\n",
              "11. 1. 'rpart'\n",
              "2. 'data.table'\n",
              "3. 'stats'\n",
              "4. 'graphics'\n",
              "5. 'grDevices'\n",
              "6. 'utils'\n",
              "7. 'datasets'\n",
              "8. 'methods'\n",
              "9. 'base'\n",
              "\n",
              "\n",
              "\n",
              "12. 1. 'rpart'\n",
              "2. 'data.table'\n",
              "3. 'stats'\n",
              "4. 'graphics'\n",
              "5. 'grDevices'\n",
              "6. 'utils'\n",
              "7. 'datasets'\n",
              "8. 'methods'\n",
              "9. 'base'\n",
              "\n",
              "\n",
              "\n",
              "13. 1. 'rpart'\n",
              "2. 'data.table'\n",
              "3. 'stats'\n",
              "4. 'graphics'\n",
              "5. 'grDevices'\n",
              "6. 'utils'\n",
              "7. 'datasets'\n",
              "8. 'methods'\n",
              "9. 'base'\n",
              "\n",
              "\n",
              "\n",
              "14. 1. 'rpart'\n",
              "2. 'data.table'\n",
              "3. 'stats'\n",
              "4. 'graphics'\n",
              "5. 'grDevices'\n",
              "6. 'utils'\n",
              "7. 'datasets'\n",
              "8. 'methods'\n",
              "9. 'base'\n",
              "\n",
              "\n",
              "\n",
              "15. 1. 'rpart'\n",
              "2. 'data.table'\n",
              "3. 'stats'\n",
              "4. 'graphics'\n",
              "5. 'grDevices'\n",
              "6. 'utils'\n",
              "7. 'datasets'\n",
              "8. 'methods'\n",
              "9. 'base'\n",
              "\n",
              "\n",
              "\n",
              "\n",
              "\n"
            ],
            "text/plain": [
              "[[1]]\n",
              "[1] \"rpart\"      \"data.table\" \"stats\"      \"graphics\"   \"grDevices\" \n",
              "[6] \"utils\"      \"datasets\"   \"methods\"    \"base\"      \n",
              "\n",
              "[[2]]\n",
              "[1] \"rpart\"      \"data.table\" \"stats\"      \"graphics\"   \"grDevices\" \n",
              "[6] \"utils\"      \"datasets\"   \"methods\"    \"base\"      \n",
              "\n",
              "[[3]]\n",
              "[1] \"rpart\"      \"data.table\" \"stats\"      \"graphics\"   \"grDevices\" \n",
              "[6] \"utils\"      \"datasets\"   \"methods\"    \"base\"      \n",
              "\n",
              "[[4]]\n",
              "[1] \"rpart\"      \"data.table\" \"stats\"      \"graphics\"   \"grDevices\" \n",
              "[6] \"utils\"      \"datasets\"   \"methods\"    \"base\"      \n",
              "\n",
              "[[5]]\n",
              "[1] \"rpart\"      \"data.table\" \"stats\"      \"graphics\"   \"grDevices\" \n",
              "[6] \"utils\"      \"datasets\"   \"methods\"    \"base\"      \n",
              "\n",
              "[[6]]\n",
              "[1] \"rpart\"      \"data.table\" \"stats\"      \"graphics\"   \"grDevices\" \n",
              "[6] \"utils\"      \"datasets\"   \"methods\"    \"base\"      \n",
              "\n",
              "[[7]]\n",
              "[1] \"rpart\"      \"data.table\" \"stats\"      \"graphics\"   \"grDevices\" \n",
              "[6] \"utils\"      \"datasets\"   \"methods\"    \"base\"      \n",
              "\n",
              "[[8]]\n",
              "[1] \"rpart\"      \"data.table\" \"stats\"      \"graphics\"   \"grDevices\" \n",
              "[6] \"utils\"      \"datasets\"   \"methods\"    \"base\"      \n",
              "\n",
              "[[9]]\n",
              "[1] \"rpart\"      \"data.table\" \"stats\"      \"graphics\"   \"grDevices\" \n",
              "[6] \"utils\"      \"datasets\"   \"methods\"    \"base\"      \n",
              "\n",
              "[[10]]\n",
              "[1] \"rpart\"      \"data.table\" \"stats\"      \"graphics\"   \"grDevices\" \n",
              "[6] \"utils\"      \"datasets\"   \"methods\"    \"base\"      \n",
              "\n",
              "[[11]]\n",
              "[1] \"rpart\"      \"data.table\" \"stats\"      \"graphics\"   \"grDevices\" \n",
              "[6] \"utils\"      \"datasets\"   \"methods\"    \"base\"      \n",
              "\n",
              "[[12]]\n",
              "[1] \"rpart\"      \"data.table\" \"stats\"      \"graphics\"   \"grDevices\" \n",
              "[6] \"utils\"      \"datasets\"   \"methods\"    \"base\"      \n",
              "\n",
              "[[13]]\n",
              "[1] \"rpart\"      \"data.table\" \"stats\"      \"graphics\"   \"grDevices\" \n",
              "[6] \"utils\"      \"datasets\"   \"methods\"    \"base\"      \n",
              "\n",
              "[[14]]\n",
              "[1] \"rpart\"      \"data.table\" \"stats\"      \"graphics\"   \"grDevices\" \n",
              "[6] \"utils\"      \"datasets\"   \"methods\"    \"base\"      \n",
              "\n",
              "[[15]]\n",
              "[1] \"rpart\"      \"data.table\" \"stats\"      \"graphics\"   \"grDevices\" \n",
              "[6] \"utils\"      \"datasets\"   \"methods\"    \"base\"      \n"
            ]
          },
          "metadata": {},
          "output_type": "display_data"
        },
        {
          "data": {
            "text/plain": [
              "[1] \"2025-08-27 20:18:43 -03\""
            ]
          },
          "metadata": {},
          "output_type": "display_data"
        }
      ],
      "source": [
        "# Versión paralelizable en Windows\n",
        "# Cargar librería necesaria\n",
        "library(parallel)\n",
        "\n",
        "# Función modificada para trabajar con copia local del dataset\n",
        "DosArbolesEstimarGanancia_parallel <- function(semilla, training_pct, param_rpart1, param_rpart2, dataset_original) {\n",
        "  \n",
        "  # Crear copia local para evitar conflictos entre workers\n",
        "  dataset <- copy(dataset_original)\n",
        "  \n",
        "  # fuerzo impresion\n",
        "  print(paste(semilla, Sys.time()))\n",
        "  flush.console()\n",
        "\n",
        "  # particiono estratificadamente el dataset\n",
        "  particionar(dataset,\n",
        "    division = c(training_pct, 100L - training_pct),\n",
        "    agrupa = \"clase_ternaria\",\n",
        "    seed = semilla\n",
        "  )\n",
        "\n",
        "  # genero el modelo 1\n",
        "  modelo1 <- rpart(\"clase_ternaria ~ .\",\n",
        "    data = dataset[fold == 1],\n",
        "    xval = 0,\n",
        "    control = param_rpart1\n",
        "  )\n",
        "\n",
        "  # aplico el modelo a los datos de testing\n",
        "  prediccion1 <- predict(modelo1,\n",
        "    dataset[fold == 2],\n",
        "    type = \"prob\"\n",
        "  )\n",
        "\n",
        "  # calculo la ganancia en testing\n",
        "  ganancia_test1 <- dataset[\n",
        "    fold == 2,\n",
        "    sum(ifelse(prediccion1[, \"BAJA+2\"] > 0.025,\n",
        "      ifelse(clase_ternaria == \"BAJA+2\", 780000, -20000),\n",
        "      0\n",
        "    ))\n",
        "  ]\n",
        "\n",
        "  # escalo la ganancia como si fuera todo el dataset\n",
        "  ganancia_test_normalizada1 <- ganancia_test1 / ((100 - training_pct) / 100)\n",
        "\n",
        "  # genero el modelo 2\n",
        "  modelo2 <- rpart(\"clase_ternaria ~ .\",\n",
        "    data = dataset[fold == 1],\n",
        "    xval = 0,\n",
        "    control = param_rpart2\n",
        "  )\n",
        "\n",
        "  # aplico el modelo a los datos de testing\n",
        "  prediccion2 <- predict(modelo2,\n",
        "    dataset[fold == 2],\n",
        "    type = \"prob\"\n",
        "  )\n",
        "\n",
        "  # calculo la ganancia en testing\n",
        "  ganancia_test2 <- dataset[\n",
        "    fold == 2,\n",
        "    sum(ifelse(prediccion2[, \"BAJA+2\"] > 0.025,\n",
        "      ifelse(clase_ternaria == \"BAJA+2\", 780000, -20000),\n",
        "      0\n",
        "    ))\n",
        "  ]\n",
        "\n",
        "  # escalo la ganancia como si fuera todo el dataset\n",
        "  ganancia_test_normalizada2 <- ganancia_test2 / ((100 - training_pct) / 100)\n",
        "\n",
        "  return(list(\n",
        "    \"semilla\" = semilla,\n",
        "    \"ganancia1\" = ganancia_test_normalizada1,\n",
        "    \"ganancia2\" = ganancia_test_normalizada2\n",
        "  ))\n",
        "}\n",
        "\n",
        "# EJECUCIÓN PARALELA PARA WINDOWS\n",
        "Sys.time()\n",
        "\n",
        "# Crear cluster (dejo un core libre para el sistema)\n",
        "num_cores <- max(1, detectCores() - 1)\n",
        "cl <- makeCluster(num_cores)\n",
        "\n",
        "# Exportar funciones y datos necesarios a todos los workers\n",
        "clusterExport(cl, c(\n",
        "  \"particionar\", \n",
        "  \"DosArbolesEstimarGanancia_parallel\", \n",
        "  \"dataset\", \n",
        "  \"PARAM\"\n",
        "))\n",
        "\n",
        "# Cargar las librerías necesarias en cada worker\n",
        "clusterEvalQ(cl, {\n",
        "  library(data.table)\n",
        "  library(rpart)\n",
        "})\n",
        "\n",
        "# Ejecutar en paralelo\n",
        "salidas <- parLapply(cl, PARAM$semillas, function(semilla) {\n",
        "  DosArbolesEstimarGanancia_parallel(\n",
        "    semilla = semilla,\n",
        "    training_pct = PARAM$training_pct,\n",
        "    param_rpart1 = PARAM$rpart1,\n",
        "    param_rpart2 = PARAM$rpart2,\n",
        "    dataset_original = dataset\n",
        "  )\n",
        "})\n",
        "\n",
        "# IMPORTANTE: Cerrar el cluster para liberar recursos\n",
        "stopCluster(cl)\n",
        "\n",
        "Sys.time()"
      ]
    },
    {
      "cell_type": "code",
      "execution_count": 76,
      "metadata": {
        "id": "N0eS1CFFdsE5",
        "vscode": {
          "languageId": "r"
        }
      },
      "outputs": [
        {
          "data": {
            "text/html": [
              "<table class=\"dataframe\">\n",
              "<caption>A data.table: 50 × 3</caption>\n",
              "<thead>\n",
              "\t<tr><th scope=col>semilla</th><th scope=col>ganancia1</th><th scope=col>ganancia2</th></tr>\n",
              "\t<tr><th scope=col>&lt;int&gt;</th><th scope=col>&lt;dbl&gt;</th><th scope=col>&lt;dbl&gt;</th></tr>\n",
              "</thead>\n",
              "<tbody>\n",
              "\t<tr><td>590819</td><td>302600000</td><td>272800000</td></tr>\n",
              "\t<tr><td>526937</td><td>263666667</td><td>262866667</td></tr>\n",
              "\t<tr><td>753937</td><td>296466667</td><td>284733333</td></tr>\n",
              "\t<tr><td>101173</td><td>273933333</td><td>277133333</td></tr>\n",
              "\t<tr><td>715727</td><td>279400000</td><td>252266667</td></tr>\n",
              "\t<tr><td>522959</td><td>295800000</td><td>313866667</td></tr>\n",
              "\t<tr><td>975883</td><td>304800000</td><td>269400000</td></tr>\n",
              "\t<tr><td>703657</td><td>244933333</td><td>224600000</td></tr>\n",
              "\t<tr><td>631469</td><td>257800000</td><td>266933333</td></tr>\n",
              "\t<tr><td>662617</td><td>322933333</td><td>292200000</td></tr>\n",
              "\t<tr><td>552031</td><td>294333333</td><td>307800000</td></tr>\n",
              "\t<tr><td>195281</td><td>295866667</td><td>312333333</td></tr>\n",
              "\t<tr><td>326999</td><td>323733333</td><td>330000000</td></tr>\n",
              "\t<tr><td>452269</td><td>272066667</td><td>247066667</td></tr>\n",
              "\t<tr><td>576221</td><td>323733333</td><td>278200000</td></tr>\n",
              "\t<tr><td>293729</td><td>274400000</td><td>278466667</td></tr>\n",
              "\t<tr><td>658079</td><td>299800000</td><td>327266667</td></tr>\n",
              "\t<tr><td>341461</td><td>291000000</td><td>309400000</td></tr>\n",
              "\t<tr><td>193873</td><td>295466667</td><td>301200000</td></tr>\n",
              "\t<tr><td>961139</td><td>266400000</td><td>279533333</td></tr>\n",
              "\t<tr><td>754513</td><td>300066667</td><td>319933333</td></tr>\n",
              "\t<tr><td>856759</td><td>283733333</td><td>288400000</td></tr>\n",
              "\t<tr><td>402307</td><td>291466667</td><td>281000000</td></tr>\n",
              "\t<tr><td>706417</td><td>317266667</td><td>315200000</td></tr>\n",
              "\t<tr><td>586457</td><td>268666667</td><td>268866667</td></tr>\n",
              "\t<tr><td>260461</td><td>274200000</td><td>302466667</td></tr>\n",
              "\t<tr><td>808373</td><td>284666667</td><td>285666667</td></tr>\n",
              "\t<tr><td>986933</td><td>269266667</td><td>289333333</td></tr>\n",
              "\t<tr><td>251879</td><td>317600000</td><td>325333333</td></tr>\n",
              "\t<tr><td>829453</td><td>329066667</td><td>288200000</td></tr>\n",
              "\t<tr><td>208189</td><td>304333333</td><td>314400000</td></tr>\n",
              "\t<tr><td>690721</td><td>278800000</td><td>272866667</td></tr>\n",
              "\t<tr><td>658117</td><td>273866667</td><td>283533333</td></tr>\n",
              "\t<tr><td>885509</td><td>249733333</td><td>247666667</td></tr>\n",
              "\t<tr><td>816019</td><td>327733333</td><td>310466667</td></tr>\n",
              "\t<tr><td>526739</td><td>297066667</td><td>321933333</td></tr>\n",
              "\t<tr><td>236471</td><td>304066667</td><td>280200000</td></tr>\n",
              "\t<tr><td>147089</td><td>285200000</td><td>273200000</td></tr>\n",
              "\t<tr><td>550607</td><td>300933333</td><td>297666667</td></tr>\n",
              "\t<tr><td>249863</td><td>298733333</td><td>304600000</td></tr>\n",
              "\t<tr><td>398369</td><td>270266667</td><td>269000000</td></tr>\n",
              "\t<tr><td>866857</td><td>284333333</td><td>278666667</td></tr>\n",
              "\t<tr><td>864781</td><td>293933333</td><td>306200000</td></tr>\n",
              "\t<tr><td>518831</td><td>309400000</td><td>294733333</td></tr>\n",
              "\t<tr><td>170081</td><td>321000000</td><td>330933333</td></tr>\n",
              "\t<tr><td>111653</td><td>284400000</td><td>293200000</td></tr>\n",
              "\t<tr><td>157627</td><td>283933333</td><td>281466667</td></tr>\n",
              "\t<tr><td>381569</td><td>302733333</td><td>326666667</td></tr>\n",
              "\t<tr><td>674903</td><td>293200000</td><td>290466667</td></tr>\n",
              "\t<tr><td>858503</td><td>312066667</td><td>300266667</td></tr>\n",
              "</tbody>\n",
              "</table>\n"
            ],
            "text/latex": [
              "A data.table: 50 × 3\n",
              "\\begin{tabular}{lll}\n",
              " semilla & ganancia1 & ganancia2\\\\\n",
              " <int> & <dbl> & <dbl>\\\\\n",
              "\\hline\n",
              "\t 590819 & 302600000 & 272800000\\\\\n",
              "\t 526937 & 263666667 & 262866667\\\\\n",
              "\t 753937 & 296466667 & 284733333\\\\\n",
              "\t 101173 & 273933333 & 277133333\\\\\n",
              "\t 715727 & 279400000 & 252266667\\\\\n",
              "\t 522959 & 295800000 & 313866667\\\\\n",
              "\t 975883 & 304800000 & 269400000\\\\\n",
              "\t 703657 & 244933333 & 224600000\\\\\n",
              "\t 631469 & 257800000 & 266933333\\\\\n",
              "\t 662617 & 322933333 & 292200000\\\\\n",
              "\t 552031 & 294333333 & 307800000\\\\\n",
              "\t 195281 & 295866667 & 312333333\\\\\n",
              "\t 326999 & 323733333 & 330000000\\\\\n",
              "\t 452269 & 272066667 & 247066667\\\\\n",
              "\t 576221 & 323733333 & 278200000\\\\\n",
              "\t 293729 & 274400000 & 278466667\\\\\n",
              "\t 658079 & 299800000 & 327266667\\\\\n",
              "\t 341461 & 291000000 & 309400000\\\\\n",
              "\t 193873 & 295466667 & 301200000\\\\\n",
              "\t 961139 & 266400000 & 279533333\\\\\n",
              "\t 754513 & 300066667 & 319933333\\\\\n",
              "\t 856759 & 283733333 & 288400000\\\\\n",
              "\t 402307 & 291466667 & 281000000\\\\\n",
              "\t 706417 & 317266667 & 315200000\\\\\n",
              "\t 586457 & 268666667 & 268866667\\\\\n",
              "\t 260461 & 274200000 & 302466667\\\\\n",
              "\t 808373 & 284666667 & 285666667\\\\\n",
              "\t 986933 & 269266667 & 289333333\\\\\n",
              "\t 251879 & 317600000 & 325333333\\\\\n",
              "\t 829453 & 329066667 & 288200000\\\\\n",
              "\t 208189 & 304333333 & 314400000\\\\\n",
              "\t 690721 & 278800000 & 272866667\\\\\n",
              "\t 658117 & 273866667 & 283533333\\\\\n",
              "\t 885509 & 249733333 & 247666667\\\\\n",
              "\t 816019 & 327733333 & 310466667\\\\\n",
              "\t 526739 & 297066667 & 321933333\\\\\n",
              "\t 236471 & 304066667 & 280200000\\\\\n",
              "\t 147089 & 285200000 & 273200000\\\\\n",
              "\t 550607 & 300933333 & 297666667\\\\\n",
              "\t 249863 & 298733333 & 304600000\\\\\n",
              "\t 398369 & 270266667 & 269000000\\\\\n",
              "\t 866857 & 284333333 & 278666667\\\\\n",
              "\t 864781 & 293933333 & 306200000\\\\\n",
              "\t 518831 & 309400000 & 294733333\\\\\n",
              "\t 170081 & 321000000 & 330933333\\\\\n",
              "\t 111653 & 284400000 & 293200000\\\\\n",
              "\t 157627 & 283933333 & 281466667\\\\\n",
              "\t 381569 & 302733333 & 326666667\\\\\n",
              "\t 674903 & 293200000 & 290466667\\\\\n",
              "\t 858503 & 312066667 & 300266667\\\\\n",
              "\\end{tabular}\n"
            ],
            "text/markdown": [
              "\n",
              "A data.table: 50 × 3\n",
              "\n",
              "| semilla &lt;int&gt; | ganancia1 &lt;dbl&gt; | ganancia2 &lt;dbl&gt; |\n",
              "|---|---|---|\n",
              "| 590819 | 302600000 | 272800000 |\n",
              "| 526937 | 263666667 | 262866667 |\n",
              "| 753937 | 296466667 | 284733333 |\n",
              "| 101173 | 273933333 | 277133333 |\n",
              "| 715727 | 279400000 | 252266667 |\n",
              "| 522959 | 295800000 | 313866667 |\n",
              "| 975883 | 304800000 | 269400000 |\n",
              "| 703657 | 244933333 | 224600000 |\n",
              "| 631469 | 257800000 | 266933333 |\n",
              "| 662617 | 322933333 | 292200000 |\n",
              "| 552031 | 294333333 | 307800000 |\n",
              "| 195281 | 295866667 | 312333333 |\n",
              "| 326999 | 323733333 | 330000000 |\n",
              "| 452269 | 272066667 | 247066667 |\n",
              "| 576221 | 323733333 | 278200000 |\n",
              "| 293729 | 274400000 | 278466667 |\n",
              "| 658079 | 299800000 | 327266667 |\n",
              "| 341461 | 291000000 | 309400000 |\n",
              "| 193873 | 295466667 | 301200000 |\n",
              "| 961139 | 266400000 | 279533333 |\n",
              "| 754513 | 300066667 | 319933333 |\n",
              "| 856759 | 283733333 | 288400000 |\n",
              "| 402307 | 291466667 | 281000000 |\n",
              "| 706417 | 317266667 | 315200000 |\n",
              "| 586457 | 268666667 | 268866667 |\n",
              "| 260461 | 274200000 | 302466667 |\n",
              "| 808373 | 284666667 | 285666667 |\n",
              "| 986933 | 269266667 | 289333333 |\n",
              "| 251879 | 317600000 | 325333333 |\n",
              "| 829453 | 329066667 | 288200000 |\n",
              "| 208189 | 304333333 | 314400000 |\n",
              "| 690721 | 278800000 | 272866667 |\n",
              "| 658117 | 273866667 | 283533333 |\n",
              "| 885509 | 249733333 | 247666667 |\n",
              "| 816019 | 327733333 | 310466667 |\n",
              "| 526739 | 297066667 | 321933333 |\n",
              "| 236471 | 304066667 | 280200000 |\n",
              "| 147089 | 285200000 | 273200000 |\n",
              "| 550607 | 300933333 | 297666667 |\n",
              "| 249863 | 298733333 | 304600000 |\n",
              "| 398369 | 270266667 | 269000000 |\n",
              "| 866857 | 284333333 | 278666667 |\n",
              "| 864781 | 293933333 | 306200000 |\n",
              "| 518831 | 309400000 | 294733333 |\n",
              "| 170081 | 321000000 | 330933333 |\n",
              "| 111653 | 284400000 | 293200000 |\n",
              "| 157627 | 283933333 | 281466667 |\n",
              "| 381569 | 302733333 | 326666667 |\n",
              "| 674903 | 293200000 | 290466667 |\n",
              "| 858503 | 312066667 | 300266667 |\n",
              "\n"
            ],
            "text/plain": [
              "   semilla ganancia1 ganancia2\n",
              "1  590819  302600000 272800000\n",
              "2  526937  263666667 262866667\n",
              "3  753937  296466667 284733333\n",
              "4  101173  273933333 277133333\n",
              "5  715727  279400000 252266667\n",
              "6  522959  295800000 313866667\n",
              "7  975883  304800000 269400000\n",
              "8  703657  244933333 224600000\n",
              "9  631469  257800000 266933333\n",
              "10 662617  322933333 292200000\n",
              "11 552031  294333333 307800000\n",
              "12 195281  295866667 312333333\n",
              "13 326999  323733333 330000000\n",
              "14 452269  272066667 247066667\n",
              "15 576221  323733333 278200000\n",
              "16 293729  274400000 278466667\n",
              "17 658079  299800000 327266667\n",
              "18 341461  291000000 309400000\n",
              "19 193873  295466667 301200000\n",
              "20 961139  266400000 279533333\n",
              "21 754513  300066667 319933333\n",
              "22 856759  283733333 288400000\n",
              "23 402307  291466667 281000000\n",
              "24 706417  317266667 315200000\n",
              "25 586457  268666667 268866667\n",
              "26 260461  274200000 302466667\n",
              "27 808373  284666667 285666667\n",
              "28 986933  269266667 289333333\n",
              "29 251879  317600000 325333333\n",
              "30 829453  329066667 288200000\n",
              "31 208189  304333333 314400000\n",
              "32 690721  278800000 272866667\n",
              "33 658117  273866667 283533333\n",
              "34 885509  249733333 247666667\n",
              "35 816019  327733333 310466667\n",
              "36 526739  297066667 321933333\n",
              "37 236471  304066667 280200000\n",
              "38 147089  285200000 273200000\n",
              "39 550607  300933333 297666667\n",
              "40 249863  298733333 304600000\n",
              "41 398369  270266667 269000000\n",
              "42 866857  284333333 278666667\n",
              "43 864781  293933333 306200000\n",
              "44 518831  309400000 294733333\n",
              "45 170081  321000000 330933333\n",
              "46 111653  284400000 293200000\n",
              "47 157627  283933333 281466667\n",
              "48 381569  302733333 326666667\n",
              "49 674903  293200000 290466667\n",
              "50 858503  312066667 300266667"
            ]
          },
          "metadata": {},
          "output_type": "display_data"
        }
      ],
      "source": [
        "# paso la lista a vector\n",
        "tb_salida <- rbindlist(salidas)\n",
        "tb_salida"
      ]
    },
    {
      "cell_type": "code",
      "execution_count": 77,
      "metadata": {
        "id": "6vf28ujAdsE6",
        "vscode": {
          "languageId": "r"
        }
      },
      "outputs": [
        {
          "data": {
            "image/png": "[encoded data removed]",
            "text/plain": [
              "plot without title"
            ]
          },
          "metadata": {
            "image/png": {
              "height": 420,
              "width": 420
            }
          },
          "output_type": "display_data"
        }
      ],
      "source": [
        "grafico <- ggplot( tb_salida, aes(x=ganancia1), fill=\"green\", color=\"green\") + geom_density(alpha=0.25)  +\n",
        "             geom_density(data=tb_salida, aes(x=ganancia2), fill=\"purple\", color=\"purple\",  alpha=0.10)\n",
        "\n",
        "print(grafico)"
      ]
    },
    {
      "cell_type": "code",
      "execution_count": 78,
      "metadata": {
        "id": "TA9lLa6-dsE6",
        "vscode": {
          "languageId": "r"
        }
      },
      "outputs": [
        {
          "data": {
            "text/html": [
              "<strong>pdf:</strong> 2"
            ],
            "text/latex": [
              "\\textbf{pdf:} 2"
            ],
            "text/markdown": [
              "**pdf:** 2"
            ],
            "text/plain": [
              "pdf \n",
              "  2 "
            ]
          },
          "metadata": {},
          "output_type": "display_data"
        }
      ],
      "source": [
        "# imprimo en un .pdf  que va a la carpeta del experimento\n",
        "pdf(\"densidad_dos.pdf\")\n",
        "print(grafico)\n",
        "dev.off()"
      ]
    },
    {
      "cell_type": "code",
      "execution_count": 79,
      "metadata": {
        "id": "xAOpyZTqdsE7",
        "vscode": {
          "languageId": "r"
        }
      },
      "outputs": [
        {
          "name": "stdout",
          "output_type": "stream",
          "text": [
            "      arbol1    arbol2\n",
            "       <num>     <num>\n",
            "1: 291817333 290612000\n"
          ]
        }
      ],
      "source": [
        "# medias de las ganancias\n",
        "print( tb_salida[ , list( \"arbol1\" = mean( ganancia1),  \"arbol2\" = mean(ganancia2) ) ] )\n"
      ]
    },
    {
      "cell_type": "code",
      "execution_count": 80,
      "metadata": {
        "id": "8rdPIcfzgob7",
        "vscode": {
          "languageId": "r"
        }
      },
      "outputs": [
        {
          "name": "stdout",
          "output_type": "stream",
          "text": [
            "   prob( m1 > m2)\n",
            "            <num>\n",
            "1:           0.48\n"
          ]
        }
      ],
      "source": [
        "# probabilidad que m1 sea mayor a m2\n",
        "print( tb_salida[ , list( \"prob( m1 > m2)\" = sum(ganancia1 > ganancia2 )/ .N ) ]  )"
      ]
    },
    {
      "cell_type": "markdown",
      "metadata": {
        "id": "nNNJWYRadsE7"
      },
      "source": [
        "### Acciones a realizar\n",
        "* Reportar la  los resultados en la planilla colaborativa hoja  **C2-dosBuenos**\n"
      ]
    },
    {
      "cell_type": "markdown",
      "metadata": {
        "id": "LTBEq6SEdsE8"
      },
      "source": [
        "\n",
        "\n",
        "---\n",
        "\n"
      ]
    },
    {
      "cell_type": "markdown",
      "metadata": {
        "id": "ebcTZX7Sg1Le"
      },
      "source": []
    },
    {
      "cell_type": "markdown",
      "metadata": {
        "id": "RAtn4x6Bg1u1"
      },
      "source": [
        "# 7 Test de Wilcoxon\n",
        "## Clase 02  Experimento 7"
      ]
    },
    {
      "cell_type": "markdown",
      "metadata": {
        "id": "Gf0LF3ywhAEU"
      },
      "source": [
        "## 7.1  Objetivos\n",
        "\n",
        "¿Como calcular la cantidad mínima de semillas que hacen falta para tener cierta certeza que un modelo es superior a otro?"
      ]
    },
    {
      "cell_type": "markdown",
      "metadata": {
        "id": "k4PJGTDViZne"
      },
      "source": [
        "## 7.2  Introduccion\n",
        "\n",
        "| Hiperparámetro | Arbol 1 | Arbol 2 |\n",
        "| --- | --: |  ---: |\n",
        "| cp | -1 | -1 |\n",
        "|minsplit | 170 | 250 |\n",
        "|minbucket | 70 | 125 |\n",
        "|maxdepth | 7 | 20 |\n",
        "\n",
        "<br>\n",
        "<br>\n",
        "\n",
        "\n",
        "| ordinal | semilla | ganancia1 | ganancia2 | p-value |\n",
        "| --- | --- |  --- |  --- |  --- |\n",
        "| 1 |378821 | 301,800,000 | 252,666,667 | 1.000 |\n",
        "| 2 | 964333  | 314,800,000  | 224,266,667 | 0.500 |\n",
        "| 3 | 187049 | 326,600,000 | 278,000,000 | 0.250 |\n",
        "| 4 | 205151 | 299,733,333 | 235,266,667 | 0.125 |\n",
        "| 5 | 813697 | 275,333,333 | 205,600,000 |  0.063 |\n",
        "| 6 | 344719 | 290,800,000 | 251,533,333 | 0.031 |\n",
        "|7 |127217  | 268,200,000 | 219,800,000 |0.016 |\n",
        "| 8 | 464371 | 271,866,667 | 270,800,000 | 0.008 |\n",
        "| 9 | 645137 | 252,400,000| 261,733,333 | 0.004|\n",
        "\n",
        "\n"
      ]
    },
    {
      "cell_type": "markdown",
      "metadata": {
        "id": "gAeSRdWRhg61"
      },
      "source": [
        "## 7.3 Codigo Test de Wilcoxon"
      ]
    },
    {
      "cell_type": "code",
      "execution_count": 81,
      "metadata": {
        "id": "6r5M0J0HdsE8",
        "vscode": {
          "languageId": "r"
        }
      },
      "outputs": [
        {
          "data": {
            "text/plain": [
              "\n",
              "\tWilcoxon signed rank exact test\n",
              "\n",
              "data:  c(301800000) and c(252666667)\n",
              "V = 1, p-value = 1\n",
              "alternative hypothesis: true location shift is not equal to 0\n"
            ]
          },
          "metadata": {},
          "output_type": "display_data"
        }
      ],
      "source": [
        "# 1 sola ganancia\n",
        "wilcox.test(\n",
        "  c(301800000),\n",
        "  c(252666667),\n",
        "  paired = TRUE\n",
        ")\n"
      ]
    },
    {
      "cell_type": "code",
      "execution_count": 82,
      "metadata": {
        "id": "1pscqL9vLzYE",
        "vscode": {
          "languageId": "r"
        }
      },
      "outputs": [
        {
          "data": {
            "text/plain": [
              "\n",
              "\tWilcoxon signed rank exact test\n",
              "\n",
              "data:  c(301800000, 314800000) and c(252666667, 224266667)\n",
              "V = 3, p-value = 0.5\n",
              "alternative hypothesis: true location shift is not equal to 0\n"
            ]
          },
          "metadata": {},
          "output_type": "display_data"
        }
      ],
      "source": [
        "# 2 ganancias\n",
        "wilcox.test(\n",
        "  c(301800000, 314800000),\n",
        "  c(252666667, 224266667),\n",
        "  paired = TRUE\n",
        ")\n"
      ]
    },
    {
      "cell_type": "code",
      "execution_count": 83,
      "metadata": {
        "id": "p3f_mtKwhSHA",
        "vscode": {
          "languageId": "r"
        }
      },
      "outputs": [
        {
          "data": {
            "text/plain": [
              "\n",
              "\tWilcoxon signed rank exact test\n",
              "\n",
              "data:  c(301800000, 314800000, 326600000) and c(252666667, 224266667, 2.78e+08)\n",
              "V = 6, p-value = 0.25\n",
              "alternative hypothesis: true location shift is not equal to 0\n"
            ]
          },
          "metadata": {},
          "output_type": "display_data"
        }
      ],
      "source": [
        "# 3 ganancias\n",
        "wilcox.test(\n",
        "  c(301800000, 314800000, 326600000),\n",
        "  c(252666667, 224266667, 278000000),\n",
        "  paired = TRUE\n",
        ")"
      ]
    },
    {
      "cell_type": "code",
      "execution_count": 84,
      "metadata": {
        "id": "-ijX69r9hT6Z",
        "vscode": {
          "languageId": "r"
        }
      },
      "outputs": [
        {
          "data": {
            "text/plain": [
              "\n",
              "\tWilcoxon signed rank exact test\n",
              "\n",
              "data:  c(301800000, 314800000, 326600000, 299733333) and c(252666667, 224266667, 2.78e+08, 235266667)\n",
              "V = 10, p-value = 0.125\n",
              "alternative hypothesis: true location shift is not equal to 0\n"
            ]
          },
          "metadata": {},
          "output_type": "display_data"
        }
      ],
      "source": [
        "# 4 ganancias\n",
        "wilcox.test(\n",
        "  c(301800000, 314800000, 326600000, 299733333),\n",
        "  c(252666667, 224266667, 278000000, 235266667),\n",
        "  paired = TRUE\n",
        ")\n"
      ]
    },
    {
      "cell_type": "code",
      "execution_count": 85,
      "metadata": {
        "id": "X9J_CHGehVfr",
        "vscode": {
          "languageId": "r"
        }
      },
      "outputs": [
        {
          "data": {
            "text/plain": [
              "\n",
              "\tWilcoxon signed rank exact test\n",
              "\n",
              "data:  c(301800000, 314800000, 326600000, 299733333, 275333333) and c(252666667, 224266667, 2.78e+08, 235266667, 205600000)\n",
              "V = 15, p-value = 0.0625\n",
              "alternative hypothesis: true location shift is not equal to 0\n"
            ]
          },
          "metadata": {},
          "output_type": "display_data"
        }
      ],
      "source": [
        "# 5 ganancias\n",
        "wilcox.test(\n",
        "  c(301800000, 314800000, 326600000, 299733333, 275333333),\n",
        "  c(252666667, 224266667, 278000000, 235266667, 205600000),\n",
        "  paired = TRUE\n",
        ")"
      ]
    },
    {
      "cell_type": "code",
      "execution_count": 86,
      "metadata": {
        "id": "H3CNNonOhXp0",
        "vscode": {
          "languageId": "r"
        }
      },
      "outputs": [
        {
          "data": {
            "text/plain": [
              "\n",
              "\tWilcoxon signed rank exact test\n",
              "\n",
              "data:  c(301800000, 314800000, 326600000, 299733333, 275333333, 290800000) and c(252666667, 224266667, 2.78e+08, 235266667, 205600000, 251533333)\n",
              "V = 21, p-value = 0.03125\n",
              "alternative hypothesis: true location shift is not equal to 0\n"
            ]
          },
          "metadata": {},
          "output_type": "display_data"
        }
      ],
      "source": [
        "# 6 ganancias\n",
        "wilcox.test(\n",
        "  c(301800000, 314800000, 326600000, 299733333, 275333333, 290800000),\n",
        "  c(252666667, 224266667, 278000000, 235266667, 205600000, 251533333),\n",
        "  paired = TRUE\n",
        ")"
      ]
    },
    {
      "cell_type": "code",
      "execution_count": 87,
      "metadata": {
        "id": "NTW8kwY8hamz",
        "vscode": {
          "languageId": "r"
        }
      },
      "outputs": [
        {
          "data": {
            "text/plain": [
              "\n",
              "\tWilcoxon signed rank exact test\n",
              "\n",
              "data:  c(301800000, 314800000, 326600000, 299733333, 275333333, 290800000, 268200000) and c(252666667, 224266667, 2.78e+08, 235266667, 205600000, 251533333, 219800000)\n",
              "V = 28, p-value = 0.01563\n",
              "alternative hypothesis: true location shift is not equal to 0\n"
            ]
          },
          "metadata": {},
          "output_type": "display_data"
        }
      ],
      "source": [
        "# Finalmente el p-value es  0.03125  < 0.05\n",
        "# hicieron falta  SEIS semillas, seis ganancias, para\n",
        "#   afirmar que el modelo 1 es superior al modelo 2\n",
        "\n",
        "# 7 ganancias\n",
        "wilcox.test(\n",
        "  c(301800000, 314800000, 326600000, 299733333, 275333333, 290800000, 268200000),\n",
        "  c(252666667, 224266667, 278000000, 235266667, 205600000, 251533333, 219800000),\n",
        "  paired = TRUE\n",
        ")\n"
      ]
    },
    {
      "cell_type": "code",
      "execution_count": 88,
      "metadata": {
        "id": "Xks918w8hcgC",
        "vscode": {
          "languageId": "r"
        }
      },
      "outputs": [
        {
          "data": {
            "text/plain": [
              "\n",
              "\tWilcoxon signed rank exact test\n",
              "\n",
              "data:  c(301800000, 314800000, 326600000, 299733333, 275333333, 290800000, 268200000, 271866667) and c(252666667, 224266667, 2.78e+08, 235266667, 205600000, 251533333, 219800000, 270800000)\n",
              "V = 36, p-value = 0.007813\n",
              "alternative hypothesis: true location shift is not equal to 0\n"
            ]
          },
          "metadata": {},
          "output_type": "display_data"
        }
      ],
      "source": [
        "# 8 ganancias\n",
        "wilcox.test(\n",
        "  c(301800000, 314800000, 326600000, 299733333, 275333333, 290800000, 268200000, 271866667),\n",
        "  c(252666667, 224266667, 278000000, 235266667, 205600000, 251533333, 219800000, 270800000),\n",
        "  paired = TRUE\n",
        ")\n"
      ]
    },
    {
      "cell_type": "code",
      "execution_count": 89,
      "metadata": {
        "id": "5x8L1PMGhdJR",
        "vscode": {
          "languageId": "r"
        }
      },
      "outputs": [
        {
          "data": {
            "text/plain": [
              "\n",
              "\tWilcoxon signed rank exact test\n",
              "\n",
              "data:  c(301800000, 314800000, 326600000, 299733333, 275333333, 290800000, 268200000, 271866667, 252400000) and c(252666667, 224266667, 2.78e+08, 235266667, 205600000, 251533333, 219800000, 270800000, 261733333)\n",
              "V = 43, p-value = 0.01172\n",
              "alternative hypothesis: true location shift is not equal to 0\n"
            ]
          },
          "metadata": {},
          "output_type": "display_data"
        }
      ],
      "source": [
        "# 9 ganancias\n",
        "wilcox.test(\n",
        "  c(301800000, 314800000, 326600000, 299733333, 275333333, 290800000, 268200000, 271866667, 252400000),\n",
        "  c(252666667, 224266667, 278000000, 235266667, 205600000, 251533333, 219800000, 270800000, 261733333),\n",
        "  paired = TRUE\n",
        ")"
      ]
    },
    {
      "cell_type": "markdown",
      "metadata": {
        "id": "Qjay2WBIkhNm"
      },
      "source": [
        "\n",
        "\n",
        "---\n",
        "\n"
      ]
    },
    {
      "cell_type": "markdown",
      "metadata": {
        "id": "g2aqxlCIk3fk"
      },
      "source": [
        "# 8 Comparando automaticamente modelos con test de Wilcoxon\n",
        "## Clase 02  Experimento 8"
      ]
    },
    {
      "cell_type": "markdown",
      "metadata": {
        "id": "a_ZVBKBHk3fx"
      },
      "source": [
        "## 8.1  Objetivos\n",
        "\n",
        "Proveer un script que permita comparar dos arboles de decisión con la librería rpart utilizando la menor cantidad de cómputo que permita el Test de Wilxcoxon"
      ]
    },
    {
      "cell_type": "markdown",
      "metadata": {
        "id": "qCd56L0Ik3fx"
      },
      "source": [
        "## 8.2  Introduccion\n",
        "\n",
        "| Hiperparámetro | Arbol 1 | Arbol 2 |\n",
        "| --- | --- |  --- |\n",
        "| cp | -1 | -1 |\n",
        "|minsplit | 1050 | 650 |\n",
        "|minbucket | 550 | 300 |\n",
        "|maxdepth |67 | 6 |\n",
        "\n",
        "\n"
      ]
    },
    {
      "cell_type": "markdown",
      "metadata": {
        "id": "NBtQsG3vk3fx"
      },
      "source": [
        "## 8.3 Codigo comparacion automatica Wilcoxon"
      ]
    },
    {
      "cell_type": "markdown",
      "metadata": {
        "id": "-ARzDPORlpG6"
      },
      "source": [
        "Esta parte se debe correr con el runtime en lenguaje **R** Ir al menu, Runtime -> Change Runtime Tipe -> Runtime type -> R"
      ]
    },
    {
      "cell_type": "markdown",
      "metadata": {
        "id": "-Sy-sLMXlpHI"
      },
      "source": [
        "limpio el ambiente de R"
      ]
    },
    {
      "cell_type": "code",
      "execution_count": 90,
      "metadata": {
        "id": "ZpST7lcHlpHI",
        "vscode": {
          "languageId": "r"
        }
      },
      "outputs": [
        {
          "data": {
            "text/html": [
              "<table class=\"dataframe\">\n",
              "<caption>A matrix: 2 × 6 of type dbl</caption>\n",
              "<thead>\n",
              "\t<tr><th></th><th scope=col>used</th><th scope=col>(Mb)</th><th scope=col>gc trigger</th><th scope=col>(Mb)</th><th scope=col>max used</th><th scope=col>(Mb)</th></tr>\n",
              "</thead>\n",
              "<tbody>\n",
              "\t<tr><th scope=row>Ncells</th><td> 1353403</td><td> 72.3</td><td>  2238977</td><td> 119.6</td><td>  2238977</td><td> 119.6</td></tr>\n",
              "\t<tr><th scope=row>Vcells</th><td>40036525</td><td>305.5</td><td>448893968</td><td>3424.8</td><td>986718250</td><td>7528.1</td></tr>\n",
              "</tbody>\n",
              "</table>\n"
            ],
            "text/latex": [
              "A matrix: 2 × 6 of type dbl\n",
              "\\begin{tabular}{r|llllll}\n",
              "  & used & (Mb) & gc trigger & (Mb) & max used & (Mb)\\\\\n",
              "\\hline\n",
              "\tNcells &  1353403 &  72.3 &   2238977 &  119.6 &   2238977 &  119.6\\\\\n",
              "\tVcells & 40036525 & 305.5 & 448893968 & 3424.8 & 986718250 & 7528.1\\\\\n",
              "\\end{tabular}\n"
            ],
            "text/markdown": [
              "\n",
              "A matrix: 2 × 6 of type dbl\n",
              "\n",
              "| <!--/--> | used | (Mb) | gc trigger | (Mb) | max used | (Mb) |\n",
              "|---|---|---|---|---|---|---|\n",
              "| Ncells |  1353403 |  72.3 |   2238977 |  119.6 |   2238977 |  119.6 |\n",
              "| Vcells | 40036525 | 305.5 | 448893968 | 3424.8 | 986718250 | 7528.1 |\n",
              "\n"
            ],
            "text/plain": [
              "       used     (Mb)  gc trigger (Mb)   max used  (Mb)  \n",
              "Ncells  1353403  72.3   2238977   119.6   2238977  119.6\n",
              "Vcells 40036525 305.5 448893968  3424.8 986718250 7528.1"
            ]
          },
          "metadata": {},
          "output_type": "display_data"
        }
      ],
      "source": [
        "# limpio la memoria\n",
        "rm(list=ls(all.names=TRUE)) # remove all objects\n",
        "gc(full=TRUE, verbose=FALSE) # garbage collection"
      ]
    },
    {
      "cell_type": "markdown",
      "metadata": {
        "id": "jHhAx3cvlpHJ"
      },
      "source": [
        "* Instalacion de la libreria  rpart.plot  para dibujar el arbol\n",
        "* invocacion de las librerias  **data.table** y  **rpart**"
      ]
    },
    {
      "cell_type": "code",
      "execution_count": 91,
      "metadata": {
        "id": "cbPnXeeqlpHJ",
        "vscode": {
          "languageId": "r"
        }
      },
      "outputs": [],
      "source": [
        "# cargo las librerias que necesito\n",
        "require(\"data.table\")\n",
        "require(\"rpart\")\n",
        "require(\"parallel\")\n",
        "\n",
        "if(!require(\"R.utils\")) install.packages(\"R.utils\")\n",
        "require(\"R.utils\")\n",
        "\n",
        "if (!require(\"primes\")) install.packages(\"primes\")\n",
        "require(\"primes\")\n",
        "\n",
        "require(\"ggplot2\")"
      ]
    },
    {
      "cell_type": "markdown",
      "metadata": {
        "id": "_GQk_NEUlpHK"
      },
      "source": [
        "###  Accion a Realizar\n",
        "PARAM$semilla_primigenia  debe reemplazarse por SU primer semilla"
      ]
    },
    {
      "cell_type": "code",
      "execution_count": 92,
      "metadata": {
        "id": "Do801PIHlpHK",
        "vscode": {
          "languageId": "r"
        }
      },
      "outputs": [],
      "source": [
        "PARAM <- list()\n",
        "PARAM$semilla_primigenia <- 200003\n",
        "PARAM$qsemillas_tope <- 50\n",
        "PARAM$training_pct <- 70L     # entre 1 y 100\n"
      ]
    },
    {
      "cell_type": "code",
      "execution_count": 93,
      "metadata": {
        "id": "KlC7gTc7lpHK",
        "vscode": {
          "languageId": "r"
        }
      },
      "outputs": [],
      "source": [
        "# los dos arboles\n",
        "PARAM$rpart1 <- list (\n",
        "  \"cp\" = -1,\n",
        "  \"minsplit\" = 800,\n",
        "  \"minbucket\" = 400,\n",
        "  \"maxdepth\" = 7\n",
        ")\n",
        "\n",
        "\n",
        "PARAM$rpart2 <- list (\n",
        "  \"cp\" = -1,\n",
        "  \"minsplit\" = 650,\n",
        "  \"minbucket\" = 300,\n",
        "  \"maxdepth\" = 6\n",
        ")\n"
      ]
    },
    {
      "cell_type": "code",
      "execution_count": 94,
      "metadata": {
        "id": "I7hOkZrxlpHL",
        "vscode": {
          "languageId": "r"
        }
      },
      "outputs": [],
      "source": [
        "# particionar agrega una columna llamada fold a un dataset\n",
        "#  que consiste en una particion estratificada segun agrupa\n",
        "\n",
        "# particionar( data=dataset, division=c(70,30),\n",
        "#  agrupa=clase_ternaria, seed=semilla)   crea una particion 70, 30\n",
        "\n",
        "particionar <- function(\n",
        "    data, division, agrupa = \"\",\n",
        "    campo = \"fold\", start = 1, seed = NA) {\n",
        "  if (!is.na(seed)) set.seed(seed)\n",
        "\n",
        "  bloque <- unlist(mapply(function(x, y) {\n",
        "    rep(y, x)\n",
        "  }, division, seq(from = start, length.out = length(division))))\n",
        "\n",
        "  data[, (campo) := sample(rep(bloque, ceiling(.N / length(bloque))))[1:.N],\n",
        "    by = agrupa\n",
        "  ]\n",
        "}\n"
      ]
    },
    {
      "cell_type": "code",
      "execution_count": 95,
      "metadata": {
        "id": "vFpBSFBYlpHL",
        "vscode": {
          "languageId": "r"
        }
      },
      "outputs": [],
      "source": [
        "DosArbolesEstimarGanancia <- function(semilla, training_pct, param_rpart1, param_rpart2) {\n",
        "  # particiono estratificadamente el dataset\n",
        "  particionar(dataset,\n",
        "    division = c(training_pct, 100L -training_pct),\n",
        "    agrupa = \"clase_ternaria\",\n",
        "    seed = semilla # aqui se usa SU semilla\n",
        "  )\n",
        "\n",
        "  # genero el modelo\n",
        "  # predecir clase_ternaria a partir del resto\n",
        "  modelo1 <- rpart(\"clase_ternaria ~ .\",\n",
        "    data = dataset[fold == 1], # fold==1  es training,  el 70% de los datos\n",
        "    xval = 0,\n",
        "    control = param_rpart1\n",
        "  ) # aqui van los parametros del arbol\n",
        "\n",
        "  # aplico el modelo a los datos de testing\n",
        "  prediccion1 <- predict(modelo1, # el modelo que genere recien\n",
        "    dataset[fold == 2], # fold==2  es testing, el 30% de los datos\n",
        "    type = \"prob\"\n",
        "  ) # type= \"prob\"  es que devuelva la probabilidad\n",
        "\n",
        "\n",
        "  # calculo la ganancia en testing  qu es fold==2\n",
        "  ganancia_test1 <- dataset[\n",
        "    fold == 2,\n",
        "    sum(ifelse(prediccion1[, \"BAJA+2\"] > 0.025,\n",
        "      ifelse(clase_ternaria == \"BAJA+2\", 780000, -20000),\n",
        "      0\n",
        "    ))\n",
        "  ]\n",
        "\n",
        "  # escalo la ganancia como si fuera todo el dataset\n",
        "  ganancia_test_normalizada1 <- ganancia_test1 / (( 100 - training_pct ) / 100 )\n",
        "\n",
        "  modelo2 <- rpart(\"clase_ternaria ~ .\",\n",
        "    data = dataset[fold == 1], # fold==1  es training,  el 70% de los datos\n",
        "    xval = 0,\n",
        "    control = param_rpart2\n",
        "  ) # aqui van los parametros del arbol\n",
        "\n",
        "  # aplico el modelo a los datos de testing\n",
        "  prediccion2 <- predict(modelo2, # el modelo que genere recien\n",
        "    dataset[fold == 2], # fold==2  es testing, el 30% de los datos\n",
        "    type = \"prob\"\n",
        "  ) # type= \"prob\"  es que devuelva la probabilidad\n",
        "\n",
        "\n",
        "  # calculo la ganancia en testing  qu es fold==2\n",
        "  ganancia_test2 <- dataset[\n",
        "    fold == 2,\n",
        "    sum(ifelse(prediccion2[, \"BAJA+2\"] > 0.025,\n",
        "      ifelse(clase_ternaria == \"BAJA+2\", 780000, -20000),\n",
        "      0\n",
        "    ))\n",
        "  ]\n",
        "\n",
        "  # escalo la ganancia como si fuera todo el dataset\n",
        "  ganancia_test_normalizada2 <- ganancia_test2 / (( 100 - training_pct ) / 100 )\n",
        "\n",
        "  return(list(\n",
        "    \"semilla\" = semilla,\n",
        "    \"ganancia1\" = ganancia_test_normalizada1,\n",
        "    \"ganancia2\" = ganancia_test_normalizada2\n",
        "  ))\n",
        "}"
      ]
    },
    {
      "cell_type": "code",
      "execution_count": 96,
      "metadata": {
        "id": "Cp8RnA_NmE8g",
        "vscode": {
          "languageId": "r"
        }
      },
      "outputs": [],
      "source": [
        "# 1  ->  el modelo 1 es mejor\n",
        "# 2  ->  el modelo 2 es mejor\n",
        "# 0  ->  No se pudo determinar con el tope de qsemillas_tope\n",
        "\n",
        "\n",
        "MejorArbol <- function( qsemillas_tope, training_pct, param_rpart1, param_rpart2) {\n",
        "\n",
        "  # genero numeros primos\n",
        "  primos <- generate_primes(min = 100000, max = 1000000)\n",
        "  set.seed(PARAM$semilla_primigenia) # inicializo\n",
        "  # me quedo con PARAM$qsemillas   semillas\n",
        "  semillas <- sample(primos, qsemillas_tope )\n",
        "\n",
        "  pvalue <- 1.0\n",
        "  isem <- 1\n",
        "  vgan1 <- c() # almaceno ganancias del modelo1\n",
        "  vgan2 <- c() # almaceno ganancias del modelo2\n",
        "\n",
        "  while( (isem <= qsemillas_tope)  & (pvalue > 0.05) ) {\n",
        "\n",
        "    res <- DosArbolesEstimarGanancia(\n",
        "       semillas[ isem ],\n",
        "       training_pct,\n",
        "       param_rpart1,\n",
        "       param_rpart2\n",
        "    )\n",
        "\n",
        "    vgan1 <- c( vgan1, res$ganancia1 )\n",
        "    vgan2 <- c( vgan2, res$ganancia2 )\n",
        "\n",
        "    wt <- wilcox.test( vgan1, vgan2, paired=TRUE )\n",
        "    pvalue <- wt$p.value\n",
        "\n",
        "    cat( isem, res$ganancia1, res$ganancia2, pvalue, \"\\n\" )\n",
        "    flush.console()\n",
        "    isem <- isem + 1\n",
        "  }\n",
        "\n",
        "  out <- 0\n",
        "\n",
        "  if( pvalue < 0.05 & mean(vgan1) > mean(vgan2)  )  out <- 1\n",
        "  if( pvalue < 0.05 & mean(vgan1) < mean(vgan2)  )  out <- 2\n",
        "\n",
        "\n",
        "  return( list( \"out\" = out,\n",
        "    \"qsemillas\" = length(vgan1),\n",
        "    \"m1\" = mean( vgan1 ),\n",
        "    \"m2\" = mean( vgan2 )\n",
        "   ) )\n",
        "}\n"
      ]
    },
    {
      "cell_type": "code",
      "execution_count": null,
      "metadata": {
        "id": "r1motpfOlpHM",
        "vscode": {
          "languageId": "r"
        }
      },
      "outputs": [],
      "source": [
        "# carpeta de trabajo\n",
        "setwd(\"/content/buckets/b1/exp\")\n",
        "experimento <- \"exp0208\"\n",
        "dir.create(experimento, showWarnings=FALSE)\n",
        "setwd( paste0(\"/content/buckets/b1/exp/\", experimento ))"
      ]
    },
    {
      "cell_type": "code",
      "execution_count": 97,
      "metadata": {
        "id": "hT0LaKWumTSu",
        "vscode": {
          "languageId": "r"
        }
      },
      "outputs": [
        {
          "data": {
            "text/html": [
              "978439"
            ],
            "text/latex": [
              "978439"
            ],
            "text/markdown": [
              "978439"
            ],
            "text/plain": [
              "[1] 978439"
            ]
          },
          "metadata": {},
          "output_type": "display_data"
        }
      ],
      "source": [
        "# lectura del dataset\n",
        "#dataset <- fread(\"/content/datasets/competencia_01.csv.gz\")\n",
        "dataset <- fread(\"./competencia_01.csv.gz\")\n",
        "nrow(dataset)"
      ]
    },
    {
      "cell_type": "code",
      "execution_count": 98,
      "metadata": {
        "id": "h44RRyhymYR4",
        "vscode": {
          "languageId": "r"
        }
      },
      "outputs": [
        {
          "data": {
            "text/html": [
              "163418"
            ],
            "text/latex": [
              "163418"
            ],
            "text/markdown": [
              "163418"
            ],
            "text/plain": [
              "[1] 163418"
            ]
          },
          "metadata": {},
          "output_type": "display_data"
        },
        {
          "data": {
            "text/html": [
              "<table class=\"dataframe\">\n",
              "<caption>A data.table: 3 × 3</caption>\n",
              "<thead>\n",
              "\t<tr><th scope=col>foto_mes</th><th scope=col>clase_ternaria</th><th scope=col>N</th></tr>\n",
              "\t<tr><th scope=col>&lt;int&gt;</th><th scope=col>&lt;chr&gt;</th><th scope=col>&lt;int&gt;</th></tr>\n",
              "</thead>\n",
              "<tbody>\n",
              "\t<tr><td>202104</td><td>CONTINUA</td><td>161333</td></tr>\n",
              "\t<tr><td>202104</td><td>BAJA+1  </td><td>   955</td></tr>\n",
              "\t<tr><td>202104</td><td>BAJA+2  </td><td>  1130</td></tr>\n",
              "</tbody>\n",
              "</table>\n"
            ],
            "text/latex": [
              "A data.table: 3 × 3\n",
              "\\begin{tabular}{lll}\n",
              " foto\\_mes & clase\\_ternaria & N\\\\\n",
              " <int> & <chr> & <int>\\\\\n",
              "\\hline\n",
              "\t 202104 & CONTINUA & 161333\\\\\n",
              "\t 202104 & BAJA+1   &    955\\\\\n",
              "\t 202104 & BAJA+2   &   1130\\\\\n",
              "\\end{tabular}\n"
            ],
            "text/markdown": [
              "\n",
              "A data.table: 3 × 3\n",
              "\n",
              "| foto_mes &lt;int&gt; | clase_ternaria &lt;chr&gt; | N &lt;int&gt; |\n",
              "|---|---|---|\n",
              "| 202104 | CONTINUA | 161333 |\n",
              "| 202104 | BAJA+1   |    955 |\n",
              "| 202104 | BAJA+2   |   1130 |\n",
              "\n"
            ],
            "text/plain": [
              "  foto_mes clase_ternaria N     \n",
              "1 202104   CONTINUA       161333\n",
              "2 202104   BAJA+1            955\n",
              "3 202104   BAJA+2           1130"
            ]
          },
          "metadata": {},
          "output_type": "display_data"
        }
      ],
      "source": [
        "# trabajo solo con los datos de 202104, ultimo mes con clase_ternaria completa\n",
        "# filtro datos\n",
        "dataset <- dataset[foto_mes==202104]\n",
        "\n",
        "invisible(gc(full=TRUE, verbose=FALSE)) # garbage collection\n",
        "\n",
        "nrow(dataset)\n",
        "dataset[, .N, list(foto_mes,clase_ternaria)]"
      ]
    },
    {
      "cell_type": "code",
      "execution_count": 99,
      "metadata": {
        "id": "wsk0F77ambVW",
        "vscode": {
          "languageId": "r"
        }
      },
      "outputs": [
        {
          "data": {
            "text/plain": [
              "[1] \"2025-08-27 20:20:01 -03\""
            ]
          },
          "metadata": {},
          "output_type": "display_data"
        },
        {
          "name": "stdout",
          "output_type": "stream",
          "text": [
            "1 304400000 3.02e+08 1 \n",
            "2 269533333 2.64e+08 0.5 \n",
            "3 288333333 268333333 0.25 \n",
            "4 302600000 287200000 0.125 \n",
            "5 274866667 285133333 0.3125 \n",
            "6 308800000 284600000 0.15625 \n",
            "7 310400000 299933333 0.078125 \n",
            "8 246066667 259400000 0.1953125 \n",
            "9 259133333 265533333 0.3007812 \n",
            "10 322733333 327466667 0.375 \n",
            "11 288933333 301266667 0.5771484 \n",
            "12 295933333 277266667 0.3393555 \n",
            "13 329400000 332333333 0.4143066 \n",
            "14 268933333 266733333 0.4262695 \n"
          ]
        },
        {
          "name": "stderr",
          "output_type": "stream",
          "text": [
            "Warning message in wilcox.test.default(vgan1, vgan2, paired = TRUE):\n",
            "\"cannot compute exact p-value with ties\"\n"
          ]
        },
        {
          "name": "stdout",
          "output_type": "stream",
          "text": [
            "15 320200000 317800000 0.4101039 \n"
          ]
        },
        {
          "name": "stderr",
          "output_type": "stream",
          "text": [
            "Warning message in wilcox.test.default(vgan1, vgan2, paired = TRUE):\n",
            "\"cannot compute exact p-value with ties\"\n"
          ]
        },
        {
          "name": "stdout",
          "output_type": "stream",
          "text": [
            "16 273866667 3e+08 0.7367478 \n"
          ]
        },
        {
          "name": "stderr",
          "output_type": "stream",
          "text": [
            "Warning message in wilcox.test.default(vgan1, vgan2, paired = TRUE):\n",
            "\"cannot compute exact p-value with ties\"\n"
          ]
        },
        {
          "name": "stdout",
          "output_type": "stream",
          "text": [
            "17 303266667 294666667 0.6025116 \n"
          ]
        },
        {
          "name": "stderr",
          "output_type": "stream",
          "text": [
            "Warning message in wilcox.test.default(vgan1, vgan2, paired = TRUE):\n",
            "\"cannot compute exact p-value with ties\"\n"
          ]
        },
        {
          "name": "stdout",
          "output_type": "stream",
          "text": [
            "18 280866667 300466667 0.8616909 \n"
          ]
        },
        {
          "name": "stderr",
          "output_type": "stream",
          "text": [
            "Warning message in wilcox.test.default(vgan1, vgan2, paired = TRUE):\n",
            "\"cannot compute exact p-value with ties\"\n"
          ]
        },
        {
          "name": "stdout",
          "output_type": "stream",
          "text": [
            "19 309866667 306200000 0.7936293 \n"
          ]
        },
        {
          "name": "stderr",
          "output_type": "stream",
          "text": [
            "Warning message in wilcox.test.default(vgan1, vgan2, paired = TRUE):\n",
            "\"cannot compute exact p-value with ties\"\n"
          ]
        },
        {
          "name": "stdout",
          "output_type": "stream",
          "text": [
            "20 263800000 249866667 0.588252 \n"
          ]
        },
        {
          "name": "stderr",
          "output_type": "stream",
          "text": [
            "Warning message in wilcox.test.default(vgan1, vgan2, paired = TRUE):\n",
            "\"cannot compute exact p-value with ties\"\n"
          ]
        },
        {
          "name": "stdout",
          "output_type": "stream",
          "text": [
            "21 316333333 286066667 0.3848434 \n"
          ]
        },
        {
          "name": "stderr",
          "output_type": "stream",
          "text": [
            "Warning message in wilcox.test.default(vgan1, vgan2, paired = TRUE):\n",
            "\"cannot compute exact p-value with ties\"\n"
          ]
        },
        {
          "name": "stdout",
          "output_type": "stream",
          "text": [
            "22 280533333 288866667 0.475047 \n"
          ]
        },
        {
          "name": "stderr",
          "output_type": "stream",
          "text": [
            "Warning message in wilcox.test.default(vgan1, vgan2, paired = TRUE):\n",
            "\"cannot compute exact p-value with ties\"\n"
          ]
        },
        {
          "name": "stdout",
          "output_type": "stream",
          "text": [
            "23 301533333 302066667 0.4747371 \n"
          ]
        },
        {
          "name": "stderr",
          "output_type": "stream",
          "text": [
            "Warning message in wilcox.test.default(vgan1, vgan2, paired = TRUE):\n",
            "\"cannot compute exact p-value with ties\"\n"
          ]
        },
        {
          "name": "stdout",
          "output_type": "stream",
          "text": [
            "24 307333333 323200000 0.6578527 \n"
          ]
        },
        {
          "name": "stderr",
          "output_type": "stream",
          "text": [
            "Warning message in wilcox.test.default(vgan1, vgan2, paired = TRUE):\n",
            "\"cannot compute exact p-value with ties\"\n"
          ]
        },
        {
          "name": "stdout",
          "output_type": "stream",
          "text": [
            "25 264200000 277400000 0.808646 \n"
          ]
        },
        {
          "name": "stderr",
          "output_type": "stream",
          "text": [
            "Warning message in wilcox.test.default(vgan1, vgan2, paired = TRUE):\n",
            "\"cannot compute exact p-value with ties\"\n"
          ]
        },
        {
          "name": "stdout",
          "output_type": "stream",
          "text": [
            "26 287866667 302333333 0.9797367 \n"
          ]
        },
        {
          "name": "stderr",
          "output_type": "stream",
          "text": [
            "Warning message in wilcox.test.default(vgan1, vgan2, paired = TRUE):\n",
            "\"cannot compute exact p-value with ties\"\n"
          ]
        },
        {
          "name": "stdout",
          "output_type": "stream",
          "text": [
            "27 291533333 298866667 0.9329845 \n"
          ]
        },
        {
          "name": "stderr",
          "output_type": "stream",
          "text": [
            "Warning message in wilcox.test.default(vgan1, vgan2, paired = TRUE):\n",
            "\"cannot compute exact p-value with ties\"\n"
          ]
        },
        {
          "name": "stdout",
          "output_type": "stream",
          "text": [
            "28 243400000 252133333 0.8110221 \n"
          ]
        },
        {
          "name": "stderr",
          "output_type": "stream",
          "text": [
            "Warning message in wilcox.test.default(vgan1, vgan2, paired = TRUE):\n",
            "\"cannot compute exact p-value with ties\"\n"
          ]
        },
        {
          "name": "stdout",
          "output_type": "stream",
          "text": [
            "29 321133333 329466667 0.7131597 \n"
          ]
        },
        {
          "name": "stderr",
          "output_type": "stream",
          "text": [
            "Warning message in wilcox.test.default(vgan1, vgan2, paired = TRUE):\n",
            "\"cannot compute exact p-value with ties\"\n"
          ]
        },
        {
          "name": "stdout",
          "output_type": "stream",
          "text": [
            "30 310533333 330600000 0.5371801 \n"
          ]
        },
        {
          "name": "stderr",
          "output_type": "stream",
          "text": [
            "Warning message in wilcox.test.default(vgan1, vgan2, paired = TRUE):\n",
            "\"cannot compute exact p-value with ties\"\n"
          ]
        },
        {
          "name": "stdout",
          "output_type": "stream",
          "text": [
            "31 296266667 308466667 0.4388712 \n"
          ]
        },
        {
          "name": "stderr",
          "output_type": "stream",
          "text": [
            "Warning message in wilcox.test.default(vgan1, vgan2, paired = TRUE):\n",
            "\"cannot compute exact p-value with ties\"\n"
          ]
        },
        {
          "name": "stdout",
          "output_type": "stream",
          "text": [
            "32 286333333 283066667 0.4601254 \n"
          ]
        },
        {
          "name": "stderr",
          "output_type": "stream",
          "text": [
            "Warning message in wilcox.test.default(vgan1, vgan2, paired = TRUE):\n",
            "\"cannot compute exact p-value with ties\"\n"
          ]
        },
        {
          "name": "stdout",
          "output_type": "stream",
          "text": [
            "33 282400000 272333333 0.5554173 \n"
          ]
        },
        {
          "name": "stderr",
          "output_type": "stream",
          "text": [
            "Warning message in wilcox.test.default(vgan1, vgan2, paired = TRUE):\n",
            "\"cannot compute exact p-value with ties\"\n"
          ]
        },
        {
          "name": "stdout",
          "output_type": "stream",
          "text": [
            "34 245866667 245266667 0.5726142 \n"
          ]
        },
        {
          "name": "stderr",
          "output_type": "stream",
          "text": [
            "Warning message in wilcox.test.default(vgan1, vgan2, paired = TRUE):\n",
            "\"cannot compute exact p-value with ties\"\n"
          ]
        },
        {
          "name": "stdout",
          "output_type": "stream",
          "text": [
            "35 320600000 316733333 0.6058821 \n"
          ]
        },
        {
          "name": "stderr",
          "output_type": "stream",
          "text": [
            "Warning message in wilcox.test.default(vgan1, vgan2, paired = TRUE):\n",
            "\"cannot compute exact p-value with ties\"\n"
          ]
        },
        {
          "name": "stdout",
          "output_type": "stream",
          "text": [
            "36 301200000 267866667 0.8320296 \n"
          ]
        },
        {
          "name": "stderr",
          "output_type": "stream",
          "text": [
            "Warning message in wilcox.test.default(vgan1, vgan2, paired = TRUE):\n",
            "\"cannot compute exact p-value with ties\"\n"
          ]
        },
        {
          "name": "stdout",
          "output_type": "stream",
          "text": [
            "37 301733333 301666667 0.8445105 \n"
          ]
        },
        {
          "name": "stderr",
          "output_type": "stream",
          "text": [
            "Warning message in wilcox.test.default(vgan1, vgan2, paired = TRUE):\n",
            "\"cannot compute exact p-value with ties\"\n"
          ]
        },
        {
          "name": "stdout",
          "output_type": "stream",
          "text": [
            "38 298200000 288600000 0.9537402 \n"
          ]
        },
        {
          "name": "stderr",
          "output_type": "stream",
          "text": [
            "Warning message in wilcox.test.default(vgan1, vgan2, paired = TRUE):\n",
            "\"cannot compute exact p-value with ties\"\n"
          ]
        },
        {
          "name": "stdout",
          "output_type": "stream",
          "text": [
            "39 295800000 288466667 0.9888655 \n"
          ]
        },
        {
          "name": "stderr",
          "output_type": "stream",
          "text": [
            "Warning message in wilcox.test.default(vgan1, vgan2, paired = TRUE):\n",
            "\"cannot compute exact p-value with ties\"\n"
          ]
        },
        {
          "name": "stdout",
          "output_type": "stream",
          "text": [
            "40 313066667 299066667 0.8297143 \n"
          ]
        },
        {
          "name": "stderr",
          "output_type": "stream",
          "text": [
            "Warning message in wilcox.test.default(vgan1, vgan2, paired = TRUE):\n",
            "\"cannot compute exact p-value with ties\"\n"
          ]
        },
        {
          "name": "stdout",
          "output_type": "stream",
          "text": [
            "41 2.85e+08 275200000 0.7312921 \n"
          ]
        },
        {
          "name": "stderr",
          "output_type": "stream",
          "text": [
            "Warning message in wilcox.test.default(vgan1, vgan2, paired = TRUE):\n",
            "\"cannot compute exact p-value with ties\"\n"
          ]
        },
        {
          "name": "stdout",
          "output_type": "stream",
          "text": [
            "42 277933333 2.92e+08 0.8856613 \n"
          ]
        },
        {
          "name": "stderr",
          "output_type": "stream",
          "text": [
            "Warning message in wilcox.test.default(vgan1, vgan2, paired = TRUE):\n",
            "\"cannot compute exact p-value with ties\"\n"
          ]
        },
        {
          "name": "stdout",
          "output_type": "stream",
          "text": [
            "43 293800000 289466667 0.8467988 \n"
          ]
        },
        {
          "name": "stderr",
          "output_type": "stream",
          "text": [
            "Warning message in wilcox.test.default(vgan1, vgan2, paired = TRUE):\n",
            "\"cannot compute exact p-value with ties\"\n"
          ]
        },
        {
          "name": "stdout",
          "output_type": "stream",
          "text": [
            "44 304866667 298933333 0.7973712 \n"
          ]
        },
        {
          "name": "stderr",
          "output_type": "stream",
          "text": [
            "Warning message in wilcox.test.default(vgan1, vgan2, paired = TRUE):\n",
            "\"cannot compute exact p-value with ties\"\n"
          ]
        },
        {
          "name": "stdout",
          "output_type": "stream",
          "text": [
            "45 328933333 314400000 0.6475584 \n"
          ]
        },
        {
          "name": "stderr",
          "output_type": "stream",
          "text": [
            "Warning message in wilcox.test.default(vgan1, vgan2, paired = TRUE):\n",
            "\"cannot compute exact p-value with ties\"\n"
          ]
        },
        {
          "name": "stdout",
          "output_type": "stream",
          "text": [
            "46 276666667 282400000 0.7143589 \n"
          ]
        },
        {
          "name": "stderr",
          "output_type": "stream",
          "text": [
            "Warning message in wilcox.test.default(vgan1, vgan2, paired = TRUE):\n",
            "\"cannot compute exact p-value with ties\"\n"
          ]
        },
        {
          "name": "stdout",
          "output_type": "stream",
          "text": [
            "47 296066667 276066667 0.5605458 \n"
          ]
        },
        {
          "name": "stderr",
          "output_type": "stream",
          "text": [
            "Warning message in wilcox.test.default(vgan1, vgan2, paired = TRUE):\n",
            "\"cannot compute exact p-value with ties\"\n"
          ]
        },
        {
          "name": "stdout",
          "output_type": "stream",
          "text": [
            "48 308200000 332533333 0.735007 \n"
          ]
        },
        {
          "name": "stderr",
          "output_type": "stream",
          "text": [
            "Warning message in wilcox.test.default(vgan1, vgan2, paired = TRUE):\n",
            "\"cannot compute exact p-value with ties\"\n"
          ]
        },
        {
          "name": "stdout",
          "output_type": "stream",
          "text": [
            "49 281733333 308800000 0.9168134 \n",
            "50 3.2e+08 297866667 0.7537208 \n",
            "$out\n",
            "[1] 0\n",
            "\n",
            "$qsemillas\n",
            "[1] 50\n",
            "\n",
            "$m1\n",
            "[1] 293220000\n",
            "\n",
            "$m2\n",
            "[1] 292408000\n",
            "\n"
          ]
        },
        {
          "data": {
            "text/plain": [
              "[1] \"2025-08-27 21:05:50 -03\""
            ]
          },
          "metadata": {},
          "output_type": "display_data"
        }
      ],
      "source": [
        "Sys.time()\n",
        "\n",
        "comparacion <- MejorArbol(\n",
        "   PARAM$qsemillas_tope,\n",
        "   PARAM$training_pct,\n",
        "   PARAM$rpart1,\n",
        "   PARAM$rpart2\n",
        " )\n",
        "\n",
        "\n",
        "print( comparacion )\n",
        "\n",
        "Sys.time()"
      ]
    },
    {
      "cell_type": "markdown",
      "metadata": {
        "id": "d2br1bgJlpHQ"
      },
      "source": [
        "### Acciones a realizar\n",
        "* Reportar la  los resultados en la planilla colaborativa hoja  **C2-Wilcox**\n"
      ]
    },
    {
      "cell_type": "markdown",
      "metadata": {
        "id": "x7SebtV2lpHQ"
      },
      "source": [
        "\n",
        "\n",
        "---\n",
        "\n"
      ]
    }
  ],
  "metadata": {
    "colab": {
      "provenance": []
    },
    "kernelspec": {
      "display_name": "R",
      "language": "R",
      "name": "ir"
    },
    "language_info": {
      "codemirror_mode": "r",
      "file_extension": ".r",
      "mimetype": "text/x-r-source",
      "name": "R",
      "pygments_lexer": "r",
      "version": "4.5.1"
    }
  },
  "nbformat": 4,
  "nbformat_minor": 0
}
