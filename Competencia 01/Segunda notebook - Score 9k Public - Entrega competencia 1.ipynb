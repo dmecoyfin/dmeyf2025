{
 "cells": [
  {
   "cell_type": "markdown",
   "id": "ca12d44f",
   "metadata": {},
   "source": [
    "### En base al feature importance de la notebook \"Primera notebook - Score 7k public\" se quitarán columnas del dataset y se explorarán más hiperparámetros"
   ]
  },
  {
   "cell_type": "markdown",
   "id": "7c6dded6",
   "metadata": {},
   "source": [
    "#### Las primeras líneas de código son iguales a la anterior notebook, donde se leerá el .csv, se definirán los hiperparámetros y meses con los que se hará el entrenamiento y búsqueda de hiperparámetros, y definición de las funciones a utilizar a lo largo de la notebook."
   ]
  },
  {
   "cell_type": "code",
   "execution_count": 1,
   "id": "665b38c2",
   "metadata": {},
   "outputs": [],
   "source": [
    "import pandas as pd\n",
    "import numpy as np\n",
    "from sklearn.metrics import roc_auc_score\n"
   ]
  },
  {
   "cell_type": "code",
   "execution_count": 17,
   "id": "4d0b57d8",
   "metadata": {},
   "outputs": [],
   "source": [
    "#leo el csv\n",
    "df = pd.read_csv('C:/Users/Lucas/Downloads/Maestria/EyF/competencia_01_crudo.csv')"
   ]
  },
  {
   "cell_type": "code",
   "execution_count": 18,
   "id": "c789403e",
   "metadata": {},
   "outputs": [],
   "source": [
    "\n",
    "# calculo el periodo0 consecutivo\n",
    "dsimple = df.copy()\n",
    "dsimple[\"pos\"] = range(1, len(dsimple) + 1)\n",
    "dsimple[\"periodo0\"] = (dsimple[\"foto_mes\"] // 100) * 12 + (dsimple[\"foto_mes\"] % 100)\n",
    "\n",
    "# ordeno\n",
    "dsimple = dsimple.sort_values(by=[\"numero_de_cliente\", \"periodo0\"])\n",
    "\n",
    "# calculo topes\n",
    "periodo_ultimo = dsimple[\"periodo0\"].max()\n",
    "periodo_anteultimo = periodo_ultimo - 1\n",
    "\n",
    "# calculo los leads de orden 1 y 2 (shift con signo negativo equivale a lead en R)\n",
    "dsimple[\"periodo1\"] = dsimple.groupby(\"numero_de_cliente\")[\"periodo0\"].shift(-1)\n",
    "dsimple[\"periodo2\"] = dsimple.groupby(\"numero_de_cliente\")[\"periodo0\"].shift(-2)\n",
    "\n",
    "# asigno valores por defecto\n",
    "dsimple[\"clase_ternaria\"] = None\n",
    "dsimple.loc[dsimple[\"periodo0\"] < periodo_anteultimo, \"clase_ternaria\"] = \"CONTINUA\"\n",
    "\n",
    "# calculo BAJA+1\n",
    "cond_baja1 = (\n",
    "    (dsimple[\"periodo0\"] < periodo_ultimo)\n",
    "    & (dsimple[\"periodo1\"].isna() | (dsimple[\"periodo0\"] + 1 < dsimple[\"periodo1\"]))\n",
    ")\n",
    "dsimple.loc[cond_baja1, \"clase_ternaria\"] = \"BAJA+1\"\n",
    "\n",
    "# calculo BAJA+2\n",
    "cond_baja2 = (\n",
    "    (dsimple[\"periodo0\"] < periodo_anteultimo)\n",
    "    & (dsimple[\"periodo0\"] + 1 == dsimple[\"periodo1\"])\n",
    "    & (dsimple[\"periodo2\"].isna() | (dsimple[\"periodo0\"] + 2 < dsimple[\"periodo2\"]))\n",
    ")\n",
    "dsimple.loc[cond_baja2, \"clase_ternaria\"] = \"BAJA+2\"\n",
    "\n",
    "# vuelvo a ordenar por pos y pego al dataset original\n",
    "dsimple = dsimple.sort_values(by=\"pos\")\n",
    "df[\"clase_ternaria\"] = dsimple[\"clase_ternaria\"].values"
   ]
  },
  {
   "cell_type": "code",
   "execution_count": 19,
   "id": "2ee914eb",
   "metadata": {},
   "outputs": [],
   "source": [
    "import numpy as np\n",
    "\n",
    "# ordenar\n",
    "df = df.sort_values(by=[\"foto_mes\", \"clase_ternaria\", \"numero_de_cliente\"])\n",
    "\n",
    "# contar registros por foto_mes y clase_ternaria\n",
    "conteos = df.groupby([\"foto_mes\", \"clase_ternaria\"]).size().reset_index(name=\"N\")\n",
    "\n",
    "\n",
    "PARAM = {\n",
    "    \"experimento\": 4940,\n",
    "    \"semilla_primigenia\": [878787],\n",
    "    \"train\": [202101,202102, 202103],\n",
    "    \"train_final\": [202101, 202102, 202103,202104],\n",
    "    \"future\": [202106],\n",
    "    \"semilla_kaggle\": 314159,\n",
    "    \"cortes\": list(range(6000, 19001, 500)),\n",
    "    \"trainingstrategy\": {\n",
    "        \"undersampling\": 0.2\n",
    "    }\n",
    "}\n",
    "\n",
    "\n"
   ]
  },
  {
   "cell_type": "markdown",
   "id": "837ba00d",
   "metadata": {},
   "source": [
    "#### Agrego nuevos hiperparámetros a analizar y modifico algunos rangos en base dónde se ubicaron (si estuvieron cerca de los extremos de los rangos o no) en la primer notebook."
   ]
  },
  {
   "cell_type": "code",
   "execution_count": null,
   "id": "167551ad",
   "metadata": {},
   "outputs": [],
   "source": [
    "import lightgbm as lgb\n",
    "\n",
    "\n",
    "# cross validation folds\n",
    "PARAM[\"hyperparametertuning\"] = {}\n",
    "PARAM[\"hyperparametertuning\"][\"xval_folds\"] = 5\n",
    "\n",
    "\n",
    "\n",
    "# parámetros fijos de LightGBM\n",
    "PARAM[\"lgbm\"] = {}\n",
    "PARAM[\"lgbm\"][\"param_fijos\"] = {\n",
    "    \"boosting_type\": \"gbdt\",  # en python el nombre es boosting_type\n",
    "    \"objective\": \"binary\",\n",
    "    \"metric\": \"auc\",\n",
    "    \"first_metric_only\": False,\n",
    "    \"boost_from_average\": True,\n",
    "    \"feature_pre_filter\": False,\n",
    "    \"force_row_wise\": True,\n",
    "    \"verbosity\": -100,\n",
    "\n",
    "    \"seed\": PARAM[\"semilla_primigenia\"],\n",
    "\n",
    "    \"max_depth\": -1,\n",
    "    \"min_gain_to_split\": 0.0,\n",
    "    \"min_sum_hessian_in_leaf\": 0.001,\n",
    "    \"lambda_l1\": 0.0,\n",
    "    \"lambda_l2\": 0.0,\n",
    "    \"max_bin\": 31,\n",
    "\n",
    "    \"bagging_fraction\": 1.0,\n",
    "    \"pos_bagging_fraction\": 1.0,\n",
    "    \"neg_bagging_fraction\": 1.0,\n",
    "    \"is_unbalance\": False,\n",
    "    \"scale_pos_weight\": 1.0,\n",
    "\n",
    "    \"drop_rate\": 0.1,\n",
    "    \"max_drop\": 50,\n",
    "    \"skip_drop\": 0.5,\n",
    "\n",
    "    \"extra_trees\": False,\n",
    "\n",
    "    \"num_iterations\": 1200,\n",
    "    \"learning_rate\": 0.02,\n",
    "    \"feature_fraction\": 0.5,\n",
    "    \"num_leaves\": 750,\n",
    "    \"min_data_in_leaf\": 5000,\n",
    "}\n",
    "\n",
    "# espacio de hiperparámetros (para una BO en optuna/skopt)\n",
    "PARAM[\"hyperparametertuning\"][\"hs\"] = {\n",
    "    \"num_iterations\": {\"type\": \"int\", \"low\": 10, \"high\": 1500},\n",
    "    \"learning_rate\": {\"type\": \"float\", \"low\": 0.01, \"high\": 0.3},\n",
    "    \"feature_fraction\": {\"type\": \"float\", \"low\": 0.4, \"high\": 1.0},\n",
    "    \"num_leaves\": {\"type\": \"int\", \"low\": 500, \"high\": 2200},\n",
    "    \"min_data_in_leaf\": {\"type\": \"int\", \"low\": 1, \"high\": 1500},\n",
    "    \"max_depth\": {\"type\": \"int\", \"low\": -1, \"high\": 18},\n",
    "    \"lambda_l1\": {\"type\": \"float\", \"low\": 0.0, \"high\": 15.0},\n",
    "    \"lambda_l2\": {\"type\": \"float\", \"low\": 0.0, \"high\": 15.0},\n",
    "    \"min_gain_to_split\": {\"type\": \"float\", \"low\": 0.0, \"high\": 10.0},\n",
    "    \"bagging_fraction\": {\"type\": \"float\", \"low\": 0.4, \"high\": 1.0},\n",
    "    \"bagging_freq\": {\"type\": \"int\", \"low\": 1, \"high\": 15},\n",
    "    \"min_sum_hessian_in_leaf\": {\"type\": \"float\", \"low\": 0.001, \"high\": 20.0},\n",
    "\n",
    "    # Nuevos\n",
    "    \"boosting_type\": {\"type\": \"categorical\", \"choices\": [\"gbdt\", \"dart\"]},\n",
    "    \"scale_pos_weight\": {\"type\": \"float\", \"low\": 1.0, \"high\": 50.0},\n",
    "    \"max_bin\": {\"type\": \"int\", \"low\": 25, \"high\": 100},\n",
    "}\n",
    "\n",
    "\n",
    "\n",
    "\n"
   ]
  },
  {
   "cell_type": "code",
   "execution_count": 28,
   "id": "d8aa386f",
   "metadata": {},
   "outputs": [],
   "source": [
    "from sklearn.model_selection import train_test_split\n",
    "\n",
    "def particionar(data, division, agrupa=\"\", campo=\"fold\", start=1, seed=None):\n",
    "    data = data.copy().reset_index(drop=True)  # 🔹 reset indices\n",
    "    total = sum(division)\n",
    "    fracs = [d / total for d in division]  # pasar a proporciones\n",
    "    bloques = list(range(start, start + len(division)))\n",
    "\n",
    "    if agrupa:\n",
    "        strat_col = data[agrupa]\n",
    "    else:\n",
    "        strat_col = None\n",
    "\n",
    "    folds = np.zeros(len(data), dtype=int)\n",
    "    idx = np.arange(len(data))\n",
    "\n",
    "    for i, frac in enumerate(fracs):\n",
    "        if i == len(fracs) - 1:\n",
    "            chosen_idx = idx\n",
    "        else:\n",
    "            _, chosen_idx = train_test_split(\n",
    "                idx,\n",
    "                test_size=1-frac,\n",
    "                stratify=strat_col.iloc[idx] if strat_col is not None else None,\n",
    "                random_state=seed\n",
    "            )\n",
    "        folds[chosen_idx] = bloques[i]\n",
    "        # actualizar lo que queda\n",
    "        mask = np.isin(idx, chosen_idx, invert=True)\n",
    "        idx = idx[mask]\n",
    "\n",
    "    data[campo] = folds\n",
    "    return data\n",
    "\n"
   ]
  },
  {
   "cell_type": "code",
   "execution_count": 6,
   "id": "3923b0d0",
   "metadata": {},
   "outputs": [],
   "source": [
    "def realidad_inicializar(pfuture, pparam):\n",
    "    # datos para verificar la ganancia\n",
    "    drealidad = pfuture[[\"numero_de_cliente\", \"foto_mes\", \"clase_ternaria\"]].copy()\n",
    "\n",
    "    drealidad = particionar(\n",
    "        drealidad,\n",
    "        division=[3, 7],\n",
    "        agrupa=\"clase_ternaria\",\n",
    "        seed=PARAM[\"semilla_kaggle\"]\n",
    "    )\n",
    "    return drealidad\n"
   ]
  },
  {
   "cell_type": "code",
   "execution_count": 7,
   "id": "1d2d40e7",
   "metadata": {},
   "outputs": [],
   "source": [
    "def realidad_evaluar(prealidad, pprediccion):\n",
    "    \"\"\"\n",
    "    Calcula la ganancia esperada.\n",
    "    prealidad: DataFrame con columnas [numero_de_cliente, foto_mes, clase_ternaria, fold]\n",
    "    pprediccion: DataFrame con columnas [numero_de_cliente, foto_mes, Predicted]\n",
    "    \"\"\"\n",
    "    # merge para agregar predicciones\n",
    "    merged = prealidad.merge(\n",
    "        pprediccion[[\"numero_de_cliente\", \"foto_mes\", \"Predicted\"]],\n",
    "        on=[\"numero_de_cliente\", \"foto_mes\"],\n",
    "        how=\"left\"\n",
    "    )\n",
    "    merged[\"predicted\"] = merged[\"Predicted\"].astype(\"Int64\")\n",
    "    merged = merged.drop(columns=\"Predicted\")\n",
    "\n",
    "    # tabla de conteos\n",
    "    tbl = (\n",
    "        merged.groupby([\"fold\", \"predicted\", \"clase_ternaria\"])\n",
    "        .size()\n",
    "        .reset_index(name=\"qty\")\n",
    "    )\n",
    "\n",
    "    # función de ganancia\n",
    "    def ganancia(subtbl):\n",
    "        return (subtbl[\"qty\"] * np.where(subtbl[\"clase_ternaria\"]==\"BAJA+2\", 780000, -20000)).sum()\n",
    "\n",
    "    res = {}\n",
    "    # fold==1 → public (dividido por 0.3)\n",
    "    mask_pub = (tbl[\"fold\"]==1) & (tbl[\"predicted\"]==1)\n",
    "    res[\"public\"] = ganancia(tbl[mask_pub]) / 0.3\n",
    "\n",
    "    # fold==2 → private (dividido por 0.7)\n",
    "    mask_priv = (tbl[\"fold\"]==2) & (tbl[\"predicted\"]==1)\n",
    "    res[\"private\"] = ganancia(tbl[mask_priv]) / 0.7\n",
    "\n",
    "    # total sin dividir\n",
    "    mask_total = tbl[\"predicted\"]==1\n",
    "    res[\"total\"] = ganancia(tbl[mask_total])\n",
    "\n",
    "    return res\n"
   ]
  },
  {
   "cell_type": "markdown",
   "id": "5cfcf7b1",
   "metadata": {},
   "source": [
    "#### \"Normalizo\" la columna mpayroll de junio multiplicando por 0,7 el valor para aquellos casos donde cobre aguinaldo el cliente."
   ]
  },
  {
   "cell_type": "code",
   "execution_count": 20,
   "id": "4fe0ed55",
   "metadata": {},
   "outputs": [],
   "source": [
    "# Aseguramos que la columna mpayroll sea numérica\n",
    "df[\"mpayroll\"] = pd.to_numeric(df[\"mpayroll\"], errors=\"coerce\")\n",
    "\n",
    "# 1️⃣ Crear una máscara de clientes que tienen mpayroll no nulo en 202105 y 202106\n",
    "clientes_validos = df.query(\"foto_mes in [202105, 202106]\") \\\n",
    "    .pivot(index=\"numero_de_cliente\", columns=\"foto_mes\", values=\"mpayroll\") \\\n",
    "    .dropna(subset=[202105, 202106]) \\\n",
    "    .index\n",
    "\n",
    "# 2️⃣ Copiar mpayroll a una nueva columna\n",
    "df[\"mpayroll_norm\"] = df[\"mpayroll\"]\n",
    "\n",
    "# 3️⃣ Aplicar la normalización (multiplicar por 0.7 solo en 202106 y clientes válidos)\n",
    "mask = (df[\"foto_mes\"] == 202106) & (df[\"numero_de_cliente\"].isin(clientes_validos))\n",
    "df.loc[mask, \"mpayroll_norm\"] = df.loc[mask, \"mpayroll\"] * 0.7"
   ]
  },
  {
   "cell_type": "markdown",
   "id": "9aefc909",
   "metadata": {},
   "source": [
    "#### Armo ranking de columnas monetarias"
   ]
  },
  {
   "cell_type": "code",
   "execution_count": 21,
   "id": "5f2d1f60",
   "metadata": {},
   "outputs": [],
   "source": [
    "def rank_separate_group(df, columns, group_col=\"foto_mes\"):\n",
    "    \"\"\"\n",
    "    Genera columnas *_ranked por cada variable monetaria,\n",
    "    aplicando ranking separado por signo y por grupo temporal (foto_mes),\n",
    "    tolerante a NaN.\n",
    "    \"\"\"\n",
    "    df = df.copy()\n",
    "\n",
    "    for col in columns:\n",
    "        new_col = f\"{col}_ranked\"\n",
    "        df[new_col] = np.nan  # inicializa la columna\n",
    "\n",
    "        def rank_group(g):\n",
    "            s = g[col]\n",
    "            ranked = pd.Series(index=s.index, dtype=float)\n",
    "\n",
    "            # negativos\n",
    "            mask_neg = (s < 0) & s.notna()\n",
    "            if mask_neg.any():\n",
    "                ranked.loc[mask_neg] = -s[mask_neg].rank(method=\"average\", ascending=False)\n",
    "\n",
    "            # positivos\n",
    "            mask_pos = (s > 0) & s.notna()\n",
    "            if mask_pos.any():\n",
    "                ranked.loc[mask_pos] = s[mask_pos].rank(method=\"average\", ascending=True)\n",
    "\n",
    "            # ceros\n",
    "            mask_zero = (s == 0) & s.notna()\n",
    "            if mask_zero.any():\n",
    "                ranked.loc[mask_zero] = 0\n",
    "\n",
    "            return ranked\n",
    "\n",
    "        # aplicar ranking solo a filas válidas del grupo\n",
    "        ranked_series = df.groupby(group_col, group_keys=False).apply(rank_group)\n",
    "        df.loc[ranked_series.index, new_col] = ranked_series\n",
    "\n",
    "    return df\n",
    "\n",
    "\n",
    "cols_monetarias = [\n",
    "    \"mrentabilidad\", \"mrentabilidad_annual\", \"mcomisiones\", \"mactivos_margen\", \"mpasivos_margen\", \n",
    "    \"mcuenta_corriente_adicional\", \"mcuenta_corriente\", \"mcaja_ahorro\", \"mcaja_ahorro_adicional\", \n",
    "    \"mcaja_ahorro_dolares\", \"mcuentas_saldo\", \"mautoservicio\", \"mtarjeta_visa_consumo\", \"mtarjeta_master_consumo\", \n",
    "    \"mprestamos_personales\", \"mprestamos_prendarios\", \"mprestamos_hipotecarios\", \"mplazo_fijo_dolares\", \n",
    "    \"mplazo_fijo_pesos\", \"minversion1_pesos\", \"minversion1_dolares\", \"minversion2\", \"mpayroll\", \"mpayroll2\", \n",
    "    \"mcuenta_debitos_automaticos\", \"mttarjeta_visa_debitos_automaticos\", \"mttarjeta_master_debitos_automaticos\", \n",
    "    \"mpagodeservicios\", \"mpagomiscuentas\", \"mcajeros_propios_descuentos\", \"mtarjeta_visa_descuentos\", \n",
    "    \"mtarjeta_master_descuentos\", \"mcomisiones_mantenimiento\", \"mcomisiones_otras\", \"mforex_buy\", \"mforex_sell\", \n",
    "    \"mtransferencias_recibidas\", \"mtransferencias_emitidas\", \"mextraccion_autoservicio\", \"mcheques_depositados\", \n",
    "    \"mcheques_emitidos\", \"mcheques_depositados_rechazados\", \"mcheques_emitidos_rechazados\", \"matm\", \"matm_other\", \n",
    "    \"Master_mfinanciacion_limite\", \"Master_msaldototal\", \"Master_msaldopesos\", \"Master_msaldodolares\", \n",
    "    \"Master_mconsumospesos\", \"Master_mconsumosdolares\", \"Master_mlimitecompra\", \"Master_madelantopesos\", \n",
    "    \"Master_madelantodolares\", \"Master_mpagado\", \"Master_mpagospesos\", \"Master_mpagosdolares\", \n",
    "    \"Master_mconsumototal\", \"Master_mpagominimo\", \"Visa_mfinanciacion_limite\", \"Visa_msaldototal\", \n",
    "    \"Visa_msaldopesos\", \"Visa_msaldodolares\", \"Visa_mconsumospesos\", \"Visa_mconsumosdolares\", \n",
    "    \"Visa_mlimitecompra\", \"Visa_madelantopesos\", \"Visa_madelantodolares\", \"Visa_mpagado\", \"Visa_mpagospesos\", \n",
    "    \"Visa_mpagosdolares\", \"Visa_mconsumototal\", \"Visa_mpagominimo\",\"mpayroll_norm\"\n",
    "]\n",
    "\n",
    "# aplicar ranking neutralizado por mes\n",
    "df = rank_separate_group(df, cols_monetarias)"
   ]
  },
  {
   "cell_type": "markdown",
   "id": "c41e4103",
   "metadata": {},
   "source": [
    "#### Hago columnas con lag y delta lag de orden 1 y 2 de todas las columnas salvo numero de cliente, foto mes y clase ternaria."
   ]
  },
  {
   "cell_type": "code",
   "execution_count": null,
   "id": "1247fb06",
   "metadata": {},
   "outputs": [],
   "source": [
    "# --- 0️⃣ Preparación ---\n",
    "df = df.sort_values([\"numero_de_cliente\", \"foto_mes\"])\n",
    "\n",
    "# columnas a excluir\n",
    "excluir = {\"numero_de_cliente\", \"foto_mes\", \"clase_ternaria\"}\n",
    "columnas = [c for c in df.columns if c not in excluir]\n",
    "\n",
    "# --- 1️⃣ Generar lag y delta de orden 1 y 2 ---\n",
    "for col in columnas:\n",
    "    for lag in [1, 2]:\n",
    "        df[f\"{col}_lag{lag}\"] = df.groupby(\"numero_de_cliente\")[col].shift(lag)\n",
    "        df[f\"{col}_delta{lag}\"] = df[col] - df[f\"{col}_lag{lag}\"]\n"
   ]
  },
  {
   "cell_type": "code",
   "execution_count": 23,
   "id": "b5915a94",
   "metadata": {},
   "outputs": [],
   "source": [
    "#me dejo una copia por si falla algo así no tengo que correr todo de vuelta\n",
    "dft=df.copy()"
   ]
  },
  {
   "cell_type": "markdown",
   "id": "9c2e586b",
   "metadata": {},
   "source": [
    "##### Saco las features no importantes (hasta 100 de importancia) que obtuve de la primer notebook"
   ]
  },
  {
   "cell_type": "code",
   "execution_count": 24,
   "id": "49e05522",
   "metadata": {},
   "outputs": [],
   "source": [
    "# === Feature importance filtering ===\n",
    "archivo_importancia = r\"C:\\Users\\Lucas\\Proyectos cursor\\Exp12\\feature_importance_primer_notebook.txt\"\n",
    "features_df = pd.read_csv(archivo_importancia, sep=\"\\t\")\n",
    "\n",
    "# Filtrar features con importancia >= 100\n",
    "features_filtradas = features_df.loc[features_df[\"Importance\"] >= 10, \"Feature\"].tolist()\n",
    "\n",
    "# Columnas extra que no deben perderse\n",
    "cols_extra = [\"clase_ternaria\",\"foto_mes\"]\n",
    "\n",
    "# Crear el dataframe filtrado\n",
    "df_filtrado = df[cols_extra + [c for c in features_filtradas if c in df.columns]].copy()"
   ]
  },
  {
   "cell_type": "code",
   "execution_count": 25,
   "id": "2308f028",
   "metadata": {},
   "outputs": [],
   "source": [
    "df=df_filtrado.copy()"
   ]
  },
  {
   "cell_type": "markdown",
   "id": "ec1ce1c5",
   "metadata": {},
   "source": [
    "#### Genero el dataset train a partir de los meses seleccionados al inicio"
   ]
  },
  {
   "cell_type": "code",
   "execution_count": 26,
   "id": "80051a78",
   "metadata": {},
   "outputs": [
    {
     "name": "stdout",
     "output_type": "stream",
     "text": [
      "Shape X_train: (101496, 375)\n",
      "Shape y_train: (101496,)\n",
      "Balance clases:\n",
      " clase01\n",
      "0    96196\n",
      "1     5300\n",
      "Name: count, dtype: int64\n"
     ]
    }
   ],
   "source": [
    "# 1️⃣ Filtrar por meses de training\n",
    "dataset_train = df[df[\"foto_mes\"].isin(PARAM[\"train\"])].copy()\n",
    "\n",
    "# 2️⃣ Clase binaria\n",
    "dataset_train[\"clase01\"] = np.where(\n",
    "    dataset_train[\"clase_ternaria\"].isin([\"BAJA+1\", \"BAJA+2\"]), 1, 0\n",
    ")\n",
    "\n",
    "# 3️⃣ Undersampling de CONTINUA\n",
    "np.random.seed(PARAM[\"semilla_primigenia\"][0])  # recordá que es lista\n",
    "dataset_train[\"azar\"] = np.random.rand(len(dataset_train))\n",
    "mask_training = (\n",
    "    (dataset_train[\"foto_mes\"].isin(PARAM[\"train\"])) &\n",
    "    ((dataset_train[\"azar\"] <= PARAM[\"trainingstrategy\"][\"undersampling\"]) |\n",
    "     (dataset_train[\"clase_ternaria\"].isin([\"BAJA+1\", \"BAJA+2\"])))\n",
    ")\n",
    "dataset_train = dataset_train.loc[mask_training].copy()\n",
    "\n",
    "# 4️⃣ Seleccionar columnas a usar\n",
    "campos_buenos = dataset_train.columns.difference(\n",
    "    [\"clase_ternaria\", \"clase01\", \"azar\"]\n",
    ")\n",
    "\n",
    "X_train = dataset_train[campos_buenos].copy()\n",
    "y_train = dataset_train[\"clase01\"].copy()\n",
    "\n",
    "# 5️⃣ Convertir categóricas a numéricas si las hay\n",
    "for col in X_train.select_dtypes(include=['object']).columns:\n",
    "    X_train[col] = X_train[col].astype('category').cat.codes\n",
    "\n",
    "# 6️⃣ Asegurar tipos correctos para LightGBM\n",
    "X_train = X_train.astype(np.float32)\n",
    "y_train = y_train.astype(np.int32)\n",
    "\n",
    "# ✅ Listo para usar en Optuna\n",
    "print(\"Shape X_train:\", X_train.shape)\n",
    "print(\"Shape y_train:\", y_train.shape)\n",
    "print(\"Balance clases:\\n\", y_train.value_counts())\n",
    "\n"
   ]
  },
  {
   "cell_type": "markdown",
   "id": "bb0b9e02",
   "metadata": {},
   "source": [
    "##### Defino función de estimar ganancia e indico los hiperparámetros y los rangos tal cual los definí al inicio"
   ]
  },
  {
   "cell_type": "code",
   "execution_count": 29,
   "id": "211ca828",
   "metadata": {},
   "outputs": [
    {
     "name": "stderr",
     "output_type": "stream",
     "text": [
      "C:\\Users\\Lucas\\AppData\\Local\\Packages\\PythonSoftwareFoundation.Python.3.12_qbz5n2kfra8p0\\LocalCache\\local-packages\\Python312\\site-packages\\tqdm\\auto.py:21: TqdmWarning: IProgress not found. Please update jupyter and ipywidgets. See https://ipywidgets.readthedocs.io/en/stable/user_install.html\n",
      "  from .autonotebook import tqdm as notebook_tqdm\n"
     ]
    }
   ],
   "source": [
    "import optuna\n",
    "import lightgbm as lgb\n",
    "from sklearn.model_selection import StratifiedKFold\n",
    "\n",
    "# Semilla\n",
    "seed = 878787\n",
    "seeds = [seed]\n",
    "\n",
    "# Función de Optuna para estimar AUC con CV\n",
    "def EstimarGanancia_AUC_lightgbm(trial, X, y, seeds):\n",
    "    aucs_semillas = []\n",
    "\n",
    "    for seed in seeds:\n",
    "        param = {\n",
    "            # Configs fijas\n",
    "            \"objective\": \"binary\",\n",
    "            \"metric\": \"auc\",\n",
    "            \"verbosity\": -1,\n",
    "            \"seed\": seed,\n",
    "\n",
    "            # Hiperparámetros a tunear\n",
    "            \"boosting_type\": trial.suggest_categorical(\"boosting_type\", [\"gbdt\", \"dart\"]),\n",
    "            \"num_iterations\": trial.suggest_int(\"num_iterations\", 10, 1500),\n",
    "            \"learning_rate\": trial.suggest_float(\"learning_rate\", 0.01, 0.3),\n",
    "            \"num_leaves\": trial.suggest_int(\"num_leaves\", 500, 2200),\n",
    "            \"feature_fraction\": trial.suggest_float(\"feature_fraction\", 0.4, 1.0),\n",
    "            \"max_depth\": trial.suggest_int(\"max_depth\", -1, 18),\n",
    "            \"min_data_in_leaf\": trial.suggest_int(\"min_data_in_leaf\", 1, 1500),\n",
    "            \"lambda_l1\": trial.suggest_float(\"lambda_l1\", 0.0, 15.0),\n",
    "            \"lambda_l2\": trial.suggest_float(\"lambda_l2\", 0.0, 15.0),\n",
    "            \"min_gain_to_split\": trial.suggest_float(\"min_gain_to_split\", 0.0, 10.0),\n",
    "            \"bagging_fraction\": trial.suggest_float(\"bagging_fraction\", 0.4, 1.0),\n",
    "            \"bagging_freq\": trial.suggest_int(\"bagging_freq\", 1, 15),\n",
    "            \"min_sum_hessian_in_leaf\": trial.suggest_float(\"min_sum_hessian_in_leaf\", 0.001, 20.0),\n",
    "\n",
    "            # Nuevos sugeridos\n",
    "            \"scale_pos_weight\": trial.suggest_float(\"scale_pos_weight\", 1.0, 50.0),\n",
    "            \"max_bin\": trial.suggest_int(\"max_bin\", 25, 100),\n",
    "        }\n",
    "\n",
    "\n",
    "\n",
    "        cv = StratifiedKFold(\n",
    "            n_splits=PARAM[\"hyperparametertuning\"][\"xval_folds\"],\n",
    "            shuffle=True,\n",
    "            random_state=seed\n",
    "        )\n",
    "\n",
    "        aucs = []\n",
    "        for train_idx, valid_idx in cv.split(X, y):\n",
    "            lgb_train = lgb.Dataset(X.iloc[train_idx].astype(np.float32), label=y.iloc[train_idx].astype(np.int32))\n",
    "            lgb_valid = lgb.Dataset(X.iloc[valid_idx].astype(np.float32), label=y.iloc[valid_idx].astype(np.int32))\n",
    "\n",
    "            model = lgb.train(\n",
    "                param,\n",
    "                lgb_train,\n",
    "                valid_sets=[lgb_valid],\n",
    "                callbacks=[lgb.early_stopping(stopping_rounds=50), lgb.log_evaluation(period=0)]\n",
    "            )\n",
    "            preds = model.predict(X.iloc[valid_idx])\n",
    "            auc = roc_auc_score(y.iloc[valid_idx], preds)\n",
    "            aucs.append(auc)\n",
    "\n",
    "        aucs_semillas.append(np.mean(aucs))\n",
    "\n",
    "    return np.mean(aucs_semillas)\n",
    "\n"
   ]
  },
  {
   "cell_type": "markdown",
   "id": "9436db79",
   "metadata": {},
   "source": [
    "#### Realizo la optimización bayesiana, primero con 25 trials random y luego con 35 TPESampler"
   ]
  },
  {
   "cell_type": "code",
   "execution_count": 30,
   "id": "d42e7250",
   "metadata": {},
   "outputs": [
    {
     "name": "stderr",
     "output_type": "stream",
     "text": [
      "[I 2025-10-09 17:43:41,209] A new study created in memory with name: no-name-e49acb07-bf8e-4a97-831c-def26d9844ee\n"
     ]
    },
    {
     "name": "stdout",
     "output_type": "stream",
     "text": [
      "Training until validation scores don't improve for 50 rounds\n",
      "Early stopping, best iteration is:\n",
      "[153]\tvalid_0's auc: 0.934259\n",
      "Training until validation scores don't improve for 50 rounds\n",
      "Early stopping, best iteration is:\n",
      "[286]\tvalid_0's auc: 0.93893\n",
      "Training until validation scores don't improve for 50 rounds\n",
      "Early stopping, best iteration is:\n",
      "[113]\tvalid_0's auc: 0.924586\n",
      "Training until validation scores don't improve for 50 rounds\n",
      "Early stopping, best iteration is:\n",
      "[237]\tvalid_0's auc: 0.931972\n",
      "Training until validation scores don't improve for 50 rounds\n",
      "Early stopping, best iteration is:\n",
      "[206]\tvalid_0's auc: 0.937233\n"
     ]
    },
    {
     "name": "stderr",
     "output_type": "stream",
     "text": [
      "[I 2025-10-09 17:44:13,461] Trial 0 finished with value: 0.9333960566045505 and parameters: {'boosting_type': 'gbdt', 'num_iterations': 792, 'learning_rate': 0.12225517684754826, 'num_leaves': 1737, 'feature_fraction': 0.5474910314574816, 'max_depth': 9, 'min_data_in_leaf': 699, 'lambda_l1': 11.364219835973833, 'lambda_l2': 10.587416170941841, 'min_gain_to_split': 9.31713699079583, 'bagging_fraction': 0.8497372222417328, 'bagging_freq': 5, 'min_sum_hessian_in_leaf': 0.7384833885205929, 'scale_pos_weight': 26.29157771380609, 'max_bin': 82}. Best is trial 0 with value: 0.9333960566045505.\n",
      "C:\\Users\\Lucas\\AppData\\Local\\Packages\\PythonSoftwareFoundation.Python.3.12_qbz5n2kfra8p0\\LocalCache\\local-packages\\Python312\\site-packages\\lightgbm\\callback.py:333: UserWarning: Early stopping is not available in dart mode\n",
      "  _log_warning(\"Early stopping is not available in dart mode\")\n",
      "C:\\Users\\Lucas\\AppData\\Local\\Packages\\PythonSoftwareFoundation.Python.3.12_qbz5n2kfra8p0\\LocalCache\\local-packages\\Python312\\site-packages\\lightgbm\\callback.py:333: UserWarning: Early stopping is not available in dart mode\n",
      "  _log_warning(\"Early stopping is not available in dart mode\")\n",
      "C:\\Users\\Lucas\\AppData\\Local\\Packages\\PythonSoftwareFoundation.Python.3.12_qbz5n2kfra8p0\\LocalCache\\local-packages\\Python312\\site-packages\\lightgbm\\callback.py:333: UserWarning: Early stopping is not available in dart mode\n",
      "  _log_warning(\"Early stopping is not available in dart mode\")\n",
      "C:\\Users\\Lucas\\AppData\\Local\\Packages\\PythonSoftwareFoundation.Python.3.12_qbz5n2kfra8p0\\LocalCache\\local-packages\\Python312\\site-packages\\lightgbm\\callback.py:333: UserWarning: Early stopping is not available in dart mode\n",
      "  _log_warning(\"Early stopping is not available in dart mode\")\n",
      "C:\\Users\\Lucas\\AppData\\Local\\Packages\\PythonSoftwareFoundation.Python.3.12_qbz5n2kfra8p0\\LocalCache\\local-packages\\Python312\\site-packages\\lightgbm\\callback.py:333: UserWarning: Early stopping is not available in dart mode\n",
      "  _log_warning(\"Early stopping is not available in dart mode\")\n",
      "[I 2025-10-09 17:45:05,976] Trial 1 finished with value: 0.932553679419905 and parameters: {'boosting_type': 'dart', 'num_iterations': 398, 'learning_rate': 0.2101243616150314, 'num_leaves': 1980, 'feature_fraction': 0.7289920139767798, 'max_depth': 4, 'min_data_in_leaf': 115, 'lambda_l1': 9.170198215200443, 'lambda_l2': 12.251988569169685, 'min_gain_to_split': 6.709604916219885, 'bagging_fraction': 0.8599079405644661, 'bagging_freq': 1, 'min_sum_hessian_in_leaf': 10.150168208529177, 'scale_pos_weight': 41.920117235810814, 'max_bin': 44}. Best is trial 0 with value: 0.9333960566045505.\n",
      "C:\\Users\\Lucas\\AppData\\Local\\Packages\\PythonSoftwareFoundation.Python.3.12_qbz5n2kfra8p0\\LocalCache\\local-packages\\Python312\\site-packages\\lightgbm\\callback.py:333: UserWarning: Early stopping is not available in dart mode\n",
      "  _log_warning(\"Early stopping is not available in dart mode\")\n",
      "C:\\Users\\Lucas\\AppData\\Local\\Packages\\PythonSoftwareFoundation.Python.3.12_qbz5n2kfra8p0\\LocalCache\\local-packages\\Python312\\site-packages\\lightgbm\\callback.py:333: UserWarning: Early stopping is not available in dart mode\n",
      "  _log_warning(\"Early stopping is not available in dart mode\")\n",
      "C:\\Users\\Lucas\\AppData\\Local\\Packages\\PythonSoftwareFoundation.Python.3.12_qbz5n2kfra8p0\\LocalCache\\local-packages\\Python312\\site-packages\\lightgbm\\callback.py:333: UserWarning: Early stopping is not available in dart mode\n",
      "  _log_warning(\"Early stopping is not available in dart mode\")\n",
      "C:\\Users\\Lucas\\AppData\\Local\\Packages\\PythonSoftwareFoundation.Python.3.12_qbz5n2kfra8p0\\LocalCache\\local-packages\\Python312\\site-packages\\lightgbm\\callback.py:333: UserWarning: Early stopping is not available in dart mode\n",
      "  _log_warning(\"Early stopping is not available in dart mode\")\n",
      "C:\\Users\\Lucas\\AppData\\Local\\Packages\\PythonSoftwareFoundation.Python.3.12_qbz5n2kfra8p0\\LocalCache\\local-packages\\Python312\\site-packages\\lightgbm\\callback.py:333: UserWarning: Early stopping is not available in dart mode\n",
      "  _log_warning(\"Early stopping is not available in dart mode\")\n",
      "[I 2025-10-09 17:53:54,861] Trial 2 finished with value: 0.9355306790906649 and parameters: {'boosting_type': 'dart', 'num_iterations': 1468, 'learning_rate': 0.2234519989212203, 'num_leaves': 1252, 'feature_fraction': 0.5843213170604729, 'max_depth': 15, 'min_data_in_leaf': 1297, 'lambda_l1': 4.043697128781697, 'lambda_l2': 8.54184607780546, 'min_gain_to_split': 1.0733786937050205, 'bagging_fraction': 0.9791679125728525, 'bagging_freq': 12, 'min_sum_hessian_in_leaf': 15.585626385117594, 'scale_pos_weight': 25.766695646334774, 'max_bin': 25}. Best is trial 2 with value: 0.9355306790906649.\n"
     ]
    },
    {
     "name": "stdout",
     "output_type": "stream",
     "text": [
      "Training until validation scores don't improve for 50 rounds\n",
      "Early stopping, best iteration is:\n",
      "[98]\tvalid_0's auc: 0.93117\n",
      "Training until validation scores don't improve for 50 rounds\n",
      "Early stopping, best iteration is:\n",
      "[58]\tvalid_0's auc: 0.933147\n",
      "Training until validation scores don't improve for 50 rounds\n",
      "Early stopping, best iteration is:\n",
      "[84]\tvalid_0's auc: 0.92361\n",
      "Training until validation scores don't improve for 50 rounds\n",
      "Early stopping, best iteration is:\n",
      "[126]\tvalid_0's auc: 0.931335\n",
      "Training until validation scores don't improve for 50 rounds\n"
     ]
    },
    {
     "name": "stderr",
     "output_type": "stream",
     "text": [
      "[I 2025-10-09 17:54:13,723] Trial 3 finished with value: 0.9308308002502311 and parameters: {'boosting_type': 'gbdt', 'num_iterations': 344, 'learning_rate': 0.19751552165303163, 'num_leaves': 1360, 'feature_fraction': 0.9884991998440884, 'max_depth': 18, 'min_data_in_leaf': 228, 'lambda_l1': 3.7874830689391676, 'lambda_l2': 10.531878052720483, 'min_gain_to_split': 4.195709152358756, 'bagging_fraction': 0.7353577602300094, 'bagging_freq': 12, 'min_sum_hessian_in_leaf': 16.702865306562057, 'scale_pos_weight': 42.32516657436609, 'max_bin': 56}. Best is trial 2 with value: 0.9355306790906649.\n"
     ]
    },
    {
     "name": "stdout",
     "output_type": "stream",
     "text": [
      "Early stopping, best iteration is:\n",
      "[93]\tvalid_0's auc: 0.934892\n",
      "Training until validation scores don't improve for 50 rounds\n",
      "Early stopping, best iteration is:\n",
      "[167]\tvalid_0's auc: 0.924762\n",
      "Training until validation scores don't improve for 50 rounds\n",
      "Early stopping, best iteration is:\n",
      "[302]\tvalid_0's auc: 0.930719\n",
      "Training until validation scores don't improve for 50 rounds\n",
      "Early stopping, best iteration is:\n",
      "[314]\tvalid_0's auc: 0.918613\n",
      "Training until validation scores don't improve for 50 rounds\n",
      "Early stopping, best iteration is:\n",
      "[216]\tvalid_0's auc: 0.923555\n",
      "Training until validation scores don't improve for 50 rounds\n"
     ]
    },
    {
     "name": "stderr",
     "output_type": "stream",
     "text": [
      "[I 2025-10-09 17:54:25,499] Trial 4 finished with value: 0.9252587192900714 and parameters: {'boosting_type': 'gbdt', 'num_iterations': 1244, 'learning_rate': 0.23759189065873848, 'num_leaves': 1064, 'feature_fraction': 0.8606159362039743, 'max_depth': 2, 'min_data_in_leaf': 1215, 'lambda_l1': 9.065860731493368, 'lambda_l2': 14.439747590356081, 'min_gain_to_split': 3.032701364415259, 'bagging_fraction': 0.4242177341316495, 'bagging_freq': 3, 'min_sum_hessian_in_leaf': 9.485769957819821, 'scale_pos_weight': 47.81294957717391, 'max_bin': 32}. Best is trial 2 with value: 0.9355306790906649.\n"
     ]
    },
    {
     "name": "stdout",
     "output_type": "stream",
     "text": [
      "Early stopping, best iteration is:\n",
      "[116]\tvalid_0's auc: 0.928644\n",
      "Training until validation scores don't improve for 50 rounds\n",
      "Early stopping, best iteration is:\n",
      "[254]\tvalid_0's auc: 0.932119\n",
      "Training until validation scores don't improve for 50 rounds\n",
      "Early stopping, best iteration is:\n",
      "[147]\tvalid_0's auc: 0.935253\n",
      "Training until validation scores don't improve for 50 rounds\n",
      "Early stopping, best iteration is:\n",
      "[234]\tvalid_0's auc: 0.925601\n",
      "Training until validation scores don't improve for 50 rounds\n",
      "Early stopping, best iteration is:\n",
      "[282]\tvalid_0's auc: 0.932558\n",
      "Training until validation scores don't improve for 50 rounds\n"
     ]
    },
    {
     "name": "stderr",
     "output_type": "stream",
     "text": [
      "[I 2025-10-09 17:54:45,968] Trial 5 finished with value: 0.93195536340431 and parameters: {'boosting_type': 'gbdt', 'num_iterations': 1259, 'learning_rate': 0.12457339613690484, 'num_leaves': 1088, 'feature_fraction': 0.8452703104159863, 'max_depth': 17, 'min_data_in_leaf': 1281, 'lambda_l1': 11.872316603351297, 'lambda_l2': 0.6106391887910373, 'min_gain_to_split': 0.9627147993500484, 'bagging_fraction': 0.5065580786614856, 'bagging_freq': 14, 'min_sum_hessian_in_leaf': 12.058302711586734, 'scale_pos_weight': 37.20409755596174, 'max_bin': 26}. Best is trial 2 with value: 0.9355306790906649.\n"
     ]
    },
    {
     "name": "stdout",
     "output_type": "stream",
     "text": [
      "Early stopping, best iteration is:\n",
      "[159]\tvalid_0's auc: 0.934245\n",
      "Training until validation scores don't improve for 50 rounds\n",
      "Early stopping, best iteration is:\n",
      "[182]\tvalid_0's auc: 0.929252\n",
      "Training until validation scores don't improve for 50 rounds\n",
      "Early stopping, best iteration is:\n",
      "[129]\tvalid_0's auc: 0.934966\n",
      "Training until validation scores don't improve for 50 rounds\n",
      "Early stopping, best iteration is:\n",
      "[170]\tvalid_0's auc: 0.924155\n",
      "Training until validation scores don't improve for 50 rounds\n",
      "Early stopping, best iteration is:\n",
      "[103]\tvalid_0's auc: 0.928345\n",
      "Training until validation scores don't improve for 50 rounds\n"
     ]
    },
    {
     "name": "stderr",
     "output_type": "stream",
     "text": [
      "[I 2025-10-09 17:55:09,005] Trial 6 finished with value: 0.9299289865477606 and parameters: {'boosting_type': 'gbdt', 'num_iterations': 561, 'learning_rate': 0.17618322853587112, 'num_leaves': 1020, 'feature_fraction': 0.4503064350260201, 'max_depth': 12, 'min_data_in_leaf': 1165, 'lambda_l1': 6.599835547629789, 'lambda_l2': 5.693796896366364, 'min_gain_to_split': 6.390210091583545, 'bagging_fraction': 0.6542302674616324, 'bagging_freq': 10, 'min_sum_hessian_in_leaf': 16.651300551238236, 'scale_pos_weight': 3.5822215146159495, 'max_bin': 67}. Best is trial 2 with value: 0.9355306790906649.\n"
     ]
    },
    {
     "name": "stdout",
     "output_type": "stream",
     "text": [
      "Early stopping, best iteration is:\n",
      "[112]\tvalid_0's auc: 0.932926\n"
     ]
    },
    {
     "name": "stderr",
     "output_type": "stream",
     "text": [
      "C:\\Users\\Lucas\\AppData\\Local\\Packages\\PythonSoftwareFoundation.Python.3.12_qbz5n2kfra8p0\\LocalCache\\local-packages\\Python312\\site-packages\\lightgbm\\callback.py:333: UserWarning: Early stopping is not available in dart mode\n",
      "  _log_warning(\"Early stopping is not available in dart mode\")\n",
      "C:\\Users\\Lucas\\AppData\\Local\\Packages\\PythonSoftwareFoundation.Python.3.12_qbz5n2kfra8p0\\LocalCache\\local-packages\\Python312\\site-packages\\lightgbm\\callback.py:333: UserWarning: Early stopping is not available in dart mode\n",
      "  _log_warning(\"Early stopping is not available in dart mode\")\n",
      "C:\\Users\\Lucas\\AppData\\Local\\Packages\\PythonSoftwareFoundation.Python.3.12_qbz5n2kfra8p0\\LocalCache\\local-packages\\Python312\\site-packages\\lightgbm\\callback.py:333: UserWarning: Early stopping is not available in dart mode\n",
      "  _log_warning(\"Early stopping is not available in dart mode\")\n",
      "C:\\Users\\Lucas\\AppData\\Local\\Packages\\PythonSoftwareFoundation.Python.3.12_qbz5n2kfra8p0\\LocalCache\\local-packages\\Python312\\site-packages\\lightgbm\\callback.py:333: UserWarning: Early stopping is not available in dart mode\n",
      "  _log_warning(\"Early stopping is not available in dart mode\")\n",
      "C:\\Users\\Lucas\\AppData\\Local\\Packages\\PythonSoftwareFoundation.Python.3.12_qbz5n2kfra8p0\\LocalCache\\local-packages\\Python312\\site-packages\\lightgbm\\callback.py:333: UserWarning: Early stopping is not available in dart mode\n",
      "  _log_warning(\"Early stopping is not available in dart mode\")\n",
      "[I 2025-10-09 17:57:52,045] Trial 7 finished with value: 0.9333599711444867 and parameters: {'boosting_type': 'dart', 'num_iterations': 1369, 'learning_rate': 0.12163552309622835, 'num_leaves': 780, 'feature_fraction': 0.9388821996441759, 'max_depth': 3, 'min_data_in_leaf': 1221, 'lambda_l1': 0.33889751404144963, 'lambda_l2': 12.219734169211643, 'min_gain_to_split': 7.7805581576127105, 'bagging_fraction': 0.896461540212959, 'bagging_freq': 12, 'min_sum_hessian_in_leaf': 18.13800593798755, 'scale_pos_weight': 26.746429087243808, 'max_bin': 77}. Best is trial 2 with value: 0.9355306790906649.\n"
     ]
    },
    {
     "name": "stdout",
     "output_type": "stream",
     "text": [
      "Training until validation scores don't improve for 50 rounds\n",
      "Early stopping, best iteration is:\n",
      "[107]\tvalid_0's auc: 0.931599\n",
      "Training until validation scores don't improve for 50 rounds\n",
      "Early stopping, best iteration is:\n",
      "[138]\tvalid_0's auc: 0.93607\n",
      "Training until validation scores don't improve for 50 rounds\n",
      "Early stopping, best iteration is:\n",
      "[147]\tvalid_0's auc: 0.923892\n",
      "Training until validation scores don't improve for 50 rounds\n",
      "Early stopping, best iteration is:\n",
      "[167]\tvalid_0's auc: 0.929699\n",
      "Training until validation scores don't improve for 50 rounds\n"
     ]
    },
    {
     "name": "stderr",
     "output_type": "stream",
     "text": [
      "[I 2025-10-09 17:58:13,285] Trial 8 finished with value: 0.9308078912561987 and parameters: {'boosting_type': 'gbdt', 'num_iterations': 1280, 'learning_rate': 0.16474011352884363, 'num_leaves': 1124, 'feature_fraction': 0.49795562034944985, 'max_depth': 8, 'min_data_in_leaf': 768, 'lambda_l1': 10.85797181107384, 'lambda_l2': 6.817124627571395, 'min_gain_to_split': 8.904750409915994, 'bagging_fraction': 0.6647726140450444, 'bagging_freq': 6, 'min_sum_hessian_in_leaf': 5.694443131770792, 'scale_pos_weight': 17.61632226539379, 'max_bin': 70}. Best is trial 2 with value: 0.9355306790906649.\n"
     ]
    },
    {
     "name": "stdout",
     "output_type": "stream",
     "text": [
      "Early stopping, best iteration is:\n",
      "[54]\tvalid_0's auc: 0.93278\n"
     ]
    },
    {
     "name": "stderr",
     "output_type": "stream",
     "text": [
      "C:\\Users\\Lucas\\AppData\\Local\\Packages\\PythonSoftwareFoundation.Python.3.12_qbz5n2kfra8p0\\LocalCache\\local-packages\\Python312\\site-packages\\lightgbm\\callback.py:333: UserWarning: Early stopping is not available in dart mode\n",
      "  _log_warning(\"Early stopping is not available in dart mode\")\n",
      "C:\\Users\\Lucas\\AppData\\Local\\Packages\\PythonSoftwareFoundation.Python.3.12_qbz5n2kfra8p0\\LocalCache\\local-packages\\Python312\\site-packages\\lightgbm\\callback.py:333: UserWarning: Early stopping is not available in dart mode\n",
      "  _log_warning(\"Early stopping is not available in dart mode\")\n",
      "C:\\Users\\Lucas\\AppData\\Local\\Packages\\PythonSoftwareFoundation.Python.3.12_qbz5n2kfra8p0\\LocalCache\\local-packages\\Python312\\site-packages\\lightgbm\\callback.py:333: UserWarning: Early stopping is not available in dart mode\n",
      "  _log_warning(\"Early stopping is not available in dart mode\")\n",
      "C:\\Users\\Lucas\\AppData\\Local\\Packages\\PythonSoftwareFoundation.Python.3.12_qbz5n2kfra8p0\\LocalCache\\local-packages\\Python312\\site-packages\\lightgbm\\callback.py:333: UserWarning: Early stopping is not available in dart mode\n",
      "  _log_warning(\"Early stopping is not available in dart mode\")\n",
      "C:\\Users\\Lucas\\AppData\\Local\\Packages\\PythonSoftwareFoundation.Python.3.12_qbz5n2kfra8p0\\LocalCache\\local-packages\\Python312\\site-packages\\lightgbm\\callback.py:333: UserWarning: Early stopping is not available in dart mode\n",
      "  _log_warning(\"Early stopping is not available in dart mode\")\n",
      "[I 2025-10-09 18:03:00,971] Trial 9 finished with value: 0.9316940179914062 and parameters: {'boosting_type': 'dart', 'num_iterations': 1413, 'learning_rate': 0.10884961286224287, 'num_leaves': 1386, 'feature_fraction': 0.610968212248142, 'max_depth': 10, 'min_data_in_leaf': 1393, 'lambda_l1': 5.072234570434158, 'lambda_l2': 6.525250772449448, 'min_gain_to_split': 0.8419426356355431, 'bagging_fraction': 0.44655019294616816, 'bagging_freq': 13, 'min_sum_hessian_in_leaf': 1.1790304919725587, 'scale_pos_weight': 26.971328907322814, 'max_bin': 93}. Best is trial 2 with value: 0.9355306790906649.\n"
     ]
    },
    {
     "name": "stdout",
     "output_type": "stream",
     "text": [
      "Training until validation scores don't improve for 50 rounds\n",
      "Early stopping, best iteration is:\n",
      "[756]\tvalid_0's auc: 0.93952\n",
      "Training until validation scores don't improve for 50 rounds\n",
      "Early stopping, best iteration is:\n",
      "[686]\tvalid_0's auc: 0.943896\n",
      "Training until validation scores don't improve for 50 rounds\n",
      "Did not meet early stopping. Best iteration is:\n",
      "[806]\tvalid_0's auc: 0.933885\n",
      "Training until validation scores don't improve for 50 rounds\n",
      "Early stopping, best iteration is:\n",
      "[739]\tvalid_0's auc: 0.939529\n",
      "Training until validation scores don't improve for 50 rounds\n"
     ]
    },
    {
     "name": "stderr",
     "output_type": "stream",
     "text": [
      "[I 2025-10-09 18:04:46,760] Trial 10 finished with value: 0.9388896091458069 and parameters: {'boosting_type': 'gbdt', 'num_iterations': 816, 'learning_rate': 0.0630946452762805, 'num_leaves': 1560, 'feature_fraction': 0.907593977727425, 'max_depth': 14, 'min_data_in_leaf': 134, 'lambda_l1': 0.8781329101264995, 'lambda_l2': 2.891694136024892, 'min_gain_to_split': 0.020750712643884395, 'bagging_fraction': 0.9434327601296862, 'bagging_freq': 12, 'min_sum_hessian_in_leaf': 3.434389185185518, 'scale_pos_weight': 21.88266235984722, 'max_bin': 44}. Best is trial 10 with value: 0.9388896091458069.\n"
     ]
    },
    {
     "name": "stdout",
     "output_type": "stream",
     "text": [
      "Early stopping, best iteration is:\n",
      "[117]\tvalid_0's auc: 0.937618\n"
     ]
    },
    {
     "name": "stderr",
     "output_type": "stream",
     "text": [
      "C:\\Users\\Lucas\\AppData\\Local\\Packages\\PythonSoftwareFoundation.Python.3.12_qbz5n2kfra8p0\\LocalCache\\local-packages\\Python312\\site-packages\\lightgbm\\callback.py:333: UserWarning: Early stopping is not available in dart mode\n",
      "  _log_warning(\"Early stopping is not available in dart mode\")\n",
      "C:\\Users\\Lucas\\AppData\\Local\\Packages\\PythonSoftwareFoundation.Python.3.12_qbz5n2kfra8p0\\LocalCache\\local-packages\\Python312\\site-packages\\lightgbm\\callback.py:333: UserWarning: Early stopping is not available in dart mode\n",
      "  _log_warning(\"Early stopping is not available in dart mode\")\n",
      "C:\\Users\\Lucas\\AppData\\Local\\Packages\\PythonSoftwareFoundation.Python.3.12_qbz5n2kfra8p0\\LocalCache\\local-packages\\Python312\\site-packages\\lightgbm\\callback.py:333: UserWarning: Early stopping is not available in dart mode\n",
      "  _log_warning(\"Early stopping is not available in dart mode\")\n",
      "C:\\Users\\Lucas\\AppData\\Local\\Packages\\PythonSoftwareFoundation.Python.3.12_qbz5n2kfra8p0\\LocalCache\\local-packages\\Python312\\site-packages\\lightgbm\\callback.py:333: UserWarning: Early stopping is not available in dart mode\n",
      "  _log_warning(\"Early stopping is not available in dart mode\")\n",
      "C:\\Users\\Lucas\\AppData\\Local\\Packages\\PythonSoftwareFoundation.Python.3.12_qbz5n2kfra8p0\\LocalCache\\local-packages\\Python312\\site-packages\\lightgbm\\callback.py:333: UserWarning: Early stopping is not available in dart mode\n",
      "  _log_warning(\"Early stopping is not available in dart mode\")\n",
      "[I 2025-10-09 18:06:28,503] Trial 11 finished with value: 0.9326457473631168 and parameters: {'boosting_type': 'dart', 'num_iterations': 513, 'learning_rate': 0.2691121983225797, 'num_leaves': 1805, 'feature_fraction': 0.5798343229781315, 'max_depth': 7, 'min_data_in_leaf': 385, 'lambda_l1': 10.002878890025022, 'lambda_l2': 10.72758907153079, 'min_gain_to_split': 1.0447698191032884, 'bagging_fraction': 0.6189278610053484, 'bagging_freq': 15, 'min_sum_hessian_in_leaf': 12.949730038160068, 'scale_pos_weight': 29.03964136505476, 'max_bin': 90}. Best is trial 10 with value: 0.9388896091458069.\n",
      "C:\\Users\\Lucas\\AppData\\Local\\Packages\\PythonSoftwareFoundation.Python.3.12_qbz5n2kfra8p0\\LocalCache\\local-packages\\Python312\\site-packages\\lightgbm\\callback.py:333: UserWarning: Early stopping is not available in dart mode\n",
      "  _log_warning(\"Early stopping is not available in dart mode\")\n",
      "C:\\Users\\Lucas\\AppData\\Local\\Packages\\PythonSoftwareFoundation.Python.3.12_qbz5n2kfra8p0\\LocalCache\\local-packages\\Python312\\site-packages\\lightgbm\\callback.py:333: UserWarning: Early stopping is not available in dart mode\n",
      "  _log_warning(\"Early stopping is not available in dart mode\")\n",
      "C:\\Users\\Lucas\\AppData\\Local\\Packages\\PythonSoftwareFoundation.Python.3.12_qbz5n2kfra8p0\\LocalCache\\local-packages\\Python312\\site-packages\\lightgbm\\callback.py:333: UserWarning: Early stopping is not available in dart mode\n",
      "  _log_warning(\"Early stopping is not available in dart mode\")\n",
      "C:\\Users\\Lucas\\AppData\\Local\\Packages\\PythonSoftwareFoundation.Python.3.12_qbz5n2kfra8p0\\LocalCache\\local-packages\\Python312\\site-packages\\lightgbm\\callback.py:333: UserWarning: Early stopping is not available in dart mode\n",
      "  _log_warning(\"Early stopping is not available in dart mode\")\n",
      "C:\\Users\\Lucas\\AppData\\Local\\Packages\\PythonSoftwareFoundation.Python.3.12_qbz5n2kfra8p0\\LocalCache\\local-packages\\Python312\\site-packages\\lightgbm\\callback.py:333: UserWarning: Early stopping is not available in dart mode\n",
      "  _log_warning(\"Early stopping is not available in dart mode\")\n",
      "[I 2025-10-09 18:07:50,729] Trial 12 finished with value: 0.932618539223397 and parameters: {'boosting_type': 'dart', 'num_iterations': 611, 'learning_rate': 0.27998411987420013, 'num_leaves': 1665, 'feature_fraction': 0.608909067736163, 'max_depth': 18, 'min_data_in_leaf': 1441, 'lambda_l1': 2.7779880522247913, 'lambda_l2': 6.16841294436615, 'min_gain_to_split': 4.578718555250857, 'bagging_fraction': 0.6436248987121812, 'bagging_freq': 14, 'min_sum_hessian_in_leaf': 17.637767187332695, 'scale_pos_weight': 2.382211806682646, 'max_bin': 92}. Best is trial 10 with value: 0.9388896091458069.\n"
     ]
    },
    {
     "name": "stdout",
     "output_type": "stream",
     "text": [
      "Training until validation scores don't improve for 50 rounds\n",
      "Did not meet early stopping. Best iteration is:\n",
      "[34]\tvalid_0's auc: 0.922743\n",
      "Training until validation scores don't improve for 50 rounds\n",
      "Did not meet early stopping. Best iteration is:\n",
      "[34]\tvalid_0's auc: 0.925756\n",
      "Training until validation scores don't improve for 50 rounds\n",
      "Did not meet early stopping. Best iteration is:\n",
      "[34]\tvalid_0's auc: 0.916476\n",
      "Training until validation scores don't improve for 50 rounds\n",
      "Did not meet early stopping. Best iteration is:\n",
      "[32]\tvalid_0's auc: 0.923158\n",
      "Training until validation scores don't improve for 50 rounds\n"
     ]
    },
    {
     "name": "stderr",
     "output_type": "stream",
     "text": [
      "[I 2025-10-09 18:08:04,134] Trial 13 finished with value: 0.9230627047095542 and parameters: {'boosting_type': 'gbdt', 'num_iterations': 34, 'learning_rate': 0.013204299589175392, 'num_leaves': 1085, 'feature_fraction': 0.6089721087759206, 'max_depth': 13, 'min_data_in_leaf': 44, 'lambda_l1': 13.643759952578618, 'lambda_l2': 10.265750772333572, 'min_gain_to_split': 5.5635466473467785, 'bagging_fraction': 0.9819878900428428, 'bagging_freq': 3, 'min_sum_hessian_in_leaf': 3.44160237782896, 'scale_pos_weight': 13.101766139039928, 'max_bin': 90}. Best is trial 10 with value: 0.9388896091458069.\n"
     ]
    },
    {
     "name": "stdout",
     "output_type": "stream",
     "text": [
      "Did not meet early stopping. Best iteration is:\n",
      "[34]\tvalid_0's auc: 0.92718\n",
      "Training until validation scores don't improve for 50 rounds\n",
      "Early stopping, best iteration is:\n",
      "[193]\tvalid_0's auc: 0.927713\n",
      "Training until validation scores don't improve for 50 rounds\n",
      "Early stopping, best iteration is:\n",
      "[164]\tvalid_0's auc: 0.932792\n",
      "Training until validation scores don't improve for 50 rounds\n",
      "Early stopping, best iteration is:\n",
      "[122]\tvalid_0's auc: 0.918804\n",
      "Training until validation scores don't improve for 50 rounds\n",
      "Early stopping, best iteration is:\n",
      "[220]\tvalid_0's auc: 0.923134\n",
      "Training until validation scores don't improve for 50 rounds\n"
     ]
    },
    {
     "name": "stderr",
     "output_type": "stream",
     "text": [
      "[I 2025-10-09 18:08:33,886] Trial 14 finished with value: 0.9262814833140249 and parameters: {'boosting_type': 'gbdt', 'num_iterations': 814, 'learning_rate': 0.26248442960634205, 'num_leaves': 990, 'feature_fraction': 0.5608673800727105, 'max_depth': 5, 'min_data_in_leaf': 494, 'lambda_l1': 4.290298426538628, 'lambda_l2': 5.707085873226939, 'min_gain_to_split': 1.4456340981578475, 'bagging_fraction': 0.6484300119474493, 'bagging_freq': 15, 'min_sum_hessian_in_leaf': 7.62823083560018, 'scale_pos_weight': 46.611112238251835, 'max_bin': 88}. Best is trial 10 with value: 0.9388896091458069.\n"
     ]
    },
    {
     "name": "stdout",
     "output_type": "stream",
     "text": [
      "Early stopping, best iteration is:\n",
      "[131]\tvalid_0's auc: 0.928965\n",
      "Training until validation scores don't improve for 50 rounds\n",
      "Early stopping, best iteration is:\n",
      "[213]\tvalid_0's auc: 0.932727\n",
      "Training until validation scores don't improve for 50 rounds\n",
      "Early stopping, best iteration is:\n",
      "[158]\tvalid_0's auc: 0.935048\n",
      "Training until validation scores don't improve for 50 rounds\n",
      "Early stopping, best iteration is:\n",
      "[176]\tvalid_0's auc: 0.924613\n",
      "Training until validation scores don't improve for 50 rounds\n",
      "Early stopping, best iteration is:\n",
      "[68]\tvalid_0's auc: 0.928092\n",
      "Training until validation scores don't improve for 50 rounds\n",
      "Early stopping, best iteration is:\n",
      "[199]\tvalid_0's auc: 0.935242\n"
     ]
    },
    {
     "name": "stderr",
     "output_type": "stream",
     "text": [
      "[I 2025-10-09 18:08:53,036] Trial 15 finished with value: 0.9311445090379443 and parameters: {'boosting_type': 'gbdt', 'num_iterations': 553, 'learning_rate': 0.1778702319437598, 'num_leaves': 1965, 'feature_fraction': 0.6841734786382347, 'max_depth': 5, 'min_data_in_leaf': 878, 'lambda_l1': 7.40855931060639, 'lambda_l2': 1.2361601485154594, 'min_gain_to_split': 2.693711768675083, 'bagging_fraction': 0.9522200012091353, 'bagging_freq': 14, 'min_sum_hessian_in_leaf': 0.6190728668902801, 'scale_pos_weight': 38.443876855763655, 'max_bin': 35}. Best is trial 10 with value: 0.9388896091458069.\n"
     ]
    },
    {
     "name": "stdout",
     "output_type": "stream",
     "text": [
      "Training until validation scores don't improve for 50 rounds\n",
      "Early stopping, best iteration is:\n",
      "[227]\tvalid_0's auc: 0.935038\n",
      "Training until validation scores don't improve for 50 rounds\n",
      "Early stopping, best iteration is:\n",
      "[265]\tvalid_0's auc: 0.938491\n",
      "Training until validation scores don't improve for 50 rounds\n",
      "Early stopping, best iteration is:\n",
      "[272]\tvalid_0's auc: 0.927744\n",
      "Training until validation scores don't improve for 50 rounds\n",
      "Early stopping, best iteration is:\n",
      "[217]\tvalid_0's auc: 0.932752\n",
      "Training until validation scores don't improve for 50 rounds\n",
      "Early stopping, best iteration is:\n",
      "[204]\tvalid_0's auc: 0.938986\n"
     ]
    },
    {
     "name": "stderr",
     "output_type": "stream",
     "text": [
      "[I 2025-10-09 18:09:39,329] Trial 16 finished with value: 0.9346023540975967 and parameters: {'boosting_type': 'gbdt', 'num_iterations': 698, 'learning_rate': 0.08851155315299494, 'num_leaves': 1125, 'feature_fraction': 0.4926157443464741, 'max_depth': 17, 'min_data_in_leaf': 386, 'lambda_l1': 8.577108434080671, 'lambda_l2': 4.973115598932738, 'min_gain_to_split': 7.3580105475108475, 'bagging_fraction': 0.6537044159804061, 'bagging_freq': 11, 'min_sum_hessian_in_leaf': 11.078147557968125, 'scale_pos_weight': 38.10617302475576, 'max_bin': 89}. Best is trial 10 with value: 0.9388896091458069.\n",
      "C:\\Users\\Lucas\\AppData\\Local\\Packages\\PythonSoftwareFoundation.Python.3.12_qbz5n2kfra8p0\\LocalCache\\local-packages\\Python312\\site-packages\\lightgbm\\callback.py:333: UserWarning: Early stopping is not available in dart mode\n",
      "  _log_warning(\"Early stopping is not available in dart mode\")\n",
      "C:\\Users\\Lucas\\AppData\\Local\\Packages\\PythonSoftwareFoundation.Python.3.12_qbz5n2kfra8p0\\LocalCache\\local-packages\\Python312\\site-packages\\lightgbm\\callback.py:333: UserWarning: Early stopping is not available in dart mode\n",
      "  _log_warning(\"Early stopping is not available in dart mode\")\n",
      "C:\\Users\\Lucas\\AppData\\Local\\Packages\\PythonSoftwareFoundation.Python.3.12_qbz5n2kfra8p0\\LocalCache\\local-packages\\Python312\\site-packages\\lightgbm\\callback.py:333: UserWarning: Early stopping is not available in dart mode\n",
      "  _log_warning(\"Early stopping is not available in dart mode\")\n",
      "C:\\Users\\Lucas\\AppData\\Local\\Packages\\PythonSoftwareFoundation.Python.3.12_qbz5n2kfra8p0\\LocalCache\\local-packages\\Python312\\site-packages\\lightgbm\\callback.py:333: UserWarning: Early stopping is not available in dart mode\n",
      "  _log_warning(\"Early stopping is not available in dart mode\")\n",
      "C:\\Users\\Lucas\\AppData\\Local\\Packages\\PythonSoftwareFoundation.Python.3.12_qbz5n2kfra8p0\\LocalCache\\local-packages\\Python312\\site-packages\\lightgbm\\callback.py:333: UserWarning: Early stopping is not available in dart mode\n",
      "  _log_warning(\"Early stopping is not available in dart mode\")\n",
      "[I 2025-10-09 18:14:21,219] Trial 17 finished with value: 0.9356839970065479 and parameters: {'boosting_type': 'dart', 'num_iterations': 1100, 'learning_rate': 0.12902093403293977, 'num_leaves': 1963, 'feature_fraction': 0.6986305863537559, 'max_depth': 10, 'min_data_in_leaf': 1179, 'lambda_l1': 11.740070573018722, 'lambda_l2': 2.4041262392086518, 'min_gain_to_split': 7.9136295125948175, 'bagging_fraction': 0.8526217444687838, 'bagging_freq': 1, 'min_sum_hessian_in_leaf': 2.77981361462114, 'scale_pos_weight': 37.65876581168383, 'max_bin': 63}. Best is trial 10 with value: 0.9388896091458069.\n",
      "C:\\Users\\Lucas\\AppData\\Local\\Packages\\PythonSoftwareFoundation.Python.3.12_qbz5n2kfra8p0\\LocalCache\\local-packages\\Python312\\site-packages\\lightgbm\\callback.py:333: UserWarning: Early stopping is not available in dart mode\n",
      "  _log_warning(\"Early stopping is not available in dart mode\")\n",
      "C:\\Users\\Lucas\\AppData\\Local\\Packages\\PythonSoftwareFoundation.Python.3.12_qbz5n2kfra8p0\\LocalCache\\local-packages\\Python312\\site-packages\\lightgbm\\callback.py:333: UserWarning: Early stopping is not available in dart mode\n",
      "  _log_warning(\"Early stopping is not available in dart mode\")\n",
      "C:\\Users\\Lucas\\AppData\\Local\\Packages\\PythonSoftwareFoundation.Python.3.12_qbz5n2kfra8p0\\LocalCache\\local-packages\\Python312\\site-packages\\lightgbm\\callback.py:333: UserWarning: Early stopping is not available in dart mode\n",
      "  _log_warning(\"Early stopping is not available in dart mode\")\n",
      "C:\\Users\\Lucas\\AppData\\Local\\Packages\\PythonSoftwareFoundation.Python.3.12_qbz5n2kfra8p0\\LocalCache\\local-packages\\Python312\\site-packages\\lightgbm\\callback.py:333: UserWarning: Early stopping is not available in dart mode\n",
      "  _log_warning(\"Early stopping is not available in dart mode\")\n",
      "C:\\Users\\Lucas\\AppData\\Local\\Packages\\PythonSoftwareFoundation.Python.3.12_qbz5n2kfra8p0\\LocalCache\\local-packages\\Python312\\site-packages\\lightgbm\\callback.py:333: UserWarning: Early stopping is not available in dart mode\n",
      "  _log_warning(\"Early stopping is not available in dart mode\")\n",
      "[I 2025-10-09 18:19:49,581] Trial 18 finished with value: 0.9348685269665318 and parameters: {'boosting_type': 'dart', 'num_iterations': 1269, 'learning_rate': 0.2521677679591602, 'num_leaves': 869, 'feature_fraction': 0.6479107190039667, 'max_depth': 10, 'min_data_in_leaf': 316, 'lambda_l1': 11.100222709449694, 'lambda_l2': 6.318453422732299, 'min_gain_to_split': 4.487227851059297, 'bagging_fraction': 0.6982448553100096, 'bagging_freq': 6, 'min_sum_hessian_in_leaf': 1.4898760465964023, 'scale_pos_weight': 46.916303940861155, 'max_bin': 26}. Best is trial 10 with value: 0.9388896091458069.\n",
      "C:\\Users\\Lucas\\AppData\\Local\\Packages\\PythonSoftwareFoundation.Python.3.12_qbz5n2kfra8p0\\LocalCache\\local-packages\\Python312\\site-packages\\lightgbm\\callback.py:333: UserWarning: Early stopping is not available in dart mode\n",
      "  _log_warning(\"Early stopping is not available in dart mode\")\n",
      "C:\\Users\\Lucas\\AppData\\Local\\Packages\\PythonSoftwareFoundation.Python.3.12_qbz5n2kfra8p0\\LocalCache\\local-packages\\Python312\\site-packages\\lightgbm\\callback.py:333: UserWarning: Early stopping is not available in dart mode\n",
      "  _log_warning(\"Early stopping is not available in dart mode\")\n",
      "C:\\Users\\Lucas\\AppData\\Local\\Packages\\PythonSoftwareFoundation.Python.3.12_qbz5n2kfra8p0\\LocalCache\\local-packages\\Python312\\site-packages\\lightgbm\\callback.py:333: UserWarning: Early stopping is not available in dart mode\n",
      "  _log_warning(\"Early stopping is not available in dart mode\")\n",
      "C:\\Users\\Lucas\\AppData\\Local\\Packages\\PythonSoftwareFoundation.Python.3.12_qbz5n2kfra8p0\\LocalCache\\local-packages\\Python312\\site-packages\\lightgbm\\callback.py:333: UserWarning: Early stopping is not available in dart mode\n",
      "  _log_warning(\"Early stopping is not available in dart mode\")\n",
      "C:\\Users\\Lucas\\AppData\\Local\\Packages\\PythonSoftwareFoundation.Python.3.12_qbz5n2kfra8p0\\LocalCache\\local-packages\\Python312\\site-packages\\lightgbm\\callback.py:333: UserWarning: Early stopping is not available in dart mode\n",
      "  _log_warning(\"Early stopping is not available in dart mode\")\n",
      "[I 2025-10-09 18:23:46,870] Trial 19 finished with value: 0.936451904207131 and parameters: {'boosting_type': 'dart', 'num_iterations': 1089, 'learning_rate': 0.27350517292722704, 'num_leaves': 1002, 'feature_fraction': 0.4863115348935168, 'max_depth': 9, 'min_data_in_leaf': 732, 'lambda_l1': 3.7036449396247773, 'lambda_l2': 2.777112275593561, 'min_gain_to_split': 9.754667720962157, 'bagging_fraction': 0.948824738943879, 'bagging_freq': 4, 'min_sum_hessian_in_leaf': 13.315010140092525, 'scale_pos_weight': 23.7445856158587, 'max_bin': 81}. Best is trial 10 with value: 0.9388896091458069.\n",
      "C:\\Users\\Lucas\\AppData\\Local\\Packages\\PythonSoftwareFoundation.Python.3.12_qbz5n2kfra8p0\\LocalCache\\local-packages\\Python312\\site-packages\\lightgbm\\callback.py:333: UserWarning: Early stopping is not available in dart mode\n",
      "  _log_warning(\"Early stopping is not available in dart mode\")\n",
      "C:\\Users\\Lucas\\AppData\\Local\\Packages\\PythonSoftwareFoundation.Python.3.12_qbz5n2kfra8p0\\LocalCache\\local-packages\\Python312\\site-packages\\lightgbm\\callback.py:333: UserWarning: Early stopping is not available in dart mode\n",
      "  _log_warning(\"Early stopping is not available in dart mode\")\n",
      "C:\\Users\\Lucas\\AppData\\Local\\Packages\\PythonSoftwareFoundation.Python.3.12_qbz5n2kfra8p0\\LocalCache\\local-packages\\Python312\\site-packages\\lightgbm\\callback.py:333: UserWarning: Early stopping is not available in dart mode\n",
      "  _log_warning(\"Early stopping is not available in dart mode\")\n",
      "C:\\Users\\Lucas\\AppData\\Local\\Packages\\PythonSoftwareFoundation.Python.3.12_qbz5n2kfra8p0\\LocalCache\\local-packages\\Python312\\site-packages\\lightgbm\\callback.py:333: UserWarning: Early stopping is not available in dart mode\n",
      "  _log_warning(\"Early stopping is not available in dart mode\")\n",
      "C:\\Users\\Lucas\\AppData\\Local\\Packages\\PythonSoftwareFoundation.Python.3.12_qbz5n2kfra8p0\\LocalCache\\local-packages\\Python312\\site-packages\\lightgbm\\callback.py:333: UserWarning: Early stopping is not available in dart mode\n",
      "  _log_warning(\"Early stopping is not available in dart mode\")\n",
      "[I 2025-10-09 18:27:53,237] Trial 20 finished with value: 0.9267211449985894 and parameters: {'boosting_type': 'dart', 'num_iterations': 1302, 'learning_rate': 0.24786948576222229, 'num_leaves': 1301, 'feature_fraction': 0.6934291108202633, 'max_depth': 0, 'min_data_in_leaf': 1297, 'lambda_l1': 10.97930709789074, 'lambda_l2': 5.010402902665988, 'min_gain_to_split': 4.3809576031991675, 'bagging_fraction': 0.41104496492453646, 'bagging_freq': 1, 'min_sum_hessian_in_leaf': 15.429266594098607, 'scale_pos_weight': 41.18338157682724, 'max_bin': 62}. Best is trial 10 with value: 0.9388896091458069.\n",
      "C:\\Users\\Lucas\\AppData\\Local\\Packages\\PythonSoftwareFoundation.Python.3.12_qbz5n2kfra8p0\\LocalCache\\local-packages\\Python312\\site-packages\\lightgbm\\callback.py:333: UserWarning: Early stopping is not available in dart mode\n",
      "  _log_warning(\"Early stopping is not available in dart mode\")\n",
      "C:\\Users\\Lucas\\AppData\\Local\\Packages\\PythonSoftwareFoundation.Python.3.12_qbz5n2kfra8p0\\LocalCache\\local-packages\\Python312\\site-packages\\lightgbm\\callback.py:333: UserWarning: Early stopping is not available in dart mode\n",
      "  _log_warning(\"Early stopping is not available in dart mode\")\n",
      "C:\\Users\\Lucas\\AppData\\Local\\Packages\\PythonSoftwareFoundation.Python.3.12_qbz5n2kfra8p0\\LocalCache\\local-packages\\Python312\\site-packages\\lightgbm\\callback.py:333: UserWarning: Early stopping is not available in dart mode\n",
      "  _log_warning(\"Early stopping is not available in dart mode\")\n",
      "C:\\Users\\Lucas\\AppData\\Local\\Packages\\PythonSoftwareFoundation.Python.3.12_qbz5n2kfra8p0\\LocalCache\\local-packages\\Python312\\site-packages\\lightgbm\\callback.py:333: UserWarning: Early stopping is not available in dart mode\n",
      "  _log_warning(\"Early stopping is not available in dart mode\")\n",
      "C:\\Users\\Lucas\\AppData\\Local\\Packages\\PythonSoftwareFoundation.Python.3.12_qbz5n2kfra8p0\\LocalCache\\local-packages\\Python312\\site-packages\\lightgbm\\callback.py:333: UserWarning: Early stopping is not available in dart mode\n",
      "  _log_warning(\"Early stopping is not available in dart mode\")\n",
      "[I 2025-10-09 18:28:08,111] Trial 21 finished with value: 0.9239077853842247 and parameters: {'boosting_type': 'dart', 'num_iterations': 40, 'learning_rate': 0.2951191537028913, 'num_leaves': 1690, 'feature_fraction': 0.9354767224039229, 'max_depth': 11, 'min_data_in_leaf': 72, 'lambda_l1': 4.6836842515798205, 'lambda_l2': 11.215560861160817, 'min_gain_to_split': 0.43707241037501676, 'bagging_fraction': 0.6473176650736412, 'bagging_freq': 3, 'min_sum_hessian_in_leaf': 17.792175300689962, 'scale_pos_weight': 19.79751473534524, 'max_bin': 98}. Best is trial 10 with value: 0.9388896091458069.\n",
      "C:\\Users\\Lucas\\AppData\\Local\\Packages\\PythonSoftwareFoundation.Python.3.12_qbz5n2kfra8p0\\LocalCache\\local-packages\\Python312\\site-packages\\lightgbm\\callback.py:333: UserWarning: Early stopping is not available in dart mode\n",
      "  _log_warning(\"Early stopping is not available in dart mode\")\n",
      "C:\\Users\\Lucas\\AppData\\Local\\Packages\\PythonSoftwareFoundation.Python.3.12_qbz5n2kfra8p0\\LocalCache\\local-packages\\Python312\\site-packages\\lightgbm\\callback.py:333: UserWarning: Early stopping is not available in dart mode\n",
      "  _log_warning(\"Early stopping is not available in dart mode\")\n",
      "C:\\Users\\Lucas\\AppData\\Local\\Packages\\PythonSoftwareFoundation.Python.3.12_qbz5n2kfra8p0\\LocalCache\\local-packages\\Python312\\site-packages\\lightgbm\\callback.py:333: UserWarning: Early stopping is not available in dart mode\n",
      "  _log_warning(\"Early stopping is not available in dart mode\")\n",
      "C:\\Users\\Lucas\\AppData\\Local\\Packages\\PythonSoftwareFoundation.Python.3.12_qbz5n2kfra8p0\\LocalCache\\local-packages\\Python312\\site-packages\\lightgbm\\callback.py:333: UserWarning: Early stopping is not available in dart mode\n",
      "  _log_warning(\"Early stopping is not available in dart mode\")\n",
      "C:\\Users\\Lucas\\AppData\\Local\\Packages\\PythonSoftwareFoundation.Python.3.12_qbz5n2kfra8p0\\LocalCache\\local-packages\\Python312\\site-packages\\lightgbm\\callback.py:333: UserWarning: Early stopping is not available in dart mode\n",
      "  _log_warning(\"Early stopping is not available in dart mode\")\n",
      "[I 2025-10-09 18:28:36,033] Trial 22 finished with value: 0.9288488332467951 and parameters: {'boosting_type': 'dart', 'num_iterations': 189, 'learning_rate': 0.07664488635234794, 'num_leaves': 688, 'feature_fraction': 0.6636172281776984, 'max_depth': 18, 'min_data_in_leaf': 1277, 'lambda_l1': 14.653278224261191, 'lambda_l2': 14.633404065505896, 'min_gain_to_split': 1.8590214494305368, 'bagging_fraction': 0.850303085418757, 'bagging_freq': 10, 'min_sum_hessian_in_leaf': 2.61832108183781, 'scale_pos_weight': 21.600891057500384, 'max_bin': 91}. Best is trial 10 with value: 0.9388896091458069.\n"
     ]
    },
    {
     "name": "stdout",
     "output_type": "stream",
     "text": [
      "Training until validation scores don't improve for 50 rounds\n",
      "Early stopping, best iteration is:\n",
      "[384]\tvalid_0's auc: 0.92951\n",
      "Training until validation scores don't improve for 50 rounds\n",
      "Early stopping, best iteration is:\n",
      "[175]\tvalid_0's auc: 0.931106\n",
      "Training until validation scores don't improve for 50 rounds\n",
      "Early stopping, best iteration is:\n",
      "[130]\tvalid_0's auc: 0.919163\n",
      "Training until validation scores don't improve for 50 rounds\n",
      "Early stopping, best iteration is:\n",
      "[147]\tvalid_0's auc: 0.925719\n",
      "Training until validation scores don't improve for 50 rounds\n"
     ]
    },
    {
     "name": "stderr",
     "output_type": "stream",
     "text": [
      "[I 2025-10-09 18:28:51,010] Trial 23 finished with value: 0.9267461457409027 and parameters: {'boosting_type': 'gbdt', 'num_iterations': 825, 'learning_rate': 0.1602575365499321, 'num_leaves': 712, 'feature_fraction': 0.7653096224995828, 'max_depth': 5, 'min_data_in_leaf': 711, 'lambda_l1': 5.949826156627805, 'lambda_l2': 1.8265318459653235, 'min_gain_to_split': 9.621802421590122, 'bagging_fraction': 0.4574437250721757, 'bagging_freq': 12, 'min_sum_hessian_in_leaf': 17.9215880113613, 'scale_pos_weight': 47.23629646261154, 'max_bin': 36}. Best is trial 10 with value: 0.9388896091458069.\n"
     ]
    },
    {
     "name": "stdout",
     "output_type": "stream",
     "text": [
      "Early stopping, best iteration is:\n",
      "[122]\tvalid_0's auc: 0.928233\n",
      "Training until validation scores don't improve for 50 rounds\n",
      "Early stopping, best iteration is:\n",
      "[182]\tvalid_0's auc: 0.922526\n",
      "Training until validation scores don't improve for 50 rounds\n",
      "Early stopping, best iteration is:\n",
      "[142]\tvalid_0's auc: 0.929282\n",
      "Training until validation scores don't improve for 50 rounds\n",
      "Early stopping, best iteration is:\n",
      "[120]\tvalid_0's auc: 0.915439\n",
      "Training until validation scores don't improve for 50 rounds\n",
      "Early stopping, best iteration is:\n",
      "[222]\tvalid_0's auc: 0.923082\n",
      "Training until validation scores don't improve for 50 rounds\n"
     ]
    },
    {
     "name": "stderr",
     "output_type": "stream",
     "text": [
      "[I 2025-10-09 18:29:14,592] Trial 24 finished with value: 0.9232110200944141 and parameters: {'boosting_type': 'gbdt', 'num_iterations': 1123, 'learning_rate': 0.2863105716966383, 'num_leaves': 1362, 'feature_fraction': 0.4244377976220986, 'max_depth': 3, 'min_data_in_leaf': 477, 'lambda_l1': 4.649708241398461, 'lambda_l2': 7.110296901433986, 'min_gain_to_split': 7.360504005379209, 'bagging_fraction': 0.40883223484014525, 'bagging_freq': 3, 'min_sum_hessian_in_leaf': 19.80038011703333, 'scale_pos_weight': 32.08319965262398, 'max_bin': 100}. Best is trial 10 with value: 0.9388896091458069.\n"
     ]
    },
    {
     "name": "stdout",
     "output_type": "stream",
     "text": [
      "Early stopping, best iteration is:\n",
      "[91]\tvalid_0's auc: 0.925726\n"
     ]
    },
    {
     "name": "stderr",
     "output_type": "stream",
     "text": [
      "C:\\Users\\Lucas\\AppData\\Local\\Packages\\PythonSoftwareFoundation.Python.3.12_qbz5n2kfra8p0\\LocalCache\\local-packages\\Python312\\site-packages\\lightgbm\\callback.py:333: UserWarning: Early stopping is not available in dart mode\n",
      "  _log_warning(\"Early stopping is not available in dart mode\")\n",
      "C:\\Users\\Lucas\\AppData\\Local\\Packages\\PythonSoftwareFoundation.Python.3.12_qbz5n2kfra8p0\\LocalCache\\local-packages\\Python312\\site-packages\\lightgbm\\callback.py:333: UserWarning: Early stopping is not available in dart mode\n",
      "  _log_warning(\"Early stopping is not available in dart mode\")\n",
      "C:\\Users\\Lucas\\AppData\\Local\\Packages\\PythonSoftwareFoundation.Python.3.12_qbz5n2kfra8p0\\LocalCache\\local-packages\\Python312\\site-packages\\lightgbm\\callback.py:333: UserWarning: Early stopping is not available in dart mode\n",
      "  _log_warning(\"Early stopping is not available in dart mode\")\n",
      "C:\\Users\\Lucas\\AppData\\Local\\Packages\\PythonSoftwareFoundation.Python.3.12_qbz5n2kfra8p0\\LocalCache\\local-packages\\Python312\\site-packages\\lightgbm\\callback.py:333: UserWarning: Early stopping is not available in dart mode\n",
      "  _log_warning(\"Early stopping is not available in dart mode\")\n",
      "C:\\Users\\Lucas\\AppData\\Local\\Packages\\PythonSoftwareFoundation.Python.3.12_qbz5n2kfra8p0\\LocalCache\\local-packages\\Python312\\site-packages\\lightgbm\\callback.py:333: UserWarning: Early stopping is not available in dart mode\n",
      "  _log_warning(\"Early stopping is not available in dart mode\")\n",
      "[I 2025-10-09 18:33:08,580] Trial 25 finished with value: 0.9316257257834494 and parameters: {'boosting_type': 'dart', 'num_iterations': 1000, 'learning_rate': 0.017083600743355715, 'num_leaves': 503, 'feature_fraction': 0.7880992985319565, 'max_depth': 14, 'min_data_in_leaf': 1032, 'lambda_l1': 0.45383083821902737, 'lambda_l2': 2.916824834230173, 'min_gain_to_split': 8.469774028586897, 'bagging_fraction': 0.7666508902464159, 'bagging_freq': 8, 'min_sum_hessian_in_leaf': 5.10828242672336, 'scale_pos_weight': 11.96838053806978, 'max_bin': 52}. Best is trial 10 with value: 0.9388896091458069.\n",
      "C:\\Users\\Lucas\\AppData\\Local\\Packages\\PythonSoftwareFoundation.Python.3.12_qbz5n2kfra8p0\\LocalCache\\local-packages\\Python312\\site-packages\\lightgbm\\callback.py:333: UserWarning: Early stopping is not available in dart mode\n",
      "  _log_warning(\"Early stopping is not available in dart mode\")\n",
      "C:\\Users\\Lucas\\AppData\\Local\\Packages\\PythonSoftwareFoundation.Python.3.12_qbz5n2kfra8p0\\LocalCache\\local-packages\\Python312\\site-packages\\lightgbm\\callback.py:333: UserWarning: Early stopping is not available in dart mode\n",
      "  _log_warning(\"Early stopping is not available in dart mode\")\n",
      "C:\\Users\\Lucas\\AppData\\Local\\Packages\\PythonSoftwareFoundation.Python.3.12_qbz5n2kfra8p0\\LocalCache\\local-packages\\Python312\\site-packages\\lightgbm\\callback.py:333: UserWarning: Early stopping is not available in dart mode\n",
      "  _log_warning(\"Early stopping is not available in dart mode\")\n",
      "C:\\Users\\Lucas\\AppData\\Local\\Packages\\PythonSoftwareFoundation.Python.3.12_qbz5n2kfra8p0\\LocalCache\\local-packages\\Python312\\site-packages\\lightgbm\\callback.py:333: UserWarning: Early stopping is not available in dart mode\n",
      "  _log_warning(\"Early stopping is not available in dart mode\")\n",
      "C:\\Users\\Lucas\\AppData\\Local\\Packages\\PythonSoftwareFoundation.Python.3.12_qbz5n2kfra8p0\\LocalCache\\local-packages\\Python312\\site-packages\\lightgbm\\callback.py:333: UserWarning: Early stopping is not available in dart mode\n",
      "  _log_warning(\"Early stopping is not available in dart mode\")\n",
      "[I 2025-10-09 18:36:56,539] Trial 26 finished with value: 0.935536775510464 and parameters: {'boosting_type': 'dart', 'num_iterations': 1007, 'learning_rate': 0.048751153273322814, 'num_leaves': 2139, 'feature_fraction': 0.8609404703638295, 'max_depth': 7, 'min_data_in_leaf': 1002, 'lambda_l1': 1.9847053712402394, 'lambda_l2': 3.272809640495023, 'min_gain_to_split': 9.973799794670743, 'bagging_fraction': 0.9151175938101004, 'bagging_freq': 8, 'min_sum_hessian_in_leaf': 7.523177728366379, 'scale_pos_weight': 14.274283310824305, 'max_bin': 46}. Best is trial 10 with value: 0.9388896091458069.\n",
      "C:\\Users\\Lucas\\AppData\\Local\\Packages\\PythonSoftwareFoundation.Python.3.12_qbz5n2kfra8p0\\LocalCache\\local-packages\\Python312\\site-packages\\lightgbm\\callback.py:333: UserWarning: Early stopping is not available in dart mode\n",
      "  _log_warning(\"Early stopping is not available in dart mode\")\n",
      "C:\\Users\\Lucas\\AppData\\Local\\Packages\\PythonSoftwareFoundation.Python.3.12_qbz5n2kfra8p0\\LocalCache\\local-packages\\Python312\\site-packages\\lightgbm\\callback.py:333: UserWarning: Early stopping is not available in dart mode\n",
      "  _log_warning(\"Early stopping is not available in dart mode\")\n",
      "C:\\Users\\Lucas\\AppData\\Local\\Packages\\PythonSoftwareFoundation.Python.3.12_qbz5n2kfra8p0\\LocalCache\\local-packages\\Python312\\site-packages\\lightgbm\\callback.py:333: UserWarning: Early stopping is not available in dart mode\n",
      "  _log_warning(\"Early stopping is not available in dart mode\")\n",
      "C:\\Users\\Lucas\\AppData\\Local\\Packages\\PythonSoftwareFoundation.Python.3.12_qbz5n2kfra8p0\\LocalCache\\local-packages\\Python312\\site-packages\\lightgbm\\callback.py:333: UserWarning: Early stopping is not available in dart mode\n",
      "  _log_warning(\"Early stopping is not available in dart mode\")\n",
      "C:\\Users\\Lucas\\AppData\\Local\\Packages\\PythonSoftwareFoundation.Python.3.12_qbz5n2kfra8p0\\LocalCache\\local-packages\\Python312\\site-packages\\lightgbm\\callback.py:333: UserWarning: Early stopping is not available in dart mode\n",
      "  _log_warning(\"Early stopping is not available in dart mode\")\n",
      "[I 2025-10-09 18:42:36,664] Trial 27 finished with value: 0.9372239903264289 and parameters: {'boosting_type': 'dart', 'num_iterations': 957, 'learning_rate': 0.05658493354361545, 'num_leaves': 1524, 'feature_fraction': 0.8079839352085509, 'max_depth': 15, 'min_data_in_leaf': 586, 'lambda_l1': 2.008885571099002, 'lambda_l2': 3.2410189454869553, 'min_gain_to_split': 8.592691482749263, 'bagging_fraction': 0.804199134624724, 'bagging_freq': 5, 'min_sum_hessian_in_leaf': 13.493126159045817, 'scale_pos_weight': 32.19493838606316, 'max_bin': 74}. Best is trial 10 with value: 0.9388896091458069.\n",
      "C:\\Users\\Lucas\\AppData\\Local\\Packages\\PythonSoftwareFoundation.Python.3.12_qbz5n2kfra8p0\\LocalCache\\local-packages\\Python312\\site-packages\\lightgbm\\callback.py:333: UserWarning: Early stopping is not available in dart mode\n",
      "  _log_warning(\"Early stopping is not available in dart mode\")\n",
      "C:\\Users\\Lucas\\AppData\\Local\\Packages\\PythonSoftwareFoundation.Python.3.12_qbz5n2kfra8p0\\LocalCache\\local-packages\\Python312\\site-packages\\lightgbm\\callback.py:333: UserWarning: Early stopping is not available in dart mode\n",
      "  _log_warning(\"Early stopping is not available in dart mode\")\n",
      "C:\\Users\\Lucas\\AppData\\Local\\Packages\\PythonSoftwareFoundation.Python.3.12_qbz5n2kfra8p0\\LocalCache\\local-packages\\Python312\\site-packages\\lightgbm\\callback.py:333: UserWarning: Early stopping is not available in dart mode\n",
      "  _log_warning(\"Early stopping is not available in dart mode\")\n",
      "C:\\Users\\Lucas\\AppData\\Local\\Packages\\PythonSoftwareFoundation.Python.3.12_qbz5n2kfra8p0\\LocalCache\\local-packages\\Python312\\site-packages\\lightgbm\\callback.py:333: UserWarning: Early stopping is not available in dart mode\n",
      "  _log_warning(\"Early stopping is not available in dart mode\")\n",
      "C:\\Users\\Lucas\\AppData\\Local\\Packages\\PythonSoftwareFoundation.Python.3.12_qbz5n2kfra8p0\\LocalCache\\local-packages\\Python312\\site-packages\\lightgbm\\callback.py:333: UserWarning: Early stopping is not available in dart mode\n",
      "  _log_warning(\"Early stopping is not available in dart mode\")\n",
      "[I 2025-10-09 18:48:18,847] Trial 28 finished with value: 0.937305591090236 and parameters: {'boosting_type': 'dart', 'num_iterations': 950, 'learning_rate': 0.05525581608481523, 'num_leaves': 1548, 'feature_fraction': 0.8126490243104777, 'max_depth': 15, 'min_data_in_leaf': 525, 'lambda_l1': 1.9433600265716011, 'lambda_l2': 4.048317514129361, 'min_gain_to_split': 5.579934054476891, 'bagging_fraction': 0.7699387432535565, 'bagging_freq': 5, 'min_sum_hessian_in_leaf': 13.713684048281209, 'scale_pos_weight': 32.27497987511151, 'max_bin': 77}. Best is trial 10 with value: 0.9388896091458069.\n",
      "C:\\Users\\Lucas\\AppData\\Local\\Packages\\PythonSoftwareFoundation.Python.3.12_qbz5n2kfra8p0\\LocalCache\\local-packages\\Python312\\site-packages\\lightgbm\\callback.py:333: UserWarning: Early stopping is not available in dart mode\n",
      "  _log_warning(\"Early stopping is not available in dart mode\")\n",
      "C:\\Users\\Lucas\\AppData\\Local\\Packages\\PythonSoftwareFoundation.Python.3.12_qbz5n2kfra8p0\\LocalCache\\local-packages\\Python312\\site-packages\\lightgbm\\callback.py:333: UserWarning: Early stopping is not available in dart mode\n",
      "  _log_warning(\"Early stopping is not available in dart mode\")\n",
      "C:\\Users\\Lucas\\AppData\\Local\\Packages\\PythonSoftwareFoundation.Python.3.12_qbz5n2kfra8p0\\LocalCache\\local-packages\\Python312\\site-packages\\lightgbm\\callback.py:333: UserWarning: Early stopping is not available in dart mode\n",
      "  _log_warning(\"Early stopping is not available in dart mode\")\n",
      "C:\\Users\\Lucas\\AppData\\Local\\Packages\\PythonSoftwareFoundation.Python.3.12_qbz5n2kfra8p0\\LocalCache\\local-packages\\Python312\\site-packages\\lightgbm\\callback.py:333: UserWarning: Early stopping is not available in dart mode\n",
      "  _log_warning(\"Early stopping is not available in dart mode\")\n",
      "C:\\Users\\Lucas\\AppData\\Local\\Packages\\PythonSoftwareFoundation.Python.3.12_qbz5n2kfra8p0\\LocalCache\\local-packages\\Python312\\site-packages\\lightgbm\\callback.py:333: UserWarning: Early stopping is not available in dart mode\n",
      "  _log_warning(\"Early stopping is not available in dart mode\")\n",
      "[I 2025-10-09 18:54:07,560] Trial 29 finished with value: 0.9371095389908458 and parameters: {'boosting_type': 'dart', 'num_iterations': 917, 'learning_rate': 0.04427781640526336, 'num_leaves': 1482, 'feature_fraction': 0.8218435132656605, 'max_depth': 15, 'min_data_in_leaf': 581, 'lambda_l1': 1.5268231364700915, 'lambda_l2': 4.449643008067102, 'min_gain_to_split': 5.309225157584459, 'bagging_fraction': 0.796494763812247, 'bagging_freq': 6, 'min_sum_hessian_in_leaf': 13.77156952487759, 'scale_pos_weight': 32.53143242946757, 'max_bin': 74}. Best is trial 10 with value: 0.9388896091458069.\n",
      "C:\\Users\\Lucas\\AppData\\Local\\Packages\\PythonSoftwareFoundation.Python.3.12_qbz5n2kfra8p0\\LocalCache\\local-packages\\Python312\\site-packages\\lightgbm\\callback.py:333: UserWarning: Early stopping is not available in dart mode\n",
      "  _log_warning(\"Early stopping is not available in dart mode\")\n",
      "C:\\Users\\Lucas\\AppData\\Local\\Packages\\PythonSoftwareFoundation.Python.3.12_qbz5n2kfra8p0\\LocalCache\\local-packages\\Python312\\site-packages\\lightgbm\\callback.py:333: UserWarning: Early stopping is not available in dart mode\n",
      "  _log_warning(\"Early stopping is not available in dart mode\")\n",
      "C:\\Users\\Lucas\\AppData\\Local\\Packages\\PythonSoftwareFoundation.Python.3.12_qbz5n2kfra8p0\\LocalCache\\local-packages\\Python312\\site-packages\\lightgbm\\callback.py:333: UserWarning: Early stopping is not available in dart mode\n",
      "  _log_warning(\"Early stopping is not available in dart mode\")\n",
      "C:\\Users\\Lucas\\AppData\\Local\\Packages\\PythonSoftwareFoundation.Python.3.12_qbz5n2kfra8p0\\LocalCache\\local-packages\\Python312\\site-packages\\lightgbm\\callback.py:333: UserWarning: Early stopping is not available in dart mode\n",
      "  _log_warning(\"Early stopping is not available in dart mode\")\n",
      "C:\\Users\\Lucas\\AppData\\Local\\Packages\\PythonSoftwareFoundation.Python.3.12_qbz5n2kfra8p0\\LocalCache\\local-packages\\Python312\\site-packages\\lightgbm\\callback.py:333: UserWarning: Early stopping is not available in dart mode\n",
      "  _log_warning(\"Early stopping is not available in dart mode\")\n",
      "[I 2025-10-09 19:00:26,380] Trial 30 finished with value: 0.9378435372913835 and parameters: {'boosting_type': 'dart', 'num_iterations': 918, 'learning_rate': 0.05945270905803898, 'num_leaves': 1568, 'feature_fraction': 0.8973194902183876, 'max_depth': 15, 'min_data_in_leaf': 575, 'lambda_l1': 1.4672023944389259, 'lambda_l2': 4.059867261967903, 'min_gain_to_split': 3.301920379947468, 'bagging_fraction': 0.8039602861754879, 'bagging_freq': 7, 'min_sum_hessian_in_leaf': 14.494893909117955, 'scale_pos_weight': 32.28534530286422, 'max_bin': 82}. Best is trial 10 with value: 0.9388896091458069.\n",
      "C:\\Users\\Lucas\\AppData\\Local\\Packages\\PythonSoftwareFoundation.Python.3.12_qbz5n2kfra8p0\\LocalCache\\local-packages\\Python312\\site-packages\\lightgbm\\callback.py:333: UserWarning: Early stopping is not available in dart mode\n",
      "  _log_warning(\"Early stopping is not available in dart mode\")\n",
      "C:\\Users\\Lucas\\AppData\\Local\\Packages\\PythonSoftwareFoundation.Python.3.12_qbz5n2kfra8p0\\LocalCache\\local-packages\\Python312\\site-packages\\lightgbm\\callback.py:333: UserWarning: Early stopping is not available in dart mode\n",
      "  _log_warning(\"Early stopping is not available in dart mode\")\n",
      "C:\\Users\\Lucas\\AppData\\Local\\Packages\\PythonSoftwareFoundation.Python.3.12_qbz5n2kfra8p0\\LocalCache\\local-packages\\Python312\\site-packages\\lightgbm\\callback.py:333: UserWarning: Early stopping is not available in dart mode\n",
      "  _log_warning(\"Early stopping is not available in dart mode\")\n",
      "C:\\Users\\Lucas\\AppData\\Local\\Packages\\PythonSoftwareFoundation.Python.3.12_qbz5n2kfra8p0\\LocalCache\\local-packages\\Python312\\site-packages\\lightgbm\\callback.py:333: UserWarning: Early stopping is not available in dart mode\n",
      "  _log_warning(\"Early stopping is not available in dart mode\")\n",
      "C:\\Users\\Lucas\\AppData\\Local\\Packages\\PythonSoftwareFoundation.Python.3.12_qbz5n2kfra8p0\\LocalCache\\local-packages\\Python312\\site-packages\\lightgbm\\callback.py:333: UserWarning: Early stopping is not available in dart mode\n",
      "  _log_warning(\"Early stopping is not available in dart mode\")\n",
      "[I 2025-10-09 19:05:01,747] Trial 31 finished with value: 0.9370656059823428 and parameters: {'boosting_type': 'dart', 'num_iterations': 716, 'learning_rate': 0.061299695452077516, 'num_leaves': 1550, 'feature_fraction': 0.9180556355251854, 'max_depth': 15, 'min_data_in_leaf': 576, 'lambda_l1': 1.4968940786256553, 'lambda_l2': 3.900442423465646, 'min_gain_to_split': 3.4462570302778675, 'bagging_fraction': 0.8009894221919289, 'bagging_freq': 7, 'min_sum_hessian_in_leaf': 14.655327085833719, 'scale_pos_weight': 32.09901936860939, 'max_bin': 83}. Best is trial 10 with value: 0.9388896091458069.\n",
      "C:\\Users\\Lucas\\AppData\\Local\\Packages\\PythonSoftwareFoundation.Python.3.12_qbz5n2kfra8p0\\LocalCache\\local-packages\\Python312\\site-packages\\lightgbm\\callback.py:333: UserWarning: Early stopping is not available in dart mode\n",
      "  _log_warning(\"Early stopping is not available in dart mode\")\n",
      "C:\\Users\\Lucas\\AppData\\Local\\Packages\\PythonSoftwareFoundation.Python.3.12_qbz5n2kfra8p0\\LocalCache\\local-packages\\Python312\\site-packages\\lightgbm\\callback.py:333: UserWarning: Early stopping is not available in dart mode\n",
      "  _log_warning(\"Early stopping is not available in dart mode\")\n",
      "C:\\Users\\Lucas\\AppData\\Local\\Packages\\PythonSoftwareFoundation.Python.3.12_qbz5n2kfra8p0\\LocalCache\\local-packages\\Python312\\site-packages\\lightgbm\\callback.py:333: UserWarning: Early stopping is not available in dart mode\n",
      "  _log_warning(\"Early stopping is not available in dart mode\")\n",
      "C:\\Users\\Lucas\\AppData\\Local\\Packages\\PythonSoftwareFoundation.Python.3.12_qbz5n2kfra8p0\\LocalCache\\local-packages\\Python312\\site-packages\\lightgbm\\callback.py:333: UserWarning: Early stopping is not available in dart mode\n",
      "  _log_warning(\"Early stopping is not available in dart mode\")\n",
      "C:\\Users\\Lucas\\AppData\\Local\\Packages\\PythonSoftwareFoundation.Python.3.12_qbz5n2kfra8p0\\LocalCache\\local-packages\\Python312\\site-packages\\lightgbm\\callback.py:333: UserWarning: Early stopping is not available in dart mode\n",
      "  _log_warning(\"Early stopping is not available in dart mode\")\n",
      "[I 2025-10-09 19:12:59,331] Trial 32 finished with value: 0.937543354577846 and parameters: {'boosting_type': 'dart', 'num_iterations': 856, 'learning_rate': 0.036138326015156375, 'num_leaves': 1545, 'feature_fraction': 0.8983585828428752, 'max_depth': 13, 'min_data_in_leaf': 191, 'lambda_l1': 2.5168720219160576, 'lambda_l2': 4.038235677722775, 'min_gain_to_split': 0.08453976107412761, 'bagging_fraction': 0.7873482737060911, 'bagging_freq': 5, 'min_sum_hessian_in_leaf': 11.581628569803982, 'scale_pos_weight': 30.15656318213669, 'max_bin': 76}. Best is trial 10 with value: 0.9388896091458069.\n",
      "C:\\Users\\Lucas\\AppData\\Local\\Packages\\PythonSoftwareFoundation.Python.3.12_qbz5n2kfra8p0\\LocalCache\\local-packages\\Python312\\site-packages\\lightgbm\\callback.py:333: UserWarning: Early stopping is not available in dart mode\n",
      "  _log_warning(\"Early stopping is not available in dart mode\")\n",
      "C:\\Users\\Lucas\\AppData\\Local\\Packages\\PythonSoftwareFoundation.Python.3.12_qbz5n2kfra8p0\\LocalCache\\local-packages\\Python312\\site-packages\\lightgbm\\callback.py:333: UserWarning: Early stopping is not available in dart mode\n",
      "  _log_warning(\"Early stopping is not available in dart mode\")\n",
      "C:\\Users\\Lucas\\AppData\\Local\\Packages\\PythonSoftwareFoundation.Python.3.12_qbz5n2kfra8p0\\LocalCache\\local-packages\\Python312\\site-packages\\lightgbm\\callback.py:333: UserWarning: Early stopping is not available in dart mode\n",
      "  _log_warning(\"Early stopping is not available in dart mode\")\n",
      "C:\\Users\\Lucas\\AppData\\Local\\Packages\\PythonSoftwareFoundation.Python.3.12_qbz5n2kfra8p0\\LocalCache\\local-packages\\Python312\\site-packages\\lightgbm\\callback.py:333: UserWarning: Early stopping is not available in dart mode\n",
      "  _log_warning(\"Early stopping is not available in dart mode\")\n",
      "C:\\Users\\Lucas\\AppData\\Local\\Packages\\PythonSoftwareFoundation.Python.3.12_qbz5n2kfra8p0\\LocalCache\\local-packages\\Python312\\site-packages\\lightgbm\\callback.py:333: UserWarning: Early stopping is not available in dart mode\n",
      "  _log_warning(\"Early stopping is not available in dart mode\")\n",
      "[I 2025-10-09 19:19:38,917] Trial 33 finished with value: 0.9356592166033814 and parameters: {'boosting_type': 'dart', 'num_iterations': 876, 'learning_rate': 0.029615593690795528, 'num_leaves': 1798, 'feature_fraction': 0.8978669475426742, 'max_depth': 13, 'min_data_in_leaf': 157, 'lambda_l1': 2.922033247914969, 'lambda_l2': 8.52138816793962, 'min_gain_to_split': 1.9761557497857078, 'bagging_fraction': 0.5845038893650427, 'bagging_freq': 5, 'min_sum_hessian_in_leaf': 9.518808594718916, 'scale_pos_weight': 34.432627694987175, 'max_bin': 82}. Best is trial 10 with value: 0.9388896091458069.\n",
      "C:\\Users\\Lucas\\AppData\\Local\\Packages\\PythonSoftwareFoundation.Python.3.12_qbz5n2kfra8p0\\LocalCache\\local-packages\\Python312\\site-packages\\lightgbm\\callback.py:333: UserWarning: Early stopping is not available in dart mode\n",
      "  _log_warning(\"Early stopping is not available in dart mode\")\n",
      "C:\\Users\\Lucas\\AppData\\Local\\Packages\\PythonSoftwareFoundation.Python.3.12_qbz5n2kfra8p0\\LocalCache\\local-packages\\Python312\\site-packages\\lightgbm\\callback.py:333: UserWarning: Early stopping is not available in dart mode\n",
      "  _log_warning(\"Early stopping is not available in dart mode\")\n",
      "C:\\Users\\Lucas\\AppData\\Local\\Packages\\PythonSoftwareFoundation.Python.3.12_qbz5n2kfra8p0\\LocalCache\\local-packages\\Python312\\site-packages\\lightgbm\\callback.py:333: UserWarning: Early stopping is not available in dart mode\n",
      "  _log_warning(\"Early stopping is not available in dart mode\")\n",
      "C:\\Users\\Lucas\\AppData\\Local\\Packages\\PythonSoftwareFoundation.Python.3.12_qbz5n2kfra8p0\\LocalCache\\local-packages\\Python312\\site-packages\\lightgbm\\callback.py:333: UserWarning: Early stopping is not available in dart mode\n",
      "  _log_warning(\"Early stopping is not available in dart mode\")\n",
      "C:\\Users\\Lucas\\AppData\\Local\\Packages\\PythonSoftwareFoundation.Python.3.12_qbz5n2kfra8p0\\LocalCache\\local-packages\\Python312\\site-packages\\lightgbm\\callback.py:333: UserWarning: Early stopping is not available in dart mode\n",
      "  _log_warning(\"Early stopping is not available in dart mode\")\n",
      "[I 2025-10-09 19:25:20,179] Trial 34 finished with value: 0.9384968506171862 and parameters: {'boosting_type': 'dart', 'num_iterations': 759, 'learning_rate': 0.08827698922194784, 'num_leaves': 1636, 'feature_fraction': 0.9726546823488545, 'max_depth': 16, 'min_data_in_leaf': 233, 'lambda_l1': 0.855923991217526, 'lambda_l2': 8.124408193799981, 'min_gain_to_split': 2.4359783395134365, 'bagging_fraction': 0.7559703700442333, 'bagging_freq': 9, 'min_sum_hessian_in_leaf': 11.596311810878015, 'scale_pos_weight': 28.38045543447596, 'max_bin': 68}. Best is trial 10 with value: 0.9388896091458069.\n",
      "C:\\Users\\Lucas\\AppData\\Local\\Packages\\PythonSoftwareFoundation.Python.3.12_qbz5n2kfra8p0\\LocalCache\\local-packages\\Python312\\site-packages\\lightgbm\\callback.py:333: UserWarning: Early stopping is not available in dart mode\n",
      "  _log_warning(\"Early stopping is not available in dart mode\")\n",
      "C:\\Users\\Lucas\\AppData\\Local\\Packages\\PythonSoftwareFoundation.Python.3.12_qbz5n2kfra8p0\\LocalCache\\local-packages\\Python312\\site-packages\\lightgbm\\callback.py:333: UserWarning: Early stopping is not available in dart mode\n",
      "  _log_warning(\"Early stopping is not available in dart mode\")\n",
      "C:\\Users\\Lucas\\AppData\\Local\\Packages\\PythonSoftwareFoundation.Python.3.12_qbz5n2kfra8p0\\LocalCache\\local-packages\\Python312\\site-packages\\lightgbm\\callback.py:333: UserWarning: Early stopping is not available in dart mode\n",
      "  _log_warning(\"Early stopping is not available in dart mode\")\n",
      "C:\\Users\\Lucas\\AppData\\Local\\Packages\\PythonSoftwareFoundation.Python.3.12_qbz5n2kfra8p0\\LocalCache\\local-packages\\Python312\\site-packages\\lightgbm\\callback.py:333: UserWarning: Early stopping is not available in dart mode\n",
      "  _log_warning(\"Early stopping is not available in dart mode\")\n",
      "C:\\Users\\Lucas\\AppData\\Local\\Packages\\PythonSoftwareFoundation.Python.3.12_qbz5n2kfra8p0\\LocalCache\\local-packages\\Python312\\site-packages\\lightgbm\\callback.py:333: UserWarning: Early stopping is not available in dart mode\n",
      "  _log_warning(\"Early stopping is not available in dart mode\")\n",
      "[I 2025-10-09 19:31:05,431] Trial 35 finished with value: 0.9381832666169618 and parameters: {'boosting_type': 'dart', 'num_iterations': 676, 'learning_rate': 0.08973116089197153, 'num_leaves': 1634, 'feature_fraction': 0.9989180713726977, 'max_depth': 16, 'min_data_in_leaf': 208, 'lambda_l1': 0.03477473824255228, 'lambda_l2': 8.093993867085228, 'min_gain_to_split': 0.24112188957276492, 'bagging_fraction': 0.7475728665351535, 'bagging_freq': 9, 'min_sum_hessian_in_leaf': 10.684755458582202, 'scale_pos_weight': 28.67645339429852, 'max_bin': 57}. Best is trial 10 with value: 0.9388896091458069.\n",
      "C:\\Users\\Lucas\\AppData\\Local\\Packages\\PythonSoftwareFoundation.Python.3.12_qbz5n2kfra8p0\\LocalCache\\local-packages\\Python312\\site-packages\\lightgbm\\callback.py:333: UserWarning: Early stopping is not available in dart mode\n",
      "  _log_warning(\"Early stopping is not available in dart mode\")\n",
      "C:\\Users\\Lucas\\AppData\\Local\\Packages\\PythonSoftwareFoundation.Python.3.12_qbz5n2kfra8p0\\LocalCache\\local-packages\\Python312\\site-packages\\lightgbm\\callback.py:333: UserWarning: Early stopping is not available in dart mode\n",
      "  _log_warning(\"Early stopping is not available in dart mode\")\n",
      "C:\\Users\\Lucas\\AppData\\Local\\Packages\\PythonSoftwareFoundation.Python.3.12_qbz5n2kfra8p0\\LocalCache\\local-packages\\Python312\\site-packages\\lightgbm\\callback.py:333: UserWarning: Early stopping is not available in dart mode\n",
      "  _log_warning(\"Early stopping is not available in dart mode\")\n",
      "C:\\Users\\Lucas\\AppData\\Local\\Packages\\PythonSoftwareFoundation.Python.3.12_qbz5n2kfra8p0\\LocalCache\\local-packages\\Python312\\site-packages\\lightgbm\\callback.py:333: UserWarning: Early stopping is not available in dart mode\n",
      "  _log_warning(\"Early stopping is not available in dart mode\")\n",
      "C:\\Users\\Lucas\\AppData\\Local\\Packages\\PythonSoftwareFoundation.Python.3.12_qbz5n2kfra8p0\\LocalCache\\local-packages\\Python312\\site-packages\\lightgbm\\callback.py:333: UserWarning: Early stopping is not available in dart mode\n",
      "  _log_warning(\"Early stopping is not available in dart mode\")\n",
      "[I 2025-10-09 19:33:27,372] Trial 36 finished with value: 0.937426522714469 and parameters: {'boosting_type': 'dart', 'num_iterations': 433, 'learning_rate': 0.09141459988836859, 'num_leaves': 1877, 'feature_fraction': 0.9970979405362257, 'max_depth': 16, 'min_data_in_leaf': 258, 'lambda_l1': 0.8105734412294001, 'lambda_l2': 8.207847738921505, 'min_gain_to_split': 2.842623780938731, 'bagging_fraction': 0.7297534669826541, 'bagging_freq': 9, 'min_sum_hessian_in_leaf': 8.454144275933697, 'scale_pos_weight': 23.503483842561568, 'max_bin': 53}. Best is trial 10 with value: 0.9388896091458069.\n"
     ]
    },
    {
     "name": "stdout",
     "output_type": "stream",
     "text": [
      "Training until validation scores don't improve for 50 rounds\n",
      "Early stopping, best iteration is:\n",
      "[273]\tvalid_0's auc: 0.934516\n",
      "Training until validation scores don't improve for 50 rounds\n",
      "Early stopping, best iteration is:\n",
      "[272]\tvalid_0's auc: 0.941799\n",
      "Training until validation scores don't improve for 50 rounds\n",
      "Early stopping, best iteration is:\n",
      "[278]\tvalid_0's auc: 0.931348\n",
      "Training until validation scores don't improve for 50 rounds\n",
      "Early stopping, best iteration is:\n",
      "[87]\tvalid_0's auc: 0.933611\n",
      "Training until validation scores don't improve for 50 rounds\n",
      "Early stopping, best iteration is:\n",
      "[102]\tvalid_0's auc: 0.939985\n"
     ]
    },
    {
     "name": "stderr",
     "output_type": "stream",
     "text": [
      "[I 2025-10-09 19:33:56,836] Trial 37 finished with value: 0.9362515155787673 and parameters: {'boosting_type': 'gbdt', 'num_iterations': 731, 'learning_rate': 0.07492891978732502, 'num_leaves': 1632, 'feature_fraction': 0.9627029348941992, 'max_depth': 17, 'min_data_in_leaf': 306, 'lambda_l1': 0.09565375279955668, 'lambda_l2': 9.435443707313299, 'min_gain_to_split': 3.6538318352840777, 'bagging_fraction': 0.8912766609649494, 'bagging_freq': 9, 'min_sum_hessian_in_leaf': 10.254255482364718, 'scale_pos_weight': 18.033184004360255, 'max_bin': 45}. Best is trial 10 with value: 0.9388896091458069.\n",
      "C:\\Users\\Lucas\\AppData\\Local\\Packages\\PythonSoftwareFoundation.Python.3.12_qbz5n2kfra8p0\\LocalCache\\local-packages\\Python312\\site-packages\\lightgbm\\callback.py:333: UserWarning: Early stopping is not available in dart mode\n",
      "  _log_warning(\"Early stopping is not available in dart mode\")\n",
      "C:\\Users\\Lucas\\AppData\\Local\\Packages\\PythonSoftwareFoundation.Python.3.12_qbz5n2kfra8p0\\LocalCache\\local-packages\\Python312\\site-packages\\lightgbm\\callback.py:333: UserWarning: Early stopping is not available in dart mode\n",
      "  _log_warning(\"Early stopping is not available in dart mode\")\n",
      "C:\\Users\\Lucas\\AppData\\Local\\Packages\\PythonSoftwareFoundation.Python.3.12_qbz5n2kfra8p0\\LocalCache\\local-packages\\Python312\\site-packages\\lightgbm\\callback.py:333: UserWarning: Early stopping is not available in dart mode\n",
      "  _log_warning(\"Early stopping is not available in dart mode\")\n",
      "C:\\Users\\Lucas\\AppData\\Local\\Packages\\PythonSoftwareFoundation.Python.3.12_qbz5n2kfra8p0\\LocalCache\\local-packages\\Python312\\site-packages\\lightgbm\\callback.py:333: UserWarning: Early stopping is not available in dart mode\n",
      "  _log_warning(\"Early stopping is not available in dart mode\")\n",
      "C:\\Users\\Lucas\\AppData\\Local\\Packages\\PythonSoftwareFoundation.Python.3.12_qbz5n2kfra8p0\\LocalCache\\local-packages\\Python312\\site-packages\\lightgbm\\callback.py:333: UserWarning: Early stopping is not available in dart mode\n",
      "  _log_warning(\"Early stopping is not available in dart mode\")\n",
      "[I 2025-10-09 19:38:03,235] Trial 38 finished with value: 0.9389468325272233 and parameters: {'boosting_type': 'dart', 'num_iterations': 632, 'learning_rate': 0.13978411525328913, 'num_leaves': 1459, 'feature_fraction': 0.9631699880217134, 'max_depth': 16, 'min_data_in_leaf': 8, 'lambda_l1': 1.2634522608755747, 'lambda_l2': 9.692863926593798, 'min_gain_to_split': 2.2662110847418666, 'bagging_fraction': 0.7210247964822168, 'bagging_freq': 10, 'min_sum_hessian_in_leaf': 12.109644283440879, 'scale_pos_weight': 27.220327068692008, 'max_bin': 59}. Best is trial 38 with value: 0.9389468325272233.\n"
     ]
    },
    {
     "name": "stdout",
     "output_type": "stream",
     "text": [
      "Training until validation scores don't improve for 50 rounds\n",
      "Early stopping, best iteration is:\n",
      "[143]\tvalid_0's auc: 0.928111\n",
      "Training until validation scores don't improve for 50 rounds\n",
      "Early stopping, best iteration is:\n",
      "[176]\tvalid_0's auc: 0.933855\n",
      "Training until validation scores don't improve for 50 rounds\n",
      "Early stopping, best iteration is:\n",
      "[252]\tvalid_0's auc: 0.924668\n",
      "Training until validation scores don't improve for 50 rounds\n",
      "Early stopping, best iteration is:\n",
      "[169]\tvalid_0's auc: 0.930399\n",
      "Training until validation scores don't improve for 50 rounds\n",
      "Early stopping, best iteration is:\n",
      "[151]\tvalid_0's auc: 0.932182\n"
     ]
    },
    {
     "name": "stderr",
     "output_type": "stream",
     "text": [
      "[I 2025-10-09 19:38:31,198] Trial 39 finished with value: 0.9298430978134935 and parameters: {'boosting_type': 'gbdt', 'num_iterations': 641, 'learning_rate': 0.13952725738511745, 'num_leaves': 1236, 'feature_fraction': 0.9727449631824305, 'max_depth': 16, 'min_data_in_leaf': 14, 'lambda_l1': 3.3423441909256755, 'lambda_l2': 7.647556988643133, 'min_gain_to_split': 2.211235404302432, 'bagging_fraction': 0.5845119580086998, 'bagging_freq': 11, 'min_sum_hessian_in_leaf': 6.006161192372131, 'scale_pos_weight': 24.553420510458423, 'max_bin': 58}. Best is trial 38 with value: 0.9389468325272233.\n",
      "C:\\Users\\Lucas\\AppData\\Local\\Packages\\PythonSoftwareFoundation.Python.3.12_qbz5n2kfra8p0\\LocalCache\\local-packages\\Python312\\site-packages\\lightgbm\\callback.py:333: UserWarning: Early stopping is not available in dart mode\n",
      "  _log_warning(\"Early stopping is not available in dart mode\")\n",
      "C:\\Users\\Lucas\\AppData\\Local\\Packages\\PythonSoftwareFoundation.Python.3.12_qbz5n2kfra8p0\\LocalCache\\local-packages\\Python312\\site-packages\\lightgbm\\callback.py:333: UserWarning: Early stopping is not available in dart mode\n",
      "  _log_warning(\"Early stopping is not available in dart mode\")\n",
      "C:\\Users\\Lucas\\AppData\\Local\\Packages\\PythonSoftwareFoundation.Python.3.12_qbz5n2kfra8p0\\LocalCache\\local-packages\\Python312\\site-packages\\lightgbm\\callback.py:333: UserWarning: Early stopping is not available in dart mode\n",
      "  _log_warning(\"Early stopping is not available in dart mode\")\n",
      "C:\\Users\\Lucas\\AppData\\Local\\Packages\\PythonSoftwareFoundation.Python.3.12_qbz5n2kfra8p0\\LocalCache\\local-packages\\Python312\\site-packages\\lightgbm\\callback.py:333: UserWarning: Early stopping is not available in dart mode\n",
      "  _log_warning(\"Early stopping is not available in dart mode\")\n",
      "C:\\Users\\Lucas\\AppData\\Local\\Packages\\PythonSoftwareFoundation.Python.3.12_qbz5n2kfra8p0\\LocalCache\\local-packages\\Python312\\site-packages\\lightgbm\\callback.py:333: UserWarning: Early stopping is not available in dart mode\n",
      "  _log_warning(\"Early stopping is not available in dart mode\")\n",
      "[I 2025-10-09 19:40:01,284] Trial 40 finished with value: 0.935449737138206 and parameters: {'boosting_type': 'dart', 'num_iterations': 313, 'learning_rate': 0.10667465263278189, 'num_leaves': 1430, 'feature_fraction': 0.9621925736919523, 'max_depth': 12, 'min_data_in_leaf': 137, 'lambda_l1': 0.9607107948851957, 'lambda_l2': 9.086793877905203, 'min_gain_to_split': 0.07849191993554383, 'bagging_fraction': 0.7051515711644923, 'bagging_freq': 10, 'min_sum_hessian_in_leaf': 10.640428849723408, 'scale_pos_weight': 28.288265374708928, 'max_bin': 42}. Best is trial 38 with value: 0.9389468325272233.\n",
      "C:\\Users\\Lucas\\AppData\\Local\\Packages\\PythonSoftwareFoundation.Python.3.12_qbz5n2kfra8p0\\LocalCache\\local-packages\\Python312\\site-packages\\lightgbm\\callback.py:333: UserWarning: Early stopping is not available in dart mode\n",
      "  _log_warning(\"Early stopping is not available in dart mode\")\n",
      "C:\\Users\\Lucas\\AppData\\Local\\Packages\\PythonSoftwareFoundation.Python.3.12_qbz5n2kfra8p0\\LocalCache\\local-packages\\Python312\\site-packages\\lightgbm\\callback.py:333: UserWarning: Early stopping is not available in dart mode\n",
      "  _log_warning(\"Early stopping is not available in dart mode\")\n",
      "C:\\Users\\Lucas\\AppData\\Local\\Packages\\PythonSoftwareFoundation.Python.3.12_qbz5n2kfra8p0\\LocalCache\\local-packages\\Python312\\site-packages\\lightgbm\\callback.py:333: UserWarning: Early stopping is not available in dart mode\n",
      "  _log_warning(\"Early stopping is not available in dart mode\")\n",
      "C:\\Users\\Lucas\\AppData\\Local\\Packages\\PythonSoftwareFoundation.Python.3.12_qbz5n2kfra8p0\\LocalCache\\local-packages\\Python312\\site-packages\\lightgbm\\callback.py:333: UserWarning: Early stopping is not available in dart mode\n",
      "  _log_warning(\"Early stopping is not available in dart mode\")\n",
      "C:\\Users\\Lucas\\AppData\\Local\\Packages\\PythonSoftwareFoundation.Python.3.12_qbz5n2kfra8p0\\LocalCache\\local-packages\\Python312\\site-packages\\lightgbm\\callback.py:333: UserWarning: Early stopping is not available in dart mode\n",
      "  _log_warning(\"Early stopping is not available in dart mode\")\n",
      "[I 2025-10-09 19:46:03,985] Trial 41 finished with value: 0.93876618657597 and parameters: {'boosting_type': 'dart', 'num_iterations': 758, 'learning_rate': 0.07217636071256986, 'num_leaves': 1628, 'feature_fraction': 0.8917412922014646, 'max_depth': 16, 'min_data_in_leaf': 99, 'lambda_l1': 1.2382927959006553, 'lambda_l2': 0.1722468737490397, 'min_gain_to_split': 1.4700530569668193, 'bagging_fraction': 0.7156965184403115, 'bagging_freq': 9, 'min_sum_hessian_in_leaf': 12.030791392950137, 'scale_pos_weight': 25.96221980521975, 'max_bin': 67}. Best is trial 38 with value: 0.9389468325272233.\n",
      "C:\\Users\\Lucas\\AppData\\Local\\Packages\\PythonSoftwareFoundation.Python.3.12_qbz5n2kfra8p0\\LocalCache\\local-packages\\Python312\\site-packages\\lightgbm\\callback.py:333: UserWarning: Early stopping is not available in dart mode\n",
      "  _log_warning(\"Early stopping is not available in dart mode\")\n",
      "C:\\Users\\Lucas\\AppData\\Local\\Packages\\PythonSoftwareFoundation.Python.3.12_qbz5n2kfra8p0\\LocalCache\\local-packages\\Python312\\site-packages\\lightgbm\\callback.py:333: UserWarning: Early stopping is not available in dart mode\n",
      "  _log_warning(\"Early stopping is not available in dart mode\")\n",
      "C:\\Users\\Lucas\\AppData\\Local\\Packages\\PythonSoftwareFoundation.Python.3.12_qbz5n2kfra8p0\\LocalCache\\local-packages\\Python312\\site-packages\\lightgbm\\callback.py:333: UserWarning: Early stopping is not available in dart mode\n",
      "  _log_warning(\"Early stopping is not available in dart mode\")\n",
      "C:\\Users\\Lucas\\AppData\\Local\\Packages\\PythonSoftwareFoundation.Python.3.12_qbz5n2kfra8p0\\LocalCache\\local-packages\\Python312\\site-packages\\lightgbm\\callback.py:333: UserWarning: Early stopping is not available in dart mode\n",
      "  _log_warning(\"Early stopping is not available in dart mode\")\n",
      "C:\\Users\\Lucas\\AppData\\Local\\Packages\\PythonSoftwareFoundation.Python.3.12_qbz5n2kfra8p0\\LocalCache\\local-packages\\Python312\\site-packages\\lightgbm\\callback.py:333: UserWarning: Early stopping is not available in dart mode\n",
      "  _log_warning(\"Early stopping is not available in dart mode\")\n",
      "[I 2025-10-09 19:49:25,582] Trial 42 finished with value: 0.9383515626423569 and parameters: {'boosting_type': 'dart', 'num_iterations': 477, 'learning_rate': 0.1009982451612996, 'num_leaves': 1757, 'feature_fraction': 0.8681480246950835, 'max_depth': 16, 'min_data_in_leaf': 112, 'lambda_l1': 0.15228725503913065, 'lambda_l2': 0.949439857726116, 'min_gain_to_split': 1.3141043982168066, 'bagging_fraction': 0.7393267324006118, 'bagging_freq': 9, 'min_sum_hessian_in_leaf': 12.188942853730433, 'scale_pos_weight': 22.180681790431056, 'max_bin': 69}. Best is trial 38 with value: 0.9389468325272233.\n",
      "C:\\Users\\Lucas\\AppData\\Local\\Packages\\PythonSoftwareFoundation.Python.3.12_qbz5n2kfra8p0\\LocalCache\\local-packages\\Python312\\site-packages\\lightgbm\\callback.py:333: UserWarning: Early stopping is not available in dart mode\n",
      "  _log_warning(\"Early stopping is not available in dart mode\")\n",
      "C:\\Users\\Lucas\\AppData\\Local\\Packages\\PythonSoftwareFoundation.Python.3.12_qbz5n2kfra8p0\\LocalCache\\local-packages\\Python312\\site-packages\\lightgbm\\callback.py:333: UserWarning: Early stopping is not available in dart mode\n",
      "  _log_warning(\"Early stopping is not available in dart mode\")\n",
      "C:\\Users\\Lucas\\AppData\\Local\\Packages\\PythonSoftwareFoundation.Python.3.12_qbz5n2kfra8p0\\LocalCache\\local-packages\\Python312\\site-packages\\lightgbm\\callback.py:333: UserWarning: Early stopping is not available in dart mode\n",
      "  _log_warning(\"Early stopping is not available in dart mode\")\n",
      "C:\\Users\\Lucas\\AppData\\Local\\Packages\\PythonSoftwareFoundation.Python.3.12_qbz5n2kfra8p0\\LocalCache\\local-packages\\Python312\\site-packages\\lightgbm\\callback.py:333: UserWarning: Early stopping is not available in dart mode\n",
      "  _log_warning(\"Early stopping is not available in dart mode\")\n",
      "C:\\Users\\Lucas\\AppData\\Local\\Packages\\PythonSoftwareFoundation.Python.3.12_qbz5n2kfra8p0\\LocalCache\\local-packages\\Python312\\site-packages\\lightgbm\\callback.py:333: UserWarning: Early stopping is not available in dart mode\n",
      "  _log_warning(\"Early stopping is not available in dart mode\")\n",
      "[I 2025-10-09 19:52:07,810] Trial 43 finished with value: 0.9375744750007833 and parameters: {'boosting_type': 'dart', 'num_iterations': 457, 'learning_rate': 0.14383616023145449, 'num_leaves': 1773, 'feature_fraction': 0.8695450183193228, 'max_depth': 17, 'min_data_in_leaf': 115, 'lambda_l1': 1.0359433498946238, 'lambda_l2': 0.4961447092430012, 'min_gain_to_split': 1.4874423736877935, 'bagging_fraction': 0.6919193579414525, 'bagging_freq': 11, 'min_sum_hessian_in_leaf': 12.312397053209963, 'scale_pos_weight': 20.460042222952204, 'max_bin': 69}. Best is trial 38 with value: 0.9389468325272233.\n",
      "C:\\Users\\Lucas\\AppData\\Local\\Packages\\PythonSoftwareFoundation.Python.3.12_qbz5n2kfra8p0\\LocalCache\\local-packages\\Python312\\site-packages\\lightgbm\\callback.py:333: UserWarning: Early stopping is not available in dart mode\n",
      "  _log_warning(\"Early stopping is not available in dart mode\")\n",
      "C:\\Users\\Lucas\\AppData\\Local\\Packages\\PythonSoftwareFoundation.Python.3.12_qbz5n2kfra8p0\\LocalCache\\local-packages\\Python312\\site-packages\\lightgbm\\callback.py:333: UserWarning: Early stopping is not available in dart mode\n",
      "  _log_warning(\"Early stopping is not available in dart mode\")\n",
      "C:\\Users\\Lucas\\AppData\\Local\\Packages\\PythonSoftwareFoundation.Python.3.12_qbz5n2kfra8p0\\LocalCache\\local-packages\\Python312\\site-packages\\lightgbm\\callback.py:333: UserWarning: Early stopping is not available in dart mode\n",
      "  _log_warning(\"Early stopping is not available in dart mode\")\n",
      "C:\\Users\\Lucas\\AppData\\Local\\Packages\\PythonSoftwareFoundation.Python.3.12_qbz5n2kfra8p0\\LocalCache\\local-packages\\Python312\\site-packages\\lightgbm\\callback.py:333: UserWarning: Early stopping is not available in dart mode\n",
      "  _log_warning(\"Early stopping is not available in dart mode\")\n",
      "C:\\Users\\Lucas\\AppData\\Local\\Packages\\PythonSoftwareFoundation.Python.3.12_qbz5n2kfra8p0\\LocalCache\\local-packages\\Python312\\site-packages\\lightgbm\\callback.py:333: UserWarning: Early stopping is not available in dart mode\n",
      "  _log_warning(\"Early stopping is not available in dart mode\")\n",
      "[I 2025-10-09 19:57:33,326] Trial 44 finished with value: 0.9392761711638616 and parameters: {'boosting_type': 'dart', 'num_iterations': 760, 'learning_rate': 0.10959071667574208, 'num_leaves': 1888, 'feature_fraction': 0.9342403243908737, 'max_depth': 14, 'min_data_in_leaf': 20, 'lambda_l1': 2.453650240154528, 'lambda_l2': 0.30511384330725955, 'min_gain_to_split': 0.7101514520613881, 'bagging_fraction': 0.7209601242044912, 'bagging_freq': 10, 'min_sum_hessian_in_leaf': 12.177417057605249, 'scale_pos_weight': 9.814235202238995, 'max_bin': 64}. Best is trial 44 with value: 0.9392761711638616.\n",
      "C:\\Users\\Lucas\\AppData\\Local\\Packages\\PythonSoftwareFoundation.Python.3.12_qbz5n2kfra8p0\\LocalCache\\local-packages\\Python312\\site-packages\\lightgbm\\callback.py:333: UserWarning: Early stopping is not available in dart mode\n",
      "  _log_warning(\"Early stopping is not available in dart mode\")\n",
      "C:\\Users\\Lucas\\AppData\\Local\\Packages\\PythonSoftwareFoundation.Python.3.12_qbz5n2kfra8p0\\LocalCache\\local-packages\\Python312\\site-packages\\lightgbm\\callback.py:333: UserWarning: Early stopping is not available in dart mode\n",
      "  _log_warning(\"Early stopping is not available in dart mode\")\n",
      "C:\\Users\\Lucas\\AppData\\Local\\Packages\\PythonSoftwareFoundation.Python.3.12_qbz5n2kfra8p0\\LocalCache\\local-packages\\Python312\\site-packages\\lightgbm\\callback.py:333: UserWarning: Early stopping is not available in dart mode\n",
      "  _log_warning(\"Early stopping is not available in dart mode\")\n",
      "C:\\Users\\Lucas\\AppData\\Local\\Packages\\PythonSoftwareFoundation.Python.3.12_qbz5n2kfra8p0\\LocalCache\\local-packages\\Python312\\site-packages\\lightgbm\\callback.py:333: UserWarning: Early stopping is not available in dart mode\n",
      "  _log_warning(\"Early stopping is not available in dart mode\")\n",
      "C:\\Users\\Lucas\\AppData\\Local\\Packages\\PythonSoftwareFoundation.Python.3.12_qbz5n2kfra8p0\\LocalCache\\local-packages\\Python312\\site-packages\\lightgbm\\callback.py:333: UserWarning: Early stopping is not available in dart mode\n",
      "  _log_warning(\"Early stopping is not available in dart mode\")\n",
      "[I 2025-10-09 20:02:52,141] Trial 45 finished with value: 0.9382586149369783 and parameters: {'boosting_type': 'dart', 'num_iterations': 756, 'learning_rate': 0.11797492236406193, 'num_leaves': 1856, 'feature_fraction': 0.9317317359590019, 'max_depth': 14, 'min_data_in_leaf': 13, 'lambda_l1': 2.397002055793485, 'lambda_l2': 0.2967295211976348, 'min_gain_to_split': 0.6547880546382365, 'bagging_fraction': 0.6098133879863473, 'bagging_freq': 13, 'min_sum_hessian_in_leaf': 8.55810846545709, 'scale_pos_weight': 10.15449157898094, 'max_bin': 63}. Best is trial 44 with value: 0.9392761711638616.\n"
     ]
    },
    {
     "name": "stdout",
     "output_type": "stream",
     "text": [
      "Training until validation scores don't improve for 50 rounds\n",
      "Early stopping, best iteration is:\n",
      "[260]\tvalid_0's auc: 0.936532\n",
      "Training until validation scores don't improve for 50 rounds\n",
      "Early stopping, best iteration is:\n",
      "[285]\tvalid_0's auc: 0.939788\n",
      "Training until validation scores don't improve for 50 rounds\n",
      "Early stopping, best iteration is:\n",
      "[295]\tvalid_0's auc: 0.929337\n",
      "Training until validation scores don't improve for 50 rounds\n",
      "Early stopping, best iteration is:\n",
      "[224]\tvalid_0's auc: 0.935641\n",
      "Training until validation scores don't improve for 50 rounds\n",
      "Early stopping, best iteration is:\n",
      "[274]\tvalid_0's auc: 0.940283\n"
     ]
    },
    {
     "name": "stderr",
     "output_type": "stream",
     "text": [
      "[I 2025-10-09 20:03:28,904] Trial 46 finished with value: 0.9363158979965753 and parameters: {'boosting_type': 'gbdt', 'num_iterations': 620, 'learning_rate': 0.07386772200669087, 'num_leaves': 2137, 'feature_fraction': 0.9550675627631369, 'max_depth': 14, 'min_data_in_leaf': 266, 'lambda_l1': 3.2849413152829765, 'lambda_l2': 1.8395776649117555, 'min_gain_to_split': 2.174130915959394, 'bagging_fraction': 0.8263706416014525, 'bagging_freq': 10, 'min_sum_hessian_in_leaf': 12.512417682843756, 'scale_pos_weight': 16.22631880379226, 'max_bin': 49}. Best is trial 44 with value: 0.9392761711638616.\n",
      "C:\\Users\\Lucas\\AppData\\Local\\Packages\\PythonSoftwareFoundation.Python.3.12_qbz5n2kfra8p0\\LocalCache\\local-packages\\Python312\\site-packages\\lightgbm\\callback.py:333: UserWarning: Early stopping is not available in dart mode\n",
      "  _log_warning(\"Early stopping is not available in dart mode\")\n",
      "C:\\Users\\Lucas\\AppData\\Local\\Packages\\PythonSoftwareFoundation.Python.3.12_qbz5n2kfra8p0\\LocalCache\\local-packages\\Python312\\site-packages\\lightgbm\\callback.py:333: UserWarning: Early stopping is not available in dart mode\n",
      "  _log_warning(\"Early stopping is not available in dart mode\")\n",
      "C:\\Users\\Lucas\\AppData\\Local\\Packages\\PythonSoftwareFoundation.Python.3.12_qbz5n2kfra8p0\\LocalCache\\local-packages\\Python312\\site-packages\\lightgbm\\callback.py:333: UserWarning: Early stopping is not available in dart mode\n",
      "  _log_warning(\"Early stopping is not available in dart mode\")\n",
      "C:\\Users\\Lucas\\AppData\\Local\\Packages\\PythonSoftwareFoundation.Python.3.12_qbz5n2kfra8p0\\LocalCache\\local-packages\\Python312\\site-packages\\lightgbm\\callback.py:333: UserWarning: Early stopping is not available in dart mode\n",
      "  _log_warning(\"Early stopping is not available in dart mode\")\n",
      "C:\\Users\\Lucas\\AppData\\Local\\Packages\\PythonSoftwareFoundation.Python.3.12_qbz5n2kfra8p0\\LocalCache\\local-packages\\Python312\\site-packages\\lightgbm\\callback.py:333: UserWarning: Early stopping is not available in dart mode\n",
      "  _log_warning(\"Early stopping is not available in dart mode\")\n",
      "[I 2025-10-09 20:06:59,976] Trial 47 finished with value: 0.9338262823475857 and parameters: {'boosting_type': 'dart', 'num_iterations': 782, 'learning_rate': 0.21297869911675016, 'num_leaves': 2050, 'feature_fraction': 0.7575927108501996, 'max_depth': 12, 'min_data_in_leaf': 367, 'lambda_l1': 5.515992121083707, 'lambda_l2': 0.0806881563239697, 'min_gain_to_split': 0.9797046641458824, 'bagging_fraction': 0.5317817934977334, 'bagging_freq': 11, 'min_sum_hessian_in_leaf': 11.548650870949016, 'scale_pos_weight': 9.030838792412682, 'max_bin': 66}. Best is trial 44 with value: 0.9392761711638616.\n"
     ]
    },
    {
     "name": "stdout",
     "output_type": "stream",
     "text": [
      "Training until validation scores don't improve for 50 rounds\n",
      "Early stopping, best iteration is:\n",
      "[186]\tvalid_0's auc: 0.932277\n",
      "Training until validation scores don't improve for 50 rounds\n",
      "Early stopping, best iteration is:\n",
      "[144]\tvalid_0's auc: 0.935824\n",
      "Training until validation scores don't improve for 50 rounds\n",
      "Early stopping, best iteration is:\n",
      "[226]\tvalid_0's auc: 0.926553\n",
      "Training until validation scores don't improve for 50 rounds\n",
      "Early stopping, best iteration is:\n",
      "[259]\tvalid_0's auc: 0.932093\n",
      "Training until validation scores don't improve for 50 rounds\n",
      "Early stopping, best iteration is:\n",
      "[184]\tvalid_0's auc: 0.934335\n"
     ]
    },
    {
     "name": "stderr",
     "output_type": "stream",
     "text": [
      "[I 2025-10-09 20:07:27,739] Trial 48 finished with value: 0.9322164470032119 and parameters: {'boosting_type': 'gbdt', 'num_iterations': 544, 'learning_rate': 0.1468676563811055, 'num_leaves': 1712, 'feature_fraction': 0.8379134934414691, 'max_depth': 18, 'min_data_in_leaf': 70, 'lambda_l1': 0.960163520640648, 'lambda_l2': 12.999016067425444, 'min_gain_to_split': 2.425189822252701, 'bagging_fraction': 0.6785497307571356, 'bagging_freq': 13, 'min_sum_hessian_in_leaf': 15.80093139576012, 'scale_pos_weight': 26.25237895028503, 'max_bin': 60}. Best is trial 44 with value: 0.9392761711638616.\n",
      "C:\\Users\\Lucas\\AppData\\Local\\Packages\\PythonSoftwareFoundation.Python.3.12_qbz5n2kfra8p0\\LocalCache\\local-packages\\Python312\\site-packages\\lightgbm\\callback.py:333: UserWarning: Early stopping is not available in dart mode\n",
      "  _log_warning(\"Early stopping is not available in dart mode\")\n",
      "C:\\Users\\Lucas\\AppData\\Local\\Packages\\PythonSoftwareFoundation.Python.3.12_qbz5n2kfra8p0\\LocalCache\\local-packages\\Python312\\site-packages\\lightgbm\\callback.py:333: UserWarning: Early stopping is not available in dart mode\n",
      "  _log_warning(\"Early stopping is not available in dart mode\")\n",
      "C:\\Users\\Lucas\\AppData\\Local\\Packages\\PythonSoftwareFoundation.Python.3.12_qbz5n2kfra8p0\\LocalCache\\local-packages\\Python312\\site-packages\\lightgbm\\callback.py:333: UserWarning: Early stopping is not available in dart mode\n",
      "  _log_warning(\"Early stopping is not available in dart mode\")\n",
      "C:\\Users\\Lucas\\AppData\\Local\\Packages\\PythonSoftwareFoundation.Python.3.12_qbz5n2kfra8p0\\LocalCache\\local-packages\\Python312\\site-packages\\lightgbm\\callback.py:333: UserWarning: Early stopping is not available in dart mode\n",
      "  _log_warning(\"Early stopping is not available in dart mode\")\n",
      "C:\\Users\\Lucas\\AppData\\Local\\Packages\\PythonSoftwareFoundation.Python.3.12_qbz5n2kfra8p0\\LocalCache\\local-packages\\Python312\\site-packages\\lightgbm\\callback.py:333: UserWarning: Early stopping is not available in dart mode\n",
      "  _log_warning(\"Early stopping is not available in dart mode\")\n",
      "[I 2025-10-09 20:09:06,005] Trial 49 finished with value: 0.9386954570746118 and parameters: {'boosting_type': 'dart', 'num_iterations': 329, 'learning_rate': 0.1955733062279807, 'num_leaves': 1463, 'feature_fraction': 0.922564462154872, 'max_depth': 14, 'min_data_in_leaf': 85, 'lambda_l1': 3.9872062212860357, 'lambda_l2': 9.70253397626152, 'min_gain_to_split': 0.66110638762743, 'bagging_fraction': 0.8802025849837857, 'bagging_freq': 12, 'min_sum_hessian_in_leaf': 9.35603177036129, 'scale_pos_weight': 6.439602819814313, 'max_bin': 66}. Best is trial 44 with value: 0.9392761711638616.\n"
     ]
    },
    {
     "name": "stdout",
     "output_type": "stream",
     "text": [
      "Training until validation scores don't improve for 50 rounds\n",
      "Early stopping, best iteration is:\n",
      "[88]\tvalid_0's auc: 0.934322\n",
      "Training until validation scores don't improve for 50 rounds\n",
      "Early stopping, best iteration is:\n",
      "[62]\tvalid_0's auc: 0.936354\n",
      "Training until validation scores don't improve for 50 rounds\n",
      "Early stopping, best iteration is:\n",
      "[74]\tvalid_0's auc: 0.929287\n",
      "Training until validation scores don't improve for 50 rounds\n",
      "Early stopping, best iteration is:\n",
      "[72]\tvalid_0's auc: 0.932665\n",
      "Training until validation scores don't improve for 50 rounds\n"
     ]
    },
    {
     "name": "stderr",
     "output_type": "stream",
     "text": [
      "[I 2025-10-09 20:09:22,452] Trial 50 finished with value: 0.933795686418166 and parameters: {'boosting_type': 'gbdt', 'num_iterations': 342, 'learning_rate': 0.182294333453705, 'num_leaves': 1231, 'feature_fraction': 0.9190709104294247, 'max_depth': 11, 'min_data_in_leaf': 85, 'lambda_l1': 7.234261614917115, 'lambda_l2': 10.013350551369133, 'min_gain_to_split': 1.5729498346838224, 'bagging_fraction': 0.9989774182217335, 'bagging_freq': 12, 'min_sum_hessian_in_leaf': 6.572069732065174, 'scale_pos_weight': 6.290553111174944, 'max_bin': 54}. Best is trial 44 with value: 0.9392761711638616.\n"
     ]
    },
    {
     "name": "stdout",
     "output_type": "stream",
     "text": [
      "Early stopping, best iteration is:\n",
      "[74]\tvalid_0's auc: 0.93635\n"
     ]
    },
    {
     "name": "stderr",
     "output_type": "stream",
     "text": [
      "C:\\Users\\Lucas\\AppData\\Local\\Packages\\PythonSoftwareFoundation.Python.3.12_qbz5n2kfra8p0\\LocalCache\\local-packages\\Python312\\site-packages\\lightgbm\\callback.py:333: UserWarning: Early stopping is not available in dart mode\n",
      "  _log_warning(\"Early stopping is not available in dart mode\")\n",
      "C:\\Users\\Lucas\\AppData\\Local\\Packages\\PythonSoftwareFoundation.Python.3.12_qbz5n2kfra8p0\\LocalCache\\local-packages\\Python312\\site-packages\\lightgbm\\callback.py:333: UserWarning: Early stopping is not available in dart mode\n",
      "  _log_warning(\"Early stopping is not available in dart mode\")\n",
      "C:\\Users\\Lucas\\AppData\\Local\\Packages\\PythonSoftwareFoundation.Python.3.12_qbz5n2kfra8p0\\LocalCache\\local-packages\\Python312\\site-packages\\lightgbm\\callback.py:333: UserWarning: Early stopping is not available in dart mode\n",
      "  _log_warning(\"Early stopping is not available in dart mode\")\n",
      "C:\\Users\\Lucas\\AppData\\Local\\Packages\\PythonSoftwareFoundation.Python.3.12_qbz5n2kfra8p0\\LocalCache\\local-packages\\Python312\\site-packages\\lightgbm\\callback.py:333: UserWarning: Early stopping is not available in dart mode\n",
      "  _log_warning(\"Early stopping is not available in dart mode\")\n",
      "C:\\Users\\Lucas\\AppData\\Local\\Packages\\PythonSoftwareFoundation.Python.3.12_qbz5n2kfra8p0\\LocalCache\\local-packages\\Python312\\site-packages\\lightgbm\\callback.py:333: UserWarning: Early stopping is not available in dart mode\n",
      "  _log_warning(\"Early stopping is not available in dart mode\")\n",
      "[I 2025-10-09 20:10:03,634] Trial 51 finished with value: 0.9367568768104222 and parameters: {'boosting_type': 'dart', 'num_iterations': 162, 'learning_rate': 0.19678771684055885, 'num_leaves': 1459, 'feature_fraction': 0.8918350749952855, 'max_depth': 14, 'min_data_in_leaf': 177, 'lambda_l1': 3.8848757207021336, 'lambda_l2': 11.465160675891187, 'min_gain_to_split': 0.631464985041466, 'bagging_fraction': 0.8812024999182528, 'bagging_freq': 10, 'min_sum_hessian_in_leaf': 9.660106205614913, 'scale_pos_weight': 5.760473737095349, 'max_bin': 65}. Best is trial 44 with value: 0.9392761711638616.\n",
      "C:\\Users\\Lucas\\AppData\\Local\\Packages\\PythonSoftwareFoundation.Python.3.12_qbz5n2kfra8p0\\LocalCache\\local-packages\\Python312\\site-packages\\lightgbm\\callback.py:333: UserWarning: Early stopping is not available in dart mode\n",
      "  _log_warning(\"Early stopping is not available in dart mode\")\n",
      "C:\\Users\\Lucas\\AppData\\Local\\Packages\\PythonSoftwareFoundation.Python.3.12_qbz5n2kfra8p0\\LocalCache\\local-packages\\Python312\\site-packages\\lightgbm\\callback.py:333: UserWarning: Early stopping is not available in dart mode\n",
      "  _log_warning(\"Early stopping is not available in dart mode\")\n",
      "C:\\Users\\Lucas\\AppData\\Local\\Packages\\PythonSoftwareFoundation.Python.3.12_qbz5n2kfra8p0\\LocalCache\\local-packages\\Python312\\site-packages\\lightgbm\\callback.py:333: UserWarning: Early stopping is not available in dart mode\n",
      "  _log_warning(\"Early stopping is not available in dart mode\")\n",
      "C:\\Users\\Lucas\\AppData\\Local\\Packages\\PythonSoftwareFoundation.Python.3.12_qbz5n2kfra8p0\\LocalCache\\local-packages\\Python312\\site-packages\\lightgbm\\callback.py:333: UserWarning: Early stopping is not available in dart mode\n",
      "  _log_warning(\"Early stopping is not available in dart mode\")\n",
      "C:\\Users\\Lucas\\AppData\\Local\\Packages\\PythonSoftwareFoundation.Python.3.12_qbz5n2kfra8p0\\LocalCache\\local-packages\\Python312\\site-packages\\lightgbm\\callback.py:333: UserWarning: Early stopping is not available in dart mode\n",
      "  _log_warning(\"Early stopping is not available in dart mode\")\n",
      "[I 2025-10-09 20:13:14,034] Trial 52 finished with value: 0.9389606184402132 and parameters: {'boosting_type': 'dart', 'num_iterations': 583, 'learning_rate': 0.1188691613921398, 'num_leaves': 1612, 'feature_fraction': 0.950801782479959, 'max_depth': 17, 'min_data_in_leaf': 1, 'lambda_l1': 2.5018524799990693, 'lambda_l2': 9.528677365293058, 'min_gain_to_split': 1.164614681082651, 'bagging_fraction': 0.9311457825493635, 'bagging_freq': 12, 'min_sum_hessian_in_leaf': 4.434512617495637, 'scale_pos_weight': 2.0569800708485078, 'max_bin': 72}. Best is trial 44 with value: 0.9392761711638616.\n",
      "C:\\Users\\Lucas\\AppData\\Local\\Packages\\PythonSoftwareFoundation.Python.3.12_qbz5n2kfra8p0\\LocalCache\\local-packages\\Python312\\site-packages\\lightgbm\\callback.py:333: UserWarning: Early stopping is not available in dart mode\n",
      "  _log_warning(\"Early stopping is not available in dart mode\")\n",
      "C:\\Users\\Lucas\\AppData\\Local\\Packages\\PythonSoftwareFoundation.Python.3.12_qbz5n2kfra8p0\\LocalCache\\local-packages\\Python312\\site-packages\\lightgbm\\callback.py:333: UserWarning: Early stopping is not available in dart mode\n",
      "  _log_warning(\"Early stopping is not available in dart mode\")\n",
      "C:\\Users\\Lucas\\AppData\\Local\\Packages\\PythonSoftwareFoundation.Python.3.12_qbz5n2kfra8p0\\LocalCache\\local-packages\\Python312\\site-packages\\lightgbm\\callback.py:333: UserWarning: Early stopping is not available in dart mode\n",
      "  _log_warning(\"Early stopping is not available in dart mode\")\n",
      "C:\\Users\\Lucas\\AppData\\Local\\Packages\\PythonSoftwareFoundation.Python.3.12_qbz5n2kfra8p0\\LocalCache\\local-packages\\Python312\\site-packages\\lightgbm\\callback.py:333: UserWarning: Early stopping is not available in dart mode\n",
      "  _log_warning(\"Early stopping is not available in dart mode\")\n",
      "C:\\Users\\Lucas\\AppData\\Local\\Packages\\PythonSoftwareFoundation.Python.3.12_qbz5n2kfra8p0\\LocalCache\\local-packages\\Python312\\site-packages\\lightgbm\\callback.py:333: UserWarning: Early stopping is not available in dart mode\n",
      "  _log_warning(\"Early stopping is not available in dart mode\")\n",
      "[I 2025-10-09 20:16:28,342] Trial 53 finished with value: 0.9396363671473547 and parameters: {'boosting_type': 'dart', 'num_iterations': 582, 'learning_rate': 0.11765087567097937, 'num_leaves': 1300, 'feature_fraction': 0.9269837455057985, 'max_depth': 17, 'min_data_in_leaf': 7, 'lambda_l1': 2.7608777194644634, 'lambda_l2': 9.329566841234888, 'min_gain_to_split': 1.10764975702168, 'bagging_fraction': 0.9348898448232648, 'bagging_freq': 12, 'min_sum_hessian_in_leaf': 3.8627901701310856, 'scale_pos_weight': 2.420083173981167, 'max_bin': 71}. Best is trial 53 with value: 0.9396363671473547.\n",
      "C:\\Users\\Lucas\\AppData\\Local\\Packages\\PythonSoftwareFoundation.Python.3.12_qbz5n2kfra8p0\\LocalCache\\local-packages\\Python312\\site-packages\\lightgbm\\callback.py:333: UserWarning: Early stopping is not available in dart mode\n",
      "  _log_warning(\"Early stopping is not available in dart mode\")\n",
      "C:\\Users\\Lucas\\AppData\\Local\\Packages\\PythonSoftwareFoundation.Python.3.12_qbz5n2kfra8p0\\LocalCache\\local-packages\\Python312\\site-packages\\lightgbm\\callback.py:333: UserWarning: Early stopping is not available in dart mode\n",
      "  _log_warning(\"Early stopping is not available in dart mode\")\n",
      "C:\\Users\\Lucas\\AppData\\Local\\Packages\\PythonSoftwareFoundation.Python.3.12_qbz5n2kfra8p0\\LocalCache\\local-packages\\Python312\\site-packages\\lightgbm\\callback.py:333: UserWarning: Early stopping is not available in dart mode\n",
      "  _log_warning(\"Early stopping is not available in dart mode\")\n",
      "C:\\Users\\Lucas\\AppData\\Local\\Packages\\PythonSoftwareFoundation.Python.3.12_qbz5n2kfra8p0\\LocalCache\\local-packages\\Python312\\site-packages\\lightgbm\\callback.py:333: UserWarning: Early stopping is not available in dart mode\n",
      "  _log_warning(\"Early stopping is not available in dart mode\")\n",
      "C:\\Users\\Lucas\\AppData\\Local\\Packages\\PythonSoftwareFoundation.Python.3.12_qbz5n2kfra8p0\\LocalCache\\local-packages\\Python312\\site-packages\\lightgbm\\callback.py:333: UserWarning: Early stopping is not available in dart mode\n",
      "  _log_warning(\"Early stopping is not available in dart mode\")\n",
      "[I 2025-10-09 20:18:57,860] Trial 54 finished with value: 0.9383627760887947 and parameters: {'boosting_type': 'dart', 'num_iterations': 591, 'learning_rate': 0.12864454222758706, 'num_leaves': 1326, 'feature_fraction': 0.9475362287738681, 'max_depth': 17, 'min_data_in_leaf': 3, 'lambda_l1': 2.966324834496516, 'lambda_l2': 9.012026760878465, 'min_gain_to_split': 1.1586820460963683, 'bagging_fraction': 0.9437870387386443, 'bagging_freq': 13, 'min_sum_hessian_in_leaf': 4.168876723385535, 'scale_pos_weight': 1.2420800108462957, 'max_bin': 71}. Best is trial 53 with value: 0.9396363671473547.\n",
      "C:\\Users\\Lucas\\AppData\\Local\\Packages\\PythonSoftwareFoundation.Python.3.12_qbz5n2kfra8p0\\LocalCache\\local-packages\\Python312\\site-packages\\lightgbm\\callback.py:333: UserWarning: Early stopping is not available in dart mode\n",
      "  _log_warning(\"Early stopping is not available in dart mode\")\n",
      "C:\\Users\\Lucas\\AppData\\Local\\Packages\\PythonSoftwareFoundation.Python.3.12_qbz5n2kfra8p0\\LocalCache\\local-packages\\Python312\\site-packages\\lightgbm\\callback.py:333: UserWarning: Early stopping is not available in dart mode\n",
      "  _log_warning(\"Early stopping is not available in dart mode\")\n",
      "C:\\Users\\Lucas\\AppData\\Local\\Packages\\PythonSoftwareFoundation.Python.3.12_qbz5n2kfra8p0\\LocalCache\\local-packages\\Python312\\site-packages\\lightgbm\\callback.py:333: UserWarning: Early stopping is not available in dart mode\n",
      "  _log_warning(\"Early stopping is not available in dart mode\")\n",
      "C:\\Users\\Lucas\\AppData\\Local\\Packages\\PythonSoftwareFoundation.Python.3.12_qbz5n2kfra8p0\\LocalCache\\local-packages\\Python312\\site-packages\\lightgbm\\callback.py:333: UserWarning: Early stopping is not available in dart mode\n",
      "  _log_warning(\"Early stopping is not available in dart mode\")\n",
      "C:\\Users\\Lucas\\AppData\\Local\\Packages\\PythonSoftwareFoundation.Python.3.12_qbz5n2kfra8p0\\LocalCache\\local-packages\\Python312\\site-packages\\lightgbm\\callback.py:333: UserWarning: Early stopping is not available in dart mode\n",
      "  _log_warning(\"Early stopping is not available in dart mode\")\n",
      "[I 2025-10-09 20:23:19,801] Trial 55 finished with value: 0.9405360493092945 and parameters: {'boosting_type': 'dart', 'num_iterations': 649, 'learning_rate': 0.11524398867697595, 'num_leaves': 1860, 'feature_fraction': 0.9795332454292214, 'max_depth': 17, 'min_data_in_leaf': 7, 'lambda_l1': 2.270616389907379, 'lambda_l2': 1.3592847823243908, 'min_gain_to_split': 0.9621865293811875, 'bagging_fraction': 0.9313861381547075, 'bagging_freq': 14, 'min_sum_hessian_in_leaf': 1.8791281129840096, 'scale_pos_weight': 4.070876512790485, 'max_bin': 40}. Best is trial 55 with value: 0.9405360493092945.\n",
      "C:\\Users\\Lucas\\AppData\\Local\\Packages\\PythonSoftwareFoundation.Python.3.12_qbz5n2kfra8p0\\LocalCache\\local-packages\\Python312\\site-packages\\lightgbm\\callback.py:333: UserWarning: Early stopping is not available in dart mode\n",
      "  _log_warning(\"Early stopping is not available in dart mode\")\n",
      "C:\\Users\\Lucas\\AppData\\Local\\Packages\\PythonSoftwareFoundation.Python.3.12_qbz5n2kfra8p0\\LocalCache\\local-packages\\Python312\\site-packages\\lightgbm\\callback.py:333: UserWarning: Early stopping is not available in dart mode\n",
      "  _log_warning(\"Early stopping is not available in dart mode\")\n",
      "C:\\Users\\Lucas\\AppData\\Local\\Packages\\PythonSoftwareFoundation.Python.3.12_qbz5n2kfra8p0\\LocalCache\\local-packages\\Python312\\site-packages\\lightgbm\\callback.py:333: UserWarning: Early stopping is not available in dart mode\n",
      "  _log_warning(\"Early stopping is not available in dart mode\")\n",
      "C:\\Users\\Lucas\\AppData\\Local\\Packages\\PythonSoftwareFoundation.Python.3.12_qbz5n2kfra8p0\\LocalCache\\local-packages\\Python312\\site-packages\\lightgbm\\callback.py:333: UserWarning: Early stopping is not available in dart mode\n",
      "  _log_warning(\"Early stopping is not available in dart mode\")\n",
      "C:\\Users\\Lucas\\AppData\\Local\\Packages\\PythonSoftwareFoundation.Python.3.12_qbz5n2kfra8p0\\LocalCache\\local-packages\\Python312\\site-packages\\lightgbm\\callback.py:333: UserWarning: Early stopping is not available in dart mode\n",
      "  _log_warning(\"Early stopping is not available in dart mode\")\n",
      "[I 2025-10-09 20:27:06,688] Trial 56 finished with value: 0.9399296699365551 and parameters: {'boosting_type': 'dart', 'num_iterations': 658, 'learning_rate': 0.1153885916721986, 'num_leaves': 1875, 'feature_fraction': 0.977431483971833, 'max_depth': 18, 'min_data_in_leaf': 42, 'lambda_l1': 2.531643661929106, 'lambda_l2': 1.580007814136604, 'min_gain_to_split': 1.7718083456624987, 'bagging_fraction': 0.9261493577990153, 'bagging_freq': 14, 'min_sum_hessian_in_leaf': 0.15492217111770779, 'scale_pos_weight': 4.355705833254387, 'max_bin': 41}. Best is trial 55 with value: 0.9405360493092945.\n",
      "C:\\Users\\Lucas\\AppData\\Local\\Packages\\PythonSoftwareFoundation.Python.3.12_qbz5n2kfra8p0\\LocalCache\\local-packages\\Python312\\site-packages\\lightgbm\\callback.py:333: UserWarning: Early stopping is not available in dart mode\n",
      "  _log_warning(\"Early stopping is not available in dart mode\")\n",
      "C:\\Users\\Lucas\\AppData\\Local\\Packages\\PythonSoftwareFoundation.Python.3.12_qbz5n2kfra8p0\\LocalCache\\local-packages\\Python312\\site-packages\\lightgbm\\callback.py:333: UserWarning: Early stopping is not available in dart mode\n",
      "  _log_warning(\"Early stopping is not available in dart mode\")\n",
      "C:\\Users\\Lucas\\AppData\\Local\\Packages\\PythonSoftwareFoundation.Python.3.12_qbz5n2kfra8p0\\LocalCache\\local-packages\\Python312\\site-packages\\lightgbm\\callback.py:333: UserWarning: Early stopping is not available in dart mode\n",
      "  _log_warning(\"Early stopping is not available in dart mode\")\n",
      "C:\\Users\\Lucas\\AppData\\Local\\Packages\\PythonSoftwareFoundation.Python.3.12_qbz5n2kfra8p0\\LocalCache\\local-packages\\Python312\\site-packages\\lightgbm\\callback.py:333: UserWarning: Early stopping is not available in dart mode\n",
      "  _log_warning(\"Early stopping is not available in dart mode\")\n",
      "C:\\Users\\Lucas\\AppData\\Local\\Packages\\PythonSoftwareFoundation.Python.3.12_qbz5n2kfra8p0\\LocalCache\\local-packages\\Python312\\site-packages\\lightgbm\\callback.py:333: UserWarning: Early stopping is not available in dart mode\n",
      "  _log_warning(\"Early stopping is not available in dart mode\")\n",
      "[I 2025-10-09 20:29:48,159] Trial 57 finished with value: 0.9396480522659607 and parameters: {'boosting_type': 'dart', 'num_iterations': 502, 'learning_rate': 0.11635143219508527, 'num_leaves': 1916, 'feature_fraction': 0.9431579759640627, 'max_depth': 18, 'min_data_in_leaf': 9, 'lambda_l1': 2.399245284688477, 'lambda_l2': 1.430342361025672, 'min_gain_to_split': 1.794988269018956, 'bagging_fraction': 0.9176092902927557, 'bagging_freq': 14, 'min_sum_hessian_in_leaf': 1.5772151622418815, 'scale_pos_weight': 4.430974186520222, 'max_bin': 39}. Best is trial 55 with value: 0.9405360493092945.\n",
      "C:\\Users\\Lucas\\AppData\\Local\\Packages\\PythonSoftwareFoundation.Python.3.12_qbz5n2kfra8p0\\LocalCache\\local-packages\\Python312\\site-packages\\lightgbm\\callback.py:333: UserWarning: Early stopping is not available in dart mode\n",
      "  _log_warning(\"Early stopping is not available in dart mode\")\n",
      "C:\\Users\\Lucas\\AppData\\Local\\Packages\\PythonSoftwareFoundation.Python.3.12_qbz5n2kfra8p0\\LocalCache\\local-packages\\Python312\\site-packages\\lightgbm\\callback.py:333: UserWarning: Early stopping is not available in dart mode\n",
      "  _log_warning(\"Early stopping is not available in dart mode\")\n",
      "C:\\Users\\Lucas\\AppData\\Local\\Packages\\PythonSoftwareFoundation.Python.3.12_qbz5n2kfra8p0\\LocalCache\\local-packages\\Python312\\site-packages\\lightgbm\\callback.py:333: UserWarning: Early stopping is not available in dart mode\n",
      "  _log_warning(\"Early stopping is not available in dart mode\")\n",
      "C:\\Users\\Lucas\\AppData\\Local\\Packages\\PythonSoftwareFoundation.Python.3.12_qbz5n2kfra8p0\\LocalCache\\local-packages\\Python312\\site-packages\\lightgbm\\callback.py:333: UserWarning: Early stopping is not available in dart mode\n",
      "  _log_warning(\"Early stopping is not available in dart mode\")\n",
      "C:\\Users\\Lucas\\AppData\\Local\\Packages\\PythonSoftwareFoundation.Python.3.12_qbz5n2kfra8p0\\LocalCache\\local-packages\\Python312\\site-packages\\lightgbm\\callback.py:333: UserWarning: Early stopping is not available in dart mode\n",
      "  _log_warning(\"Early stopping is not available in dart mode\")\n",
      "[I 2025-10-09 20:31:39,264] Trial 58 finished with value: 0.9388458686535808 and parameters: {'boosting_type': 'dart', 'num_iterations': 395, 'learning_rate': 0.12214475892605128, 'num_leaves': 1933, 'feature_fraction': 0.9810928022512416, 'max_depth': 18, 'min_data_in_leaf': 57, 'lambda_l1': 5.136136965737548, 'lambda_l2': 1.6289567046689288, 'min_gain_to_split': 1.7057197075831667, 'bagging_fraction': 0.9191912604904157, 'bagging_freq': 15, 'min_sum_hessian_in_leaf': 1.7572796023279955, 'scale_pos_weight': 4.199867542575915, 'max_bin': 39}. Best is trial 55 with value: 0.9405360493092945.\n",
      "C:\\Users\\Lucas\\AppData\\Local\\Packages\\PythonSoftwareFoundation.Python.3.12_qbz5n2kfra8p0\\LocalCache\\local-packages\\Python312\\site-packages\\lightgbm\\callback.py:333: UserWarning: Early stopping is not available in dart mode\n",
      "  _log_warning(\"Early stopping is not available in dart mode\")\n",
      "C:\\Users\\Lucas\\AppData\\Local\\Packages\\PythonSoftwareFoundation.Python.3.12_qbz5n2kfra8p0\\LocalCache\\local-packages\\Python312\\site-packages\\lightgbm\\callback.py:333: UserWarning: Early stopping is not available in dart mode\n",
      "  _log_warning(\"Early stopping is not available in dart mode\")\n",
      "C:\\Users\\Lucas\\AppData\\Local\\Packages\\PythonSoftwareFoundation.Python.3.12_qbz5n2kfra8p0\\LocalCache\\local-packages\\Python312\\site-packages\\lightgbm\\callback.py:333: UserWarning: Early stopping is not available in dart mode\n",
      "  _log_warning(\"Early stopping is not available in dart mode\")\n",
      "C:\\Users\\Lucas\\AppData\\Local\\Packages\\PythonSoftwareFoundation.Python.3.12_qbz5n2kfra8p0\\LocalCache\\local-packages\\Python312\\site-packages\\lightgbm\\callback.py:333: UserWarning: Early stopping is not available in dart mode\n",
      "  _log_warning(\"Early stopping is not available in dart mode\")\n",
      "C:\\Users\\Lucas\\AppData\\Local\\Packages\\PythonSoftwareFoundation.Python.3.12_qbz5n2kfra8p0\\LocalCache\\local-packages\\Python312\\site-packages\\lightgbm\\callback.py:333: UserWarning: Early stopping is not available in dart mode\n",
      "  _log_warning(\"Early stopping is not available in dart mode\")\n",
      "[I 2025-10-09 20:35:03,015] Trial 59 finished with value: 0.9395586601484285 and parameters: {'boosting_type': 'dart', 'num_iterations': 537, 'learning_rate': 0.11442610944365834, 'num_leaves': 2042, 'feature_fraction': 0.9345782870163147, 'max_depth': 18, 'min_data_in_leaf': 169, 'lambda_l1': 2.37301571769468, 'lambda_l2': 1.0623598844115123, 'min_gain_to_split': 0.9449723342219045, 'bagging_fraction': 0.9663807067046764, 'bagging_freq': 14, 'min_sum_hessian_in_leaf': 0.2478518117552564, 'scale_pos_weight': 8.641129456060963, 'max_bin': 30}. Best is trial 55 with value: 0.9405360493092945.\n"
     ]
    },
    {
     "name": "stdout",
     "output_type": "stream",
     "text": [
      "✅ Mejores hiperparámetros: {'boosting_type': 'dart', 'num_iterations': 649, 'learning_rate': 0.11524398867697595, 'num_leaves': 1860, 'feature_fraction': 0.9795332454292214, 'max_depth': 17, 'min_data_in_leaf': 7, 'lambda_l1': 2.270616389907379, 'lambda_l2': 1.3592847823243908, 'min_gain_to_split': 0.9621865293811875, 'bagging_fraction': 0.9313861381547075, 'bagging_freq': 14, 'min_sum_hessian_in_leaf': 1.8791281129840096, 'scale_pos_weight': 4.070876512790485, 'max_bin': 40}\n",
      "✅ Mejor AUC: 0.9405360493092945\n"
     ]
    }
   ],
   "source": [
    "\n",
    "# Crear el estudio\n",
    "study = optuna.create_study(\n",
    "    direction=\"maximize\",\n",
    "    sampler=optuna.samplers.RandomSampler(seed=seed)\n",
    ")\n",
    "\n",
    "# Primeras 20 pruebas random\n",
    "study.optimize(\n",
    "    lambda trial: EstimarGanancia_AUC_lightgbm(trial, X_train, y_train, seeds),\n",
    "    n_trials=25\n",
    ")\n",
    "\n",
    "# Luego 30 pruebas con TPE\n",
    "study.sampler = optuna.samplers.TPESampler(seed=seed)\n",
    "study.optimize(\n",
    "    lambda trial: EstimarGanancia_AUC_lightgbm(trial, X_train, y_train, seeds),\n",
    "    n_trials=35\n",
    ")\n",
    "\n",
    "# Guardar resultados\n",
    "tb_bayesiana = study.trials_dataframe(attrs=(\"number\", \"value\", \"params\", \"state\")).rename(columns={\"value\": \"AUC\"})\n",
    "tb_bayesiana[\"iter\"] = tb_bayesiana.index + 1\n",
    "tb_bayesiana.sort_values(by=\"AUC\", ascending=False).to_csv(\"BO_log.txt\", sep=\"\\t\", index=False)\n",
    "\n",
    "PARAM[\"out\"] = {\n",
    "    \"lgbm\": {\n",
    "        \"mejores_hiperparametros\": study.best_trial.params,\n",
    "        \"AUC\": study.best_trial.value\n",
    "    }\n",
    "}\n",
    "print(\"✅ Mejores hiperparámetros:\", study.best_trial.params)\n",
    "print(\"✅ Mejor AUC:\", study.best_trial.value)\n",
    "\n",
    "\n"
   ]
  },
  {
   "cell_type": "code",
   "execution_count": 31,
   "id": "1eea5bd4",
   "metadata": {},
   "outputs": [
    {
     "name": "stdout",
     "output_type": "stream",
     "text": [
      "Mejores hiperparámetros: {'boosting_type': 'dart', 'num_iterations': 649, 'learning_rate': 0.11524398867697595, 'num_leaves': 1860, 'feature_fraction': 0.9795332454292214, 'max_depth': 17, 'min_data_in_leaf': 7, 'lambda_l1': 2.270616389907379, 'lambda_l2': 1.3592847823243908, 'min_gain_to_split': 0.9621865293811875, 'bagging_fraction': 0.9313861381547075, 'bagging_freq': 14, 'min_sum_hessian_in_leaf': 1.8791281129840096, 'scale_pos_weight': 4.070876512790485, 'max_bin': 40}\n",
      "Mejor AUC: 0.9405360493092945\n"
     ]
    }
   ],
   "source": [
    "tb_bayesiana = study.trials_dataframe(attrs=(\"number\", \"value\", \"params\", \"state\"))\n",
    "tb_bayesiana = tb_bayesiana.rename(columns={\"value\": \"y\"})\n",
    "tb_bayesiana[\"iter\"] = tb_bayesiana.index + 1\n",
    "tb_bayesiana = tb_bayesiana.sort_values(by=\"y\", ascending=False).reset_index(drop=True)\n",
    "tb_bayesiana.to_csv(\"BO_log.txt\", sep=\"\\t\", index=False)\n",
    "mejores_hiperparametros = study.best_trial.params\n",
    "mejor_auc = study.best_trial.value\n",
    "print(\"Mejores hiperparámetros:\", mejores_hiperparametros)\n",
    "print(\"Mejor AUC:\", mejor_auc)\n",
    "PARAM[\"out\"] = {\"lgbm\": {\"mejores_hiperparametros\": mejores_hiperparametros, \"y\": mejor_auc}}\n"
   ]
  },
  {
   "cell_type": "code",
   "execution_count": null,
   "id": "feb6e7c6",
   "metadata": {},
   "outputs": [],
   "source": []
  },
  {
   "cell_type": "code",
   "execution_count": 32,
   "id": "f9af42d9",
   "metadata": {},
   "outputs": [
    {
     "name": "stdout",
     "output_type": "stream",
     "text": [
      "{'boosting_type': 'dart', 'num_iterations': 649, 'learning_rate': 0.11524398867697595, 'num_leaves': 1860, 'feature_fraction': 0.9795332454292214, 'max_depth': 17, 'min_data_in_leaf': 7, 'lambda_l1': 2.270616389907379, 'lambda_l2': 1.3592847823243908, 'min_gain_to_split': 0.9621865293811875, 'bagging_fraction': 0.9313861381547075, 'bagging_freq': 14, 'min_sum_hessian_in_leaf': 1.8791281129840096, 'scale_pos_weight': 4.070876512790485, 'max_bin': 40}\n",
      "0.9405360493092945\n"
     ]
    }
   ],
   "source": [
    "import yaml\n",
    "\n",
    "# 1. Guardar PARAM en YAML\n",
    "with open(\"C:/Users/Lucas/Proyectos cursor/Exp13/PARAM_7k_featureExt.yml\", \"w\") as f:\n",
    "    yaml.dump(PARAM, f, default_flow_style=False, sort_keys=False)\n",
    "\n",
    "# 2. Imprimir los mejores hiperparámetros\n",
    "print(PARAM[\"out\"][\"lgbm\"][\"mejores_hiperparametros\"])\n",
    "\n",
    "# 3. Imprimir el mejor AUC\n",
    "print(PARAM[\"out\"][\"lgbm\"][\"y\"])"
   ]
  },
  {
   "cell_type": "code",
   "execution_count": 33,
   "id": "d3fb9141",
   "metadata": {},
   "outputs": [],
   "source": [
    "import os\n",
    "\n",
    "# 1. Carpeta del experimento\n",
    "# 1. Ruta base de experimentos\n",
    "base_dir = \"C:/Users/Lucas/Proyectos cursor/Exp13/exp7k_featureExt\"\n",
    "\n",
    "# 2. Carpeta del experimento\n",
    "experimento = f\"exp{PARAM['experimento']}\"\n",
    "exp_dir = os.path.join(base_dir, experimento)\n",
    "\n",
    "# 3. Crear carpeta si no existe\n",
    "os.makedirs(exp_dir, exist_ok=True)\n",
    "\n",
    "# 4. Cambiar el cwd a esa carpeta\n",
    "os.chdir(exp_dir)\n"
   ]
  },
  {
   "cell_type": "code",
   "execution_count": 34,
   "id": "a22e3328",
   "metadata": {},
   "outputs": [],
   "source": [
    "\n",
    "# 2. Crear variable clase01\n",
    "df[\"clase01\"] = np.where(\n",
    "    df[\"clase_ternaria\"].isin([\"BAJA+1\", \"BAJA+2\"]), 1, 0\n",
    ")\n",
    "\n"
   ]
  },
  {
   "cell_type": "code",
   "execution_count": 35,
   "id": "3db78f6e",
   "metadata": {},
   "outputs": [],
   "source": [
    "# Entrenamiento para evaluar en 202104\n",
    "dataset_train_eval = df[df[\"foto_mes\"].isin([202101, 202102, 202103])].copy()\n",
    "dataset_test_eval  = df[df[\"foto_mes\"] == 202104].copy()\n",
    "\n",
    "# X_train / y_train\n",
    "X_train_eval = dataset_train_eval[campos_buenos].apply(pd.to_numeric, errors=\"coerce\").fillna(0)\n",
    "y_train_eval = np.where(dataset_train_eval[\"clase_ternaria\"].isin([\"BAJA+1\",\"BAJA+2\"]), 1, 0)\n",
    "\n",
    "# X_test / y_test\n",
    "X_test_eval = dataset_test_eval[campos_buenos].apply(pd.to_numeric, errors=\"coerce\").fillna(0)\n",
    "y_test_eval = np.where(dataset_test_eval[\"clase_ternaria\"].isin([\"BAJA+1\",\"BAJA+2\"]), 1, 0)\n",
    "\n"
   ]
  },
  {
   "cell_type": "markdown",
   "id": "46d79a1a",
   "metadata": {},
   "source": [
    "#### Funciones para ver el comportamiento de los hiperparámetros en base a resultados de los trials"
   ]
  },
  {
   "cell_type": "code",
   "execution_count": 36,
   "id": "0ea141ef",
   "metadata": {},
   "outputs": [
    {
     "data": {
      "application/vnd.plotly.v1+json": {
       "config": {
        "plotlyServerURL": "https://plot.ly"
       },
       "data": [
        {
         "mode": "markers",
         "name": "Objective Value",
         "type": "scatter",
         "x": [
          0,
          1,
          2,
          3,
          4,
          5,
          6,
          7,
          8,
          9,
          10,
          11,
          12,
          13,
          14,
          15,
          16,
          17,
          18,
          19,
          20,
          21,
          22,
          23,
          24,
          25,
          26,
          27,
          28,
          29,
          30,
          31,
          32,
          33,
          34,
          35,
          36,
          37,
          38,
          39,
          40,
          41,
          42,
          43,
          44,
          45,
          46,
          47,
          48,
          49,
          50,
          51,
          52,
          53,
          54,
          55,
          56,
          57,
          58,
          59
         ],
         "y": [
          0.9333960566045505,
          0.932553679419905,
          0.9355306790906649,
          0.9308308002502311,
          0.9252587192900714,
          0.93195536340431,
          0.9299289865477606,
          0.9333599711444867,
          0.9308078912561987,
          0.9316940179914062,
          0.9388896091458069,
          0.9326457473631168,
          0.932618539223397,
          0.9230627047095542,
          0.9262814833140249,
          0.9311445090379443,
          0.9346023540975967,
          0.9356839970065479,
          0.9348685269665318,
          0.936451904207131,
          0.9267211449985894,
          0.9239077853842247,
          0.9288488332467951,
          0.9267461457409027,
          0.9232110200944141,
          0.9316257257834494,
          0.935536775510464,
          0.9372239903264289,
          0.937305591090236,
          0.9371095389908458,
          0.9378435372913835,
          0.9370656059823428,
          0.937543354577846,
          0.9356592166033814,
          0.9384968506171862,
          0.9381832666169618,
          0.937426522714469,
          0.9362515155787673,
          0.9389468325272233,
          0.9298430978134935,
          0.935449737138206,
          0.93876618657597,
          0.9383515626423569,
          0.9375744750007833,
          0.9392761711638616,
          0.9382586149369783,
          0.9363158979965753,
          0.9338262823475857,
          0.9322164470032119,
          0.9386954570746118,
          0.933795686418166,
          0.9367568768104222,
          0.9389606184402132,
          0.9396363671473547,
          0.9383627760887947,
          0.9405360493092945,
          0.9399296699365551,
          0.9396480522659607,
          0.9388458686535808,
          0.9395586601484285
         ]
        },
        {
         "mode": "lines",
         "name": "Best Value",
         "type": "scatter",
         "x": [
          0,
          1,
          2,
          3,
          4,
          5,
          6,
          7,
          8,
          9,
          10,
          11,
          12,
          13,
          14,
          15,
          16,
          17,
          18,
          19,
          20,
          21,
          22,
          23,
          24,
          25,
          26,
          27,
          28,
          29,
          30,
          31,
          32,
          33,
          34,
          35,
          36,
          37,
          38,
          39,
          40,
          41,
          42,
          43,
          44,
          45,
          46,
          47,
          48,
          49,
          50,
          51,
          52,
          53,
          54,
          55,
          56,
          57,
          58,
          59
         ],
         "y": [
          0.9333960566045505,
          0.9333960566045505,
          0.9355306790906649,
          0.9355306790906649,
          0.9355306790906649,
          0.9355306790906649,
          0.9355306790906649,
          0.9355306790906649,
          0.9355306790906649,
          0.9355306790906649,
          0.9388896091458069,
          0.9388896091458069,
          0.9388896091458069,
          0.9388896091458069,
          0.9388896091458069,
          0.9388896091458069,
          0.9388896091458069,
          0.9388896091458069,
          0.9388896091458069,
          0.9388896091458069,
          0.9388896091458069,
          0.9388896091458069,
          0.9388896091458069,
          0.9388896091458069,
          0.9388896091458069,
          0.9388896091458069,
          0.9388896091458069,
          0.9388896091458069,
          0.9388896091458069,
          0.9388896091458069,
          0.9388896091458069,
          0.9388896091458069,
          0.9388896091458069,
          0.9388896091458069,
          0.9388896091458069,
          0.9388896091458069,
          0.9388896091458069,
          0.9388896091458069,
          0.9389468325272233,
          0.9389468325272233,
          0.9389468325272233,
          0.9389468325272233,
          0.9389468325272233,
          0.9389468325272233,
          0.9392761711638616,
          0.9392761711638616,
          0.9392761711638616,
          0.9392761711638616,
          0.9392761711638616,
          0.9392761711638616,
          0.9392761711638616,
          0.9392761711638616,
          0.9392761711638616,
          0.9396363671473547,
          0.9396363671473547,
          0.9405360493092945,
          0.9405360493092945,
          0.9405360493092945,
          0.9405360493092945,
          0.9405360493092945
         ]
        },
        {
         "marker": {
          "color": "#cccccc"
         },
         "mode": "markers",
         "name": "Infeasible Trial",
         "showlegend": false,
         "type": "scatter",
         "x": [],
         "y": []
        }
       ],
       "layout": {
        "template": {
         "data": {
          "bar": [
           {
            "error_x": {
             "color": "#2a3f5f"
            },
            "error_y": {
             "color": "#2a3f5f"
            },
            "marker": {
             "line": {
              "color": "#E5ECF6",
              "width": 0.5
             },
             "pattern": {
              "fillmode": "overlay",
              "size": 10,
              "solidity": 0.2
             }
            },
            "type": "bar"
           }
          ],
          "barpolar": [
           {
            "marker": {
             "line": {
              "color": "#E5ECF6",
              "width": 0.5
             },
             "pattern": {
              "fillmode": "overlay",
              "size": 10,
              "solidity": 0.2
             }
            },
            "type": "barpolar"
           }
          ],
          "carpet": [
           {
            "aaxis": {
             "endlinecolor": "#2a3f5f",
             "gridcolor": "white",
             "linecolor": "white",
             "minorgridcolor": "white",
             "startlinecolor": "#2a3f5f"
            },
            "baxis": {
             "endlinecolor": "#2a3f5f",
             "gridcolor": "white",
             "linecolor": "white",
             "minorgridcolor": "white",
             "startlinecolor": "#2a3f5f"
            },
            "type": "carpet"
           }
          ],
          "choropleth": [
           {
            "colorbar": {
             "outlinewidth": 0,
             "ticks": ""
            },
            "type": "choropleth"
           }
          ],
          "contour": [
           {
            "colorbar": {
             "outlinewidth": 0,
             "ticks": ""
            },
            "colorscale": [
             [
              0,
              "#0d0887"
             ],
             [
              0.1111111111111111,
              "#46039f"
             ],
             [
              0.2222222222222222,
              "#7201a8"
             ],
             [
              0.3333333333333333,
              "#9c179e"
             ],
             [
              0.4444444444444444,
              "#bd3786"
             ],
             [
              0.5555555555555556,
              "#d8576b"
             ],
             [
              0.6666666666666666,
              "#ed7953"
             ],
             [
              0.7777777777777778,
              "#fb9f3a"
             ],
             [
              0.8888888888888888,
              "#fdca26"
             ],
             [
              1,
              "#f0f921"
             ]
            ],
            "type": "contour"
           }
          ],
          "contourcarpet": [
           {
            "colorbar": {
             "outlinewidth": 0,
             "ticks": ""
            },
            "type": "contourcarpet"
           }
          ],
          "heatmap": [
           {
            "colorbar": {
             "outlinewidth": 0,
             "ticks": ""
            },
            "colorscale": [
             [
              0,
              "#0d0887"
             ],
             [
              0.1111111111111111,
              "#46039f"
             ],
             [
              0.2222222222222222,
              "#7201a8"
             ],
             [
              0.3333333333333333,
              "#9c179e"
             ],
             [
              0.4444444444444444,
              "#bd3786"
             ],
             [
              0.5555555555555556,
              "#d8576b"
             ],
             [
              0.6666666666666666,
              "#ed7953"
             ],
             [
              0.7777777777777778,
              "#fb9f3a"
             ],
             [
              0.8888888888888888,
              "#fdca26"
             ],
             [
              1,
              "#f0f921"
             ]
            ],
            "type": "heatmap"
           }
          ],
          "heatmapgl": [
           {
            "colorbar": {
             "outlinewidth": 0,
             "ticks": ""
            },
            "colorscale": [
             [
              0,
              "#0d0887"
             ],
             [
              0.1111111111111111,
              "#46039f"
             ],
             [
              0.2222222222222222,
              "#7201a8"
             ],
             [
              0.3333333333333333,
              "#9c179e"
             ],
             [
              0.4444444444444444,
              "#bd3786"
             ],
             [
              0.5555555555555556,
              "#d8576b"
             ],
             [
              0.6666666666666666,
              "#ed7953"
             ],
             [
              0.7777777777777778,
              "#fb9f3a"
             ],
             [
              0.8888888888888888,
              "#fdca26"
             ],
             [
              1,
              "#f0f921"
             ]
            ],
            "type": "heatmapgl"
           }
          ],
          "histogram": [
           {
            "marker": {
             "pattern": {
              "fillmode": "overlay",
              "size": 10,
              "solidity": 0.2
             }
            },
            "type": "histogram"
           }
          ],
          "histogram2d": [
           {
            "colorbar": {
             "outlinewidth": 0,
             "ticks": ""
            },
            "colorscale": [
             [
              0,
              "#0d0887"
             ],
             [
              0.1111111111111111,
              "#46039f"
             ],
             [
              0.2222222222222222,
              "#7201a8"
             ],
             [
              0.3333333333333333,
              "#9c179e"
             ],
             [
              0.4444444444444444,
              "#bd3786"
             ],
             [
              0.5555555555555556,
              "#d8576b"
             ],
             [
              0.6666666666666666,
              "#ed7953"
             ],
             [
              0.7777777777777778,
              "#fb9f3a"
             ],
             [
              0.8888888888888888,
              "#fdca26"
             ],
             [
              1,
              "#f0f921"
             ]
            ],
            "type": "histogram2d"
           }
          ],
          "histogram2dcontour": [
           {
            "colorbar": {
             "outlinewidth": 0,
             "ticks": ""
            },
            "colorscale": [
             [
              0,
              "#0d0887"
             ],
             [
              0.1111111111111111,
              "#46039f"
             ],
             [
              0.2222222222222222,
              "#7201a8"
             ],
             [
              0.3333333333333333,
              "#9c179e"
             ],
             [
              0.4444444444444444,
              "#bd3786"
             ],
             [
              0.5555555555555556,
              "#d8576b"
             ],
             [
              0.6666666666666666,
              "#ed7953"
             ],
             [
              0.7777777777777778,
              "#fb9f3a"
             ],
             [
              0.8888888888888888,
              "#fdca26"
             ],
             [
              1,
              "#f0f921"
             ]
            ],
            "type": "histogram2dcontour"
           }
          ],
          "mesh3d": [
           {
            "colorbar": {
             "outlinewidth": 0,
             "ticks": ""
            },
            "type": "mesh3d"
           }
          ],
          "parcoords": [
           {
            "line": {
             "colorbar": {
              "outlinewidth": 0,
              "ticks": ""
             }
            },
            "type": "parcoords"
           }
          ],
          "pie": [
           {
            "automargin": true,
            "type": "pie"
           }
          ],
          "scatter": [
           {
            "fillpattern": {
             "fillmode": "overlay",
             "size": 10,
             "solidity": 0.2
            },
            "type": "scatter"
           }
          ],
          "scatter3d": [
           {
            "line": {
             "colorbar": {
              "outlinewidth": 0,
              "ticks": ""
             }
            },
            "marker": {
             "colorbar": {
              "outlinewidth": 0,
              "ticks": ""
             }
            },
            "type": "scatter3d"
           }
          ],
          "scattercarpet": [
           {
            "marker": {
             "colorbar": {
              "outlinewidth": 0,
              "ticks": ""
             }
            },
            "type": "scattercarpet"
           }
          ],
          "scattergeo": [
           {
            "marker": {
             "colorbar": {
              "outlinewidth": 0,
              "ticks": ""
             }
            },
            "type": "scattergeo"
           }
          ],
          "scattergl": [
           {
            "marker": {
             "colorbar": {
              "outlinewidth": 0,
              "ticks": ""
             }
            },
            "type": "scattergl"
           }
          ],
          "scattermapbox": [
           {
            "marker": {
             "colorbar": {
              "outlinewidth": 0,
              "ticks": ""
             }
            },
            "type": "scattermapbox"
           }
          ],
          "scatterpolar": [
           {
            "marker": {
             "colorbar": {
              "outlinewidth": 0,
              "ticks": ""
             }
            },
            "type": "scatterpolar"
           }
          ],
          "scatterpolargl": [
           {
            "marker": {
             "colorbar": {
              "outlinewidth": 0,
              "ticks": ""
             }
            },
            "type": "scatterpolargl"
           }
          ],
          "scatterternary": [
           {
            "marker": {
             "colorbar": {
              "outlinewidth": 0,
              "ticks": ""
             }
            },
            "type": "scatterternary"
           }
          ],
          "surface": [
           {
            "colorbar": {
             "outlinewidth": 0,
             "ticks": ""
            },
            "colorscale": [
             [
              0,
              "#0d0887"
             ],
             [
              0.1111111111111111,
              "#46039f"
             ],
             [
              0.2222222222222222,
              "#7201a8"
             ],
             [
              0.3333333333333333,
              "#9c179e"
             ],
             [
              0.4444444444444444,
              "#bd3786"
             ],
             [
              0.5555555555555556,
              "#d8576b"
             ],
             [
              0.6666666666666666,
              "#ed7953"
             ],
             [
              0.7777777777777778,
              "#fb9f3a"
             ],
             [
              0.8888888888888888,
              "#fdca26"
             ],
             [
              1,
              "#f0f921"
             ]
            ],
            "type": "surface"
           }
          ],
          "table": [
           {
            "cells": {
             "fill": {
              "color": "#EBF0F8"
             },
             "line": {
              "color": "white"
             }
            },
            "header": {
             "fill": {
              "color": "#C8D4E3"
             },
             "line": {
              "color": "white"
             }
            },
            "type": "table"
           }
          ]
         },
         "layout": {
          "annotationdefaults": {
           "arrowcolor": "#2a3f5f",
           "arrowhead": 0,
           "arrowwidth": 1
          },
          "autotypenumbers": "strict",
          "coloraxis": {
           "colorbar": {
            "outlinewidth": 0,
            "ticks": ""
           }
          },
          "colorscale": {
           "diverging": [
            [
             0,
             "#8e0152"
            ],
            [
             0.1,
             "#c51b7d"
            ],
            [
             0.2,
             "#de77ae"
            ],
            [
             0.3,
             "#f1b6da"
            ],
            [
             0.4,
             "#fde0ef"
            ],
            [
             0.5,
             "#f7f7f7"
            ],
            [
             0.6,
             "#e6f5d0"
            ],
            [
             0.7,
             "#b8e186"
            ],
            [
             0.8,
             "#7fbc41"
            ],
            [
             0.9,
             "#4d9221"
            ],
            [
             1,
             "#276419"
            ]
           ],
           "sequential": [
            [
             0,
             "#0d0887"
            ],
            [
             0.1111111111111111,
             "#46039f"
            ],
            [
             0.2222222222222222,
             "#7201a8"
            ],
            [
             0.3333333333333333,
             "#9c179e"
            ],
            [
             0.4444444444444444,
             "#bd3786"
            ],
            [
             0.5555555555555556,
             "#d8576b"
            ],
            [
             0.6666666666666666,
             "#ed7953"
            ],
            [
             0.7777777777777778,
             "#fb9f3a"
            ],
            [
             0.8888888888888888,
             "#fdca26"
            ],
            [
             1,
             "#f0f921"
            ]
           ],
           "sequentialminus": [
            [
             0,
             "#0d0887"
            ],
            [
             0.1111111111111111,
             "#46039f"
            ],
            [
             0.2222222222222222,
             "#7201a8"
            ],
            [
             0.3333333333333333,
             "#9c179e"
            ],
            [
             0.4444444444444444,
             "#bd3786"
            ],
            [
             0.5555555555555556,
             "#d8576b"
            ],
            [
             0.6666666666666666,
             "#ed7953"
            ],
            [
             0.7777777777777778,
             "#fb9f3a"
            ],
            [
             0.8888888888888888,
             "#fdca26"
            ],
            [
             1,
             "#f0f921"
            ]
           ]
          },
          "colorway": [
           "#636efa",
           "#EF553B",
           "#00cc96",
           "#ab63fa",
           "#FFA15A",
           "#19d3f3",
           "#FF6692",
           "#B6E880",
           "#FF97FF",
           "#FECB52"
          ],
          "font": {
           "color": "#2a3f5f"
          },
          "geo": {
           "bgcolor": "white",
           "lakecolor": "white",
           "landcolor": "#E5ECF6",
           "showlakes": true,
           "showland": true,
           "subunitcolor": "white"
          },
          "hoverlabel": {
           "align": "left"
          },
          "hovermode": "closest",
          "mapbox": {
           "style": "light"
          },
          "paper_bgcolor": "white",
          "plot_bgcolor": "#E5ECF6",
          "polar": {
           "angularaxis": {
            "gridcolor": "white",
            "linecolor": "white",
            "ticks": ""
           },
           "bgcolor": "#E5ECF6",
           "radialaxis": {
            "gridcolor": "white",
            "linecolor": "white",
            "ticks": ""
           }
          },
          "scene": {
           "xaxis": {
            "backgroundcolor": "#E5ECF6",
            "gridcolor": "white",
            "gridwidth": 2,
            "linecolor": "white",
            "showbackground": true,
            "ticks": "",
            "zerolinecolor": "white"
           },
           "yaxis": {
            "backgroundcolor": "#E5ECF6",
            "gridcolor": "white",
            "gridwidth": 2,
            "linecolor": "white",
            "showbackground": true,
            "ticks": "",
            "zerolinecolor": "white"
           },
           "zaxis": {
            "backgroundcolor": "#E5ECF6",
            "gridcolor": "white",
            "gridwidth": 2,
            "linecolor": "white",
            "showbackground": true,
            "ticks": "",
            "zerolinecolor": "white"
           }
          },
          "shapedefaults": {
           "line": {
            "color": "#2a3f5f"
           }
          },
          "ternary": {
           "aaxis": {
            "gridcolor": "white",
            "linecolor": "white",
            "ticks": ""
           },
           "baxis": {
            "gridcolor": "white",
            "linecolor": "white",
            "ticks": ""
           },
           "bgcolor": "#E5ECF6",
           "caxis": {
            "gridcolor": "white",
            "linecolor": "white",
            "ticks": ""
           }
          },
          "title": {
           "x": 0.05
          },
          "xaxis": {
           "automargin": true,
           "gridcolor": "white",
           "linecolor": "white",
           "ticks": "",
           "title": {
            "standoff": 15
           },
           "zerolinecolor": "white",
           "zerolinewidth": 2
          },
          "yaxis": {
           "automargin": true,
           "gridcolor": "white",
           "linecolor": "white",
           "ticks": "",
           "title": {
            "standoff": 15
           },
           "zerolinecolor": "white",
           "zerolinewidth": 2
          }
         }
        },
        "title": {
         "text": "Optimization History Plot"
        },
        "xaxis": {
         "title": {
          "text": "Trial"
         }
        },
        "yaxis": {
         "title": {
          "text": "Objective Value"
         }
        }
       }
      }
     },
     "metadata": {},
     "output_type": "display_data"
    },
    {
     "data": {
      "application/vnd.plotly.v1+json": {
       "config": {
        "plotlyServerURL": "https://plot.ly"
       },
       "data": [
        {
         "cliponaxis": false,
         "hovertemplate": [
          "boosting_type (CategoricalDistribution): 0.008851164154690398<extra></extra>",
          "min_gain_to_split (FloatDistribution): 0.00899516793363792<extra></extra>",
          "max_bin (IntDistribution): 0.013832001779814876<extra></extra>",
          "scale_pos_weight (FloatDistribution): 0.01790940894803794<extra></extra>",
          "lambda_l2 (FloatDistribution): 0.02619010226847109<extra></extra>",
          "feature_fraction (FloatDistribution): 0.03994877285849506<extra></extra>",
          "min_data_in_leaf (IntDistribution): 0.040586720327783016<extra></extra>",
          "learning_rate (FloatDistribution): 0.04553859893863687<extra></extra>",
          "min_sum_hessian_in_leaf (FloatDistribution): 0.07417093315320555<extra></extra>",
          "num_iterations (IntDistribution): 0.07880072674484379<extra></extra>",
          "max_depth (IntDistribution): 0.092748893761829<extra></extra>",
          "bagging_freq (IntDistribution): 0.09782495307802104<extra></extra>",
          "num_leaves (IntDistribution): 0.12020545212126943<extra></extra>",
          "bagging_fraction (FloatDistribution): 0.1502535564698527<extra></extra>",
          "lambda_l1 (FloatDistribution): 0.18414354746141148<extra></extra>"
         ],
         "name": "Objective Value",
         "orientation": "h",
         "text": [
          "<0.01",
          "<0.01",
          "0.01",
          "0.02",
          "0.03",
          "0.04",
          "0.04",
          "0.05",
          "0.07",
          "0.08",
          "0.09",
          "0.10",
          "0.12",
          "0.15",
          "0.18"
         ],
         "textposition": "outside",
         "type": "bar",
         "x": [
          0.008851164154690398,
          0.00899516793363792,
          0.013832001779814876,
          0.01790940894803794,
          0.02619010226847109,
          0.03994877285849506,
          0.040586720327783016,
          0.04553859893863687,
          0.07417093315320555,
          0.07880072674484379,
          0.092748893761829,
          0.09782495307802104,
          0.12020545212126943,
          0.1502535564698527,
          0.18414354746141148
         ],
         "y": [
          "boosting_type",
          "min_gain_to_split",
          "max_bin",
          "scale_pos_weight",
          "lambda_l2",
          "feature_fraction",
          "min_data_in_leaf",
          "learning_rate",
          "min_sum_hessian_in_leaf",
          "num_iterations",
          "max_depth",
          "bagging_freq",
          "num_leaves",
          "bagging_fraction",
          "lambda_l1"
         ]
        }
       ],
       "layout": {
        "template": {
         "data": {
          "bar": [
           {
            "error_x": {
             "color": "#2a3f5f"
            },
            "error_y": {
             "color": "#2a3f5f"
            },
            "marker": {
             "line": {
              "color": "#E5ECF6",
              "width": 0.5
             },
             "pattern": {
              "fillmode": "overlay",
              "size": 10,
              "solidity": 0.2
             }
            },
            "type": "bar"
           }
          ],
          "barpolar": [
           {
            "marker": {
             "line": {
              "color": "#E5ECF6",
              "width": 0.5
             },
             "pattern": {
              "fillmode": "overlay",
              "size": 10,
              "solidity": 0.2
             }
            },
            "type": "barpolar"
           }
          ],
          "carpet": [
           {
            "aaxis": {
             "endlinecolor": "#2a3f5f",
             "gridcolor": "white",
             "linecolor": "white",
             "minorgridcolor": "white",
             "startlinecolor": "#2a3f5f"
            },
            "baxis": {
             "endlinecolor": "#2a3f5f",
             "gridcolor": "white",
             "linecolor": "white",
             "minorgridcolor": "white",
             "startlinecolor": "#2a3f5f"
            },
            "type": "carpet"
           }
          ],
          "choropleth": [
           {
            "colorbar": {
             "outlinewidth": 0,
             "ticks": ""
            },
            "type": "choropleth"
           }
          ],
          "contour": [
           {
            "colorbar": {
             "outlinewidth": 0,
             "ticks": ""
            },
            "colorscale": [
             [
              0,
              "#0d0887"
             ],
             [
              0.1111111111111111,
              "#46039f"
             ],
             [
              0.2222222222222222,
              "#7201a8"
             ],
             [
              0.3333333333333333,
              "#9c179e"
             ],
             [
              0.4444444444444444,
              "#bd3786"
             ],
             [
              0.5555555555555556,
              "#d8576b"
             ],
             [
              0.6666666666666666,
              "#ed7953"
             ],
             [
              0.7777777777777778,
              "#fb9f3a"
             ],
             [
              0.8888888888888888,
              "#fdca26"
             ],
             [
              1,
              "#f0f921"
             ]
            ],
            "type": "contour"
           }
          ],
          "contourcarpet": [
           {
            "colorbar": {
             "outlinewidth": 0,
             "ticks": ""
            },
            "type": "contourcarpet"
           }
          ],
          "heatmap": [
           {
            "colorbar": {
             "outlinewidth": 0,
             "ticks": ""
            },
            "colorscale": [
             [
              0,
              "#0d0887"
             ],
             [
              0.1111111111111111,
              "#46039f"
             ],
             [
              0.2222222222222222,
              "#7201a8"
             ],
             [
              0.3333333333333333,
              "#9c179e"
             ],
             [
              0.4444444444444444,
              "#bd3786"
             ],
             [
              0.5555555555555556,
              "#d8576b"
             ],
             [
              0.6666666666666666,
              "#ed7953"
             ],
             [
              0.7777777777777778,
              "#fb9f3a"
             ],
             [
              0.8888888888888888,
              "#fdca26"
             ],
             [
              1,
              "#f0f921"
             ]
            ],
            "type": "heatmap"
           }
          ],
          "heatmapgl": [
           {
            "colorbar": {
             "outlinewidth": 0,
             "ticks": ""
            },
            "colorscale": [
             [
              0,
              "#0d0887"
             ],
             [
              0.1111111111111111,
              "#46039f"
             ],
             [
              0.2222222222222222,
              "#7201a8"
             ],
             [
              0.3333333333333333,
              "#9c179e"
             ],
             [
              0.4444444444444444,
              "#bd3786"
             ],
             [
              0.5555555555555556,
              "#d8576b"
             ],
             [
              0.6666666666666666,
              "#ed7953"
             ],
             [
              0.7777777777777778,
              "#fb9f3a"
             ],
             [
              0.8888888888888888,
              "#fdca26"
             ],
             [
              1,
              "#f0f921"
             ]
            ],
            "type": "heatmapgl"
           }
          ],
          "histogram": [
           {
            "marker": {
             "pattern": {
              "fillmode": "overlay",
              "size": 10,
              "solidity": 0.2
             }
            },
            "type": "histogram"
           }
          ],
          "histogram2d": [
           {
            "colorbar": {
             "outlinewidth": 0,
             "ticks": ""
            },
            "colorscale": [
             [
              0,
              "#0d0887"
             ],
             [
              0.1111111111111111,
              "#46039f"
             ],
             [
              0.2222222222222222,
              "#7201a8"
             ],
             [
              0.3333333333333333,
              "#9c179e"
             ],
             [
              0.4444444444444444,
              "#bd3786"
             ],
             [
              0.5555555555555556,
              "#d8576b"
             ],
             [
              0.6666666666666666,
              "#ed7953"
             ],
             [
              0.7777777777777778,
              "#fb9f3a"
             ],
             [
              0.8888888888888888,
              "#fdca26"
             ],
             [
              1,
              "#f0f921"
             ]
            ],
            "type": "histogram2d"
           }
          ],
          "histogram2dcontour": [
           {
            "colorbar": {
             "outlinewidth": 0,
             "ticks": ""
            },
            "colorscale": [
             [
              0,
              "#0d0887"
             ],
             [
              0.1111111111111111,
              "#46039f"
             ],
             [
              0.2222222222222222,
              "#7201a8"
             ],
             [
              0.3333333333333333,
              "#9c179e"
             ],
             [
              0.4444444444444444,
              "#bd3786"
             ],
             [
              0.5555555555555556,
              "#d8576b"
             ],
             [
              0.6666666666666666,
              "#ed7953"
             ],
             [
              0.7777777777777778,
              "#fb9f3a"
             ],
             [
              0.8888888888888888,
              "#fdca26"
             ],
             [
              1,
              "#f0f921"
             ]
            ],
            "type": "histogram2dcontour"
           }
          ],
          "mesh3d": [
           {
            "colorbar": {
             "outlinewidth": 0,
             "ticks": ""
            },
            "type": "mesh3d"
           }
          ],
          "parcoords": [
           {
            "line": {
             "colorbar": {
              "outlinewidth": 0,
              "ticks": ""
             }
            },
            "type": "parcoords"
           }
          ],
          "pie": [
           {
            "automargin": true,
            "type": "pie"
           }
          ],
          "scatter": [
           {
            "fillpattern": {
             "fillmode": "overlay",
             "size": 10,
             "solidity": 0.2
            },
            "type": "scatter"
           }
          ],
          "scatter3d": [
           {
            "line": {
             "colorbar": {
              "outlinewidth": 0,
              "ticks": ""
             }
            },
            "marker": {
             "colorbar": {
              "outlinewidth": 0,
              "ticks": ""
             }
            },
            "type": "scatter3d"
           }
          ],
          "scattercarpet": [
           {
            "marker": {
             "colorbar": {
              "outlinewidth": 0,
              "ticks": ""
             }
            },
            "type": "scattercarpet"
           }
          ],
          "scattergeo": [
           {
            "marker": {
             "colorbar": {
              "outlinewidth": 0,
              "ticks": ""
             }
            },
            "type": "scattergeo"
           }
          ],
          "scattergl": [
           {
            "marker": {
             "colorbar": {
              "outlinewidth": 0,
              "ticks": ""
             }
            },
            "type": "scattergl"
           }
          ],
          "scattermapbox": [
           {
            "marker": {
             "colorbar": {
              "outlinewidth": 0,
              "ticks": ""
             }
            },
            "type": "scattermapbox"
           }
          ],
          "scatterpolar": [
           {
            "marker": {
             "colorbar": {
              "outlinewidth": 0,
              "ticks": ""
             }
            },
            "type": "scatterpolar"
           }
          ],
          "scatterpolargl": [
           {
            "marker": {
             "colorbar": {
              "outlinewidth": 0,
              "ticks": ""
             }
            },
            "type": "scatterpolargl"
           }
          ],
          "scatterternary": [
           {
            "marker": {
             "colorbar": {
              "outlinewidth": 0,
              "ticks": ""
             }
            },
            "type": "scatterternary"
           }
          ],
          "surface": [
           {
            "colorbar": {
             "outlinewidth": 0,
             "ticks": ""
            },
            "colorscale": [
             [
              0,
              "#0d0887"
             ],
             [
              0.1111111111111111,
              "#46039f"
             ],
             [
              0.2222222222222222,
              "#7201a8"
             ],
             [
              0.3333333333333333,
              "#9c179e"
             ],
             [
              0.4444444444444444,
              "#bd3786"
             ],
             [
              0.5555555555555556,
              "#d8576b"
             ],
             [
              0.6666666666666666,
              "#ed7953"
             ],
             [
              0.7777777777777778,
              "#fb9f3a"
             ],
             [
              0.8888888888888888,
              "#fdca26"
             ],
             [
              1,
              "#f0f921"
             ]
            ],
            "type": "surface"
           }
          ],
          "table": [
           {
            "cells": {
             "fill": {
              "color": "#EBF0F8"
             },
             "line": {
              "color": "white"
             }
            },
            "header": {
             "fill": {
              "color": "#C8D4E3"
             },
             "line": {
              "color": "white"
             }
            },
            "type": "table"
           }
          ]
         },
         "layout": {
          "annotationdefaults": {
           "arrowcolor": "#2a3f5f",
           "arrowhead": 0,
           "arrowwidth": 1
          },
          "autotypenumbers": "strict",
          "coloraxis": {
           "colorbar": {
            "outlinewidth": 0,
            "ticks": ""
           }
          },
          "colorscale": {
           "diverging": [
            [
             0,
             "#8e0152"
            ],
            [
             0.1,
             "#c51b7d"
            ],
            [
             0.2,
             "#de77ae"
            ],
            [
             0.3,
             "#f1b6da"
            ],
            [
             0.4,
             "#fde0ef"
            ],
            [
             0.5,
             "#f7f7f7"
            ],
            [
             0.6,
             "#e6f5d0"
            ],
            [
             0.7,
             "#b8e186"
            ],
            [
             0.8,
             "#7fbc41"
            ],
            [
             0.9,
             "#4d9221"
            ],
            [
             1,
             "#276419"
            ]
           ],
           "sequential": [
            [
             0,
             "#0d0887"
            ],
            [
             0.1111111111111111,
             "#46039f"
            ],
            [
             0.2222222222222222,
             "#7201a8"
            ],
            [
             0.3333333333333333,
             "#9c179e"
            ],
            [
             0.4444444444444444,
             "#bd3786"
            ],
            [
             0.5555555555555556,
             "#d8576b"
            ],
            [
             0.6666666666666666,
             "#ed7953"
            ],
            [
             0.7777777777777778,
             "#fb9f3a"
            ],
            [
             0.8888888888888888,
             "#fdca26"
            ],
            [
             1,
             "#f0f921"
            ]
           ],
           "sequentialminus": [
            [
             0,
             "#0d0887"
            ],
            [
             0.1111111111111111,
             "#46039f"
            ],
            [
             0.2222222222222222,
             "#7201a8"
            ],
            [
             0.3333333333333333,
             "#9c179e"
            ],
            [
             0.4444444444444444,
             "#bd3786"
            ],
            [
             0.5555555555555556,
             "#d8576b"
            ],
            [
             0.6666666666666666,
             "#ed7953"
            ],
            [
             0.7777777777777778,
             "#fb9f3a"
            ],
            [
             0.8888888888888888,
             "#fdca26"
            ],
            [
             1,
             "#f0f921"
            ]
           ]
          },
          "colorway": [
           "#636efa",
           "#EF553B",
           "#00cc96",
           "#ab63fa",
           "#FFA15A",
           "#19d3f3",
           "#FF6692",
           "#B6E880",
           "#FF97FF",
           "#FECB52"
          ],
          "font": {
           "color": "#2a3f5f"
          },
          "geo": {
           "bgcolor": "white",
           "lakecolor": "white",
           "landcolor": "#E5ECF6",
           "showlakes": true,
           "showland": true,
           "subunitcolor": "white"
          },
          "hoverlabel": {
           "align": "left"
          },
          "hovermode": "closest",
          "mapbox": {
           "style": "light"
          },
          "paper_bgcolor": "white",
          "plot_bgcolor": "#E5ECF6",
          "polar": {
           "angularaxis": {
            "gridcolor": "white",
            "linecolor": "white",
            "ticks": ""
           },
           "bgcolor": "#E5ECF6",
           "radialaxis": {
            "gridcolor": "white",
            "linecolor": "white",
            "ticks": ""
           }
          },
          "scene": {
           "xaxis": {
            "backgroundcolor": "#E5ECF6",
            "gridcolor": "white",
            "gridwidth": 2,
            "linecolor": "white",
            "showbackground": true,
            "ticks": "",
            "zerolinecolor": "white"
           },
           "yaxis": {
            "backgroundcolor": "#E5ECF6",
            "gridcolor": "white",
            "gridwidth": 2,
            "linecolor": "white",
            "showbackground": true,
            "ticks": "",
            "zerolinecolor": "white"
           },
           "zaxis": {
            "backgroundcolor": "#E5ECF6",
            "gridcolor": "white",
            "gridwidth": 2,
            "linecolor": "white",
            "showbackground": true,
            "ticks": "",
            "zerolinecolor": "white"
           }
          },
          "shapedefaults": {
           "line": {
            "color": "#2a3f5f"
           }
          },
          "ternary": {
           "aaxis": {
            "gridcolor": "white",
            "linecolor": "white",
            "ticks": ""
           },
           "baxis": {
            "gridcolor": "white",
            "linecolor": "white",
            "ticks": ""
           },
           "bgcolor": "#E5ECF6",
           "caxis": {
            "gridcolor": "white",
            "linecolor": "white",
            "ticks": ""
           }
          },
          "title": {
           "x": 0.05
          },
          "xaxis": {
           "automargin": true,
           "gridcolor": "white",
           "linecolor": "white",
           "ticks": "",
           "title": {
            "standoff": 15
           },
           "zerolinecolor": "white",
           "zerolinewidth": 2
          },
          "yaxis": {
           "automargin": true,
           "gridcolor": "white",
           "linecolor": "white",
           "ticks": "",
           "title": {
            "standoff": 15
           },
           "zerolinecolor": "white",
           "zerolinewidth": 2
          }
         }
        },
        "title": {
         "text": "Hyperparameter Importances"
        },
        "xaxis": {
         "title": {
          "text": "Hyperparameter Importance"
         }
        },
        "yaxis": {
         "title": {
          "text": "Hyperparameter"
         }
        }
       }
      }
     },
     "metadata": {},
     "output_type": "display_data"
    },
    {
     "data": {
      "application/vnd.plotly.v1+json": {
       "config": {
        "plotlyServerURL": "https://plot.ly"
       },
       "data": [
        {
         "dimensions": [
          {
           "label": "Objective Value",
           "range": [
            0.9230627047095542,
            0.9405360493092945
           ],
           "values": [
            0.9333960566045505,
            0.932553679419905,
            0.9355306790906649,
            0.9308308002502311,
            0.9252587192900714,
            0.93195536340431,
            0.9299289865477606,
            0.9333599711444867,
            0.9308078912561987,
            0.9316940179914062,
            0.9388896091458069,
            0.9326457473631168,
            0.932618539223397,
            0.9230627047095542,
            0.9262814833140249,
            0.9311445090379443,
            0.9346023540975967,
            0.9356839970065479,
            0.9348685269665318,
            0.936451904207131,
            0.9267211449985894,
            0.9239077853842247,
            0.9288488332467951,
            0.9267461457409027,
            0.9232110200944141,
            0.9316257257834494,
            0.935536775510464,
            0.9372239903264289,
            0.937305591090236,
            0.9371095389908458,
            0.9378435372913835,
            0.9370656059823428,
            0.937543354577846,
            0.9356592166033814,
            0.9384968506171862,
            0.9381832666169618,
            0.937426522714469,
            0.9362515155787673,
            0.9389468325272233,
            0.9298430978134935,
            0.935449737138206,
            0.93876618657597,
            0.9383515626423569,
            0.9375744750007833,
            0.9392761711638616,
            0.9382586149369783,
            0.9363158979965753,
            0.9338262823475857,
            0.9322164470032119,
            0.9386954570746118,
            0.933795686418166,
            0.9367568768104222,
            0.9389606184402132,
            0.9396363671473547,
            0.9383627760887947,
            0.9405360493092945,
            0.9399296699365551,
            0.9396480522659607,
            0.9388458686535808,
            0.9395586601484285
           ]
          },
          {
           "label": "bagging_fraction",
           "range": [
            0.40883223484014525,
            0.9989774182217335
           ],
           "values": [
            0.8497372222417328,
            0.8599079405644661,
            0.9791679125728525,
            0.7353577602300094,
            0.4242177341316495,
            0.5065580786614856,
            0.6542302674616324,
            0.896461540212959,
            0.6647726140450444,
            0.44655019294616816,
            0.9434327601296862,
            0.6189278610053484,
            0.6436248987121812,
            0.9819878900428428,
            0.6484300119474493,
            0.9522200012091353,
            0.6537044159804061,
            0.8526217444687838,
            0.6982448553100096,
            0.948824738943879,
            0.41104496492453646,
            0.6473176650736412,
            0.850303085418757,
            0.4574437250721757,
            0.40883223484014525,
            0.7666508902464159,
            0.9151175938101004,
            0.804199134624724,
            0.7699387432535565,
            0.796494763812247,
            0.8039602861754879,
            0.8009894221919289,
            0.7873482737060911,
            0.5845038893650427,
            0.7559703700442333,
            0.7475728665351535,
            0.7297534669826541,
            0.8912766609649494,
            0.7210247964822168,
            0.5845119580086998,
            0.7051515711644923,
            0.7156965184403115,
            0.7393267324006118,
            0.6919193579414525,
            0.7209601242044912,
            0.6098133879863473,
            0.8263706416014525,
            0.5317817934977334,
            0.6785497307571356,
            0.8802025849837857,
            0.9989774182217335,
            0.8812024999182528,
            0.9311457825493635,
            0.9348898448232648,
            0.9437870387386443,
            0.9313861381547075,
            0.9261493577990153,
            0.9176092902927557,
            0.9191912604904157,
            0.9663807067046764
           ]
          },
          {
           "label": "bagging_freq",
           "range": [
            1,
            15
           ],
           "values": [
            5,
            1,
            12,
            12,
            3,
            14,
            10,
            12,
            6,
            13,
            12,
            15,
            14,
            3,
            15,
            14,
            11,
            1,
            6,
            4,
            1,
            3,
            10,
            12,
            3,
            8,
            8,
            5,
            5,
            6,
            7,
            7,
            5,
            5,
            9,
            9,
            9,
            9,
            10,
            11,
            10,
            9,
            9,
            11,
            10,
            13,
            10,
            11,
            13,
            12,
            12,
            10,
            12,
            12,
            13,
            14,
            14,
            14,
            15,
            14
           ]
          },
          {
           "label": "boosting_type",
           "range": [
            0,
            1
           ],
           "ticktext": [
            "gbdt",
            "dart"
           ],
           "tickvals": [
            0,
            1
           ],
           "values": [
            0,
            1,
            1,
            0,
            0,
            0,
            0,
            1,
            0,
            1,
            0,
            1,
            1,
            0,
            0,
            0,
            0,
            1,
            1,
            1,
            1,
            1,
            1,
            0,
            0,
            1,
            1,
            1,
            1,
            1,
            1,
            1,
            1,
            1,
            1,
            1,
            1,
            0,
            1,
            0,
            1,
            1,
            1,
            1,
            1,
            1,
            0,
            1,
            0,
            1,
            0,
            1,
            1,
            1,
            1,
            1,
            1,
            1,
            1,
            1
           ]
          },
          {
           "label": "feature_fraction",
           "range": [
            0.4244377976220986,
            0.9989180713726977
           ],
           "values": [
            0.5474910314574816,
            0.7289920139767798,
            0.5843213170604729,
            0.9884991998440884,
            0.8606159362039743,
            0.8452703104159863,
            0.4503064350260201,
            0.9388821996441759,
            0.49795562034944985,
            0.610968212248142,
            0.907593977727425,
            0.5798343229781315,
            0.608909067736163,
            0.6089721087759206,
            0.5608673800727105,
            0.6841734786382347,
            0.4926157443464741,
            0.6986305863537559,
            0.6479107190039667,
            0.4863115348935168,
            0.6934291108202633,
            0.9354767224039229,
            0.6636172281776984,
            0.7653096224995828,
            0.4244377976220986,
            0.7880992985319565,
            0.8609404703638295,
            0.8079839352085509,
            0.8126490243104777,
            0.8218435132656605,
            0.8973194902183876,
            0.9180556355251854,
            0.8983585828428752,
            0.8978669475426742,
            0.9726546823488545,
            0.9989180713726977,
            0.9970979405362257,
            0.9627029348941992,
            0.9631699880217134,
            0.9727449631824305,
            0.9621925736919523,
            0.8917412922014646,
            0.8681480246950835,
            0.8695450183193228,
            0.9342403243908737,
            0.9317317359590019,
            0.9550675627631369,
            0.7575927108501996,
            0.8379134934414691,
            0.922564462154872,
            0.9190709104294247,
            0.8918350749952855,
            0.950801782479959,
            0.9269837455057985,
            0.9475362287738681,
            0.9795332454292214,
            0.977431483971833,
            0.9431579759640627,
            0.9810928022512416,
            0.9345782870163147
           ]
          },
          {
           "label": "lambda_l1",
           "range": [
            0.03477473824255228,
            14.653278224261191
           ],
           "values": [
            11.364219835973833,
            9.170198215200443,
            4.043697128781697,
            3.7874830689391676,
            9.065860731493368,
            11.872316603351297,
            6.599835547629789,
            0.33889751404144963,
            10.85797181107384,
            5.072234570434158,
            0.8781329101264995,
            10.002878890025022,
            2.7779880522247913,
            13.643759952578618,
            4.290298426538628,
            7.40855931060639,
            8.577108434080671,
            11.740070573018722,
            11.100222709449694,
            3.7036449396247773,
            10.97930709789074,
            4.6836842515798205,
            14.653278224261191,
            5.949826156627805,
            4.649708241398461,
            0.45383083821902737,
            1.9847053712402394,
            2.008885571099002,
            1.9433600265716011,
            1.5268231364700915,
            1.4672023944389259,
            1.4968940786256553,
            2.5168720219160576,
            2.922033247914969,
            0.855923991217526,
            0.03477473824255228,
            0.8105734412294001,
            0.09565375279955668,
            1.2634522608755747,
            3.3423441909256755,
            0.9607107948851957,
            1.2382927959006553,
            0.15228725503913065,
            1.0359433498946238,
            2.453650240154528,
            2.397002055793485,
            3.2849413152829765,
            5.515992121083707,
            0.960163520640648,
            3.9872062212860357,
            7.234261614917115,
            3.8848757207021336,
            2.5018524799990693,
            2.7608777194644634,
            2.966324834496516,
            2.270616389907379,
            2.531643661929106,
            2.399245284688477,
            5.136136965737548,
            2.37301571769468
           ]
          },
          {
           "label": "lambda_l2",
           "range": [
            0.0806881563239697,
            14.633404065505896
           ],
           "values": [
            10.587416170941841,
            12.251988569169685,
            8.54184607780546,
            10.531878052720483,
            14.439747590356081,
            0.6106391887910373,
            5.693796896366364,
            12.219734169211643,
            6.817124627571395,
            6.525250772449448,
            2.891694136024892,
            10.72758907153079,
            6.16841294436615,
            10.265750772333572,
            5.707085873226939,
            1.2361601485154594,
            4.973115598932738,
            2.4041262392086518,
            6.318453422732299,
            2.777112275593561,
            5.010402902665988,
            11.215560861160817,
            14.633404065505896,
            1.8265318459653235,
            7.110296901433986,
            2.916824834230173,
            3.272809640495023,
            3.2410189454869553,
            4.048317514129361,
            4.449643008067102,
            4.059867261967903,
            3.900442423465646,
            4.038235677722775,
            8.52138816793962,
            8.124408193799981,
            8.093993867085228,
            8.207847738921505,
            9.435443707313299,
            9.692863926593798,
            7.647556988643133,
            9.086793877905203,
            0.1722468737490397,
            0.949439857726116,
            0.4961447092430012,
            0.30511384330725955,
            0.2967295211976348,
            1.8395776649117555,
            0.0806881563239697,
            12.999016067425444,
            9.70253397626152,
            10.013350551369133,
            11.465160675891187,
            9.528677365293058,
            9.329566841234888,
            9.012026760878465,
            1.3592847823243908,
            1.580007814136604,
            1.430342361025672,
            1.6289567046689288,
            1.0623598844115123
           ]
          },
          {
           "label": "learning_rate",
           "range": [
            0.013204299589175392,
            0.2951191537028913
           ],
           "values": [
            0.12225517684754826,
            0.2101243616150314,
            0.2234519989212203,
            0.19751552165303163,
            0.23759189065873848,
            0.12457339613690484,
            0.17618322853587112,
            0.12163552309622835,
            0.16474011352884363,
            0.10884961286224287,
            0.0630946452762805,
            0.2691121983225797,
            0.27998411987420013,
            0.013204299589175392,
            0.26248442960634205,
            0.1778702319437598,
            0.08851155315299494,
            0.12902093403293977,
            0.2521677679591602,
            0.27350517292722704,
            0.24786948576222229,
            0.2951191537028913,
            0.07664488635234794,
            0.1602575365499321,
            0.2863105716966383,
            0.017083600743355715,
            0.048751153273322814,
            0.05658493354361545,
            0.05525581608481523,
            0.04427781640526336,
            0.05945270905803898,
            0.061299695452077516,
            0.036138326015156375,
            0.029615593690795528,
            0.08827698922194784,
            0.08973116089197153,
            0.09141459988836859,
            0.07492891978732502,
            0.13978411525328913,
            0.13952725738511745,
            0.10667465263278189,
            0.07217636071256986,
            0.1009982451612996,
            0.14383616023145449,
            0.10959071667574208,
            0.11797492236406193,
            0.07386772200669087,
            0.21297869911675016,
            0.1468676563811055,
            0.1955733062279807,
            0.182294333453705,
            0.19678771684055885,
            0.1188691613921398,
            0.11765087567097937,
            0.12864454222758706,
            0.11524398867697595,
            0.1153885916721986,
            0.11635143219508527,
            0.12214475892605128,
            0.11442610944365834
           ]
          },
          {
           "label": "max_bin",
           "range": [
            25,
            100
           ],
           "values": [
            82,
            44,
            25,
            56,
            32,
            26,
            67,
            77,
            70,
            93,
            44,
            90,
            92,
            90,
            88,
            35,
            89,
            63,
            26,
            81,
            62,
            98,
            91,
            36,
            100,
            52,
            46,
            74,
            77,
            74,
            82,
            83,
            76,
            82,
            68,
            57,
            53,
            45,
            59,
            58,
            42,
            67,
            69,
            69,
            64,
            63,
            49,
            66,
            60,
            66,
            54,
            65,
            72,
            71,
            71,
            40,
            41,
            39,
            39,
            30
           ]
          },
          {
           "label": "max_depth",
           "range": [
            0,
            18
           ],
           "values": [
            9,
            4,
            15,
            18,
            2,
            17,
            12,
            3,
            8,
            10,
            14,
            7,
            18,
            13,
            5,
            5,
            17,
            10,
            10,
            9,
            0,
            11,
            18,
            5,
            3,
            14,
            7,
            15,
            15,
            15,
            15,
            15,
            13,
            13,
            16,
            16,
            16,
            17,
            16,
            16,
            12,
            16,
            16,
            17,
            14,
            14,
            14,
            12,
            18,
            14,
            11,
            14,
            17,
            17,
            17,
            17,
            18,
            18,
            18,
            18
           ]
          },
          {
           "label": "min_data_in_leaf",
           "range": [
            1,
            1441
           ],
           "values": [
            699,
            115,
            1297,
            228,
            1215,
            1281,
            1165,
            1221,
            768,
            1393,
            134,
            385,
            1441,
            44,
            494,
            878,
            386,
            1179,
            316,
            732,
            1297,
            72,
            1277,
            711,
            477,
            1032,
            1002,
            586,
            525,
            581,
            575,
            576,
            191,
            157,
            233,
            208,
            258,
            306,
            8,
            14,
            137,
            99,
            112,
            115,
            20,
            13,
            266,
            367,
            70,
            85,
            85,
            177,
            1,
            7,
            3,
            7,
            42,
            9,
            57,
            169
           ]
          },
          {
           "label": "min_gain_to_split",
           "range": [
            0.020750712643884395,
            9.973799794670743
           ],
           "values": [
            9.31713699079583,
            6.709604916219885,
            1.0733786937050205,
            4.195709152358756,
            3.032701364415259,
            0.9627147993500484,
            6.390210091583545,
            7.7805581576127105,
            8.904750409915994,
            0.8419426356355431,
            0.020750712643884395,
            1.0447698191032884,
            4.578718555250857,
            5.5635466473467785,
            1.4456340981578475,
            2.693711768675083,
            7.3580105475108475,
            7.9136295125948175,
            4.487227851059297,
            9.754667720962157,
            4.3809576031991675,
            0.43707241037501676,
            1.8590214494305368,
            9.621802421590122,
            7.360504005379209,
            8.469774028586897,
            9.973799794670743,
            8.592691482749263,
            5.579934054476891,
            5.309225157584459,
            3.301920379947468,
            3.4462570302778675,
            0.08453976107412761,
            1.9761557497857078,
            2.4359783395134365,
            0.24112188957276492,
            2.842623780938731,
            3.6538318352840777,
            2.2662110847418666,
            2.211235404302432,
            0.07849191993554383,
            1.4700530569668193,
            1.3141043982168066,
            1.4874423736877935,
            0.7101514520613881,
            0.6547880546382365,
            2.174130915959394,
            0.9797046641458824,
            2.425189822252701,
            0.66110638762743,
            1.5729498346838224,
            0.631464985041466,
            1.164614681082651,
            1.10764975702168,
            1.1586820460963683,
            0.9621865293811875,
            1.7718083456624987,
            1.794988269018956,
            1.7057197075831667,
            0.9449723342219045
           ]
          },
          {
           "label": "min_sum_hessian_i...",
           "range": [
            0.15492217111770779,
            19.80038011703333
           ],
           "values": [
            0.7384833885205929,
            10.150168208529177,
            15.585626385117594,
            16.702865306562057,
            9.485769957819821,
            12.058302711586734,
            16.651300551238236,
            18.13800593798755,
            5.694443131770792,
            1.1790304919725587,
            3.434389185185518,
            12.949730038160068,
            17.637767187332695,
            3.44160237782896,
            7.62823083560018,
            0.6190728668902801,
            11.078147557968125,
            2.77981361462114,
            1.4898760465964023,
            13.315010140092525,
            15.429266594098607,
            17.792175300689962,
            2.61832108183781,
            17.9215880113613,
            19.80038011703333,
            5.10828242672336,
            7.523177728366379,
            13.493126159045817,
            13.713684048281209,
            13.77156952487759,
            14.494893909117955,
            14.655327085833719,
            11.581628569803982,
            9.518808594718916,
            11.596311810878015,
            10.684755458582202,
            8.454144275933697,
            10.254255482364718,
            12.109644283440879,
            6.006161192372131,
            10.640428849723408,
            12.030791392950137,
            12.188942853730433,
            12.312397053209963,
            12.177417057605249,
            8.55810846545709,
            12.512417682843756,
            11.548650870949016,
            15.80093139576012,
            9.35603177036129,
            6.572069732065174,
            9.660106205614913,
            4.434512617495637,
            3.8627901701310856,
            4.168876723385535,
            1.8791281129840096,
            0.15492217111770779,
            1.5772151622418815,
            1.7572796023279955,
            0.2478518117552564
           ]
          },
          {
           "label": "num_iterations",
           "range": [
            34,
            1468
           ],
           "values": [
            792,
            398,
            1468,
            344,
            1244,
            1259,
            561,
            1369,
            1280,
            1413,
            816,
            513,
            611,
            34,
            814,
            553,
            698,
            1100,
            1269,
            1089,
            1302,
            40,
            189,
            825,
            1123,
            1000,
            1007,
            957,
            950,
            917,
            918,
            716,
            856,
            876,
            759,
            676,
            433,
            731,
            632,
            641,
            313,
            758,
            477,
            457,
            760,
            756,
            620,
            782,
            544,
            329,
            342,
            162,
            583,
            582,
            591,
            649,
            658,
            502,
            395,
            537
           ]
          },
          {
           "label": "num_leaves",
           "range": [
            503,
            2139
           ],
           "values": [
            1737,
            1980,
            1252,
            1360,
            1064,
            1088,
            1020,
            780,
            1124,
            1386,
            1560,
            1805,
            1665,
            1085,
            990,
            1965,
            1125,
            1963,
            869,
            1002,
            1301,
            1690,
            688,
            712,
            1362,
            503,
            2139,
            1524,
            1548,
            1482,
            1568,
            1550,
            1545,
            1798,
            1636,
            1634,
            1877,
            1632,
            1459,
            1236,
            1430,
            1628,
            1757,
            1773,
            1888,
            1856,
            2137,
            2050,
            1712,
            1463,
            1231,
            1459,
            1612,
            1300,
            1326,
            1860,
            1875,
            1916,
            1933,
            2042
           ]
          },
          {
           "label": "scale_pos_weight",
           "range": [
            1.2420800108462957,
            47.81294957717391
           ],
           "values": [
            26.29157771380609,
            41.920117235810814,
            25.766695646334774,
            42.32516657436609,
            47.81294957717391,
            37.20409755596174,
            3.5822215146159495,
            26.746429087243808,
            17.61632226539379,
            26.971328907322814,
            21.88266235984722,
            29.03964136505476,
            2.382211806682646,
            13.101766139039928,
            46.611112238251835,
            38.443876855763655,
            38.10617302475576,
            37.65876581168383,
            46.916303940861155,
            23.7445856158587,
            41.18338157682724,
            19.79751473534524,
            21.600891057500384,
            47.23629646261154,
            32.08319965262398,
            11.96838053806978,
            14.274283310824305,
            32.19493838606316,
            32.27497987511151,
            32.53143242946757,
            32.28534530286422,
            32.09901936860939,
            30.15656318213669,
            34.432627694987175,
            28.38045543447596,
            28.67645339429852,
            23.503483842561568,
            18.033184004360255,
            27.220327068692008,
            24.553420510458423,
            28.288265374708928,
            25.96221980521975,
            22.180681790431056,
            20.460042222952204,
            9.814235202238995,
            10.15449157898094,
            16.22631880379226,
            9.030838792412682,
            26.25237895028503,
            6.439602819814313,
            6.290553111174944,
            5.760473737095349,
            2.0569800708485078,
            2.420083173981167,
            1.2420800108462957,
            4.070876512790485,
            4.355705833254387,
            4.430974186520222,
            4.199867542575915,
            8.641129456060963
           ]
          }
         ],
         "labelangle": 30,
         "labelside": "bottom",
         "line": {
          "color": [
           0.9333960566045505,
           0.932553679419905,
           0.9355306790906649,
           0.9308308002502311,
           0.9252587192900714,
           0.93195536340431,
           0.9299289865477606,
           0.9333599711444867,
           0.9308078912561987,
           0.9316940179914062,
           0.9388896091458069,
           0.9326457473631168,
           0.932618539223397,
           0.9230627047095542,
           0.9262814833140249,
           0.9311445090379443,
           0.9346023540975967,
           0.9356839970065479,
           0.9348685269665318,
           0.936451904207131,
           0.9267211449985894,
           0.9239077853842247,
           0.9288488332467951,
           0.9267461457409027,
           0.9232110200944141,
           0.9316257257834494,
           0.935536775510464,
           0.9372239903264289,
           0.937305591090236,
           0.9371095389908458,
           0.9378435372913835,
           0.9370656059823428,
           0.937543354577846,
           0.9356592166033814,
           0.9384968506171862,
           0.9381832666169618,
           0.937426522714469,
           0.9362515155787673,
           0.9389468325272233,
           0.9298430978134935,
           0.935449737138206,
           0.93876618657597,
           0.9383515626423569,
           0.9375744750007833,
           0.9392761711638616,
           0.9382586149369783,
           0.9363158979965753,
           0.9338262823475857,
           0.9322164470032119,
           0.9386954570746118,
           0.933795686418166,
           0.9367568768104222,
           0.9389606184402132,
           0.9396363671473547,
           0.9383627760887947,
           0.9405360493092945,
           0.9399296699365551,
           0.9396480522659607,
           0.9388458686535808,
           0.9395586601484285
          ],
          "colorbar": {
           "title": {
            "text": "Objective Value"
           }
          },
          "colorscale": [
           [
            0,
            "rgb(247,251,255)"
           ],
           [
            0.125,
            "rgb(222,235,247)"
           ],
           [
            0.25,
            "rgb(198,219,239)"
           ],
           [
            0.375,
            "rgb(158,202,225)"
           ],
           [
            0.5,
            "rgb(107,174,214)"
           ],
           [
            0.625,
            "rgb(66,146,198)"
           ],
           [
            0.75,
            "rgb(33,113,181)"
           ],
           [
            0.875,
            "rgb(8,81,156)"
           ],
           [
            1,
            "rgb(8,48,107)"
           ]
          ],
          "reversescale": false,
          "showscale": true
         },
         "type": "parcoords"
        }
       ],
       "layout": {
        "template": {
         "data": {
          "bar": [
           {
            "error_x": {
             "color": "#2a3f5f"
            },
            "error_y": {
             "color": "#2a3f5f"
            },
            "marker": {
             "line": {
              "color": "#E5ECF6",
              "width": 0.5
             },
             "pattern": {
              "fillmode": "overlay",
              "size": 10,
              "solidity": 0.2
             }
            },
            "type": "bar"
           }
          ],
          "barpolar": [
           {
            "marker": {
             "line": {
              "color": "#E5ECF6",
              "width": 0.5
             },
             "pattern": {
              "fillmode": "overlay",
              "size": 10,
              "solidity": 0.2
             }
            },
            "type": "barpolar"
           }
          ],
          "carpet": [
           {
            "aaxis": {
             "endlinecolor": "#2a3f5f",
             "gridcolor": "white",
             "linecolor": "white",
             "minorgridcolor": "white",
             "startlinecolor": "#2a3f5f"
            },
            "baxis": {
             "endlinecolor": "#2a3f5f",
             "gridcolor": "white",
             "linecolor": "white",
             "minorgridcolor": "white",
             "startlinecolor": "#2a3f5f"
            },
            "type": "carpet"
           }
          ],
          "choropleth": [
           {
            "colorbar": {
             "outlinewidth": 0,
             "ticks": ""
            },
            "type": "choropleth"
           }
          ],
          "contour": [
           {
            "colorbar": {
             "outlinewidth": 0,
             "ticks": ""
            },
            "colorscale": [
             [
              0,
              "#0d0887"
             ],
             [
              0.1111111111111111,
              "#46039f"
             ],
             [
              0.2222222222222222,
              "#7201a8"
             ],
             [
              0.3333333333333333,
              "#9c179e"
             ],
             [
              0.4444444444444444,
              "#bd3786"
             ],
             [
              0.5555555555555556,
              "#d8576b"
             ],
             [
              0.6666666666666666,
              "#ed7953"
             ],
             [
              0.7777777777777778,
              "#fb9f3a"
             ],
             [
              0.8888888888888888,
              "#fdca26"
             ],
             [
              1,
              "#f0f921"
             ]
            ],
            "type": "contour"
           }
          ],
          "contourcarpet": [
           {
            "colorbar": {
             "outlinewidth": 0,
             "ticks": ""
            },
            "type": "contourcarpet"
           }
          ],
          "heatmap": [
           {
            "colorbar": {
             "outlinewidth": 0,
             "ticks": ""
            },
            "colorscale": [
             [
              0,
              "#0d0887"
             ],
             [
              0.1111111111111111,
              "#46039f"
             ],
             [
              0.2222222222222222,
              "#7201a8"
             ],
             [
              0.3333333333333333,
              "#9c179e"
             ],
             [
              0.4444444444444444,
              "#bd3786"
             ],
             [
              0.5555555555555556,
              "#d8576b"
             ],
             [
              0.6666666666666666,
              "#ed7953"
             ],
             [
              0.7777777777777778,
              "#fb9f3a"
             ],
             [
              0.8888888888888888,
              "#fdca26"
             ],
             [
              1,
              "#f0f921"
             ]
            ],
            "type": "heatmap"
           }
          ],
          "heatmapgl": [
           {
            "colorbar": {
             "outlinewidth": 0,
             "ticks": ""
            },
            "colorscale": [
             [
              0,
              "#0d0887"
             ],
             [
              0.1111111111111111,
              "#46039f"
             ],
             [
              0.2222222222222222,
              "#7201a8"
             ],
             [
              0.3333333333333333,
              "#9c179e"
             ],
             [
              0.4444444444444444,
              "#bd3786"
             ],
             [
              0.5555555555555556,
              "#d8576b"
             ],
             [
              0.6666666666666666,
              "#ed7953"
             ],
             [
              0.7777777777777778,
              "#fb9f3a"
             ],
             [
              0.8888888888888888,
              "#fdca26"
             ],
             [
              1,
              "#f0f921"
             ]
            ],
            "type": "heatmapgl"
           }
          ],
          "histogram": [
           {
            "marker": {
             "pattern": {
              "fillmode": "overlay",
              "size": 10,
              "solidity": 0.2
             }
            },
            "type": "histogram"
           }
          ],
          "histogram2d": [
           {
            "colorbar": {
             "outlinewidth": 0,
             "ticks": ""
            },
            "colorscale": [
             [
              0,
              "#0d0887"
             ],
             [
              0.1111111111111111,
              "#46039f"
             ],
             [
              0.2222222222222222,
              "#7201a8"
             ],
             [
              0.3333333333333333,
              "#9c179e"
             ],
             [
              0.4444444444444444,
              "#bd3786"
             ],
             [
              0.5555555555555556,
              "#d8576b"
             ],
             [
              0.6666666666666666,
              "#ed7953"
             ],
             [
              0.7777777777777778,
              "#fb9f3a"
             ],
             [
              0.8888888888888888,
              "#fdca26"
             ],
             [
              1,
              "#f0f921"
             ]
            ],
            "type": "histogram2d"
           }
          ],
          "histogram2dcontour": [
           {
            "colorbar": {
             "outlinewidth": 0,
             "ticks": ""
            },
            "colorscale": [
             [
              0,
              "#0d0887"
             ],
             [
              0.1111111111111111,
              "#46039f"
             ],
             [
              0.2222222222222222,
              "#7201a8"
             ],
             [
              0.3333333333333333,
              "#9c179e"
             ],
             [
              0.4444444444444444,
              "#bd3786"
             ],
             [
              0.5555555555555556,
              "#d8576b"
             ],
             [
              0.6666666666666666,
              "#ed7953"
             ],
             [
              0.7777777777777778,
              "#fb9f3a"
             ],
             [
              0.8888888888888888,
              "#fdca26"
             ],
             [
              1,
              "#f0f921"
             ]
            ],
            "type": "histogram2dcontour"
           }
          ],
          "mesh3d": [
           {
            "colorbar": {
             "outlinewidth": 0,
             "ticks": ""
            },
            "type": "mesh3d"
           }
          ],
          "parcoords": [
           {
            "line": {
             "colorbar": {
              "outlinewidth": 0,
              "ticks": ""
             }
            },
            "type": "parcoords"
           }
          ],
          "pie": [
           {
            "automargin": true,
            "type": "pie"
           }
          ],
          "scatter": [
           {
            "fillpattern": {
             "fillmode": "overlay",
             "size": 10,
             "solidity": 0.2
            },
            "type": "scatter"
           }
          ],
          "scatter3d": [
           {
            "line": {
             "colorbar": {
              "outlinewidth": 0,
              "ticks": ""
             }
            },
            "marker": {
             "colorbar": {
              "outlinewidth": 0,
              "ticks": ""
             }
            },
            "type": "scatter3d"
           }
          ],
          "scattercarpet": [
           {
            "marker": {
             "colorbar": {
              "outlinewidth": 0,
              "ticks": ""
             }
            },
            "type": "scattercarpet"
           }
          ],
          "scattergeo": [
           {
            "marker": {
             "colorbar": {
              "outlinewidth": 0,
              "ticks": ""
             }
            },
            "type": "scattergeo"
           }
          ],
          "scattergl": [
           {
            "marker": {
             "colorbar": {
              "outlinewidth": 0,
              "ticks": ""
             }
            },
            "type": "scattergl"
           }
          ],
          "scattermapbox": [
           {
            "marker": {
             "colorbar": {
              "outlinewidth": 0,
              "ticks": ""
             }
            },
            "type": "scattermapbox"
           }
          ],
          "scatterpolar": [
           {
            "marker": {
             "colorbar": {
              "outlinewidth": 0,
              "ticks": ""
             }
            },
            "type": "scatterpolar"
           }
          ],
          "scatterpolargl": [
           {
            "marker": {
             "colorbar": {
              "outlinewidth": 0,
              "ticks": ""
             }
            },
            "type": "scatterpolargl"
           }
          ],
          "scatterternary": [
           {
            "marker": {
             "colorbar": {
              "outlinewidth": 0,
              "ticks": ""
             }
            },
            "type": "scatterternary"
           }
          ],
          "surface": [
           {
            "colorbar": {
             "outlinewidth": 0,
             "ticks": ""
            },
            "colorscale": [
             [
              0,
              "#0d0887"
             ],
             [
              0.1111111111111111,
              "#46039f"
             ],
             [
              0.2222222222222222,
              "#7201a8"
             ],
             [
              0.3333333333333333,
              "#9c179e"
             ],
             [
              0.4444444444444444,
              "#bd3786"
             ],
             [
              0.5555555555555556,
              "#d8576b"
             ],
             [
              0.6666666666666666,
              "#ed7953"
             ],
             [
              0.7777777777777778,
              "#fb9f3a"
             ],
             [
              0.8888888888888888,
              "#fdca26"
             ],
             [
              1,
              "#f0f921"
             ]
            ],
            "type": "surface"
           }
          ],
          "table": [
           {
            "cells": {
             "fill": {
              "color": "#EBF0F8"
             },
             "line": {
              "color": "white"
             }
            },
            "header": {
             "fill": {
              "color": "#C8D4E3"
             },
             "line": {
              "color": "white"
             }
            },
            "type": "table"
           }
          ]
         },
         "layout": {
          "annotationdefaults": {
           "arrowcolor": "#2a3f5f",
           "arrowhead": 0,
           "arrowwidth": 1
          },
          "autotypenumbers": "strict",
          "coloraxis": {
           "colorbar": {
            "outlinewidth": 0,
            "ticks": ""
           }
          },
          "colorscale": {
           "diverging": [
            [
             0,
             "#8e0152"
            ],
            [
             0.1,
             "#c51b7d"
            ],
            [
             0.2,
             "#de77ae"
            ],
            [
             0.3,
             "#f1b6da"
            ],
            [
             0.4,
             "#fde0ef"
            ],
            [
             0.5,
             "#f7f7f7"
            ],
            [
             0.6,
             "#e6f5d0"
            ],
            [
             0.7,
             "#b8e186"
            ],
            [
             0.8,
             "#7fbc41"
            ],
            [
             0.9,
             "#4d9221"
            ],
            [
             1,
             "#276419"
            ]
           ],
           "sequential": [
            [
             0,
             "#0d0887"
            ],
            [
             0.1111111111111111,
             "#46039f"
            ],
            [
             0.2222222222222222,
             "#7201a8"
            ],
            [
             0.3333333333333333,
             "#9c179e"
            ],
            [
             0.4444444444444444,
             "#bd3786"
            ],
            [
             0.5555555555555556,
             "#d8576b"
            ],
            [
             0.6666666666666666,
             "#ed7953"
            ],
            [
             0.7777777777777778,
             "#fb9f3a"
            ],
            [
             0.8888888888888888,
             "#fdca26"
            ],
            [
             1,
             "#f0f921"
            ]
           ],
           "sequentialminus": [
            [
             0,
             "#0d0887"
            ],
            [
             0.1111111111111111,
             "#46039f"
            ],
            [
             0.2222222222222222,
             "#7201a8"
            ],
            [
             0.3333333333333333,
             "#9c179e"
            ],
            [
             0.4444444444444444,
             "#bd3786"
            ],
            [
             0.5555555555555556,
             "#d8576b"
            ],
            [
             0.6666666666666666,
             "#ed7953"
            ],
            [
             0.7777777777777778,
             "#fb9f3a"
            ],
            [
             0.8888888888888888,
             "#fdca26"
            ],
            [
             1,
             "#f0f921"
            ]
           ]
          },
          "colorway": [
           "#636efa",
           "#EF553B",
           "#00cc96",
           "#ab63fa",
           "#FFA15A",
           "#19d3f3",
           "#FF6692",
           "#B6E880",
           "#FF97FF",
           "#FECB52"
          ],
          "font": {
           "color": "#2a3f5f"
          },
          "geo": {
           "bgcolor": "white",
           "lakecolor": "white",
           "landcolor": "#E5ECF6",
           "showlakes": true,
           "showland": true,
           "subunitcolor": "white"
          },
          "hoverlabel": {
           "align": "left"
          },
          "hovermode": "closest",
          "mapbox": {
           "style": "light"
          },
          "paper_bgcolor": "white",
          "plot_bgcolor": "#E5ECF6",
          "polar": {
           "angularaxis": {
            "gridcolor": "white",
            "linecolor": "white",
            "ticks": ""
           },
           "bgcolor": "#E5ECF6",
           "radialaxis": {
            "gridcolor": "white",
            "linecolor": "white",
            "ticks": ""
           }
          },
          "scene": {
           "xaxis": {
            "backgroundcolor": "#E5ECF6",
            "gridcolor": "white",
            "gridwidth": 2,
            "linecolor": "white",
            "showbackground": true,
            "ticks": "",
            "zerolinecolor": "white"
           },
           "yaxis": {
            "backgroundcolor": "#E5ECF6",
            "gridcolor": "white",
            "gridwidth": 2,
            "linecolor": "white",
            "showbackground": true,
            "ticks": "",
            "zerolinecolor": "white"
           },
           "zaxis": {
            "backgroundcolor": "#E5ECF6",
            "gridcolor": "white",
            "gridwidth": 2,
            "linecolor": "white",
            "showbackground": true,
            "ticks": "",
            "zerolinecolor": "white"
           }
          },
          "shapedefaults": {
           "line": {
            "color": "#2a3f5f"
           }
          },
          "ternary": {
           "aaxis": {
            "gridcolor": "white",
            "linecolor": "white",
            "ticks": ""
           },
           "baxis": {
            "gridcolor": "white",
            "linecolor": "white",
            "ticks": ""
           },
           "bgcolor": "#E5ECF6",
           "caxis": {
            "gridcolor": "white",
            "linecolor": "white",
            "ticks": ""
           }
          },
          "title": {
           "x": 0.05
          },
          "xaxis": {
           "automargin": true,
           "gridcolor": "white",
           "linecolor": "white",
           "ticks": "",
           "title": {
            "standoff": 15
           },
           "zerolinecolor": "white",
           "zerolinewidth": 2
          },
          "yaxis": {
           "automargin": true,
           "gridcolor": "white",
           "linecolor": "white",
           "ticks": "",
           "title": {
            "standoff": 15
           },
           "zerolinecolor": "white",
           "zerolinewidth": 2
          }
         }
        },
        "title": {
         "text": "Parallel Coordinate Plot"
        }
       }
      }
     },
     "metadata": {},
     "output_type": "display_data"
    },
    {
     "data": {
      "application/vnd.plotly.v1+json": {
       "config": {
        "plotlyServerURL": "https://plot.ly"
       },
       "data": [
        {
         "marker": {
          "color": [
           0,
           1,
           2,
           3,
           4,
           5,
           6,
           7,
           8,
           9,
           10,
           11,
           12,
           13,
           14,
           15,
           16,
           17,
           18,
           19,
           20,
           21,
           22,
           23,
           24,
           25,
           26,
           27,
           28,
           29,
           30,
           31,
           32,
           33,
           34,
           35,
           36,
           37,
           38,
           39,
           40,
           41,
           42,
           43,
           44,
           45,
           46,
           47,
           48,
           49,
           50,
           51,
           52,
           53,
           54,
           55,
           56,
           57,
           58,
           59
          ],
          "colorbar": {
           "title": {
            "text": "Trial"
           },
           "x": 1,
           "xpad": 40
          },
          "colorscale": [
           [
            0,
            "rgb(247,251,255)"
           ],
           [
            0.125,
            "rgb(222,235,247)"
           ],
           [
            0.25,
            "rgb(198,219,239)"
           ],
           [
            0.375,
            "rgb(158,202,225)"
           ],
           [
            0.5,
            "rgb(107,174,214)"
           ],
           [
            0.625,
            "rgb(66,146,198)"
           ],
           [
            0.75,
            "rgb(33,113,181)"
           ],
           [
            0.875,
            "rgb(8,81,156)"
           ],
           [
            1,
            "rgb(8,48,107)"
           ]
          ],
          "line": {
           "color": "Grey",
           "width": 0.5
          },
          "showscale": true
         },
         "mode": "markers",
         "name": "Feasible Trial",
         "showlegend": false,
         "type": "scatter",
         "x": [
          0.8497372222417328,
          0.8599079405644661,
          0.9791679125728525,
          0.7353577602300094,
          0.4242177341316495,
          0.5065580786614856,
          0.6542302674616324,
          0.896461540212959,
          0.6647726140450444,
          0.44655019294616816,
          0.9434327601296862,
          0.6189278610053484,
          0.6436248987121812,
          0.9819878900428428,
          0.6484300119474493,
          0.9522200012091353,
          0.6537044159804061,
          0.8526217444687838,
          0.6982448553100096,
          0.948824738943879,
          0.41104496492453646,
          0.6473176650736412,
          0.850303085418757,
          0.4574437250721757,
          0.40883223484014525,
          0.7666508902464159,
          0.9151175938101004,
          0.804199134624724,
          0.7699387432535565,
          0.796494763812247,
          0.8039602861754879,
          0.8009894221919289,
          0.7873482737060911,
          0.5845038893650427,
          0.7559703700442333,
          0.7475728665351535,
          0.7297534669826541,
          0.8912766609649494,
          0.7210247964822168,
          0.5845119580086998,
          0.7051515711644923,
          0.7156965184403115,
          0.7393267324006118,
          0.6919193579414525,
          0.7209601242044912,
          0.6098133879863473,
          0.8263706416014525,
          0.5317817934977334,
          0.6785497307571356,
          0.8802025849837857,
          0.9989774182217335,
          0.8812024999182528,
          0.9311457825493635,
          0.9348898448232648,
          0.9437870387386443,
          0.9313861381547075,
          0.9261493577990153,
          0.9176092902927557,
          0.9191912604904157,
          0.9663807067046764
         ],
         "xaxis": "x",
         "y": [
          0.9333960566045505,
          0.932553679419905,
          0.9355306790906649,
          0.9308308002502311,
          0.9252587192900714,
          0.93195536340431,
          0.9299289865477606,
          0.9333599711444867,
          0.9308078912561987,
          0.9316940179914062,
          0.9388896091458069,
          0.9326457473631168,
          0.932618539223397,
          0.9230627047095542,
          0.9262814833140249,
          0.9311445090379443,
          0.9346023540975967,
          0.9356839970065479,
          0.9348685269665318,
          0.936451904207131,
          0.9267211449985894,
          0.9239077853842247,
          0.9288488332467951,
          0.9267461457409027,
          0.9232110200944141,
          0.9316257257834494,
          0.935536775510464,
          0.9372239903264289,
          0.937305591090236,
          0.9371095389908458,
          0.9378435372913835,
          0.9370656059823428,
          0.937543354577846,
          0.9356592166033814,
          0.9384968506171862,
          0.9381832666169618,
          0.937426522714469,
          0.9362515155787673,
          0.9389468325272233,
          0.9298430978134935,
          0.935449737138206,
          0.93876618657597,
          0.9383515626423569,
          0.9375744750007833,
          0.9392761711638616,
          0.9382586149369783,
          0.9363158979965753,
          0.9338262823475857,
          0.9322164470032119,
          0.9386954570746118,
          0.933795686418166,
          0.9367568768104222,
          0.9389606184402132,
          0.9396363671473547,
          0.9383627760887947,
          0.9405360493092945,
          0.9399296699365551,
          0.9396480522659607,
          0.9388458686535808,
          0.9395586601484285
         ],
         "yaxis": "y"
        },
        {
         "marker": {
          "color": [
           0,
           1,
           2,
           3,
           4,
           5,
           6,
           7,
           8,
           9,
           10,
           11,
           12,
           13,
           14,
           15,
           16,
           17,
           18,
           19,
           20,
           21,
           22,
           23,
           24,
           25,
           26,
           27,
           28,
           29,
           30,
           31,
           32,
           33,
           34,
           35,
           36,
           37,
           38,
           39,
           40,
           41,
           42,
           43,
           44,
           45,
           46,
           47,
           48,
           49,
           50,
           51,
           52,
           53,
           54,
           55,
           56,
           57,
           58,
           59
          ],
          "colorbar": {
           "title": {
            "text": "Trial"
           },
           "x": 1,
           "xpad": 40
          },
          "colorscale": [
           [
            0,
            "rgb(247,251,255)"
           ],
           [
            0.125,
            "rgb(222,235,247)"
           ],
           [
            0.25,
            "rgb(198,219,239)"
           ],
           [
            0.375,
            "rgb(158,202,225)"
           ],
           [
            0.5,
            "rgb(107,174,214)"
           ],
           [
            0.625,
            "rgb(66,146,198)"
           ],
           [
            0.75,
            "rgb(33,113,181)"
           ],
           [
            0.875,
            "rgb(8,81,156)"
           ],
           [
            1,
            "rgb(8,48,107)"
           ]
          ],
          "line": {
           "color": "Grey",
           "width": 0.5
          },
          "showscale": false
         },
         "mode": "markers",
         "name": "Feasible Trial",
         "showlegend": false,
         "type": "scatter",
         "x": [
          5,
          1,
          12,
          12,
          3,
          14,
          10,
          12,
          6,
          13,
          12,
          15,
          14,
          3,
          15,
          14,
          11,
          1,
          6,
          4,
          1,
          3,
          10,
          12,
          3,
          8,
          8,
          5,
          5,
          6,
          7,
          7,
          5,
          5,
          9,
          9,
          9,
          9,
          10,
          11,
          10,
          9,
          9,
          11,
          10,
          13,
          10,
          11,
          13,
          12,
          12,
          10,
          12,
          12,
          13,
          14,
          14,
          14,
          15,
          14
         ],
         "xaxis": "x2",
         "y": [
          0.9333960566045505,
          0.932553679419905,
          0.9355306790906649,
          0.9308308002502311,
          0.9252587192900714,
          0.93195536340431,
          0.9299289865477606,
          0.9333599711444867,
          0.9308078912561987,
          0.9316940179914062,
          0.9388896091458069,
          0.9326457473631168,
          0.932618539223397,
          0.9230627047095542,
          0.9262814833140249,
          0.9311445090379443,
          0.9346023540975967,
          0.9356839970065479,
          0.9348685269665318,
          0.936451904207131,
          0.9267211449985894,
          0.9239077853842247,
          0.9288488332467951,
          0.9267461457409027,
          0.9232110200944141,
          0.9316257257834494,
          0.935536775510464,
          0.9372239903264289,
          0.937305591090236,
          0.9371095389908458,
          0.9378435372913835,
          0.9370656059823428,
          0.937543354577846,
          0.9356592166033814,
          0.9384968506171862,
          0.9381832666169618,
          0.937426522714469,
          0.9362515155787673,
          0.9389468325272233,
          0.9298430978134935,
          0.935449737138206,
          0.93876618657597,
          0.9383515626423569,
          0.9375744750007833,
          0.9392761711638616,
          0.9382586149369783,
          0.9363158979965753,
          0.9338262823475857,
          0.9322164470032119,
          0.9386954570746118,
          0.933795686418166,
          0.9367568768104222,
          0.9389606184402132,
          0.9396363671473547,
          0.9383627760887947,
          0.9405360493092945,
          0.9399296699365551,
          0.9396480522659607,
          0.9388458686535808,
          0.9395586601484285
         ],
         "yaxis": "y2"
        },
        {
         "marker": {
          "color": [
           0,
           1,
           2,
           3,
           4,
           5,
           6,
           7,
           8,
           9,
           10,
           11,
           12,
           13,
           14,
           15,
           16,
           17,
           18,
           19,
           20,
           21,
           22,
           23,
           24,
           25,
           26,
           27,
           28,
           29,
           30,
           31,
           32,
           33,
           34,
           35,
           36,
           37,
           38,
           39,
           40,
           41,
           42,
           43,
           44,
           45,
           46,
           47,
           48,
           49,
           50,
           51,
           52,
           53,
           54,
           55,
           56,
           57,
           58,
           59
          ],
          "colorbar": {
           "title": {
            "text": "Trial"
           },
           "x": 1,
           "xpad": 40
          },
          "colorscale": [
           [
            0,
            "rgb(247,251,255)"
           ],
           [
            0.125,
            "rgb(222,235,247)"
           ],
           [
            0.25,
            "rgb(198,219,239)"
           ],
           [
            0.375,
            "rgb(158,202,225)"
           ],
           [
            0.5,
            "rgb(107,174,214)"
           ],
           [
            0.625,
            "rgb(66,146,198)"
           ],
           [
            0.75,
            "rgb(33,113,181)"
           ],
           [
            0.875,
            "rgb(8,81,156)"
           ],
           [
            1,
            "rgb(8,48,107)"
           ]
          ],
          "line": {
           "color": "Grey",
           "width": 0.5
          },
          "showscale": false
         },
         "mode": "markers",
         "name": "Feasible Trial",
         "showlegend": false,
         "type": "scatter",
         "x": [
          "gbdt",
          "dart",
          "dart",
          "gbdt",
          "gbdt",
          "gbdt",
          "gbdt",
          "dart",
          "gbdt",
          "dart",
          "gbdt",
          "dart",
          "dart",
          "gbdt",
          "gbdt",
          "gbdt",
          "gbdt",
          "dart",
          "dart",
          "dart",
          "dart",
          "dart",
          "dart",
          "gbdt",
          "gbdt",
          "dart",
          "dart",
          "dart",
          "dart",
          "dart",
          "dart",
          "dart",
          "dart",
          "dart",
          "dart",
          "dart",
          "dart",
          "gbdt",
          "dart",
          "gbdt",
          "dart",
          "dart",
          "dart",
          "dart",
          "dart",
          "dart",
          "gbdt",
          "dart",
          "gbdt",
          "dart",
          "gbdt",
          "dart",
          "dart",
          "dart",
          "dart",
          "dart",
          "dart",
          "dart",
          "dart",
          "dart"
         ],
         "xaxis": "x3",
         "y": [
          0.9333960566045505,
          0.932553679419905,
          0.9355306790906649,
          0.9308308002502311,
          0.9252587192900714,
          0.93195536340431,
          0.9299289865477606,
          0.9333599711444867,
          0.9308078912561987,
          0.9316940179914062,
          0.9388896091458069,
          0.9326457473631168,
          0.932618539223397,
          0.9230627047095542,
          0.9262814833140249,
          0.9311445090379443,
          0.9346023540975967,
          0.9356839970065479,
          0.9348685269665318,
          0.936451904207131,
          0.9267211449985894,
          0.9239077853842247,
          0.9288488332467951,
          0.9267461457409027,
          0.9232110200944141,
          0.9316257257834494,
          0.935536775510464,
          0.9372239903264289,
          0.937305591090236,
          0.9371095389908458,
          0.9378435372913835,
          0.9370656059823428,
          0.937543354577846,
          0.9356592166033814,
          0.9384968506171862,
          0.9381832666169618,
          0.937426522714469,
          0.9362515155787673,
          0.9389468325272233,
          0.9298430978134935,
          0.935449737138206,
          0.93876618657597,
          0.9383515626423569,
          0.9375744750007833,
          0.9392761711638616,
          0.9382586149369783,
          0.9363158979965753,
          0.9338262823475857,
          0.9322164470032119,
          0.9386954570746118,
          0.933795686418166,
          0.9367568768104222,
          0.9389606184402132,
          0.9396363671473547,
          0.9383627760887947,
          0.9405360493092945,
          0.9399296699365551,
          0.9396480522659607,
          0.9388458686535808,
          0.9395586601484285
         ],
         "yaxis": "y3"
        },
        {
         "marker": {
          "color": [
           0,
           1,
           2,
           3,
           4,
           5,
           6,
           7,
           8,
           9,
           10,
           11,
           12,
           13,
           14,
           15,
           16,
           17,
           18,
           19,
           20,
           21,
           22,
           23,
           24,
           25,
           26,
           27,
           28,
           29,
           30,
           31,
           32,
           33,
           34,
           35,
           36,
           37,
           38,
           39,
           40,
           41,
           42,
           43,
           44,
           45,
           46,
           47,
           48,
           49,
           50,
           51,
           52,
           53,
           54,
           55,
           56,
           57,
           58,
           59
          ],
          "colorbar": {
           "title": {
            "text": "Trial"
           },
           "x": 1,
           "xpad": 40
          },
          "colorscale": [
           [
            0,
            "rgb(247,251,255)"
           ],
           [
            0.125,
            "rgb(222,235,247)"
           ],
           [
            0.25,
            "rgb(198,219,239)"
           ],
           [
            0.375,
            "rgb(158,202,225)"
           ],
           [
            0.5,
            "rgb(107,174,214)"
           ],
           [
            0.625,
            "rgb(66,146,198)"
           ],
           [
            0.75,
            "rgb(33,113,181)"
           ],
           [
            0.875,
            "rgb(8,81,156)"
           ],
           [
            1,
            "rgb(8,48,107)"
           ]
          ],
          "line": {
           "color": "Grey",
           "width": 0.5
          },
          "showscale": false
         },
         "mode": "markers",
         "name": "Feasible Trial",
         "showlegend": false,
         "type": "scatter",
         "x": [
          0.5474910314574816,
          0.7289920139767798,
          0.5843213170604729,
          0.9884991998440884,
          0.8606159362039743,
          0.8452703104159863,
          0.4503064350260201,
          0.9388821996441759,
          0.49795562034944985,
          0.610968212248142,
          0.907593977727425,
          0.5798343229781315,
          0.608909067736163,
          0.6089721087759206,
          0.5608673800727105,
          0.6841734786382347,
          0.4926157443464741,
          0.6986305863537559,
          0.6479107190039667,
          0.4863115348935168,
          0.6934291108202633,
          0.9354767224039229,
          0.6636172281776984,
          0.7653096224995828,
          0.4244377976220986,
          0.7880992985319565,
          0.8609404703638295,
          0.8079839352085509,
          0.8126490243104777,
          0.8218435132656605,
          0.8973194902183876,
          0.9180556355251854,
          0.8983585828428752,
          0.8978669475426742,
          0.9726546823488545,
          0.9989180713726977,
          0.9970979405362257,
          0.9627029348941992,
          0.9631699880217134,
          0.9727449631824305,
          0.9621925736919523,
          0.8917412922014646,
          0.8681480246950835,
          0.8695450183193228,
          0.9342403243908737,
          0.9317317359590019,
          0.9550675627631369,
          0.7575927108501996,
          0.8379134934414691,
          0.922564462154872,
          0.9190709104294247,
          0.8918350749952855,
          0.950801782479959,
          0.9269837455057985,
          0.9475362287738681,
          0.9795332454292214,
          0.977431483971833,
          0.9431579759640627,
          0.9810928022512416,
          0.9345782870163147
         ],
         "xaxis": "x4",
         "y": [
          0.9333960566045505,
          0.932553679419905,
          0.9355306790906649,
          0.9308308002502311,
          0.9252587192900714,
          0.93195536340431,
          0.9299289865477606,
          0.9333599711444867,
          0.9308078912561987,
          0.9316940179914062,
          0.9388896091458069,
          0.9326457473631168,
          0.932618539223397,
          0.9230627047095542,
          0.9262814833140249,
          0.9311445090379443,
          0.9346023540975967,
          0.9356839970065479,
          0.9348685269665318,
          0.936451904207131,
          0.9267211449985894,
          0.9239077853842247,
          0.9288488332467951,
          0.9267461457409027,
          0.9232110200944141,
          0.9316257257834494,
          0.935536775510464,
          0.9372239903264289,
          0.937305591090236,
          0.9371095389908458,
          0.9378435372913835,
          0.9370656059823428,
          0.937543354577846,
          0.9356592166033814,
          0.9384968506171862,
          0.9381832666169618,
          0.937426522714469,
          0.9362515155787673,
          0.9389468325272233,
          0.9298430978134935,
          0.935449737138206,
          0.93876618657597,
          0.9383515626423569,
          0.9375744750007833,
          0.9392761711638616,
          0.9382586149369783,
          0.9363158979965753,
          0.9338262823475857,
          0.9322164470032119,
          0.9386954570746118,
          0.933795686418166,
          0.9367568768104222,
          0.9389606184402132,
          0.9396363671473547,
          0.9383627760887947,
          0.9405360493092945,
          0.9399296699365551,
          0.9396480522659607,
          0.9388458686535808,
          0.9395586601484285
         ],
         "yaxis": "y4"
        },
        {
         "marker": {
          "color": [
           0,
           1,
           2,
           3,
           4,
           5,
           6,
           7,
           8,
           9,
           10,
           11,
           12,
           13,
           14,
           15,
           16,
           17,
           18,
           19,
           20,
           21,
           22,
           23,
           24,
           25,
           26,
           27,
           28,
           29,
           30,
           31,
           32,
           33,
           34,
           35,
           36,
           37,
           38,
           39,
           40,
           41,
           42,
           43,
           44,
           45,
           46,
           47,
           48,
           49,
           50,
           51,
           52,
           53,
           54,
           55,
           56,
           57,
           58,
           59
          ],
          "colorbar": {
           "title": {
            "text": "Trial"
           },
           "x": 1,
           "xpad": 40
          },
          "colorscale": [
           [
            0,
            "rgb(247,251,255)"
           ],
           [
            0.125,
            "rgb(222,235,247)"
           ],
           [
            0.25,
            "rgb(198,219,239)"
           ],
           [
            0.375,
            "rgb(158,202,225)"
           ],
           [
            0.5,
            "rgb(107,174,214)"
           ],
           [
            0.625,
            "rgb(66,146,198)"
           ],
           [
            0.75,
            "rgb(33,113,181)"
           ],
           [
            0.875,
            "rgb(8,81,156)"
           ],
           [
            1,
            "rgb(8,48,107)"
           ]
          ],
          "line": {
           "color": "Grey",
           "width": 0.5
          },
          "showscale": false
         },
         "mode": "markers",
         "name": "Feasible Trial",
         "showlegend": false,
         "type": "scatter",
         "x": [
          11.364219835973833,
          9.170198215200443,
          4.043697128781697,
          3.7874830689391676,
          9.065860731493368,
          11.872316603351297,
          6.599835547629789,
          0.33889751404144963,
          10.85797181107384,
          5.072234570434158,
          0.8781329101264995,
          10.002878890025022,
          2.7779880522247913,
          13.643759952578618,
          4.290298426538628,
          7.40855931060639,
          8.577108434080671,
          11.740070573018722,
          11.100222709449694,
          3.7036449396247773,
          10.97930709789074,
          4.6836842515798205,
          14.653278224261191,
          5.949826156627805,
          4.649708241398461,
          0.45383083821902737,
          1.9847053712402394,
          2.008885571099002,
          1.9433600265716011,
          1.5268231364700915,
          1.4672023944389259,
          1.4968940786256553,
          2.5168720219160576,
          2.922033247914969,
          0.855923991217526,
          0.03477473824255228,
          0.8105734412294001,
          0.09565375279955668,
          1.2634522608755747,
          3.3423441909256755,
          0.9607107948851957,
          1.2382927959006553,
          0.15228725503913065,
          1.0359433498946238,
          2.453650240154528,
          2.397002055793485,
          3.2849413152829765,
          5.515992121083707,
          0.960163520640648,
          3.9872062212860357,
          7.234261614917115,
          3.8848757207021336,
          2.5018524799990693,
          2.7608777194644634,
          2.966324834496516,
          2.270616389907379,
          2.531643661929106,
          2.399245284688477,
          5.136136965737548,
          2.37301571769468
         ],
         "xaxis": "x5",
         "y": [
          0.9333960566045505,
          0.932553679419905,
          0.9355306790906649,
          0.9308308002502311,
          0.9252587192900714,
          0.93195536340431,
          0.9299289865477606,
          0.9333599711444867,
          0.9308078912561987,
          0.9316940179914062,
          0.9388896091458069,
          0.9326457473631168,
          0.932618539223397,
          0.9230627047095542,
          0.9262814833140249,
          0.9311445090379443,
          0.9346023540975967,
          0.9356839970065479,
          0.9348685269665318,
          0.936451904207131,
          0.9267211449985894,
          0.9239077853842247,
          0.9288488332467951,
          0.9267461457409027,
          0.9232110200944141,
          0.9316257257834494,
          0.935536775510464,
          0.9372239903264289,
          0.937305591090236,
          0.9371095389908458,
          0.9378435372913835,
          0.9370656059823428,
          0.937543354577846,
          0.9356592166033814,
          0.9384968506171862,
          0.9381832666169618,
          0.937426522714469,
          0.9362515155787673,
          0.9389468325272233,
          0.9298430978134935,
          0.935449737138206,
          0.93876618657597,
          0.9383515626423569,
          0.9375744750007833,
          0.9392761711638616,
          0.9382586149369783,
          0.9363158979965753,
          0.9338262823475857,
          0.9322164470032119,
          0.9386954570746118,
          0.933795686418166,
          0.9367568768104222,
          0.9389606184402132,
          0.9396363671473547,
          0.9383627760887947,
          0.9405360493092945,
          0.9399296699365551,
          0.9396480522659607,
          0.9388458686535808,
          0.9395586601484285
         ],
         "yaxis": "y5"
        },
        {
         "marker": {
          "color": [
           0,
           1,
           2,
           3,
           4,
           5,
           6,
           7,
           8,
           9,
           10,
           11,
           12,
           13,
           14,
           15,
           16,
           17,
           18,
           19,
           20,
           21,
           22,
           23,
           24,
           25,
           26,
           27,
           28,
           29,
           30,
           31,
           32,
           33,
           34,
           35,
           36,
           37,
           38,
           39,
           40,
           41,
           42,
           43,
           44,
           45,
           46,
           47,
           48,
           49,
           50,
           51,
           52,
           53,
           54,
           55,
           56,
           57,
           58,
           59
          ],
          "colorbar": {
           "title": {
            "text": "Trial"
           },
           "x": 1,
           "xpad": 40
          },
          "colorscale": [
           [
            0,
            "rgb(247,251,255)"
           ],
           [
            0.125,
            "rgb(222,235,247)"
           ],
           [
            0.25,
            "rgb(198,219,239)"
           ],
           [
            0.375,
            "rgb(158,202,225)"
           ],
           [
            0.5,
            "rgb(107,174,214)"
           ],
           [
            0.625,
            "rgb(66,146,198)"
           ],
           [
            0.75,
            "rgb(33,113,181)"
           ],
           [
            0.875,
            "rgb(8,81,156)"
           ],
           [
            1,
            "rgb(8,48,107)"
           ]
          ],
          "line": {
           "color": "Grey",
           "width": 0.5
          },
          "showscale": false
         },
         "mode": "markers",
         "name": "Feasible Trial",
         "showlegend": false,
         "type": "scatter",
         "x": [
          10.587416170941841,
          12.251988569169685,
          8.54184607780546,
          10.531878052720483,
          14.439747590356081,
          0.6106391887910373,
          5.693796896366364,
          12.219734169211643,
          6.817124627571395,
          6.525250772449448,
          2.891694136024892,
          10.72758907153079,
          6.16841294436615,
          10.265750772333572,
          5.707085873226939,
          1.2361601485154594,
          4.973115598932738,
          2.4041262392086518,
          6.318453422732299,
          2.777112275593561,
          5.010402902665988,
          11.215560861160817,
          14.633404065505896,
          1.8265318459653235,
          7.110296901433986,
          2.916824834230173,
          3.272809640495023,
          3.2410189454869553,
          4.048317514129361,
          4.449643008067102,
          4.059867261967903,
          3.900442423465646,
          4.038235677722775,
          8.52138816793962,
          8.124408193799981,
          8.093993867085228,
          8.207847738921505,
          9.435443707313299,
          9.692863926593798,
          7.647556988643133,
          9.086793877905203,
          0.1722468737490397,
          0.949439857726116,
          0.4961447092430012,
          0.30511384330725955,
          0.2967295211976348,
          1.8395776649117555,
          0.0806881563239697,
          12.999016067425444,
          9.70253397626152,
          10.013350551369133,
          11.465160675891187,
          9.528677365293058,
          9.329566841234888,
          9.012026760878465,
          1.3592847823243908,
          1.580007814136604,
          1.430342361025672,
          1.6289567046689288,
          1.0623598844115123
         ],
         "xaxis": "x6",
         "y": [
          0.9333960566045505,
          0.932553679419905,
          0.9355306790906649,
          0.9308308002502311,
          0.9252587192900714,
          0.93195536340431,
          0.9299289865477606,
          0.9333599711444867,
          0.9308078912561987,
          0.9316940179914062,
          0.9388896091458069,
          0.9326457473631168,
          0.932618539223397,
          0.9230627047095542,
          0.9262814833140249,
          0.9311445090379443,
          0.9346023540975967,
          0.9356839970065479,
          0.9348685269665318,
          0.936451904207131,
          0.9267211449985894,
          0.9239077853842247,
          0.9288488332467951,
          0.9267461457409027,
          0.9232110200944141,
          0.9316257257834494,
          0.935536775510464,
          0.9372239903264289,
          0.937305591090236,
          0.9371095389908458,
          0.9378435372913835,
          0.9370656059823428,
          0.937543354577846,
          0.9356592166033814,
          0.9384968506171862,
          0.9381832666169618,
          0.937426522714469,
          0.9362515155787673,
          0.9389468325272233,
          0.9298430978134935,
          0.935449737138206,
          0.93876618657597,
          0.9383515626423569,
          0.9375744750007833,
          0.9392761711638616,
          0.9382586149369783,
          0.9363158979965753,
          0.9338262823475857,
          0.9322164470032119,
          0.9386954570746118,
          0.933795686418166,
          0.9367568768104222,
          0.9389606184402132,
          0.9396363671473547,
          0.9383627760887947,
          0.9405360493092945,
          0.9399296699365551,
          0.9396480522659607,
          0.9388458686535808,
          0.9395586601484285
         ],
         "yaxis": "y6"
        },
        {
         "marker": {
          "color": [
           0,
           1,
           2,
           3,
           4,
           5,
           6,
           7,
           8,
           9,
           10,
           11,
           12,
           13,
           14,
           15,
           16,
           17,
           18,
           19,
           20,
           21,
           22,
           23,
           24,
           25,
           26,
           27,
           28,
           29,
           30,
           31,
           32,
           33,
           34,
           35,
           36,
           37,
           38,
           39,
           40,
           41,
           42,
           43,
           44,
           45,
           46,
           47,
           48,
           49,
           50,
           51,
           52,
           53,
           54,
           55,
           56,
           57,
           58,
           59
          ],
          "colorbar": {
           "title": {
            "text": "Trial"
           },
           "x": 1,
           "xpad": 40
          },
          "colorscale": [
           [
            0,
            "rgb(247,251,255)"
           ],
           [
            0.125,
            "rgb(222,235,247)"
           ],
           [
            0.25,
            "rgb(198,219,239)"
           ],
           [
            0.375,
            "rgb(158,202,225)"
           ],
           [
            0.5,
            "rgb(107,174,214)"
           ],
           [
            0.625,
            "rgb(66,146,198)"
           ],
           [
            0.75,
            "rgb(33,113,181)"
           ],
           [
            0.875,
            "rgb(8,81,156)"
           ],
           [
            1,
            "rgb(8,48,107)"
           ]
          ],
          "line": {
           "color": "Grey",
           "width": 0.5
          },
          "showscale": false
         },
         "mode": "markers",
         "name": "Feasible Trial",
         "showlegend": false,
         "type": "scatter",
         "x": [
          0.12225517684754826,
          0.2101243616150314,
          0.2234519989212203,
          0.19751552165303163,
          0.23759189065873848,
          0.12457339613690484,
          0.17618322853587112,
          0.12163552309622835,
          0.16474011352884363,
          0.10884961286224287,
          0.0630946452762805,
          0.2691121983225797,
          0.27998411987420013,
          0.013204299589175392,
          0.26248442960634205,
          0.1778702319437598,
          0.08851155315299494,
          0.12902093403293977,
          0.2521677679591602,
          0.27350517292722704,
          0.24786948576222229,
          0.2951191537028913,
          0.07664488635234794,
          0.1602575365499321,
          0.2863105716966383,
          0.017083600743355715,
          0.048751153273322814,
          0.05658493354361545,
          0.05525581608481523,
          0.04427781640526336,
          0.05945270905803898,
          0.061299695452077516,
          0.036138326015156375,
          0.029615593690795528,
          0.08827698922194784,
          0.08973116089197153,
          0.09141459988836859,
          0.07492891978732502,
          0.13978411525328913,
          0.13952725738511745,
          0.10667465263278189,
          0.07217636071256986,
          0.1009982451612996,
          0.14383616023145449,
          0.10959071667574208,
          0.11797492236406193,
          0.07386772200669087,
          0.21297869911675016,
          0.1468676563811055,
          0.1955733062279807,
          0.182294333453705,
          0.19678771684055885,
          0.1188691613921398,
          0.11765087567097937,
          0.12864454222758706,
          0.11524398867697595,
          0.1153885916721986,
          0.11635143219508527,
          0.12214475892605128,
          0.11442610944365834
         ],
         "xaxis": "x7",
         "y": [
          0.9333960566045505,
          0.932553679419905,
          0.9355306790906649,
          0.9308308002502311,
          0.9252587192900714,
          0.93195536340431,
          0.9299289865477606,
          0.9333599711444867,
          0.9308078912561987,
          0.9316940179914062,
          0.9388896091458069,
          0.9326457473631168,
          0.932618539223397,
          0.9230627047095542,
          0.9262814833140249,
          0.9311445090379443,
          0.9346023540975967,
          0.9356839970065479,
          0.9348685269665318,
          0.936451904207131,
          0.9267211449985894,
          0.9239077853842247,
          0.9288488332467951,
          0.9267461457409027,
          0.9232110200944141,
          0.9316257257834494,
          0.935536775510464,
          0.9372239903264289,
          0.937305591090236,
          0.9371095389908458,
          0.9378435372913835,
          0.9370656059823428,
          0.937543354577846,
          0.9356592166033814,
          0.9384968506171862,
          0.9381832666169618,
          0.937426522714469,
          0.9362515155787673,
          0.9389468325272233,
          0.9298430978134935,
          0.935449737138206,
          0.93876618657597,
          0.9383515626423569,
          0.9375744750007833,
          0.9392761711638616,
          0.9382586149369783,
          0.9363158979965753,
          0.9338262823475857,
          0.9322164470032119,
          0.9386954570746118,
          0.933795686418166,
          0.9367568768104222,
          0.9389606184402132,
          0.9396363671473547,
          0.9383627760887947,
          0.9405360493092945,
          0.9399296699365551,
          0.9396480522659607,
          0.9388458686535808,
          0.9395586601484285
         ],
         "yaxis": "y7"
        },
        {
         "marker": {
          "color": [
           0,
           1,
           2,
           3,
           4,
           5,
           6,
           7,
           8,
           9,
           10,
           11,
           12,
           13,
           14,
           15,
           16,
           17,
           18,
           19,
           20,
           21,
           22,
           23,
           24,
           25,
           26,
           27,
           28,
           29,
           30,
           31,
           32,
           33,
           34,
           35,
           36,
           37,
           38,
           39,
           40,
           41,
           42,
           43,
           44,
           45,
           46,
           47,
           48,
           49,
           50,
           51,
           52,
           53,
           54,
           55,
           56,
           57,
           58,
           59
          ],
          "colorbar": {
           "title": {
            "text": "Trial"
           },
           "x": 1,
           "xpad": 40
          },
          "colorscale": [
           [
            0,
            "rgb(247,251,255)"
           ],
           [
            0.125,
            "rgb(222,235,247)"
           ],
           [
            0.25,
            "rgb(198,219,239)"
           ],
           [
            0.375,
            "rgb(158,202,225)"
           ],
           [
            0.5,
            "rgb(107,174,214)"
           ],
           [
            0.625,
            "rgb(66,146,198)"
           ],
           [
            0.75,
            "rgb(33,113,181)"
           ],
           [
            0.875,
            "rgb(8,81,156)"
           ],
           [
            1,
            "rgb(8,48,107)"
           ]
          ],
          "line": {
           "color": "Grey",
           "width": 0.5
          },
          "showscale": false
         },
         "mode": "markers",
         "name": "Feasible Trial",
         "showlegend": false,
         "type": "scatter",
         "x": [
          82,
          44,
          25,
          56,
          32,
          26,
          67,
          77,
          70,
          93,
          44,
          90,
          92,
          90,
          88,
          35,
          89,
          63,
          26,
          81,
          62,
          98,
          91,
          36,
          100,
          52,
          46,
          74,
          77,
          74,
          82,
          83,
          76,
          82,
          68,
          57,
          53,
          45,
          59,
          58,
          42,
          67,
          69,
          69,
          64,
          63,
          49,
          66,
          60,
          66,
          54,
          65,
          72,
          71,
          71,
          40,
          41,
          39,
          39,
          30
         ],
         "xaxis": "x8",
         "y": [
          0.9333960566045505,
          0.932553679419905,
          0.9355306790906649,
          0.9308308002502311,
          0.9252587192900714,
          0.93195536340431,
          0.9299289865477606,
          0.9333599711444867,
          0.9308078912561987,
          0.9316940179914062,
          0.9388896091458069,
          0.9326457473631168,
          0.932618539223397,
          0.9230627047095542,
          0.9262814833140249,
          0.9311445090379443,
          0.9346023540975967,
          0.9356839970065479,
          0.9348685269665318,
          0.936451904207131,
          0.9267211449985894,
          0.9239077853842247,
          0.9288488332467951,
          0.9267461457409027,
          0.9232110200944141,
          0.9316257257834494,
          0.935536775510464,
          0.9372239903264289,
          0.937305591090236,
          0.9371095389908458,
          0.9378435372913835,
          0.9370656059823428,
          0.937543354577846,
          0.9356592166033814,
          0.9384968506171862,
          0.9381832666169618,
          0.937426522714469,
          0.9362515155787673,
          0.9389468325272233,
          0.9298430978134935,
          0.935449737138206,
          0.93876618657597,
          0.9383515626423569,
          0.9375744750007833,
          0.9392761711638616,
          0.9382586149369783,
          0.9363158979965753,
          0.9338262823475857,
          0.9322164470032119,
          0.9386954570746118,
          0.933795686418166,
          0.9367568768104222,
          0.9389606184402132,
          0.9396363671473547,
          0.9383627760887947,
          0.9405360493092945,
          0.9399296699365551,
          0.9396480522659607,
          0.9388458686535808,
          0.9395586601484285
         ],
         "yaxis": "y8"
        },
        {
         "marker": {
          "color": [
           0,
           1,
           2,
           3,
           4,
           5,
           6,
           7,
           8,
           9,
           10,
           11,
           12,
           13,
           14,
           15,
           16,
           17,
           18,
           19,
           20,
           21,
           22,
           23,
           24,
           25,
           26,
           27,
           28,
           29,
           30,
           31,
           32,
           33,
           34,
           35,
           36,
           37,
           38,
           39,
           40,
           41,
           42,
           43,
           44,
           45,
           46,
           47,
           48,
           49,
           50,
           51,
           52,
           53,
           54,
           55,
           56,
           57,
           58,
           59
          ],
          "colorbar": {
           "title": {
            "text": "Trial"
           },
           "x": 1,
           "xpad": 40
          },
          "colorscale": [
           [
            0,
            "rgb(247,251,255)"
           ],
           [
            0.125,
            "rgb(222,235,247)"
           ],
           [
            0.25,
            "rgb(198,219,239)"
           ],
           [
            0.375,
            "rgb(158,202,225)"
           ],
           [
            0.5,
            "rgb(107,174,214)"
           ],
           [
            0.625,
            "rgb(66,146,198)"
           ],
           [
            0.75,
            "rgb(33,113,181)"
           ],
           [
            0.875,
            "rgb(8,81,156)"
           ],
           [
            1,
            "rgb(8,48,107)"
           ]
          ],
          "line": {
           "color": "Grey",
           "width": 0.5
          },
          "showscale": false
         },
         "mode": "markers",
         "name": "Feasible Trial",
         "showlegend": false,
         "type": "scatter",
         "x": [
          9,
          4,
          15,
          18,
          2,
          17,
          12,
          3,
          8,
          10,
          14,
          7,
          18,
          13,
          5,
          5,
          17,
          10,
          10,
          9,
          0,
          11,
          18,
          5,
          3,
          14,
          7,
          15,
          15,
          15,
          15,
          15,
          13,
          13,
          16,
          16,
          16,
          17,
          16,
          16,
          12,
          16,
          16,
          17,
          14,
          14,
          14,
          12,
          18,
          14,
          11,
          14,
          17,
          17,
          17,
          17,
          18,
          18,
          18,
          18
         ],
         "xaxis": "x9",
         "y": [
          0.9333960566045505,
          0.932553679419905,
          0.9355306790906649,
          0.9308308002502311,
          0.9252587192900714,
          0.93195536340431,
          0.9299289865477606,
          0.9333599711444867,
          0.9308078912561987,
          0.9316940179914062,
          0.9388896091458069,
          0.9326457473631168,
          0.932618539223397,
          0.9230627047095542,
          0.9262814833140249,
          0.9311445090379443,
          0.9346023540975967,
          0.9356839970065479,
          0.9348685269665318,
          0.936451904207131,
          0.9267211449985894,
          0.9239077853842247,
          0.9288488332467951,
          0.9267461457409027,
          0.9232110200944141,
          0.9316257257834494,
          0.935536775510464,
          0.9372239903264289,
          0.937305591090236,
          0.9371095389908458,
          0.9378435372913835,
          0.9370656059823428,
          0.937543354577846,
          0.9356592166033814,
          0.9384968506171862,
          0.9381832666169618,
          0.937426522714469,
          0.9362515155787673,
          0.9389468325272233,
          0.9298430978134935,
          0.935449737138206,
          0.93876618657597,
          0.9383515626423569,
          0.9375744750007833,
          0.9392761711638616,
          0.9382586149369783,
          0.9363158979965753,
          0.9338262823475857,
          0.9322164470032119,
          0.9386954570746118,
          0.933795686418166,
          0.9367568768104222,
          0.9389606184402132,
          0.9396363671473547,
          0.9383627760887947,
          0.9405360493092945,
          0.9399296699365551,
          0.9396480522659607,
          0.9388458686535808,
          0.9395586601484285
         ],
         "yaxis": "y9"
        },
        {
         "marker": {
          "color": [
           0,
           1,
           2,
           3,
           4,
           5,
           6,
           7,
           8,
           9,
           10,
           11,
           12,
           13,
           14,
           15,
           16,
           17,
           18,
           19,
           20,
           21,
           22,
           23,
           24,
           25,
           26,
           27,
           28,
           29,
           30,
           31,
           32,
           33,
           34,
           35,
           36,
           37,
           38,
           39,
           40,
           41,
           42,
           43,
           44,
           45,
           46,
           47,
           48,
           49,
           50,
           51,
           52,
           53,
           54,
           55,
           56,
           57,
           58,
           59
          ],
          "colorbar": {
           "title": {
            "text": "Trial"
           },
           "x": 1,
           "xpad": 40
          },
          "colorscale": [
           [
            0,
            "rgb(247,251,255)"
           ],
           [
            0.125,
            "rgb(222,235,247)"
           ],
           [
            0.25,
            "rgb(198,219,239)"
           ],
           [
            0.375,
            "rgb(158,202,225)"
           ],
           [
            0.5,
            "rgb(107,174,214)"
           ],
           [
            0.625,
            "rgb(66,146,198)"
           ],
           [
            0.75,
            "rgb(33,113,181)"
           ],
           [
            0.875,
            "rgb(8,81,156)"
           ],
           [
            1,
            "rgb(8,48,107)"
           ]
          ],
          "line": {
           "color": "Grey",
           "width": 0.5
          },
          "showscale": false
         },
         "mode": "markers",
         "name": "Feasible Trial",
         "showlegend": false,
         "type": "scatter",
         "x": [
          699,
          115,
          1297,
          228,
          1215,
          1281,
          1165,
          1221,
          768,
          1393,
          134,
          385,
          1441,
          44,
          494,
          878,
          386,
          1179,
          316,
          732,
          1297,
          72,
          1277,
          711,
          477,
          1032,
          1002,
          586,
          525,
          581,
          575,
          576,
          191,
          157,
          233,
          208,
          258,
          306,
          8,
          14,
          137,
          99,
          112,
          115,
          20,
          13,
          266,
          367,
          70,
          85,
          85,
          177,
          1,
          7,
          3,
          7,
          42,
          9,
          57,
          169
         ],
         "xaxis": "x10",
         "y": [
          0.9333960566045505,
          0.932553679419905,
          0.9355306790906649,
          0.9308308002502311,
          0.9252587192900714,
          0.93195536340431,
          0.9299289865477606,
          0.9333599711444867,
          0.9308078912561987,
          0.9316940179914062,
          0.9388896091458069,
          0.9326457473631168,
          0.932618539223397,
          0.9230627047095542,
          0.9262814833140249,
          0.9311445090379443,
          0.9346023540975967,
          0.9356839970065479,
          0.9348685269665318,
          0.936451904207131,
          0.9267211449985894,
          0.9239077853842247,
          0.9288488332467951,
          0.9267461457409027,
          0.9232110200944141,
          0.9316257257834494,
          0.935536775510464,
          0.9372239903264289,
          0.937305591090236,
          0.9371095389908458,
          0.9378435372913835,
          0.9370656059823428,
          0.937543354577846,
          0.9356592166033814,
          0.9384968506171862,
          0.9381832666169618,
          0.937426522714469,
          0.9362515155787673,
          0.9389468325272233,
          0.9298430978134935,
          0.935449737138206,
          0.93876618657597,
          0.9383515626423569,
          0.9375744750007833,
          0.9392761711638616,
          0.9382586149369783,
          0.9363158979965753,
          0.9338262823475857,
          0.9322164470032119,
          0.9386954570746118,
          0.933795686418166,
          0.9367568768104222,
          0.9389606184402132,
          0.9396363671473547,
          0.9383627760887947,
          0.9405360493092945,
          0.9399296699365551,
          0.9396480522659607,
          0.9388458686535808,
          0.9395586601484285
         ],
         "yaxis": "y10"
        },
        {
         "marker": {
          "color": [
           0,
           1,
           2,
           3,
           4,
           5,
           6,
           7,
           8,
           9,
           10,
           11,
           12,
           13,
           14,
           15,
           16,
           17,
           18,
           19,
           20,
           21,
           22,
           23,
           24,
           25,
           26,
           27,
           28,
           29,
           30,
           31,
           32,
           33,
           34,
           35,
           36,
           37,
           38,
           39,
           40,
           41,
           42,
           43,
           44,
           45,
           46,
           47,
           48,
           49,
           50,
           51,
           52,
           53,
           54,
           55,
           56,
           57,
           58,
           59
          ],
          "colorbar": {
           "title": {
            "text": "Trial"
           },
           "x": 1,
           "xpad": 40
          },
          "colorscale": [
           [
            0,
            "rgb(247,251,255)"
           ],
           [
            0.125,
            "rgb(222,235,247)"
           ],
           [
            0.25,
            "rgb(198,219,239)"
           ],
           [
            0.375,
            "rgb(158,202,225)"
           ],
           [
            0.5,
            "rgb(107,174,214)"
           ],
           [
            0.625,
            "rgb(66,146,198)"
           ],
           [
            0.75,
            "rgb(33,113,181)"
           ],
           [
            0.875,
            "rgb(8,81,156)"
           ],
           [
            1,
            "rgb(8,48,107)"
           ]
          ],
          "line": {
           "color": "Grey",
           "width": 0.5
          },
          "showscale": false
         },
         "mode": "markers",
         "name": "Feasible Trial",
         "showlegend": false,
         "type": "scatter",
         "x": [
          9.31713699079583,
          6.709604916219885,
          1.0733786937050205,
          4.195709152358756,
          3.032701364415259,
          0.9627147993500484,
          6.390210091583545,
          7.7805581576127105,
          8.904750409915994,
          0.8419426356355431,
          0.020750712643884395,
          1.0447698191032884,
          4.578718555250857,
          5.5635466473467785,
          1.4456340981578475,
          2.693711768675083,
          7.3580105475108475,
          7.9136295125948175,
          4.487227851059297,
          9.754667720962157,
          4.3809576031991675,
          0.43707241037501676,
          1.8590214494305368,
          9.621802421590122,
          7.360504005379209,
          8.469774028586897,
          9.973799794670743,
          8.592691482749263,
          5.579934054476891,
          5.309225157584459,
          3.301920379947468,
          3.4462570302778675,
          0.08453976107412761,
          1.9761557497857078,
          2.4359783395134365,
          0.24112188957276492,
          2.842623780938731,
          3.6538318352840777,
          2.2662110847418666,
          2.211235404302432,
          0.07849191993554383,
          1.4700530569668193,
          1.3141043982168066,
          1.4874423736877935,
          0.7101514520613881,
          0.6547880546382365,
          2.174130915959394,
          0.9797046641458824,
          2.425189822252701,
          0.66110638762743,
          1.5729498346838224,
          0.631464985041466,
          1.164614681082651,
          1.10764975702168,
          1.1586820460963683,
          0.9621865293811875,
          1.7718083456624987,
          1.794988269018956,
          1.7057197075831667,
          0.9449723342219045
         ],
         "xaxis": "x11",
         "y": [
          0.9333960566045505,
          0.932553679419905,
          0.9355306790906649,
          0.9308308002502311,
          0.9252587192900714,
          0.93195536340431,
          0.9299289865477606,
          0.9333599711444867,
          0.9308078912561987,
          0.9316940179914062,
          0.9388896091458069,
          0.9326457473631168,
          0.932618539223397,
          0.9230627047095542,
          0.9262814833140249,
          0.9311445090379443,
          0.9346023540975967,
          0.9356839970065479,
          0.9348685269665318,
          0.936451904207131,
          0.9267211449985894,
          0.9239077853842247,
          0.9288488332467951,
          0.9267461457409027,
          0.9232110200944141,
          0.9316257257834494,
          0.935536775510464,
          0.9372239903264289,
          0.937305591090236,
          0.9371095389908458,
          0.9378435372913835,
          0.9370656059823428,
          0.937543354577846,
          0.9356592166033814,
          0.9384968506171862,
          0.9381832666169618,
          0.937426522714469,
          0.9362515155787673,
          0.9389468325272233,
          0.9298430978134935,
          0.935449737138206,
          0.93876618657597,
          0.9383515626423569,
          0.9375744750007833,
          0.9392761711638616,
          0.9382586149369783,
          0.9363158979965753,
          0.9338262823475857,
          0.9322164470032119,
          0.9386954570746118,
          0.933795686418166,
          0.9367568768104222,
          0.9389606184402132,
          0.9396363671473547,
          0.9383627760887947,
          0.9405360493092945,
          0.9399296699365551,
          0.9396480522659607,
          0.9388458686535808,
          0.9395586601484285
         ],
         "yaxis": "y11"
        },
        {
         "marker": {
          "color": [
           0,
           1,
           2,
           3,
           4,
           5,
           6,
           7,
           8,
           9,
           10,
           11,
           12,
           13,
           14,
           15,
           16,
           17,
           18,
           19,
           20,
           21,
           22,
           23,
           24,
           25,
           26,
           27,
           28,
           29,
           30,
           31,
           32,
           33,
           34,
           35,
           36,
           37,
           38,
           39,
           40,
           41,
           42,
           43,
           44,
           45,
           46,
           47,
           48,
           49,
           50,
           51,
           52,
           53,
           54,
           55,
           56,
           57,
           58,
           59
          ],
          "colorbar": {
           "title": {
            "text": "Trial"
           },
           "x": 1,
           "xpad": 40
          },
          "colorscale": [
           [
            0,
            "rgb(247,251,255)"
           ],
           [
            0.125,
            "rgb(222,235,247)"
           ],
           [
            0.25,
            "rgb(198,219,239)"
           ],
           [
            0.375,
            "rgb(158,202,225)"
           ],
           [
            0.5,
            "rgb(107,174,214)"
           ],
           [
            0.625,
            "rgb(66,146,198)"
           ],
           [
            0.75,
            "rgb(33,113,181)"
           ],
           [
            0.875,
            "rgb(8,81,156)"
           ],
           [
            1,
            "rgb(8,48,107)"
           ]
          ],
          "line": {
           "color": "Grey",
           "width": 0.5
          },
          "showscale": false
         },
         "mode": "markers",
         "name": "Feasible Trial",
         "showlegend": false,
         "type": "scatter",
         "x": [
          0.7384833885205929,
          10.150168208529177,
          15.585626385117594,
          16.702865306562057,
          9.485769957819821,
          12.058302711586734,
          16.651300551238236,
          18.13800593798755,
          5.694443131770792,
          1.1790304919725587,
          3.434389185185518,
          12.949730038160068,
          17.637767187332695,
          3.44160237782896,
          7.62823083560018,
          0.6190728668902801,
          11.078147557968125,
          2.77981361462114,
          1.4898760465964023,
          13.315010140092525,
          15.429266594098607,
          17.792175300689962,
          2.61832108183781,
          17.9215880113613,
          19.80038011703333,
          5.10828242672336,
          7.523177728366379,
          13.493126159045817,
          13.713684048281209,
          13.77156952487759,
          14.494893909117955,
          14.655327085833719,
          11.581628569803982,
          9.518808594718916,
          11.596311810878015,
          10.684755458582202,
          8.454144275933697,
          10.254255482364718,
          12.109644283440879,
          6.006161192372131,
          10.640428849723408,
          12.030791392950137,
          12.188942853730433,
          12.312397053209963,
          12.177417057605249,
          8.55810846545709,
          12.512417682843756,
          11.548650870949016,
          15.80093139576012,
          9.35603177036129,
          6.572069732065174,
          9.660106205614913,
          4.434512617495637,
          3.8627901701310856,
          4.168876723385535,
          1.8791281129840096,
          0.15492217111770779,
          1.5772151622418815,
          1.7572796023279955,
          0.2478518117552564
         ],
         "xaxis": "x12",
         "y": [
          0.9333960566045505,
          0.932553679419905,
          0.9355306790906649,
          0.9308308002502311,
          0.9252587192900714,
          0.93195536340431,
          0.9299289865477606,
          0.9333599711444867,
          0.9308078912561987,
          0.9316940179914062,
          0.9388896091458069,
          0.9326457473631168,
          0.932618539223397,
          0.9230627047095542,
          0.9262814833140249,
          0.9311445090379443,
          0.9346023540975967,
          0.9356839970065479,
          0.9348685269665318,
          0.936451904207131,
          0.9267211449985894,
          0.9239077853842247,
          0.9288488332467951,
          0.9267461457409027,
          0.9232110200944141,
          0.9316257257834494,
          0.935536775510464,
          0.9372239903264289,
          0.937305591090236,
          0.9371095389908458,
          0.9378435372913835,
          0.9370656059823428,
          0.937543354577846,
          0.9356592166033814,
          0.9384968506171862,
          0.9381832666169618,
          0.937426522714469,
          0.9362515155787673,
          0.9389468325272233,
          0.9298430978134935,
          0.935449737138206,
          0.93876618657597,
          0.9383515626423569,
          0.9375744750007833,
          0.9392761711638616,
          0.9382586149369783,
          0.9363158979965753,
          0.9338262823475857,
          0.9322164470032119,
          0.9386954570746118,
          0.933795686418166,
          0.9367568768104222,
          0.9389606184402132,
          0.9396363671473547,
          0.9383627760887947,
          0.9405360493092945,
          0.9399296699365551,
          0.9396480522659607,
          0.9388458686535808,
          0.9395586601484285
         ],
         "yaxis": "y12"
        },
        {
         "marker": {
          "color": [
           0,
           1,
           2,
           3,
           4,
           5,
           6,
           7,
           8,
           9,
           10,
           11,
           12,
           13,
           14,
           15,
           16,
           17,
           18,
           19,
           20,
           21,
           22,
           23,
           24,
           25,
           26,
           27,
           28,
           29,
           30,
           31,
           32,
           33,
           34,
           35,
           36,
           37,
           38,
           39,
           40,
           41,
           42,
           43,
           44,
           45,
           46,
           47,
           48,
           49,
           50,
           51,
           52,
           53,
           54,
           55,
           56,
           57,
           58,
           59
          ],
          "colorbar": {
           "title": {
            "text": "Trial"
           },
           "x": 1,
           "xpad": 40
          },
          "colorscale": [
           [
            0,
            "rgb(247,251,255)"
           ],
           [
            0.125,
            "rgb(222,235,247)"
           ],
           [
            0.25,
            "rgb(198,219,239)"
           ],
           [
            0.375,
            "rgb(158,202,225)"
           ],
           [
            0.5,
            "rgb(107,174,214)"
           ],
           [
            0.625,
            "rgb(66,146,198)"
           ],
           [
            0.75,
            "rgb(33,113,181)"
           ],
           [
            0.875,
            "rgb(8,81,156)"
           ],
           [
            1,
            "rgb(8,48,107)"
           ]
          ],
          "line": {
           "color": "Grey",
           "width": 0.5
          },
          "showscale": false
         },
         "mode": "markers",
         "name": "Feasible Trial",
         "showlegend": false,
         "type": "scatter",
         "x": [
          792,
          398,
          1468,
          344,
          1244,
          1259,
          561,
          1369,
          1280,
          1413,
          816,
          513,
          611,
          34,
          814,
          553,
          698,
          1100,
          1269,
          1089,
          1302,
          40,
          189,
          825,
          1123,
          1000,
          1007,
          957,
          950,
          917,
          918,
          716,
          856,
          876,
          759,
          676,
          433,
          731,
          632,
          641,
          313,
          758,
          477,
          457,
          760,
          756,
          620,
          782,
          544,
          329,
          342,
          162,
          583,
          582,
          591,
          649,
          658,
          502,
          395,
          537
         ],
         "xaxis": "x13",
         "y": [
          0.9333960566045505,
          0.932553679419905,
          0.9355306790906649,
          0.9308308002502311,
          0.9252587192900714,
          0.93195536340431,
          0.9299289865477606,
          0.9333599711444867,
          0.9308078912561987,
          0.9316940179914062,
          0.9388896091458069,
          0.9326457473631168,
          0.932618539223397,
          0.9230627047095542,
          0.9262814833140249,
          0.9311445090379443,
          0.9346023540975967,
          0.9356839970065479,
          0.9348685269665318,
          0.936451904207131,
          0.9267211449985894,
          0.9239077853842247,
          0.9288488332467951,
          0.9267461457409027,
          0.9232110200944141,
          0.9316257257834494,
          0.935536775510464,
          0.9372239903264289,
          0.937305591090236,
          0.9371095389908458,
          0.9378435372913835,
          0.9370656059823428,
          0.937543354577846,
          0.9356592166033814,
          0.9384968506171862,
          0.9381832666169618,
          0.937426522714469,
          0.9362515155787673,
          0.9389468325272233,
          0.9298430978134935,
          0.935449737138206,
          0.93876618657597,
          0.9383515626423569,
          0.9375744750007833,
          0.9392761711638616,
          0.9382586149369783,
          0.9363158979965753,
          0.9338262823475857,
          0.9322164470032119,
          0.9386954570746118,
          0.933795686418166,
          0.9367568768104222,
          0.9389606184402132,
          0.9396363671473547,
          0.9383627760887947,
          0.9405360493092945,
          0.9399296699365551,
          0.9396480522659607,
          0.9388458686535808,
          0.9395586601484285
         ],
         "yaxis": "y13"
        },
        {
         "marker": {
          "color": [
           0,
           1,
           2,
           3,
           4,
           5,
           6,
           7,
           8,
           9,
           10,
           11,
           12,
           13,
           14,
           15,
           16,
           17,
           18,
           19,
           20,
           21,
           22,
           23,
           24,
           25,
           26,
           27,
           28,
           29,
           30,
           31,
           32,
           33,
           34,
           35,
           36,
           37,
           38,
           39,
           40,
           41,
           42,
           43,
           44,
           45,
           46,
           47,
           48,
           49,
           50,
           51,
           52,
           53,
           54,
           55,
           56,
           57,
           58,
           59
          ],
          "colorbar": {
           "title": {
            "text": "Trial"
           },
           "x": 1,
           "xpad": 40
          },
          "colorscale": [
           [
            0,
            "rgb(247,251,255)"
           ],
           [
            0.125,
            "rgb(222,235,247)"
           ],
           [
            0.25,
            "rgb(198,219,239)"
           ],
           [
            0.375,
            "rgb(158,202,225)"
           ],
           [
            0.5,
            "rgb(107,174,214)"
           ],
           [
            0.625,
            "rgb(66,146,198)"
           ],
           [
            0.75,
            "rgb(33,113,181)"
           ],
           [
            0.875,
            "rgb(8,81,156)"
           ],
           [
            1,
            "rgb(8,48,107)"
           ]
          ],
          "line": {
           "color": "Grey",
           "width": 0.5
          },
          "showscale": false
         },
         "mode": "markers",
         "name": "Feasible Trial",
         "showlegend": false,
         "type": "scatter",
         "x": [
          1737,
          1980,
          1252,
          1360,
          1064,
          1088,
          1020,
          780,
          1124,
          1386,
          1560,
          1805,
          1665,
          1085,
          990,
          1965,
          1125,
          1963,
          869,
          1002,
          1301,
          1690,
          688,
          712,
          1362,
          503,
          2139,
          1524,
          1548,
          1482,
          1568,
          1550,
          1545,
          1798,
          1636,
          1634,
          1877,
          1632,
          1459,
          1236,
          1430,
          1628,
          1757,
          1773,
          1888,
          1856,
          2137,
          2050,
          1712,
          1463,
          1231,
          1459,
          1612,
          1300,
          1326,
          1860,
          1875,
          1916,
          1933,
          2042
         ],
         "xaxis": "x14",
         "y": [
          0.9333960566045505,
          0.932553679419905,
          0.9355306790906649,
          0.9308308002502311,
          0.9252587192900714,
          0.93195536340431,
          0.9299289865477606,
          0.9333599711444867,
          0.9308078912561987,
          0.9316940179914062,
          0.9388896091458069,
          0.9326457473631168,
          0.932618539223397,
          0.9230627047095542,
          0.9262814833140249,
          0.9311445090379443,
          0.9346023540975967,
          0.9356839970065479,
          0.9348685269665318,
          0.936451904207131,
          0.9267211449985894,
          0.9239077853842247,
          0.9288488332467951,
          0.9267461457409027,
          0.9232110200944141,
          0.9316257257834494,
          0.935536775510464,
          0.9372239903264289,
          0.937305591090236,
          0.9371095389908458,
          0.9378435372913835,
          0.9370656059823428,
          0.937543354577846,
          0.9356592166033814,
          0.9384968506171862,
          0.9381832666169618,
          0.937426522714469,
          0.9362515155787673,
          0.9389468325272233,
          0.9298430978134935,
          0.935449737138206,
          0.93876618657597,
          0.9383515626423569,
          0.9375744750007833,
          0.9392761711638616,
          0.9382586149369783,
          0.9363158979965753,
          0.9338262823475857,
          0.9322164470032119,
          0.9386954570746118,
          0.933795686418166,
          0.9367568768104222,
          0.9389606184402132,
          0.9396363671473547,
          0.9383627760887947,
          0.9405360493092945,
          0.9399296699365551,
          0.9396480522659607,
          0.9388458686535808,
          0.9395586601484285
         ],
         "yaxis": "y14"
        },
        {
         "marker": {
          "color": [
           0,
           1,
           2,
           3,
           4,
           5,
           6,
           7,
           8,
           9,
           10,
           11,
           12,
           13,
           14,
           15,
           16,
           17,
           18,
           19,
           20,
           21,
           22,
           23,
           24,
           25,
           26,
           27,
           28,
           29,
           30,
           31,
           32,
           33,
           34,
           35,
           36,
           37,
           38,
           39,
           40,
           41,
           42,
           43,
           44,
           45,
           46,
           47,
           48,
           49,
           50,
           51,
           52,
           53,
           54,
           55,
           56,
           57,
           58,
           59
          ],
          "colorbar": {
           "title": {
            "text": "Trial"
           },
           "x": 1,
           "xpad": 40
          },
          "colorscale": [
           [
            0,
            "rgb(247,251,255)"
           ],
           [
            0.125,
            "rgb(222,235,247)"
           ],
           [
            0.25,
            "rgb(198,219,239)"
           ],
           [
            0.375,
            "rgb(158,202,225)"
           ],
           [
            0.5,
            "rgb(107,174,214)"
           ],
           [
            0.625,
            "rgb(66,146,198)"
           ],
           [
            0.75,
            "rgb(33,113,181)"
           ],
           [
            0.875,
            "rgb(8,81,156)"
           ],
           [
            1,
            "rgb(8,48,107)"
           ]
          ],
          "line": {
           "color": "Grey",
           "width": 0.5
          },
          "showscale": false
         },
         "mode": "markers",
         "name": "Feasible Trial",
         "showlegend": false,
         "type": "scatter",
         "x": [
          26.29157771380609,
          41.920117235810814,
          25.766695646334774,
          42.32516657436609,
          47.81294957717391,
          37.20409755596174,
          3.5822215146159495,
          26.746429087243808,
          17.61632226539379,
          26.971328907322814,
          21.88266235984722,
          29.03964136505476,
          2.382211806682646,
          13.101766139039928,
          46.611112238251835,
          38.443876855763655,
          38.10617302475576,
          37.65876581168383,
          46.916303940861155,
          23.7445856158587,
          41.18338157682724,
          19.79751473534524,
          21.600891057500384,
          47.23629646261154,
          32.08319965262398,
          11.96838053806978,
          14.274283310824305,
          32.19493838606316,
          32.27497987511151,
          32.53143242946757,
          32.28534530286422,
          32.09901936860939,
          30.15656318213669,
          34.432627694987175,
          28.38045543447596,
          28.67645339429852,
          23.503483842561568,
          18.033184004360255,
          27.220327068692008,
          24.553420510458423,
          28.288265374708928,
          25.96221980521975,
          22.180681790431056,
          20.460042222952204,
          9.814235202238995,
          10.15449157898094,
          16.22631880379226,
          9.030838792412682,
          26.25237895028503,
          6.439602819814313,
          6.290553111174944,
          5.760473737095349,
          2.0569800708485078,
          2.420083173981167,
          1.2420800108462957,
          4.070876512790485,
          4.355705833254387,
          4.430974186520222,
          4.199867542575915,
          8.641129456060963
         ],
         "xaxis": "x15",
         "y": [
          0.9333960566045505,
          0.932553679419905,
          0.9355306790906649,
          0.9308308002502311,
          0.9252587192900714,
          0.93195536340431,
          0.9299289865477606,
          0.9333599711444867,
          0.9308078912561987,
          0.9316940179914062,
          0.9388896091458069,
          0.9326457473631168,
          0.932618539223397,
          0.9230627047095542,
          0.9262814833140249,
          0.9311445090379443,
          0.9346023540975967,
          0.9356839970065479,
          0.9348685269665318,
          0.936451904207131,
          0.9267211449985894,
          0.9239077853842247,
          0.9288488332467951,
          0.9267461457409027,
          0.9232110200944141,
          0.9316257257834494,
          0.935536775510464,
          0.9372239903264289,
          0.937305591090236,
          0.9371095389908458,
          0.9378435372913835,
          0.9370656059823428,
          0.937543354577846,
          0.9356592166033814,
          0.9384968506171862,
          0.9381832666169618,
          0.937426522714469,
          0.9362515155787673,
          0.9389468325272233,
          0.9298430978134935,
          0.935449737138206,
          0.93876618657597,
          0.9383515626423569,
          0.9375744750007833,
          0.9392761711638616,
          0.9382586149369783,
          0.9363158979965753,
          0.9338262823475857,
          0.9322164470032119,
          0.9386954570746118,
          0.933795686418166,
          0.9367568768104222,
          0.9389606184402132,
          0.9396363671473547,
          0.9383627760887947,
          0.9405360493092945,
          0.9399296699365551,
          0.9396480522659607,
          0.9388458686535808,
          0.9395586601484285
         ],
         "yaxis": "y15"
        }
       ],
       "layout": {
        "template": {
         "data": {
          "bar": [
           {
            "error_x": {
             "color": "#2a3f5f"
            },
            "error_y": {
             "color": "#2a3f5f"
            },
            "marker": {
             "line": {
              "color": "#E5ECF6",
              "width": 0.5
             },
             "pattern": {
              "fillmode": "overlay",
              "size": 10,
              "solidity": 0.2
             }
            },
            "type": "bar"
           }
          ],
          "barpolar": [
           {
            "marker": {
             "line": {
              "color": "#E5ECF6",
              "width": 0.5
             },
             "pattern": {
              "fillmode": "overlay",
              "size": 10,
              "solidity": 0.2
             }
            },
            "type": "barpolar"
           }
          ],
          "carpet": [
           {
            "aaxis": {
             "endlinecolor": "#2a3f5f",
             "gridcolor": "white",
             "linecolor": "white",
             "minorgridcolor": "white",
             "startlinecolor": "#2a3f5f"
            },
            "baxis": {
             "endlinecolor": "#2a3f5f",
             "gridcolor": "white",
             "linecolor": "white",
             "minorgridcolor": "white",
             "startlinecolor": "#2a3f5f"
            },
            "type": "carpet"
           }
          ],
          "choropleth": [
           {
            "colorbar": {
             "outlinewidth": 0,
             "ticks": ""
            },
            "type": "choropleth"
           }
          ],
          "contour": [
           {
            "colorbar": {
             "outlinewidth": 0,
             "ticks": ""
            },
            "colorscale": [
             [
              0,
              "#0d0887"
             ],
             [
              0.1111111111111111,
              "#46039f"
             ],
             [
              0.2222222222222222,
              "#7201a8"
             ],
             [
              0.3333333333333333,
              "#9c179e"
             ],
             [
              0.4444444444444444,
              "#bd3786"
             ],
             [
              0.5555555555555556,
              "#d8576b"
             ],
             [
              0.6666666666666666,
              "#ed7953"
             ],
             [
              0.7777777777777778,
              "#fb9f3a"
             ],
             [
              0.8888888888888888,
              "#fdca26"
             ],
             [
              1,
              "#f0f921"
             ]
            ],
            "type": "contour"
           }
          ],
          "contourcarpet": [
           {
            "colorbar": {
             "outlinewidth": 0,
             "ticks": ""
            },
            "type": "contourcarpet"
           }
          ],
          "heatmap": [
           {
            "colorbar": {
             "outlinewidth": 0,
             "ticks": ""
            },
            "colorscale": [
             [
              0,
              "#0d0887"
             ],
             [
              0.1111111111111111,
              "#46039f"
             ],
             [
              0.2222222222222222,
              "#7201a8"
             ],
             [
              0.3333333333333333,
              "#9c179e"
             ],
             [
              0.4444444444444444,
              "#bd3786"
             ],
             [
              0.5555555555555556,
              "#d8576b"
             ],
             [
              0.6666666666666666,
              "#ed7953"
             ],
             [
              0.7777777777777778,
              "#fb9f3a"
             ],
             [
              0.8888888888888888,
              "#fdca26"
             ],
             [
              1,
              "#f0f921"
             ]
            ],
            "type": "heatmap"
           }
          ],
          "heatmapgl": [
           {
            "colorbar": {
             "outlinewidth": 0,
             "ticks": ""
            },
            "colorscale": [
             [
              0,
              "#0d0887"
             ],
             [
              0.1111111111111111,
              "#46039f"
             ],
             [
              0.2222222222222222,
              "#7201a8"
             ],
             [
              0.3333333333333333,
              "#9c179e"
             ],
             [
              0.4444444444444444,
              "#bd3786"
             ],
             [
              0.5555555555555556,
              "#d8576b"
             ],
             [
              0.6666666666666666,
              "#ed7953"
             ],
             [
              0.7777777777777778,
              "#fb9f3a"
             ],
             [
              0.8888888888888888,
              "#fdca26"
             ],
             [
              1,
              "#f0f921"
             ]
            ],
            "type": "heatmapgl"
           }
          ],
          "histogram": [
           {
            "marker": {
             "pattern": {
              "fillmode": "overlay",
              "size": 10,
              "solidity": 0.2
             }
            },
            "type": "histogram"
           }
          ],
          "histogram2d": [
           {
            "colorbar": {
             "outlinewidth": 0,
             "ticks": ""
            },
            "colorscale": [
             [
              0,
              "#0d0887"
             ],
             [
              0.1111111111111111,
              "#46039f"
             ],
             [
              0.2222222222222222,
              "#7201a8"
             ],
             [
              0.3333333333333333,
              "#9c179e"
             ],
             [
              0.4444444444444444,
              "#bd3786"
             ],
             [
              0.5555555555555556,
              "#d8576b"
             ],
             [
              0.6666666666666666,
              "#ed7953"
             ],
             [
              0.7777777777777778,
              "#fb9f3a"
             ],
             [
              0.8888888888888888,
              "#fdca26"
             ],
             [
              1,
              "#f0f921"
             ]
            ],
            "type": "histogram2d"
           }
          ],
          "histogram2dcontour": [
           {
            "colorbar": {
             "outlinewidth": 0,
             "ticks": ""
            },
            "colorscale": [
             [
              0,
              "#0d0887"
             ],
             [
              0.1111111111111111,
              "#46039f"
             ],
             [
              0.2222222222222222,
              "#7201a8"
             ],
             [
              0.3333333333333333,
              "#9c179e"
             ],
             [
              0.4444444444444444,
              "#bd3786"
             ],
             [
              0.5555555555555556,
              "#d8576b"
             ],
             [
              0.6666666666666666,
              "#ed7953"
             ],
             [
              0.7777777777777778,
              "#fb9f3a"
             ],
             [
              0.8888888888888888,
              "#fdca26"
             ],
             [
              1,
              "#f0f921"
             ]
            ],
            "type": "histogram2dcontour"
           }
          ],
          "mesh3d": [
           {
            "colorbar": {
             "outlinewidth": 0,
             "ticks": ""
            },
            "type": "mesh3d"
           }
          ],
          "parcoords": [
           {
            "line": {
             "colorbar": {
              "outlinewidth": 0,
              "ticks": ""
             }
            },
            "type": "parcoords"
           }
          ],
          "pie": [
           {
            "automargin": true,
            "type": "pie"
           }
          ],
          "scatter": [
           {
            "fillpattern": {
             "fillmode": "overlay",
             "size": 10,
             "solidity": 0.2
            },
            "type": "scatter"
           }
          ],
          "scatter3d": [
           {
            "line": {
             "colorbar": {
              "outlinewidth": 0,
              "ticks": ""
             }
            },
            "marker": {
             "colorbar": {
              "outlinewidth": 0,
              "ticks": ""
             }
            },
            "type": "scatter3d"
           }
          ],
          "scattercarpet": [
           {
            "marker": {
             "colorbar": {
              "outlinewidth": 0,
              "ticks": ""
             }
            },
            "type": "scattercarpet"
           }
          ],
          "scattergeo": [
           {
            "marker": {
             "colorbar": {
              "outlinewidth": 0,
              "ticks": ""
             }
            },
            "type": "scattergeo"
           }
          ],
          "scattergl": [
           {
            "marker": {
             "colorbar": {
              "outlinewidth": 0,
              "ticks": ""
             }
            },
            "type": "scattergl"
           }
          ],
          "scattermapbox": [
           {
            "marker": {
             "colorbar": {
              "outlinewidth": 0,
              "ticks": ""
             }
            },
            "type": "scattermapbox"
           }
          ],
          "scatterpolar": [
           {
            "marker": {
             "colorbar": {
              "outlinewidth": 0,
              "ticks": ""
             }
            },
            "type": "scatterpolar"
           }
          ],
          "scatterpolargl": [
           {
            "marker": {
             "colorbar": {
              "outlinewidth": 0,
              "ticks": ""
             }
            },
            "type": "scatterpolargl"
           }
          ],
          "scatterternary": [
           {
            "marker": {
             "colorbar": {
              "outlinewidth": 0,
              "ticks": ""
             }
            },
            "type": "scatterternary"
           }
          ],
          "surface": [
           {
            "colorbar": {
             "outlinewidth": 0,
             "ticks": ""
            },
            "colorscale": [
             [
              0,
              "#0d0887"
             ],
             [
              0.1111111111111111,
              "#46039f"
             ],
             [
              0.2222222222222222,
              "#7201a8"
             ],
             [
              0.3333333333333333,
              "#9c179e"
             ],
             [
              0.4444444444444444,
              "#bd3786"
             ],
             [
              0.5555555555555556,
              "#d8576b"
             ],
             [
              0.6666666666666666,
              "#ed7953"
             ],
             [
              0.7777777777777778,
              "#fb9f3a"
             ],
             [
              0.8888888888888888,
              "#fdca26"
             ],
             [
              1,
              "#f0f921"
             ]
            ],
            "type": "surface"
           }
          ],
          "table": [
           {
            "cells": {
             "fill": {
              "color": "#EBF0F8"
             },
             "line": {
              "color": "white"
             }
            },
            "header": {
             "fill": {
              "color": "#C8D4E3"
             },
             "line": {
              "color": "white"
             }
            },
            "type": "table"
           }
          ]
         },
         "layout": {
          "annotationdefaults": {
           "arrowcolor": "#2a3f5f",
           "arrowhead": 0,
           "arrowwidth": 1
          },
          "autotypenumbers": "strict",
          "coloraxis": {
           "colorbar": {
            "outlinewidth": 0,
            "ticks": ""
           }
          },
          "colorscale": {
           "diverging": [
            [
             0,
             "#8e0152"
            ],
            [
             0.1,
             "#c51b7d"
            ],
            [
             0.2,
             "#de77ae"
            ],
            [
             0.3,
             "#f1b6da"
            ],
            [
             0.4,
             "#fde0ef"
            ],
            [
             0.5,
             "#f7f7f7"
            ],
            [
             0.6,
             "#e6f5d0"
            ],
            [
             0.7,
             "#b8e186"
            ],
            [
             0.8,
             "#7fbc41"
            ],
            [
             0.9,
             "#4d9221"
            ],
            [
             1,
             "#276419"
            ]
           ],
           "sequential": [
            [
             0,
             "#0d0887"
            ],
            [
             0.1111111111111111,
             "#46039f"
            ],
            [
             0.2222222222222222,
             "#7201a8"
            ],
            [
             0.3333333333333333,
             "#9c179e"
            ],
            [
             0.4444444444444444,
             "#bd3786"
            ],
            [
             0.5555555555555556,
             "#d8576b"
            ],
            [
             0.6666666666666666,
             "#ed7953"
            ],
            [
             0.7777777777777778,
             "#fb9f3a"
            ],
            [
             0.8888888888888888,
             "#fdca26"
            ],
            [
             1,
             "#f0f921"
            ]
           ],
           "sequentialminus": [
            [
             0,
             "#0d0887"
            ],
            [
             0.1111111111111111,
             "#46039f"
            ],
            [
             0.2222222222222222,
             "#7201a8"
            ],
            [
             0.3333333333333333,
             "#9c179e"
            ],
            [
             0.4444444444444444,
             "#bd3786"
            ],
            [
             0.5555555555555556,
             "#d8576b"
            ],
            [
             0.6666666666666666,
             "#ed7953"
            ],
            [
             0.7777777777777778,
             "#fb9f3a"
            ],
            [
             0.8888888888888888,
             "#fdca26"
            ],
            [
             1,
             "#f0f921"
            ]
           ]
          },
          "colorway": [
           "#636efa",
           "#EF553B",
           "#00cc96",
           "#ab63fa",
           "#FFA15A",
           "#19d3f3",
           "#FF6692",
           "#B6E880",
           "#FF97FF",
           "#FECB52"
          ],
          "font": {
           "color": "#2a3f5f"
          },
          "geo": {
           "bgcolor": "white",
           "lakecolor": "white",
           "landcolor": "#E5ECF6",
           "showlakes": true,
           "showland": true,
           "subunitcolor": "white"
          },
          "hoverlabel": {
           "align": "left"
          },
          "hovermode": "closest",
          "mapbox": {
           "style": "light"
          },
          "paper_bgcolor": "white",
          "plot_bgcolor": "#E5ECF6",
          "polar": {
           "angularaxis": {
            "gridcolor": "white",
            "linecolor": "white",
            "ticks": ""
           },
           "bgcolor": "#E5ECF6",
           "radialaxis": {
            "gridcolor": "white",
            "linecolor": "white",
            "ticks": ""
           }
          },
          "scene": {
           "xaxis": {
            "backgroundcolor": "#E5ECF6",
            "gridcolor": "white",
            "gridwidth": 2,
            "linecolor": "white",
            "showbackground": true,
            "ticks": "",
            "zerolinecolor": "white"
           },
           "yaxis": {
            "backgroundcolor": "#E5ECF6",
            "gridcolor": "white",
            "gridwidth": 2,
            "linecolor": "white",
            "showbackground": true,
            "ticks": "",
            "zerolinecolor": "white"
           },
           "zaxis": {
            "backgroundcolor": "#E5ECF6",
            "gridcolor": "white",
            "gridwidth": 2,
            "linecolor": "white",
            "showbackground": true,
            "ticks": "",
            "zerolinecolor": "white"
           }
          },
          "shapedefaults": {
           "line": {
            "color": "#2a3f5f"
           }
          },
          "ternary": {
           "aaxis": {
            "gridcolor": "white",
            "linecolor": "white",
            "ticks": ""
           },
           "baxis": {
            "gridcolor": "white",
            "linecolor": "white",
            "ticks": ""
           },
           "bgcolor": "#E5ECF6",
           "caxis": {
            "gridcolor": "white",
            "linecolor": "white",
            "ticks": ""
           }
          },
          "title": {
           "x": 0.05
          },
          "xaxis": {
           "automargin": true,
           "gridcolor": "white",
           "linecolor": "white",
           "ticks": "",
           "title": {
            "standoff": 15
           },
           "zerolinecolor": "white",
           "zerolinewidth": 2
          },
          "yaxis": {
           "automargin": true,
           "gridcolor": "white",
           "linecolor": "white",
           "ticks": "",
           "title": {
            "standoff": 15
           },
           "zerolinecolor": "white",
           "zerolinewidth": 2
          }
         }
        },
        "title": {
         "text": "Slice Plot"
        },
        "width": 4500,
        "xaxis": {
         "anchor": "y",
         "domain": [
          0,
          0.05422222222222222
         ],
         "title": {
          "text": "bagging_fraction"
         }
        },
        "xaxis10": {
         "anchor": "y10",
         "domain": [
          0.608,
          0.6622222222222222
         ],
         "title": {
          "text": "min_data_in_leaf"
         }
        },
        "xaxis11": {
         "anchor": "y11",
         "domain": [
          0.6755555555555555,
          0.7297777777777776
         ],
         "title": {
          "text": "min_gain_to_split"
         }
        },
        "xaxis12": {
         "anchor": "y12",
         "domain": [
          0.7431111111111111,
          0.7973333333333332
         ],
         "title": {
          "text": "min_sum_hessian_in_leaf"
         }
        },
        "xaxis13": {
         "anchor": "y13",
         "domain": [
          0.8106666666666666,
          0.8648888888888888
         ],
         "title": {
          "text": "num_iterations"
         }
        },
        "xaxis14": {
         "anchor": "y14",
         "domain": [
          0.8782222222222222,
          0.9324444444444444
         ],
         "title": {
          "text": "num_leaves"
         }
        },
        "xaxis15": {
         "anchor": "y15",
         "domain": [
          0.9457777777777777,
          0.9999999999999999
         ],
         "title": {
          "text": "scale_pos_weight"
         }
        },
        "xaxis2": {
         "anchor": "y2",
         "domain": [
          0.06755555555555555,
          0.12177777777777776
         ],
         "title": {
          "text": "bagging_freq"
         }
        },
        "xaxis3": {
         "anchor": "y3",
         "categoryarray": [
          "gbdt",
          "dart"
         ],
         "categoryorder": "array",
         "domain": [
          0.1351111111111111,
          0.18933333333333333
         ],
         "title": {
          "text": "boosting_type"
         },
         "type": "category"
        },
        "xaxis4": {
         "anchor": "y4",
         "domain": [
          0.20266666666666666,
          0.2568888888888889
         ],
         "title": {
          "text": "feature_fraction"
         }
        },
        "xaxis5": {
         "anchor": "y5",
         "domain": [
          0.2702222222222222,
          0.3244444444444444
         ],
         "title": {
          "text": "lambda_l1"
         }
        },
        "xaxis6": {
         "anchor": "y6",
         "domain": [
          0.33777777777777773,
          0.39199999999999996
         ],
         "title": {
          "text": "lambda_l2"
         }
        },
        "xaxis7": {
         "anchor": "y7",
         "domain": [
          0.4053333333333333,
          0.45955555555555555
         ],
         "title": {
          "text": "learning_rate"
         }
        },
        "xaxis8": {
         "anchor": "y8",
         "domain": [
          0.47288888888888886,
          0.5271111111111111
         ],
         "title": {
          "text": "max_bin"
         }
        },
        "xaxis9": {
         "anchor": "y9",
         "domain": [
          0.5404444444444444,
          0.5946666666666666
         ],
         "title": {
          "text": "max_depth"
         }
        },
        "yaxis": {
         "anchor": "x",
         "domain": [
          0,
          1
         ],
         "title": {
          "text": "Objective Value"
         }
        },
        "yaxis10": {
         "anchor": "x10",
         "domain": [
          0,
          1
         ],
         "matches": "y",
         "showticklabels": false
        },
        "yaxis11": {
         "anchor": "x11",
         "domain": [
          0,
          1
         ],
         "matches": "y",
         "showticklabels": false
        },
        "yaxis12": {
         "anchor": "x12",
         "domain": [
          0,
          1
         ],
         "matches": "y",
         "showticklabels": false
        },
        "yaxis13": {
         "anchor": "x13",
         "domain": [
          0,
          1
         ],
         "matches": "y",
         "showticklabels": false
        },
        "yaxis14": {
         "anchor": "x14",
         "domain": [
          0,
          1
         ],
         "matches": "y",
         "showticklabels": false
        },
        "yaxis15": {
         "anchor": "x15",
         "domain": [
          0,
          1
         ],
         "matches": "y",
         "showticklabels": false
        },
        "yaxis2": {
         "anchor": "x2",
         "domain": [
          0,
          1
         ],
         "matches": "y",
         "showticklabels": false
        },
        "yaxis3": {
         "anchor": "x3",
         "domain": [
          0,
          1
         ],
         "matches": "y",
         "showticklabels": false
        },
        "yaxis4": {
         "anchor": "x4",
         "domain": [
          0,
          1
         ],
         "matches": "y",
         "showticklabels": false
        },
        "yaxis5": {
         "anchor": "x5",
         "domain": [
          0,
          1
         ],
         "matches": "y",
         "showticklabels": false
        },
        "yaxis6": {
         "anchor": "x6",
         "domain": [
          0,
          1
         ],
         "matches": "y",
         "showticklabels": false
        },
        "yaxis7": {
         "anchor": "x7",
         "domain": [
          0,
          1
         ],
         "matches": "y",
         "showticklabels": false
        },
        "yaxis8": {
         "anchor": "x8",
         "domain": [
          0,
          1
         ],
         "matches": "y",
         "showticklabels": false
        },
        "yaxis9": {
         "anchor": "x9",
         "domain": [
          0,
          1
         ],
         "matches": "y",
         "showticklabels": false
        }
       }
      }
     },
     "metadata": {},
     "output_type": "display_data"
    }
   ],
   "source": [
    "from optuna.visualization import plot_optimization_history, plot_param_importances, plot_parallel_coordinate, plot_slice\n",
    "\n",
    "# 1️⃣ Historial de optimización (objetivo vs trial)\n",
    "fig1 = plot_optimization_history(study)\n",
    "fig1.show()\n",
    "\n",
    "# 2️⃣ Importancia de cada hiperparámetro\n",
    "fig2 = plot_param_importances(study)\n",
    "fig2.show()\n",
    "\n",
    "# 3️⃣ Coordenadas paralelas: cada línea es un trial\n",
    "fig3 = plot_parallel_coordinate(study)\n",
    "fig3.show()\n",
    "\n",
    "# 4️⃣ Slice plot: distribuciones de score vs valor de cada hiperparámetro\n",
    "fig4 = plot_slice(study)\n",
    "fig4.show()"
   ]
  },
  {
   "cell_type": "markdown",
   "id": "63613d9c",
   "metadata": {},
   "source": [
    "#### Entreno con los meses 01,02 y 03 y testeo 04 y analizo, para cada semilla, la ganancia en función de la cantidad de envíos."
   ]
  },
  {
   "cell_type": "code",
   "execution_count": 37,
   "id": "d39491f2",
   "metadata": {},
   "outputs": [
    {
     "name": "stdout",
     "output_type": "stream",
     "text": [
      "Entrenando modelo con seed = 878787 (evaluación 202104)\n",
      "Entrenando modelo con seed = 131213 (evaluación 202104)\n",
      "Entrenando modelo con seed = 999199 (evaluación 202104)\n",
      "Entrenando modelo con seed = 611033 (evaluación 202104)\n",
      "Entrenando modelo con seed = 100129 (evaluación 202104)\n",
      "Entrenando modelo con seed = 278787 (evaluación 202104)\n",
      "Entrenando modelo con seed = 991999 (evaluación 202104)\n",
      "Entrenando modelo con seed = 378399 (evaluación 202104)\n",
      "\n",
      "Seed 878787 (envíos 6000-19000):\n",
      "Total ganancia: -31220000\n",
      "Público (BAJA+2): 223080000\n",
      "Privado (otros): -254300000\n",
      "\n",
      "Seed 131213 (envíos 6000-19000):\n",
      "Total ganancia: -40020000\n",
      "Público (BAJA+2): 214500000\n",
      "Privado (otros): -254520000\n",
      "\n",
      "Seed 999199 (envíos 6000-19000):\n",
      "Total ganancia: -31220000\n",
      "Público (BAJA+2): 223080000\n",
      "Privado (otros): -254300000\n",
      "\n",
      "Seed 611033 (envíos 6000-19000):\n",
      "Total ganancia: -25620000\n",
      "Público (BAJA+2): 228540000\n",
      "Privado (otros): -254160000\n",
      "\n",
      "Seed 100129 (envíos 6000-19000):\n",
      "Total ganancia: -40020000\n",
      "Público (BAJA+2): 214500000\n",
      "Privado (otros): -254520000\n",
      "\n",
      "Seed 278787 (envíos 6000-19000):\n",
      "Total ganancia: -32820000\n",
      "Público (BAJA+2): 221520000\n",
      "Privado (otros): -254340000\n",
      "\n",
      "Seed 991999 (envíos 6000-19000):\n",
      "Total ganancia: -34420000\n",
      "Público (BAJA+2): 219960000\n",
      "Privado (otros): -254380000\n",
      "\n",
      "Seed 378399 (envíos 6000-19000):\n",
      "Total ganancia: -41620000\n",
      "Público (BAJA+2): 212940000\n",
      "Privado (otros): -254560000\n",
      "\n",
      "Ensemble promedio (envíos 6000-19000):\n",
      "Total ganancia: -36020000\n",
      "Público (BAJA+2): 218400000\n",
      "Privado (otros): -254420000\n"
     ]
    },
    {
     "data": {
      "image/png": "[encoded data removed]",
      "text/plain": [
       "<Figure size 1200x700 with 1 Axes>"
      ]
     },
     "metadata": {},
     "output_type": "display_data"
    }
   ],
   "source": [
    "import matplotlib.pyplot as plt\n",
    "import copy\n",
    "\n",
    "SEEDS = [878787, 131213, 999199, 611033, 100129,278787,991999,378399]\n",
    "MAX_ENVIOS = 40000  # límite de envíos\n",
    "RANGO_ENV = (6000, 19000)  # rango que queremos visualizar\n",
    "\n",
    "# --------------------------\n",
    "# 1️⃣ Preparar datasets\n",
    "# --------------------------\n",
    "dataset_train_eval = df[df[\"foto_mes\"].isin([202101, 202102, 202103])].copy()\n",
    "X_train_eval = dataset_train_eval[campos_buenos].apply(pd.to_numeric, errors=\"coerce\").fillna(0)\n",
    "y_train_eval = np.where(dataset_train_eval[\"clase_ternaria\"].isin([\"BAJA+1\",\"BAJA+2\"]), 1, 0)\n",
    "\n",
    "dataset_test_eval = df[df[\"foto_mes\"] == 202104].copy()\n",
    "X_test_eval = dataset_test_eval[campos_buenos].apply(pd.to_numeric, errors=\"coerce\").fillna(0)\n",
    "\n",
    "# --------------------------\n",
    "# 2️⃣ Preparar parámetros finales\n",
    "# --------------------------\n",
    "param_final = PARAM[\"lgbm\"][\"param_fijos\"].copy()\n",
    "param_final.update(PARAM[\"out\"][\"lgbm\"][\"mejores_hiperparametros\"])\n",
    "param_normalizado = copy.deepcopy(param_final)\n",
    "param_normalizado[\"min_data_in_leaf\"] = int(round(\n",
    "    param_final[\"min_data_in_leaf\"] / PARAM[\"trainingstrategy\"][\"undersampling\"]\n",
    "))\n",
    "\n",
    "# --------------------------\n",
    "# 3️⃣ Entrenamiento ensemble\n",
    "# --------------------------\n",
    "modelos_eval = []\n",
    "preds_ensemble_eval = np.zeros(len(dataset_test_eval))\n",
    "\n",
    "for seed in SEEDS:\n",
    "    params_seed = copy.deepcopy(param_normalizado)\n",
    "    params_seed[\"seed\"] = seed\n",
    "\n",
    "    print(f\"Entrenando modelo con seed = {seed} (evaluación 202104)\")\n",
    "    model = lgb.train(params_seed, lgb.Dataset(X_train_eval, label=y_train_eval))\n",
    "    modelos_eval.append(model)\n",
    "\n",
    "    preds_ensemble_eval += model.predict(X_test_eval) / len(SEEDS)\n",
    "\n",
    "dataset_test_eval[\"prob_mean\"] = preds_ensemble_eval\n",
    "\n",
    "# --------------------------\n",
    "# 4️⃣ Curva de ganancia por semilla y ensemble (rango limitado)\n",
    "# --------------------------\n",
    "plt.figure(figsize=(12,7))\n",
    "\n",
    "for i, model in enumerate(modelos_eval):\n",
    "    preds = model.predict(X_test_eval)\n",
    "    df_pred = dataset_test_eval[[\"numero_de_cliente\", \"clase_ternaria\"]].copy()\n",
    "    df_pred[\"pred\"] = preds\n",
    "    df_pred = df_pred.sort_values(\"pred\", ascending=False).reset_index(drop=True)\n",
    "    \n",
    "    # limitar envíos al máximo\n",
    "    df_pred = df_pred.iloc[:MAX_ENVIOS]  \n",
    "\n",
    "    df_pred[\"ganancia\"] = np.where(df_pred[\"clase_ternaria\"]==\"BAJA+2\", 780000, -20000)\n",
    "    df_pred[\"ganancia_acum\"] = df_pred[\"ganancia\"].cumsum()\n",
    "\n",
    "    # seleccionar solo el rango deseado\n",
    "    df_rango = df_pred.iloc[RANGO_ENV[0]-1:RANGO_ENV[1]]  # indices 0-based\n",
    "\n",
    "    # print del total y por clase\n",
    "    total_ganancia = df_rango[\"ganancia\"].sum()\n",
    "    publico_ganancia = df_rango[df_rango[\"clase_ternaria\"]==\"BAJA+2\"][\"ganancia\"].sum()\n",
    "    privado_ganancia = df_rango[df_rango[\"clase_ternaria\"]!=\"BAJA+2\"][\"ganancia\"].sum()\n",
    "\n",
    "    print(f\"\\nSeed {SEEDS[i]} (envíos {RANGO_ENV[0]}-{RANGO_ENV[1]}):\")\n",
    "    print(f\"Total ganancia: {total_ganancia}\")\n",
    "    print(f\"Público (BAJA+2): {publico_ganancia}\")\n",
    "    print(f\"Privado (otros): {privado_ganancia}\")\n",
    "\n",
    "    plt.plot(np.arange(RANGO_ENV[0], RANGO_ENV[1]+1), df_rango[\"ganancia_acum\"], label=f\"Seed {SEEDS[i]}\")\n",
    "\n",
    "# Ensemble promedio\n",
    "df_ensemble = dataset_test_eval.copy()\n",
    "preds_ensemble = np.zeros(len(df_ensemble))\n",
    "for model in modelos_eval:\n",
    "    preds_ensemble += model.predict(X_test_eval) / len(modelos_eval)\n",
    "df_ensemble[\"prob_mean\"] = preds_ensemble\n",
    "\n",
    "df_ensemble = df_ensemble.sort_values(\"prob_mean\", ascending=False).reset_index(drop=True)\n",
    "df_ensemble = df_ensemble.iloc[:MAX_ENVIOS]\n",
    "df_ensemble[\"ganancia\"] = np.where(df_ensemble[\"clase_ternaria\"]==\"BAJA+2\", 780000, -20000)\n",
    "df_ensemble[\"ganancia_acum\"] = df_ensemble[\"ganancia\"].cumsum()\n",
    "\n",
    "df_ensemble_rango = df_ensemble.iloc[RANGO_ENV[0]-1:RANGO_ENV[1]]\n",
    "total_ganancia = df_ensemble_rango[\"ganancia\"].sum()\n",
    "publico_ganancia = df_ensemble_rango[df_ensemble_rango[\"clase_ternaria\"]==\"BAJA+2\"][\"ganancia\"].sum()\n",
    "privado_ganancia = df_ensemble_rango[df_ensemble_rango[\"clase_ternaria\"]!=\"BAJA+2\"][\"ganancia\"].sum()\n",
    "\n",
    "print(\"\\nEnsemble promedio (envíos 6000-19000):\")\n",
    "print(f\"Total ganancia: {total_ganancia}\")\n",
    "print(f\"Público (BAJA+2): {publico_ganancia}\")\n",
    "print(f\"Privado (otros): {privado_ganancia}\")\n",
    "\n",
    "plt.plot(np.arange(RANGO_ENV[0], RANGO_ENV[1]+1), df_ensemble_rango[\"ganancia_acum\"],\n",
    "         color=\"black\", linewidth=2, label=\"Ensemble promedio\")\n",
    "\n",
    "plt.xlabel(\"Número de envíos\")\n",
    "plt.ylabel(\"Ganancia acumulada\")\n",
    "plt.title(f\"Curva de ganancia acumulada por semilla (202104) - envíos {RANGO_ENV[0]}-{RANGO_ENV[1]}\")\n",
    "plt.legend()\n",
    "plt.grid(True)\n",
    "plt.show()\n"
   ]
  },
  {
   "cell_type": "markdown",
   "id": "4acfbe02",
   "metadata": {},
   "source": [
    "#### Genero el Feature Importance"
   ]
  },
  {
   "cell_type": "code",
   "execution_count": 38,
   "id": "d05e665a",
   "metadata": {},
   "outputs": [
    {
     "name": "stdout",
     "output_type": "stream",
     "text": [
      "                   Feature     Importance\n",
      "189           ctrx_quarter  343417.982775\n",
      "270         mcuentas_saldo   77251.455052\n",
      "153           cliente_edad   54713.698584\n",
      "308  mprestamos_personales   54259.311407\n",
      "367      numero_de_cliente   42518.147589\n"
     ]
    }
   ],
   "source": [
    "# 1️⃣ Obtener importancia promedio de variables\n",
    "importancias = [m.feature_importance(importance_type=\"gain\") for m in modelos_eval]\n",
    "tb_importancia = np.mean(importancias, axis=0)  # promedio entre las 5 seeds\n",
    "\n",
    "nombres_columnas = dataset_train_eval[campos_buenos].columns\n",
    "df_importancia = pd.DataFrame({\n",
    "    \"Feature\": nombres_columnas,\n",
    "    \"Importance\": tb_importancia\n",
    "}).sort_values(by=\"Importance\", ascending=False)\n",
    "\n",
    "# 2️⃣ Guardar a archivo\n",
    "archivo_importancia = \"impo_nuevo_n_7k_featExt.txt\"\n",
    "df_importancia.to_csv(archivo_importancia, sep=\"\\t\", index=False)\n",
    "\n",
    "# 3️⃣ Mostrar las primeras filas\n",
    "print(df_importancia.head())\n"
   ]
  },
  {
   "cell_type": "markdown",
   "id": "1373f790",
   "metadata": {},
   "source": [
    "#### Armo el dataframe para predecir 202106 y aplico el modelo para las distintas semillas y luego ensamblo los modelos."
   ]
  },
  {
   "cell_type": "code",
   "execution_count": 39,
   "id": "925991bd",
   "metadata": {},
   "outputs": [],
   "source": [
    "# --------------------------\n",
    "# 1️⃣ Preparar dataset de entrenamiento completo (202101-202104)\n",
    "# --------------------------\n",
    "dataset_train_final = df[df[\"foto_mes\"].isin([202101, 202102, 202103, 202104])].copy()\n",
    "X_train_final = dataset_train_final[campos_buenos].apply(pd.to_numeric, errors=\"coerce\").fillna(0)\n",
    "y_train_final = np.where(dataset_train_final[\"clase_ternaria\"].isin([\"BAJA+1\",\"BAJA+2\"]), 1, 0)\n",
    "\n",
    "# Dataset futuro 202106\n",
    "df_future_final = df[df[\"foto_mes\"] == 202106].copy()\n",
    "X_future_final = df_future_final[campos_buenos]  # sin fillna ni convertir a float32\n",
    "# si hay categóricas, convertir igual que en X_train_final:\n",
    "for col in X_future_final.select_dtypes(include=['object']).columns:\n",
    "    X_future_final[col] = X_future_final[col].astype('category').cat.codes\n",
    "\n",
    "# Predicciones ensemble\n",
    "preds_ensemble_final = np.zeros(len(df_future_final))\n",
    "\n"
   ]
  },
  {
   "cell_type": "code",
   "execution_count": 40,
   "id": "d6654a94",
   "metadata": {},
   "outputs": [],
   "source": [
    "SEEDS = [878787, 131213, 999199, 611033, 100129,278787,991999,378399]\n",
    "MAX_ENVIOS = 40000  # límite de envíos\n",
    "RANGO_ENV = (6000, 19000)  # rango que queremos visualizar\n",
    "import copy\n",
    "param_final = PARAM[\"lgbm\"][\"param_fijos\"].copy()\n",
    "param_final.update(PARAM[\"out\"][\"lgbm\"][\"mejores_hiperparametros\"])\n",
    "param_normalizado = copy.deepcopy(param_final)\n",
    "param_normalizado[\"min_data_in_leaf\"] = int(round(\n",
    "    param_final[\"min_data_in_leaf\"] / PARAM[\"trainingstrategy\"][\"undersampling\"]\n",
    "))\n",
    "\n",
    "for seed in SEEDS:\n",
    "    params_seed = copy.deepcopy(param_normalizado)\n",
    "    params_seed[\"seed\"] = seed\n",
    "    model = lgb.train(params_seed, lgb.Dataset(X_train_final, label=y_train_final))\n",
    "    preds_ensemble_final += model.predict(X_future_final) / len(SEEDS)\n",
    "\n",
    "# Guardar en DataFrame\n",
    "tb_prediccion_final = df_future_final[[\"numero_de_cliente\"]].copy()\n",
    "tb_prediccion_final[\"Predicted_prob\"] = preds_ensemble_final\n",
    "\n",
    "# ⚠️ Ordenar por probabilidad descendente\n",
    "tb_prediccion_final = tb_prediccion_final.sort_values(by=\"Predicted_prob\", ascending=False).reset_index(drop=True)\n",
    "\n",
    "import os\n",
    "os.makedirs(\"kaggle\", exist_ok=True)\n",
    "\n",
    "for envios in PARAM[\"cortes\"]:\n",
    "    tb_prediccion_final[\"Predicted\"] = 0\n",
    "    tb_prediccion_final.loc[:envios-1, \"Predicted\"] = 1\n",
    "    archivo_kaggle = f\"./kaggle/KA{PARAM['experimento']}_{envios}.csv\"\n",
    "    tb_prediccion_final[[\"numero_de_cliente\", \"Predicted\"]].to_csv(archivo_kaggle, index=False, sep=\",\")\n"
   ]
  },
  {
   "cell_type": "markdown",
   "id": "251ad80c",
   "metadata": {},
   "source": [
    "##### --- aca termina ---"
   ]
  }
 ],
 "metadata": {
  "kernelspec": {
   "display_name": "Python 3 (ipykernel)",
   "language": "python",
   "name": "python3"
  },
  "language_info": {
   "codemirror_mode": {
    "name": "ipython",
    "version": 3
   },
   "file_extension": ".py",
   "mimetype": "text/x-python",
   "name": "python",
   "nbconvert_exporter": "python",
   "pygments_lexer": "ipython3",
   "version": "3.9.13"
  }
 },
 "nbformat": 4,
 "nbformat_minor": 5
}
