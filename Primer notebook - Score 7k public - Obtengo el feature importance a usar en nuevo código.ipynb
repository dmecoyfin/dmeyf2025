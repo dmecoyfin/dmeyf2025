{
 "cells": [
  {
   "cell_type": "markdown",
   "id": "f51305eb",
   "metadata": {},
   "source": [
    "### Este código consiste en la creación de nuevas features del dataset original sin quitar ninguna existente. Una vez se obtenga el modelo se predecirá junio y se usará el feature importance para reducir el dataset en una nueva notebook"
   ]
  },
  {
   "cell_type": "code",
   "execution_count": 1,
   "id": "665b38c2",
   "metadata": {},
   "outputs": [],
   "source": [
    "# Import liberías\n",
    "import pandas as pd\n",
    "import numpy as np\n",
    "from sklearn.metrics import roc_auc_score\n"
   ]
  },
  {
   "cell_type": "code",
   "execution_count": 2,
   "id": "4d0b57d8",
   "metadata": {},
   "outputs": [],
   "source": [
    "#leo el csv\n",
    "df = pd.read_csv('C:/Users/Lucas/Downloads/Maestria/EyF/competencia_01_crudo.csv')"
   ]
  },
  {
   "cell_type": "code",
   "execution_count": 3,
   "id": "c789403e",
   "metadata": {},
   "outputs": [],
   "source": [
    "\n",
    "# calculo el periodo0 consecutivo\n",
    "dsimple = df.copy()\n",
    "dsimple[\"pos\"] = range(1, len(dsimple) + 1)\n",
    "dsimple[\"periodo0\"] = (dsimple[\"foto_mes\"] // 100) * 12 + (dsimple[\"foto_mes\"] % 100)\n",
    "\n",
    "# ordeno\n",
    "dsimple = dsimple.sort_values(by=[\"numero_de_cliente\", \"periodo0\"])\n",
    "\n",
    "# calculo topes\n",
    "periodo_ultimo = dsimple[\"periodo0\"].max()\n",
    "periodo_anteultimo = periodo_ultimo - 1\n",
    "\n",
    "# calculo los leads de orden 1 y 2 (shift con signo negativo equivale a lead en R)\n",
    "dsimple[\"periodo1\"] = dsimple.groupby(\"numero_de_cliente\")[\"periodo0\"].shift(-1)\n",
    "dsimple[\"periodo2\"] = dsimple.groupby(\"numero_de_cliente\")[\"periodo0\"].shift(-2)\n",
    "\n",
    "# asigno valores por defecto\n",
    "dsimple[\"clase_ternaria\"] = None\n",
    "dsimple.loc[dsimple[\"periodo0\"] < periodo_anteultimo, \"clase_ternaria\"] = \"CONTINUA\"\n",
    "\n",
    "# calculo BAJA+1\n",
    "cond_baja1 = (\n",
    "    (dsimple[\"periodo0\"] < periodo_ultimo)\n",
    "    & (dsimple[\"periodo1\"].isna() | (dsimple[\"periodo0\"] + 1 < dsimple[\"periodo1\"]))\n",
    ")\n",
    "dsimple.loc[cond_baja1, \"clase_ternaria\"] = \"BAJA+1\"\n",
    "\n",
    "# calculo BAJA+2\n",
    "cond_baja2 = (\n",
    "    (dsimple[\"periodo0\"] < periodo_anteultimo)\n",
    "    & (dsimple[\"periodo0\"] + 1 == dsimple[\"periodo1\"])\n",
    "    & (dsimple[\"periodo2\"].isna() | (dsimple[\"periodo0\"] + 2 < dsimple[\"periodo2\"]))\n",
    ")\n",
    "dsimple.loc[cond_baja2, \"clase_ternaria\"] = \"BAJA+2\"\n",
    "\n",
    "# vuelvo a ordenar por pos y pego al dataset original\n",
    "dsimple = dsimple.sort_values(by=\"pos\")\n",
    "df[\"clase_ternaria\"] = dsimple[\"clase_ternaria\"].values"
   ]
  },
  {
   "cell_type": "code",
   "execution_count": 4,
   "id": "2ee914eb",
   "metadata": {},
   "outputs": [],
   "source": [
    "# ordeno\n",
    "df = df.sort_values(by=[\"foto_mes\", \"clase_ternaria\", \"numero_de_cliente\"])\n",
    "\n",
    "# contar registros por foto_mes y clase_ternaria\n",
    "conteos = df.groupby([\"foto_mes\", \"clase_ternaria\"]).size().reset_index(name=\"N\")\n",
    "\n",
    "# parámetros\n",
    "\n",
    "PARAM = {\n",
    "    \"experimento\": 4940,\n",
    "    \"semilla_primigenia\": [878787],\n",
    "    \"train\": [202101,202102, 202103],\n",
    "    \"train_final\": [202101, 202102, 202103,202104],\n",
    "    \"future\": [202106],\n",
    "    \"semilla_kaggle\": 314159,\n",
    "    \"cortes\": list(range(6000, 19001, 500)),\n",
    "    \"trainingstrategy\": {\n",
    "        \"undersampling\": 0.2\n",
    "    }\n",
    "}\n",
    "\n",
    "\n"
   ]
  },
  {
   "cell_type": "code",
   "execution_count": 5,
   "id": "167551ad",
   "metadata": {},
   "outputs": [],
   "source": [
    "import lightgbm as lgb\n",
    "\n",
    "#Defino los hiperparámetros fijos y aquellos que voy a optimizar\n",
    "\n",
    "# cross validation folds\n",
    "PARAM[\"hyperparametertuning\"] = {}\n",
    "PARAM[\"hyperparametertuning\"][\"xval_folds\"] = 5\n",
    "\n",
    "\n",
    "\n",
    "# parámetros fijos de LightGBM\n",
    "PARAM[\"lgbm\"] = {}\n",
    "PARAM[\"lgbm\"][\"param_fijos\"] = {\n",
    "    \"boosting_type\": \"gbdt\",  # en python el nombre es boosting_type\n",
    "    \"objective\": \"binary\",\n",
    "    \"metric\": \"auc\",\n",
    "    \"first_metric_only\": False,\n",
    "    \"boost_from_average\": True,\n",
    "    \"feature_pre_filter\": False,\n",
    "    \"force_row_wise\": True,\n",
    "    \"verbosity\": -100,\n",
    "\n",
    "    \"seed\": PARAM[\"semilla_primigenia\"],\n",
    "\n",
    "    \"max_depth\": -1,\n",
    "    \"min_gain_to_split\": 0.0,\n",
    "    \"min_sum_hessian_in_leaf\": 0.001,\n",
    "    \"lambda_l1\": 0.0,\n",
    "    \"lambda_l2\": 0.0,\n",
    "    \"max_bin\": 31,\n",
    "\n",
    "    \"bagging_fraction\": 1.0,\n",
    "    \"pos_bagging_fraction\": 1.0,\n",
    "    \"neg_bagging_fraction\": 1.0,\n",
    "    \"is_unbalance\": False,\n",
    "    \"scale_pos_weight\": 1.0,\n",
    "\n",
    "    \"drop_rate\": 0.1,\n",
    "    \"max_drop\": 50,\n",
    "    \"skip_drop\": 0.5,\n",
    "\n",
    "    \"extra_trees\": False,\n",
    "\n",
    "    \"num_iterations\": 1200,\n",
    "    \"learning_rate\": 0.02,\n",
    "    \"feature_fraction\": 0.5,\n",
    "    \"num_leaves\": 750,\n",
    "    \"min_data_in_leaf\": 5000,\n",
    "}\n",
    "\n",
    "# rango de hiperparámetros \n",
    "PARAM[\"hyperparametertuning\"][\"hs\"] = {\n",
    "    # hiperparámetros clásicos\n",
    "    \"num_iterations\": {\"type\": \"int\", \"low\": 500, \"high\": 2300},\n",
    "    \"learning_rate\": {\"type\": \"float\", \"low\": 0.01, \"high\": 0.3},\n",
    "    \"feature_fraction\": {\"type\": \"float\", \"low\": 0.4, \"high\": 1.0},\n",
    "    \"num_leaves\": {\"type\": \"int\", \"low\": 8, \"high\": 2200},\n",
    "    \"min_data_in_leaf\": {\"type\": \"int\", \"low\": 1, \"high\": 3500},\n",
    "\n",
    "    # nuevos hiperparámetros\n",
    "    \"max_depth\": {\"type\": \"int\", \"low\": -1, \"high\": 18},\n",
    "    \"lambda_l1\": {\"type\": \"float\", \"low\": 0.0, \"high\": 15.0},\n",
    "    \"lambda_l2\": {\"type\": \"float\", \"low\": 0.0, \"high\": 25.0},\n",
    "    \"min_gain_to_split\": {\"type\": \"float\", \"low\": 0.0, \"high\": 10.0},\n",
    "    \"bagging_fraction\": {\"type\": \"float\", \"low\": 0.4, \"high\": 1.0},\n",
    "    \"bagging_freq\": {\"type\": \"int\", \"low\": 0, \"high\": 10},\n",
    "    \"min_sum_hessian_in_leaf\": {\"type\": \"float\", \"low\": 0.001, \"high\": 30.0},\n",
    "}\n",
    "\n",
    "\n",
    "\n"
   ]
  },
  {
   "cell_type": "markdown",
   "id": "abd21ce8",
   "metadata": {},
   "source": [
    "#### Defino las funciones particionar, realidad_inicializar y realidad evaluar"
   ]
  },
  {
   "cell_type": "code",
   "execution_count": 6,
   "id": "d8aa386f",
   "metadata": {},
   "outputs": [],
   "source": [
    "from sklearn.model_selection import train_test_split\n",
    "\n",
    "def particionar(data, division, agrupa=\"\", campo=\"fold\", start=1, seed=None):\n",
    "    data = data.copy().reset_index(drop=True)  # 🔹 reset indices\n",
    "    total = sum(division)\n",
    "    fracs = [d / total for d in division]  # pasar a proporciones\n",
    "    bloques = list(range(start, start + len(division)))\n",
    "\n",
    "    if agrupa:\n",
    "        strat_col = data[agrupa]\n",
    "    else:\n",
    "        strat_col = None\n",
    "\n",
    "    folds = np.zeros(len(data), dtype=int)\n",
    "    idx = np.arange(len(data))\n",
    "\n",
    "    for i, frac in enumerate(fracs):\n",
    "        if i == len(fracs) - 1:\n",
    "            chosen_idx = idx\n",
    "        else:\n",
    "            _, chosen_idx = train_test_split(\n",
    "                idx,\n",
    "                test_size=1-frac,\n",
    "                stratify=strat_col.iloc[idx] if strat_col is not None else None,\n",
    "                random_state=seed\n",
    "            )\n",
    "        folds[chosen_idx] = bloques[i]\n",
    "        # actualizar lo que queda\n",
    "        mask = np.isin(idx, chosen_idx, invert=True)\n",
    "        idx = idx[mask]\n",
    "\n",
    "    data[campo] = folds\n",
    "    return data\n",
    "\n"
   ]
  },
  {
   "cell_type": "code",
   "execution_count": 7,
   "id": "3923b0d0",
   "metadata": {},
   "outputs": [],
   "source": [
    "def realidad_inicializar(pfuture, pparam):\n",
    "    # datos para verificar la ganancia\n",
    "    drealidad = pfuture[[\"numero_de_cliente\", \"foto_mes\", \"clase_ternaria\"]].copy()\n",
    "\n",
    "    drealidad = particionar(\n",
    "        drealidad,\n",
    "        division=[3, 7],\n",
    "        agrupa=\"clase_ternaria\",\n",
    "        seed=PARAM[\"semilla_kaggle\"]\n",
    "    )\n",
    "    return drealidad\n"
   ]
  },
  {
   "cell_type": "code",
   "execution_count": 8,
   "id": "1d2d40e7",
   "metadata": {},
   "outputs": [],
   "source": [
    "def realidad_evaluar(prealidad, pprediccion):\n",
    "    \"\"\"\n",
    "    Calcula la ganancia esperada.\n",
    "    prealidad: DataFrame con columnas [numero_de_cliente, foto_mes, clase_ternaria, fold]\n",
    "    pprediccion: DataFrame con columnas [numero_de_cliente, foto_mes, Predicted]\n",
    "    \"\"\"\n",
    "    # merge para agregar predicciones\n",
    "    merged = prealidad.merge(\n",
    "        pprediccion[[\"numero_de_cliente\", \"foto_mes\", \"Predicted\"]],\n",
    "        on=[\"numero_de_cliente\", \"foto_mes\"],\n",
    "        how=\"left\"\n",
    "    )\n",
    "    merged[\"predicted\"] = merged[\"Predicted\"].astype(\"Int64\")\n",
    "    merged = merged.drop(columns=\"Predicted\")\n",
    "\n",
    "    # tabla de conteos\n",
    "    tbl = (\n",
    "        merged.groupby([\"fold\", \"predicted\", \"clase_ternaria\"])\n",
    "        .size()\n",
    "        .reset_index(name=\"qty\")\n",
    "    )\n",
    "\n",
    "    # función de ganancia\n",
    "    def ganancia(subtbl):\n",
    "        return (subtbl[\"qty\"] * np.where(subtbl[\"clase_ternaria\"]==\"BAJA+2\", 780000, -20000)).sum()\n",
    "\n",
    "    res = {}\n",
    "    # fold==1 → public (dividido por 0.3)\n",
    "    mask_pub = (tbl[\"fold\"]==1) & (tbl[\"predicted\"]==1)\n",
    "    res[\"public\"] = ganancia(tbl[mask_pub]) / 0.3\n",
    "\n",
    "    # fold==2 → private (dividido por 0.7)\n",
    "    mask_priv = (tbl[\"fold\"]==2) & (tbl[\"predicted\"]==1)\n",
    "    res[\"private\"] = ganancia(tbl[mask_priv]) / 0.7\n",
    "\n",
    "    # total sin dividir\n",
    "    mask_total = tbl[\"predicted\"]==1\n",
    "    res[\"total\"] = ganancia(tbl[mask_total])\n",
    "\n",
    "    return res\n"
   ]
  },
  {
   "cell_type": "markdown",
   "id": "8bb0d9f1",
   "metadata": {},
   "source": [
    "#### \"Normalizo\" la columna mpayroll de junio multiplicando por 0,7 el valor para aquellos casos donde cobre aguinaldo el cliente."
   ]
  },
  {
   "cell_type": "code",
   "execution_count": 9,
   "id": "4fe0ed55",
   "metadata": {},
   "outputs": [],
   "source": [
    "# Aseguramos que la columna mpayroll sea numérica\n",
    "df[\"mpayroll\"] = pd.to_numeric(df[\"mpayroll\"], errors=\"coerce\")\n",
    "\n",
    "# 1️⃣ Crear una máscara de clientes que tienen mpayroll no nulo en 202105 y 202106\n",
    "clientes_validos = df.query(\"foto_mes in [202105, 202106]\") \\\n",
    "    .pivot(index=\"numero_de_cliente\", columns=\"foto_mes\", values=\"mpayroll\") \\\n",
    "    .dropna(subset=[202105, 202106]) \\\n",
    "    .index\n",
    "\n",
    "# 2️⃣ Copiar mpayroll a una nueva columna\n",
    "df[\"mpayroll_norm\"] = df[\"mpayroll\"]\n",
    "\n",
    "# 3️⃣ Aplicar la normalización (multiplicar por 0.7 solo en 202106 y clientes válidos)\n",
    "mask = (df[\"foto_mes\"] == 202106) & (df[\"numero_de_cliente\"].isin(clientes_validos))\n",
    "df.loc[mask, \"mpayroll_norm\"] = df.loc[mask, \"mpayroll\"] * 0.7"
   ]
  },
  {
   "cell_type": "markdown",
   "id": "f983bfc3",
   "metadata": {},
   "source": [
    "#### Armo rankings de las columnas monetarias"
   ]
  },
  {
   "cell_type": "code",
   "execution_count": 10,
   "id": "5f2d1f60",
   "metadata": {},
   "outputs": [],
   "source": [
    "import numpy as np\n",
    "import pandas as pd\n",
    "\n",
    "def rank_separate_group(df, columns, group_col=\"foto_mes\"):\n",
    "    \"\"\"\n",
    "    Genera columnas *_ranked por cada variable monetaria,\n",
    "    aplicando ranking separado por signo y por grupo temporal (foto_mes),\n",
    "    tolerante a NaN.\n",
    "    \"\"\"\n",
    "    df = df.copy()\n",
    "\n",
    "    for col in columns:\n",
    "        new_col = f\"{col}_ranked\"\n",
    "        df[new_col] = np.nan  # inicializa la columna\n",
    "\n",
    "        def rank_group(g):\n",
    "            s = g[col]\n",
    "            ranked = pd.Series(index=s.index, dtype=float)\n",
    "\n",
    "            # negativos\n",
    "            mask_neg = (s < 0) & s.notna()\n",
    "            if mask_neg.any():\n",
    "                ranked.loc[mask_neg] = -s[mask_neg].rank(method=\"average\", ascending=False)\n",
    "\n",
    "            # positivos\n",
    "            mask_pos = (s > 0) & s.notna()\n",
    "            if mask_pos.any():\n",
    "                ranked.loc[mask_pos] = s[mask_pos].rank(method=\"average\", ascending=True)\n",
    "\n",
    "            # ceros\n",
    "            mask_zero = (s == 0) & s.notna()\n",
    "            if mask_zero.any():\n",
    "                ranked.loc[mask_zero] = 0\n",
    "\n",
    "            return ranked\n",
    "\n",
    "        # aplicar ranking solo a filas válidas del grupo\n",
    "        ranked_series = df.groupby(group_col, group_keys=False).apply(rank_group)\n",
    "        df.loc[ranked_series.index, new_col] = ranked_series\n",
    "\n",
    "    return df\n",
    "\n",
    "\n",
    "cols_monetarias = [\n",
    "    \"mrentabilidad\", \"mrentabilidad_annual\", \"mcomisiones\", \"mactivos_margen\", \"mpasivos_margen\", \n",
    "    \"mcuenta_corriente_adicional\", \"mcuenta_corriente\", \"mcaja_ahorro\", \"mcaja_ahorro_adicional\", \n",
    "    \"mcaja_ahorro_dolares\", \"mcuentas_saldo\", \"mautoservicio\", \"mtarjeta_visa_consumo\", \"mtarjeta_master_consumo\", \n",
    "    \"mprestamos_personales\", \"mprestamos_prendarios\", \"mprestamos_hipotecarios\", \"mplazo_fijo_dolares\", \n",
    "    \"mplazo_fijo_pesos\", \"minversion1_pesos\", \"minversion1_dolares\", \"minversion2\", \"mpayroll\", \"mpayroll2\", \n",
    "    \"mcuenta_debitos_automaticos\", \"mttarjeta_visa_debitos_automaticos\", \"mttarjeta_master_debitos_automaticos\", \n",
    "    \"mpagodeservicios\", \"mpagomiscuentas\", \"mcajeros_propios_descuentos\", \"mtarjeta_visa_descuentos\", \n",
    "    \"mtarjeta_master_descuentos\", \"mcomisiones_mantenimiento\", \"mcomisiones_otras\", \"mforex_buy\", \"mforex_sell\", \n",
    "    \"mtransferencias_recibidas\", \"mtransferencias_emitidas\", \"mextraccion_autoservicio\", \"mcheques_depositados\", \n",
    "    \"mcheques_emitidos\", \"mcheques_depositados_rechazados\", \"mcheques_emitidos_rechazados\", \"matm\", \"matm_other\", \n",
    "    \"Master_mfinanciacion_limite\", \"Master_msaldototal\", \"Master_msaldopesos\", \"Master_msaldodolares\", \n",
    "    \"Master_mconsumospesos\", \"Master_mconsumosdolares\", \"Master_mlimitecompra\", \"Master_madelantopesos\", \n",
    "    \"Master_madelantodolares\", \"Master_mpagado\", \"Master_mpagospesos\", \"Master_mpagosdolares\", \n",
    "    \"Master_mconsumototal\", \"Master_mpagominimo\", \"Visa_mfinanciacion_limite\", \"Visa_msaldototal\", \n",
    "    \"Visa_msaldopesos\", \"Visa_msaldodolares\", \"Visa_mconsumospesos\", \"Visa_mconsumosdolares\", \n",
    "    \"Visa_mlimitecompra\", \"Visa_madelantopesos\", \"Visa_madelantodolares\", \"Visa_mpagado\", \"Visa_mpagospesos\", \n",
    "    \"Visa_mpagosdolares\", \"Visa_mconsumototal\", \"Visa_mpagominimo\",\"mpayroll_norm\"\n",
    "]\n",
    "\n",
    "# aplicar ranking neutralizado por mes\n",
    "df = rank_separate_group(df, cols_monetarias)"
   ]
  },
  {
   "cell_type": "markdown",
   "id": "93a8e028",
   "metadata": {},
   "source": [
    "#### Hago columnas con lag y delta lag de orden 1 y 2 de todas las columnas salvo numero de cliente, foto mes y clase ternaria."
   ]
  },
  {
   "cell_type": "code",
   "execution_count": null,
   "id": "8c0459fe",
   "metadata": {},
   "outputs": [],
   "source": [
    "# --- 0️⃣ Preparación ---\n",
    "df = df.sort_values([\"numero_de_cliente\", \"foto_mes\"])\n",
    "\n",
    "# columnas a excluir\n",
    "excluir = {\"numero_de_cliente\", \"foto_mes\", \"clase_ternaria\"}\n",
    "columnas = [c for c in df.columns if c not in excluir]\n",
    "\n",
    "# --- 1️⃣ Generar lag y delta de orden 1 y 2 ---\n",
    "for col in columnas:\n",
    "    for lag in [1, 2]:\n",
    "        df[f\"{col}_lag{lag}\"] = df.groupby(\"numero_de_cliente\")[col].shift(lag)\n",
    "        df[f\"{col}_delta{lag}\"] = df[col] - df[f\"{col}_lag{lag}\"]"
   ]
  },
  {
   "cell_type": "markdown",
   "id": "58f925fa",
   "metadata": {},
   "source": [
    "#### Genero el dataset train a partir de los meses seleccionados al inicio"
   ]
  },
  {
   "cell_type": "code",
   "execution_count": 15,
   "id": "80051a78",
   "metadata": {},
   "outputs": [
    {
     "name": "stdout",
     "output_type": "stream",
     "text": [
      "Shape X_train: (101496, 1137)\n",
      "Shape y_train: (101496,)\n",
      "Balance clases:\n",
      " clase01\n",
      "0    96196\n",
      "1     5300\n",
      "Name: count, dtype: int64\n"
     ]
    }
   ],
   "source": [
    "# 1️⃣ Filtrar por meses de training\n",
    "dataset_train = df[df[\"foto_mes\"].isin(PARAM[\"train\"])].copy()\n",
    "\n",
    "# 2️⃣ Clase binaria\n",
    "dataset_train[\"clase01\"] = np.where(\n",
    "    dataset_train[\"clase_ternaria\"].isin([\"BAJA+1\", \"BAJA+2\"]), 1, 0\n",
    ")\n",
    "\n",
    "# 3️⃣ Undersampling de CONTINUA\n",
    "np.random.seed(PARAM[\"semilla_primigenia\"][0])  # recordá que es lista\n",
    "dataset_train[\"azar\"] = np.random.rand(len(dataset_train))\n",
    "mask_training = (\n",
    "    (dataset_train[\"foto_mes\"].isin(PARAM[\"train\"])) &\n",
    "    ((dataset_train[\"azar\"] <= PARAM[\"trainingstrategy\"][\"undersampling\"]) |\n",
    "     (dataset_train[\"clase_ternaria\"].isin([\"BAJA+1\", \"BAJA+2\"])))\n",
    ")\n",
    "dataset_train = dataset_train.loc[mask_training].copy()\n",
    "\n",
    "# 4️⃣ Seleccionar columnas a usar\n",
    "campos_buenos = dataset_train.columns.difference(\n",
    "    [\"clase_ternaria\", \"clase01\", \"azar\"]\n",
    ")\n",
    "\n",
    "X_train = dataset_train[campos_buenos].copy()\n",
    "y_train = dataset_train[\"clase01\"].copy()\n",
    "\n",
    "# 5️⃣ Convertir categóricas a numéricas si las hay\n",
    "for col in X_train.select_dtypes(include=['object']).columns:\n",
    "    X_train[col] = X_train[col].astype('category').cat.codes\n",
    "\n",
    "# 6️⃣ Asegurar tipos correctos para LightGBM\n",
    "X_train = X_train.astype(np.float32)\n",
    "y_train = y_train.astype(np.int32)\n",
    "\n",
    "# ✅ Listo para usar en Optuna\n",
    "print(\"Shape X_train:\", X_train.shape)\n",
    "print(\"Shape y_train:\", y_train.shape)\n",
    "print(\"Balance clases:\\n\", y_train.value_counts())\n",
    "\n"
   ]
  },
  {
   "cell_type": "markdown",
   "id": "bb0b9e02",
   "metadata": {},
   "source": [
    "##### Genero la función de estimar ganancia"
   ]
  },
  {
   "cell_type": "code",
   "execution_count": 13,
   "id": "211ca828",
   "metadata": {},
   "outputs": [
    {
     "name": "stderr",
     "output_type": "stream",
     "text": [
      "C:\\Users\\Lucas\\AppData\\Local\\Packages\\PythonSoftwareFoundation.Python.3.12_qbz5n2kfra8p0\\LocalCache\\local-packages\\Python312\\site-packages\\tqdm\\auto.py:21: TqdmWarning: IProgress not found. Please update jupyter and ipywidgets. See https://ipywidgets.readthedocs.io/en/stable/user_install.html\n",
      "  from .autonotebook import tqdm as notebook_tqdm\n"
     ]
    }
   ],
   "source": [
    "import optuna\n",
    "from sklearn.model_selection import StratifiedKFold\n",
    "\n",
    "# Semilla\n",
    "seed = 878787\n",
    "seeds = [seed]\n",
    "\n",
    "# Función de Optuna para estimar AUC con CV\n",
    "def EstimarGanancia_AUC_lightgbm(trial, X, y, seeds):\n",
    "    aucs_semillas = []\n",
    "\n",
    "    for seed in seeds:\n",
    "        param = {\n",
    "            \"boosting_type\": \"gbdt\",\n",
    "            \"objective\": \"binary\",\n",
    "            \"metric\": \"auc\",\n",
    "            \"verbosity\": -1,\n",
    "            \"seed\": seed,\n",
    "\n",
    "            \"num_iterations\": trial.suggest_int(\"num_iterations\", 10, 2000),\n",
    "            \"learning_rate\": trial.suggest_float(\"learning_rate\", 0.01, 0.3),\n",
    "            \"num_leaves\": trial.suggest_int(\"num_leaves\", 8, 2200),\n",
    "            \"feature_fraction\": trial.suggest_float(\"feature_fraction\", 0.4, 1.0),\n",
    "            \"max_depth\": trial.suggest_int(\"max_depth\", -1, 18),\n",
    "            \"min_data_in_leaf\": trial.suggest_int(\"min_data_in_leaf\", 1, 1500),\n",
    "            \"lambda_l1\": trial.suggest_float(\"lambda_l1\", 0.0, 15.0),\n",
    "            \"lambda_l2\": trial.suggest_float(\"lambda_l2\", 0.0, 15.0),\n",
    "            \"min_gain_to_split\": trial.suggest_float(\"min_gain_to_split\", 0.0, 10.0),\n",
    "            \"bagging_fraction\": trial.suggest_float(\"bagging_fraction\", 0.4, 1.0),\n",
    "            \"bagging_freq\": trial.suggest_int(\"bagging_freq\", 1, 10),\n",
    "            \"min_sum_hessian_in_leaf\": trial.suggest_float(\"min_sum_hessian_in_leaf\", 0.001, 30.0),\n",
    "        }\n",
    "\n",
    "\n",
    "        cv = StratifiedKFold(\n",
    "            n_splits=PARAM[\"hyperparametertuning\"][\"xval_folds\"],\n",
    "            shuffle=True,\n",
    "            random_state=seed\n",
    "        )\n",
    "\n",
    "        aucs = []\n",
    "        for train_idx, valid_idx in cv.split(X, y):\n",
    "            lgb_train = lgb.Dataset(X.iloc[train_idx].astype(np.float32), label=y.iloc[train_idx].astype(np.int32))\n",
    "            lgb_valid = lgb.Dataset(X.iloc[valid_idx].astype(np.float32), label=y.iloc[valid_idx].astype(np.int32))\n",
    "\n",
    "            model = lgb.train(\n",
    "                param,\n",
    "                lgb_train,\n",
    "                valid_sets=[lgb_valid],\n",
    "                callbacks=[lgb.early_stopping(stopping_rounds=50), lgb.log_evaluation(period=0)]\n",
    "            )\n",
    "            preds = model.predict(X.iloc[valid_idx])\n",
    "            auc = roc_auc_score(y.iloc[valid_idx], preds)\n",
    "            aucs.append(auc)\n",
    "\n",
    "        aucs_semillas.append(np.mean(aucs))\n",
    "\n",
    "    return np.mean(aucs_semillas)\n",
    "\n"
   ]
  },
  {
   "cell_type": "markdown",
   "id": "bdd27b31",
   "metadata": {},
   "source": [
    "#### Busco hiperparámetros con BO usando optune, primero con 20 pruebas random y luego 30 con TPESampler"
   ]
  },
  {
   "cell_type": "code",
   "execution_count": 14,
   "id": "d42e7250",
   "metadata": {},
   "outputs": [
    {
     "name": "stderr",
     "output_type": "stream",
     "text": [
      "[I 2025-10-09 14:11:05,251] A new study created in memory with name: no-name-99ffb806-a667-4396-8b83-1b0d2a95c0b2\n"
     ]
    },
    {
     "name": "stdout",
     "output_type": "stream",
     "text": [
      "Training until validation scores don't improve for 50 rounds\n",
      "Early stopping, best iteration is:\n",
      "[44]\tvalid_0's auc: 0.926931\n",
      "Training until validation scores don't improve for 50 rounds\n",
      "Early stopping, best iteration is:\n",
      "[56]\tvalid_0's auc: 0.931684\n",
      "Training until validation scores don't improve for 50 rounds\n",
      "Early stopping, best iteration is:\n",
      "[45]\tvalid_0's auc: 0.918345\n",
      "Training until validation scores don't improve for 50 rounds\n",
      "Early stopping, best iteration is:\n",
      "[44]\tvalid_0's auc: 0.928025\n",
      "Training until validation scores don't improve for 50 rounds\n",
      "Early stopping, best iteration is:\n",
      "[52]\tvalid_0's auc: 0.930819\n"
     ]
    },
    {
     "name": "stderr",
     "output_type": "stream",
     "text": [
      "[I 2025-10-09 14:11:59,985] Trial 0 finished with value: 0.9271521923606498 and parameters: {'num_iterations': 1180, 'learning_rate': 0.15069190115899878, 'num_leaves': 1159, 'feature_fraction': 0.6322520900294102, 'max_depth': 13, 'min_data_in_leaf': 369, 'lambda_l1': 8.057777905404162, 'lambda_l2': 6.986052108818572, 'min_gain_to_split': 7.576146557315888, 'bagging_fraction': 0.8234966468376737, 'bagging_freq': 10, 'min_sum_hessian_in_leaf': 22.48711155004957}. Best is trial 0 with value: 0.9271521923606498.\n"
     ]
    },
    {
     "name": "stdout",
     "output_type": "stream",
     "text": [
      "Training until validation scores don't improve for 50 rounds\n",
      "Early stopping, best iteration is:\n",
      "[407]\tvalid_0's auc: 0.927658\n",
      "Training until validation scores don't improve for 50 rounds\n",
      "Early stopping, best iteration is:\n",
      "[471]\tvalid_0's auc: 0.932778\n",
      "Training until validation scores don't improve for 50 rounds\n",
      "Early stopping, best iteration is:\n",
      "[440]\tvalid_0's auc: 0.919484\n",
      "Training until validation scores don't improve for 50 rounds\n",
      "Early stopping, best iteration is:\n",
      "[467]\tvalid_0's auc: 0.92919\n",
      "Training until validation scores don't improve for 50 rounds\n",
      "Early stopping, best iteration is:\n",
      "[414]\tvalid_0's auc: 0.930954\n"
     ]
    },
    {
     "name": "stderr",
     "output_type": "stream",
     "text": [
      "[I 2025-10-09 14:14:45,033] Trial 1 finished with value: 0.9280122989418154 and parameters: {'num_iterations': 610, 'learning_rate': 0.020694043835740385, 'num_leaves': 1139, 'feature_fraction': 0.8506907346287693, 'max_depth': 8, 'min_data_in_leaf': 1024, 'lambda_l1': 3.9047355824451495, 'lambda_l2': 10.351260083536108, 'min_gain_to_split': 8.702244207027077, 'bagging_fraction': 0.7289920139767798, 'bagging_freq': 3, 'min_sum_hessian_in_leaf': 2.295948035507634}. Best is trial 1 with value: 0.9280122989418154.\n"
     ]
    },
    {
     "name": "stdout",
     "output_type": "stream",
     "text": [
      "Training until validation scores don't improve for 50 rounds\n",
      "Early stopping, best iteration is:\n",
      "[47]\tvalid_0's auc: 0.924436\n",
      "Training until validation scores don't improve for 50 rounds\n",
      "Early stopping, best iteration is:\n",
      "[68]\tvalid_0's auc: 0.932884\n",
      "Training until validation scores don't improve for 50 rounds\n",
      "Early stopping, best iteration is:\n",
      "[67]\tvalid_0's auc: 0.919229\n",
      "Training until validation scores don't improve for 50 rounds\n",
      "Early stopping, best iteration is:\n",
      "[51]\tvalid_0's auc: 0.92765\n",
      "Training until validation scores don't improve for 50 rounds\n",
      "Early stopping, best iteration is:\n",
      "[59]\tvalid_0's auc: 0.930941\n"
     ]
    },
    {
     "name": "stderr",
     "output_type": "stream",
     "text": [
      "[I 2025-10-09 14:15:38,581] Trial 2 finished with value: 0.9270222297854989 and parameters: {'num_iterations': 1227, 'learning_rate': 0.24687177900394722, 'num_leaves': 1479, 'feature_fraction': 0.8599079405644661, 'max_depth': 0, 'min_data_in_leaf': 762, 'lambda_l1': 12.526566500758413, 'lambda_l2': 3.8158431151474237, 'min_gain_to_split': 1.7063557011120112, 'bagging_fraction': 0.5234372974027808, 'bagging_freq': 10, 'min_sum_hessian_in_leaf': 22.081505226336855}. Best is trial 1 with value: 0.9280122989418154.\n"
     ]
    },
    {
     "name": "stdout",
     "output_type": "stream",
     "text": [
      "Training until validation scores don't improve for 50 rounds\n",
      "Early stopping, best iteration is:\n",
      "[93]\tvalid_0's auc: 0.9289\n",
      "Training until validation scores don't improve for 50 rounds\n",
      "Early stopping, best iteration is:\n",
      "[113]\tvalid_0's auc: 0.933716\n",
      "Training until validation scores don't improve for 50 rounds\n",
      "Early stopping, best iteration is:\n",
      "[107]\tvalid_0's auc: 0.920483\n",
      "Training until validation scores don't improve for 50 rounds\n",
      "Early stopping, best iteration is:\n",
      "[107]\tvalid_0's auc: 0.930967\n",
      "Training until validation scores don't improve for 50 rounds\n",
      "Early stopping, best iteration is:\n",
      "[106]\tvalid_0's auc: 0.932929\n"
     ]
    },
    {
     "name": "stderr",
     "output_type": "stream",
     "text": [
      "[I 2025-10-09 14:16:45,475] Trial 3 finished with value: 0.9293991358554734 and parameters: {'num_iterations': 890, 'learning_rate': 0.09908863657922856, 'num_leaves': 1784, 'feature_fraction': 0.9185553665761836, 'max_depth': 4, 'min_data_in_leaf': 855, 'lambda_l1': 1.6100680405575307, 'lambda_l2': 14.479197814321314, 'min_gain_to_split': 7.337028251201226, 'bagging_fraction': 0.867562169662011, 'bagging_freq': 6, 'min_sum_hessian_in_leaf': 0.21185511591588305}. Best is trial 3 with value: 0.9293991358554734.\n"
     ]
    },
    {
     "name": "stdout",
     "output_type": "stream",
     "text": [
      "Training until validation scores don't improve for 50 rounds\n",
      "Did not meet early stopping. Best iteration is:\n",
      "[811]\tvalid_0's auc: 0.928417\n",
      "Training until validation scores don't improve for 50 rounds\n",
      "Did not meet early stopping. Best iteration is:\n",
      "[811]\tvalid_0's auc: 0.933812\n",
      "Training until validation scores don't improve for 50 rounds\n",
      "Did not meet early stopping. Best iteration is:\n",
      "[808]\tvalid_0's auc: 0.920713\n",
      "Training until validation scores don't improve for 50 rounds\n",
      "Did not meet early stopping. Best iteration is:\n",
      "[811]\tvalid_0's auc: 0.929238\n",
      "Training until validation scores don't improve for 50 rounds\n",
      "Did not meet early stopping. Best iteration is:\n",
      "[809]\tvalid_0's auc: 0.932035\n"
     ]
    },
    {
     "name": "stderr",
     "output_type": "stream",
     "text": [
      "[I 2025-10-09 14:19:52,563] Trial 4 finished with value: 0.9288429544006261 and parameters: {'num_iterations': 811, 'learning_rate': 0.011130434324723907, 'num_leaves': 500, 'feature_fraction': 0.7879631482476517, 'max_depth': 9, 'min_data_in_leaf': 1472, 'lambda_l1': 14.383692475328225, 'lambda_l2': 2.279486193293319, 'min_gain_to_split': 2.5249887126261115, 'bagging_fraction': 0.8212751221088193, 'bagging_freq': 5, 'min_sum_hessian_in_leaf': 16.768329081900088}. Best is trial 3 with value: 0.9293991358554734.\n"
     ]
    },
    {
     "name": "stdout",
     "output_type": "stream",
     "text": [
      "Training until validation scores don't improve for 50 rounds\n",
      "Early stopping, best iteration is:\n",
      "[62]\tvalid_0's auc: 0.92796\n",
      "Training until validation scores don't improve for 50 rounds\n",
      "Early stopping, best iteration is:\n",
      "[55]\tvalid_0's auc: 0.933646\n",
      "Training until validation scores don't improve for 50 rounds\n",
      "Early stopping, best iteration is:\n",
      "[70]\tvalid_0's auc: 0.920306\n",
      "Training until validation scores don't improve for 50 rounds\n",
      "Early stopping, best iteration is:\n",
      "[47]\tvalid_0's auc: 0.929957\n",
      "Training until validation scores don't improve for 50 rounds\n",
      "Early stopping, best iteration is:\n",
      "[64]\tvalid_0's auc: 0.931582\n"
     ]
    },
    {
     "name": "stderr",
     "output_type": "stream",
     "text": [
      "[I 2025-10-09 14:20:42,251] Trial 5 finished with value: 0.928668197095529 and parameters: {'num_iterations': 1573, 'learning_rate': 0.25218915640296996, 'num_leaves': 1857, 'feature_fraction': 0.6472361351289007, 'max_depth': 16, 'min_data_in_leaf': 339, 'lambda_l1': 12.424387376628198, 'lambda_l2': 11.771994344417509, 'min_gain_to_split': 3.3175274050499737, 'bagging_fraction': 0.8606159362039743, 'bagging_freq': 2, 'min_sum_hessian_in_leaf': 24.290226873509415}. Best is trial 3 with value: 0.9293991358554734.\n"
     ]
    },
    {
     "name": "stdout",
     "output_type": "stream",
     "text": [
      "Training until validation scores don't improve for 50 rounds\n",
      "Early stopping, best iteration is:\n",
      "[115]\tvalid_0's auc: 0.918663\n",
      "Training until validation scores don't improve for 50 rounds\n",
      "Early stopping, best iteration is:\n",
      "[98]\tvalid_0's auc: 0.924787\n",
      "Training until validation scores don't improve for 50 rounds\n",
      "Early stopping, best iteration is:\n",
      "[116]\tvalid_0's auc: 0.910291\n",
      "Training until validation scores don't improve for 50 rounds\n",
      "Early stopping, best iteration is:\n",
      "[103]\tvalid_0's auc: 0.921508\n",
      "Training until validation scores don't improve for 50 rounds\n",
      "Early stopping, best iteration is:\n",
      "[106]\tvalid_0's auc: 0.925311\n"
     ]
    },
    {
     "name": "stderr",
     "output_type": "stream",
     "text": [
      "[I 2025-10-09 14:21:28,001] Trial 6 finished with value: 0.9200967003689989 and parameters: {'num_iterations': 1213, 'learning_rate': 0.2891684534135509, 'num_leaves': 673, 'feature_fraction': 0.4242177341316495, 'max_depth': 1, 'min_data_in_leaf': 712, 'lambda_l1': 14.330494768522627, 'lambda_l2': 1.4020059084903207, 'min_gain_to_split': 7.931654854989237, 'bagging_fraction': 0.4930132759087307, 'bagging_freq': 9, 'min_sum_hessian_in_leaf': 11.853025209348305}. Best is trial 3 with value: 0.9293991358554734.\n"
     ]
    },
    {
     "name": "stdout",
     "output_type": "stream",
     "text": [
      "Training until validation scores don't improve for 50 rounds\n",
      "Early stopping, best iteration is:\n",
      "[34]\tvalid_0's auc: 0.926765\n",
      "Training until validation scores don't improve for 50 rounds\n",
      "Early stopping, best iteration is:\n",
      "[37]\tvalid_0's auc: 0.930427\n",
      "Training until validation scores don't improve for 50 rounds\n",
      "Early stopping, best iteration is:\n",
      "[29]\tvalid_0's auc: 0.91813\n",
      "Training until validation scores don't improve for 50 rounds\n",
      "Early stopping, best iteration is:\n",
      "[24]\tvalid_0's auc: 0.927137\n",
      "Training until validation scores don't improve for 50 rounds\n",
      "Early stopping, best iteration is:\n",
      "[29]\tvalid_0's auc: 0.930892\n"
     ]
    },
    {
     "name": "stderr",
     "output_type": "stream",
     "text": [
      "[I 2025-10-09 14:22:19,684] Trial 7 finished with value: 0.9266699631300792 and parameters: {'num_iterations': 699, 'learning_rate': 0.22521398336772672, 'num_leaves': 2044, 'feature_fraction': 0.9121003637601469, 'max_depth': 14, 'min_data_in_leaf': 62, 'lambda_l1': 1.4440721990250727, 'lambda_l2': 2.663951966537141, 'min_gain_to_split': 9.069713019445732, 'bagging_fraction': 0.7617371682060123, 'bagging_freq': 8, 'min_sum_hessian_in_leaf': 0.482692063733405}. Best is trial 3 with value: 0.9293991358554734.\n"
     ]
    },
    {
     "name": "stdout",
     "output_type": "stream",
     "text": [
      "Training until validation scores don't improve for 50 rounds\n",
      "Early stopping, best iteration is:\n",
      "[279]\tvalid_0's auc: 0.929228\n",
      "Training until validation scores don't improve for 50 rounds\n",
      "Early stopping, best iteration is:\n",
      "[431]\tvalid_0's auc: 0.934219\n",
      "Training until validation scores don't improve for 50 rounds\n",
      "Early stopping, best iteration is:\n",
      "[364]\tvalid_0's auc: 0.921152\n",
      "Training until validation scores don't improve for 50 rounds\n",
      "Early stopping, best iteration is:\n",
      "[339]\tvalid_0's auc: 0.931003\n",
      "Training until validation scores don't improve for 50 rounds\n",
      "Early stopping, best iteration is:\n",
      "[322]\tvalid_0's auc: 0.932502\n"
     ]
    },
    {
     "name": "stderr",
     "output_type": "stream",
     "text": [
      "[I 2025-10-09 14:23:43,708] Trial 8 finished with value: 0.9296207783372132 and parameters: {'num_iterations': 1677, 'learning_rate': 0.03765086232463476, 'num_leaves': 818, 'feature_fraction': 0.743827369384561, 'max_depth': 5, 'min_data_in_leaf': 126, 'lambda_l1': 10.45351382900559, 'lambda_l2': 11.647786878397698, 'min_gain_to_split': 4.399890365086526, 'bagging_fraction': 0.6277518758546545, 'bagging_freq': 7, 'min_sum_hessian_in_leaf': 12.71208965596918}. Best is trial 8 with value: 0.9296207783372132.\n"
     ]
    },
    {
     "name": "stdout",
     "output_type": "stream",
     "text": [
      "Training until validation scores don't improve for 50 rounds\n",
      "Early stopping, best iteration is:\n",
      "[406]\tvalid_0's auc: 0.925326\n",
      "Training until validation scores don't improve for 50 rounds\n",
      "Early stopping, best iteration is:\n",
      "[473]\tvalid_0's auc: 0.932464\n",
      "Training until validation scores don't improve for 50 rounds\n",
      "Early stopping, best iteration is:\n",
      "[417]\tvalid_0's auc: 0.916904\n",
      "Training until validation scores don't improve for 50 rounds\n",
      "Early stopping, best iteration is:\n",
      "[482]\tvalid_0's auc: 0.928569\n",
      "Training until validation scores don't improve for 50 rounds\n",
      "Early stopping, best iteration is:\n",
      "[492]\tvalid_0's auc: 0.932711\n"
     ]
    },
    {
     "name": "stderr",
     "output_type": "stream",
     "text": [
      "[I 2025-10-09 14:25:17,964] Trial 9 finished with value: 0.9271894417924468 and parameters: {'num_iterations': 1265, 'learning_rate': 0.2514414300644576, 'num_leaves': 123, 'feature_fraction': 0.7390701929809338, 'max_depth': 1, 'min_data_in_leaf': 1022, 'lambda_l1': 13.672301941715478, 'lambda_l2': 5.774251194632502, 'min_gain_to_split': 1.6482961060418844, 'bagging_fraction': 0.9388821996441759, 'bagging_freq': 3, 'min_sum_hessian_in_leaf': 24.41849743241833}. Best is trial 8 with value: 0.9296207783372132.\n"
     ]
    },
    {
     "name": "stdout",
     "output_type": "stream",
     "text": [
      "Training until validation scores don't improve for 50 rounds\n",
      "Did not meet early stopping. Best iteration is:\n",
      "[36]\tvalid_0's auc: 0.925581\n",
      "Training until validation scores don't improve for 50 rounds\n",
      "Did not meet early stopping. Best iteration is:\n",
      "[34]\tvalid_0's auc: 0.930018\n",
      "Training until validation scores don't improve for 50 rounds\n",
      "Did not meet early stopping. Best iteration is:\n",
      "[30]\tvalid_0's auc: 0.916596\n",
      "Training until validation scores don't improve for 50 rounds\n",
      "Did not meet early stopping. Best iteration is:\n",
      "[33]\tvalid_0's auc: 0.92729\n",
      "Training until validation scores don't improve for 50 rounds\n",
      "Did not meet early stopping. Best iteration is:\n",
      "[32]\tvalid_0's auc: 0.930213\n"
     ]
    },
    {
     "name": "stderr",
     "output_type": "stream",
     "text": [
      "[I 2025-10-09 14:26:03,991] Trial 10 finished with value: 0.925939516374498 and parameters: {'num_iterations': 54, 'learning_rate': 0.24624819393809175, 'num_leaves': 1714, 'feature_fraction': 0.896461540212959, 'max_depth': 14, 'min_data_in_leaf': 1361, 'lambda_l1': 7.881559924666472, 'lambda_l2': 10.32370138223586, 'min_gain_to_split': 7.131497235673578, 'bagging_fraction': 0.8122864692777264, 'bagging_freq': 9, 'min_sum_hessian_in_leaf': 16.008064364661312}. Best is trial 8 with value: 0.9296207783372132.\n"
     ]
    },
    {
     "name": "stdout",
     "output_type": "stream",
     "text": [
      "Training until validation scores don't improve for 50 rounds\n",
      "Early stopping, best iteration is:\n",
      "[238]\tvalid_0's auc: 0.928184\n",
      "Training until validation scores don't improve for 50 rounds\n",
      "Early stopping, best iteration is:\n",
      "[212]\tvalid_0's auc: 0.933055\n",
      "Training until validation scores don't improve for 50 rounds\n",
      "Early stopping, best iteration is:\n",
      "[277]\tvalid_0's auc: 0.920551\n",
      "Training until validation scores don't improve for 50 rounds\n",
      "Early stopping, best iteration is:\n",
      "[225]\tvalid_0's auc: 0.929469\n",
      "Training until validation scores don't improve for 50 rounds\n",
      "Early stopping, best iteration is:\n",
      "[233]\tvalid_0's auc: 0.932098\n"
     ]
    },
    {
     "name": "stderr",
     "output_type": "stream",
     "text": [
      "[I 2025-10-09 14:27:13,123] Trial 11 finished with value: 0.9286716214682451 and parameters: {'num_iterations': 740, 'learning_rate': 0.05734521650223409, 'num_leaves': 1001, 'feature_fraction': 0.7070070542698941, 'max_depth': 13, 'min_data_in_leaf': 682, 'lambda_l1': 13.357125614873992, 'lambda_l2': 6.61931535112611, 'min_gain_to_split': 3.3491512791231495, 'bagging_fraction': 0.570811834544851, 'bagging_freq': 4, 'min_sum_hessian_in_leaf': 17.94704337448833}. Best is trial 8 with value: 0.9296207783372132.\n"
     ]
    },
    {
     "name": "stdout",
     "output_type": "stream",
     "text": [
      "Training until validation scores don't improve for 50 rounds\n",
      "Early stopping, best iteration is:\n",
      "[85]\tvalid_0's auc: 0.928043\n",
      "Training until validation scores don't improve for 50 rounds\n",
      "Early stopping, best iteration is:\n",
      "[67]\tvalid_0's auc: 0.932927\n",
      "Training until validation scores don't improve for 50 rounds\n",
      "Early stopping, best iteration is:\n",
      "[184]\tvalid_0's auc: 0.921946\n",
      "Training until validation scores don't improve for 50 rounds\n",
      "Early stopping, best iteration is:\n",
      "[182]\tvalid_0's auc: 0.930563\n",
      "Training until validation scores don't improve for 50 rounds\n",
      "Early stopping, best iteration is:\n",
      "[83]\tvalid_0's auc: 0.933782\n"
     ]
    },
    {
     "name": "stderr",
     "output_type": "stream",
     "text": [
      "[I 2025-10-09 14:28:10,060] Trial 12 finished with value: 0.9294145909882543 and parameters: {'num_iterations': 1086, 'learning_rate': 0.27167455137451274, 'num_leaves': 2072, 'feature_fraction': 0.6045164404046405, 'max_depth': 9, 'min_data_in_leaf': 528, 'lambda_l1': 8.298925854042775, 'lambda_l2': 13.925831731730394, 'min_gain_to_split': 3.3814897136227717, 'bagging_fraction': 0.6610100308979779, 'bagging_freq': 1, 'min_sum_hessian_in_leaf': 2.328432063653495}. Best is trial 8 with value: 0.9296207783372132.\n"
     ]
    },
    {
     "name": "stdout",
     "output_type": "stream",
     "text": [
      "Training until validation scores don't improve for 50 rounds\n",
      "Early stopping, best iteration is:\n",
      "[304]\tvalid_0's auc: 0.929844\n",
      "Training until validation scores don't improve for 50 rounds\n",
      "Early stopping, best iteration is:\n",
      "[304]\tvalid_0's auc: 0.93329\n",
      "Training until validation scores don't improve for 50 rounds\n",
      "Early stopping, best iteration is:\n",
      "[278]\tvalid_0's auc: 0.921499\n",
      "Training until validation scores don't improve for 50 rounds\n",
      "Early stopping, best iteration is:\n",
      "[302]\tvalid_0's auc: 0.930781\n",
      "Training until validation scores don't improve for 50 rounds\n",
      "Early stopping, best iteration is:\n",
      "[292]\tvalid_0's auc: 0.93312\n"
     ]
    },
    {
     "name": "stderr",
     "output_type": "stream",
     "text": [
      "[I 2025-10-09 14:29:52,969] Trial 13 finished with value: 0.9297069176990412 and parameters: {'num_iterations': 1722, 'learning_rate': 0.027082296248414524, 'num_leaves': 1170, 'feature_fraction': 0.9411513643524648, 'max_depth': 6, 'min_data_in_leaf': 541, 'lambda_l1': 8.113172705739558, 'lambda_l2': 2.7462747556696816, 'min_gain_to_split': 6.235799690670218, 'bagging_fraction': 0.907593977727425, 'bagging_freq': 8, 'min_sum_hessian_in_leaf': 2.672928295940005}. Best is trial 13 with value: 0.9297069176990412.\n"
     ]
    },
    {
     "name": "stdout",
     "output_type": "stream",
     "text": [
      "Training until validation scores don't improve for 50 rounds\n",
      "Did not meet early stopping. Best iteration is:\n",
      "[122]\tvalid_0's auc: 0.928751\n",
      "Training until validation scores don't improve for 50 rounds\n",
      "Did not meet early stopping. Best iteration is:\n",
      "[126]\tvalid_0's auc: 0.932707\n",
      "Training until validation scores don't improve for 50 rounds\n",
      "Did not meet early stopping. Best iteration is:\n",
      "[126]\tvalid_0's auc: 0.920263\n",
      "Training until validation scores don't improve for 50 rounds\n",
      "Did not meet early stopping. Best iteration is:\n",
      "[126]\tvalid_0's auc: 0.929401\n",
      "Training until validation scores don't improve for 50 rounds\n",
      "Did not meet early stopping. Best iteration is:\n",
      "[125]\tvalid_0's auc: 0.931693\n"
     ]
    },
    {
     "name": "stderr",
     "output_type": "stream",
     "text": [
      "[I 2025-10-09 14:30:50,219] Trial 14 finished with value: 0.928563158595607 and parameters: {'num_iterations': 126, 'learning_rate': 0.06590608662981458, 'num_leaves': 12, 'feature_fraction': 0.9434327601296862, 'max_depth': 13, 'min_data_in_leaf': 258, 'lambda_l1': 6.392651742810374, 'lambda_l2': 3.761229842858694, 'min_gain_to_split': 1.381638821197857, 'bagging_fraction': 0.5790716187630999, 'bagging_freq': 4, 'min_sum_hessian_in_leaf': 26.804816680962308}. Best is trial 13 with value: 0.9297069176990412.\n"
     ]
    },
    {
     "name": "stdout",
     "output_type": "stream",
     "text": [
      "Training until validation scores don't improve for 50 rounds\n",
      "Early stopping, best iteration is:\n",
      "[99]\tvalid_0's auc: 0.926634\n",
      "Training until validation scores don't improve for 50 rounds\n",
      "Early stopping, best iteration is:\n",
      "[82]\tvalid_0's auc: 0.93196\n",
      "Training until validation scores don't improve for 50 rounds\n",
      "Early stopping, best iteration is:\n",
      "[97]\tvalid_0's auc: 0.919574\n",
      "Training until validation scores don't improve for 50 rounds\n",
      "Early stopping, best iteration is:\n",
      "[100]\tvalid_0's auc: 0.927954\n",
      "Training until validation scores don't improve for 50 rounds\n",
      "Early stopping, best iteration is:\n",
      "[70]\tvalid_0's auc: 0.93045\n"
     ]
    },
    {
     "name": "stderr",
     "output_type": "stream",
     "text": [
      "[I 2025-10-09 14:31:41,059] Trial 15 finished with value: 0.927292864178354 and parameters: {'num_iterations': 1537, 'learning_rate': 0.09691992277276358, 'num_leaves': 964, 'feature_fraction': 0.5536703976238684, 'max_depth': 12, 'min_data_in_leaf': 1073, 'lambda_l1': 1.5671547286549325, 'lambda_l2': 5.4731965251337105, 'min_gain_to_split': 9.47060160110527, 'bagging_fraction': 0.7884813252110626, 'bagging_freq': 6, 'min_sum_hessian_in_leaf': 25.990051440133012}. Best is trial 13 with value: 0.9297069176990412.\n"
     ]
    },
    {
     "name": "stdout",
     "output_type": "stream",
     "text": [
      "Training until validation scores don't improve for 50 rounds\n",
      "Early stopping, best iteration is:\n",
      "[170]\tvalid_0's auc: 0.930483\n",
      "Training until validation scores don't improve for 50 rounds\n",
      "Early stopping, best iteration is:\n",
      "[144]\tvalid_0's auc: 0.934336\n",
      "Training until validation scores don't improve for 50 rounds\n",
      "Early stopping, best iteration is:\n",
      "[158]\tvalid_0's auc: 0.922516\n",
      "Training until validation scores don't improve for 50 rounds\n",
      "Early stopping, best iteration is:\n",
      "[152]\tvalid_0's auc: 0.932316\n",
      "Training until validation scores don't improve for 50 rounds\n",
      "Early stopping, best iteration is:\n",
      "[143]\tvalid_0's auc: 0.933804\n"
     ]
    },
    {
     "name": "stderr",
     "output_type": "stream",
     "text": [
      "[I 2025-10-09 14:32:43,024] Trial 16 finished with value: 0.9306908989704062 and parameters: {'num_iterations': 302, 'learning_rate': 0.11091139092373707, 'num_leaves': 892, 'feature_fraction': 0.9585878342224831, 'max_depth': 12, 'min_data_in_leaf': 523, 'lambda_l1': 14.829959331010729, 'lambda_l2': 14.402888742799796, 'min_gain_to_split': 1.8519920348165275, 'bagging_fraction': 0.646736517774646, 'bagging_freq': 5, 'min_sum_hessian_in_leaf': 12.181838894111204}. Best is trial 16 with value: 0.9306908989704062.\n"
     ]
    },
    {
     "name": "stdout",
     "output_type": "stream",
     "text": [
      "Training until validation scores don't improve for 50 rounds\n",
      "Early stopping, best iteration is:\n",
      "[70]\tvalid_0's auc: 0.924304\n",
      "Training until validation scores don't improve for 50 rounds\n",
      "Early stopping, best iteration is:\n",
      "[34]\tvalid_0's auc: 0.933335\n",
      "Training until validation scores don't improve for 50 rounds\n",
      "Early stopping, best iteration is:\n",
      "[57]\tvalid_0's auc: 0.921031\n",
      "Training until validation scores don't improve for 50 rounds\n",
      "Early stopping, best iteration is:\n",
      "[41]\tvalid_0's auc: 0.927764\n",
      "Training until validation scores don't improve for 50 rounds\n",
      "Early stopping, best iteration is:\n",
      "[70]\tvalid_0's auc: 0.932545\n"
     ]
    },
    {
     "name": "stderr",
     "output_type": "stream",
     "text": [
      "[I 2025-10-09 14:33:28,989] Trial 17 finished with value: 0.9277956895552733 and parameters: {'num_iterations': 1746, 'learning_rate': 0.26574591151189964, 'num_leaves': 69, 'feature_fraction': 0.9367126677788017, 'max_depth': 17, 'min_data_in_leaf': 942, 'lambda_l1': 0.25108309306789867, 'lambda_l2': 0.16573963392286506, 'min_gain_to_split': 3.4408788314770633, 'bagging_fraction': 0.6089721087759206, 'bagging_freq': 8, 'min_sum_hessian_in_leaf': 0.867803254082599}. Best is trial 16 with value: 0.9306908989704062.\n"
     ]
    },
    {
     "name": "stdout",
     "output_type": "stream",
     "text": [
      "Training until validation scores don't improve for 50 rounds\n",
      "Early stopping, best iteration is:\n",
      "[540]\tvalid_0's auc: 0.924672\n",
      "Training until validation scores don't improve for 50 rounds\n",
      "Early stopping, best iteration is:\n",
      "[417]\tvalid_0's auc: 0.932946\n",
      "Training until validation scores don't improve for 50 rounds\n",
      "Early stopping, best iteration is:\n",
      "[534]\tvalid_0's auc: 0.917933\n",
      "Training until validation scores don't improve for 50 rounds\n",
      "Early stopping, best iteration is:\n",
      "[338]\tvalid_0's auc: 0.928587\n",
      "Training until validation scores don't improve for 50 rounds\n",
      "Early stopping, best iteration is:\n",
      "[445]\tvalid_0's auc: 0.931622\n"
     ]
    },
    {
     "name": "stderr",
     "output_type": "stream",
     "text": [
      "[I 2025-10-09 14:34:53,908] Trial 18 finished with value: 0.9271519069282508 and parameters: {'num_iterations': 1820, 'learning_rate': 0.20847118159844905, 'num_leaves': 1228, 'feature_fraction': 0.9819878900428428, 'max_depth': 1, 'min_data_in_leaf': 259, 'lambda_l1': 3.704622287461202, 'lambda_l2': 13.017209034364567, 'min_gain_to_split': 2.091105807060043, 'bagging_fraction': 0.5238939245593125, 'bagging_freq': 6, 'min_sum_hessian_in_leaf': 26.11920828882985}. Best is trial 16 with value: 0.9306908989704062.\n"
     ]
    },
    {
     "name": "stdout",
     "output_type": "stream",
     "text": [
      "Training until validation scores don't improve for 50 rounds\n",
      "Early stopping, best iteration is:\n",
      "[98]\tvalid_0's auc: 0.926816\n",
      "Training until validation scores don't improve for 50 rounds\n",
      "Early stopping, best iteration is:\n",
      "[98]\tvalid_0's auc: 0.931388\n",
      "Training until validation scores don't improve for 50 rounds\n",
      "Early stopping, best iteration is:\n",
      "[109]\tvalid_0's auc: 0.918334\n",
      "Training until validation scores don't improve for 50 rounds\n",
      "Early stopping, best iteration is:\n",
      "[111]\tvalid_0's auc: 0.928703\n",
      "Training until validation scores don't improve for 50 rounds\n",
      "Early stopping, best iteration is:\n",
      "[98]\tvalid_0's auc: 0.931197\n"
     ]
    },
    {
     "name": "stderr",
     "output_type": "stream",
     "text": [
      "[I 2025-10-09 14:35:45,158] Trial 19 finished with value: 0.9272877132896147 and parameters: {'num_iterations': 584, 'learning_rate': 0.08775256703514342, 'num_leaves': 682, 'feature_fraction': 0.5974005260560606, 'max_depth': 4, 'min_data_in_leaf': 571, 'lambda_l1': 2.1684511472367713, 'lambda_l2': 6.210750298686233, 'min_gain_to_split': 9.413572666666763, 'bagging_fraction': 0.6288283664863297, 'bagging_freq': 10, 'min_sum_hessian_in_leaf': 25.044165476287894}. Best is trial 16 with value: 0.9306908989704062.\n"
     ]
    },
    {
     "name": "stdout",
     "output_type": "stream",
     "text": [
      "Training until validation scores don't improve for 50 rounds\n",
      "Early stopping, best iteration is:\n",
      "[184]\tvalid_0's auc: 0.932811\n",
      "Training until validation scores don't improve for 50 rounds\n",
      "Did not meet early stopping. Best iteration is:\n",
      "[306]\tvalid_0's auc: 0.941289\n",
      "Training until validation scores don't improve for 50 rounds\n",
      "Early stopping, best iteration is:\n",
      "[246]\tvalid_0's auc: 0.928926\n",
      "Training until validation scores don't improve for 50 rounds\n",
      "Early stopping, best iteration is:\n",
      "[156]\tvalid_0's auc: 0.933826\n",
      "Training until validation scores don't improve for 50 rounds\n",
      "Early stopping, best iteration is:\n",
      "[226]\tvalid_0's auc: 0.939233\n"
     ]
    },
    {
     "name": "stderr",
     "output_type": "stream",
     "text": [
      "[I 2025-10-09 14:37:48,122] Trial 20 finished with value: 0.9352171367702047 and parameters: {'num_iterations': 328, 'learning_rate': 0.14148630707550516, 'num_leaves': 1414, 'feature_fraction': 0.9875433065616599, 'max_depth': 7, 'min_data_in_leaf': 493, 'lambda_l1': 10.247614031512086, 'lambda_l2': 9.070048893987414, 'min_gain_to_split': 0.048902496199919376, 'bagging_fraction': 0.9888299137414693, 'bagging_freq': 7, 'min_sum_hessian_in_leaf': 6.471289490776165}. Best is trial 20 with value: 0.9352171367702047.\n"
     ]
    },
    {
     "name": "stdout",
     "output_type": "stream",
     "text": [
      "Training until validation scores don't improve for 50 rounds\n",
      "Early stopping, best iteration is:\n",
      "[262]\tvalid_0's auc: 0.934467\n",
      "Training until validation scores don't improve for 50 rounds\n",
      "Early stopping, best iteration is:\n",
      "[237]\tvalid_0's auc: 0.940359\n",
      "Training until validation scores don't improve for 50 rounds\n",
      "Early stopping, best iteration is:\n",
      "[164]\tvalid_0's auc: 0.927965\n",
      "Training until validation scores don't improve for 50 rounds\n",
      "Early stopping, best iteration is:\n",
      "[88]\tvalid_0's auc: 0.933337\n",
      "Training until validation scores don't improve for 50 rounds\n",
      "Did not meet early stopping. Best iteration is:\n",
      "[351]\tvalid_0's auc: 0.939529\n"
     ]
    },
    {
     "name": "stderr",
     "output_type": "stream",
     "text": [
      "[I 2025-10-09 14:40:12,561] Trial 21 finished with value: 0.9351312483896871 and parameters: {'num_iterations': 361, 'learning_rate': 0.13775019388531756, 'num_leaves': 1455, 'feature_fraction': 0.9909289429188364, 'max_depth': 7, 'min_data_in_leaf': 496, 'lambda_l1': 10.36927339301408, 'lambda_l2': 8.949074857818111, 'min_gain_to_split': 0.00738348879646189, 'bagging_fraction': 0.9963188790238322, 'bagging_freq': 7, 'min_sum_hessian_in_leaf': 6.893657302298395}. Best is trial 20 with value: 0.9352171367702047.\n"
     ]
    },
    {
     "name": "stdout",
     "output_type": "stream",
     "text": [
      "Training until validation scores don't improve for 50 rounds\n",
      "Early stopping, best iteration is:\n",
      "[124]\tvalid_0's auc: 0.933198\n",
      "Training until validation scores don't improve for 50 rounds\n",
      "Early stopping, best iteration is:\n",
      "[199]\tvalid_0's auc: 0.939544\n",
      "Training until validation scores don't improve for 50 rounds\n",
      "Early stopping, best iteration is:\n",
      "[96]\tvalid_0's auc: 0.928721\n",
      "Training until validation scores don't improve for 50 rounds\n",
      "Early stopping, best iteration is:\n",
      "[141]\tvalid_0's auc: 0.934087\n",
      "Training until validation scores don't improve for 50 rounds\n",
      "Early stopping, best iteration is:\n",
      "[142]\tvalid_0's auc: 0.937668\n"
     ]
    },
    {
     "name": "stderr",
     "output_type": "stream",
     "text": [
      "[I 2025-10-09 14:41:54,299] Trial 22 finished with value: 0.9346436612136635 and parameters: {'num_iterations': 341, 'learning_rate': 0.15674783297318579, 'num_leaves': 1456, 'feature_fraction': 0.992314440560798, 'max_depth': 11, 'min_data_in_leaf': 464, 'lambda_l1': 10.54868695685168, 'lambda_l2': 8.922250694253982, 'min_gain_to_split': 0.12960033974066054, 'bagging_fraction': 0.9809824846628696, 'bagging_freq': 7, 'min_sum_hessian_in_leaf': 7.4635749280652846}. Best is trial 20 with value: 0.9352171367702047.\n"
     ]
    },
    {
     "name": "stdout",
     "output_type": "stream",
     "text": [
      "Training until validation scores don't improve for 50 rounds\n",
      "Early stopping, best iteration is:\n",
      "[153]\tvalid_0's auc: 0.932154\n",
      "Training until validation scores don't improve for 50 rounds\n",
      "Early stopping, best iteration is:\n",
      "[118]\tvalid_0's auc: 0.938771\n",
      "Training until validation scores don't improve for 50 rounds\n",
      "Early stopping, best iteration is:\n",
      "[92]\tvalid_0's auc: 0.928226\n",
      "Training until validation scores don't improve for 50 rounds\n",
      "Early stopping, best iteration is:\n",
      "[105]\tvalid_0's auc: 0.934332\n",
      "Training until validation scores don't improve for 50 rounds\n",
      "Early stopping, best iteration is:\n",
      "[64]\tvalid_0's auc: 0.937639\n"
     ]
    },
    {
     "name": "stderr",
     "output_type": "stream",
     "text": [
      "[I 2025-10-09 14:43:22,871] Trial 23 finished with value: 0.934224515620216 and parameters: {'num_iterations': 377, 'learning_rate': 0.1602012317301575, 'num_leaves': 1522, 'feature_fraction': 0.9988153983605003, 'max_depth': 10, 'min_data_in_leaf': 413, 'lambda_l1': 10.119600599314328, 'lambda_l2': 8.881250681693835, 'min_gain_to_split': 0.2613193706263339, 'bagging_fraction': 0.9808030111087076, 'bagging_freq': 7, 'min_sum_hessian_in_leaf': 6.672144665377505}. Best is trial 20 with value: 0.9352171367702047.\n"
     ]
    },
    {
     "name": "stdout",
     "output_type": "stream",
     "text": [
      "Training until validation scores don't improve for 50 rounds\n",
      "Early stopping, best iteration is:\n",
      "[118]\tvalid_0's auc: 0.93279\n",
      "Training until validation scores don't improve for 50 rounds\n",
      "Early stopping, best iteration is:\n",
      "[223]\tvalid_0's auc: 0.940147\n",
      "Training until validation scores don't improve for 50 rounds\n",
      "Early stopping, best iteration is:\n",
      "[246]\tvalid_0's auc: 0.92898\n",
      "Training until validation scores don't improve for 50 rounds\n",
      "Early stopping, best iteration is:\n",
      "[149]\tvalid_0's auc: 0.934009\n",
      "Training until validation scores don't improve for 50 rounds\n",
      "Early stopping, best iteration is:\n",
      "[184]\tvalid_0's auc: 0.938193\n"
     ]
    },
    {
     "name": "stderr",
     "output_type": "stream",
     "text": [
      "[I 2025-10-09 14:45:03,751] Trial 24 finished with value: 0.9348237928873224 and parameters: {'num_iterations': 406, 'learning_rate': 0.15373356079981018, 'num_leaves': 1369, 'feature_fraction': 0.8261245422719168, 'max_depth': 7, 'min_data_in_leaf': 220, 'lambda_l1': 10.450288447847596, 'lambda_l2': 8.395524465029425, 'min_gain_to_split': 0.038312061034643304, 'bagging_fraction': 0.993919652951368, 'bagging_freq': 7, 'min_sum_hessian_in_leaf': 7.951849759549634}. Best is trial 20 with value: 0.9352171367702047.\n"
     ]
    },
    {
     "name": "stdout",
     "output_type": "stream",
     "text": [
      "Training until validation scores don't improve for 50 rounds\n",
      "Early stopping, best iteration is:\n",
      "[169]\tvalid_0's auc: 0.93283\n",
      "Training until validation scores don't improve for 50 rounds\n",
      "Early stopping, best iteration is:\n",
      "[130]\tvalid_0's auc: 0.938322\n",
      "Training until validation scores don't improve for 50 rounds\n",
      "Early stopping, best iteration is:\n",
      "[149]\tvalid_0's auc: 0.927345\n",
      "Training until validation scores don't improve for 50 rounds\n",
      "Early stopping, best iteration is:\n",
      "[149]\tvalid_0's auc: 0.933758\n",
      "Training until validation scores don't improve for 50 rounds\n",
      "Early stopping, best iteration is:\n",
      "[160]\tvalid_0's auc: 0.936705\n"
     ]
    },
    {
     "name": "stderr",
     "output_type": "stream",
     "text": [
      "[I 2025-10-09 14:46:13,803] Trial 25 finished with value: 0.933791896765278 and parameters: {'num_iterations': 469, 'learning_rate': 0.1281723474748134, 'num_leaves': 1356, 'feature_fraction': 0.8542634639106615, 'max_depth': 7, 'min_data_in_leaf': 2, 'lambda_l1': 9.318928870544603, 'lambda_l2': 8.983270875274913, 'min_gain_to_split': 0.7522414405522448, 'bagging_fraction': 0.9254214651494851, 'bagging_freq': 7, 'min_sum_hessian_in_leaf': 6.919985285653022}. Best is trial 20 with value: 0.9352171367702047.\n"
     ]
    },
    {
     "name": "stdout",
     "output_type": "stream",
     "text": [
      "Training until validation scores don't improve for 50 rounds\n",
      "Did not meet early stopping. Best iteration is:\n",
      "[111]\tvalid_0's auc: 0.928766\n",
      "Training until validation scores don't improve for 50 rounds\n",
      "Did not meet early stopping. Best iteration is:\n",
      "[160]\tvalid_0's auc: 0.934752\n",
      "Training until validation scores don't improve for 50 rounds\n",
      "Did not meet early stopping. Best iteration is:\n",
      "[152]\tvalid_0's auc: 0.921295\n",
      "Training until validation scores don't improve for 50 rounds\n",
      "Did not meet early stopping. Best iteration is:\n",
      "[156]\tvalid_0's auc: 0.930419\n",
      "Training until validation scores don't improve for 50 rounds\n",
      "Did not meet early stopping. Best iteration is:\n",
      "[143]\tvalid_0's auc: 0.934109\n"
     ]
    },
    {
     "name": "stderr",
     "output_type": "stream",
     "text": [
      "[I 2025-10-09 14:47:01,466] Trial 26 finished with value: 0.9298680942695231 and parameters: {'num_iterations': 160, 'learning_rate': 0.19357753439987269, 'num_leaves': 1640, 'feature_fraction': 0.8182075424131399, 'max_depth': 3, 'min_data_in_leaf': 204, 'lambda_l1': 6.296917205498666, 'lambda_l2': 7.896623751875698, 'min_gain_to_split': 0.9199318558625768, 'bagging_fraction': 0.4215226954030178, 'bagging_freq': 8, 'min_sum_hessian_in_leaf': 9.186246039001857}. Best is trial 20 with value: 0.9352171367702047.\n"
     ]
    },
    {
     "name": "stdout",
     "output_type": "stream",
     "text": [
      "Training until validation scores don't improve for 50 rounds\n",
      "Early stopping, best iteration is:\n",
      "[100]\tvalid_0's auc: 0.931212\n",
      "Training until validation scores don't improve for 50 rounds\n",
      "Early stopping, best iteration is:\n",
      "[88]\tvalid_0's auc: 0.936892\n",
      "Training until validation scores don't improve for 50 rounds\n",
      "Early stopping, best iteration is:\n",
      "[94]\tvalid_0's auc: 0.925266\n",
      "Training until validation scores don't improve for 50 rounds\n",
      "Early stopping, best iteration is:\n",
      "[78]\tvalid_0's auc: 0.93204\n",
      "Training until validation scores don't improve for 50 rounds\n",
      "Early stopping, best iteration is:\n",
      "[97]\tvalid_0's auc: 0.936203\n"
     ]
    },
    {
     "name": "stderr",
     "output_type": "stream",
     "text": [
      "[I 2025-10-09 14:47:59,860] Trial 27 finished with value: 0.9323227378666632 and parameters: {'num_iterations': 196, 'learning_rate': 0.17675586740276325, 'num_leaves': 1327, 'feature_fraction': 0.8077376529289241, 'max_depth': 7, 'min_data_in_leaf': 631, 'lambda_l1': 11.230267918879896, 'lambda_l2': 10.856143382740752, 'min_gain_to_split': 0.680371323894233, 'bagging_fraction': 0.9938545193329472, 'bagging_freq': 9, 'min_sum_hessian_in_leaf': 5.0508436729009105}. Best is trial 20 with value: 0.9352171367702047.\n"
     ]
    },
    {
     "name": "stdout",
     "output_type": "stream",
     "text": [
      "Training until validation scores don't improve for 50 rounds\n",
      "Early stopping, best iteration is:\n",
      "[179]\tvalid_0's auc: 0.933193\n",
      "Training until validation scores don't improve for 50 rounds\n",
      "Early stopping, best iteration is:\n",
      "[219]\tvalid_0's auc: 0.939632\n",
      "Training until validation scores don't improve for 50 rounds\n",
      "Early stopping, best iteration is:\n",
      "[232]\tvalid_0's auc: 0.929399\n",
      "Training until validation scores don't improve for 50 rounds\n",
      "Early stopping, best iteration is:\n",
      "[291]\tvalid_0's auc: 0.934173\n",
      "Training until validation scores don't improve for 50 rounds\n",
      "Early stopping, best iteration is:\n",
      "[149]\tvalid_0's auc: 0.937493\n"
     ]
    },
    {
     "name": "stderr",
     "output_type": "stream",
     "text": [
      "[I 2025-10-09 14:49:53,420] Trial 28 finished with value: 0.9347779404050967 and parameters: {'num_iterations': 511, 'learning_rate': 0.13211110719571134, 'num_leaves': 1593, 'feature_fraction': 0.8852219113216064, 'max_depth': 7, 'min_data_in_leaf': 344, 'lambda_l1': 11.60227010942576, 'lambda_l2': 7.959833387404664, 'min_gain_to_split': 0.04254701674426098, 'bagging_fraction': 0.8921875382386104, 'bagging_freq': 5, 'min_sum_hessian_in_leaf': 9.915017393650862}. Best is trial 20 with value: 0.9352171367702047.\n"
     ]
    },
    {
     "name": "stdout",
     "output_type": "stream",
     "text": [
      "Training until validation scores don't improve for 50 rounds\n",
      "Did not meet early stopping. Best iteration is:\n",
      "[21]\tvalid_0's auc: 0.920115\n",
      "Training until validation scores don't improve for 50 rounds\n",
      "Did not meet early stopping. Best iteration is:\n",
      "[21]\tvalid_0's auc: 0.921943\n",
      "Training until validation scores don't improve for 50 rounds\n",
      "Did not meet early stopping. Best iteration is:\n",
      "[21]\tvalid_0's auc: 0.91014\n",
      "Training until validation scores don't improve for 50 rounds\n",
      "Did not meet early stopping. Best iteration is:\n",
      "[21]\tvalid_0's auc: 0.919531\n",
      "Training until validation scores don't improve for 50 rounds\n",
      "Did not meet early stopping. Best iteration is:\n",
      "[21]\tvalid_0's auc: 0.920676\n"
     ]
    },
    {
     "name": "stderr",
     "output_type": "stream",
     "text": [
      "[I 2025-10-09 14:50:33,261] Trial 29 finished with value: 0.9184810156457013 and parameters: {'num_iterations': 21, 'learning_rate': 0.13519228494517838, 'num_leaves': 1965, 'feature_fraction': 0.4947223730467968, 'max_depth': 3, 'min_data_in_leaf': 198, 'lambda_l1': 9.255568548194125, 'lambda_l2': 7.4150081610669005, 'min_gain_to_split': 5.1281979815210095, 'bagging_fraction': 0.9382798534467293, 'bagging_freq': 6, 'min_sum_hessian_in_leaf': 4.159458083041718}. Best is trial 20 with value: 0.9352171367702047.\n"
     ]
    },
    {
     "name": "stdout",
     "output_type": "stream",
     "text": [
      "Training until validation scores don't improve for 50 rounds\n",
      "Early stopping, best iteration is:\n",
      "[73]\tvalid_0's auc: 0.93035\n",
      "Training until validation scores don't improve for 50 rounds\n",
      "Early stopping, best iteration is:\n",
      "[65]\tvalid_0's auc: 0.935022\n",
      "Training until validation scores don't improve for 50 rounds\n",
      "Early stopping, best iteration is:\n",
      "[65]\tvalid_0's auc: 0.922317\n",
      "Training until validation scores don't improve for 50 rounds\n",
      "Early stopping, best iteration is:\n",
      "[61]\tvalid_0's auc: 0.930528\n",
      "Training until validation scores don't improve for 50 rounds\n",
      "Early stopping, best iteration is:\n",
      "[65]\tvalid_0's auc: 0.934855\n"
     ]
    },
    {
     "name": "stderr",
     "output_type": "stream",
     "text": [
      "[I 2025-10-09 14:51:31,630] Trial 30 finished with value: 0.9306143557515568 and parameters: {'num_iterations': 242, 'learning_rate': 0.17826938023658498, 'num_leaves': 2191, 'feature_fraction': 0.7816037482890598, 'max_depth': 6, 'min_data_in_leaf': 419, 'lambda_l1': 6.781929877859098, 'lambda_l2': 9.69575941853123, 'min_gain_to_split': 2.535457272945992, 'bagging_fraction': 0.999321375751208, 'bagging_freq': 7, 'min_sum_hessian_in_leaf': 9.242154923835038}. Best is trial 20 with value: 0.9352171367702047.\n"
     ]
    },
    {
     "name": "stdout",
     "output_type": "stream",
     "text": [
      "Training until validation scores don't improve for 50 rounds\n",
      "Early stopping, best iteration is:\n",
      "[258]\tvalid_0's auc: 0.933696\n",
      "Training until validation scores don't improve for 50 rounds\n",
      "Early stopping, best iteration is:\n",
      "[320]\tvalid_0's auc: 0.93962\n",
      "Training until validation scores don't improve for 50 rounds\n",
      "Early stopping, best iteration is:\n",
      "[130]\tvalid_0's auc: 0.927446\n",
      "Training until validation scores don't improve for 50 rounds\n",
      "Early stopping, best iteration is:\n",
      "[244]\tvalid_0's auc: 0.934204\n",
      "Training until validation scores don't improve for 50 rounds\n",
      "Early stopping, best iteration is:\n",
      "[155]\tvalid_0's auc: 0.937305\n"
     ]
    },
    {
     "name": "stderr",
     "output_type": "stream",
     "text": [
      "[I 2025-10-09 14:53:46,734] Trial 31 finished with value: 0.934454094151018 and parameters: {'num_iterations': 500, 'learning_rate': 0.1333580434248985, 'num_leaves': 1650, 'feature_fraction': 0.8805992904017397, 'max_depth': 8, 'min_data_in_leaf': 330, 'lambda_l1': 12.092761221476497, 'lambda_l2': 7.663025404898079, 'min_gain_to_split': 0.008930685186055567, 'bagging_fraction': 0.8864473030781231, 'bagging_freq': 5, 'min_sum_hessian_in_leaf': 9.812521332630833}. Best is trial 20 with value: 0.9352171367702047.\n"
     ]
    },
    {
     "name": "stdout",
     "output_type": "stream",
     "text": [
      "Training until validation scores don't improve for 50 rounds\n",
      "Early stopping, best iteration is:\n",
      "[100]\tvalid_0's auc: 0.932228\n",
      "Training until validation scores don't improve for 50 rounds\n",
      "Early stopping, best iteration is:\n",
      "[105]\tvalid_0's auc: 0.938248\n",
      "Training until validation scores don't improve for 50 rounds\n",
      "Early stopping, best iteration is:\n",
      "[106]\tvalid_0's auc: 0.925613\n",
      "Training until validation scores don't improve for 50 rounds\n",
      "Early stopping, best iteration is:\n",
      "[88]\tvalid_0's auc: 0.931483\n",
      "Training until validation scores don't improve for 50 rounds\n",
      "Early stopping, best iteration is:\n",
      "[133]\tvalid_0's auc: 0.936641\n"
     ]
    },
    {
     "name": "stderr",
     "output_type": "stream",
     "text": [
      "[I 2025-10-09 14:54:48,654] Trial 32 finished with value: 0.932842495032218 and parameters: {'num_iterations': 469, 'learning_rate': 0.14901280249638202, 'num_leaves': 1324, 'feature_fraction': 0.8347690997015286, 'max_depth': 7, 'min_data_in_leaf': 340, 'lambda_l1': 11.644133863313787, 'lambda_l2': 8.268428970318965, 'min_gain_to_split': 1.0176756531357087, 'bagging_fraction': 0.9502026467308309, 'bagging_freq': 4, 'min_sum_hessian_in_leaf': 4.961124003004242}. Best is trial 20 with value: 0.9352171367702047.\n"
     ]
    },
    {
     "name": "stdout",
     "output_type": "stream",
     "text": [
      "Training until validation scores don't improve for 50 rounds\n",
      "Early stopping, best iteration is:\n",
      "[214]\tvalid_0's auc: 0.931784\n",
      "Training until validation scores don't improve for 50 rounds\n",
      "Early stopping, best iteration is:\n",
      "[310]\tvalid_0's auc: 0.937696\n",
      "Training until validation scores don't improve for 50 rounds\n",
      "Early stopping, best iteration is:\n",
      "[253]\tvalid_0's auc: 0.926064\n",
      "Training until validation scores don't improve for 50 rounds\n",
      "Early stopping, best iteration is:\n",
      "[203]\tvalid_0's auc: 0.933631\n",
      "Training until validation scores don't improve for 50 rounds\n",
      "Early stopping, best iteration is:\n",
      "[263]\tvalid_0's auc: 0.936831\n"
     ]
    },
    {
     "name": "stderr",
     "output_type": "stream",
     "text": [
      "[I 2025-10-09 14:56:18,235] Trial 33 finished with value: 0.9332010676957033 and parameters: {'num_iterations': 633, 'learning_rate': 0.11762522537529892, 'num_leaves': 1568, 'feature_fraction': 0.8816522727552777, 'max_depth': 5, 'min_data_in_leaf': 128, 'lambda_l1': 10.983891397376313, 'lambda_l2': 4.981179329336612, 'min_gain_to_split': 0.5184556663512868, 'bagging_fraction': 0.9565143031259961, 'bagging_freq': 5, 'min_sum_hessian_in_leaf': 29.05313449657534}. Best is trial 20 with value: 0.9352171367702047.\n"
     ]
    },
    {
     "name": "stdout",
     "output_type": "stream",
     "text": [
      "Training until validation scores don't improve for 50 rounds\n",
      "Early stopping, best iteration is:\n",
      "[85]\tvalid_0's auc: 0.931321\n",
      "Training until validation scores don't improve for 50 rounds\n",
      "Early stopping, best iteration is:\n",
      "[102]\tvalid_0's auc: 0.936038\n",
      "Training until validation scores don't improve for 50 rounds\n",
      "Early stopping, best iteration is:\n",
      "[97]\tvalid_0's auc: 0.923786\n",
      "Training until validation scores don't improve for 50 rounds\n",
      "Early stopping, best iteration is:\n",
      "[109]\tvalid_0's auc: 0.931643\n",
      "Training until validation scores don't improve for 50 rounds\n",
      "Early stopping, best iteration is:\n",
      "[75]\tvalid_0's auc: 0.935474\n"
     ]
    },
    {
     "name": "stderr",
     "output_type": "stream",
     "text": [
      "[I 2025-10-09 14:57:18,731] Trial 34 finished with value: 0.9316523217889362 and parameters: {'num_iterations': 415, 'learning_rate': 0.17337285351266601, 'num_leaves': 1086, 'feature_fraction': 0.9648863762920756, 'max_depth': 10, 'min_data_in_leaf': 842, 'lambda_l1': 9.725057866138036, 'lambda_l2': 9.863576788587958, 'min_gain_to_split': 1.2748076316011556, 'bagging_fraction': 0.8969823122769061, 'bagging_freq': 6, 'min_sum_hessian_in_leaf': 14.1067363584061}. Best is trial 20 with value: 0.9352171367702047.\n"
     ]
    },
    {
     "name": "stdout",
     "output_type": "stream",
     "text": [
      "Training until validation scores don't improve for 50 rounds\n",
      "Early stopping, best iteration is:\n",
      "[82]\tvalid_0's auc: 0.929064\n",
      "Training until validation scores don't improve for 50 rounds\n",
      "Early stopping, best iteration is:\n",
      "[90]\tvalid_0's auc: 0.934363\n",
      "Training until validation scores don't improve for 50 rounds\n",
      "Early stopping, best iteration is:\n",
      "[76]\tvalid_0's auc: 0.92138\n",
      "Training until validation scores don't improve for 50 rounds\n",
      "Early stopping, best iteration is:\n",
      "[87]\tvalid_0's auc: 0.931004\n",
      "Training until validation scores don't improve for 50 rounds\n",
      "Early stopping, best iteration is:\n",
      "[69]\tvalid_0's auc: 0.933578\n"
     ]
    },
    {
     "name": "stderr",
     "output_type": "stream",
     "text": [
      "[I 2025-10-09 14:58:15,049] Trial 35 finished with value: 0.9298780110730659 and parameters: {'num_iterations': 895, 'learning_rate': 0.1482352117775796, 'num_leaves': 1827, 'feature_fraction': 0.9191826536436631, 'max_depth': 8, 'min_data_in_leaf': 444, 'lambda_l1': 13.060398267748607, 'lambda_l2': 11.149069912549729, 'min_gain_to_split': 2.5121555874378116, 'bagging_fraction': 0.7295548708609366, 'bagging_freq': 7, 'min_sum_hessian_in_leaf': 10.56312033284349}. Best is trial 20 with value: 0.9352171367702047.\n"
     ]
    },
    {
     "name": "stdout",
     "output_type": "stream",
     "text": [
      "Training until validation scores don't improve for 50 rounds\n",
      "Early stopping, best iteration is:\n",
      "[385]\tvalid_0's auc: 0.932415\n",
      "Training until validation scores don't improve for 50 rounds\n",
      "Early stopping, best iteration is:\n",
      "[414]\tvalid_0's auc: 0.939145\n",
      "Training until validation scores don't improve for 50 rounds\n",
      "Did not meet early stopping. Best iteration is:\n",
      "[517]\tvalid_0's auc: 0.927998\n",
      "Training until validation scores don't improve for 50 rounds\n",
      "Early stopping, best iteration is:\n",
      "[320]\tvalid_0's auc: 0.934343\n",
      "Training until validation scores don't improve for 50 rounds\n",
      "Early stopping, best iteration is:\n",
      "[245]\tvalid_0's auc: 0.936932\n"
     ]
    },
    {
     "name": "stderr",
     "output_type": "stream",
     "text": [
      "[I 2025-10-09 15:00:46,242] Trial 36 finished with value: 0.9341666606886031 and parameters: {'num_iterations': 517, 'learning_rate': 0.07468700447425404, 'num_leaves': 1418, 'feature_fraction': 0.8671843116573825, 'max_depth': 6, 'min_data_in_leaf': 603, 'lambda_l1': 8.75774512440673, 'lambda_l2': 7.211950321996195, 'min_gain_to_split': 0.06579347565792673, 'bagging_fraction': 0.8648052183650696, 'bagging_freq': 6, 'min_sum_hessian_in_leaf': 19.572590927218357}. Best is trial 20 with value: 0.9352171367702047.\n"
     ]
    },
    {
     "name": "stdout",
     "output_type": "stream",
     "text": [
      "Training until validation scores don't improve for 50 rounds\n",
      "Early stopping, best iteration is:\n",
      "[115]\tvalid_0's auc: 0.93156\n",
      "Training until validation scores don't improve for 50 rounds\n",
      "Early stopping, best iteration is:\n",
      "[163]\tvalid_0's auc: 0.93842\n",
      "Training until validation scores don't improve for 50 rounds\n",
      "Early stopping, best iteration is:\n",
      "[183]\tvalid_0's auc: 0.92508\n",
      "Training until validation scores don't improve for 50 rounds\n",
      "Early stopping, best iteration is:\n",
      "[149]\tvalid_0's auc: 0.932515\n",
      "Training until validation scores don't improve for 50 rounds\n",
      "Early stopping, best iteration is:\n",
      "[87]\tvalid_0's auc: 0.93595\n"
     ]
    },
    {
     "name": "stderr",
     "output_type": "stream",
     "text": [
      "[I 2025-10-09 15:01:56,897] Trial 37 finished with value: 0.932705015919683 and parameters: {'num_iterations': 283, 'learning_rate': 0.11259115454909273, 'num_leaves': 1230, 'feature_fraction': 0.766471009263724, 'max_depth': 9, 'min_data_in_leaf': 265, 'lambda_l1': 11.568061796901304, 'lambda_l2': 12.197718414344841, 'min_gain_to_split': 1.0418109638634558, 'bagging_fraction': 0.8466946536370402, 'bagging_freq': 8, 'min_sum_hessian_in_leaf': 6.5812401573858885}. Best is trial 20 with value: 0.9352171367702047.\n"
     ]
    },
    {
     "name": "stdout",
     "output_type": "stream",
     "text": [
      "Training until validation scores don't improve for 50 rounds\n",
      "Early stopping, best iteration is:\n",
      "[115]\tvalid_0's auc: 0.93056\n",
      "Training until validation scores don't improve for 50 rounds\n",
      "Early stopping, best iteration is:\n",
      "[112]\tvalid_0's auc: 0.93579\n",
      "Training until validation scores don't improve for 50 rounds\n",
      "Early stopping, best iteration is:\n",
      "[107]\tvalid_0's auc: 0.923746\n",
      "Training until validation scores don't improve for 50 rounds\n",
      "Early stopping, best iteration is:\n",
      "[101]\tvalid_0's auc: 0.932473\n",
      "Training until validation scores don't improve for 50 rounds\n",
      "Early stopping, best iteration is:\n",
      "[121]\tvalid_0's auc: 0.934409\n"
     ]
    },
    {
     "name": "stderr",
     "output_type": "stream",
     "text": [
      "[I 2025-10-09 15:02:54,510] Trial 38 finished with value: 0.9313929214810595 and parameters: {'num_iterations': 879, 'learning_rate': 0.20451317546816855, 'num_leaves': 1597, 'feature_fraction': 0.685822087290038, 'max_depth': 4, 'min_data_in_leaf': 748, 'lambda_l1': 6.88759666607111, 'lambda_l2': 4.689201894632136, 'min_gain_to_split': 2.4053690387941207, 'bagging_fraction': 0.953466075781121, 'bagging_freq': 3, 'min_sum_hessian_in_leaf': 8.000831088647578}. Best is trial 20 with value: 0.9352171367702047.\n"
     ]
    },
    {
     "name": "stdout",
     "output_type": "stream",
     "text": [
      "Training until validation scores don't improve for 50 rounds\n",
      "Early stopping, best iteration is:\n",
      "[111]\tvalid_0's auc: 0.932703\n",
      "Training until validation scores don't improve for 50 rounds\n",
      "Early stopping, best iteration is:\n",
      "[145]\tvalid_0's auc: 0.938584\n",
      "Training until validation scores don't improve for 50 rounds\n",
      "Early stopping, best iteration is:\n",
      "[129]\tvalid_0's auc: 0.926981\n",
      "Training until validation scores don't improve for 50 rounds\n",
      "Early stopping, best iteration is:\n",
      "[126]\tvalid_0's auc: 0.931936\n",
      "Training until validation scores don't improve for 50 rounds\n",
      "Early stopping, best iteration is:\n",
      "[121]\tvalid_0's auc: 0.93608\n"
     ]
    },
    {
     "name": "stderr",
     "output_type": "stream",
     "text": [
      "[I 2025-10-09 15:04:07,879] Trial 39 finished with value: 0.9332567822114409 and parameters: {'num_iterations': 581, 'learning_rate': 0.14018866220562873, 'num_leaves': 1884, 'feature_fraction': 0.9046215361990803, 'max_depth': -1, 'min_data_in_leaf': 478, 'lambda_l1': 12.415159627285615, 'lambda_l2': 8.326564598948156, 'min_gain_to_split': 0.6116792827608095, 'bagging_fraction': 0.9178697708171761, 'bagging_freq': 5, 'min_sum_hessian_in_leaf': 3.6811654842993935}. Best is trial 20 with value: 0.9352171367702047.\n"
     ]
    },
    {
     "name": "stdout",
     "output_type": "stream",
     "text": [
      "Training until validation scores don't improve for 50 rounds\n",
      "Early stopping, best iteration is:\n",
      "[58]\tvalid_0's auc: 0.928076\n",
      "Training until validation scores don't improve for 50 rounds\n",
      "Early stopping, best iteration is:\n",
      "[60]\tvalid_0's auc: 0.933718\n",
      "Training until validation scores don't improve for 50 rounds\n",
      "Early stopping, best iteration is:\n",
      "[51]\tvalid_0's auc: 0.919824\n",
      "Training until validation scores don't improve for 50 rounds\n",
      "Early stopping, best iteration is:\n",
      "[61]\tvalid_0's auc: 0.930941\n",
      "Training until validation scores don't improve for 50 rounds\n",
      "Early stopping, best iteration is:\n",
      "[50]\tvalid_0's auc: 0.932581\n"
     ]
    },
    {
     "name": "stderr",
     "output_type": "stream",
     "text": [
      "[I 2025-10-09 15:04:58,934] Trial 40 finished with value: 0.9290278712534084 and parameters: {'num_iterations': 782, 'learning_rate': 0.16612879543703768, 'num_leaves': 1456, 'feature_fraction': 0.8440162052272098, 'max_depth': 10, 'min_data_in_leaf': 384, 'lambda_l1': 5.347711234053005, 'lambda_l2': 9.745391311357853, 'min_gain_to_split': 4.55167355226448, 'bagging_fraction': 0.8355795845753176, 'bagging_freq': 9, 'min_sum_hessian_in_leaf': 13.310808938016965}. Best is trial 20 with value: 0.9352171367702047.\n"
     ]
    },
    {
     "name": "stdout",
     "output_type": "stream",
     "text": [
      "Training until validation scores don't improve for 50 rounds\n",
      "Early stopping, best iteration is:\n",
      "[110]\tvalid_0's auc: 0.932425\n",
      "Training until validation scores don't improve for 50 rounds\n",
      "Early stopping, best iteration is:\n",
      "[109]\tvalid_0's auc: 0.939924\n",
      "Training until validation scores don't improve for 50 rounds\n",
      "Early stopping, best iteration is:\n",
      "[230]\tvalid_0's auc: 0.927334\n",
      "Training until validation scores don't improve for 50 rounds\n",
      "Early stopping, best iteration is:\n",
      "[156]\tvalid_0's auc: 0.933788\n",
      "Training until validation scores don't improve for 50 rounds\n",
      "Early stopping, best iteration is:\n",
      "[103]\tvalid_0's auc: 0.93757\n"
     ]
    },
    {
     "name": "stderr",
     "output_type": "stream",
     "text": [
      "[I 2025-10-09 15:07:01,739] Trial 41 finished with value: 0.9342081937441739 and parameters: {'num_iterations': 354, 'learning_rate': 0.15674994649089416, 'num_leaves': 1728, 'feature_fraction': 0.9949358059116589, 'max_depth': 10, 'min_data_in_leaf': 474, 'lambda_l1': 10.821546007252428, 'lambda_l2': 9.052590213472698, 'min_gain_to_split': 0.020408660832606174, 'bagging_fraction': 0.9759830323608942, 'bagging_freq': 7, 'min_sum_hessian_in_leaf': 7.963194746217745}. Best is trial 20 with value: 0.9352171367702047.\n"
     ]
    },
    {
     "name": "stdout",
     "output_type": "stream",
     "text": [
      "Training until validation scores don't improve for 50 rounds\n",
      "Early stopping, best iteration is:\n",
      "[62]\tvalid_0's auc: 0.931427\n",
      "Training until validation scores don't improve for 50 rounds\n",
      "Early stopping, best iteration is:\n",
      "[57]\tvalid_0's auc: 0.935486\n",
      "Training until validation scores don't improve for 50 rounds\n",
      "Early stopping, best iteration is:\n",
      "[57]\tvalid_0's auc: 0.925455\n",
      "Training until validation scores don't improve for 50 rounds\n",
      "Early stopping, best iteration is:\n",
      "[50]\tvalid_0's auc: 0.931668\n",
      "Training until validation scores don't improve for 50 rounds\n",
      "Early stopping, best iteration is:\n",
      "[57]\tvalid_0's auc: 0.935484\n"
     ]
    },
    {
     "name": "stderr",
     "output_type": "stream",
     "text": [
      "[I 2025-10-09 15:08:04,496] Trial 42 finished with value: 0.9319041283762471 and parameters: {'num_iterations': 336, 'learning_rate': 0.1906291954473005, 'num_leaves': 1479, 'feature_fraction': 0.9733512276757839, 'max_depth': 11, 'min_data_in_leaf': 322, 'lambda_l1': 10.203710488440109, 'lambda_l2': 6.552144374877865, 'min_gain_to_split': 1.4189347712540366, 'bagging_fraction': 0.9764305847101874, 'bagging_freq': 7, 'min_sum_hessian_in_leaf': 5.71243319478249}. Best is trial 20 with value: 0.9352171367702047.\n"
     ]
    },
    {
     "name": "stdout",
     "output_type": "stream",
     "text": [
      "Training until validation scores don't improve for 50 rounds\n",
      "Early stopping, best iteration is:\n",
      "[147]\tvalid_0's auc: 0.933077\n",
      "Training until validation scores don't improve for 50 rounds\n",
      "Early stopping, best iteration is:\n",
      "[192]\tvalid_0's auc: 0.938866\n",
      "Training until validation scores don't improve for 50 rounds\n",
      "Early stopping, best iteration is:\n",
      "[274]\tvalid_0's auc: 0.926976\n",
      "Training until validation scores don't improve for 50 rounds\n",
      "Early stopping, best iteration is:\n",
      "[147]\tvalid_0's auc: 0.933323\n",
      "Training until validation scores don't improve for 50 rounds\n",
      "Early stopping, best iteration is:\n",
      "[213]\tvalid_0's auc: 0.938495\n"
     ]
    },
    {
     "name": "stderr",
     "output_type": "stream",
     "text": [
      "[I 2025-10-09 15:09:37,878] Trial 43 finished with value: 0.9341475102964957 and parameters: {'num_iterations': 665, 'learning_rate': 0.12193084040748006, 'num_leaves': 1283, 'feature_fraction': 0.9296412614923657, 'max_depth': 7, 'min_data_in_leaf': 128, 'lambda_l1': 9.176241448671107, 'lambda_l2': 10.43607744487025, 'min_gain_to_split': 0.48583659383296174, 'bagging_fraction': 0.8866615627017275, 'bagging_freq': 6, 'min_sum_hessian_in_leaf': 10.831919835734114}. Best is trial 20 with value: 0.9352171367702047.\n"
     ]
    },
    {
     "name": "stdout",
     "output_type": "stream",
     "text": [
      "Training until validation scores don't improve for 50 rounds\n",
      "Did not meet early stopping. Best iteration is:\n",
      "[99]\tvalid_0's auc: 0.930018\n",
      "Training until validation scores don't improve for 50 rounds\n",
      "Did not meet early stopping. Best iteration is:\n",
      "[101]\tvalid_0's auc: 0.935415\n",
      "Training until validation scores don't improve for 50 rounds\n",
      "Did not meet early stopping. Best iteration is:\n",
      "[104]\tvalid_0's auc: 0.92404\n",
      "Training until validation scores don't improve for 50 rounds\n",
      "Did not meet early stopping. Best iteration is:\n",
      "[93]\tvalid_0's auc: 0.931204\n",
      "Training until validation scores don't improve for 50 rounds\n",
      "Did not meet early stopping. Best iteration is:\n",
      "[101]\tvalid_0's auc: 0.934409\n"
     ]
    },
    {
     "name": "stderr",
     "output_type": "stream",
     "text": [
      "[I 2025-10-09 15:10:36,979] Trial 44 finished with value: 0.931016971040831 and parameters: {'num_iterations': 115, 'learning_rate': 0.10350697106667466, 'num_leaves': 1099, 'feature_fraction': 0.998732741902765, 'max_depth': 8, 'min_data_in_leaf': 668, 'lambda_l1': 12.866611303365204, 'lambda_l2': 8.619734862535916, 'min_gain_to_split': 1.8220405561130883, 'bagging_fraction': 0.963343296552413, 'bagging_freq': 8, 'min_sum_hessian_in_leaf': 8.547736067164838}. Best is trial 20 with value: 0.9352171367702047.\n"
     ]
    },
    {
     "name": "stdout",
     "output_type": "stream",
     "text": [
      "Training until validation scores don't improve for 50 rounds\n",
      "Did not meet early stopping. Best iteration is:\n",
      "[230]\tvalid_0's auc: 0.933124\n",
      "Training until validation scores don't improve for 50 rounds\n",
      "Did not meet early stopping. Best iteration is:\n",
      "[220]\tvalid_0's auc: 0.939096\n",
      "Training until validation scores don't improve for 50 rounds\n",
      "Did not meet early stopping. Best iteration is:\n",
      "[226]\tvalid_0's auc: 0.926584\n",
      "Training until validation scores don't improve for 50 rounds\n",
      "Did not meet early stopping. Best iteration is:\n",
      "[231]\tvalid_0's auc: 0.934422\n",
      "Training until validation scores don't improve for 50 rounds\n",
      "Early stopping, best iteration is:\n",
      "[156]\tvalid_0's auc: 0.936544\n"
     ]
    },
    {
     "name": "stderr",
     "output_type": "stream",
     "text": [
      "[I 2025-10-09 15:12:01,351] Trial 45 finished with value: 0.9339538877778464 and parameters: {'num_iterations': 234, 'learning_rate': 0.14044430152938575, 'num_leaves': 1393, 'feature_fraction': 0.9077196148646127, 'max_depth': 5, 'min_data_in_leaf': 207, 'lambda_l1': 10.6188523326036, 'lambda_l2': 9.385179398080089, 'min_gain_to_split': 0.4568811061398223, 'bagging_fraction': 0.9237361102232275, 'bagging_freq': 7, 'min_sum_hessian_in_leaf': 11.195054451516372}. Best is trial 20 with value: 0.9352171367702047.\n"
     ]
    },
    {
     "name": "stdout",
     "output_type": "stream",
     "text": [
      "Training until validation scores don't improve for 50 rounds\n",
      "Early stopping, best iteration is:\n",
      "[31]\tvalid_0's auc: 0.926218\n",
      "Training until validation scores don't improve for 50 rounds\n",
      "Early stopping, best iteration is:\n",
      "[31]\tvalid_0's auc: 0.930101\n",
      "Training until validation scores don't improve for 50 rounds\n",
      "Early stopping, best iteration is:\n",
      "[32]\tvalid_0's auc: 0.91809\n",
      "Training until validation scores don't improve for 50 rounds\n",
      "Early stopping, best iteration is:\n",
      "[49]\tvalid_0's auc: 0.928479\n",
      "Training until validation scores don't improve for 50 rounds\n",
      "Early stopping, best iteration is:\n",
      "[31]\tvalid_0's auc: 0.930298\n"
     ]
    },
    {
     "name": "stderr",
     "output_type": "stream",
     "text": [
      "[I 2025-10-09 15:12:49,878] Trial 46 finished with value: 0.9266374042593094 and parameters: {'num_iterations': 1348, 'learning_rate': 0.22403445860581517, 'num_leaves': 1731, 'feature_fraction': 0.9569358942031508, 'max_depth': 9, 'min_data_in_leaf': 1203, 'lambda_l1': 11.626022668897736, 'lambda_l2': 7.021177927608688, 'min_gain_to_split': 8.46682321631376, 'bagging_fraction': 0.9972981872495722, 'bagging_freq': 4, 'min_sum_hessian_in_leaf': 7.333170291949798}. Best is trial 20 with value: 0.9352171367702047.\n"
     ]
    },
    {
     "name": "stdout",
     "output_type": "stream",
     "text": [
      "Training until validation scores don't improve for 50 rounds\n",
      "Early stopping, best iteration is:\n",
      "[115]\tvalid_0's auc: 0.929026\n",
      "Training until validation scores don't improve for 50 rounds\n",
      "Early stopping, best iteration is:\n",
      "[104]\tvalid_0's auc: 0.93465\n",
      "Training until validation scores don't improve for 50 rounds\n",
      "Early stopping, best iteration is:\n",
      "[131]\tvalid_0's auc: 0.92203\n",
      "Training until validation scores don't improve for 50 rounds\n",
      "Early stopping, best iteration is:\n",
      "[103]\tvalid_0's auc: 0.930722\n",
      "Training until validation scores don't improve for 50 rounds\n",
      "Early stopping, best iteration is:\n",
      "[89]\tvalid_0's auc: 0.932609\n"
     ]
    },
    {
     "name": "stderr",
     "output_type": "stream",
     "text": [
      "[I 2025-10-09 15:13:48,392] Trial 47 finished with value: 0.9298074050853915 and parameters: {'num_iterations': 407, 'learning_rate': 0.08547369071327542, 'num_leaves': 261, 'feature_fraction': 0.9684329688821974, 'max_depth': 11, 'min_data_in_leaf': 473, 'lambda_l1': 13.749895289189567, 'lambda_l2': 10.320772379429972, 'min_gain_to_split': 2.8997607077949326, 'bagging_fraction': 0.8010704986709734, 'bagging_freq': 8, 'min_sum_hessian_in_leaf': 3.267565719482061}. Best is trial 20 with value: 0.9352171367702047.\n"
     ]
    },
    {
     "name": "stdout",
     "output_type": "stream",
     "text": [
      "Training until validation scores don't improve for 50 rounds\n",
      "Early stopping, best iteration is:\n",
      "[45]\tvalid_0's auc: 0.928349\n",
      "Training until validation scores don't improve for 50 rounds\n",
      "Early stopping, best iteration is:\n",
      "[49]\tvalid_0's auc: 0.931077\n",
      "Training until validation scores don't improve for 50 rounds\n",
      "Early stopping, best iteration is:\n",
      "[51]\tvalid_0's auc: 0.919354\n",
      "Training until validation scores don't improve for 50 rounds\n",
      "Early stopping, best iteration is:\n",
      "[41]\tvalid_0's auc: 0.929436\n",
      "Training until validation scores don't improve for 50 rounds\n",
      "Early stopping, best iteration is:\n",
      "[42]\tvalid_0's auc: 0.931915\n"
     ]
    },
    {
     "name": "stderr",
     "output_type": "stream",
     "text": [
      "[I 2025-10-09 15:14:35,326] Trial 48 finished with value: 0.9280262865232081 and parameters: {'num_iterations': 1080, 'learning_rate': 0.16614024341930117, 'num_leaves': 1492, 'feature_fraction': 0.8890543328013301, 'max_depth': 14, 'min_data_in_leaf': 821, 'lambda_l1': 9.82749585859812, 'lambda_l2': 8.154172307410906, 'min_gain_to_split': 6.659772338671032, 'bagging_fraction': 0.8771536922679971, 'bagging_freq': 6, 'min_sum_hessian_in_leaf': 15.042728583031366}. Best is trial 20 with value: 0.9352171367702047.\n"
     ]
    },
    {
     "name": "stdout",
     "output_type": "stream",
     "text": [
      "Training until validation scores don't improve for 50 rounds\n",
      "Early stopping, best iteration is:\n",
      "[144]\tvalid_0's auc: 0.930497\n",
      "Training until validation scores don't improve for 50 rounds\n",
      "Early stopping, best iteration is:\n",
      "[130]\tvalid_0's auc: 0.937129\n",
      "Training until validation scores don't improve for 50 rounds\n",
      "Early stopping, best iteration is:\n",
      "[136]\tvalid_0's auc: 0.924513\n",
      "Training until validation scores don't improve for 50 rounds\n",
      "Early stopping, best iteration is:\n",
      "[111]\tvalid_0's auc: 0.933424\n",
      "Training until validation scores don't improve for 50 rounds\n",
      "Early stopping, best iteration is:\n",
      "[110]\tvalid_0's auc: 0.934825\n"
     ]
    },
    {
     "name": "stderr",
     "output_type": "stream",
     "text": [
      "[I 2025-10-09 15:15:36,348] Trial 49 finished with value: 0.932077890847317 and parameters: {'num_iterations': 550, 'learning_rate': 0.14976156246388428, 'num_leaves': 1136, 'feature_fraction': 0.7173812736080464, 'max_depth': 6, 'min_data_in_leaf': 293, 'lambda_l1': 7.549602978068538, 'lambda_l2': 12.05025785776496, 'min_gain_to_split': 1.324840490268814, 'bagging_fraction': 0.6944067650804836, 'bagging_freq': 10, 'min_sum_hessian_in_leaf': 0.9917258840571872}. Best is trial 20 with value: 0.9352171367702047.\n"
     ]
    },
    {
     "name": "stdout",
     "output_type": "stream",
     "text": [
      "✅ Mejores hiperparámetros: {'num_iterations': 328, 'learning_rate': 0.14148630707550516, 'num_leaves': 1414, 'feature_fraction': 0.9875433065616599, 'max_depth': 7, 'min_data_in_leaf': 493, 'lambda_l1': 10.247614031512086, 'lambda_l2': 9.070048893987414, 'min_gain_to_split': 0.048902496199919376, 'bagging_fraction': 0.9888299137414693, 'bagging_freq': 7, 'min_sum_hessian_in_leaf': 6.471289490776165}\n",
      "✅ Mejor AUC: 0.9352171367702047\n"
     ]
    }
   ],
   "source": [
    "# Creo study\n",
    "study = optuna.create_study(\n",
    "    direction=\"maximize\",\n",
    "    sampler=optuna.samplers.RandomSampler(seed=seed)\n",
    ")\n",
    "\n",
    "# Primeras 20 pruebas random\n",
    "study.optimize(\n",
    "    lambda trial: EstimarGanancia_AUC_lightgbm(trial, X_train, y_train, seeds),\n",
    "    n_trials=20\n",
    ")\n",
    "\n",
    "# Luego 30 pruebas con TPE\n",
    "study.sampler = optuna.samplers.TPESampler(seed=seed)\n",
    "study.optimize(\n",
    "    lambda trial: EstimarGanancia_AUC_lightgbm(trial, X_train, y_train, seeds),\n",
    "    n_trials=30\n",
    ")\n",
    "\n",
    "# Guardo resultados\n",
    "tb_bayesiana = study.trials_dataframe(attrs=(\"number\", \"value\", \"params\", \"state\")).rename(columns={\"value\": \"AUC\"})\n",
    "tb_bayesiana[\"iter\"] = tb_bayesiana.index + 1\n",
    "tb_bayesiana.sort_values(by=\"AUC\", ascending=False).to_csv(\"BO_log.txt\", sep=\"\\t\", index=False)\n",
    "\n",
    "PARAM[\"out\"] = {\n",
    "    \"lgbm\": {\n",
    "        \"mejores_hiperparametros\": study.best_trial.params,\n",
    "        \"AUC\": study.best_trial.value\n",
    "    }\n",
    "}\n",
    "print(\"✅ Mejores hiperparámetros:\", study.best_trial.params)\n",
    "print(\"✅ Mejor AUC:\", study.best_trial.value)\n",
    "\n",
    "\n"
   ]
  },
  {
   "cell_type": "code",
   "execution_count": 15,
   "id": "1eea5bd4",
   "metadata": {},
   "outputs": [
    {
     "name": "stdout",
     "output_type": "stream",
     "text": [
      "Mejores hiperparámetros: {'num_iterations': 328, 'learning_rate': 0.14148630707550516, 'num_leaves': 1414, 'feature_fraction': 0.9875433065616599, 'max_depth': 7, 'min_data_in_leaf': 493, 'lambda_l1': 10.247614031512086, 'lambda_l2': 9.070048893987414, 'min_gain_to_split': 0.048902496199919376, 'bagging_fraction': 0.9888299137414693, 'bagging_freq': 7, 'min_sum_hessian_in_leaf': 6.471289490776165}\n",
      "Mejor AUC: 0.9352171367702047\n"
     ]
    }
   ],
   "source": [
    "tb_bayesiana = study.trials_dataframe(attrs=(\"number\", \"value\", \"params\", \"state\"))\n",
    "tb_bayesiana = tb_bayesiana.rename(columns={\"value\": \"y\"})\n",
    "tb_bayesiana[\"iter\"] = tb_bayesiana.index + 1\n",
    "tb_bayesiana = tb_bayesiana.sort_values(by=\"y\", ascending=False).reset_index(drop=True)\n",
    "tb_bayesiana.to_csv(\"BO_log.txt\", sep=\"\\t\", index=False)\n",
    "mejores_hiperparametros = study.best_trial.params\n",
    "mejor_auc = study.best_trial.value\n",
    "print(\"Mejores hiperparámetros:\", mejores_hiperparametros)\n",
    "print(\"Mejor AUC:\", mejor_auc)\n",
    "PARAM[\"out\"] = {\"lgbm\": {\"mejores_hiperparametros\": mejores_hiperparametros, \"y\": mejor_auc}}\n"
   ]
  },
  {
   "cell_type": "code",
   "execution_count": null,
   "id": "feb6e7c6",
   "metadata": {},
   "outputs": [],
   "source": []
  },
  {
   "cell_type": "code",
   "execution_count": null,
   "id": "498dd915",
   "metadata": {},
   "outputs": [],
   "source": [
    "## import yaml\n",
    "\n",
    "# 1. Guardar PARAM en YAML\n",
    "with open(\"C:/Users/Lucas/Proyectos cursor/Exp12/PARAMs.yml\", \"w\") as f:\n",
    "    yaml.dump(PARAM, f, default_flow_style=False, sort_keys=False)\n",
    "\n",
    "# 2. Imprimir los mejores hiperparámetros\n",
    "print(PARAM[\"out\"][\"lgbm\"][\"mejores_hiperparametros\"])\n",
    "\n",
    "# 3. Imprimir el mejor AUC\n",
    "print(PARAM[\"out\"][\"lgbm\"][\"y\"])"
   ]
  },
  {
   "cell_type": "markdown",
   "id": "5c73639f",
   "metadata": {},
   "source": [
    "#### Dejo el seteo manual de los mejores hiperparámetros en caso de que necesite reestablecer el proceso desde acá"
   ]
  },
  {
   "cell_type": "code",
   "execution_count": 12,
   "id": "cb7063cb",
   "metadata": {},
   "outputs": [],
   "source": [
    "# --- Asegurarse de que existan las claves ---\n",
    "if \"out\" not in PARAM:\n",
    "    PARAM[\"out\"] = {}\n",
    "if \"lgbm\" not in PARAM[\"out\"]:\n",
    "    PARAM[\"out\"][\"lgbm\"] = {}\n",
    "\n",
    "# --- Asignar los mejores hiperparámetros ---\n",
    "PARAM[\"out\"][\"lgbm\"][\"mejores_hiperparametros\"] = {\n",
    "    'num_iterations': 328,\n",
    "    'learning_rate': 0.14148630707550516,\n",
    "    'num_leaves': 1414,\n",
    "    'feature_fraction': 0.9875433065616599,\n",
    "    'max_depth': 7,\n",
    "    'min_data_in_leaf': 493,\n",
    "    'lambda_l1': 10.247614031512086,\n",
    "    'lambda_l2': 9.070048893987414,\n",
    "    'min_gain_to_split': 0.048902496199919376,\n",
    "    'bagging_fraction': 0.9888299137414693,\n",
    "    'bagging_freq': 7,\n",
    "    'min_sum_hessian_in_leaf': 6.471289490776165\n",
    "}\n"
   ]
  },
  {
   "cell_type": "code",
   "execution_count": 17,
   "id": "d3fb9141",
   "metadata": {},
   "outputs": [],
   "source": [
    "import os\n",
    "\n",
    "# 1. Carpeta del experimento\n",
    "# 1. Ruta base de experimentos\n",
    "base_dir = \"C:/Users/Lucas/Proyectos cursor/Exp12/\"\n",
    "\n",
    "# 2. Carpeta del experimento\n",
    "experimento = f\"exp{PARAM['experimento']}\"\n",
    "exp_dir = os.path.join(base_dir, experimento)\n",
    "\n",
    "# 3. Crear carpeta si no existe\n",
    "os.makedirs(exp_dir, exist_ok=True)\n",
    "\n",
    "# 4. Cambiar el cwd a esa carpeta\n",
    "os.chdir(exp_dir)\n"
   ]
  },
  {
   "cell_type": "code",
   "execution_count": 13,
   "id": "a22e3328",
   "metadata": {},
   "outputs": [
    {
     "name": "stderr",
     "output_type": "stream",
     "text": [
      "C:\\Users\\Lucas\\AppData\\Local\\Temp\\ipykernel_15108\\1002940050.py:2: PerformanceWarning: DataFrame is highly fragmented.  This is usually the result of calling `frame.insert` many times, which has poor performance.  Consider joining all columns at once using pd.concat(axis=1) instead. To get a de-fragmented frame, use `newframe = frame.copy()`\n",
      "  df[\"clase01\"] = np.where(\n"
     ]
    }
   ],
   "source": [
    "# Creo variable clase01\n",
    "df[\"clase01\"] = np.where(\n",
    "    df[\"clase_ternaria\"].isin([\"BAJA+1\", \"BAJA+2\"]), 1, 0\n",
    ")\n",
    "\n"
   ]
  },
  {
   "cell_type": "markdown",
   "id": "745a7997",
   "metadata": {},
   "source": [
    "#### Preparo los dataset para el testeo sobre 202104"
   ]
  },
  {
   "cell_type": "code",
   "execution_count": 19,
   "id": "3db78f6e",
   "metadata": {},
   "outputs": [],
   "source": [
    "# Entrenamiento para evaluar en 202104\n",
    "dataset_train_eval = df[df[\"foto_mes\"].isin([202101, 202102, 202103])].copy()\n",
    "dataset_test_eval  = df[df[\"foto_mes\"] == 202104].copy()\n",
    "\n",
    "# X_train / y_train\n",
    "X_train_eval = dataset_train_eval[campos_buenos].apply(pd.to_numeric, errors=\"coerce\").fillna(0)\n",
    "y_train_eval = np.where(dataset_train_eval[\"clase_ternaria\"].isin([\"BAJA+1\",\"BAJA+2\"]), 1, 0)\n",
    "\n",
    "# X_test / y_test\n",
    "X_test_eval = dataset_test_eval[campos_buenos].apply(pd.to_numeric, errors=\"coerce\").fillna(0)\n",
    "y_test_eval = np.where(dataset_test_eval[\"clase_ternaria\"].isin([\"BAJA+1\",\"BAJA+2\"]), 1, 0)\n",
    "\n"
   ]
  },
  {
   "cell_type": "markdown",
   "id": "ec73ba4d",
   "metadata": {},
   "source": [
    "#### Código para ver el comportamiento de los hiperparámetros versus el AUC"
   ]
  },
  {
   "cell_type": "code",
   "execution_count": 20,
   "id": "0ea141ef",
   "metadata": {},
   "outputs": [
    {
     "data": {
      "application/vnd.plotly.v1+json": {
       "config": {
        "plotlyServerURL": "https://plot.ly"
       },
       "data": [
        {
         "mode": "markers",
         "name": "Objective Value",
         "type": "scatter",
         "x": [
          0,
          1,
          2,
          3,
          4,
          5,
          6,
          7,
          8,
          9,
          10,
          11,
          12,
          13,
          14,
          15,
          16,
          17,
          18,
          19,
          20,
          21,
          22,
          23,
          24,
          25,
          26,
          27,
          28,
          29,
          30,
          31,
          32,
          33,
          34,
          35,
          36,
          37,
          38,
          39,
          40,
          41,
          42,
          43,
          44,
          45,
          46,
          47,
          48,
          49
         ],
         "y": [
          0.9271521923606498,
          0.9280122989418154,
          0.9270222297854989,
          0.9293991358554734,
          0.9288429544006261,
          0.928668197095529,
          0.9200967003689989,
          0.9266699631300792,
          0.9296207783372132,
          0.9271894417924468,
          0.925939516374498,
          0.9286716214682451,
          0.9294145909882543,
          0.9297069176990412,
          0.928563158595607,
          0.927292864178354,
          0.9306908989704062,
          0.9277956895552733,
          0.9271519069282508,
          0.9272877132896147,
          0.9352171367702047,
          0.9351312483896871,
          0.9346436612136635,
          0.934224515620216,
          0.9348237928873224,
          0.933791896765278,
          0.9298680942695231,
          0.9323227378666632,
          0.9347779404050967,
          0.9184810156457013,
          0.9306143557515568,
          0.934454094151018,
          0.932842495032218,
          0.9332010676957033,
          0.9316523217889362,
          0.9298780110730659,
          0.9341666606886031,
          0.932705015919683,
          0.9313929214810595,
          0.9332567822114409,
          0.9290278712534084,
          0.9342081937441739,
          0.9319041283762471,
          0.9341475102964957,
          0.931016971040831,
          0.9339538877778464,
          0.9266374042593094,
          0.9298074050853915,
          0.9280262865232081,
          0.932077890847317
         ]
        },
        {
         "mode": "lines",
         "name": "Best Value",
         "type": "scatter",
         "x": [
          0,
          1,
          2,
          3,
          4,
          5,
          6,
          7,
          8,
          9,
          10,
          11,
          12,
          13,
          14,
          15,
          16,
          17,
          18,
          19,
          20,
          21,
          22,
          23,
          24,
          25,
          26,
          27,
          28,
          29,
          30,
          31,
          32,
          33,
          34,
          35,
          36,
          37,
          38,
          39,
          40,
          41,
          42,
          43,
          44,
          45,
          46,
          47,
          48,
          49
         ],
         "y": [
          0.9271521923606498,
          0.9280122989418154,
          0.9280122989418154,
          0.9293991358554734,
          0.9293991358554734,
          0.9293991358554734,
          0.9293991358554734,
          0.9293991358554734,
          0.9296207783372132,
          0.9296207783372132,
          0.9296207783372132,
          0.9296207783372132,
          0.9296207783372132,
          0.9297069176990412,
          0.9297069176990412,
          0.9297069176990412,
          0.9306908989704062,
          0.9306908989704062,
          0.9306908989704062,
          0.9306908989704062,
          0.9352171367702047,
          0.9352171367702047,
          0.9352171367702047,
          0.9352171367702047,
          0.9352171367702047,
          0.9352171367702047,
          0.9352171367702047,
          0.9352171367702047,
          0.9352171367702047,
          0.9352171367702047,
          0.9352171367702047,
          0.9352171367702047,
          0.9352171367702047,
          0.9352171367702047,
          0.9352171367702047,
          0.9352171367702047,
          0.9352171367702047,
          0.9352171367702047,
          0.9352171367702047,
          0.9352171367702047,
          0.9352171367702047,
          0.9352171367702047,
          0.9352171367702047,
          0.9352171367702047,
          0.9352171367702047,
          0.9352171367702047,
          0.9352171367702047,
          0.9352171367702047,
          0.9352171367702047,
          0.9352171367702047
         ]
        },
        {
         "marker": {
          "color": "#cccccc"
         },
         "mode": "markers",
         "name": "Infeasible Trial",
         "showlegend": false,
         "type": "scatter",
         "x": [],
         "y": []
        }
       ],
       "layout": {
        "template": {
         "data": {
          "bar": [
           {
            "error_x": {
             "color": "#2a3f5f"
            },
            "error_y": {
             "color": "#2a3f5f"
            },
            "marker": {
             "line": {
              "color": "#E5ECF6",
              "width": 0.5
             },
             "pattern": {
              "fillmode": "overlay",
              "size": 10,
              "solidity": 0.2
             }
            },
            "type": "bar"
           }
          ],
          "barpolar": [
           {
            "marker": {
             "line": {
              "color": "#E5ECF6",
              "width": 0.5
             },
             "pattern": {
              "fillmode": "overlay",
              "size": 10,
              "solidity": 0.2
             }
            },
            "type": "barpolar"
           }
          ],
          "carpet": [
           {
            "aaxis": {
             "endlinecolor": "#2a3f5f",
             "gridcolor": "white",
             "linecolor": "white",
             "minorgridcolor": "white",
             "startlinecolor": "#2a3f5f"
            },
            "baxis": {
             "endlinecolor": "#2a3f5f",
             "gridcolor": "white",
             "linecolor": "white",
             "minorgridcolor": "white",
             "startlinecolor": "#2a3f5f"
            },
            "type": "carpet"
           }
          ],
          "choropleth": [
           {
            "colorbar": {
             "outlinewidth": 0,
             "ticks": ""
            },
            "type": "choropleth"
           }
          ],
          "contour": [
           {
            "colorbar": {
             "outlinewidth": 0,
             "ticks": ""
            },
            "colorscale": [
             [
              0,
              "#0d0887"
             ],
             [
              0.1111111111111111,
              "#46039f"
             ],
             [
              0.2222222222222222,
              "#7201a8"
             ],
             [
              0.3333333333333333,
              "#9c179e"
             ],
             [
              0.4444444444444444,
              "#bd3786"
             ],
             [
              0.5555555555555556,
              "#d8576b"
             ],
             [
              0.6666666666666666,
              "#ed7953"
             ],
             [
              0.7777777777777778,
              "#fb9f3a"
             ],
             [
              0.8888888888888888,
              "#fdca26"
             ],
             [
              1,
              "#f0f921"
             ]
            ],
            "type": "contour"
           }
          ],
          "contourcarpet": [
           {
            "colorbar": {
             "outlinewidth": 0,
             "ticks": ""
            },
            "type": "contourcarpet"
           }
          ],
          "heatmap": [
           {
            "colorbar": {
             "outlinewidth": 0,
             "ticks": ""
            },
            "colorscale": [
             [
              0,
              "#0d0887"
             ],
             [
              0.1111111111111111,
              "#46039f"
             ],
             [
              0.2222222222222222,
              "#7201a8"
             ],
             [
              0.3333333333333333,
              "#9c179e"
             ],
             [
              0.4444444444444444,
              "#bd3786"
             ],
             [
              0.5555555555555556,
              "#d8576b"
             ],
             [
              0.6666666666666666,
              "#ed7953"
             ],
             [
              0.7777777777777778,
              "#fb9f3a"
             ],
             [
              0.8888888888888888,
              "#fdca26"
             ],
             [
              1,
              "#f0f921"
             ]
            ],
            "type": "heatmap"
           }
          ],
          "heatmapgl": [
           {
            "colorbar": {
             "outlinewidth": 0,
             "ticks": ""
            },
            "colorscale": [
             [
              0,
              "#0d0887"
             ],
             [
              0.1111111111111111,
              "#46039f"
             ],
             [
              0.2222222222222222,
              "#7201a8"
             ],
             [
              0.3333333333333333,
              "#9c179e"
             ],
             [
              0.4444444444444444,
              "#bd3786"
             ],
             [
              0.5555555555555556,
              "#d8576b"
             ],
             [
              0.6666666666666666,
              "#ed7953"
             ],
             [
              0.7777777777777778,
              "#fb9f3a"
             ],
             [
              0.8888888888888888,
              "#fdca26"
             ],
             [
              1,
              "#f0f921"
             ]
            ],
            "type": "heatmapgl"
           }
          ],
          "histogram": [
           {
            "marker": {
             "pattern": {
              "fillmode": "overlay",
              "size": 10,
              "solidity": 0.2
             }
            },
            "type": "histogram"
           }
          ],
          "histogram2d": [
           {
            "colorbar": {
             "outlinewidth": 0,
             "ticks": ""
            },
            "colorscale": [
             [
              0,
              "#0d0887"
             ],
             [
              0.1111111111111111,
              "#46039f"
             ],
             [
              0.2222222222222222,
              "#7201a8"
             ],
             [
              0.3333333333333333,
              "#9c179e"
             ],
             [
              0.4444444444444444,
              "#bd3786"
             ],
             [
              0.5555555555555556,
              "#d8576b"
             ],
             [
              0.6666666666666666,
              "#ed7953"
             ],
             [
              0.7777777777777778,
              "#fb9f3a"
             ],
             [
              0.8888888888888888,
              "#fdca26"
             ],
             [
              1,
              "#f0f921"
             ]
            ],
            "type": "histogram2d"
           }
          ],
          "histogram2dcontour": [
           {
            "colorbar": {
             "outlinewidth": 0,
             "ticks": ""
            },
            "colorscale": [
             [
              0,
              "#0d0887"
             ],
             [
              0.1111111111111111,
              "#46039f"
             ],
             [
              0.2222222222222222,
              "#7201a8"
             ],
             [
              0.3333333333333333,
              "#9c179e"
             ],
             [
              0.4444444444444444,
              "#bd3786"
             ],
             [
              0.5555555555555556,
              "#d8576b"
             ],
             [
              0.6666666666666666,
              "#ed7953"
             ],
             [
              0.7777777777777778,
              "#fb9f3a"
             ],
             [
              0.8888888888888888,
              "#fdca26"
             ],
             [
              1,
              "#f0f921"
             ]
            ],
            "type": "histogram2dcontour"
           }
          ],
          "mesh3d": [
           {
            "colorbar": {
             "outlinewidth": 0,
             "ticks": ""
            },
            "type": "mesh3d"
           }
          ],
          "parcoords": [
           {
            "line": {
             "colorbar": {
              "outlinewidth": 0,
              "ticks": ""
             }
            },
            "type": "parcoords"
           }
          ],
          "pie": [
           {
            "automargin": true,
            "type": "pie"
           }
          ],
          "scatter": [
           {
            "fillpattern": {
             "fillmode": "overlay",
             "size": 10,
             "solidity": 0.2
            },
            "type": "scatter"
           }
          ],
          "scatter3d": [
           {
            "line": {
             "colorbar": {
              "outlinewidth": 0,
              "ticks": ""
             }
            },
            "marker": {
             "colorbar": {
              "outlinewidth": 0,
              "ticks": ""
             }
            },
            "type": "scatter3d"
           }
          ],
          "scattercarpet": [
           {
            "marker": {
             "colorbar": {
              "outlinewidth": 0,
              "ticks": ""
             }
            },
            "type": "scattercarpet"
           }
          ],
          "scattergeo": [
           {
            "marker": {
             "colorbar": {
              "outlinewidth": 0,
              "ticks": ""
             }
            },
            "type": "scattergeo"
           }
          ],
          "scattergl": [
           {
            "marker": {
             "colorbar": {
              "outlinewidth": 0,
              "ticks": ""
             }
            },
            "type": "scattergl"
           }
          ],
          "scattermapbox": [
           {
            "marker": {
             "colorbar": {
              "outlinewidth": 0,
              "ticks": ""
             }
            },
            "type": "scattermapbox"
           }
          ],
          "scatterpolar": [
           {
            "marker": {
             "colorbar": {
              "outlinewidth": 0,
              "ticks": ""
             }
            },
            "type": "scatterpolar"
           }
          ],
          "scatterpolargl": [
           {
            "marker": {
             "colorbar": {
              "outlinewidth": 0,
              "ticks": ""
             }
            },
            "type": "scatterpolargl"
           }
          ],
          "scatterternary": [
           {
            "marker": {
             "colorbar": {
              "outlinewidth": 0,
              "ticks": ""
             }
            },
            "type": "scatterternary"
           }
          ],
          "surface": [
           {
            "colorbar": {
             "outlinewidth": 0,
             "ticks": ""
            },
            "colorscale": [
             [
              0,
              "#0d0887"
             ],
             [
              0.1111111111111111,
              "#46039f"
             ],
             [
              0.2222222222222222,
              "#7201a8"
             ],
             [
              0.3333333333333333,
              "#9c179e"
             ],
             [
              0.4444444444444444,
              "#bd3786"
             ],
             [
              0.5555555555555556,
              "#d8576b"
             ],
             [
              0.6666666666666666,
              "#ed7953"
             ],
             [
              0.7777777777777778,
              "#fb9f3a"
             ],
             [
              0.8888888888888888,
              "#fdca26"
             ],
             [
              1,
              "#f0f921"
             ]
            ],
            "type": "surface"
           }
          ],
          "table": [
           {
            "cells": {
             "fill": {
              "color": "#EBF0F8"
             },
             "line": {
              "color": "white"
             }
            },
            "header": {
             "fill": {
              "color": "#C8D4E3"
             },
             "line": {
              "color": "white"
             }
            },
            "type": "table"
           }
          ]
         },
         "layout": {
          "annotationdefaults": {
           "arrowcolor": "#2a3f5f",
           "arrowhead": 0,
           "arrowwidth": 1
          },
          "autotypenumbers": "strict",
          "coloraxis": {
           "colorbar": {
            "outlinewidth": 0,
            "ticks": ""
           }
          },
          "colorscale": {
           "diverging": [
            [
             0,
             "#8e0152"
            ],
            [
             0.1,
             "#c51b7d"
            ],
            [
             0.2,
             "#de77ae"
            ],
            [
             0.3,
             "#f1b6da"
            ],
            [
             0.4,
             "#fde0ef"
            ],
            [
             0.5,
             "#f7f7f7"
            ],
            [
             0.6,
             "#e6f5d0"
            ],
            [
             0.7,
             "#b8e186"
            ],
            [
             0.8,
             "#7fbc41"
            ],
            [
             0.9,
             "#4d9221"
            ],
            [
             1,
             "#276419"
            ]
           ],
           "sequential": [
            [
             0,
             "#0d0887"
            ],
            [
             0.1111111111111111,
             "#46039f"
            ],
            [
             0.2222222222222222,
             "#7201a8"
            ],
            [
             0.3333333333333333,
             "#9c179e"
            ],
            [
             0.4444444444444444,
             "#bd3786"
            ],
            [
             0.5555555555555556,
             "#d8576b"
            ],
            [
             0.6666666666666666,
             "#ed7953"
            ],
            [
             0.7777777777777778,
             "#fb9f3a"
            ],
            [
             0.8888888888888888,
             "#fdca26"
            ],
            [
             1,
             "#f0f921"
            ]
           ],
           "sequentialminus": [
            [
             0,
             "#0d0887"
            ],
            [
             0.1111111111111111,
             "#46039f"
            ],
            [
             0.2222222222222222,
             "#7201a8"
            ],
            [
             0.3333333333333333,
             "#9c179e"
            ],
            [
             0.4444444444444444,
             "#bd3786"
            ],
            [
             0.5555555555555556,
             "#d8576b"
            ],
            [
             0.6666666666666666,
             "#ed7953"
            ],
            [
             0.7777777777777778,
             "#fb9f3a"
            ],
            [
             0.8888888888888888,
             "#fdca26"
            ],
            [
             1,
             "#f0f921"
            ]
           ]
          },
          "colorway": [
           "#636efa",
           "#EF553B",
           "#00cc96",
           "#ab63fa",
           "#FFA15A",
           "#19d3f3",
           "#FF6692",
           "#B6E880",
           "#FF97FF",
           "#FECB52"
          ],
          "font": {
           "color": "#2a3f5f"
          },
          "geo": {
           "bgcolor": "white",
           "lakecolor": "white",
           "landcolor": "#E5ECF6",
           "showlakes": true,
           "showland": true,
           "subunitcolor": "white"
          },
          "hoverlabel": {
           "align": "left"
          },
          "hovermode": "closest",
          "mapbox": {
           "style": "light"
          },
          "paper_bgcolor": "white",
          "plot_bgcolor": "#E5ECF6",
          "polar": {
           "angularaxis": {
            "gridcolor": "white",
            "linecolor": "white",
            "ticks": ""
           },
           "bgcolor": "#E5ECF6",
           "radialaxis": {
            "gridcolor": "white",
            "linecolor": "white",
            "ticks": ""
           }
          },
          "scene": {
           "xaxis": {
            "backgroundcolor": "#E5ECF6",
            "gridcolor": "white",
            "gridwidth": 2,
            "linecolor": "white",
            "showbackground": true,
            "ticks": "",
            "zerolinecolor": "white"
           },
           "yaxis": {
            "backgroundcolor": "#E5ECF6",
            "gridcolor": "white",
            "gridwidth": 2,
            "linecolor": "white",
            "showbackground": true,
            "ticks": "",
            "zerolinecolor": "white"
           },
           "zaxis": {
            "backgroundcolor": "#E5ECF6",
            "gridcolor": "white",
            "gridwidth": 2,
            "linecolor": "white",
            "showbackground": true,
            "ticks": "",
            "zerolinecolor": "white"
           }
          },
          "shapedefaults": {
           "line": {
            "color": "#2a3f5f"
           }
          },
          "ternary": {
           "aaxis": {
            "gridcolor": "white",
            "linecolor": "white",
            "ticks": ""
           },
           "baxis": {
            "gridcolor": "white",
            "linecolor": "white",
            "ticks": ""
           },
           "bgcolor": "#E5ECF6",
           "caxis": {
            "gridcolor": "white",
            "linecolor": "white",
            "ticks": ""
           }
          },
          "title": {
           "x": 0.05
          },
          "xaxis": {
           "automargin": true,
           "gridcolor": "white",
           "linecolor": "white",
           "ticks": "",
           "title": {
            "standoff": 15
           },
           "zerolinecolor": "white",
           "zerolinewidth": 2
          },
          "yaxis": {
           "automargin": true,
           "gridcolor": "white",
           "linecolor": "white",
           "ticks": "",
           "title": {
            "standoff": 15
           },
           "zerolinecolor": "white",
           "zerolinewidth": 2
          }
         }
        },
        "title": {
         "text": "Optimization History Plot"
        },
        "xaxis": {
         "title": {
          "text": "Trial"
         }
        },
        "yaxis": {
         "title": {
          "text": "Objective Value"
         }
        }
       }
      }
     },
     "metadata": {},
     "output_type": "display_data"
    },
    {
     "data": {
      "application/vnd.plotly.v1+json": {
       "config": {
        "plotlyServerURL": "https://plot.ly"
       },
       "data": [
        {
         "cliponaxis": false,
         "hovertemplate": [
          "lambda_l1 (FloatDistribution): 0.0008552651819714055<extra></extra>",
          "bagging_freq (IntDistribution): 0.001955141617797809<extra></extra>",
          "num_leaves (IntDistribution): 0.011125219045895592<extra></extra>",
          "min_sum_hessian_in_leaf (FloatDistribution): 0.013763085551139786<extra></extra>",
          "min_data_in_leaf (IntDistribution): 0.022087249780055322<extra></extra>",
          "max_depth (IntDistribution): 0.029570178002080293<extra></extra>",
          "num_iterations (IntDistribution): 0.02961938538826184<extra></extra>",
          "learning_rate (FloatDistribution): 0.040706966046757304<extra></extra>",
          "lambda_l2 (FloatDistribution): 0.04721361907110508<extra></extra>",
          "bagging_fraction (FloatDistribution): 0.056891973493076<extra></extra>",
          "feature_fraction (FloatDistribution): 0.368769740841158<extra></extra>",
          "min_gain_to_split (FloatDistribution): 0.3774421759807015<extra></extra>"
         ],
         "name": "Objective Value",
         "orientation": "h",
         "text": [
          "<0.01",
          "<0.01",
          "0.01",
          "0.01",
          "0.02",
          "0.03",
          "0.03",
          "0.04",
          "0.05",
          "0.06",
          "0.37",
          "0.38"
         ],
         "textposition": "outside",
         "type": "bar",
         "x": [
          0.0008552651819714055,
          0.001955141617797809,
          0.011125219045895592,
          0.013763085551139786,
          0.022087249780055322,
          0.029570178002080293,
          0.02961938538826184,
          0.040706966046757304,
          0.04721361907110508,
          0.056891973493076,
          0.368769740841158,
          0.3774421759807015
         ],
         "y": [
          "lambda_l1",
          "bagging_freq",
          "num_leaves",
          "min_sum_hessian_in_leaf",
          "min_data_in_leaf",
          "max_depth",
          "num_iterations",
          "learning_rate",
          "lambda_l2",
          "bagging_fraction",
          "feature_fraction",
          "min_gain_to_split"
         ]
        }
       ],
       "layout": {
        "template": {
         "data": {
          "bar": [
           {
            "error_x": {
             "color": "#2a3f5f"
            },
            "error_y": {
             "color": "#2a3f5f"
            },
            "marker": {
             "line": {
              "color": "#E5ECF6",
              "width": 0.5
             },
             "pattern": {
              "fillmode": "overlay",
              "size": 10,
              "solidity": 0.2
             }
            },
            "type": "bar"
           }
          ],
          "barpolar": [
           {
            "marker": {
             "line": {
              "color": "#E5ECF6",
              "width": 0.5
             },
             "pattern": {
              "fillmode": "overlay",
              "size": 10,
              "solidity": 0.2
             }
            },
            "type": "barpolar"
           }
          ],
          "carpet": [
           {
            "aaxis": {
             "endlinecolor": "#2a3f5f",
             "gridcolor": "white",
             "linecolor": "white",
             "minorgridcolor": "white",
             "startlinecolor": "#2a3f5f"
            },
            "baxis": {
             "endlinecolor": "#2a3f5f",
             "gridcolor": "white",
             "linecolor": "white",
             "minorgridcolor": "white",
             "startlinecolor": "#2a3f5f"
            },
            "type": "carpet"
           }
          ],
          "choropleth": [
           {
            "colorbar": {
             "outlinewidth": 0,
             "ticks": ""
            },
            "type": "choropleth"
           }
          ],
          "contour": [
           {
            "colorbar": {
             "outlinewidth": 0,
             "ticks": ""
            },
            "colorscale": [
             [
              0,
              "#0d0887"
             ],
             [
              0.1111111111111111,
              "#46039f"
             ],
             [
              0.2222222222222222,
              "#7201a8"
             ],
             [
              0.3333333333333333,
              "#9c179e"
             ],
             [
              0.4444444444444444,
              "#bd3786"
             ],
             [
              0.5555555555555556,
              "#d8576b"
             ],
             [
              0.6666666666666666,
              "#ed7953"
             ],
             [
              0.7777777777777778,
              "#fb9f3a"
             ],
             [
              0.8888888888888888,
              "#fdca26"
             ],
             [
              1,
              "#f0f921"
             ]
            ],
            "type": "contour"
           }
          ],
          "contourcarpet": [
           {
            "colorbar": {
             "outlinewidth": 0,
             "ticks": ""
            },
            "type": "contourcarpet"
           }
          ],
          "heatmap": [
           {
            "colorbar": {
             "outlinewidth": 0,
             "ticks": ""
            },
            "colorscale": [
             [
              0,
              "#0d0887"
             ],
             [
              0.1111111111111111,
              "#46039f"
             ],
             [
              0.2222222222222222,
              "#7201a8"
             ],
             [
              0.3333333333333333,
              "#9c179e"
             ],
             [
              0.4444444444444444,
              "#bd3786"
             ],
             [
              0.5555555555555556,
              "#d8576b"
             ],
             [
              0.6666666666666666,
              "#ed7953"
             ],
             [
              0.7777777777777778,
              "#fb9f3a"
             ],
             [
              0.8888888888888888,
              "#fdca26"
             ],
             [
              1,
              "#f0f921"
             ]
            ],
            "type": "heatmap"
           }
          ],
          "heatmapgl": [
           {
            "colorbar": {
             "outlinewidth": 0,
             "ticks": ""
            },
            "colorscale": [
             [
              0,
              "#0d0887"
             ],
             [
              0.1111111111111111,
              "#46039f"
             ],
             [
              0.2222222222222222,
              "#7201a8"
             ],
             [
              0.3333333333333333,
              "#9c179e"
             ],
             [
              0.4444444444444444,
              "#bd3786"
             ],
             [
              0.5555555555555556,
              "#d8576b"
             ],
             [
              0.6666666666666666,
              "#ed7953"
             ],
             [
              0.7777777777777778,
              "#fb9f3a"
             ],
             [
              0.8888888888888888,
              "#fdca26"
             ],
             [
              1,
              "#f0f921"
             ]
            ],
            "type": "heatmapgl"
           }
          ],
          "histogram": [
           {
            "marker": {
             "pattern": {
              "fillmode": "overlay",
              "size": 10,
              "solidity": 0.2
             }
            },
            "type": "histogram"
           }
          ],
          "histogram2d": [
           {
            "colorbar": {
             "outlinewidth": 0,
             "ticks": ""
            },
            "colorscale": [
             [
              0,
              "#0d0887"
             ],
             [
              0.1111111111111111,
              "#46039f"
             ],
             [
              0.2222222222222222,
              "#7201a8"
             ],
             [
              0.3333333333333333,
              "#9c179e"
             ],
             [
              0.4444444444444444,
              "#bd3786"
             ],
             [
              0.5555555555555556,
              "#d8576b"
             ],
             [
              0.6666666666666666,
              "#ed7953"
             ],
             [
              0.7777777777777778,
              "#fb9f3a"
             ],
             [
              0.8888888888888888,
              "#fdca26"
             ],
             [
              1,
              "#f0f921"
             ]
            ],
            "type": "histogram2d"
           }
          ],
          "histogram2dcontour": [
           {
            "colorbar": {
             "outlinewidth": 0,
             "ticks": ""
            },
            "colorscale": [
             [
              0,
              "#0d0887"
             ],
             [
              0.1111111111111111,
              "#46039f"
             ],
             [
              0.2222222222222222,
              "#7201a8"
             ],
             [
              0.3333333333333333,
              "#9c179e"
             ],
             [
              0.4444444444444444,
              "#bd3786"
             ],
             [
              0.5555555555555556,
              "#d8576b"
             ],
             [
              0.6666666666666666,
              "#ed7953"
             ],
             [
              0.7777777777777778,
              "#fb9f3a"
             ],
             [
              0.8888888888888888,
              "#fdca26"
             ],
             [
              1,
              "#f0f921"
             ]
            ],
            "type": "histogram2dcontour"
           }
          ],
          "mesh3d": [
           {
            "colorbar": {
             "outlinewidth": 0,
             "ticks": ""
            },
            "type": "mesh3d"
           }
          ],
          "parcoords": [
           {
            "line": {
             "colorbar": {
              "outlinewidth": 0,
              "ticks": ""
             }
            },
            "type": "parcoords"
           }
          ],
          "pie": [
           {
            "automargin": true,
            "type": "pie"
           }
          ],
          "scatter": [
           {
            "fillpattern": {
             "fillmode": "overlay",
             "size": 10,
             "solidity": 0.2
            },
            "type": "scatter"
           }
          ],
          "scatter3d": [
           {
            "line": {
             "colorbar": {
              "outlinewidth": 0,
              "ticks": ""
             }
            },
            "marker": {
             "colorbar": {
              "outlinewidth": 0,
              "ticks": ""
             }
            },
            "type": "scatter3d"
           }
          ],
          "scattercarpet": [
           {
            "marker": {
             "colorbar": {
              "outlinewidth": 0,
              "ticks": ""
             }
            },
            "type": "scattercarpet"
           }
          ],
          "scattergeo": [
           {
            "marker": {
             "colorbar": {
              "outlinewidth": 0,
              "ticks": ""
             }
            },
            "type": "scattergeo"
           }
          ],
          "scattergl": [
           {
            "marker": {
             "colorbar": {
              "outlinewidth": 0,
              "ticks": ""
             }
            },
            "type": "scattergl"
           }
          ],
          "scattermapbox": [
           {
            "marker": {
             "colorbar": {
              "outlinewidth": 0,
              "ticks": ""
             }
            },
            "type": "scattermapbox"
           }
          ],
          "scatterpolar": [
           {
            "marker": {
             "colorbar": {
              "outlinewidth": 0,
              "ticks": ""
             }
            },
            "type": "scatterpolar"
           }
          ],
          "scatterpolargl": [
           {
            "marker": {
             "colorbar": {
              "outlinewidth": 0,
              "ticks": ""
             }
            },
            "type": "scatterpolargl"
           }
          ],
          "scatterternary": [
           {
            "marker": {
             "colorbar": {
              "outlinewidth": 0,
              "ticks": ""
             }
            },
            "type": "scatterternary"
           }
          ],
          "surface": [
           {
            "colorbar": {
             "outlinewidth": 0,
             "ticks": ""
            },
            "colorscale": [
             [
              0,
              "#0d0887"
             ],
             [
              0.1111111111111111,
              "#46039f"
             ],
             [
              0.2222222222222222,
              "#7201a8"
             ],
             [
              0.3333333333333333,
              "#9c179e"
             ],
             [
              0.4444444444444444,
              "#bd3786"
             ],
             [
              0.5555555555555556,
              "#d8576b"
             ],
             [
              0.6666666666666666,
              "#ed7953"
             ],
             [
              0.7777777777777778,
              "#fb9f3a"
             ],
             [
              0.8888888888888888,
              "#fdca26"
             ],
             [
              1,
              "#f0f921"
             ]
            ],
            "type": "surface"
           }
          ],
          "table": [
           {
            "cells": {
             "fill": {
              "color": "#EBF0F8"
             },
             "line": {
              "color": "white"
             }
            },
            "header": {
             "fill": {
              "color": "#C8D4E3"
             },
             "line": {
              "color": "white"
             }
            },
            "type": "table"
           }
          ]
         },
         "layout": {
          "annotationdefaults": {
           "arrowcolor": "#2a3f5f",
           "arrowhead": 0,
           "arrowwidth": 1
          },
          "autotypenumbers": "strict",
          "coloraxis": {
           "colorbar": {
            "outlinewidth": 0,
            "ticks": ""
           }
          },
          "colorscale": {
           "diverging": [
            [
             0,
             "#8e0152"
            ],
            [
             0.1,
             "#c51b7d"
            ],
            [
             0.2,
             "#de77ae"
            ],
            [
             0.3,
             "#f1b6da"
            ],
            [
             0.4,
             "#fde0ef"
            ],
            [
             0.5,
             "#f7f7f7"
            ],
            [
             0.6,
             "#e6f5d0"
            ],
            [
             0.7,
             "#b8e186"
            ],
            [
             0.8,
             "#7fbc41"
            ],
            [
             0.9,
             "#4d9221"
            ],
            [
             1,
             "#276419"
            ]
           ],
           "sequential": [
            [
             0,
             "#0d0887"
            ],
            [
             0.1111111111111111,
             "#46039f"
            ],
            [
             0.2222222222222222,
             "#7201a8"
            ],
            [
             0.3333333333333333,
             "#9c179e"
            ],
            [
             0.4444444444444444,
             "#bd3786"
            ],
            [
             0.5555555555555556,
             "#d8576b"
            ],
            [
             0.6666666666666666,
             "#ed7953"
            ],
            [
             0.7777777777777778,
             "#fb9f3a"
            ],
            [
             0.8888888888888888,
             "#fdca26"
            ],
            [
             1,
             "#f0f921"
            ]
           ],
           "sequentialminus": [
            [
             0,
             "#0d0887"
            ],
            [
             0.1111111111111111,
             "#46039f"
            ],
            [
             0.2222222222222222,
             "#7201a8"
            ],
            [
             0.3333333333333333,
             "#9c179e"
            ],
            [
             0.4444444444444444,
             "#bd3786"
            ],
            [
             0.5555555555555556,
             "#d8576b"
            ],
            [
             0.6666666666666666,
             "#ed7953"
            ],
            [
             0.7777777777777778,
             "#fb9f3a"
            ],
            [
             0.8888888888888888,
             "#fdca26"
            ],
            [
             1,
             "#f0f921"
            ]
           ]
          },
          "colorway": [
           "#636efa",
           "#EF553B",
           "#00cc96",
           "#ab63fa",
           "#FFA15A",
           "#19d3f3",
           "#FF6692",
           "#B6E880",
           "#FF97FF",
           "#FECB52"
          ],
          "font": {
           "color": "#2a3f5f"
          },
          "geo": {
           "bgcolor": "white",
           "lakecolor": "white",
           "landcolor": "#E5ECF6",
           "showlakes": true,
           "showland": true,
           "subunitcolor": "white"
          },
          "hoverlabel": {
           "align": "left"
          },
          "hovermode": "closest",
          "mapbox": {
           "style": "light"
          },
          "paper_bgcolor": "white",
          "plot_bgcolor": "#E5ECF6",
          "polar": {
           "angularaxis": {
            "gridcolor": "white",
            "linecolor": "white",
            "ticks": ""
           },
           "bgcolor": "#E5ECF6",
           "radialaxis": {
            "gridcolor": "white",
            "linecolor": "white",
            "ticks": ""
           }
          },
          "scene": {
           "xaxis": {
            "backgroundcolor": "#E5ECF6",
            "gridcolor": "white",
            "gridwidth": 2,
            "linecolor": "white",
            "showbackground": true,
            "ticks": "",
            "zerolinecolor": "white"
           },
           "yaxis": {
            "backgroundcolor": "#E5ECF6",
            "gridcolor": "white",
            "gridwidth": 2,
            "linecolor": "white",
            "showbackground": true,
            "ticks": "",
            "zerolinecolor": "white"
           },
           "zaxis": {
            "backgroundcolor": "#E5ECF6",
            "gridcolor": "white",
            "gridwidth": 2,
            "linecolor": "white",
            "showbackground": true,
            "ticks": "",
            "zerolinecolor": "white"
           }
          },
          "shapedefaults": {
           "line": {
            "color": "#2a3f5f"
           }
          },
          "ternary": {
           "aaxis": {
            "gridcolor": "white",
            "linecolor": "white",
            "ticks": ""
           },
           "baxis": {
            "gridcolor": "white",
            "linecolor": "white",
            "ticks": ""
           },
           "bgcolor": "#E5ECF6",
           "caxis": {
            "gridcolor": "white",
            "linecolor": "white",
            "ticks": ""
           }
          },
          "title": {
           "x": 0.05
          },
          "xaxis": {
           "automargin": true,
           "gridcolor": "white",
           "linecolor": "white",
           "ticks": "",
           "title": {
            "standoff": 15
           },
           "zerolinecolor": "white",
           "zerolinewidth": 2
          },
          "yaxis": {
           "automargin": true,
           "gridcolor": "white",
           "linecolor": "white",
           "ticks": "",
           "title": {
            "standoff": 15
           },
           "zerolinecolor": "white",
           "zerolinewidth": 2
          }
         }
        },
        "title": {
         "text": "Hyperparameter Importances"
        },
        "xaxis": {
         "title": {
          "text": "Hyperparameter Importance"
         }
        },
        "yaxis": {
         "title": {
          "text": "Hyperparameter"
         }
        }
       }
      }
     },
     "metadata": {},
     "output_type": "display_data"
    },
    {
     "data": {
      "application/vnd.plotly.v1+json": {
       "config": {
        "plotlyServerURL": "https://plot.ly"
       },
       "data": [
        {
         "dimensions": [
          {
           "label": "Objective Value",
           "range": [
            0.9184810156457013,
            0.9352171367702047
           ],
           "values": [
            0.9271521923606498,
            0.9280122989418154,
            0.9270222297854989,
            0.9293991358554734,
            0.9288429544006261,
            0.928668197095529,
            0.9200967003689989,
            0.9266699631300792,
            0.9296207783372132,
            0.9271894417924468,
            0.925939516374498,
            0.9286716214682451,
            0.9294145909882543,
            0.9297069176990412,
            0.928563158595607,
            0.927292864178354,
            0.9306908989704062,
            0.9277956895552733,
            0.9271519069282508,
            0.9272877132896147,
            0.9352171367702047,
            0.9351312483896871,
            0.9346436612136635,
            0.934224515620216,
            0.9348237928873224,
            0.933791896765278,
            0.9298680942695231,
            0.9323227378666632,
            0.9347779404050967,
            0.9184810156457013,
            0.9306143557515568,
            0.934454094151018,
            0.932842495032218,
            0.9332010676957033,
            0.9316523217889362,
            0.9298780110730659,
            0.9341666606886031,
            0.932705015919683,
            0.9313929214810595,
            0.9332567822114409,
            0.9290278712534084,
            0.9342081937441739,
            0.9319041283762471,
            0.9341475102964957,
            0.931016971040831,
            0.9339538877778464,
            0.9266374042593094,
            0.9298074050853915,
            0.9280262865232081,
            0.932077890847317
           ]
          },
          {
           "label": "bagging_fraction",
           "range": [
            0.4215226954030178,
            0.999321375751208
           ],
           "values": [
            0.8234966468376737,
            0.7289920139767798,
            0.5234372974027808,
            0.867562169662011,
            0.8212751221088193,
            0.8606159362039743,
            0.4930132759087307,
            0.7617371682060123,
            0.6277518758546545,
            0.9388821996441759,
            0.8122864692777264,
            0.570811834544851,
            0.6610100308979779,
            0.907593977727425,
            0.5790716187630999,
            0.7884813252110626,
            0.646736517774646,
            0.6089721087759206,
            0.5238939245593125,
            0.6288283664863297,
            0.9888299137414693,
            0.9963188790238322,
            0.9809824846628696,
            0.9808030111087076,
            0.993919652951368,
            0.9254214651494851,
            0.4215226954030178,
            0.9938545193329472,
            0.8921875382386104,
            0.9382798534467293,
            0.999321375751208,
            0.8864473030781231,
            0.9502026467308309,
            0.9565143031259961,
            0.8969823122769061,
            0.7295548708609366,
            0.8648052183650696,
            0.8466946536370402,
            0.953466075781121,
            0.9178697708171761,
            0.8355795845753176,
            0.9759830323608942,
            0.9764305847101874,
            0.8866615627017275,
            0.963343296552413,
            0.9237361102232275,
            0.9972981872495722,
            0.8010704986709734,
            0.8771536922679971,
            0.6944067650804836
           ]
          },
          {
           "label": "bagging_freq",
           "range": [
            1,
            10
           ],
           "values": [
            10,
            3,
            10,
            6,
            5,
            2,
            9,
            8,
            7,
            3,
            9,
            4,
            1,
            8,
            4,
            6,
            5,
            8,
            6,
            10,
            7,
            7,
            7,
            7,
            7,
            7,
            8,
            9,
            5,
            6,
            7,
            5,
            4,
            5,
            6,
            7,
            6,
            8,
            3,
            5,
            9,
            7,
            7,
            6,
            8,
            7,
            4,
            8,
            6,
            10
           ]
          },
          {
           "label": "feature_fraction",
           "range": [
            0.4242177341316495,
            0.9988153983605003
           ],
           "values": [
            0.6322520900294102,
            0.8506907346287693,
            0.8599079405644661,
            0.9185553665761836,
            0.7879631482476517,
            0.6472361351289007,
            0.4242177341316495,
            0.9121003637601469,
            0.743827369384561,
            0.7390701929809338,
            0.896461540212959,
            0.7070070542698941,
            0.6045164404046405,
            0.9411513643524648,
            0.9434327601296862,
            0.5536703976238684,
            0.9585878342224831,
            0.9367126677788017,
            0.9819878900428428,
            0.5974005260560606,
            0.9875433065616599,
            0.9909289429188364,
            0.992314440560798,
            0.9988153983605003,
            0.8261245422719168,
            0.8542634639106615,
            0.8182075424131399,
            0.8077376529289241,
            0.8852219113216064,
            0.4947223730467968,
            0.7816037482890598,
            0.8805992904017397,
            0.8347690997015286,
            0.8816522727552777,
            0.9648863762920756,
            0.9191826536436631,
            0.8671843116573825,
            0.766471009263724,
            0.685822087290038,
            0.9046215361990803,
            0.8440162052272098,
            0.9949358059116589,
            0.9733512276757839,
            0.9296412614923657,
            0.998732741902765,
            0.9077196148646127,
            0.9569358942031508,
            0.9684329688821974,
            0.8890543328013301,
            0.7173812736080464
           ]
          },
          {
           "label": "lambda_l1",
           "range": [
            0.25108309306789867,
            14.829959331010729
           ],
           "values": [
            8.057777905404162,
            3.9047355824451495,
            12.526566500758413,
            1.6100680405575307,
            14.383692475328225,
            12.424387376628198,
            14.330494768522627,
            1.4440721990250727,
            10.45351382900559,
            13.672301941715478,
            7.881559924666472,
            13.357125614873992,
            8.298925854042775,
            8.113172705739558,
            6.392651742810374,
            1.5671547286549325,
            14.829959331010729,
            0.25108309306789867,
            3.704622287461202,
            2.1684511472367713,
            10.247614031512086,
            10.36927339301408,
            10.54868695685168,
            10.119600599314328,
            10.450288447847596,
            9.318928870544603,
            6.296917205498666,
            11.230267918879896,
            11.60227010942576,
            9.255568548194125,
            6.781929877859098,
            12.092761221476497,
            11.644133863313787,
            10.983891397376313,
            9.725057866138036,
            13.060398267748607,
            8.75774512440673,
            11.568061796901304,
            6.88759666607111,
            12.415159627285615,
            5.347711234053005,
            10.821546007252428,
            10.203710488440109,
            9.176241448671107,
            12.866611303365204,
            10.6188523326036,
            11.626022668897736,
            13.749895289189567,
            9.82749585859812,
            7.549602978068538
           ]
          },
          {
           "label": "lambda_l2",
           "range": [
            0.16573963392286506,
            14.479197814321314
           ],
           "values": [
            6.986052108818572,
            10.351260083536108,
            3.8158431151474237,
            14.479197814321314,
            2.279486193293319,
            11.771994344417509,
            1.4020059084903207,
            2.663951966537141,
            11.647786878397698,
            5.774251194632502,
            10.32370138223586,
            6.61931535112611,
            13.925831731730394,
            2.7462747556696816,
            3.761229842858694,
            5.4731965251337105,
            14.402888742799796,
            0.16573963392286506,
            13.017209034364567,
            6.210750298686233,
            9.070048893987414,
            8.949074857818111,
            8.922250694253982,
            8.881250681693835,
            8.395524465029425,
            8.983270875274913,
            7.896623751875698,
            10.856143382740752,
            7.959833387404664,
            7.4150081610669005,
            9.69575941853123,
            7.663025404898079,
            8.268428970318965,
            4.981179329336612,
            9.863576788587958,
            11.149069912549729,
            7.211950321996195,
            12.197718414344841,
            4.689201894632136,
            8.326564598948156,
            9.745391311357853,
            9.052590213472698,
            6.552144374877865,
            10.43607744487025,
            8.619734862535916,
            9.385179398080089,
            7.021177927608688,
            10.320772379429972,
            8.154172307410906,
            12.05025785776496
           ]
          },
          {
           "label": "learning_rate",
           "range": [
            0.011130434324723907,
            0.2891684534135509
           ],
           "values": [
            0.15069190115899878,
            0.020694043835740385,
            0.24687177900394722,
            0.09908863657922856,
            0.011130434324723907,
            0.25218915640296996,
            0.2891684534135509,
            0.22521398336772672,
            0.03765086232463476,
            0.2514414300644576,
            0.24624819393809175,
            0.05734521650223409,
            0.27167455137451274,
            0.027082296248414524,
            0.06590608662981458,
            0.09691992277276358,
            0.11091139092373707,
            0.26574591151189964,
            0.20847118159844905,
            0.08775256703514342,
            0.14148630707550516,
            0.13775019388531756,
            0.15674783297318579,
            0.1602012317301575,
            0.15373356079981018,
            0.1281723474748134,
            0.19357753439987269,
            0.17675586740276325,
            0.13211110719571134,
            0.13519228494517838,
            0.17826938023658498,
            0.1333580434248985,
            0.14901280249638202,
            0.11762522537529892,
            0.17337285351266601,
            0.1482352117775796,
            0.07468700447425404,
            0.11259115454909273,
            0.20451317546816855,
            0.14018866220562873,
            0.16612879543703768,
            0.15674994649089416,
            0.1906291954473005,
            0.12193084040748006,
            0.10350697106667466,
            0.14044430152938575,
            0.22403445860581517,
            0.08547369071327542,
            0.16614024341930117,
            0.14976156246388428
           ]
          },
          {
           "label": "max_depth",
           "range": [
            -1,
            17
           ],
           "values": [
            13,
            8,
            0,
            4,
            9,
            16,
            1,
            14,
            5,
            1,
            14,
            13,
            9,
            6,
            13,
            12,
            12,
            17,
            1,
            4,
            7,
            7,
            11,
            10,
            7,
            7,
            3,
            7,
            7,
            3,
            6,
            8,
            7,
            5,
            10,
            8,
            6,
            9,
            4,
            -1,
            10,
            10,
            11,
            7,
            8,
            5,
            9,
            11,
            14,
            6
           ]
          },
          {
           "label": "min_data_in_leaf",
           "range": [
            2,
            1472
           ],
           "values": [
            369,
            1024,
            762,
            855,
            1472,
            339,
            712,
            62,
            126,
            1022,
            1361,
            682,
            528,
            541,
            258,
            1073,
            523,
            942,
            259,
            571,
            493,
            496,
            464,
            413,
            220,
            2,
            204,
            631,
            344,
            198,
            419,
            330,
            340,
            128,
            842,
            444,
            603,
            265,
            748,
            478,
            384,
            474,
            322,
            128,
            668,
            207,
            1203,
            473,
            821,
            293
           ]
          },
          {
           "label": "min_gain_to_split",
           "range": [
            0.00738348879646189,
            9.47060160110527
           ],
           "values": [
            7.576146557315888,
            8.702244207027077,
            1.7063557011120112,
            7.337028251201226,
            2.5249887126261115,
            3.3175274050499737,
            7.931654854989237,
            9.069713019445732,
            4.399890365086526,
            1.6482961060418844,
            7.131497235673578,
            3.3491512791231495,
            3.3814897136227717,
            6.235799690670218,
            1.381638821197857,
            9.47060160110527,
            1.8519920348165275,
            3.4408788314770633,
            2.091105807060043,
            9.413572666666763,
            0.048902496199919376,
            0.00738348879646189,
            0.12960033974066054,
            0.2613193706263339,
            0.038312061034643304,
            0.7522414405522448,
            0.9199318558625768,
            0.680371323894233,
            0.04254701674426098,
            5.1281979815210095,
            2.535457272945992,
            0.008930685186055567,
            1.0176756531357087,
            0.5184556663512868,
            1.2748076316011556,
            2.5121555874378116,
            0.06579347565792673,
            1.0418109638634558,
            2.4053690387941207,
            0.6116792827608095,
            4.55167355226448,
            0.020408660832606174,
            1.4189347712540366,
            0.48583659383296174,
            1.8220405561130883,
            0.4568811061398223,
            8.46682321631376,
            2.8997607077949326,
            6.659772338671032,
            1.324840490268814
           ]
          },
          {
           "label": "min_sum_hessian_i...",
           "range": [
            0.21185511591588305,
            29.05313449657534
           ],
           "values": [
            22.48711155004957,
            2.295948035507634,
            22.081505226336855,
            0.21185511591588305,
            16.768329081900088,
            24.290226873509415,
            11.853025209348305,
            0.482692063733405,
            12.71208965596918,
            24.41849743241833,
            16.008064364661312,
            17.94704337448833,
            2.328432063653495,
            2.672928295940005,
            26.804816680962308,
            25.990051440133012,
            12.181838894111204,
            0.867803254082599,
            26.11920828882985,
            25.044165476287894,
            6.471289490776165,
            6.893657302298395,
            7.4635749280652846,
            6.672144665377505,
            7.951849759549634,
            6.919985285653022,
            9.186246039001857,
            5.0508436729009105,
            9.915017393650862,
            4.159458083041718,
            9.242154923835038,
            9.812521332630833,
            4.961124003004242,
            29.05313449657534,
            14.1067363584061,
            10.56312033284349,
            19.572590927218357,
            6.5812401573858885,
            8.000831088647578,
            3.6811654842993935,
            13.310808938016965,
            7.963194746217745,
            5.71243319478249,
            10.831919835734114,
            8.547736067164838,
            11.195054451516372,
            7.333170291949798,
            3.267565719482061,
            15.042728583031366,
            0.9917258840571872
           ]
          },
          {
           "label": "num_iterations",
           "range": [
            21,
            1820
           ],
           "values": [
            1180,
            610,
            1227,
            890,
            811,
            1573,
            1213,
            699,
            1677,
            1265,
            54,
            740,
            1086,
            1722,
            126,
            1537,
            302,
            1746,
            1820,
            584,
            328,
            361,
            341,
            377,
            406,
            469,
            160,
            196,
            511,
            21,
            242,
            500,
            469,
            633,
            415,
            895,
            517,
            283,
            879,
            581,
            782,
            354,
            336,
            665,
            115,
            234,
            1348,
            407,
            1080,
            550
           ]
          },
          {
           "label": "num_leaves",
           "range": [
            12,
            2191
           ],
           "values": [
            1159,
            1139,
            1479,
            1784,
            500,
            1857,
            673,
            2044,
            818,
            123,
            1714,
            1001,
            2072,
            1170,
            12,
            964,
            892,
            69,
            1228,
            682,
            1414,
            1455,
            1456,
            1522,
            1369,
            1356,
            1640,
            1327,
            1593,
            1965,
            2191,
            1650,
            1324,
            1568,
            1086,
            1827,
            1418,
            1230,
            1597,
            1884,
            1456,
            1728,
            1479,
            1283,
            1099,
            1393,
            1731,
            261,
            1492,
            1136
           ]
          }
         ],
         "labelangle": 30,
         "labelside": "bottom",
         "line": {
          "color": [
           0.9271521923606498,
           0.9280122989418154,
           0.9270222297854989,
           0.9293991358554734,
           0.9288429544006261,
           0.928668197095529,
           0.9200967003689989,
           0.9266699631300792,
           0.9296207783372132,
           0.9271894417924468,
           0.925939516374498,
           0.9286716214682451,
           0.9294145909882543,
           0.9297069176990412,
           0.928563158595607,
           0.927292864178354,
           0.9306908989704062,
           0.9277956895552733,
           0.9271519069282508,
           0.9272877132896147,
           0.9352171367702047,
           0.9351312483896871,
           0.9346436612136635,
           0.934224515620216,
           0.9348237928873224,
           0.933791896765278,
           0.9298680942695231,
           0.9323227378666632,
           0.9347779404050967,
           0.9184810156457013,
           0.9306143557515568,
           0.934454094151018,
           0.932842495032218,
           0.9332010676957033,
           0.9316523217889362,
           0.9298780110730659,
           0.9341666606886031,
           0.932705015919683,
           0.9313929214810595,
           0.9332567822114409,
           0.9290278712534084,
           0.9342081937441739,
           0.9319041283762471,
           0.9341475102964957,
           0.931016971040831,
           0.9339538877778464,
           0.9266374042593094,
           0.9298074050853915,
           0.9280262865232081,
           0.932077890847317
          ],
          "colorbar": {
           "title": {
            "text": "Objective Value"
           }
          },
          "colorscale": [
           [
            0,
            "rgb(247,251,255)"
           ],
           [
            0.125,
            "rgb(222,235,247)"
           ],
           [
            0.25,
            "rgb(198,219,239)"
           ],
           [
            0.375,
            "rgb(158,202,225)"
           ],
           [
            0.5,
            "rgb(107,174,214)"
           ],
           [
            0.625,
            "rgb(66,146,198)"
           ],
           [
            0.75,
            "rgb(33,113,181)"
           ],
           [
            0.875,
            "rgb(8,81,156)"
           ],
           [
            1,
            "rgb(8,48,107)"
           ]
          ],
          "reversescale": false,
          "showscale": true
         },
         "type": "parcoords"
        }
       ],
       "layout": {
        "template": {
         "data": {
          "bar": [
           {
            "error_x": {
             "color": "#2a3f5f"
            },
            "error_y": {
             "color": "#2a3f5f"
            },
            "marker": {
             "line": {
              "color": "#E5ECF6",
              "width": 0.5
             },
             "pattern": {
              "fillmode": "overlay",
              "size": 10,
              "solidity": 0.2
             }
            },
            "type": "bar"
           }
          ],
          "barpolar": [
           {
            "marker": {
             "line": {
              "color": "#E5ECF6",
              "width": 0.5
             },
             "pattern": {
              "fillmode": "overlay",
              "size": 10,
              "solidity": 0.2
             }
            },
            "type": "barpolar"
           }
          ],
          "carpet": [
           {
            "aaxis": {
             "endlinecolor": "#2a3f5f",
             "gridcolor": "white",
             "linecolor": "white",
             "minorgridcolor": "white",
             "startlinecolor": "#2a3f5f"
            },
            "baxis": {
             "endlinecolor": "#2a3f5f",
             "gridcolor": "white",
             "linecolor": "white",
             "minorgridcolor": "white",
             "startlinecolor": "#2a3f5f"
            },
            "type": "carpet"
           }
          ],
          "choropleth": [
           {
            "colorbar": {
             "outlinewidth": 0,
             "ticks": ""
            },
            "type": "choropleth"
           }
          ],
          "contour": [
           {
            "colorbar": {
             "outlinewidth": 0,
             "ticks": ""
            },
            "colorscale": [
             [
              0,
              "#0d0887"
             ],
             [
              0.1111111111111111,
              "#46039f"
             ],
             [
              0.2222222222222222,
              "#7201a8"
             ],
             [
              0.3333333333333333,
              "#9c179e"
             ],
             [
              0.4444444444444444,
              "#bd3786"
             ],
             [
              0.5555555555555556,
              "#d8576b"
             ],
             [
              0.6666666666666666,
              "#ed7953"
             ],
             [
              0.7777777777777778,
              "#fb9f3a"
             ],
             [
              0.8888888888888888,
              "#fdca26"
             ],
             [
              1,
              "#f0f921"
             ]
            ],
            "type": "contour"
           }
          ],
          "contourcarpet": [
           {
            "colorbar": {
             "outlinewidth": 0,
             "ticks": ""
            },
            "type": "contourcarpet"
           }
          ],
          "heatmap": [
           {
            "colorbar": {
             "outlinewidth": 0,
             "ticks": ""
            },
            "colorscale": [
             [
              0,
              "#0d0887"
             ],
             [
              0.1111111111111111,
              "#46039f"
             ],
             [
              0.2222222222222222,
              "#7201a8"
             ],
             [
              0.3333333333333333,
              "#9c179e"
             ],
             [
              0.4444444444444444,
              "#bd3786"
             ],
             [
              0.5555555555555556,
              "#d8576b"
             ],
             [
              0.6666666666666666,
              "#ed7953"
             ],
             [
              0.7777777777777778,
              "#fb9f3a"
             ],
             [
              0.8888888888888888,
              "#fdca26"
             ],
             [
              1,
              "#f0f921"
             ]
            ],
            "type": "heatmap"
           }
          ],
          "heatmapgl": [
           {
            "colorbar": {
             "outlinewidth": 0,
             "ticks": ""
            },
            "colorscale": [
             [
              0,
              "#0d0887"
             ],
             [
              0.1111111111111111,
              "#46039f"
             ],
             [
              0.2222222222222222,
              "#7201a8"
             ],
             [
              0.3333333333333333,
              "#9c179e"
             ],
             [
              0.4444444444444444,
              "#bd3786"
             ],
             [
              0.5555555555555556,
              "#d8576b"
             ],
             [
              0.6666666666666666,
              "#ed7953"
             ],
             [
              0.7777777777777778,
              "#fb9f3a"
             ],
             [
              0.8888888888888888,
              "#fdca26"
             ],
             [
              1,
              "#f0f921"
             ]
            ],
            "type": "heatmapgl"
           }
          ],
          "histogram": [
           {
            "marker": {
             "pattern": {
              "fillmode": "overlay",
              "size": 10,
              "solidity": 0.2
             }
            },
            "type": "histogram"
           }
          ],
          "histogram2d": [
           {
            "colorbar": {
             "outlinewidth": 0,
             "ticks": ""
            },
            "colorscale": [
             [
              0,
              "#0d0887"
             ],
             [
              0.1111111111111111,
              "#46039f"
             ],
             [
              0.2222222222222222,
              "#7201a8"
             ],
             [
              0.3333333333333333,
              "#9c179e"
             ],
             [
              0.4444444444444444,
              "#bd3786"
             ],
             [
              0.5555555555555556,
              "#d8576b"
             ],
             [
              0.6666666666666666,
              "#ed7953"
             ],
             [
              0.7777777777777778,
              "#fb9f3a"
             ],
             [
              0.8888888888888888,
              "#fdca26"
             ],
             [
              1,
              "#f0f921"
             ]
            ],
            "type": "histogram2d"
           }
          ],
          "histogram2dcontour": [
           {
            "colorbar": {
             "outlinewidth": 0,
             "ticks": ""
            },
            "colorscale": [
             [
              0,
              "#0d0887"
             ],
             [
              0.1111111111111111,
              "#46039f"
             ],
             [
              0.2222222222222222,
              "#7201a8"
             ],
             [
              0.3333333333333333,
              "#9c179e"
             ],
             [
              0.4444444444444444,
              "#bd3786"
             ],
             [
              0.5555555555555556,
              "#d8576b"
             ],
             [
              0.6666666666666666,
              "#ed7953"
             ],
             [
              0.7777777777777778,
              "#fb9f3a"
             ],
             [
              0.8888888888888888,
              "#fdca26"
             ],
             [
              1,
              "#f0f921"
             ]
            ],
            "type": "histogram2dcontour"
           }
          ],
          "mesh3d": [
           {
            "colorbar": {
             "outlinewidth": 0,
             "ticks": ""
            },
            "type": "mesh3d"
           }
          ],
          "parcoords": [
           {
            "line": {
             "colorbar": {
              "outlinewidth": 0,
              "ticks": ""
             }
            },
            "type": "parcoords"
           }
          ],
          "pie": [
           {
            "automargin": true,
            "type": "pie"
           }
          ],
          "scatter": [
           {
            "fillpattern": {
             "fillmode": "overlay",
             "size": 10,
             "solidity": 0.2
            },
            "type": "scatter"
           }
          ],
          "scatter3d": [
           {
            "line": {
             "colorbar": {
              "outlinewidth": 0,
              "ticks": ""
             }
            },
            "marker": {
             "colorbar": {
              "outlinewidth": 0,
              "ticks": ""
             }
            },
            "type": "scatter3d"
           }
          ],
          "scattercarpet": [
           {
            "marker": {
             "colorbar": {
              "outlinewidth": 0,
              "ticks": ""
             }
            },
            "type": "scattercarpet"
           }
          ],
          "scattergeo": [
           {
            "marker": {
             "colorbar": {
              "outlinewidth": 0,
              "ticks": ""
             }
            },
            "type": "scattergeo"
           }
          ],
          "scattergl": [
           {
            "marker": {
             "colorbar": {
              "outlinewidth": 0,
              "ticks": ""
             }
            },
            "type": "scattergl"
           }
          ],
          "scattermapbox": [
           {
            "marker": {
             "colorbar": {
              "outlinewidth": 0,
              "ticks": ""
             }
            },
            "type": "scattermapbox"
           }
          ],
          "scatterpolar": [
           {
            "marker": {
             "colorbar": {
              "outlinewidth": 0,
              "ticks": ""
             }
            },
            "type": "scatterpolar"
           }
          ],
          "scatterpolargl": [
           {
            "marker": {
             "colorbar": {
              "outlinewidth": 0,
              "ticks": ""
             }
            },
            "type": "scatterpolargl"
           }
          ],
          "scatterternary": [
           {
            "marker": {
             "colorbar": {
              "outlinewidth": 0,
              "ticks": ""
             }
            },
            "type": "scatterternary"
           }
          ],
          "surface": [
           {
            "colorbar": {
             "outlinewidth": 0,
             "ticks": ""
            },
            "colorscale": [
             [
              0,
              "#0d0887"
             ],
             [
              0.1111111111111111,
              "#46039f"
             ],
             [
              0.2222222222222222,
              "#7201a8"
             ],
             [
              0.3333333333333333,
              "#9c179e"
             ],
             [
              0.4444444444444444,
              "#bd3786"
             ],
             [
              0.5555555555555556,
              "#d8576b"
             ],
             [
              0.6666666666666666,
              "#ed7953"
             ],
             [
              0.7777777777777778,
              "#fb9f3a"
             ],
             [
              0.8888888888888888,
              "#fdca26"
             ],
             [
              1,
              "#f0f921"
             ]
            ],
            "type": "surface"
           }
          ],
          "table": [
           {
            "cells": {
             "fill": {
              "color": "#EBF0F8"
             },
             "line": {
              "color": "white"
             }
            },
            "header": {
             "fill": {
              "color": "#C8D4E3"
             },
             "line": {
              "color": "white"
             }
            },
            "type": "table"
           }
          ]
         },
         "layout": {
          "annotationdefaults": {
           "arrowcolor": "#2a3f5f",
           "arrowhead": 0,
           "arrowwidth": 1
          },
          "autotypenumbers": "strict",
          "coloraxis": {
           "colorbar": {
            "outlinewidth": 0,
            "ticks": ""
           }
          },
          "colorscale": {
           "diverging": [
            [
             0,
             "#8e0152"
            ],
            [
             0.1,
             "#c51b7d"
            ],
            [
             0.2,
             "#de77ae"
            ],
            [
             0.3,
             "#f1b6da"
            ],
            [
             0.4,
             "#fde0ef"
            ],
            [
             0.5,
             "#f7f7f7"
            ],
            [
             0.6,
             "#e6f5d0"
            ],
            [
             0.7,
             "#b8e186"
            ],
            [
             0.8,
             "#7fbc41"
            ],
            [
             0.9,
             "#4d9221"
            ],
            [
             1,
             "#276419"
            ]
           ],
           "sequential": [
            [
             0,
             "#0d0887"
            ],
            [
             0.1111111111111111,
             "#46039f"
            ],
            [
             0.2222222222222222,
             "#7201a8"
            ],
            [
             0.3333333333333333,
             "#9c179e"
            ],
            [
             0.4444444444444444,
             "#bd3786"
            ],
            [
             0.5555555555555556,
             "#d8576b"
            ],
            [
             0.6666666666666666,
             "#ed7953"
            ],
            [
             0.7777777777777778,
             "#fb9f3a"
            ],
            [
             0.8888888888888888,
             "#fdca26"
            ],
            [
             1,
             "#f0f921"
            ]
           ],
           "sequentialminus": [
            [
             0,
             "#0d0887"
            ],
            [
             0.1111111111111111,
             "#46039f"
            ],
            [
             0.2222222222222222,
             "#7201a8"
            ],
            [
             0.3333333333333333,
             "#9c179e"
            ],
            [
             0.4444444444444444,
             "#bd3786"
            ],
            [
             0.5555555555555556,
             "#d8576b"
            ],
            [
             0.6666666666666666,
             "#ed7953"
            ],
            [
             0.7777777777777778,
             "#fb9f3a"
            ],
            [
             0.8888888888888888,
             "#fdca26"
            ],
            [
             1,
             "#f0f921"
            ]
           ]
          },
          "colorway": [
           "#636efa",
           "#EF553B",
           "#00cc96",
           "#ab63fa",
           "#FFA15A",
           "#19d3f3",
           "#FF6692",
           "#B6E880",
           "#FF97FF",
           "#FECB52"
          ],
          "font": {
           "color": "#2a3f5f"
          },
          "geo": {
           "bgcolor": "white",
           "lakecolor": "white",
           "landcolor": "#E5ECF6",
           "showlakes": true,
           "showland": true,
           "subunitcolor": "white"
          },
          "hoverlabel": {
           "align": "left"
          },
          "hovermode": "closest",
          "mapbox": {
           "style": "light"
          },
          "paper_bgcolor": "white",
          "plot_bgcolor": "#E5ECF6",
          "polar": {
           "angularaxis": {
            "gridcolor": "white",
            "linecolor": "white",
            "ticks": ""
           },
           "bgcolor": "#E5ECF6",
           "radialaxis": {
            "gridcolor": "white",
            "linecolor": "white",
            "ticks": ""
           }
          },
          "scene": {
           "xaxis": {
            "backgroundcolor": "#E5ECF6",
            "gridcolor": "white",
            "gridwidth": 2,
            "linecolor": "white",
            "showbackground": true,
            "ticks": "",
            "zerolinecolor": "white"
           },
           "yaxis": {
            "backgroundcolor": "#E5ECF6",
            "gridcolor": "white",
            "gridwidth": 2,
            "linecolor": "white",
            "showbackground": true,
            "ticks": "",
            "zerolinecolor": "white"
           },
           "zaxis": {
            "backgroundcolor": "#E5ECF6",
            "gridcolor": "white",
            "gridwidth": 2,
            "linecolor": "white",
            "showbackground": true,
            "ticks": "",
            "zerolinecolor": "white"
           }
          },
          "shapedefaults": {
           "line": {
            "color": "#2a3f5f"
           }
          },
          "ternary": {
           "aaxis": {
            "gridcolor": "white",
            "linecolor": "white",
            "ticks": ""
           },
           "baxis": {
            "gridcolor": "white",
            "linecolor": "white",
            "ticks": ""
           },
           "bgcolor": "#E5ECF6",
           "caxis": {
            "gridcolor": "white",
            "linecolor": "white",
            "ticks": ""
           }
          },
          "title": {
           "x": 0.05
          },
          "xaxis": {
           "automargin": true,
           "gridcolor": "white",
           "linecolor": "white",
           "ticks": "",
           "title": {
            "standoff": 15
           },
           "zerolinecolor": "white",
           "zerolinewidth": 2
          },
          "yaxis": {
           "automargin": true,
           "gridcolor": "white",
           "linecolor": "white",
           "ticks": "",
           "title": {
            "standoff": 15
           },
           "zerolinecolor": "white",
           "zerolinewidth": 2
          }
         }
        },
        "title": {
         "text": "Parallel Coordinate Plot"
        }
       }
      }
     },
     "metadata": {},
     "output_type": "display_data"
    },
    {
     "data": {
      "application/vnd.plotly.v1+json": {
       "config": {
        "plotlyServerURL": "https://plot.ly"
       },
       "data": [
        {
         "marker": {
          "color": [
           0,
           1,
           2,
           3,
           4,
           5,
           6,
           7,
           8,
           9,
           10,
           11,
           12,
           13,
           14,
           15,
           16,
           17,
           18,
           19,
           20,
           21,
           22,
           23,
           24,
           25,
           26,
           27,
           28,
           29,
           30,
           31,
           32,
           33,
           34,
           35,
           36,
           37,
           38,
           39,
           40,
           41,
           42,
           43,
           44,
           45,
           46,
           47,
           48,
           49
          ],
          "colorbar": {
           "title": {
            "text": "Trial"
           },
           "x": 1,
           "xpad": 40
          },
          "colorscale": [
           [
            0,
            "rgb(247,251,255)"
           ],
           [
            0.125,
            "rgb(222,235,247)"
           ],
           [
            0.25,
            "rgb(198,219,239)"
           ],
           [
            0.375,
            "rgb(158,202,225)"
           ],
           [
            0.5,
            "rgb(107,174,214)"
           ],
           [
            0.625,
            "rgb(66,146,198)"
           ],
           [
            0.75,
            "rgb(33,113,181)"
           ],
           [
            0.875,
            "rgb(8,81,156)"
           ],
           [
            1,
            "rgb(8,48,107)"
           ]
          ],
          "line": {
           "color": "Grey",
           "width": 0.5
          },
          "showscale": true
         },
         "mode": "markers",
         "name": "Feasible Trial",
         "showlegend": false,
         "type": "scatter",
         "x": [
          0.8234966468376737,
          0.7289920139767798,
          0.5234372974027808,
          0.867562169662011,
          0.8212751221088193,
          0.8606159362039743,
          0.4930132759087307,
          0.7617371682060123,
          0.6277518758546545,
          0.9388821996441759,
          0.8122864692777264,
          0.570811834544851,
          0.6610100308979779,
          0.907593977727425,
          0.5790716187630999,
          0.7884813252110626,
          0.646736517774646,
          0.6089721087759206,
          0.5238939245593125,
          0.6288283664863297,
          0.9888299137414693,
          0.9963188790238322,
          0.9809824846628696,
          0.9808030111087076,
          0.993919652951368,
          0.9254214651494851,
          0.4215226954030178,
          0.9938545193329472,
          0.8921875382386104,
          0.9382798534467293,
          0.999321375751208,
          0.8864473030781231,
          0.9502026467308309,
          0.9565143031259961,
          0.8969823122769061,
          0.7295548708609366,
          0.8648052183650696,
          0.8466946536370402,
          0.953466075781121,
          0.9178697708171761,
          0.8355795845753176,
          0.9759830323608942,
          0.9764305847101874,
          0.8866615627017275,
          0.963343296552413,
          0.9237361102232275,
          0.9972981872495722,
          0.8010704986709734,
          0.8771536922679971,
          0.6944067650804836
         ],
         "xaxis": "x",
         "y": [
          0.9271521923606498,
          0.9280122989418154,
          0.9270222297854989,
          0.9293991358554734,
          0.9288429544006261,
          0.928668197095529,
          0.9200967003689989,
          0.9266699631300792,
          0.9296207783372132,
          0.9271894417924468,
          0.925939516374498,
          0.9286716214682451,
          0.9294145909882543,
          0.9297069176990412,
          0.928563158595607,
          0.927292864178354,
          0.9306908989704062,
          0.9277956895552733,
          0.9271519069282508,
          0.9272877132896147,
          0.9352171367702047,
          0.9351312483896871,
          0.9346436612136635,
          0.934224515620216,
          0.9348237928873224,
          0.933791896765278,
          0.9298680942695231,
          0.9323227378666632,
          0.9347779404050967,
          0.9184810156457013,
          0.9306143557515568,
          0.934454094151018,
          0.932842495032218,
          0.9332010676957033,
          0.9316523217889362,
          0.9298780110730659,
          0.9341666606886031,
          0.932705015919683,
          0.9313929214810595,
          0.9332567822114409,
          0.9290278712534084,
          0.9342081937441739,
          0.9319041283762471,
          0.9341475102964957,
          0.931016971040831,
          0.9339538877778464,
          0.9266374042593094,
          0.9298074050853915,
          0.9280262865232081,
          0.932077890847317
         ],
         "yaxis": "y"
        },
        {
         "marker": {
          "color": [
           0,
           1,
           2,
           3,
           4,
           5,
           6,
           7,
           8,
           9,
           10,
           11,
           12,
           13,
           14,
           15,
           16,
           17,
           18,
           19,
           20,
           21,
           22,
           23,
           24,
           25,
           26,
           27,
           28,
           29,
           30,
           31,
           32,
           33,
           34,
           35,
           36,
           37,
           38,
           39,
           40,
           41,
           42,
           43,
           44,
           45,
           46,
           47,
           48,
           49
          ],
          "colorbar": {
           "title": {
            "text": "Trial"
           },
           "x": 1,
           "xpad": 40
          },
          "colorscale": [
           [
            0,
            "rgb(247,251,255)"
           ],
           [
            0.125,
            "rgb(222,235,247)"
           ],
           [
            0.25,
            "rgb(198,219,239)"
           ],
           [
            0.375,
            "rgb(158,202,225)"
           ],
           [
            0.5,
            "rgb(107,174,214)"
           ],
           [
            0.625,
            "rgb(66,146,198)"
           ],
           [
            0.75,
            "rgb(33,113,181)"
           ],
           [
            0.875,
            "rgb(8,81,156)"
           ],
           [
            1,
            "rgb(8,48,107)"
           ]
          ],
          "line": {
           "color": "Grey",
           "width": 0.5
          },
          "showscale": false
         },
         "mode": "markers",
         "name": "Feasible Trial",
         "showlegend": false,
         "type": "scatter",
         "x": [
          10,
          3,
          10,
          6,
          5,
          2,
          9,
          8,
          7,
          3,
          9,
          4,
          1,
          8,
          4,
          6,
          5,
          8,
          6,
          10,
          7,
          7,
          7,
          7,
          7,
          7,
          8,
          9,
          5,
          6,
          7,
          5,
          4,
          5,
          6,
          7,
          6,
          8,
          3,
          5,
          9,
          7,
          7,
          6,
          8,
          7,
          4,
          8,
          6,
          10
         ],
         "xaxis": "x2",
         "y": [
          0.9271521923606498,
          0.9280122989418154,
          0.9270222297854989,
          0.9293991358554734,
          0.9288429544006261,
          0.928668197095529,
          0.9200967003689989,
          0.9266699631300792,
          0.9296207783372132,
          0.9271894417924468,
          0.925939516374498,
          0.9286716214682451,
          0.9294145909882543,
          0.9297069176990412,
          0.928563158595607,
          0.927292864178354,
          0.9306908989704062,
          0.9277956895552733,
          0.9271519069282508,
          0.9272877132896147,
          0.9352171367702047,
          0.9351312483896871,
          0.9346436612136635,
          0.934224515620216,
          0.9348237928873224,
          0.933791896765278,
          0.9298680942695231,
          0.9323227378666632,
          0.9347779404050967,
          0.9184810156457013,
          0.9306143557515568,
          0.934454094151018,
          0.932842495032218,
          0.9332010676957033,
          0.9316523217889362,
          0.9298780110730659,
          0.9341666606886031,
          0.932705015919683,
          0.9313929214810595,
          0.9332567822114409,
          0.9290278712534084,
          0.9342081937441739,
          0.9319041283762471,
          0.9341475102964957,
          0.931016971040831,
          0.9339538877778464,
          0.9266374042593094,
          0.9298074050853915,
          0.9280262865232081,
          0.932077890847317
         ],
         "yaxis": "y2"
        },
        {
         "marker": {
          "color": [
           0,
           1,
           2,
           3,
           4,
           5,
           6,
           7,
           8,
           9,
           10,
           11,
           12,
           13,
           14,
           15,
           16,
           17,
           18,
           19,
           20,
           21,
           22,
           23,
           24,
           25,
           26,
           27,
           28,
           29,
           30,
           31,
           32,
           33,
           34,
           35,
           36,
           37,
           38,
           39,
           40,
           41,
           42,
           43,
           44,
           45,
           46,
           47,
           48,
           49
          ],
          "colorbar": {
           "title": {
            "text": "Trial"
           },
           "x": 1,
           "xpad": 40
          },
          "colorscale": [
           [
            0,
            "rgb(247,251,255)"
           ],
           [
            0.125,
            "rgb(222,235,247)"
           ],
           [
            0.25,
            "rgb(198,219,239)"
           ],
           [
            0.375,
            "rgb(158,202,225)"
           ],
           [
            0.5,
            "rgb(107,174,214)"
           ],
           [
            0.625,
            "rgb(66,146,198)"
           ],
           [
            0.75,
            "rgb(33,113,181)"
           ],
           [
            0.875,
            "rgb(8,81,156)"
           ],
           [
            1,
            "rgb(8,48,107)"
           ]
          ],
          "line": {
           "color": "Grey",
           "width": 0.5
          },
          "showscale": false
         },
         "mode": "markers",
         "name": "Feasible Trial",
         "showlegend": false,
         "type": "scatter",
         "x": [
          0.6322520900294102,
          0.8506907346287693,
          0.8599079405644661,
          0.9185553665761836,
          0.7879631482476517,
          0.6472361351289007,
          0.4242177341316495,
          0.9121003637601469,
          0.743827369384561,
          0.7390701929809338,
          0.896461540212959,
          0.7070070542698941,
          0.6045164404046405,
          0.9411513643524648,
          0.9434327601296862,
          0.5536703976238684,
          0.9585878342224831,
          0.9367126677788017,
          0.9819878900428428,
          0.5974005260560606,
          0.9875433065616599,
          0.9909289429188364,
          0.992314440560798,
          0.9988153983605003,
          0.8261245422719168,
          0.8542634639106615,
          0.8182075424131399,
          0.8077376529289241,
          0.8852219113216064,
          0.4947223730467968,
          0.7816037482890598,
          0.8805992904017397,
          0.8347690997015286,
          0.8816522727552777,
          0.9648863762920756,
          0.9191826536436631,
          0.8671843116573825,
          0.766471009263724,
          0.685822087290038,
          0.9046215361990803,
          0.8440162052272098,
          0.9949358059116589,
          0.9733512276757839,
          0.9296412614923657,
          0.998732741902765,
          0.9077196148646127,
          0.9569358942031508,
          0.9684329688821974,
          0.8890543328013301,
          0.7173812736080464
         ],
         "xaxis": "x3",
         "y": [
          0.9271521923606498,
          0.9280122989418154,
          0.9270222297854989,
          0.9293991358554734,
          0.9288429544006261,
          0.928668197095529,
          0.9200967003689989,
          0.9266699631300792,
          0.9296207783372132,
          0.9271894417924468,
          0.925939516374498,
          0.9286716214682451,
          0.9294145909882543,
          0.9297069176990412,
          0.928563158595607,
          0.927292864178354,
          0.9306908989704062,
          0.9277956895552733,
          0.9271519069282508,
          0.9272877132896147,
          0.9352171367702047,
          0.9351312483896871,
          0.9346436612136635,
          0.934224515620216,
          0.9348237928873224,
          0.933791896765278,
          0.9298680942695231,
          0.9323227378666632,
          0.9347779404050967,
          0.9184810156457013,
          0.9306143557515568,
          0.934454094151018,
          0.932842495032218,
          0.9332010676957033,
          0.9316523217889362,
          0.9298780110730659,
          0.9341666606886031,
          0.932705015919683,
          0.9313929214810595,
          0.9332567822114409,
          0.9290278712534084,
          0.9342081937441739,
          0.9319041283762471,
          0.9341475102964957,
          0.931016971040831,
          0.9339538877778464,
          0.9266374042593094,
          0.9298074050853915,
          0.9280262865232081,
          0.932077890847317
         ],
         "yaxis": "y3"
        },
        {
         "marker": {
          "color": [
           0,
           1,
           2,
           3,
           4,
           5,
           6,
           7,
           8,
           9,
           10,
           11,
           12,
           13,
           14,
           15,
           16,
           17,
           18,
           19,
           20,
           21,
           22,
           23,
           24,
           25,
           26,
           27,
           28,
           29,
           30,
           31,
           32,
           33,
           34,
           35,
           36,
           37,
           38,
           39,
           40,
           41,
           42,
           43,
           44,
           45,
           46,
           47,
           48,
           49
          ],
          "colorbar": {
           "title": {
            "text": "Trial"
           },
           "x": 1,
           "xpad": 40
          },
          "colorscale": [
           [
            0,
            "rgb(247,251,255)"
           ],
           [
            0.125,
            "rgb(222,235,247)"
           ],
           [
            0.25,
            "rgb(198,219,239)"
           ],
           [
            0.375,
            "rgb(158,202,225)"
           ],
           [
            0.5,
            "rgb(107,174,214)"
           ],
           [
            0.625,
            "rgb(66,146,198)"
           ],
           [
            0.75,
            "rgb(33,113,181)"
           ],
           [
            0.875,
            "rgb(8,81,156)"
           ],
           [
            1,
            "rgb(8,48,107)"
           ]
          ],
          "line": {
           "color": "Grey",
           "width": 0.5
          },
          "showscale": false
         },
         "mode": "markers",
         "name": "Feasible Trial",
         "showlegend": false,
         "type": "scatter",
         "x": [
          8.057777905404162,
          3.9047355824451495,
          12.526566500758413,
          1.6100680405575307,
          14.383692475328225,
          12.424387376628198,
          14.330494768522627,
          1.4440721990250727,
          10.45351382900559,
          13.672301941715478,
          7.881559924666472,
          13.357125614873992,
          8.298925854042775,
          8.113172705739558,
          6.392651742810374,
          1.5671547286549325,
          14.829959331010729,
          0.25108309306789867,
          3.704622287461202,
          2.1684511472367713,
          10.247614031512086,
          10.36927339301408,
          10.54868695685168,
          10.119600599314328,
          10.450288447847596,
          9.318928870544603,
          6.296917205498666,
          11.230267918879896,
          11.60227010942576,
          9.255568548194125,
          6.781929877859098,
          12.092761221476497,
          11.644133863313787,
          10.983891397376313,
          9.725057866138036,
          13.060398267748607,
          8.75774512440673,
          11.568061796901304,
          6.88759666607111,
          12.415159627285615,
          5.347711234053005,
          10.821546007252428,
          10.203710488440109,
          9.176241448671107,
          12.866611303365204,
          10.6188523326036,
          11.626022668897736,
          13.749895289189567,
          9.82749585859812,
          7.549602978068538
         ],
         "xaxis": "x4",
         "y": [
          0.9271521923606498,
          0.9280122989418154,
          0.9270222297854989,
          0.9293991358554734,
          0.9288429544006261,
          0.928668197095529,
          0.9200967003689989,
          0.9266699631300792,
          0.9296207783372132,
          0.9271894417924468,
          0.925939516374498,
          0.9286716214682451,
          0.9294145909882543,
          0.9297069176990412,
          0.928563158595607,
          0.927292864178354,
          0.9306908989704062,
          0.9277956895552733,
          0.9271519069282508,
          0.9272877132896147,
          0.9352171367702047,
          0.9351312483896871,
          0.9346436612136635,
          0.934224515620216,
          0.9348237928873224,
          0.933791896765278,
          0.9298680942695231,
          0.9323227378666632,
          0.9347779404050967,
          0.9184810156457013,
          0.9306143557515568,
          0.934454094151018,
          0.932842495032218,
          0.9332010676957033,
          0.9316523217889362,
          0.9298780110730659,
          0.9341666606886031,
          0.932705015919683,
          0.9313929214810595,
          0.9332567822114409,
          0.9290278712534084,
          0.9342081937441739,
          0.9319041283762471,
          0.9341475102964957,
          0.931016971040831,
          0.9339538877778464,
          0.9266374042593094,
          0.9298074050853915,
          0.9280262865232081,
          0.932077890847317
         ],
         "yaxis": "y4"
        },
        {
         "marker": {
          "color": [
           0,
           1,
           2,
           3,
           4,
           5,
           6,
           7,
           8,
           9,
           10,
           11,
           12,
           13,
           14,
           15,
           16,
           17,
           18,
           19,
           20,
           21,
           22,
           23,
           24,
           25,
           26,
           27,
           28,
           29,
           30,
           31,
           32,
           33,
           34,
           35,
           36,
           37,
           38,
           39,
           40,
           41,
           42,
           43,
           44,
           45,
           46,
           47,
           48,
           49
          ],
          "colorbar": {
           "title": {
            "text": "Trial"
           },
           "x": 1,
           "xpad": 40
          },
          "colorscale": [
           [
            0,
            "rgb(247,251,255)"
           ],
           [
            0.125,
            "rgb(222,235,247)"
           ],
           [
            0.25,
            "rgb(198,219,239)"
           ],
           [
            0.375,
            "rgb(158,202,225)"
           ],
           [
            0.5,
            "rgb(107,174,214)"
           ],
           [
            0.625,
            "rgb(66,146,198)"
           ],
           [
            0.75,
            "rgb(33,113,181)"
           ],
           [
            0.875,
            "rgb(8,81,156)"
           ],
           [
            1,
            "rgb(8,48,107)"
           ]
          ],
          "line": {
           "color": "Grey",
           "width": 0.5
          },
          "showscale": false
         },
         "mode": "markers",
         "name": "Feasible Trial",
         "showlegend": false,
         "type": "scatter",
         "x": [
          6.986052108818572,
          10.351260083536108,
          3.8158431151474237,
          14.479197814321314,
          2.279486193293319,
          11.771994344417509,
          1.4020059084903207,
          2.663951966537141,
          11.647786878397698,
          5.774251194632502,
          10.32370138223586,
          6.61931535112611,
          13.925831731730394,
          2.7462747556696816,
          3.761229842858694,
          5.4731965251337105,
          14.402888742799796,
          0.16573963392286506,
          13.017209034364567,
          6.210750298686233,
          9.070048893987414,
          8.949074857818111,
          8.922250694253982,
          8.881250681693835,
          8.395524465029425,
          8.983270875274913,
          7.896623751875698,
          10.856143382740752,
          7.959833387404664,
          7.4150081610669005,
          9.69575941853123,
          7.663025404898079,
          8.268428970318965,
          4.981179329336612,
          9.863576788587958,
          11.149069912549729,
          7.211950321996195,
          12.197718414344841,
          4.689201894632136,
          8.326564598948156,
          9.745391311357853,
          9.052590213472698,
          6.552144374877865,
          10.43607744487025,
          8.619734862535916,
          9.385179398080089,
          7.021177927608688,
          10.320772379429972,
          8.154172307410906,
          12.05025785776496
         ],
         "xaxis": "x5",
         "y": [
          0.9271521923606498,
          0.9280122989418154,
          0.9270222297854989,
          0.9293991358554734,
          0.9288429544006261,
          0.928668197095529,
          0.9200967003689989,
          0.9266699631300792,
          0.9296207783372132,
          0.9271894417924468,
          0.925939516374498,
          0.9286716214682451,
          0.9294145909882543,
          0.9297069176990412,
          0.928563158595607,
          0.927292864178354,
          0.9306908989704062,
          0.9277956895552733,
          0.9271519069282508,
          0.9272877132896147,
          0.9352171367702047,
          0.9351312483896871,
          0.9346436612136635,
          0.934224515620216,
          0.9348237928873224,
          0.933791896765278,
          0.9298680942695231,
          0.9323227378666632,
          0.9347779404050967,
          0.9184810156457013,
          0.9306143557515568,
          0.934454094151018,
          0.932842495032218,
          0.9332010676957033,
          0.9316523217889362,
          0.9298780110730659,
          0.9341666606886031,
          0.932705015919683,
          0.9313929214810595,
          0.9332567822114409,
          0.9290278712534084,
          0.9342081937441739,
          0.9319041283762471,
          0.9341475102964957,
          0.931016971040831,
          0.9339538877778464,
          0.9266374042593094,
          0.9298074050853915,
          0.9280262865232081,
          0.932077890847317
         ],
         "yaxis": "y5"
        },
        {
         "marker": {
          "color": [
           0,
           1,
           2,
           3,
           4,
           5,
           6,
           7,
           8,
           9,
           10,
           11,
           12,
           13,
           14,
           15,
           16,
           17,
           18,
           19,
           20,
           21,
           22,
           23,
           24,
           25,
           26,
           27,
           28,
           29,
           30,
           31,
           32,
           33,
           34,
           35,
           36,
           37,
           38,
           39,
           40,
           41,
           42,
           43,
           44,
           45,
           46,
           47,
           48,
           49
          ],
          "colorbar": {
           "title": {
            "text": "Trial"
           },
           "x": 1,
           "xpad": 40
          },
          "colorscale": [
           [
            0,
            "rgb(247,251,255)"
           ],
           [
            0.125,
            "rgb(222,235,247)"
           ],
           [
            0.25,
            "rgb(198,219,239)"
           ],
           [
            0.375,
            "rgb(158,202,225)"
           ],
           [
            0.5,
            "rgb(107,174,214)"
           ],
           [
            0.625,
            "rgb(66,146,198)"
           ],
           [
            0.75,
            "rgb(33,113,181)"
           ],
           [
            0.875,
            "rgb(8,81,156)"
           ],
           [
            1,
            "rgb(8,48,107)"
           ]
          ],
          "line": {
           "color": "Grey",
           "width": 0.5
          },
          "showscale": false
         },
         "mode": "markers",
         "name": "Feasible Trial",
         "showlegend": false,
         "type": "scatter",
         "x": [
          0.15069190115899878,
          0.020694043835740385,
          0.24687177900394722,
          0.09908863657922856,
          0.011130434324723907,
          0.25218915640296996,
          0.2891684534135509,
          0.22521398336772672,
          0.03765086232463476,
          0.2514414300644576,
          0.24624819393809175,
          0.05734521650223409,
          0.27167455137451274,
          0.027082296248414524,
          0.06590608662981458,
          0.09691992277276358,
          0.11091139092373707,
          0.26574591151189964,
          0.20847118159844905,
          0.08775256703514342,
          0.14148630707550516,
          0.13775019388531756,
          0.15674783297318579,
          0.1602012317301575,
          0.15373356079981018,
          0.1281723474748134,
          0.19357753439987269,
          0.17675586740276325,
          0.13211110719571134,
          0.13519228494517838,
          0.17826938023658498,
          0.1333580434248985,
          0.14901280249638202,
          0.11762522537529892,
          0.17337285351266601,
          0.1482352117775796,
          0.07468700447425404,
          0.11259115454909273,
          0.20451317546816855,
          0.14018866220562873,
          0.16612879543703768,
          0.15674994649089416,
          0.1906291954473005,
          0.12193084040748006,
          0.10350697106667466,
          0.14044430152938575,
          0.22403445860581517,
          0.08547369071327542,
          0.16614024341930117,
          0.14976156246388428
         ],
         "xaxis": "x6",
         "y": [
          0.9271521923606498,
          0.9280122989418154,
          0.9270222297854989,
          0.9293991358554734,
          0.9288429544006261,
          0.928668197095529,
          0.9200967003689989,
          0.9266699631300792,
          0.9296207783372132,
          0.9271894417924468,
          0.925939516374498,
          0.9286716214682451,
          0.9294145909882543,
          0.9297069176990412,
          0.928563158595607,
          0.927292864178354,
          0.9306908989704062,
          0.9277956895552733,
          0.9271519069282508,
          0.9272877132896147,
          0.9352171367702047,
          0.9351312483896871,
          0.9346436612136635,
          0.934224515620216,
          0.9348237928873224,
          0.933791896765278,
          0.9298680942695231,
          0.9323227378666632,
          0.9347779404050967,
          0.9184810156457013,
          0.9306143557515568,
          0.934454094151018,
          0.932842495032218,
          0.9332010676957033,
          0.9316523217889362,
          0.9298780110730659,
          0.9341666606886031,
          0.932705015919683,
          0.9313929214810595,
          0.9332567822114409,
          0.9290278712534084,
          0.9342081937441739,
          0.9319041283762471,
          0.9341475102964957,
          0.931016971040831,
          0.9339538877778464,
          0.9266374042593094,
          0.9298074050853915,
          0.9280262865232081,
          0.932077890847317
         ],
         "yaxis": "y6"
        },
        {
         "marker": {
          "color": [
           0,
           1,
           2,
           3,
           4,
           5,
           6,
           7,
           8,
           9,
           10,
           11,
           12,
           13,
           14,
           15,
           16,
           17,
           18,
           19,
           20,
           21,
           22,
           23,
           24,
           25,
           26,
           27,
           28,
           29,
           30,
           31,
           32,
           33,
           34,
           35,
           36,
           37,
           38,
           39,
           40,
           41,
           42,
           43,
           44,
           45,
           46,
           47,
           48,
           49
          ],
          "colorbar": {
           "title": {
            "text": "Trial"
           },
           "x": 1,
           "xpad": 40
          },
          "colorscale": [
           [
            0,
            "rgb(247,251,255)"
           ],
           [
            0.125,
            "rgb(222,235,247)"
           ],
           [
            0.25,
            "rgb(198,219,239)"
           ],
           [
            0.375,
            "rgb(158,202,225)"
           ],
           [
            0.5,
            "rgb(107,174,214)"
           ],
           [
            0.625,
            "rgb(66,146,198)"
           ],
           [
            0.75,
            "rgb(33,113,181)"
           ],
           [
            0.875,
            "rgb(8,81,156)"
           ],
           [
            1,
            "rgb(8,48,107)"
           ]
          ],
          "line": {
           "color": "Grey",
           "width": 0.5
          },
          "showscale": false
         },
         "mode": "markers",
         "name": "Feasible Trial",
         "showlegend": false,
         "type": "scatter",
         "x": [
          13,
          8,
          0,
          4,
          9,
          16,
          1,
          14,
          5,
          1,
          14,
          13,
          9,
          6,
          13,
          12,
          12,
          17,
          1,
          4,
          7,
          7,
          11,
          10,
          7,
          7,
          3,
          7,
          7,
          3,
          6,
          8,
          7,
          5,
          10,
          8,
          6,
          9,
          4,
          -1,
          10,
          10,
          11,
          7,
          8,
          5,
          9,
          11,
          14,
          6
         ],
         "xaxis": "x7",
         "y": [
          0.9271521923606498,
          0.9280122989418154,
          0.9270222297854989,
          0.9293991358554734,
          0.9288429544006261,
          0.928668197095529,
          0.9200967003689989,
          0.9266699631300792,
          0.9296207783372132,
          0.9271894417924468,
          0.925939516374498,
          0.9286716214682451,
          0.9294145909882543,
          0.9297069176990412,
          0.928563158595607,
          0.927292864178354,
          0.9306908989704062,
          0.9277956895552733,
          0.9271519069282508,
          0.9272877132896147,
          0.9352171367702047,
          0.9351312483896871,
          0.9346436612136635,
          0.934224515620216,
          0.9348237928873224,
          0.933791896765278,
          0.9298680942695231,
          0.9323227378666632,
          0.9347779404050967,
          0.9184810156457013,
          0.9306143557515568,
          0.934454094151018,
          0.932842495032218,
          0.9332010676957033,
          0.9316523217889362,
          0.9298780110730659,
          0.9341666606886031,
          0.932705015919683,
          0.9313929214810595,
          0.9332567822114409,
          0.9290278712534084,
          0.9342081937441739,
          0.9319041283762471,
          0.9341475102964957,
          0.931016971040831,
          0.9339538877778464,
          0.9266374042593094,
          0.9298074050853915,
          0.9280262865232081,
          0.932077890847317
         ],
         "yaxis": "y7"
        },
        {
         "marker": {
          "color": [
           0,
           1,
           2,
           3,
           4,
           5,
           6,
           7,
           8,
           9,
           10,
           11,
           12,
           13,
           14,
           15,
           16,
           17,
           18,
           19,
           20,
           21,
           22,
           23,
           24,
           25,
           26,
           27,
           28,
           29,
           30,
           31,
           32,
           33,
           34,
           35,
           36,
           37,
           38,
           39,
           40,
           41,
           42,
           43,
           44,
           45,
           46,
           47,
           48,
           49
          ],
          "colorbar": {
           "title": {
            "text": "Trial"
           },
           "x": 1,
           "xpad": 40
          },
          "colorscale": [
           [
            0,
            "rgb(247,251,255)"
           ],
           [
            0.125,
            "rgb(222,235,247)"
           ],
           [
            0.25,
            "rgb(198,219,239)"
           ],
           [
            0.375,
            "rgb(158,202,225)"
           ],
           [
            0.5,
            "rgb(107,174,214)"
           ],
           [
            0.625,
            "rgb(66,146,198)"
           ],
           [
            0.75,
            "rgb(33,113,181)"
           ],
           [
            0.875,
            "rgb(8,81,156)"
           ],
           [
            1,
            "rgb(8,48,107)"
           ]
          ],
          "line": {
           "color": "Grey",
           "width": 0.5
          },
          "showscale": false
         },
         "mode": "markers",
         "name": "Feasible Trial",
         "showlegend": false,
         "type": "scatter",
         "x": [
          369,
          1024,
          762,
          855,
          1472,
          339,
          712,
          62,
          126,
          1022,
          1361,
          682,
          528,
          541,
          258,
          1073,
          523,
          942,
          259,
          571,
          493,
          496,
          464,
          413,
          220,
          2,
          204,
          631,
          344,
          198,
          419,
          330,
          340,
          128,
          842,
          444,
          603,
          265,
          748,
          478,
          384,
          474,
          322,
          128,
          668,
          207,
          1203,
          473,
          821,
          293
         ],
         "xaxis": "x8",
         "y": [
          0.9271521923606498,
          0.9280122989418154,
          0.9270222297854989,
          0.9293991358554734,
          0.9288429544006261,
          0.928668197095529,
          0.9200967003689989,
          0.9266699631300792,
          0.9296207783372132,
          0.9271894417924468,
          0.925939516374498,
          0.9286716214682451,
          0.9294145909882543,
          0.9297069176990412,
          0.928563158595607,
          0.927292864178354,
          0.9306908989704062,
          0.9277956895552733,
          0.9271519069282508,
          0.9272877132896147,
          0.9352171367702047,
          0.9351312483896871,
          0.9346436612136635,
          0.934224515620216,
          0.9348237928873224,
          0.933791896765278,
          0.9298680942695231,
          0.9323227378666632,
          0.9347779404050967,
          0.9184810156457013,
          0.9306143557515568,
          0.934454094151018,
          0.932842495032218,
          0.9332010676957033,
          0.9316523217889362,
          0.9298780110730659,
          0.9341666606886031,
          0.932705015919683,
          0.9313929214810595,
          0.9332567822114409,
          0.9290278712534084,
          0.9342081937441739,
          0.9319041283762471,
          0.9341475102964957,
          0.931016971040831,
          0.9339538877778464,
          0.9266374042593094,
          0.9298074050853915,
          0.9280262865232081,
          0.932077890847317
         ],
         "yaxis": "y8"
        },
        {
         "marker": {
          "color": [
           0,
           1,
           2,
           3,
           4,
           5,
           6,
           7,
           8,
           9,
           10,
           11,
           12,
           13,
           14,
           15,
           16,
           17,
           18,
           19,
           20,
           21,
           22,
           23,
           24,
           25,
           26,
           27,
           28,
           29,
           30,
           31,
           32,
           33,
           34,
           35,
           36,
           37,
           38,
           39,
           40,
           41,
           42,
           43,
           44,
           45,
           46,
           47,
           48,
           49
          ],
          "colorbar": {
           "title": {
            "text": "Trial"
           },
           "x": 1,
           "xpad": 40
          },
          "colorscale": [
           [
            0,
            "rgb(247,251,255)"
           ],
           [
            0.125,
            "rgb(222,235,247)"
           ],
           [
            0.25,
            "rgb(198,219,239)"
           ],
           [
            0.375,
            "rgb(158,202,225)"
           ],
           [
            0.5,
            "rgb(107,174,214)"
           ],
           [
            0.625,
            "rgb(66,146,198)"
           ],
           [
            0.75,
            "rgb(33,113,181)"
           ],
           [
            0.875,
            "rgb(8,81,156)"
           ],
           [
            1,
            "rgb(8,48,107)"
           ]
          ],
          "line": {
           "color": "Grey",
           "width": 0.5
          },
          "showscale": false
         },
         "mode": "markers",
         "name": "Feasible Trial",
         "showlegend": false,
         "type": "scatter",
         "x": [
          7.576146557315888,
          8.702244207027077,
          1.7063557011120112,
          7.337028251201226,
          2.5249887126261115,
          3.3175274050499737,
          7.931654854989237,
          9.069713019445732,
          4.399890365086526,
          1.6482961060418844,
          7.131497235673578,
          3.3491512791231495,
          3.3814897136227717,
          6.235799690670218,
          1.381638821197857,
          9.47060160110527,
          1.8519920348165275,
          3.4408788314770633,
          2.091105807060043,
          9.413572666666763,
          0.048902496199919376,
          0.00738348879646189,
          0.12960033974066054,
          0.2613193706263339,
          0.038312061034643304,
          0.7522414405522448,
          0.9199318558625768,
          0.680371323894233,
          0.04254701674426098,
          5.1281979815210095,
          2.535457272945992,
          0.008930685186055567,
          1.0176756531357087,
          0.5184556663512868,
          1.2748076316011556,
          2.5121555874378116,
          0.06579347565792673,
          1.0418109638634558,
          2.4053690387941207,
          0.6116792827608095,
          4.55167355226448,
          0.020408660832606174,
          1.4189347712540366,
          0.48583659383296174,
          1.8220405561130883,
          0.4568811061398223,
          8.46682321631376,
          2.8997607077949326,
          6.659772338671032,
          1.324840490268814
         ],
         "xaxis": "x9",
         "y": [
          0.9271521923606498,
          0.9280122989418154,
          0.9270222297854989,
          0.9293991358554734,
          0.9288429544006261,
          0.928668197095529,
          0.9200967003689989,
          0.9266699631300792,
          0.9296207783372132,
          0.9271894417924468,
          0.925939516374498,
          0.9286716214682451,
          0.9294145909882543,
          0.9297069176990412,
          0.928563158595607,
          0.927292864178354,
          0.9306908989704062,
          0.9277956895552733,
          0.9271519069282508,
          0.9272877132896147,
          0.9352171367702047,
          0.9351312483896871,
          0.9346436612136635,
          0.934224515620216,
          0.9348237928873224,
          0.933791896765278,
          0.9298680942695231,
          0.9323227378666632,
          0.9347779404050967,
          0.9184810156457013,
          0.9306143557515568,
          0.934454094151018,
          0.932842495032218,
          0.9332010676957033,
          0.9316523217889362,
          0.9298780110730659,
          0.9341666606886031,
          0.932705015919683,
          0.9313929214810595,
          0.9332567822114409,
          0.9290278712534084,
          0.9342081937441739,
          0.9319041283762471,
          0.9341475102964957,
          0.931016971040831,
          0.9339538877778464,
          0.9266374042593094,
          0.9298074050853915,
          0.9280262865232081,
          0.932077890847317
         ],
         "yaxis": "y9"
        },
        {
         "marker": {
          "color": [
           0,
           1,
           2,
           3,
           4,
           5,
           6,
           7,
           8,
           9,
           10,
           11,
           12,
           13,
           14,
           15,
           16,
           17,
           18,
           19,
           20,
           21,
           22,
           23,
           24,
           25,
           26,
           27,
           28,
           29,
           30,
           31,
           32,
           33,
           34,
           35,
           36,
           37,
           38,
           39,
           40,
           41,
           42,
           43,
           44,
           45,
           46,
           47,
           48,
           49
          ],
          "colorbar": {
           "title": {
            "text": "Trial"
           },
           "x": 1,
           "xpad": 40
          },
          "colorscale": [
           [
            0,
            "rgb(247,251,255)"
           ],
           [
            0.125,
            "rgb(222,235,247)"
           ],
           [
            0.25,
            "rgb(198,219,239)"
           ],
           [
            0.375,
            "rgb(158,202,225)"
           ],
           [
            0.5,
            "rgb(107,174,214)"
           ],
           [
            0.625,
            "rgb(66,146,198)"
           ],
           [
            0.75,
            "rgb(33,113,181)"
           ],
           [
            0.875,
            "rgb(8,81,156)"
           ],
           [
            1,
            "rgb(8,48,107)"
           ]
          ],
          "line": {
           "color": "Grey",
           "width": 0.5
          },
          "showscale": false
         },
         "mode": "markers",
         "name": "Feasible Trial",
         "showlegend": false,
         "type": "scatter",
         "x": [
          22.48711155004957,
          2.295948035507634,
          22.081505226336855,
          0.21185511591588305,
          16.768329081900088,
          24.290226873509415,
          11.853025209348305,
          0.482692063733405,
          12.71208965596918,
          24.41849743241833,
          16.008064364661312,
          17.94704337448833,
          2.328432063653495,
          2.672928295940005,
          26.804816680962308,
          25.990051440133012,
          12.181838894111204,
          0.867803254082599,
          26.11920828882985,
          25.044165476287894,
          6.471289490776165,
          6.893657302298395,
          7.4635749280652846,
          6.672144665377505,
          7.951849759549634,
          6.919985285653022,
          9.186246039001857,
          5.0508436729009105,
          9.915017393650862,
          4.159458083041718,
          9.242154923835038,
          9.812521332630833,
          4.961124003004242,
          29.05313449657534,
          14.1067363584061,
          10.56312033284349,
          19.572590927218357,
          6.5812401573858885,
          8.000831088647578,
          3.6811654842993935,
          13.310808938016965,
          7.963194746217745,
          5.71243319478249,
          10.831919835734114,
          8.547736067164838,
          11.195054451516372,
          7.333170291949798,
          3.267565719482061,
          15.042728583031366,
          0.9917258840571872
         ],
         "xaxis": "x10",
         "y": [
          0.9271521923606498,
          0.9280122989418154,
          0.9270222297854989,
          0.9293991358554734,
          0.9288429544006261,
          0.928668197095529,
          0.9200967003689989,
          0.9266699631300792,
          0.9296207783372132,
          0.9271894417924468,
          0.925939516374498,
          0.9286716214682451,
          0.9294145909882543,
          0.9297069176990412,
          0.928563158595607,
          0.927292864178354,
          0.9306908989704062,
          0.9277956895552733,
          0.9271519069282508,
          0.9272877132896147,
          0.9352171367702047,
          0.9351312483896871,
          0.9346436612136635,
          0.934224515620216,
          0.9348237928873224,
          0.933791896765278,
          0.9298680942695231,
          0.9323227378666632,
          0.9347779404050967,
          0.9184810156457013,
          0.9306143557515568,
          0.934454094151018,
          0.932842495032218,
          0.9332010676957033,
          0.9316523217889362,
          0.9298780110730659,
          0.9341666606886031,
          0.932705015919683,
          0.9313929214810595,
          0.9332567822114409,
          0.9290278712534084,
          0.9342081937441739,
          0.9319041283762471,
          0.9341475102964957,
          0.931016971040831,
          0.9339538877778464,
          0.9266374042593094,
          0.9298074050853915,
          0.9280262865232081,
          0.932077890847317
         ],
         "yaxis": "y10"
        },
        {
         "marker": {
          "color": [
           0,
           1,
           2,
           3,
           4,
           5,
           6,
           7,
           8,
           9,
           10,
           11,
           12,
           13,
           14,
           15,
           16,
           17,
           18,
           19,
           20,
           21,
           22,
           23,
           24,
           25,
           26,
           27,
           28,
           29,
           30,
           31,
           32,
           33,
           34,
           35,
           36,
           37,
           38,
           39,
           40,
           41,
           42,
           43,
           44,
           45,
           46,
           47,
           48,
           49
          ],
          "colorbar": {
           "title": {
            "text": "Trial"
           },
           "x": 1,
           "xpad": 40
          },
          "colorscale": [
           [
            0,
            "rgb(247,251,255)"
           ],
           [
            0.125,
            "rgb(222,235,247)"
           ],
           [
            0.25,
            "rgb(198,219,239)"
           ],
           [
            0.375,
            "rgb(158,202,225)"
           ],
           [
            0.5,
            "rgb(107,174,214)"
           ],
           [
            0.625,
            "rgb(66,146,198)"
           ],
           [
            0.75,
            "rgb(33,113,181)"
           ],
           [
            0.875,
            "rgb(8,81,156)"
           ],
           [
            1,
            "rgb(8,48,107)"
           ]
          ],
          "line": {
           "color": "Grey",
           "width": 0.5
          },
          "showscale": false
         },
         "mode": "markers",
         "name": "Feasible Trial",
         "showlegend": false,
         "type": "scatter",
         "x": [
          1180,
          610,
          1227,
          890,
          811,
          1573,
          1213,
          699,
          1677,
          1265,
          54,
          740,
          1086,
          1722,
          126,
          1537,
          302,
          1746,
          1820,
          584,
          328,
          361,
          341,
          377,
          406,
          469,
          160,
          196,
          511,
          21,
          242,
          500,
          469,
          633,
          415,
          895,
          517,
          283,
          879,
          581,
          782,
          354,
          336,
          665,
          115,
          234,
          1348,
          407,
          1080,
          550
         ],
         "xaxis": "x11",
         "y": [
          0.9271521923606498,
          0.9280122989418154,
          0.9270222297854989,
          0.9293991358554734,
          0.9288429544006261,
          0.928668197095529,
          0.9200967003689989,
          0.9266699631300792,
          0.9296207783372132,
          0.9271894417924468,
          0.925939516374498,
          0.9286716214682451,
          0.9294145909882543,
          0.9297069176990412,
          0.928563158595607,
          0.927292864178354,
          0.9306908989704062,
          0.9277956895552733,
          0.9271519069282508,
          0.9272877132896147,
          0.9352171367702047,
          0.9351312483896871,
          0.9346436612136635,
          0.934224515620216,
          0.9348237928873224,
          0.933791896765278,
          0.9298680942695231,
          0.9323227378666632,
          0.9347779404050967,
          0.9184810156457013,
          0.9306143557515568,
          0.934454094151018,
          0.932842495032218,
          0.9332010676957033,
          0.9316523217889362,
          0.9298780110730659,
          0.9341666606886031,
          0.932705015919683,
          0.9313929214810595,
          0.9332567822114409,
          0.9290278712534084,
          0.9342081937441739,
          0.9319041283762471,
          0.9341475102964957,
          0.931016971040831,
          0.9339538877778464,
          0.9266374042593094,
          0.9298074050853915,
          0.9280262865232081,
          0.932077890847317
         ],
         "yaxis": "y11"
        },
        {
         "marker": {
          "color": [
           0,
           1,
           2,
           3,
           4,
           5,
           6,
           7,
           8,
           9,
           10,
           11,
           12,
           13,
           14,
           15,
           16,
           17,
           18,
           19,
           20,
           21,
           22,
           23,
           24,
           25,
           26,
           27,
           28,
           29,
           30,
           31,
           32,
           33,
           34,
           35,
           36,
           37,
           38,
           39,
           40,
           41,
           42,
           43,
           44,
           45,
           46,
           47,
           48,
           49
          ],
          "colorbar": {
           "title": {
            "text": "Trial"
           },
           "x": 1,
           "xpad": 40
          },
          "colorscale": [
           [
            0,
            "rgb(247,251,255)"
           ],
           [
            0.125,
            "rgb(222,235,247)"
           ],
           [
            0.25,
            "rgb(198,219,239)"
           ],
           [
            0.375,
            "rgb(158,202,225)"
           ],
           [
            0.5,
            "rgb(107,174,214)"
           ],
           [
            0.625,
            "rgb(66,146,198)"
           ],
           [
            0.75,
            "rgb(33,113,181)"
           ],
           [
            0.875,
            "rgb(8,81,156)"
           ],
           [
            1,
            "rgb(8,48,107)"
           ]
          ],
          "line": {
           "color": "Grey",
           "width": 0.5
          },
          "showscale": false
         },
         "mode": "markers",
         "name": "Feasible Trial",
         "showlegend": false,
         "type": "scatter",
         "x": [
          1159,
          1139,
          1479,
          1784,
          500,
          1857,
          673,
          2044,
          818,
          123,
          1714,
          1001,
          2072,
          1170,
          12,
          964,
          892,
          69,
          1228,
          682,
          1414,
          1455,
          1456,
          1522,
          1369,
          1356,
          1640,
          1327,
          1593,
          1965,
          2191,
          1650,
          1324,
          1568,
          1086,
          1827,
          1418,
          1230,
          1597,
          1884,
          1456,
          1728,
          1479,
          1283,
          1099,
          1393,
          1731,
          261,
          1492,
          1136
         ],
         "xaxis": "x12",
         "y": [
          0.9271521923606498,
          0.9280122989418154,
          0.9270222297854989,
          0.9293991358554734,
          0.9288429544006261,
          0.928668197095529,
          0.9200967003689989,
          0.9266699631300792,
          0.9296207783372132,
          0.9271894417924468,
          0.925939516374498,
          0.9286716214682451,
          0.9294145909882543,
          0.9297069176990412,
          0.928563158595607,
          0.927292864178354,
          0.9306908989704062,
          0.9277956895552733,
          0.9271519069282508,
          0.9272877132896147,
          0.9352171367702047,
          0.9351312483896871,
          0.9346436612136635,
          0.934224515620216,
          0.9348237928873224,
          0.933791896765278,
          0.9298680942695231,
          0.9323227378666632,
          0.9347779404050967,
          0.9184810156457013,
          0.9306143557515568,
          0.934454094151018,
          0.932842495032218,
          0.9332010676957033,
          0.9316523217889362,
          0.9298780110730659,
          0.9341666606886031,
          0.932705015919683,
          0.9313929214810595,
          0.9332567822114409,
          0.9290278712534084,
          0.9342081937441739,
          0.9319041283762471,
          0.9341475102964957,
          0.931016971040831,
          0.9339538877778464,
          0.9266374042593094,
          0.9298074050853915,
          0.9280262865232081,
          0.932077890847317
         ],
         "yaxis": "y12"
        }
       ],
       "layout": {
        "template": {
         "data": {
          "bar": [
           {
            "error_x": {
             "color": "#2a3f5f"
            },
            "error_y": {
             "color": "#2a3f5f"
            },
            "marker": {
             "line": {
              "color": "#E5ECF6",
              "width": 0.5
             },
             "pattern": {
              "fillmode": "overlay",
              "size": 10,
              "solidity": 0.2
             }
            },
            "type": "bar"
           }
          ],
          "barpolar": [
           {
            "marker": {
             "line": {
              "color": "#E5ECF6",
              "width": 0.5
             },
             "pattern": {
              "fillmode": "overlay",
              "size": 10,
              "solidity": 0.2
             }
            },
            "type": "barpolar"
           }
          ],
          "carpet": [
           {
            "aaxis": {
             "endlinecolor": "#2a3f5f",
             "gridcolor": "white",
             "linecolor": "white",
             "minorgridcolor": "white",
             "startlinecolor": "#2a3f5f"
            },
            "baxis": {
             "endlinecolor": "#2a3f5f",
             "gridcolor": "white",
             "linecolor": "white",
             "minorgridcolor": "white",
             "startlinecolor": "#2a3f5f"
            },
            "type": "carpet"
           }
          ],
          "choropleth": [
           {
            "colorbar": {
             "outlinewidth": 0,
             "ticks": ""
            },
            "type": "choropleth"
           }
          ],
          "contour": [
           {
            "colorbar": {
             "outlinewidth": 0,
             "ticks": ""
            },
            "colorscale": [
             [
              0,
              "#0d0887"
             ],
             [
              0.1111111111111111,
              "#46039f"
             ],
             [
              0.2222222222222222,
              "#7201a8"
             ],
             [
              0.3333333333333333,
              "#9c179e"
             ],
             [
              0.4444444444444444,
              "#bd3786"
             ],
             [
              0.5555555555555556,
              "#d8576b"
             ],
             [
              0.6666666666666666,
              "#ed7953"
             ],
             [
              0.7777777777777778,
              "#fb9f3a"
             ],
             [
              0.8888888888888888,
              "#fdca26"
             ],
             [
              1,
              "#f0f921"
             ]
            ],
            "type": "contour"
           }
          ],
          "contourcarpet": [
           {
            "colorbar": {
             "outlinewidth": 0,
             "ticks": ""
            },
            "type": "contourcarpet"
           }
          ],
          "heatmap": [
           {
            "colorbar": {
             "outlinewidth": 0,
             "ticks": ""
            },
            "colorscale": [
             [
              0,
              "#0d0887"
             ],
             [
              0.1111111111111111,
              "#46039f"
             ],
             [
              0.2222222222222222,
              "#7201a8"
             ],
             [
              0.3333333333333333,
              "#9c179e"
             ],
             [
              0.4444444444444444,
              "#bd3786"
             ],
             [
              0.5555555555555556,
              "#d8576b"
             ],
             [
              0.6666666666666666,
              "#ed7953"
             ],
             [
              0.7777777777777778,
              "#fb9f3a"
             ],
             [
              0.8888888888888888,
              "#fdca26"
             ],
             [
              1,
              "#f0f921"
             ]
            ],
            "type": "heatmap"
           }
          ],
          "heatmapgl": [
           {
            "colorbar": {
             "outlinewidth": 0,
             "ticks": ""
            },
            "colorscale": [
             [
              0,
              "#0d0887"
             ],
             [
              0.1111111111111111,
              "#46039f"
             ],
             [
              0.2222222222222222,
              "#7201a8"
             ],
             [
              0.3333333333333333,
              "#9c179e"
             ],
             [
              0.4444444444444444,
              "#bd3786"
             ],
             [
              0.5555555555555556,
              "#d8576b"
             ],
             [
              0.6666666666666666,
              "#ed7953"
             ],
             [
              0.7777777777777778,
              "#fb9f3a"
             ],
             [
              0.8888888888888888,
              "#fdca26"
             ],
             [
              1,
              "#f0f921"
             ]
            ],
            "type": "heatmapgl"
           }
          ],
          "histogram": [
           {
            "marker": {
             "pattern": {
              "fillmode": "overlay",
              "size": 10,
              "solidity": 0.2
             }
            },
            "type": "histogram"
           }
          ],
          "histogram2d": [
           {
            "colorbar": {
             "outlinewidth": 0,
             "ticks": ""
            },
            "colorscale": [
             [
              0,
              "#0d0887"
             ],
             [
              0.1111111111111111,
              "#46039f"
             ],
             [
              0.2222222222222222,
              "#7201a8"
             ],
             [
              0.3333333333333333,
              "#9c179e"
             ],
             [
              0.4444444444444444,
              "#bd3786"
             ],
             [
              0.5555555555555556,
              "#d8576b"
             ],
             [
              0.6666666666666666,
              "#ed7953"
             ],
             [
              0.7777777777777778,
              "#fb9f3a"
             ],
             [
              0.8888888888888888,
              "#fdca26"
             ],
             [
              1,
              "#f0f921"
             ]
            ],
            "type": "histogram2d"
           }
          ],
          "histogram2dcontour": [
           {
            "colorbar": {
             "outlinewidth": 0,
             "ticks": ""
            },
            "colorscale": [
             [
              0,
              "#0d0887"
             ],
             [
              0.1111111111111111,
              "#46039f"
             ],
             [
              0.2222222222222222,
              "#7201a8"
             ],
             [
              0.3333333333333333,
              "#9c179e"
             ],
             [
              0.4444444444444444,
              "#bd3786"
             ],
             [
              0.5555555555555556,
              "#d8576b"
             ],
             [
              0.6666666666666666,
              "#ed7953"
             ],
             [
              0.7777777777777778,
              "#fb9f3a"
             ],
             [
              0.8888888888888888,
              "#fdca26"
             ],
             [
              1,
              "#f0f921"
             ]
            ],
            "type": "histogram2dcontour"
           }
          ],
          "mesh3d": [
           {
            "colorbar": {
             "outlinewidth": 0,
             "ticks": ""
            },
            "type": "mesh3d"
           }
          ],
          "parcoords": [
           {
            "line": {
             "colorbar": {
              "outlinewidth": 0,
              "ticks": ""
             }
            },
            "type": "parcoords"
           }
          ],
          "pie": [
           {
            "automargin": true,
            "type": "pie"
           }
          ],
          "scatter": [
           {
            "fillpattern": {
             "fillmode": "overlay",
             "size": 10,
             "solidity": 0.2
            },
            "type": "scatter"
           }
          ],
          "scatter3d": [
           {
            "line": {
             "colorbar": {
              "outlinewidth": 0,
              "ticks": ""
             }
            },
            "marker": {
             "colorbar": {
              "outlinewidth": 0,
              "ticks": ""
             }
            },
            "type": "scatter3d"
           }
          ],
          "scattercarpet": [
           {
            "marker": {
             "colorbar": {
              "outlinewidth": 0,
              "ticks": ""
             }
            },
            "type": "scattercarpet"
           }
          ],
          "scattergeo": [
           {
            "marker": {
             "colorbar": {
              "outlinewidth": 0,
              "ticks": ""
             }
            },
            "type": "scattergeo"
           }
          ],
          "scattergl": [
           {
            "marker": {
             "colorbar": {
              "outlinewidth": 0,
              "ticks": ""
             }
            },
            "type": "scattergl"
           }
          ],
          "scattermapbox": [
           {
            "marker": {
             "colorbar": {
              "outlinewidth": 0,
              "ticks": ""
             }
            },
            "type": "scattermapbox"
           }
          ],
          "scatterpolar": [
           {
            "marker": {
             "colorbar": {
              "outlinewidth": 0,
              "ticks": ""
             }
            },
            "type": "scatterpolar"
           }
          ],
          "scatterpolargl": [
           {
            "marker": {
             "colorbar": {
              "outlinewidth": 0,
              "ticks": ""
             }
            },
            "type": "scatterpolargl"
           }
          ],
          "scatterternary": [
           {
            "marker": {
             "colorbar": {
              "outlinewidth": 0,
              "ticks": ""
             }
            },
            "type": "scatterternary"
           }
          ],
          "surface": [
           {
            "colorbar": {
             "outlinewidth": 0,
             "ticks": ""
            },
            "colorscale": [
             [
              0,
              "#0d0887"
             ],
             [
              0.1111111111111111,
              "#46039f"
             ],
             [
              0.2222222222222222,
              "#7201a8"
             ],
             [
              0.3333333333333333,
              "#9c179e"
             ],
             [
              0.4444444444444444,
              "#bd3786"
             ],
             [
              0.5555555555555556,
              "#d8576b"
             ],
             [
              0.6666666666666666,
              "#ed7953"
             ],
             [
              0.7777777777777778,
              "#fb9f3a"
             ],
             [
              0.8888888888888888,
              "#fdca26"
             ],
             [
              1,
              "#f0f921"
             ]
            ],
            "type": "surface"
           }
          ],
          "table": [
           {
            "cells": {
             "fill": {
              "color": "#EBF0F8"
             },
             "line": {
              "color": "white"
             }
            },
            "header": {
             "fill": {
              "color": "#C8D4E3"
             },
             "line": {
              "color": "white"
             }
            },
            "type": "table"
           }
          ]
         },
         "layout": {
          "annotationdefaults": {
           "arrowcolor": "#2a3f5f",
           "arrowhead": 0,
           "arrowwidth": 1
          },
          "autotypenumbers": "strict",
          "coloraxis": {
           "colorbar": {
            "outlinewidth": 0,
            "ticks": ""
           }
          },
          "colorscale": {
           "diverging": [
            [
             0,
             "#8e0152"
            ],
            [
             0.1,
             "#c51b7d"
            ],
            [
             0.2,
             "#de77ae"
            ],
            [
             0.3,
             "#f1b6da"
            ],
            [
             0.4,
             "#fde0ef"
            ],
            [
             0.5,
             "#f7f7f7"
            ],
            [
             0.6,
             "#e6f5d0"
            ],
            [
             0.7,
             "#b8e186"
            ],
            [
             0.8,
             "#7fbc41"
            ],
            [
             0.9,
             "#4d9221"
            ],
            [
             1,
             "#276419"
            ]
           ],
           "sequential": [
            [
             0,
             "#0d0887"
            ],
            [
             0.1111111111111111,
             "#46039f"
            ],
            [
             0.2222222222222222,
             "#7201a8"
            ],
            [
             0.3333333333333333,
             "#9c179e"
            ],
            [
             0.4444444444444444,
             "#bd3786"
            ],
            [
             0.5555555555555556,
             "#d8576b"
            ],
            [
             0.6666666666666666,
             "#ed7953"
            ],
            [
             0.7777777777777778,
             "#fb9f3a"
            ],
            [
             0.8888888888888888,
             "#fdca26"
            ],
            [
             1,
             "#f0f921"
            ]
           ],
           "sequentialminus": [
            [
             0,
             "#0d0887"
            ],
            [
             0.1111111111111111,
             "#46039f"
            ],
            [
             0.2222222222222222,
             "#7201a8"
            ],
            [
             0.3333333333333333,
             "#9c179e"
            ],
            [
             0.4444444444444444,
             "#bd3786"
            ],
            [
             0.5555555555555556,
             "#d8576b"
            ],
            [
             0.6666666666666666,
             "#ed7953"
            ],
            [
             0.7777777777777778,
             "#fb9f3a"
            ],
            [
             0.8888888888888888,
             "#fdca26"
            ],
            [
             1,
             "#f0f921"
            ]
           ]
          },
          "colorway": [
           "#636efa",
           "#EF553B",
           "#00cc96",
           "#ab63fa",
           "#FFA15A",
           "#19d3f3",
           "#FF6692",
           "#B6E880",
           "#FF97FF",
           "#FECB52"
          ],
          "font": {
           "color": "#2a3f5f"
          },
          "geo": {
           "bgcolor": "white",
           "lakecolor": "white",
           "landcolor": "#E5ECF6",
           "showlakes": true,
           "showland": true,
           "subunitcolor": "white"
          },
          "hoverlabel": {
           "align": "left"
          },
          "hovermode": "closest",
          "mapbox": {
           "style": "light"
          },
          "paper_bgcolor": "white",
          "plot_bgcolor": "#E5ECF6",
          "polar": {
           "angularaxis": {
            "gridcolor": "white",
            "linecolor": "white",
            "ticks": ""
           },
           "bgcolor": "#E5ECF6",
           "radialaxis": {
            "gridcolor": "white",
            "linecolor": "white",
            "ticks": ""
           }
          },
          "scene": {
           "xaxis": {
            "backgroundcolor": "#E5ECF6",
            "gridcolor": "white",
            "gridwidth": 2,
            "linecolor": "white",
            "showbackground": true,
            "ticks": "",
            "zerolinecolor": "white"
           },
           "yaxis": {
            "backgroundcolor": "#E5ECF6",
            "gridcolor": "white",
            "gridwidth": 2,
            "linecolor": "white",
            "showbackground": true,
            "ticks": "",
            "zerolinecolor": "white"
           },
           "zaxis": {
            "backgroundcolor": "#E5ECF6",
            "gridcolor": "white",
            "gridwidth": 2,
            "linecolor": "white",
            "showbackground": true,
            "ticks": "",
            "zerolinecolor": "white"
           }
          },
          "shapedefaults": {
           "line": {
            "color": "#2a3f5f"
           }
          },
          "ternary": {
           "aaxis": {
            "gridcolor": "white",
            "linecolor": "white",
            "ticks": ""
           },
           "baxis": {
            "gridcolor": "white",
            "linecolor": "white",
            "ticks": ""
           },
           "bgcolor": "#E5ECF6",
           "caxis": {
            "gridcolor": "white",
            "linecolor": "white",
            "ticks": ""
           }
          },
          "title": {
           "x": 0.05
          },
          "xaxis": {
           "automargin": true,
           "gridcolor": "white",
           "linecolor": "white",
           "ticks": "",
           "title": {
            "standoff": 15
           },
           "zerolinecolor": "white",
           "zerolinewidth": 2
          },
          "yaxis": {
           "automargin": true,
           "gridcolor": "white",
           "linecolor": "white",
           "ticks": "",
           "title": {
            "standoff": 15
           },
           "zerolinecolor": "white",
           "zerolinewidth": 2
          }
         }
        },
        "title": {
         "text": "Slice Plot"
        },
        "width": 3600,
        "xaxis": {
         "anchor": "y",
         "domain": [
          0,
          0.06805555555555555
         ],
         "title": {
          "text": "bagging_fraction"
         }
        },
        "xaxis10": {
         "anchor": "y10",
         "domain": [
          0.7625,
          0.8305555555555555
         ],
         "title": {
          "text": "min_sum_hessian_in_leaf"
         }
        },
        "xaxis11": {
         "anchor": "y11",
         "domain": [
          0.8472222222222221,
          0.9152777777777776
         ],
         "title": {
          "text": "num_iterations"
         }
        },
        "xaxis12": {
         "anchor": "y12",
         "domain": [
          0.9319444444444444,
          0.9999999999999999
         ],
         "title": {
          "text": "num_leaves"
         }
        },
        "xaxis2": {
         "anchor": "y2",
         "domain": [
          0.08472222222222221,
          0.15277777777777776
         ],
         "title": {
          "text": "bagging_freq"
         }
        },
        "xaxis3": {
         "anchor": "y3",
         "domain": [
          0.16944444444444443,
          0.2375
         ],
         "title": {
          "text": "feature_fraction"
         }
        },
        "xaxis4": {
         "anchor": "y4",
         "domain": [
          0.25416666666666665,
          0.3222222222222222
         ],
         "title": {
          "text": "lambda_l1"
         }
        },
        "xaxis5": {
         "anchor": "y5",
         "domain": [
          0.33888888888888885,
          0.4069444444444444
         ],
         "title": {
          "text": "lambda_l2"
         }
        },
        "xaxis6": {
         "anchor": "y6",
         "domain": [
          0.42361111111111105,
          0.4916666666666666
         ],
         "title": {
          "text": "learning_rate"
         }
        },
        "xaxis7": {
         "anchor": "y7",
         "domain": [
          0.5083333333333333,
          0.5763888888888888
         ],
         "title": {
          "text": "max_depth"
         }
        },
        "xaxis8": {
         "anchor": "y8",
         "domain": [
          0.5930555555555556,
          0.6611111111111111
         ],
         "title": {
          "text": "min_data_in_leaf"
         }
        },
        "xaxis9": {
         "anchor": "y9",
         "domain": [
          0.6777777777777777,
          0.7458333333333332
         ],
         "title": {
          "text": "min_gain_to_split"
         }
        },
        "yaxis": {
         "anchor": "x",
         "domain": [
          0,
          1
         ],
         "title": {
          "text": "Objective Value"
         }
        },
        "yaxis10": {
         "anchor": "x10",
         "domain": [
          0,
          1
         ],
         "matches": "y",
         "showticklabels": false
        },
        "yaxis11": {
         "anchor": "x11",
         "domain": [
          0,
          1
         ],
         "matches": "y",
         "showticklabels": false
        },
        "yaxis12": {
         "anchor": "x12",
         "domain": [
          0,
          1
         ],
         "matches": "y",
         "showticklabels": false
        },
        "yaxis2": {
         "anchor": "x2",
         "domain": [
          0,
          1
         ],
         "matches": "y",
         "showticklabels": false
        },
        "yaxis3": {
         "anchor": "x3",
         "domain": [
          0,
          1
         ],
         "matches": "y",
         "showticklabels": false
        },
        "yaxis4": {
         "anchor": "x4",
         "domain": [
          0,
          1
         ],
         "matches": "y",
         "showticklabels": false
        },
        "yaxis5": {
         "anchor": "x5",
         "domain": [
          0,
          1
         ],
         "matches": "y",
         "showticklabels": false
        },
        "yaxis6": {
         "anchor": "x6",
         "domain": [
          0,
          1
         ],
         "matches": "y",
         "showticklabels": false
        },
        "yaxis7": {
         "anchor": "x7",
         "domain": [
          0,
          1
         ],
         "matches": "y",
         "showticklabels": false
        },
        "yaxis8": {
         "anchor": "x8",
         "domain": [
          0,
          1
         ],
         "matches": "y",
         "showticklabels": false
        },
        "yaxis9": {
         "anchor": "x9",
         "domain": [
          0,
          1
         ],
         "matches": "y",
         "showticklabels": false
        }
       }
      }
     },
     "metadata": {},
     "output_type": "display_data"
    }
   ],
   "source": [
    "from optuna.visualization import plot_optimization_history, plot_param_importances, plot_parallel_coordinate, plot_slice\n",
    "\n",
    "# 1️⃣ Historial de optimización (objetivo vs trial)\n",
    "fig1 = plot_optimization_history(study)\n",
    "fig1.show()\n",
    "\n",
    "# 2️⃣ Importancia de cada hiperparámetro\n",
    "fig2 = plot_param_importances(study)\n",
    "fig2.show()\n",
    "\n",
    "# 3️⃣ Coordenadas paralelas: cada línea es un trial\n",
    "fig3 = plot_parallel_coordinate(study)\n",
    "fig3.show()\n",
    "\n",
    "# 4️⃣ Slice plot: distribuciones de score vs valor de cada hiperparámetro\n",
    "fig4 = plot_slice(study)\n",
    "fig4.show()"
   ]
  },
  {
   "cell_type": "markdown",
   "id": "39dc263d",
   "metadata": {},
   "source": [
    "#### Hago el testeo sobre 202104 y armo el gráfico de evolución de ganancia en función de la cantidad de envíos para cada semilla"
   ]
  },
  {
   "cell_type": "code",
   "execution_count": 21,
   "id": "d39491f2",
   "metadata": {
    "scrolled": true
   },
   "outputs": [
    {
     "name": "stdout",
     "output_type": "stream",
     "text": [
      "Entrenando modelo con seed = 878787 (evaluación 202104)\n",
      "Entrenando modelo con seed = 131213 (evaluación 202104)\n",
      "Entrenando modelo con seed = 999199 (evaluación 202104)\n",
      "Entrenando modelo con seed = 611033 (evaluación 202104)\n",
      "Entrenando modelo con seed = 100129 (evaluación 202104)\n",
      "Entrenando modelo con seed = 278787 (evaluación 202104)\n",
      "Entrenando modelo con seed = 991999 (evaluación 202104)\n",
      "Entrenando modelo con seed = 378399 (evaluación 202104)\n",
      "\n",
      "Seed 878787 (envíos 6000-19000):\n",
      "Total ganancia: -46420000\n",
      "Público (BAJA+2): 208260000\n",
      "Privado (otros): -254680000\n",
      "\n",
      "Seed 131213 (envíos 6000-19000):\n",
      "Total ganancia: -34420000\n",
      "Público (BAJA+2): 219960000\n",
      "Privado (otros): -254380000\n",
      "\n",
      "Seed 999199 (envíos 6000-19000):\n",
      "Total ganancia: -44820000\n",
      "Público (BAJA+2): 209820000\n",
      "Privado (otros): -254640000\n",
      "\n",
      "Seed 611033 (envíos 6000-19000):\n",
      "Total ganancia: -41620000\n",
      "Público (BAJA+2): 212940000\n",
      "Privado (otros): -254560000\n",
      "\n",
      "Seed 100129 (envíos 6000-19000):\n",
      "Total ganancia: -33620000\n",
      "Público (BAJA+2): 220740000\n",
      "Privado (otros): -254360000\n",
      "\n",
      "Seed 278787 (envíos 6000-19000):\n",
      "Total ganancia: -35220000\n",
      "Público (BAJA+2): 219180000\n",
      "Privado (otros): -254400000\n",
      "\n",
      "Seed 991999 (envíos 6000-19000):\n",
      "Total ganancia: -45620000\n",
      "Público (BAJA+2): 209040000\n",
      "Privado (otros): -254660000\n",
      "\n",
      "Seed 378399 (envíos 6000-19000):\n",
      "Total ganancia: -40820000\n",
      "Público (BAJA+2): 213720000\n",
      "Privado (otros): -254540000\n",
      "\n",
      "Ensemble promedio (envíos 6000-19000):\n",
      "Total ganancia: -43220000\n",
      "Público (BAJA+2): 211380000\n",
      "Privado (otros): -254600000\n"
     ]
    },
    {
     "data": {
      "image/png": "[encoded data removed]",
      "text/plain": [
       "<Figure size 1200x700 with 1 Axes>"
      ]
     },
     "metadata": {},
     "output_type": "display_data"
    }
   ],
   "source": [
    "import matplotlib.pyplot as plt\n",
    "import copy\n",
    "\n",
    "SEEDS = [878787, 131213, 999199, 611033, 100129,278787,991999,378399]\n",
    "MAX_ENVIOS = 40000  # límite de envíos\n",
    "RANGO_ENV = (6000, 19000)  # rango que queremos visualizar\n",
    "\n",
    "# --------------------------\n",
    "# 1️⃣ Preparar datasets\n",
    "# --------------------------\n",
    "dataset_train_eval = df[df[\"foto_mes\"].isin([202101, 202102, 202103])].copy()\n",
    "X_train_eval = dataset_train_eval[campos_buenos].apply(pd.to_numeric, errors=\"coerce\").fillna(0)\n",
    "y_train_eval = np.where(dataset_train_eval[\"clase_ternaria\"].isin([\"BAJA+1\",\"BAJA+2\"]), 1, 0)\n",
    "\n",
    "dataset_test_eval = df[df[\"foto_mes\"] == 202104].copy()\n",
    "X_test_eval = dataset_test_eval[campos_buenos].apply(pd.to_numeric, errors=\"coerce\").fillna(0)\n",
    "\n",
    "# --------------------------\n",
    "# 2️⃣ Preparar parámetros finales\n",
    "# --------------------------\n",
    "param_final = PARAM[\"lgbm\"][\"param_fijos\"].copy()\n",
    "param_final.update(PARAM[\"out\"][\"lgbm\"][\"mejores_hiperparametros\"])\n",
    "param_normalizado = copy.deepcopy(param_final)\n",
    "param_normalizado[\"min_data_in_leaf\"] = int(round(\n",
    "    param_final[\"min_data_in_leaf\"] / PARAM[\"trainingstrategy\"][\"undersampling\"]\n",
    "))\n",
    "\n",
    "# --------------------------\n",
    "# 3️⃣ Entrenamiento ensemble\n",
    "# --------------------------\n",
    "modelos_eval = []\n",
    "preds_ensemble_eval = np.zeros(len(dataset_test_eval))\n",
    "\n",
    "for seed in SEEDS:\n",
    "    params_seed = copy.deepcopy(param_normalizado)\n",
    "    params_seed[\"seed\"] = seed\n",
    "\n",
    "    print(f\"Entrenando modelo con seed = {seed} (evaluación 202104)\")\n",
    "    model = lgb.train(params_seed, lgb.Dataset(X_train_eval, label=y_train_eval))\n",
    "    modelos_eval.append(model)\n",
    "\n",
    "    preds_ensemble_eval += model.predict(X_test_eval) / len(SEEDS)\n",
    "\n",
    "dataset_test_eval[\"prob_mean\"] = preds_ensemble_eval\n",
    "\n",
    "# --------------------------\n",
    "# 4️⃣ Curva de ganancia por semilla y ensemble (rango limitado)\n",
    "# --------------------------\n",
    "plt.figure(figsize=(12,7))\n",
    "\n",
    "for i, model in enumerate(modelos_eval):\n",
    "    preds = model.predict(X_test_eval)\n",
    "    df_pred = dataset_test_eval[[\"numero_de_cliente\", \"clase_ternaria\"]].copy()\n",
    "    df_pred[\"pred\"] = preds\n",
    "    df_pred = df_pred.sort_values(\"pred\", ascending=False).reset_index(drop=True)\n",
    "    \n",
    "    # limitar envíos al máximo\n",
    "    df_pred = df_pred.iloc[:MAX_ENVIOS]  \n",
    "\n",
    "    df_pred[\"ganancia\"] = np.where(df_pred[\"clase_ternaria\"]==\"BAJA+2\", 780000, -20000)\n",
    "    df_pred[\"ganancia_acum\"] = df_pred[\"ganancia\"].cumsum()\n",
    "\n",
    "    # seleccionar solo el rango deseado\n",
    "    df_rango = df_pred.iloc[RANGO_ENV[0]-1:RANGO_ENV[1]]  # indices 0-based\n",
    "\n",
    "    # print del total y por clase\n",
    "    total_ganancia = df_rango[\"ganancia\"].sum()\n",
    "    publico_ganancia = df_rango[df_rango[\"clase_ternaria\"]==\"BAJA+2\"][\"ganancia\"].sum()\n",
    "    privado_ganancia = df_rango[df_rango[\"clase_ternaria\"]!=\"BAJA+2\"][\"ganancia\"].sum()\n",
    "\n",
    "    print(f\"\\nSeed {SEEDS[i]} (envíos {RANGO_ENV[0]}-{RANGO_ENV[1]}):\")\n",
    "    print(f\"Total ganancia: {total_ganancia}\")\n",
    "    print(f\"Público (BAJA+2): {publico_ganancia}\")\n",
    "    print(f\"Privado (otros): {privado_ganancia}\")\n",
    "\n",
    "    plt.plot(np.arange(RANGO_ENV[0], RANGO_ENV[1]+1), df_rango[\"ganancia_acum\"], label=f\"Seed {SEEDS[i]}\")\n",
    "\n",
    "# Ensemble promedio\n",
    "df_ensemble = dataset_test_eval.copy()\n",
    "preds_ensemble = np.zeros(len(df_ensemble))\n",
    "for model in modelos_eval:\n",
    "    preds_ensemble += model.predict(X_test_eval) / len(modelos_eval)\n",
    "df_ensemble[\"prob_mean\"] = preds_ensemble\n",
    "\n",
    "df_ensemble = df_ensemble.sort_values(\"prob_mean\", ascending=False).reset_index(drop=True)\n",
    "df_ensemble = df_ensemble.iloc[:MAX_ENVIOS]\n",
    "df_ensemble[\"ganancia\"] = np.where(df_ensemble[\"clase_ternaria\"]==\"BAJA+2\", 780000, -20000)\n",
    "df_ensemble[\"ganancia_acum\"] = df_ensemble[\"ganancia\"].cumsum()\n",
    "\n",
    "df_ensemble_rango = df_ensemble.iloc[RANGO_ENV[0]-1:RANGO_ENV[1]]\n",
    "total_ganancia = df_ensemble_rango[\"ganancia\"].sum()\n",
    "publico_ganancia = df_ensemble_rango[df_ensemble_rango[\"clase_ternaria\"]==\"BAJA+2\"][\"ganancia\"].sum()\n",
    "privado_ganancia = df_ensemble_rango[df_ensemble_rango[\"clase_ternaria\"]!=\"BAJA+2\"][\"ganancia\"].sum()\n",
    "\n",
    "print(\"\\nEnsemble promedio (envíos 6000-19000):\")\n",
    "print(f\"Total ganancia: {total_ganancia}\")\n",
    "print(f\"Público (BAJA+2): {publico_ganancia}\")\n",
    "print(f\"Privado (otros): {privado_ganancia}\")\n",
    "\n",
    "plt.plot(np.arange(RANGO_ENV[0], RANGO_ENV[1]+1), df_ensemble_rango[\"ganancia_acum\"],\n",
    "         color=\"black\", linewidth=2, label=\"Ensemble promedio\")\n",
    "\n",
    "plt.xlabel(\"Número de envíos\")\n",
    "plt.ylabel(\"Ganancia acumulada\")\n",
    "plt.title(f\"Curva de ganancia acumulada por semilla (202104) - envíos {RANGO_ENV[0]}-{RANGO_ENV[1]}\")\n",
    "plt.legend()\n",
    "plt.grid(True)\n",
    "plt.show()\n"
   ]
  },
  {
   "cell_type": "markdown",
   "id": "fb8009a1",
   "metadata": {},
   "source": [
    "#### Analizo las features más importantes y las guardo en un archivo "
   ]
  },
  {
   "cell_type": "code",
   "execution_count": 22,
   "id": "d05e665a",
   "metadata": {},
   "outputs": [
    {
     "name": "stdout",
     "output_type": "stream",
     "text": [
      "                           Feature    Importance\n",
      "645                   ctrx_quarter  31869.576841\n",
      "836                 mcuentas_saldo   6169.344902\n",
      "535                   cpayroll_trx   4215.230492\n",
      "1001  mprestamos_personales_ranked   3837.740823\n",
      "956           mpayroll_norm_ranked   3545.992000\n"
     ]
    }
   ],
   "source": [
    "# 1️⃣ Obtener importancia promedio de variables\n",
    "importancias = [m.feature_importance(importance_type=\"gain\") for m in modelos_eval]\n",
    "tb_importancia = np.mean(importancias, axis=0)  # promedio entre las 5 seeds\n",
    "\n",
    "nombres_columnas = dataset_train_eval[campos_buenos].columns\n",
    "df_importancia = pd.DataFrame({\n",
    "    \"Feature\": nombres_columnas,\n",
    "    \"Importance\": tb_importancia\n",
    "}).sort_values(by=\"Importance\", ascending=False)\n",
    "\n",
    "# 2️⃣ Guardar a archivo\n",
    "archivo_importancia = \"impo_nuevo_n.txt\"\n",
    "df_importancia.to_csv(archivo_importancia, sep=\"\\t\", index=False)\n",
    "\n",
    "# 3️⃣ Mostrar las primeras filas\n",
    "print(df_importancia.head())\n"
   ]
  },
  {
   "cell_type": "markdown",
   "id": "6b8a4129",
   "metadata": {},
   "source": [
    "#### Armo el dataset para predecir 202106"
   ]
  },
  {
   "cell_type": "code",
   "execution_count": null,
   "id": "925991bd",
   "metadata": {},
   "outputs": [
    {
     "ename": "NameError",
     "evalue": "name 'SEEDS' is not defined",
     "output_type": "error",
     "traceback": [
      "\u001b[31m---------------------------------------------------------------------------\u001b[39m",
      "\u001b[31mNameError\u001b[39m                                 Traceback (most recent call last)",
      "\u001b[36mCell\u001b[39m\u001b[36m \u001b[39m\u001b[32mIn[16]\u001b[39m\u001b[32m, line 18\u001b[39m\n\u001b[32m     16\u001b[39m \u001b[38;5;66;03m# Predicciones ensemble\u001b[39;00m\n\u001b[32m     17\u001b[39m preds_ensemble_final = np.zeros(\u001b[38;5;28mlen\u001b[39m(df_future_final))\n\u001b[32m---> \u001b[39m\u001b[32m18\u001b[39m \u001b[38;5;28;01mfor\u001b[39;00m seed \u001b[38;5;129;01min\u001b[39;00m \u001b[43mSEEDS\u001b[49m:\n\u001b[32m     19\u001b[39m     params_seed = copy.deepcopy(param_normalizado)\n\u001b[32m     20\u001b[39m     params_seed[\u001b[33m\"\u001b[39m\u001b[33mseed\u001b[39m\u001b[33m\"\u001b[39m] = seed\n",
      "\u001b[31mNameError\u001b[39m: name 'SEEDS' is not defined"
     ]
    }
   ],
   "source": [
    "# --------------------------\n",
    "# 1️⃣ Preparar dataset de entrenamiento completo (202101-202104)\n",
    "# --------------------------\n",
    "dataset_train_final = df[df[\"foto_mes\"].isin([202101, 202102, 202103, 202104])].copy()\n",
    "X_train_final = dataset_train_final[campos_buenos].apply(pd.to_numeric, errors=\"coerce\").fillna(0)\n",
    "y_train_final = np.where(dataset_train_final[\"clase_ternaria\"].isin([\"BAJA+1\",\"BAJA+2\"]), 1, 0)\n",
    "\n",
    "# Dataset futuro 202106\n",
    "# Dataset futuro 202106\n",
    "df_future_final = df[df[\"foto_mes\"] == 202106].copy()\n",
    "X_future_final = df_future_final[campos_buenos]  # sin fillna ni convertir a float32\n",
    "# si hay categóricas, convertir igual que en X_train_final:\n",
    "for col in X_future_final.select_dtypes(include=['object']).columns:\n",
    "    X_future_final[col] = X_future_final[col].astype('category').cat.codes\n",
    "\n",
    "# Predicciones ensemble\n",
    "preds_ensemble_final = np.zeros(len(df_future_final))\n",
    "\n"
   ]
  },
  {
   "cell_type": "markdown",
   "id": "c634a708",
   "metadata": {},
   "source": [
    "#### Predigo junio con las 8 semillas ensambladas para generar los .csv con los envíos"
   ]
  },
  {
   "cell_type": "code",
   "execution_count": null,
   "id": "751ba1f4",
   "metadata": {},
   "outputs": [],
   "source": [
    "\n",
    "\n",
    "SEEDS = [878787, 131213, 999199, 611033, 100129,278787,991999,378399]\n",
    "MAX_ENVIOS = 40000  # límite de envíos\n",
    "RANGO_ENV = (6000, 19000)  # rango que queremos visualizar\n",
    "import copy\n",
    "param_final = PARAM[\"lgbm\"][\"param_fijos\"].copy()\n",
    "param_final.update(PARAM[\"out\"][\"lgbm\"][\"mejores_hiperparametros\"])\n",
    "param_normalizado = copy.deepcopy(param_final)\n",
    "param_normalizado[\"min_data_in_leaf\"] = int(round(\n",
    "    param_final[\"min_data_in_leaf\"] / PARAM[\"trainingstrategy\"][\"undersampling\"]\n",
    "))\n",
    "\n",
    "for seed in SEEDS:\n",
    "    params_seed = copy.deepcopy(param_normalizado)\n",
    "    params_seed[\"seed\"] = seed\n",
    "    model = lgb.train(params_seed, lgb.Dataset(X_train_final, label=y_train_final))\n",
    "    preds_ensemble_final += model.predict(X_future_final) / len(SEEDS)\n",
    "\n",
    "# Guardo en DataFrame\n",
    "tb_prediccion_final = df_future_final[[\"numero_de_cliente\"]].copy()\n",
    "tb_prediccion_final[\"Predicted_prob\"] = preds_ensemble_final\n",
    "\n",
    "# Ordeno por probabilidad descendente\n",
    "tb_prediccion_final = tb_prediccion_final.sort_values(by=\"Predicted_prob\", ascending=False).reset_index(drop=True)\n",
    "\n",
    "import os\n",
    "os.makedirs(\"kaggle\", exist_ok=True)\n",
    "\n",
    "for envios in PARAM[\"cortes\"]:\n",
    "    tb_prediccion_final[\"Predicted\"] = 0\n",
    "    tb_prediccion_final.loc[:envios-1, \"Predicted\"] = 1\n",
    "    archivo_kaggle = f\"./kaggle/KA{PARAM['experimento']}_{envios}.csv\"\n",
    "    tb_prediccion_final[[\"numero_de_cliente\", \"Predicted\"]].to_csv(archivo_kaggle, index=False, sep=\",\")\n"
   ]
  },
  {
   "cell_type": "markdown",
   "id": "251ad80c",
   "metadata": {},
   "source": [
    "##### --- aca termina ---"
   ]
  }
 ],
 "metadata": {
  "kernelspec": {
   "display_name": "Python 3 (ipykernel)",
   "language": "python",
   "name": "python3"
  },
  "language_info": {
   "codemirror_mode": {
    "name": "ipython",
    "version": 3
   },
   "file_extension": ".py",
   "mimetype": "text/x-python",
   "name": "python",
   "nbconvert_exporter": "python",
   "pygments_lexer": "ipython3",
   "version": "3.9.13"
  }
 },
 "nbformat": 4,
 "nbformat_minor": 5
}
